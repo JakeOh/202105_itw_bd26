{
  "nbformat": 4,
  "nbformat_minor": 0,
  "metadata": {
    "colab": {
      "name": "ml03_train_test_set_scaling.ipynb",
      "provenance": [],
      "collapsed_sections": [],
      "authorship_tag": "ABX9TyNkgHDNy8VyOKX8mxJ74yKS",
      "include_colab_link": true
    },
    "kernelspec": {
      "name": "python3",
      "display_name": "Python 3"
    },
    "language_info": {
      "name": "python"
    }
  },
  "cells": [
    {
      "cell_type": "markdown",
      "metadata": {
        "id": "view-in-github",
        "colab_type": "text"
      },
      "source": [
        "<a href=\"https://colab.research.google.com/github/JakeOh/202105_itw_bd26/blob/main/lab_ml/ml03_train_test_set_scaling.ipynb\" target=\"_parent\"><img src=\"https://colab.research.google.com/assets/colab-badge.svg\" alt=\"Open In Colab\"/></a>"
      ]
    },
    {
      "cell_type": "markdown",
      "metadata": {
        "id": "vkDG8cyex1Fz"
      },
      "source": [
        "* 훈련 셋과 테스트 셋을 나누는 방법\n",
        "    * 순차적 추출(sequential sampling)\n",
        "    * 임의 추출(random sampling)\n",
        "    * 층화 추출(stratified sampling)\n",
        "* 분류 모델 평가 지표\n",
        "    * 정확도(accuracy)\n",
        "    * 정밀도(precision)\n",
        "    * 재현율(recall)\n",
        "    * F1-score\n",
        "* 특성 스케일링(feature scaling)\n",
        "    * 표준화(standardization)\n",
        "    * 정규화(normalization)"
      ]
    },
    {
      "cell_type": "markdown",
      "metadata": {
        "id": "lK-bo28wy7Wg"
      },
      "source": [
        "# 필요한 모듈 import"
      ]
    },
    {
      "cell_type": "code",
      "metadata": {
        "id": "dhPT0tpVxdfA"
      },
      "source": [
        "import numpy as np  # ndarray 함수, 메서드\n",
        "import pandas as pd  # Series, DataFrame 함수, 메서드\n",
        "import matplotlib.pyplot as plt  # 시각화\n",
        "import seaborn as sns  # 시각화\n",
        "\n",
        "# Machine Learning\n",
        "from sklearn.neighbors import KNeighborsClassifier  # KNN 분류기(모델, 알고리즘)\n",
        "from sklearn.model_selection import train_test_split  # 훈련/테스트 셋 분리 함수\n",
        "from sklearn.metrics import confusion_matrix, classification_report  # 모델 평가 지표\n",
        "from sklearn.preprocessing import StandardScaler, MinMaxScaler  # 특성 스케일링"
      ],
      "execution_count": 1,
      "outputs": []
    },
    {
      "cell_type": "markdown",
      "metadata": {
        "id": "f_ltyubW2hV_"
      },
      "source": [
        "# 데이터 준비\n",
        "\n",
        "* fish.csv 파일: 어종, 생선 특성(무게, 길이, ...)\n",
        "    * 문제를 간단히 하기 위해서, 어종 2개(Bream, Smelt)와 특성 2개(Weight, Length) 사용"
      ]
    },
    {
      "cell_type": "code",
      "metadata": {
        "id": "CeqD7O952fox"
      },
      "source": [
        "fish_csv = 'https://github.com/rickiepark/hg-mldl/raw/master/fish.csv'"
      ],
      "execution_count": 2,
      "outputs": []
    },
    {
      "cell_type": "code",
      "metadata": {
        "id": "yMGR5x9H3DQJ"
      },
      "source": [
        "fish = pd.read_csv(fish_csv)  # CSV 파일 ---> DataFrame 생성"
      ],
      "execution_count": 3,
      "outputs": []
    },
    {
      "cell_type": "code",
      "metadata": {
        "colab": {
          "base_uri": "https://localhost:8080/",
          "height": 206
        },
        "id": "gzy-ycpC3Mvf",
        "outputId": "bf920f6c-d1c6-48c5-b0ca-4bd1ea17ac91"
      },
      "source": [
        "fish.head()"
      ],
      "execution_count": 4,
      "outputs": [
        {
          "output_type": "execute_result",
          "data": {
            "text/html": [
              "<div>\n",
              "<style scoped>\n",
              "    .dataframe tbody tr th:only-of-type {\n",
              "        vertical-align: middle;\n",
              "    }\n",
              "\n",
              "    .dataframe tbody tr th {\n",
              "        vertical-align: top;\n",
              "    }\n",
              "\n",
              "    .dataframe thead th {\n",
              "        text-align: right;\n",
              "    }\n",
              "</style>\n",
              "<table border=\"1\" class=\"dataframe\">\n",
              "  <thead>\n",
              "    <tr style=\"text-align: right;\">\n",
              "      <th></th>\n",
              "      <th>Species</th>\n",
              "      <th>Weight</th>\n",
              "      <th>Length</th>\n",
              "      <th>Diagonal</th>\n",
              "      <th>Height</th>\n",
              "      <th>Width</th>\n",
              "    </tr>\n",
              "  </thead>\n",
              "  <tbody>\n",
              "    <tr>\n",
              "      <th>0</th>\n",
              "      <td>Bream</td>\n",
              "      <td>242.0</td>\n",
              "      <td>25.4</td>\n",
              "      <td>30.0</td>\n",
              "      <td>11.5200</td>\n",
              "      <td>4.0200</td>\n",
              "    </tr>\n",
              "    <tr>\n",
              "      <th>1</th>\n",
              "      <td>Bream</td>\n",
              "      <td>290.0</td>\n",
              "      <td>26.3</td>\n",
              "      <td>31.2</td>\n",
              "      <td>12.4800</td>\n",
              "      <td>4.3056</td>\n",
              "    </tr>\n",
              "    <tr>\n",
              "      <th>2</th>\n",
              "      <td>Bream</td>\n",
              "      <td>340.0</td>\n",
              "      <td>26.5</td>\n",
              "      <td>31.1</td>\n",
              "      <td>12.3778</td>\n",
              "      <td>4.6961</td>\n",
              "    </tr>\n",
              "    <tr>\n",
              "      <th>3</th>\n",
              "      <td>Bream</td>\n",
              "      <td>363.0</td>\n",
              "      <td>29.0</td>\n",
              "      <td>33.5</td>\n",
              "      <td>12.7300</td>\n",
              "      <td>4.4555</td>\n",
              "    </tr>\n",
              "    <tr>\n",
              "      <th>4</th>\n",
              "      <td>Bream</td>\n",
              "      <td>430.0</td>\n",
              "      <td>29.0</td>\n",
              "      <td>34.0</td>\n",
              "      <td>12.4440</td>\n",
              "      <td>5.1340</td>\n",
              "    </tr>\n",
              "  </tbody>\n",
              "</table>\n",
              "</div>"
            ],
            "text/plain": [
              "  Species  Weight  Length  Diagonal   Height   Width\n",
              "0   Bream   242.0    25.4      30.0  11.5200  4.0200\n",
              "1   Bream   290.0    26.3      31.2  12.4800  4.3056\n",
              "2   Bream   340.0    26.5      31.1  12.3778  4.6961\n",
              "3   Bream   363.0    29.0      33.5  12.7300  4.4555\n",
              "4   Bream   430.0    29.0      34.0  12.4440  5.1340"
            ]
          },
          "metadata": {},
          "execution_count": 4
        }
      ]
    },
    {
      "cell_type": "code",
      "metadata": {
        "colab": {
          "base_uri": "https://localhost:8080/"
        },
        "id": "e6FJxvN23Pau",
        "outputId": "baf763e0-e590-4a3b-e4d7-fbb59c855497"
      },
      "source": [
        "fish.info()"
      ],
      "execution_count": 5,
      "outputs": [
        {
          "output_type": "stream",
          "text": [
            "<class 'pandas.core.frame.DataFrame'>\n",
            "RangeIndex: 159 entries, 0 to 158\n",
            "Data columns (total 6 columns):\n",
            " #   Column    Non-Null Count  Dtype  \n",
            "---  ------    --------------  -----  \n",
            " 0   Species   159 non-null    object \n",
            " 1   Weight    159 non-null    float64\n",
            " 2   Length    159 non-null    float64\n",
            " 3   Diagonal  159 non-null    float64\n",
            " 4   Height    159 non-null    float64\n",
            " 5   Width     159 non-null    float64\n",
            "dtypes: float64(5), object(1)\n",
            "memory usage: 7.6+ KB\n"
          ],
          "name": "stdout"
        }
      ]
    },
    {
      "cell_type": "code",
      "metadata": {
        "colab": {
          "base_uri": "https://localhost:8080/"
        },
        "id": "eNceVevw3ruG",
        "outputId": "cae78125-c569-44b8-9607-77da631a0093"
      },
      "source": [
        "# 타겟 벡터(1차원 배열)\n",
        "# 어종인 Bream 또는 Smelt인 Species 컬럼을 선택해서 numpy 배열로 변환(to_numpy() 메서드도 동일)\n",
        "y = fish.loc[fish.Species.isin(['Bream', 'Smelt']), 'Species'].values\n",
        "y"
      ],
      "execution_count": 7,
      "outputs": [
        {
          "output_type": "execute_result",
          "data": {
            "text/plain": [
              "array(['Bream', 'Bream', 'Bream', 'Bream', 'Bream', 'Bream', 'Bream',\n",
              "       'Bream', 'Bream', 'Bream', 'Bream', 'Bream', 'Bream', 'Bream',\n",
              "       'Bream', 'Bream', 'Bream', 'Bream', 'Bream', 'Bream', 'Bream',\n",
              "       'Bream', 'Bream', 'Bream', 'Bream', 'Bream', 'Bream', 'Bream',\n",
              "       'Bream', 'Bream', 'Bream', 'Bream', 'Bream', 'Bream', 'Bream',\n",
              "       'Smelt', 'Smelt', 'Smelt', 'Smelt', 'Smelt', 'Smelt', 'Smelt',\n",
              "       'Smelt', 'Smelt', 'Smelt', 'Smelt', 'Smelt', 'Smelt', 'Smelt'],\n",
              "      dtype=object)"
            ]
          },
          "metadata": {},
          "execution_count": 7
        }
      ]
    },
    {
      "cell_type": "code",
      "metadata": {
        "colab": {
          "base_uri": "https://localhost:8080/"
        },
        "id": "MvGi2bQV4rov",
        "outputId": "1c988597-0773-4f01-ca3a-664ba01c359f"
      },
      "source": [
        "y.shape  #> 원소가 49개인 1차원 배열"
      ],
      "execution_count": 8,
      "outputs": [
        {
          "output_type": "execute_result",
          "data": {
            "text/plain": [
              "(49,)"
            ]
          },
          "metadata": {},
          "execution_count": 8
        }
      ]
    },
    {
      "cell_type": "code",
      "metadata": {
        "colab": {
          "base_uri": "https://localhost:8080/"
        },
        "id": "rbkSSzap5O7_",
        "outputId": "8c7756fb-990b-48d3-98b7-956143a9acd7"
      },
      "source": [
        "# 타겟의 레이블 개수\n",
        "np.unique(y, return_counts=True)"
      ],
      "execution_count": 10,
      "outputs": [
        {
          "output_type": "execute_result",
          "data": {
            "text/plain": [
              "(array(['Bream', 'Smelt'], dtype=object), array([35, 14]))"
            ]
          },
          "metadata": {},
          "execution_count": 10
        }
      ]
    },
    {
      "cell_type": "code",
      "metadata": {
        "colab": {
          "base_uri": "https://localhost:8080/"
        },
        "id": "siNXXRGo6Lwu",
        "outputId": "94964e2f-85b9-4730-c5a3-d448c944420c"
      },
      "source": [
        "# 특성 행렬(feature matrix)\n",
        "# 어종이 Bream 또는 Smelt인 Weight 컬럼과 Length 컬럼을 선택하고 numpy 배열로 변환\n",
        "X = fish.loc[fish.Species.isin(['Bream', 'Smelt']), ['Weight', 'Length']].values\n",
        "X[:5]"
      ],
      "execution_count": 13,
      "outputs": [
        {
          "output_type": "execute_result",
          "data": {
            "text/plain": [
              "array([[242. ,  25.4],\n",
              "       [290. ,  26.3],\n",
              "       [340. ,  26.5],\n",
              "       [363. ,  29. ],\n",
              "       [430. ,  29. ]])"
            ]
          },
          "metadata": {},
          "execution_count": 13
        }
      ]
    },
    {
      "cell_type": "code",
      "metadata": {
        "colab": {
          "base_uri": "https://localhost:8080/"
        },
        "id": "48ta7lLi6qRo",
        "outputId": "7b6bd538-8815-4ded-ce62-70c55a8e5a7f"
      },
      "source": [
        "X.shape  #> (49, 2) shape의 2차원 배열"
      ],
      "execution_count": 14,
      "outputs": [
        {
          "output_type": "execute_result",
          "data": {
            "text/plain": [
              "(49, 2)"
            ]
          },
          "metadata": {},
          "execution_count": 14
        }
      ]
    },
    {
      "cell_type": "markdown",
      "metadata": {
        "id": "JXQYEQLGAf7L"
      },
      "source": [
        "# 데이터와 타겟을 훈련 셋/테스트 셋으로 분리"
      ]
    },
    {
      "cell_type": "markdown",
      "metadata": {
        "id": "Cc8IwjYi_w8E"
      },
      "source": [
        "`X`: 특성 행렬(feature matrix), `y`: 타겟 벡터(target vector)"
      ]
    },
    {
      "cell_type": "markdown",
      "metadata": {
        "id": "M2akoVEeBDY2"
      },
      "source": [
        "## sequential sampling"
      ]
    },
    {
      "cell_type": "code",
      "metadata": {
        "id": "Dre6Xn1269KG"
      },
      "source": [
        "# 훈련 셋과 테스트 셋을 7:3 비율로 나누기 위해서\n",
        "num_trains = 35  # 훈련 셋 개수"
      ],
      "execution_count": 16,
      "outputs": []
    },
    {
      "cell_type": "code",
      "metadata": {
        "id": "uM9dJAIQBZG-"
      },
      "source": [
        "X_train = X[:num_trains]  # 훈련 셋\n",
        "X_test = X[num_trains:]   # 테스트 셋\n",
        "y_train = y[:num_trains]  # 훈련 레이블\n",
        "y_test = y[num_trains:]   # 테스트 레이블"
      ],
      "execution_count": 17,
      "outputs": []
    },
    {
      "cell_type": "code",
      "metadata": {
        "colab": {
          "base_uri": "https://localhost:8080/"
        },
        "id": "vU0jBPtLBwmc",
        "outputId": "d2f08b9b-81d2-4055-f15d-ccf3f9843008"
      },
      "source": [
        "X_train.shape, X_test.shape"
      ],
      "execution_count": 18,
      "outputs": [
        {
          "output_type": "execute_result",
          "data": {
            "text/plain": [
              "((35, 2), (14, 2))"
            ]
          },
          "metadata": {},
          "execution_count": 18
        }
      ]
    },
    {
      "cell_type": "code",
      "metadata": {
        "colab": {
          "base_uri": "https://localhost:8080/"
        },
        "id": "3D7p1N2MCR37",
        "outputId": "b258e799-5852-46fb-ed87-7a6ca373e8f5"
      },
      "source": [
        "y_train.shape, y_test.shape"
      ],
      "execution_count": 19,
      "outputs": [
        {
          "output_type": "execute_result",
          "data": {
            "text/plain": [
              "((35,), (14,))"
            ]
          },
          "metadata": {},
          "execution_count": 19
        }
      ]
    },
    {
      "cell_type": "markdown",
      "metadata": {
        "id": "ztG-Kdq_CuMK"
      },
      "source": [
        "데이터가 무작위로 섞여있지 않고 어종에 대해서 정렬된 상태였기 때문에, 훈련 셋/레이블에는 도미(Bream)만 선택되고, 테스트 셋/레이블에는 빙어(Smelt)만 선택됨.\n",
        "---> **샘플링 편향(sampling bias)**"
      ]
    },
    {
      "cell_type": "code",
      "metadata": {
        "colab": {
          "base_uri": "https://localhost:8080/"
        },
        "id": "G0_nddHyCdwz",
        "outputId": "50d951a3-42c5-4135-cfdb-64373e6ba43d"
      },
      "source": [
        "np.unique(y_train, return_counts=True)"
      ],
      "execution_count": 20,
      "outputs": [
        {
          "output_type": "execute_result",
          "data": {
            "text/plain": [
              "(array(['Bream'], dtype=object), array([35]))"
            ]
          },
          "metadata": {},
          "execution_count": 20
        }
      ]
    },
    {
      "cell_type": "code",
      "metadata": {
        "colab": {
          "base_uri": "https://localhost:8080/"
        },
        "id": "Nuu5wo39DCMU",
        "outputId": "2dcaf45e-9213-4cf9-91cc-7d4064263ae8"
      },
      "source": [
        "np.unique(y_test, return_counts=True)"
      ],
      "execution_count": 21,
      "outputs": [
        {
          "output_type": "execute_result",
          "data": {
            "text/plain": [
              "(array(['Smelt'], dtype=object), array([14]))"
            ]
          },
          "metadata": {},
          "execution_count": 21
        }
      ]
    },
    {
      "cell_type": "markdown",
      "metadata": {
        "id": "co6B0VepDybd"
      },
      "source": [
        "# KNN 모델 훈련, 평가"
      ]
    },
    {
      "cell_type": "code",
      "metadata": {
        "id": "b_VflprmDHMq"
      },
      "source": [
        "knn_clf = KNeighborsClassifier()  # KNN 모델 생성"
      ],
      "execution_count": 22,
      "outputs": []
    },
    {
      "cell_type": "code",
      "metadata": {
        "colab": {
          "base_uri": "https://localhost:8080/"
        },
        "id": "ZM6rcENpEAeb",
        "outputId": "01a39a96-fa5e-45df-b246-fd7b6c232556"
      },
      "source": [
        "knn_clf.fit(X=X_train, y=y_train)  # 모델 훈련, fitting"
      ],
      "execution_count": 23,
      "outputs": [
        {
          "output_type": "execute_result",
          "data": {
            "text/plain": [
              "KNeighborsClassifier(algorithm='auto', leaf_size=30, metric='minkowski',\n",
              "                     metric_params=None, n_jobs=None, n_neighbors=5, p=2,\n",
              "                     weights='uniform')"
            ]
          },
          "metadata": {},
          "execution_count": 23
        }
      ]
    },
    {
      "cell_type": "code",
      "metadata": {
        "colab": {
          "base_uri": "https://localhost:8080/"
        },
        "id": "cP25daULELGC",
        "outputId": "fa5d877b-3caf-449a-a54c-c60421d5cef1"
      },
      "source": [
        "# 훈련 셋 예측 결과\n",
        "train_pred = knn_clf.predict(X=X_train)\n",
        "train_pred"
      ],
      "execution_count": 24,
      "outputs": [
        {
          "output_type": "execute_result",
          "data": {
            "text/plain": [
              "array(['Bream', 'Bream', 'Bream', 'Bream', 'Bream', 'Bream', 'Bream',\n",
              "       'Bream', 'Bream', 'Bream', 'Bream', 'Bream', 'Bream', 'Bream',\n",
              "       'Bream', 'Bream', 'Bream', 'Bream', 'Bream', 'Bream', 'Bream',\n",
              "       'Bream', 'Bream', 'Bream', 'Bream', 'Bream', 'Bream', 'Bream',\n",
              "       'Bream', 'Bream', 'Bream', 'Bream', 'Bream', 'Bream', 'Bream'],\n",
              "      dtype=object)"
            ]
          },
          "metadata": {},
          "execution_count": 24
        }
      ]
    },
    {
      "cell_type": "code",
      "metadata": {
        "colab": {
          "base_uri": "https://localhost:8080/"
        },
        "id": "UXgmaUPBEXTi",
        "outputId": "edb86b10-b625-4953-d496-3700c125db63"
      },
      "source": [
        "train_acc = np.mean(y_train == train_pred)  # 훈련 셋에서의 정확도\n",
        "train_acc"
      ],
      "execution_count": 25,
      "outputs": [
        {
          "output_type": "execute_result",
          "data": {
            "text/plain": [
              "1.0"
            ]
          },
          "metadata": {},
          "execution_count": 25
        }
      ]
    },
    {
      "cell_type": "code",
      "metadata": {
        "colab": {
          "base_uri": "https://localhost:8080/"
        },
        "id": "nvXiPqe8EjOa",
        "outputId": "5c8230b2-bb73-446f-a92d-176619da256a"
      },
      "source": [
        "# 테스트 셋 예측 결과\n",
        "test_pred = knn_clf.predict(X=X_test)\n",
        "test_pred"
      ],
      "execution_count": 26,
      "outputs": [
        {
          "output_type": "execute_result",
          "data": {
            "text/plain": [
              "array(['Bream', 'Bream', 'Bream', 'Bream', 'Bream', 'Bream', 'Bream',\n",
              "       'Bream', 'Bream', 'Bream', 'Bream', 'Bream', 'Bream', 'Bream'],\n",
              "      dtype=object)"
            ]
          },
          "metadata": {},
          "execution_count": 26
        }
      ]
    },
    {
      "cell_type": "code",
      "metadata": {
        "colab": {
          "base_uri": "https://localhost:8080/"
        },
        "id": "rFASqbOZE9Ib",
        "outputId": "9f974f3a-c816-410e-8822-f1cad7aff887"
      },
      "source": [
        "np.mean(y_test == test_pred)  # 테스트 셋에서의 정확도"
      ],
      "execution_count": 29,
      "outputs": [
        {
          "output_type": "execute_result",
          "data": {
            "text/plain": [
              "0.0"
            ]
          },
          "metadata": {},
          "execution_count": 29
        }
      ]
    },
    {
      "cell_type": "markdown",
      "metadata": {
        "id": "pLUHhZLTFneE"
      },
      "source": [
        "`sklearn.model_selection_train_test_split` 함수를 사용한 훈련/테스트 셋 sequential sampling"
      ]
    },
    {
      "cell_type": "code",
      "metadata": {
        "id": "Sqx_lbumFvYx"
      },
      "source": [
        "X_train, X_test, y_train, y_test = train_test_split(X, y,  # 특성 행렬, 타겟 벡터\n",
        "                                                    train_size=35,  # 훈련 셋 원소 개수\n",
        "                                                    shuffle=False)  # 데이터를 랜덤하게 섞을 지 말 지 결정"
      ],
      "execution_count": 30,
      "outputs": []
    },
    {
      "cell_type": "code",
      "metadata": {
        "colab": {
          "base_uri": "https://localhost:8080/"
        },
        "id": "-xNpJqSQH77D",
        "outputId": "3b5a4989-4ceb-47dd-dd1f-f5df5d76de9a"
      },
      "source": [
        "X_train.shape, X_test.shape"
      ],
      "execution_count": 31,
      "outputs": [
        {
          "output_type": "execute_result",
          "data": {
            "text/plain": [
              "((35, 2), (14, 2))"
            ]
          },
          "metadata": {},
          "execution_count": 31
        }
      ]
    },
    {
      "cell_type": "code",
      "metadata": {
        "colab": {
          "base_uri": "https://localhost:8080/"
        },
        "id": "UC1ZrgDSH_dx",
        "outputId": "9b78f235-b4ef-41fe-c5bc-c8681f3e7759"
      },
      "source": [
        "y_train.shape, y_test.shape"
      ],
      "execution_count": 32,
      "outputs": [
        {
          "output_type": "execute_result",
          "data": {
            "text/plain": [
              "((35,), (14,))"
            ]
          },
          "metadata": {},
          "execution_count": 32
        }
      ]
    },
    {
      "cell_type": "code",
      "metadata": {
        "colab": {
          "base_uri": "https://localhost:8080/"
        },
        "id": "puVzIwj8IFdI",
        "outputId": "744c125e-ec19-41e0-e493-34ea6bd84141"
      },
      "source": [
        "y_train"
      ],
      "execution_count": 33,
      "outputs": [
        {
          "output_type": "execute_result",
          "data": {
            "text/plain": [
              "array(['Bream', 'Bream', 'Bream', 'Bream', 'Bream', 'Bream', 'Bream',\n",
              "       'Bream', 'Bream', 'Bream', 'Bream', 'Bream', 'Bream', 'Bream',\n",
              "       'Bream', 'Bream', 'Bream', 'Bream', 'Bream', 'Bream', 'Bream',\n",
              "       'Bream', 'Bream', 'Bream', 'Bream', 'Bream', 'Bream', 'Bream',\n",
              "       'Bream', 'Bream', 'Bream', 'Bream', 'Bream', 'Bream', 'Bream'],\n",
              "      dtype=object)"
            ]
          },
          "metadata": {},
          "execution_count": 33
        }
      ]
    },
    {
      "cell_type": "code",
      "metadata": {
        "colab": {
          "base_uri": "https://localhost:8080/"
        },
        "id": "1d1_4-m4IMaR",
        "outputId": "d63b27f1-e729-4690-c7f7-66e203ba4e32"
      },
      "source": [
        "y_test"
      ],
      "execution_count": 34,
      "outputs": [
        {
          "output_type": "execute_result",
          "data": {
            "text/plain": [
              "array(['Smelt', 'Smelt', 'Smelt', 'Smelt', 'Smelt', 'Smelt', 'Smelt',\n",
              "       'Smelt', 'Smelt', 'Smelt', 'Smelt', 'Smelt', 'Smelt', 'Smelt'],\n",
              "      dtype=object)"
            ]
          },
          "metadata": {},
          "execution_count": 34
        }
      ]
    },
    {
      "cell_type": "code",
      "metadata": {
        "id": "VRyaSnAyIN4R"
      },
      "source": [
        ""
      ],
      "execution_count": null,
      "outputs": []
    }
  ]
}
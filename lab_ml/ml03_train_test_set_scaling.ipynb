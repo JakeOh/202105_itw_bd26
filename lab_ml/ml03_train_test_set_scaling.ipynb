{
  "nbformat": 4,
  "nbformat_minor": 0,
  "metadata": {
    "colab": {
      "name": "ml03_train_test_set_scaling.ipynb",
      "provenance": [],
      "collapsed_sections": [],
      "authorship_tag": "ABX9TyNQEQOY1lHdn6GuxUKo9hjk",
      "include_colab_link": true
    },
    "kernelspec": {
      "name": "python3",
      "display_name": "Python 3"
    },
    "language_info": {
      "name": "python"
    }
  },
  "cells": [
    {
      "cell_type": "markdown",
      "metadata": {
        "id": "view-in-github",
        "colab_type": "text"
      },
      "source": [
        "<a href=\"https://colab.research.google.com/github/JakeOh/202105_itw_bd26/blob/main/lab_ml/ml03_train_test_set_scaling.ipynb\" target=\"_parent\"><img src=\"https://colab.research.google.com/assets/colab-badge.svg\" alt=\"Open In Colab\"/></a>"
      ]
    },
    {
      "cell_type": "markdown",
      "metadata": {
        "id": "vkDG8cyex1Fz"
      },
      "source": [
        "* 훈련 셋과 테스트 셋을 나누는 방법\n",
        "    * 순차적 추출(sequential sampling)\n",
        "    * 임의 추출(random sampling)\n",
        "    * 층화 추출(stratified sampling)\n",
        "* 분류 모델 평가 지표\n",
        "    * 정확도(accuracy)\n",
        "    * 정밀도(precision)\n",
        "    * 재현율(recall)\n",
        "    * F1-score\n",
        "* 특성 스케일링(feature scaling)\n",
        "    * 표준화(standardization)\n",
        "    * 정규화(normalization)"
      ]
    },
    {
      "cell_type": "markdown",
      "metadata": {
        "id": "lK-bo28wy7Wg"
      },
      "source": [
        "# 필요한 모듈 import"
      ]
    },
    {
      "cell_type": "code",
      "metadata": {
        "id": "dhPT0tpVxdfA"
      },
      "source": [
        "import numpy as np  # ndarray 함수, 메서드\n",
        "import pandas as pd  # Series, DataFrame 함수, 메서드\n",
        "import matplotlib.pyplot as plt  # 시각화\n",
        "import seaborn as sns  # 시각화\n",
        "\n",
        "# Machine Learning\n",
        "from sklearn.neighbors import KNeighborsClassifier  # KNN 분류기(모델, 알고리즘)\n",
        "from sklearn.model_selection import train_test_split  # 훈련/테스트 셋 분리 함수\n",
        "from sklearn.metrics import confusion_matrix, classification_report  # 모델 평가 지표\n",
        "from sklearn.metrics import accuracy_score, precision_score, recall_score, f1_score\n",
        "from sklearn.preprocessing import StandardScaler, MinMaxScaler  # 특성 스케일링"
      ],
      "execution_count": 62,
      "outputs": []
    },
    {
      "cell_type": "markdown",
      "metadata": {
        "id": "f_ltyubW2hV_"
      },
      "source": [
        "# 데이터 준비\n",
        "\n",
        "* fish.csv 파일: 어종, 생선 특성(무게, 길이, ...)\n",
        "    * 문제를 간단히 하기 위해서, 어종 2개(Bream, Smelt)와 특성 2개(Weight, Length) 사용"
      ]
    },
    {
      "cell_type": "code",
      "metadata": {
        "id": "CeqD7O952fox"
      },
      "source": [
        "fish_csv = 'https://github.com/rickiepark/hg-mldl/raw/master/fish.csv'"
      ],
      "execution_count": 2,
      "outputs": []
    },
    {
      "cell_type": "code",
      "metadata": {
        "id": "yMGR5x9H3DQJ"
      },
      "source": [
        "fish = pd.read_csv(fish_csv)  # CSV 파일 ---> DataFrame 생성"
      ],
      "execution_count": 3,
      "outputs": []
    },
    {
      "cell_type": "code",
      "metadata": {
        "colab": {
          "base_uri": "https://localhost:8080/",
          "height": 206
        },
        "id": "gzy-ycpC3Mvf",
        "outputId": "bf920f6c-d1c6-48c5-b0ca-4bd1ea17ac91"
      },
      "source": [
        "fish.head()"
      ],
      "execution_count": 4,
      "outputs": [
        {
          "output_type": "execute_result",
          "data": {
            "text/html": [
              "<div>\n",
              "<style scoped>\n",
              "    .dataframe tbody tr th:only-of-type {\n",
              "        vertical-align: middle;\n",
              "    }\n",
              "\n",
              "    .dataframe tbody tr th {\n",
              "        vertical-align: top;\n",
              "    }\n",
              "\n",
              "    .dataframe thead th {\n",
              "        text-align: right;\n",
              "    }\n",
              "</style>\n",
              "<table border=\"1\" class=\"dataframe\">\n",
              "  <thead>\n",
              "    <tr style=\"text-align: right;\">\n",
              "      <th></th>\n",
              "      <th>Species</th>\n",
              "      <th>Weight</th>\n",
              "      <th>Length</th>\n",
              "      <th>Diagonal</th>\n",
              "      <th>Height</th>\n",
              "      <th>Width</th>\n",
              "    </tr>\n",
              "  </thead>\n",
              "  <tbody>\n",
              "    <tr>\n",
              "      <th>0</th>\n",
              "      <td>Bream</td>\n",
              "      <td>242.0</td>\n",
              "      <td>25.4</td>\n",
              "      <td>30.0</td>\n",
              "      <td>11.5200</td>\n",
              "      <td>4.0200</td>\n",
              "    </tr>\n",
              "    <tr>\n",
              "      <th>1</th>\n",
              "      <td>Bream</td>\n",
              "      <td>290.0</td>\n",
              "      <td>26.3</td>\n",
              "      <td>31.2</td>\n",
              "      <td>12.4800</td>\n",
              "      <td>4.3056</td>\n",
              "    </tr>\n",
              "    <tr>\n",
              "      <th>2</th>\n",
              "      <td>Bream</td>\n",
              "      <td>340.0</td>\n",
              "      <td>26.5</td>\n",
              "      <td>31.1</td>\n",
              "      <td>12.3778</td>\n",
              "      <td>4.6961</td>\n",
              "    </tr>\n",
              "    <tr>\n",
              "      <th>3</th>\n",
              "      <td>Bream</td>\n",
              "      <td>363.0</td>\n",
              "      <td>29.0</td>\n",
              "      <td>33.5</td>\n",
              "      <td>12.7300</td>\n",
              "      <td>4.4555</td>\n",
              "    </tr>\n",
              "    <tr>\n",
              "      <th>4</th>\n",
              "      <td>Bream</td>\n",
              "      <td>430.0</td>\n",
              "      <td>29.0</td>\n",
              "      <td>34.0</td>\n",
              "      <td>12.4440</td>\n",
              "      <td>5.1340</td>\n",
              "    </tr>\n",
              "  </tbody>\n",
              "</table>\n",
              "</div>"
            ],
            "text/plain": [
              "  Species  Weight  Length  Diagonal   Height   Width\n",
              "0   Bream   242.0    25.4      30.0  11.5200  4.0200\n",
              "1   Bream   290.0    26.3      31.2  12.4800  4.3056\n",
              "2   Bream   340.0    26.5      31.1  12.3778  4.6961\n",
              "3   Bream   363.0    29.0      33.5  12.7300  4.4555\n",
              "4   Bream   430.0    29.0      34.0  12.4440  5.1340"
            ]
          },
          "metadata": {},
          "execution_count": 4
        }
      ]
    },
    {
      "cell_type": "code",
      "metadata": {
        "colab": {
          "base_uri": "https://localhost:8080/"
        },
        "id": "e6FJxvN23Pau",
        "outputId": "baf763e0-e590-4a3b-e4d7-fbb59c855497"
      },
      "source": [
        "fish.info()"
      ],
      "execution_count": 5,
      "outputs": [
        {
          "output_type": "stream",
          "text": [
            "<class 'pandas.core.frame.DataFrame'>\n",
            "RangeIndex: 159 entries, 0 to 158\n",
            "Data columns (total 6 columns):\n",
            " #   Column    Non-Null Count  Dtype  \n",
            "---  ------    --------------  -----  \n",
            " 0   Species   159 non-null    object \n",
            " 1   Weight    159 non-null    float64\n",
            " 2   Length    159 non-null    float64\n",
            " 3   Diagonal  159 non-null    float64\n",
            " 4   Height    159 non-null    float64\n",
            " 5   Width     159 non-null    float64\n",
            "dtypes: float64(5), object(1)\n",
            "memory usage: 7.6+ KB\n"
          ],
          "name": "stdout"
        }
      ]
    },
    {
      "cell_type": "code",
      "metadata": {
        "colab": {
          "base_uri": "https://localhost:8080/"
        },
        "id": "eNceVevw3ruG",
        "outputId": "cae78125-c569-44b8-9607-77da631a0093"
      },
      "source": [
        "# 타겟 벡터(1차원 배열)\n",
        "# 어종인 Bream 또는 Smelt인 Species 컬럼을 선택해서 numpy 배열로 변환(to_numpy() 메서드도 동일)\n",
        "y = fish.loc[fish.Species.isin(['Bream', 'Smelt']), 'Species'].values\n",
        "y"
      ],
      "execution_count": 7,
      "outputs": [
        {
          "output_type": "execute_result",
          "data": {
            "text/plain": [
              "array(['Bream', 'Bream', 'Bream', 'Bream', 'Bream', 'Bream', 'Bream',\n",
              "       'Bream', 'Bream', 'Bream', 'Bream', 'Bream', 'Bream', 'Bream',\n",
              "       'Bream', 'Bream', 'Bream', 'Bream', 'Bream', 'Bream', 'Bream',\n",
              "       'Bream', 'Bream', 'Bream', 'Bream', 'Bream', 'Bream', 'Bream',\n",
              "       'Bream', 'Bream', 'Bream', 'Bream', 'Bream', 'Bream', 'Bream',\n",
              "       'Smelt', 'Smelt', 'Smelt', 'Smelt', 'Smelt', 'Smelt', 'Smelt',\n",
              "       'Smelt', 'Smelt', 'Smelt', 'Smelt', 'Smelt', 'Smelt', 'Smelt'],\n",
              "      dtype=object)"
            ]
          },
          "metadata": {},
          "execution_count": 7
        }
      ]
    },
    {
      "cell_type": "code",
      "metadata": {
        "colab": {
          "base_uri": "https://localhost:8080/"
        },
        "id": "MvGi2bQV4rov",
        "outputId": "1c988597-0773-4f01-ca3a-664ba01c359f"
      },
      "source": [
        "y.shape  #> 원소가 49개인 1차원 배열"
      ],
      "execution_count": 8,
      "outputs": [
        {
          "output_type": "execute_result",
          "data": {
            "text/plain": [
              "(49,)"
            ]
          },
          "metadata": {},
          "execution_count": 8
        }
      ]
    },
    {
      "cell_type": "code",
      "metadata": {
        "colab": {
          "base_uri": "https://localhost:8080/"
        },
        "id": "rbkSSzap5O7_",
        "outputId": "8c7756fb-990b-48d3-98b7-956143a9acd7"
      },
      "source": [
        "# 타겟의 레이블 개수\n",
        "np.unique(y, return_counts=True)"
      ],
      "execution_count": 10,
      "outputs": [
        {
          "output_type": "execute_result",
          "data": {
            "text/plain": [
              "(array(['Bream', 'Smelt'], dtype=object), array([35, 14]))"
            ]
          },
          "metadata": {},
          "execution_count": 10
        }
      ]
    },
    {
      "cell_type": "code",
      "metadata": {
        "colab": {
          "base_uri": "https://localhost:8080/"
        },
        "id": "siNXXRGo6Lwu",
        "outputId": "94964e2f-85b9-4730-c5a3-d448c944420c"
      },
      "source": [
        "# 특성 행렬(feature matrix)\n",
        "# 어종이 Bream 또는 Smelt인 Weight 컬럼과 Length 컬럼을 선택하고 numpy 배열로 변환\n",
        "X = fish.loc[fish.Species.isin(['Bream', 'Smelt']), ['Weight', 'Length']].values\n",
        "X[:5]"
      ],
      "execution_count": 13,
      "outputs": [
        {
          "output_type": "execute_result",
          "data": {
            "text/plain": [
              "array([[242. ,  25.4],\n",
              "       [290. ,  26.3],\n",
              "       [340. ,  26.5],\n",
              "       [363. ,  29. ],\n",
              "       [430. ,  29. ]])"
            ]
          },
          "metadata": {},
          "execution_count": 13
        }
      ]
    },
    {
      "cell_type": "code",
      "metadata": {
        "colab": {
          "base_uri": "https://localhost:8080/"
        },
        "id": "48ta7lLi6qRo",
        "outputId": "7b6bd538-8815-4ded-ce62-70c55a8e5a7f"
      },
      "source": [
        "X.shape  #> (49, 2) shape의 2차원 배열"
      ],
      "execution_count": 14,
      "outputs": [
        {
          "output_type": "execute_result",
          "data": {
            "text/plain": [
              "(49, 2)"
            ]
          },
          "metadata": {},
          "execution_count": 14
        }
      ]
    },
    {
      "cell_type": "markdown",
      "metadata": {
        "id": "JXQYEQLGAf7L"
      },
      "source": [
        "# 데이터와 타겟을 훈련 셋/테스트 셋으로 분리"
      ]
    },
    {
      "cell_type": "markdown",
      "metadata": {
        "id": "Cc8IwjYi_w8E"
      },
      "source": [
        "`X`: 특성 행렬(feature matrix), `y`: 타겟 벡터(target vector)"
      ]
    },
    {
      "cell_type": "markdown",
      "metadata": {
        "id": "M2akoVEeBDY2"
      },
      "source": [
        "## sequential sampling"
      ]
    },
    {
      "cell_type": "code",
      "metadata": {
        "id": "Dre6Xn1269KG"
      },
      "source": [
        "# 훈련 셋과 테스트 셋을 7:3 비율로 나누기 위해서\n",
        "num_trains = 35  # 훈련 셋 개수"
      ],
      "execution_count": 16,
      "outputs": []
    },
    {
      "cell_type": "code",
      "metadata": {
        "id": "uM9dJAIQBZG-"
      },
      "source": [
        "X_train = X[:num_trains]  # 훈련 셋\n",
        "X_test = X[num_trains:]   # 테스트 셋\n",
        "y_train = y[:num_trains]  # 훈련 레이블\n",
        "y_test = y[num_trains:]   # 테스트 레이블"
      ],
      "execution_count": 17,
      "outputs": []
    },
    {
      "cell_type": "code",
      "metadata": {
        "colab": {
          "base_uri": "https://localhost:8080/"
        },
        "id": "vU0jBPtLBwmc",
        "outputId": "d2f08b9b-81d2-4055-f15d-ccf3f9843008"
      },
      "source": [
        "X_train.shape, X_test.shape"
      ],
      "execution_count": 18,
      "outputs": [
        {
          "output_type": "execute_result",
          "data": {
            "text/plain": [
              "((35, 2), (14, 2))"
            ]
          },
          "metadata": {},
          "execution_count": 18
        }
      ]
    },
    {
      "cell_type": "code",
      "metadata": {
        "colab": {
          "base_uri": "https://localhost:8080/"
        },
        "id": "3D7p1N2MCR37",
        "outputId": "b258e799-5852-46fb-ed87-7a6ca373e8f5"
      },
      "source": [
        "y_train.shape, y_test.shape"
      ],
      "execution_count": 19,
      "outputs": [
        {
          "output_type": "execute_result",
          "data": {
            "text/plain": [
              "((35,), (14,))"
            ]
          },
          "metadata": {},
          "execution_count": 19
        }
      ]
    },
    {
      "cell_type": "markdown",
      "metadata": {
        "id": "ztG-Kdq_CuMK"
      },
      "source": [
        "데이터가 무작위로 섞여있지 않고 어종에 대해서 정렬된 상태였기 때문에, 훈련 셋/레이블에는 도미(Bream)만 선택되고, 테스트 셋/레이블에는 빙어(Smelt)만 선택됨.\n",
        "---> **샘플링 편향(sampling bias)**"
      ]
    },
    {
      "cell_type": "code",
      "metadata": {
        "colab": {
          "base_uri": "https://localhost:8080/"
        },
        "id": "G0_nddHyCdwz",
        "outputId": "50d951a3-42c5-4135-cfdb-64373e6ba43d"
      },
      "source": [
        "np.unique(y_train, return_counts=True)"
      ],
      "execution_count": 20,
      "outputs": [
        {
          "output_type": "execute_result",
          "data": {
            "text/plain": [
              "(array(['Bream'], dtype=object), array([35]))"
            ]
          },
          "metadata": {},
          "execution_count": 20
        }
      ]
    },
    {
      "cell_type": "code",
      "metadata": {
        "colab": {
          "base_uri": "https://localhost:8080/"
        },
        "id": "Nuu5wo39DCMU",
        "outputId": "2dcaf45e-9213-4cf9-91cc-7d4064263ae8"
      },
      "source": [
        "np.unique(y_test, return_counts=True)"
      ],
      "execution_count": 21,
      "outputs": [
        {
          "output_type": "execute_result",
          "data": {
            "text/plain": [
              "(array(['Smelt'], dtype=object), array([14]))"
            ]
          },
          "metadata": {},
          "execution_count": 21
        }
      ]
    },
    {
      "cell_type": "markdown",
      "metadata": {
        "id": "co6B0VepDybd"
      },
      "source": [
        "# KNN 모델 훈련, 평가"
      ]
    },
    {
      "cell_type": "code",
      "metadata": {
        "id": "b_VflprmDHMq"
      },
      "source": [
        "knn_clf = KNeighborsClassifier()  # KNN 모델 생성"
      ],
      "execution_count": 22,
      "outputs": []
    },
    {
      "cell_type": "code",
      "metadata": {
        "colab": {
          "base_uri": "https://localhost:8080/"
        },
        "id": "ZM6rcENpEAeb",
        "outputId": "01a39a96-fa5e-45df-b246-fd7b6c232556"
      },
      "source": [
        "knn_clf.fit(X=X_train, y=y_train)  # 모델 훈련, fitting"
      ],
      "execution_count": 23,
      "outputs": [
        {
          "output_type": "execute_result",
          "data": {
            "text/plain": [
              "KNeighborsClassifier(algorithm='auto', leaf_size=30, metric='minkowski',\n",
              "                     metric_params=None, n_jobs=None, n_neighbors=5, p=2,\n",
              "                     weights='uniform')"
            ]
          },
          "metadata": {},
          "execution_count": 23
        }
      ]
    },
    {
      "cell_type": "code",
      "metadata": {
        "colab": {
          "base_uri": "https://localhost:8080/"
        },
        "id": "cP25daULELGC",
        "outputId": "fa5d877b-3caf-449a-a54c-c60421d5cef1"
      },
      "source": [
        "# 훈련 셋 예측 결과\n",
        "train_pred = knn_clf.predict(X=X_train)\n",
        "train_pred"
      ],
      "execution_count": 24,
      "outputs": [
        {
          "output_type": "execute_result",
          "data": {
            "text/plain": [
              "array(['Bream', 'Bream', 'Bream', 'Bream', 'Bream', 'Bream', 'Bream',\n",
              "       'Bream', 'Bream', 'Bream', 'Bream', 'Bream', 'Bream', 'Bream',\n",
              "       'Bream', 'Bream', 'Bream', 'Bream', 'Bream', 'Bream', 'Bream',\n",
              "       'Bream', 'Bream', 'Bream', 'Bream', 'Bream', 'Bream', 'Bream',\n",
              "       'Bream', 'Bream', 'Bream', 'Bream', 'Bream', 'Bream', 'Bream'],\n",
              "      dtype=object)"
            ]
          },
          "metadata": {},
          "execution_count": 24
        }
      ]
    },
    {
      "cell_type": "code",
      "metadata": {
        "colab": {
          "base_uri": "https://localhost:8080/"
        },
        "id": "UXgmaUPBEXTi",
        "outputId": "edb86b10-b625-4953-d496-3700c125db63"
      },
      "source": [
        "train_acc = np.mean(y_train == train_pred)  # 훈련 셋에서의 정확도\n",
        "train_acc"
      ],
      "execution_count": 25,
      "outputs": [
        {
          "output_type": "execute_result",
          "data": {
            "text/plain": [
              "1.0"
            ]
          },
          "metadata": {},
          "execution_count": 25
        }
      ]
    },
    {
      "cell_type": "code",
      "metadata": {
        "colab": {
          "base_uri": "https://localhost:8080/"
        },
        "id": "nvXiPqe8EjOa",
        "outputId": "5c8230b2-bb73-446f-a92d-176619da256a"
      },
      "source": [
        "# 테스트 셋 예측 결과\n",
        "test_pred = knn_clf.predict(X=X_test)\n",
        "test_pred"
      ],
      "execution_count": 26,
      "outputs": [
        {
          "output_type": "execute_result",
          "data": {
            "text/plain": [
              "array(['Bream', 'Bream', 'Bream', 'Bream', 'Bream', 'Bream', 'Bream',\n",
              "       'Bream', 'Bream', 'Bream', 'Bream', 'Bream', 'Bream', 'Bream'],\n",
              "      dtype=object)"
            ]
          },
          "metadata": {},
          "execution_count": 26
        }
      ]
    },
    {
      "cell_type": "code",
      "metadata": {
        "colab": {
          "base_uri": "https://localhost:8080/"
        },
        "id": "rFASqbOZE9Ib",
        "outputId": "9f974f3a-c816-410e-8822-f1cad7aff887"
      },
      "source": [
        "np.mean(y_test == test_pred)  # 테스트 셋에서의 정확도"
      ],
      "execution_count": 29,
      "outputs": [
        {
          "output_type": "execute_result",
          "data": {
            "text/plain": [
              "0.0"
            ]
          },
          "metadata": {},
          "execution_count": 29
        }
      ]
    },
    {
      "cell_type": "markdown",
      "metadata": {
        "id": "pLUHhZLTFneE"
      },
      "source": [
        "`sklearn.model_selection_train_test_split` 함수를 사용한 훈련/테스트 셋 분리(sequential sampling)"
      ]
    },
    {
      "cell_type": "code",
      "metadata": {
        "id": "Sqx_lbumFvYx"
      },
      "source": [
        "X_train, X_test, y_train, y_test = train_test_split(X, y,  # 특성 행렬, 타겟 벡터\n",
        "                                                    train_size=35,  # 훈련 셋 원소 개수\n",
        "                                                    shuffle=False)  # 데이터를 랜덤하게 섞을 지 말 지 결정"
      ],
      "execution_count": 30,
      "outputs": []
    },
    {
      "cell_type": "code",
      "metadata": {
        "colab": {
          "base_uri": "https://localhost:8080/"
        },
        "id": "-xNpJqSQH77D",
        "outputId": "3b5a4989-4ceb-47dd-dd1f-f5df5d76de9a"
      },
      "source": [
        "X_train.shape, X_test.shape"
      ],
      "execution_count": 31,
      "outputs": [
        {
          "output_type": "execute_result",
          "data": {
            "text/plain": [
              "((35, 2), (14, 2))"
            ]
          },
          "metadata": {},
          "execution_count": 31
        }
      ]
    },
    {
      "cell_type": "code",
      "metadata": {
        "colab": {
          "base_uri": "https://localhost:8080/"
        },
        "id": "UC1ZrgDSH_dx",
        "outputId": "9b78f235-b4ef-41fe-c5bc-c8681f3e7759"
      },
      "source": [
        "y_train.shape, y_test.shape"
      ],
      "execution_count": 32,
      "outputs": [
        {
          "output_type": "execute_result",
          "data": {
            "text/plain": [
              "((35,), (14,))"
            ]
          },
          "metadata": {},
          "execution_count": 32
        }
      ]
    },
    {
      "cell_type": "code",
      "metadata": {
        "colab": {
          "base_uri": "https://localhost:8080/"
        },
        "id": "puVzIwj8IFdI",
        "outputId": "744c125e-ec19-41e0-e493-34ea6bd84141"
      },
      "source": [
        "y_train"
      ],
      "execution_count": 33,
      "outputs": [
        {
          "output_type": "execute_result",
          "data": {
            "text/plain": [
              "array(['Bream', 'Bream', 'Bream', 'Bream', 'Bream', 'Bream', 'Bream',\n",
              "       'Bream', 'Bream', 'Bream', 'Bream', 'Bream', 'Bream', 'Bream',\n",
              "       'Bream', 'Bream', 'Bream', 'Bream', 'Bream', 'Bream', 'Bream',\n",
              "       'Bream', 'Bream', 'Bream', 'Bream', 'Bream', 'Bream', 'Bream',\n",
              "       'Bream', 'Bream', 'Bream', 'Bream', 'Bream', 'Bream', 'Bream'],\n",
              "      dtype=object)"
            ]
          },
          "metadata": {},
          "execution_count": 33
        }
      ]
    },
    {
      "cell_type": "code",
      "metadata": {
        "colab": {
          "base_uri": "https://localhost:8080/"
        },
        "id": "1d1_4-m4IMaR",
        "outputId": "d63b27f1-e729-4690-c7f7-66e203ba4e32"
      },
      "source": [
        "y_test"
      ],
      "execution_count": 34,
      "outputs": [
        {
          "output_type": "execute_result",
          "data": {
            "text/plain": [
              "array(['Smelt', 'Smelt', 'Smelt', 'Smelt', 'Smelt', 'Smelt', 'Smelt',\n",
              "       'Smelt', 'Smelt', 'Smelt', 'Smelt', 'Smelt', 'Smelt', 'Smelt'],\n",
              "      dtype=object)"
            ]
          },
          "metadata": {},
          "execution_count": 34
        }
      ]
    },
    {
      "cell_type": "markdown",
      "metadata": {
        "id": "PQ9cONRIMH4A"
      },
      "source": [
        "# Random Sampling(임의 추출)"
      ]
    },
    {
      "cell_type": "code",
      "metadata": {
        "colab": {
          "base_uri": "https://localhost:8080/"
        },
        "id": "VRyaSnAyIN4R",
        "outputId": "289cf18f-4b80-47d6-bb64-0d1256d8b295"
      },
      "source": [
        "idx = np.arange(49)\n",
        "print(idx)\n",
        "np.random.shuffle(idx)\n",
        "print(idx)"
      ],
      "execution_count": 43,
      "outputs": [
        {
          "output_type": "stream",
          "text": [
            "[ 0  1  2  3  4  5  6  7  8  9 10 11 12 13 14 15 16 17 18 19 20 21 22 23\n",
            " 24 25 26 27 28 29 30 31 32 33 34 35 36 37 38 39 40 41 42 43 44 45 46 47\n",
            " 48]\n",
            "[12 38 31 10 30 44 41 33  1 45 47  9  0 22  5 43 23 15 34 20 25 26 35 36\n",
            " 14 39 37 27 32  6 19 16 28  7 11  2 40 17  4 42 46 18 29  3 13 24 21  8\n",
            " 48]\n"
          ],
          "name": "stdout"
        }
      ]
    },
    {
      "cell_type": "code",
      "metadata": {
        "id": "OR-GaECIM12Q"
      },
      "source": [
        "X_train, X_test, y_train, y_test = train_test_split(X, y,\n",
        "                                                    train_size=35,   # 훈련 셋 크기\n",
        "                                                    shuffle=True,    # 무작위로 섞음. True는 생략 가능(default)\n",
        "                                                    random_state=42) # 난수 seed 설정"
      ],
      "execution_count": 44,
      "outputs": []
    },
    {
      "cell_type": "code",
      "metadata": {
        "colab": {
          "base_uri": "https://localhost:8080/"
        },
        "id": "reAbZTd8O58Z",
        "outputId": "3d0f490e-e5a7-4eba-cf6b-f95d8474b977"
      },
      "source": [
        "# train/test의 모양(shape) 확인\n",
        "X_train.shape, X_test.shape"
      ],
      "execution_count": 45,
      "outputs": [
        {
          "output_type": "execute_result",
          "data": {
            "text/plain": [
              "((35, 2), (14, 2))"
            ]
          },
          "metadata": {},
          "execution_count": 45
        }
      ]
    },
    {
      "cell_type": "code",
      "metadata": {
        "colab": {
          "base_uri": "https://localhost:8080/"
        },
        "id": "RZVLTqIOPNBn",
        "outputId": "29a946fe-1bb0-4044-e2a3-93a33d829a8d"
      },
      "source": [
        "y_train.shape, y_test.shape"
      ],
      "execution_count": 46,
      "outputs": [
        {
          "output_type": "execute_result",
          "data": {
            "text/plain": [
              "((35,), (14,))"
            ]
          },
          "metadata": {},
          "execution_count": 46
        }
      ]
    },
    {
      "cell_type": "code",
      "metadata": {
        "colab": {
          "base_uri": "https://localhost:8080/"
        },
        "id": "6sqECRrgPTXv",
        "outputId": "18763247-d503-47ca-b880-caa23ebce351"
      },
      "source": [
        "np.unique(y_train, return_counts=True)"
      ],
      "execution_count": 47,
      "outputs": [
        {
          "output_type": "execute_result",
          "data": {
            "text/plain": [
              "(array(['Bream', 'Smelt'], dtype=object), array([24, 11]))"
            ]
          },
          "metadata": {},
          "execution_count": 47
        }
      ]
    },
    {
      "cell_type": "code",
      "metadata": {
        "colab": {
          "base_uri": "https://localhost:8080/"
        },
        "id": "L8qRU4D3PeI_",
        "outputId": "343d8d79-396b-44ed-c707-8211a6348c59"
      },
      "source": [
        "24/35, 11/35"
      ],
      "execution_count": 48,
      "outputs": [
        {
          "output_type": "execute_result",
          "data": {
            "text/plain": [
              "(0.6857142857142857, 0.3142857142857143)"
            ]
          },
          "metadata": {},
          "execution_count": 48
        }
      ]
    },
    {
      "cell_type": "code",
      "metadata": {
        "colab": {
          "base_uri": "https://localhost:8080/"
        },
        "id": "vQEdHAoOPib2",
        "outputId": "0a73b126-f517-4ac9-dd7d-03618a18dbd4"
      },
      "source": [
        "np.unique(y_test, return_counts=True)"
      ],
      "execution_count": 49,
      "outputs": [
        {
          "output_type": "execute_result",
          "data": {
            "text/plain": [
              "(array(['Bream', 'Smelt'], dtype=object), array([11,  3]))"
            ]
          },
          "metadata": {},
          "execution_count": 49
        }
      ]
    },
    {
      "cell_type": "code",
      "metadata": {
        "colab": {
          "base_uri": "https://localhost:8080/"
        },
        "id": "CKk62b7SPqKX",
        "outputId": "783ec088-9795-467d-c01d-7c25accdf0e6"
      },
      "source": [
        "11/14, 3/14"
      ],
      "execution_count": 50,
      "outputs": [
        {
          "output_type": "execute_result",
          "data": {
            "text/plain": [
              "(0.7857142857142857, 0.21428571428571427)"
            ]
          },
          "metadata": {},
          "execution_count": 50
        }
      ]
    },
    {
      "cell_type": "code",
      "metadata": {
        "colab": {
          "base_uri": "https://localhost:8080/",
          "height": 279
        },
        "id": "s9iiFvgGQHoW",
        "outputId": "a81d75ba-4ac7-47f9-cb3b-8af8c9bf37c3"
      },
      "source": [
        "# x_train, x_test 시각화 (Weight ~ Length)\n",
        "plt.scatter(X_train[:, 1], X_train[:, 0], label='Train')\n",
        "plt.scatter(X_test[:, 1], X_test[:, 0], label='Test')\n",
        "plt.legend()\n",
        "plt.xlabel('Length(cm)')\n",
        "plt.ylabel('Weight(g)')\n",
        "plt.show()"
      ],
      "execution_count": 53,
      "outputs": [
        {
          "output_type": "display_data",
          "data": {
            "image/png": "[encoded data removed]",
            "text/plain": [
              "<Figure size 432x288 with 1 Axes>"
            ]
          },
          "metadata": {
            "needs_background": "light"
          }
        }
      ]
    },
    {
      "cell_type": "markdown",
      "metadata": {
        "id": "X5Gx6r50RRCP"
      },
      "source": [
        "# 모델 훈련, 평가"
      ]
    },
    {
      "cell_type": "code",
      "metadata": {
        "id": "OsyhXtfVPuc2"
      },
      "source": [
        "knn_clf = KNeighborsClassifier()  # KNN 모델 생성"
      ],
      "execution_count": 54,
      "outputs": []
    },
    {
      "cell_type": "code",
      "metadata": {
        "colab": {
          "base_uri": "https://localhost:8080/"
        },
        "id": "T7gXsxb5RV4m",
        "outputId": "749e9abf-305c-4e03-8090-c1af0a5b2267"
      },
      "source": [
        "knn_clf.fit(X=X_train, y=y_train)  # 모델을 훈련 셋(특성과 레이블)에 fitting"
      ],
      "execution_count": 55,
      "outputs": [
        {
          "output_type": "execute_result",
          "data": {
            "text/plain": [
              "KNeighborsClassifier(algorithm='auto', leaf_size=30, metric='minkowski',\n",
              "                     metric_params=None, n_jobs=None, n_neighbors=5, p=2,\n",
              "                     weights='uniform')"
            ]
          },
          "metadata": {},
          "execution_count": 55
        }
      ]
    },
    {
      "cell_type": "code",
      "metadata": {
        "colab": {
          "base_uri": "https://localhost:8080/"
        },
        "id": "wCiR4j_URnsV",
        "outputId": "241e69f0-a269-43c0-9916-dc664489a207"
      },
      "source": [
        "# 훈련 셋에서의 평가\n",
        "train_pred = knn_clf.predict(X=X_train)  # 훈련 셋 예측값\n",
        "train_acc = np.mean(y_train == train_pred)  # 훈련 셋 정확도\n",
        "train_acc"
      ],
      "execution_count": 57,
      "outputs": [
        {
          "output_type": "execute_result",
          "data": {
            "text/plain": [
              "1.0"
            ]
          },
          "metadata": {},
          "execution_count": 57
        }
      ]
    },
    {
      "cell_type": "code",
      "metadata": {
        "colab": {
          "base_uri": "https://localhost:8080/"
        },
        "id": "kCdOPM2lR6s3",
        "outputId": "c05e7573-c437-4029-ef84-b96282f25cbb"
      },
      "source": [
        "confusion_matrix(y_true=y_train, y_pred=train_pred)  # 훈련 셋 오차(혼동) 행렬"
      ],
      "execution_count": 58,
      "outputs": [
        {
          "output_type": "execute_result",
          "data": {
            "text/plain": [
              "array([[24,  0],\n",
              "       [ 0, 11]])"
            ]
          },
          "metadata": {},
          "execution_count": 58
        }
      ]
    },
    {
      "cell_type": "code",
      "metadata": {
        "colab": {
          "base_uri": "https://localhost:8080/"
        },
        "id": "PLlSZGa5STEo",
        "outputId": "02c43047-8428-4fbf-96b9-ab3d1ca766f8"
      },
      "source": [
        "# 테스트 셋에서의 평가\n",
        "test_pred = knn_clf.predict(X=X_test)  # 테스트 셋 예측값\n",
        "test_acc = np.mean(y_test == test_pred)  # 테스트 셋 정확도\n",
        "test_acc"
      ],
      "execution_count": 59,
      "outputs": [
        {
          "output_type": "execute_result",
          "data": {
            "text/plain": [
              "1.0"
            ]
          },
          "metadata": {},
          "execution_count": 59
        }
      ]
    },
    {
      "cell_type": "code",
      "metadata": {
        "colab": {
          "base_uri": "https://localhost:8080/"
        },
        "id": "sb1GkpDDTEa_",
        "outputId": "bb1c425c-34e9-487e-a4ff-3ec4be8d0f08"
      },
      "source": [
        "confusion_matrix(y_test, test_pred)"
      ],
      "execution_count": 60,
      "outputs": [
        {
          "output_type": "execute_result",
          "data": {
            "text/plain": [
              "array([[11,  0],\n",
              "       [ 0,  3]])"
            ]
          },
          "metadata": {},
          "execution_count": 60
        }
      ]
    },
    {
      "cell_type": "code",
      "metadata": {
        "colab": {
          "base_uri": "https://localhost:8080/"
        },
        "id": "tMCoD8n3VHJ5",
        "outputId": "54b30cf5-74c3-40be-c3d9-35757221d817"
      },
      "source": [
        "report = classification_report(y_test, test_pred)\n",
        "print(report)"
      ],
      "execution_count": 61,
      "outputs": [
        {
          "output_type": "stream",
          "text": [
            "              precision    recall  f1-score   support\n",
            "\n",
            "       Bream       1.00      1.00      1.00        11\n",
            "       Smelt       1.00      1.00      1.00         3\n",
            "\n",
            "    accuracy                           1.00        14\n",
            "   macro avg       1.00      1.00      1.00        14\n",
            "weighted avg       1.00      1.00      1.00        14\n",
            "\n"
          ],
          "name": "stdout"
        }
      ]
    },
    {
      "cell_type": "markdown",
      "metadata": {
        "id": "Ug-apRALpJmM"
      },
      "source": [
        "**분류 평가 지표(classification metrics)**\n",
        "\n",
        "* 용어 정리\n",
        "    * TN(True Negative, 진짜 음성): 실제 음성(negative)인 것을 음성으로 맞게 예측.\n",
        "    * FP(False Positive, 가짜 양성): 실제 음성(negative)인 것을 양성(positive)으로 틀리게 예측.\n",
        "    * FN(False Negative, 가짜 음성): 실제 양성(positive)인 것을 음성(negative)으로 틀리게 예측.\n",
        "    * TP(True Positive, 진짜 양성): 실제 양성(positive)인 것을 양성으로 맞게 예측.\n",
        "\n",
        "* 정확도(accuracy): 샘플들을 정확하게 분류한 비율. 전체 샘플들 중 정답의 비율.\n",
        "> accuracy = (TN + TP) / (TN + FP + FN + TP)\n",
        "* 정밀도(precision): 양성 예측들 중 정답 비율. 양성으로 예측한 샘플들 중에서 정확하게 예측한 비율.\n",
        "> precision = TP / (FP + TP)\n",
        "* 재현율(recall): 실제 양성 샘플들 중 정답 비율. 실제로 양성인 샘플들 중에서 정확하게 예측한 비율.\n",
        "> recall = TP / (FN + TP)\n",
        "* F1-score: 정밀도와 재현율의 조화 평균(역수들의 평균의 역수)\n",
        "> f1 = 2 / (1/precission + 1/recall)\n"
      ]
    },
    {
      "cell_type": "markdown",
      "metadata": {
        "id": "nM17zljGuwdt"
      },
      "source": [
        "# Stratified Sampling(층화 추출)\n",
        "\n",
        "데이터 셋에서 각 클래스의 비율이 훈련 셋과 테스트 셋에서 같게 유지가 되도록 샘플링하는 방법."
      ]
    },
    {
      "cell_type": "code",
      "metadata": {
        "id": "u9tpAGdQUSSn"
      },
      "source": [
        "# 훈련 특성, 테스트 특성, 훈련 타겟, 테스트 타겟\n",
        "X_train, X_test, y_train, y_test = train_test_split(X, y,\n",
        "                                                    test_size=0.3,\n",
        "                                                    stratify=y,\n",
        "                                                    random_state=42)\n",
        "# test_size: 정수이면, 테스트 셋의 크기(샘플 개수). \n",
        "#   0.0 ~ 1.0 사이의 실수이면, 전체 샘플 중 테스트 셋의 비율.\n",
        "# train_size: 정수이면, 훈련 셋의 크기(샘플 개수).\n",
        "#   0.0 ~ 1.0 사이의 실수이면, 전체 샘플 중 훈련 셋의 비율.\n",
        "#> train_test_split() 함수를 호출할 때는 test_size 또는 train_size 중 하나만 설정하면 나머지는 자동으로 계산.\n",
        "# stratify: 층화 추출의 기준이 되는(각 클래스의 비율을 알 수 있는) 1d array."
      ],
      "execution_count": 63,
      "outputs": []
    },
    {
      "cell_type": "markdown",
      "metadata": {
        "id": "yWR5YkfXwLuf"
      },
      "source": [
        "훈련 셋과 테스트 셋의 shape 확인"
      ]
    },
    {
      "cell_type": "code",
      "metadata": {
        "colab": {
          "base_uri": "https://localhost:8080/"
        },
        "id": "LFxsKL5Cv54t",
        "outputId": "6d1eb2c8-1fbb-41fb-da5d-54746df987ab"
      },
      "source": [
        "X_train.shape, X_test.shape"
      ],
      "execution_count": 64,
      "outputs": [
        {
          "output_type": "execute_result",
          "data": {
            "text/plain": [
              "((34, 2), (15, 2))"
            ]
          },
          "metadata": {},
          "execution_count": 64
        }
      ]
    },
    {
      "cell_type": "code",
      "metadata": {
        "colab": {
          "base_uri": "https://localhost:8080/"
        },
        "id": "xsn-z9Jmv-v9",
        "outputId": "4b3fc7b6-8c5e-429e-a634-bddfe825f065"
      },
      "source": [
        "y_train.shape, y_test.shape"
      ],
      "execution_count": 65,
      "outputs": [
        {
          "output_type": "execute_result",
          "data": {
            "text/plain": [
              "((34,), (15,))"
            ]
          },
          "metadata": {},
          "execution_count": 65
        }
      ]
    },
    {
      "cell_type": "markdown",
      "metadata": {
        "id": "Gbk2ycPAwOv7"
      },
      "source": [
        "훈련 레이블과 테스트 레이블에서 도미(bream)과 빙어(smelt)의 비율 확인"
      ]
    },
    {
      "cell_type": "code",
      "metadata": {
        "colab": {
          "base_uri": "https://localhost:8080/"
        },
        "id": "XtL3EitDwFm7",
        "outputId": "0d646ef9-579c-4d43-ed50-b47bc203f67d"
      },
      "source": [
        "np.unique(y_train, return_counts=True)"
      ],
      "execution_count": 66,
      "outputs": [
        {
          "output_type": "execute_result",
          "data": {
            "text/plain": [
              "(array(['Bream', 'Smelt'], dtype=object), array([24, 10]))"
            ]
          },
          "metadata": {},
          "execution_count": 66
        }
      ]
    },
    {
      "cell_type": "code",
      "metadata": {
        "colab": {
          "base_uri": "https://localhost:8080/"
        },
        "id": "HAt1TL22wZtt",
        "outputId": "3ca21f4d-602d-43fe-dead-f573fc4cf0cb"
      },
      "source": [
        "24/34, 10/34  # 훈련 레이블에서 도미(bream), 빙어(smelt) 비율"
      ],
      "execution_count": 67,
      "outputs": [
        {
          "output_type": "execute_result",
          "data": {
            "text/plain": [
              "(0.7058823529411765, 0.29411764705882354)"
            ]
          },
          "metadata": {},
          "execution_count": 67
        }
      ]
    },
    {
      "cell_type": "code",
      "metadata": {
        "colab": {
          "base_uri": "https://localhost:8080/"
        },
        "id": "rJmrXtzLwewL",
        "outputId": "0f563140-3598-4394-d63f-299056e0f89c"
      },
      "source": [
        "np.unique(y_test, return_counts=True)"
      ],
      "execution_count": 68,
      "outputs": [
        {
          "output_type": "execute_result",
          "data": {
            "text/plain": [
              "(array(['Bream', 'Smelt'], dtype=object), array([11,  4]))"
            ]
          },
          "metadata": {},
          "execution_count": 68
        }
      ]
    },
    {
      "cell_type": "code",
      "metadata": {
        "colab": {
          "base_uri": "https://localhost:8080/"
        },
        "id": "oBKVXG7LwvGL",
        "outputId": "6f2dc874-04c8-41d3-f88c-a7b3fee60074"
      },
      "source": [
        "11/15, 4/15  # 테스트 레이블에서 도미(bream), 빙어(smelt) 비율"
      ],
      "execution_count": 69,
      "outputs": [
        {
          "output_type": "execute_result",
          "data": {
            "text/plain": [
              "(0.7333333333333333, 0.26666666666666666)"
            ]
          },
          "metadata": {},
          "execution_count": 69
        }
      ]
    },
    {
      "cell_type": "markdown",
      "metadata": {
        "id": "NmwF8OTp5_O1"
      },
      "source": [
        "# 모델 훈련, 평가"
      ]
    },
    {
      "cell_type": "code",
      "metadata": {
        "id": "8nfUfCS4wzRL"
      },
      "source": [
        "knn_clf = KNeighborsClassifier()  # 모델 생성"
      ],
      "execution_count": 70,
      "outputs": []
    },
    {
      "cell_type": "code",
      "metadata": {
        "colab": {
          "base_uri": "https://localhost:8080/"
        },
        "id": "Pwh9UBo56IL5",
        "outputId": "45a5989d-e41c-4399-99a5-ae3970a5500a"
      },
      "source": [
        "knn_clf.fit(X=X_train, y=y_train)  # 모델 훈련"
      ],
      "execution_count": 71,
      "outputs": [
        {
          "output_type": "execute_result",
          "data": {
            "text/plain": [
              "KNeighborsClassifier(algorithm='auto', leaf_size=30, metric='minkowski',\n",
              "                     metric_params=None, n_jobs=None, n_neighbors=5, p=2,\n",
              "                     weights='uniform')"
            ]
          },
          "metadata": {},
          "execution_count": 71
        }
      ]
    },
    {
      "cell_type": "code",
      "metadata": {
        "colab": {
          "base_uri": "https://localhost:8080/"
        },
        "id": "DlODGl_J6eev",
        "outputId": "a3b37ad5-bcf3-403b-e458-d6e7280a656f"
      },
      "source": [
        "# 훈련 셋에서 평가\n",
        "train_pred = knn_clf.predict(X_train)  # 훈련 셋 예측값\n",
        "accuracy_score(y_true=y_train, y_pred=train_pred)  # 훈련 셋 정확도"
      ],
      "execution_count": 72,
      "outputs": [
        {
          "output_type": "execute_result",
          "data": {
            "text/plain": [
              "1.0"
            ]
          },
          "metadata": {},
          "execution_count": 72
        }
      ]
    },
    {
      "cell_type": "code",
      "metadata": {
        "colab": {
          "base_uri": "https://localhost:8080/"
        },
        "id": "JCaxEw1i7YRk",
        "outputId": "6b76f84b-007d-4555-c713-0db60d30eb49"
      },
      "source": [
        "# 테스트 셋에서 평가\n",
        "test_pred = knn_clf.predict(X_test)  # 테스트 셋 예측값\n",
        "accuracy_score(y_true=y_test, y_pred=test_pred)  # 테스트 셋 정확도"
      ],
      "execution_count": 74,
      "outputs": [
        {
          "output_type": "execute_result",
          "data": {
            "text/plain": [
              "1.0"
            ]
          },
          "metadata": {},
          "execution_count": 74
        }
      ]
    },
    {
      "cell_type": "code",
      "metadata": {
        "colab": {
          "base_uri": "https://localhost:8080/"
        },
        "id": "Aah2Gxpi8hfn",
        "outputId": "8271489b-af55-4f94-d498-9a74f260ed84"
      },
      "source": [
        "confusion_matrix(y_test, test_pred)  # 테스트 셋 오차(혼동) 행렬"
      ],
      "execution_count": 75,
      "outputs": [
        {
          "output_type": "execute_result",
          "data": {
            "text/plain": [
              "array([[11,  0],\n",
              "       [ 0,  4]])"
            ]
          },
          "metadata": {},
          "execution_count": 75
        }
      ]
    },
    {
      "cell_type": "code",
      "metadata": {
        "id": "7sQR6_Mz85rn"
      },
      "source": [
        ""
      ],
      "execution_count": null,
      "outputs": []
    },
    {
      "cell_type": "markdown",
      "metadata": {
        "id": "QmJXOUuQ9HQI"
      },
      "source": [
        "# 특성 스케일링(feature scaling)"
      ]
    },
    {
      "cell_type": "markdown",
      "metadata": {
        "id": "aAQMwkYu9Osa"
      },
      "source": [
        "## 특성 스케일링의 필요성"
      ]
    },
    {
      "cell_type": "code",
      "metadata": {
        "colab": {
          "base_uri": "https://localhost:8080/",
          "height": 279
        },
        "id": "VHqGk-m89c5x",
        "outputId": "b4f5b6f5-7fca-46ae-e5ad-b20c172b8b1d"
      },
      "source": [
        "# 훈련 셋(x축: Length, y축: Weight) 시각화\n",
        "plt.scatter(X_train[:, 1], X_train[:, 0], label='Train')\n",
        "\n",
        "# 가상의 테스트 데이터(25cm, 150g 생선) 시각화\n",
        "plt.scatter(25, 150, label='Unknown', marker='v', color='red')\n",
        "\n",
        "plt.xlabel('Length(cm)')\n",
        "plt.ylabel('Weight(g)')\n",
        "plt.legend()\n",
        "plt.show()"
      ],
      "execution_count": 80,
      "outputs": [
        {
          "output_type": "display_data",
          "data": {
            "image/png": "[encoded data removed]",
            "text/plain": [
              "<Figure size 432x288 with 1 Axes>"
            ]
          },
          "metadata": {
            "needs_background": "light"
          }
        }
      ]
    },
    {
      "cell_type": "code",
      "metadata": {
        "colab": {
          "base_uri": "https://localhost:8080/"
        },
        "id": "gM5FOLKU-1w5",
        "outputId": "de98a6fa-78d7-4407-9a42-6e53394e56ff"
      },
      "source": [
        "# 가상의 테스트 데이터를 만들고, 위에서 훈련된 knn_clf로 예측값을 찾아보세요.\n",
        "test_fish = [[150, 25]]  # 150g, 25cm 가상의 생선 ---> (1, 2) shape을 갖는 2d array\n",
        "knn_clf.predict(test_fish)  #> 빙어(smelt)"
      ],
      "execution_count": 84,
      "outputs": [
        {
          "output_type": "execute_result",
          "data": {
            "text/plain": [
              "array(['Smelt'], dtype=object)"
            ]
          },
          "metadata": {},
          "execution_count": 84
        }
      ]
    },
    {
      "cell_type": "code",
      "metadata": {
        "colab": {
          "base_uri": "https://localhost:8080/"
        },
        "id": "kWEEWE75E8Nz",
        "outputId": "f0bb07cc-81b2-45ab-f49d-fb0915aa475b"
      },
      "source": [
        "# 가상의 테스트 데이터의 5개의 가장 가까운 이웃들(nearest neighbors)의 배열\n",
        "distances, neigh_indices = knn_clf.kneighbors(X=test_fish)\n",
        "print(distances)  #> (1, 5) shape의 2d array\n",
        "print(neigh_indices)  # (1, 5) shape의 2d array"
      ],
      "execution_count": 85,
      "outputs": [
        {
          "output_type": "stream",
          "text": [
            "[[ 92.00086956 130.73859415 137.17988191 138.39320793 140.00603558]]\n",
            "[[ 2  5 26 32 11]]\n"
          ],
          "name": "stdout"
        }
      ]
    },
    {
      "cell_type": "code",
      "metadata": {
        "colab": {
          "base_uri": "https://localhost:8080/"
        },
        "id": "00ENBHRIFxot",
        "outputId": "d6137b21-a760-4ee3-a3fd-b0f37a70c2ca"
      },
      "source": [
        "# 5개의 가장 가까운 이웃들\n",
        "near_neigh = X_train[neigh_indices[0]]\n",
        "near_neigh"
      ],
      "execution_count": 86,
      "outputs": [
        {
          "output_type": "execute_result",
          "data": {
            "text/plain": [
              "array([[242. ,  25.4],\n",
              "       [ 19.7,  14.3],\n",
              "       [ 13.4,  12.4],\n",
              "       [ 12.2,  12.2],\n",
              "       [290. ,  26.3]])"
            ]
          },
          "metadata": {},
          "execution_count": 86
        }
      ]
    },
    {
      "cell_type": "code",
      "metadata": {
        "colab": {
          "base_uri": "https://localhost:8080/",
          "height": 279
        },
        "id": "QmJLTp8OJQ70",
        "outputId": "0d701fa6-178e-4a6f-82de-18c29daa6230"
      },
      "source": [
        "# 훈련 셋(x축: Length, y축: Weight) 시각화\n",
        "plt.scatter(X_train[:, 1], X_train[:, 0], label='Train', alpha=0.5)\n",
        "\n",
        "# 가상의 테스트 데이터(25cm, 150g 생선) 시각화\n",
        "plt.scatter(25, 150, label='Unknown', marker='v', color='red')\n",
        "\n",
        "# 가상의 생선에서 가장 가까운 이웃(훈련 셋)들 시각화\n",
        "plt.scatter(near_neigh[:, 1], near_neigh[:, 0], label='Nearest Neighbors',\n",
        "            marker='D', color='yellow')\n",
        "\n",
        "plt.xlabel('Length(cm)')\n",
        "plt.ylabel('Weight(g)')\n",
        "plt.legend()\n",
        "plt.show()"
      ],
      "execution_count": 91,
      "outputs": [
        {
          "output_type": "display_data",
          "data": {
            "image/png": "[encoded data removed]",
            "text/plain": [
              "<Figure size 432x288 with 1 Axes>"
            ]
          },
          "metadata": {
            "needs_background": "light"
          }
        }
      ]
    },
    {
      "cell_type": "markdown",
      "metadata": {
        "id": "i-ICTn1NKYuj"
      },
      "source": [
        "* 생선의 두 특성(길이, 무게)는 서로 단위(cm, g)가 다르기 때문에, 값의 범위도 매우 다름.\n",
        "    * 길이 범위: 0 ~ 50 cm, 무게 범위: 0 ~ 1,000 g\n",
        "    * 특성(변수)들의 스케일이 다름!\n",
        "    * 가장 가까운 이웃을 찾기 위해서 거리를 계산할 때, 생선의 길이가 거리에 미치는 영향은 생선의 무게가 거리에 미치는 영향에 비해 작음.\n",
        "    * 예측을 할 때 거리 계산에 영향이 적은 변수(특성)는 무시되기 쉬움.\n",
        "    * 예측 결과가 부정확해 질 수 있음.\n",
        "* KNN과 같이 거리 기반의 머신 러닝 알고리즘에서는, 모델을 훈련하기 전에 모든 특성(변수)들을 비슷한 스케일이 되도록 전처리(preprocessing)를 할 필요가 있음!\n",
        "    * **표준화(standardization)**: *훈련 셋*의 평균과 표준편차를 사용해서, 평균이 0이 되고 표준편차가 1이 되도록 스케일을 변환하는 것.\n",
        "    * **정규화(normalization)**: *훈련 셋*의 최솟값과 최댓값을 사용해서, 최솟값은 0이 되고 최댓값은 1이 되도록 스케일을 변환하는 것."
      ]
    }
  ]
}
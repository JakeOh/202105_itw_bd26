{
  "nbformat": 4,
  "nbformat_minor": 0,
  "metadata": {
    "colab": {
      "name": "ml13_svm.ipynb",
      "provenance": [],
      "collapsed_sections": [],
      "authorship_tag": "ABX9TyMwVYuCr3aoA/ON1Ut7hhoy",
      "include_colab_link": true
    },
    "kernelspec": {
      "name": "python3",
      "display_name": "Python 3"
    },
    "language_info": {
      "name": "python"
    }
  },
  "cells": [
    {
      "cell_type": "markdown",
      "metadata": {
        "id": "view-in-github",
        "colab_type": "text"
      },
      "source": [
        "<a href=\"https://colab.research.google.com/github/JakeOh/202105_itw_bd26/blob/main/lab_ml/ml13_svm.ipynb\" target=\"_parent\"><img src=\"https://colab.research.google.com/assets/colab-badge.svg\" alt=\"Open In Colab\"/></a>"
      ]
    },
    {
      "cell_type": "markdown",
      "metadata": {
        "id": "mVnzZtyzR0TW"
      },
      "source": [
        "# Imports"
      ]
    },
    {
      "cell_type": "code",
      "metadata": {
        "id": "TuThG6GjNtkH"
      },
      "source": [
        "import numpy as np\n",
        "import matplotlib.pyplot as plt\n",
        "from matplotlib.colors import ListedColormap  # contour plot\n",
        "\n",
        "from sklearn import datasets\n",
        "from sklearn.preprocessing import StandardScaler\n",
        "from sklearn.pipeline import Pipeline\n",
        "from sklearn.svm import LinearSVC, SVC  # SVM을 이용한 분류(Classification)\n",
        "from sklearn.svm import LinearSVR, SVR  # SVM을 이용한 회귀(Regression)"
      ],
      "execution_count": 1,
      "outputs": []
    },
    {
      "cell_type": "markdown",
      "metadata": {
        "id": "acsQq3ijTRFl"
      },
      "source": [
        "# Linear SVM Classification(선형 SVM 분류)"
      ]
    },
    {
      "cell_type": "code",
      "metadata": {
        "id": "Q77lYlKgTOPO"
      },
      "source": [
        "# iris 데이터 셋을 로드\n",
        "iris = datasets.load_iris()"
      ],
      "execution_count": 2,
      "outputs": []
    },
    {
      "cell_type": "code",
      "metadata": {
        "id": "25gvVzspTepU"
      },
      "source": [
        "# iris에서 특성 2개(petal length, petal width) 선택, 클래스 2개(setosa, versicolor) 선택\n",
        "features = iris['data']  # (150, 4) shape의 2d array\n",
        "target = iris['target']  # (150,) shape의 1d array"
      ],
      "execution_count": 5,
      "outputs": []
    },
    {
      "cell_type": "code",
      "metadata": {
        "id": "vHbunmMCUJDl"
      },
      "source": [
        "X = features[:100, -2:]\n",
        "y = target[:100]"
      ],
      "execution_count": 6,
      "outputs": []
    },
    {
      "cell_type": "code",
      "metadata": {
        "colab": {
          "base_uri": "https://localhost:8080/"
        },
        "id": "LRVWGhCeUkZb",
        "outputId": "26d1e556-31ca-4a8e-d970-f7260eb19304"
      },
      "source": [
        "X.shape  # (100, 2)"
      ],
      "execution_count": 7,
      "outputs": [
        {
          "output_type": "execute_result",
          "data": {
            "text/plain": [
              "(100, 2)"
            ]
          },
          "metadata": {},
          "execution_count": 7
        }
      ]
    },
    {
      "cell_type": "code",
      "metadata": {
        "colab": {
          "base_uri": "https://localhost:8080/"
        },
        "id": "S2F9pn5HUpxD",
        "outputId": "bbddc859-4848-47d6-a4b9-f71995bae4c6"
      },
      "source": [
        "y.shape  # (100,)"
      ],
      "execution_count": 8,
      "outputs": [
        {
          "output_type": "execute_result",
          "data": {
            "text/plain": [
              "(100,)"
            ]
          },
          "metadata": {},
          "execution_count": 8
        }
      ]
    },
    {
      "cell_type": "code",
      "metadata": {
        "colab": {
          "base_uri": "https://localhost:8080/",
          "height": 279
        },
        "id": "T5KLQXkeUtlL",
        "outputId": "e9e018ff-fdd1-4fba-afc8-7bc45f85d2d8"
      },
      "source": [
        "# 샘플들 시각화\n",
        "plt.scatter(X[:50, 0], X[:50, 1], label='setosa')\n",
        "plt.scatter(X[50:, 0], X[50:, 1], label='versicolor')\n",
        "plt.grid()\n",
        "plt.legend()\n",
        "plt.xlabel('petal length')\n",
        "plt.ylabel('petal width')\n",
        "plt.show()"
      ],
      "execution_count": 13,
      "outputs": [
        {
          "output_type": "display_data",
          "data": {
            "image/png": "[encoded data removed]",
            "text/plain": [
              "<Figure size 432x288 with 1 Axes>"
            ]
          },
          "metadata": {
            "needs_background": "light"
          }
        }
      ]
    },
    {
      "cell_type": "code",
      "metadata": {
        "id": "Srv0yT94U8pD"
      },
      "source": [
        "# 특성들을 표준화\n",
        "scaler = StandardScaler()\n",
        "X_scaled = scaler.fit_transform(X)"
      ],
      "execution_count": 14,
      "outputs": []
    },
    {
      "cell_type": "code",
      "metadata": {
        "colab": {
          "base_uri": "https://localhost:8080/",
          "height": 279
        },
        "id": "OmXyrCF5V05T",
        "outputId": "92996d0d-14d2-4835-980d-d3ecb8d27585"
      },
      "source": [
        "# 스케일링된 특성들을 시각화\n",
        "plt.scatter(X_scaled[:50, 0], X_scaled[:50, 1], label='setosa')\n",
        "plt.scatter(X_scaled[50:, 0], X_scaled[50:, 1], label='versicolor')\n",
        "plt.grid()\n",
        "plt.legend()\n",
        "plt.xlabel('petal length')\n",
        "plt.ylabel('petal width')\n",
        "plt.show()"
      ],
      "execution_count": 15,
      "outputs": [
        {
          "output_type": "display_data",
          "data": {
            "image/png": "[encoded data removed]",
            "text/plain": [
              "<Figure size 432x288 with 1 Axes>"
            ]
          },
          "metadata": {
            "needs_background": "light"
          }
        }
      ]
    },
    {
      "cell_type": "code",
      "metadata": {
        "id": "ECiW3Zk3WVIN"
      },
      "source": [
        "# 선형 SVM 분류기 생성\n",
        "lin_svc = LinearSVC(random_state=0)"
      ],
      "execution_count": 16,
      "outputs": []
    },
    {
      "cell_type": "code",
      "metadata": {
        "colab": {
          "base_uri": "https://localhost:8080/"
        },
        "id": "ynJAW08OW-AD",
        "outputId": "a796a9c3-b437-489a-a783-54352c60364e"
      },
      "source": [
        "# 모델 훈련\n",
        "lin_svc.fit(X_scaled, y)"
      ],
      "execution_count": 17,
      "outputs": [
        {
          "output_type": "execute_result",
          "data": {
            "text/plain": [
              "LinearSVC(C=1.0, class_weight=None, dual=True, fit_intercept=True,\n",
              "          intercept_scaling=1, loss='squared_hinge', max_iter=1000,\n",
              "          multi_class='ovr', penalty='l2', random_state=0, tol=0.0001,\n",
              "          verbose=0)"
            ]
          },
          "metadata": {},
          "execution_count": 17
        }
      ]
    },
    {
      "cell_type": "markdown",
      "metadata": {
        "id": "yjb7SbMcXIAb"
      },
      "source": [
        "SVM 분류기를 훈련(데이터에 맞춤)시킨다는 것은 클래스 사이의 마진(margin)이 최대가 되는 초평면(hyperplane)을 찾는다는 의미. 초평면의 방정식을 찾는다는 의미.\n",
        "\n",
        "$$\n",
        "w_0 + w_1 x_1 + w_2 x_2 = 0\n",
        "$$\n",
        "\n",
        "위 방정식에서 계수들($ w_0, w_1, w_2 $)을 찾는다는 의미."
      ]
    },
    {
      "cell_type": "code",
      "metadata": {
        "colab": {
          "base_uri": "https://localhost:8080/"
        },
        "id": "dXqQ91I5XGEz",
        "outputId": "1fdac7a1-700d-45b7-9fb7-f622810d3959"
      },
      "source": [
        "lin_svc.intercept_"
      ],
      "execution_count": 18,
      "outputs": [
        {
          "output_type": "execute_result",
          "data": {
            "text/plain": [
              "array([0.26072943])"
            ]
          },
          "metadata": {},
          "execution_count": 18
        }
      ]
    },
    {
      "cell_type": "code",
      "metadata": {
        "id": "hIv5hZmHZjaD"
      },
      "source": [
        "w0 = lin_svc.intercept_[0]"
      ],
      "execution_count": 20,
      "outputs": []
    },
    {
      "cell_type": "code",
      "metadata": {
        "colab": {
          "base_uri": "https://localhost:8080/"
        },
        "id": "eRK4fjJGZFml",
        "outputId": "101d832b-560f-45ad-a8b0-6000b0638d05"
      },
      "source": [
        "lin_svc.coef_"
      ],
      "execution_count": 19,
      "outputs": [
        {
          "output_type": "execute_result",
          "data": {
            "text/plain": [
              "array([[0.90013736, 0.83424108]])"
            ]
          },
          "metadata": {},
          "execution_count": 19
        }
      ]
    },
    {
      "cell_type": "code",
      "metadata": {
        "id": "xr0Fi5RfZGxD"
      },
      "source": [
        "w1, w2 = lin_svc.coef_[0]"
      ],
      "execution_count": 22,
      "outputs": []
    },
    {
      "cell_type": "code",
      "metadata": {
        "colab": {
          "base_uri": "https://localhost:8080/",
          "height": 283
        },
        "id": "5TdNFJueZrha",
        "outputId": "95ee63c7-67ba-4a2d-d478-48a3649dbb35"
      },
      "source": [
        "# 데이터와 SVM이 찾은 hyperplane(직선)을 시각화\n",
        "plt.scatter(X_scaled[:50, 0], X_scaled[:50, 1], label='setosa')\n",
        "plt.scatter(X_scaled[50:, 0], X_scaled[50:, 1], label='versicolor')\n",
        "\n",
        "# SVM 머신이 찾은 hyperplane\n",
        "xs = np.arange(-1.0, 1.0, 0.01)\n",
        "ys = -(1/w2) * (w0 + w1 * xs)\n",
        "plt.plot(xs, ys, 'r-')\n",
        "plt.plot(xs, ys+1, 'k:')  # margin 평면\n",
        "plt.plot(xs, ys-1, 'k:')  # margin 평면\n",
        "\n",
        "plt.grid()\n",
        "plt.legend()\n",
        "plt.xlabel('petal length(x1)')\n",
        "plt.ylabel('petal width(x2)')\n",
        "plt.show()"
      ],
      "execution_count": 25,
      "outputs": [
        {
          "output_type": "display_data",
          "data": {
            "image/png": "[encoded data removed]",
            "text/plain": [
              "<Figure size 432x288 with 1 Axes>"
            ]
          },
          "metadata": {
            "needs_background": "light"
          }
        }
      ]
    },
    {
      "cell_type": "code",
      "metadata": {
        "colab": {
          "base_uri": "https://localhost:8080/"
        },
        "id": "mbn2HdVhaGtc",
        "outputId": "f949b946-8d8e-4a0a-9e98-cae16d0551ca"
      },
      "source": [
        "lin_svc.score(X_scaled, y)  # 훈련 셋에서의 정확도"
      ],
      "execution_count": 27,
      "outputs": [
        {
          "output_type": "execute_result",
          "data": {
            "text/plain": [
              "1.0"
            ]
          },
          "metadata": {},
          "execution_count": 27
        }
      ]
    },
    {
      "cell_type": "code",
      "metadata": {
        "id": "G26g6ns0b2Nt"
      },
      "source": [
        ""
      ],
      "execution_count": null,
      "outputs": []
    }
  ]
}
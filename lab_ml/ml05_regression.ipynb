{
  "nbformat": 4,
  "nbformat_minor": 0,
  "metadata": {
    "colab": {
      "name": "ml05_regression.ipynb",
      "provenance": [],
      "authorship_tag": "ABX9TyNzheT+E73wGZO06ZFLw9lW",
      "include_colab_link": true
    },
    "kernelspec": {
      "name": "python3",
      "display_name": "Python 3"
    },
    "language_info": {
      "name": "python"
    }
  },
  "cells": [
    {
      "cell_type": "markdown",
      "metadata": {
        "id": "view-in-github",
        "colab_type": "text"
      },
      "source": [
        "<a href=\"https://colab.research.google.com/github/JakeOh/202105_itw_bd26/blob/main/lab_ml/ml05_regression.ipynb\" target=\"_parent\"><img src=\"https://colab.research.google.com/assets/colab-badge.svg\" alt=\"Open In Colab\"/></a>"
      ]
    },
    {
      "cell_type": "markdown",
      "metadata": {
        "id": "mxkq2Al751So"
      },
      "source": [
        "* Machine Learning(기계 학습)\n",
        "    * 지도학습(Superivised Learning): 레이블이 있는 데이터를 학습\n",
        "        * 분류(Classification): 클래스 분류\n",
        "        * 회귀(Regression): 숫자 예측\n",
        "    * 비지도학습(Unsupervised Learning): 레이블이 없는 데이터를 학습\n",
        "    * 강화학습(Reinforeced Learning): 보상/벌칙을 통해서 학습"
      ]
    },
    {
      "cell_type": "code",
      "metadata": {
        "id": "FIWDgzR25sK7"
      },
      "source": [
        ""
      ],
      "execution_count": null,
      "outputs": []
    }
  ]
}
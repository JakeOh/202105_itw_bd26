{
  "nbformat": 4,
  "nbformat_minor": 0,
  "metadata": {
    "colab": {
      "name": "ml01_numpy.ipynb",
      "provenance": [],
      "collapsed_sections": [],
      "authorship_tag": "ABX9TyNW069stesbLYjUAvzVaLHq",
      "include_colab_link": true
    },
    "kernelspec": {
      "name": "python3",
      "display_name": "Python 3"
    },
    "language_info": {
      "name": "python"
    }
  },
  "cells": [
    {
      "cell_type": "markdown",
      "metadata": {
        "id": "view-in-github",
        "colab_type": "text"
      },
      "source": [
        "<a href=\"https://colab.research.google.com/github/JakeOh/202105_itw_bd26/blob/main/lab_ml/ml01_numpy.ipynb\" target=\"_parent\"><img src=\"https://colab.research.google.com/assets/colab-badge.svg\" alt=\"Open In Colab\"/></a>"
      ]
    },
    {
      "cell_type": "code",
      "metadata": {
        "id": "R6x94ASUd6ev"
      },
      "source": [
        "import numpy as np\n",
        "import pandas as pd\n",
        "import matplotlib.pyplot as plt"
      ],
      "execution_count": 1,
      "outputs": []
    },
    {
      "cell_type": "markdown",
      "metadata": {
        "id": "ksE2cpm54CmK"
      },
      "source": [
        "# `np.ndarray` 속성(attribute)"
      ]
    },
    {
      "cell_type": "code",
      "metadata": {
        "colab": {
          "base_uri": "https://localhost:8080/"
        },
        "id": "1yI4sxJvfh7R",
        "outputId": "ba05fe9b-4327-4701-fbc0-f533299c9c29"
      },
      "source": [
        "# 모든 원소가 1.0인 배열 생성\n",
        "arr = np.ones((3, 4))  # 파라미터 dtype의 기본값은 np.float64(64bits에 저장되는 실수) 타입.\n",
        "print(arr)"
      ],
      "execution_count": 2,
      "outputs": [
        {
          "output_type": "stream",
          "text": [
            "[[1. 1. 1. 1.]\n",
            " [1. 1. 1. 1.]\n",
            " [1. 1. 1. 1.]]\n"
          ],
          "name": "stdout"
        }
      ]
    },
    {
      "cell_type": "markdown",
      "metadata": {
        "id": "SjrUY40HhBT2"
      },
      "source": [
        "`ndarray` 클래스의 속성들(attributes)"
      ]
    },
    {
      "cell_type": "code",
      "metadata": {
        "colab": {
          "base_uri": "https://localhost:8080/"
        },
        "id": "IufTmifehFiO",
        "outputId": "8a1b05c7-05e2-4ea0-bbf4-ee94b9d25826"
      },
      "source": [
        "arr.dtype  # 배열 원소의 데이터 타입"
      ],
      "execution_count": 3,
      "outputs": [
        {
          "output_type": "execute_result",
          "data": {
            "text/plain": [
              "dtype('float64')"
            ]
          },
          "metadata": {},
          "execution_count": 3
        }
      ]
    },
    {
      "cell_type": "code",
      "metadata": {
        "colab": {
          "base_uri": "https://localhost:8080/"
        },
        "id": "qCIouvEtiKv3",
        "outputId": "bac805c0-404f-4413-d42e-a6926f18eec8"
      },
      "source": [
        "arr.shape  # 배열의 각 축(axis)을 따라서 있는 원소들의 개수들의 tuple"
      ],
      "execution_count": 4,
      "outputs": [
        {
          "output_type": "execute_result",
          "data": {
            "text/plain": [
              "(3, 4)"
            ]
          },
          "metadata": {},
          "execution_count": 4
        }
      ]
    },
    {
      "cell_type": "code",
      "metadata": {
        "colab": {
          "base_uri": "https://localhost:8080/"
        },
        "id": "GnQgy6dliYev",
        "outputId": "9c7db261-d5a1-4e0b-86d4-b59631fcffa8"
      },
      "source": [
        "arr.size  # 배열의 전체 원소 개수"
      ],
      "execution_count": 5,
      "outputs": [
        {
          "output_type": "execute_result",
          "data": {
            "text/plain": [
              "12"
            ]
          },
          "metadata": {},
          "execution_count": 5
        }
      ]
    },
    {
      "cell_type": "code",
      "metadata": {
        "colab": {
          "base_uri": "https://localhost:8080/"
        },
        "id": "COpHsojfj1iv",
        "outputId": "374d62c8-7874-4ddc-bcba-0acd5a690fc0"
      },
      "source": [
        "arr.ndim  # 배열의 차원의 개수. 배열의 축(axis)의 개수"
      ],
      "execution_count": 6,
      "outputs": [
        {
          "output_type": "execute_result",
          "data": {
            "text/plain": [
              "2"
            ]
          },
          "metadata": {},
          "execution_count": 6
        }
      ]
    },
    {
      "cell_type": "code",
      "metadata": {
        "colab": {
          "base_uri": "https://localhost:8080/"
        },
        "id": "MHh42BUGkkZo",
        "outputId": "00f137b1-fac2-4e77-f84d-ba30c8cf961d"
      },
      "source": [
        "# [1, 6) 범위의 정수들로 이루어진 1차원 배열\n",
        "arr =  np.arange(1, 6)\n",
        "print(arr)"
      ],
      "execution_count": 7,
      "outputs": [
        {
          "output_type": "stream",
          "text": [
            "[1 2 3 4 5]\n"
          ],
          "name": "stdout"
        }
      ]
    },
    {
      "cell_type": "code",
      "metadata": {
        "colab": {
          "base_uri": "https://localhost:8080/"
        },
        "id": "pGkP5awak0pY",
        "outputId": "b6831030-bd92-4bd8-caa7-44b3cc51c35a"
      },
      "source": [
        "print('dtype:', arr.dtype)\n",
        "print('shape:', arr.shape)\n",
        "print('size:', arr.size)\n",
        "print('ndim:', arr.ndim)"
      ],
      "execution_count": 9,
      "outputs": [
        {
          "output_type": "stream",
          "text": [
            "dtype: int64\n",
            "shape: (5,)\n",
            "size: 5\n",
            "ndim: 1\n"
          ],
          "name": "stdout"
        }
      ]
    },
    {
      "cell_type": "code",
      "metadata": {
        "colab": {
          "base_uri": "https://localhost:8080/"
        },
        "id": "nNM6gmNDlSau",
        "outputId": "b88ad793-731a-49b3-e9dc-868d851f84ed"
      },
      "source": [
        "# 3차원 배열\n",
        "arr = np.arange(1, 25).reshape((2, 3, 4))\n",
        "print(arr)"
      ],
      "execution_count": 10,
      "outputs": [
        {
          "output_type": "stream",
          "text": [
            "[[[ 1  2  3  4]\n",
            "  [ 5  6  7  8]\n",
            "  [ 9 10 11 12]]\n",
            "\n",
            " [[13 14 15 16]\n",
            "  [17 18 19 20]\n",
            "  [21 22 23 24]]]\n"
          ],
          "name": "stdout"
        }
      ]
    },
    {
      "cell_type": "code",
      "metadata": {
        "colab": {
          "base_uri": "https://localhost:8080/"
        },
        "id": "X7bkCRnvs35C",
        "outputId": "8691797c-719d-4230-bc4a-b82f55ebed2b"
      },
      "source": [
        "print('dtype:', arr.dtype)\n",
        "print('ndim:', arr.ndim)\n",
        "print('shape:', arr.shape)\n",
        "print('size:', arr.size)"
      ],
      "execution_count": 13,
      "outputs": [
        {
          "output_type": "stream",
          "text": [
            "dtype: int64\n",
            "ndim: 3\n",
            "shape: (2, 3, 4)\n",
            "size: 24\n"
          ],
          "name": "stdout"
        }
      ]
    },
    {
      "cell_type": "markdown",
      "metadata": {
        "id": "eEGpdosq4LUx"
      },
      "source": [
        "# `np.ndarray` indexing"
      ]
    },
    {
      "cell_type": "code",
      "metadata": {
        "colab": {
          "base_uri": "https://localhost:8080/"
        },
        "id": "LqFA8MMzvkLg",
        "outputId": "ed915b00-fa54-4ebb-ad27-de91c11742fc"
      },
      "source": [
        "print(arr[0])"
      ],
      "execution_count": 14,
      "outputs": [
        {
          "output_type": "stream",
          "text": [
            "[[ 1  2  3  4]\n",
            " [ 5  6  7  8]\n",
            " [ 9 10 11 12]]\n"
          ],
          "name": "stdout"
        }
      ]
    },
    {
      "cell_type": "code",
      "metadata": {
        "colab": {
          "base_uri": "https://localhost:8080/"
        },
        "id": "i068b3j4vsh1",
        "outputId": "5d982294-cfc8-4ce7-b440-a950ea263493"
      },
      "source": [
        "print(arr[0, 0])"
      ],
      "execution_count": 15,
      "outputs": [
        {
          "output_type": "stream",
          "text": [
            "[1 2 3 4]\n"
          ],
          "name": "stdout"
        }
      ]
    },
    {
      "cell_type": "code",
      "metadata": {
        "colab": {
          "base_uri": "https://localhost:8080/"
        },
        "id": "6jg5kVYPv4FK",
        "outputId": "9f0c2bca-2023-4b94-edfd-b634a106ca26"
      },
      "source": [
        "print(arr[0, 0, 0])"
      ],
      "execution_count": 16,
      "outputs": [
        {
          "output_type": "stream",
          "text": [
            "1\n"
          ],
          "name": "stdout"
        }
      ]
    },
    {
      "cell_type": "markdown",
      "metadata": {
        "id": "aICUa1NdwYxm"
      },
      "source": [
        "* Python list의 인덱스 사용방법: `list[a][b][c]...`\n",
        "* numpy ndarray의 인덱스 사용방법:\n",
        "    * `array[a][b][c]...`\n",
        "    * `array[a, b, c, ...]`"
      ]
    },
    {
      "cell_type": "markdown",
      "metadata": {
        "id": "ox93U7ySxGn5"
      },
      "source": [
        "# `np.ndarray` slicing"
      ]
    },
    {
      "cell_type": "code",
      "metadata": {
        "colab": {
          "base_uri": "https://localhost:8080/"
        },
        "id": "cvUVNkkJwXBg",
        "outputId": "28dacccc-baf1-4098-ac9a-c955338b6a04"
      },
      "source": [
        "# 1차원 배열\n",
        "np.random.seed(1)\n",
        "arr = np.random.rand(10)\n",
        "print(arr)"
      ],
      "execution_count": 17,
      "outputs": [
        {
          "output_type": "stream",
          "text": [
            "[4.17022005e-01 7.20324493e-01 1.14374817e-04 3.02332573e-01\n",
            " 1.46755891e-01 9.23385948e-02 1.86260211e-01 3.45560727e-01\n",
            " 3.96767474e-01 5.38816734e-01]\n"
          ],
          "name": "stdout"
        }
      ]
    },
    {
      "cell_type": "code",
      "metadata": {
        "colab": {
          "base_uri": "https://localhost:8080/"
        },
        "id": "EXbyABr9xczq",
        "outputId": "bf2faf13-135a-45bd-bdfc-02f1c00aa2a2"
      },
      "source": [
        "arr[1:5]  # [1, 5) 범위의 원소들로 이루어진 부분집합(1차원 array)"
      ],
      "execution_count": 18,
      "outputs": [
        {
          "output_type": "execute_result",
          "data": {
            "text/plain": [
              "array([7.20324493e-01, 1.14374817e-04, 3.02332573e-01, 1.46755891e-01])"
            ]
          },
          "metadata": {},
          "execution_count": 18
        }
      ]
    },
    {
      "cell_type": "code",
      "metadata": {
        "colab": {
          "base_uri": "https://localhost:8080/"
        },
        "id": "TtZv7c1-xwko",
        "outputId": "c75fbff9-9d61-46a0-d5d3-0421b991b31a"
      },
      "source": [
        "# 2차원 배열\n",
        "arr = np.arange(1, 21).reshape((4, 5))\n",
        "print(arr)"
      ],
      "execution_count": 19,
      "outputs": [
        {
          "output_type": "stream",
          "text": [
            "[[ 1  2  3  4  5]\n",
            " [ 6  7  8  9 10]\n",
            " [11 12 13 14 15]\n",
            " [16 17 18 19 20]]\n"
          ],
          "name": "stdout"
        }
      ]
    },
    {
      "cell_type": "code",
      "metadata": {
        "colab": {
          "base_uri": "https://localhost:8080/"
        },
        "id": "b7uzUkwjyMFQ",
        "outputId": "0bdae507-b042-45d8-cdeb-5e3dd5ca86a8"
      },
      "source": [
        "# row는 전체 선택, column은 처음 2개 선택\n",
        "print(arr[:, 0:2])"
      ],
      "execution_count": 20,
      "outputs": [
        {
          "output_type": "stream",
          "text": [
            "[[ 1  2]\n",
            " [ 6  7]\n",
            " [11 12]\n",
            " [16 17]]\n"
          ],
          "name": "stdout"
        }
      ]
    },
    {
      "cell_type": "code",
      "metadata": {
        "colab": {
          "base_uri": "https://localhost:8080/"
        },
        "id": "9dc0twWPyrhS",
        "outputId": "bbd0af50-a207-490c-b785-9dfd99916544"
      },
      "source": [
        "# 첫 2개 row를 선택, 모든 column 선택\n",
        "print(arr[0:2, :])"
      ],
      "execution_count": 21,
      "outputs": [
        {
          "output_type": "stream",
          "text": [
            "[[ 1  2  3  4  5]\n",
            " [ 6  7  8  9 10]]\n"
          ],
          "name": "stdout"
        }
      ]
    },
    {
      "cell_type": "code",
      "metadata": {
        "colab": {
          "base_uri": "https://localhost:8080/"
        },
        "id": "TTUCRUaozD9g",
        "outputId": "343c8f5e-95fe-4d48-f461-f90aa8e60e38"
      },
      "source": [
        "print(arr[:2, :3])"
      ],
      "execution_count": 22,
      "outputs": [
        {
          "output_type": "stream",
          "text": [
            "[[1 2 3]\n",
            " [6 7 8]]\n"
          ],
          "name": "stdout"
        }
      ]
    },
    {
      "cell_type": "code",
      "metadata": {
        "colab": {
          "base_uri": "https://localhost:8080/"
        },
        "id": "xQaBIsXRzTnB",
        "outputId": "d4b804cb-5663-4995-825a-e427f14b0f96"
      },
      "source": [
        "# 3차원 배열\n",
        "arr = np.arange(1, 61).reshape((3, 4, 5))\n",
        "print(arr)"
      ],
      "execution_count": 29,
      "outputs": [
        {
          "output_type": "stream",
          "text": [
            "[[[ 1  2  3  4  5]\n",
            "  [ 6  7  8  9 10]\n",
            "  [11 12 13 14 15]\n",
            "  [16 17 18 19 20]]\n",
            "\n",
            " [[21 22 23 24 25]\n",
            "  [26 27 28 29 30]\n",
            "  [31 32 33 34 35]\n",
            "  [36 37 38 39 40]]\n",
            "\n",
            " [[41 42 43 44 45]\n",
            "  [46 47 48 49 50]\n",
            "  [51 52 53 54 55]\n",
            "  [56 57 58 59 60]]]\n"
          ],
          "name": "stdout"
        }
      ]
    },
    {
      "cell_type": "code",
      "metadata": {
        "colab": {
          "base_uri": "https://localhost:8080/"
        },
        "id": "L5IXNimdzgeQ",
        "outputId": "d27666d5-8e71-4221-de02-2c897431510b"
      },
      "source": [
        "print(arr[:2, :, :])"
      ],
      "execution_count": 24,
      "outputs": [
        {
          "output_type": "stream",
          "text": [
            "[[[ 1  2  3  4  5]\n",
            "  [ 6  7  8  9 10]\n",
            "  [11 12 13 14 15]\n",
            "  [16 17 18 19 20]]\n",
            "\n",
            " [[21 22 23 24 25]\n",
            "  [26 27 28 29 30]\n",
            "  [31 32 33 34 35]\n",
            "  [36 37 38 39 40]]]\n"
          ],
          "name": "stdout"
        }
      ]
    },
    {
      "cell_type": "code",
      "metadata": {
        "colab": {
          "base_uri": "https://localhost:8080/"
        },
        "id": "kFRcKUs3z71z",
        "outputId": "1c407416-c6d1-4d96-8b77-cff5c8639b32"
      },
      "source": [
        "print(arr[:1, :, :])  #> slicing -> 3차원 배열"
      ],
      "execution_count": 25,
      "outputs": [
        {
          "output_type": "stream",
          "text": [
            "[[[ 1  2  3  4  5]\n",
            "  [ 6  7  8  9 10]\n",
            "  [11 12 13 14 15]\n",
            "  [16 17 18 19 20]]]\n"
          ],
          "name": "stdout"
        }
      ]
    },
    {
      "cell_type": "code",
      "metadata": {
        "colab": {
          "base_uri": "https://localhost:8080/"
        },
        "id": "dqCri-P60OHa",
        "outputId": "a7dcaf73-811d-4ac7-eb81-c75feb22cbe5"
      },
      "source": [
        "print(arr[0])  #> 원소 참조 -> 2차원 배열"
      ],
      "execution_count": 26,
      "outputs": [
        {
          "output_type": "stream",
          "text": [
            "[[ 1  2  3  4  5]\n",
            " [ 6  7  8  9 10]\n",
            " [11 12 13 14 15]\n",
            " [16 17 18 19 20]]\n"
          ],
          "name": "stdout"
        }
      ]
    },
    {
      "cell_type": "markdown",
      "metadata": {
        "id": "Csyrh-yC5B5i"
      },
      "source": [
        "# `np.ndarray` 모양(shape) 변경\n",
        "\n",
        "* `np.ndarray.reshape(shape)`\n",
        "* `np.ndarray.ravel()`\n",
        "* `np.ndarray.flatten()`\n",
        "* `np.newaxis` 이용\n"
      ]
    },
    {
      "cell_type": "code",
      "metadata": {
        "colab": {
          "base_uri": "https://localhost:8080/"
        },
        "id": "dHaCF-An5qZp",
        "outputId": "5365f716-e21b-4aa6-ca87-2b5d7ad57217"
      },
      "source": [
        "# 1차원 배열 생성\n",
        "arr_1d = np.arange(1, 13)\n",
        "print(arr_1d)"
      ],
      "execution_count": 30,
      "outputs": [
        {
          "output_type": "stream",
          "text": [
            "[ 1  2  3  4  5  6  7  8  9 10 11 12]\n"
          ],
          "name": "stdout"
        }
      ]
    },
    {
      "cell_type": "code",
      "metadata": {
        "colab": {
          "base_uri": "https://localhost:8080/"
        },
        "id": "_gwCSC1o5yqT",
        "outputId": "d27f9ba7-77fc-4ce6-d171-073b0147b87b"
      },
      "source": [
        "# 1차원 배열 arr_1d를 (3, 4) shape을 갖는 2D 배열로 변환\n",
        "arr_2d = arr_1d.reshape((3, 4))\n",
        "print(arr_2d)"
      ],
      "execution_count": 31,
      "outputs": [
        {
          "output_type": "stream",
          "text": [
            "[[ 1  2  3  4]\n",
            " [ 5  6  7  8]\n",
            " [ 9 10 11 12]]\n"
          ],
          "name": "stdout"
        }
      ]
    },
    {
      "cell_type": "code",
      "metadata": {
        "colab": {
          "base_uri": "https://localhost:8080/"
        },
        "id": "IcZdc-Xl6ORr",
        "outputId": "4a419aa4-49d7-4c5e-87a9-e6193f211baf"
      },
      "source": [
        "# 1차원 배열 arr_1d를 row가 2개인 2D 배열로 변환\n",
        "# shape을 argument로 전달할 때, 자동 계산할 수 있는 1개 차원의 수는 -1로 대체가능함.\n",
        "arr_2d = arr_1d.reshape((2, -1))\n",
        "print(arr_2d)"
      ],
      "execution_count": 34,
      "outputs": [
        {
          "output_type": "stream",
          "text": [
            "[[ 1  2  3  4  5  6]\n",
            " [ 7  8  9 10 11 12]]\n"
          ],
          "name": "stdout"
        }
      ]
    },
    {
      "cell_type": "code",
      "metadata": {
        "colab": {
          "base_uri": "https://localhost:8080/"
        },
        "id": "gb8K8cBk6aEG",
        "outputId": "7b5c7bc0-93f1-4c85-b449-6ba96c17950c"
      },
      "source": [
        "# 1차원 배열 arr_1d를 column이 3개인 2D 배열로 변환\n",
        "arr_2d = arr_1d.reshape((-1, 3))\n",
        "arr_2d"
      ],
      "execution_count": 36,
      "outputs": [
        {
          "output_type": "execute_result",
          "data": {
            "text/plain": [
              "array([[ 1,  2,  3],\n",
              "       [ 4,  5,  6],\n",
              "       [ 7,  8,  9],\n",
              "       [10, 11, 12]])"
            ]
          },
          "metadata": {},
          "execution_count": 36
        }
      ]
    },
    {
      "cell_type": "code",
      "metadata": {
        "colab": {
          "base_uri": "https://localhost:8080/"
        },
        "id": "pixFbx3T8gBL",
        "outputId": "5fe4e72c-b098-49eb-f491-7bb90da911b5"
      },
      "source": [
        "# 2차원 배열 arr_2d를 1차원 배열로 변환\n",
        "result = arr_2d.reshape(4*3)\n",
        "result"
      ],
      "execution_count": 37,
      "outputs": [
        {
          "output_type": "execute_result",
          "data": {
            "text/plain": [
              "array([ 1,  2,  3,  4,  5,  6,  7,  8,  9, 10, 11, 12])"
            ]
          },
          "metadata": {},
          "execution_count": 37
        }
      ]
    },
    {
      "cell_type": "code",
      "metadata": {
        "colab": {
          "base_uri": "https://localhost:8080/"
        },
        "id": "v6zyGbdm88kC",
        "outputId": "1b16e5bd-1a75-4e78-e17b-039b600d8468"
      },
      "source": [
        "result = arr_2d.reshape((12,))\n",
        "result"
      ],
      "execution_count": 40,
      "outputs": [
        {
          "output_type": "execute_result",
          "data": {
            "text/plain": [
              "array([ 1,  2,  3,  4,  5,  6,  7,  8,  9, 10, 11, 12])"
            ]
          },
          "metadata": {},
          "execution_count": 40
        }
      ]
    },
    {
      "cell_type": "code",
      "metadata": {
        "colab": {
          "base_uri": "https://localhost:8080/"
        },
        "id": "NYhys36586qj",
        "outputId": "4b090887-d47d-4590-a50f-34196c76482a"
      },
      "source": [
        "arr_2d.reshape((-1,))"
      ],
      "execution_count": 41,
      "outputs": [
        {
          "output_type": "execute_result",
          "data": {
            "text/plain": [
              "array([ 1,  2,  3,  4,  5,  6,  7,  8,  9, 10, 11, 12])"
            ]
          },
          "metadata": {},
          "execution_count": 41
        }
      ]
    },
    {
      "cell_type": "code",
      "metadata": {
        "colab": {
          "base_uri": "https://localhost:8080/"
        },
        "id": "yRgvjFci90tr",
        "outputId": "49c71cbf-8e3f-4853-9776-4625ccbedd02"
      },
      "source": [
        "arr_1d = np.arange(1, 49)\n",
        "arr_1d"
      ],
      "execution_count": 42,
      "outputs": [
        {
          "output_type": "execute_result",
          "data": {
            "text/plain": [
              "array([ 1,  2,  3,  4,  5,  6,  7,  8,  9, 10, 11, 12, 13, 14, 15, 16, 17,\n",
              "       18, 19, 20, 21, 22, 23, 24, 25, 26, 27, 28, 29, 30, 31, 32, 33, 34,\n",
              "       35, 36, 37, 38, 39, 40, 41, 42, 43, 44, 45, 46, 47, 48])"
            ]
          },
          "metadata": {},
          "execution_count": 42
        }
      ]
    },
    {
      "cell_type": "code",
      "metadata": {
        "colab": {
          "base_uri": "https://localhost:8080/"
        },
        "id": "3u1fqvKa98iT",
        "outputId": "4fd6831c-2383-4477-a7a7-558ead0098d0"
      },
      "source": [
        "# 1차원 배열 arr_1d를 (4, 4, 3) shape을 갖는 3차원 배열로 변환\n",
        "arr_3d = arr_1d.reshape((4, 4, 3))\n",
        "arr_3d"
      ],
      "execution_count": 43,
      "outputs": [
        {
          "output_type": "execute_result",
          "data": {
            "text/plain": [
              "array([[[ 1,  2,  3],\n",
              "        [ 4,  5,  6],\n",
              "        [ 7,  8,  9],\n",
              "        [10, 11, 12]],\n",
              "\n",
              "       [[13, 14, 15],\n",
              "        [16, 17, 18],\n",
              "        [19, 20, 21],\n",
              "        [22, 23, 24]],\n",
              "\n",
              "       [[25, 26, 27],\n",
              "        [28, 29, 30],\n",
              "        [31, 32, 33],\n",
              "        [34, 35, 36]],\n",
              "\n",
              "       [[37, 38, 39],\n",
              "        [40, 41, 42],\n",
              "        [43, 44, 45],\n",
              "        [46, 47, 48]]])"
            ]
          },
          "metadata": {},
          "execution_count": 43
        }
      ]
    },
    {
      "cell_type": "code",
      "metadata": {
        "colab": {
          "base_uri": "https://localhost:8080/"
        },
        "id": "ZDZysHcO-QUL",
        "outputId": "f555d2f3-640d-46b4-8e1a-5758c587fdd3"
      },
      "source": [
        "arr_1d.reshape((4, 4, -1))"
      ],
      "execution_count": 44,
      "outputs": [
        {
          "output_type": "execute_result",
          "data": {
            "text/plain": [
              "array([[[ 1,  2,  3],\n",
              "        [ 4,  5,  6],\n",
              "        [ 7,  8,  9],\n",
              "        [10, 11, 12]],\n",
              "\n",
              "       [[13, 14, 15],\n",
              "        [16, 17, 18],\n",
              "        [19, 20, 21],\n",
              "        [22, 23, 24]],\n",
              "\n",
              "       [[25, 26, 27],\n",
              "        [28, 29, 30],\n",
              "        [31, 32, 33],\n",
              "        [34, 35, 36]],\n",
              "\n",
              "       [[37, 38, 39],\n",
              "        [40, 41, 42],\n",
              "        [43, 44, 45],\n",
              "        [46, 47, 48]]])"
            ]
          },
          "metadata": {},
          "execution_count": 44
        }
      ]
    },
    {
      "cell_type": "code",
      "metadata": {
        "colab": {
          "base_uri": "https://localhost:8080/"
        },
        "id": "3Ddp_GTh-2bk",
        "outputId": "6cea1320-1b3b-4d9f-9a03-48d9d27a8ed7"
      },
      "source": [
        "# 3차원 배열 arr_3d를 1차원 배열로 변환\n",
        "result = arr_3d.reshape(4*4*3)\n",
        "result"
      ],
      "execution_count": 45,
      "outputs": [
        {
          "output_type": "execute_result",
          "data": {
            "text/plain": [
              "array([ 1,  2,  3,  4,  5,  6,  7,  8,  9, 10, 11, 12, 13, 14, 15, 16, 17,\n",
              "       18, 19, 20, 21, 22, 23, 24, 25, 26, 27, 28, 29, 30, 31, 32, 33, 34,\n",
              "       35, 36, 37, 38, 39, 40, 41, 42, 43, 44, 45, 46, 47, 48])"
            ]
          },
          "metadata": {},
          "execution_count": 45
        }
      ]
    },
    {
      "cell_type": "code",
      "metadata": {
        "colab": {
          "base_uri": "https://localhost:8080/"
        },
        "id": "3oHeLeNp-_da",
        "outputId": "aa4dcf40-07a8-4b56-aef6-abcf86837862"
      },
      "source": [
        "arr_3d.reshape((48,))"
      ],
      "execution_count": 46,
      "outputs": [
        {
          "output_type": "execute_result",
          "data": {
            "text/plain": [
              "array([ 1,  2,  3,  4,  5,  6,  7,  8,  9, 10, 11, 12, 13, 14, 15, 16, 17,\n",
              "       18, 19, 20, 21, 22, 23, 24, 25, 26, 27, 28, 29, 30, 31, 32, 33, 34,\n",
              "       35, 36, 37, 38, 39, 40, 41, 42, 43, 44, 45, 46, 47, 48])"
            ]
          },
          "metadata": {},
          "execution_count": 46
        }
      ]
    },
    {
      "cell_type": "code",
      "metadata": {
        "colab": {
          "base_uri": "https://localhost:8080/"
        },
        "id": "mNu-_ylg_Hai",
        "outputId": "3021030d-0f4e-4587-884b-7a75fa8ed1f1"
      },
      "source": [
        "arr_3d.reshape((-1,))"
      ],
      "execution_count": 47,
      "outputs": [
        {
          "output_type": "execute_result",
          "data": {
            "text/plain": [
              "array([ 1,  2,  3,  4,  5,  6,  7,  8,  9, 10, 11, 12, 13, 14, 15, 16, 17,\n",
              "       18, 19, 20, 21, 22, 23, 24, 25, 26, 27, 28, 29, 30, 31, 32, 33, 34,\n",
              "       35, 36, 37, 38, 39, 40, 41, 42, 43, 44, 45, 46, 47, 48])"
            ]
          },
          "metadata": {},
          "execution_count": 47
        }
      ]
    },
    {
      "cell_type": "code",
      "metadata": {
        "colab": {
          "base_uri": "https://localhost:8080/"
        },
        "id": "PnfXWVEvBw-T",
        "outputId": "50162257-3e68-422a-a8cb-ca7fbdc5afd2"
      },
      "source": [
        "arr_2d"
      ],
      "execution_count": 54,
      "outputs": [
        {
          "output_type": "execute_result",
          "data": {
            "text/plain": [
              "array([[ 1,  2,  3],\n",
              "       [ 4,  5,  6],\n",
              "       [ 7,  8,  9],\n",
              "       [10, 11, 12]])"
            ]
          },
          "metadata": {},
          "execution_count": 54
        }
      ]
    },
    {
      "cell_type": "code",
      "metadata": {
        "colab": {
          "base_uri": "https://localhost:8080/"
        },
        "id": "exXOEIEd_iJS",
        "outputId": "0a189668-3230-46e3-8260-a9bb2a498960"
      },
      "source": [
        "# 2D 배열을 1D 배열로 변환\n",
        "raveled = arr_2d.ravel()  # 1차원으로 변환된 view를 리턴.\n",
        "raveled"
      ],
      "execution_count": 55,
      "outputs": [
        {
          "output_type": "execute_result",
          "data": {
            "text/plain": [
              "array([ 1,  2,  3,  4,  5,  6,  7,  8,  9, 10, 11, 12])"
            ]
          },
          "metadata": {},
          "execution_count": 55
        }
      ]
    },
    {
      "cell_type": "code",
      "metadata": {
        "colab": {
          "base_uri": "https://localhost:8080/"
        },
        "id": "yVRsG5HG_kEz",
        "outputId": "a54ffb36-b648-4d8d-97b3-555e8fdc3dd6"
      },
      "source": [
        "flattened = arr_2d.flatten()  # 1차원으로 변환된 복사본을 리턴\n",
        "flattened"
      ],
      "execution_count": 56,
      "outputs": [
        {
          "output_type": "execute_result",
          "data": {
            "text/plain": [
              "array([ 1,  2,  3,  4,  5,  6,  7,  8,  9, 10, 11, 12])"
            ]
          },
          "metadata": {},
          "execution_count": 56
        }
      ]
    },
    {
      "cell_type": "code",
      "metadata": {
        "colab": {
          "base_uri": "https://localhost:8080/"
        },
        "id": "FAMxoW0SCAcD",
        "outputId": "9a5c1f27-1645-4b96-88d2-5b45320f4510"
      },
      "source": [
        "flattened[0] = 100  # flatten() 함수의 결과에서 원소를 변경\n",
        "print(flattened)\n",
        "print(arr_2d)  # 원본 2D 배열에는 영향을 미치지 않음!"
      ],
      "execution_count": 57,
      "outputs": [
        {
          "output_type": "stream",
          "text": [
            "[100   2   3   4   5   6   7   8   9  10  11  12]\n",
            "[[ 1  2  3]\n",
            " [ 4  5  6]\n",
            " [ 7  8  9]\n",
            " [10 11 12]]\n"
          ],
          "name": "stdout"
        }
      ]
    },
    {
      "cell_type": "code",
      "metadata": {
        "colab": {
          "base_uri": "https://localhost:8080/"
        },
        "id": "jkK_uxuBCbbc",
        "outputId": "975e688c-b07e-4227-b8ad-731ed2975bbc"
      },
      "source": [
        "raveled[0] = 100  # ravel() 함수의 결과에서 원소를 변경\n",
        "print(raveled)\n",
        "print(arr_2d)  # 원본 2D 배열에 영향을 미침!"
      ],
      "execution_count": 58,
      "outputs": [
        {
          "output_type": "stream",
          "text": [
            "[100   2   3   4   5   6   7   8   9  10  11  12]\n",
            "[[100   2   3]\n",
            " [  4   5   6]\n",
            " [  7   8   9]\n",
            " [ 10  11  12]]\n"
          ],
          "name": "stdout"
        }
      ]
    },
    {
      "cell_type": "code",
      "metadata": {
        "colab": {
          "base_uri": "https://localhost:8080/"
        },
        "id": "T55liJt6ASWJ",
        "outputId": "ae443fb7-c97f-4191-c2d4-f66ab274e681"
      },
      "source": [
        "# 3D 배열을 1D 배열로 변환\n",
        "arr_3d.ravel()"
      ],
      "execution_count": 52,
      "outputs": [
        {
          "output_type": "execute_result",
          "data": {
            "text/plain": [
              "array([ 1,  2,  3,  4,  5,  6,  7,  8,  9, 10, 11, 12, 13, 14, 15, 16, 17,\n",
              "       18, 19, 20, 21, 22, 23, 24, 25, 26, 27, 28, 29, 30, 31, 32, 33, 34,\n",
              "       35, 36, 37, 38, 39, 40, 41, 42, 43, 44, 45, 46, 47, 48])"
            ]
          },
          "metadata": {},
          "execution_count": 52
        }
      ]
    },
    {
      "cell_type": "code",
      "metadata": {
        "colab": {
          "base_uri": "https://localhost:8080/"
        },
        "id": "DBGPDBWDAV88",
        "outputId": "6b5d6b31-3573-4ca8-bcba-8e79bc1cd8ba"
      },
      "source": [
        "arr_3d.flatten()"
      ],
      "execution_count": 53,
      "outputs": [
        {
          "output_type": "execute_result",
          "data": {
            "text/plain": [
              "array([ 1,  2,  3,  4,  5,  6,  7,  8,  9, 10, 11, 12, 13, 14, 15, 16, 17,\n",
              "       18, 19, 20, 21, 22, 23, 24, 25, 26, 27, 28, 29, 30, 31, 32, 33, 34,\n",
              "       35, 36, 37, 38, 39, 40, 41, 42, 43, 44, 45, 46, 47, 48])"
            ]
          },
          "metadata": {},
          "execution_count": 53
        }
      ]
    },
    {
      "cell_type": "markdown",
      "metadata": {
        "id": "FE3Udz-vAnUE"
      },
      "source": [
        "## `np.newaxis` 속성을 사용한 차원 늘리기"
      ]
    },
    {
      "cell_type": "code",
      "metadata": {
        "colab": {
          "base_uri": "https://localhost:8080/"
        },
        "id": "ZST1lg6kAb_L",
        "outputId": "8c06a673-f79e-46f7-ef5e-37776d31413d"
      },
      "source": [
        "a = np.arange(1, 6)  # (5,) shape을 갖는 1D 배열\n",
        "print(a)\n",
        "print('ndim:', a.ndim)\n",
        "print('shape:', a.shape)"
      ],
      "execution_count": 66,
      "outputs": [
        {
          "output_type": "stream",
          "text": [
            "[1 2 3 4 5]\n",
            "ndim: 1\n",
            "shape: (5,)\n"
          ],
          "name": "stdout"
        }
      ]
    },
    {
      "cell_type": "code",
      "metadata": {
        "colab": {
          "base_uri": "https://localhost:8080/"
        },
        "id": "2YWWaDeWXpOg",
        "outputId": "df977c7d-2e97-42d1-b76b-ff9be96a8a9c"
      },
      "source": [
        "col_vector = a[:, np.newaxis]\n",
        "print(col_vector)\n",
        "print('ndim:', col_vector.ndim)\n",
        "print('shape:', col_vector.shape)"
      ],
      "execution_count": 67,
      "outputs": [
        {
          "output_type": "stream",
          "text": [
            "[[1]\n",
            " [2]\n",
            " [3]\n",
            " [4]\n",
            " [5]]\n",
            "ndim: 2\n",
            "shape: (5, 1)\n"
          ],
          "name": "stdout"
        }
      ]
    },
    {
      "cell_type": "code",
      "metadata": {
        "colab": {
          "base_uri": "https://localhost:8080/"
        },
        "id": "mk47j-2uYzVH",
        "outputId": "528546c6-d11f-448f-a306-89c1f2d8598e"
      },
      "source": [
        "a.reshape((5, 1))"
      ],
      "execution_count": 68,
      "outputs": [
        {
          "output_type": "execute_result",
          "data": {
            "text/plain": [
              "array([[1],\n",
              "       [2],\n",
              "       [3],\n",
              "       [4],\n",
              "       [5]])"
            ]
          },
          "metadata": {},
          "execution_count": 68
        }
      ]
    },
    {
      "cell_type": "code",
      "metadata": {
        "colab": {
          "base_uri": "https://localhost:8080/"
        },
        "id": "hNsOXC8hZ7OX",
        "outputId": "0e5e0e6d-c657-4fda-c6ae-f774ec1cd0ff"
      },
      "source": [
        "a.reshape((-1, 1))"
      ],
      "execution_count": 69,
      "outputs": [
        {
          "output_type": "execute_result",
          "data": {
            "text/plain": [
              "array([[1],\n",
              "       [2],\n",
              "       [3],\n",
              "       [4],\n",
              "       [5]])"
            ]
          },
          "metadata": {},
          "execution_count": 69
        }
      ]
    },
    {
      "cell_type": "code",
      "metadata": {
        "colab": {
          "base_uri": "https://localhost:8080/"
        },
        "id": "SmUl5_9Bab2_",
        "outputId": "7a25d2d0-a915-43ab-ff6d-4791f0dfabc2"
      },
      "source": [
        "row_vector = a[np.newaxis, :]\n",
        "print(row_vector)\n",
        "print('ndim:', row_vector.ndim)\n",
        "print('shape:', row_vector.shape)"
      ],
      "execution_count": 71,
      "outputs": [
        {
          "output_type": "stream",
          "text": [
            "[[1 2 3 4 5]]\n",
            "ndim: 2\n",
            "shape: (1, 5)\n"
          ],
          "name": "stdout"
        }
      ]
    },
    {
      "cell_type": "code",
      "metadata": {
        "colab": {
          "base_uri": "https://localhost:8080/"
        },
        "id": "S92_tyWKacQo",
        "outputId": "ba247004-9fe8-406a-9db6-fa263dc4afe5"
      },
      "source": [
        "a.reshape((1, 5))"
      ],
      "execution_count": 72,
      "outputs": [
        {
          "output_type": "execute_result",
          "data": {
            "text/plain": [
              "array([[1, 2, 3, 4, 5]])"
            ]
          },
          "metadata": {},
          "execution_count": 72
        }
      ]
    },
    {
      "cell_type": "code",
      "metadata": {
        "colab": {
          "base_uri": "https://localhost:8080/"
        },
        "id": "7zYf3BLKb3tN",
        "outputId": "795973c8-fdbf-4e0c-f84b-83a83e686ff1"
      },
      "source": [
        "a.reshape((1, -1))"
      ],
      "execution_count": 73,
      "outputs": [
        {
          "output_type": "execute_result",
          "data": {
            "text/plain": [
              "array([[1, 2, 3, 4, 5]])"
            ]
          },
          "metadata": {},
          "execution_count": 73
        }
      ]
    },
    {
      "cell_type": "code",
      "metadata": {
        "colab": {
          "base_uri": "https://localhost:8080/"
        },
        "id": "yZSjeXu5cSpS",
        "outputId": "acca2a82-d263-443d-dbfb-6d9d7909c888"
      },
      "source": [
        "a = np.arange(1, 17).reshape((4, 4))\n",
        "print(a)"
      ],
      "execution_count": 74,
      "outputs": [
        {
          "output_type": "stream",
          "text": [
            "[[ 1  2  3  4]\n",
            " [ 5  6  7  8]\n",
            " [ 9 10 11 12]\n",
            " [13 14 15 16]]\n"
          ],
          "name": "stdout"
        }
      ]
    },
    {
      "cell_type": "code",
      "metadata": {
        "colab": {
          "base_uri": "https://localhost:8080/"
        },
        "id": "5TVOs81cc9j3",
        "outputId": "b7ec500f-fa6f-47cc-9a69-e9ee309e9f3d"
      },
      "source": [
        "a[:, :, np.newaxis]"
      ],
      "execution_count": 75,
      "outputs": [
        {
          "output_type": "execute_result",
          "data": {
            "text/plain": [
              "array([[[ 1],\n",
              "        [ 2],\n",
              "        [ 3],\n",
              "        [ 4]],\n",
              "\n",
              "       [[ 5],\n",
              "        [ 6],\n",
              "        [ 7],\n",
              "        [ 8]],\n",
              "\n",
              "       [[ 9],\n",
              "        [10],\n",
              "        [11],\n",
              "        [12]],\n",
              "\n",
              "       [[13],\n",
              "        [14],\n",
              "        [15],\n",
              "        [16]]])"
            ]
          },
          "metadata": {},
          "execution_count": 75
        }
      ]
    },
    {
      "cell_type": "code",
      "metadata": {
        "colab": {
          "base_uri": "https://localhost:8080/"
        },
        "id": "1Sxn5pendD4n",
        "outputId": "6c228f20-3a36-4b1d-ae10-e987aab36d57"
      },
      "source": [
        "a.reshape((4, 4, 1))"
      ],
      "execution_count": 80,
      "outputs": [
        {
          "output_type": "execute_result",
          "data": {
            "text/plain": [
              "array([[[ 1],\n",
              "        [ 2],\n",
              "        [ 3],\n",
              "        [ 4]],\n",
              "\n",
              "       [[ 5],\n",
              "        [ 6],\n",
              "        [ 7],\n",
              "        [ 8]],\n",
              "\n",
              "       [[ 9],\n",
              "        [10],\n",
              "        [11],\n",
              "        [12]],\n",
              "\n",
              "       [[13],\n",
              "        [14],\n",
              "        [15],\n",
              "        [16]]])"
            ]
          },
          "metadata": {},
          "execution_count": 80
        }
      ]
    },
    {
      "cell_type": "code",
      "metadata": {
        "colab": {
          "base_uri": "https://localhost:8080/"
        },
        "id": "SEp2ElAFd3_p",
        "outputId": "77979636-74ff-40d2-af55-7f88cb41a1d5"
      },
      "source": [
        "a[np.newaxis, :, :]"
      ],
      "execution_count": 82,
      "outputs": [
        {
          "output_type": "execute_result",
          "data": {
            "text/plain": [
              "array([[[ 1,  2,  3,  4],\n",
              "        [ 5,  6,  7,  8],\n",
              "        [ 9, 10, 11, 12],\n",
              "        [13, 14, 15, 16]]])"
            ]
          },
          "metadata": {},
          "execution_count": 82
        }
      ]
    },
    {
      "cell_type": "code",
      "metadata": {
        "colab": {
          "base_uri": "https://localhost:8080/"
        },
        "id": "9fTH6WAseJDw",
        "outputId": "5e410652-3dfb-4b5d-de2b-838cc8240e11"
      },
      "source": [
        "a.reshape((1, 4, 4))"
      ],
      "execution_count": 83,
      "outputs": [
        {
          "output_type": "execute_result",
          "data": {
            "text/plain": [
              "array([[[ 1,  2,  3,  4],\n",
              "        [ 5,  6,  7,  8],\n",
              "        [ 9, 10, 11, 12],\n",
              "        [13, 14, 15, 16]]])"
            ]
          },
          "metadata": {},
          "execution_count": 83
        }
      ]
    },
    {
      "cell_type": "markdown",
      "metadata": {
        "id": "LMLLhYwYjqb7"
      },
      "source": [
        "# concatenate\n",
        "\n",
        "* `np.concatenate([a1, a2, ...], axis=0)`: 행 또는 열 방향으로 이어붙이기\n",
        "* `np.r_[a1, a2]`: 행 이어붙이기(row concatenation)\n",
        "* `np.c_[a1, a2]`: 열 이어붙이기(column concatenation)"
      ]
    },
    {
      "cell_type": "code",
      "metadata": {
        "colab": {
          "base_uri": "https://localhost:8080/"
        },
        "id": "Xo6A1KR5kwdR",
        "outputId": "60f09bb3-ce21-4081-c32e-2cc90445efa5"
      },
      "source": [
        "# (2, 3) shape을 갖는 2D 배열\n",
        "a1 = np.arange(1, 7).reshape((2, 3))\n",
        "print(a1)"
      ],
      "execution_count": 84,
      "outputs": [
        {
          "output_type": "stream",
          "text": [
            "[[1 2 3]\n",
            " [4 5 6]]\n"
          ],
          "name": "stdout"
        }
      ]
    },
    {
      "cell_type": "code",
      "metadata": {
        "colab": {
          "base_uri": "https://localhost:8080/"
        },
        "id": "BWmLbIrwk8Jy",
        "outputId": "2204f5c5-6605-4764-ff50-a2e283a33900"
      },
      "source": [
        "# (1, 3) shape을 갖는 2D 배열\n",
        "a2 = np.array([[7, 8, 9]])\n",
        "print(a2)"
      ],
      "execution_count": 85,
      "outputs": [
        {
          "output_type": "stream",
          "text": [
            "[[7 8 9]]\n"
          ],
          "name": "stdout"
        }
      ]
    },
    {
      "cell_type": "code",
      "metadata": {
        "colab": {
          "base_uri": "https://localhost:8080/"
        },
        "id": "c1Q5i4AzlRJJ",
        "outputId": "a992111a-547d-4852-9d3a-427a6acf9c90"
      },
      "source": [
        "np.concatenate([a1, a2])  # axis=0인 경우는 생략 가능(default)"
      ],
      "execution_count": 86,
      "outputs": [
        {
          "output_type": "execute_result",
          "data": {
            "text/plain": [
              "array([[1, 2, 3],\n",
              "       [4, 5, 6],\n",
              "       [7, 8, 9]])"
            ]
          },
          "metadata": {},
          "execution_count": 86
        }
      ]
    },
    {
      "cell_type": "code",
      "metadata": {
        "colab": {
          "base_uri": "https://localhost:8080/"
        },
        "id": "Ey5uwh75lvy4",
        "outputId": "e04d4932-ba07-4d78-918e-3e77545a9479"
      },
      "source": [
        "np.r_[a1, a2]"
      ],
      "execution_count": 87,
      "outputs": [
        {
          "output_type": "execute_result",
          "data": {
            "text/plain": [
              "array([[1, 2, 3],\n",
              "       [4, 5, 6],\n",
              "       [7, 8, 9]])"
            ]
          },
          "metadata": {},
          "execution_count": 87
        }
      ]
    },
    {
      "cell_type": "code",
      "metadata": {
        "colab": {
          "base_uri": "https://localhost:8080/"
        },
        "id": "2NV8VBlxl4yR",
        "outputId": "fc44fb9e-c59e-40fa-97aa-97c06bcf3435"
      },
      "source": [
        "a1"
      ],
      "execution_count": 88,
      "outputs": [
        {
          "output_type": "execute_result",
          "data": {
            "text/plain": [
              "array([[1, 2, 3],\n",
              "       [4, 5, 6]])"
            ]
          },
          "metadata": {},
          "execution_count": 88
        }
      ]
    },
    {
      "cell_type": "code",
      "metadata": {
        "colab": {
          "base_uri": "https://localhost:8080/"
        },
        "id": "aCYuhGT_mC-Q",
        "outputId": "5d0128b9-20b6-4f51-b861-e5beb6722efa"
      },
      "source": [
        "a3 = np.array([[10],\n",
        "               [20]])\n",
        "a3"
      ],
      "execution_count": 89,
      "outputs": [
        {
          "output_type": "execute_result",
          "data": {
            "text/plain": [
              "array([[10],\n",
              "       [20]])"
            ]
          },
          "metadata": {},
          "execution_count": 89
        }
      ]
    },
    {
      "cell_type": "code",
      "metadata": {
        "colab": {
          "base_uri": "https://localhost:8080/"
        },
        "id": "-NsfP7WHmZb4",
        "outputId": "eb644b9c-f8c7-462f-df18-4ae52780e1b6"
      },
      "source": [
        "np.concatenate([a1, a3], axis=1)"
      ],
      "execution_count": 90,
      "outputs": [
        {
          "output_type": "execute_result",
          "data": {
            "text/plain": [
              "array([[ 1,  2,  3, 10],\n",
              "       [ 4,  5,  6, 20]])"
            ]
          },
          "metadata": {},
          "execution_count": 90
        }
      ]
    },
    {
      "cell_type": "code",
      "metadata": {
        "colab": {
          "base_uri": "https://localhost:8080/"
        },
        "id": "Vf9YyNubme3x",
        "outputId": "0235a81f-de81-482d-81d8-4ed23ccf4954"
      },
      "source": [
        "np.c_[a1, a3]"
      ],
      "execution_count": 91,
      "outputs": [
        {
          "output_type": "execute_result",
          "data": {
            "text/plain": [
              "array([[ 1,  2,  3, 10],\n",
              "       [ 4,  5,  6, 20]])"
            ]
          },
          "metadata": {},
          "execution_count": 91
        }
      ]
    },
    {
      "cell_type": "markdown",
      "metadata": {
        "id": "wtme_4Y1nGfq"
      },
      "source": [
        "# Broadcasting\n",
        "\n",
        "* `np.ndarray`의 산술연산(+, -, *, /, //, %, ...)은 같은 위치(인덱스)의 원소들끼리(element-wise) 계산됨.\n",
        "* 서로 shape이 다른 배열들 사이에서 산술연산이 가능하도록 shape을 맞춰서 연산하는 방법 -> broadcast"
      ]
    },
    {
      "cell_type": "code",
      "metadata": {
        "id": "WFUjmzY-mmlJ"
      },
      "source": [
        "a = np.array([1, 2, 3])     # (3,) shape을 갖는 1D 배열\n",
        "b = np.array([1, 2, 3, 4])  # (4,) shape을 갖는 1D 배열\n",
        "# a + b\n",
        "#> ValueError: operands could not bes broadcat together with shapes (3,) (4,) \n",
        "#> 배열 a와 배열 b는 모양을 같은 shape으로 맞출 수 없다."
      ],
      "execution_count": 93,
      "outputs": []
    },
    {
      "cell_type": "markdown",
      "metadata": {
        "id": "L1LSO3j-qR4S"
      },
      "source": [
        "## ndarray와 scalar(숫자 한개)의 broadcast 연산"
      ]
    },
    {
      "cell_type": "code",
      "metadata": {
        "colab": {
          "base_uri": "https://localhost:8080/"
        },
        "id": "d15h3d1Wqj2U",
        "outputId": "a6b7d752-ed37-41ed-d30d-53c1fd698a97"
      },
      "source": [
        "a"
      ],
      "execution_count": 97,
      "outputs": [
        {
          "output_type": "execute_result",
          "data": {
            "text/plain": [
              "array([1, 2, 3])"
            ]
          },
          "metadata": {},
          "execution_count": 97
        }
      ]
    },
    {
      "cell_type": "code",
      "metadata": {
        "colab": {
          "base_uri": "https://localhost:8080/"
        },
        "id": "4HlAEyOmqefC",
        "outputId": "cf6b8d2d-0703-42cd-c50f-468c567bb6e2"
      },
      "source": [
        "a + 10"
      ],
      "execution_count": 96,
      "outputs": [
        {
          "output_type": "execute_result",
          "data": {
            "text/plain": [
              "array([11, 12, 13])"
            ]
          },
          "metadata": {},
          "execution_count": 96
        }
      ]
    },
    {
      "cell_type": "code",
      "metadata": {
        "colab": {
          "base_uri": "https://localhost:8080/"
        },
        "id": "9PTPgxS9qgmq",
        "outputId": "a6c47a4b-59b4-445d-ad13-579d1707ab8e"
      },
      "source": [
        "a2 = np.array([[1, 2, 3],\n",
        "               [4, 5, 6]])\n",
        "a2"
      ],
      "execution_count": 98,
      "outputs": [
        {
          "output_type": "execute_result",
          "data": {
            "text/plain": [
              "array([[1, 2, 3],\n",
              "       [4, 5, 6]])"
            ]
          },
          "metadata": {},
          "execution_count": 98
        }
      ]
    },
    {
      "cell_type": "code",
      "metadata": {
        "colab": {
          "base_uri": "https://localhost:8080/"
        },
        "id": "zFLM_A9RraxK",
        "outputId": "5ecea845-1286-4f35-c7af-1a5e7da00c9f"
      },
      "source": [
        "a2 + 10"
      ],
      "execution_count": 99,
      "outputs": [
        {
          "output_type": "execute_result",
          "data": {
            "text/plain": [
              "array([[11, 12, 13],\n",
              "       [14, 15, 16]])"
            ]
          },
          "metadata": {},
          "execution_count": 99
        }
      ]
    },
    {
      "cell_type": "markdown",
      "metadata": {
        "id": "Jz0mOA8uvmEa"
      },
      "source": [
        "## 2D array와 1D array, 또는 2D array와 2D array에서의 broadcast"
      ]
    },
    {
      "cell_type": "code",
      "metadata": {
        "id": "r3jbEhJYrcma"
      },
      "source": [
        "a = np.array([[1, 2, 3],\n",
        "              [4, 5, 6]])   # (2, 3) shape을 갖는 2D array\n",
        "b = np.array([10, 20, 30])  # (3, ) shape을 1D array"
      ],
      "execution_count": 100,
      "outputs": []
    },
    {
      "cell_type": "code",
      "metadata": {
        "colab": {
          "base_uri": "https://localhost:8080/"
        },
        "id": "YqFxxmxrwukE",
        "outputId": "9858fd92-d8df-4714-f4ee-f01a96fa0206"
      },
      "source": [
        "a + b  # (3,) 1D ---> (1, 3) 2D ---> (2, 3) 2D array"
      ],
      "execution_count": 101,
      "outputs": [
        {
          "output_type": "execute_result",
          "data": {
            "text/plain": [
              "array([[11, 22, 33],\n",
              "       [14, 25, 36]])"
            ]
          },
          "metadata": {},
          "execution_count": 101
        }
      ]
    },
    {
      "cell_type": "code",
      "metadata": {
        "colab": {
          "base_uri": "https://localhost:8080/"
        },
        "id": "8rPkXZhOxijc",
        "outputId": "2abed9ac-a8ff-4101-8cb5-a9ff63fbedaa"
      },
      "source": [
        "c = np.array([[1, 2, 3]])  # (1, 3) shape을 갖는 2D array\n",
        "a + c"
      ],
      "execution_count": 102,
      "outputs": [
        {
          "output_type": "execute_result",
          "data": {
            "text/plain": [
              "array([[2, 4, 6],\n",
              "       [5, 7, 9]])"
            ]
          },
          "metadata": {},
          "execution_count": 102
        }
      ]
    },
    {
      "cell_type": "code",
      "metadata": {
        "id": "l805ZN_myrq7"
      },
      "source": [
        "d = np.array([10, 20])  # (2,) shape을 갖는 1D array\n",
        "# a + d\n",
        "#> ValueError: operands could not be broadcast together with shapes (2,3) (2,) "
      ],
      "execution_count": null,
      "outputs": []
    },
    {
      "cell_type": "code",
      "metadata": {
        "id": "1ijn4QJjywtj"
      },
      "source": [
        "e = np.array([[10],\n",
        "              [20]])  # (2, 1) shape을 갖는 2D array"
      ],
      "execution_count": 104,
      "outputs": []
    },
    {
      "cell_type": "code",
      "metadata": {
        "colab": {
          "base_uri": "https://localhost:8080/"
        },
        "id": "ayyk089lzuMT",
        "outputId": "df6f8e18-4c42-476a-c571-e2df2d9b5139"
      },
      "source": [
        "a + e"
      ],
      "execution_count": 105,
      "outputs": [
        {
          "output_type": "execute_result",
          "data": {
            "text/plain": [
              "array([[11, 12, 13],\n",
              "       [24, 25, 26]])"
            ]
          },
          "metadata": {},
          "execution_count": 105
        }
      ]
    },
    {
      "cell_type": "markdown",
      "metadata": {
        "id": "9-pIVuu72ShO"
      },
      "source": [
        "## broadcast의 활용"
      ]
    },
    {
      "cell_type": "markdown",
      "metadata": {
        "id": "rPXeERae2a8F"
      },
      "source": [
        "* **표준화(standardization)**: 평균이 0이 되고, 표준편차를 1이 되도록 변수들의 스케일을 변환하는 것.\n",
        "* **정규화(normalization)**: 최솟값이 0이 되고, 최댓값이 1이 되도록 변수들의 스케일을 변환하는 것."
      ]
    },
    {
      "cell_type": "code",
      "metadata": {
        "id": "yfGtFB3Vzvec"
      },
      "source": [
        "x = np.array([1, 2, 3, 4, 5])"
      ],
      "execution_count": 106,
      "outputs": []
    },
    {
      "cell_type": "code",
      "metadata": {
        "colab": {
          "base_uri": "https://localhost:8080/"
        },
        "id": "21m7MxRo3EQj",
        "outputId": "b25bd71d-a853-49a2-e130-d8109ec7e471"
      },
      "source": [
        "np.mean(x)"
      ],
      "execution_count": 107,
      "outputs": [
        {
          "output_type": "execute_result",
          "data": {
            "text/plain": [
              "3.0"
            ]
          },
          "metadata": {},
          "execution_count": 107
        }
      ]
    },
    {
      "cell_type": "code",
      "metadata": {
        "colab": {
          "base_uri": "https://localhost:8080/"
        },
        "id": "436ge7Du3GJE",
        "outputId": "8d51f2b9-9377-4369-a1e4-910e921215e2"
      },
      "source": [
        "np.std(x)"
      ],
      "execution_count": 108,
      "outputs": [
        {
          "output_type": "execute_result",
          "data": {
            "text/plain": [
              "1.4142135623730951"
            ]
          },
          "metadata": {},
          "execution_count": 108
        }
      ]
    },
    {
      "cell_type": "code",
      "metadata": {
        "colab": {
          "base_uri": "https://localhost:8080/"
        },
        "id": "Z-_sOCZf3Hwz",
        "outputId": "744fa470-aae1-438f-96ce-46ee3732c2b3"
      },
      "source": [
        "# 표준화\n",
        "x_std = (x - np.mean(x)) / np.std(x)\n",
        "x_std"
      ],
      "execution_count": 110,
      "outputs": [
        {
          "output_type": "execute_result",
          "data": {
            "text/plain": [
              "array([-1.41421356, -0.70710678,  0.        ,  0.70710678,  1.41421356])"
            ]
          },
          "metadata": {},
          "execution_count": 110
        }
      ]
    },
    {
      "cell_type": "code",
      "metadata": {
        "colab": {
          "base_uri": "https://localhost:8080/"
        },
        "id": "FzeWy0Ap3Vgk",
        "outputId": "5ea43bcf-c63d-4441-e6ca-6b43c12483a0"
      },
      "source": [
        "# 정규화\n",
        "x_norm = (x - np.min(x)) / (np.max(x) - np.min(x))\n",
        "x_norm"
      ],
      "execution_count": 112,
      "outputs": [
        {
          "output_type": "execute_result",
          "data": {
            "text/plain": [
              "array([0.  , 0.25, 0.5 , 0.75, 1.  ])"
            ]
          },
          "metadata": {},
          "execution_count": 112
        }
      ]
    },
    {
      "cell_type": "code",
      "metadata": {
        "id": "ZOBsZiMY47_c"
      },
      "source": [
        ""
      ],
      "execution_count": null,
      "outputs": []
    }
  ]
}
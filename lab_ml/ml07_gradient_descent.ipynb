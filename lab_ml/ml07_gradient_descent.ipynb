{
  "nbformat": 4,
  "nbformat_minor": 0,
  "metadata": {
    "colab": {
      "name": "ml07_gradient_descent.ipynb",
      "provenance": [],
      "collapsed_sections": [],
      "authorship_tag": "ABX9TyNy1QHzdVWQfirxw92Oruoa",
      "include_colab_link": true
    },
    "kernelspec": {
      "name": "python3",
      "display_name": "Python 3"
    },
    "language_info": {
      "name": "python"
    }
  },
  "cells": [
    {
      "cell_type": "markdown",
      "metadata": {
        "id": "view-in-github",
        "colab_type": "text"
      },
      "source": [
        "<a href=\"https://colab.research.google.com/github/JakeOh/202105_itw_bd26/blob/main/lab_ml/ml07_gradient_descent.ipynb\" target=\"_parent\"><img src=\"https://colab.research.google.com/assets/colab-badge.svg\" alt=\"Open In Colab\"/></a>"
      ]
    },
    {
      "cell_type": "markdown",
      "metadata": {
        "id": "0zMvKCHsIeZM"
      },
      "source": [
        "# Gradient Descent(경사 하강법)"
      ]
    },
    {
      "cell_type": "code",
      "metadata": {
        "id": "0yrahpbEIRkN"
      },
      "source": [
        "import numpy as np\n",
        "import pandas as pd\n",
        "import matplotlib.pyplot as plt"
      ],
      "execution_count": 1,
      "outputs": []
    },
    {
      "cell_type": "code",
      "metadata": {
        "colab": {
          "base_uri": "https://localhost:8080/",
          "height": 279
        },
        "id": "EEEQIwV3Iu_Z",
        "outputId": "58a114d8-f5ab-4d8c-ce60-7dc1f230b3f8"
      },
      "source": [
        "w = np.arange(-5, 5, 0.001)\n",
        "loss = w ** 2  # 손실 함수: J(w) = w^2\n",
        "\n",
        "plt.plot(w, loss)\n",
        "plt.grid()\n",
        "plt.xlabel('w')\n",
        "plt.ylabel('Loss')\n",
        "plt.show()"
      ],
      "execution_count": 2,
      "outputs": [
        {
          "output_type": "display_data",
          "data": {
            "image/png": "[encoded data removed]",
            "text/plain": [
              "<Figure size 432x288 with 1 Axes>"
            ]
          },
          "metadata": {
            "needs_background": "light"
          }
        }
      ]
    },
    {
      "cell_type": "code",
      "metadata": {
        "id": "ZgZEEW2JJ-NB"
      },
      "source": [
        "# 임의의 w를 선택\n",
        "w_init = -4"
      ],
      "execution_count": 3,
      "outputs": []
    },
    {
      "cell_type": "code",
      "metadata": {
        "id": "i6BRBPjXMD0J"
      },
      "source": [
        "# 선택한 w에서 비용함수의 접선의 기울기 계산\n",
        "grad = 2 * w_init"
      ],
      "execution_count": 4,
      "outputs": []
    },
    {
      "cell_type": "code",
      "metadata": {
        "colab": {
          "base_uri": "https://localhost:8080/"
        },
        "id": "H4DuIALTNF7C",
        "outputId": "d31219e9-fe19-40c8-dbcf-62fedd56041b"
      },
      "source": [
        "# 최초의 w 위치에서 기울기의 반대 방향으로 약간 이동\n",
        "w_next = w_init - grad * 0.1\n",
        "w_next"
      ],
      "execution_count": 11,
      "outputs": [
        {
          "output_type": "execute_result",
          "data": {
            "text/plain": [
              "-3.2"
            ]
          },
          "metadata": {},
          "execution_count": 11
        }
      ]
    },
    {
      "cell_type": "code",
      "metadata": {
        "id": "n4jxsvllNsbx"
      },
      "source": [
        ""
      ],
      "execution_count": null,
      "outputs": []
    },
    {
      "cell_type": "code",
      "metadata": {
        "id": "-iGZyzZ3NtF5"
      },
      "source": [
        ""
      ],
      "execution_count": null,
      "outputs": []
    }
  ]
}
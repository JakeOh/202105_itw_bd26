{
  "nbformat": 4,
  "nbformat_minor": 0,
  "metadata": {
    "colab": {
      "name": "ml11_ensemble.ipynb",
      "provenance": [],
      "collapsed_sections": [],
      "authorship_tag": "ABX9TyNpc2GnReo7i2ewJ0zuvNPT",
      "include_colab_link": true
    },
    "kernelspec": {
      "name": "python3",
      "display_name": "Python 3"
    },
    "language_info": {
      "name": "python"
    }
  },
  "cells": [
    {
      "cell_type": "markdown",
      "metadata": {
        "id": "view-in-github",
        "colab_type": "text"
      },
      "source": [
        "<a href=\"https://colab.research.google.com/github/JakeOh/202105_itw_bd26/blob/main/lab_ml/ml11_ensemble.ipynb\" target=\"_parent\"><img src=\"https://colab.research.google.com/assets/colab-badge.svg\" alt=\"Open In Colab\"/></a>"
      ]
    },
    {
      "cell_type": "markdown",
      "metadata": {
        "id": "NoKIIJIgBLz5"
      },
      "source": [
        "# Ensemble Learngin(앙상블 학습 방법)\n",
        "\n",
        "* 앙상블(ensemble): 머신 러닝에서 사용되는 일련의 모델(알고리즘)들.\n",
        "    * 서로 다른 모델 여러 개를 학습시키는 방법.\n",
        "    * 한 가지 모델을 서로 다른 훈련 셋에서 학습시키는 방법.\n",
        "* 앙상블 학습 방법: 앙상블을 사용한 머신 러닝 방법\n",
        "    * 투표(voting) 방식: 여러 모델을 학습시켜서 각각의 예측값을 투표(다수결) 또는 평균값으로 예측하는 학습 방법.\n",
        "    * **Bagging(Bootstrap Aggregating)**: 중복을 허용해서 샘플링한 훈련 셋의 부분집합들을 하나의 알고리즘에 학습시켜서 예측(다수결, 평균)하는 학습 방법.\n",
        "    * Pasting: 중복을 허용하지 않고 샘플링한 훈련 셋의 부분집합들을 하나의 알고리즘에 학습시켜서 예측하는 방법.\n",
        "* **Random Forest**: **Bagging**을 사용한 **Decision Tree**들의 **Ensemble** 학습 방법.\n"
      ]
    },
    {
      "cell_type": "markdown",
      "metadata": {
        "id": "AoIz6lwPD1Nn"
      },
      "source": [
        "# Imports"
      ]
    },
    {
      "cell_type": "code",
      "metadata": {
        "id": "UUqpISrUBH2c"
      },
      "source": [
        "import numpy as np\n",
        "import pandas as pd\n",
        "import matplotlib.pyplot as plt\n",
        "\n",
        "from sklearn import datasets\n",
        "from sklearn.model_selection import train_test_split, cross_validate, cross_val_score\n",
        "from sklearn.neighbors import KNeighborsClassifier\n",
        "from sklearn.linear_model import LogisticRegression, SGDClassifier\n",
        "from sklearn.tree import DecisionTreeClassifier\n",
        "from sklearn.svm import SVC  # Support Vector Machine을 사용한 분류 알고리즘\n",
        "from sklearn.ensemble import VotingClassifier, BaggingClassifier, RandomForestClassifier\n",
        "from sklearn.ensemble import ExtraTreesClassifier, GradientBoostingClassifier\n",
        "\n",
        "from xgboost import XGBClassifier  # Extreme Gradient Boosting\n",
        "from lightgbm import LGBMClassifier"
      ],
      "execution_count": 3,
      "outputs": []
    },
    {
      "cell_type": "markdown",
      "metadata": {
        "id": "FAXMpce8GBy_"
      },
      "source": [
        "# Dataset 준비\n",
        "\n",
        "2개의 특성(x1, x2)과, 2개의 클래스(0, 1)를 갖는 가상의 데이터 셋"
      ]
    },
    {
      "cell_type": "code",
      "metadata": {
        "id": "BW9DMrKIEB_4"
      },
      "source": [
        "X, y = datasets.make_moons(n_samples=500, noise=0.3, random_state=42)"
      ],
      "execution_count": 14,
      "outputs": []
    },
    {
      "cell_type": "code",
      "metadata": {
        "colab": {
          "base_uri": "https://localhost:8080/"
        },
        "id": "WcNtdLLOGf7f",
        "outputId": "c7405605-b35a-48f6-8042-58597dbeb1ad"
      },
      "source": [
        "X.shape, y.shape"
      ],
      "execution_count": 6,
      "outputs": [
        {
          "output_type": "execute_result",
          "data": {
            "text/plain": [
              "((500, 2), (500,))"
            ]
          },
          "metadata": {},
          "execution_count": 6
        }
      ]
    },
    {
      "cell_type": "code",
      "metadata": {
        "colab": {
          "base_uri": "https://localhost:8080/"
        },
        "id": "I246zJlGGhkn",
        "outputId": "54d5aa2d-95da-4252-a89e-4be99f03fddb"
      },
      "source": [
        "np.unique(y)"
      ],
      "execution_count": 7,
      "outputs": [
        {
          "output_type": "execute_result",
          "data": {
            "text/plain": [
              "array([0, 1])"
            ]
          },
          "metadata": {},
          "execution_count": 7
        }
      ]
    },
    {
      "cell_type": "code",
      "metadata": {
        "colab": {
          "base_uri": "https://localhost:8080/",
          "height": 279
        },
        "id": "UErAdK3TGp3P",
        "outputId": "94061c39-670c-4764-c04d-665befad3f94"
      },
      "source": [
        "plt.scatter(X[y == 0, 0], X[y == 0, 1], label='class-0')\n",
        "plt.scatter(X[y == 1, 0], X[y == 1, 1], label='class-1')\n",
        "\n",
        "plt.legend()\n",
        "plt.grid()\n",
        "plt.xlabel('x1')\n",
        "plt.ylabel('x2')\n",
        "plt.show()"
      ],
      "execution_count": 15,
      "outputs": [
        {
          "output_type": "display_data",
          "data": {
            "image/png": "[encoded data removed]",
            "text/plain": [
              "<Figure size 432x288 with 1 Axes>"
            ]
          },
          "metadata": {
            "needs_background": "light"
          }
        }
      ]
    },
    {
      "cell_type": "code",
      "metadata": {
        "id": "SfoNPaVwHOj1"
      },
      "source": [
        "# train/test set 분리\n",
        "X_train, X_test, y_train, y_test = train_test_split(X, y,\n",
        "                                                    test_size=0.2,\n",
        "                                                    stratify=y,\n",
        "                                                    random_state=42)"
      ],
      "execution_count": 16,
      "outputs": []
    },
    {
      "cell_type": "code",
      "metadata": {
        "colab": {
          "base_uri": "https://localhost:8080/"
        },
        "id": "SlJikyeNaoTA",
        "outputId": "eff1c3f8-8933-44b1-c949-cbe1b0267986"
      },
      "source": [
        "X_train.shape, X_test.shape"
      ],
      "execution_count": 17,
      "outputs": [
        {
          "output_type": "execute_result",
          "data": {
            "text/plain": [
              "((400, 2), (100, 2))"
            ]
          },
          "metadata": {},
          "execution_count": 17
        }
      ]
    },
    {
      "cell_type": "markdown",
      "metadata": {
        "id": "ndhAaCB2atvX"
      },
      "source": [
        "# 머신 러닝 모델 비교\n",
        "\n",
        "* 여러 개의 머신 러닝 모델들을 훈련 셋(X_train, X_test)로 훈련\n",
        "    * KNN, Logistic Regression, SGD, Decision Tree, SVM\n",
        "* 훈련된 각 모델에서 테스트 셋의 점수(정확도)를 계산, 평가\n"
      ]
    },
    {
      "cell_type": "code",
      "metadata": {
        "id": "Sjof_M1uaq7_"
      },
      "source": [
        "# 5개의 머신 러닝 학습기 객체 생성\n",
        "knn_clf = KNeighborsClassifier(n_jobs=-1)\n",
        "log_clf = LogisticRegression(random_state=42, n_jobs=-1)\n",
        "sgd_clf = SGDClassifier(loss='log', n_jobs=-1, random_state=42)  # loss='log'이어야 예측 확률을 계산할 수 있음.\n",
        "tree_clf = DecisionTreeClassifier(random_state=42)\n",
        "svm_clf = SVC(probability=True, random_state=42)"
      ],
      "execution_count": 18,
      "outputs": []
    },
    {
      "cell_type": "code",
      "metadata": {
        "colab": {
          "base_uri": "https://localhost:8080/"
        },
        "id": "ATvao1y1dsbe",
        "outputId": "35d0a61d-7853-4277-8051-ac30605e1fe0"
      },
      "source": [
        "knn_clf.__class__"
      ],
      "execution_count": 19,
      "outputs": [
        {
          "output_type": "execute_result",
          "data": {
            "text/plain": [
              "sklearn.neighbors._classification.KNeighborsClassifier"
            ]
          },
          "metadata": {},
          "execution_count": 19
        }
      ]
    },
    {
      "cell_type": "code",
      "metadata": {
        "colab": {
          "base_uri": "https://localhost:8080/",
          "height": 36
        },
        "id": "tikalS-Odv8d",
        "outputId": "b01135ef-1a0f-490f-dce9-cfce8a4b0f55"
      },
      "source": [
        "knn_clf.__class__.__name__"
      ],
      "execution_count": 20,
      "outputs": [
        {
          "output_type": "execute_result",
          "data": {
            "application/vnd.google.colaboratory.intrinsic+json": {
              "type": "string"
            },
            "text/plain": [
              "'KNeighborsClassifier'"
            ]
          },
          "metadata": {},
          "execution_count": 20
        }
      ]
    },
    {
      "cell_type": "code",
      "metadata": {
        "colab": {
          "base_uri": "https://localhost:8080/"
        },
        "id": "9m0zDqECc5tQ",
        "outputId": "503bddf5-3c72-49f7-ee55-8fe5d02e3581"
      },
      "source": [
        "classifiers = [knn_clf, log_clf, sgd_clf, tree_clf, svm_clf]\n",
        "for clf in classifiers:\n",
        "    clf.fit(X_train, y_train)  # 모델 훈련\n",
        "    acc = clf.score(X_test, y_test)  # 테스트 셋 평가 점수(정확도) 계산\n",
        "    print(clf.__class__.__name__, 'accuracy:', acc)"
      ],
      "execution_count": 21,
      "outputs": [
        {
          "output_type": "stream",
          "name": "stdout",
          "text": [
            "KNeighborsClassifier accuracy: 0.93\n",
            "LogisticRegression accuracy: 0.81\n",
            "SGDClassifier accuracy: 0.81\n",
            "DecisionTreeClassifier accuracy: 0.84\n",
            "SVC accuracy: 0.93\n"
          ]
        }
      ]
    },
    {
      "cell_type": "markdown",
      "metadata": {
        "id": "KupppQ68eqOd"
      },
      "source": [
        "# Voting Ensemble"
      ]
    },
    {
      "cell_type": "code",
      "metadata": {
        "id": "T8f2I1pSeE7X"
      },
      "source": [
        "# VotingEnsemble 학습기 객체 생성\n",
        "vote_clf = VotingClassifier(estimators=[('knn', knn_clf),\n",
        "                                        ('log', log_clf),\n",
        "                                        ('sgd', sgd_clf),\n",
        "                                        ('tree', tree_clf),\n",
        "                                        ('svm', svm_clf)],\n",
        "                            voting='soft', n_jobs=-1)\n",
        "# estimators: VotingEnsemble을 만들기 위한 ML 모델 ('모델이름', 모델 객체) 튜플들의 리스트\n",
        "# voting: 투표 방식\n",
        "#> voting='hard': 모든 ML 모델들이 동일하게 1표씩 행사. 예측 확률을 계산할 필요가 없음.\n",
        "#> voting='soft': 각 모델의 예측값에 각 모델에서 예측된 예측 확률을 가중치로 곱한 값을 사용해서 결과를 예측.\n",
        "#> 일반적으로 soft voting 방식이 hard voting 방식보다 성능이 더 좋다고 알려져 있음."
      ],
      "execution_count": 22,
      "outputs": []
    },
    {
      "cell_type": "code",
      "metadata": {
        "colab": {
          "base_uri": "https://localhost:8080/"
        },
        "id": "Dyl4OTdMhxfu",
        "outputId": "6d63eb7b-6247-4901-cff4-c0429d93a2bb"
      },
      "source": [
        "# 모델 학습\n",
        "vote_clf.fit(X_train, y_train)"
      ],
      "execution_count": 23,
      "outputs": [
        {
          "output_type": "execute_result",
          "data": {
            "text/plain": [
              "VotingClassifier(estimators=[('knn',\n",
              "                              KNeighborsClassifier(algorithm='auto',\n",
              "                                                   leaf_size=30,\n",
              "                                                   metric='minkowski',\n",
              "                                                   metric_params=None,\n",
              "                                                   n_jobs=-1, n_neighbors=5,\n",
              "                                                   p=2, weights='uniform')),\n",
              "                             ('log',\n",
              "                              LogisticRegression(C=1.0, class_weight=None,\n",
              "                                                 dual=False, fit_intercept=True,\n",
              "                                                 intercept_scaling=1,\n",
              "                                                 l1_ratio=None, max_iter=100,\n",
              "                                                 multi_class='auto', n_jobs=-1,\n",
              "                                                 penalty='l2', random_s...\n",
              "                                                     min_weight_fraction_leaf=0.0,\n",
              "                                                     presort='deprecated',\n",
              "                                                     random_state=42,\n",
              "                                                     splitter='best')),\n",
              "                             ('svm',\n",
              "                              SVC(C=1.0, break_ties=False, cache_size=200,\n",
              "                                  class_weight=None, coef0=0.0,\n",
              "                                  decision_function_shape='ovr', degree=3,\n",
              "                                  gamma='scale', kernel='rbf', max_iter=-1,\n",
              "                                  probability=True, random_state=42,\n",
              "                                  shrinking=True, tol=0.001, verbose=False))],\n",
              "                 flatten_transform=True, n_jobs=-1, voting='soft',\n",
              "                 weights=None)"
            ]
          },
          "metadata": {},
          "execution_count": 23
        }
      ]
    },
    {
      "cell_type": "code",
      "metadata": {
        "colab": {
          "base_uri": "https://localhost:8080/"
        },
        "id": "y57itlufh4RM",
        "outputId": "af3b896a-1652-47e7-c76e-4be3217f9c1e"
      },
      "source": [
        "# 모델 평가\n",
        "vote_clf.score(X_test, y_test)"
      ],
      "execution_count": 24,
      "outputs": [
        {
          "output_type": "execute_result",
          "data": {
            "text/plain": [
              "0.92"
            ]
          },
          "metadata": {},
          "execution_count": 24
        }
      ]
    },
    {
      "cell_type": "markdown",
      "metadata": {
        "id": "1dBY-cH5iT2s"
      },
      "source": [
        "# Bagging(Bootrap Aggregating) Ensemble"
      ]
    },
    {
      "cell_type": "code",
      "metadata": {
        "id": "Cn3JNESziDvm"
      },
      "source": [
        "# bagging ensemble 객체 생성\n",
        "bagging_clf = BaggingClassifier(base_estimator=DecisionTreeClassifier(random_state=42),\n",
        "                                n_estimators=50,\n",
        "                                max_samples=100,\n",
        "                                bootstrap=True,\n",
        "                                oob_score=True,\n",
        "                                n_jobs=-1,\n",
        "                                random_state=42)"
      ],
      "execution_count": 25,
      "outputs": []
    },
    {
      "cell_type": "markdown",
      "metadata": {
        "id": "WSxP-nr_p9xn"
      },
      "source": [
        "BaggingClassifier의 파라미터:\n",
        "\n",
        "* base_estimator: 기본 추정기(예측기). 머신 러닝 모델 객체.\n",
        "* n_etimators: 추정기(예측기)의 개수. 기본값 10.\n",
        "* max_samples: 훈련 셋의 부분 집합이 가질 수 있는 최대 샘플 개수(정수) 또는 비율(0 ~ 1.0). 기본값은 1.0.\n",
        "* bootstrap: True(중복 허용 샘플링, bagging). False(중복 불허 샘플링, pasting). 기본값은 True.\n",
        "* oob_score: True(OOB 샘플로 평가 점수 계산). False(OOB 샘플로 평가 점수를 계산하지 않음). 기본값은 False.\n",
        "    * OOB(Out-Of-Bagging) 샘플: 중복 허용 샘플링을 하는 동안 한 번도 샘플링되지 못하고 남아 있는 훈련 셋의 샘플.\n",
        "    * OOB sample은 validation set 역할을 할 수 있음."
      ]
    },
    {
      "cell_type": "code",
      "metadata": {
        "colab": {
          "base_uri": "https://localhost:8080/"
        },
        "id": "DoPS-Uczj7cV",
        "outputId": "d6f15f79-9b4e-47b5-8faa-7b5b3c66539d"
      },
      "source": [
        "# 모델 훈련\n",
        "bagging_clf.fit(X_train, y_train)"
      ],
      "execution_count": 26,
      "outputs": [
        {
          "output_type": "execute_result",
          "data": {
            "text/plain": [
              "BaggingClassifier(base_estimator=DecisionTreeClassifier(ccp_alpha=0.0,\n",
              "                                                        class_weight=None,\n",
              "                                                        criterion='gini',\n",
              "                                                        max_depth=None,\n",
              "                                                        max_features=None,\n",
              "                                                        max_leaf_nodes=None,\n",
              "                                                        min_impurity_decrease=0.0,\n",
              "                                                        min_impurity_split=None,\n",
              "                                                        min_samples_leaf=1,\n",
              "                                                        min_samples_split=2,\n",
              "                                                        min_weight_fraction_leaf=0.0,\n",
              "                                                        presort='deprecated',\n",
              "                                                        random_state=42,\n",
              "                                                        splitter='best'),\n",
              "                  bootstrap=True, bootstrap_features=False, max_features=1.0,\n",
              "                  max_samples=100, n_estimators=50, n_jobs=-1, oob_score=True,\n",
              "                  random_state=42, verbose=0, warm_start=False)"
            ]
          },
          "metadata": {},
          "execution_count": 26
        }
      ]
    },
    {
      "cell_type": "code",
      "metadata": {
        "colab": {
          "base_uri": "https://localhost:8080/"
        },
        "id": "KoaPqxBXkCZF",
        "outputId": "550cee5d-ded8-4465-84b5-98faedd8ed47"
      },
      "source": [
        "bagging_clf.oob_score_  # OOB(Out-of-Bagging) 샘플에서의 점수(정확도) --> 보통 테스트 셋의 점수와 비슷함."
      ],
      "execution_count": 27,
      "outputs": [
        {
          "output_type": "execute_result",
          "data": {
            "text/plain": [
              "0.905"
            ]
          },
          "metadata": {},
          "execution_count": 27
        }
      ]
    },
    {
      "cell_type": "code",
      "metadata": {
        "colab": {
          "base_uri": "https://localhost:8080/"
        },
        "id": "cuuZ0kdXkN4c",
        "outputId": "9631023a-f79f-48a3-a029-d90db4e8071b"
      },
      "source": [
        "bagging_clf.score(X_test, y_test)"
      ],
      "execution_count": 28,
      "outputs": [
        {
          "output_type": "execute_result",
          "data": {
            "text/plain": [
              "0.91"
            ]
          },
          "metadata": {},
          "execution_count": 28
        }
      ]
    },
    {
      "cell_type": "markdown",
      "metadata": {
        "id": "k9Y977hRskj6"
      },
      "source": [
        "# RandomForest\n",
        "\n",
        "Decision Tree를 사용하는 Bagging Ensemble 학습 방법.\n",
        "\n",
        "* DecisionTree의 파라미터와 Bagging의 파라미터들을 갖음.\n",
        "* GridSearchCV, RandomizedSearchCV을 이용해서 tree와 bagging의 하이퍼파라미터들을 튜닝할 수 있음."
      ]
    },
    {
      "cell_type": "code",
      "metadata": {
        "id": "k7UKEIdJkgwV"
      },
      "source": [
        "# Random Forest 분류기 객체 생성\n",
        "forest_clf = RandomForestClassifier(n_estimators=50, max_samples=100, oob_score=True,\n",
        "                                    n_jobs=-1, random_state=42)"
      ],
      "execution_count": 29,
      "outputs": []
    },
    {
      "cell_type": "code",
      "metadata": {
        "colab": {
          "base_uri": "https://localhost:8080/"
        },
        "id": "gpdXNpwAuc1R",
        "outputId": "88265fc4-49ea-451e-887e-6177fb62c4e3"
      },
      "source": [
        "# 모델 훈련\n",
        "forest_clf.fit(X_train, y_train)"
      ],
      "execution_count": 30,
      "outputs": [
        {
          "output_type": "execute_result",
          "data": {
            "text/plain": [
              "RandomForestClassifier(bootstrap=True, ccp_alpha=0.0, class_weight=None,\n",
              "                       criterion='gini', max_depth=None, max_features='auto',\n",
              "                       max_leaf_nodes=None, max_samples=100,\n",
              "                       min_impurity_decrease=0.0, min_impurity_split=None,\n",
              "                       min_samples_leaf=1, min_samples_split=2,\n",
              "                       min_weight_fraction_leaf=0.0, n_estimators=50, n_jobs=-1,\n",
              "                       oob_score=True, random_state=42, verbose=0,\n",
              "                       warm_start=False)"
            ]
          },
          "metadata": {},
          "execution_count": 30
        }
      ]
    },
    {
      "cell_type": "code",
      "metadata": {
        "colab": {
          "base_uri": "https://localhost:8080/"
        },
        "id": "6mOSVbZZuhpw",
        "outputId": "f65e12ff-6af3-4343-da74-da2f0cac6e8f"
      },
      "source": [
        "# OOB 샘플의 점수\n",
        "forest_clf.oob_score_"
      ],
      "execution_count": 31,
      "outputs": [
        {
          "output_type": "execute_result",
          "data": {
            "text/plain": [
              "0.9125"
            ]
          },
          "metadata": {},
          "execution_count": 31
        }
      ]
    },
    {
      "cell_type": "code",
      "metadata": {
        "colab": {
          "base_uri": "https://localhost:8080/"
        },
        "id": "e_t8HkrtvIS5",
        "outputId": "60ba8736-e76f-48d3-ec78-cfa791896383"
      },
      "source": [
        "# 테스트 셋의 정확도\n",
        "forest_clf.score(X_test, y_test)"
      ],
      "execution_count": 32,
      "outputs": [
        {
          "output_type": "execute_result",
          "data": {
            "text/plain": [
              "0.91"
            ]
          },
          "metadata": {},
          "execution_count": 32
        }
      ]
    },
    {
      "cell_type": "markdown",
      "metadata": {
        "id": "12PXMH5Hvj35"
      },
      "source": [
        "# Wine datasets\n",
        "\n",
        "red/white wine 분류"
      ]
    },
    {
      "cell_type": "code",
      "metadata": {
        "id": "-crUaA5tvR5h"
      },
      "source": [
        "wine = pd.read_csv('https://bit.ly/wine-date')"
      ],
      "execution_count": 33,
      "outputs": []
    },
    {
      "cell_type": "code",
      "metadata": {
        "colab": {
          "base_uri": "https://localhost:8080/",
          "height": 206
        },
        "id": "Y0cViT3Lv3Dh",
        "outputId": "5e65e613-efcf-4093-f65b-bcbd3ac8361c"
      },
      "source": [
        "wine.head()"
      ],
      "execution_count": 34,
      "outputs": [
        {
          "output_type": "execute_result",
          "data": {
            "text/html": [
              "<div>\n",
              "<style scoped>\n",
              "    .dataframe tbody tr th:only-of-type {\n",
              "        vertical-align: middle;\n",
              "    }\n",
              "\n",
              "    .dataframe tbody tr th {\n",
              "        vertical-align: top;\n",
              "    }\n",
              "\n",
              "    .dataframe thead th {\n",
              "        text-align: right;\n",
              "    }\n",
              "</style>\n",
              "<table border=\"1\" class=\"dataframe\">\n",
              "  <thead>\n",
              "    <tr style=\"text-align: right;\">\n",
              "      <th></th>\n",
              "      <th>alcohol</th>\n",
              "      <th>sugar</th>\n",
              "      <th>pH</th>\n",
              "      <th>class</th>\n",
              "    </tr>\n",
              "  </thead>\n",
              "  <tbody>\n",
              "    <tr>\n",
              "      <th>0</th>\n",
              "      <td>9.4</td>\n",
              "      <td>1.9</td>\n",
              "      <td>3.51</td>\n",
              "      <td>0.0</td>\n",
              "    </tr>\n",
              "    <tr>\n",
              "      <th>1</th>\n",
              "      <td>9.8</td>\n",
              "      <td>2.6</td>\n",
              "      <td>3.20</td>\n",
              "      <td>0.0</td>\n",
              "    </tr>\n",
              "    <tr>\n",
              "      <th>2</th>\n",
              "      <td>9.8</td>\n",
              "      <td>2.3</td>\n",
              "      <td>3.26</td>\n",
              "      <td>0.0</td>\n",
              "    </tr>\n",
              "    <tr>\n",
              "      <th>3</th>\n",
              "      <td>9.8</td>\n",
              "      <td>1.9</td>\n",
              "      <td>3.16</td>\n",
              "      <td>0.0</td>\n",
              "    </tr>\n",
              "    <tr>\n",
              "      <th>4</th>\n",
              "      <td>9.4</td>\n",
              "      <td>1.9</td>\n",
              "      <td>3.51</td>\n",
              "      <td>0.0</td>\n",
              "    </tr>\n",
              "  </tbody>\n",
              "</table>\n",
              "</div>"
            ],
            "text/plain": [
              "   alcohol  sugar    pH  class\n",
              "0      9.4    1.9  3.51    0.0\n",
              "1      9.8    2.6  3.20    0.0\n",
              "2      9.8    2.3  3.26    0.0\n",
              "3      9.8    1.9  3.16    0.0\n",
              "4      9.4    1.9  3.51    0.0"
            ]
          },
          "metadata": {},
          "execution_count": 34
        }
      ]
    },
    {
      "cell_type": "code",
      "metadata": {
        "colab": {
          "base_uri": "https://localhost:8080/"
        },
        "id": "msaWQTc0v4NY",
        "outputId": "dc021b21-415a-4230-fe36-0d180eace2d4"
      },
      "source": [
        "# feature matrix, target vector\n",
        "X = wine.drop(columns='class').values\n",
        "y = wine['class'].values\n",
        "X.shape, y.shape"
      ],
      "execution_count": 35,
      "outputs": [
        {
          "output_type": "execute_result",
          "data": {
            "text/plain": [
              "((6497, 3), (6497,))"
            ]
          },
          "metadata": {},
          "execution_count": 35
        }
      ]
    },
    {
      "cell_type": "code",
      "metadata": {
        "id": "FbDM0owawMvf"
      },
      "source": [
        "# train/test split\n",
        "X_train, X_test, y_train, y_test = train_test_split(X, y,\n",
        "                                                    test_size=0.2,\n",
        "                                                    stratify=y,\n",
        "                                                    random_state=42)"
      ],
      "execution_count": 36,
      "outputs": []
    },
    {
      "cell_type": "code",
      "metadata": {
        "id": "GNeLFjdwwf0Y"
      },
      "source": [
        "# Random Forest 모델 생성\n",
        "forest_clf = RandomForestClassifier(oob_score=True, n_jobs=-1, random_state=42)"
      ],
      "execution_count": 37,
      "outputs": []
    },
    {
      "cell_type": "code",
      "metadata": {
        "colab": {
          "base_uri": "https://localhost:8080/"
        },
        "id": "Ae8-tzM8w3bP",
        "outputId": "884ccffb-b18d-41f7-c898-ae422aa22836"
      },
      "source": [
        "# 모델 훈련\n",
        "forest_clf.fit(X_train, y_train)"
      ],
      "execution_count": 38,
      "outputs": [
        {
          "output_type": "execute_result",
          "data": {
            "text/plain": [
              "RandomForestClassifier(bootstrap=True, ccp_alpha=0.0, class_weight=None,\n",
              "                       criterion='gini', max_depth=None, max_features='auto',\n",
              "                       max_leaf_nodes=None, max_samples=None,\n",
              "                       min_impurity_decrease=0.0, min_impurity_split=None,\n",
              "                       min_samples_leaf=1, min_samples_split=2,\n",
              "                       min_weight_fraction_leaf=0.0, n_estimators=100,\n",
              "                       n_jobs=-1, oob_score=True, random_state=42, verbose=0,\n",
              "                       warm_start=False)"
            ]
          },
          "metadata": {},
          "execution_count": 38
        }
      ]
    },
    {
      "cell_type": "code",
      "metadata": {
        "colab": {
          "base_uri": "https://localhost:8080/"
        },
        "id": "JahGXGnBxXWg",
        "outputId": "69cbd5b3-c77f-4c7b-ffe3-08f79b60fa4d"
      },
      "source": [
        "# 훈련 셋에서의 정확도 - Overfitting 여부를 확인하기 위해서\n",
        "forest_clf.score(X_train, y_train)"
      ],
      "execution_count": 39,
      "outputs": [
        {
          "output_type": "execute_result",
          "data": {
            "text/plain": [
              "0.9978833942659227"
            ]
          },
          "metadata": {},
          "execution_count": 39
        }
      ]
    },
    {
      "cell_type": "code",
      "metadata": {
        "colab": {
          "base_uri": "https://localhost:8080/"
        },
        "id": "JRYhHYvuxjE_",
        "outputId": "b43c10c7-ed13-414f-e0be-3894e701dd7c"
      },
      "source": [
        "# OOB 샘플 점수\n",
        "forest_clf.oob_score_"
      ],
      "execution_count": 40,
      "outputs": [
        {
          "output_type": "execute_result",
          "data": {
            "text/plain": [
              "0.8964787377333077"
            ]
          },
          "metadata": {},
          "execution_count": 40
        }
      ]
    },
    {
      "cell_type": "code",
      "metadata": {
        "colab": {
          "base_uri": "https://localhost:8080/"
        },
        "id": "oof5nQTBxvQH",
        "outputId": "479ffc95-1c2b-4eeb-b7a9-1657d98f7b6d"
      },
      "source": [
        "# 테스트 셋에서의 정확도\n",
        "forest_clf.score(X_test, y_test)"
      ],
      "execution_count": 41,
      "outputs": [
        {
          "output_type": "execute_result",
          "data": {
            "text/plain": [
              "0.8892307692307693"
            ]
          },
          "metadata": {},
          "execution_count": 41
        }
      ]
    },
    {
      "cell_type": "code",
      "metadata": {
        "colab": {
          "base_uri": "https://localhost:8080/"
        },
        "id": "8wAdu21_x4Z_",
        "outputId": "7caceb7c-80b5-4d30-a2d2-33948e8cb9b4"
      },
      "source": [
        "cross_validate(estimator=forest_clf, X=X_train, y=y_train, n_jobs=-1, return_train_score=True)"
      ],
      "execution_count": 42,
      "outputs": [
        {
          "output_type": "execute_result",
          "data": {
            "text/plain": [
              "{'fit_time': array([0.8108778 , 0.80248237, 0.75484729, 0.69827962, 0.53912377]),\n",
              " 'score_time': array([0.10250258, 0.1028502 , 0.10965633, 0.1024127 , 0.10227919]),\n",
              " 'test_score': array([0.90480769, 0.89903846, 0.88546679, 0.89412897, 0.88546679]),\n",
              " 'train_score': array([0.99807554, 0.99807554, 0.9983165 , 0.998076  , 0.9983165 ])}"
            ]
          },
          "metadata": {},
          "execution_count": 42
        }
      ]
    },
    {
      "cell_type": "markdown",
      "metadata": {
        "id": "LwZiKP9H2w3u"
      },
      "source": [
        "# Extra Tree\n",
        "\n",
        "* Random Forest와 비슷한 점:\n",
        "    * 여러 개(기본값은 100개)의 decision tree들을 훈련\n",
        "    * decision tree의 파라미터들을 튜닝할 수 있음.\n",
        "* Random Forest와 다른 점:\n",
        "    * Boostrap 샘플을 사용하지 않음. 여러 개의 decision tree들을 전체 훈련 셋을 사용해서 훈련.\n",
        "    * 노드를 분할할 때 가장 좋은 분할을 찾는 게 아니라, 무작위 분할을 사용.\n",
        "        * Random Forest는 최적의 분할을 찾기 위해서 많은 훈련 시간이 필요.\n",
        "        * Extra Tree는 무작위 분할을 하기 때문에 훈련 시간이 빠름."
      ]
    },
    {
      "cell_type": "code",
      "metadata": {
        "colab": {
          "base_uri": "https://localhost:8080/"
        },
        "id": "O-sbzy492Y_-",
        "outputId": "2a04d87d-d02e-4c23-a78e-a2b5fe2ad5e1"
      },
      "source": [
        "extra_tree = ExtraTreesClassifier(n_jobs=-1, random_state=42)\n",
        "cv = cross_validate(estimator=extra_tree, X=X_train, y=y_train, n_jobs=-1, \n",
        "                    return_train_score=True)\n",
        "cv"
      ],
      "execution_count": 43,
      "outputs": [
        {
          "output_type": "execute_result",
          "data": {
            "text/plain": [
              "{'fit_time': array([0.58303213, 0.57722211, 0.58215046, 0.49875975, 0.3701005 ]),\n",
              " 'score_time': array([0.1036427 , 0.10242152, 0.10238147, 0.10765338, 0.10247135]),\n",
              " 'test_score': array([0.89519231, 0.90480769, 0.88450433, 0.89509143, 0.8825794 ]),\n",
              " 'train_score': array([0.99807554, 0.99807554, 0.9983165 , 0.998076  , 0.9983165 ])}"
            ]
          },
          "metadata": {},
          "execution_count": 43
        }
      ]
    },
    {
      "cell_type": "code",
      "metadata": {
        "colab": {
          "base_uri": "https://localhost:8080/"
        },
        "id": "RaI7C9wL5DbH",
        "outputId": "1e27af17-3a85-4678-bef9-4997fbebd40a"
      },
      "source": [
        "np.mean(cv['train_score'])"
      ],
      "execution_count": 44,
      "outputs": [
        {
          "output_type": "execute_result",
          "data": {
            "text/plain": [
              "0.9981720130385032"
            ]
          },
          "metadata": {},
          "execution_count": 44
        }
      ]
    },
    {
      "cell_type": "code",
      "metadata": {
        "colab": {
          "base_uri": "https://localhost:8080/"
        },
        "id": "mf2mVKwd5HtM",
        "outputId": "12d756c9-e7ec-41da-d7e8-ff8af098e835"
      },
      "source": [
        "np.mean(cv['test_score'])\n",
        "#> overfitting이 큼."
      ],
      "execution_count": 45,
      "outputs": [
        {
          "output_type": "execute_result",
          "data": {
            "text/plain": [
              "0.8924350336862368"
            ]
          },
          "metadata": {},
          "execution_count": 45
        }
      ]
    },
    {
      "cell_type": "code",
      "metadata": {
        "colab": {
          "base_uri": "https://localhost:8080/"
        },
        "id": "0ReCdDcu5LAU",
        "outputId": "a6dc844b-c51e-4e45-cfbe-60dc1fd32538"
      },
      "source": [
        "# 검증 셋(validation set)에서의 평가 점수만 리턴 - overfitting 여부는 확인할 수 없음.\n",
        "cross_val_score(estimator=extra_tree, X=X_train, y=y_train, n_jobs=-1)"
      ],
      "execution_count": 46,
      "outputs": [
        {
          "output_type": "execute_result",
          "data": {
            "text/plain": [
              "array([0.89519231, 0.90480769, 0.88450433, 0.89509143, 0.8825794 ])"
            ]
          },
          "metadata": {},
          "execution_count": 46
        }
      ]
    },
    {
      "cell_type": "markdown",
      "metadata": {
        "id": "S-4ASbNJ8Ii0"
      },
      "source": [
        "# Gradient Boosting\n",
        "\n",
        "* 깊이(depth)가 얕은 decision tree들을 직렬로(순차적으로) 연결해서 훈련.\n",
        "* 훈련시킬 때, 이전 훈련 단계에서 발생한 오차들을 그 다음 훈련에서 가중치를 주고 훈련시킴.\n",
        "* 장점: 깊이가 얕은 tree를 사용하기 때문에, 과대적합이 작아지고 높은 일반화 성능을 기대할 수 있음.\n",
        "* 단점: Random Forest처럼 병렬로 훈련시킬 수 없음(n_jobs 파라미터가 없음). 훈련 속도가 느림.\n",
        "* Gradient Descent(경사 하강법) + Decision Tree + Ensemble 파라미터들을 튜닝할 수 있음.\n"
      ]
    },
    {
      "cell_type": "code",
      "metadata": {
        "id": "eZHe0RCH5hHt"
      },
      "source": [
        "# 모델 생성\n",
        "grad_boost  = GradientBoostingClassifier(random_state=42)"
      ],
      "execution_count": 47,
      "outputs": []
    },
    {
      "cell_type": "code",
      "metadata": {
        "colab": {
          "base_uri": "https://localhost:8080/"
        },
        "id": "RQ8HG0z9-hVE",
        "outputId": "9d44305c-675b-4755-bc74-c79710ca2d44"
      },
      "source": [
        "# 교차 검증 수행\n",
        "cv = cross_validate(estimator=grad_boost, X=X_train, y=y_train, n_jobs=-1, \n",
        "                    return_train_score=True)\n",
        "cv"
      ],
      "execution_count": 48,
      "outputs": [
        {
          "output_type": "execute_result",
          "data": {
            "text/plain": [
              "{'fit_time': array([0.51547122, 0.50985765, 0.53242207, 0.52623439, 0.33480358]),\n",
              " 'score_time': array([0.00385737, 0.00435519, 0.00374722, 0.00373745, 0.00279164]),\n",
              " 'test_score': array([0.87692308, 0.87692308, 0.86717998, 0.87680462, 0.85948027]),\n",
              " 'train_score': array([0.88501323, 0.88645658, 0.89009139, 0.88287638, 0.88624339])}"
            ]
          },
          "metadata": {},
          "execution_count": 48
        }
      ]
    },
    {
      "cell_type": "code",
      "metadata": {
        "colab": {
          "base_uri": "https://localhost:8080/"
        },
        "id": "vVK7kqKy-zbj",
        "outputId": "03ff7b91-d8e0-4383-afee-e830df6c85c8"
      },
      "source": [
        "np.mean(cv['train_score'])"
      ],
      "execution_count": 49,
      "outputs": [
        {
          "output_type": "execute_result",
          "data": {
            "text/plain": [
              "0.886136193834053"
            ]
          },
          "metadata": {},
          "execution_count": 49
        }
      ]
    },
    {
      "cell_type": "code",
      "metadata": {
        "colab": {
          "base_uri": "https://localhost:8080/"
        },
        "id": "D5m8j_IP_CpK",
        "outputId": "c6ceaba8-1ce1-4dba-eb1e-b5f6fb8534e9"
      },
      "source": [
        "np.mean(cv['test_score'])\n",
        "#> overfitting이 거의 없음."
      ],
      "execution_count": 50,
      "outputs": [
        {
          "output_type": "execute_result",
          "data": {
            "text/plain": [
              "0.8714622047827053"
            ]
          },
          "metadata": {},
          "execution_count": 50
        }
      ]
    }
  ]
}
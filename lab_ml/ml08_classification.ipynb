{
  "nbformat": 4,
  "nbformat_minor": 0,
  "metadata": {
    "colab": {
      "name": "ml08_classification.ipynb",
      "provenance": [],
      "collapsed_sections": [],
      "authorship_tag": "ABX9TyPOaCI8n5F+786Y1lT/On9I",
      "include_colab_link": true
    },
    "kernelspec": {
      "name": "python3",
      "display_name": "Python 3"
    },
    "language_info": {
      "name": "python"
    }
  },
  "cells": [
    {
      "cell_type": "markdown",
      "metadata": {
        "id": "view-in-github",
        "colab_type": "text"
      },
      "source": [
        "<a href=\"https://colab.research.google.com/github/JakeOh/202105_itw_bd26/blob/main/lab_ml/ml08_classification.ipynb\" target=\"_parent\"><img src=\"https://colab.research.google.com/assets/colab-badge.svg\" alt=\"Open In Colab\"/></a>"
      ]
    },
    {
      "cell_type": "markdown",
      "metadata": {
        "id": "KWpg_HdCzCyc"
      },
      "source": [
        "# Imports"
      ]
    },
    {
      "cell_type": "code",
      "metadata": {
        "id": "JW0Zmxz-eG58"
      },
      "source": [
        "import numpy as np\n",
        "import pandas as pd\n",
        "import matplotlib.pyplot as plt\n",
        "\n",
        "from sklearn.model_selection import train_test_split\n",
        "from sklearn.preprocessing import StandardScaler\n",
        "from sklearn.neighbors import KNeighborsClassifier\n",
        "from sklearn.linear_model import LogisticRegression, SGDClassifier\n",
        "from sklearn.metrics import accuracy_score, confusion_matrix, classification_report\n",
        "from sklearn.pipeline import Pipeline"
      ],
      "execution_count": 11,
      "outputs": []
    },
    {
      "cell_type": "markdown",
      "metadata": {
        "id": "oC1Ef2KGfT8p"
      },
      "source": [
        "# Fish Dataset"
      ]
    },
    {
      "cell_type": "code",
      "metadata": {
        "id": "iQXJ7DEGfITY"
      },
      "source": [
        "fish_csv = 'https://github.com/rickiepark/hg-mldl/raw/master/fish.csv'"
      ],
      "execution_count": 2,
      "outputs": []
    },
    {
      "cell_type": "code",
      "metadata": {
        "id": "o55o0vYzfcj2"
      },
      "source": [
        "fish = pd.read_csv(fish_csv)"
      ],
      "execution_count": 3,
      "outputs": []
    },
    {
      "cell_type": "code",
      "metadata": {
        "colab": {
          "base_uri": "https://localhost:8080/",
          "height": 206
        },
        "id": "Et1eiOYEff2n",
        "outputId": "93b379ac-abbe-4175-c664-48079cf4ff7b"
      },
      "source": [
        "fish.head()"
      ],
      "execution_count": 4,
      "outputs": [
        {
          "output_type": "execute_result",
          "data": {
            "text/html": [
              "<div>\n",
              "<style scoped>\n",
              "    .dataframe tbody tr th:only-of-type {\n",
              "        vertical-align: middle;\n",
              "    }\n",
              "\n",
              "    .dataframe tbody tr th {\n",
              "        vertical-align: top;\n",
              "    }\n",
              "\n",
              "    .dataframe thead th {\n",
              "        text-align: right;\n",
              "    }\n",
              "</style>\n",
              "<table border=\"1\" class=\"dataframe\">\n",
              "  <thead>\n",
              "    <tr style=\"text-align: right;\">\n",
              "      <th></th>\n",
              "      <th>Species</th>\n",
              "      <th>Weight</th>\n",
              "      <th>Length</th>\n",
              "      <th>Diagonal</th>\n",
              "      <th>Height</th>\n",
              "      <th>Width</th>\n",
              "    </tr>\n",
              "  </thead>\n",
              "  <tbody>\n",
              "    <tr>\n",
              "      <th>0</th>\n",
              "      <td>Bream</td>\n",
              "      <td>242.0</td>\n",
              "      <td>25.4</td>\n",
              "      <td>30.0</td>\n",
              "      <td>11.5200</td>\n",
              "      <td>4.0200</td>\n",
              "    </tr>\n",
              "    <tr>\n",
              "      <th>1</th>\n",
              "      <td>Bream</td>\n",
              "      <td>290.0</td>\n",
              "      <td>26.3</td>\n",
              "      <td>31.2</td>\n",
              "      <td>12.4800</td>\n",
              "      <td>4.3056</td>\n",
              "    </tr>\n",
              "    <tr>\n",
              "      <th>2</th>\n",
              "      <td>Bream</td>\n",
              "      <td>340.0</td>\n",
              "      <td>26.5</td>\n",
              "      <td>31.1</td>\n",
              "      <td>12.3778</td>\n",
              "      <td>4.6961</td>\n",
              "    </tr>\n",
              "    <tr>\n",
              "      <th>3</th>\n",
              "      <td>Bream</td>\n",
              "      <td>363.0</td>\n",
              "      <td>29.0</td>\n",
              "      <td>33.5</td>\n",
              "      <td>12.7300</td>\n",
              "      <td>4.4555</td>\n",
              "    </tr>\n",
              "    <tr>\n",
              "      <th>4</th>\n",
              "      <td>Bream</td>\n",
              "      <td>430.0</td>\n",
              "      <td>29.0</td>\n",
              "      <td>34.0</td>\n",
              "      <td>12.4440</td>\n",
              "      <td>5.1340</td>\n",
              "    </tr>\n",
              "  </tbody>\n",
              "</table>\n",
              "</div>"
            ],
            "text/plain": [
              "  Species  Weight  Length  Diagonal   Height   Width\n",
              "0   Bream   242.0    25.4      30.0  11.5200  4.0200\n",
              "1   Bream   290.0    26.3      31.2  12.4800  4.3056\n",
              "2   Bream   340.0    26.5      31.1  12.3778  4.6961\n",
              "3   Bream   363.0    29.0      33.5  12.7300  4.4555\n",
              "4   Bream   430.0    29.0      34.0  12.4440  5.1340"
            ]
          },
          "metadata": {},
          "execution_count": 4
        }
      ]
    },
    {
      "cell_type": "code",
      "metadata": {
        "colab": {
          "base_uri": "https://localhost:8080/"
        },
        "id": "vzG7I8GWfgy-",
        "outputId": "2be71598-9d2e-4cde-c2c0-9e2dabbaa9b2"
      },
      "source": [
        "fish['Species'].value_counts()"
      ],
      "execution_count": 5,
      "outputs": [
        {
          "output_type": "execute_result",
          "data": {
            "text/plain": [
              "Perch        56\n",
              "Bream        35\n",
              "Roach        20\n",
              "Pike         17\n",
              "Smelt        14\n",
              "Parkki       11\n",
              "Whitefish     6\n",
              "Name: Species, dtype: int64"
            ]
          },
          "metadata": {},
          "execution_count": 5
        }
      ]
    },
    {
      "cell_type": "markdown",
      "metadata": {
        "id": "EoGwuf7wgMuo"
      },
      "source": [
        "# Binary-class Classification(이진 분류)"
      ]
    },
    {
      "cell_type": "code",
      "metadata": {
        "id": "EPo3CTeRfsdO"
      },
      "source": [
        "# fish DataFrame에서 Bream(도미)과 Smelt(빙어)만 선택\n",
        "df1 = fish[fish.Species.isin(['Bream', 'Smelt'])]\n",
        "# (fish.Species == 'Bream') | (fish.Species == 'Smelt')"
      ],
      "execution_count": 6,
      "outputs": []
    },
    {
      "cell_type": "code",
      "metadata": {
        "colab": {
          "base_uri": "https://localhost:8080/"
        },
        "id": "VbLuB9kEgy1w",
        "outputId": "3744fde9-4338-4068-a5de-7efd782760d5"
      },
      "source": [
        "df1['Species'].value_counts()"
      ],
      "execution_count": 7,
      "outputs": [
        {
          "output_type": "execute_result",
          "data": {
            "text/plain": [
              "Bream    35\n",
              "Smelt    14\n",
              "Name: Species, dtype: int64"
            ]
          },
          "metadata": {},
          "execution_count": 7
        }
      ]
    },
    {
      "cell_type": "code",
      "metadata": {
        "id": "3PVT_wlig5zG"
      },
      "source": [
        "# 특성 행렬\n",
        "X = df1.drop(columns='Species').values\n",
        "# 타겟 벡터\n",
        "y = df1['Species'].values"
      ],
      "execution_count": 8,
      "outputs": []
    },
    {
      "cell_type": "code",
      "metadata": {
        "colab": {
          "base_uri": "https://localhost:8080/"
        },
        "id": "2eDzDvuzhZI2",
        "outputId": "77820d8d-ee0a-4bc5-a177-31e83df2442a"
      },
      "source": [
        "X[:5]"
      ],
      "execution_count": 9,
      "outputs": [
        {
          "output_type": "execute_result",
          "data": {
            "text/plain": [
              "array([[242.    ,  25.4   ,  30.    ,  11.52  ,   4.02  ],\n",
              "       [290.    ,  26.3   ,  31.2   ,  12.48  ,   4.3056],\n",
              "       [340.    ,  26.5   ,  31.1   ,  12.3778,   4.6961],\n",
              "       [363.    ,  29.    ,  33.5   ,  12.73  ,   4.4555],\n",
              "       [430.    ,  29.    ,  34.    ,  12.444 ,   5.134 ]])"
            ]
          },
          "metadata": {},
          "execution_count": 9
        }
      ]
    },
    {
      "cell_type": "code",
      "metadata": {
        "colab": {
          "base_uri": "https://localhost:8080/"
        },
        "id": "zygegy77hak9",
        "outputId": "6dcca192-58fc-4f16-b209-4305c61b4d21"
      },
      "source": [
        "y[:5]"
      ],
      "execution_count": 10,
      "outputs": [
        {
          "output_type": "execute_result",
          "data": {
            "text/plain": [
              "array(['Bream', 'Bream', 'Bream', 'Bream', 'Bream'], dtype=object)"
            ]
          },
          "metadata": {},
          "execution_count": 10
        }
      ]
    },
    {
      "cell_type": "code",
      "metadata": {
        "id": "Wx12fyP6hhTF"
      },
      "source": [
        "X_train, X_test, y_train, y_test = train_test_split(X, y,\n",
        "                                                    test_size=0.25,\n",
        "                                                    stratify=y,\n",
        "                                                    random_state=42)"
      ],
      "execution_count": 12,
      "outputs": []
    },
    {
      "cell_type": "code",
      "metadata": {
        "colab": {
          "base_uri": "https://localhost:8080/"
        },
        "id": "WEsxuMTo1Hvt",
        "outputId": "6d23bd36-12c5-483e-a528-b7852cac2333"
      },
      "source": [
        "X_train.shape, X_test.shape, y_train.shape, y_test.shape"
      ],
      "execution_count": 13,
      "outputs": [
        {
          "output_type": "execute_result",
          "data": {
            "text/plain": [
              "((36, 5), (13, 5), (36,), (13,))"
            ]
          },
          "metadata": {},
          "execution_count": 13
        }
      ]
    },
    {
      "cell_type": "code",
      "metadata": {
        "colab": {
          "base_uri": "https://localhost:8080/"
        },
        "id": "CWpEG_AD1Mka",
        "outputId": "12859184-d45c-4a0f-a9f4-7a0f4d5309b0"
      },
      "source": [
        "np.unique(y_train, return_counts=True)"
      ],
      "execution_count": 14,
      "outputs": [
        {
          "output_type": "execute_result",
          "data": {
            "text/plain": [
              "(array(['Bream', 'Smelt'], dtype=object), array([26, 10]))"
            ]
          },
          "metadata": {},
          "execution_count": 14
        }
      ]
    },
    {
      "cell_type": "code",
      "metadata": {
        "colab": {
          "base_uri": "https://localhost:8080/"
        },
        "id": "V36UovIp1XJ6",
        "outputId": "54c32be3-f0f5-453c-e6a7-b4f84fc6b910"
      },
      "source": [
        "np.unique(y_test, return_counts=True)"
      ],
      "execution_count": 15,
      "outputs": [
        {
          "output_type": "execute_result",
          "data": {
            "text/plain": [
              "(array(['Bream', 'Smelt'], dtype=object), array([9, 4]))"
            ]
          },
          "metadata": {},
          "execution_count": 15
        }
      ]
    },
    {
      "cell_type": "markdown",
      "metadata": {
        "id": "hm0lp8LD1tgZ"
      },
      "source": [
        "# KNN Classification"
      ]
    },
    {
      "cell_type": "code",
      "metadata": {
        "id": "4s6L3bJt1dqC"
      },
      "source": [
        "# 모델 생성\n",
        "scaler = StandardScaler()\n",
        "clf = KNeighborsClassifier()\n",
        "knn_model = Pipeline(steps=[('scaler', scaler),\n",
        "                            ('clf', clf)])"
      ],
      "execution_count": 41,
      "outputs": []
    },
    {
      "cell_type": "code",
      "metadata": {
        "colab": {
          "base_uri": "https://localhost:8080/"
        },
        "id": "KcV3_J5Y24up",
        "outputId": "945a77be-8a7c-4d5c-f771-206be3041ece"
      },
      "source": [
        "# 모델 훈련\n",
        "knn_model.fit(X_train, y_train)"
      ],
      "execution_count": 42,
      "outputs": [
        {
          "output_type": "execute_result",
          "data": {
            "text/plain": [
              "Pipeline(memory=None,\n",
              "         steps=[('scaler',\n",
              "                 StandardScaler(copy=True, with_mean=True, with_std=True)),\n",
              "                ('clf',\n",
              "                 KNeighborsClassifier(algorithm='auto', leaf_size=30,\n",
              "                                      metric='minkowski', metric_params=None,\n",
              "                                      n_jobs=None, n_neighbors=5, p=2,\n",
              "                                      weights='uniform'))],\n",
              "         verbose=False)"
            ]
          },
          "metadata": {},
          "execution_count": 42
        }
      ]
    },
    {
      "cell_type": "code",
      "metadata": {
        "colab": {
          "base_uri": "https://localhost:8080/"
        },
        "id": "gZ88GCN33Bwp",
        "outputId": "da474490-4ace-495a-8174-1f486e7d3f12"
      },
      "source": [
        "# 훈련 셋의 예측값\n",
        "train_pred = knn_model.predict(X_train)\n",
        "train_pred"
      ],
      "execution_count": 43,
      "outputs": [
        {
          "output_type": "execute_result",
          "data": {
            "text/plain": [
              "array(['Bream', 'Bream', 'Smelt', 'Bream', 'Smelt', 'Bream', 'Smelt',\n",
              "       'Bream', 'Smelt', 'Bream', 'Bream', 'Bream', 'Bream', 'Smelt',\n",
              "       'Smelt', 'Bream', 'Bream', 'Bream', 'Smelt', 'Bream', 'Smelt',\n",
              "       'Bream', 'Smelt', 'Bream', 'Bream', 'Bream', 'Bream', 'Smelt',\n",
              "       'Bream', 'Bream', 'Bream', 'Bream', 'Bream', 'Bream', 'Bream',\n",
              "       'Bream'], dtype=object)"
            ]
          },
          "metadata": {},
          "execution_count": 43
        }
      ]
    },
    {
      "cell_type": "code",
      "metadata": {
        "colab": {
          "base_uri": "https://localhost:8080/"
        },
        "id": "dniru7ia3OB4",
        "outputId": "303bfe0c-9a39-4855-8198-12cdbde5229e"
      },
      "source": [
        "y_train"
      ],
      "execution_count": 44,
      "outputs": [
        {
          "output_type": "execute_result",
          "data": {
            "text/plain": [
              "array(['Bream', 'Bream', 'Smelt', 'Bream', 'Smelt', 'Bream', 'Smelt',\n",
              "       'Bream', 'Smelt', 'Bream', 'Bream', 'Bream', 'Bream', 'Smelt',\n",
              "       'Smelt', 'Bream', 'Bream', 'Bream', 'Smelt', 'Bream', 'Smelt',\n",
              "       'Bream', 'Smelt', 'Bream', 'Bream', 'Bream', 'Bream', 'Smelt',\n",
              "       'Bream', 'Bream', 'Bream', 'Bream', 'Bream', 'Bream', 'Bream',\n",
              "       'Bream'], dtype=object)"
            ]
          },
          "metadata": {},
          "execution_count": 44
        }
      ]
    },
    {
      "cell_type": "code",
      "metadata": {
        "colab": {
          "base_uri": "https://localhost:8080/"
        },
        "id": "q-EsriZX3TTw",
        "outputId": "ddc68d77-298f-4aaa-9ce1-530b5073821a"
      },
      "source": [
        "confusion_matrix(y_train, train_pred)"
      ],
      "execution_count": 45,
      "outputs": [
        {
          "output_type": "execute_result",
          "data": {
            "text/plain": [
              "array([[26,  0],\n",
              "       [ 0, 10]])"
            ]
          },
          "metadata": {},
          "execution_count": 45
        }
      ]
    },
    {
      "cell_type": "code",
      "metadata": {
        "colab": {
          "base_uri": "https://localhost:8080/"
        },
        "id": "tBlRPNUN3g3R",
        "outputId": "8fc3c97b-e913-4f23-b51b-c3d86ecfede3"
      },
      "source": [
        "# KNN 알고리즘의 분류 예측 확률(probability)\n",
        "train_prob = knn_model.predict_proba(X_train)\n",
        "train_prob[:5]"
      ],
      "execution_count": 46,
      "outputs": [
        {
          "output_type": "execute_result",
          "data": {
            "text/plain": [
              "array([[1., 0.],\n",
              "       [1., 0.],\n",
              "       [0., 1.],\n",
              "       [1., 0.],\n",
              "       [0., 1.]])"
            ]
          },
          "metadata": {},
          "execution_count": 46
        }
      ]
    },
    {
      "cell_type": "code",
      "metadata": {
        "colab": {
          "base_uri": "https://localhost:8080/"
        },
        "id": "-2jGDt496xxO",
        "outputId": "ce560f8d-2581-499a-b7bd-1d163f574431"
      },
      "source": [
        "# 테스트 셋에서의 평가\n",
        "test_pred = knn_model.predict(X_test)\n",
        "test_pred"
      ],
      "execution_count": 50,
      "outputs": [
        {
          "output_type": "execute_result",
          "data": {
            "text/plain": [
              "array(['Bream', 'Bream', 'Bream', 'Smelt', 'Smelt', 'Bream', 'Smelt',\n",
              "       'Bream', 'Smelt', 'Bream', 'Bream', 'Bream', 'Bream'], dtype=object)"
            ]
          },
          "metadata": {},
          "execution_count": 50
        }
      ]
    },
    {
      "cell_type": "code",
      "metadata": {
        "colab": {
          "base_uri": "https://localhost:8080/"
        },
        "id": "7tvJOvxr89p3",
        "outputId": "4f8dc9e6-b3a3-4238-d6e1-36216c5c9051"
      },
      "source": [
        "y_test"
      ],
      "execution_count": 51,
      "outputs": [
        {
          "output_type": "execute_result",
          "data": {
            "text/plain": [
              "array(['Bream', 'Bream', 'Bream', 'Smelt', 'Smelt', 'Bream', 'Smelt',\n",
              "       'Bream', 'Smelt', 'Bream', 'Bream', 'Bream', 'Bream'], dtype=object)"
            ]
          },
          "metadata": {},
          "execution_count": 51
        }
      ]
    },
    {
      "cell_type": "code",
      "metadata": {
        "colab": {
          "base_uri": "https://localhost:8080/"
        },
        "id": "hMzYsKDw8-yN",
        "outputId": "5620a240-dd8f-441b-b054-cfef73a219e3"
      },
      "source": [
        "confusion_matrix(y_test, test_pred)"
      ],
      "execution_count": 52,
      "outputs": [
        {
          "output_type": "execute_result",
          "data": {
            "text/plain": [
              "array([[9, 0],\n",
              "       [0, 4]])"
            ]
          },
          "metadata": {},
          "execution_count": 52
        }
      ]
    },
    {
      "cell_type": "code",
      "metadata": {
        "colab": {
          "base_uri": "https://localhost:8080/"
        },
        "id": "VGVu9sp39Gh-",
        "outputId": "b2ec9f08-6a86-45a1-bb22-5ffebbdf8c90"
      },
      "source": [
        "knn_model.predict_proba(X_test)"
      ],
      "execution_count": 53,
      "outputs": [
        {
          "output_type": "execute_result",
          "data": {
            "text/plain": [
              "array([[1., 0.],\n",
              "       [1., 0.],\n",
              "       [1., 0.],\n",
              "       [0., 1.],\n",
              "       [0., 1.],\n",
              "       [1., 0.],\n",
              "       [0., 1.],\n",
              "       [1., 0.],\n",
              "       [0., 1.],\n",
              "       [1., 0.],\n",
              "       [1., 0.],\n",
              "       [1., 0.],\n",
              "       [1., 0.]])"
            ]
          },
          "metadata": {},
          "execution_count": 53
        }
      ]
    },
    {
      "cell_type": "code",
      "metadata": {
        "colab": {
          "base_uri": "https://localhost:8080/"
        },
        "id": "ACFeBZ629MxG",
        "outputId": "6d977767-9822-4e4d-bae8-bcbbe872139b"
      },
      "source": [
        "Samples = X_train[:3]\n",
        "Samples"
      ],
      "execution_count": 58,
      "outputs": [
        {
          "output_type": "execute_result",
          "data": {
            "text/plain": [
              "array([[720.    ,  35.    ,  40.6   ,  16.3618,   6.09  ],\n",
              "       [363.    ,  29.    ,  33.5   ,  12.73  ,   4.4555],\n",
              "       [  8.7   ,  11.3   ,  12.6   ,   1.9782,   1.2852]])"
            ]
          },
          "metadata": {},
          "execution_count": 58
        }
      ]
    },
    {
      "cell_type": "code",
      "metadata": {
        "colab": {
          "base_uri": "https://localhost:8080/"
        },
        "id": "1XMG_XiyCr1c",
        "outputId": "4f2dd8c3-5907-4479-c891-52f10b432cb1"
      },
      "source": [
        "Samples_scaled = knn_model['scaler'].transform(Samples)\n",
        "Samples_scaled"
      ],
      "execution_count": 59,
      "outputs": [
        {
          "output_type": "execute_result",
          "data": {
            "text/plain": [
              "array([[ 0.85382543,  0.79935928,  0.80567236,  0.8021994 ,  0.94206579],\n",
              "       [-0.24256812,  0.20479453,  0.20860116,  0.20215901,  0.09992817],\n",
              "       [-1.33066961, -1.54917151, -1.54897461, -1.57423679, -1.53349422]])"
            ]
          },
          "metadata": {},
          "execution_count": 59
        }
      ]
    },
    {
      "cell_type": "code",
      "metadata": {
        "colab": {
          "base_uri": "https://localhost:8080/"
        },
        "id": "M_3OCTDEFKFj",
        "outputId": "02bb6440-9e60-43da-89a6-3f52ec8df8a5"
      },
      "source": [
        "neighbors = knn_model['clf'].kneighbors(Samples_scaled, return_distance=False)\n",
        "neighbors"
      ],
      "execution_count": 62,
      "outputs": [
        {
          "output_type": "execute_result",
          "data": {
            "text/plain": [
              "array([[ 0,  9, 16, 21, 35],\n",
              "       [ 1, 28, 19, 15, 33],\n",
              "       [ 2,  4, 18,  6,  8]])"
            ]
          },
          "metadata": {},
          "execution_count": 62
        }
      ]
    },
    {
      "cell_type": "code",
      "metadata": {
        "colab": {
          "base_uri": "https://localhost:8080/"
        },
        "id": "bpYOQ03OFwKa",
        "outputId": "70124c4e-1f3d-48dd-b67d-85e2e478d4c8"
      },
      "source": [
        "y_train[neighbors]"
      ],
      "execution_count": 63,
      "outputs": [
        {
          "output_type": "execute_result",
          "data": {
            "text/plain": [
              "array([['Bream', 'Bream', 'Bream', 'Bream', 'Bream'],\n",
              "       ['Bream', 'Bream', 'Bream', 'Bream', 'Bream'],\n",
              "       ['Smelt', 'Smelt', 'Smelt', 'Smelt', 'Smelt']], dtype=object)"
            ]
          },
          "metadata": {},
          "execution_count": 63
        }
      ]
    },
    {
      "cell_type": "markdown",
      "metadata": {
        "id": "53Bp36E8GxVQ"
      },
      "source": [
        "# Logistic Regression"
      ]
    },
    {
      "cell_type": "code",
      "metadata": {
        "id": "65TIfcT7GL6i"
      },
      "source": [
        "# StandardScaler + LogisticRegression 머신 러닝 모델 생성\n",
        "logit_model = Pipeline(steps=[('scaler', StandardScaler()),\n",
        "                              ('clf', LogisticRegression())])"
      ],
      "execution_count": 64,
      "outputs": []
    },
    {
      "cell_type": "code",
      "metadata": {
        "colab": {
          "base_uri": "https://localhost:8080/"
        },
        "id": "_IiV5n4oIVUR",
        "outputId": "3fff0015-7a8c-43ce-8b60-924a61282296"
      },
      "source": [
        "# 모델 훈련\n",
        "logit_model.fit(X_train, y_train)"
      ],
      "execution_count": 65,
      "outputs": [
        {
          "output_type": "execute_result",
          "data": {
            "text/plain": [
              "Pipeline(memory=None,\n",
              "         steps=[('scaler',\n",
              "                 StandardScaler(copy=True, with_mean=True, with_std=True)),\n",
              "                ('clf',\n",
              "                 LogisticRegression(C=1.0, class_weight=None, dual=False,\n",
              "                                    fit_intercept=True, intercept_scaling=1,\n",
              "                                    l1_ratio=None, max_iter=100,\n",
              "                                    multi_class='auto', n_jobs=None,\n",
              "                                    penalty='l2', random_state=None,\n",
              "                                    solver='lbfgs', tol=0.0001, verbose=0,\n",
              "                                    warm_start=False))],\n",
              "         verbose=False)"
            ]
          },
          "metadata": {},
          "execution_count": 65
        }
      ]
    },
    {
      "cell_type": "code",
      "metadata": {
        "colab": {
          "base_uri": "https://localhost:8080/"
        },
        "id": "zOa70mwFIbFv",
        "outputId": "4279151e-856b-479f-ffe0-10dd486024a3"
      },
      "source": [
        "train_prob = logit_model.predict_proba(X_train)\n",
        "train_prob[:6]"
      ],
      "execution_count": 66,
      "outputs": [
        {
          "output_type": "execute_result",
          "data": {
            "text/plain": [
              "array([[9.97291432e-01, 2.70856773e-03],\n",
              "       [9.59020552e-01, 4.09794484e-02],\n",
              "       [4.26912628e-02, 9.57308737e-01],\n",
              "       [9.84096878e-01, 1.59031225e-02],\n",
              "       [4.23568833e-02, 9.57643117e-01],\n",
              "       [9.99167490e-01, 8.32509978e-04]])"
            ]
          },
          "metadata": {},
          "execution_count": 66
        }
      ]
    },
    {
      "cell_type": "code",
      "metadata": {
        "colab": {
          "base_uri": "https://localhost:8080/"
        },
        "id": "QytpkC23Ilmv",
        "outputId": "e58b24bc-62ca-4824-9e3f-6b06abd83ad7"
      },
      "source": [
        "train_pred = logit_model.predict(X_train)\n",
        "train_pred[:6]"
      ],
      "execution_count": 68,
      "outputs": [
        {
          "output_type": "execute_result",
          "data": {
            "text/plain": [
              "array(['Bream', 'Bream', 'Smelt', 'Bream', 'Smelt', 'Bream'], dtype=object)"
            ]
          },
          "metadata": {},
          "execution_count": 68
        }
      ]
    },
    {
      "cell_type": "code",
      "metadata": {
        "colab": {
          "base_uri": "https://localhost:8080/"
        },
        "id": "rS1ssyWwJYDw",
        "outputId": "4d599190-288d-4420-a6b3-fc6888a959bc"
      },
      "source": [
        "confusion_matrix(y_train, train_pred)"
      ],
      "execution_count": 69,
      "outputs": [
        {
          "output_type": "execute_result",
          "data": {
            "text/plain": [
              "array([[26,  0],\n",
              "       [ 0, 10]])"
            ]
          },
          "metadata": {},
          "execution_count": 69
        }
      ]
    },
    {
      "cell_type": "code",
      "metadata": {
        "colab": {
          "base_uri": "https://localhost:8080/"
        },
        "id": "M_gU3JCwJ2vA",
        "outputId": "f8c2232a-f39a-4566-81c2-c03b6ca3a79e"
      },
      "source": [
        "test_prob = logit_model.predict_proba(X_test)\n",
        "test_prob[:5]"
      ],
      "execution_count": 70,
      "outputs": [
        {
          "output_type": "execute_result",
          "data": {
            "text/plain": [
              "array([[9.97328384e-01, 2.67161624e-03],\n",
              "       [9.94425341e-01, 5.57465921e-03],\n",
              "       [9.99430626e-01, 5.69374399e-04],\n",
              "       [1.02252107e-01, 8.97747893e-01],\n",
              "       [5.42567620e-02, 9.45743238e-01]])"
            ]
          },
          "metadata": {},
          "execution_count": 70
        }
      ]
    },
    {
      "cell_type": "code",
      "metadata": {
        "colab": {
          "base_uri": "https://localhost:8080/"
        },
        "id": "7hr1uFQZKGmn",
        "outputId": "9638ce2a-0fe6-4415-dab5-8860714fd4de"
      },
      "source": [
        "test_pred = logit_model.predict(X_test)\n",
        "test_pred[:5]"
      ],
      "execution_count": 71,
      "outputs": [
        {
          "output_type": "execute_result",
          "data": {
            "text/plain": [
              "array(['Bream', 'Bream', 'Bream', 'Smelt', 'Smelt'], dtype=object)"
            ]
          },
          "metadata": {},
          "execution_count": 71
        }
      ]
    },
    {
      "cell_type": "code",
      "metadata": {
        "colab": {
          "base_uri": "https://localhost:8080/"
        },
        "id": "dnDdWbnDKXYv",
        "outputId": "cb85eaa0-5cfa-4047-be93-3bc4d0580e7b"
      },
      "source": [
        "confusion_matrix(y_test, test_pred)"
      ],
      "execution_count": 72,
      "outputs": [
        {
          "output_type": "execute_result",
          "data": {
            "text/plain": [
              "array([[9, 0],\n",
              "       [0, 4]])"
            ]
          },
          "metadata": {},
          "execution_count": 72
        }
      ]
    },
    {
      "cell_type": "code",
      "metadata": {
        "colab": {
          "base_uri": "https://localhost:8080/"
        },
        "id": "fq6c2igHKkUH",
        "outputId": "1d403ac1-5aca-4df2-92b8-945e298d525c"
      },
      "source": [
        "logit_model['clf'].intercept_"
      ],
      "execution_count": 73,
      "outputs": [
        {
          "output_type": "execute_result",
          "data": {
            "text/plain": [
              "array([-2.70041052])"
            ]
          },
          "metadata": {},
          "execution_count": 73
        }
      ]
    },
    {
      "cell_type": "code",
      "metadata": {
        "colab": {
          "base_uri": "https://localhost:8080/"
        },
        "id": "O4uvdXU9Ldi3",
        "outputId": "0eb37b4e-eb3f-41de-91e6-4417f50b677a"
      },
      "source": [
        "logit_model['clf'].coef_"
      ],
      "execution_count": 74,
      "outputs": [
        {
          "output_type": "execute_result",
          "data": {
            "text/plain": [
              "array([[-0.55266843, -0.78808545, -0.82264592, -0.85732701, -0.80231813]])"
            ]
          },
          "metadata": {},
          "execution_count": 74
        }
      ]
    },
    {
      "cell_type": "code",
      "metadata": {
        "colab": {
          "base_uri": "https://localhost:8080/"
        },
        "id": "0gXZ74RtXbgA",
        "outputId": "99635593-21a9-4ad7-b65a-dbc009bb368e"
      },
      "source": [
        "train_prob[:5]"
      ],
      "execution_count": 84,
      "outputs": [
        {
          "output_type": "execute_result",
          "data": {
            "text/plain": [
              "array([[0.99729143, 0.00270857],\n",
              "       [0.95902055, 0.04097945],\n",
              "       [0.04269126, 0.95730874],\n",
              "       [0.98409688, 0.01590312],\n",
              "       [0.04235688, 0.95764312]])"
            ]
          },
          "metadata": {},
          "execution_count": 84
        }
      ]
    },
    {
      "cell_type": "code",
      "metadata": {
        "colab": {
          "base_uri": "https://localhost:8080/"
        },
        "id": "HjAovdgWXk_X",
        "outputId": "94ec0345-8413-47a5-b1fa-118238267592"
      },
      "source": [
        "w0 = logit_model['clf'].intercept_\n",
        "w = logit_model['clf'].coef_\n",
        "z = w0 + logit_model['scaler'].transform(X_train[:5]) @ w[0]\n",
        "1 / (1 + np.exp(-z))"
      ],
      "execution_count": 85,
      "outputs": [
        {
          "output_type": "execute_result",
          "data": {
            "text/plain": [
              "array([0.00270857, 0.04097945, 0.95730874, 0.01590312, 0.95764312])"
            ]
          },
          "metadata": {},
          "execution_count": 85
        }
      ]
    },
    {
      "cell_type": "markdown",
      "metadata": {
        "id": "aEWr2mHCPWms"
      },
      "source": [
        "## sigmoid 함수\n",
        "\n",
        "$$\n",
        "\\phi(z) = \\dfrac{e^z}{e^z + 1} = \\dfrac{1}{1 + e^{-z}}\n",
        "$$\n",
        "\n",
        "* odds 비(오즈비): 양성이 될 확률과 음성이 될 확률의 비율. $ \\frac{p}{1 - p} $\n",
        "* logit: odds비에 자연로그를 취한 값. $ \\log (\\frac{p}{1-p}) $"
      ]
    },
    {
      "cell_type": "code",
      "metadata": {
        "colab": {
          "base_uri": "https://localhost:8080/",
          "height": 295
        },
        "id": "pRu47g1tQBrT",
        "outputId": "5cefd3d6-d27e-4c40-ae9b-b3a69ef6104f"
      },
      "source": [
        "z = np.arange(-5, 5, 0.001)  # x 좌표\n",
        "sigmoid = 1 / (1 + np.exp(-z))  # y 좌표\n",
        "\n",
        "plt.figure(figsize=(8, 4))\n",
        "plt.plot(z, sigmoid)\n",
        "plt.grid()\n",
        "plt.ylabel('$\\phi(z)$')\n",
        "plt.xlabel('$z$')\n",
        "plt.title('Sigmoid')\n",
        "plt.show()"
      ],
      "execution_count": 76,
      "outputs": [
        {
          "output_type": "display_data",
          "data": {
            "image/png": "[encoded data removed]",
            "text/plain": [
              "<Figure size 576x288 with 1 Axes>"
            ]
          },
          "metadata": {
            "needs_background": "light"
          }
        }
      ]
    },
    {
      "cell_type": "markdown",
      "metadata": {
        "id": "vjMo4qoUUdm7"
      },
      "source": [
        "* 선형 회귀\n",
        "$$\n",
        "z = w_0 + w_1 \\cdot x_1 + w_2 \\cdot x_2 + \\cdots = w_0 + \\sum_j w_j \\cdot x_j\n",
        "$$\n",
        "\n",
        "* 선형 회귀 공식으로 계산된 결과를 sigmoid 함수의 argument\n",
        "$$\n",
        "\\phi(z) = \\dfrac{1}{1 + e^{-z}} = \\dfrac{1}{1 + exp(-(w_0 + \\sum_j w_j \\cdot x_j))}\n",
        "$$"
      ]
    },
    {
      "cell_type": "code",
      "metadata": {
        "id": "ERwUiS1yQlsb"
      },
      "source": [
        ""
      ],
      "execution_count": null,
      "outputs": []
    }
  ]
}
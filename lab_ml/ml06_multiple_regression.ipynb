{
  "nbformat": 4,
  "nbformat_minor": 0,
  "metadata": {
    "colab": {
      "name": "ml06_multiple_regression.ipynb",
      "provenance": [],
      "collapsed_sections": [],
      "authorship_tag": "ABX9TyMoBSAtJRQYxCqdOcGcuBa1",
      "include_colab_link": true
    },
    "kernelspec": {
      "name": "python3",
      "display_name": "Python 3"
    },
    "language_info": {
      "name": "python"
    }
  },
  "cells": [
    {
      "cell_type": "markdown",
      "metadata": {
        "id": "view-in-github",
        "colab_type": "text"
      },
      "source": [
        "<a href=\"https://colab.research.google.com/github/JakeOh/202105_itw_bd26/blob/main/lab_ml/ml06_multiple_regression.ipynb\" target=\"_parent\"><img src=\"https://colab.research.google.com/assets/colab-badge.svg\" alt=\"Open In Colab\"/></a>"
      ]
    },
    {
      "cell_type": "markdown",
      "metadata": {
        "id": "ZWhzJ4-w7oWS"
      },
      "source": [
        "# 다중 선형 회귀\n",
        "\n",
        "특성(독립변수)가 여러 개인 선형 회귀 모델\n",
        "* 1차항만 고려한 선형 회귀\n",
        "* 고차항들을 포함하는 선형 회귀\n",
        "* 규제(Regularization): overfitting(과대적합)을 줄이기 위한 기법"
      ]
    },
    {
      "cell_type": "markdown",
      "metadata": {
        "id": "4_JCIPB48Uyp"
      },
      "source": [
        "# Imports"
      ]
    },
    {
      "cell_type": "code",
      "metadata": {
        "id": "jPwvE0RT7fl-"
      },
      "source": [
        "import numpy as np\n",
        "import pandas as pd\n",
        "import matplotlib.pyplot as plt\n",
        "import seaborn as sns\n",
        "\n",
        "from sklearn.model_selection import train_test_split\n",
        "from sklearn.linear_model import LinearRegression\n",
        "from sklearn.preprocessing import PolynomialFeatures, StandardScaler\n",
        "from sklearn.pipeline import Pipeline\n",
        "from sklearn.metrics import r2_score, mean_squared_error"
      ],
      "execution_count": 1,
      "outputs": []
    },
    {
      "cell_type": "markdown",
      "metadata": {
        "id": "wRfOpii69lDS"
      },
      "source": [
        "# 데이터 준비"
      ]
    },
    {
      "cell_type": "code",
      "metadata": {
        "id": "-oJ8Ukpo9LYl"
      },
      "source": [
        "# 데이터 셋 github URL\n",
        "fish_csv = 'https://github.com/rickiepark/hg-mldl/raw/master/fish.csv'"
      ],
      "execution_count": 2,
      "outputs": []
    },
    {
      "cell_type": "code",
      "metadata": {
        "id": "KM4mma1Q9gJz"
      },
      "source": [
        "# DataFrame 생성\n",
        "fish = pd.read_csv(fish_csv)"
      ],
      "execution_count": 3,
      "outputs": []
    },
    {
      "cell_type": "code",
      "metadata": {
        "colab": {
          "base_uri": "https://localhost:8080/"
        },
        "id": "1hGW4Cmb9t-h",
        "outputId": "804d4b60-5c3c-47cf-e6ad-3b2ca8b8addc"
      },
      "source": [
        "fish.info()"
      ],
      "execution_count": 4,
      "outputs": [
        {
          "output_type": "stream",
          "name": "stdout",
          "text": [
            "<class 'pandas.core.frame.DataFrame'>\n",
            "RangeIndex: 159 entries, 0 to 158\n",
            "Data columns (total 6 columns):\n",
            " #   Column    Non-Null Count  Dtype  \n",
            "---  ------    --------------  -----  \n",
            " 0   Species   159 non-null    object \n",
            " 1   Weight    159 non-null    float64\n",
            " 2   Length    159 non-null    float64\n",
            " 3   Diagonal  159 non-null    float64\n",
            " 4   Height    159 non-null    float64\n",
            " 5   Width     159 non-null    float64\n",
            "dtypes: float64(5), object(1)\n",
            "memory usage: 7.6+ KB\n"
          ]
        }
      ]
    },
    {
      "cell_type": "code",
      "metadata": {
        "colab": {
          "base_uri": "https://localhost:8080/",
          "height": 206
        },
        "id": "eBovXkAw9w66",
        "outputId": "f44db905-d384-42c4-be7e-6b0414351c61"
      },
      "source": [
        "fish.head()"
      ],
      "execution_count": 5,
      "outputs": [
        {
          "output_type": "execute_result",
          "data": {
            "text/html": [
              "<div>\n",
              "<style scoped>\n",
              "    .dataframe tbody tr th:only-of-type {\n",
              "        vertical-align: middle;\n",
              "    }\n",
              "\n",
              "    .dataframe tbody tr th {\n",
              "        vertical-align: top;\n",
              "    }\n",
              "\n",
              "    .dataframe thead th {\n",
              "        text-align: right;\n",
              "    }\n",
              "</style>\n",
              "<table border=\"1\" class=\"dataframe\">\n",
              "  <thead>\n",
              "    <tr style=\"text-align: right;\">\n",
              "      <th></th>\n",
              "      <th>Species</th>\n",
              "      <th>Weight</th>\n",
              "      <th>Length</th>\n",
              "      <th>Diagonal</th>\n",
              "      <th>Height</th>\n",
              "      <th>Width</th>\n",
              "    </tr>\n",
              "  </thead>\n",
              "  <tbody>\n",
              "    <tr>\n",
              "      <th>0</th>\n",
              "      <td>Bream</td>\n",
              "      <td>242.0</td>\n",
              "      <td>25.4</td>\n",
              "      <td>30.0</td>\n",
              "      <td>11.5200</td>\n",
              "      <td>4.0200</td>\n",
              "    </tr>\n",
              "    <tr>\n",
              "      <th>1</th>\n",
              "      <td>Bream</td>\n",
              "      <td>290.0</td>\n",
              "      <td>26.3</td>\n",
              "      <td>31.2</td>\n",
              "      <td>12.4800</td>\n",
              "      <td>4.3056</td>\n",
              "    </tr>\n",
              "    <tr>\n",
              "      <th>2</th>\n",
              "      <td>Bream</td>\n",
              "      <td>340.0</td>\n",
              "      <td>26.5</td>\n",
              "      <td>31.1</td>\n",
              "      <td>12.3778</td>\n",
              "      <td>4.6961</td>\n",
              "    </tr>\n",
              "    <tr>\n",
              "      <th>3</th>\n",
              "      <td>Bream</td>\n",
              "      <td>363.0</td>\n",
              "      <td>29.0</td>\n",
              "      <td>33.5</td>\n",
              "      <td>12.7300</td>\n",
              "      <td>4.4555</td>\n",
              "    </tr>\n",
              "    <tr>\n",
              "      <th>4</th>\n",
              "      <td>Bream</td>\n",
              "      <td>430.0</td>\n",
              "      <td>29.0</td>\n",
              "      <td>34.0</td>\n",
              "      <td>12.4440</td>\n",
              "      <td>5.1340</td>\n",
              "    </tr>\n",
              "  </tbody>\n",
              "</table>\n",
              "</div>"
            ],
            "text/plain": [
              "  Species  Weight  Length  Diagonal   Height   Width\n",
              "0   Bream   242.0    25.4      30.0  11.5200  4.0200\n",
              "1   Bream   290.0    26.3      31.2  12.4800  4.3056\n",
              "2   Bream   340.0    26.5      31.1  12.3778  4.6961\n",
              "3   Bream   363.0    29.0      33.5  12.7300  4.4555\n",
              "4   Bream   430.0    29.0      34.0  12.4440  5.1340"
            ]
          },
          "metadata": {},
          "execution_count": 5
        }
      ]
    },
    {
      "cell_type": "markdown",
      "metadata": {
        "id": "djEc_6-G96vi"
      },
      "source": [
        "선형 회귀 목적: 농어(Perch)의 무게(Weight)를 농어의 다른 특성들(Length, Diagonal, Height, Width)로 예측.\n",
        "\n",
        "Weight ~ Length + Diagonal + Height + Width"
      ]
    },
    {
      "cell_type": "code",
      "metadata": {
        "colab": {
          "base_uri": "https://localhost:8080/",
          "height": 206
        },
        "id": "0z-g5aLd9377",
        "outputId": "4e8b9c85-0cb8-438c-8722-32680ef57f0a"
      },
      "source": [
        "perch = fish[fish.Species == 'Perch']  # 농어(Perch)만 선택\n",
        "perch.head()"
      ],
      "execution_count": 6,
      "outputs": [
        {
          "output_type": "execute_result",
          "data": {
            "text/html": [
              "<div>\n",
              "<style scoped>\n",
              "    .dataframe tbody tr th:only-of-type {\n",
              "        vertical-align: middle;\n",
              "    }\n",
              "\n",
              "    .dataframe tbody tr th {\n",
              "        vertical-align: top;\n",
              "    }\n",
              "\n",
              "    .dataframe thead th {\n",
              "        text-align: right;\n",
              "    }\n",
              "</style>\n",
              "<table border=\"1\" class=\"dataframe\">\n",
              "  <thead>\n",
              "    <tr style=\"text-align: right;\">\n",
              "      <th></th>\n",
              "      <th>Species</th>\n",
              "      <th>Weight</th>\n",
              "      <th>Length</th>\n",
              "      <th>Diagonal</th>\n",
              "      <th>Height</th>\n",
              "      <th>Width</th>\n",
              "    </tr>\n",
              "  </thead>\n",
              "  <tbody>\n",
              "    <tr>\n",
              "      <th>72</th>\n",
              "      <td>Perch</td>\n",
              "      <td>5.9</td>\n",
              "      <td>8.4</td>\n",
              "      <td>8.8</td>\n",
              "      <td>2.1120</td>\n",
              "      <td>1.4080</td>\n",
              "    </tr>\n",
              "    <tr>\n",
              "      <th>73</th>\n",
              "      <td>Perch</td>\n",
              "      <td>32.0</td>\n",
              "      <td>13.7</td>\n",
              "      <td>14.7</td>\n",
              "      <td>3.5280</td>\n",
              "      <td>1.9992</td>\n",
              "    </tr>\n",
              "    <tr>\n",
              "      <th>74</th>\n",
              "      <td>Perch</td>\n",
              "      <td>40.0</td>\n",
              "      <td>15.0</td>\n",
              "      <td>16.0</td>\n",
              "      <td>3.8240</td>\n",
              "      <td>2.4320</td>\n",
              "    </tr>\n",
              "    <tr>\n",
              "      <th>75</th>\n",
              "      <td>Perch</td>\n",
              "      <td>51.5</td>\n",
              "      <td>16.2</td>\n",
              "      <td>17.2</td>\n",
              "      <td>4.5924</td>\n",
              "      <td>2.6316</td>\n",
              "    </tr>\n",
              "    <tr>\n",
              "      <th>76</th>\n",
              "      <td>Perch</td>\n",
              "      <td>70.0</td>\n",
              "      <td>17.4</td>\n",
              "      <td>18.5</td>\n",
              "      <td>4.5880</td>\n",
              "      <td>2.9415</td>\n",
              "    </tr>\n",
              "  </tbody>\n",
              "</table>\n",
              "</div>"
            ],
            "text/plain": [
              "   Species  Weight  Length  Diagonal  Height   Width\n",
              "72   Perch     5.9     8.4       8.8  2.1120  1.4080\n",
              "73   Perch    32.0    13.7      14.7  3.5280  1.9992\n",
              "74   Perch    40.0    15.0      16.0  3.8240  2.4320\n",
              "75   Perch    51.5    16.2      17.2  4.5924  2.6316\n",
              "76   Perch    70.0    17.4      18.5  4.5880  2.9415"
            ]
          },
          "metadata": {},
          "execution_count": 6
        }
      ]
    },
    {
      "cell_type": "code",
      "metadata": {
        "id": "106I6SNE-xXp"
      },
      "source": [
        "# 특성(features), 독립 변수\n",
        "X = perch[['Length', 'Diagonal', 'Height', 'Width']].values"
      ],
      "execution_count": 7,
      "outputs": []
    },
    {
      "cell_type": "code",
      "metadata": {
        "colab": {
          "base_uri": "https://localhost:8080/"
        },
        "id": "MSyf2Sg1_ZkL",
        "outputId": "7cb627b7-5c1d-4650-aa67-74dfe52e8378"
      },
      "source": [
        "X.shape"
      ],
      "execution_count": 8,
      "outputs": [
        {
          "output_type": "execute_result",
          "data": {
            "text/plain": [
              "(56, 4)"
            ]
          },
          "metadata": {},
          "execution_count": 8
        }
      ]
    },
    {
      "cell_type": "code",
      "metadata": {
        "id": "FhM92AR6_bzb"
      },
      "source": [
        "# label, target, 종속 변수\n",
        "y = perch['Weight'].values"
      ],
      "execution_count": 9,
      "outputs": []
    },
    {
      "cell_type": "code",
      "metadata": {
        "colab": {
          "base_uri": "https://localhost:8080/"
        },
        "id": "VD3UKW0pABK6",
        "outputId": "507b13a1-7c4d-4b37-cfd9-1bedeef9ab87"
      },
      "source": [
        "y.shape"
      ],
      "execution_count": 10,
      "outputs": [
        {
          "output_type": "execute_result",
          "data": {
            "text/plain": [
              "(56,)"
            ]
          },
          "metadata": {},
          "execution_count": 10
        }
      ]
    },
    {
      "cell_type": "markdown",
      "metadata": {
        "id": "H-YlZkS4AL1C"
      },
      "source": [
        "# train/test split"
      ]
    },
    {
      "cell_type": "code",
      "metadata": {
        "id": "TLWksdAbADKT"
      },
      "source": [
        "X_train, X_test, y_train, y_test = train_test_split(X, y,\n",
        "                                                    test_size=0.25,\n",
        "                                                    random_state=42)"
      ],
      "execution_count": 11,
      "outputs": []
    },
    {
      "cell_type": "code",
      "metadata": {
        "colab": {
          "base_uri": "https://localhost:8080/"
        },
        "id": "uT8gqkWdAk76",
        "outputId": "d65028f5-28a5-45ca-d233-e727a656c4ea"
      },
      "source": [
        "X_train.shape, X_test.shape"
      ],
      "execution_count": 12,
      "outputs": [
        {
          "output_type": "execute_result",
          "data": {
            "text/plain": [
              "((42, 4), (14, 4))"
            ]
          },
          "metadata": {},
          "execution_count": 12
        }
      ]
    },
    {
      "cell_type": "code",
      "metadata": {
        "colab": {
          "base_uri": "https://localhost:8080/"
        },
        "id": "9essHJ6MAnGB",
        "outputId": "d6d513e2-7ce3-41a0-df4e-57a71896954d"
      },
      "source": [
        "y_train.shape, y_test.shape"
      ],
      "execution_count": 13,
      "outputs": [
        {
          "output_type": "execute_result",
          "data": {
            "text/plain": [
              "((42,), (14,))"
            ]
          },
          "metadata": {},
          "execution_count": 13
        }
      ]
    },
    {
      "cell_type": "markdown",
      "metadata": {
        "id": "ojAAjB2qA65p"
      },
      "source": [
        "# 1차항만 고려하는 선형 회귀\n",
        "\n",
        "$\n",
        "\\hat{y} = w_0 + w_1 \\times x_1 + w_2 \\times x_2 + w_3 \\times x_3 + w_4 \\times x_4\n",
        "$"
      ]
    },
    {
      "cell_type": "code",
      "metadata": {
        "id": "6aAFYHtyAsEJ"
      },
      "source": [
        "lin_reg = LinearRegression()  # 선형 회귀 알고리즘 생성"
      ],
      "execution_count": 14,
      "outputs": []
    },
    {
      "cell_type": "code",
      "metadata": {
        "colab": {
          "base_uri": "https://localhost:8080/"
        },
        "id": "brAIPqlZB6mS",
        "outputId": "76255ccb-a397-4393-c173-7618ecc47b6d"
      },
      "source": [
        "lin_reg.fit(X_train, y_train)  # ML 알고리즘을 데이터에 fitting. 데이터를 학습시킴."
      ],
      "execution_count": 15,
      "outputs": [
        {
          "output_type": "execute_result",
          "data": {
            "text/plain": [
              "LinearRegression(copy_X=True, fit_intercept=True, n_jobs=None, normalize=False)"
            ]
          },
          "metadata": {},
          "execution_count": 15
        }
      ]
    },
    {
      "cell_type": "code",
      "metadata": {
        "colab": {
          "base_uri": "https://localhost:8080/"
        },
        "id": "-hfLynTPCQGR",
        "outputId": "310bf5a8-4bde-40a5-a199-495922e307f6"
      },
      "source": [
        "lin_reg.intercept_  # w0: 절편, 편향"
      ],
      "execution_count": 16,
      "outputs": [
        {
          "output_type": "execute_result",
          "data": {
            "text/plain": [
              "-610.0275364260526"
            ]
          },
          "metadata": {},
          "execution_count": 16
        }
      ]
    },
    {
      "cell_type": "code",
      "metadata": {
        "colab": {
          "base_uri": "https://localhost:8080/"
        },
        "id": "hYDIkpr9CTy7",
        "outputId": "f6accf77-c12c-4e20-e8bc-8e7651aadb21"
      },
      "source": [
        "lin_reg.coef_  # [w1 w2 w3 w4] 계수들의 배열\n",
        "# w1 * length + w2 * diagonal + w3 * height + w4 * width"
      ],
      "execution_count": 17,
      "outputs": [
        {
          "output_type": "execute_result",
          "data": {
            "text/plain": [
              "array([-40.18338554,  47.80681727,  67.34086612,  35.34904264])"
            ]
          },
          "metadata": {},
          "execution_count": 17
        }
      ]
    },
    {
      "cell_type": "code",
      "metadata": {
        "id": "hYA4E8skCVJh"
      },
      "source": [
        "train_pred = lin_reg.predict(X_train)  # 훈련 셋 예측값"
      ],
      "execution_count": 18,
      "outputs": []
    },
    {
      "cell_type": "code",
      "metadata": {
        "colab": {
          "base_uri": "https://localhost:8080/"
        },
        "id": "PyLbZD4kEBKJ",
        "outputId": "50ce9f74-d27f-4949-a4fe-90a5d3a4a8b7"
      },
      "source": [
        "train_pred[:5]"
      ],
      "execution_count": 19,
      "outputs": [
        {
          "output_type": "execute_result",
          "data": {
            "text/plain": [
              "array([ 50.07831254, 149.63115115,  26.52323981, -11.85322276,\n",
              "       727.07849472])"
            ]
          },
          "metadata": {},
          "execution_count": 19
        }
      ]
    },
    {
      "cell_type": "code",
      "metadata": {
        "colab": {
          "base_uri": "https://localhost:8080/"
        },
        "id": "0Z89Bm_WEC9J",
        "outputId": "9e2953c1-2806-4761-a4c9-d302a3f855f1"
      },
      "source": [
        "y_train[:5]  # 실젯값"
      ],
      "execution_count": 20,
      "outputs": [
        {
          "output_type": "execute_result",
          "data": {
            "text/plain": [
              "array([ 85., 135.,  78.,  70., 700.])"
            ]
          },
          "metadata": {},
          "execution_count": 20
        }
      ]
    },
    {
      "cell_type": "code",
      "metadata": {
        "colab": {
          "base_uri": "https://localhost:8080/"
        },
        "id": "g-v2Eq-sEIjs",
        "outputId": "4ff6cadc-9a77-44b7-cc3f-67ac62718dae"
      },
      "source": [
        "# RMSE\n",
        "np.sqrt(mean_squared_error(y_train, train_pred))"
      ],
      "execution_count": 21,
      "outputs": [
        {
          "output_type": "execute_result",
          "data": {
            "text/plain": [
              "73.07651173088374"
            ]
          },
          "metadata": {},
          "execution_count": 21
        }
      ]
    },
    {
      "cell_type": "code",
      "metadata": {
        "colab": {
          "base_uri": "https://localhost:8080/"
        },
        "id": "RmKe_9UmEghb",
        "outputId": "bec57667-7d47-4b3e-cd41-ef646b90e929"
      },
      "source": [
        "# 결정 계수\n",
        "r2_score(y_train, train_pred)"
      ],
      "execution_count": 22,
      "outputs": [
        {
          "output_type": "execute_result",
          "data": {
            "text/plain": [
              "0.9567246116638569"
            ]
          },
          "metadata": {},
          "execution_count": 22
        }
      ]
    },
    {
      "cell_type": "code",
      "metadata": {
        "id": "nDxXBCsVEr0j"
      },
      "source": [
        "test_pred = lin_reg.predict(X_test)  # 테스트 셋 예측값"
      ],
      "execution_count": 23,
      "outputs": []
    },
    {
      "cell_type": "code",
      "metadata": {
        "colab": {
          "base_uri": "https://localhost:8080/"
        },
        "id": "uOPogtcCE8-Z",
        "outputId": "a2eea312-350c-43ce-d955-ff7cd72e4ef9"
      },
      "source": [
        "test_pred[:5]"
      ],
      "execution_count": 24,
      "outputs": [
        {
          "output_type": "execute_result",
          "data": {
            "text/plain": [
              "array([-334.87262176,   53.65873458,  318.38723843,  178.88939119,\n",
              "        155.66294578])"
            ]
          },
          "metadata": {},
          "execution_count": 24
        }
      ]
    },
    {
      "cell_type": "code",
      "metadata": {
        "colab": {
          "base_uri": "https://localhost:8080/"
        },
        "id": "PKApMk0ZE-aK",
        "outputId": "006d3292-d31f-49f9-a1ed-0e8f4b736d64"
      },
      "source": [
        "y_test[:5]  # 테스트 셋 실젯값"
      ],
      "execution_count": 25,
      "outputs": [
        {
          "output_type": "execute_result",
          "data": {
            "text/plain": [
              "array([  5.9, 100. , 250. , 130. , 130. ])"
            ]
          },
          "metadata": {},
          "execution_count": 25
        }
      ]
    },
    {
      "cell_type": "code",
      "metadata": {
        "colab": {
          "base_uri": "https://localhost:8080/"
        },
        "id": "ln4ttU1wFFS5",
        "outputId": "fab0eb6b-54e0-4a27-c72d-97d8bb17af59"
      },
      "source": [
        "np.sqrt(mean_squared_error(y_test, test_pred))  # RMSE"
      ],
      "execution_count": 26,
      "outputs": [
        {
          "output_type": "execute_result",
          "data": {
            "text/plain": [
              "110.1835310901991"
            ]
          },
          "metadata": {},
          "execution_count": 26
        }
      ]
    },
    {
      "cell_type": "code",
      "metadata": {
        "colab": {
          "base_uri": "https://localhost:8080/"
        },
        "id": "Li_ZP0nQFRQS",
        "outputId": "e2b24d5e-22d1-4a98-a212-8646613f4663"
      },
      "source": [
        "r2_score(y_test, test_pred)  # 결정 계수"
      ],
      "execution_count": 27,
      "outputs": [
        {
          "output_type": "execute_result",
          "data": {
            "text/plain": [
              "0.879046561599027"
            ]
          },
          "metadata": {},
          "execution_count": 27
        }
      ]
    },
    {
      "cell_type": "markdown",
      "metadata": {
        "id": "gozD0wd4F1BG"
      },
      "source": [
        "1차항만 고려한 선형 회귀 모델은 overfitting이 약간 있음."
      ]
    },
    {
      "cell_type": "markdown",
      "metadata": {
        "id": "nojn9122JD9x"
      },
      "source": [
        "# 2차항까지 추가한 선형 회귀\n",
        "\n",
        "$\n",
        "\\hat{y} = w_0 + w_1 \\times x_1 + \\cdots + w_4 \\times x_4 + w_5 \\times x_1^2 + \\cdots + w_{14} \\times x_4^2\n",
        "$\n"
      ]
    },
    {
      "cell_type": "code",
      "metadata": {
        "id": "m8jEgroWF0eQ"
      },
      "source": [
        "poly = PolynomialFeatures(include_bias=False)  # 다차항을 추가하는 변환기 생성\n",
        "# degree=2 (default): 2차항까지 고려\n",
        "# interaction_only=False (default): x1^2, x2^2, x1*x2, ... 등을 모두 추가"
      ],
      "execution_count": 28,
      "outputs": []
    },
    {
      "cell_type": "code",
      "metadata": {
        "colab": {
          "base_uri": "https://localhost:8080/"
        },
        "id": "G8NVz7RuFtky",
        "outputId": "7563a5b1-12f3-4c9d-c2c7-d7518763eba6"
      },
      "source": [
        "poly.fit_transform(X_train)[:2]"
      ],
      "execution_count": 29,
      "outputs": [
        {
          "output_type": "execute_result",
          "data": {
            "text/plain": [
              "array([[ 19.6       ,  20.8       ,   5.1376    ,   3.0368    ,\n",
              "        384.16      , 407.68      , 100.69696   ,  59.52128   ,\n",
              "        432.64      , 106.86208   ,  63.16544   ,  26.39493376,\n",
              "         15.60186368,   9.22215424],\n",
              "       [ 22.        ,  23.5       ,   5.875     ,   3.525     ,\n",
              "        484.        , 517.        , 129.25      ,  77.55      ,\n",
              "        552.25      , 138.0625    ,  82.8375    ,  34.515625  ,\n",
              "         20.709375  ,  12.425625  ]])"
            ]
          },
          "metadata": {},
          "execution_count": 29
        }
      ]
    },
    {
      "cell_type": "code",
      "metadata": {
        "id": "0NTHAauTLHCB"
      },
      "source": [
        "scaler = StandardScaler()  # 표준화 변환기 생성"
      ],
      "execution_count": 30,
      "outputs": []
    },
    {
      "cell_type": "code",
      "metadata": {
        "id": "9a2cZWJsLVsQ"
      },
      "source": [
        "lin_reg = LinearRegression()  # ML 알고리즘 생성"
      ],
      "execution_count": 31,
      "outputs": []
    },
    {
      "cell_type": "code",
      "metadata": {
        "id": "iFVdMPzILbeo"
      },
      "source": [
        "# Pipeline 객체 생성\n",
        "model = Pipeline(steps=[('poly', poly),\n",
        "                        ('scaler', scaler),\n",
        "                        ('lin_reg', lin_reg)])"
      ],
      "execution_count": 32,
      "outputs": []
    },
    {
      "cell_type": "code",
      "metadata": {
        "colab": {
          "base_uri": "https://localhost:8080/"
        },
        "id": "lJ-YqbwsMFAi",
        "outputId": "d32f8f7c-d1e4-4753-f535-b709ddfbf9fb"
      },
      "source": [
        "# ML 모델을 데이터에 fitting. 학습 셋을 훈련시킴.\n",
        "model.fit(X_train, y_train)"
      ],
      "execution_count": 33,
      "outputs": [
        {
          "output_type": "execute_result",
          "data": {
            "text/plain": [
              "Pipeline(memory=None,\n",
              "         steps=[('poly',\n",
              "                 PolynomialFeatures(degree=2, include_bias=False,\n",
              "                                    interaction_only=False, order='C')),\n",
              "                ('scaler',\n",
              "                 StandardScaler(copy=True, with_mean=True, with_std=True)),\n",
              "                ('lin_reg',\n",
              "                 LinearRegression(copy_X=True, fit_intercept=True, n_jobs=None,\n",
              "                                  normalize=False))],\n",
              "         verbose=False)"
            ]
          },
          "metadata": {},
          "execution_count": 33
        }
      ]
    },
    {
      "cell_type": "code",
      "metadata": {
        "colab": {
          "base_uri": "https://localhost:8080/"
        },
        "id": "cIa2ukHlMbVB",
        "outputId": "26e62752-910e-42ab-e982-74f0a173511a"
      },
      "source": [
        "model['lin_reg'].intercept_  # 학습이 끝난 후 선형 회귀 모델이 찾은 절편"
      ],
      "execution_count": 34,
      "outputs": [
        {
          "output_type": "execute_result",
          "data": {
            "text/plain": [
              "400.83333333332587"
            ]
          },
          "metadata": {},
          "execution_count": 34
        }
      ]
    },
    {
      "cell_type": "code",
      "metadata": {
        "colab": {
          "base_uri": "https://localhost:8080/"
        },
        "id": "O-EVI5ELMi44",
        "outputId": "e2ffb2b9-c3e1-4d04-b280-f55eb09e58ee"
      },
      "source": [
        "model['lin_reg'].coef_  # 학습이 끝난 후 선형 회귀 모델이 찾은 계수들(coefficients)"
      ],
      "execution_count": 35,
      "outputs": [
        {
          "output_type": "execute_result",
          "data": {
            "text/plain": [
              "array([   -443.26816039,    1150.91134799,    -650.22360319,\n",
              "          -368.62831244,  115424.97558536, -210083.78541706,\n",
              "        -49872.08633924,   29100.85132271,   91656.18352525,\n",
              "         53699.90248992,  -27521.03052328,    1226.11352267,\n",
              "         -5243.73927458,    2288.55011685])"
            ]
          },
          "metadata": {},
          "execution_count": 35
        }
      ]
    },
    {
      "cell_type": "code",
      "metadata": {
        "colab": {
          "base_uri": "https://localhost:8080/"
        },
        "id": "2zcKUwr3M7DC",
        "outputId": "312738b0-2f27-42dd-8552-cd46d68b5ad7"
      },
      "source": [
        "model['poly'].get_feature_names()  # PolynomialFeatures 변환기가 만들어낸 다차항들 리스트"
      ],
      "execution_count": 36,
      "outputs": [
        {
          "output_type": "execute_result",
          "data": {
            "text/plain": [
              "['x0',\n",
              " 'x1',\n",
              " 'x2',\n",
              " 'x3',\n",
              " 'x0^2',\n",
              " 'x0 x1',\n",
              " 'x0 x2',\n",
              " 'x0 x3',\n",
              " 'x1^2',\n",
              " 'x1 x2',\n",
              " 'x1 x3',\n",
              " 'x2^2',\n",
              " 'x2 x3',\n",
              " 'x3^2']"
            ]
          },
          "metadata": {},
          "execution_count": 36
        }
      ]
    },
    {
      "cell_type": "code",
      "metadata": {
        "id": "oN7oJoDjNSBg"
      },
      "source": [
        "train_pred = model.predict(X_train)  # 훈련 셋 예측값"
      ],
      "execution_count": 37,
      "outputs": []
    },
    {
      "cell_type": "code",
      "metadata": {
        "colab": {
          "base_uri": "https://localhost:8080/"
        },
        "id": "zmNLNlLNOC9z",
        "outputId": "42598fb4-e93c-46d3-ba41-81637163d42d"
      },
      "source": [
        "train_pred[:5]"
      ],
      "execution_count": 38,
      "outputs": [
        {
          "output_type": "execute_result",
          "data": {
            "text/plain": [
              "array([ 86.22462498, 117.8371985 ,  65.36623277,  51.32036181,\n",
              "       688.61814191])"
            ]
          },
          "metadata": {},
          "execution_count": 38
        }
      ]
    },
    {
      "cell_type": "code",
      "metadata": {
        "colab": {
          "base_uri": "https://localhost:8080/"
        },
        "id": "l7SjVD-IOEpo",
        "outputId": "3d3625b3-18fe-45b1-b74f-566bbd325cda"
      },
      "source": [
        "y_train[:5]"
      ],
      "execution_count": 39,
      "outputs": [
        {
          "output_type": "execute_result",
          "data": {
            "text/plain": [
              "array([ 85., 135.,  78.,  70., 700.])"
            ]
          },
          "metadata": {},
          "execution_count": 39
        }
      ]
    },
    {
      "cell_type": "code",
      "metadata": {
        "colab": {
          "base_uri": "https://localhost:8080/"
        },
        "id": "SdN0vkl9OHTQ",
        "outputId": "f0fa7504-48ea-4033-dfa0-ef2854201a88"
      },
      "source": [
        "np.sqrt(mean_squared_error(y_train, train_pred))  # 훈련 셋 RMSE"
      ],
      "execution_count": 40,
      "outputs": [
        {
          "output_type": "execute_result",
          "data": {
            "text/plain": [
              "31.408812188346158"
            ]
          },
          "metadata": {},
          "execution_count": 40
        }
      ]
    },
    {
      "cell_type": "code",
      "metadata": {
        "colab": {
          "base_uri": "https://localhost:8080/"
        },
        "id": "CclNW9MFOP7Z",
        "outputId": "af8f35f9-2459-4c00-c794-4dfaf935250f"
      },
      "source": [
        "r2_score(y_train, train_pred)  # 훈련 셋 결정 계수"
      ],
      "execution_count": 41,
      "outputs": [
        {
          "output_type": "execute_result",
          "data": {
            "text/plain": [
              "0.9920055538341124"
            ]
          },
          "metadata": {},
          "execution_count": 41
        }
      ]
    },
    {
      "cell_type": "code",
      "metadata": {
        "id": "19_CjeljOYlY"
      },
      "source": [
        "test_pred = model.predict(X_test)"
      ],
      "execution_count": 42,
      "outputs": []
    },
    {
      "cell_type": "code",
      "metadata": {
        "colab": {
          "base_uri": "https://localhost:8080/"
        },
        "id": "N959dBMwO9Fg",
        "outputId": "14ac332b-8a0a-49b2-98a4-5758f30ac59c"
      },
      "source": [
        "test_pred[:5]"
      ],
      "execution_count": 43,
      "outputs": [
        {
          "output_type": "execute_result",
          "data": {
            "text/plain": [
              "array([ 23.11093892,  16.86703258, 283.14558245, 126.83444969,\n",
              "       121.43654058])"
            ]
          },
          "metadata": {},
          "execution_count": 43
        }
      ]
    },
    {
      "cell_type": "code",
      "metadata": {
        "colab": {
          "base_uri": "https://localhost:8080/"
        },
        "id": "cpAEo4XVO-PB",
        "outputId": "0c361f15-98a2-4364-c73f-0437d53d2007"
      },
      "source": [
        "y_test[:5]"
      ],
      "execution_count": 44,
      "outputs": [
        {
          "output_type": "execute_result",
          "data": {
            "text/plain": [
              "array([  5.9, 100. , 250. , 130. , 130. ])"
            ]
          },
          "metadata": {},
          "execution_count": 44
        }
      ]
    },
    {
      "cell_type": "code",
      "metadata": {
        "colab": {
          "base_uri": "https://localhost:8080/"
        },
        "id": "fEISWvciPBWB",
        "outputId": "bc327378-b44a-43ee-e7be-2ac446dee475"
      },
      "source": [
        "np.sqrt(mean_squared_error(y_test, test_pred))  # 테스트 셋 RMSE"
      ],
      "execution_count": 45,
      "outputs": [
        {
          "output_type": "execute_result",
          "data": {
            "text/plain": [
              "71.36392024375351"
            ]
          },
          "metadata": {},
          "execution_count": 45
        }
      ]
    },
    {
      "cell_type": "code",
      "metadata": {
        "colab": {
          "base_uri": "https://localhost:8080/"
        },
        "id": "1t2QBdmpPJKJ",
        "outputId": "a7453d73-10a8-4a38-aff5-458eba9da17e"
      },
      "source": [
        "r2_score(y_test, test_pred)  # 테스트 셋 결정 계수"
      ],
      "execution_count": 46,
      "outputs": [
        {
          "output_type": "execute_result",
          "data": {
            "text/plain": [
              "0.949260960155265"
            ]
          },
          "metadata": {},
          "execution_count": 46
        }
      ]
    },
    {
      "cell_type": "markdown",
      "metadata": {
        "id": "7QkLk9KG67Jl"
      },
      "source": [
        "# 5차항까지 고려한 선형 회귀"
      ]
    },
    {
      "cell_type": "code",
      "metadata": {
        "id": "HWHZdm10PVw-"
      },
      "source": [
        "poly = PolynomialFeatures(degree=5, include_bias=False)  # Transformer\n",
        "scaler = StandardScaler()  # Transformer\n",
        "lin_reg = LinearRegression()  # Estimator\n",
        "model = Pipeline(steps=[('poly', poly),\n",
        "                        ('scaler', scaler),\n",
        "                        ('reg', lin_reg)])  # Pipeline ---> ML 모델(알고리즘)"
      ],
      "execution_count": 47,
      "outputs": []
    },
    {
      "cell_type": "code",
      "metadata": {
        "colab": {
          "base_uri": "https://localhost:8080/"
        },
        "id": "1tEbTN3x7j7t",
        "outputId": "f24a6fae-4acb-4bfc-b3ee-03cc6d120020"
      },
      "source": [
        "model.fit(X_train, y_train)  # 모델 학습"
      ],
      "execution_count": 48,
      "outputs": [
        {
          "output_type": "execute_result",
          "data": {
            "text/plain": [
              "Pipeline(memory=None,\n",
              "         steps=[('poly',\n",
              "                 PolynomialFeatures(degree=5, include_bias=False,\n",
              "                                    interaction_only=False, order='C')),\n",
              "                ('scaler',\n",
              "                 StandardScaler(copy=True, with_mean=True, with_std=True)),\n",
              "                ('reg',\n",
              "                 LinearRegression(copy_X=True, fit_intercept=True, n_jobs=None,\n",
              "                                  normalize=False))],\n",
              "         verbose=False)"
            ]
          },
          "metadata": {},
          "execution_count": 48
        }
      ]
    },
    {
      "cell_type": "code",
      "metadata": {
        "colab": {
          "base_uri": "https://localhost:8080/"
        },
        "id": "5dbp1-jp71Dk",
        "outputId": "7df8de21-070c-4eda-b498-2c0dde4a5345"
      },
      "source": [
        "train_pred = model.predict(X_train)  # 예측\n",
        "train_pred[:5]"
      ],
      "execution_count": 49,
      "outputs": [
        {
          "output_type": "execute_result",
          "data": {
            "text/plain": [
              "array([ 85.00000001, 135.00000001,  78.00000001,  70.00000001,\n",
              "       699.99999999])"
            ]
          },
          "metadata": {},
          "execution_count": 49
        }
      ]
    },
    {
      "cell_type": "code",
      "metadata": {
        "colab": {
          "base_uri": "https://localhost:8080/"
        },
        "id": "pU8gxqUb7-o0",
        "outputId": "14672f60-feeb-436e-b3fa-9d5770d61093"
      },
      "source": [
        "y_train[:5]"
      ],
      "execution_count": 50,
      "outputs": [
        {
          "output_type": "execute_result",
          "data": {
            "text/plain": [
              "array([ 85., 135.,  78.,  70., 700.])"
            ]
          },
          "metadata": {},
          "execution_count": 50
        }
      ]
    },
    {
      "cell_type": "code",
      "metadata": {
        "colab": {
          "base_uri": "https://localhost:8080/"
        },
        "id": "wAAMrVVL8BgL",
        "outputId": "7c7337a3-ed62-488e-cd61-3bc7fd29669d"
      },
      "source": [
        "np.sqrt(mean_squared_error(y_train, train_pred))  # RMSE"
      ],
      "execution_count": 51,
      "outputs": [
        {
          "output_type": "execute_result",
          "data": {
            "text/plain": [
              "6.451254436565875e-09"
            ]
          },
          "metadata": {},
          "execution_count": 51
        }
      ]
    },
    {
      "cell_type": "code",
      "metadata": {
        "colab": {
          "base_uri": "https://localhost:8080/"
        },
        "id": "_WBoJ_op8Rgc",
        "outputId": "10092eec-0b96-4d02-ab77-ad7df72211bf"
      },
      "source": [
        "r2_score(y_train, train_pred)  # 결정 계수"
      ],
      "execution_count": 52,
      "outputs": [
        {
          "output_type": "execute_result",
          "data": {
            "text/plain": [
              "1.0"
            ]
          },
          "metadata": {},
          "execution_count": 52
        }
      ]
    },
    {
      "cell_type": "code",
      "metadata": {
        "colab": {
          "base_uri": "https://localhost:8080/"
        },
        "id": "Z1PPAVAO8tN0",
        "outputId": "351f99fe-5956-4e3d-b6df-307ebc8a4d5c"
      },
      "source": [
        "test_pred = model.predict(X_test)\n",
        "test_pred[:5]"
      ],
      "execution_count": 53,
      "outputs": [
        {
          "output_type": "execute_result",
          "data": {
            "text/plain": [
              "array([11371.40140121,  2337.27796403,   202.4010845 ,   407.75145864,\n",
              "         108.73923664])"
            ]
          },
          "metadata": {},
          "execution_count": 53
        }
      ]
    },
    {
      "cell_type": "code",
      "metadata": {
        "colab": {
          "base_uri": "https://localhost:8080/"
        },
        "id": "p3hI2yYY9pbk",
        "outputId": "7648cbf8-0779-40d5-9fa1-be620765884c"
      },
      "source": [
        "y_test[:5]"
      ],
      "execution_count": 54,
      "outputs": [
        {
          "output_type": "execute_result",
          "data": {
            "text/plain": [
              "array([  5.9, 100. , 250. , 130. , 130. ])"
            ]
          },
          "metadata": {},
          "execution_count": 54
        }
      ]
    },
    {
      "cell_type": "code",
      "metadata": {
        "colab": {
          "base_uri": "https://localhost:8080/"
        },
        "id": "zuqu7Bb-9v91",
        "outputId": "aa8bcbdc-645f-4f6f-c0a3-1a91a1d99c52"
      },
      "source": [
        "np.sqrt(mean_squared_error(y_test, test_pred))"
      ],
      "execution_count": 55,
      "outputs": [
        {
          "output_type": "execute_result",
          "data": {
            "text/plain": [
              "3768.2193148209044"
            ]
          },
          "metadata": {},
          "execution_count": 55
        }
      ]
    },
    {
      "cell_type": "code",
      "metadata": {
        "colab": {
          "base_uri": "https://localhost:8080/"
        },
        "id": "8yH8_YZW92qs",
        "outputId": "16299edf-f7b1-409d-bfc8-8f278a5bf679"
      },
      "source": [
        "r2_score(y_test, test_pred)"
      ],
      "execution_count": 56,
      "outputs": [
        {
          "output_type": "execute_result",
          "data": {
            "text/plain": [
              "-140.4676661620923"
            ]
          },
          "metadata": {},
          "execution_count": 56
        }
      ]
    },
    {
      "cell_type": "markdown",
      "metadata": {
        "id": "8iHrt81T98Is"
      },
      "source": [
        "고차항이 많아질 수록 overfitting(과대적합)이 더 심해지는 경향이 있다."
      ]
    },
    {
      "cell_type": "code",
      "metadata": {
        "id": "1z4E1UMj96AV"
      },
      "source": [
        ""
      ],
      "execution_count": null,
      "outputs": []
    }
  ]
}
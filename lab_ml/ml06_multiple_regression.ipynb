{
  "nbformat": 4,
  "nbformat_minor": 0,
  "metadata": {
    "colab": {
      "name": "ml06_multiple_regression.ipynb",
      "provenance": [],
      "collapsed_sections": [],
      "authorship_tag": "ABX9TyPp2t/Usre+yWIlWfI61f3F",
      "include_colab_link": true
    },
    "kernelspec": {
      "name": "python3",
      "display_name": "Python 3"
    },
    "language_info": {
      "name": "python"
    }
  },
  "cells": [
    {
      "cell_type": "markdown",
      "metadata": {
        "id": "view-in-github",
        "colab_type": "text"
      },
      "source": [
        "<a href=\"https://colab.research.google.com/github/JakeOh/202105_itw_bd26/blob/main/lab_ml/ml06_multiple_regression.ipynb\" target=\"_parent\"><img src=\"https://colab.research.google.com/assets/colab-badge.svg\" alt=\"Open In Colab\"/></a>"
      ]
    },
    {
      "cell_type": "markdown",
      "metadata": {
        "id": "ZWhzJ4-w7oWS"
      },
      "source": [
        "# 다중 선형 회귀\n",
        "\n",
        "특성(독립변수)가 여러 개인 선형 회귀 모델\n",
        "* 1차항만 고려한 선형 회귀\n",
        "* 고차항들을 포함하는 선형 회귀\n",
        "* 규제(Regularization): overfitting(과대적합)을 줄이기 위한 기법"
      ]
    },
    {
      "cell_type": "markdown",
      "metadata": {
        "id": "4_JCIPB48Uyp"
      },
      "source": [
        "# Imports"
      ]
    },
    {
      "cell_type": "code",
      "metadata": {
        "id": "jPwvE0RT7fl-"
      },
      "source": [
        "import numpy as np\n",
        "import pandas as pd\n",
        "import matplotlib.pyplot as plt\n",
        "import seaborn as sns\n",
        "\n",
        "from sklearn.model_selection import train_test_split\n",
        "from sklearn.linear_model import LinearRegression, Ridge, Lasso, ElasticNet\n",
        "from sklearn.preprocessing import PolynomialFeatures, StandardScaler\n",
        "from sklearn.pipeline import Pipeline\n",
        "from sklearn.metrics import r2_score, mean_squared_error"
      ],
      "execution_count": 79,
      "outputs": []
    },
    {
      "cell_type": "markdown",
      "metadata": {
        "id": "wRfOpii69lDS"
      },
      "source": [
        "# 데이터 준비"
      ]
    },
    {
      "cell_type": "code",
      "metadata": {
        "id": "-oJ8Ukpo9LYl"
      },
      "source": [
        "# 데이터 셋 github URL\n",
        "fish_csv = 'https://github.com/rickiepark/hg-mldl/raw/master/fish.csv'"
      ],
      "execution_count": 2,
      "outputs": []
    },
    {
      "cell_type": "code",
      "metadata": {
        "id": "KM4mma1Q9gJz"
      },
      "source": [
        "# DataFrame 생성\n",
        "fish = pd.read_csv(fish_csv)"
      ],
      "execution_count": 3,
      "outputs": []
    },
    {
      "cell_type": "code",
      "metadata": {
        "colab": {
          "base_uri": "https://localhost:8080/"
        },
        "id": "1hGW4Cmb9t-h",
        "outputId": "804d4b60-5c3c-47cf-e6ad-3b2ca8b8addc"
      },
      "source": [
        "fish.info()"
      ],
      "execution_count": 4,
      "outputs": [
        {
          "output_type": "stream",
          "name": "stdout",
          "text": [
            "<class 'pandas.core.frame.DataFrame'>\n",
            "RangeIndex: 159 entries, 0 to 158\n",
            "Data columns (total 6 columns):\n",
            " #   Column    Non-Null Count  Dtype  \n",
            "---  ------    --------------  -----  \n",
            " 0   Species   159 non-null    object \n",
            " 1   Weight    159 non-null    float64\n",
            " 2   Length    159 non-null    float64\n",
            " 3   Diagonal  159 non-null    float64\n",
            " 4   Height    159 non-null    float64\n",
            " 5   Width     159 non-null    float64\n",
            "dtypes: float64(5), object(1)\n",
            "memory usage: 7.6+ KB\n"
          ]
        }
      ]
    },
    {
      "cell_type": "code",
      "metadata": {
        "colab": {
          "base_uri": "https://localhost:8080/",
          "height": 206
        },
        "id": "eBovXkAw9w66",
        "outputId": "f44db905-d384-42c4-be7e-6b0414351c61"
      },
      "source": [
        "fish.head()"
      ],
      "execution_count": 5,
      "outputs": [
        {
          "output_type": "execute_result",
          "data": {
            "text/html": [
              "<div>\n",
              "<style scoped>\n",
              "    .dataframe tbody tr th:only-of-type {\n",
              "        vertical-align: middle;\n",
              "    }\n",
              "\n",
              "    .dataframe tbody tr th {\n",
              "        vertical-align: top;\n",
              "    }\n",
              "\n",
              "    .dataframe thead th {\n",
              "        text-align: right;\n",
              "    }\n",
              "</style>\n",
              "<table border=\"1\" class=\"dataframe\">\n",
              "  <thead>\n",
              "    <tr style=\"text-align: right;\">\n",
              "      <th></th>\n",
              "      <th>Species</th>\n",
              "      <th>Weight</th>\n",
              "      <th>Length</th>\n",
              "      <th>Diagonal</th>\n",
              "      <th>Height</th>\n",
              "      <th>Width</th>\n",
              "    </tr>\n",
              "  </thead>\n",
              "  <tbody>\n",
              "    <tr>\n",
              "      <th>0</th>\n",
              "      <td>Bream</td>\n",
              "      <td>242.0</td>\n",
              "      <td>25.4</td>\n",
              "      <td>30.0</td>\n",
              "      <td>11.5200</td>\n",
              "      <td>4.0200</td>\n",
              "    </tr>\n",
              "    <tr>\n",
              "      <th>1</th>\n",
              "      <td>Bream</td>\n",
              "      <td>290.0</td>\n",
              "      <td>26.3</td>\n",
              "      <td>31.2</td>\n",
              "      <td>12.4800</td>\n",
              "      <td>4.3056</td>\n",
              "    </tr>\n",
              "    <tr>\n",
              "      <th>2</th>\n",
              "      <td>Bream</td>\n",
              "      <td>340.0</td>\n",
              "      <td>26.5</td>\n",
              "      <td>31.1</td>\n",
              "      <td>12.3778</td>\n",
              "      <td>4.6961</td>\n",
              "    </tr>\n",
              "    <tr>\n",
              "      <th>3</th>\n",
              "      <td>Bream</td>\n",
              "      <td>363.0</td>\n",
              "      <td>29.0</td>\n",
              "      <td>33.5</td>\n",
              "      <td>12.7300</td>\n",
              "      <td>4.4555</td>\n",
              "    </tr>\n",
              "    <tr>\n",
              "      <th>4</th>\n",
              "      <td>Bream</td>\n",
              "      <td>430.0</td>\n",
              "      <td>29.0</td>\n",
              "      <td>34.0</td>\n",
              "      <td>12.4440</td>\n",
              "      <td>5.1340</td>\n",
              "    </tr>\n",
              "  </tbody>\n",
              "</table>\n",
              "</div>"
            ],
            "text/plain": [
              "  Species  Weight  Length  Diagonal   Height   Width\n",
              "0   Bream   242.0    25.4      30.0  11.5200  4.0200\n",
              "1   Bream   290.0    26.3      31.2  12.4800  4.3056\n",
              "2   Bream   340.0    26.5      31.1  12.3778  4.6961\n",
              "3   Bream   363.0    29.0      33.5  12.7300  4.4555\n",
              "4   Bream   430.0    29.0      34.0  12.4440  5.1340"
            ]
          },
          "metadata": {},
          "execution_count": 5
        }
      ]
    },
    {
      "cell_type": "markdown",
      "metadata": {
        "id": "djEc_6-G96vi"
      },
      "source": [
        "선형 회귀 목적: 농어(Perch)의 무게(Weight)를 농어의 다른 특성들(Length, Diagonal, Height, Width)로 예측.\n",
        "\n",
        "Weight ~ Length + Diagonal + Height + Width"
      ]
    },
    {
      "cell_type": "code",
      "metadata": {
        "colab": {
          "base_uri": "https://localhost:8080/",
          "height": 206
        },
        "id": "0z-g5aLd9377",
        "outputId": "4e8b9c85-0cb8-438c-8722-32680ef57f0a"
      },
      "source": [
        "perch = fish[fish.Species == 'Perch']  # 농어(Perch)만 선택\n",
        "perch.head()"
      ],
      "execution_count": 6,
      "outputs": [
        {
          "output_type": "execute_result",
          "data": {
            "text/html": [
              "<div>\n",
              "<style scoped>\n",
              "    .dataframe tbody tr th:only-of-type {\n",
              "        vertical-align: middle;\n",
              "    }\n",
              "\n",
              "    .dataframe tbody tr th {\n",
              "        vertical-align: top;\n",
              "    }\n",
              "\n",
              "    .dataframe thead th {\n",
              "        text-align: right;\n",
              "    }\n",
              "</style>\n",
              "<table border=\"1\" class=\"dataframe\">\n",
              "  <thead>\n",
              "    <tr style=\"text-align: right;\">\n",
              "      <th></th>\n",
              "      <th>Species</th>\n",
              "      <th>Weight</th>\n",
              "      <th>Length</th>\n",
              "      <th>Diagonal</th>\n",
              "      <th>Height</th>\n",
              "      <th>Width</th>\n",
              "    </tr>\n",
              "  </thead>\n",
              "  <tbody>\n",
              "    <tr>\n",
              "      <th>72</th>\n",
              "      <td>Perch</td>\n",
              "      <td>5.9</td>\n",
              "      <td>8.4</td>\n",
              "      <td>8.8</td>\n",
              "      <td>2.1120</td>\n",
              "      <td>1.4080</td>\n",
              "    </tr>\n",
              "    <tr>\n",
              "      <th>73</th>\n",
              "      <td>Perch</td>\n",
              "      <td>32.0</td>\n",
              "      <td>13.7</td>\n",
              "      <td>14.7</td>\n",
              "      <td>3.5280</td>\n",
              "      <td>1.9992</td>\n",
              "    </tr>\n",
              "    <tr>\n",
              "      <th>74</th>\n",
              "      <td>Perch</td>\n",
              "      <td>40.0</td>\n",
              "      <td>15.0</td>\n",
              "      <td>16.0</td>\n",
              "      <td>3.8240</td>\n",
              "      <td>2.4320</td>\n",
              "    </tr>\n",
              "    <tr>\n",
              "      <th>75</th>\n",
              "      <td>Perch</td>\n",
              "      <td>51.5</td>\n",
              "      <td>16.2</td>\n",
              "      <td>17.2</td>\n",
              "      <td>4.5924</td>\n",
              "      <td>2.6316</td>\n",
              "    </tr>\n",
              "    <tr>\n",
              "      <th>76</th>\n",
              "      <td>Perch</td>\n",
              "      <td>70.0</td>\n",
              "      <td>17.4</td>\n",
              "      <td>18.5</td>\n",
              "      <td>4.5880</td>\n",
              "      <td>2.9415</td>\n",
              "    </tr>\n",
              "  </tbody>\n",
              "</table>\n",
              "</div>"
            ],
            "text/plain": [
              "   Species  Weight  Length  Diagonal  Height   Width\n",
              "72   Perch     5.9     8.4       8.8  2.1120  1.4080\n",
              "73   Perch    32.0    13.7      14.7  3.5280  1.9992\n",
              "74   Perch    40.0    15.0      16.0  3.8240  2.4320\n",
              "75   Perch    51.5    16.2      17.2  4.5924  2.6316\n",
              "76   Perch    70.0    17.4      18.5  4.5880  2.9415"
            ]
          },
          "metadata": {},
          "execution_count": 6
        }
      ]
    },
    {
      "cell_type": "code",
      "metadata": {
        "id": "106I6SNE-xXp"
      },
      "source": [
        "# 특성(features), 독립 변수\n",
        "X = perch[['Length', 'Diagonal', 'Height', 'Width']].values"
      ],
      "execution_count": 7,
      "outputs": []
    },
    {
      "cell_type": "code",
      "metadata": {
        "colab": {
          "base_uri": "https://localhost:8080/"
        },
        "id": "MSyf2Sg1_ZkL",
        "outputId": "7cb627b7-5c1d-4650-aa67-74dfe52e8378"
      },
      "source": [
        "X.shape"
      ],
      "execution_count": 8,
      "outputs": [
        {
          "output_type": "execute_result",
          "data": {
            "text/plain": [
              "(56, 4)"
            ]
          },
          "metadata": {},
          "execution_count": 8
        }
      ]
    },
    {
      "cell_type": "code",
      "metadata": {
        "id": "FhM92AR6_bzb"
      },
      "source": [
        "# label, target, 종속 변수\n",
        "y = perch['Weight'].values"
      ],
      "execution_count": 9,
      "outputs": []
    },
    {
      "cell_type": "code",
      "metadata": {
        "colab": {
          "base_uri": "https://localhost:8080/"
        },
        "id": "VD3UKW0pABK6",
        "outputId": "507b13a1-7c4d-4b37-cfd9-1bedeef9ab87"
      },
      "source": [
        "y.shape"
      ],
      "execution_count": 10,
      "outputs": [
        {
          "output_type": "execute_result",
          "data": {
            "text/plain": [
              "(56,)"
            ]
          },
          "metadata": {},
          "execution_count": 10
        }
      ]
    },
    {
      "cell_type": "markdown",
      "metadata": {
        "id": "H-YlZkS4AL1C"
      },
      "source": [
        "# train/test split"
      ]
    },
    {
      "cell_type": "code",
      "metadata": {
        "id": "TLWksdAbADKT"
      },
      "source": [
        "X_train, X_test, y_train, y_test = train_test_split(X, y,\n",
        "                                                    test_size=0.25,\n",
        "                                                    random_state=42)"
      ],
      "execution_count": 11,
      "outputs": []
    },
    {
      "cell_type": "code",
      "metadata": {
        "colab": {
          "base_uri": "https://localhost:8080/"
        },
        "id": "uT8gqkWdAk76",
        "outputId": "d65028f5-28a5-45ca-d233-e727a656c4ea"
      },
      "source": [
        "X_train.shape, X_test.shape"
      ],
      "execution_count": 12,
      "outputs": [
        {
          "output_type": "execute_result",
          "data": {
            "text/plain": [
              "((42, 4), (14, 4))"
            ]
          },
          "metadata": {},
          "execution_count": 12
        }
      ]
    },
    {
      "cell_type": "code",
      "metadata": {
        "colab": {
          "base_uri": "https://localhost:8080/"
        },
        "id": "9essHJ6MAnGB",
        "outputId": "d6d513e2-7ce3-41a0-df4e-57a71896954d"
      },
      "source": [
        "y_train.shape, y_test.shape"
      ],
      "execution_count": 13,
      "outputs": [
        {
          "output_type": "execute_result",
          "data": {
            "text/plain": [
              "((42,), (14,))"
            ]
          },
          "metadata": {},
          "execution_count": 13
        }
      ]
    },
    {
      "cell_type": "markdown",
      "metadata": {
        "id": "ojAAjB2qA65p"
      },
      "source": [
        "# 1차항만 고려하는 선형 회귀\n",
        "\n",
        "$\n",
        "\\hat{y} = w_0 + w_1 \\times x_1 + w_2 \\times x_2 + w_3 \\times x_3 + w_4 \\times x_4\n",
        "$"
      ]
    },
    {
      "cell_type": "code",
      "metadata": {
        "id": "6aAFYHtyAsEJ"
      },
      "source": [
        "lin_reg = LinearRegression()  # 선형 회귀 알고리즘 생성"
      ],
      "execution_count": 14,
      "outputs": []
    },
    {
      "cell_type": "code",
      "metadata": {
        "colab": {
          "base_uri": "https://localhost:8080/"
        },
        "id": "brAIPqlZB6mS",
        "outputId": "76255ccb-a397-4393-c173-7618ecc47b6d"
      },
      "source": [
        "lin_reg.fit(X_train, y_train)  # ML 알고리즘을 데이터에 fitting. 데이터를 학습시킴."
      ],
      "execution_count": 15,
      "outputs": [
        {
          "output_type": "execute_result",
          "data": {
            "text/plain": [
              "LinearRegression(copy_X=True, fit_intercept=True, n_jobs=None, normalize=False)"
            ]
          },
          "metadata": {},
          "execution_count": 15
        }
      ]
    },
    {
      "cell_type": "code",
      "metadata": {
        "colab": {
          "base_uri": "https://localhost:8080/"
        },
        "id": "-hfLynTPCQGR",
        "outputId": "310bf5a8-4bde-40a5-a199-495922e307f6"
      },
      "source": [
        "lin_reg.intercept_  # w0: 절편, 편향"
      ],
      "execution_count": 16,
      "outputs": [
        {
          "output_type": "execute_result",
          "data": {
            "text/plain": [
              "-610.0275364260526"
            ]
          },
          "metadata": {},
          "execution_count": 16
        }
      ]
    },
    {
      "cell_type": "code",
      "metadata": {
        "colab": {
          "base_uri": "https://localhost:8080/"
        },
        "id": "hYDIkpr9CTy7",
        "outputId": "f6accf77-c12c-4e20-e8bc-8e7651aadb21"
      },
      "source": [
        "lin_reg.coef_  # [w1 w2 w3 w4] 계수들의 배열\n",
        "# w1 * length + w2 * diagonal + w3 * height + w4 * width"
      ],
      "execution_count": 17,
      "outputs": [
        {
          "output_type": "execute_result",
          "data": {
            "text/plain": [
              "array([-40.18338554,  47.80681727,  67.34086612,  35.34904264])"
            ]
          },
          "metadata": {},
          "execution_count": 17
        }
      ]
    },
    {
      "cell_type": "code",
      "metadata": {
        "id": "hYA4E8skCVJh"
      },
      "source": [
        "train_pred = lin_reg.predict(X_train)  # 훈련 셋 예측값"
      ],
      "execution_count": 18,
      "outputs": []
    },
    {
      "cell_type": "code",
      "metadata": {
        "colab": {
          "base_uri": "https://localhost:8080/"
        },
        "id": "PyLbZD4kEBKJ",
        "outputId": "50ce9f74-d27f-4949-a4fe-90a5d3a4a8b7"
      },
      "source": [
        "train_pred[:5]"
      ],
      "execution_count": 19,
      "outputs": [
        {
          "output_type": "execute_result",
          "data": {
            "text/plain": [
              "array([ 50.07831254, 149.63115115,  26.52323981, -11.85322276,\n",
              "       727.07849472])"
            ]
          },
          "metadata": {},
          "execution_count": 19
        }
      ]
    },
    {
      "cell_type": "code",
      "metadata": {
        "colab": {
          "base_uri": "https://localhost:8080/"
        },
        "id": "0Z89Bm_WEC9J",
        "outputId": "9e2953c1-2806-4761-a4c9-d302a3f855f1"
      },
      "source": [
        "y_train[:5]  # 실젯값"
      ],
      "execution_count": 20,
      "outputs": [
        {
          "output_type": "execute_result",
          "data": {
            "text/plain": [
              "array([ 85., 135.,  78.,  70., 700.])"
            ]
          },
          "metadata": {},
          "execution_count": 20
        }
      ]
    },
    {
      "cell_type": "code",
      "metadata": {
        "colab": {
          "base_uri": "https://localhost:8080/"
        },
        "id": "g-v2Eq-sEIjs",
        "outputId": "4ff6cadc-9a77-44b7-cc3f-67ac62718dae"
      },
      "source": [
        "# RMSE\n",
        "np.sqrt(mean_squared_error(y_train, train_pred))"
      ],
      "execution_count": 21,
      "outputs": [
        {
          "output_type": "execute_result",
          "data": {
            "text/plain": [
              "73.07651173088374"
            ]
          },
          "metadata": {},
          "execution_count": 21
        }
      ]
    },
    {
      "cell_type": "code",
      "metadata": {
        "colab": {
          "base_uri": "https://localhost:8080/"
        },
        "id": "RmKe_9UmEghb",
        "outputId": "bec57667-7d47-4b3e-cd41-ef646b90e929"
      },
      "source": [
        "# 결정 계수\n",
        "r2_score(y_train, train_pred)"
      ],
      "execution_count": 22,
      "outputs": [
        {
          "output_type": "execute_result",
          "data": {
            "text/plain": [
              "0.9567246116638569"
            ]
          },
          "metadata": {},
          "execution_count": 22
        }
      ]
    },
    {
      "cell_type": "code",
      "metadata": {
        "id": "nDxXBCsVEr0j"
      },
      "source": [
        "test_pred = lin_reg.predict(X_test)  # 테스트 셋 예측값"
      ],
      "execution_count": 23,
      "outputs": []
    },
    {
      "cell_type": "code",
      "metadata": {
        "colab": {
          "base_uri": "https://localhost:8080/"
        },
        "id": "uOPogtcCE8-Z",
        "outputId": "a2eea312-350c-43ce-d955-ff7cd72e4ef9"
      },
      "source": [
        "test_pred[:5]"
      ],
      "execution_count": 24,
      "outputs": [
        {
          "output_type": "execute_result",
          "data": {
            "text/plain": [
              "array([-334.87262176,   53.65873458,  318.38723843,  178.88939119,\n",
              "        155.66294578])"
            ]
          },
          "metadata": {},
          "execution_count": 24
        }
      ]
    },
    {
      "cell_type": "code",
      "metadata": {
        "colab": {
          "base_uri": "https://localhost:8080/"
        },
        "id": "PKApMk0ZE-aK",
        "outputId": "006d3292-d31f-49f9-a1ed-0e8f4b736d64"
      },
      "source": [
        "y_test[:5]  # 테스트 셋 실젯값"
      ],
      "execution_count": 25,
      "outputs": [
        {
          "output_type": "execute_result",
          "data": {
            "text/plain": [
              "array([  5.9, 100. , 250. , 130. , 130. ])"
            ]
          },
          "metadata": {},
          "execution_count": 25
        }
      ]
    },
    {
      "cell_type": "code",
      "metadata": {
        "colab": {
          "base_uri": "https://localhost:8080/"
        },
        "id": "ln4ttU1wFFS5",
        "outputId": "fab0eb6b-54e0-4a27-c72d-97d8bb17af59"
      },
      "source": [
        "np.sqrt(mean_squared_error(y_test, test_pred))  # RMSE"
      ],
      "execution_count": 26,
      "outputs": [
        {
          "output_type": "execute_result",
          "data": {
            "text/plain": [
              "110.1835310901991"
            ]
          },
          "metadata": {},
          "execution_count": 26
        }
      ]
    },
    {
      "cell_type": "code",
      "metadata": {
        "colab": {
          "base_uri": "https://localhost:8080/"
        },
        "id": "Li_ZP0nQFRQS",
        "outputId": "e2b24d5e-22d1-4a98-a212-8646613f4663"
      },
      "source": [
        "r2_score(y_test, test_pred)  # 결정 계수"
      ],
      "execution_count": 27,
      "outputs": [
        {
          "output_type": "execute_result",
          "data": {
            "text/plain": [
              "0.879046561599027"
            ]
          },
          "metadata": {},
          "execution_count": 27
        }
      ]
    },
    {
      "cell_type": "markdown",
      "metadata": {
        "id": "gozD0wd4F1BG"
      },
      "source": [
        "1차항만 고려한 선형 회귀 모델은 overfitting이 약간 있음."
      ]
    },
    {
      "cell_type": "markdown",
      "metadata": {
        "id": "nojn9122JD9x"
      },
      "source": [
        "# 2차항까지 추가한 선형 회귀\n",
        "\n",
        "$\n",
        "\\hat{y} = w_0 + w_1 \\times x_1 + \\cdots + w_4 \\times x_4 + w_5 \\times x_1^2 + \\cdots + w_{14} \\times x_4^2\n",
        "$\n"
      ]
    },
    {
      "cell_type": "code",
      "metadata": {
        "id": "m8jEgroWF0eQ"
      },
      "source": [
        "poly = PolynomialFeatures(include_bias=False)  # 다차항을 추가하는 변환기 생성\n",
        "# degree=2 (default): 2차항까지 고려\n",
        "# interaction_only=False (default): x1^2, x2^2, x1*x2, ... 등을 모두 추가"
      ],
      "execution_count": 28,
      "outputs": []
    },
    {
      "cell_type": "code",
      "metadata": {
        "colab": {
          "base_uri": "https://localhost:8080/"
        },
        "id": "G8NVz7RuFtky",
        "outputId": "7563a5b1-12f3-4c9d-c2c7-d7518763eba6"
      },
      "source": [
        "poly.fit_transform(X_train)[:2]"
      ],
      "execution_count": 29,
      "outputs": [
        {
          "output_type": "execute_result",
          "data": {
            "text/plain": [
              "array([[ 19.6       ,  20.8       ,   5.1376    ,   3.0368    ,\n",
              "        384.16      , 407.68      , 100.69696   ,  59.52128   ,\n",
              "        432.64      , 106.86208   ,  63.16544   ,  26.39493376,\n",
              "         15.60186368,   9.22215424],\n",
              "       [ 22.        ,  23.5       ,   5.875     ,   3.525     ,\n",
              "        484.        , 517.        , 129.25      ,  77.55      ,\n",
              "        552.25      , 138.0625    ,  82.8375    ,  34.515625  ,\n",
              "         20.709375  ,  12.425625  ]])"
            ]
          },
          "metadata": {},
          "execution_count": 29
        }
      ]
    },
    {
      "cell_type": "code",
      "metadata": {
        "id": "0NTHAauTLHCB"
      },
      "source": [
        "scaler = StandardScaler()  # 표준화 변환기 생성"
      ],
      "execution_count": 30,
      "outputs": []
    },
    {
      "cell_type": "code",
      "metadata": {
        "id": "9a2cZWJsLVsQ"
      },
      "source": [
        "lin_reg = LinearRegression()  # ML 알고리즘 생성"
      ],
      "execution_count": 31,
      "outputs": []
    },
    {
      "cell_type": "code",
      "metadata": {
        "id": "iFVdMPzILbeo"
      },
      "source": [
        "# Pipeline 객체 생성\n",
        "model = Pipeline(steps=[('poly', poly),\n",
        "                        ('scaler', scaler),\n",
        "                        ('lin_reg', lin_reg)])"
      ],
      "execution_count": 32,
      "outputs": []
    },
    {
      "cell_type": "code",
      "metadata": {
        "colab": {
          "base_uri": "https://localhost:8080/"
        },
        "id": "lJ-YqbwsMFAi",
        "outputId": "d32f8f7c-d1e4-4753-f535-b709ddfbf9fb"
      },
      "source": [
        "# ML 모델을 데이터에 fitting. 학습 셋을 훈련시킴.\n",
        "model.fit(X_train, y_train)"
      ],
      "execution_count": 33,
      "outputs": [
        {
          "output_type": "execute_result",
          "data": {
            "text/plain": [
              "Pipeline(memory=None,\n",
              "         steps=[('poly',\n",
              "                 PolynomialFeatures(degree=2, include_bias=False,\n",
              "                                    interaction_only=False, order='C')),\n",
              "                ('scaler',\n",
              "                 StandardScaler(copy=True, with_mean=True, with_std=True)),\n",
              "                ('lin_reg',\n",
              "                 LinearRegression(copy_X=True, fit_intercept=True, n_jobs=None,\n",
              "                                  normalize=False))],\n",
              "         verbose=False)"
            ]
          },
          "metadata": {},
          "execution_count": 33
        }
      ]
    },
    {
      "cell_type": "code",
      "metadata": {
        "colab": {
          "base_uri": "https://localhost:8080/"
        },
        "id": "cIa2ukHlMbVB",
        "outputId": "26e62752-910e-42ab-e982-74f0a173511a"
      },
      "source": [
        "model['lin_reg'].intercept_  # 학습이 끝난 후 선형 회귀 모델이 찾은 절편"
      ],
      "execution_count": 34,
      "outputs": [
        {
          "output_type": "execute_result",
          "data": {
            "text/plain": [
              "400.83333333332587"
            ]
          },
          "metadata": {},
          "execution_count": 34
        }
      ]
    },
    {
      "cell_type": "code",
      "metadata": {
        "colab": {
          "base_uri": "https://localhost:8080/"
        },
        "id": "O-EVI5ELMi44",
        "outputId": "e2ffb2b9-c3e1-4d04-b280-f55eb09e58ee"
      },
      "source": [
        "model['lin_reg'].coef_  # 학습이 끝난 후 선형 회귀 모델이 찾은 계수들(coefficients)"
      ],
      "execution_count": 35,
      "outputs": [
        {
          "output_type": "execute_result",
          "data": {
            "text/plain": [
              "array([   -443.26816039,    1150.91134799,    -650.22360319,\n",
              "          -368.62831244,  115424.97558536, -210083.78541706,\n",
              "        -49872.08633924,   29100.85132271,   91656.18352525,\n",
              "         53699.90248992,  -27521.03052328,    1226.11352267,\n",
              "         -5243.73927458,    2288.55011685])"
            ]
          },
          "metadata": {},
          "execution_count": 35
        }
      ]
    },
    {
      "cell_type": "code",
      "metadata": {
        "colab": {
          "base_uri": "https://localhost:8080/"
        },
        "id": "2zcKUwr3M7DC",
        "outputId": "312738b0-2f27-42dd-8552-cd46d68b5ad7"
      },
      "source": [
        "model['poly'].get_feature_names()  # PolynomialFeatures 변환기가 만들어낸 다차항들 리스트"
      ],
      "execution_count": 36,
      "outputs": [
        {
          "output_type": "execute_result",
          "data": {
            "text/plain": [
              "['x0',\n",
              " 'x1',\n",
              " 'x2',\n",
              " 'x3',\n",
              " 'x0^2',\n",
              " 'x0 x1',\n",
              " 'x0 x2',\n",
              " 'x0 x3',\n",
              " 'x1^2',\n",
              " 'x1 x2',\n",
              " 'x1 x3',\n",
              " 'x2^2',\n",
              " 'x2 x3',\n",
              " 'x3^2']"
            ]
          },
          "metadata": {},
          "execution_count": 36
        }
      ]
    },
    {
      "cell_type": "code",
      "metadata": {
        "id": "oN7oJoDjNSBg"
      },
      "source": [
        "train_pred = model.predict(X_train)  # 훈련 셋 예측값"
      ],
      "execution_count": 37,
      "outputs": []
    },
    {
      "cell_type": "code",
      "metadata": {
        "colab": {
          "base_uri": "https://localhost:8080/"
        },
        "id": "zmNLNlLNOC9z",
        "outputId": "42598fb4-e93c-46d3-ba41-81637163d42d"
      },
      "source": [
        "train_pred[:5]"
      ],
      "execution_count": 38,
      "outputs": [
        {
          "output_type": "execute_result",
          "data": {
            "text/plain": [
              "array([ 86.22462498, 117.8371985 ,  65.36623277,  51.32036181,\n",
              "       688.61814191])"
            ]
          },
          "metadata": {},
          "execution_count": 38
        }
      ]
    },
    {
      "cell_type": "code",
      "metadata": {
        "colab": {
          "base_uri": "https://localhost:8080/"
        },
        "id": "l7SjVD-IOEpo",
        "outputId": "3d3625b3-18fe-45b1-b74f-566bbd325cda"
      },
      "source": [
        "y_train[:5]"
      ],
      "execution_count": 39,
      "outputs": [
        {
          "output_type": "execute_result",
          "data": {
            "text/plain": [
              "array([ 85., 135.,  78.,  70., 700.])"
            ]
          },
          "metadata": {},
          "execution_count": 39
        }
      ]
    },
    {
      "cell_type": "code",
      "metadata": {
        "colab": {
          "base_uri": "https://localhost:8080/"
        },
        "id": "SdN0vkl9OHTQ",
        "outputId": "f0fa7504-48ea-4033-dfa0-ef2854201a88"
      },
      "source": [
        "np.sqrt(mean_squared_error(y_train, train_pred))  # 훈련 셋 RMSE"
      ],
      "execution_count": 40,
      "outputs": [
        {
          "output_type": "execute_result",
          "data": {
            "text/plain": [
              "31.408812188346158"
            ]
          },
          "metadata": {},
          "execution_count": 40
        }
      ]
    },
    {
      "cell_type": "code",
      "metadata": {
        "colab": {
          "base_uri": "https://localhost:8080/"
        },
        "id": "CclNW9MFOP7Z",
        "outputId": "af8f35f9-2459-4c00-c794-4dfaf935250f"
      },
      "source": [
        "r2_score(y_train, train_pred)  # 훈련 셋 결정 계수"
      ],
      "execution_count": 41,
      "outputs": [
        {
          "output_type": "execute_result",
          "data": {
            "text/plain": [
              "0.9920055538341124"
            ]
          },
          "metadata": {},
          "execution_count": 41
        }
      ]
    },
    {
      "cell_type": "code",
      "metadata": {
        "id": "19_CjeljOYlY"
      },
      "source": [
        "test_pred = model.predict(X_test)"
      ],
      "execution_count": 42,
      "outputs": []
    },
    {
      "cell_type": "code",
      "metadata": {
        "colab": {
          "base_uri": "https://localhost:8080/"
        },
        "id": "N959dBMwO9Fg",
        "outputId": "14ac332b-8a0a-49b2-98a4-5758f30ac59c"
      },
      "source": [
        "test_pred[:5]"
      ],
      "execution_count": 43,
      "outputs": [
        {
          "output_type": "execute_result",
          "data": {
            "text/plain": [
              "array([ 23.11093892,  16.86703258, 283.14558245, 126.83444969,\n",
              "       121.43654058])"
            ]
          },
          "metadata": {},
          "execution_count": 43
        }
      ]
    },
    {
      "cell_type": "code",
      "metadata": {
        "colab": {
          "base_uri": "https://localhost:8080/"
        },
        "id": "cpAEo4XVO-PB",
        "outputId": "0c361f15-98a2-4364-c73f-0437d53d2007"
      },
      "source": [
        "y_test[:5]"
      ],
      "execution_count": 44,
      "outputs": [
        {
          "output_type": "execute_result",
          "data": {
            "text/plain": [
              "array([  5.9, 100. , 250. , 130. , 130. ])"
            ]
          },
          "metadata": {},
          "execution_count": 44
        }
      ]
    },
    {
      "cell_type": "code",
      "metadata": {
        "colab": {
          "base_uri": "https://localhost:8080/"
        },
        "id": "fEISWvciPBWB",
        "outputId": "bc327378-b44a-43ee-e7be-2ac446dee475"
      },
      "source": [
        "np.sqrt(mean_squared_error(y_test, test_pred))  # 테스트 셋 RMSE"
      ],
      "execution_count": 45,
      "outputs": [
        {
          "output_type": "execute_result",
          "data": {
            "text/plain": [
              "71.36392024375351"
            ]
          },
          "metadata": {},
          "execution_count": 45
        }
      ]
    },
    {
      "cell_type": "code",
      "metadata": {
        "colab": {
          "base_uri": "https://localhost:8080/"
        },
        "id": "1t2QBdmpPJKJ",
        "outputId": "a7453d73-10a8-4a38-aff5-458eba9da17e"
      },
      "source": [
        "r2_score(y_test, test_pred)  # 테스트 셋 결정 계수"
      ],
      "execution_count": 46,
      "outputs": [
        {
          "output_type": "execute_result",
          "data": {
            "text/plain": [
              "0.949260960155265"
            ]
          },
          "metadata": {},
          "execution_count": 46
        }
      ]
    },
    {
      "cell_type": "markdown",
      "metadata": {
        "id": "7QkLk9KG67Jl"
      },
      "source": [
        "# 5차항까지 고려한 선형 회귀"
      ]
    },
    {
      "cell_type": "code",
      "metadata": {
        "id": "HWHZdm10PVw-"
      },
      "source": [
        "poly = PolynomialFeatures(degree=5, include_bias=False)  # Transformer\n",
        "scaler = StandardScaler()  # Transformer\n",
        "lin_reg = LinearRegression()  # Estimator\n",
        "model = Pipeline(steps=[('poly', poly),\n",
        "                        ('scaler', scaler),\n",
        "                        ('reg', lin_reg)])  # Pipeline ---> ML 모델(알고리즘)"
      ],
      "execution_count": 47,
      "outputs": []
    },
    {
      "cell_type": "code",
      "metadata": {
        "colab": {
          "base_uri": "https://localhost:8080/"
        },
        "id": "1tEbTN3x7j7t",
        "outputId": "f24a6fae-4acb-4bfc-b3ee-03cc6d120020"
      },
      "source": [
        "model.fit(X_train, y_train)  # 모델 학습"
      ],
      "execution_count": 48,
      "outputs": [
        {
          "output_type": "execute_result",
          "data": {
            "text/plain": [
              "Pipeline(memory=None,\n",
              "         steps=[('poly',\n",
              "                 PolynomialFeatures(degree=5, include_bias=False,\n",
              "                                    interaction_only=False, order='C')),\n",
              "                ('scaler',\n",
              "                 StandardScaler(copy=True, with_mean=True, with_std=True)),\n",
              "                ('reg',\n",
              "                 LinearRegression(copy_X=True, fit_intercept=True, n_jobs=None,\n",
              "                                  normalize=False))],\n",
              "         verbose=False)"
            ]
          },
          "metadata": {},
          "execution_count": 48
        }
      ]
    },
    {
      "cell_type": "code",
      "metadata": {
        "colab": {
          "base_uri": "https://localhost:8080/"
        },
        "id": "5dbp1-jp71Dk",
        "outputId": "7df8de21-070c-4eda-b498-2c0dde4a5345"
      },
      "source": [
        "train_pred = model.predict(X_train)  # 예측\n",
        "train_pred[:5]"
      ],
      "execution_count": 49,
      "outputs": [
        {
          "output_type": "execute_result",
          "data": {
            "text/plain": [
              "array([ 85.00000001, 135.00000001,  78.00000001,  70.00000001,\n",
              "       699.99999999])"
            ]
          },
          "metadata": {},
          "execution_count": 49
        }
      ]
    },
    {
      "cell_type": "code",
      "metadata": {
        "colab": {
          "base_uri": "https://localhost:8080/"
        },
        "id": "pU8gxqUb7-o0",
        "outputId": "14672f60-feeb-436e-b3fa-9d5770d61093"
      },
      "source": [
        "y_train[:5]"
      ],
      "execution_count": 50,
      "outputs": [
        {
          "output_type": "execute_result",
          "data": {
            "text/plain": [
              "array([ 85., 135.,  78.,  70., 700.])"
            ]
          },
          "metadata": {},
          "execution_count": 50
        }
      ]
    },
    {
      "cell_type": "code",
      "metadata": {
        "colab": {
          "base_uri": "https://localhost:8080/"
        },
        "id": "wAAMrVVL8BgL",
        "outputId": "7c7337a3-ed62-488e-cd61-3bc7fd29669d"
      },
      "source": [
        "np.sqrt(mean_squared_error(y_train, train_pred))  # RMSE"
      ],
      "execution_count": 51,
      "outputs": [
        {
          "output_type": "execute_result",
          "data": {
            "text/plain": [
              "6.451254436565875e-09"
            ]
          },
          "metadata": {},
          "execution_count": 51
        }
      ]
    },
    {
      "cell_type": "code",
      "metadata": {
        "colab": {
          "base_uri": "https://localhost:8080/"
        },
        "id": "_WBoJ_op8Rgc",
        "outputId": "10092eec-0b96-4d02-ab77-ad7df72211bf"
      },
      "source": [
        "r2_score(y_train, train_pred)  # 결정 계수"
      ],
      "execution_count": 52,
      "outputs": [
        {
          "output_type": "execute_result",
          "data": {
            "text/plain": [
              "1.0"
            ]
          },
          "metadata": {},
          "execution_count": 52
        }
      ]
    },
    {
      "cell_type": "code",
      "metadata": {
        "colab": {
          "base_uri": "https://localhost:8080/"
        },
        "id": "Z1PPAVAO8tN0",
        "outputId": "351f99fe-5956-4e3d-b6df-307ebc8a4d5c"
      },
      "source": [
        "test_pred = model.predict(X_test)\n",
        "test_pred[:5]"
      ],
      "execution_count": 53,
      "outputs": [
        {
          "output_type": "execute_result",
          "data": {
            "text/plain": [
              "array([11371.40140121,  2337.27796403,   202.4010845 ,   407.75145864,\n",
              "         108.73923664])"
            ]
          },
          "metadata": {},
          "execution_count": 53
        }
      ]
    },
    {
      "cell_type": "code",
      "metadata": {
        "colab": {
          "base_uri": "https://localhost:8080/"
        },
        "id": "p3hI2yYY9pbk",
        "outputId": "7648cbf8-0779-40d5-9fa1-be620765884c"
      },
      "source": [
        "y_test[:5]"
      ],
      "execution_count": 54,
      "outputs": [
        {
          "output_type": "execute_result",
          "data": {
            "text/plain": [
              "array([  5.9, 100. , 250. , 130. , 130. ])"
            ]
          },
          "metadata": {},
          "execution_count": 54
        }
      ]
    },
    {
      "cell_type": "code",
      "metadata": {
        "colab": {
          "base_uri": "https://localhost:8080/"
        },
        "id": "zuqu7Bb-9v91",
        "outputId": "aa8bcbdc-645f-4f6f-c0a3-1a91a1d99c52"
      },
      "source": [
        "np.sqrt(mean_squared_error(y_test, test_pred))"
      ],
      "execution_count": 55,
      "outputs": [
        {
          "output_type": "execute_result",
          "data": {
            "text/plain": [
              "3768.2193148209044"
            ]
          },
          "metadata": {},
          "execution_count": 55
        }
      ]
    },
    {
      "cell_type": "code",
      "metadata": {
        "colab": {
          "base_uri": "https://localhost:8080/"
        },
        "id": "8yH8_YZW92qs",
        "outputId": "16299edf-f7b1-409d-bfc8-8f278a5bf679"
      },
      "source": [
        "r2_score(y_test, test_pred)"
      ],
      "execution_count": 56,
      "outputs": [
        {
          "output_type": "execute_result",
          "data": {
            "text/plain": [
              "-140.4676661620923"
            ]
          },
          "metadata": {},
          "execution_count": 56
        }
      ]
    },
    {
      "cell_type": "markdown",
      "metadata": {
        "id": "8iHrt81T98Is"
      },
      "source": [
        "고차항이 많아질 수록 overfitting(과대적합)이 더 심해지는 경향이 있다."
      ]
    },
    {
      "cell_type": "markdown",
      "metadata": {
        "id": "rqiCdGsLBxMk"
      },
      "source": [
        "# 규제(Regularization)\n",
        "\n",
        "* `l2` 규제(Ridge)\n",
        "* `l1` 규제(Lasso)\n",
        "* ElasticNet 규제\n"
      ]
    },
    {
      "cell_type": "markdown",
      "metadata": {
        "id": "YVykWY1bCqwL"
      },
      "source": [
        "문제를 간단히 하기 위해서 농어 Weight ~ Length 선형 회귀 문제."
      ]
    },
    {
      "cell_type": "code",
      "metadata": {
        "id": "kOsTiUGsCpCI"
      },
      "source": [
        "y = perch['Weight'].values  # target"
      ],
      "execution_count": 59,
      "outputs": []
    },
    {
      "cell_type": "code",
      "metadata": {
        "id": "zL7xJa9UDFpM"
      },
      "source": [
        "X = perch[['Length']].values  # feature"
      ],
      "execution_count": 62,
      "outputs": []
    },
    {
      "cell_type": "code",
      "metadata": {
        "id": "hJiyq22sDVY9"
      },
      "source": [
        "# train/test split\n",
        "X_train, X_test, y_train, y_test = train_test_split(X, y,\n",
        "                                                    test_size=0.25,\n",
        "                                                    random_state=42)"
      ],
      "execution_count": 63,
      "outputs": []
    },
    {
      "cell_type": "markdown",
      "metadata": {
        "id": "IQRYlsYDCQJt"
      },
      "source": [
        "## 규제가 없는 선형 회귀"
      ]
    },
    {
      "cell_type": "code",
      "metadata": {
        "id": "1z4E1UMj96AV"
      },
      "source": [
        "# 함수 정의(선언)\n",
        "def visualize_regression(estimator, X_train, y_train):\n",
        "    degrees = (1, 2, 5, 100)\n",
        "    for d in degrees:\n",
        "        poly = PolynomialFeatures(degree=d, include_bias=False)\n",
        "        scaler = StandardScaler()\n",
        "        # ML 모델 생성\n",
        "        model = Pipeline(steps=[('poly', poly),\n",
        "                                ('scaler', scaler),\n",
        "                                ('reg', estimator)])\n",
        "        model.fit(X_train, y_train)  # 모델 학습\n",
        "        print(f'degree={d}, W={model[\"reg\"].coef_}')\n",
        "\n",
        "        # 선형 회귀 곡선 시각화(1차 함수, 2차 함수, ...)\n",
        "        # 곡선을 그리기 위한 x 좌표들\n",
        "        X_values = np.arange(14, 45, 0.001).reshape((-1, 1))  # (n_smaples, 1) shape의 2d array\n",
        "        # 곡선을 그리기 위한 y 좌표들\n",
        "        y_values = model.predict(X_values)\n",
        "        plt.plot(X_values, y_values, label=f'degree={d}')\n",
        "\n",
        "    # 훈련 데이터 시각화 (Weight ~ Length)\n",
        "    plt.scatter(X_train, y_train, color='darkgray')\n",
        "\n",
        "    # 그래프 customizing\n",
        "    plt.xlabel('Length (cm)')\n",
        "    plt.ylabel('Weight (g)')\n",
        "    plt.ylim((-100, 1200))\n",
        "    plt.legend()\n",
        "    plt.show()"
      ],
      "execution_count": 84,
      "outputs": []
    },
    {
      "cell_type": "code",
      "metadata": {
        "colab": {
          "base_uri": "https://localhost:8080/",
          "height": 862
        },
        "id": "JNQFI4oaEkm9",
        "outputId": "825a2495-eaf9-4039-e8b6-bf6b7e27c2eb"
      },
      "source": [
        "reg = LinearRegression()  # LinearRegression 객체 생성\n",
        "# 함수 호출\n",
        "visualize_regression(reg, X_train, y_train)"
      ],
      "execution_count": 85,
      "outputs": [
        {
          "output_type": "stream",
          "name": "stdout",
          "text": [
            "degree=1, W=[340.55381311]\n",
            "degree=2, W=[-188.16429447  532.30423546]\n",
            "degree=5, W=[ 1090.51349849 -4377.12096334  5960.80924384 -2038.47216236\n",
            "  -298.04297802]\n",
            "degree=100, W=[ 2.00557630e+10 -2.58408022e+11  1.49532847e+12 -4.90418675e+12\n",
            "  9.34291430e+12 -8.67392996e+12 -7.82611682e+11  7.69668003e+12\n",
            " -5.58109456e+09 -6.79558407e+12 -2.46010065e+12  4.99817517e+12\n",
            "  5.20423172e+12 -1.63569143e+11 -5.04386991e+12 -4.58103039e+12\n",
            " -2.92727936e+11  3.58006339e+12  4.82124023e+12  2.56502444e+12\n",
            " -1.02653972e+12 -3.84050839e+12 -4.08225740e+12 -2.38407359e+12\n",
            "  1.98148411e+11  2.61238310e+12  3.62406355e+12  3.27104682e+12\n",
            "  1.54929950e+12 -4.44063972e+11 -2.07165132e+12 -3.00069992e+12\n",
            " -3.00183843e+12 -2.13789600e+12 -6.78418491e+11  7.14760716e+11\n",
            "  2.02103482e+12  2.55576738e+12  2.52470076e+12  1.91395216e+12\n",
            "  1.04869405e+12  8.39890755e+10 -9.16363136e+11 -1.73570552e+12\n",
            " -2.04897502e+12 -2.09658188e+12 -1.65299115e+12 -1.16987146e+12\n",
            " -4.25185309e+11  2.76530253e+11  9.12030793e+11  1.36269923e+12\n",
            "  1.62030446e+12  1.62185850e+12  1.35146135e+12  1.18636212e+12\n",
            "  6.37891497e+11  9.30442761e+10 -3.07087213e+11 -7.97525808e+11\n",
            " -1.09119222e+12 -1.25596811e+12 -1.20076999e+12 -1.27951426e+12\n",
            " -1.01833445e+12 -5.97085554e+11 -3.60526253e+11  1.73064071e+11\n",
            "  4.90102798e+11  7.60390219e+11  8.76080358e+11  1.08675824e+12\n",
            "  8.93363876e+11  8.47995801e+11  7.48071791e+11  3.58460868e+11\n",
            "  1.88892254e+11 -2.12754968e+11 -5.09387572e+11 -4.66983886e+11\n",
            " -7.17846515e+11 -8.15320173e+11 -8.04217164e+11 -6.39844011e+11\n",
            " -4.69151884e+11 -4.69548440e+10  3.62721502e+11  4.90415492e+11\n",
            "  7.22326490e+11  8.93030174e+11  5.34427578e+11 -4.26221271e+10\n",
            " -1.02153095e+12  0.00000000e+00  0.00000000e+00  0.00000000e+00\n",
            "  0.00000000e+00  0.00000000e+00  0.00000000e+00  0.00000000e+00]\n"
          ]
        },
        {
          "output_type": "stream",
          "name": "stderr",
          "text": [
            "/usr/local/lib/python3.7/dist-packages/numpy/lib/nanfunctions.py:1544: RuntimeWarning: overflow encountered in multiply\n",
            "  sqr = np.multiply(arr, arr, out=arr)\n"
          ]
        },
        {
          "output_type": "display_data",
          "data": {
            "image/png": "[encoded data removed]",
            "text/plain": [
              "<Figure size 432x288 with 1 Axes>"
            ]
          },
          "metadata": {
            "needs_background": "light"
          }
        }
      ]
    },
    {
      "cell_type": "markdown",
      "metadata": {
        "id": "ld0f-dFRRt12"
      },
      "source": [
        "## `l2` 규제(Ridge regularization)"
      ]
    },
    {
      "cell_type": "code",
      "metadata": {
        "colab": {
          "base_uri": "https://localhost:8080/",
          "height": 843
        },
        "id": "Yk8LlwDERyqt",
        "outputId": "4baa0d95-746d-4cc3-9eb7-ceb9db0b2f3b"
      },
      "source": [
        "reg = Ridge()\n",
        "visualize_regression(reg, X_train, y_train)"
      ],
      "execution_count": 86,
      "outputs": [
        {
          "output_type": "stream",
          "name": "stdout",
          "text": [
            "degree=1, W=[332.63395699]\n",
            "degree=2, W=[ 90.58971122 249.48800198]\n",
            "degree=5, W=[71.46390274 95.36902828 90.24481144 64.15690222 24.69095831]\n",
            "degree=100, W=[ 5.68458773e+01  7.11425789e+01  7.19548031e+01  6.42812775e+01\n",
            "  5.23489678e+01  3.91902142e+01  2.67131342e+01  1.59431315e+01\n",
            "  7.28932355e+00  7.73385834e-01 -3.79884638e+00 -6.72086082e+00\n",
            " -8.31296552e+00 -8.88121060e+00 -8.69698510e+00 -7.98930587e+00\n",
            " -6.94436388e+00 -5.70885132e+00 -4.39495875e+00 -3.08582633e+00\n",
            " -1.84079404e+00 -7.00133384e-01  3.10859884e-01  1.17842459e+00\n",
            "  1.89750069e+00  2.46943497e+00  2.90014981e+00  3.19870069e+00\n",
            "  3.37615470e+00  3.44473059e+00  3.41714966e+00  3.30615492e+00\n",
            "  3.12416328e+00  2.88302224e+00  2.59384748e+00  2.26692283e+00\n",
            "  1.91164759e+00  1.53651914e+00  1.14914171e+00  7.56253695e-01\n",
            "  3.63767984e-01 -2.31792990e-02 -4.00174914e-01 -7.63472115e-01\n",
            " -1.10993364e+00 -1.43697553e+00 -1.74251269e+00 -2.02490700e+00\n",
            " -2.28291835e+00 -2.51565892e+00 -2.72255076e+00 -2.90328676e+00\n",
            " -3.05779501e+00 -3.18620626e+00 -3.28882457e+00 -3.36610077e+00\n",
            " -3.41860873e+00 -3.44702409e+00 -3.45210537e+00 -3.43467726e+00\n",
            " -3.39561579e+00 -3.33583541e+00 -3.25627759e+00 -3.15790099e+00\n",
            " -3.04167284e+00 -2.90856165e+00 -2.75953086e+00 -2.59553350e+00\n",
            " -2.41750771e+00 -2.22637298e+00 -2.02302706e+00 -1.80834346e+00\n",
            " -1.58316945e+00 -1.34832457e+00 -1.10459943e+00 -8.52754959e-01\n",
            " -5.93521859e-01 -3.27600388e-01 -5.56603146e-02  2.21658924e-01\n",
            "  5.03747911e-01  7.90026804e-01  1.07994478e+00  1.37297941e+00\n",
            "  1.66863589e+00  1.96644634e+00  2.26596893e+00  2.56678705e+00\n",
            "  2.86850844e+00  3.17076429e+00  3.47320836e+00  3.77551605e+00\n",
            "  4.07738357e+00  0.00000000e+00  0.00000000e+00  0.00000000e+00\n",
            "  0.00000000e+00  0.00000000e+00  0.00000000e+00  0.00000000e+00]\n"
          ]
        },
        {
          "output_type": "stream",
          "name": "stderr",
          "text": [
            "/usr/local/lib/python3.7/dist-packages/numpy/lib/nanfunctions.py:1544: RuntimeWarning: overflow encountered in multiply\n",
            "  sqr = np.multiply(arr, arr, out=arr)\n"
          ]
        },
        {
          "output_type": "display_data",
          "data": {
            "image/png": "[encoded data removed]",
            "text/plain": [
              "<Figure size 432x288 with 1 Axes>"
            ]
          },
          "metadata": {
            "needs_background": "light"
          }
        }
      ]
    },
    {
      "cell_type": "markdown",
      "metadata": {
        "id": "r5zzYHbjTkTf"
      },
      "source": [
        "Ridge 규제의 효과는 고차항들의 계수(coefficients, 기울기)를 작게 만들어서 곡선의 기울기를 완만하게 만들어 주게 됨. overfitting(과대적합)을 줄여주게 됨."
      ]
    },
    {
      "cell_type": "markdown",
      "metadata": {
        "id": "0ZoOXpuJUPOy"
      },
      "source": [
        "## `l1` 규제(Lasso Regularization)"
      ]
    },
    {
      "cell_type": "code",
      "metadata": {
        "colab": {
          "base_uri": "https://localhost:8080/",
          "height": 807
        },
        "id": "o9XS5SjFSDf2",
        "outputId": "887f9149-e404-4cfa-f592-ec26526c2c95"
      },
      "source": [
        "reg = Lasso()\n",
        "visualize_regression(reg, X_train, y_train)"
      ],
      "execution_count": 87,
      "outputs": [
        {
          "output_type": "stream",
          "name": "stdout",
          "text": [
            "degree=1, W=[339.55381311]\n",
            "degree=2, W=[-37.56688954 381.72140363]\n",
            "degree=5, W=[  0.         169.86798493 175.39652371   0.          -0.        ]\n",
            "degree=100, W=[  0.          63.2765925  268.72581206  29.02636369   0.\n",
            "   0.           0.           0.          -0.          -0.\n",
            "  -0.          -0.          -0.          -0.          -0.\n",
            "  -0.          -0.          -0.          -0.          -0.\n",
            "  -0.          -0.          -0.          -0.          -0.\n",
            "  -0.          -0.          -0.          -0.          -0.\n",
            "  -0.          -0.          -0.          -0.          -0.\n",
            "  -0.          -0.          -0.          -0.          -0.\n",
            "  -0.          -0.          -0.          -0.          -0.\n",
            "  -0.          -0.          -0.          -0.          -0.\n",
            "  -0.          -0.          -0.          -0.          -6.77634564\n",
            "  -6.07574687  -5.17017489  -4.29993019  -3.4658082   -2.66828008\n",
            "  -1.90753532  -1.18352019  -0.49597256  -0.          -0.\n",
            "  -0.          -0.          -0.          -0.          -0.\n",
            "  -0.          -0.          -0.          -0.          -0.\n",
            "  -0.          -0.          -0.          -0.          -0.\n",
            "  -0.          -0.          -0.          -0.          -0.\n",
            "  -0.          -0.          -0.          -0.          -0.\n",
            "  -0.          -0.          -0.           0.           0.\n",
            "   0.           0.           0.           0.           0.        ]\n"
          ]
        },
        {
          "output_type": "stream",
          "name": "stderr",
          "text": [
            "/usr/local/lib/python3.7/dist-packages/numpy/lib/nanfunctions.py:1544: RuntimeWarning: overflow encountered in multiply\n",
            "  sqr = np.multiply(arr, arr, out=arr)\n",
            "/usr/local/lib/python3.7/dist-packages/sklearn/linear_model/_coordinate_descent.py:476: ConvergenceWarning: Objective did not converge. You might want to increase the number of iterations. Duality gap: 761.342244306521, tolerance: 518.2793833333334\n",
            "  positive)\n"
          ]
        },
        {
          "output_type": "display_data",
          "data": {
            "image/png": "[encoded data removed]",
            "text/plain": [
              "<Figure size 432x288 with 1 Axes>"
            ]
          },
          "metadata": {
            "needs_background": "light"
          }
        }
      ]
    },
    {
      "cell_type": "markdown",
      "metadata": {
        "id": "JLgA-baWW01q"
      },
      "source": [
        "Lasso 규제는 중요하지 않은 고차항들의 계수를 0으로 만들어 줌으로써, 곡선을 완만하게 만들어 주는 효과가 생김. 과대적합을 줄여주는 효과."
      ]
    },
    {
      "cell_type": "markdown",
      "metadata": {
        "id": "GyqK0nXDXIeA"
      },
      "source": [
        "## ElasticNet"
      ]
    },
    {
      "cell_type": "code",
      "metadata": {
        "colab": {
          "base_uri": "https://localhost:8080/",
          "height": 843
        },
        "id": "xLaPTooMUot9",
        "outputId": "0052fc59-5ba9-492d-8a44-973c54e7d52d"
      },
      "source": [
        "visualize_regression(ElasticNet(), X_train, y_train)"
      ],
      "execution_count": 88,
      "outputs": [
        {
          "output_type": "stream",
          "name": "stdout",
          "text": [
            "degree=1, W=[226.70254207]\n",
            "degree=2, W=[132.58403091 142.14452539]\n",
            "degree=5, W=[65.81871932 66.12553502 64.44511229 61.45264451 57.66069996]\n",
            "degree=100, W=[ 5.37266781e+01  5.02547097e+01  4.56276297e+01  4.04950707e+01\n",
            "  3.52929284e+01  3.02982404e+01  2.56736771e+01  2.15003478e+01\n",
            "  1.78033024e+01  1.45715607e+01  1.17731829e+01  9.36589058e+00\n",
            "  7.30403328e+00  5.54281382e+00  4.04060776e+00  2.76004271e+00\n",
            "  1.66831789e+00  7.37088409e-01  0.00000000e+00  0.00000000e+00\n",
            " -0.00000000e+00 -0.00000000e+00 -2.27791529e-01 -5.90474953e-01\n",
            " -9.00842714e-01 -1.16612354e+00 -1.39237937e+00 -1.58470077e+00\n",
            " -1.74737049e+00 -1.88399987e+00 -1.99764224e+00 -2.09088710e+00\n",
            " -2.16593838e+00 -2.22467956e+00 -2.26872791e+00 -2.29947991e+00\n",
            " -2.31814926e+00 -2.32579877e+00 -2.32336730e+00 -2.31169228e+00\n",
            " -2.29152875e+00 -2.26356518e+00 -2.22843668e+00 -2.18673587e+00\n",
            " -2.13902157e+00 -2.08582576e+00 -2.02765877e+00 -1.96501303e+00\n",
            " -1.89836548e+00 -1.82817884e+00 -1.75490190e+00 -1.67896900e+00\n",
            " -1.60079893e+00 -1.52079329e+00 -1.43933470e+00 -1.35678479e+00\n",
            " -1.27348228e+00 -1.18974115e+00 -1.10584901e+00 -1.02206592e+00\n",
            " -9.38623352e-01 -8.55723712e-01 -7.73540144e-01 -6.92216761e-01\n",
            " -6.11869231e-01 -5.32585704e-01 -4.54428042e-01 -3.77433330e-01\n",
            " -3.01615619e-01 -2.26967876e-01 -1.53464107e-01 -8.10616212e-02\n",
            " -9.70341472e-03 -0.00000000e+00 -0.00000000e+00 -0.00000000e+00\n",
            " -0.00000000e+00 -0.00000000e+00 -0.00000000e+00 -0.00000000e+00\n",
            " -0.00000000e+00 -0.00000000e+00 -0.00000000e+00 -0.00000000e+00\n",
            " -0.00000000e+00 -0.00000000e+00 -0.00000000e+00  0.00000000e+00\n",
            "  0.00000000e+00  0.00000000e+00  0.00000000e+00  0.00000000e+00\n",
            "  0.00000000e+00  0.00000000e+00  0.00000000e+00  0.00000000e+00\n",
            "  0.00000000e+00  0.00000000e+00  0.00000000e+00  0.00000000e+00]\n"
          ]
        },
        {
          "output_type": "stream",
          "name": "stderr",
          "text": [
            "/usr/local/lib/python3.7/dist-packages/numpy/lib/nanfunctions.py:1544: RuntimeWarning: overflow encountered in multiply\n",
            "  sqr = np.multiply(arr, arr, out=arr)\n"
          ]
        },
        {
          "output_type": "display_data",
          "data": {
            "image/png": "[encoded data removed]",
            "text/plain": [
              "<Figure size 432x288 with 1 Axes>"
            ]
          },
          "metadata": {
            "needs_background": "light"
          }
        }
      ]
    },
    {
      "cell_type": "markdown",
      "metadata": {
        "id": "Gx-Am-r5Xs8E"
      },
      "source": [
        "ElasticNet은 Ridge 규제와 Lasso 규제의 효과를 모두 가지고 있음."
      ]
    },
    {
      "cell_type": "markdown",
      "metadata": {
        "id": "9TeG5rjtkjpc"
      },
      "source": [
        "\n",
        "* 머신 러닝의 목적은 목적 함수(objective function)/비용 함수(cost function)/손실 함수(loss function)을 최소화하는 것.\n",
        "\n",
        "\n",
        "* 선형 회귀(linear regression)의 목적은 MSE(mean_squared_error)를 최소로 만드는 계수들($w_0, ..., w_m$)을 찾는 것. 즉, 선형 회귀의 목적 함수는 MSE(w).\n",
        "$$\n",
        "J(w) = MSE(w) \n",
        "     = \\dfrac{1}{N} \\sum_{i=1}^{N} (y_i - \\hat{y_i})^2 \n",
        "     = \\dfrac{1}{N} \\sum_{i=1}^{N} (y_i - (w_0 + \\sum_{j=1}^{m} w_{j} \\cdot x_{ij}))^2\n",
        "$$\n",
        "    * N: 샘플의 개수(DataFrame의 row의 개수)\n",
        "    * m: 특성의 개수(DataFrame의 column의 개수)\n",
        "    * $y_i$: `i`번째 샘플의 실젯값\n",
        "    * $\\hat{y_i}$: `i`번째 샘플의 예측값\n",
        "    * $x_{ij}$: `i`번째 샘플의 `j`번째 특성 값\n",
        "    * $w_j$: `j`번째 특성에 곱해주는 계수(기울기)\n",
        "\n",
        "* Ridge(`l2`) 규제의 목적은 아래의 비용 함수를 최소로 만드는 계수들($w_0, ..., w_m$)을 찾는 것.\n",
        "\n",
        "$$\n",
        "J(w) = MSE(w) + \\dfrac{\\alpha}{2} \\mid\\mid w \\mid\\mid ^2\n",
        "$$\n",
        "\n",
        "* Lasso(`l1`) 규제의 목적은 아래의 비용 함수를 최소로 만드는 계수들($w_0, ..., w_m$)을 찾는 것.\n",
        "\n",
        "$$\n",
        "J(w) = MSE(w) + \\alpha \\mid\\mid w \\mid\\mid\n",
        "$$\n",
        "\n",
        "* ElasticNet 규제의 목적은 아래의 비용 함수를 최소로 만드는 계수들($w_0, ..., w_m$)을 찾는 것.\n",
        "\n",
        "$$\n",
        "J(w) = MSE(w) + r \\alpha \\mid\\mid w \\mid\\mid \n",
        "              + \\dfrac{1 - r}{2} \\alpha \\mid\\mid w \\mid\\mid ^2\n",
        "$$\n",
        "\n",
        "* Ridge, Lasso에서 $\\alpha$ 값이 크면 규제가 강해지고, $\\alpha$ 값이 작으면 규제가 약해짐($ \\alpha \\ge 0 $).\n",
        "* ElasticNet에서 $\\alpha$는 규제의 크기를 의미하고, $r$은 `l1` 규제의 비율($0 \\le r \\le 1$)을 의미함."
      ]
    },
    {
      "cell_type": "markdown",
      "metadata": {
        "id": "rpF51y37zjCa"
      },
      "source": [
        "# 규제 크기($ \\alpha $)에 따른 선형 회귀 점수(결정 계수)"
      ]
    },
    {
      "cell_type": "code",
      "metadata": {
        "id": "3NrSQZx_Xx5n"
      },
      "source": [
        "def visualize_r2_score(estimator, X_train, y_train, X_test, y_test):\n",
        "    train_scores = []  # alpha 값을 변화시키면서 계산한 훈련 셋의 결정 계수를 저장할 리스트\n",
        "    test_scores = []  # alpha 값을 변화시키면서 계산한 테스트 셋의 결정 계수를 저장할 리스트\n",
        "    alphas = [10**x for x in range(-3, 3)]  # alphas = [0.001, 0.01, 0.1, 1, 10,100]\n",
        "\n",
        "    for a in alphas: # 서로 다른 alpha들을 반복하면서\n",
        "        # 머신 러닝 모델 생성\n",
        "        poly = PolynomialFeatures(degree=5, include_bias=False)\n",
        "        scaler = StandardScaler()\n",
        "        if estimator == 'ridge':\n",
        "            reg = Ridge(alpha=a)\n",
        "        elif estimator == 'lasso':\n",
        "            reg = Lasso(alpha=a)\n",
        "        elif estimator == 'elastic':\n",
        "            reg = ElasticNet(alpha=a)\n",
        "        else:\n",
        "            raise ValueError('estimator는 \"ridge\", \"lasso\", \"elastic\" 이어야 함!')\n",
        "\n",
        "        model = Pipeline(steps=[('poly', poly),\n",
        "                                ('scaler', scaler),\n",
        "                                ('reg', reg)])\n",
        "        \n",
        "        # 머신 러닝 모델 학습시킴.\n",
        "        model.fit(X_train, y_train)\n",
        "        # 훈련 셋 평가 점수(결정 계수)를 계산하고 리스트에 추가\n",
        "        train_pred = model.predict(X_train)\n",
        "        train_r2 = r2_score(y_train, train_pred)\n",
        "        train_scores.append(train_r2)\n",
        "        # 테스트 셋 평가 점수(결정 계수)를 계산하고 리슽에 추가\n",
        "        test_pred = model.predict(X_test)\n",
        "        test_r2 = r2_score(y_test, test_pred)\n",
        "        test_scores.append(test_r2)\n",
        "\n",
        "    # 훈련 점수와 테스트 점수 출력\n",
        "    print('train scores:', train_scores)\n",
        "    print('test scores:', test_scores)\n",
        "\n",
        "    # 시각화\n",
        "    plt.plot(np.log10(alphas), train_scores, 'bo-', label='Train score')\n",
        "    plt.plot(np.log10(alphas), test_scores, 'ro:', label='Test score')\n",
        "    plt.legend()\n",
        "    plt.show()"
      ],
      "execution_count": 105,
      "outputs": []
    },
    {
      "cell_type": "code",
      "metadata": {
        "colab": {
          "base_uri": "https://localhost:8080/",
          "height": 303
        },
        "id": "i-RuRF0B8o0Y",
        "outputId": "8e7b3233-4dbe-46d6-8225-47577ca67d7f"
      },
      "source": [
        "visualize_r2_score('ridge', X_train, y_train, X_test, y_test)"
      ],
      "execution_count": 106,
      "outputs": [
        {
          "output_type": "stream",
          "name": "stdout",
          "text": [
            "train scores: [0.9736543234476451, 0.9733770960543661, 0.9708464608091912, 0.9675257933461249, 0.9641329386626264, 0.8627487881080745]\n",
            "test scores: [0.9798046964920933, 0.9789530910605557, 0.9764445172290546, 0.9665833996552662, 0.973317754557548, 0.8976726580323618]\n"
          ]
        },
        {
          "output_type": "display_data",
          "data": {
            "image/png": "[encoded data removed]",
            "text/plain": [
              "<Figure size 432x288 with 1 Axes>"
            ]
          },
          "metadata": {
            "needs_background": "light"
          }
        }
      ]
    },
    {
      "cell_type": "code",
      "metadata": {
        "colab": {
          "base_uri": "https://localhost:8080/",
          "height": 435
        },
        "id": "i8TRzWSi8yYY",
        "outputId": "c609a8a9-dc16-4db6-f30c-1e7e75b45dbe"
      },
      "source": [
        "visualize_r2_score('lasso', X_train, y_train, X_test, y_test)"
      ],
      "execution_count": 107,
      "outputs": [
        {
          "output_type": "stream",
          "name": "stderr",
          "text": [
            "/usr/local/lib/python3.7/dist-packages/sklearn/linear_model/_coordinate_descent.py:476: ConvergenceWarning: Objective did not converge. You might want to increase the number of iterations. Duality gap: 68371.36027450048, tolerance: 518.2793833333334\n",
            "  positive)\n",
            "/usr/local/lib/python3.7/dist-packages/sklearn/linear_model/_coordinate_descent.py:476: ConvergenceWarning: Objective did not converge. You might want to increase the number of iterations. Duality gap: 60897.25696900669, tolerance: 518.2793833333334\n",
            "  positive)\n",
            "/usr/local/lib/python3.7/dist-packages/sklearn/linear_model/_coordinate_descent.py:476: ConvergenceWarning: Objective did not converge. You might want to increase the number of iterations. Duality gap: 19450.81478042998, tolerance: 518.2793833333334\n",
            "  positive)\n"
          ]
        },
        {
          "output_type": "stream",
          "name": "stdout",
          "text": [
            "train scores: [0.9732647559337357, 0.9732456220772678, 0.9728858940077052, 0.9692636157789123, 0.9684606645363231, 0.8880500221451817]\n",
            "test scores: [0.9756595783526614, 0.9759957561350032, 0.9787105890743735, 0.9718691066691287, 0.97500542785893, 0.917866091243881]\n"
          ]
        },
        {
          "output_type": "display_data",
          "data": {
            "image/png": "[encoded data removed]",
            "text/plain": [
              "<Figure size 432x288 with 1 Axes>"
            ]
          },
          "metadata": {
            "needs_background": "light"
          }
        }
      ]
    },
    {
      "cell_type": "code",
      "metadata": {
        "colab": {
          "base_uri": "https://localhost:8080/",
          "height": 397
        },
        "id": "pETAlBKtA6pK",
        "outputId": "d815cdd6-def0-4735-d2dd-1c5720c2c349"
      },
      "source": [
        "visualize_r2_score('elastic', X_train, y_train, X_test, y_test)"
      ],
      "execution_count": 108,
      "outputs": [
        {
          "output_type": "stream",
          "name": "stdout",
          "text": [
            "train scores: [0.9729318909719307, 0.9694267645740603, 0.9669667595405638, 0.9574099753809557, 0.7128959260018337, 0.1419437414816156]\n",
            "test scores: [0.9792791927855977, 0.9717021238527076, 0.9675102498277163, 0.9741613969257316, 0.7439362036454651, 0.10755935075190703]\n"
          ]
        },
        {
          "output_type": "stream",
          "name": "stderr",
          "text": [
            "/usr/local/lib/python3.7/dist-packages/sklearn/linear_model/_coordinate_descent.py:476: ConvergenceWarning: Objective did not converge. You might want to increase the number of iterations. Duality gap: 73193.66132866153, tolerance: 518.2793833333334\n",
            "  positive)\n",
            "/usr/local/lib/python3.7/dist-packages/sklearn/linear_model/_coordinate_descent.py:476: ConvergenceWarning: Objective did not converge. You might want to increase the number of iterations. Duality gap: 868.8427452529431, tolerance: 518.2793833333334\n",
            "  positive)\n"
          ]
        },
        {
          "output_type": "display_data",
          "data": {
            "image/png": "[encoded data removed]",
            "text/plain": [
              "<Figure size 432x288 with 1 Axes>"
            ]
          },
          "metadata": {
            "needs_background": "light"
          }
        }
      ]
    },
    {
      "cell_type": "markdown",
      "metadata": {
        "id": "2vgo-lHNB1Va"
      },
      "source": [
        "## 농어(Perch)의 모든 특성(Length, Diagonal, Height, Width)을 사용하고 $\\alpha$값을 변화시키면서, Ridge, Lasso, ElasticNet을 비교"
      ]
    }
  ]
}
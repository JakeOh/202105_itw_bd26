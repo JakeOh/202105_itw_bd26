{
  "nbformat": 4,
  "nbformat_minor": 0,
  "metadata": {
    "colab": {
      "name": "ml04_iris.ipynb",
      "provenance": [],
      "collapsed_sections": [],
      "authorship_tag": "ABX9TyOHKNHYUzKdAFFUva/sobE8",
      "include_colab_link": true
    },
    "kernelspec": {
      "name": "python3",
      "display_name": "Python 3"
    },
    "language_info": {
      "name": "python"
    }
  },
  "cells": [
    {
      "cell_type": "markdown",
      "metadata": {
        "id": "view-in-github",
        "colab_type": "text"
      },
      "source": [
        "<a href=\"https://colab.research.google.com/github/JakeOh/202105_itw_bd26/blob/main/lab_ml/ml04_iris.ipynb\" target=\"_parent\"><img src=\"https://colab.research.google.com/assets/colab-badge.svg\" alt=\"Open In Colab\"/></a>"
      ]
    },
    {
      "cell_type": "markdown",
      "metadata": {
        "id": "2X1SP1DF8JIt"
      },
      "source": [
        "# KNN(K-Nearest Neighbors) 알고리즘을 사용한 붓꽃 품종 분류\n",
        "\n",
        "* `sklearn.datasets.load_iris()` 함수를 사용해서 iris 데이터 로드\n",
        "* iris 데이터 탐색\n",
        "    * 특성(feature), 타겟(target)/레이블(label)\n",
        "    * 시각화\n",
        "* iris 데이터 셋을 train/test set으로 분리(8:2)\n",
        "    * 붓꽃 품종별 비율이 훈련 셋과 테스트 셋에서 비슷하게 유지되도록 분리(stratified sampling)\n",
        "* KNN 모델 훈련\n",
        "* 모델 평가\n",
        "    * train set의 평가 점수\n",
        "    * test set의 평가 점수\n",
        "* 모델 튜닝\n",
        "    * k값을 변화시키면서 모델 성능 비교\n",
        "    * 특성 스케일를 했을 때와 하지 않았을 때 비교"
      ]
    },
    {
      "cell_type": "markdown",
      "metadata": {
        "id": "QXG4RBiC-88H"
      },
      "source": [
        "# Imports"
      ]
    },
    {
      "cell_type": "code",
      "metadata": {
        "id": "ADC3Vyzt8ElG"
      },
      "source": [
        "# Data Analysis\n",
        "import numpy as np\n",
        "import pandas as pd\n",
        "import matplotlib.pyplot as plt\n",
        "import seaborn as sns\n",
        "\n",
        "# Machine Learning\n",
        "from sklearn import datasets  # load_iris() 함수\n",
        "from sklearn.model_selection import train_test_split\n",
        "from sklearn.preprocessing import StandardScaler  # 변환기(transformer)\n",
        "from sklearn.neighbors import KNeighborsClassifier  # 모델\n",
        "from sklearn.metrics import accuracy_score, confusion_matrix, classification_report  # 평가"
      ],
      "execution_count": 1,
      "outputs": []
    },
    {
      "cell_type": "markdown",
      "metadata": {
        "id": "aBXcxmOJAivs"
      },
      "source": [
        "# iris 데이터 셋"
      ]
    },
    {
      "cell_type": "code",
      "metadata": {
        "id": "kPLqEIxjAhD_"
      },
      "source": [
        "iris = datasets.load_iris()"
      ],
      "execution_count": 2,
      "outputs": []
    },
    {
      "cell_type": "markdown",
      "metadata": {
        "id": "WYF1sQzHEsTH"
      },
      "source": [
        "`return_X_y` 파라미터를 False(default argument)로 설정하면 dict와 비슷한 Bunch  클래스 객체를 리턴함.\n",
        "\n",
        "Bunch 객체는 데이터(2d array), 타겟(1d array), 타겟 이름, 특성 이름 등을 `key:value` 형태로 저장하고 있음."
      ]
    },
    {
      "cell_type": "code",
      "metadata": {
        "colab": {
          "base_uri": "https://localhost:8080/"
        },
        "id": "O_nZSbWaBRyv",
        "outputId": "0b75d78c-9a5b-446e-bac8-4f963d704404"
      },
      "source": [
        "type(iris)  #> Bunch 클래스 타입 - dict와 비슷"
      ],
      "execution_count": 4,
      "outputs": [
        {
          "output_type": "execute_result",
          "data": {
            "text/plain": [
              "sklearn.utils.Bunch"
            ]
          },
          "metadata": {},
          "execution_count": 4
        }
      ]
    },
    {
      "cell_type": "code",
      "metadata": {
        "colab": {
          "base_uri": "https://localhost:8080/"
        },
        "id": "fqn5a23OBSW-",
        "outputId": "ae4011a7-0161-44d2-a76c-6871d2bd6d4b"
      },
      "source": [
        "iris.keys()  # Bunch 객체의 키(key)들의 배열을 리턴."
      ],
      "execution_count": 5,
      "outputs": [
        {
          "output_type": "execute_result",
          "data": {
            "text/plain": [
              "dict_keys(['data', 'target', 'target_names', 'DESCR', 'feature_names', 'filename'])"
            ]
          },
          "metadata": {},
          "execution_count": 5
        }
      ]
    },
    {
      "cell_type": "code",
      "metadata": {
        "colab": {
          "base_uri": "https://localhost:8080/"
        },
        "id": "9E6R8g0JB5wN",
        "outputId": "48d0d1df-a249-4700-dfc6-26961257d40b"
      },
      "source": [
        "# dict_name[key]: dict_name에서 key에 해당하는 value 참조\n",
        "print(iris['feature_names'])"
      ],
      "execution_count": 11,
      "outputs": [
        {
          "output_type": "stream",
          "text": [
            "['sepal length (cm)', 'sepal width (cm)', 'petal length (cm)', 'petal width (cm)']\n"
          ],
          "name": "stdout"
        }
      ]
    },
    {
      "cell_type": "markdown",
      "metadata": {
        "id": "VNZDvVasEU1W"
      },
      "source": [
        "\n",
        "\n",
        "---\n",
        "\n"
      ]
    },
    {
      "cell_type": "markdown",
      "metadata": {
        "id": "OQ_yTSVoE-4O"
      },
      "source": [
        "`return_X_y` 파라미터를 True로 설정하면, 특성 행렬(2d array)와 타겟 벡터(1d array)를 리턴함."
      ]
    },
    {
      "cell_type": "code",
      "metadata": {
        "id": "BS5STfw7CGOF"
      },
      "source": [
        "X, y = datasets.load_iris(return_X_y=True)"
      ],
      "execution_count": 12,
      "outputs": []
    },
    {
      "cell_type": "code",
      "metadata": {
        "colab": {
          "base_uri": "https://localhost:8080/"
        },
        "id": "bh2LMXCcD25g",
        "outputId": "9ca33ad3-f8bc-40bf-ec67-e5aaed5945b0"
      },
      "source": [
        "X[:5]  # iris feature matrix(특성 행렬)"
      ],
      "execution_count": 14,
      "outputs": [
        {
          "output_type": "execute_result",
          "data": {
            "text/plain": [
              "array([[5.1, 3.5, 1.4, 0.2],\n",
              "       [4.9, 3. , 1.4, 0.2],\n",
              "       [4.7, 3.2, 1.3, 0.2],\n",
              "       [4.6, 3.1, 1.5, 0.2],\n",
              "       [5. , 3.6, 1.4, 0.2]])"
            ]
          },
          "metadata": {},
          "execution_count": 14
        }
      ]
    },
    {
      "cell_type": "code",
      "metadata": {
        "colab": {
          "base_uri": "https://localhost:8080/"
        },
        "id": "p4qOKlNND4HX",
        "outputId": "7bea8f87-1559-41f5-e099-a8fdb8963ab8"
      },
      "source": [
        "y  # iris target vector"
      ],
      "execution_count": 15,
      "outputs": [
        {
          "output_type": "execute_result",
          "data": {
            "text/plain": [
              "array([0, 0, 0, 0, 0, 0, 0, 0, 0, 0, 0, 0, 0, 0, 0, 0, 0, 0, 0, 0, 0, 0,\n",
              "       0, 0, 0, 0, 0, 0, 0, 0, 0, 0, 0, 0, 0, 0, 0, 0, 0, 0, 0, 0, 0, 0,\n",
              "       0, 0, 0, 0, 0, 0, 1, 1, 1, 1, 1, 1, 1, 1, 1, 1, 1, 1, 1, 1, 1, 1,\n",
              "       1, 1, 1, 1, 1, 1, 1, 1, 1, 1, 1, 1, 1, 1, 1, 1, 1, 1, 1, 1, 1, 1,\n",
              "       1, 1, 1, 1, 1, 1, 1, 1, 1, 1, 1, 1, 2, 2, 2, 2, 2, 2, 2, 2, 2, 2,\n",
              "       2, 2, 2, 2, 2, 2, 2, 2, 2, 2, 2, 2, 2, 2, 2, 2, 2, 2, 2, 2, 2, 2,\n",
              "       2, 2, 2, 2, 2, 2, 2, 2, 2, 2, 2, 2, 2, 2, 2, 2, 2, 2])"
            ]
          },
          "metadata": {},
          "execution_count": 15
        }
      ]
    },
    {
      "cell_type": "markdown",
      "metadata": {
        "id": "50BlFCmmEWON"
      },
      "source": [
        "\n",
        "\n",
        "---\n",
        "\n"
      ]
    },
    {
      "cell_type": "code",
      "metadata": {
        "id": "cefI9NWND8dW"
      },
      "source": [
        ""
      ],
      "execution_count": null,
      "outputs": []
    }
  ]
}
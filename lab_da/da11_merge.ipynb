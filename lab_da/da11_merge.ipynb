{
  "nbformat": 4,
  "nbformat_minor": 0,
  "metadata": {
    "colab": {
      "name": "da11_merge.ipynb",
      "provenance": [],
      "collapsed_sections": [],
      "authorship_tag": "ABX9TyPnjTzEptEpZOQmqoQpyGh9",
      "include_colab_link": true
    },
    "kernelspec": {
      "name": "python3",
      "display_name": "Python 3"
    },
    "language_info": {
      "name": "python"
    }
  },
  "cells": [
    {
      "cell_type": "markdown",
      "metadata": {
        "id": "view-in-github",
        "colab_type": "text"
      },
      "source": [
        "<a href=\"https://colab.research.google.com/github/JakeOh/202105_itw_bd26/blob/main/lab_da/da11_merge.ipynb\" target=\"_parent\"><img src=\"https://colab.research.google.com/assets/colab-badge.svg\" alt=\"Open In Colab\"/></a>"
      ]
    },
    {
      "cell_type": "markdown",
      "metadata": {
        "id": "mfrvwbScH02R"
      },
      "source": [
        "# DataFrame 합치기\n",
        "\n",
        "* merge(join): 두 개의 DataFrame을 공통된 컬럼(들)을 기준으로 합치는 것.\n",
        "* concat: DataFrame을 축(axis)을 따라서 합치는 것.\n"
      ]
    },
    {
      "cell_type": "code",
      "metadata": {
        "id": "WXhypPa3Hvwz"
      },
      "source": [
        "import numpy as np\n",
        "import pandas as pd\n",
        "import matplotlib.pyplot as plt\n",
        "import seaborn as sns"
      ],
      "execution_count": 1,
      "outputs": []
    },
    {
      "cell_type": "markdown",
      "metadata": {
        "id": "O6EargmVtQQJ"
      },
      "source": [
        "# merge"
      ]
    },
    {
      "cell_type": "code",
      "metadata": {
        "colab": {
          "base_uri": "https://localhost:8080/",
          "height": 175
        },
        "id": "xPvOQzY3JkdE",
        "outputId": "b00ad3df-962b-45ab-8fac-08a41c93e80b"
      },
      "source": [
        "emp = pd.DataFrame({\n",
        "    'empno': [100, 101, 102, 103],\n",
        "    'ename': ['Scott', 'King', 'Allen', 'Tiger'],\n",
        "    'deptno': [10, 20, 10, 50]\n",
        "})\n",
        "emp"
      ],
      "execution_count": 2,
      "outputs": [
        {
          "output_type": "execute_result",
          "data": {
            "text/html": [
              "<div>\n",
              "<style scoped>\n",
              "    .dataframe tbody tr th:only-of-type {\n",
              "        vertical-align: middle;\n",
              "    }\n",
              "\n",
              "    .dataframe tbody tr th {\n",
              "        vertical-align: top;\n",
              "    }\n",
              "\n",
              "    .dataframe thead th {\n",
              "        text-align: right;\n",
              "    }\n",
              "</style>\n",
              "<table border=\"1\" class=\"dataframe\">\n",
              "  <thead>\n",
              "    <tr style=\"text-align: right;\">\n",
              "      <th></th>\n",
              "      <th>empno</th>\n",
              "      <th>ename</th>\n",
              "      <th>deptno</th>\n",
              "    </tr>\n",
              "  </thead>\n",
              "  <tbody>\n",
              "    <tr>\n",
              "      <th>0</th>\n",
              "      <td>100</td>\n",
              "      <td>Scott</td>\n",
              "      <td>10</td>\n",
              "    </tr>\n",
              "    <tr>\n",
              "      <th>1</th>\n",
              "      <td>101</td>\n",
              "      <td>King</td>\n",
              "      <td>20</td>\n",
              "    </tr>\n",
              "    <tr>\n",
              "      <th>2</th>\n",
              "      <td>102</td>\n",
              "      <td>Allen</td>\n",
              "      <td>10</td>\n",
              "    </tr>\n",
              "    <tr>\n",
              "      <th>3</th>\n",
              "      <td>103</td>\n",
              "      <td>Tiger</td>\n",
              "      <td>50</td>\n",
              "    </tr>\n",
              "  </tbody>\n",
              "</table>\n",
              "</div>"
            ],
            "text/plain": [
              "   empno  ename  deptno\n",
              "0    100  Scott      10\n",
              "1    101   King      20\n",
              "2    102  Allen      10\n",
              "3    103  Tiger      50"
            ]
          },
          "metadata": {
            "tags": []
          },
          "execution_count": 2
        }
      ]
    },
    {
      "cell_type": "code",
      "metadata": {
        "colab": {
          "base_uri": "https://localhost:8080/",
          "height": 143
        },
        "id": "gu5PcxTbKLWR",
        "outputId": "f45c2439-6e8d-4146-e378-d7ea39d00802"
      },
      "source": [
        "dept = pd.DataFrame({\n",
        "    'deptno': [10, 20, 30],\n",
        "    'dname': ['IT', 'HR', 'Sales']\n",
        "})\n",
        "dept"
      ],
      "execution_count": 3,
      "outputs": [
        {
          "output_type": "execute_result",
          "data": {
            "text/html": [
              "<div>\n",
              "<style scoped>\n",
              "    .dataframe tbody tr th:only-of-type {\n",
              "        vertical-align: middle;\n",
              "    }\n",
              "\n",
              "    .dataframe tbody tr th {\n",
              "        vertical-align: top;\n",
              "    }\n",
              "\n",
              "    .dataframe thead th {\n",
              "        text-align: right;\n",
              "    }\n",
              "</style>\n",
              "<table border=\"1\" class=\"dataframe\">\n",
              "  <thead>\n",
              "    <tr style=\"text-align: right;\">\n",
              "      <th></th>\n",
              "      <th>deptno</th>\n",
              "      <th>dname</th>\n",
              "    </tr>\n",
              "  </thead>\n",
              "  <tbody>\n",
              "    <tr>\n",
              "      <th>0</th>\n",
              "      <td>10</td>\n",
              "      <td>IT</td>\n",
              "    </tr>\n",
              "    <tr>\n",
              "      <th>1</th>\n",
              "      <td>20</td>\n",
              "      <td>HR</td>\n",
              "    </tr>\n",
              "    <tr>\n",
              "      <th>2</th>\n",
              "      <td>30</td>\n",
              "      <td>Sales</td>\n",
              "    </tr>\n",
              "  </tbody>\n",
              "</table>\n",
              "</div>"
            ],
            "text/plain": [
              "   deptno  dname\n",
              "0      10     IT\n",
              "1      20     HR\n",
              "2      30  Sales"
            ]
          },
          "metadata": {
            "tags": []
          },
          "execution_count": 3
        }
      ]
    },
    {
      "cell_type": "code",
      "metadata": {
        "colab": {
          "base_uri": "https://localhost:8080/",
          "height": 143
        },
        "id": "UjuIh84jKk_p",
        "outputId": "467d7a8c-3124-466a-fc52-493d0eee85ca"
      },
      "source": [
        "# pd.merge 함수\n",
        "pd.merge(emp, dept, how='inner', on='deptno')\n",
        "# how: join 방식. inner, left, right, outer. inner는 생략가능(default argument)\n",
        "# on: join의 기준이 되는 컬럼(들의 리스트). 컬럼 이름이 같은 경우에는 on도 생략 가능."
      ],
      "execution_count": 4,
      "outputs": [
        {
          "output_type": "execute_result",
          "data": {
            "text/html": [
              "<div>\n",
              "<style scoped>\n",
              "    .dataframe tbody tr th:only-of-type {\n",
              "        vertical-align: middle;\n",
              "    }\n",
              "\n",
              "    .dataframe tbody tr th {\n",
              "        vertical-align: top;\n",
              "    }\n",
              "\n",
              "    .dataframe thead th {\n",
              "        text-align: right;\n",
              "    }\n",
              "</style>\n",
              "<table border=\"1\" class=\"dataframe\">\n",
              "  <thead>\n",
              "    <tr style=\"text-align: right;\">\n",
              "      <th></th>\n",
              "      <th>empno</th>\n",
              "      <th>ename</th>\n",
              "      <th>deptno</th>\n",
              "      <th>dname</th>\n",
              "    </tr>\n",
              "  </thead>\n",
              "  <tbody>\n",
              "    <tr>\n",
              "      <th>0</th>\n",
              "      <td>100</td>\n",
              "      <td>Scott</td>\n",
              "      <td>10</td>\n",
              "      <td>IT</td>\n",
              "    </tr>\n",
              "    <tr>\n",
              "      <th>1</th>\n",
              "      <td>102</td>\n",
              "      <td>Allen</td>\n",
              "      <td>10</td>\n",
              "      <td>IT</td>\n",
              "    </tr>\n",
              "    <tr>\n",
              "      <th>2</th>\n",
              "      <td>101</td>\n",
              "      <td>King</td>\n",
              "      <td>20</td>\n",
              "      <td>HR</td>\n",
              "    </tr>\n",
              "  </tbody>\n",
              "</table>\n",
              "</div>"
            ],
            "text/plain": [
              "   empno  ename  deptno dname\n",
              "0    100  Scott      10    IT\n",
              "1    102  Allen      10    IT\n",
              "2    101   King      20    HR"
            ]
          },
          "metadata": {
            "tags": []
          },
          "execution_count": 4
        }
      ]
    },
    {
      "cell_type": "code",
      "metadata": {
        "colab": {
          "base_uri": "https://localhost:8080/",
          "height": 143
        },
        "id": "y_-WGbPkRk4a",
        "outputId": "92d8c3d9-8e13-4d0c-9d52-456439bbd155"
      },
      "source": [
        "# pd.DataFrame.merge 메서드\n",
        "emp.merge(dept)"
      ],
      "execution_count": 5,
      "outputs": [
        {
          "output_type": "execute_result",
          "data": {
            "text/html": [
              "<div>\n",
              "<style scoped>\n",
              "    .dataframe tbody tr th:only-of-type {\n",
              "        vertical-align: middle;\n",
              "    }\n",
              "\n",
              "    .dataframe tbody tr th {\n",
              "        vertical-align: top;\n",
              "    }\n",
              "\n",
              "    .dataframe thead th {\n",
              "        text-align: right;\n",
              "    }\n",
              "</style>\n",
              "<table border=\"1\" class=\"dataframe\">\n",
              "  <thead>\n",
              "    <tr style=\"text-align: right;\">\n",
              "      <th></th>\n",
              "      <th>empno</th>\n",
              "      <th>ename</th>\n",
              "      <th>deptno</th>\n",
              "      <th>dname</th>\n",
              "    </tr>\n",
              "  </thead>\n",
              "  <tbody>\n",
              "    <tr>\n",
              "      <th>0</th>\n",
              "      <td>100</td>\n",
              "      <td>Scott</td>\n",
              "      <td>10</td>\n",
              "      <td>IT</td>\n",
              "    </tr>\n",
              "    <tr>\n",
              "      <th>1</th>\n",
              "      <td>102</td>\n",
              "      <td>Allen</td>\n",
              "      <td>10</td>\n",
              "      <td>IT</td>\n",
              "    </tr>\n",
              "    <tr>\n",
              "      <th>2</th>\n",
              "      <td>101</td>\n",
              "      <td>King</td>\n",
              "      <td>20</td>\n",
              "      <td>HR</td>\n",
              "    </tr>\n",
              "  </tbody>\n",
              "</table>\n",
              "</div>"
            ],
            "text/plain": [
              "   empno  ename  deptno dname\n",
              "0    100  Scott      10    IT\n",
              "1    102  Allen      10    IT\n",
              "2    101   King      20    HR"
            ]
          },
          "metadata": {
            "tags": []
          },
          "execution_count": 5
        }
      ]
    },
    {
      "cell_type": "code",
      "metadata": {
        "colab": {
          "base_uri": "https://localhost:8080/",
          "height": 175
        },
        "id": "k2ziAynpSIEw",
        "outputId": "3d58e634-2d6c-424c-b482-338bf4301eff"
      },
      "source": [
        "# left (outer) join\n",
        "pd.merge(emp, dept, how='left')  # on='deptno' 생략 가능."
      ],
      "execution_count": 6,
      "outputs": [
        {
          "output_type": "execute_result",
          "data": {
            "text/html": [
              "<div>\n",
              "<style scoped>\n",
              "    .dataframe tbody tr th:only-of-type {\n",
              "        vertical-align: middle;\n",
              "    }\n",
              "\n",
              "    .dataframe tbody tr th {\n",
              "        vertical-align: top;\n",
              "    }\n",
              "\n",
              "    .dataframe thead th {\n",
              "        text-align: right;\n",
              "    }\n",
              "</style>\n",
              "<table border=\"1\" class=\"dataframe\">\n",
              "  <thead>\n",
              "    <tr style=\"text-align: right;\">\n",
              "      <th></th>\n",
              "      <th>empno</th>\n",
              "      <th>ename</th>\n",
              "      <th>deptno</th>\n",
              "      <th>dname</th>\n",
              "    </tr>\n",
              "  </thead>\n",
              "  <tbody>\n",
              "    <tr>\n",
              "      <th>0</th>\n",
              "      <td>100</td>\n",
              "      <td>Scott</td>\n",
              "      <td>10</td>\n",
              "      <td>IT</td>\n",
              "    </tr>\n",
              "    <tr>\n",
              "      <th>1</th>\n",
              "      <td>101</td>\n",
              "      <td>King</td>\n",
              "      <td>20</td>\n",
              "      <td>HR</td>\n",
              "    </tr>\n",
              "    <tr>\n",
              "      <th>2</th>\n",
              "      <td>102</td>\n",
              "      <td>Allen</td>\n",
              "      <td>10</td>\n",
              "      <td>IT</td>\n",
              "    </tr>\n",
              "    <tr>\n",
              "      <th>3</th>\n",
              "      <td>103</td>\n",
              "      <td>Tiger</td>\n",
              "      <td>50</td>\n",
              "      <td>NaN</td>\n",
              "    </tr>\n",
              "  </tbody>\n",
              "</table>\n",
              "</div>"
            ],
            "text/plain": [
              "   empno  ename  deptno dname\n",
              "0    100  Scott      10    IT\n",
              "1    101   King      20    HR\n",
              "2    102  Allen      10    IT\n",
              "3    103  Tiger      50   NaN"
            ]
          },
          "metadata": {
            "tags": []
          },
          "execution_count": 6
        }
      ]
    },
    {
      "cell_type": "code",
      "metadata": {
        "colab": {
          "base_uri": "https://localhost:8080/",
          "height": 175
        },
        "id": "2cz-CME0SeLa",
        "outputId": "5301fe57-dbe7-4e53-cc69-5c3edccb5db5"
      },
      "source": [
        "# right (outer) join\n",
        "pd.merge(emp, dept, how='right')"
      ],
      "execution_count": 7,
      "outputs": [
        {
          "output_type": "execute_result",
          "data": {
            "text/html": [
              "<div>\n",
              "<style scoped>\n",
              "    .dataframe tbody tr th:only-of-type {\n",
              "        vertical-align: middle;\n",
              "    }\n",
              "\n",
              "    .dataframe tbody tr th {\n",
              "        vertical-align: top;\n",
              "    }\n",
              "\n",
              "    .dataframe thead th {\n",
              "        text-align: right;\n",
              "    }\n",
              "</style>\n",
              "<table border=\"1\" class=\"dataframe\">\n",
              "  <thead>\n",
              "    <tr style=\"text-align: right;\">\n",
              "      <th></th>\n",
              "      <th>empno</th>\n",
              "      <th>ename</th>\n",
              "      <th>deptno</th>\n",
              "      <th>dname</th>\n",
              "    </tr>\n",
              "  </thead>\n",
              "  <tbody>\n",
              "    <tr>\n",
              "      <th>0</th>\n",
              "      <td>100.0</td>\n",
              "      <td>Scott</td>\n",
              "      <td>10</td>\n",
              "      <td>IT</td>\n",
              "    </tr>\n",
              "    <tr>\n",
              "      <th>1</th>\n",
              "      <td>102.0</td>\n",
              "      <td>Allen</td>\n",
              "      <td>10</td>\n",
              "      <td>IT</td>\n",
              "    </tr>\n",
              "    <tr>\n",
              "      <th>2</th>\n",
              "      <td>101.0</td>\n",
              "      <td>King</td>\n",
              "      <td>20</td>\n",
              "      <td>HR</td>\n",
              "    </tr>\n",
              "    <tr>\n",
              "      <th>3</th>\n",
              "      <td>NaN</td>\n",
              "      <td>NaN</td>\n",
              "      <td>30</td>\n",
              "      <td>Sales</td>\n",
              "    </tr>\n",
              "  </tbody>\n",
              "</table>\n",
              "</div>"
            ],
            "text/plain": [
              "   empno  ename  deptno  dname\n",
              "0  100.0  Scott      10     IT\n",
              "1  102.0  Allen      10     IT\n",
              "2  101.0   King      20     HR\n",
              "3    NaN    NaN      30  Sales"
            ]
          },
          "metadata": {
            "tags": []
          },
          "execution_count": 7
        }
      ]
    },
    {
      "cell_type": "code",
      "metadata": {
        "colab": {
          "base_uri": "https://localhost:8080/",
          "height": 206
        },
        "id": "2BHC_McESsxy",
        "outputId": "a680bc8b-9be5-499b-ca4d-e64e64ad04ed"
      },
      "source": [
        "# full outer join\n",
        "pd.merge(emp, dept, how='outer')"
      ],
      "execution_count": 8,
      "outputs": [
        {
          "output_type": "execute_result",
          "data": {
            "text/html": [
              "<div>\n",
              "<style scoped>\n",
              "    .dataframe tbody tr th:only-of-type {\n",
              "        vertical-align: middle;\n",
              "    }\n",
              "\n",
              "    .dataframe tbody tr th {\n",
              "        vertical-align: top;\n",
              "    }\n",
              "\n",
              "    .dataframe thead th {\n",
              "        text-align: right;\n",
              "    }\n",
              "</style>\n",
              "<table border=\"1\" class=\"dataframe\">\n",
              "  <thead>\n",
              "    <tr style=\"text-align: right;\">\n",
              "      <th></th>\n",
              "      <th>empno</th>\n",
              "      <th>ename</th>\n",
              "      <th>deptno</th>\n",
              "      <th>dname</th>\n",
              "    </tr>\n",
              "  </thead>\n",
              "  <tbody>\n",
              "    <tr>\n",
              "      <th>0</th>\n",
              "      <td>100.0</td>\n",
              "      <td>Scott</td>\n",
              "      <td>10</td>\n",
              "      <td>IT</td>\n",
              "    </tr>\n",
              "    <tr>\n",
              "      <th>1</th>\n",
              "      <td>102.0</td>\n",
              "      <td>Allen</td>\n",
              "      <td>10</td>\n",
              "      <td>IT</td>\n",
              "    </tr>\n",
              "    <tr>\n",
              "      <th>2</th>\n",
              "      <td>101.0</td>\n",
              "      <td>King</td>\n",
              "      <td>20</td>\n",
              "      <td>HR</td>\n",
              "    </tr>\n",
              "    <tr>\n",
              "      <th>3</th>\n",
              "      <td>103.0</td>\n",
              "      <td>Tiger</td>\n",
              "      <td>50</td>\n",
              "      <td>NaN</td>\n",
              "    </tr>\n",
              "    <tr>\n",
              "      <th>4</th>\n",
              "      <td>NaN</td>\n",
              "      <td>NaN</td>\n",
              "      <td>30</td>\n",
              "      <td>Sales</td>\n",
              "    </tr>\n",
              "  </tbody>\n",
              "</table>\n",
              "</div>"
            ],
            "text/plain": [
              "   empno  ename  deptno  dname\n",
              "0  100.0  Scott      10     IT\n",
              "1  102.0  Allen      10     IT\n",
              "2  101.0   King      20     HR\n",
              "3  103.0  Tiger      50    NaN\n",
              "4    NaN    NaN      30  Sales"
            ]
          },
          "metadata": {
            "tags": []
          },
          "execution_count": 8
        }
      ]
    },
    {
      "cell_type": "markdown",
      "metadata": {
        "id": "xFTvFzKKTRZx"
      },
      "source": [
        "join 기준이 되는 컬럼 이름이 서로 다른 경우"
      ]
    },
    {
      "cell_type": "code",
      "metadata": {
        "colab": {
          "base_uri": "https://localhost:8080/",
          "height": 175
        },
        "id": "dh_F4HJDTQ_h",
        "outputId": "a4d3c78a-3043-4339-e63a-65df6311e451"
      },
      "source": [
        "employees = pd.DataFrame({\n",
        "    'empno': [100, 101, 102, 103],\n",
        "    'ename': ['Scott', 'King', 'Allen', 'Tiger'],\n",
        "    'deptno': [10, 20, 10, 50]\n",
        "})\n",
        "employees"
      ],
      "execution_count": 9,
      "outputs": [
        {
          "output_type": "execute_result",
          "data": {
            "text/html": [
              "<div>\n",
              "<style scoped>\n",
              "    .dataframe tbody tr th:only-of-type {\n",
              "        vertical-align: middle;\n",
              "    }\n",
              "\n",
              "    .dataframe tbody tr th {\n",
              "        vertical-align: top;\n",
              "    }\n",
              "\n",
              "    .dataframe thead th {\n",
              "        text-align: right;\n",
              "    }\n",
              "</style>\n",
              "<table border=\"1\" class=\"dataframe\">\n",
              "  <thead>\n",
              "    <tr style=\"text-align: right;\">\n",
              "      <th></th>\n",
              "      <th>empno</th>\n",
              "      <th>ename</th>\n",
              "      <th>deptno</th>\n",
              "    </tr>\n",
              "  </thead>\n",
              "  <tbody>\n",
              "    <tr>\n",
              "      <th>0</th>\n",
              "      <td>100</td>\n",
              "      <td>Scott</td>\n",
              "      <td>10</td>\n",
              "    </tr>\n",
              "    <tr>\n",
              "      <th>1</th>\n",
              "      <td>101</td>\n",
              "      <td>King</td>\n",
              "      <td>20</td>\n",
              "    </tr>\n",
              "    <tr>\n",
              "      <th>2</th>\n",
              "      <td>102</td>\n",
              "      <td>Allen</td>\n",
              "      <td>10</td>\n",
              "    </tr>\n",
              "    <tr>\n",
              "      <th>3</th>\n",
              "      <td>103</td>\n",
              "      <td>Tiger</td>\n",
              "      <td>50</td>\n",
              "    </tr>\n",
              "  </tbody>\n",
              "</table>\n",
              "</div>"
            ],
            "text/plain": [
              "   empno  ename  deptno\n",
              "0    100  Scott      10\n",
              "1    101   King      20\n",
              "2    102  Allen      10\n",
              "3    103  Tiger      50"
            ]
          },
          "metadata": {
            "tags": []
          },
          "execution_count": 9
        }
      ]
    },
    {
      "cell_type": "code",
      "metadata": {
        "colab": {
          "base_uri": "https://localhost:8080/",
          "height": 143
        },
        "id": "r9sm-zaXTn8a",
        "outputId": "80a32f68-1a94-41c7-9db4-ddbb38da6464"
      },
      "source": [
        "departments = pd.DataFrame({\n",
        "    'dno': [10, 20, 30],\n",
        "    'dname': ['IT', 'HR', 'Sales']\n",
        "})\n",
        "departments"
      ],
      "execution_count": 10,
      "outputs": [
        {
          "output_type": "execute_result",
          "data": {
            "text/html": [
              "<div>\n",
              "<style scoped>\n",
              "    .dataframe tbody tr th:only-of-type {\n",
              "        vertical-align: middle;\n",
              "    }\n",
              "\n",
              "    .dataframe tbody tr th {\n",
              "        vertical-align: top;\n",
              "    }\n",
              "\n",
              "    .dataframe thead th {\n",
              "        text-align: right;\n",
              "    }\n",
              "</style>\n",
              "<table border=\"1\" class=\"dataframe\">\n",
              "  <thead>\n",
              "    <tr style=\"text-align: right;\">\n",
              "      <th></th>\n",
              "      <th>dno</th>\n",
              "      <th>dname</th>\n",
              "    </tr>\n",
              "  </thead>\n",
              "  <tbody>\n",
              "    <tr>\n",
              "      <th>0</th>\n",
              "      <td>10</td>\n",
              "      <td>IT</td>\n",
              "    </tr>\n",
              "    <tr>\n",
              "      <th>1</th>\n",
              "      <td>20</td>\n",
              "      <td>HR</td>\n",
              "    </tr>\n",
              "    <tr>\n",
              "      <th>2</th>\n",
              "      <td>30</td>\n",
              "      <td>Sales</td>\n",
              "    </tr>\n",
              "  </tbody>\n",
              "</table>\n",
              "</div>"
            ],
            "text/plain": [
              "   dno  dname\n",
              "0   10     IT\n",
              "1   20     HR\n",
              "2   30  Sales"
            ]
          },
          "metadata": {
            "tags": []
          },
          "execution_count": 10
        }
      ]
    },
    {
      "cell_type": "code",
      "metadata": {
        "colab": {
          "base_uri": "https://localhost:8080/",
          "height": 143
        },
        "id": "9I2iadLIT2mh",
        "outputId": "494f2ab0-185c-41d9-9127-7431c479ac5b"
      },
      "source": [
        "pd.merge(employees, departments, how='inner', left_on='deptno', right_on='dno')"
      ],
      "execution_count": 11,
      "outputs": [
        {
          "output_type": "execute_result",
          "data": {
            "text/html": [
              "<div>\n",
              "<style scoped>\n",
              "    .dataframe tbody tr th:only-of-type {\n",
              "        vertical-align: middle;\n",
              "    }\n",
              "\n",
              "    .dataframe tbody tr th {\n",
              "        vertical-align: top;\n",
              "    }\n",
              "\n",
              "    .dataframe thead th {\n",
              "        text-align: right;\n",
              "    }\n",
              "</style>\n",
              "<table border=\"1\" class=\"dataframe\">\n",
              "  <thead>\n",
              "    <tr style=\"text-align: right;\">\n",
              "      <th></th>\n",
              "      <th>empno</th>\n",
              "      <th>ename</th>\n",
              "      <th>deptno</th>\n",
              "      <th>dno</th>\n",
              "      <th>dname</th>\n",
              "    </tr>\n",
              "  </thead>\n",
              "  <tbody>\n",
              "    <tr>\n",
              "      <th>0</th>\n",
              "      <td>100</td>\n",
              "      <td>Scott</td>\n",
              "      <td>10</td>\n",
              "      <td>10</td>\n",
              "      <td>IT</td>\n",
              "    </tr>\n",
              "    <tr>\n",
              "      <th>1</th>\n",
              "      <td>102</td>\n",
              "      <td>Allen</td>\n",
              "      <td>10</td>\n",
              "      <td>10</td>\n",
              "      <td>IT</td>\n",
              "    </tr>\n",
              "    <tr>\n",
              "      <th>2</th>\n",
              "      <td>101</td>\n",
              "      <td>King</td>\n",
              "      <td>20</td>\n",
              "      <td>20</td>\n",
              "      <td>HR</td>\n",
              "    </tr>\n",
              "  </tbody>\n",
              "</table>\n",
              "</div>"
            ],
            "text/plain": [
              "   empno  ename  deptno  dno dname\n",
              "0    100  Scott      10   10    IT\n",
              "1    102  Allen      10   10    IT\n",
              "2    101   King      20   20    HR"
            ]
          },
          "metadata": {
            "tags": []
          },
          "execution_count": 11
        }
      ]
    },
    {
      "cell_type": "markdown",
      "metadata": {
        "id": "mh7zjx-RUj_J"
      },
      "source": [
        "인덱스를 사용한 merge"
      ]
    },
    {
      "cell_type": "code",
      "metadata": {
        "colab": {
          "base_uri": "https://localhost:8080/",
          "height": 237
        },
        "id": "MFXUZJnyUwZx",
        "outputId": "50b4ddf0-c87a-432c-8922-200c79981efc"
      },
      "source": [
        "np.random.seed(1)\n",
        "\n",
        "df1 = pd.DataFrame(data={'value1': np.random.randint(10, size=6), \n",
        "                         'value2': np.random.randint(100, size=6)},\n",
        "                   index=['a', 'b', 'c'] * 2)\n",
        "df1"
      ],
      "execution_count": 12,
      "outputs": [
        {
          "output_type": "execute_result",
          "data": {
            "text/html": [
              "<div>\n",
              "<style scoped>\n",
              "    .dataframe tbody tr th:only-of-type {\n",
              "        vertical-align: middle;\n",
              "    }\n",
              "\n",
              "    .dataframe tbody tr th {\n",
              "        vertical-align: top;\n",
              "    }\n",
              "\n",
              "    .dataframe thead th {\n",
              "        text-align: right;\n",
              "    }\n",
              "</style>\n",
              "<table border=\"1\" class=\"dataframe\">\n",
              "  <thead>\n",
              "    <tr style=\"text-align: right;\">\n",
              "      <th></th>\n",
              "      <th>value1</th>\n",
              "      <th>value2</th>\n",
              "    </tr>\n",
              "  </thead>\n",
              "  <tbody>\n",
              "    <tr>\n",
              "      <th>a</th>\n",
              "      <td>5</td>\n",
              "      <td>1</td>\n",
              "    </tr>\n",
              "    <tr>\n",
              "      <th>b</th>\n",
              "      <td>8</td>\n",
              "      <td>76</td>\n",
              "    </tr>\n",
              "    <tr>\n",
              "      <th>c</th>\n",
              "      <td>9</td>\n",
              "      <td>71</td>\n",
              "    </tr>\n",
              "    <tr>\n",
              "      <th>a</th>\n",
              "      <td>5</td>\n",
              "      <td>6</td>\n",
              "    </tr>\n",
              "    <tr>\n",
              "      <th>b</th>\n",
              "      <td>0</td>\n",
              "      <td>25</td>\n",
              "    </tr>\n",
              "    <tr>\n",
              "      <th>c</th>\n",
              "      <td>0</td>\n",
              "      <td>50</td>\n",
              "    </tr>\n",
              "  </tbody>\n",
              "</table>\n",
              "</div>"
            ],
            "text/plain": [
              "   value1  value2\n",
              "a       5       1\n",
              "b       8      76\n",
              "c       9      71\n",
              "a       5       6\n",
              "b       0      25\n",
              "c       0      50"
            ]
          },
          "metadata": {
            "tags": []
          },
          "execution_count": 12
        }
      ]
    },
    {
      "cell_type": "code",
      "metadata": {
        "colab": {
          "base_uri": "https://localhost:8080/",
          "height": 143
        },
        "id": "Fl2Znz2pVzMD",
        "outputId": "47c75829-14bb-49dc-efec-ecf0bcf183fb"
      },
      "source": [
        "np.random.seed(2)\n",
        "\n",
        "df2 = pd.DataFrame(data={'data1': np.random.rand(3),\n",
        "                         'data2': np.random.randn(3)},\n",
        "                   index=['a', 'b', 'c'])\n",
        "df2"
      ],
      "execution_count": 13,
      "outputs": [
        {
          "output_type": "execute_result",
          "data": {
            "text/html": [
              "<div>\n",
              "<style scoped>\n",
              "    .dataframe tbody tr th:only-of-type {\n",
              "        vertical-align: middle;\n",
              "    }\n",
              "\n",
              "    .dataframe tbody tr th {\n",
              "        vertical-align: top;\n",
              "    }\n",
              "\n",
              "    .dataframe thead th {\n",
              "        text-align: right;\n",
              "    }\n",
              "</style>\n",
              "<table border=\"1\" class=\"dataframe\">\n",
              "  <thead>\n",
              "    <tr style=\"text-align: right;\">\n",
              "      <th></th>\n",
              "      <th>data1</th>\n",
              "      <th>data2</th>\n",
              "    </tr>\n",
              "  </thead>\n",
              "  <tbody>\n",
              "    <tr>\n",
              "      <th>a</th>\n",
              "      <td>0.435995</td>\n",
              "      <td>-1.953796</td>\n",
              "    </tr>\n",
              "    <tr>\n",
              "      <th>b</th>\n",
              "      <td>0.025926</td>\n",
              "      <td>-1.586882</td>\n",
              "    </tr>\n",
              "    <tr>\n",
              "      <th>c</th>\n",
              "      <td>0.549662</td>\n",
              "      <td>-1.074456</td>\n",
              "    </tr>\n",
              "  </tbody>\n",
              "</table>\n",
              "</div>"
            ],
            "text/plain": [
              "      data1     data2\n",
              "a  0.435995 -1.953796\n",
              "b  0.025926 -1.586882\n",
              "c  0.549662 -1.074456"
            ]
          },
          "metadata": {
            "tags": []
          },
          "execution_count": 13
        }
      ]
    },
    {
      "cell_type": "code",
      "metadata": {
        "colab": {
          "base_uri": "https://localhost:8080/",
          "height": 237
        },
        "id": "VoilScuyWfZr",
        "outputId": "d00b1126-248d-47ac-c478-417ecc81c31e"
      },
      "source": [
        "pd.merge(df1, df2, how='inner', left_index=True, right_index=True)"
      ],
      "execution_count": 14,
      "outputs": [
        {
          "output_type": "execute_result",
          "data": {
            "text/html": [
              "<div>\n",
              "<style scoped>\n",
              "    .dataframe tbody tr th:only-of-type {\n",
              "        vertical-align: middle;\n",
              "    }\n",
              "\n",
              "    .dataframe tbody tr th {\n",
              "        vertical-align: top;\n",
              "    }\n",
              "\n",
              "    .dataframe thead th {\n",
              "        text-align: right;\n",
              "    }\n",
              "</style>\n",
              "<table border=\"1\" class=\"dataframe\">\n",
              "  <thead>\n",
              "    <tr style=\"text-align: right;\">\n",
              "      <th></th>\n",
              "      <th>value1</th>\n",
              "      <th>value2</th>\n",
              "      <th>data1</th>\n",
              "      <th>data2</th>\n",
              "    </tr>\n",
              "  </thead>\n",
              "  <tbody>\n",
              "    <tr>\n",
              "      <th>a</th>\n",
              "      <td>5</td>\n",
              "      <td>1</td>\n",
              "      <td>0.435995</td>\n",
              "      <td>-1.953796</td>\n",
              "    </tr>\n",
              "    <tr>\n",
              "      <th>a</th>\n",
              "      <td>5</td>\n",
              "      <td>6</td>\n",
              "      <td>0.435995</td>\n",
              "      <td>-1.953796</td>\n",
              "    </tr>\n",
              "    <tr>\n",
              "      <th>b</th>\n",
              "      <td>8</td>\n",
              "      <td>76</td>\n",
              "      <td>0.025926</td>\n",
              "      <td>-1.586882</td>\n",
              "    </tr>\n",
              "    <tr>\n",
              "      <th>b</th>\n",
              "      <td>0</td>\n",
              "      <td>25</td>\n",
              "      <td>0.025926</td>\n",
              "      <td>-1.586882</td>\n",
              "    </tr>\n",
              "    <tr>\n",
              "      <th>c</th>\n",
              "      <td>9</td>\n",
              "      <td>71</td>\n",
              "      <td>0.549662</td>\n",
              "      <td>-1.074456</td>\n",
              "    </tr>\n",
              "    <tr>\n",
              "      <th>c</th>\n",
              "      <td>0</td>\n",
              "      <td>50</td>\n",
              "      <td>0.549662</td>\n",
              "      <td>-1.074456</td>\n",
              "    </tr>\n",
              "  </tbody>\n",
              "</table>\n",
              "</div>"
            ],
            "text/plain": [
              "   value1  value2     data1     data2\n",
              "a       5       1  0.435995 -1.953796\n",
              "a       5       6  0.435995 -1.953796\n",
              "b       8      76  0.025926 -1.586882\n",
              "b       0      25  0.025926 -1.586882\n",
              "c       9      71  0.549662 -1.074456\n",
              "c       0      50  0.549662 -1.074456"
            ]
          },
          "metadata": {
            "tags": []
          },
          "execution_count": 14
        }
      ]
    },
    {
      "cell_type": "markdown",
      "metadata": {
        "id": "azf-poJ7rRRm"
      },
      "source": [
        "컬럼과 인덱스를 사용한 merge"
      ]
    },
    {
      "cell_type": "code",
      "metadata": {
        "colab": {
          "base_uri": "https://localhost:8080/",
          "height": 237
        },
        "id": "whJEiMWurUpD",
        "outputId": "c332787f-33c2-4e9e-9044-169ab6193093"
      },
      "source": [
        "df1 = pd.DataFrame(data={'value1': np.arange(6),\n",
        "                         'value2': ['a', 'b', 'c'] * 2})\n",
        "df1"
      ],
      "execution_count": 15,
      "outputs": [
        {
          "output_type": "execute_result",
          "data": {
            "text/html": [
              "<div>\n",
              "<style scoped>\n",
              "    .dataframe tbody tr th:only-of-type {\n",
              "        vertical-align: middle;\n",
              "    }\n",
              "\n",
              "    .dataframe tbody tr th {\n",
              "        vertical-align: top;\n",
              "    }\n",
              "\n",
              "    .dataframe thead th {\n",
              "        text-align: right;\n",
              "    }\n",
              "</style>\n",
              "<table border=\"1\" class=\"dataframe\">\n",
              "  <thead>\n",
              "    <tr style=\"text-align: right;\">\n",
              "      <th></th>\n",
              "      <th>value1</th>\n",
              "      <th>value2</th>\n",
              "    </tr>\n",
              "  </thead>\n",
              "  <tbody>\n",
              "    <tr>\n",
              "      <th>0</th>\n",
              "      <td>0</td>\n",
              "      <td>a</td>\n",
              "    </tr>\n",
              "    <tr>\n",
              "      <th>1</th>\n",
              "      <td>1</td>\n",
              "      <td>b</td>\n",
              "    </tr>\n",
              "    <tr>\n",
              "      <th>2</th>\n",
              "      <td>2</td>\n",
              "      <td>c</td>\n",
              "    </tr>\n",
              "    <tr>\n",
              "      <th>3</th>\n",
              "      <td>3</td>\n",
              "      <td>a</td>\n",
              "    </tr>\n",
              "    <tr>\n",
              "      <th>4</th>\n",
              "      <td>4</td>\n",
              "      <td>b</td>\n",
              "    </tr>\n",
              "    <tr>\n",
              "      <th>5</th>\n",
              "      <td>5</td>\n",
              "      <td>c</td>\n",
              "    </tr>\n",
              "  </tbody>\n",
              "</table>\n",
              "</div>"
            ],
            "text/plain": [
              "   value1 value2\n",
              "0       0      a\n",
              "1       1      b\n",
              "2       2      c\n",
              "3       3      a\n",
              "4       4      b\n",
              "5       5      c"
            ]
          },
          "metadata": {
            "tags": []
          },
          "execution_count": 15
        }
      ]
    },
    {
      "cell_type": "code",
      "metadata": {
        "colab": {
          "base_uri": "https://localhost:8080/",
          "height": 143
        },
        "id": "hxfiLrz8rpGl",
        "outputId": "82849183-029e-443a-e7e2-41b6e5b28bd7"
      },
      "source": [
        "df2 = pd.DataFrame(data={'data': [10, 20, 30]},\n",
        "                   index=['a', 'b', 'c'])\n",
        "df2"
      ],
      "execution_count": 16,
      "outputs": [
        {
          "output_type": "execute_result",
          "data": {
            "text/html": [
              "<div>\n",
              "<style scoped>\n",
              "    .dataframe tbody tr th:only-of-type {\n",
              "        vertical-align: middle;\n",
              "    }\n",
              "\n",
              "    .dataframe tbody tr th {\n",
              "        vertical-align: top;\n",
              "    }\n",
              "\n",
              "    .dataframe thead th {\n",
              "        text-align: right;\n",
              "    }\n",
              "</style>\n",
              "<table border=\"1\" class=\"dataframe\">\n",
              "  <thead>\n",
              "    <tr style=\"text-align: right;\">\n",
              "      <th></th>\n",
              "      <th>data</th>\n",
              "    </tr>\n",
              "  </thead>\n",
              "  <tbody>\n",
              "    <tr>\n",
              "      <th>a</th>\n",
              "      <td>10</td>\n",
              "    </tr>\n",
              "    <tr>\n",
              "      <th>b</th>\n",
              "      <td>20</td>\n",
              "    </tr>\n",
              "    <tr>\n",
              "      <th>c</th>\n",
              "      <td>30</td>\n",
              "    </tr>\n",
              "  </tbody>\n",
              "</table>\n",
              "</div>"
            ],
            "text/plain": [
              "   data\n",
              "a    10\n",
              "b    20\n",
              "c    30"
            ]
          },
          "metadata": {
            "tags": []
          },
          "execution_count": 16
        }
      ]
    },
    {
      "cell_type": "code",
      "metadata": {
        "colab": {
          "base_uri": "https://localhost:8080/",
          "height": 237
        },
        "id": "OmJn5CCOsAI7",
        "outputId": "d6854b07-6f56-469e-b143-3c1e72ab10f2"
      },
      "source": [
        "pd.merge(df1, df2, how='inner', left_on='value2', right_index=True)"
      ],
      "execution_count": 17,
      "outputs": [
        {
          "output_type": "execute_result",
          "data": {
            "text/html": [
              "<div>\n",
              "<style scoped>\n",
              "    .dataframe tbody tr th:only-of-type {\n",
              "        vertical-align: middle;\n",
              "    }\n",
              "\n",
              "    .dataframe tbody tr th {\n",
              "        vertical-align: top;\n",
              "    }\n",
              "\n",
              "    .dataframe thead th {\n",
              "        text-align: right;\n",
              "    }\n",
              "</style>\n",
              "<table border=\"1\" class=\"dataframe\">\n",
              "  <thead>\n",
              "    <tr style=\"text-align: right;\">\n",
              "      <th></th>\n",
              "      <th>value1</th>\n",
              "      <th>value2</th>\n",
              "      <th>data</th>\n",
              "    </tr>\n",
              "  </thead>\n",
              "  <tbody>\n",
              "    <tr>\n",
              "      <th>0</th>\n",
              "      <td>0</td>\n",
              "      <td>a</td>\n",
              "      <td>10</td>\n",
              "    </tr>\n",
              "    <tr>\n",
              "      <th>3</th>\n",
              "      <td>3</td>\n",
              "      <td>a</td>\n",
              "      <td>10</td>\n",
              "    </tr>\n",
              "    <tr>\n",
              "      <th>1</th>\n",
              "      <td>1</td>\n",
              "      <td>b</td>\n",
              "      <td>20</td>\n",
              "    </tr>\n",
              "    <tr>\n",
              "      <th>4</th>\n",
              "      <td>4</td>\n",
              "      <td>b</td>\n",
              "      <td>20</td>\n",
              "    </tr>\n",
              "    <tr>\n",
              "      <th>2</th>\n",
              "      <td>2</td>\n",
              "      <td>c</td>\n",
              "      <td>30</td>\n",
              "    </tr>\n",
              "    <tr>\n",
              "      <th>5</th>\n",
              "      <td>5</td>\n",
              "      <td>c</td>\n",
              "      <td>30</td>\n",
              "    </tr>\n",
              "  </tbody>\n",
              "</table>\n",
              "</div>"
            ],
            "text/plain": [
              "   value1 value2  data\n",
              "0       0      a    10\n",
              "3       3      a    10\n",
              "1       1      b    20\n",
              "4       4      b    20\n",
              "2       2      c    30\n",
              "5       5      c    30"
            ]
          },
          "metadata": {
            "tags": []
          },
          "execution_count": 17
        }
      ]
    },
    {
      "cell_type": "markdown",
      "metadata": {
        "id": "j88Pk11GtUFj"
      },
      "source": [
        "# concat"
      ]
    },
    {
      "cell_type": "markdown",
      "metadata": {
        "id": "sni7AEsKtcFL"
      },
      "source": [
        "## pd.Series의 concat"
      ]
    },
    {
      "cell_type": "code",
      "metadata": {
        "colab": {
          "base_uri": "https://localhost:8080/"
        },
        "id": "8ThX96bzsfG7",
        "outputId": "27c32110-b2ee-4ed8-c048-e040012afdd2"
      },
      "source": [
        "s1 = pd.Series(data=['a', 'b', 'c'])\n",
        "s1"
      ],
      "execution_count": 18,
      "outputs": [
        {
          "output_type": "execute_result",
          "data": {
            "text/plain": [
              "0    a\n",
              "1    b\n",
              "2    c\n",
              "dtype: object"
            ]
          },
          "metadata": {
            "tags": []
          },
          "execution_count": 18
        }
      ]
    },
    {
      "cell_type": "code",
      "metadata": {
        "colab": {
          "base_uri": "https://localhost:8080/"
        },
        "id": "Jm5XUCs6txs0",
        "outputId": "bb2af7c3-3a8f-41b2-85bd-ed33afb7f216"
      },
      "source": [
        "s2 = pd.Series(data=['d', 'e'])\n",
        "s2"
      ],
      "execution_count": 19,
      "outputs": [
        {
          "output_type": "execute_result",
          "data": {
            "text/plain": [
              "0    d\n",
              "1    e\n",
              "dtype: object"
            ]
          },
          "metadata": {
            "tags": []
          },
          "execution_count": 19
        }
      ]
    },
    {
      "cell_type": "code",
      "metadata": {
        "colab": {
          "base_uri": "https://localhost:8080/"
        },
        "id": "igpmSsDPt2Kl",
        "outputId": "3bf4b2ab-34d8-42a5-99ec-a1426d761de5"
      },
      "source": [
        "result = pd.concat([s1, s2], axis=0)  # axis=0은 생략 가능(defualt argument)\n",
        "result  #> 결과는 Series"
      ],
      "execution_count": 20,
      "outputs": [
        {
          "output_type": "execute_result",
          "data": {
            "text/plain": [
              "0    a\n",
              "1    b\n",
              "2    c\n",
              "0    d\n",
              "1    e\n",
              "dtype: object"
            ]
          },
          "metadata": {
            "tags": []
          },
          "execution_count": 20
        }
      ]
    },
    {
      "cell_type": "code",
      "metadata": {
        "colab": {
          "base_uri": "https://localhost:8080/"
        },
        "id": "KbC8u9o9vS68",
        "outputId": "0d7d62c7-3252-4aef-d039-e9f8779137ee"
      },
      "source": [
        "result.loc[0]"
      ],
      "execution_count": 21,
      "outputs": [
        {
          "output_type": "execute_result",
          "data": {
            "text/plain": [
              "0    a\n",
              "0    d\n",
              "dtype: object"
            ]
          },
          "metadata": {
            "tags": []
          },
          "execution_count": 21
        }
      ]
    },
    {
      "cell_type": "code",
      "metadata": {
        "colab": {
          "base_uri": "https://localhost:8080/"
        },
        "id": "5qtmF8EgvWlE",
        "outputId": "bd2e796f-f89f-4a57-f668-71822eefad2e"
      },
      "source": [
        "pd.concat([s1, s2], ignore_index=True)\n",
        "# ignore_index: 이어줄 Series 또는 DataFrame의 index를 무시할 지를 결정. 기본값은 False."
      ],
      "execution_count": 22,
      "outputs": [
        {
          "output_type": "execute_result",
          "data": {
            "text/plain": [
              "0    a\n",
              "1    b\n",
              "2    c\n",
              "3    d\n",
              "4    e\n",
              "dtype: object"
            ]
          },
          "metadata": {
            "tags": []
          },
          "execution_count": 22
        }
      ]
    },
    {
      "cell_type": "markdown",
      "metadata": {
        "id": "qu0rjpvewefD"
      },
      "source": [
        "axis=1 방향 concat"
      ]
    },
    {
      "cell_type": "code",
      "metadata": {
        "colab": {
          "base_uri": "https://localhost:8080/",
          "height": 143
        },
        "id": "mDM1dLCOwg6k",
        "outputId": "17173112-c254-4342-86a9-3cdc21b68d9e"
      },
      "source": [
        "pd.concat([s1, s2], axis=1)  #> 결과는 DataFrame"
      ],
      "execution_count": 23,
      "outputs": [
        {
          "output_type": "execute_result",
          "data": {
            "text/html": [
              "<div>\n",
              "<style scoped>\n",
              "    .dataframe tbody tr th:only-of-type {\n",
              "        vertical-align: middle;\n",
              "    }\n",
              "\n",
              "    .dataframe tbody tr th {\n",
              "        vertical-align: top;\n",
              "    }\n",
              "\n",
              "    .dataframe thead th {\n",
              "        text-align: right;\n",
              "    }\n",
              "</style>\n",
              "<table border=\"1\" class=\"dataframe\">\n",
              "  <thead>\n",
              "    <tr style=\"text-align: right;\">\n",
              "      <th></th>\n",
              "      <th>0</th>\n",
              "      <th>1</th>\n",
              "    </tr>\n",
              "  </thead>\n",
              "  <tbody>\n",
              "    <tr>\n",
              "      <th>0</th>\n",
              "      <td>a</td>\n",
              "      <td>d</td>\n",
              "    </tr>\n",
              "    <tr>\n",
              "      <th>1</th>\n",
              "      <td>b</td>\n",
              "      <td>e</td>\n",
              "    </tr>\n",
              "    <tr>\n",
              "      <th>2</th>\n",
              "      <td>c</td>\n",
              "      <td>NaN</td>\n",
              "    </tr>\n",
              "  </tbody>\n",
              "</table>\n",
              "</div>"
            ],
            "text/plain": [
              "   0    1\n",
              "0  a    d\n",
              "1  b    e\n",
              "2  c  NaN"
            ]
          },
          "metadata": {
            "tags": []
          },
          "execution_count": 23
        }
      ]
    },
    {
      "cell_type": "code",
      "metadata": {
        "id": "_jQiczDcyJT9"
      },
      "source": [
        "np.random.seed(1)\n",
        "s1 = pd.Series(data=np.random.randn(3), index=['a', 'b', 'c'])\n",
        "s2 = pd.Series(data=np.random.randn(3), index=['d', 'e', 'f'])"
      ],
      "execution_count": 24,
      "outputs": []
    },
    {
      "cell_type": "code",
      "metadata": {
        "colab": {
          "base_uri": "https://localhost:8080/"
        },
        "id": "Zn_xPN5tzUvE",
        "outputId": "eceaeeaf-def6-4aa9-856f-6e775205daa8"
      },
      "source": [
        "s1"
      ],
      "execution_count": 25,
      "outputs": [
        {
          "output_type": "execute_result",
          "data": {
            "text/plain": [
              "a    1.624345\n",
              "b   -0.611756\n",
              "c   -0.528172\n",
              "dtype: float64"
            ]
          },
          "metadata": {
            "tags": []
          },
          "execution_count": 25
        }
      ]
    },
    {
      "cell_type": "code",
      "metadata": {
        "colab": {
          "base_uri": "https://localhost:8080/"
        },
        "id": "go2vMDcmzVRc",
        "outputId": "c11586cb-8e49-44d0-b9c2-40b9a4cd0acd"
      },
      "source": [
        "s2"
      ],
      "execution_count": 26,
      "outputs": [
        {
          "output_type": "execute_result",
          "data": {
            "text/plain": [
              "d   -1.072969\n",
              "e    0.865408\n",
              "f   -2.301539\n",
              "dtype: float64"
            ]
          },
          "metadata": {
            "tags": []
          },
          "execution_count": 26
        }
      ]
    },
    {
      "cell_type": "code",
      "metadata": {
        "colab": {
          "base_uri": "https://localhost:8080/"
        },
        "id": "MY5Xadz_yeyE",
        "outputId": "114313b2-a85c-443d-81c1-7c10c83ef74b"
      },
      "source": [
        "# axis=0 방향 concat => 결과는 Series\n",
        "pd.concat([s1, s2])"
      ],
      "execution_count": 27,
      "outputs": [
        {
          "output_type": "execute_result",
          "data": {
            "text/plain": [
              "a    1.624345\n",
              "b   -0.611756\n",
              "c   -0.528172\n",
              "d   -1.072969\n",
              "e    0.865408\n",
              "f   -2.301539\n",
              "dtype: float64"
            ]
          },
          "metadata": {
            "tags": []
          },
          "execution_count": 27
        }
      ]
    },
    {
      "cell_type": "code",
      "metadata": {
        "colab": {
          "base_uri": "https://localhost:8080/",
          "height": 237
        },
        "id": "5gJg1-Yeyi1L",
        "outputId": "dcecbdf4-8800-4c45-f08a-ae4ccd614870"
      },
      "source": [
        "# axis=1 방향 concat => 결과는 (6, 2) shape의 DataFrame\n",
        "pd.concat([s1, s2], axis=1)"
      ],
      "execution_count": 28,
      "outputs": [
        {
          "output_type": "execute_result",
          "data": {
            "text/html": [
              "<div>\n",
              "<style scoped>\n",
              "    .dataframe tbody tr th:only-of-type {\n",
              "        vertical-align: middle;\n",
              "    }\n",
              "\n",
              "    .dataframe tbody tr th {\n",
              "        vertical-align: top;\n",
              "    }\n",
              "\n",
              "    .dataframe thead th {\n",
              "        text-align: right;\n",
              "    }\n",
              "</style>\n",
              "<table border=\"1\" class=\"dataframe\">\n",
              "  <thead>\n",
              "    <tr style=\"text-align: right;\">\n",
              "      <th></th>\n",
              "      <th>0</th>\n",
              "      <th>1</th>\n",
              "    </tr>\n",
              "  </thead>\n",
              "  <tbody>\n",
              "    <tr>\n",
              "      <th>a</th>\n",
              "      <td>1.624345</td>\n",
              "      <td>NaN</td>\n",
              "    </tr>\n",
              "    <tr>\n",
              "      <th>b</th>\n",
              "      <td>-0.611756</td>\n",
              "      <td>NaN</td>\n",
              "    </tr>\n",
              "    <tr>\n",
              "      <th>c</th>\n",
              "      <td>-0.528172</td>\n",
              "      <td>NaN</td>\n",
              "    </tr>\n",
              "    <tr>\n",
              "      <th>d</th>\n",
              "      <td>NaN</td>\n",
              "      <td>-1.072969</td>\n",
              "    </tr>\n",
              "    <tr>\n",
              "      <th>e</th>\n",
              "      <td>NaN</td>\n",
              "      <td>0.865408</td>\n",
              "    </tr>\n",
              "    <tr>\n",
              "      <th>f</th>\n",
              "      <td>NaN</td>\n",
              "      <td>-2.301539</td>\n",
              "    </tr>\n",
              "  </tbody>\n",
              "</table>\n",
              "</div>"
            ],
            "text/plain": [
              "          0         1\n",
              "a  1.624345       NaN\n",
              "b -0.611756       NaN\n",
              "c -0.528172       NaN\n",
              "d       NaN -1.072969\n",
              "e       NaN  0.865408\n",
              "f       NaN -2.301539"
            ]
          },
          "metadata": {
            "tags": []
          },
          "execution_count": 28
        }
      ]
    },
    {
      "cell_type": "markdown",
      "metadata": {
        "id": "BLvKgvlez_qe"
      },
      "source": [
        "## pandas.DataFrame의 concat"
      ]
    },
    {
      "cell_type": "code",
      "metadata": {
        "id": "8n_vqgm50CiT"
      },
      "source": [
        "np.random.seed(1)\n",
        "\n",
        "mid_term = pd.DataFrame(data=np.random.randint(100, size=(5, 3)),\n",
        "                        columns=['math', 'science', 'computer'])\n",
        "final_term = pd.DataFrame(data=np.random.randint(100, size=(5, 3)),\n",
        "                          columns=['math', 'science', 'computer'])"
      ],
      "execution_count": 29,
      "outputs": []
    },
    {
      "cell_type": "code",
      "metadata": {
        "colab": {
          "base_uri": "https://localhost:8080/",
          "height": 206
        },
        "id": "ftO51ixE5Abk",
        "outputId": "f7ccacca-8b97-4cce-ca27-60e83288607a"
      },
      "source": [
        "mid_term"
      ],
      "execution_count": 30,
      "outputs": [
        {
          "output_type": "execute_result",
          "data": {
            "text/html": [
              "<div>\n",
              "<style scoped>\n",
              "    .dataframe tbody tr th:only-of-type {\n",
              "        vertical-align: middle;\n",
              "    }\n",
              "\n",
              "    .dataframe tbody tr th {\n",
              "        vertical-align: top;\n",
              "    }\n",
              "\n",
              "    .dataframe thead th {\n",
              "        text-align: right;\n",
              "    }\n",
              "</style>\n",
              "<table border=\"1\" class=\"dataframe\">\n",
              "  <thead>\n",
              "    <tr style=\"text-align: right;\">\n",
              "      <th></th>\n",
              "      <th>math</th>\n",
              "      <th>science</th>\n",
              "      <th>computer</th>\n",
              "    </tr>\n",
              "  </thead>\n",
              "  <tbody>\n",
              "    <tr>\n",
              "      <th>0</th>\n",
              "      <td>37</td>\n",
              "      <td>12</td>\n",
              "      <td>72</td>\n",
              "    </tr>\n",
              "    <tr>\n",
              "      <th>1</th>\n",
              "      <td>9</td>\n",
              "      <td>75</td>\n",
              "      <td>5</td>\n",
              "    </tr>\n",
              "    <tr>\n",
              "      <th>2</th>\n",
              "      <td>79</td>\n",
              "      <td>64</td>\n",
              "      <td>16</td>\n",
              "    </tr>\n",
              "    <tr>\n",
              "      <th>3</th>\n",
              "      <td>1</td>\n",
              "      <td>76</td>\n",
              "      <td>71</td>\n",
              "    </tr>\n",
              "    <tr>\n",
              "      <th>4</th>\n",
              "      <td>6</td>\n",
              "      <td>25</td>\n",
              "      <td>50</td>\n",
              "    </tr>\n",
              "  </tbody>\n",
              "</table>\n",
              "</div>"
            ],
            "text/plain": [
              "   math  science  computer\n",
              "0    37       12        72\n",
              "1     9       75         5\n",
              "2    79       64        16\n",
              "3     1       76        71\n",
              "4     6       25        50"
            ]
          },
          "metadata": {
            "tags": []
          },
          "execution_count": 30
        }
      ]
    },
    {
      "cell_type": "code",
      "metadata": {
        "colab": {
          "base_uri": "https://localhost:8080/",
          "height": 206
        },
        "id": "HTqw5Ez05Br0",
        "outputId": "76b48184-6b07-44ad-b627-aae1745effc0"
      },
      "source": [
        "final_term"
      ],
      "execution_count": 31,
      "outputs": [
        {
          "output_type": "execute_result",
          "data": {
            "text/html": [
              "<div>\n",
              "<style scoped>\n",
              "    .dataframe tbody tr th:only-of-type {\n",
              "        vertical-align: middle;\n",
              "    }\n",
              "\n",
              "    .dataframe tbody tr th {\n",
              "        vertical-align: top;\n",
              "    }\n",
              "\n",
              "    .dataframe thead th {\n",
              "        text-align: right;\n",
              "    }\n",
              "</style>\n",
              "<table border=\"1\" class=\"dataframe\">\n",
              "  <thead>\n",
              "    <tr style=\"text-align: right;\">\n",
              "      <th></th>\n",
              "      <th>math</th>\n",
              "      <th>science</th>\n",
              "      <th>computer</th>\n",
              "    </tr>\n",
              "  </thead>\n",
              "  <tbody>\n",
              "    <tr>\n",
              "      <th>0</th>\n",
              "      <td>20</td>\n",
              "      <td>18</td>\n",
              "      <td>84</td>\n",
              "    </tr>\n",
              "    <tr>\n",
              "      <th>1</th>\n",
              "      <td>11</td>\n",
              "      <td>28</td>\n",
              "      <td>29</td>\n",
              "    </tr>\n",
              "    <tr>\n",
              "      <th>2</th>\n",
              "      <td>14</td>\n",
              "      <td>50</td>\n",
              "      <td>68</td>\n",
              "    </tr>\n",
              "    <tr>\n",
              "      <th>3</th>\n",
              "      <td>87</td>\n",
              "      <td>87</td>\n",
              "      <td>94</td>\n",
              "    </tr>\n",
              "    <tr>\n",
              "      <th>4</th>\n",
              "      <td>96</td>\n",
              "      <td>86</td>\n",
              "      <td>13</td>\n",
              "    </tr>\n",
              "  </tbody>\n",
              "</table>\n",
              "</div>"
            ],
            "text/plain": [
              "   math  science  computer\n",
              "0    20       18        84\n",
              "1    11       28        29\n",
              "2    14       50        68\n",
              "3    87       87        94\n",
              "4    96       86        13"
            ]
          },
          "metadata": {
            "tags": []
          },
          "execution_count": 31
        }
      ]
    },
    {
      "cell_type": "code",
      "metadata": {
        "colab": {
          "base_uri": "https://localhost:8080/",
          "height": 363
        },
        "id": "HXygvDWw5XkE",
        "outputId": "4537c633-3f81-45a9-bee9-453418f52108"
      },
      "source": [
        "# axis=0 concat\n",
        "pd.concat([mid_term, final_term], ignore_index=True)"
      ],
      "execution_count": 32,
      "outputs": [
        {
          "output_type": "execute_result",
          "data": {
            "text/html": [
              "<div>\n",
              "<style scoped>\n",
              "    .dataframe tbody tr th:only-of-type {\n",
              "        vertical-align: middle;\n",
              "    }\n",
              "\n",
              "    .dataframe tbody tr th {\n",
              "        vertical-align: top;\n",
              "    }\n",
              "\n",
              "    .dataframe thead th {\n",
              "        text-align: right;\n",
              "    }\n",
              "</style>\n",
              "<table border=\"1\" class=\"dataframe\">\n",
              "  <thead>\n",
              "    <tr style=\"text-align: right;\">\n",
              "      <th></th>\n",
              "      <th>math</th>\n",
              "      <th>science</th>\n",
              "      <th>computer</th>\n",
              "    </tr>\n",
              "  </thead>\n",
              "  <tbody>\n",
              "    <tr>\n",
              "      <th>0</th>\n",
              "      <td>37</td>\n",
              "      <td>12</td>\n",
              "      <td>72</td>\n",
              "    </tr>\n",
              "    <tr>\n",
              "      <th>1</th>\n",
              "      <td>9</td>\n",
              "      <td>75</td>\n",
              "      <td>5</td>\n",
              "    </tr>\n",
              "    <tr>\n",
              "      <th>2</th>\n",
              "      <td>79</td>\n",
              "      <td>64</td>\n",
              "      <td>16</td>\n",
              "    </tr>\n",
              "    <tr>\n",
              "      <th>3</th>\n",
              "      <td>1</td>\n",
              "      <td>76</td>\n",
              "      <td>71</td>\n",
              "    </tr>\n",
              "    <tr>\n",
              "      <th>4</th>\n",
              "      <td>6</td>\n",
              "      <td>25</td>\n",
              "      <td>50</td>\n",
              "    </tr>\n",
              "    <tr>\n",
              "      <th>5</th>\n",
              "      <td>20</td>\n",
              "      <td>18</td>\n",
              "      <td>84</td>\n",
              "    </tr>\n",
              "    <tr>\n",
              "      <th>6</th>\n",
              "      <td>11</td>\n",
              "      <td>28</td>\n",
              "      <td>29</td>\n",
              "    </tr>\n",
              "    <tr>\n",
              "      <th>7</th>\n",
              "      <td>14</td>\n",
              "      <td>50</td>\n",
              "      <td>68</td>\n",
              "    </tr>\n",
              "    <tr>\n",
              "      <th>8</th>\n",
              "      <td>87</td>\n",
              "      <td>87</td>\n",
              "      <td>94</td>\n",
              "    </tr>\n",
              "    <tr>\n",
              "      <th>9</th>\n",
              "      <td>96</td>\n",
              "      <td>86</td>\n",
              "      <td>13</td>\n",
              "    </tr>\n",
              "  </tbody>\n",
              "</table>\n",
              "</div>"
            ],
            "text/plain": [
              "   math  science  computer\n",
              "0    37       12        72\n",
              "1     9       75         5\n",
              "2    79       64        16\n",
              "3     1       76        71\n",
              "4     6       25        50\n",
              "5    20       18        84\n",
              "6    11       28        29\n",
              "7    14       50        68\n",
              "8    87       87        94\n",
              "9    96       86        13"
            ]
          },
          "metadata": {
            "tags": []
          },
          "execution_count": 32
        }
      ]
    },
    {
      "cell_type": "code",
      "metadata": {
        "colab": {
          "base_uri": "https://localhost:8080/",
          "height": 206
        },
        "id": "cTaYdmFw56cc",
        "outputId": "1be186f7-c828-4750-94dc-c72941c11a49"
      },
      "source": [
        "# axis=1 concat\n",
        "pd.concat([mid_term, final_term], axis=1)"
      ],
      "execution_count": 33,
      "outputs": [
        {
          "output_type": "execute_result",
          "data": {
            "text/html": [
              "<div>\n",
              "<style scoped>\n",
              "    .dataframe tbody tr th:only-of-type {\n",
              "        vertical-align: middle;\n",
              "    }\n",
              "\n",
              "    .dataframe tbody tr th {\n",
              "        vertical-align: top;\n",
              "    }\n",
              "\n",
              "    .dataframe thead th {\n",
              "        text-align: right;\n",
              "    }\n",
              "</style>\n",
              "<table border=\"1\" class=\"dataframe\">\n",
              "  <thead>\n",
              "    <tr style=\"text-align: right;\">\n",
              "      <th></th>\n",
              "      <th>math</th>\n",
              "      <th>science</th>\n",
              "      <th>computer</th>\n",
              "      <th>math</th>\n",
              "      <th>science</th>\n",
              "      <th>computer</th>\n",
              "    </tr>\n",
              "  </thead>\n",
              "  <tbody>\n",
              "    <tr>\n",
              "      <th>0</th>\n",
              "      <td>37</td>\n",
              "      <td>12</td>\n",
              "      <td>72</td>\n",
              "      <td>20</td>\n",
              "      <td>18</td>\n",
              "      <td>84</td>\n",
              "    </tr>\n",
              "    <tr>\n",
              "      <th>1</th>\n",
              "      <td>9</td>\n",
              "      <td>75</td>\n",
              "      <td>5</td>\n",
              "      <td>11</td>\n",
              "      <td>28</td>\n",
              "      <td>29</td>\n",
              "    </tr>\n",
              "    <tr>\n",
              "      <th>2</th>\n",
              "      <td>79</td>\n",
              "      <td>64</td>\n",
              "      <td>16</td>\n",
              "      <td>14</td>\n",
              "      <td>50</td>\n",
              "      <td>68</td>\n",
              "    </tr>\n",
              "    <tr>\n",
              "      <th>3</th>\n",
              "      <td>1</td>\n",
              "      <td>76</td>\n",
              "      <td>71</td>\n",
              "      <td>87</td>\n",
              "      <td>87</td>\n",
              "      <td>94</td>\n",
              "    </tr>\n",
              "    <tr>\n",
              "      <th>4</th>\n",
              "      <td>6</td>\n",
              "      <td>25</td>\n",
              "      <td>50</td>\n",
              "      <td>96</td>\n",
              "      <td>86</td>\n",
              "      <td>13</td>\n",
              "    </tr>\n",
              "  </tbody>\n",
              "</table>\n",
              "</div>"
            ],
            "text/plain": [
              "   math  science  computer  math  science  computer\n",
              "0    37       12        72    20       18        84\n",
              "1     9       75         5    11       28        29\n",
              "2    79       64        16    14       50        68\n",
              "3     1       76        71    87       87        94\n",
              "4     6       25        50    96       86        13"
            ]
          },
          "metadata": {
            "tags": []
          },
          "execution_count": 33
        }
      ]
    },
    {
      "cell_type": "code",
      "metadata": {
        "id": "T8hzM-xL61vc"
      },
      "source": [
        "np.random.seed(1)\n",
        "\n",
        "df1 = pd.DataFrame(data=np.random.rand(3, 3),\n",
        "                   index=['a', 'b', 'c'],\n",
        "                   columns=['data1', 'data2', 'data3'])\n",
        "df2 = pd.DataFrame(data=np.random.rand(2, 2),\n",
        "                   index=['a', 'b'],\n",
        "                   columns=['data2', 'data3'])"
      ],
      "execution_count": 34,
      "outputs": []
    },
    {
      "cell_type": "code",
      "metadata": {
        "colab": {
          "base_uri": "https://localhost:8080/",
          "height": 143
        },
        "id": "vfdzbPIa7gPE",
        "outputId": "7298d3c6-62e9-40c6-f7bf-c92106ef959a"
      },
      "source": [
        "df1"
      ],
      "execution_count": 35,
      "outputs": [
        {
          "output_type": "execute_result",
          "data": {
            "text/html": [
              "<div>\n",
              "<style scoped>\n",
              "    .dataframe tbody tr th:only-of-type {\n",
              "        vertical-align: middle;\n",
              "    }\n",
              "\n",
              "    .dataframe tbody tr th {\n",
              "        vertical-align: top;\n",
              "    }\n",
              "\n",
              "    .dataframe thead th {\n",
              "        text-align: right;\n",
              "    }\n",
              "</style>\n",
              "<table border=\"1\" class=\"dataframe\">\n",
              "  <thead>\n",
              "    <tr style=\"text-align: right;\">\n",
              "      <th></th>\n",
              "      <th>data1</th>\n",
              "      <th>data2</th>\n",
              "      <th>data3</th>\n",
              "    </tr>\n",
              "  </thead>\n",
              "  <tbody>\n",
              "    <tr>\n",
              "      <th>a</th>\n",
              "      <td>0.417022</td>\n",
              "      <td>0.720324</td>\n",
              "      <td>0.000114</td>\n",
              "    </tr>\n",
              "    <tr>\n",
              "      <th>b</th>\n",
              "      <td>0.302333</td>\n",
              "      <td>0.146756</td>\n",
              "      <td>0.092339</td>\n",
              "    </tr>\n",
              "    <tr>\n",
              "      <th>c</th>\n",
              "      <td>0.186260</td>\n",
              "      <td>0.345561</td>\n",
              "      <td>0.396767</td>\n",
              "    </tr>\n",
              "  </tbody>\n",
              "</table>\n",
              "</div>"
            ],
            "text/plain": [
              "      data1     data2     data3\n",
              "a  0.417022  0.720324  0.000114\n",
              "b  0.302333  0.146756  0.092339\n",
              "c  0.186260  0.345561  0.396767"
            ]
          },
          "metadata": {
            "tags": []
          },
          "execution_count": 35
        }
      ]
    },
    {
      "cell_type": "code",
      "metadata": {
        "colab": {
          "base_uri": "https://localhost:8080/",
          "height": 112
        },
        "id": "KPXpOaHu77Tk",
        "outputId": "e7f81024-97ba-4a85-d7dd-5b79e6df37a3"
      },
      "source": [
        "df2"
      ],
      "execution_count": 36,
      "outputs": [
        {
          "output_type": "execute_result",
          "data": {
            "text/html": [
              "<div>\n",
              "<style scoped>\n",
              "    .dataframe tbody tr th:only-of-type {\n",
              "        vertical-align: middle;\n",
              "    }\n",
              "\n",
              "    .dataframe tbody tr th {\n",
              "        vertical-align: top;\n",
              "    }\n",
              "\n",
              "    .dataframe thead th {\n",
              "        text-align: right;\n",
              "    }\n",
              "</style>\n",
              "<table border=\"1\" class=\"dataframe\">\n",
              "  <thead>\n",
              "    <tr style=\"text-align: right;\">\n",
              "      <th></th>\n",
              "      <th>data2</th>\n",
              "      <th>data3</th>\n",
              "    </tr>\n",
              "  </thead>\n",
              "  <tbody>\n",
              "    <tr>\n",
              "      <th>a</th>\n",
              "      <td>0.538817</td>\n",
              "      <td>0.419195</td>\n",
              "    </tr>\n",
              "    <tr>\n",
              "      <th>b</th>\n",
              "      <td>0.685220</td>\n",
              "      <td>0.204452</td>\n",
              "    </tr>\n",
              "  </tbody>\n",
              "</table>\n",
              "</div>"
            ],
            "text/plain": [
              "      data2     data3\n",
              "a  0.538817  0.419195\n",
              "b  0.685220  0.204452"
            ]
          },
          "metadata": {
            "tags": []
          },
          "execution_count": 36
        }
      ]
    },
    {
      "cell_type": "code",
      "metadata": {
        "colab": {
          "base_uri": "https://localhost:8080/",
          "height": 206
        },
        "id": "9mlSO-SG78Ac",
        "outputId": "0c932119-82c3-40b8-9233-32310d540e37"
      },
      "source": [
        "# axis=0 concat\n",
        "pd.concat([df1, df2])"
      ],
      "execution_count": 37,
      "outputs": [
        {
          "output_type": "execute_result",
          "data": {
            "text/html": [
              "<div>\n",
              "<style scoped>\n",
              "    .dataframe tbody tr th:only-of-type {\n",
              "        vertical-align: middle;\n",
              "    }\n",
              "\n",
              "    .dataframe tbody tr th {\n",
              "        vertical-align: top;\n",
              "    }\n",
              "\n",
              "    .dataframe thead th {\n",
              "        text-align: right;\n",
              "    }\n",
              "</style>\n",
              "<table border=\"1\" class=\"dataframe\">\n",
              "  <thead>\n",
              "    <tr style=\"text-align: right;\">\n",
              "      <th></th>\n",
              "      <th>data1</th>\n",
              "      <th>data2</th>\n",
              "      <th>data3</th>\n",
              "    </tr>\n",
              "  </thead>\n",
              "  <tbody>\n",
              "    <tr>\n",
              "      <th>a</th>\n",
              "      <td>0.417022</td>\n",
              "      <td>0.720324</td>\n",
              "      <td>0.000114</td>\n",
              "    </tr>\n",
              "    <tr>\n",
              "      <th>b</th>\n",
              "      <td>0.302333</td>\n",
              "      <td>0.146756</td>\n",
              "      <td>0.092339</td>\n",
              "    </tr>\n",
              "    <tr>\n",
              "      <th>c</th>\n",
              "      <td>0.186260</td>\n",
              "      <td>0.345561</td>\n",
              "      <td>0.396767</td>\n",
              "    </tr>\n",
              "    <tr>\n",
              "      <th>a</th>\n",
              "      <td>NaN</td>\n",
              "      <td>0.538817</td>\n",
              "      <td>0.419195</td>\n",
              "    </tr>\n",
              "    <tr>\n",
              "      <th>b</th>\n",
              "      <td>NaN</td>\n",
              "      <td>0.685220</td>\n",
              "      <td>0.204452</td>\n",
              "    </tr>\n",
              "  </tbody>\n",
              "</table>\n",
              "</div>"
            ],
            "text/plain": [
              "      data1     data2     data3\n",
              "a  0.417022  0.720324  0.000114\n",
              "b  0.302333  0.146756  0.092339\n",
              "c  0.186260  0.345561  0.396767\n",
              "a       NaN  0.538817  0.419195\n",
              "b       NaN  0.685220  0.204452"
            ]
          },
          "metadata": {
            "tags": []
          },
          "execution_count": 37
        }
      ]
    },
    {
      "cell_type": "code",
      "metadata": {
        "colab": {
          "base_uri": "https://localhost:8080/",
          "height": 143
        },
        "id": "4jYYEPZR91h1",
        "outputId": "115f5b5b-62ff-459a-b6e4-b0ffcbfa0ee9"
      },
      "source": [
        "# axis=1 concat\n",
        "pd.concat([df1, df2], axis=1)"
      ],
      "execution_count": 38,
      "outputs": [
        {
          "output_type": "execute_result",
          "data": {
            "text/html": [
              "<div>\n",
              "<style scoped>\n",
              "    .dataframe tbody tr th:only-of-type {\n",
              "        vertical-align: middle;\n",
              "    }\n",
              "\n",
              "    .dataframe tbody tr th {\n",
              "        vertical-align: top;\n",
              "    }\n",
              "\n",
              "    .dataframe thead th {\n",
              "        text-align: right;\n",
              "    }\n",
              "</style>\n",
              "<table border=\"1\" class=\"dataframe\">\n",
              "  <thead>\n",
              "    <tr style=\"text-align: right;\">\n",
              "      <th></th>\n",
              "      <th>data1</th>\n",
              "      <th>data2</th>\n",
              "      <th>data3</th>\n",
              "      <th>data2</th>\n",
              "      <th>data3</th>\n",
              "    </tr>\n",
              "  </thead>\n",
              "  <tbody>\n",
              "    <tr>\n",
              "      <th>a</th>\n",
              "      <td>0.417022</td>\n",
              "      <td>0.720324</td>\n",
              "      <td>0.000114</td>\n",
              "      <td>0.538817</td>\n",
              "      <td>0.419195</td>\n",
              "    </tr>\n",
              "    <tr>\n",
              "      <th>b</th>\n",
              "      <td>0.302333</td>\n",
              "      <td>0.146756</td>\n",
              "      <td>0.092339</td>\n",
              "      <td>0.685220</td>\n",
              "      <td>0.204452</td>\n",
              "    </tr>\n",
              "    <tr>\n",
              "      <th>c</th>\n",
              "      <td>0.186260</td>\n",
              "      <td>0.345561</td>\n",
              "      <td>0.396767</td>\n",
              "      <td>NaN</td>\n",
              "      <td>NaN</td>\n",
              "    </tr>\n",
              "  </tbody>\n",
              "</table>\n",
              "</div>"
            ],
            "text/plain": [
              "      data1     data2     data3     data2     data3\n",
              "a  0.417022  0.720324  0.000114  0.538817  0.419195\n",
              "b  0.302333  0.146756  0.092339  0.685220  0.204452\n",
              "c  0.186260  0.345561  0.396767       NaN       NaN"
            ]
          },
          "metadata": {
            "tags": []
          },
          "execution_count": 38
        }
      ]
    },
    {
      "cell_type": "markdown",
      "metadata": {
        "id": "pERgsBtk-RCu"
      },
      "source": [
        "# merge, concat 연습\n",
        "\n",
        "* https://github.com/pandas-dev/pandas/tree/master/doc/data/ 데이터 사용\n",
        "* air_quality_no2_long.csv, air_quality_pm25_long.csv, air_quality_stations.csv 파일을 읽고 데이터 프레임 생성.\n",
        "* air_quality_no2와 air_quality_pm25를 합치세요.\n",
        "* 위 결과 데이터프레임과 stations 데이터프레임을 합치세요."
      ]
    },
    {
      "cell_type": "code",
      "metadata": {
        "id": "yfRD0QPv-Src"
      },
      "source": [
        "# 파일 경로\n",
        "no2_data = 'https://github.com/pandas-dev/pandas/raw/master/doc/data/air_quality_no2_long.csv'\n",
        "pm25_data = 'https://github.com/pandas-dev/pandas/raw/master/doc/data/air_quality_pm25_long.csv'\n",
        "stations_data = 'https://github.com/pandas-dev/pandas/raw/master/doc/data/air_quality_stations.csv'"
      ],
      "execution_count": 39,
      "outputs": []
    },
    {
      "cell_type": "code",
      "metadata": {
        "id": "mGihQwagGpTn"
      },
      "source": [
        "air_quality_no2 = pd.read_csv(no2_data)"
      ],
      "execution_count": 40,
      "outputs": []
    },
    {
      "cell_type": "code",
      "metadata": {
        "colab": {
          "base_uri": "https://localhost:8080/",
          "height": 423
        },
        "id": "5vZoKIJVGvX1",
        "outputId": "1e481b8a-7f3e-4536-abfe-17f6cc1b259c"
      },
      "source": [
        "air_quality_no2\n",
        "#> 공기 중 NO2의 농도를 3개 도시에서 1시간 간격으로 측정한 데이터"
      ],
      "execution_count": 41,
      "outputs": [
        {
          "output_type": "execute_result",
          "data": {
            "text/html": [
              "<div>\n",
              "<style scoped>\n",
              "    .dataframe tbody tr th:only-of-type {\n",
              "        vertical-align: middle;\n",
              "    }\n",
              "\n",
              "    .dataframe tbody tr th {\n",
              "        vertical-align: top;\n",
              "    }\n",
              "\n",
              "    .dataframe thead th {\n",
              "        text-align: right;\n",
              "    }\n",
              "</style>\n",
              "<table border=\"1\" class=\"dataframe\">\n",
              "  <thead>\n",
              "    <tr style=\"text-align: right;\">\n",
              "      <th></th>\n",
              "      <th>city</th>\n",
              "      <th>country</th>\n",
              "      <th>date.utc</th>\n",
              "      <th>location</th>\n",
              "      <th>parameter</th>\n",
              "      <th>value</th>\n",
              "      <th>unit</th>\n",
              "    </tr>\n",
              "  </thead>\n",
              "  <tbody>\n",
              "    <tr>\n",
              "      <th>0</th>\n",
              "      <td>Paris</td>\n",
              "      <td>FR</td>\n",
              "      <td>2019-06-21 00:00:00+00:00</td>\n",
              "      <td>FR04014</td>\n",
              "      <td>no2</td>\n",
              "      <td>20.0</td>\n",
              "      <td>µg/m³</td>\n",
              "    </tr>\n",
              "    <tr>\n",
              "      <th>1</th>\n",
              "      <td>Paris</td>\n",
              "      <td>FR</td>\n",
              "      <td>2019-06-20 23:00:00+00:00</td>\n",
              "      <td>FR04014</td>\n",
              "      <td>no2</td>\n",
              "      <td>21.8</td>\n",
              "      <td>µg/m³</td>\n",
              "    </tr>\n",
              "    <tr>\n",
              "      <th>2</th>\n",
              "      <td>Paris</td>\n",
              "      <td>FR</td>\n",
              "      <td>2019-06-20 22:00:00+00:00</td>\n",
              "      <td>FR04014</td>\n",
              "      <td>no2</td>\n",
              "      <td>26.5</td>\n",
              "      <td>µg/m³</td>\n",
              "    </tr>\n",
              "    <tr>\n",
              "      <th>3</th>\n",
              "      <td>Paris</td>\n",
              "      <td>FR</td>\n",
              "      <td>2019-06-20 21:00:00+00:00</td>\n",
              "      <td>FR04014</td>\n",
              "      <td>no2</td>\n",
              "      <td>24.9</td>\n",
              "      <td>µg/m³</td>\n",
              "    </tr>\n",
              "    <tr>\n",
              "      <th>4</th>\n",
              "      <td>Paris</td>\n",
              "      <td>FR</td>\n",
              "      <td>2019-06-20 20:00:00+00:00</td>\n",
              "      <td>FR04014</td>\n",
              "      <td>no2</td>\n",
              "      <td>21.4</td>\n",
              "      <td>µg/m³</td>\n",
              "    </tr>\n",
              "    <tr>\n",
              "      <th>...</th>\n",
              "      <td>...</td>\n",
              "      <td>...</td>\n",
              "      <td>...</td>\n",
              "      <td>...</td>\n",
              "      <td>...</td>\n",
              "      <td>...</td>\n",
              "      <td>...</td>\n",
              "    </tr>\n",
              "    <tr>\n",
              "      <th>2063</th>\n",
              "      <td>London</td>\n",
              "      <td>GB</td>\n",
              "      <td>2019-05-07 06:00:00+00:00</td>\n",
              "      <td>London Westminster</td>\n",
              "      <td>no2</td>\n",
              "      <td>26.0</td>\n",
              "      <td>µg/m³</td>\n",
              "    </tr>\n",
              "    <tr>\n",
              "      <th>2064</th>\n",
              "      <td>London</td>\n",
              "      <td>GB</td>\n",
              "      <td>2019-05-07 04:00:00+00:00</td>\n",
              "      <td>London Westminster</td>\n",
              "      <td>no2</td>\n",
              "      <td>16.0</td>\n",
              "      <td>µg/m³</td>\n",
              "    </tr>\n",
              "    <tr>\n",
              "      <th>2065</th>\n",
              "      <td>London</td>\n",
              "      <td>GB</td>\n",
              "      <td>2019-05-07 03:00:00+00:00</td>\n",
              "      <td>London Westminster</td>\n",
              "      <td>no2</td>\n",
              "      <td>19.0</td>\n",
              "      <td>µg/m³</td>\n",
              "    </tr>\n",
              "    <tr>\n",
              "      <th>2066</th>\n",
              "      <td>London</td>\n",
              "      <td>GB</td>\n",
              "      <td>2019-05-07 02:00:00+00:00</td>\n",
              "      <td>London Westminster</td>\n",
              "      <td>no2</td>\n",
              "      <td>19.0</td>\n",
              "      <td>µg/m³</td>\n",
              "    </tr>\n",
              "    <tr>\n",
              "      <th>2067</th>\n",
              "      <td>London</td>\n",
              "      <td>GB</td>\n",
              "      <td>2019-05-07 01:00:00+00:00</td>\n",
              "      <td>London Westminster</td>\n",
              "      <td>no2</td>\n",
              "      <td>23.0</td>\n",
              "      <td>µg/m³</td>\n",
              "    </tr>\n",
              "  </tbody>\n",
              "</table>\n",
              "<p>2068 rows × 7 columns</p>\n",
              "</div>"
            ],
            "text/plain": [
              "        city country                   date.utc  ... parameter value   unit\n",
              "0      Paris      FR  2019-06-21 00:00:00+00:00  ...       no2  20.0  µg/m³\n",
              "1      Paris      FR  2019-06-20 23:00:00+00:00  ...       no2  21.8  µg/m³\n",
              "2      Paris      FR  2019-06-20 22:00:00+00:00  ...       no2  26.5  µg/m³\n",
              "3      Paris      FR  2019-06-20 21:00:00+00:00  ...       no2  24.9  µg/m³\n",
              "4      Paris      FR  2019-06-20 20:00:00+00:00  ...       no2  21.4  µg/m³\n",
              "...      ...     ...                        ...  ...       ...   ...    ...\n",
              "2063  London      GB  2019-05-07 06:00:00+00:00  ...       no2  26.0  µg/m³\n",
              "2064  London      GB  2019-05-07 04:00:00+00:00  ...       no2  16.0  µg/m³\n",
              "2065  London      GB  2019-05-07 03:00:00+00:00  ...       no2  19.0  µg/m³\n",
              "2066  London      GB  2019-05-07 02:00:00+00:00  ...       no2  19.0  µg/m³\n",
              "2067  London      GB  2019-05-07 01:00:00+00:00  ...       no2  23.0  µg/m³\n",
              "\n",
              "[2068 rows x 7 columns]"
            ]
          },
          "metadata": {
            "tags": []
          },
          "execution_count": 41
        }
      ]
    },
    {
      "cell_type": "code",
      "metadata": {
        "colab": {
          "base_uri": "https://localhost:8080/"
        },
        "id": "BdM1xqmwGynt",
        "outputId": "3890a21b-6ad1-4984-dfb4-9ad9f3de9a74"
      },
      "source": [
        "air_quality_no2.info()"
      ],
      "execution_count": 42,
      "outputs": [
        {
          "output_type": "stream",
          "text": [
            "<class 'pandas.core.frame.DataFrame'>\n",
            "RangeIndex: 2068 entries, 0 to 2067\n",
            "Data columns (total 7 columns):\n",
            " #   Column     Non-Null Count  Dtype  \n",
            "---  ------     --------------  -----  \n",
            " 0   city       2068 non-null   object \n",
            " 1   country    2068 non-null   object \n",
            " 2   date.utc   2068 non-null   object \n",
            " 3   location   2068 non-null   object \n",
            " 4   parameter  2068 non-null   object \n",
            " 5   value      2068 non-null   float64\n",
            " 6   unit       2068 non-null   object \n",
            "dtypes: float64(1), object(6)\n",
            "memory usage: 113.2+ KB\n"
          ],
          "name": "stdout"
        }
      ]
    },
    {
      "cell_type": "code",
      "metadata": {
        "colab": {
          "base_uri": "https://localhost:8080/"
        },
        "id": "5KyaoC6oHy9u",
        "outputId": "89eb8f66-a798-42f5-97a0-50e06175371e"
      },
      "source": [
        "# city의 unique한 값 - pd.unique(Series/Array/List) 함수, pd.Series.unique() 메서드\n",
        "# pd.unique(air_quality_no2['city'])\n",
        "air_quality_no2['city'].unique()"
      ],
      "execution_count": 43,
      "outputs": [
        {
          "output_type": "execute_result",
          "data": {
            "text/plain": [
              "array(['Paris', 'Antwerpen', 'London'], dtype=object)"
            ]
          },
          "metadata": {
            "tags": []
          },
          "execution_count": 43
        }
      ]
    },
    {
      "cell_type": "code",
      "metadata": {
        "colab": {
          "base_uri": "https://localhost:8080/"
        },
        "id": "IxDpzBMkIhYu",
        "outputId": "694cb530-48e5-49fd-c2a6-e9daca0a0647"
      },
      "source": [
        "# country의 unique 값\n",
        "air_quality_no2['country'].unique()"
      ],
      "execution_count": 44,
      "outputs": [
        {
          "output_type": "execute_result",
          "data": {
            "text/plain": [
              "array(['FR', 'BE', 'GB'], dtype=object)"
            ]
          },
          "metadata": {
            "tags": []
          },
          "execution_count": 44
        }
      ]
    },
    {
      "cell_type": "code",
      "metadata": {
        "colab": {
          "base_uri": "https://localhost:8080/"
        },
        "id": "mKX4sdEhIrmW",
        "outputId": "39963597-6271-4d2e-bb97-8cbe928a583e"
      },
      "source": [
        "# location의 unique 값\n",
        "air_quality_no2['location'].unique()"
      ],
      "execution_count": 45,
      "outputs": [
        {
          "output_type": "execute_result",
          "data": {
            "text/plain": [
              "array(['FR04014', 'BETR801', 'London Westminster'], dtype=object)"
            ]
          },
          "metadata": {
            "tags": []
          },
          "execution_count": 45
        }
      ]
    },
    {
      "cell_type": "code",
      "metadata": {
        "colab": {
          "base_uri": "https://localhost:8080/"
        },
        "id": "o4BYoq_4JGx9",
        "outputId": "86c524f8-2e52-45c4-df9c-c115cbcfcf12"
      },
      "source": [
        "# parameter의 unique 값\n",
        "air_quality_no2['parameter'].unique()"
      ],
      "execution_count": 46,
      "outputs": [
        {
          "output_type": "execute_result",
          "data": {
            "text/plain": [
              "array(['no2'], dtype=object)"
            ]
          },
          "metadata": {
            "tags": []
          },
          "execution_count": 46
        }
      ]
    },
    {
      "cell_type": "code",
      "metadata": {
        "id": "F3aRDQ3XJW7s"
      },
      "source": [
        "air_quality_pm25 = pd.read_csv(pm25_data)\n",
        "# 지름이 2.5um 이하인 미세먼지의 공기 중 농도를 2개 도시에서 1시간 간격으로 측정한 데이터"
      ],
      "execution_count": 47,
      "outputs": []
    },
    {
      "cell_type": "code",
      "metadata": {
        "colab": {
          "base_uri": "https://localhost:8080/",
          "height": 423
        },
        "id": "RQHwdoBFJsU2",
        "outputId": "a4bfd628-b6e0-4f12-c0df-041387944c6e"
      },
      "source": [
        "air_quality_pm25"
      ],
      "execution_count": 48,
      "outputs": [
        {
          "output_type": "execute_result",
          "data": {
            "text/html": [
              "<div>\n",
              "<style scoped>\n",
              "    .dataframe tbody tr th:only-of-type {\n",
              "        vertical-align: middle;\n",
              "    }\n",
              "\n",
              "    .dataframe tbody tr th {\n",
              "        vertical-align: top;\n",
              "    }\n",
              "\n",
              "    .dataframe thead th {\n",
              "        text-align: right;\n",
              "    }\n",
              "</style>\n",
              "<table border=\"1\" class=\"dataframe\">\n",
              "  <thead>\n",
              "    <tr style=\"text-align: right;\">\n",
              "      <th></th>\n",
              "      <th>city</th>\n",
              "      <th>country</th>\n",
              "      <th>date.utc</th>\n",
              "      <th>location</th>\n",
              "      <th>parameter</th>\n",
              "      <th>value</th>\n",
              "      <th>unit</th>\n",
              "    </tr>\n",
              "  </thead>\n",
              "  <tbody>\n",
              "    <tr>\n",
              "      <th>0</th>\n",
              "      <td>Antwerpen</td>\n",
              "      <td>BE</td>\n",
              "      <td>2019-06-18 06:00:00+00:00</td>\n",
              "      <td>BETR801</td>\n",
              "      <td>pm25</td>\n",
              "      <td>18.0</td>\n",
              "      <td>µg/m³</td>\n",
              "    </tr>\n",
              "    <tr>\n",
              "      <th>1</th>\n",
              "      <td>Antwerpen</td>\n",
              "      <td>BE</td>\n",
              "      <td>2019-06-17 08:00:00+00:00</td>\n",
              "      <td>BETR801</td>\n",
              "      <td>pm25</td>\n",
              "      <td>6.5</td>\n",
              "      <td>µg/m³</td>\n",
              "    </tr>\n",
              "    <tr>\n",
              "      <th>2</th>\n",
              "      <td>Antwerpen</td>\n",
              "      <td>BE</td>\n",
              "      <td>2019-06-17 07:00:00+00:00</td>\n",
              "      <td>BETR801</td>\n",
              "      <td>pm25</td>\n",
              "      <td>18.5</td>\n",
              "      <td>µg/m³</td>\n",
              "    </tr>\n",
              "    <tr>\n",
              "      <th>3</th>\n",
              "      <td>Antwerpen</td>\n",
              "      <td>BE</td>\n",
              "      <td>2019-06-17 06:00:00+00:00</td>\n",
              "      <td>BETR801</td>\n",
              "      <td>pm25</td>\n",
              "      <td>16.0</td>\n",
              "      <td>µg/m³</td>\n",
              "    </tr>\n",
              "    <tr>\n",
              "      <th>4</th>\n",
              "      <td>Antwerpen</td>\n",
              "      <td>BE</td>\n",
              "      <td>2019-06-17 05:00:00+00:00</td>\n",
              "      <td>BETR801</td>\n",
              "      <td>pm25</td>\n",
              "      <td>7.5</td>\n",
              "      <td>µg/m³</td>\n",
              "    </tr>\n",
              "    <tr>\n",
              "      <th>...</th>\n",
              "      <td>...</td>\n",
              "      <td>...</td>\n",
              "      <td>...</td>\n",
              "      <td>...</td>\n",
              "      <td>...</td>\n",
              "      <td>...</td>\n",
              "      <td>...</td>\n",
              "    </tr>\n",
              "    <tr>\n",
              "      <th>1105</th>\n",
              "      <td>London</td>\n",
              "      <td>GB</td>\n",
              "      <td>2019-05-07 06:00:00+00:00</td>\n",
              "      <td>London Westminster</td>\n",
              "      <td>pm25</td>\n",
              "      <td>9.0</td>\n",
              "      <td>µg/m³</td>\n",
              "    </tr>\n",
              "    <tr>\n",
              "      <th>1106</th>\n",
              "      <td>London</td>\n",
              "      <td>GB</td>\n",
              "      <td>2019-05-07 04:00:00+00:00</td>\n",
              "      <td>London Westminster</td>\n",
              "      <td>pm25</td>\n",
              "      <td>8.0</td>\n",
              "      <td>µg/m³</td>\n",
              "    </tr>\n",
              "    <tr>\n",
              "      <th>1107</th>\n",
              "      <td>London</td>\n",
              "      <td>GB</td>\n",
              "      <td>2019-05-07 03:00:00+00:00</td>\n",
              "      <td>London Westminster</td>\n",
              "      <td>pm25</td>\n",
              "      <td>8.0</td>\n",
              "      <td>µg/m³</td>\n",
              "    </tr>\n",
              "    <tr>\n",
              "      <th>1108</th>\n",
              "      <td>London</td>\n",
              "      <td>GB</td>\n",
              "      <td>2019-05-07 02:00:00+00:00</td>\n",
              "      <td>London Westminster</td>\n",
              "      <td>pm25</td>\n",
              "      <td>8.0</td>\n",
              "      <td>µg/m³</td>\n",
              "    </tr>\n",
              "    <tr>\n",
              "      <th>1109</th>\n",
              "      <td>London</td>\n",
              "      <td>GB</td>\n",
              "      <td>2019-05-07 01:00:00+00:00</td>\n",
              "      <td>London Westminster</td>\n",
              "      <td>pm25</td>\n",
              "      <td>8.0</td>\n",
              "      <td>µg/m³</td>\n",
              "    </tr>\n",
              "  </tbody>\n",
              "</table>\n",
              "<p>1110 rows × 7 columns</p>\n",
              "</div>"
            ],
            "text/plain": [
              "           city country                   date.utc  ... parameter value   unit\n",
              "0     Antwerpen      BE  2019-06-18 06:00:00+00:00  ...      pm25  18.0  µg/m³\n",
              "1     Antwerpen      BE  2019-06-17 08:00:00+00:00  ...      pm25   6.5  µg/m³\n",
              "2     Antwerpen      BE  2019-06-17 07:00:00+00:00  ...      pm25  18.5  µg/m³\n",
              "3     Antwerpen      BE  2019-06-17 06:00:00+00:00  ...      pm25  16.0  µg/m³\n",
              "4     Antwerpen      BE  2019-06-17 05:00:00+00:00  ...      pm25   7.5  µg/m³\n",
              "...         ...     ...                        ...  ...       ...   ...    ...\n",
              "1105     London      GB  2019-05-07 06:00:00+00:00  ...      pm25   9.0  µg/m³\n",
              "1106     London      GB  2019-05-07 04:00:00+00:00  ...      pm25   8.0  µg/m³\n",
              "1107     London      GB  2019-05-07 03:00:00+00:00  ...      pm25   8.0  µg/m³\n",
              "1108     London      GB  2019-05-07 02:00:00+00:00  ...      pm25   8.0  µg/m³\n",
              "1109     London      GB  2019-05-07 01:00:00+00:00  ...      pm25   8.0  µg/m³\n",
              "\n",
              "[1110 rows x 7 columns]"
            ]
          },
          "metadata": {
            "tags": []
          },
          "execution_count": 48
        }
      ]
    },
    {
      "cell_type": "code",
      "metadata": {
        "colab": {
          "base_uri": "https://localhost:8080/"
        },
        "id": "rQmqcwoTKUdV",
        "outputId": "d87fa9b4-3f8b-4792-c430-2b6fc3eab86a"
      },
      "source": [
        "air_quality_pm25.info()"
      ],
      "execution_count": 49,
      "outputs": [
        {
          "output_type": "stream",
          "text": [
            "<class 'pandas.core.frame.DataFrame'>\n",
            "RangeIndex: 1110 entries, 0 to 1109\n",
            "Data columns (total 7 columns):\n",
            " #   Column     Non-Null Count  Dtype  \n",
            "---  ------     --------------  -----  \n",
            " 0   city       1110 non-null   object \n",
            " 1   country    1110 non-null   object \n",
            " 2   date.utc   1110 non-null   object \n",
            " 3   location   1110 non-null   object \n",
            " 4   parameter  1110 non-null   object \n",
            " 5   value      1110 non-null   float64\n",
            " 6   unit       1110 non-null   object \n",
            "dtypes: float64(1), object(6)\n",
            "memory usage: 60.8+ KB\n"
          ],
          "name": "stdout"
        }
      ]
    },
    {
      "cell_type": "code",
      "metadata": {
        "colab": {
          "base_uri": "https://localhost:8080/"
        },
        "id": "rEVlHcFuKWON",
        "outputId": "7e82666e-fa5a-4759-f03c-6767c512800a"
      },
      "source": [
        "air_quality_pm25['city'].unique()"
      ],
      "execution_count": 50,
      "outputs": [
        {
          "output_type": "execute_result",
          "data": {
            "text/plain": [
              "array(['Antwerpen', 'London'], dtype=object)"
            ]
          },
          "metadata": {
            "tags": []
          },
          "execution_count": 50
        }
      ]
    },
    {
      "cell_type": "code",
      "metadata": {
        "colab": {
          "base_uri": "https://localhost:8080/"
        },
        "id": "y4vsiwAKKe1s",
        "outputId": "dea4cbe0-2b9b-48f7-98f1-b3fe64414297"
      },
      "source": [
        "air_quality_pm25['location'].unique()"
      ],
      "execution_count": 51,
      "outputs": [
        {
          "output_type": "execute_result",
          "data": {
            "text/plain": [
              "array(['BETR801', 'London Westminster'], dtype=object)"
            ]
          },
          "metadata": {
            "tags": []
          },
          "execution_count": 51
        }
      ]
    },
    {
      "cell_type": "code",
      "metadata": {
        "colab": {
          "base_uri": "https://localhost:8080/"
        },
        "id": "4Mr4Ucs8KpiF",
        "outputId": "5a6e99cd-ccb4-47ef-b821-3096eaa47cb0"
      },
      "source": [
        "air_quality_pm25['parameter'].unique()"
      ],
      "execution_count": 52,
      "outputs": [
        {
          "output_type": "execute_result",
          "data": {
            "text/plain": [
              "array(['pm25'], dtype=object)"
            ]
          },
          "metadata": {
            "tags": []
          },
          "execution_count": 52
        }
      ]
    },
    {
      "cell_type": "code",
      "metadata": {
        "id": "nrqCUmZ6K0e1"
      },
      "source": [
        "stations = pd.read_csv(stations_data)\n",
        "# 미세먼지 측정소 이름, 경도, 위도 정보를 가지고 있는 데이터 프레임"
      ],
      "execution_count": 53,
      "outputs": []
    },
    {
      "cell_type": "code",
      "metadata": {
        "colab": {
          "base_uri": "https://localhost:8080/",
          "height": 423
        },
        "id": "f3gJR91wK9Ze",
        "outputId": "e91bc28b-8fb2-4edf-b38f-92e94be3e8f6"
      },
      "source": [
        "stations"
      ],
      "execution_count": 54,
      "outputs": [
        {
          "output_type": "execute_result",
          "data": {
            "text/html": [
              "<div>\n",
              "<style scoped>\n",
              "    .dataframe tbody tr th:only-of-type {\n",
              "        vertical-align: middle;\n",
              "    }\n",
              "\n",
              "    .dataframe tbody tr th {\n",
              "        vertical-align: top;\n",
              "    }\n",
              "\n",
              "    .dataframe thead th {\n",
              "        text-align: right;\n",
              "    }\n",
              "</style>\n",
              "<table border=\"1\" class=\"dataframe\">\n",
              "  <thead>\n",
              "    <tr style=\"text-align: right;\">\n",
              "      <th></th>\n",
              "      <th>location</th>\n",
              "      <th>coordinates.latitude</th>\n",
              "      <th>coordinates.longitude</th>\n",
              "    </tr>\n",
              "  </thead>\n",
              "  <tbody>\n",
              "    <tr>\n",
              "      <th>0</th>\n",
              "      <td>BELAL01</td>\n",
              "      <td>51.23619</td>\n",
              "      <td>4.38522</td>\n",
              "    </tr>\n",
              "    <tr>\n",
              "      <th>1</th>\n",
              "      <td>BELHB23</td>\n",
              "      <td>51.17030</td>\n",
              "      <td>4.34100</td>\n",
              "    </tr>\n",
              "    <tr>\n",
              "      <th>2</th>\n",
              "      <td>BELLD01</td>\n",
              "      <td>51.10998</td>\n",
              "      <td>5.00486</td>\n",
              "    </tr>\n",
              "    <tr>\n",
              "      <th>3</th>\n",
              "      <td>BELLD02</td>\n",
              "      <td>51.12038</td>\n",
              "      <td>5.02155</td>\n",
              "    </tr>\n",
              "    <tr>\n",
              "      <th>4</th>\n",
              "      <td>BELR833</td>\n",
              "      <td>51.32766</td>\n",
              "      <td>4.36226</td>\n",
              "    </tr>\n",
              "    <tr>\n",
              "      <th>...</th>\n",
              "      <td>...</td>\n",
              "      <td>...</td>\n",
              "      <td>...</td>\n",
              "    </tr>\n",
              "    <tr>\n",
              "      <th>61</th>\n",
              "      <td>Southend-on-Sea</td>\n",
              "      <td>51.54420</td>\n",
              "      <td>0.67841</td>\n",
              "    </tr>\n",
              "    <tr>\n",
              "      <th>62</th>\n",
              "      <td>Southwark A2 Old Kent Road</td>\n",
              "      <td>51.48050</td>\n",
              "      <td>-0.05955</td>\n",
              "    </tr>\n",
              "    <tr>\n",
              "      <th>63</th>\n",
              "      <td>Thurrock</td>\n",
              "      <td>51.47707</td>\n",
              "      <td>0.31797</td>\n",
              "    </tr>\n",
              "    <tr>\n",
              "      <th>64</th>\n",
              "      <td>Tower Hamlets Roadside</td>\n",
              "      <td>51.52253</td>\n",
              "      <td>-0.04216</td>\n",
              "    </tr>\n",
              "    <tr>\n",
              "      <th>65</th>\n",
              "      <td>Groton Fort Griswold</td>\n",
              "      <td>41.35360</td>\n",
              "      <td>-72.07890</td>\n",
              "    </tr>\n",
              "  </tbody>\n",
              "</table>\n",
              "<p>66 rows × 3 columns</p>\n",
              "</div>"
            ],
            "text/plain": [
              "                      location  coordinates.latitude  coordinates.longitude\n",
              "0                      BELAL01              51.23619                4.38522\n",
              "1                      BELHB23              51.17030                4.34100\n",
              "2                      BELLD01              51.10998                5.00486\n",
              "3                      BELLD02              51.12038                5.02155\n",
              "4                      BELR833              51.32766                4.36226\n",
              "..                         ...                   ...                    ...\n",
              "61             Southend-on-Sea              51.54420                0.67841\n",
              "62  Southwark A2 Old Kent Road              51.48050               -0.05955\n",
              "63                    Thurrock              51.47707                0.31797\n",
              "64      Tower Hamlets Roadside              51.52253               -0.04216\n",
              "65        Groton Fort Griswold              41.35360              -72.07890\n",
              "\n",
              "[66 rows x 3 columns]"
            ]
          },
          "metadata": {
            "tags": []
          },
          "execution_count": 54
        }
      ]
    },
    {
      "cell_type": "code",
      "metadata": {
        "colab": {
          "base_uri": "https://localhost:8080/"
        },
        "id": "_Md0U4A7K-Wl",
        "outputId": "c426048f-7cd9-4a7d-e6bc-3a0dc273ffe4"
      },
      "source": [
        "stations.info()"
      ],
      "execution_count": 55,
      "outputs": [
        {
          "output_type": "stream",
          "text": [
            "<class 'pandas.core.frame.DataFrame'>\n",
            "RangeIndex: 66 entries, 0 to 65\n",
            "Data columns (total 3 columns):\n",
            " #   Column                 Non-Null Count  Dtype  \n",
            "---  ------                 --------------  -----  \n",
            " 0   location               66 non-null     object \n",
            " 1   coordinates.latitude   66 non-null     float64\n",
            " 2   coordinates.longitude  66 non-null     float64\n",
            "dtypes: float64(2), object(1)\n",
            "memory usage: 1.7+ KB\n"
          ],
          "name": "stdout"
        }
      ]
    },
    {
      "cell_type": "code",
      "metadata": {
        "id": "y8EEvJWxLrwV"
      },
      "source": [
        "# NO2, PM25를 concat\n",
        "air_quality = pd.concat([air_quality_no2, air_quality_pm25], ignore_index=True)"
      ],
      "execution_count": 56,
      "outputs": []
    },
    {
      "cell_type": "code",
      "metadata": {
        "colab": {
          "base_uri": "https://localhost:8080/",
          "height": 423
        },
        "id": "9cF3-_XHMv72",
        "outputId": "48518590-526e-4e37-83f9-a0b28b5beb49"
      },
      "source": [
        "air_quality"
      ],
      "execution_count": 57,
      "outputs": [
        {
          "output_type": "execute_result",
          "data": {
            "text/html": [
              "<div>\n",
              "<style scoped>\n",
              "    .dataframe tbody tr th:only-of-type {\n",
              "        vertical-align: middle;\n",
              "    }\n",
              "\n",
              "    .dataframe tbody tr th {\n",
              "        vertical-align: top;\n",
              "    }\n",
              "\n",
              "    .dataframe thead th {\n",
              "        text-align: right;\n",
              "    }\n",
              "</style>\n",
              "<table border=\"1\" class=\"dataframe\">\n",
              "  <thead>\n",
              "    <tr style=\"text-align: right;\">\n",
              "      <th></th>\n",
              "      <th>city</th>\n",
              "      <th>country</th>\n",
              "      <th>date.utc</th>\n",
              "      <th>location</th>\n",
              "      <th>parameter</th>\n",
              "      <th>value</th>\n",
              "      <th>unit</th>\n",
              "    </tr>\n",
              "  </thead>\n",
              "  <tbody>\n",
              "    <tr>\n",
              "      <th>0</th>\n",
              "      <td>Paris</td>\n",
              "      <td>FR</td>\n",
              "      <td>2019-06-21 00:00:00+00:00</td>\n",
              "      <td>FR04014</td>\n",
              "      <td>no2</td>\n",
              "      <td>20.0</td>\n",
              "      <td>µg/m³</td>\n",
              "    </tr>\n",
              "    <tr>\n",
              "      <th>1</th>\n",
              "      <td>Paris</td>\n",
              "      <td>FR</td>\n",
              "      <td>2019-06-20 23:00:00+00:00</td>\n",
              "      <td>FR04014</td>\n",
              "      <td>no2</td>\n",
              "      <td>21.8</td>\n",
              "      <td>µg/m³</td>\n",
              "    </tr>\n",
              "    <tr>\n",
              "      <th>2</th>\n",
              "      <td>Paris</td>\n",
              "      <td>FR</td>\n",
              "      <td>2019-06-20 22:00:00+00:00</td>\n",
              "      <td>FR04014</td>\n",
              "      <td>no2</td>\n",
              "      <td>26.5</td>\n",
              "      <td>µg/m³</td>\n",
              "    </tr>\n",
              "    <tr>\n",
              "      <th>3</th>\n",
              "      <td>Paris</td>\n",
              "      <td>FR</td>\n",
              "      <td>2019-06-20 21:00:00+00:00</td>\n",
              "      <td>FR04014</td>\n",
              "      <td>no2</td>\n",
              "      <td>24.9</td>\n",
              "      <td>µg/m³</td>\n",
              "    </tr>\n",
              "    <tr>\n",
              "      <th>4</th>\n",
              "      <td>Paris</td>\n",
              "      <td>FR</td>\n",
              "      <td>2019-06-20 20:00:00+00:00</td>\n",
              "      <td>FR04014</td>\n",
              "      <td>no2</td>\n",
              "      <td>21.4</td>\n",
              "      <td>µg/m³</td>\n",
              "    </tr>\n",
              "    <tr>\n",
              "      <th>...</th>\n",
              "      <td>...</td>\n",
              "      <td>...</td>\n",
              "      <td>...</td>\n",
              "      <td>...</td>\n",
              "      <td>...</td>\n",
              "      <td>...</td>\n",
              "      <td>...</td>\n",
              "    </tr>\n",
              "    <tr>\n",
              "      <th>3173</th>\n",
              "      <td>London</td>\n",
              "      <td>GB</td>\n",
              "      <td>2019-05-07 06:00:00+00:00</td>\n",
              "      <td>London Westminster</td>\n",
              "      <td>pm25</td>\n",
              "      <td>9.0</td>\n",
              "      <td>µg/m³</td>\n",
              "    </tr>\n",
              "    <tr>\n",
              "      <th>3174</th>\n",
              "      <td>London</td>\n",
              "      <td>GB</td>\n",
              "      <td>2019-05-07 04:00:00+00:00</td>\n",
              "      <td>London Westminster</td>\n",
              "      <td>pm25</td>\n",
              "      <td>8.0</td>\n",
              "      <td>µg/m³</td>\n",
              "    </tr>\n",
              "    <tr>\n",
              "      <th>3175</th>\n",
              "      <td>London</td>\n",
              "      <td>GB</td>\n",
              "      <td>2019-05-07 03:00:00+00:00</td>\n",
              "      <td>London Westminster</td>\n",
              "      <td>pm25</td>\n",
              "      <td>8.0</td>\n",
              "      <td>µg/m³</td>\n",
              "    </tr>\n",
              "    <tr>\n",
              "      <th>3176</th>\n",
              "      <td>London</td>\n",
              "      <td>GB</td>\n",
              "      <td>2019-05-07 02:00:00+00:00</td>\n",
              "      <td>London Westminster</td>\n",
              "      <td>pm25</td>\n",
              "      <td>8.0</td>\n",
              "      <td>µg/m³</td>\n",
              "    </tr>\n",
              "    <tr>\n",
              "      <th>3177</th>\n",
              "      <td>London</td>\n",
              "      <td>GB</td>\n",
              "      <td>2019-05-07 01:00:00+00:00</td>\n",
              "      <td>London Westminster</td>\n",
              "      <td>pm25</td>\n",
              "      <td>8.0</td>\n",
              "      <td>µg/m³</td>\n",
              "    </tr>\n",
              "  </tbody>\n",
              "</table>\n",
              "<p>3178 rows × 7 columns</p>\n",
              "</div>"
            ],
            "text/plain": [
              "        city country                   date.utc  ... parameter value   unit\n",
              "0      Paris      FR  2019-06-21 00:00:00+00:00  ...       no2  20.0  µg/m³\n",
              "1      Paris      FR  2019-06-20 23:00:00+00:00  ...       no2  21.8  µg/m³\n",
              "2      Paris      FR  2019-06-20 22:00:00+00:00  ...       no2  26.5  µg/m³\n",
              "3      Paris      FR  2019-06-20 21:00:00+00:00  ...       no2  24.9  µg/m³\n",
              "4      Paris      FR  2019-06-20 20:00:00+00:00  ...       no2  21.4  µg/m³\n",
              "...      ...     ...                        ...  ...       ...   ...    ...\n",
              "3173  London      GB  2019-05-07 06:00:00+00:00  ...      pm25   9.0  µg/m³\n",
              "3174  London      GB  2019-05-07 04:00:00+00:00  ...      pm25   8.0  µg/m³\n",
              "3175  London      GB  2019-05-07 03:00:00+00:00  ...      pm25   8.0  µg/m³\n",
              "3176  London      GB  2019-05-07 02:00:00+00:00  ...      pm25   8.0  µg/m³\n",
              "3177  London      GB  2019-05-07 01:00:00+00:00  ...      pm25   8.0  µg/m³\n",
              "\n",
              "[3178 rows x 7 columns]"
            ]
          },
          "metadata": {
            "tags": []
          },
          "execution_count": 57
        }
      ]
    },
    {
      "cell_type": "code",
      "metadata": {
        "id": "cHuOkkIrMxX-"
      },
      "source": [
        "# air_quality와 stations를 merge\n",
        "result = pd.merge(air_quality, stations)\n",
        "# how='inner', on='location' 생략 가능"
      ],
      "execution_count": 58,
      "outputs": []
    },
    {
      "cell_type": "code",
      "metadata": {
        "colab": {
          "base_uri": "https://localhost:8080/",
          "height": 423
        },
        "id": "AWQ-bOBzNyuN",
        "outputId": "f90b0702-c32a-49bd-e7db-b649ee7d61e0"
      },
      "source": [
        "result"
      ],
      "execution_count": 59,
      "outputs": [
        {
          "output_type": "execute_result",
          "data": {
            "text/html": [
              "<div>\n",
              "<style scoped>\n",
              "    .dataframe tbody tr th:only-of-type {\n",
              "        vertical-align: middle;\n",
              "    }\n",
              "\n",
              "    .dataframe tbody tr th {\n",
              "        vertical-align: top;\n",
              "    }\n",
              "\n",
              "    .dataframe thead th {\n",
              "        text-align: right;\n",
              "    }\n",
              "</style>\n",
              "<table border=\"1\" class=\"dataframe\">\n",
              "  <thead>\n",
              "    <tr style=\"text-align: right;\">\n",
              "      <th></th>\n",
              "      <th>city</th>\n",
              "      <th>country</th>\n",
              "      <th>date.utc</th>\n",
              "      <th>location</th>\n",
              "      <th>parameter</th>\n",
              "      <th>value</th>\n",
              "      <th>unit</th>\n",
              "      <th>coordinates.latitude</th>\n",
              "      <th>coordinates.longitude</th>\n",
              "    </tr>\n",
              "  </thead>\n",
              "  <tbody>\n",
              "    <tr>\n",
              "      <th>0</th>\n",
              "      <td>Paris</td>\n",
              "      <td>FR</td>\n",
              "      <td>2019-06-21 00:00:00+00:00</td>\n",
              "      <td>FR04014</td>\n",
              "      <td>no2</td>\n",
              "      <td>20.0</td>\n",
              "      <td>µg/m³</td>\n",
              "      <td>48.83724</td>\n",
              "      <td>2.39390</td>\n",
              "    </tr>\n",
              "    <tr>\n",
              "      <th>1</th>\n",
              "      <td>Paris</td>\n",
              "      <td>FR</td>\n",
              "      <td>2019-06-21 00:00:00+00:00</td>\n",
              "      <td>FR04014</td>\n",
              "      <td>no2</td>\n",
              "      <td>20.0</td>\n",
              "      <td>µg/m³</td>\n",
              "      <td>48.83722</td>\n",
              "      <td>2.39390</td>\n",
              "    </tr>\n",
              "    <tr>\n",
              "      <th>2</th>\n",
              "      <td>Paris</td>\n",
              "      <td>FR</td>\n",
              "      <td>2019-06-20 23:00:00+00:00</td>\n",
              "      <td>FR04014</td>\n",
              "      <td>no2</td>\n",
              "      <td>21.8</td>\n",
              "      <td>µg/m³</td>\n",
              "      <td>48.83724</td>\n",
              "      <td>2.39390</td>\n",
              "    </tr>\n",
              "    <tr>\n",
              "      <th>3</th>\n",
              "      <td>Paris</td>\n",
              "      <td>FR</td>\n",
              "      <td>2019-06-20 23:00:00+00:00</td>\n",
              "      <td>FR04014</td>\n",
              "      <td>no2</td>\n",
              "      <td>21.8</td>\n",
              "      <td>µg/m³</td>\n",
              "      <td>48.83722</td>\n",
              "      <td>2.39390</td>\n",
              "    </tr>\n",
              "    <tr>\n",
              "      <th>4</th>\n",
              "      <td>Paris</td>\n",
              "      <td>FR</td>\n",
              "      <td>2019-06-20 22:00:00+00:00</td>\n",
              "      <td>FR04014</td>\n",
              "      <td>no2</td>\n",
              "      <td>26.5</td>\n",
              "      <td>µg/m³</td>\n",
              "      <td>48.83724</td>\n",
              "      <td>2.39390</td>\n",
              "    </tr>\n",
              "    <tr>\n",
              "      <th>...</th>\n",
              "      <td>...</td>\n",
              "      <td>...</td>\n",
              "      <td>...</td>\n",
              "      <td>...</td>\n",
              "      <td>...</td>\n",
              "      <td>...</td>\n",
              "      <td>...</td>\n",
              "      <td>...</td>\n",
              "      <td>...</td>\n",
              "    </tr>\n",
              "    <tr>\n",
              "      <th>4177</th>\n",
              "      <td>London</td>\n",
              "      <td>GB</td>\n",
              "      <td>2019-05-07 06:00:00+00:00</td>\n",
              "      <td>London Westminster</td>\n",
              "      <td>pm25</td>\n",
              "      <td>9.0</td>\n",
              "      <td>µg/m³</td>\n",
              "      <td>51.49467</td>\n",
              "      <td>-0.13193</td>\n",
              "    </tr>\n",
              "    <tr>\n",
              "      <th>4178</th>\n",
              "      <td>London</td>\n",
              "      <td>GB</td>\n",
              "      <td>2019-05-07 04:00:00+00:00</td>\n",
              "      <td>London Westminster</td>\n",
              "      <td>pm25</td>\n",
              "      <td>8.0</td>\n",
              "      <td>µg/m³</td>\n",
              "      <td>51.49467</td>\n",
              "      <td>-0.13193</td>\n",
              "    </tr>\n",
              "    <tr>\n",
              "      <th>4179</th>\n",
              "      <td>London</td>\n",
              "      <td>GB</td>\n",
              "      <td>2019-05-07 03:00:00+00:00</td>\n",
              "      <td>London Westminster</td>\n",
              "      <td>pm25</td>\n",
              "      <td>8.0</td>\n",
              "      <td>µg/m³</td>\n",
              "      <td>51.49467</td>\n",
              "      <td>-0.13193</td>\n",
              "    </tr>\n",
              "    <tr>\n",
              "      <th>4180</th>\n",
              "      <td>London</td>\n",
              "      <td>GB</td>\n",
              "      <td>2019-05-07 02:00:00+00:00</td>\n",
              "      <td>London Westminster</td>\n",
              "      <td>pm25</td>\n",
              "      <td>8.0</td>\n",
              "      <td>µg/m³</td>\n",
              "      <td>51.49467</td>\n",
              "      <td>-0.13193</td>\n",
              "    </tr>\n",
              "    <tr>\n",
              "      <th>4181</th>\n",
              "      <td>London</td>\n",
              "      <td>GB</td>\n",
              "      <td>2019-05-07 01:00:00+00:00</td>\n",
              "      <td>London Westminster</td>\n",
              "      <td>pm25</td>\n",
              "      <td>8.0</td>\n",
              "      <td>µg/m³</td>\n",
              "      <td>51.49467</td>\n",
              "      <td>-0.13193</td>\n",
              "    </tr>\n",
              "  </tbody>\n",
              "</table>\n",
              "<p>4182 rows × 9 columns</p>\n",
              "</div>"
            ],
            "text/plain": [
              "        city country  ... coordinates.latitude coordinates.longitude\n",
              "0      Paris      FR  ...             48.83724               2.39390\n",
              "1      Paris      FR  ...             48.83722               2.39390\n",
              "2      Paris      FR  ...             48.83724               2.39390\n",
              "3      Paris      FR  ...             48.83722               2.39390\n",
              "4      Paris      FR  ...             48.83724               2.39390\n",
              "...      ...     ...  ...                  ...                   ...\n",
              "4177  London      GB  ...             51.49467              -0.13193\n",
              "4178  London      GB  ...             51.49467              -0.13193\n",
              "4179  London      GB  ...             51.49467              -0.13193\n",
              "4180  London      GB  ...             51.49467              -0.13193\n",
              "4181  London      GB  ...             51.49467              -0.13193\n",
              "\n",
              "[4182 rows x 9 columns]"
            ]
          },
          "metadata": {
            "tags": []
          },
          "execution_count": 59
        }
      ]
    },
    {
      "cell_type": "code",
      "metadata": {
        "colab": {
          "base_uri": "https://localhost:8080/"
        },
        "id": "iVaMxHZ5Nz61",
        "outputId": "349df6a1-3be4-40f7-faa8-edfad01252f8"
      },
      "source": [
        "result.info()"
      ],
      "execution_count": 60,
      "outputs": [
        {
          "output_type": "stream",
          "text": [
            "<class 'pandas.core.frame.DataFrame'>\n",
            "Int64Index: 4182 entries, 0 to 4181\n",
            "Data columns (total 9 columns):\n",
            " #   Column                 Non-Null Count  Dtype  \n",
            "---  ------                 --------------  -----  \n",
            " 0   city                   4182 non-null   object \n",
            " 1   country                4182 non-null   object \n",
            " 2   date.utc               4182 non-null   object \n",
            " 3   location               4182 non-null   object \n",
            " 4   parameter              4182 non-null   object \n",
            " 5   value                  4182 non-null   float64\n",
            " 6   unit                   4182 non-null   object \n",
            " 7   coordinates.latitude   4182 non-null   float64\n",
            " 8   coordinates.longitude  4182 non-null   float64\n",
            "dtypes: float64(3), object(6)\n",
            "memory usage: 326.7+ KB\n"
          ],
          "name": "stdout"
        }
      ]
    },
    {
      "cell_type": "code",
      "metadata": {
        "colab": {
          "base_uri": "https://localhost:8080/"
        },
        "id": "tDq8rpdePVDh",
        "outputId": "fdbea061-2675-4889-9302-9a9f6b3ec429"
      },
      "source": [
        "air_quality['location'].unique()"
      ],
      "execution_count": 61,
      "outputs": [
        {
          "output_type": "execute_result",
          "data": {
            "text/plain": [
              "array(['FR04014', 'BETR801', 'London Westminster'], dtype=object)"
            ]
          },
          "metadata": {
            "tags": []
          },
          "execution_count": 61
        }
      ]
    },
    {
      "cell_type": "code",
      "metadata": {
        "colab": {
          "base_uri": "https://localhost:8080/",
          "height": 112
        },
        "id": "UmlRHNS8On45",
        "outputId": "c8b3e785-7bc9-4a68-d27b-5978e601735d"
      },
      "source": [
        "stations[stations.location == 'FR04014']"
      ],
      "execution_count": 62,
      "outputs": [
        {
          "output_type": "execute_result",
          "data": {
            "text/html": [
              "<div>\n",
              "<style scoped>\n",
              "    .dataframe tbody tr th:only-of-type {\n",
              "        vertical-align: middle;\n",
              "    }\n",
              "\n",
              "    .dataframe tbody tr th {\n",
              "        vertical-align: top;\n",
              "    }\n",
              "\n",
              "    .dataframe thead th {\n",
              "        text-align: right;\n",
              "    }\n",
              "</style>\n",
              "<table border=\"1\" class=\"dataframe\">\n",
              "  <thead>\n",
              "    <tr style=\"text-align: right;\">\n",
              "      <th></th>\n",
              "      <th>location</th>\n",
              "      <th>coordinates.latitude</th>\n",
              "      <th>coordinates.longitude</th>\n",
              "    </tr>\n",
              "  </thead>\n",
              "  <tbody>\n",
              "    <tr>\n",
              "      <th>26</th>\n",
              "      <td>FR04014</td>\n",
              "      <td>48.83724</td>\n",
              "      <td>2.3939</td>\n",
              "    </tr>\n",
              "    <tr>\n",
              "      <th>27</th>\n",
              "      <td>FR04014</td>\n",
              "      <td>48.83722</td>\n",
              "      <td>2.3939</td>\n",
              "    </tr>\n",
              "  </tbody>\n",
              "</table>\n",
              "</div>"
            ],
            "text/plain": [
              "   location  coordinates.latitude  coordinates.longitude\n",
              "26  FR04014              48.83724                 2.3939\n",
              "27  FR04014              48.83722                 2.3939"
            ]
          },
          "metadata": {
            "tags": []
          },
          "execution_count": 62
        }
      ]
    },
    {
      "cell_type": "markdown",
      "metadata": {
        "id": "pcBxsGlxQCx-"
      },
      "source": [
        "London의 NO2, PM25의 시간에 따른 변화를 시각화"
      ]
    },
    {
      "cell_type": "code",
      "metadata": {
        "id": "TUTG-J0YQKDO"
      },
      "source": [
        "# 데이터프레임의 date.utc 컬럼의 데이터 타입을 'datetime64'으로 변환\n",
        "result['date.utc'] = result['date.utc'].astype('datetime64')"
      ],
      "execution_count": 63,
      "outputs": []
    },
    {
      "cell_type": "code",
      "metadata": {
        "colab": {
          "base_uri": "https://localhost:8080/"
        },
        "id": "ssU1VYfaUR_9",
        "outputId": "816be75f-63f2-442b-f4d6-fcdb98402584"
      },
      "source": [
        "result.info()"
      ],
      "execution_count": 64,
      "outputs": [
        {
          "output_type": "stream",
          "text": [
            "<class 'pandas.core.frame.DataFrame'>\n",
            "Int64Index: 4182 entries, 0 to 4181\n",
            "Data columns (total 9 columns):\n",
            " #   Column                 Non-Null Count  Dtype         \n",
            "---  ------                 --------------  -----         \n",
            " 0   city                   4182 non-null   object        \n",
            " 1   country                4182 non-null   object        \n",
            " 2   date.utc               4182 non-null   datetime64[ns]\n",
            " 3   location               4182 non-null   object        \n",
            " 4   parameter              4182 non-null   object        \n",
            " 5   value                  4182 non-null   float64       \n",
            " 6   unit                   4182 non-null   object        \n",
            " 7   coordinates.latitude   4182 non-null   float64       \n",
            " 8   coordinates.longitude  4182 non-null   float64       \n",
            "dtypes: datetime64[ns](1), float64(3), object(5)\n",
            "memory usage: 326.7+ KB\n"
          ],
          "name": "stdout"
        }
      ]
    },
    {
      "cell_type": "code",
      "metadata": {
        "id": "uCU7d97KUT5X"
      },
      "source": [
        "# result에서 영국 런던 데이터만 선택\n",
        "london = result[result.city == 'London']"
      ],
      "execution_count": 65,
      "outputs": []
    },
    {
      "cell_type": "code",
      "metadata": {
        "colab": {
          "base_uri": "https://localhost:8080/",
          "height": 423
        },
        "id": "SGsxDO-dVg4F",
        "outputId": "510d4e4d-b0e8-4eb0-e9ce-a2125068acf6"
      },
      "source": [
        "london"
      ],
      "execution_count": 66,
      "outputs": [
        {
          "output_type": "execute_result",
          "data": {
            "text/html": [
              "<div>\n",
              "<style scoped>\n",
              "    .dataframe tbody tr th:only-of-type {\n",
              "        vertical-align: middle;\n",
              "    }\n",
              "\n",
              "    .dataframe tbody tr th {\n",
              "        vertical-align: top;\n",
              "    }\n",
              "\n",
              "    .dataframe thead th {\n",
              "        text-align: right;\n",
              "    }\n",
              "</style>\n",
              "<table border=\"1\" class=\"dataframe\">\n",
              "  <thead>\n",
              "    <tr style=\"text-align: right;\">\n",
              "      <th></th>\n",
              "      <th>city</th>\n",
              "      <th>country</th>\n",
              "      <th>date.utc</th>\n",
              "      <th>location</th>\n",
              "      <th>parameter</th>\n",
              "      <th>value</th>\n",
              "      <th>unit</th>\n",
              "      <th>coordinates.latitude</th>\n",
              "      <th>coordinates.longitude</th>\n",
              "    </tr>\n",
              "  </thead>\n",
              "  <tbody>\n",
              "    <tr>\n",
              "      <th>2204</th>\n",
              "      <td>London</td>\n",
              "      <td>GB</td>\n",
              "      <td>2019-06-17 11:00:00</td>\n",
              "      <td>London Westminster</td>\n",
              "      <td>no2</td>\n",
              "      <td>11.0</td>\n",
              "      <td>µg/m³</td>\n",
              "      <td>51.49467</td>\n",
              "      <td>-0.13193</td>\n",
              "    </tr>\n",
              "    <tr>\n",
              "      <th>2205</th>\n",
              "      <td>London</td>\n",
              "      <td>GB</td>\n",
              "      <td>2019-06-17 10:00:00</td>\n",
              "      <td>London Westminster</td>\n",
              "      <td>no2</td>\n",
              "      <td>11.0</td>\n",
              "      <td>µg/m³</td>\n",
              "      <td>51.49467</td>\n",
              "      <td>-0.13193</td>\n",
              "    </tr>\n",
              "    <tr>\n",
              "      <th>2206</th>\n",
              "      <td>London</td>\n",
              "      <td>GB</td>\n",
              "      <td>2019-06-17 09:00:00</td>\n",
              "      <td>London Westminster</td>\n",
              "      <td>no2</td>\n",
              "      <td>11.0</td>\n",
              "      <td>µg/m³</td>\n",
              "      <td>51.49467</td>\n",
              "      <td>-0.13193</td>\n",
              "    </tr>\n",
              "    <tr>\n",
              "      <th>2207</th>\n",
              "      <td>London</td>\n",
              "      <td>GB</td>\n",
              "      <td>2019-06-17 08:00:00</td>\n",
              "      <td>London Westminster</td>\n",
              "      <td>no2</td>\n",
              "      <td>13.0</td>\n",
              "      <td>µg/m³</td>\n",
              "      <td>51.49467</td>\n",
              "      <td>-0.13193</td>\n",
              "    </tr>\n",
              "    <tr>\n",
              "      <th>2208</th>\n",
              "      <td>London</td>\n",
              "      <td>GB</td>\n",
              "      <td>2019-06-17 07:00:00</td>\n",
              "      <td>London Westminster</td>\n",
              "      <td>no2</td>\n",
              "      <td>13.0</td>\n",
              "      <td>µg/m³</td>\n",
              "      <td>51.49467</td>\n",
              "      <td>-0.13193</td>\n",
              "    </tr>\n",
              "    <tr>\n",
              "      <th>...</th>\n",
              "      <td>...</td>\n",
              "      <td>...</td>\n",
              "      <td>...</td>\n",
              "      <td>...</td>\n",
              "      <td>...</td>\n",
              "      <td>...</td>\n",
              "      <td>...</td>\n",
              "      <td>...</td>\n",
              "      <td>...</td>\n",
              "    </tr>\n",
              "    <tr>\n",
              "      <th>4177</th>\n",
              "      <td>London</td>\n",
              "      <td>GB</td>\n",
              "      <td>2019-05-07 06:00:00</td>\n",
              "      <td>London Westminster</td>\n",
              "      <td>pm25</td>\n",
              "      <td>9.0</td>\n",
              "      <td>µg/m³</td>\n",
              "      <td>51.49467</td>\n",
              "      <td>-0.13193</td>\n",
              "    </tr>\n",
              "    <tr>\n",
              "      <th>4178</th>\n",
              "      <td>London</td>\n",
              "      <td>GB</td>\n",
              "      <td>2019-05-07 04:00:00</td>\n",
              "      <td>London Westminster</td>\n",
              "      <td>pm25</td>\n",
              "      <td>8.0</td>\n",
              "      <td>µg/m³</td>\n",
              "      <td>51.49467</td>\n",
              "      <td>-0.13193</td>\n",
              "    </tr>\n",
              "    <tr>\n",
              "      <th>4179</th>\n",
              "      <td>London</td>\n",
              "      <td>GB</td>\n",
              "      <td>2019-05-07 03:00:00</td>\n",
              "      <td>London Westminster</td>\n",
              "      <td>pm25</td>\n",
              "      <td>8.0</td>\n",
              "      <td>µg/m³</td>\n",
              "      <td>51.49467</td>\n",
              "      <td>-0.13193</td>\n",
              "    </tr>\n",
              "    <tr>\n",
              "      <th>4180</th>\n",
              "      <td>London</td>\n",
              "      <td>GB</td>\n",
              "      <td>2019-05-07 02:00:00</td>\n",
              "      <td>London Westminster</td>\n",
              "      <td>pm25</td>\n",
              "      <td>8.0</td>\n",
              "      <td>µg/m³</td>\n",
              "      <td>51.49467</td>\n",
              "      <td>-0.13193</td>\n",
              "    </tr>\n",
              "    <tr>\n",
              "      <th>4181</th>\n",
              "      <td>London</td>\n",
              "      <td>GB</td>\n",
              "      <td>2019-05-07 01:00:00</td>\n",
              "      <td>London Westminster</td>\n",
              "      <td>pm25</td>\n",
              "      <td>8.0</td>\n",
              "      <td>µg/m³</td>\n",
              "      <td>51.49467</td>\n",
              "      <td>-0.13193</td>\n",
              "    </tr>\n",
              "  </tbody>\n",
              "</table>\n",
              "<p>1978 rows × 9 columns</p>\n",
              "</div>"
            ],
            "text/plain": [
              "        city country  ... coordinates.latitude coordinates.longitude\n",
              "2204  London      GB  ...             51.49467              -0.13193\n",
              "2205  London      GB  ...             51.49467              -0.13193\n",
              "2206  London      GB  ...             51.49467              -0.13193\n",
              "2207  London      GB  ...             51.49467              -0.13193\n",
              "2208  London      GB  ...             51.49467              -0.13193\n",
              "...      ...     ...  ...                  ...                   ...\n",
              "4177  London      GB  ...             51.49467              -0.13193\n",
              "4178  London      GB  ...             51.49467              -0.13193\n",
              "4179  London      GB  ...             51.49467              -0.13193\n",
              "4180  London      GB  ...             51.49467              -0.13193\n",
              "4181  London      GB  ...             51.49467              -0.13193\n",
              "\n",
              "[1978 rows x 9 columns]"
            ]
          },
          "metadata": {
            "tags": []
          },
          "execution_count": 66
        }
      ]
    },
    {
      "cell_type": "code",
      "metadata": {
        "colab": {
          "base_uri": "https://localhost:8080/",
          "height": 280
        },
        "id": "IzSt49gvVhpd",
        "outputId": "95770a70-d789-4d6a-dcd2-b837f382a890"
      },
      "source": [
        "fig = plt.figure(figsize=(12, 4))\n",
        "sns.lineplot(data=london, x='date.utc', y='value', hue='parameter')\n",
        "plt.show()"
      ],
      "execution_count": 67,
      "outputs": [
        {
          "output_type": "display_data",
          "data": {
            "image/png": "[encoded data removed]",
            "text/plain": [
              "<Figure size 864x288 with 1 Axes>"
            ]
          },
          "metadata": {
            "tags": [],
            "needs_background": "light"
          }
        }
      ]
    },
    {
      "cell_type": "markdown",
      "metadata": {
        "id": "uVcAPzMTXLU7"
      },
      "source": [
        "# babynames 데이터 셋\n",
        "\n",
        "* https://github.com/wesm/pydata-book/tree/2nd-edition/datasets/babynames/ 데이터 파일들을 사용\n",
        "* 1880년부터 2010년까지 미국 신생아들의 이름, 성별, 출생자수가 정리된 파일\n",
        "* 파일을 하나씩 읽어서 데이터 프레임 생성하세요.\n",
        "* 생성된 데이터 프레임에 year 컬럼을 추가하세요.\n",
        "* 생성된 131개의 데이터 프레임을 하나로 합치세요.\n",
        "* 연도별 신생아 수를 찾고 그래프를 그리세요.\n",
        "* 연도별 성별 신생아 수를 찾고 그래프를 그리세요."
      ]
    },
    {
      "cell_type": "code",
      "metadata": {
        "colab": {
          "base_uri": "https://localhost:8080/",
          "height": 423
        },
        "id": "sDIfwKLe-NNe",
        "outputId": "cb093192-12f9-408b-9233-31c44d70c49f"
      },
      "source": [
        "file1880 = 'https://github.com/wesm/pydata-book/raw/2nd-edition/datasets/babynames/yob1880.txt'\n",
        "yob1880 = pd.read_csv(file1880, names=['name', 'gender', 'births'])\n",
        "yob1880['year'] = 1880\n",
        "yob1880"
      ],
      "execution_count": 73,
      "outputs": [
        {
          "output_type": "execute_result",
          "data": {
            "text/html": [
              "<div>\n",
              "<style scoped>\n",
              "    .dataframe tbody tr th:only-of-type {\n",
              "        vertical-align: middle;\n",
              "    }\n",
              "\n",
              "    .dataframe tbody tr th {\n",
              "        vertical-align: top;\n",
              "    }\n",
              "\n",
              "    .dataframe thead th {\n",
              "        text-align: right;\n",
              "    }\n",
              "</style>\n",
              "<table border=\"1\" class=\"dataframe\">\n",
              "  <thead>\n",
              "    <tr style=\"text-align: right;\">\n",
              "      <th></th>\n",
              "      <th>name</th>\n",
              "      <th>gender</th>\n",
              "      <th>births</th>\n",
              "      <th>year</th>\n",
              "    </tr>\n",
              "  </thead>\n",
              "  <tbody>\n",
              "    <tr>\n",
              "      <th>0</th>\n",
              "      <td>Mary</td>\n",
              "      <td>F</td>\n",
              "      <td>7065</td>\n",
              "      <td>1880</td>\n",
              "    </tr>\n",
              "    <tr>\n",
              "      <th>1</th>\n",
              "      <td>Anna</td>\n",
              "      <td>F</td>\n",
              "      <td>2604</td>\n",
              "      <td>1880</td>\n",
              "    </tr>\n",
              "    <tr>\n",
              "      <th>2</th>\n",
              "      <td>Emma</td>\n",
              "      <td>F</td>\n",
              "      <td>2003</td>\n",
              "      <td>1880</td>\n",
              "    </tr>\n",
              "    <tr>\n",
              "      <th>3</th>\n",
              "      <td>Elizabeth</td>\n",
              "      <td>F</td>\n",
              "      <td>1939</td>\n",
              "      <td>1880</td>\n",
              "    </tr>\n",
              "    <tr>\n",
              "      <th>4</th>\n",
              "      <td>Minnie</td>\n",
              "      <td>F</td>\n",
              "      <td>1746</td>\n",
              "      <td>1880</td>\n",
              "    </tr>\n",
              "    <tr>\n",
              "      <th>...</th>\n",
              "      <td>...</td>\n",
              "      <td>...</td>\n",
              "      <td>...</td>\n",
              "      <td>...</td>\n",
              "    </tr>\n",
              "    <tr>\n",
              "      <th>1995</th>\n",
              "      <td>Woodie</td>\n",
              "      <td>M</td>\n",
              "      <td>5</td>\n",
              "      <td>1880</td>\n",
              "    </tr>\n",
              "    <tr>\n",
              "      <th>1996</th>\n",
              "      <td>Worthy</td>\n",
              "      <td>M</td>\n",
              "      <td>5</td>\n",
              "      <td>1880</td>\n",
              "    </tr>\n",
              "    <tr>\n",
              "      <th>1997</th>\n",
              "      <td>Wright</td>\n",
              "      <td>M</td>\n",
              "      <td>5</td>\n",
              "      <td>1880</td>\n",
              "    </tr>\n",
              "    <tr>\n",
              "      <th>1998</th>\n",
              "      <td>York</td>\n",
              "      <td>M</td>\n",
              "      <td>5</td>\n",
              "      <td>1880</td>\n",
              "    </tr>\n",
              "    <tr>\n",
              "      <th>1999</th>\n",
              "      <td>Zachariah</td>\n",
              "      <td>M</td>\n",
              "      <td>5</td>\n",
              "      <td>1880</td>\n",
              "    </tr>\n",
              "  </tbody>\n",
              "</table>\n",
              "<p>2000 rows × 4 columns</p>\n",
              "</div>"
            ],
            "text/plain": [
              "           name gender  births  year\n",
              "0          Mary      F    7065  1880\n",
              "1          Anna      F    2604  1880\n",
              "2          Emma      F    2003  1880\n",
              "3     Elizabeth      F    1939  1880\n",
              "4        Minnie      F    1746  1880\n",
              "...         ...    ...     ...   ...\n",
              "1995     Woodie      M       5  1880\n",
              "1996     Worthy      M       5  1880\n",
              "1997     Wright      M       5  1880\n",
              "1998       York      M       5  1880\n",
              "1999  Zachariah      M       5  1880\n",
              "\n",
              "[2000 rows x 4 columns]"
            ]
          },
          "metadata": {
            "tags": []
          },
          "execution_count": 73
        }
      ]
    },
    {
      "cell_type": "code",
      "metadata": {
        "id": "8FJkwSC1XRrf"
      },
      "source": [
        "yobs = []  # 각 연도의 데이터프레임을 append할 리스트\n",
        "for year in range(1880, 2011):  # 1880년부터 2010년까지 연도를 반복하면서\n",
        "    # TXT 파일이 저장된 경로\n",
        "    file_path = f'https://github.com/wesm/pydata-book/raw/2nd-edition/datasets/babynames/yob{year}.txt'\n",
        "    # 파일을 읽어서 DataFrame 생성\n",
        "    yob_year = pd.read_csv(file_path, names=['name', 'gender', 'births'])\n",
        "    # 생성된 DataFrame에 연도(year) 컬럼을 추가\n",
        "    yob_year['year'] = year\n",
        "    # 연도의 DataFrame을 리스트에 append\n",
        "    yobs.append(yob_year)"
      ],
      "execution_count": 77,
      "outputs": []
    },
    {
      "cell_type": "code",
      "metadata": {
        "id": "SyYBozy9pAPv",
        "colab": {
          "base_uri": "https://localhost:8080/"
        },
        "outputId": "511989de-6e68-42c7-c900-58972f944e29"
      },
      "source": [
        "# yobs: DataFrame들을 아이템으로 저장하고 있는 list\n",
        "len(yobs)"
      ],
      "execution_count": 82,
      "outputs": [
        {
          "output_type": "execute_result",
          "data": {
            "text/plain": [
              "131"
            ]
          },
          "metadata": {
            "tags": []
          },
          "execution_count": 82
        }
      ]
    },
    {
      "cell_type": "code",
      "metadata": {
        "colab": {
          "base_uri": "https://localhost:8080/",
          "height": 423
        },
        "id": "8hH77nDhDUVQ",
        "outputId": "6f325912-9f52-41fe-92ec-b91e15af549c"
      },
      "source": [
        "yobs[0]  #> 리스트의 (첫번째) 원소는 DataFrame"
      ],
      "execution_count": 83,
      "outputs": [
        {
          "output_type": "execute_result",
          "data": {
            "text/html": [
              "<div>\n",
              "<style scoped>\n",
              "    .dataframe tbody tr th:only-of-type {\n",
              "        vertical-align: middle;\n",
              "    }\n",
              "\n",
              "    .dataframe tbody tr th {\n",
              "        vertical-align: top;\n",
              "    }\n",
              "\n",
              "    .dataframe thead th {\n",
              "        text-align: right;\n",
              "    }\n",
              "</style>\n",
              "<table border=\"1\" class=\"dataframe\">\n",
              "  <thead>\n",
              "    <tr style=\"text-align: right;\">\n",
              "      <th></th>\n",
              "      <th>name</th>\n",
              "      <th>gender</th>\n",
              "      <th>births</th>\n",
              "      <th>year</th>\n",
              "    </tr>\n",
              "  </thead>\n",
              "  <tbody>\n",
              "    <tr>\n",
              "      <th>0</th>\n",
              "      <td>Mary</td>\n",
              "      <td>F</td>\n",
              "      <td>7065</td>\n",
              "      <td>1880</td>\n",
              "    </tr>\n",
              "    <tr>\n",
              "      <th>1</th>\n",
              "      <td>Anna</td>\n",
              "      <td>F</td>\n",
              "      <td>2604</td>\n",
              "      <td>1880</td>\n",
              "    </tr>\n",
              "    <tr>\n",
              "      <th>2</th>\n",
              "      <td>Emma</td>\n",
              "      <td>F</td>\n",
              "      <td>2003</td>\n",
              "      <td>1880</td>\n",
              "    </tr>\n",
              "    <tr>\n",
              "      <th>3</th>\n",
              "      <td>Elizabeth</td>\n",
              "      <td>F</td>\n",
              "      <td>1939</td>\n",
              "      <td>1880</td>\n",
              "    </tr>\n",
              "    <tr>\n",
              "      <th>4</th>\n",
              "      <td>Minnie</td>\n",
              "      <td>F</td>\n",
              "      <td>1746</td>\n",
              "      <td>1880</td>\n",
              "    </tr>\n",
              "    <tr>\n",
              "      <th>...</th>\n",
              "      <td>...</td>\n",
              "      <td>...</td>\n",
              "      <td>...</td>\n",
              "      <td>...</td>\n",
              "    </tr>\n",
              "    <tr>\n",
              "      <th>1995</th>\n",
              "      <td>Woodie</td>\n",
              "      <td>M</td>\n",
              "      <td>5</td>\n",
              "      <td>1880</td>\n",
              "    </tr>\n",
              "    <tr>\n",
              "      <th>1996</th>\n",
              "      <td>Worthy</td>\n",
              "      <td>M</td>\n",
              "      <td>5</td>\n",
              "      <td>1880</td>\n",
              "    </tr>\n",
              "    <tr>\n",
              "      <th>1997</th>\n",
              "      <td>Wright</td>\n",
              "      <td>M</td>\n",
              "      <td>5</td>\n",
              "      <td>1880</td>\n",
              "    </tr>\n",
              "    <tr>\n",
              "      <th>1998</th>\n",
              "      <td>York</td>\n",
              "      <td>M</td>\n",
              "      <td>5</td>\n",
              "      <td>1880</td>\n",
              "    </tr>\n",
              "    <tr>\n",
              "      <th>1999</th>\n",
              "      <td>Zachariah</td>\n",
              "      <td>M</td>\n",
              "      <td>5</td>\n",
              "      <td>1880</td>\n",
              "    </tr>\n",
              "  </tbody>\n",
              "</table>\n",
              "<p>2000 rows × 4 columns</p>\n",
              "</div>"
            ],
            "text/plain": [
              "           name gender  births  year\n",
              "0          Mary      F    7065  1880\n",
              "1          Anna      F    2604  1880\n",
              "2          Emma      F    2003  1880\n",
              "3     Elizabeth      F    1939  1880\n",
              "4        Minnie      F    1746  1880\n",
              "...         ...    ...     ...   ...\n",
              "1995     Woodie      M       5  1880\n",
              "1996     Worthy      M       5  1880\n",
              "1997     Wright      M       5  1880\n",
              "1998       York      M       5  1880\n",
              "1999  Zachariah      M       5  1880\n",
              "\n",
              "[2000 rows x 4 columns]"
            ]
          },
          "metadata": {
            "tags": []
          },
          "execution_count": 83
        }
      ]
    },
    {
      "cell_type": "code",
      "metadata": {
        "colab": {
          "base_uri": "https://localhost:8080/",
          "height": 423
        },
        "id": "9mur7lwMDmMU",
        "outputId": "ac625c8d-5c42-4f87-ce67-d8179c9e2d7e"
      },
      "source": [
        "yobs[-1]"
      ],
      "execution_count": 85,
      "outputs": [
        {
          "output_type": "execute_result",
          "data": {
            "text/html": [
              "<div>\n",
              "<style scoped>\n",
              "    .dataframe tbody tr th:only-of-type {\n",
              "        vertical-align: middle;\n",
              "    }\n",
              "\n",
              "    .dataframe tbody tr th {\n",
              "        vertical-align: top;\n",
              "    }\n",
              "\n",
              "    .dataframe thead th {\n",
              "        text-align: right;\n",
              "    }\n",
              "</style>\n",
              "<table border=\"1\" class=\"dataframe\">\n",
              "  <thead>\n",
              "    <tr style=\"text-align: right;\">\n",
              "      <th></th>\n",
              "      <th>name</th>\n",
              "      <th>gender</th>\n",
              "      <th>births</th>\n",
              "      <th>year</th>\n",
              "    </tr>\n",
              "  </thead>\n",
              "  <tbody>\n",
              "    <tr>\n",
              "      <th>0</th>\n",
              "      <td>Isabella</td>\n",
              "      <td>F</td>\n",
              "      <td>22731</td>\n",
              "      <td>2010</td>\n",
              "    </tr>\n",
              "    <tr>\n",
              "      <th>1</th>\n",
              "      <td>Sophia</td>\n",
              "      <td>F</td>\n",
              "      <td>20477</td>\n",
              "      <td>2010</td>\n",
              "    </tr>\n",
              "    <tr>\n",
              "      <th>2</th>\n",
              "      <td>Emma</td>\n",
              "      <td>F</td>\n",
              "      <td>17179</td>\n",
              "      <td>2010</td>\n",
              "    </tr>\n",
              "    <tr>\n",
              "      <th>3</th>\n",
              "      <td>Olivia</td>\n",
              "      <td>F</td>\n",
              "      <td>16860</td>\n",
              "      <td>2010</td>\n",
              "    </tr>\n",
              "    <tr>\n",
              "      <th>4</th>\n",
              "      <td>Ava</td>\n",
              "      <td>F</td>\n",
              "      <td>15300</td>\n",
              "      <td>2010</td>\n",
              "    </tr>\n",
              "    <tr>\n",
              "      <th>...</th>\n",
              "      <td>...</td>\n",
              "      <td>...</td>\n",
              "      <td>...</td>\n",
              "      <td>...</td>\n",
              "    </tr>\n",
              "    <tr>\n",
              "      <th>33833</th>\n",
              "      <td>Zymaire</td>\n",
              "      <td>M</td>\n",
              "      <td>5</td>\n",
              "      <td>2010</td>\n",
              "    </tr>\n",
              "    <tr>\n",
              "      <th>33834</th>\n",
              "      <td>Zyonne</td>\n",
              "      <td>M</td>\n",
              "      <td>5</td>\n",
              "      <td>2010</td>\n",
              "    </tr>\n",
              "    <tr>\n",
              "      <th>33835</th>\n",
              "      <td>Zyquarius</td>\n",
              "      <td>M</td>\n",
              "      <td>5</td>\n",
              "      <td>2010</td>\n",
              "    </tr>\n",
              "    <tr>\n",
              "      <th>33836</th>\n",
              "      <td>Zyran</td>\n",
              "      <td>M</td>\n",
              "      <td>5</td>\n",
              "      <td>2010</td>\n",
              "    </tr>\n",
              "    <tr>\n",
              "      <th>33837</th>\n",
              "      <td>Zzyzx</td>\n",
              "      <td>M</td>\n",
              "      <td>5</td>\n",
              "      <td>2010</td>\n",
              "    </tr>\n",
              "  </tbody>\n",
              "</table>\n",
              "<p>33838 rows × 4 columns</p>\n",
              "</div>"
            ],
            "text/plain": [
              "            name gender  births  year\n",
              "0       Isabella      F   22731  2010\n",
              "1         Sophia      F   20477  2010\n",
              "2           Emma      F   17179  2010\n",
              "3         Olivia      F   16860  2010\n",
              "4            Ava      F   15300  2010\n",
              "...          ...    ...     ...   ...\n",
              "33833    Zymaire      M       5  2010\n",
              "33834     Zyonne      M       5  2010\n",
              "33835  Zyquarius      M       5  2010\n",
              "33836      Zyran      M       5  2010\n",
              "33837      Zzyzx      M       5  2010\n",
              "\n",
              "[33838 rows x 4 columns]"
            ]
          },
          "metadata": {
            "tags": []
          },
          "execution_count": 85
        }
      ]
    },
    {
      "cell_type": "code",
      "metadata": {
        "id": "o1-8u4fiEiMs"
      },
      "source": [
        "# 131개 DataFrame들을 하나로 합침\n",
        "df = pd.concat(yobs, ignore_index=True)"
      ],
      "execution_count": 86,
      "outputs": []
    },
    {
      "cell_type": "code",
      "metadata": {
        "colab": {
          "base_uri": "https://localhost:8080/"
        },
        "id": "jMmnfqfbE8Yr",
        "outputId": "71e9a277-2345-4940-ae2d-60d8f607eea9"
      },
      "source": [
        "df.info()"
      ],
      "execution_count": 87,
      "outputs": [
        {
          "output_type": "stream",
          "text": [
            "<class 'pandas.core.frame.DataFrame'>\n",
            "RangeIndex: 1690784 entries, 0 to 1690783\n",
            "Data columns (total 4 columns):\n",
            " #   Column  Non-Null Count    Dtype \n",
            "---  ------  --------------    ----- \n",
            " 0   name    1690784 non-null  object\n",
            " 1   gender  1690784 non-null  object\n",
            " 2   births  1690784 non-null  int64 \n",
            " 3   year    1690784 non-null  int64 \n",
            "dtypes: int64(2), object(2)\n",
            "memory usage: 51.6+ MB\n"
          ],
          "name": "stdout"
        }
      ]
    },
    {
      "cell_type": "code",
      "metadata": {
        "colab": {
          "base_uri": "https://localhost:8080/",
          "height": 423
        },
        "id": "3QJz2XeOFM8s",
        "outputId": "b218a496-da5c-4f12-8146-0b1073374937"
      },
      "source": [
        "df"
      ],
      "execution_count": 88,
      "outputs": [
        {
          "output_type": "execute_result",
          "data": {
            "text/html": [
              "<div>\n",
              "<style scoped>\n",
              "    .dataframe tbody tr th:only-of-type {\n",
              "        vertical-align: middle;\n",
              "    }\n",
              "\n",
              "    .dataframe tbody tr th {\n",
              "        vertical-align: top;\n",
              "    }\n",
              "\n",
              "    .dataframe thead th {\n",
              "        text-align: right;\n",
              "    }\n",
              "</style>\n",
              "<table border=\"1\" class=\"dataframe\">\n",
              "  <thead>\n",
              "    <tr style=\"text-align: right;\">\n",
              "      <th></th>\n",
              "      <th>name</th>\n",
              "      <th>gender</th>\n",
              "      <th>births</th>\n",
              "      <th>year</th>\n",
              "    </tr>\n",
              "  </thead>\n",
              "  <tbody>\n",
              "    <tr>\n",
              "      <th>0</th>\n",
              "      <td>Mary</td>\n",
              "      <td>F</td>\n",
              "      <td>7065</td>\n",
              "      <td>1880</td>\n",
              "    </tr>\n",
              "    <tr>\n",
              "      <th>1</th>\n",
              "      <td>Anna</td>\n",
              "      <td>F</td>\n",
              "      <td>2604</td>\n",
              "      <td>1880</td>\n",
              "    </tr>\n",
              "    <tr>\n",
              "      <th>2</th>\n",
              "      <td>Emma</td>\n",
              "      <td>F</td>\n",
              "      <td>2003</td>\n",
              "      <td>1880</td>\n",
              "    </tr>\n",
              "    <tr>\n",
              "      <th>3</th>\n",
              "      <td>Elizabeth</td>\n",
              "      <td>F</td>\n",
              "      <td>1939</td>\n",
              "      <td>1880</td>\n",
              "    </tr>\n",
              "    <tr>\n",
              "      <th>4</th>\n",
              "      <td>Minnie</td>\n",
              "      <td>F</td>\n",
              "      <td>1746</td>\n",
              "      <td>1880</td>\n",
              "    </tr>\n",
              "    <tr>\n",
              "      <th>...</th>\n",
              "      <td>...</td>\n",
              "      <td>...</td>\n",
              "      <td>...</td>\n",
              "      <td>...</td>\n",
              "    </tr>\n",
              "    <tr>\n",
              "      <th>1690779</th>\n",
              "      <td>Zymaire</td>\n",
              "      <td>M</td>\n",
              "      <td>5</td>\n",
              "      <td>2010</td>\n",
              "    </tr>\n",
              "    <tr>\n",
              "      <th>1690780</th>\n",
              "      <td>Zyonne</td>\n",
              "      <td>M</td>\n",
              "      <td>5</td>\n",
              "      <td>2010</td>\n",
              "    </tr>\n",
              "    <tr>\n",
              "      <th>1690781</th>\n",
              "      <td>Zyquarius</td>\n",
              "      <td>M</td>\n",
              "      <td>5</td>\n",
              "      <td>2010</td>\n",
              "    </tr>\n",
              "    <tr>\n",
              "      <th>1690782</th>\n",
              "      <td>Zyran</td>\n",
              "      <td>M</td>\n",
              "      <td>5</td>\n",
              "      <td>2010</td>\n",
              "    </tr>\n",
              "    <tr>\n",
              "      <th>1690783</th>\n",
              "      <td>Zzyzx</td>\n",
              "      <td>M</td>\n",
              "      <td>5</td>\n",
              "      <td>2010</td>\n",
              "    </tr>\n",
              "  </tbody>\n",
              "</table>\n",
              "<p>1690784 rows × 4 columns</p>\n",
              "</div>"
            ],
            "text/plain": [
              "              name gender  births  year\n",
              "0             Mary      F    7065  1880\n",
              "1             Anna      F    2604  1880\n",
              "2             Emma      F    2003  1880\n",
              "3        Elizabeth      F    1939  1880\n",
              "4           Minnie      F    1746  1880\n",
              "...            ...    ...     ...   ...\n",
              "1690779    Zymaire      M       5  2010\n",
              "1690780     Zyonne      M       5  2010\n",
              "1690781  Zyquarius      M       5  2010\n",
              "1690782      Zyran      M       5  2010\n",
              "1690783      Zzyzx      M       5  2010\n",
              "\n",
              "[1690784 rows x 4 columns]"
            ]
          },
          "metadata": {
            "tags": []
          },
          "execution_count": 88
        }
      ]
    },
    {
      "cell_type": "code",
      "metadata": {
        "colab": {
          "base_uri": "https://localhost:8080/"
        },
        "id": "dEanvKh0FW1M",
        "outputId": "acfa3700-c975-4bf5-cf70-cbf0b36fa0f6"
      },
      "source": [
        "# 연도별 신생아 숫자 - 연도별 부분집합에서 births의 합계(sum)을 계산해서 취합\n",
        "births_by_year = df.groupby('year')['births'].sum()\n",
        "births_by_year  #> Series"
      ],
      "execution_count": 89,
      "outputs": [
        {
          "output_type": "execute_result",
          "data": {
            "text/plain": [
              "year\n",
              "1880     201486\n",
              "1881     192703\n",
              "1882     221538\n",
              "1883     216954\n",
              "1884     243466\n",
              "         ...   \n",
              "2006    3946702\n",
              "2007    3986130\n",
              "2008    3915955\n",
              "2009    3801002\n",
              "2010    3657392\n",
              "Name: births, Length: 131, dtype: int64"
            ]
          },
          "metadata": {
            "tags": []
          },
          "execution_count": 89
        }
      ]
    },
    {
      "cell_type": "code",
      "metadata": {
        "colab": {
          "base_uri": "https://localhost:8080/",
          "height": 423
        },
        "id": "GQtVaPWKG9C0",
        "outputId": "2a5db5e9-82ce-4230-cd30-589c453e5d05"
      },
      "source": [
        "births_by_year_df = df.groupby(by='year', as_index=False)['births'].sum()\n",
        "births_by_year_df"
      ],
      "execution_count": 100,
      "outputs": [
        {
          "output_type": "execute_result",
          "data": {
            "text/html": [
              "<div>\n",
              "<style scoped>\n",
              "    .dataframe tbody tr th:only-of-type {\n",
              "        vertical-align: middle;\n",
              "    }\n",
              "\n",
              "    .dataframe tbody tr th {\n",
              "        vertical-align: top;\n",
              "    }\n",
              "\n",
              "    .dataframe thead th {\n",
              "        text-align: right;\n",
              "    }\n",
              "</style>\n",
              "<table border=\"1\" class=\"dataframe\">\n",
              "  <thead>\n",
              "    <tr style=\"text-align: right;\">\n",
              "      <th></th>\n",
              "      <th>year</th>\n",
              "      <th>births</th>\n",
              "    </tr>\n",
              "  </thead>\n",
              "  <tbody>\n",
              "    <tr>\n",
              "      <th>0</th>\n",
              "      <td>1880</td>\n",
              "      <td>201486</td>\n",
              "    </tr>\n",
              "    <tr>\n",
              "      <th>1</th>\n",
              "      <td>1881</td>\n",
              "      <td>192703</td>\n",
              "    </tr>\n",
              "    <tr>\n",
              "      <th>2</th>\n",
              "      <td>1882</td>\n",
              "      <td>221538</td>\n",
              "    </tr>\n",
              "    <tr>\n",
              "      <th>3</th>\n",
              "      <td>1883</td>\n",
              "      <td>216954</td>\n",
              "    </tr>\n",
              "    <tr>\n",
              "      <th>4</th>\n",
              "      <td>1884</td>\n",
              "      <td>243466</td>\n",
              "    </tr>\n",
              "    <tr>\n",
              "      <th>...</th>\n",
              "      <td>...</td>\n",
              "      <td>...</td>\n",
              "    </tr>\n",
              "    <tr>\n",
              "      <th>126</th>\n",
              "      <td>2006</td>\n",
              "      <td>3946702</td>\n",
              "    </tr>\n",
              "    <tr>\n",
              "      <th>127</th>\n",
              "      <td>2007</td>\n",
              "      <td>3986130</td>\n",
              "    </tr>\n",
              "    <tr>\n",
              "      <th>128</th>\n",
              "      <td>2008</td>\n",
              "      <td>3915955</td>\n",
              "    </tr>\n",
              "    <tr>\n",
              "      <th>129</th>\n",
              "      <td>2009</td>\n",
              "      <td>3801002</td>\n",
              "    </tr>\n",
              "    <tr>\n",
              "      <th>130</th>\n",
              "      <td>2010</td>\n",
              "      <td>3657392</td>\n",
              "    </tr>\n",
              "  </tbody>\n",
              "</table>\n",
              "<p>131 rows × 2 columns</p>\n",
              "</div>"
            ],
            "text/plain": [
              "     year   births\n",
              "0    1880   201486\n",
              "1    1881   192703\n",
              "2    1882   221538\n",
              "3    1883   216954\n",
              "4    1884   243466\n",
              "..    ...      ...\n",
              "126  2006  3946702\n",
              "127  2007  3986130\n",
              "128  2008  3915955\n",
              "129  2009  3801002\n",
              "130  2010  3657392\n",
              "\n",
              "[131 rows x 2 columns]"
            ]
          },
          "metadata": {
            "tags": []
          },
          "execution_count": 100
        }
      ]
    },
    {
      "cell_type": "code",
      "metadata": {
        "colab": {
          "base_uri": "https://localhost:8080/",
          "height": 423
        },
        "id": "1SgDLOz0MGOs",
        "outputId": "31506ffb-827b-42db-cdb9-9d43bcc0660d"
      },
      "source": [
        "births_by_year.reset_index()"
      ],
      "execution_count": 93,
      "outputs": [
        {
          "output_type": "execute_result",
          "data": {
            "text/html": [
              "<div>\n",
              "<style scoped>\n",
              "    .dataframe tbody tr th:only-of-type {\n",
              "        vertical-align: middle;\n",
              "    }\n",
              "\n",
              "    .dataframe tbody tr th {\n",
              "        vertical-align: top;\n",
              "    }\n",
              "\n",
              "    .dataframe thead th {\n",
              "        text-align: right;\n",
              "    }\n",
              "</style>\n",
              "<table border=\"1\" class=\"dataframe\">\n",
              "  <thead>\n",
              "    <tr style=\"text-align: right;\">\n",
              "      <th></th>\n",
              "      <th>year</th>\n",
              "      <th>births</th>\n",
              "    </tr>\n",
              "  </thead>\n",
              "  <tbody>\n",
              "    <tr>\n",
              "      <th>0</th>\n",
              "      <td>1880</td>\n",
              "      <td>201486</td>\n",
              "    </tr>\n",
              "    <tr>\n",
              "      <th>1</th>\n",
              "      <td>1881</td>\n",
              "      <td>192703</td>\n",
              "    </tr>\n",
              "    <tr>\n",
              "      <th>2</th>\n",
              "      <td>1882</td>\n",
              "      <td>221538</td>\n",
              "    </tr>\n",
              "    <tr>\n",
              "      <th>3</th>\n",
              "      <td>1883</td>\n",
              "      <td>216954</td>\n",
              "    </tr>\n",
              "    <tr>\n",
              "      <th>4</th>\n",
              "      <td>1884</td>\n",
              "      <td>243466</td>\n",
              "    </tr>\n",
              "    <tr>\n",
              "      <th>...</th>\n",
              "      <td>...</td>\n",
              "      <td>...</td>\n",
              "    </tr>\n",
              "    <tr>\n",
              "      <th>126</th>\n",
              "      <td>2006</td>\n",
              "      <td>3946702</td>\n",
              "    </tr>\n",
              "    <tr>\n",
              "      <th>127</th>\n",
              "      <td>2007</td>\n",
              "      <td>3986130</td>\n",
              "    </tr>\n",
              "    <tr>\n",
              "      <th>128</th>\n",
              "      <td>2008</td>\n",
              "      <td>3915955</td>\n",
              "    </tr>\n",
              "    <tr>\n",
              "      <th>129</th>\n",
              "      <td>2009</td>\n",
              "      <td>3801002</td>\n",
              "    </tr>\n",
              "    <tr>\n",
              "      <th>130</th>\n",
              "      <td>2010</td>\n",
              "      <td>3657392</td>\n",
              "    </tr>\n",
              "  </tbody>\n",
              "</table>\n",
              "<p>131 rows × 2 columns</p>\n",
              "</div>"
            ],
            "text/plain": [
              "     year   births\n",
              "0    1880   201486\n",
              "1    1881   192703\n",
              "2    1882   221538\n",
              "3    1883   216954\n",
              "4    1884   243466\n",
              "..    ...      ...\n",
              "126  2006  3946702\n",
              "127  2007  3986130\n",
              "128  2008  3915955\n",
              "129  2009  3801002\n",
              "130  2010  3657392\n",
              "\n",
              "[131 rows x 2 columns]"
            ]
          },
          "metadata": {
            "tags": []
          },
          "execution_count": 93
        }
      ]
    },
    {
      "cell_type": "code",
      "metadata": {
        "colab": {
          "base_uri": "https://localhost:8080/",
          "height": 290
        },
        "id": "CRfmqF_MMtbe",
        "outputId": "e25ce3d6-cced-48a7-a675-1e8f155159f9"
      },
      "source": [
        "plt.plot(births_by_year)\n",
        "#> Series의 values가 y좌표, Series의 index가 x좌표가 됨.\n",
        "plt.xlabel('year')\n",
        "plt.ylabel('# of births')\n",
        "plt.grid()\n",
        "plt.show()"
      ],
      "execution_count": 96,
      "outputs": [
        {
          "output_type": "display_data",
          "data": {
            "image/png": "[encoded data removed]",
            "text/plain": [
              "<Figure size 432x288 with 1 Axes>"
            ]
          },
          "metadata": {
            "tags": [],
            "needs_background": "light"
          }
        }
      ]
    },
    {
      "cell_type": "code",
      "metadata": {
        "colab": {
          "base_uri": "https://localhost:8080/",
          "height": 295
        },
        "id": "gcBlh7luNjxh",
        "outputId": "ea0f5a59-c152-416e-d60a-948557b6ce99"
      },
      "source": [
        "plt.plot(births_by_year.index, births_by_year.values)"
      ],
      "execution_count": 97,
      "outputs": [
        {
          "output_type": "execute_result",
          "data": {
            "text/plain": [
              "[<matplotlib.lines.Line2D at 0x7ff59baea850>]"
            ]
          },
          "metadata": {
            "tags": []
          },
          "execution_count": 97
        },
        {
          "output_type": "display_data",
          "data": {
            "image/png": "[encoded data removed]",
            "text/plain": [
              "<Figure size 432x288 with 1 Axes>"
            ]
          },
          "metadata": {
            "tags": [],
            "needs_background": "light"
          }
        }
      ]
    },
    {
      "cell_type": "code",
      "metadata": {
        "colab": {
          "base_uri": "https://localhost:8080/",
          "height": 309
        },
        "id": "f3itr9mIN9wx",
        "outputId": "ef4b309f-a93c-485c-e31c-f9cd55371a56"
      },
      "source": [
        "sns.lineplot(x=births_by_year.index, y=births_by_year.values)"
      ],
      "execution_count": 99,
      "outputs": [
        {
          "output_type": "execute_result",
          "data": {
            "text/plain": [
              "<matplotlib.axes._subplots.AxesSubplot at 0x7ff59badf110>"
            ]
          },
          "metadata": {
            "tags": []
          },
          "execution_count": 99
        },
        {
          "output_type": "display_data",
          "data": {
            "image/png": "[encoded data removed]",
            "text/plain": [
              "<Figure size 432x288 with 1 Axes>"
            ]
          },
          "metadata": {
            "tags": [],
            "needs_background": "light"
          }
        }
      ]
    },
    {
      "cell_type": "code",
      "metadata": {
        "colab": {
          "base_uri": "https://localhost:8080/",
          "height": 290
        },
        "id": "X4LK3u9wO9F1",
        "outputId": "3998fe3e-4655-43bd-a268-123960abf688"
      },
      "source": [
        "sns.lineplot(data=births_by_year_df, x='year', y='births')\n",
        "plt.show()"
      ],
      "execution_count": 101,
      "outputs": [
        {
          "output_type": "display_data",
          "data": {
            "image/png": "[encoded data removed]",
            "text/plain": [
              "<Figure size 432x288 with 1 Axes>"
            ]
          },
          "metadata": {
            "tags": [],
            "needs_background": "light"
          }
        }
      ]
    },
    {
      "cell_type": "code",
      "metadata": {
        "colab": {
          "base_uri": "https://localhost:8080/",
          "height": 290
        },
        "id": "C0dHTmsNPFwI",
        "outputId": "449c42e4-888b-439b-beeb-c8aa92ba72e8"
      },
      "source": [
        "# seaborn 패키지의 그래프 함수는 groupby 계산을 직접 수행할 수 있음.\n",
        "sns.lineplot(data=df, x='year', y='births', estimator='sum', err_style=None)\n",
        "plt.show()"
      ],
      "execution_count": 103,
      "outputs": [
        {
          "output_type": "display_data",
          "data": {
            "image/png": "[encoded data removed]",
            "text/plain": [
              "<Figure size 432x288 with 1 Axes>"
            ]
          },
          "metadata": {
            "tags": [],
            "needs_background": "light"
          }
        }
      ]
    },
    {
      "cell_type": "code",
      "metadata": {
        "colab": {
          "base_uri": "https://localhost:8080/",
          "height": 143
        },
        "id": "7jG5jnlDSUcQ",
        "outputId": "485adafb-1d00-447a-ea2c-873ad3573f47"
      },
      "source": [
        "test_df = pd.DataFrame({'v1': [1, 2, 3], 'v2': [4, 5, 6]})\n",
        "test_df"
      ],
      "execution_count": 104,
      "outputs": [
        {
          "output_type": "execute_result",
          "data": {
            "text/html": [
              "<div>\n",
              "<style scoped>\n",
              "    .dataframe tbody tr th:only-of-type {\n",
              "        vertical-align: middle;\n",
              "    }\n",
              "\n",
              "    .dataframe tbody tr th {\n",
              "        vertical-align: top;\n",
              "    }\n",
              "\n",
              "    .dataframe thead th {\n",
              "        text-align: right;\n",
              "    }\n",
              "</style>\n",
              "<table border=\"1\" class=\"dataframe\">\n",
              "  <thead>\n",
              "    <tr style=\"text-align: right;\">\n",
              "      <th></th>\n",
              "      <th>v1</th>\n",
              "      <th>v2</th>\n",
              "    </tr>\n",
              "  </thead>\n",
              "  <tbody>\n",
              "    <tr>\n",
              "      <th>0</th>\n",
              "      <td>1</td>\n",
              "      <td>4</td>\n",
              "    </tr>\n",
              "    <tr>\n",
              "      <th>1</th>\n",
              "      <td>2</td>\n",
              "      <td>5</td>\n",
              "    </tr>\n",
              "    <tr>\n",
              "      <th>2</th>\n",
              "      <td>3</td>\n",
              "      <td>6</td>\n",
              "    </tr>\n",
              "  </tbody>\n",
              "</table>\n",
              "</div>"
            ],
            "text/plain": [
              "   v1  v2\n",
              "0   1   4\n",
              "1   2   5\n",
              "2   3   6"
            ]
          },
          "metadata": {
            "tags": []
          },
          "execution_count": 104
        }
      ]
    },
    {
      "cell_type": "code",
      "metadata": {
        "colab": {
          "base_uri": "https://localhost:8080/"
        },
        "id": "nvrS9DsFSiqH",
        "outputId": "a615db76-8f0d-4235-f74c-7b213dd5b707"
      },
      "source": [
        "test_df.sum()  # axis=0은 생략 가능\n",
        "# axis=None은 axis=0과 동일. -> DataFrame에서는 모든 원소들의 통계값을 계산하는 방법은 없음."
      ],
      "execution_count": 108,
      "outputs": [
        {
          "output_type": "execute_result",
          "data": {
            "text/plain": [
              "v1     6\n",
              "v2    15\n",
              "dtype: int64"
            ]
          },
          "metadata": {
            "tags": []
          },
          "execution_count": 108
        }
      ]
    },
    {
      "cell_type": "code",
      "metadata": {
        "colab": {
          "base_uri": "https://localhost:8080/"
        },
        "id": "Lg8GPNLBTDNc",
        "outputId": "d9eefc9a-8a5b-49df-ee2b-9f3df8625ddc"
      },
      "source": [
        "test_df.sum(axis=1)"
      ],
      "execution_count": 107,
      "outputs": [
        {
          "output_type": "execute_result",
          "data": {
            "text/plain": [
              "0    5\n",
              "1    7\n",
              "2    9\n",
              "dtype: int64"
            ]
          },
          "metadata": {
            "tags": []
          },
          "execution_count": 107
        }
      ]
    },
    {
      "cell_type": "code",
      "metadata": {
        "colab": {
          "base_uri": "https://localhost:8080/",
          "height": 143
        },
        "id": "j9-JzxiGTwH3",
        "outputId": "bc42b90e-4f42-43f4-be22-2397a58dcd47"
      },
      "source": [
        "test_df['name'] = pd.Series(['a', 'b', 'c'])\n",
        "test_df"
      ],
      "execution_count": 109,
      "outputs": [
        {
          "output_type": "execute_result",
          "data": {
            "text/html": [
              "<div>\n",
              "<style scoped>\n",
              "    .dataframe tbody tr th:only-of-type {\n",
              "        vertical-align: middle;\n",
              "    }\n",
              "\n",
              "    .dataframe tbody tr th {\n",
              "        vertical-align: top;\n",
              "    }\n",
              "\n",
              "    .dataframe thead th {\n",
              "        text-align: right;\n",
              "    }\n",
              "</style>\n",
              "<table border=\"1\" class=\"dataframe\">\n",
              "  <thead>\n",
              "    <tr style=\"text-align: right;\">\n",
              "      <th></th>\n",
              "      <th>v1</th>\n",
              "      <th>v2</th>\n",
              "      <th>name</th>\n",
              "    </tr>\n",
              "  </thead>\n",
              "  <tbody>\n",
              "    <tr>\n",
              "      <th>0</th>\n",
              "      <td>1</td>\n",
              "      <td>4</td>\n",
              "      <td>a</td>\n",
              "    </tr>\n",
              "    <tr>\n",
              "      <th>1</th>\n",
              "      <td>2</td>\n",
              "      <td>5</td>\n",
              "      <td>b</td>\n",
              "    </tr>\n",
              "    <tr>\n",
              "      <th>2</th>\n",
              "      <td>3</td>\n",
              "      <td>6</td>\n",
              "      <td>c</td>\n",
              "    </tr>\n",
              "  </tbody>\n",
              "</table>\n",
              "</div>"
            ],
            "text/plain": [
              "   v1  v2 name\n",
              "0   1   4    a\n",
              "1   2   5    b\n",
              "2   3   6    c"
            ]
          },
          "metadata": {
            "tags": []
          },
          "execution_count": 109
        }
      ]
    },
    {
      "cell_type": "code",
      "metadata": {
        "colab": {
          "base_uri": "https://localhost:8080/"
        },
        "id": "Ixyb8WqQT1cG",
        "outputId": "c81d0f7f-b1de-4788-e855-41fbb3dda6b0"
      },
      "source": [
        "test_df.sum()"
      ],
      "execution_count": 110,
      "outputs": [
        {
          "output_type": "execute_result",
          "data": {
            "text/plain": [
              "v1        6\n",
              "v2       15\n",
              "name    abc\n",
              "dtype: object"
            ]
          },
          "metadata": {
            "tags": []
          },
          "execution_count": 110
        }
      ]
    },
    {
      "cell_type": "code",
      "metadata": {
        "colab": {
          "base_uri": "https://localhost:8080/"
        },
        "id": "s8vgmpPpUflG",
        "outputId": "67f548bf-ede8-4c20-8d59-03a2ed406808"
      },
      "source": [
        "test_df[['v1', 'v2']].sum()"
      ],
      "execution_count": 112,
      "outputs": [
        {
          "output_type": "execute_result",
          "data": {
            "text/plain": [
              "v1     6\n",
              "v2    15\n",
              "dtype: int64"
            ]
          },
          "metadata": {
            "tags": []
          },
          "execution_count": 112
        }
      ]
    },
    {
      "cell_type": "code",
      "metadata": {
        "colab": {
          "base_uri": "https://localhost:8080/"
        },
        "id": "S3lyO76YUKOP",
        "outputId": "dd8cbc0c-41c9-4137-dbe7-12a2abf986a4"
      },
      "source": [
        "test_df.sum(axis=1)"
      ],
      "execution_count": 111,
      "outputs": [
        {
          "output_type": "execute_result",
          "data": {
            "text/plain": [
              "0    5\n",
              "1    7\n",
              "2    9\n",
              "dtype: int64"
            ]
          },
          "metadata": {
            "tags": []
          },
          "execution_count": 111
        }
      ]
    },
    {
      "cell_type": "code",
      "metadata": {
        "colab": {
          "base_uri": "https://localhost:8080/",
          "height": 455
        },
        "id": "RpMkWiw1UpCO",
        "outputId": "590381f6-1c85-4908-a754-0be373b2694e"
      },
      "source": [
        "df.groupby('year').sum()"
      ],
      "execution_count": 115,
      "outputs": [
        {
          "output_type": "execute_result",
          "data": {
            "text/html": [
              "<div>\n",
              "<style scoped>\n",
              "    .dataframe tbody tr th:only-of-type {\n",
              "        vertical-align: middle;\n",
              "    }\n",
              "\n",
              "    .dataframe tbody tr th {\n",
              "        vertical-align: top;\n",
              "    }\n",
              "\n",
              "    .dataframe thead th {\n",
              "        text-align: right;\n",
              "    }\n",
              "</style>\n",
              "<table border=\"1\" class=\"dataframe\">\n",
              "  <thead>\n",
              "    <tr style=\"text-align: right;\">\n",
              "      <th></th>\n",
              "      <th>births</th>\n",
              "    </tr>\n",
              "    <tr>\n",
              "      <th>year</th>\n",
              "      <th></th>\n",
              "    </tr>\n",
              "  </thead>\n",
              "  <tbody>\n",
              "    <tr>\n",
              "      <th>1880</th>\n",
              "      <td>201486</td>\n",
              "    </tr>\n",
              "    <tr>\n",
              "      <th>1881</th>\n",
              "      <td>192703</td>\n",
              "    </tr>\n",
              "    <tr>\n",
              "      <th>1882</th>\n",
              "      <td>221538</td>\n",
              "    </tr>\n",
              "    <tr>\n",
              "      <th>1883</th>\n",
              "      <td>216954</td>\n",
              "    </tr>\n",
              "    <tr>\n",
              "      <th>1884</th>\n",
              "      <td>243466</td>\n",
              "    </tr>\n",
              "    <tr>\n",
              "      <th>...</th>\n",
              "      <td>...</td>\n",
              "    </tr>\n",
              "    <tr>\n",
              "      <th>2006</th>\n",
              "      <td>3946702</td>\n",
              "    </tr>\n",
              "    <tr>\n",
              "      <th>2007</th>\n",
              "      <td>3986130</td>\n",
              "    </tr>\n",
              "    <tr>\n",
              "      <th>2008</th>\n",
              "      <td>3915955</td>\n",
              "    </tr>\n",
              "    <tr>\n",
              "      <th>2009</th>\n",
              "      <td>3801002</td>\n",
              "    </tr>\n",
              "    <tr>\n",
              "      <th>2010</th>\n",
              "      <td>3657392</td>\n",
              "    </tr>\n",
              "  </tbody>\n",
              "</table>\n",
              "<p>131 rows × 1 columns</p>\n",
              "</div>"
            ],
            "text/plain": [
              "       births\n",
              "year         \n",
              "1880   201486\n",
              "1881   192703\n",
              "1882   221538\n",
              "1883   216954\n",
              "1884   243466\n",
              "...       ...\n",
              "2006  3946702\n",
              "2007  3986130\n",
              "2008  3915955\n",
              "2009  3801002\n",
              "2010  3657392\n",
              "\n",
              "[131 rows x 1 columns]"
            ]
          },
          "metadata": {
            "tags": []
          },
          "execution_count": 115
        }
      ]
    },
    {
      "cell_type": "code",
      "metadata": {
        "colab": {
          "base_uri": "https://localhost:8080/"
        },
        "id": "t2lf9-AGWnvs",
        "outputId": "13f54ece-1d87-4679-b0cf-f53ad4ddf63a"
      },
      "source": [
        "# 연도별 성별 신생아 수\n",
        "births_by_year_gender = df.groupby(by=['year', 'gender'])['births'].sum()\n",
        "births_by_year_gender"
      ],
      "execution_count": 117,
      "outputs": [
        {
          "output_type": "execute_result",
          "data": {
            "text/plain": [
              "year  gender\n",
              "1880  F           90993\n",
              "      M          110493\n",
              "1881  F           91955\n",
              "      M          100748\n",
              "1882  F          107851\n",
              "                 ...   \n",
              "2008  M         2032310\n",
              "2009  F         1827643\n",
              "      M         1973359\n",
              "2010  F         1759010\n",
              "      M         1898382\n",
              "Name: births, Length: 262, dtype: int64"
            ]
          },
          "metadata": {
            "tags": []
          },
          "execution_count": 117
        }
      ]
    },
    {
      "cell_type": "code",
      "metadata": {
        "colab": {
          "base_uri": "https://localhost:8080/",
          "height": 290
        },
        "id": "cn3vuQpNZy2y",
        "outputId": "0574975d-6660-4ed4-ba7f-76c9c5b4f3fe"
      },
      "source": [
        "sns.lineplot(data=births_by_year_gender, x='year', y=births_by_year_gender.values, hue='gender')\n",
        "plt.show()"
      ],
      "execution_count": 118,
      "outputs": [
        {
          "output_type": "display_data",
          "data": {
            "image/png": "[encoded data removed]",
            "text/plain": [
              "<Figure size 432x288 with 1 Axes>"
            ]
          },
          "metadata": {
            "tags": [],
            "needs_background": "light"
          }
        }
      ]
    },
    {
      "cell_type": "code",
      "metadata": {
        "colab": {
          "base_uri": "https://localhost:8080/",
          "height": 423
        },
        "id": "Tohtgij3asEV",
        "outputId": "b60a9992-8f0f-4869-9c98-fc064ed59238"
      },
      "source": [
        "# df.groupby(by=['year', 'gender'], as_index=False)['births'].sum()\n",
        "births_by_year_gender_df = births_by_year_gender.reset_index()\n",
        "births_by_year_gender_df"
      ],
      "execution_count": 119,
      "outputs": [
        {
          "output_type": "execute_result",
          "data": {
            "text/html": [
              "<div>\n",
              "<style scoped>\n",
              "    .dataframe tbody tr th:only-of-type {\n",
              "        vertical-align: middle;\n",
              "    }\n",
              "\n",
              "    .dataframe tbody tr th {\n",
              "        vertical-align: top;\n",
              "    }\n",
              "\n",
              "    .dataframe thead th {\n",
              "        text-align: right;\n",
              "    }\n",
              "</style>\n",
              "<table border=\"1\" class=\"dataframe\">\n",
              "  <thead>\n",
              "    <tr style=\"text-align: right;\">\n",
              "      <th></th>\n",
              "      <th>year</th>\n",
              "      <th>gender</th>\n",
              "      <th>births</th>\n",
              "    </tr>\n",
              "  </thead>\n",
              "  <tbody>\n",
              "    <tr>\n",
              "      <th>0</th>\n",
              "      <td>1880</td>\n",
              "      <td>F</td>\n",
              "      <td>90993</td>\n",
              "    </tr>\n",
              "    <tr>\n",
              "      <th>1</th>\n",
              "      <td>1880</td>\n",
              "      <td>M</td>\n",
              "      <td>110493</td>\n",
              "    </tr>\n",
              "    <tr>\n",
              "      <th>2</th>\n",
              "      <td>1881</td>\n",
              "      <td>F</td>\n",
              "      <td>91955</td>\n",
              "    </tr>\n",
              "    <tr>\n",
              "      <th>3</th>\n",
              "      <td>1881</td>\n",
              "      <td>M</td>\n",
              "      <td>100748</td>\n",
              "    </tr>\n",
              "    <tr>\n",
              "      <th>4</th>\n",
              "      <td>1882</td>\n",
              "      <td>F</td>\n",
              "      <td>107851</td>\n",
              "    </tr>\n",
              "    <tr>\n",
              "      <th>...</th>\n",
              "      <td>...</td>\n",
              "      <td>...</td>\n",
              "      <td>...</td>\n",
              "    </tr>\n",
              "    <tr>\n",
              "      <th>257</th>\n",
              "      <td>2008</td>\n",
              "      <td>M</td>\n",
              "      <td>2032310</td>\n",
              "    </tr>\n",
              "    <tr>\n",
              "      <th>258</th>\n",
              "      <td>2009</td>\n",
              "      <td>F</td>\n",
              "      <td>1827643</td>\n",
              "    </tr>\n",
              "    <tr>\n",
              "      <th>259</th>\n",
              "      <td>2009</td>\n",
              "      <td>M</td>\n",
              "      <td>1973359</td>\n",
              "    </tr>\n",
              "    <tr>\n",
              "      <th>260</th>\n",
              "      <td>2010</td>\n",
              "      <td>F</td>\n",
              "      <td>1759010</td>\n",
              "    </tr>\n",
              "    <tr>\n",
              "      <th>261</th>\n",
              "      <td>2010</td>\n",
              "      <td>M</td>\n",
              "      <td>1898382</td>\n",
              "    </tr>\n",
              "  </tbody>\n",
              "</table>\n",
              "<p>262 rows × 3 columns</p>\n",
              "</div>"
            ],
            "text/plain": [
              "     year gender   births\n",
              "0    1880      F    90993\n",
              "1    1880      M   110493\n",
              "2    1881      F    91955\n",
              "3    1881      M   100748\n",
              "4    1882      F   107851\n",
              "..    ...    ...      ...\n",
              "257  2008      M  2032310\n",
              "258  2009      F  1827643\n",
              "259  2009      M  1973359\n",
              "260  2010      F  1759010\n",
              "261  2010      M  1898382\n",
              "\n",
              "[262 rows x 3 columns]"
            ]
          },
          "metadata": {
            "tags": []
          },
          "execution_count": 119
        }
      ]
    },
    {
      "cell_type": "code",
      "metadata": {
        "colab": {
          "base_uri": "https://localhost:8080/",
          "height": 290
        },
        "id": "n4S3KNJUazrd",
        "outputId": "cfcea25d-a2a0-4891-adf6-b4c6c7f3e5c5"
      },
      "source": [
        "sns.lineplot(data=births_by_year_gender_df,\n",
        "             x='year', y='births', hue='gender')\n",
        "plt.show()"
      ],
      "execution_count": 120,
      "outputs": [
        {
          "output_type": "display_data",
          "data": {
            "image/png": "[encoded data removed]",
            "text/plain": [
              "<Figure size 432x288 with 1 Axes>"
            ]
          },
          "metadata": {
            "tags": [],
            "needs_background": "light"
          }
        }
      ]
    },
    {
      "cell_type": "code",
      "metadata": {
        "colab": {
          "base_uri": "https://localhost:8080/",
          "height": 276
        },
        "id": "Q3J2Zi3Qbdmk",
        "outputId": "25b93a94-1e2a-4f36-8c08-188e4c7c979e"
      },
      "source": [
        "boys = births_by_year_gender_df[births_by_year_gender_df.gender == 'M']\n",
        "girls = births_by_year_gender_df[births_by_year_gender_df.gender == 'F']\n",
        "\n",
        "plt.plot(boys.year, boys.births, label='Male')\n",
        "plt.plot(girls.year, girls.births, label='Female')\n",
        "plt.legend()\n",
        "plt.show()"
      ],
      "execution_count": 123,
      "outputs": [
        {
          "output_type": "display_data",
          "data": {
            "image/png": "[encoded data removed]",
            "text/plain": [
              "<Figure size 432x288 with 1 Axes>"
            ]
          },
          "metadata": {
            "tags": [],
            "needs_background": "light"
          }
        }
      ]
    },
    {
      "cell_type": "code",
      "metadata": {
        "colab": {
          "base_uri": "https://localhost:8080/",
          "height": 290
        },
        "id": "I1lcM647bqA8",
        "outputId": "e607c9c0-7002-46b0-d4f8-9eef3242bd3a"
      },
      "source": [
        "# seaborn 함수들의 groupby 자동 연산 기능\n",
        "sns.lineplot(data=df, x='year', y='births', hue='gender', estimator='sum', err_style=None)\n",
        "plt.show()"
      ],
      "execution_count": 124,
      "outputs": [
        {
          "output_type": "display_data",
          "data": {
            "image/png": "[encoded data removed]",
            "text/plain": [
              "<Figure size 432x288 with 1 Axes>"
            ]
          },
          "metadata": {
            "tags": [],
            "needs_background": "light"
          }
        }
      ]
    }
  ]
}
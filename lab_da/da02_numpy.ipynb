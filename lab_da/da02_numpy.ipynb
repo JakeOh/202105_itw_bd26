{
  "nbformat": 4,
  "nbformat_minor": 0,
  "metadata": {
    "colab": {
      "name": "da02_numpy.ipynb",
      "provenance": [],
      "collapsed_sections": [],
      "authorship_tag": "ABX9TyOjrfyJ9/a/TLg7o3cCePQq",
      "include_colab_link": true
    },
    "kernelspec": {
      "name": "python3",
      "display_name": "Python 3"
    },
    "language_info": {
      "name": "python"
    }
  },
  "cells": [
    {
      "cell_type": "markdown",
      "metadata": {
        "id": "view-in-github",
        "colab_type": "text"
      },
      "source": [
        "<a href=\"https://colab.research.google.com/github/JakeOh/202105_itw_bd26/blob/main/lab_da/da02_numpy.ipynb\" target=\"_parent\"><img src=\"https://colab.research.google.com/assets/colab-badge.svg\" alt=\"Open In Colab\"/></a>"
      ]
    },
    {
      "cell_type": "code",
      "metadata": {
        "id": "cbBroJb_DnPy"
      },
      "source": [
        "import numpy as np"
      ],
      "execution_count": 1,
      "outputs": []
    },
    {
      "cell_type": "markdown",
      "metadata": {
        "id": "2GYXuNmcD-w1"
      },
      "source": [
        "# Array Indexing"
      ]
    },
    {
      "cell_type": "code",
      "metadata": {
        "colab": {
          "base_uri": "https://localhost:8080/"
        },
        "id": "_SqcnAw9Dz1h",
        "outputId": "40bd7dac-a73e-4f54-9b35-4cef00eeb4a2"
      },
      "source": [
        "arr = np.arange(10)\n",
        "print(arr)"
      ],
      "execution_count": 2,
      "outputs": [
        {
          "output_type": "stream",
          "text": [
            "[0 1 2 3 4 5 6 7 8 9]\n"
          ],
          "name": "stdout"
        }
      ]
    },
    {
      "cell_type": "code",
      "metadata": {
        "colab": {
          "base_uri": "https://localhost:8080/"
        },
        "id": "YN5IBiXcEG7E",
        "outputId": "48c8f601-5676-4839-d09d-7e571536c959"
      },
      "source": [
        "# indexing: 인덱스를 사용해서 배열의 원소 참조\n",
        "print(arr[0])  # 시작 인덱스는 0\n",
        "print(arr[9])  # 배열의 마지막 인덱스는 원소개수 - 1\n",
        "print(arr[-1])"
      ],
      "execution_count": 5,
      "outputs": [
        {
          "output_type": "stream",
          "text": [
            "0\n",
            "9\n",
            "9\n"
          ],
          "name": "stdout"
        }
      ]
    },
    {
      "cell_type": "code",
      "metadata": {
        "colab": {
          "base_uri": "https://localhost:8080/"
        },
        "id": "Vdz8ljZmEvx9",
        "outputId": "04457699-48a2-4bc6-8ff1-cb65affd34d3"
      },
      "source": [
        "# slicing: [start, end) 범위의 원소들로 이루어진 부분집합(배열)\n",
        "print(arr[0:5])\n",
        "print(arr[:5])  # 시작 인덱스 0은 생략 가능\n",
        "print(arr[5:])  # 끝 인덱스가 생략되면 배열의 끝까지 slicing\n",
        "print(arr[-3:])"
      ],
      "execution_count": 9,
      "outputs": [
        {
          "output_type": "stream",
          "text": [
            "[0 1 2 3 4]\n",
            "[0 1 2 3 4]\n",
            "[5 6 7 8 9]\n",
            "[7 8 9]\n"
          ],
          "name": "stdout"
        }
      ]
    },
    {
      "cell_type": "markdown",
      "metadata": {
        "id": "2_zxRm2YFjdt"
      },
      "source": [
        "## fancy indexing\n",
        "\n",
        "* 배열과 비슷한 객체(ndarry, list, tuple, ...)를 사용해서 indexing하는 방법\n",
        "* fancy indexing의 결과는 ndarray!\n"
      ]
    },
    {
      "cell_type": "code",
      "metadata": {
        "colab": {
          "base_uri": "https://localhost:8080/"
        },
        "id": "4_EcwzKtFQi2",
        "outputId": "83d7b89f-5995-4ae8-dcc3-bd3e58b5fef8"
      },
      "source": [
        "np.random.seed(1)\n",
        "arr = np.random.randint(100, size=10)\n",
        "print(arr)"
      ],
      "execution_count": 16,
      "outputs": [
        {
          "output_type": "stream",
          "text": [
            "[37 12 72  9 75  5 79 64 16  1]\n"
          ],
          "name": "stdout"
        }
      ]
    },
    {
      "cell_type": "code",
      "metadata": {
        "colab": {
          "base_uri": "https://localhost:8080/"
        },
        "id": "Y9obv-mEFyOE",
        "outputId": "09db1113-0352-484a-916d-c98a61afd9a4"
      },
      "source": [
        "print(arr[[1, 3, 5]])"
      ],
      "execution_count": 19,
      "outputs": [
        {
          "output_type": "stream",
          "text": [
            "[12  9  5]\n"
          ],
          "name": "stdout"
        }
      ]
    },
    {
      "cell_type": "code",
      "metadata": {
        "colab": {
          "base_uri": "https://localhost:8080/"
        },
        "id": "PWQq43NqGiEf",
        "outputId": "2076804c-7225-4dfb-c38f-b754133a58cd"
      },
      "source": [
        "print(arr[1])  # indexing: 원소 하나를 참조\n",
        "print(arr[[1]])  # fancy indexing: 원소 하나를 갖는 ndarray"
      ],
      "execution_count": 20,
      "outputs": [
        {
          "output_type": "stream",
          "text": [
            "12\n",
            "[12]\n"
          ],
          "name": "stdout"
        }
      ]
    },
    {
      "cell_type": "markdown",
      "metadata": {
        "id": "NWd_P0f4HQXV"
      },
      "source": [
        "## boolean indexing\n",
        "\n",
        "* 논릿값(True, False)들의 배열(리스트, 튜플)을 사용한 fancy indexing\n",
        "* 조건을 만족하는 원소들로 이루어진 부분집합 ndarray를 생성\n"
      ]
    },
    {
      "cell_type": "code",
      "metadata": {
        "colab": {
          "base_uri": "https://localhost:8080/"
        },
        "id": "8edHcY4NG1dF",
        "outputId": "3689c179-253a-4fcb-f425-5c60c4111229"
      },
      "source": [
        "bools = np.array([True, False] * 5)\n",
        "print(bools)\n",
        "print(arr)\n",
        "print(arr[bools])"
      ],
      "execution_count": 23,
      "outputs": [
        {
          "output_type": "stream",
          "text": [
            "[ True False  True False  True False  True False  True False]\n",
            "[37 12 72  9 75  5 79 64 16  1]\n",
            "[37 72 75 79 16]\n"
          ],
          "name": "stdout"
        }
      ]
    },
    {
      "cell_type": "code",
      "metadata": {
        "colab": {
          "base_uri": "https://localhost:8080/"
        },
        "id": "nvU1YrPLIfQn",
        "outputId": "b6573e73-9079-41b7-8f24-24fbbd07fcaf"
      },
      "source": [
        "# arr의 원소들 중 짝수들로만 이루어진 ndarray\n",
        "print(arr)\n",
        "print(arr % 2 == 0)  # element-wise 연산\n",
        "print(arr[arr % 2 == 0])"
      ],
      "execution_count": 26,
      "outputs": [
        {
          "output_type": "stream",
          "text": [
            "[37 12 72  9 75  5 79 64 16  1]\n",
            "[False  True  True False False False False  True  True False]\n",
            "[12 72 64 16]\n"
          ],
          "name": "stdout"
        }
      ]
    },
    {
      "cell_type": "code",
      "metadata": {
        "colab": {
          "base_uri": "https://localhost:8080/"
        },
        "id": "9nvRk4KrJYih",
        "outputId": "06839a89-3d91-491d-d23f-c1d61d79c614"
      },
      "source": [
        "# arr 원소들 중 홀수들로만 이루어진 ndarray\n",
        "arr[arr % 2 == 1]"
      ],
      "execution_count": 27,
      "outputs": [
        {
          "output_type": "execute_result",
          "data": {
            "text/plain": [
              "array([37,  9, 75,  5, 79,  1])"
            ]
          },
          "metadata": {
            "tags": []
          },
          "execution_count": 27
        }
      ]
    },
    {
      "cell_type": "markdown",
      "metadata": {
        "id": "wdTRqs3xKoKM"
      },
      "source": [
        "# 통계 함수/메서드\n",
        "\n",
        "* 함수: `np.function_name(ndarry)`\n",
        "* 메서드: `np.ndarray.method_name()`\n"
      ]
    },
    {
      "cell_type": "code",
      "metadata": {
        "colab": {
          "base_uri": "https://localhost:8080/"
        },
        "id": "YsxtKmawLID0",
        "outputId": "d37e6691-7796-40f7-95aa-445e6d0d90d9"
      },
      "source": [
        "print(arr)\n",
        "print(np.sum(arr))  # 함수\n",
        "print(arr.sum())  # 메서드"
      ],
      "execution_count": 30,
      "outputs": [
        {
          "output_type": "stream",
          "text": [
            "[37 12 72  9 75  5 79 64 16  1]\n",
            "370\n",
            "370\n"
          ],
          "name": "stdout"
        }
      ]
    },
    {
      "cell_type": "code",
      "metadata": {
        "colab": {
          "base_uri": "https://localhost:8080/"
        },
        "id": "KoYSTLOZQwIm",
        "outputId": "8b415f88-6177-4368-9ebd-60c2a78bb5f3"
      },
      "source": [
        "print('평균:', np.mean(arr), arr.mean())\n",
        "print('분산:', np.var(arr), arr.var())  # variance\n",
        "print('표준편차:', np.std(arr), arr.std())  # standard deviation\n",
        "print('최댓값:', np.max(arr), arr.max())\n",
        "print('최솟값:', np.min(arr), arr.min())\n",
        "print('중앙값:', np.median(arr))  # 메서드는 제공되지 않음!"
      ],
      "execution_count": 33,
      "outputs": [
        {
          "output_type": "stream",
          "text": [
            "평균: 37.0 37.0\n",
            "분산: 933.2 933.2\n",
            "표준편차: 30.548322376196047 30.548322376196047\n",
            "최댓값: 79 79\n",
            "최솟값: 1 1\n",
            "중앙값: 26.5\n"
          ],
          "name": "stdout"
        }
      ]
    },
    {
      "cell_type": "code",
      "metadata": {
        "colab": {
          "base_uri": "https://localhost:8080/"
        },
        "id": "I15uO_XQSJLu",
        "outputId": "8cf89b18-5271-4486-a314-fe7467429b06"
      },
      "source": [
        "# np.max()와 np.maximum() 차이점\n",
        "# np.max(array): array의 최댓값을 리턴\n",
        "# np.maximum(a1, a2): 배열(과 비슷한 객체) a1, a2의 같은 인덱스에 있는 원소들끼리 비교, 최댓값들로 이루어진 배열.\n",
        "\n",
        "np.random.seed(42)\n",
        "arr1 = np.random.randint(100, size=10)\n",
        "arr2 = np.random.randint(100, size=10)\n",
        "print(arr1)\n",
        "print(arr2)\n",
        "\n",
        "maxima = np.maximum(arr1, arr2)\n",
        "print(maxima)"
      ],
      "execution_count": 34,
      "outputs": [
        {
          "output_type": "stream",
          "text": [
            "[51 92 14 71 60 20 82 86 74 74]\n",
            "[87 99 23  2 21 52  1 87 29 37]\n",
            "[87 99 23 71 60 52 82 87 74 74]\n"
          ],
          "name": "stdout"
        }
      ]
    },
    {
      "cell_type": "code",
      "metadata": {
        "colab": {
          "base_uri": "https://localhost:8080/"
        },
        "id": "m_fG1tnfUTBV",
        "outputId": "987d9c7f-57aa-4f6c-dc0d-56427e0c98fc"
      },
      "source": [
        "# np.argmax(array), np.ndarray.argmax(): 배열의 최댓값의 인덱스를 리턴.\n",
        "# np.argmin(array), np.ndarray.argmin(): 배열의 최솟값의 인덱스를 리턴.\n",
        "print(arr)\n",
        "print(np.argmax(arr))\n",
        "print(np.argmin(arr))"
      ],
      "execution_count": 37,
      "outputs": [
        {
          "output_type": "stream",
          "text": [
            "[37 12 72  9 75  5 79 64 16  1]\n",
            "6\n",
            "9\n"
          ],
          "name": "stdout"
        }
      ]
    },
    {
      "cell_type": "markdown",
      "metadata": {
        "id": "9LqDO088U6Hk"
      },
      "source": [
        "0 이상 100 미만의 정수 난수 10개로 이루어진 1차원 배열을 생성하고 출력.\n",
        "\n",
        "배열에서 평균보다 큰 값들로 이루어진 배열을 만들고 출력."
      ]
    },
    {
      "cell_type": "code",
      "metadata": {
        "colab": {
          "base_uri": "https://localhost:8080/"
        },
        "id": "RwXnaWUKVQfU",
        "outputId": "94a689c2-d3c9-4f27-89e1-fdbf916685ca"
      },
      "source": [
        "np.random.seed(0)\n",
        "arr = np.random.randint(100, size=10)\n",
        "print(arr)\n",
        "print(np.mean(arr))  # arr.mean()\n",
        "bigger_than_mean = arr[arr > np.mean(arr)]  # boolean indexing\n",
        "print(bigger_than_mean)"
      ],
      "execution_count": 40,
      "outputs": [
        {
          "output_type": "stream",
          "text": [
            "[44 47 64 67 67  9 83 21 36 87]\n",
            "52.5\n",
            "[64 67 67 83 87]\n"
          ],
          "name": "stdout"
        }
      ]
    },
    {
      "cell_type": "markdown",
      "metadata": {
        "id": "33x5yfAMWl5n"
      },
      "source": [
        "## 2차원 배열에서의 통계 함수/메서드"
      ]
    },
    {
      "cell_type": "code",
      "metadata": {
        "colab": {
          "base_uri": "https://localhost:8080/"
        },
        "id": "NXO1Rf_XV4nM",
        "outputId": "08336ef0-4d1e-4556-d241-0890d2c27fb0"
      },
      "source": [
        "np.random.seed(2)\n",
        "arr = np.random.randint(100, size=(3, 4))\n",
        "print(arr)"
      ],
      "execution_count": 41,
      "outputs": [
        {
          "output_type": "stream",
          "text": [
            "[[40 15 72 22]\n",
            " [43 82 75  7]\n",
            " [34 49 95 75]]\n"
          ],
          "name": "stdout"
        }
      ]
    },
    {
      "cell_type": "code",
      "metadata": {
        "colab": {
          "base_uri": "https://localhost:8080/"
        },
        "id": "tvCLEOe2XCjU",
        "outputId": "a1d37664-3ffa-48c4-fee1-535c74ea1c69"
      },
      "source": [
        "# 2차원 배열의 모든 원소들의 합\n",
        "np.sum(arr)  # arr.sum()"
      ],
      "execution_count": 42,
      "outputs": [
        {
          "output_type": "execute_result",
          "data": {
            "text/plain": [
              "609"
            ]
          },
          "metadata": {
            "tags": []
          },
          "execution_count": 42
        }
      ]
    },
    {
      "cell_type": "code",
      "metadata": {
        "colab": {
          "base_uri": "https://localhost:8080/"
        },
        "id": "mbY6VVdsX0wF",
        "outputId": "8993eb87-5f96-4ac2-c27a-3ddcb3c4a1f4"
      },
      "source": [
        "np.sum(arr, axis=0)  # row index가 증가하는 방향으로 sum 계산\n",
        "#> (4,) shape의 1차원 배열"
      ],
      "execution_count": 43,
      "outputs": [
        {
          "output_type": "execute_result",
          "data": {
            "text/plain": [
              "array([117, 146, 242, 104])"
            ]
          },
          "metadata": {
            "tags": []
          },
          "execution_count": 43
        }
      ]
    },
    {
      "cell_type": "code",
      "metadata": {
        "colab": {
          "base_uri": "https://localhost:8080/"
        },
        "id": "CA5_HIIrYzv0",
        "outputId": "c01dca45-ad83-4921-de50-feedfbe43afd"
      },
      "source": [
        "np.sum(arr, axis=1)  # column index가 증가하는 방향으로 sum 계산\n",
        "#> (3,) shape의 1차원 배열"
      ],
      "execution_count": 44,
      "outputs": [
        {
          "output_type": "execute_result",
          "data": {
            "text/plain": [
              "array([149, 207, 253])"
            ]
          },
          "metadata": {
            "tags": []
          },
          "execution_count": 44
        }
      ]
    },
    {
      "cell_type": "code",
      "metadata": {
        "colab": {
          "base_uri": "https://localhost:8080/"
        },
        "id": "-WWADwy0Y-w9",
        "outputId": "b63c87f0-63eb-4e6b-fb99-8adf67bed5bc"
      },
      "source": [
        "arr.sum(axis=0, keepdims=True)  #> (1, 4) shape 2차원 배열"
      ],
      "execution_count": 45,
      "outputs": [
        {
          "output_type": "execute_result",
          "data": {
            "text/plain": [
              "array([[117, 146, 242, 104]])"
            ]
          },
          "metadata": {
            "tags": []
          },
          "execution_count": 45
        }
      ]
    },
    {
      "cell_type": "code",
      "metadata": {
        "colab": {
          "base_uri": "https://localhost:8080/"
        },
        "id": "RZoWzYj6aB6t",
        "outputId": "1618dadd-cccb-481a-a4ba-6008164f9ccd"
      },
      "source": [
        "arr.sum(axis=1, keepdims=True)  #> (3, 1) shape 2차원 배열"
      ],
      "execution_count": 46,
      "outputs": [
        {
          "output_type": "execute_result",
          "data": {
            "text/plain": [
              "array([[149],\n",
              "       [207],\n",
              "       [253]])"
            ]
          },
          "metadata": {
            "tags": []
          },
          "execution_count": 46
        }
      ]
    }
  ]
}
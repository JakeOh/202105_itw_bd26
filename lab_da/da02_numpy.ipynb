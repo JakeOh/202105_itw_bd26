{
  "nbformat": 4,
  "nbformat_minor": 0,
  "metadata": {
    "colab": {
      "name": "da02_numpy.ipynb",
      "provenance": [],
      "collapsed_sections": [],
      "authorship_tag": "ABX9TyN6wD5DEZCKfbdZRwnCYO6z",
      "include_colab_link": true
    },
    "kernelspec": {
      "name": "python3",
      "display_name": "Python 3"
    },
    "language_info": {
      "name": "python"
    }
  },
  "cells": [
    {
      "cell_type": "markdown",
      "metadata": {
        "id": "view-in-github",
        "colab_type": "text"
      },
      "source": [
        "<a href=\"https://colab.research.google.com/github/JakeOh/202105_itw_bd26/blob/main/lab_da/da02_numpy.ipynb\" target=\"_parent\"><img src=\"https://colab.research.google.com/assets/colab-badge.svg\" alt=\"Open In Colab\"/></a>"
      ]
    },
    {
      "cell_type": "code",
      "metadata": {
        "id": "cbBroJb_DnPy"
      },
      "source": [
        "import numpy as np"
      ],
      "execution_count": 1,
      "outputs": []
    },
    {
      "cell_type": "markdown",
      "metadata": {
        "id": "2GYXuNmcD-w1"
      },
      "source": [
        "# Array Indexing"
      ]
    },
    {
      "cell_type": "code",
      "metadata": {
        "colab": {
          "base_uri": "https://localhost:8080/"
        },
        "id": "_SqcnAw9Dz1h",
        "outputId": "40bd7dac-a73e-4f54-9b35-4cef00eeb4a2"
      },
      "source": [
        "arr = np.arange(10)\n",
        "print(arr)"
      ],
      "execution_count": 2,
      "outputs": [
        {
          "output_type": "stream",
          "text": [
            "[0 1 2 3 4 5 6 7 8 9]\n"
          ],
          "name": "stdout"
        }
      ]
    },
    {
      "cell_type": "code",
      "metadata": {
        "colab": {
          "base_uri": "https://localhost:8080/"
        },
        "id": "YN5IBiXcEG7E",
        "outputId": "48c8f601-5676-4839-d09d-7e571536c959"
      },
      "source": [
        "# indexing: 인덱스를 사용해서 배열의 원소 참조\n",
        "print(arr[0])  # 시작 인덱스는 0\n",
        "print(arr[9])  # 배열의 마지막 인덱스는 원소개수 - 1\n",
        "print(arr[-1])"
      ],
      "execution_count": 5,
      "outputs": [
        {
          "output_type": "stream",
          "text": [
            "0\n",
            "9\n",
            "9\n"
          ],
          "name": "stdout"
        }
      ]
    },
    {
      "cell_type": "code",
      "metadata": {
        "colab": {
          "base_uri": "https://localhost:8080/"
        },
        "id": "Vdz8ljZmEvx9",
        "outputId": "04457699-48a2-4bc6-8ff1-cb65affd34d3"
      },
      "source": [
        "# slicing: [start, end) 범위의 원소들로 이루어진 부분집합(배열)\n",
        "print(arr[0:5])\n",
        "print(arr[:5])  # 시작 인덱스 0은 생략 가능\n",
        "print(arr[5:])  # 끝 인덱스가 생략되면 배열의 끝까지 slicing\n",
        "print(arr[-3:])"
      ],
      "execution_count": 9,
      "outputs": [
        {
          "output_type": "stream",
          "text": [
            "[0 1 2 3 4]\n",
            "[0 1 2 3 4]\n",
            "[5 6 7 8 9]\n",
            "[7 8 9]\n"
          ],
          "name": "stdout"
        }
      ]
    },
    {
      "cell_type": "markdown",
      "metadata": {
        "id": "2_zxRm2YFjdt"
      },
      "source": [
        "## fancy indexing\n",
        "\n",
        "* 배열과 비슷한 객체(ndarry, list, tuple, ...)를 사용해서 indexing하는 방법\n",
        "* fancy indexing의 결과는 ndarray!\n"
      ]
    },
    {
      "cell_type": "code",
      "metadata": {
        "colab": {
          "base_uri": "https://localhost:8080/"
        },
        "id": "4_EcwzKtFQi2",
        "outputId": "83d7b89f-5995-4ae8-dcc3-bd3e58b5fef8"
      },
      "source": [
        "np.random.seed(1)\n",
        "arr = np.random.randint(100, size=10)\n",
        "print(arr)"
      ],
      "execution_count": 16,
      "outputs": [
        {
          "output_type": "stream",
          "text": [
            "[37 12 72  9 75  5 79 64 16  1]\n"
          ],
          "name": "stdout"
        }
      ]
    },
    {
      "cell_type": "code",
      "metadata": {
        "colab": {
          "base_uri": "https://localhost:8080/"
        },
        "id": "Y9obv-mEFyOE",
        "outputId": "09db1113-0352-484a-916d-c98a61afd9a4"
      },
      "source": [
        "print(arr[[1, 3, 5]])"
      ],
      "execution_count": 19,
      "outputs": [
        {
          "output_type": "stream",
          "text": [
            "[12  9  5]\n"
          ],
          "name": "stdout"
        }
      ]
    },
    {
      "cell_type": "code",
      "metadata": {
        "colab": {
          "base_uri": "https://localhost:8080/"
        },
        "id": "PWQq43NqGiEf",
        "outputId": "2076804c-7225-4dfb-c38f-b754133a58cd"
      },
      "source": [
        "print(arr[1])  # indexing: 원소 하나를 참조\n",
        "print(arr[[1]])  # fancy indexing: 원소 하나를 갖는 ndarray"
      ],
      "execution_count": 20,
      "outputs": [
        {
          "output_type": "stream",
          "text": [
            "12\n",
            "[12]\n"
          ],
          "name": "stdout"
        }
      ]
    },
    {
      "cell_type": "markdown",
      "metadata": {
        "id": "NWd_P0f4HQXV"
      },
      "source": [
        "## boolean indexing\n",
        "\n",
        "* 논릿값(True, False)들의 배열(리스트, 튜플)을 사용한 fancy indexing\n",
        "* 조건을 만족하는 원소들로 이루어진 부분집합 ndarray를 생성\n"
      ]
    },
    {
      "cell_type": "code",
      "metadata": {
        "colab": {
          "base_uri": "https://localhost:8080/"
        },
        "id": "8edHcY4NG1dF",
        "outputId": "3689c179-253a-4fcb-f425-5c60c4111229"
      },
      "source": [
        "bools = np.array([True, False] * 5)\n",
        "print(bools)\n",
        "print(arr)\n",
        "print(arr[bools])"
      ],
      "execution_count": 23,
      "outputs": [
        {
          "output_type": "stream",
          "text": [
            "[ True False  True False  True False  True False  True False]\n",
            "[37 12 72  9 75  5 79 64 16  1]\n",
            "[37 72 75 79 16]\n"
          ],
          "name": "stdout"
        }
      ]
    },
    {
      "cell_type": "code",
      "metadata": {
        "colab": {
          "base_uri": "https://localhost:8080/"
        },
        "id": "nvU1YrPLIfQn",
        "outputId": "b6573e73-9079-41b7-8f24-24fbbd07fcaf"
      },
      "source": [
        "# arr의 원소들 중 짝수들로만 이루어진 ndarray\n",
        "print(arr)\n",
        "print(arr % 2 == 0)  # element-wise 연산\n",
        "print(arr[arr % 2 == 0])"
      ],
      "execution_count": 26,
      "outputs": [
        {
          "output_type": "stream",
          "text": [
            "[37 12 72  9 75  5 79 64 16  1]\n",
            "[False  True  True False False False False  True  True False]\n",
            "[12 72 64 16]\n"
          ],
          "name": "stdout"
        }
      ]
    },
    {
      "cell_type": "code",
      "metadata": {
        "colab": {
          "base_uri": "https://localhost:8080/"
        },
        "id": "9nvRk4KrJYih",
        "outputId": "06839a89-3d91-491d-d23f-c1d61d79c614"
      },
      "source": [
        "# arr 원소들 중 홀수들로만 이루어진 ndarray\n",
        "arr[arr % 2 == 1]"
      ],
      "execution_count": 27,
      "outputs": [
        {
          "output_type": "execute_result",
          "data": {
            "text/plain": [
              "array([37,  9, 75,  5, 79,  1])"
            ]
          },
          "metadata": {
            "tags": []
          },
          "execution_count": 27
        }
      ]
    },
    {
      "cell_type": "markdown",
      "metadata": {
        "id": "wdTRqs3xKoKM"
      },
      "source": [
        "# 통계 함수/메서드\n",
        "\n",
        "* 함수: `np.function_name(ndarry)`\n",
        "* 메서드: `np.ndarray.method_name()`\n"
      ]
    },
    {
      "cell_type": "code",
      "metadata": {
        "colab": {
          "base_uri": "https://localhost:8080/"
        },
        "id": "YsxtKmawLID0",
        "outputId": "d37e6691-7796-40f7-95aa-445e6d0d90d9"
      },
      "source": [
        "print(arr)\n",
        "print(np.sum(arr))  # 함수\n",
        "print(arr.sum())  # 메서드"
      ],
      "execution_count": 30,
      "outputs": [
        {
          "output_type": "stream",
          "text": [
            "[37 12 72  9 75  5 79 64 16  1]\n",
            "370\n",
            "370\n"
          ],
          "name": "stdout"
        }
      ]
    }
  ]
}
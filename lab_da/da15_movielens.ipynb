{
  "nbformat": 4,
  "nbformat_minor": 0,
  "metadata": {
    "colab": {
      "name": "da15_movielens.ipynb",
      "provenance": [],
      "collapsed_sections": [],
      "authorship_tag": "ABX9TyMB6TbHxljVzRi/+eMgRE9j",
      "include_colab_link": true
    },
    "kernelspec": {
      "name": "python3",
      "display_name": "Python 3"
    },
    "language_info": {
      "name": "python"
    }
  },
  "cells": [
    {
      "cell_type": "markdown",
      "metadata": {
        "id": "view-in-github",
        "colab_type": "text"
      },
      "source": [
        "<a href=\"https://colab.research.google.com/github/JakeOh/202105_itw_bd26/blob/main/lab_da/da15_movielens.ipynb\" target=\"_parent\"><img src=\"https://colab.research.google.com/assets/colab-badge.svg\" alt=\"Open In Colab\"/></a>"
      ]
    },
    {
      "cell_type": "code",
      "metadata": {
        "id": "O1xe0Q9Y4GgZ"
      },
      "source": [
        "import matplotlib.pyplot as plt\n",
        "import numpy as np\n",
        "import pandas as pd\n",
        "import seaborn as sns"
      ],
      "execution_count": 1,
      "outputs": []
    },
    {
      "cell_type": "code",
      "metadata": {
        "id": "iRkGLOHv4Va9"
      },
      "source": [
        "# 데이터 파일들이 저장된 경로\n",
        "movies_file = 'https://github.com/wesm/pydata-book/raw/2nd-edition/datasets/movielens/movies.dat'\n",
        "ratings_file = 'https://github.com/wesm/pydata-book/raw/2nd-edition/datasets/movielens/ratings.dat'\n",
        "users_file = 'https://github.com/wesm/pydata-book/raw/2nd-edition/datasets/movielens/users.dat'"
      ],
      "execution_count": 2,
      "outputs": []
    },
    {
      "cell_type": "markdown",
      "metadata": {
        "id": "Ge0M3OD_5lxL"
      },
      "source": [
        "각 파일을 읽고 데이터프레임 3개를 생성."
      ]
    },
    {
      "cell_type": "code",
      "metadata": {
        "id": "jg_e9aqp5M__"
      },
      "source": [
        "# 데이터 프레임의 컬럼 이름들\n",
        "movies_col = ['movie_id', 'title', 'genres']\n",
        "ratings_col = ['user_id', 'movie_id', 'rating', 'timestamp']\n",
        "users_col = ['user_id', 'gender', 'age', 'occupation', 'zip_code']"
      ],
      "execution_count": 3,
      "outputs": []
    },
    {
      "cell_type": "code",
      "metadata": {
        "id": "XTId5T5Q8FHs"
      },
      "source": [
        "movies = pd.read_csv(movies_file, sep='::', engine='python',\n",
        "                     encoding='cp1252',\n",
        "                     names=movies_col)"
      ],
      "execution_count": 4,
      "outputs": []
    },
    {
      "cell_type": "code",
      "metadata": {
        "colab": {
          "base_uri": "https://localhost:8080/",
          "height": 206
        },
        "id": "gnopNt36Ex9F",
        "outputId": "b6f6cad5-eec8-4358-948f-80f5c54da7ba"
      },
      "source": [
        "movies.head()"
      ],
      "execution_count": 5,
      "outputs": [
        {
          "output_type": "execute_result",
          "data": {
            "text/html": [
              "<div>\n",
              "<style scoped>\n",
              "    .dataframe tbody tr th:only-of-type {\n",
              "        vertical-align: middle;\n",
              "    }\n",
              "\n",
              "    .dataframe tbody tr th {\n",
              "        vertical-align: top;\n",
              "    }\n",
              "\n",
              "    .dataframe thead th {\n",
              "        text-align: right;\n",
              "    }\n",
              "</style>\n",
              "<table border=\"1\" class=\"dataframe\">\n",
              "  <thead>\n",
              "    <tr style=\"text-align: right;\">\n",
              "      <th></th>\n",
              "      <th>movie_id</th>\n",
              "      <th>title</th>\n",
              "      <th>genres</th>\n",
              "    </tr>\n",
              "  </thead>\n",
              "  <tbody>\n",
              "    <tr>\n",
              "      <th>0</th>\n",
              "      <td>1</td>\n",
              "      <td>Toy Story (1995)</td>\n",
              "      <td>Animation|Children's|Comedy</td>\n",
              "    </tr>\n",
              "    <tr>\n",
              "      <th>1</th>\n",
              "      <td>2</td>\n",
              "      <td>Jumanji (1995)</td>\n",
              "      <td>Adventure|Children's|Fantasy</td>\n",
              "    </tr>\n",
              "    <tr>\n",
              "      <th>2</th>\n",
              "      <td>3</td>\n",
              "      <td>Grumpier Old Men (1995)</td>\n",
              "      <td>Comedy|Romance</td>\n",
              "    </tr>\n",
              "    <tr>\n",
              "      <th>3</th>\n",
              "      <td>4</td>\n",
              "      <td>Waiting to Exhale (1995)</td>\n",
              "      <td>Comedy|Drama</td>\n",
              "    </tr>\n",
              "    <tr>\n",
              "      <th>4</th>\n",
              "      <td>5</td>\n",
              "      <td>Father of the Bride Part II (1995)</td>\n",
              "      <td>Comedy</td>\n",
              "    </tr>\n",
              "  </tbody>\n",
              "</table>\n",
              "</div>"
            ],
            "text/plain": [
              "   movie_id                               title                        genres\n",
              "0         1                    Toy Story (1995)   Animation|Children's|Comedy\n",
              "1         2                      Jumanji (1995)  Adventure|Children's|Fantasy\n",
              "2         3             Grumpier Old Men (1995)                Comedy|Romance\n",
              "3         4            Waiting to Exhale (1995)                  Comedy|Drama\n",
              "4         5  Father of the Bride Part II (1995)                        Comedy"
            ]
          },
          "metadata": {
            "tags": []
          },
          "execution_count": 5
        }
      ]
    },
    {
      "cell_type": "code",
      "metadata": {
        "id": "IwnYtYuhEzuN"
      },
      "source": [
        "ratings = pd.read_csv(ratings_file, sep='::', engine='python', names=ratings_col)"
      ],
      "execution_count": 6,
      "outputs": []
    },
    {
      "cell_type": "code",
      "metadata": {
        "colab": {
          "base_uri": "https://localhost:8080/",
          "height": 206
        },
        "id": "Q7UxzsYkFRWN",
        "outputId": "78941352-74e4-4cde-cbca-7cb97b9a90ef"
      },
      "source": [
        "ratings.head()"
      ],
      "execution_count": 7,
      "outputs": [
        {
          "output_type": "execute_result",
          "data": {
            "text/html": [
              "<div>\n",
              "<style scoped>\n",
              "    .dataframe tbody tr th:only-of-type {\n",
              "        vertical-align: middle;\n",
              "    }\n",
              "\n",
              "    .dataframe tbody tr th {\n",
              "        vertical-align: top;\n",
              "    }\n",
              "\n",
              "    .dataframe thead th {\n",
              "        text-align: right;\n",
              "    }\n",
              "</style>\n",
              "<table border=\"1\" class=\"dataframe\">\n",
              "  <thead>\n",
              "    <tr style=\"text-align: right;\">\n",
              "      <th></th>\n",
              "      <th>user_id</th>\n",
              "      <th>movie_id</th>\n",
              "      <th>rating</th>\n",
              "      <th>timestamp</th>\n",
              "    </tr>\n",
              "  </thead>\n",
              "  <tbody>\n",
              "    <tr>\n",
              "      <th>0</th>\n",
              "      <td>1</td>\n",
              "      <td>1193</td>\n",
              "      <td>5</td>\n",
              "      <td>978300760</td>\n",
              "    </tr>\n",
              "    <tr>\n",
              "      <th>1</th>\n",
              "      <td>1</td>\n",
              "      <td>661</td>\n",
              "      <td>3</td>\n",
              "      <td>978302109</td>\n",
              "    </tr>\n",
              "    <tr>\n",
              "      <th>2</th>\n",
              "      <td>1</td>\n",
              "      <td>914</td>\n",
              "      <td>3</td>\n",
              "      <td>978301968</td>\n",
              "    </tr>\n",
              "    <tr>\n",
              "      <th>3</th>\n",
              "      <td>1</td>\n",
              "      <td>3408</td>\n",
              "      <td>4</td>\n",
              "      <td>978300275</td>\n",
              "    </tr>\n",
              "    <tr>\n",
              "      <th>4</th>\n",
              "      <td>1</td>\n",
              "      <td>2355</td>\n",
              "      <td>5</td>\n",
              "      <td>978824291</td>\n",
              "    </tr>\n",
              "  </tbody>\n",
              "</table>\n",
              "</div>"
            ],
            "text/plain": [
              "   user_id  movie_id  rating  timestamp\n",
              "0        1      1193       5  978300760\n",
              "1        1       661       3  978302109\n",
              "2        1       914       3  978301968\n",
              "3        1      3408       4  978300275\n",
              "4        1      2355       5  978824291"
            ]
          },
          "metadata": {
            "tags": []
          },
          "execution_count": 7
        }
      ]
    },
    {
      "cell_type": "code",
      "metadata": {
        "id": "FwzdxI7WFV_c"
      },
      "source": [
        "users = pd.read_csv(users_file, sep='::', engine='python', names=users_col)"
      ],
      "execution_count": 8,
      "outputs": []
    },
    {
      "cell_type": "code",
      "metadata": {
        "colab": {
          "base_uri": "https://localhost:8080/",
          "height": 206
        },
        "id": "P7W5HcXnF4Ct",
        "outputId": "273850f7-92ce-4ce2-9b79-d72ca767efec"
      },
      "source": [
        "users.head()"
      ],
      "execution_count": 9,
      "outputs": [
        {
          "output_type": "execute_result",
          "data": {
            "text/html": [
              "<div>\n",
              "<style scoped>\n",
              "    .dataframe tbody tr th:only-of-type {\n",
              "        vertical-align: middle;\n",
              "    }\n",
              "\n",
              "    .dataframe tbody tr th {\n",
              "        vertical-align: top;\n",
              "    }\n",
              "\n",
              "    .dataframe thead th {\n",
              "        text-align: right;\n",
              "    }\n",
              "</style>\n",
              "<table border=\"1\" class=\"dataframe\">\n",
              "  <thead>\n",
              "    <tr style=\"text-align: right;\">\n",
              "      <th></th>\n",
              "      <th>user_id</th>\n",
              "      <th>gender</th>\n",
              "      <th>age</th>\n",
              "      <th>occupation</th>\n",
              "      <th>zip_code</th>\n",
              "    </tr>\n",
              "  </thead>\n",
              "  <tbody>\n",
              "    <tr>\n",
              "      <th>0</th>\n",
              "      <td>1</td>\n",
              "      <td>F</td>\n",
              "      <td>1</td>\n",
              "      <td>10</td>\n",
              "      <td>48067</td>\n",
              "    </tr>\n",
              "    <tr>\n",
              "      <th>1</th>\n",
              "      <td>2</td>\n",
              "      <td>M</td>\n",
              "      <td>56</td>\n",
              "      <td>16</td>\n",
              "      <td>70072</td>\n",
              "    </tr>\n",
              "    <tr>\n",
              "      <th>2</th>\n",
              "      <td>3</td>\n",
              "      <td>M</td>\n",
              "      <td>25</td>\n",
              "      <td>15</td>\n",
              "      <td>55117</td>\n",
              "    </tr>\n",
              "    <tr>\n",
              "      <th>3</th>\n",
              "      <td>4</td>\n",
              "      <td>M</td>\n",
              "      <td>45</td>\n",
              "      <td>7</td>\n",
              "      <td>02460</td>\n",
              "    </tr>\n",
              "    <tr>\n",
              "      <th>4</th>\n",
              "      <td>5</td>\n",
              "      <td>M</td>\n",
              "      <td>25</td>\n",
              "      <td>20</td>\n",
              "      <td>55455</td>\n",
              "    </tr>\n",
              "  </tbody>\n",
              "</table>\n",
              "</div>"
            ],
            "text/plain": [
              "   user_id gender  age  occupation zip_code\n",
              "0        1      F    1          10    48067\n",
              "1        2      M   56          16    70072\n",
              "2        3      M   25          15    55117\n",
              "3        4      M   45           7    02460\n",
              "4        5      M   25          20    55455"
            ]
          },
          "metadata": {
            "tags": []
          },
          "execution_count": 9
        }
      ]
    },
    {
      "cell_type": "code",
      "metadata": {
        "colab": {
          "base_uri": "https://localhost:8080/"
        },
        "id": "nFP9OWSqF62c",
        "outputId": "69caa60b-4d2d-418c-95f9-d04a9f081b5c"
      },
      "source": [
        "movies.info()"
      ],
      "execution_count": 10,
      "outputs": [
        {
          "output_type": "stream",
          "text": [
            "<class 'pandas.core.frame.DataFrame'>\n",
            "RangeIndex: 3883 entries, 0 to 3882\n",
            "Data columns (total 3 columns):\n",
            " #   Column    Non-Null Count  Dtype \n",
            "---  ------    --------------  ----- \n",
            " 0   movie_id  3883 non-null   int64 \n",
            " 1   title     3883 non-null   object\n",
            " 2   genres    3883 non-null   object\n",
            "dtypes: int64(1), object(2)\n",
            "memory usage: 91.1+ KB\n"
          ],
          "name": "stdout"
        }
      ]
    },
    {
      "cell_type": "code",
      "metadata": {
        "colab": {
          "base_uri": "https://localhost:8080/"
        },
        "id": "tNvmekFjGvxw",
        "outputId": "b0443db4-e9e2-4984-9f5e-299be59583d8"
      },
      "source": [
        "ratings.info()"
      ],
      "execution_count": 11,
      "outputs": [
        {
          "output_type": "stream",
          "text": [
            "<class 'pandas.core.frame.DataFrame'>\n",
            "RangeIndex: 1000209 entries, 0 to 1000208\n",
            "Data columns (total 4 columns):\n",
            " #   Column     Non-Null Count    Dtype\n",
            "---  ------     --------------    -----\n",
            " 0   user_id    1000209 non-null  int64\n",
            " 1   movie_id   1000209 non-null  int64\n",
            " 2   rating     1000209 non-null  int64\n",
            " 3   timestamp  1000209 non-null  int64\n",
            "dtypes: int64(4)\n",
            "memory usage: 30.5 MB\n"
          ],
          "name": "stdout"
        }
      ]
    },
    {
      "cell_type": "code",
      "metadata": {
        "colab": {
          "base_uri": "https://localhost:8080/"
        },
        "id": "SDiksoRiGxat",
        "outputId": "3884b2cb-5e95-449a-c02a-9b29761f1621"
      },
      "source": [
        "users.info()"
      ],
      "execution_count": 12,
      "outputs": [
        {
          "output_type": "stream",
          "text": [
            "<class 'pandas.core.frame.DataFrame'>\n",
            "RangeIndex: 6040 entries, 0 to 6039\n",
            "Data columns (total 5 columns):\n",
            " #   Column      Non-Null Count  Dtype \n",
            "---  ------      --------------  ----- \n",
            " 0   user_id     6040 non-null   int64 \n",
            " 1   gender      6040 non-null   object\n",
            " 2   age         6040 non-null   int64 \n",
            " 3   occupation  6040 non-null   int64 \n",
            " 4   zip_code    6040 non-null   object\n",
            "dtypes: int64(3), object(2)\n",
            "memory usage: 236.1+ KB\n"
          ],
          "name": "stdout"
        }
      ]
    },
    {
      "cell_type": "markdown",
      "metadata": {
        "id": "TiNxCjAo5sMD"
      },
      "source": [
        "\n",
        "* ratings와 movies 데이터프레임을 합침(merge).\n",
        "* 위 결과에 users 데이터프레임을 합침(merge).\n"
      ]
    },
    {
      "cell_type": "code",
      "metadata": {
        "id": "3tL7_5k57BP7"
      },
      "source": [
        "df = pd.merge(ratings, movies, how='inner', on='movie_id')"
      ],
      "execution_count": 13,
      "outputs": []
    },
    {
      "cell_type": "code",
      "metadata": {
        "colab": {
          "base_uri": "https://localhost:8080/",
          "height": 206
        },
        "id": "FmwNi5pQHvK-",
        "outputId": "1484ea79-85f0-45bf-a71f-d7251bfb0122"
      },
      "source": [
        "df.head()"
      ],
      "execution_count": 14,
      "outputs": [
        {
          "output_type": "execute_result",
          "data": {
            "text/html": [
              "<div>\n",
              "<style scoped>\n",
              "    .dataframe tbody tr th:only-of-type {\n",
              "        vertical-align: middle;\n",
              "    }\n",
              "\n",
              "    .dataframe tbody tr th {\n",
              "        vertical-align: top;\n",
              "    }\n",
              "\n",
              "    .dataframe thead th {\n",
              "        text-align: right;\n",
              "    }\n",
              "</style>\n",
              "<table border=\"1\" class=\"dataframe\">\n",
              "  <thead>\n",
              "    <tr style=\"text-align: right;\">\n",
              "      <th></th>\n",
              "      <th>user_id</th>\n",
              "      <th>movie_id</th>\n",
              "      <th>rating</th>\n",
              "      <th>timestamp</th>\n",
              "      <th>title</th>\n",
              "      <th>genres</th>\n",
              "    </tr>\n",
              "  </thead>\n",
              "  <tbody>\n",
              "    <tr>\n",
              "      <th>0</th>\n",
              "      <td>1</td>\n",
              "      <td>1193</td>\n",
              "      <td>5</td>\n",
              "      <td>978300760</td>\n",
              "      <td>One Flew Over the Cuckoo's Nest (1975)</td>\n",
              "      <td>Drama</td>\n",
              "    </tr>\n",
              "    <tr>\n",
              "      <th>1</th>\n",
              "      <td>2</td>\n",
              "      <td>1193</td>\n",
              "      <td>5</td>\n",
              "      <td>978298413</td>\n",
              "      <td>One Flew Over the Cuckoo's Nest (1975)</td>\n",
              "      <td>Drama</td>\n",
              "    </tr>\n",
              "    <tr>\n",
              "      <th>2</th>\n",
              "      <td>12</td>\n",
              "      <td>1193</td>\n",
              "      <td>4</td>\n",
              "      <td>978220179</td>\n",
              "      <td>One Flew Over the Cuckoo's Nest (1975)</td>\n",
              "      <td>Drama</td>\n",
              "    </tr>\n",
              "    <tr>\n",
              "      <th>3</th>\n",
              "      <td>15</td>\n",
              "      <td>1193</td>\n",
              "      <td>4</td>\n",
              "      <td>978199279</td>\n",
              "      <td>One Flew Over the Cuckoo's Nest (1975)</td>\n",
              "      <td>Drama</td>\n",
              "    </tr>\n",
              "    <tr>\n",
              "      <th>4</th>\n",
              "      <td>17</td>\n",
              "      <td>1193</td>\n",
              "      <td>5</td>\n",
              "      <td>978158471</td>\n",
              "      <td>One Flew Over the Cuckoo's Nest (1975)</td>\n",
              "      <td>Drama</td>\n",
              "    </tr>\n",
              "  </tbody>\n",
              "</table>\n",
              "</div>"
            ],
            "text/plain": [
              "   user_id  movie_id  ...                                   title  genres\n",
              "0        1      1193  ...  One Flew Over the Cuckoo's Nest (1975)   Drama\n",
              "1        2      1193  ...  One Flew Over the Cuckoo's Nest (1975)   Drama\n",
              "2       12      1193  ...  One Flew Over the Cuckoo's Nest (1975)   Drama\n",
              "3       15      1193  ...  One Flew Over the Cuckoo's Nest (1975)   Drama\n",
              "4       17      1193  ...  One Flew Over the Cuckoo's Nest (1975)   Drama\n",
              "\n",
              "[5 rows x 6 columns]"
            ]
          },
          "metadata": {
            "tags": []
          },
          "execution_count": 14
        }
      ]
    },
    {
      "cell_type": "code",
      "metadata": {
        "colab": {
          "base_uri": "https://localhost:8080/"
        },
        "id": "mB4pY53VHv9U",
        "outputId": "045fc447-1c5f-4e1f-8220-3e8efc65341f"
      },
      "source": [
        "df.info()"
      ],
      "execution_count": 15,
      "outputs": [
        {
          "output_type": "stream",
          "text": [
            "<class 'pandas.core.frame.DataFrame'>\n",
            "Int64Index: 1000209 entries, 0 to 1000208\n",
            "Data columns (total 6 columns):\n",
            " #   Column     Non-Null Count    Dtype \n",
            "---  ------     --------------    ----- \n",
            " 0   user_id    1000209 non-null  int64 \n",
            " 1   movie_id   1000209 non-null  int64 \n",
            " 2   rating     1000209 non-null  int64 \n",
            " 3   timestamp  1000209 non-null  int64 \n",
            " 4   title      1000209 non-null  object\n",
            " 5   genres     1000209 non-null  object\n",
            "dtypes: int64(4), object(2)\n",
            "memory usage: 53.4+ MB\n"
          ],
          "name": "stdout"
        }
      ]
    },
    {
      "cell_type": "code",
      "metadata": {
        "id": "aseDBNqVISG_"
      },
      "source": [
        "df = pd.merge(df, users, how='inner', on='user_id')"
      ],
      "execution_count": 16,
      "outputs": []
    },
    {
      "cell_type": "code",
      "metadata": {
        "colab": {
          "base_uri": "https://localhost:8080/",
          "height": 206
        },
        "id": "EIur1PeQIYuN",
        "outputId": "731c5ba4-4563-40a5-bcc4-9fe996244ef5"
      },
      "source": [
        "df.head()"
      ],
      "execution_count": 17,
      "outputs": [
        {
          "output_type": "execute_result",
          "data": {
            "text/html": [
              "<div>\n",
              "<style scoped>\n",
              "    .dataframe tbody tr th:only-of-type {\n",
              "        vertical-align: middle;\n",
              "    }\n",
              "\n",
              "    .dataframe tbody tr th {\n",
              "        vertical-align: top;\n",
              "    }\n",
              "\n",
              "    .dataframe thead th {\n",
              "        text-align: right;\n",
              "    }\n",
              "</style>\n",
              "<table border=\"1\" class=\"dataframe\">\n",
              "  <thead>\n",
              "    <tr style=\"text-align: right;\">\n",
              "      <th></th>\n",
              "      <th>user_id</th>\n",
              "      <th>movie_id</th>\n",
              "      <th>rating</th>\n",
              "      <th>timestamp</th>\n",
              "      <th>title</th>\n",
              "      <th>genres</th>\n",
              "      <th>gender</th>\n",
              "      <th>age</th>\n",
              "      <th>occupation</th>\n",
              "      <th>zip_code</th>\n",
              "    </tr>\n",
              "  </thead>\n",
              "  <tbody>\n",
              "    <tr>\n",
              "      <th>0</th>\n",
              "      <td>1</td>\n",
              "      <td>1193</td>\n",
              "      <td>5</td>\n",
              "      <td>978300760</td>\n",
              "      <td>One Flew Over the Cuckoo's Nest (1975)</td>\n",
              "      <td>Drama</td>\n",
              "      <td>F</td>\n",
              "      <td>1</td>\n",
              "      <td>10</td>\n",
              "      <td>48067</td>\n",
              "    </tr>\n",
              "    <tr>\n",
              "      <th>1</th>\n",
              "      <td>1</td>\n",
              "      <td>661</td>\n",
              "      <td>3</td>\n",
              "      <td>978302109</td>\n",
              "      <td>James and the Giant Peach (1996)</td>\n",
              "      <td>Animation|Children's|Musical</td>\n",
              "      <td>F</td>\n",
              "      <td>1</td>\n",
              "      <td>10</td>\n",
              "      <td>48067</td>\n",
              "    </tr>\n",
              "    <tr>\n",
              "      <th>2</th>\n",
              "      <td>1</td>\n",
              "      <td>914</td>\n",
              "      <td>3</td>\n",
              "      <td>978301968</td>\n",
              "      <td>My Fair Lady (1964)</td>\n",
              "      <td>Musical|Romance</td>\n",
              "      <td>F</td>\n",
              "      <td>1</td>\n",
              "      <td>10</td>\n",
              "      <td>48067</td>\n",
              "    </tr>\n",
              "    <tr>\n",
              "      <th>3</th>\n",
              "      <td>1</td>\n",
              "      <td>3408</td>\n",
              "      <td>4</td>\n",
              "      <td>978300275</td>\n",
              "      <td>Erin Brockovich (2000)</td>\n",
              "      <td>Drama</td>\n",
              "      <td>F</td>\n",
              "      <td>1</td>\n",
              "      <td>10</td>\n",
              "      <td>48067</td>\n",
              "    </tr>\n",
              "    <tr>\n",
              "      <th>4</th>\n",
              "      <td>1</td>\n",
              "      <td>2355</td>\n",
              "      <td>5</td>\n",
              "      <td>978824291</td>\n",
              "      <td>Bug's Life, A (1998)</td>\n",
              "      <td>Animation|Children's|Comedy</td>\n",
              "      <td>F</td>\n",
              "      <td>1</td>\n",
              "      <td>10</td>\n",
              "      <td>48067</td>\n",
              "    </tr>\n",
              "  </tbody>\n",
              "</table>\n",
              "</div>"
            ],
            "text/plain": [
              "   user_id  movie_id  rating  timestamp  ... gender age occupation  zip_code\n",
              "0        1      1193       5  978300760  ...      F   1         10     48067\n",
              "1        1       661       3  978302109  ...      F   1         10     48067\n",
              "2        1       914       3  978301968  ...      F   1         10     48067\n",
              "3        1      3408       4  978300275  ...      F   1         10     48067\n",
              "4        1      2355       5  978824291  ...      F   1         10     48067\n",
              "\n",
              "[5 rows x 10 columns]"
            ]
          },
          "metadata": {
            "tags": []
          },
          "execution_count": 17
        }
      ]
    },
    {
      "cell_type": "code",
      "metadata": {
        "colab": {
          "base_uri": "https://localhost:8080/"
        },
        "id": "zcsyQHoTIZ1-",
        "outputId": "b4d5ef2f-7eff-4019-cca5-97f4c7e32c89"
      },
      "source": [
        "df.info()"
      ],
      "execution_count": 18,
      "outputs": [
        {
          "output_type": "stream",
          "text": [
            "<class 'pandas.core.frame.DataFrame'>\n",
            "Int64Index: 1000209 entries, 0 to 1000208\n",
            "Data columns (total 10 columns):\n",
            " #   Column      Non-Null Count    Dtype \n",
            "---  ------      --------------    ----- \n",
            " 0   user_id     1000209 non-null  int64 \n",
            " 1   movie_id    1000209 non-null  int64 \n",
            " 2   rating      1000209 non-null  int64 \n",
            " 3   timestamp   1000209 non-null  int64 \n",
            " 4   title       1000209 non-null  object\n",
            " 5   genres      1000209 non-null  object\n",
            " 6   gender      1000209 non-null  object\n",
            " 7   age         1000209 non-null  int64 \n",
            " 8   occupation  1000209 non-null  int64 \n",
            " 9   zip_code    1000209 non-null  object\n",
            "dtypes: int64(6), object(4)\n",
            "memory usage: 83.9+ MB\n"
          ],
          "name": "stdout"
        }
      ]
    },
    {
      "cell_type": "code",
      "metadata": {
        "id": "R7EhE7IWI3bP",
        "colab": {
          "base_uri": "https://localhost:8080/",
          "height": 423
        },
        "outputId": "8df4c14c-7778-4e38-81df-976902198d1b"
      },
      "source": [
        "pd.merge(left=pd.merge(ratings, movies),\n",
        "         right=users)"
      ],
      "execution_count": 19,
      "outputs": [
        {
          "output_type": "execute_result",
          "data": {
            "text/html": [
              "<div>\n",
              "<style scoped>\n",
              "    .dataframe tbody tr th:only-of-type {\n",
              "        vertical-align: middle;\n",
              "    }\n",
              "\n",
              "    .dataframe tbody tr th {\n",
              "        vertical-align: top;\n",
              "    }\n",
              "\n",
              "    .dataframe thead th {\n",
              "        text-align: right;\n",
              "    }\n",
              "</style>\n",
              "<table border=\"1\" class=\"dataframe\">\n",
              "  <thead>\n",
              "    <tr style=\"text-align: right;\">\n",
              "      <th></th>\n",
              "      <th>user_id</th>\n",
              "      <th>movie_id</th>\n",
              "      <th>rating</th>\n",
              "      <th>timestamp</th>\n",
              "      <th>title</th>\n",
              "      <th>genres</th>\n",
              "      <th>gender</th>\n",
              "      <th>age</th>\n",
              "      <th>occupation</th>\n",
              "      <th>zip_code</th>\n",
              "    </tr>\n",
              "  </thead>\n",
              "  <tbody>\n",
              "    <tr>\n",
              "      <th>0</th>\n",
              "      <td>1</td>\n",
              "      <td>1193</td>\n",
              "      <td>5</td>\n",
              "      <td>978300760</td>\n",
              "      <td>One Flew Over the Cuckoo's Nest (1975)</td>\n",
              "      <td>Drama</td>\n",
              "      <td>F</td>\n",
              "      <td>1</td>\n",
              "      <td>10</td>\n",
              "      <td>48067</td>\n",
              "    </tr>\n",
              "    <tr>\n",
              "      <th>1</th>\n",
              "      <td>1</td>\n",
              "      <td>661</td>\n",
              "      <td>3</td>\n",
              "      <td>978302109</td>\n",
              "      <td>James and the Giant Peach (1996)</td>\n",
              "      <td>Animation|Children's|Musical</td>\n",
              "      <td>F</td>\n",
              "      <td>1</td>\n",
              "      <td>10</td>\n",
              "      <td>48067</td>\n",
              "    </tr>\n",
              "    <tr>\n",
              "      <th>2</th>\n",
              "      <td>1</td>\n",
              "      <td>914</td>\n",
              "      <td>3</td>\n",
              "      <td>978301968</td>\n",
              "      <td>My Fair Lady (1964)</td>\n",
              "      <td>Musical|Romance</td>\n",
              "      <td>F</td>\n",
              "      <td>1</td>\n",
              "      <td>10</td>\n",
              "      <td>48067</td>\n",
              "    </tr>\n",
              "    <tr>\n",
              "      <th>3</th>\n",
              "      <td>1</td>\n",
              "      <td>3408</td>\n",
              "      <td>4</td>\n",
              "      <td>978300275</td>\n",
              "      <td>Erin Brockovich (2000)</td>\n",
              "      <td>Drama</td>\n",
              "      <td>F</td>\n",
              "      <td>1</td>\n",
              "      <td>10</td>\n",
              "      <td>48067</td>\n",
              "    </tr>\n",
              "    <tr>\n",
              "      <th>4</th>\n",
              "      <td>1</td>\n",
              "      <td>2355</td>\n",
              "      <td>5</td>\n",
              "      <td>978824291</td>\n",
              "      <td>Bug's Life, A (1998)</td>\n",
              "      <td>Animation|Children's|Comedy</td>\n",
              "      <td>F</td>\n",
              "      <td>1</td>\n",
              "      <td>10</td>\n",
              "      <td>48067</td>\n",
              "    </tr>\n",
              "    <tr>\n",
              "      <th>...</th>\n",
              "      <td>...</td>\n",
              "      <td>...</td>\n",
              "      <td>...</td>\n",
              "      <td>...</td>\n",
              "      <td>...</td>\n",
              "      <td>...</td>\n",
              "      <td>...</td>\n",
              "      <td>...</td>\n",
              "      <td>...</td>\n",
              "      <td>...</td>\n",
              "    </tr>\n",
              "    <tr>\n",
              "      <th>1000204</th>\n",
              "      <td>4211</td>\n",
              "      <td>3791</td>\n",
              "      <td>2</td>\n",
              "      <td>965319075</td>\n",
              "      <td>Footloose (1984)</td>\n",
              "      <td>Drama</td>\n",
              "      <td>M</td>\n",
              "      <td>45</td>\n",
              "      <td>5</td>\n",
              "      <td>77662</td>\n",
              "    </tr>\n",
              "    <tr>\n",
              "      <th>1000205</th>\n",
              "      <td>4211</td>\n",
              "      <td>3806</td>\n",
              "      <td>3</td>\n",
              "      <td>965319138</td>\n",
              "      <td>MacKenna's Gold (1969)</td>\n",
              "      <td>Western</td>\n",
              "      <td>M</td>\n",
              "      <td>45</td>\n",
              "      <td>5</td>\n",
              "      <td>77662</td>\n",
              "    </tr>\n",
              "    <tr>\n",
              "      <th>1000206</th>\n",
              "      <td>4211</td>\n",
              "      <td>3840</td>\n",
              "      <td>4</td>\n",
              "      <td>965319197</td>\n",
              "      <td>Pumpkinhead (1988)</td>\n",
              "      <td>Horror</td>\n",
              "      <td>M</td>\n",
              "      <td>45</td>\n",
              "      <td>5</td>\n",
              "      <td>77662</td>\n",
              "    </tr>\n",
              "    <tr>\n",
              "      <th>1000207</th>\n",
              "      <td>4211</td>\n",
              "      <td>3766</td>\n",
              "      <td>2</td>\n",
              "      <td>965319138</td>\n",
              "      <td>Missing in Action (1984)</td>\n",
              "      <td>Action|War</td>\n",
              "      <td>M</td>\n",
              "      <td>45</td>\n",
              "      <td>5</td>\n",
              "      <td>77662</td>\n",
              "    </tr>\n",
              "    <tr>\n",
              "      <th>1000208</th>\n",
              "      <td>4211</td>\n",
              "      <td>3834</td>\n",
              "      <td>2</td>\n",
              "      <td>965318885</td>\n",
              "      <td>Bronco Billy (1980)</td>\n",
              "      <td>Adventure|Drama|Romance</td>\n",
              "      <td>M</td>\n",
              "      <td>45</td>\n",
              "      <td>5</td>\n",
              "      <td>77662</td>\n",
              "    </tr>\n",
              "  </tbody>\n",
              "</table>\n",
              "<p>1000209 rows × 10 columns</p>\n",
              "</div>"
            ],
            "text/plain": [
              "         user_id  movie_id  rating  timestamp  ... gender age occupation  zip_code\n",
              "0              1      1193       5  978300760  ...      F   1         10     48067\n",
              "1              1       661       3  978302109  ...      F   1         10     48067\n",
              "2              1       914       3  978301968  ...      F   1         10     48067\n",
              "3              1      3408       4  978300275  ...      F   1         10     48067\n",
              "4              1      2355       5  978824291  ...      F   1         10     48067\n",
              "...          ...       ...     ...        ...  ...    ...  ..        ...       ...\n",
              "1000204     4211      3791       2  965319075  ...      M  45          5     77662\n",
              "1000205     4211      3806       3  965319138  ...      M  45          5     77662\n",
              "1000206     4211      3840       4  965319197  ...      M  45          5     77662\n",
              "1000207     4211      3766       2  965319138  ...      M  45          5     77662\n",
              "1000208     4211      3834       2  965318885  ...      M  45          5     77662\n",
              "\n",
              "[1000209 rows x 10 columns]"
            ]
          },
          "metadata": {
            "tags": []
          },
          "execution_count": 19
        }
      ]
    },
    {
      "cell_type": "markdown",
      "metadata": {
        "id": "V52Xn8J9JNXf"
      },
      "source": [
        "데이터 프레임 탐색"
      ]
    },
    {
      "cell_type": "code",
      "metadata": {
        "colab": {
          "base_uri": "https://localhost:8080/",
          "height": 300
        },
        "id": "Tf2D6OzHJMUd",
        "outputId": "fca1c781-4279-4fbf-ecea-cb7294932fcf"
      },
      "source": [
        "# 숫자 타입 변수의 기술 통계량\n",
        "df.describe()"
      ],
      "execution_count": 20,
      "outputs": [
        {
          "output_type": "execute_result",
          "data": {
            "text/html": [
              "<div>\n",
              "<style scoped>\n",
              "    .dataframe tbody tr th:only-of-type {\n",
              "        vertical-align: middle;\n",
              "    }\n",
              "\n",
              "    .dataframe tbody tr th {\n",
              "        vertical-align: top;\n",
              "    }\n",
              "\n",
              "    .dataframe thead th {\n",
              "        text-align: right;\n",
              "    }\n",
              "</style>\n",
              "<table border=\"1\" class=\"dataframe\">\n",
              "  <thead>\n",
              "    <tr style=\"text-align: right;\">\n",
              "      <th></th>\n",
              "      <th>user_id</th>\n",
              "      <th>movie_id</th>\n",
              "      <th>rating</th>\n",
              "      <th>timestamp</th>\n",
              "      <th>age</th>\n",
              "      <th>occupation</th>\n",
              "    </tr>\n",
              "  </thead>\n",
              "  <tbody>\n",
              "    <tr>\n",
              "      <th>count</th>\n",
              "      <td>1.000209e+06</td>\n",
              "      <td>1.000209e+06</td>\n",
              "      <td>1.000209e+06</td>\n",
              "      <td>1.000209e+06</td>\n",
              "      <td>1.000209e+06</td>\n",
              "      <td>1.000209e+06</td>\n",
              "    </tr>\n",
              "    <tr>\n",
              "      <th>mean</th>\n",
              "      <td>3.024512e+03</td>\n",
              "      <td>1.865540e+03</td>\n",
              "      <td>3.581564e+00</td>\n",
              "      <td>9.722437e+08</td>\n",
              "      <td>2.973831e+01</td>\n",
              "      <td>8.036138e+00</td>\n",
              "    </tr>\n",
              "    <tr>\n",
              "      <th>std</th>\n",
              "      <td>1.728413e+03</td>\n",
              "      <td>1.096041e+03</td>\n",
              "      <td>1.117102e+00</td>\n",
              "      <td>1.215256e+07</td>\n",
              "      <td>1.175198e+01</td>\n",
              "      <td>6.531336e+00</td>\n",
              "    </tr>\n",
              "    <tr>\n",
              "      <th>min</th>\n",
              "      <td>1.000000e+00</td>\n",
              "      <td>1.000000e+00</td>\n",
              "      <td>1.000000e+00</td>\n",
              "      <td>9.567039e+08</td>\n",
              "      <td>1.000000e+00</td>\n",
              "      <td>0.000000e+00</td>\n",
              "    </tr>\n",
              "    <tr>\n",
              "      <th>25%</th>\n",
              "      <td>1.506000e+03</td>\n",
              "      <td>1.030000e+03</td>\n",
              "      <td>3.000000e+00</td>\n",
              "      <td>9.653026e+08</td>\n",
              "      <td>2.500000e+01</td>\n",
              "      <td>2.000000e+00</td>\n",
              "    </tr>\n",
              "    <tr>\n",
              "      <th>50%</th>\n",
              "      <td>3.070000e+03</td>\n",
              "      <td>1.835000e+03</td>\n",
              "      <td>4.000000e+00</td>\n",
              "      <td>9.730180e+08</td>\n",
              "      <td>2.500000e+01</td>\n",
              "      <td>7.000000e+00</td>\n",
              "    </tr>\n",
              "    <tr>\n",
              "      <th>75%</th>\n",
              "      <td>4.476000e+03</td>\n",
              "      <td>2.770000e+03</td>\n",
              "      <td>4.000000e+00</td>\n",
              "      <td>9.752209e+08</td>\n",
              "      <td>3.500000e+01</td>\n",
              "      <td>1.400000e+01</td>\n",
              "    </tr>\n",
              "    <tr>\n",
              "      <th>max</th>\n",
              "      <td>6.040000e+03</td>\n",
              "      <td>3.952000e+03</td>\n",
              "      <td>5.000000e+00</td>\n",
              "      <td>1.046455e+09</td>\n",
              "      <td>5.600000e+01</td>\n",
              "      <td>2.000000e+01</td>\n",
              "    </tr>\n",
              "  </tbody>\n",
              "</table>\n",
              "</div>"
            ],
            "text/plain": [
              "            user_id      movie_id  ...           age    occupation\n",
              "count  1.000209e+06  1.000209e+06  ...  1.000209e+06  1.000209e+06\n",
              "mean   3.024512e+03  1.865540e+03  ...  2.973831e+01  8.036138e+00\n",
              "std    1.728413e+03  1.096041e+03  ...  1.175198e+01  6.531336e+00\n",
              "min    1.000000e+00  1.000000e+00  ...  1.000000e+00  0.000000e+00\n",
              "25%    1.506000e+03  1.030000e+03  ...  2.500000e+01  2.000000e+00\n",
              "50%    3.070000e+03  1.835000e+03  ...  2.500000e+01  7.000000e+00\n",
              "75%    4.476000e+03  2.770000e+03  ...  3.500000e+01  1.400000e+01\n",
              "max    6.040000e+03  3.952000e+03  ...  5.600000e+01  2.000000e+01\n",
              "\n",
              "[8 rows x 6 columns]"
            ]
          },
          "metadata": {
            "tags": []
          },
          "execution_count": 20
        }
      ]
    },
    {
      "cell_type": "code",
      "metadata": {
        "colab": {
          "base_uri": "https://localhost:8080/"
        },
        "id": "0cUyKUcRJ14V",
        "outputId": "c1bba8f4-0e55-4855-d1e2-61dd988fa727"
      },
      "source": [
        "# 다른 이름의 영화 제목 개수 - movies에는 ratings에 없는 영화들(사용자 평점이 없는 영화들)이 있었다.\n",
        "len(df['title'].unique())"
      ],
      "execution_count": 21,
      "outputs": [
        {
          "output_type": "execute_result",
          "data": {
            "text/plain": [
              "3706"
            ]
          },
          "metadata": {
            "tags": []
          },
          "execution_count": 21
        }
      ]
    },
    {
      "cell_type": "code",
      "metadata": {
        "colab": {
          "base_uri": "https://localhost:8080/"
        },
        "id": "8hhvGzaOKuV2",
        "outputId": "65738d1e-4519-4000-f1c4-10012cfe5123"
      },
      "source": [
        "# 영화 평점의 개수(빈도수)\n",
        "rating_counts = df['rating'].value_counts()\n",
        "rating_counts"
      ],
      "execution_count": 22,
      "outputs": [
        {
          "output_type": "execute_result",
          "data": {
            "text/plain": [
              "4    348971\n",
              "3    261197\n",
              "5    226310\n",
              "2    107557\n",
              "1     56174\n",
              "Name: rating, dtype: int64"
            ]
          },
          "metadata": {
            "tags": []
          },
          "execution_count": 22
        }
      ]
    },
    {
      "cell_type": "code",
      "metadata": {
        "colab": {
          "base_uri": "https://localhost:8080/",
          "height": 279
        },
        "id": "hzw62QUGLR-e",
        "outputId": "83754bf0-4be1-4a7f-c3f8-30dadeb8c749"
      },
      "source": [
        "sns.barplot(x=rating_counts.index, y=rating_counts.values)\n",
        "plt.xlabel('rating')\n",
        "plt.ylabel('count')\n",
        "plt.show()"
      ],
      "execution_count": 23,
      "outputs": [
        {
          "output_type": "display_data",
          "data": {
            "image/png": "[encoded data removed]",
            "text/plain": [
              "<Figure size 432x288 with 1 Axes>"
            ]
          },
          "metadata": {
            "tags": [],
            "needs_background": "light"
          }
        }
      ]
    },
    {
      "cell_type": "code",
      "metadata": {
        "colab": {
          "base_uri": "https://localhost:8080/"
        },
        "id": "65xApEQGL7P2",
        "outputId": "6b9eef79-bce7-4c82-adc1-52b05b7c2251"
      },
      "source": [
        "# 연령대 빈도수\n",
        "age_counts = df['age'].value_counts()\n",
        "age_counts"
      ],
      "execution_count": 24,
      "outputs": [
        {
          "output_type": "execute_result",
          "data": {
            "text/plain": [
              "25    395556\n",
              "35    199003\n",
              "18    183536\n",
              "45     83633\n",
              "50     72490\n",
              "56     38780\n",
              "1      27211\n",
              "Name: age, dtype: int64"
            ]
          },
          "metadata": {
            "tags": []
          },
          "execution_count": 24
        }
      ]
    },
    {
      "cell_type": "code",
      "metadata": {
        "colab": {
          "base_uri": "https://localhost:8080/",
          "height": 279
        },
        "id": "MIZv_0RZMCfP",
        "outputId": "49ae3486-53f3-4665-fc32-1e0570bef92b"
      },
      "source": [
        "sns.barplot(x=age_counts.index, y=age_counts.values)\n",
        "plt.xlabel('age')\n",
        "plt.ylabel('count')\n",
        "plt.show()"
      ],
      "execution_count": 25,
      "outputs": [
        {
          "output_type": "display_data",
          "data": {
            "image/png": "[encoded data removed]",
            "text/plain": [
              "<Figure size 432x288 with 1 Axes>"
            ]
          },
          "metadata": {
            "tags": [],
            "needs_background": "light"
          }
        }
      ]
    },
    {
      "cell_type": "code",
      "metadata": {
        "colab": {
          "base_uri": "https://localhost:8080/"
        },
        "id": "Ply47R0BMf7O",
        "outputId": "49fb1f47-b239-47dd-fab3-0a9d3a906657"
      },
      "source": [
        "# 사용자 성비\n",
        "gender_counts = df['gender'].value_counts()\n",
        "gender_counts"
      ],
      "execution_count": 26,
      "outputs": [
        {
          "output_type": "execute_result",
          "data": {
            "text/plain": [
              "M    753769\n",
              "F    246440\n",
              "Name: gender, dtype: int64"
            ]
          },
          "metadata": {
            "tags": []
          },
          "execution_count": 26
        }
      ]
    },
    {
      "cell_type": "code",
      "metadata": {
        "colab": {
          "base_uri": "https://localhost:8080/",
          "height": 265
        },
        "id": "ysurC6CZMpTm",
        "outputId": "d22c6bdc-b6cd-431f-eef1-e8a27e677d8d"
      },
      "source": [
        "sns.barplot(x=gender_counts.index, y=gender_counts.values)\n",
        "plt.show()"
      ],
      "execution_count": 27,
      "outputs": [
        {
          "output_type": "display_data",
          "data": {
            "image/png": "[encoded data removed]",
            "text/plain": [
              "<Figure size 432x288 with 1 Axes>"
            ]
          },
          "metadata": {
            "tags": [],
            "needs_background": "light"
          }
        }
      ]
    },
    {
      "cell_type": "code",
      "metadata": {
        "colab": {
          "base_uri": "https://localhost:8080/"
        },
        "id": "5rq7Fh7ENHG2",
        "outputId": "53694b82-b42c-4528-dfdb-476fab33c2b2"
      },
      "source": [
        "# 직업코드(occupation) 빈도수\n",
        "occ_counts = df['occupation'].value_counts()\n",
        "occ_counts"
      ],
      "execution_count": 28,
      "outputs": [
        {
          "output_type": "execute_result",
          "data": {
            "text/plain": [
              "4     131032\n",
              "0     130499\n",
              "7     105425\n",
              "1      85351\n",
              "17     72816\n",
              "20     60397\n",
              "12     57214\n",
              "2      50068\n",
              "14     49109\n",
              "16     46021\n",
              "6      37205\n",
              "3      31623\n",
              "10     23290\n",
              "15     22951\n",
              "5      21850\n",
              "11     20563\n",
              "19     14904\n",
              "13     13754\n",
              "18     12086\n",
              "9      11345\n",
              "8       2706\n",
              "Name: occupation, dtype: int64"
            ]
          },
          "metadata": {
            "tags": []
          },
          "execution_count": 28
        }
      ]
    },
    {
      "cell_type": "code",
      "metadata": {
        "colab": {
          "base_uri": "https://localhost:8080/",
          "height": 279
        },
        "id": "i4vdpHZXNS7e",
        "outputId": "619251b7-de7f-4a86-8a96-07ca27e12e5d"
      },
      "source": [
        "sns.barplot(x=occ_counts.index, y=occ_counts.values)\n",
        "plt.xlabel('occupation')\n",
        "plt.show()"
      ],
      "execution_count": 29,
      "outputs": [
        {
          "output_type": "display_data",
          "data": {
            "image/png": "[encoded data removed]",
            "text/plain": [
              "<Figure size 432x288 with 1 Axes>"
            ]
          },
          "metadata": {
            "tags": [],
            "needs_background": "light"
          }
        }
      ]
    },
    {
      "cell_type": "markdown",
      "metadata": {
        "id": "O1D6Aw6w7CA6"
      },
      "source": [
        "영화 평점(rating)의 평균 상위 10개 영화 제목"
      ]
    },
    {
      "cell_type": "code",
      "metadata": {
        "id": "RbMW0gyn7MLb"
      },
      "source": [
        "# 영화 제목별 평점의 평균\n",
        "by_title = df.groupby('title')['rating'].mean()"
      ],
      "execution_count": 30,
      "outputs": []
    },
    {
      "cell_type": "code",
      "metadata": {
        "colab": {
          "base_uri": "https://localhost:8080/"
        },
        "id": "s6_uLOYjR92w",
        "outputId": "2907301c-ff92-403c-d2ea-dd0d01785854"
      },
      "source": [
        "by_title"
      ],
      "execution_count": 31,
      "outputs": [
        {
          "output_type": "execute_result",
          "data": {
            "text/plain": [
              "title\n",
              "$1,000,000 Duck (1971)                        3.027027\n",
              "'Night Mother (1986)                          3.371429\n",
              "'Til There Was You (1997)                     2.692308\n",
              "'burbs, The (1989)                            2.910891\n",
              "...And Justice for All (1979)                 3.713568\n",
              "                                                ...   \n",
              "Zed & Two Noughts, A (1985)                   3.413793\n",
              "Zero Effect (1998)                            3.750831\n",
              "Zero Kelvin (Kjærlighetens kjøtere) (1995)    3.500000\n",
              "Zeus and Roxanne (1997)                       2.521739\n",
              "eXistenZ (1999)                               3.256098\n",
              "Name: rating, Length: 3706, dtype: float64"
            ]
          },
          "metadata": {
            "tags": []
          },
          "execution_count": 31
        }
      ]
    },
    {
      "cell_type": "code",
      "metadata": {
        "colab": {
          "base_uri": "https://localhost:8080/"
        },
        "id": "ik7DWieMR_tG",
        "outputId": "b75141f1-d6cc-4479-bde1-c13765c7ffc2"
      },
      "source": [
        "# 제목별 평점 평균 내림차순 정렬 -> 상위 10개\n",
        "by_title.sort_values(ascending=False).head(n=10)"
      ],
      "execution_count": 32,
      "outputs": [
        {
          "output_type": "execute_result",
          "data": {
            "text/plain": [
              "title\n",
              "Gate of Heavenly Peace, The (1995)           5.0\n",
              "Lured (1947)                                 5.0\n",
              "Ulysses (Ulisse) (1954)                      5.0\n",
              "Smashing Time (1967)                         5.0\n",
              "Follow the Bitch (1998)                      5.0\n",
              "Song of Freedom (1936)                       5.0\n",
              "Bittersweet Motel (2000)                     5.0\n",
              "Baby, The (1973)                             5.0\n",
              "One Little Indian (1973)                     5.0\n",
              "Schlafes Bruder (Brother of Sleep) (1995)    5.0\n",
              "Name: rating, dtype: float64"
            ]
          },
          "metadata": {
            "tags": []
          },
          "execution_count": 32
        }
      ]
    },
    {
      "cell_type": "code",
      "metadata": {
        "colab": {
          "base_uri": "https://localhost:8080/",
          "height": 455
        },
        "id": "zQZKAhdnSySo",
        "outputId": "af10a1e2-1e65-4188-bcdb-d8b4ef635cf3"
      },
      "source": [
        "# 영화 제목 빈도수, 평점 평균\n",
        "df.groupby('title')['rating'].agg(['count', 'mean']).sort_values(by='mean', ascending=False)"
      ],
      "execution_count": 33,
      "outputs": [
        {
          "output_type": "execute_result",
          "data": {
            "text/html": [
              "<div>\n",
              "<style scoped>\n",
              "    .dataframe tbody tr th:only-of-type {\n",
              "        vertical-align: middle;\n",
              "    }\n",
              "\n",
              "    .dataframe tbody tr th {\n",
              "        vertical-align: top;\n",
              "    }\n",
              "\n",
              "    .dataframe thead th {\n",
              "        text-align: right;\n",
              "    }\n",
              "</style>\n",
              "<table border=\"1\" class=\"dataframe\">\n",
              "  <thead>\n",
              "    <tr style=\"text-align: right;\">\n",
              "      <th></th>\n",
              "      <th>count</th>\n",
              "      <th>mean</th>\n",
              "    </tr>\n",
              "    <tr>\n",
              "      <th>title</th>\n",
              "      <th></th>\n",
              "      <th></th>\n",
              "    </tr>\n",
              "  </thead>\n",
              "  <tbody>\n",
              "    <tr>\n",
              "      <th>Ulysses (Ulisse) (1954)</th>\n",
              "      <td>1</td>\n",
              "      <td>5.0</td>\n",
              "    </tr>\n",
              "    <tr>\n",
              "      <th>Lured (1947)</th>\n",
              "      <td>1</td>\n",
              "      <td>5.0</td>\n",
              "    </tr>\n",
              "    <tr>\n",
              "      <th>Follow the Bitch (1998)</th>\n",
              "      <td>1</td>\n",
              "      <td>5.0</td>\n",
              "    </tr>\n",
              "    <tr>\n",
              "      <th>Bittersweet Motel (2000)</th>\n",
              "      <td>1</td>\n",
              "      <td>5.0</td>\n",
              "    </tr>\n",
              "    <tr>\n",
              "      <th>Song of Freedom (1936)</th>\n",
              "      <td>1</td>\n",
              "      <td>5.0</td>\n",
              "    </tr>\n",
              "    <tr>\n",
              "      <th>...</th>\n",
              "      <td>...</td>\n",
              "      <td>...</td>\n",
              "    </tr>\n",
              "    <tr>\n",
              "      <th>Fantastic Night, The (La Nuit Fantastique) (1949)</th>\n",
              "      <td>1</td>\n",
              "      <td>1.0</td>\n",
              "    </tr>\n",
              "    <tr>\n",
              "      <th>Cheetah (1989)</th>\n",
              "      <td>1</td>\n",
              "      <td>1.0</td>\n",
              "    </tr>\n",
              "    <tr>\n",
              "      <th>Torso (Corpi Presentano Tracce di Violenza Carnale) (1973)</th>\n",
              "      <td>2</td>\n",
              "      <td>1.0</td>\n",
              "    </tr>\n",
              "    <tr>\n",
              "      <th>Mutters Courage (1995)</th>\n",
              "      <td>1</td>\n",
              "      <td>1.0</td>\n",
              "    </tr>\n",
              "    <tr>\n",
              "      <th>Windows (1980)</th>\n",
              "      <td>1</td>\n",
              "      <td>1.0</td>\n",
              "    </tr>\n",
              "  </tbody>\n",
              "</table>\n",
              "<p>3706 rows × 2 columns</p>\n",
              "</div>"
            ],
            "text/plain": [
              "                                                    count  mean\n",
              "title                                                          \n",
              "Ulysses (Ulisse) (1954)                                 1   5.0\n",
              "Lured (1947)                                            1   5.0\n",
              "Follow the Bitch (1998)                                 1   5.0\n",
              "Bittersweet Motel (2000)                                1   5.0\n",
              "Song of Freedom (1936)                                  1   5.0\n",
              "...                                                   ...   ...\n",
              "Fantastic Night, The (La Nuit Fantastique) (1949)       1   1.0\n",
              "Cheetah (1989)                                          1   1.0\n",
              "Torso (Corpi Presentano Tracce di Violenza Carn...      2   1.0\n",
              "Mutters Courage (1995)                                  1   1.0\n",
              "Windows (1980)                                          1   1.0\n",
              "\n",
              "[3706 rows x 2 columns]"
            ]
          },
          "metadata": {
            "tags": []
          },
          "execution_count": 33
        }
      ]
    },
    {
      "cell_type": "markdown",
      "metadata": {
        "id": "JCCwLdJfUQaY"
      },
      "source": [
        "리뷰 건수가 1개 또는 2개 밖에 없는 영화들의 평점 평균을 계산하는 것은 큰 의미가 없을 것 같다. 일정 숫자 이상의 리뷰 건수가 있는 영화들만 선택해서 평점 분석을 하는 것이 더 의미가 있을 것 같다."
      ]
    },
    {
      "cell_type": "code",
      "metadata": {
        "colab": {
          "base_uri": "https://localhost:8080/"
        },
        "id": "QsL_yLArUMrg",
        "outputId": "f1b8e5d7-202d-467a-bd02-d989302c7fbd"
      },
      "source": [
        "# 영화 제목별 리뷰 건수\n",
        "# title_counts = df.groupby('title').size()\n",
        "title_counts = df['title'].value_counts()\n",
        "title_counts"
      ],
      "execution_count": 36,
      "outputs": [
        {
          "output_type": "execute_result",
          "data": {
            "text/plain": [
              "American Beauty (1999)                                   3428\n",
              "Star Wars: Episode IV - A New Hope (1977)                2991\n",
              "Star Wars: Episode V - The Empire Strikes Back (1980)    2990\n",
              "Star Wars: Episode VI - Return of the Jedi (1983)        2883\n",
              "Jurassic Park (1993)                                     2672\n",
              "                                                         ... \n",
              "McCullochs, The (1975)                                      1\n",
              "Schlafes Bruder (Brother of Sleep) (1995)                   1\n",
              "Bat Whispers, The (1930)                                    1\n",
              "Scorta, La (1993)                                           1\n",
              "Loves of Carmen, The (1948)                                 1\n",
              "Name: title, Length: 3706, dtype: int64"
            ]
          },
          "metadata": {
            "tags": []
          },
          "execution_count": 36
        }
      ]
    },
    {
      "cell_type": "code",
      "metadata": {
        "colab": {
          "base_uri": "https://localhost:8080/"
        },
        "id": "yV-XYyiEVOJh",
        "outputId": "110dbe9c-754c-4a4b-bfd6-6bb86e7de2fe"
      },
      "source": [
        "title_counts.describe()"
      ],
      "execution_count": 37,
      "outputs": [
        {
          "output_type": "execute_result",
          "data": {
            "text/plain": [
              "count    3706.000000\n",
              "mean      269.889099\n",
              "std       384.047838\n",
              "min         1.000000\n",
              "25%        33.000000\n",
              "50%       123.500000\n",
              "75%       350.000000\n",
              "max      3428.000000\n",
              "Name: title, dtype: float64"
            ]
          },
          "metadata": {
            "tags": []
          },
          "execution_count": 37
        }
      ]
    },
    {
      "cell_type": "code",
      "metadata": {
        "id": "pNAMGPD57iq5"
      },
      "source": [
        "# 150건 이상의 리뷰를 받은 영화 제목\n",
        "indexer = title_counts[title_counts >= 150].index"
      ],
      "execution_count": 40,
      "outputs": []
    },
    {
      "cell_type": "code",
      "metadata": {
        "colab": {
          "base_uri": "https://localhost:8080/"
        },
        "id": "D-hN5boh8Tph",
        "outputId": "1302b0c9-6584-47f8-8107-e64c91777504"
      },
      "source": [
        "len(indexer)  # 150건 이상의 리뷰를 받은 영화는 1,683개"
      ],
      "execution_count": 41,
      "outputs": [
        {
          "output_type": "execute_result",
          "data": {
            "text/plain": [
              "1683"
            ]
          },
          "metadata": {
            "tags": []
          },
          "execution_count": 41
        }
      ]
    },
    {
      "cell_type": "code",
      "metadata": {
        "colab": {
          "base_uri": "https://localhost:8080/"
        },
        "id": "EYlZKkOy8VkB",
        "outputId": "03ee93af-0055-4126-fdda-268284bd7acb"
      },
      "source": [
        "indexer"
      ],
      "execution_count": 42,
      "outputs": [
        {
          "output_type": "execute_result",
          "data": {
            "text/plain": [
              "Index(['American Beauty (1999)', 'Star Wars: Episode IV - A New Hope (1977)',\n",
              "       'Star Wars: Episode V - The Empire Strikes Back (1980)',\n",
              "       'Star Wars: Episode VI - Return of the Jedi (1983)',\n",
              "       'Jurassic Park (1993)', 'Saving Private Ryan (1998)',\n",
              "       'Terminator 2: Judgment Day (1991)', 'Matrix, The (1999)',\n",
              "       'Back to the Future (1985)', 'Silence of the Lambs, The (1991)',\n",
              "       ...\n",
              "       'Dead Man (1995)', 'Twelfth Night (1996)', 'Cowboy Way, The (1994)',\n",
              "       'Program, The (1993)',\n",
              "       'Tales from the Crypt Presents: Bordello of Blood (1996)',\n",
              "       'Asphalt Jungle, The (1950)', 'Golden Voyage of Sinbad, The (1974)',\n",
              "       'In the Army Now (1994)', 'Love and Death on Long Island (1997)',\n",
              "       'Police Academy 5: Assignment: Miami Beach (1988)'],\n",
              "      dtype='object', length=1683)"
            ]
          },
          "metadata": {
            "tags": []
          },
          "execution_count": 42
        }
      ]
    },
    {
      "cell_type": "code",
      "metadata": {
        "id": "n5PaxLVr8onJ"
      },
      "source": [
        "# 150건 이상의 리뷰를 받은 영화들의 평점 평균\n",
        "by_title_150 = by_title.loc[indexer]"
      ],
      "execution_count": 50,
      "outputs": []
    },
    {
      "cell_type": "code",
      "metadata": {
        "colab": {
          "base_uri": "https://localhost:8080/"
        },
        "id": "CROwrLn696vh",
        "outputId": "088f266d-119a-456e-c8d0-40d64d83c6b3"
      },
      "source": [
        "by_title_150"
      ],
      "execution_count": 51,
      "outputs": [
        {
          "output_type": "execute_result",
          "data": {
            "text/plain": [
              "American Beauty (1999)                                   4.317386\n",
              "Star Wars: Episode IV - A New Hope (1977)                4.453694\n",
              "Star Wars: Episode V - The Empire Strikes Back (1980)    4.292977\n",
              "Star Wars: Episode VI - Return of the Jedi (1983)        4.022893\n",
              "Jurassic Park (1993)                                     3.763847\n",
              "                                                           ...   \n",
              "Asphalt Jungle, The (1950)                               3.927152\n",
              "Golden Voyage of Sinbad, The (1974)                      3.397351\n",
              "In the Army Now (1994)                                   2.225166\n",
              "Love and Death on Long Island (1997)                     3.430464\n",
              "Police Academy 5: Assignment: Miami Beach (1988)         1.766667\n",
              "Name: rating, Length: 1683, dtype: float64"
            ]
          },
          "metadata": {
            "tags": []
          },
          "execution_count": 51
        }
      ]
    },
    {
      "cell_type": "code",
      "metadata": {
        "colab": {
          "base_uri": "https://localhost:8080/"
        },
        "id": "cIXxH01A97rg",
        "outputId": "76e673ac-dd61-4ab7-d68b-653c175df39b"
      },
      "source": [
        "# 150건 이상의 리뷰를 받은 영화들 중 평점 평균 상위 10개\n",
        "by_title_150.sort_values(ascending=False).head(n=10)"
      ],
      "execution_count": 52,
      "outputs": [
        {
          "output_type": "execute_result",
          "data": {
            "text/plain": [
              "Seven Samurai (The Magnificent Seven) (Shichinin no samurai) (1954)    4.560510\n",
              "Shawshank Redemption, The (1994)                                       4.554558\n",
              "Godfather, The (1972)                                                  4.524966\n",
              "Close Shave, A (1995)                                                  4.520548\n",
              "Usual Suspects, The (1995)                                             4.517106\n",
              "Schindler's List (1993)                                                4.510417\n",
              "Wrong Trousers, The (1993)                                             4.507937\n",
              "Sunset Blvd. (a.k.a. Sunset Boulevard) (1950)                          4.491489\n",
              "Raiders of the Lost Ark (1981)                                         4.477725\n",
              "Rear Window (1954)                                                     4.476190\n",
              "Name: rating, dtype: float64"
            ]
          },
          "metadata": {
            "tags": []
          },
          "execution_count": 52
        }
      ]
    },
    {
      "cell_type": "code",
      "metadata": {
        "colab": {
          "base_uri": "https://localhost:8080/"
        },
        "id": "NoUWrsmy-CVY",
        "outputId": "f63e4042-2c99-4ef5-94b8-d824b491caef"
      },
      "source": [
        "# 150건 이상의 리뷰를 받은 영화들 중 평점 평균 하위 10개\n",
        "by_title_150.sort_values().head(n=10)"
      ],
      "execution_count": 53,
      "outputs": [
        {
          "output_type": "execute_result",
          "data": {
            "text/plain": [
              "Battlefield Earth (2000)                            1.611111\n",
              "Baby Geniuses (1999)                                1.701220\n",
              "Police Academy 5: Assignment: Miami Beach (1988)    1.766667\n",
              "Stop! Or My Mom Will Shoot (1992)                   1.782123\n",
              "Jaws 3-D (1983)                                     1.852381\n",
              "Speed 2: Cruise Control (1997)                      1.871935\n",
              "Spice World (1997)                                  1.873684\n",
              "Super Mario Bros. (1993)                            1.874286\n",
              "Home Alone 3 (1997)                                 1.876623\n",
              "Superman IV: The Quest for Peace (1987)             1.888554\n",
              "Name: rating, dtype: float64"
            ]
          },
          "metadata": {
            "tags": []
          },
          "execution_count": 53
        }
      ]
    },
    {
      "cell_type": "code",
      "metadata": {
        "colab": {
          "base_uri": "https://localhost:8080/",
          "height": 455
        },
        "id": "nrt0-jEb__zx",
        "outputId": "e0bbfffb-f812-4e92-cb83-e5c23ee5197d"
      },
      "source": [
        "# 150건 이상의 리뷰를 받은 영화들에서 성별 영화 평점 평균\n",
        "df.groupby(['title', 'gender'])['rating'].mean().unstack()"
      ],
      "execution_count": 57,
      "outputs": [
        {
          "output_type": "execute_result",
          "data": {
            "text/html": [
              "<div>\n",
              "<style scoped>\n",
              "    .dataframe tbody tr th:only-of-type {\n",
              "        vertical-align: middle;\n",
              "    }\n",
              "\n",
              "    .dataframe tbody tr th {\n",
              "        vertical-align: top;\n",
              "    }\n",
              "\n",
              "    .dataframe thead th {\n",
              "        text-align: right;\n",
              "    }\n",
              "</style>\n",
              "<table border=\"1\" class=\"dataframe\">\n",
              "  <thead>\n",
              "    <tr style=\"text-align: right;\">\n",
              "      <th>gender</th>\n",
              "      <th>F</th>\n",
              "      <th>M</th>\n",
              "    </tr>\n",
              "    <tr>\n",
              "      <th>title</th>\n",
              "      <th></th>\n",
              "      <th></th>\n",
              "    </tr>\n",
              "  </thead>\n",
              "  <tbody>\n",
              "    <tr>\n",
              "      <th>$1,000,000 Duck (1971)</th>\n",
              "      <td>3.375000</td>\n",
              "      <td>2.761905</td>\n",
              "    </tr>\n",
              "    <tr>\n",
              "      <th>'Night Mother (1986)</th>\n",
              "      <td>3.388889</td>\n",
              "      <td>3.352941</td>\n",
              "    </tr>\n",
              "    <tr>\n",
              "      <th>'Til There Was You (1997)</th>\n",
              "      <td>2.675676</td>\n",
              "      <td>2.733333</td>\n",
              "    </tr>\n",
              "    <tr>\n",
              "      <th>'burbs, The (1989)</th>\n",
              "      <td>2.793478</td>\n",
              "      <td>2.962085</td>\n",
              "    </tr>\n",
              "    <tr>\n",
              "      <th>...And Justice for All (1979)</th>\n",
              "      <td>3.828571</td>\n",
              "      <td>3.689024</td>\n",
              "    </tr>\n",
              "    <tr>\n",
              "      <th>...</th>\n",
              "      <td>...</td>\n",
              "      <td>...</td>\n",
              "    </tr>\n",
              "    <tr>\n",
              "      <th>Zed &amp; Two Noughts, A (1985)</th>\n",
              "      <td>3.500000</td>\n",
              "      <td>3.380952</td>\n",
              "    </tr>\n",
              "    <tr>\n",
              "      <th>Zero Effect (1998)</th>\n",
              "      <td>3.864407</td>\n",
              "      <td>3.723140</td>\n",
              "    </tr>\n",
              "    <tr>\n",
              "      <th>Zero Kelvin (Kjærlighetens kjøtere) (1995)</th>\n",
              "      <td>NaN</td>\n",
              "      <td>3.500000</td>\n",
              "    </tr>\n",
              "    <tr>\n",
              "      <th>Zeus and Roxanne (1997)</th>\n",
              "      <td>2.777778</td>\n",
              "      <td>2.357143</td>\n",
              "    </tr>\n",
              "    <tr>\n",
              "      <th>eXistenZ (1999)</th>\n",
              "      <td>3.098592</td>\n",
              "      <td>3.289086</td>\n",
              "    </tr>\n",
              "  </tbody>\n",
              "</table>\n",
              "<p>3706 rows × 2 columns</p>\n",
              "</div>"
            ],
            "text/plain": [
              "gender                                             F         M\n",
              "title                                                         \n",
              "$1,000,000 Duck (1971)                      3.375000  2.761905\n",
              "'Night Mother (1986)                        3.388889  3.352941\n",
              "'Til There Was You (1997)                   2.675676  2.733333\n",
              "'burbs, The (1989)                          2.793478  2.962085\n",
              "...And Justice for All (1979)               3.828571  3.689024\n",
              "...                                              ...       ...\n",
              "Zed & Two Noughts, A (1985)                 3.500000  3.380952\n",
              "Zero Effect (1998)                          3.864407  3.723140\n",
              "Zero Kelvin (Kjærlighetens kjøtere) (1995)       NaN  3.500000\n",
              "Zeus and Roxanne (1997)                     2.777778  2.357143\n",
              "eXistenZ (1999)                             3.098592  3.289086\n",
              "\n",
              "[3706 rows x 2 columns]"
            ]
          },
          "metadata": {
            "tags": []
          },
          "execution_count": 57
        }
      ]
    },
    {
      "cell_type": "code",
      "metadata": {
        "id": "0xyhOO-nCfny"
      },
      "source": [
        "by_gender = df.pivot_table(values='rating', index='title', columns='gender')"
      ],
      "execution_count": 59,
      "outputs": []
    },
    {
      "cell_type": "code",
      "metadata": {
        "colab": {
          "base_uri": "https://localhost:8080/",
          "height": 455
        },
        "id": "rtCCKTwrC01E",
        "outputId": "4aaa5064-a7ba-4c4f-c16b-494f9be05e04"
      },
      "source": [
        "by_gender"
      ],
      "execution_count": 60,
      "outputs": [
        {
          "output_type": "execute_result",
          "data": {
            "text/html": [
              "<div>\n",
              "<style scoped>\n",
              "    .dataframe tbody tr th:only-of-type {\n",
              "        vertical-align: middle;\n",
              "    }\n",
              "\n",
              "    .dataframe tbody tr th {\n",
              "        vertical-align: top;\n",
              "    }\n",
              "\n",
              "    .dataframe thead th {\n",
              "        text-align: right;\n",
              "    }\n",
              "</style>\n",
              "<table border=\"1\" class=\"dataframe\">\n",
              "  <thead>\n",
              "    <tr style=\"text-align: right;\">\n",
              "      <th>gender</th>\n",
              "      <th>F</th>\n",
              "      <th>M</th>\n",
              "    </tr>\n",
              "    <tr>\n",
              "      <th>title</th>\n",
              "      <th></th>\n",
              "      <th></th>\n",
              "    </tr>\n",
              "  </thead>\n",
              "  <tbody>\n",
              "    <tr>\n",
              "      <th>$1,000,000 Duck (1971)</th>\n",
              "      <td>3.375000</td>\n",
              "      <td>2.761905</td>\n",
              "    </tr>\n",
              "    <tr>\n",
              "      <th>'Night Mother (1986)</th>\n",
              "      <td>3.388889</td>\n",
              "      <td>3.352941</td>\n",
              "    </tr>\n",
              "    <tr>\n",
              "      <th>'Til There Was You (1997)</th>\n",
              "      <td>2.675676</td>\n",
              "      <td>2.733333</td>\n",
              "    </tr>\n",
              "    <tr>\n",
              "      <th>'burbs, The (1989)</th>\n",
              "      <td>2.793478</td>\n",
              "      <td>2.962085</td>\n",
              "    </tr>\n",
              "    <tr>\n",
              "      <th>...And Justice for All (1979)</th>\n",
              "      <td>3.828571</td>\n",
              "      <td>3.689024</td>\n",
              "    </tr>\n",
              "    <tr>\n",
              "      <th>...</th>\n",
              "      <td>...</td>\n",
              "      <td>...</td>\n",
              "    </tr>\n",
              "    <tr>\n",
              "      <th>Zed &amp; Two Noughts, A (1985)</th>\n",
              "      <td>3.500000</td>\n",
              "      <td>3.380952</td>\n",
              "    </tr>\n",
              "    <tr>\n",
              "      <th>Zero Effect (1998)</th>\n",
              "      <td>3.864407</td>\n",
              "      <td>3.723140</td>\n",
              "    </tr>\n",
              "    <tr>\n",
              "      <th>Zero Kelvin (Kjærlighetens kjøtere) (1995)</th>\n",
              "      <td>NaN</td>\n",
              "      <td>3.500000</td>\n",
              "    </tr>\n",
              "    <tr>\n",
              "      <th>Zeus and Roxanne (1997)</th>\n",
              "      <td>2.777778</td>\n",
              "      <td>2.357143</td>\n",
              "    </tr>\n",
              "    <tr>\n",
              "      <th>eXistenZ (1999)</th>\n",
              "      <td>3.098592</td>\n",
              "      <td>3.289086</td>\n",
              "    </tr>\n",
              "  </tbody>\n",
              "</table>\n",
              "<p>3706 rows × 2 columns</p>\n",
              "</div>"
            ],
            "text/plain": [
              "gender                                             F         M\n",
              "title                                                         \n",
              "$1,000,000 Duck (1971)                      3.375000  2.761905\n",
              "'Night Mother (1986)                        3.388889  3.352941\n",
              "'Til There Was You (1997)                   2.675676  2.733333\n",
              "'burbs, The (1989)                          2.793478  2.962085\n",
              "...And Justice for All (1979)               3.828571  3.689024\n",
              "...                                              ...       ...\n",
              "Zed & Two Noughts, A (1985)                 3.500000  3.380952\n",
              "Zero Effect (1998)                          3.864407  3.723140\n",
              "Zero Kelvin (Kjærlighetens kjøtere) (1995)       NaN  3.500000\n",
              "Zeus and Roxanne (1997)                     2.777778  2.357143\n",
              "eXistenZ (1999)                             3.098592  3.289086\n",
              "\n",
              "[3706 rows x 2 columns]"
            ]
          },
          "metadata": {
            "tags": []
          },
          "execution_count": 60
        }
      ]
    },
    {
      "cell_type": "code",
      "metadata": {
        "id": "uMAXMWSaC13C"
      },
      "source": [
        "by_gender_150 = by_gender.loc[indexer]"
      ],
      "execution_count": 61,
      "outputs": []
    },
    {
      "cell_type": "code",
      "metadata": {
        "colab": {
          "base_uri": "https://localhost:8080/",
          "height": 423
        },
        "id": "UqxG8NPyDA6D",
        "outputId": "7f4be32c-80ad-4533-850c-d4ce94b599e4"
      },
      "source": [
        "by_gender_150"
      ],
      "execution_count": 62,
      "outputs": [
        {
          "output_type": "execute_result",
          "data": {
            "text/html": [
              "<div>\n",
              "<style scoped>\n",
              "    .dataframe tbody tr th:only-of-type {\n",
              "        vertical-align: middle;\n",
              "    }\n",
              "\n",
              "    .dataframe tbody tr th {\n",
              "        vertical-align: top;\n",
              "    }\n",
              "\n",
              "    .dataframe thead th {\n",
              "        text-align: right;\n",
              "    }\n",
              "</style>\n",
              "<table border=\"1\" class=\"dataframe\">\n",
              "  <thead>\n",
              "    <tr style=\"text-align: right;\">\n",
              "      <th>gender</th>\n",
              "      <th>F</th>\n",
              "      <th>M</th>\n",
              "    </tr>\n",
              "  </thead>\n",
              "  <tbody>\n",
              "    <tr>\n",
              "      <th>American Beauty (1999)</th>\n",
              "      <td>4.238901</td>\n",
              "      <td>4.347301</td>\n",
              "    </tr>\n",
              "    <tr>\n",
              "      <th>Star Wars: Episode IV - A New Hope (1977)</th>\n",
              "      <td>4.302937</td>\n",
              "      <td>4.495307</td>\n",
              "    </tr>\n",
              "    <tr>\n",
              "      <th>Star Wars: Episode V - The Empire Strikes Back (1980)</th>\n",
              "      <td>4.106481</td>\n",
              "      <td>4.344577</td>\n",
              "    </tr>\n",
              "    <tr>\n",
              "      <th>Star Wars: Episode VI - Return of the Jedi (1983)</th>\n",
              "      <td>3.865237</td>\n",
              "      <td>4.069058</td>\n",
              "    </tr>\n",
              "    <tr>\n",
              "      <th>Jurassic Park (1993)</th>\n",
              "      <td>3.579407</td>\n",
              "      <td>3.814197</td>\n",
              "    </tr>\n",
              "    <tr>\n",
              "      <th>...</th>\n",
              "      <td>...</td>\n",
              "      <td>...</td>\n",
              "    </tr>\n",
              "    <tr>\n",
              "      <th>Asphalt Jungle, The (1950)</th>\n",
              "      <td>3.571429</td>\n",
              "      <td>4.008130</td>\n",
              "    </tr>\n",
              "    <tr>\n",
              "      <th>Golden Voyage of Sinbad, The (1974)</th>\n",
              "      <td>3.157895</td>\n",
              "      <td>3.431818</td>\n",
              "    </tr>\n",
              "    <tr>\n",
              "      <th>In the Army Now (1994)</th>\n",
              "      <td>2.384615</td>\n",
              "      <td>2.192000</td>\n",
              "    </tr>\n",
              "    <tr>\n",
              "      <th>Love and Death on Long Island (1997)</th>\n",
              "      <td>3.116279</td>\n",
              "      <td>3.555556</td>\n",
              "    </tr>\n",
              "    <tr>\n",
              "      <th>Police Academy 5: Assignment: Miami Beach (1988)</th>\n",
              "      <td>1.935484</td>\n",
              "      <td>1.722689</td>\n",
              "    </tr>\n",
              "  </tbody>\n",
              "</table>\n",
              "<p>1683 rows × 2 columns</p>\n",
              "</div>"
            ],
            "text/plain": [
              "gender                                                     F         M\n",
              "American Beauty (1999)                              4.238901  4.347301\n",
              "Star Wars: Episode IV - A New Hope (1977)           4.302937  4.495307\n",
              "Star Wars: Episode V - The Empire Strikes Back ...  4.106481  4.344577\n",
              "Star Wars: Episode VI - Return of the Jedi (1983)   3.865237  4.069058\n",
              "Jurassic Park (1993)                                3.579407  3.814197\n",
              "...                                                      ...       ...\n",
              "Asphalt Jungle, The (1950)                          3.571429  4.008130\n",
              "Golden Voyage of Sinbad, The (1974)                 3.157895  3.431818\n",
              "In the Army Now (1994)                              2.384615  2.192000\n",
              "Love and Death on Long Island (1997)                3.116279  3.555556\n",
              "Police Academy 5: Assignment: Miami Beach (1988)    1.935484  1.722689\n",
              "\n",
              "[1683 rows x 2 columns]"
            ]
          },
          "metadata": {
            "tags": []
          },
          "execution_count": 62
        }
      ]
    },
    {
      "cell_type": "code",
      "metadata": {
        "colab": {
          "base_uri": "https://localhost:8080/",
          "height": 363
        },
        "id": "hxWXZD_bAVLZ",
        "outputId": "b552c322-92c6-47eb-c473-2bb413cf0797"
      },
      "source": [
        "# 여성 평점 상위 10개 영화\n",
        "by_gender_150.sort_values(by='F', ascending=False).head(n=10)"
      ],
      "execution_count": 63,
      "outputs": [
        {
          "output_type": "execute_result",
          "data": {
            "text/html": [
              "<div>\n",
              "<style scoped>\n",
              "    .dataframe tbody tr th:only-of-type {\n",
              "        vertical-align: middle;\n",
              "    }\n",
              "\n",
              "    .dataframe tbody tr th {\n",
              "        vertical-align: top;\n",
              "    }\n",
              "\n",
              "    .dataframe thead th {\n",
              "        text-align: right;\n",
              "    }\n",
              "</style>\n",
              "<table border=\"1\" class=\"dataframe\">\n",
              "  <thead>\n",
              "    <tr style=\"text-align: right;\">\n",
              "      <th>gender</th>\n",
              "      <th>F</th>\n",
              "      <th>M</th>\n",
              "    </tr>\n",
              "  </thead>\n",
              "  <tbody>\n",
              "    <tr>\n",
              "      <th>Close Shave, A (1995)</th>\n",
              "      <td>4.644444</td>\n",
              "      <td>4.473795</td>\n",
              "    </tr>\n",
              "    <tr>\n",
              "      <th>Wrong Trousers, The (1993)</th>\n",
              "      <td>4.588235</td>\n",
              "      <td>4.478261</td>\n",
              "    </tr>\n",
              "    <tr>\n",
              "      <th>General, The (1927)</th>\n",
              "      <td>4.575758</td>\n",
              "      <td>4.329480</td>\n",
              "    </tr>\n",
              "    <tr>\n",
              "      <th>Sunset Blvd. (a.k.a. Sunset Boulevard) (1950)</th>\n",
              "      <td>4.572650</td>\n",
              "      <td>4.464589</td>\n",
              "    </tr>\n",
              "    <tr>\n",
              "      <th>Wallace &amp; Gromit: The Best of Aardman Animation (1996)</th>\n",
              "      <td>4.563107</td>\n",
              "      <td>4.385075</td>\n",
              "    </tr>\n",
              "    <tr>\n",
              "      <th>Schindler's List (1993)</th>\n",
              "      <td>4.562602</td>\n",
              "      <td>4.491415</td>\n",
              "    </tr>\n",
              "    <tr>\n",
              "      <th>Grand Illusion (Grande illusion, La) (1937)</th>\n",
              "      <td>4.560976</td>\n",
              "      <td>4.266129</td>\n",
              "    </tr>\n",
              "    <tr>\n",
              "      <th>Shawshank Redemption, The (1994)</th>\n",
              "      <td>4.539075</td>\n",
              "      <td>4.560625</td>\n",
              "    </tr>\n",
              "    <tr>\n",
              "      <th>Grand Day Out, A (1992)</th>\n",
              "      <td>4.537879</td>\n",
              "      <td>4.293255</td>\n",
              "    </tr>\n",
              "    <tr>\n",
              "      <th>To Kill a Mockingbird (1962)</th>\n",
              "      <td>4.536667</td>\n",
              "      <td>4.372611</td>\n",
              "    </tr>\n",
              "  </tbody>\n",
              "</table>\n",
              "</div>"
            ],
            "text/plain": [
              "gender                                                     F         M\n",
              "Close Shave, A (1995)                               4.644444  4.473795\n",
              "Wrong Trousers, The (1993)                          4.588235  4.478261\n",
              "General, The (1927)                                 4.575758  4.329480\n",
              "Sunset Blvd. (a.k.a. Sunset Boulevard) (1950)       4.572650  4.464589\n",
              "Wallace & Gromit: The Best of Aardman Animation...  4.563107  4.385075\n",
              "Schindler's List (1993)                             4.562602  4.491415\n",
              "Grand Illusion (Grande illusion, La) (1937)         4.560976  4.266129\n",
              "Shawshank Redemption, The (1994)                    4.539075  4.560625\n",
              "Grand Day Out, A (1992)                             4.537879  4.293255\n",
              "To Kill a Mockingbird (1962)                        4.536667  4.372611"
            ]
          },
          "metadata": {
            "tags": []
          },
          "execution_count": 63
        }
      ]
    },
    {
      "cell_type": "code",
      "metadata": {
        "colab": {
          "base_uri": "https://localhost:8080/",
          "height": 363
        },
        "id": "70UCmvHvAaBm",
        "outputId": "339bf979-c54c-4fe8-cb96-2c349effb6d1"
      },
      "source": [
        "# 남성 평점 상위 10개 영화\n",
        "by_gender_150.sort_values(by='M', ascending=False).head(n=10)"
      ],
      "execution_count": 64,
      "outputs": [
        {
          "output_type": "execute_result",
          "data": {
            "text/html": [
              "<div>\n",
              "<style scoped>\n",
              "    .dataframe tbody tr th:only-of-type {\n",
              "        vertical-align: middle;\n",
              "    }\n",
              "\n",
              "    .dataframe tbody tr th {\n",
              "        vertical-align: top;\n",
              "    }\n",
              "\n",
              "    .dataframe thead th {\n",
              "        text-align: right;\n",
              "    }\n",
              "</style>\n",
              "<table border=\"1\" class=\"dataframe\">\n",
              "  <thead>\n",
              "    <tr style=\"text-align: right;\">\n",
              "      <th>gender</th>\n",
              "      <th>F</th>\n",
              "      <th>M</th>\n",
              "    </tr>\n",
              "  </thead>\n",
              "  <tbody>\n",
              "    <tr>\n",
              "      <th>Godfather, The (1972)</th>\n",
              "      <td>4.314700</td>\n",
              "      <td>4.583333</td>\n",
              "    </tr>\n",
              "    <tr>\n",
              "      <th>Seven Samurai (The Magnificent Seven) (Shichinin no samurai) (1954)</th>\n",
              "      <td>4.481132</td>\n",
              "      <td>4.576628</td>\n",
              "    </tr>\n",
              "    <tr>\n",
              "      <th>Shawshank Redemption, The (1994)</th>\n",
              "      <td>4.539075</td>\n",
              "      <td>4.560625</td>\n",
              "    </tr>\n",
              "    <tr>\n",
              "      <th>Raiders of the Lost Ark (1981)</th>\n",
              "      <td>4.332168</td>\n",
              "      <td>4.520597</td>\n",
              "    </tr>\n",
              "    <tr>\n",
              "      <th>Usual Suspects, The (1995)</th>\n",
              "      <td>4.513317</td>\n",
              "      <td>4.518248</td>\n",
              "    </tr>\n",
              "    <tr>\n",
              "      <th>Star Wars: Episode IV - A New Hope (1977)</th>\n",
              "      <td>4.302937</td>\n",
              "      <td>4.495307</td>\n",
              "    </tr>\n",
              "    <tr>\n",
              "      <th>Schindler's List (1993)</th>\n",
              "      <td>4.562602</td>\n",
              "      <td>4.491415</td>\n",
              "    </tr>\n",
              "    <tr>\n",
              "      <th>Paths of Glory (1957)</th>\n",
              "      <td>4.392857</td>\n",
              "      <td>4.485149</td>\n",
              "    </tr>\n",
              "    <tr>\n",
              "      <th>Wrong Trousers, The (1993)</th>\n",
              "      <td>4.588235</td>\n",
              "      <td>4.478261</td>\n",
              "    </tr>\n",
              "    <tr>\n",
              "      <th>Close Shave, A (1995)</th>\n",
              "      <td>4.644444</td>\n",
              "      <td>4.473795</td>\n",
              "    </tr>\n",
              "  </tbody>\n",
              "</table>\n",
              "</div>"
            ],
            "text/plain": [
              "gender                                                     F         M\n",
              "Godfather, The (1972)                               4.314700  4.583333\n",
              "Seven Samurai (The Magnificent Seven) (Shichini...  4.481132  4.576628\n",
              "Shawshank Redemption, The (1994)                    4.539075  4.560625\n",
              "Raiders of the Lost Ark (1981)                      4.332168  4.520597\n",
              "Usual Suspects, The (1995)                          4.513317  4.518248\n",
              "Star Wars: Episode IV - A New Hope (1977)           4.302937  4.495307\n",
              "Schindler's List (1993)                             4.562602  4.491415\n",
              "Paths of Glory (1957)                               4.392857  4.485149\n",
              "Wrong Trousers, The (1993)                          4.588235  4.478261\n",
              "Close Shave, A (1995)                               4.644444  4.473795"
            ]
          },
          "metadata": {
            "tags": []
          },
          "execution_count": 64
        }
      ]
    },
    {
      "cell_type": "code",
      "metadata": {
        "id": "zbjbdThFEDgM"
      },
      "source": [
        "# 남성 평점 평균과 여성 평점 평균의 차이(diff)를 파생 변수로 추가\n",
        "by_gender_150['diff'] = by_gender_150['M'] - by_gender_150['F']"
      ],
      "execution_count": 65,
      "outputs": []
    },
    {
      "cell_type": "code",
      "metadata": {
        "colab": {
          "base_uri": "https://localhost:8080/",
          "height": 423
        },
        "id": "YnEne2LeJ3kS",
        "outputId": "1791f4dc-d339-453b-de57-1bfda2ed2ee5"
      },
      "source": [
        "by_gender_150"
      ],
      "execution_count": 66,
      "outputs": [
        {
          "output_type": "execute_result",
          "data": {
            "text/html": [
              "<div>\n",
              "<style scoped>\n",
              "    .dataframe tbody tr th:only-of-type {\n",
              "        vertical-align: middle;\n",
              "    }\n",
              "\n",
              "    .dataframe tbody tr th {\n",
              "        vertical-align: top;\n",
              "    }\n",
              "\n",
              "    .dataframe thead th {\n",
              "        text-align: right;\n",
              "    }\n",
              "</style>\n",
              "<table border=\"1\" class=\"dataframe\">\n",
              "  <thead>\n",
              "    <tr style=\"text-align: right;\">\n",
              "      <th>gender</th>\n",
              "      <th>F</th>\n",
              "      <th>M</th>\n",
              "      <th>diff</th>\n",
              "    </tr>\n",
              "  </thead>\n",
              "  <tbody>\n",
              "    <tr>\n",
              "      <th>American Beauty (1999)</th>\n",
              "      <td>4.238901</td>\n",
              "      <td>4.347301</td>\n",
              "      <td>0.108400</td>\n",
              "    </tr>\n",
              "    <tr>\n",
              "      <th>Star Wars: Episode IV - A New Hope (1977)</th>\n",
              "      <td>4.302937</td>\n",
              "      <td>4.495307</td>\n",
              "      <td>0.192371</td>\n",
              "    </tr>\n",
              "    <tr>\n",
              "      <th>Star Wars: Episode V - The Empire Strikes Back (1980)</th>\n",
              "      <td>4.106481</td>\n",
              "      <td>4.344577</td>\n",
              "      <td>0.238096</td>\n",
              "    </tr>\n",
              "    <tr>\n",
              "      <th>Star Wars: Episode VI - Return of the Jedi (1983)</th>\n",
              "      <td>3.865237</td>\n",
              "      <td>4.069058</td>\n",
              "      <td>0.203821</td>\n",
              "    </tr>\n",
              "    <tr>\n",
              "      <th>Jurassic Park (1993)</th>\n",
              "      <td>3.579407</td>\n",
              "      <td>3.814197</td>\n",
              "      <td>0.234791</td>\n",
              "    </tr>\n",
              "    <tr>\n",
              "      <th>...</th>\n",
              "      <td>...</td>\n",
              "      <td>...</td>\n",
              "      <td>...</td>\n",
              "    </tr>\n",
              "    <tr>\n",
              "      <th>Asphalt Jungle, The (1950)</th>\n",
              "      <td>3.571429</td>\n",
              "      <td>4.008130</td>\n",
              "      <td>0.436702</td>\n",
              "    </tr>\n",
              "    <tr>\n",
              "      <th>Golden Voyage of Sinbad, The (1974)</th>\n",
              "      <td>3.157895</td>\n",
              "      <td>3.431818</td>\n",
              "      <td>0.273923</td>\n",
              "    </tr>\n",
              "    <tr>\n",
              "      <th>In the Army Now (1994)</th>\n",
              "      <td>2.384615</td>\n",
              "      <td>2.192000</td>\n",
              "      <td>-0.192615</td>\n",
              "    </tr>\n",
              "    <tr>\n",
              "      <th>Love and Death on Long Island (1997)</th>\n",
              "      <td>3.116279</td>\n",
              "      <td>3.555556</td>\n",
              "      <td>0.439276</td>\n",
              "    </tr>\n",
              "    <tr>\n",
              "      <th>Police Academy 5: Assignment: Miami Beach (1988)</th>\n",
              "      <td>1.935484</td>\n",
              "      <td>1.722689</td>\n",
              "      <td>-0.212795</td>\n",
              "    </tr>\n",
              "  </tbody>\n",
              "</table>\n",
              "<p>1683 rows × 3 columns</p>\n",
              "</div>"
            ],
            "text/plain": [
              "gender                                                     F  ...      diff\n",
              "American Beauty (1999)                              4.238901  ...  0.108400\n",
              "Star Wars: Episode IV - A New Hope (1977)           4.302937  ...  0.192371\n",
              "Star Wars: Episode V - The Empire Strikes Back ...  4.106481  ...  0.238096\n",
              "Star Wars: Episode VI - Return of the Jedi (1983)   3.865237  ...  0.203821\n",
              "Jurassic Park (1993)                                3.579407  ...  0.234791\n",
              "...                                                      ...  ...       ...\n",
              "Asphalt Jungle, The (1950)                          3.571429  ...  0.436702\n",
              "Golden Voyage of Sinbad, The (1974)                 3.157895  ...  0.273923\n",
              "In the Army Now (1994)                              2.384615  ... -0.192615\n",
              "Love and Death on Long Island (1997)                3.116279  ...  0.439276\n",
              "Police Academy 5: Assignment: Miami Beach (1988)    1.935484  ... -0.212795\n",
              "\n",
              "[1683 rows x 3 columns]"
            ]
          },
          "metadata": {
            "tags": []
          },
          "execution_count": 66
        }
      ]
    },
    {
      "cell_type": "markdown",
      "metadata": {
        "id": "ouzI4WgVKEcK"
      },
      "source": [
        "남녀 평점의 차이가 큰 영화 - 남녀 선호도가 차이나는 영화\n",
        "\n",
        "* 여성 평점 평균이 높은 경우\n",
        "* 남성 평점 평균이 높은 경우\n"
      ]
    },
    {
      "cell_type": "code",
      "metadata": {
        "colab": {
          "base_uri": "https://localhost:8080/",
          "height": 363
        },
        "id": "d-yFUISuJ4iY",
        "outputId": "2c47c4fb-389f-453b-fe0a-6aaab233e0c8"
      },
      "source": [
        "# 150건 이상의 리뷰를 받은 영화들 중에서 여성들의 평점이 남성에 비해서 높은 영화 상위 10개\n",
        "# ascending=True 생략 -> 오름차순 정렬 ->  작은 숫자부터 큰 숫자 순으로 정렬\n",
        "by_gender_150.sort_values(by='diff').head(n=10)"
      ],
      "execution_count": 68,
      "outputs": [
        {
          "output_type": "execute_result",
          "data": {
            "text/html": [
              "<div>\n",
              "<style scoped>\n",
              "    .dataframe tbody tr th:only-of-type {\n",
              "        vertical-align: middle;\n",
              "    }\n",
              "\n",
              "    .dataframe tbody tr th {\n",
              "        vertical-align: top;\n",
              "    }\n",
              "\n",
              "    .dataframe thead th {\n",
              "        text-align: right;\n",
              "    }\n",
              "</style>\n",
              "<table border=\"1\" class=\"dataframe\">\n",
              "  <thead>\n",
              "    <tr style=\"text-align: right;\">\n",
              "      <th>gender</th>\n",
              "      <th>F</th>\n",
              "      <th>M</th>\n",
              "      <th>diff</th>\n",
              "    </tr>\n",
              "  </thead>\n",
              "  <tbody>\n",
              "    <tr>\n",
              "      <th>Dirty Dancing (1987)</th>\n",
              "      <td>3.790378</td>\n",
              "      <td>2.959596</td>\n",
              "      <td>-0.830782</td>\n",
              "    </tr>\n",
              "    <tr>\n",
              "      <th>Home Alone 3 (1997)</th>\n",
              "      <td>2.486486</td>\n",
              "      <td>1.683761</td>\n",
              "      <td>-0.802726</td>\n",
              "    </tr>\n",
              "    <tr>\n",
              "      <th>To Wong Foo, Thanks for Everything! Julie Newmar (1995)</th>\n",
              "      <td>3.486842</td>\n",
              "      <td>2.795276</td>\n",
              "      <td>-0.691567</td>\n",
              "    </tr>\n",
              "    <tr>\n",
              "      <th>Jumpin' Jack Flash (1986)</th>\n",
              "      <td>3.254717</td>\n",
              "      <td>2.578358</td>\n",
              "      <td>-0.676359</td>\n",
              "    </tr>\n",
              "    <tr>\n",
              "      <th>Dracula: Dead and Loving It (1995)</th>\n",
              "      <td>2.892857</td>\n",
              "      <td>2.250000</td>\n",
              "      <td>-0.642857</td>\n",
              "    </tr>\n",
              "    <tr>\n",
              "      <th>Grease (1978)</th>\n",
              "      <td>3.975265</td>\n",
              "      <td>3.367041</td>\n",
              "      <td>-0.608224</td>\n",
              "    </tr>\n",
              "    <tr>\n",
              "      <th>Police Academy 4: Citizens on Patrol (1987)</th>\n",
              "      <td>2.406250</td>\n",
              "      <td>1.802817</td>\n",
              "      <td>-0.603433</td>\n",
              "    </tr>\n",
              "    <tr>\n",
              "      <th>Brokedown Palace (1999)</th>\n",
              "      <td>3.312500</td>\n",
              "      <td>2.723577</td>\n",
              "      <td>-0.588923</td>\n",
              "    </tr>\n",
              "    <tr>\n",
              "      <th>Relic, The (1997)</th>\n",
              "      <td>3.309524</td>\n",
              "      <td>2.723077</td>\n",
              "      <td>-0.586447</td>\n",
              "    </tr>\n",
              "    <tr>\n",
              "      <th>Angels in the Outfield (1994)</th>\n",
              "      <td>3.162500</td>\n",
              "      <td>2.580838</td>\n",
              "      <td>-0.581662</td>\n",
              "    </tr>\n",
              "  </tbody>\n",
              "</table>\n",
              "</div>"
            ],
            "text/plain": [
              "gender                                                     F  ...      diff\n",
              "Dirty Dancing (1987)                                3.790378  ... -0.830782\n",
              "Home Alone 3 (1997)                                 2.486486  ... -0.802726\n",
              "To Wong Foo, Thanks for Everything! Julie Newma...  3.486842  ... -0.691567\n",
              "Jumpin' Jack Flash (1986)                           3.254717  ... -0.676359\n",
              "Dracula: Dead and Loving It (1995)                  2.892857  ... -0.642857\n",
              "Grease (1978)                                       3.975265  ... -0.608224\n",
              "Police Academy 4: Citizens on Patrol (1987)         2.406250  ... -0.603433\n",
              "Brokedown Palace (1999)                             3.312500  ... -0.588923\n",
              "Relic, The (1997)                                   3.309524  ... -0.586447\n",
              "Angels in the Outfield (1994)                       3.162500  ... -0.581662\n",
              "\n",
              "[10 rows x 3 columns]"
            ]
          },
          "metadata": {
            "tags": []
          },
          "execution_count": 68
        }
      ]
    },
    {
      "cell_type": "code",
      "metadata": {
        "colab": {
          "base_uri": "https://localhost:8080/",
          "height": 363
        },
        "id": "JXT3xLygK6CR",
        "outputId": "22fda7ec-7b55-4ea5-8057-ec4062428d74"
      },
      "source": [
        "# 150건 이상의 리뷰를 받은 영화들 중에서 남성들의 평점이 여성에 비해서 높은 영화 상위 10개\n",
        "# 내림차순 정렬 -> 큰 숫자부터 작은 숫자 순서로 정렬\n",
        "by_gender_150.sort_values(by='diff', ascending=False).head(n=10)"
      ],
      "execution_count": 69,
      "outputs": [
        {
          "output_type": "execute_result",
          "data": {
            "text/html": [
              "<div>\n",
              "<style scoped>\n",
              "    .dataframe tbody tr th:only-of-type {\n",
              "        vertical-align: middle;\n",
              "    }\n",
              "\n",
              "    .dataframe tbody tr th {\n",
              "        vertical-align: top;\n",
              "    }\n",
              "\n",
              "    .dataframe thead th {\n",
              "        text-align: right;\n",
              "    }\n",
              "</style>\n",
              "<table border=\"1\" class=\"dataframe\">\n",
              "  <thead>\n",
              "    <tr style=\"text-align: right;\">\n",
              "      <th>gender</th>\n",
              "      <th>F</th>\n",
              "      <th>M</th>\n",
              "      <th>diff</th>\n",
              "    </tr>\n",
              "  </thead>\n",
              "  <tbody>\n",
              "    <tr>\n",
              "      <th>Lifeforce (1985)</th>\n",
              "      <td>2.250000</td>\n",
              "      <td>2.994152</td>\n",
              "      <td>0.744152</td>\n",
              "    </tr>\n",
              "    <tr>\n",
              "      <th>Quest for Fire (1981)</th>\n",
              "      <td>2.578947</td>\n",
              "      <td>3.309677</td>\n",
              "      <td>0.730730</td>\n",
              "    </tr>\n",
              "    <tr>\n",
              "      <th>Good, The Bad and The Ugly, The (1966)</th>\n",
              "      <td>3.494949</td>\n",
              "      <td>4.221300</td>\n",
              "      <td>0.726351</td>\n",
              "    </tr>\n",
              "    <tr>\n",
              "      <th>No Escape (1994)</th>\n",
              "      <td>2.300000</td>\n",
              "      <td>2.994048</td>\n",
              "      <td>0.694048</td>\n",
              "    </tr>\n",
              "    <tr>\n",
              "      <th>Kentucky Fried Movie, The (1977)</th>\n",
              "      <td>2.878788</td>\n",
              "      <td>3.555147</td>\n",
              "      <td>0.676359</td>\n",
              "    </tr>\n",
              "    <tr>\n",
              "      <th>Tora! Tora! Tora! (1970)</th>\n",
              "      <td>3.090909</td>\n",
              "      <td>3.737705</td>\n",
              "      <td>0.646796</td>\n",
              "    </tr>\n",
              "    <tr>\n",
              "      <th>Up in Smoke (1978)</th>\n",
              "      <td>2.944444</td>\n",
              "      <td>3.585227</td>\n",
              "      <td>0.640783</td>\n",
              "    </tr>\n",
              "    <tr>\n",
              "      <th>Dumb &amp; Dumber (1994)</th>\n",
              "      <td>2.697987</td>\n",
              "      <td>3.336595</td>\n",
              "      <td>0.638608</td>\n",
              "    </tr>\n",
              "    <tr>\n",
              "      <th>Friday the 13th: The Final Chapter (1984)</th>\n",
              "      <td>1.636364</td>\n",
              "      <td>2.258503</td>\n",
              "      <td>0.622140</td>\n",
              "    </tr>\n",
              "    <tr>\n",
              "      <th>Longest Day, The (1962)</th>\n",
              "      <td>3.411765</td>\n",
              "      <td>4.031447</td>\n",
              "      <td>0.619682</td>\n",
              "    </tr>\n",
              "  </tbody>\n",
              "</table>\n",
              "</div>"
            ],
            "text/plain": [
              "gender                                            F         M      diff\n",
              "Lifeforce (1985)                           2.250000  2.994152  0.744152\n",
              "Quest for Fire (1981)                      2.578947  3.309677  0.730730\n",
              "Good, The Bad and The Ugly, The (1966)     3.494949  4.221300  0.726351\n",
              "No Escape (1994)                           2.300000  2.994048  0.694048\n",
              "Kentucky Fried Movie, The (1977)           2.878788  3.555147  0.676359\n",
              "Tora! Tora! Tora! (1970)                   3.090909  3.737705  0.646796\n",
              "Up in Smoke (1978)                         2.944444  3.585227  0.640783\n",
              "Dumb & Dumber (1994)                       2.697987  3.336595  0.638608\n",
              "Friday the 13th: The Final Chapter (1984)  1.636364  2.258503  0.622140\n",
              "Longest Day, The (1962)                    3.411765  4.031447  0.619682"
            ]
          },
          "metadata": {
            "tags": []
          },
          "execution_count": 69
        }
      ]
    },
    {
      "cell_type": "markdown",
      "metadata": {
        "id": "baiRi0SANuvg"
      },
      "source": [
        "성별과 상관없이, 영화의 선호도 차이가 큰 영화들 - 평점 표준편차"
      ]
    },
    {
      "cell_type": "code",
      "metadata": {
        "id": "e3BEyh9uNuUL"
      },
      "source": [
        "# 영화 제목별 평점 평균, 표준편차\n",
        "by_title = df.groupby('title')['rating'].agg(['mean', 'std'])"
      ],
      "execution_count": 71,
      "outputs": []
    },
    {
      "cell_type": "code",
      "metadata": {
        "colab": {
          "base_uri": "https://localhost:8080/",
          "height": 455
        },
        "id": "bmA-7uCSOs8w",
        "outputId": "695b379d-d652-4323-d9f6-ed26765876f6"
      },
      "source": [
        "by_title"
      ],
      "execution_count": 72,
      "outputs": [
        {
          "output_type": "execute_result",
          "data": {
            "text/html": [
              "<div>\n",
              "<style scoped>\n",
              "    .dataframe tbody tr th:only-of-type {\n",
              "        vertical-align: middle;\n",
              "    }\n",
              "\n",
              "    .dataframe tbody tr th {\n",
              "        vertical-align: top;\n",
              "    }\n",
              "\n",
              "    .dataframe thead th {\n",
              "        text-align: right;\n",
              "    }\n",
              "</style>\n",
              "<table border=\"1\" class=\"dataframe\">\n",
              "  <thead>\n",
              "    <tr style=\"text-align: right;\">\n",
              "      <th></th>\n",
              "      <th>mean</th>\n",
              "      <th>std</th>\n",
              "    </tr>\n",
              "    <tr>\n",
              "      <th>title</th>\n",
              "      <th></th>\n",
              "      <th></th>\n",
              "    </tr>\n",
              "  </thead>\n",
              "  <tbody>\n",
              "    <tr>\n",
              "      <th>$1,000,000 Duck (1971)</th>\n",
              "      <td>3.027027</td>\n",
              "      <td>1.092563</td>\n",
              "    </tr>\n",
              "    <tr>\n",
              "      <th>'Night Mother (1986)</th>\n",
              "      <td>3.371429</td>\n",
              "      <td>1.118636</td>\n",
              "    </tr>\n",
              "    <tr>\n",
              "      <th>'Til There Was You (1997)</th>\n",
              "      <td>2.692308</td>\n",
              "      <td>1.020159</td>\n",
              "    </tr>\n",
              "    <tr>\n",
              "      <th>'burbs, The (1989)</th>\n",
              "      <td>2.910891</td>\n",
              "      <td>1.107760</td>\n",
              "    </tr>\n",
              "    <tr>\n",
              "      <th>...And Justice for All (1979)</th>\n",
              "      <td>3.713568</td>\n",
              "      <td>0.878110</td>\n",
              "    </tr>\n",
              "    <tr>\n",
              "      <th>...</th>\n",
              "      <td>...</td>\n",
              "      <td>...</td>\n",
              "    </tr>\n",
              "    <tr>\n",
              "      <th>Zed &amp; Two Noughts, A (1985)</th>\n",
              "      <td>3.413793</td>\n",
              "      <td>1.052794</td>\n",
              "    </tr>\n",
              "    <tr>\n",
              "      <th>Zero Effect (1998)</th>\n",
              "      <td>3.750831</td>\n",
              "      <td>1.042932</td>\n",
              "    </tr>\n",
              "    <tr>\n",
              "      <th>Zero Kelvin (Kjærlighetens kjøtere) (1995)</th>\n",
              "      <td>3.500000</td>\n",
              "      <td>0.707107</td>\n",
              "    </tr>\n",
              "    <tr>\n",
              "      <th>Zeus and Roxanne (1997)</th>\n",
              "      <td>2.521739</td>\n",
              "      <td>1.122884</td>\n",
              "    </tr>\n",
              "    <tr>\n",
              "      <th>eXistenZ (1999)</th>\n",
              "      <td>3.256098</td>\n",
              "      <td>1.178568</td>\n",
              "    </tr>\n",
              "  </tbody>\n",
              "</table>\n",
              "<p>3706 rows × 2 columns</p>\n",
              "</div>"
            ],
            "text/plain": [
              "                                                mean       std\n",
              "title                                                         \n",
              "$1,000,000 Duck (1971)                      3.027027  1.092563\n",
              "'Night Mother (1986)                        3.371429  1.118636\n",
              "'Til There Was You (1997)                   2.692308  1.020159\n",
              "'burbs, The (1989)                          2.910891  1.107760\n",
              "...And Justice for All (1979)               3.713568  0.878110\n",
              "...                                              ...       ...\n",
              "Zed & Two Noughts, A (1985)                 3.413793  1.052794\n",
              "Zero Effect (1998)                          3.750831  1.042932\n",
              "Zero Kelvin (Kjærlighetens kjøtere) (1995)  3.500000  0.707107\n",
              "Zeus and Roxanne (1997)                     2.521739  1.122884\n",
              "eXistenZ (1999)                             3.256098  1.178568\n",
              "\n",
              "[3706 rows x 2 columns]"
            ]
          },
          "metadata": {
            "tags": []
          },
          "execution_count": 72
        }
      ]
    },
    {
      "cell_type": "code",
      "metadata": {
        "id": "gVryku7aOuFA"
      },
      "source": [
        "# 150건 이상의 리뷰를 받은 영화들만 선택\n",
        "by_title_150 = by_title.loc[indexer]"
      ],
      "execution_count": 73,
      "outputs": []
    },
    {
      "cell_type": "code",
      "metadata": {
        "colab": {
          "base_uri": "https://localhost:8080/",
          "height": 423
        },
        "id": "wyyv7zAHPCFR",
        "outputId": "559ca78a-ccf2-4f78-d463-74b030bc5626"
      },
      "source": [
        "by_title_150"
      ],
      "execution_count": 74,
      "outputs": [
        {
          "output_type": "execute_result",
          "data": {
            "text/html": [
              "<div>\n",
              "<style scoped>\n",
              "    .dataframe tbody tr th:only-of-type {\n",
              "        vertical-align: middle;\n",
              "    }\n",
              "\n",
              "    .dataframe tbody tr th {\n",
              "        vertical-align: top;\n",
              "    }\n",
              "\n",
              "    .dataframe thead th {\n",
              "        text-align: right;\n",
              "    }\n",
              "</style>\n",
              "<table border=\"1\" class=\"dataframe\">\n",
              "  <thead>\n",
              "    <tr style=\"text-align: right;\">\n",
              "      <th></th>\n",
              "      <th>mean</th>\n",
              "      <th>std</th>\n",
              "    </tr>\n",
              "  </thead>\n",
              "  <tbody>\n",
              "    <tr>\n",
              "      <th>American Beauty (1999)</th>\n",
              "      <td>4.317386</td>\n",
              "      <td>0.975133</td>\n",
              "    </tr>\n",
              "    <tr>\n",
              "      <th>Star Wars: Episode IV - A New Hope (1977)</th>\n",
              "      <td>4.453694</td>\n",
              "      <td>0.800781</td>\n",
              "    </tr>\n",
              "    <tr>\n",
              "      <th>Star Wars: Episode V - The Empire Strikes Back (1980)</th>\n",
              "      <td>4.292977</td>\n",
              "      <td>0.844432</td>\n",
              "    </tr>\n",
              "    <tr>\n",
              "      <th>Star Wars: Episode VI - Return of the Jedi (1983)</th>\n",
              "      <td>4.022893</td>\n",
              "      <td>0.927356</td>\n",
              "    </tr>\n",
              "    <tr>\n",
              "      <th>Jurassic Park (1993)</th>\n",
              "      <td>3.763847</td>\n",
              "      <td>0.969777</td>\n",
              "    </tr>\n",
              "    <tr>\n",
              "      <th>...</th>\n",
              "      <td>...</td>\n",
              "      <td>...</td>\n",
              "    </tr>\n",
              "    <tr>\n",
              "      <th>Asphalt Jungle, The (1950)</th>\n",
              "      <td>3.927152</td>\n",
              "      <td>0.833461</td>\n",
              "    </tr>\n",
              "    <tr>\n",
              "      <th>Golden Voyage of Sinbad, The (1974)</th>\n",
              "      <td>3.397351</td>\n",
              "      <td>0.879996</td>\n",
              "    </tr>\n",
              "    <tr>\n",
              "      <th>In the Army Now (1994)</th>\n",
              "      <td>2.225166</td>\n",
              "      <td>1.020929</td>\n",
              "    </tr>\n",
              "    <tr>\n",
              "      <th>Love and Death on Long Island (1997)</th>\n",
              "      <td>3.430464</td>\n",
              "      <td>0.969604</td>\n",
              "    </tr>\n",
              "    <tr>\n",
              "      <th>Police Academy 5: Assignment: Miami Beach (1988)</th>\n",
              "      <td>1.766667</td>\n",
              "      <td>1.006133</td>\n",
              "    </tr>\n",
              "  </tbody>\n",
              "</table>\n",
              "<p>1683 rows × 2 columns</p>\n",
              "</div>"
            ],
            "text/plain": [
              "                                                        mean       std\n",
              "American Beauty (1999)                              4.317386  0.975133\n",
              "Star Wars: Episode IV - A New Hope (1977)           4.453694  0.800781\n",
              "Star Wars: Episode V - The Empire Strikes Back ...  4.292977  0.844432\n",
              "Star Wars: Episode VI - Return of the Jedi (1983)   4.022893  0.927356\n",
              "Jurassic Park (1993)                                3.763847  0.969777\n",
              "...                                                      ...       ...\n",
              "Asphalt Jungle, The (1950)                          3.927152  0.833461\n",
              "Golden Voyage of Sinbad, The (1974)                 3.397351  0.879996\n",
              "In the Army Now (1994)                              2.225166  1.020929\n",
              "Love and Death on Long Island (1997)                3.430464  0.969604\n",
              "Police Academy 5: Assignment: Miami Beach (1988)    1.766667  1.006133\n",
              "\n",
              "[1683 rows x 2 columns]"
            ]
          },
          "metadata": {
            "tags": []
          },
          "execution_count": 74
        }
      ]
    },
    {
      "cell_type": "code",
      "metadata": {
        "colab": {
          "base_uri": "https://localhost:8080/",
          "height": 363
        },
        "id": "DrCB0vqsPC3w",
        "outputId": "98798f00-947d-49e2-e18c-4c5ee0a38818"
      },
      "source": [
        "# 표준편차 내림차순 정렬\n",
        "by_title_150.sort_values(by='std', ascending=False).head(n=10)"
      ],
      "execution_count": 76,
      "outputs": [
        {
          "output_type": "execute_result",
          "data": {
            "text/html": [
              "<div>\n",
              "<style scoped>\n",
              "    .dataframe tbody tr th:only-of-type {\n",
              "        vertical-align: middle;\n",
              "    }\n",
              "\n",
              "    .dataframe tbody tr th {\n",
              "        vertical-align: top;\n",
              "    }\n",
              "\n",
              "    .dataframe thead th {\n",
              "        text-align: right;\n",
              "    }\n",
              "</style>\n",
              "<table border=\"1\" class=\"dataframe\">\n",
              "  <thead>\n",
              "    <tr style=\"text-align: right;\">\n",
              "      <th></th>\n",
              "      <th>mean</th>\n",
              "      <th>std</th>\n",
              "    </tr>\n",
              "  </thead>\n",
              "  <tbody>\n",
              "    <tr>\n",
              "      <th>Plan 9 from Outer Space (1958)</th>\n",
              "      <td>2.634538</td>\n",
              "      <td>1.455998</td>\n",
              "    </tr>\n",
              "    <tr>\n",
              "      <th>Texas Chainsaw Massacre, The (1974)</th>\n",
              "      <td>3.222672</td>\n",
              "      <td>1.332448</td>\n",
              "    </tr>\n",
              "    <tr>\n",
              "      <th>Dumb &amp; Dumber (1994)</th>\n",
              "      <td>3.192424</td>\n",
              "      <td>1.321333</td>\n",
              "    </tr>\n",
              "    <tr>\n",
              "      <th>Blair Witch Project, The (1999)</th>\n",
              "      <td>3.031528</td>\n",
              "      <td>1.316368</td>\n",
              "    </tr>\n",
              "    <tr>\n",
              "      <th>Natural Born Killers (1994)</th>\n",
              "      <td>3.144286</td>\n",
              "      <td>1.307198</td>\n",
              "    </tr>\n",
              "    <tr>\n",
              "      <th>Idle Hands (1999)</th>\n",
              "      <td>2.724638</td>\n",
              "      <td>1.298439</td>\n",
              "    </tr>\n",
              "    <tr>\n",
              "      <th>Pink Flamingos (1972)</th>\n",
              "      <td>3.240506</td>\n",
              "      <td>1.293937</td>\n",
              "    </tr>\n",
              "    <tr>\n",
              "      <th>Transformers: The Movie, The (1986)</th>\n",
              "      <td>3.380952</td>\n",
              "      <td>1.292917</td>\n",
              "    </tr>\n",
              "    <tr>\n",
              "      <th>Very Bad Things (1998)</th>\n",
              "      <td>2.774194</td>\n",
              "      <td>1.280074</td>\n",
              "    </tr>\n",
              "    <tr>\n",
              "      <th>Tank Girl (1995)</th>\n",
              "      <td>2.614525</td>\n",
              "      <td>1.277695</td>\n",
              "    </tr>\n",
              "  </tbody>\n",
              "</table>\n",
              "</div>"
            ],
            "text/plain": [
              "                                         mean       std\n",
              "Plan 9 from Outer Space (1958)       2.634538  1.455998\n",
              "Texas Chainsaw Massacre, The (1974)  3.222672  1.332448\n",
              "Dumb & Dumber (1994)                 3.192424  1.321333\n",
              "Blair Witch Project, The (1999)      3.031528  1.316368\n",
              "Natural Born Killers (1994)          3.144286  1.307198\n",
              "Idle Hands (1999)                    2.724638  1.298439\n",
              "Pink Flamingos (1972)                3.240506  1.293937\n",
              "Transformers: The Movie, The (1986)  3.380952  1.292917\n",
              "Very Bad Things (1998)               2.774194  1.280074\n",
              "Tank Girl (1995)                     2.614525  1.277695"
            ]
          },
          "metadata": {
            "tags": []
          },
          "execution_count": 76
        }
      ]
    },
    {
      "cell_type": "code",
      "metadata": {
        "colab": {
          "base_uri": "https://localhost:8080/",
          "height": 363
        },
        "id": "KbN9qXrplI2g",
        "outputId": "551f7aa0-b035-4729-e7ff-71f9a732b467"
      },
      "source": [
        "# 선호도 차이가 적은 영화 - 평점 평균 표준편차가 작은 영화\n",
        "by_title_150.sort_values(by='std').head(n=10)"
      ],
      "execution_count": 80,
      "outputs": [
        {
          "output_type": "execute_result",
          "data": {
            "text/html": [
              "<div>\n",
              "<style scoped>\n",
              "    .dataframe tbody tr th:only-of-type {\n",
              "        vertical-align: middle;\n",
              "    }\n",
              "\n",
              "    .dataframe tbody tr th {\n",
              "        vertical-align: top;\n",
              "    }\n",
              "\n",
              "    .dataframe thead th {\n",
              "        text-align: right;\n",
              "    }\n",
              "</style>\n",
              "<table border=\"1\" class=\"dataframe\">\n",
              "  <thead>\n",
              "    <tr style=\"text-align: right;\">\n",
              "      <th></th>\n",
              "      <th>mean</th>\n",
              "      <th>std</th>\n",
              "    </tr>\n",
              "  </thead>\n",
              "  <tbody>\n",
              "    <tr>\n",
              "      <th>Close Shave, A (1995)</th>\n",
              "      <td>4.520548</td>\n",
              "      <td>0.667143</td>\n",
              "    </tr>\n",
              "    <tr>\n",
              "      <th>Rear Window (1954)</th>\n",
              "      <td>4.476190</td>\n",
              "      <td>0.688946</td>\n",
              "    </tr>\n",
              "    <tr>\n",
              "      <th>Great Escape, The (1963)</th>\n",
              "      <td>4.376437</td>\n",
              "      <td>0.692585</td>\n",
              "    </tr>\n",
              "    <tr>\n",
              "      <th>Shawshank Redemption, The (1994)</th>\n",
              "      <td>4.554558</td>\n",
              "      <td>0.700443</td>\n",
              "    </tr>\n",
              "    <tr>\n",
              "      <th>Wrong Trousers, The (1993)</th>\n",
              "      <td>4.507937</td>\n",
              "      <td>0.708666</td>\n",
              "    </tr>\n",
              "    <tr>\n",
              "      <th>Central Station (Central do Brasil) (1998)</th>\n",
              "      <td>4.283721</td>\n",
              "      <td>0.709393</td>\n",
              "    </tr>\n",
              "    <tr>\n",
              "      <th>Never Cry Wolf (1983)</th>\n",
              "      <td>3.981132</td>\n",
              "      <td>0.721782</td>\n",
              "    </tr>\n",
              "    <tr>\n",
              "      <th>Soldier's Story, A (1984)</th>\n",
              "      <td>3.737805</td>\n",
              "      <td>0.725206</td>\n",
              "    </tr>\n",
              "    <tr>\n",
              "      <th>Raiders of the Lost Ark (1981)</th>\n",
              "      <td>4.477725</td>\n",
              "      <td>0.725647</td>\n",
              "    </tr>\n",
              "    <tr>\n",
              "      <th>Seven Days in May (1964)</th>\n",
              "      <td>4.254545</td>\n",
              "      <td>0.729639</td>\n",
              "    </tr>\n",
              "  </tbody>\n",
              "</table>\n",
              "</div>"
            ],
            "text/plain": [
              "                                                mean       std\n",
              "Close Shave, A (1995)                       4.520548  0.667143\n",
              "Rear Window (1954)                          4.476190  0.688946\n",
              "Great Escape, The (1963)                    4.376437  0.692585\n",
              "Shawshank Redemption, The (1994)            4.554558  0.700443\n",
              "Wrong Trousers, The (1993)                  4.507937  0.708666\n",
              "Central Station (Central do Brasil) (1998)  4.283721  0.709393\n",
              "Never Cry Wolf (1983)                       3.981132  0.721782\n",
              "Soldier's Story, A (1984)                   3.737805  0.725206\n",
              "Raiders of the Lost Ark (1981)              4.477725  0.725647\n",
              "Seven Days in May (1964)                    4.254545  0.729639"
            ]
          },
          "metadata": {
            "tags": []
          },
          "execution_count": 80
        }
      ]
    },
    {
      "cell_type": "markdown",
      "metadata": {
        "id": "tO2veXosltrg"
      },
      "source": [
        "* 150건 이상 리뷰를 받은 영화들 중에서, 평점 평균 4.0 이상인 영화들에서 자주 등장하는 영화 장르 상위 10개"
      ]
    },
    {
      "cell_type": "code",
      "metadata": {
        "id": "wHr6oqNhkp-l"
      },
      "source": [
        "by_title_150[by_title_150['mean'] >= 4.0]"
      ],
      "execution_count": null,
      "outputs": []
    },
    {
      "cell_type": "markdown",
      "metadata": {
        "id": "A83QRk7HnfUJ"
      },
      "source": [
        "* 150건 이상 리뷰를 받은 영화들 중에서, 여성 평점 평균 4.0 이상인 영화들에서 자주 등장하는 영화 장르 상위 10개"
      ]
    },
    {
      "cell_type": "code",
      "metadata": {
        "id": "tI7e7nybnset"
      },
      "source": [
        ""
      ],
      "execution_count": null,
      "outputs": []
    },
    {
      "cell_type": "markdown",
      "metadata": {
        "id": "StKCMFXdnfMp"
      },
      "source": [
        "* 150건 이상 리뷰를 받은 영화들 중에서, 남성 평점 평균 4.0 이상인 영화들에서 자주 등장하는 영화 장르 상위 10개"
      ]
    },
    {
      "cell_type": "code",
      "metadata": {
        "id": "1YCStRbfmyfJ"
      },
      "source": [
        ""
      ],
      "execution_count": null,
      "outputs": []
    }
  ]
}
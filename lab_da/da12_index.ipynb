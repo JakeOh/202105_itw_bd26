{
  "nbformat": 4,
  "nbformat_minor": 0,
  "metadata": {
    "colab": {
      "name": "da12_index.ipynb",
      "provenance": [],
      "collapsed_sections": [],
      "authorship_tag": "ABX9TyNqtdiOdBOcjLRYo3yjO2BG",
      "include_colab_link": true
    },
    "kernelspec": {
      "name": "python3",
      "display_name": "Python 3"
    },
    "language_info": {
      "name": "python"
    }
  },
  "cells": [
    {
      "cell_type": "markdown",
      "metadata": {
        "id": "view-in-github",
        "colab_type": "text"
      },
      "source": [
        "<a href=\"https://colab.research.google.com/github/JakeOh/202105_itw_bd26/blob/main/lab_da/da12_index.ipynb\" target=\"_parent\"><img src=\"https://colab.research.google.com/assets/colab-badge.svg\" alt=\"Open In Colab\"/></a>"
      ]
    },
    {
      "cell_type": "code",
      "metadata": {
        "id": "GcaagFLw0DJ2"
      },
      "source": [
        "import numpy as np\n",
        "import pandas as pd"
      ],
      "execution_count": 1,
      "outputs": []
    },
    {
      "cell_type": "markdown",
      "metadata": {
        "id": "vsk0CKZP0Swk"
      },
      "source": [
        "# Series 단일 계층 인덱스"
      ]
    },
    {
      "cell_type": "code",
      "metadata": {
        "colab": {
          "base_uri": "https://localhost:8080/"
        },
        "id": "lIXisWdg0OxG",
        "outputId": "2b0a815d-c05d-4b72-890e-4e36733a2cd6"
      },
      "source": [
        "s = pd.Series(data=np.arange(1, 6))\n",
        "s"
      ],
      "execution_count": 2,
      "outputs": [
        {
          "output_type": "execute_result",
          "data": {
            "text/plain": [
              "0    1\n",
              "1    2\n",
              "2    3\n",
              "3    4\n",
              "4    5\n",
              "dtype: int64"
            ]
          },
          "metadata": {
            "tags": []
          },
          "execution_count": 2
        }
      ]
    },
    {
      "cell_type": "code",
      "metadata": {
        "colab": {
          "base_uri": "https://localhost:8080/"
        },
        "id": "m-hKaZo90jPU",
        "outputId": "6a374082-4477-44c5-9498-67dc3a884314"
      },
      "source": [
        "# Series 객체를 생성할 때 index를 설정하지 않으면 RangeIndex가 자동으로 만들어짐.\n",
        "s.index"
      ],
      "execution_count": 3,
      "outputs": [
        {
          "output_type": "execute_result",
          "data": {
            "text/plain": [
              "RangeIndex(start=0, stop=5, step=1)"
            ]
          },
          "metadata": {
            "tags": []
          },
          "execution_count": 3
        }
      ]
    },
    {
      "cell_type": "code",
      "metadata": {
        "colab": {
          "base_uri": "https://localhost:8080/"
        },
        "id": "zi7BkIjI1KLl",
        "outputId": "46871b43-1180-4b79-a32a-4e2ecaf20520"
      },
      "source": [
        "s = pd.Series(data=np.random.randn(5),\n",
        "              index=['a', 'b', 'c', 'd', 'e'])\n",
        "s"
      ],
      "execution_count": 4,
      "outputs": [
        {
          "output_type": "execute_result",
          "data": {
            "text/plain": [
              "a    0.934757\n",
              "b    0.832580\n",
              "c    0.126667\n",
              "d   -2.100427\n",
              "e    0.716984\n",
              "dtype: float64"
            ]
          },
          "metadata": {
            "tags": []
          },
          "execution_count": 4
        }
      ]
    },
    {
      "cell_type": "code",
      "metadata": {
        "colab": {
          "base_uri": "https://localhost:8080/"
        },
        "id": "fCNjExdl1Zgu",
        "outputId": "7b753774-567a-4e01-9648-a92a0deaaff1"
      },
      "source": [
        "s.index"
      ],
      "execution_count": 5,
      "outputs": [
        {
          "output_type": "execute_result",
          "data": {
            "text/plain": [
              "Index(['a', 'b', 'c', 'd', 'e'], dtype='object')"
            ]
          },
          "metadata": {
            "tags": []
          },
          "execution_count": 5
        }
      ]
    },
    {
      "cell_type": "code",
      "metadata": {
        "colab": {
          "base_uri": "https://localhost:8080/"
        },
        "id": "H9fPO0U51a_0",
        "outputId": "32934b02-6ae4-42e8-9d06-4c44fb3d49ca"
      },
      "source": [
        "# Index 객체는 nlevels 속성을 가지고 있음.\n",
        "s.index.nlevels"
      ],
      "execution_count": 6,
      "outputs": [
        {
          "output_type": "execute_result",
          "data": {
            "text/plain": [
              "1"
            ]
          },
          "metadata": {
            "tags": []
          },
          "execution_count": 6
        }
      ]
    },
    {
      "cell_type": "code",
      "metadata": {
        "colab": {
          "base_uri": "https://localhost:8080/"
        },
        "id": "-SWVInH616O-",
        "outputId": "3f0fa2a7-5959-4392-ba22-893da49a3db3"
      },
      "source": [
        "# Series에서 index는 값을 참조하기 위해서 사용.\n",
        "print(s.loc['a'])  # 한 개의 값을 참조\n",
        "print(s.loc['a':'c'])  # slicing: 부분집합"
      ],
      "execution_count": 8,
      "outputs": [
        {
          "output_type": "stream",
          "text": [
            "0.9347567975208791\n",
            "a    0.934757\n",
            "b    0.832580\n",
            "c    0.126667\n",
            "dtype: float64\n"
          ],
          "name": "stdout"
        }
      ]
    },
    {
      "cell_type": "markdown",
      "metadata": {
        "id": "1A3io8Fk2ZCL"
      },
      "source": [
        "# Series 계층적 인덱스(Hierachical Index)\n",
        "\n",
        "* Multi-level index"
      ]
    },
    {
      "cell_type": "code",
      "metadata": {
        "colab": {
          "base_uri": "https://localhost:8080/"
        },
        "id": "ZCZOXblr2rtV",
        "outputId": "f971ed26-eda7-4460-9220-1ecafd2094c0"
      },
      "source": [
        "s = pd.Series(data=np.random.randn(6),\n",
        "              index=[['a', 'a', 'b', 'b', 'c', 'c'], \n",
        "                     [1, 2, 3, 1, 2, 3]])\n",
        "s"
      ],
      "execution_count": 9,
      "outputs": [
        {
          "output_type": "execute_result",
          "data": {
            "text/plain": [
              "a  1    0.951530\n",
              "   2    1.477701\n",
              "b  3    0.289296\n",
              "   1   -1.616832\n",
              "c  2   -0.425163\n",
              "   3    0.324009\n",
              "dtype: float64"
            ]
          },
          "metadata": {
            "tags": []
          },
          "execution_count": 9
        }
      ]
    },
    {
      "cell_type": "code",
      "metadata": {
        "colab": {
          "base_uri": "https://localhost:8080/"
        },
        "id": "yp2gWIbs3DRd",
        "outputId": "93cd2c23-f376-47aa-f2e0-ef0be8c9e5c8"
      },
      "source": [
        "s.index"
      ],
      "execution_count": 10,
      "outputs": [
        {
          "output_type": "execute_result",
          "data": {
            "text/plain": [
              "MultiIndex([('a', 1),\n",
              "            ('a', 2),\n",
              "            ('b', 3),\n",
              "            ('b', 1),\n",
              "            ('c', 2),\n",
              "            ('c', 3)],\n",
              "           )"
            ]
          },
          "metadata": {
            "tags": []
          },
          "execution_count": 10
        }
      ]
    },
    {
      "cell_type": "code",
      "metadata": {
        "colab": {
          "base_uri": "https://localhost:8080/"
        },
        "id": "OWCY65lU3rgd",
        "outputId": "ba8a2383-3da8-447e-e8a0-e555d8e2d3ba"
      },
      "source": [
        "s.index.nlevels"
      ],
      "execution_count": 11,
      "outputs": [
        {
          "output_type": "execute_result",
          "data": {
            "text/plain": [
              "2"
            ]
          },
          "metadata": {
            "tags": []
          },
          "execution_count": 11
        }
      ]
    },
    {
      "cell_type": "markdown",
      "metadata": {
        "id": "5EqSloLW35I1"
      },
      "source": [
        "nlevels가 2 이상인 MultiIndex를 사용해서 loc를 사용하는 방법:\n",
        "\n",
        "* 첫번째 레벨의 인덱스만 가지고 indexing, slicing을 할 수 있음.\n",
        "* 두번째 레벨의 인덱스만 가지고는 인덱싱을 할 수없음!\n",
        "* 튜플 형태의 인덱스로 인덱싱을 할 수 있음."
      ]
    },
    {
      "cell_type": "code",
      "metadata": {
        "colab": {
          "base_uri": "https://localhost:8080/"
        },
        "id": "8u1ED80C4YIm",
        "outputId": "746b8f7b-5365-4115-8138-6627ba952856"
      },
      "source": [
        "s.loc['a']"
      ],
      "execution_count": 13,
      "outputs": [
        {
          "output_type": "execute_result",
          "data": {
            "text/plain": [
              "1    0.951530\n",
              "2    1.477701\n",
              "dtype: float64"
            ]
          },
          "metadata": {
            "tags": []
          },
          "execution_count": 13
        }
      ]
    },
    {
      "cell_type": "code",
      "metadata": {
        "colab": {
          "base_uri": "https://localhost:8080/"
        },
        "id": "wcqIBgTn49LT",
        "outputId": "0b12415d-ae79-4296-9874-098d0a369a24"
      },
      "source": [
        "s.loc['a':'b']"
      ],
      "execution_count": 16,
      "outputs": [
        {
          "output_type": "execute_result",
          "data": {
            "text/plain": [
              "a  1    0.951530\n",
              "   2    1.477701\n",
              "b  3    0.289296\n",
              "   1   -1.616832\n",
              "dtype: float64"
            ]
          },
          "metadata": {
            "tags": []
          },
          "execution_count": 16
        }
      ]
    },
    {
      "cell_type": "code",
      "metadata": {
        "id": "QgTY8v3t4ZFb"
      },
      "source": [
        "# s.loc[1]  #> KeyError 발생"
      ],
      "execution_count": null,
      "outputs": []
    },
    {
      "cell_type": "code",
      "metadata": {
        "colab": {
          "base_uri": "https://localhost:8080/"
        },
        "id": "CuNrzAbu4rnL",
        "outputId": "d3dfc11d-7fc3-4466-ea8b-3d33fba02e69"
      },
      "source": [
        "s.loc[('a', 1)]  # index은 가능"
      ],
      "execution_count": 15,
      "outputs": [
        {
          "output_type": "execute_result",
          "data": {
            "text/plain": [
              "0.9515304112118564"
            ]
          },
          "metadata": {
            "tags": []
          },
          "execution_count": 15
        }
      ]
    },
    {
      "cell_type": "code",
      "metadata": {
        "id": "b9sigvJX5M3s"
      },
      "source": [
        "# s.loc[('a', 1):('b', 3)]  #> UnsortedIndexError 에러 발생 - slicing은 불가능"
      ],
      "execution_count": null,
      "outputs": []
    },
    {
      "cell_type": "markdown",
      "metadata": {
        "id": "IcYHRO2t5thj"
      },
      "source": [
        "`pd.Series.swaplevel()`: 인덱스의 레벨을 바꿔줌."
      ]
    },
    {
      "cell_type": "code",
      "metadata": {
        "colab": {
          "base_uri": "https://localhost:8080/"
        },
        "id": "4YemjW096BY7",
        "outputId": "cda9a48f-b1f2-487d-b995-a79cc5618819"
      },
      "source": [
        "s.swaplevel()"
      ],
      "execution_count": 20,
      "outputs": [
        {
          "output_type": "execute_result",
          "data": {
            "text/plain": [
              "1  a    0.951530\n",
              "2  a    1.477701\n",
              "3  b    0.289296\n",
              "1  b   -1.616832\n",
              "2  c   -0.425163\n",
              "3  c    0.324009\n",
              "dtype: float64"
            ]
          },
          "metadata": {
            "tags": []
          },
          "execution_count": 20
        }
      ]
    },
    {
      "cell_type": "markdown",
      "metadata": {
        "id": "F_Hlup206U9P"
      },
      "source": [
        "두번째 레벨의 인덱스만 가지고 indexing과 slicing을 할 수는 없고, 첫번째와 두번째 레벨의 인덱스를 서로 위치를 바꾼 후 첫번째 레벨 인덱스로 indexing과 slicing을 하면 됨."
      ]
    },
    {
      "cell_type": "code",
      "metadata": {
        "colab": {
          "base_uri": "https://localhost:8080/"
        },
        "id": "XuuAmGm96OXK",
        "outputId": "3e8edee9-b592-48f4-cf4e-7fa5153525ec"
      },
      "source": [
        "s.swaplevel().loc[1]"
      ],
      "execution_count": 22,
      "outputs": [
        {
          "output_type": "execute_result",
          "data": {
            "text/plain": [
              "a    0.951530\n",
              "b   -1.616832\n",
              "dtype: float64"
            ]
          },
          "metadata": {
            "tags": []
          },
          "execution_count": 22
        }
      ]
    },
    {
      "cell_type": "markdown",
      "metadata": {
        "id": "AUZVLXKs7ZX6"
      },
      "source": [
        "* `pd.Series.sort_index()`: Series 객체의 index를 정렬.\n",
        "* `pd.Series.sort_values()`: Series 객체의 values를 정렬."
      ]
    },
    {
      "cell_type": "code",
      "metadata": {
        "colab": {
          "base_uri": "https://localhost:8080/"
        },
        "id": "aY-8VLe461Pa",
        "outputId": "51a75778-0fe1-4a27-fedb-f482e1964757"
      },
      "source": [
        "s.swaplevel().sort_index().loc[1:2]\n",
        "#> 정렬되지 않은 인덱스로는 slicing을 할 수 없기 때문에, 인덱스들을 먼저 정렬한 후 slicing을 함."
      ],
      "execution_count": 25,
      "outputs": [
        {
          "output_type": "execute_result",
          "data": {
            "text/plain": [
              "1  a    0.951530\n",
              "   b   -1.616832\n",
              "2  a    1.477701\n",
              "   c   -0.425163\n",
              "dtype: float64"
            ]
          },
          "metadata": {
            "tags": []
          },
          "execution_count": 25
        }
      ]
    },
    {
      "cell_type": "markdown",
      "metadata": {
        "id": "jGgEFnkW8K5i"
      },
      "source": [
        "# DataFrame의 계층적 인덱스"
      ]
    },
    {
      "cell_type": "code",
      "metadata": {
        "colab": {
          "base_uri": "https://localhost:8080/",
          "height": 237
        },
        "id": "qVpy5aZL8Qdb",
        "outputId": "fae9195f-8643-4d82-d384-a7ecd38705f6"
      },
      "source": [
        "df = pd.DataFrame(data=np.random.randn(6, 3),\n",
        "                  columns=['a', 'b', 'c'],\n",
        "                  index=[['Fri', 'Fri', 'Sat', 'Sat', 'Sun', 'Sun'], \n",
        "                         ['Lunch', 'Dinner'] * 3])\n",
        "df"
      ],
      "execution_count": 28,
      "outputs": [
        {
          "output_type": "execute_result",
          "data": {
            "text/html": [
              "<div>\n",
              "<style scoped>\n",
              "    .dataframe tbody tr th:only-of-type {\n",
              "        vertical-align: middle;\n",
              "    }\n",
              "\n",
              "    .dataframe tbody tr th {\n",
              "        vertical-align: top;\n",
              "    }\n",
              "\n",
              "    .dataframe thead th {\n",
              "        text-align: right;\n",
              "    }\n",
              "</style>\n",
              "<table border=\"1\" class=\"dataframe\">\n",
              "  <thead>\n",
              "    <tr style=\"text-align: right;\">\n",
              "      <th></th>\n",
              "      <th></th>\n",
              "      <th>a</th>\n",
              "      <th>b</th>\n",
              "      <th>c</th>\n",
              "    </tr>\n",
              "  </thead>\n",
              "  <tbody>\n",
              "    <tr>\n",
              "      <th rowspan=\"2\" valign=\"top\">Fri</th>\n",
              "      <th>Lunch</th>\n",
              "      <td>1.249391</td>\n",
              "      <td>0.714065</td>\n",
              "      <td>1.210146</td>\n",
              "    </tr>\n",
              "    <tr>\n",
              "      <th>Dinner</th>\n",
              "      <td>1.367137</td>\n",
              "      <td>-1.153915</td>\n",
              "      <td>1.134513</td>\n",
              "    </tr>\n",
              "    <tr>\n",
              "      <th rowspan=\"2\" valign=\"top\">Sat</th>\n",
              "      <th>Lunch</th>\n",
              "      <td>-1.573767</td>\n",
              "      <td>1.080544</td>\n",
              "      <td>-0.872395</td>\n",
              "    </tr>\n",
              "    <tr>\n",
              "      <th>Dinner</th>\n",
              "      <td>-0.827423</td>\n",
              "      <td>0.643445</td>\n",
              "      <td>-0.218825</td>\n",
              "    </tr>\n",
              "    <tr>\n",
              "      <th rowspan=\"2\" valign=\"top\">Sun</th>\n",
              "      <th>Lunch</th>\n",
              "      <td>-2.595002</td>\n",
              "      <td>1.287724</td>\n",
              "      <td>1.175542</td>\n",
              "    </tr>\n",
              "    <tr>\n",
              "      <th>Dinner</th>\n",
              "      <td>-0.488819</td>\n",
              "      <td>-0.026829</td>\n",
              "      <td>-0.342128</td>\n",
              "    </tr>\n",
              "  </tbody>\n",
              "</table>\n",
              "</div>"
            ],
            "text/plain": [
              "                   a         b         c\n",
              "Fri Lunch   1.249391  0.714065  1.210146\n",
              "    Dinner  1.367137 -1.153915  1.134513\n",
              "Sat Lunch  -1.573767  1.080544 -0.872395\n",
              "    Dinner -0.827423  0.643445 -0.218825\n",
              "Sun Lunch  -2.595002  1.287724  1.175542\n",
              "    Dinner -0.488819 -0.026829 -0.342128"
            ]
          },
          "metadata": {
            "tags": []
          },
          "execution_count": 28
        }
      ]
    },
    {
      "cell_type": "code",
      "metadata": {
        "colab": {
          "base_uri": "https://localhost:8080/",
          "height": 112
        },
        "id": "5cd_gigd9ozq",
        "outputId": "342371e4-b01d-4856-810e-c1af0d5d8e85"
      },
      "source": [
        "df.loc['Fri']  # 첫번째 레벨의 인덱스를 사용한 indexing"
      ],
      "execution_count": 29,
      "outputs": [
        {
          "output_type": "execute_result",
          "data": {
            "text/html": [
              "<div>\n",
              "<style scoped>\n",
              "    .dataframe tbody tr th:only-of-type {\n",
              "        vertical-align: middle;\n",
              "    }\n",
              "\n",
              "    .dataframe tbody tr th {\n",
              "        vertical-align: top;\n",
              "    }\n",
              "\n",
              "    .dataframe thead th {\n",
              "        text-align: right;\n",
              "    }\n",
              "</style>\n",
              "<table border=\"1\" class=\"dataframe\">\n",
              "  <thead>\n",
              "    <tr style=\"text-align: right;\">\n",
              "      <th></th>\n",
              "      <th>a</th>\n",
              "      <th>b</th>\n",
              "      <th>c</th>\n",
              "    </tr>\n",
              "  </thead>\n",
              "  <tbody>\n",
              "    <tr>\n",
              "      <th>Lunch</th>\n",
              "      <td>1.249391</td>\n",
              "      <td>0.714065</td>\n",
              "      <td>1.210146</td>\n",
              "    </tr>\n",
              "    <tr>\n",
              "      <th>Dinner</th>\n",
              "      <td>1.367137</td>\n",
              "      <td>-1.153915</td>\n",
              "      <td>1.134513</td>\n",
              "    </tr>\n",
              "  </tbody>\n",
              "</table>\n",
              "</div>"
            ],
            "text/plain": [
              "               a         b         c\n",
              "Lunch   1.249391  0.714065  1.210146\n",
              "Dinner  1.367137 -1.153915  1.134513"
            ]
          },
          "metadata": {
            "tags": []
          },
          "execution_count": 29
        }
      ]
    },
    {
      "cell_type": "code",
      "metadata": {
        "colab": {
          "base_uri": "https://localhost:8080/",
          "height": 175
        },
        "id": "mBKLoCXn95O5",
        "outputId": "2db2df38-95a3-4213-ba39-171692a74cac"
      },
      "source": [
        "df.loc['Sat':'Sun']  # 첫번째 레벨의 인덱스를 사용한 slicing"
      ],
      "execution_count": 30,
      "outputs": [
        {
          "output_type": "execute_result",
          "data": {
            "text/html": [
              "<div>\n",
              "<style scoped>\n",
              "    .dataframe tbody tr th:only-of-type {\n",
              "        vertical-align: middle;\n",
              "    }\n",
              "\n",
              "    .dataframe tbody tr th {\n",
              "        vertical-align: top;\n",
              "    }\n",
              "\n",
              "    .dataframe thead th {\n",
              "        text-align: right;\n",
              "    }\n",
              "</style>\n",
              "<table border=\"1\" class=\"dataframe\">\n",
              "  <thead>\n",
              "    <tr style=\"text-align: right;\">\n",
              "      <th></th>\n",
              "      <th></th>\n",
              "      <th>a</th>\n",
              "      <th>b</th>\n",
              "      <th>c</th>\n",
              "    </tr>\n",
              "  </thead>\n",
              "  <tbody>\n",
              "    <tr>\n",
              "      <th rowspan=\"2\" valign=\"top\">Sat</th>\n",
              "      <th>Lunch</th>\n",
              "      <td>-1.573767</td>\n",
              "      <td>1.080544</td>\n",
              "      <td>-0.872395</td>\n",
              "    </tr>\n",
              "    <tr>\n",
              "      <th>Dinner</th>\n",
              "      <td>-0.827423</td>\n",
              "      <td>0.643445</td>\n",
              "      <td>-0.218825</td>\n",
              "    </tr>\n",
              "    <tr>\n",
              "      <th rowspan=\"2\" valign=\"top\">Sun</th>\n",
              "      <th>Lunch</th>\n",
              "      <td>-2.595002</td>\n",
              "      <td>1.287724</td>\n",
              "      <td>1.175542</td>\n",
              "    </tr>\n",
              "    <tr>\n",
              "      <th>Dinner</th>\n",
              "      <td>-0.488819</td>\n",
              "      <td>-0.026829</td>\n",
              "      <td>-0.342128</td>\n",
              "    </tr>\n",
              "  </tbody>\n",
              "</table>\n",
              "</div>"
            ],
            "text/plain": [
              "                   a         b         c\n",
              "Sat Lunch  -1.573767  1.080544 -0.872395\n",
              "    Dinner -0.827423  0.643445 -0.218825\n",
              "Sun Lunch  -2.595002  1.287724  1.175542\n",
              "    Dinner -0.488819 -0.026829 -0.342128"
            ]
          },
          "metadata": {
            "tags": []
          },
          "execution_count": 30
        }
      ]
    },
    {
      "cell_type": "code",
      "metadata": {
        "colab": {
          "base_uri": "https://localhost:8080/"
        },
        "id": "8nqm1KD5-ZoS",
        "outputId": "519d92fd-1198-42e7-ed51-f8400b7ee2e1"
      },
      "source": [
        "df.loc[('Fri', 'Lunch')]"
      ],
      "execution_count": 31,
      "outputs": [
        {
          "output_type": "execute_result",
          "data": {
            "text/plain": [
              "a    1.249391\n",
              "b    0.714065\n",
              "c    1.210146\n",
              "Name: (Fri, Lunch), dtype: float64"
            ]
          },
          "metadata": {
            "tags": []
          },
          "execution_count": 31
        }
      ]
    },
    {
      "cell_type": "code",
      "metadata": {
        "colab": {
          "base_uri": "https://localhost:8080/",
          "height": 143
        },
        "id": "9tsepUeb-jxA",
        "outputId": "8dd5e356-2252-4fe8-9de4-65385c90874a"
      },
      "source": [
        "# 'Lunch'만 선택\n",
        "df.swaplevel().loc['Lunch']"
      ],
      "execution_count": 33,
      "outputs": [
        {
          "output_type": "execute_result",
          "data": {
            "text/html": [
              "<div>\n",
              "<style scoped>\n",
              "    .dataframe tbody tr th:only-of-type {\n",
              "        vertical-align: middle;\n",
              "    }\n",
              "\n",
              "    .dataframe tbody tr th {\n",
              "        vertical-align: top;\n",
              "    }\n",
              "\n",
              "    .dataframe thead th {\n",
              "        text-align: right;\n",
              "    }\n",
              "</style>\n",
              "<table border=\"1\" class=\"dataframe\">\n",
              "  <thead>\n",
              "    <tr style=\"text-align: right;\">\n",
              "      <th></th>\n",
              "      <th>a</th>\n",
              "      <th>b</th>\n",
              "      <th>c</th>\n",
              "    </tr>\n",
              "  </thead>\n",
              "  <tbody>\n",
              "    <tr>\n",
              "      <th>Fri</th>\n",
              "      <td>1.249391</td>\n",
              "      <td>0.714065</td>\n",
              "      <td>1.210146</td>\n",
              "    </tr>\n",
              "    <tr>\n",
              "      <th>Sat</th>\n",
              "      <td>-1.573767</td>\n",
              "      <td>1.080544</td>\n",
              "      <td>-0.872395</td>\n",
              "    </tr>\n",
              "    <tr>\n",
              "      <th>Sun</th>\n",
              "      <td>-2.595002</td>\n",
              "      <td>1.287724</td>\n",
              "      <td>1.175542</td>\n",
              "    </tr>\n",
              "  </tbody>\n",
              "</table>\n",
              "</div>"
            ],
            "text/plain": [
              "            a         b         c\n",
              "Fri  1.249391  0.714065  1.210146\n",
              "Sat -1.573767  1.080544 -0.872395\n",
              "Sun -2.595002  1.287724  1.175542"
            ]
          },
          "metadata": {
            "tags": []
          },
          "execution_count": 33
        }
      ]
    }
  ]
}
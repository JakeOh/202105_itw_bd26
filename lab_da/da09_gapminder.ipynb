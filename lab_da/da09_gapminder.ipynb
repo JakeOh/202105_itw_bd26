{
  "nbformat": 4,
  "nbformat_minor": 0,
  "metadata": {
    "colab": {
      "name": "da09_gapminder.ipynb",
      "provenance": [],
      "authorship_tag": "ABX9TyPti8Zhqi20djEzJ3vJRHhc",
      "include_colab_link": true
    },
    "kernelspec": {
      "name": "python3",
      "display_name": "Python 3"
    },
    "language_info": {
      "name": "python"
    }
  },
  "cells": [
    {
      "cell_type": "markdown",
      "metadata": {
        "id": "view-in-github",
        "colab_type": "text"
      },
      "source": [
        "<a href=\"https://colab.research.google.com/github/JakeOh/202105_itw_bd26/blob/main/lab_da/da09_gapminder.ipynb\" target=\"_parent\"><img src=\"https://colab.research.google.com/assets/colab-badge.svg\" alt=\"Open In Colab\"/></a>"
      ]
    },
    {
      "cell_type": "markdown",
      "metadata": {
        "id": "xERNo8pDlqBK"
      },
      "source": [
        "* github에 저장된 gapminder.tsv 파일을 읽고, DataFrame 생성하세요."
      ]
    },
    {
      "cell_type": "code",
      "metadata": {
        "id": "TWAs1nMjlVAL"
      },
      "source": [
        "file_path = 'https://github.com/JakeOh/202105_itw_bd26/raw/main/datasets/gapminder.tsv'"
      ],
      "execution_count": null,
      "outputs": []
    },
    {
      "cell_type": "markdown",
      "metadata": {
        "id": "qeiNhXJ1l1OS"
      },
      "source": [
        "* DataFrame의 정보를 출력하세요."
      ]
    },
    {
      "cell_type": "markdown",
      "metadata": {
        "id": "LYj5-YmUl8Ta"
      },
      "source": [
        "* DataFrame에서 첫 5개 row와 마지막 5개 row를 출력하세요."
      ]
    },
    {
      "cell_type": "markdown",
      "metadata": {
        "id": "fU7TT-s3mIxy"
      },
      "source": [
        "* DataFrame에서 숫자 타입 변수들의 기술 통계량을 출력하세요."
      ]
    },
    {
      "cell_type": "markdown",
      "metadata": {
        "id": "Sqk_XuDamQkS"
      },
      "source": [
        "* DataFrame에 있는 국가 이름의 숫자를 찾으세요."
      ]
    },
    {
      "cell_type": "markdown",
      "metadata": {
        "id": "60CmtnsqmZ67"
      },
      "source": [
        "* DataFrame에 있는 (중복되지 않는) 모든 대륙 이름들을 찾으세요."
      ]
    },
    {
      "cell_type": "markdown",
      "metadata": {
        "id": "f-nN5onCmnst"
      },
      "source": [
        "* DataFrame에 있는 연도의 숫자를 찾으세요."
      ]
    },
    {
      "cell_type": "markdown",
      "metadata": {
        "id": "fWjGxRDWmyOR"
      },
      "source": [
        "* DataFrame에서 국가 이름, 연도, 1인당 GDP 컬럼을 선택하세요."
      ]
    },
    {
      "cell_type": "markdown",
      "metadata": {
        "id": "0Tl2VtBJm-Nq"
      },
      "source": [
        "* DataFrame에서 1인당 GDP의 최솟값, 최댓값을 찾으세요."
      ]
    },
    {
      "cell_type": "markdown",
      "metadata": {
        "id": "avZhht9RnFaS"
      },
      "source": [
        "* DataFrame에서 1인당 GDP가 최소/최대인 row를 찾으세요."
      ]
    },
    {
      "cell_type": "markdown",
      "metadata": {
        "id": "4ZvZF2XonLL6"
      },
      "source": [
        "* DataFrame에서 기대수명(lifeExp)의 최솟값/최댓값을 찾으세요."
      ]
    },
    {
      "cell_type": "markdown",
      "metadata": {
        "id": "qr81jztTncKz"
      },
      "source": [
        "* DataFrame에서 기대수명(lifeExp)이 최소/최대인 row를 찾으세요."
      ]
    },
    {
      "cell_type": "markdown",
      "metadata": {
        "id": "XgPMi0zEnsYJ"
      },
      "source": [
        "* 연도별 기대수명(lifeExp)의 평균을 출력하세요."
      ]
    },
    {
      "cell_type": "markdown",
      "metadata": {
        "id": "Nsp61RZVn9kz"
      },
      "source": [
        "* 연도별 기대수명(lifeExp)의 평균을 그래프로 그리세요."
      ]
    },
    {
      "cell_type": "markdown",
      "metadata": {
        "id": "SOapFlpioICZ"
      },
      "source": [
        "* 연도별 1인당 GDP의 평균을 출력하세요."
      ]
    },
    {
      "cell_type": "markdown",
      "metadata": {
        "id": "UR77IWTMoMlR"
      },
      "source": [
        "* 연도별 1인당 GDP의 평균을 그래프로 그리세요."
      ]
    },
    {
      "cell_type": "markdown",
      "metadata": {
        "id": "YdEVHdFqoVkh"
      },
      "source": [
        "* 연도별 전세계 인구를 출력하세요."
      ]
    },
    {
      "cell_type": "markdown",
      "metadata": {
        "id": "oNVKoD0CoZXB"
      },
      "source": [
        "* 연도별 전세계 인구를 그래프로 그리세요."
      ]
    },
    {
      "cell_type": "markdown",
      "metadata": {
        "id": "iOSoOLBfocbJ"
      },
      "source": [
        "* 연도별 대륙별 전세계 인구를 출력하세요"
      ]
    },
    {
      "cell_type": "markdown",
      "metadata": {
        "id": "JRiW4h2poh9i"
      },
      "source": [
        "* 연도별 대륙별 전세계 인구를 그래프로 그리세요."
      ]
    },
    {
      "cell_type": "markdown",
      "metadata": {
        "id": "NMO6pShUov9y"
      },
      "source": [
        "* 대한민국의 레코드만 출력하세요."
      ]
    },
    {
      "cell_type": "code",
      "metadata": {
        "id": "OkjYsVY_mxe6"
      },
      "source": [
        ""
      ],
      "execution_count": null,
      "outputs": []
    }
  ]
}
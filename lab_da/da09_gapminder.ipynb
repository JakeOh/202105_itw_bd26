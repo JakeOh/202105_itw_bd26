{
  "nbformat": 4,
  "nbformat_minor": 0,
  "metadata": {
    "colab": {
      "name": "da09_gapminder.ipynb",
      "provenance": [],
      "collapsed_sections": [],
      "authorship_tag": "ABX9TyOKABE2agWtcarYTKCq3wRp",
      "include_colab_link": true
    },
    "kernelspec": {
      "name": "python3",
      "display_name": "Python 3"
    },
    "language_info": {
      "name": "python"
    }
  },
  "cells": [
    {
      "cell_type": "markdown",
      "metadata": {
        "id": "view-in-github",
        "colab_type": "text"
      },
      "source": [
        "<a href=\"https://colab.research.google.com/github/JakeOh/202105_itw_bd26/blob/main/lab_da/da09_gapminder.ipynb\" target=\"_parent\"><img src=\"https://colab.research.google.com/assets/colab-badge.svg\" alt=\"Open In Colab\"/></a>"
      ]
    },
    {
      "cell_type": "code",
      "metadata": {
        "id": "hZpqCo9m3lDR"
      },
      "source": [
        "import pandas as pd\n",
        "import matplotlib.pyplot as plt\n",
        "import seaborn as sns"
      ],
      "execution_count": 1,
      "outputs": []
    },
    {
      "cell_type": "markdown",
      "metadata": {
        "id": "xERNo8pDlqBK"
      },
      "source": [
        "* github에 저장된 gapminder.tsv 파일을 읽고, DataFrame 생성하세요."
      ]
    },
    {
      "cell_type": "code",
      "metadata": {
        "id": "TWAs1nMjlVAL"
      },
      "source": [
        "file_path = 'https://github.com/JakeOh/202105_itw_bd26/raw/main/datasets/gapminder.tsv'"
      ],
      "execution_count": 2,
      "outputs": []
    },
    {
      "cell_type": "code",
      "metadata": {
        "id": "cFzioHal32eV"
      },
      "source": [
        "gapminder = pd.read_csv(file_path, sep='\\t')\n",
        "# 탭으로 값들이 구분된 파일인 경우 sep='\\t'"
      ],
      "execution_count": 3,
      "outputs": []
    },
    {
      "cell_type": "markdown",
      "metadata": {
        "id": "qeiNhXJ1l1OS"
      },
      "source": [
        "* DataFrame의 정보를 출력하세요."
      ]
    },
    {
      "cell_type": "code",
      "metadata": {
        "colab": {
          "base_uri": "https://localhost:8080/"
        },
        "id": "rAGpU8ck4LGl",
        "outputId": "920cc937-137c-4ced-ab33-abe033deb4bb"
      },
      "source": [
        "gapminder.info()"
      ],
      "execution_count": 4,
      "outputs": [
        {
          "output_type": "stream",
          "text": [
            "<class 'pandas.core.frame.DataFrame'>\n",
            "RangeIndex: 1704 entries, 0 to 1703\n",
            "Data columns (total 6 columns):\n",
            " #   Column     Non-Null Count  Dtype  \n",
            "---  ------     --------------  -----  \n",
            " 0   country    1704 non-null   object \n",
            " 1   continent  1704 non-null   object \n",
            " 2   year       1704 non-null   int64  \n",
            " 3   lifeExp    1704 non-null   float64\n",
            " 4   pop        1704 non-null   int64  \n",
            " 5   gdpPercap  1704 non-null   float64\n",
            "dtypes: float64(2), int64(2), object(2)\n",
            "memory usage: 80.0+ KB\n"
          ],
          "name": "stdout"
        }
      ]
    },
    {
      "cell_type": "markdown",
      "metadata": {
        "id": "LYj5-YmUl8Ta"
      },
      "source": [
        "* DataFrame에서 첫 5개 row와 마지막 5개 row를 출력하세요."
      ]
    },
    {
      "cell_type": "code",
      "metadata": {
        "colab": {
          "base_uri": "https://localhost:8080/",
          "height": 206
        },
        "id": "WnPYeGDR4gQ1",
        "outputId": "0fdd4035-c786-4a25-ecc6-2abb5556de7e"
      },
      "source": [
        "gapminder.head()  # gapminder.iloc[:5]"
      ],
      "execution_count": 5,
      "outputs": [
        {
          "output_type": "execute_result",
          "data": {
            "text/html": [
              "<div>\n",
              "<style scoped>\n",
              "    .dataframe tbody tr th:only-of-type {\n",
              "        vertical-align: middle;\n",
              "    }\n",
              "\n",
              "    .dataframe tbody tr th {\n",
              "        vertical-align: top;\n",
              "    }\n",
              "\n",
              "    .dataframe thead th {\n",
              "        text-align: right;\n",
              "    }\n",
              "</style>\n",
              "<table border=\"1\" class=\"dataframe\">\n",
              "  <thead>\n",
              "    <tr style=\"text-align: right;\">\n",
              "      <th></th>\n",
              "      <th>country</th>\n",
              "      <th>continent</th>\n",
              "      <th>year</th>\n",
              "      <th>lifeExp</th>\n",
              "      <th>pop</th>\n",
              "      <th>gdpPercap</th>\n",
              "    </tr>\n",
              "  </thead>\n",
              "  <tbody>\n",
              "    <tr>\n",
              "      <th>0</th>\n",
              "      <td>Afghanistan</td>\n",
              "      <td>Asia</td>\n",
              "      <td>1952</td>\n",
              "      <td>28.801</td>\n",
              "      <td>8425333</td>\n",
              "      <td>779.445314</td>\n",
              "    </tr>\n",
              "    <tr>\n",
              "      <th>1</th>\n",
              "      <td>Afghanistan</td>\n",
              "      <td>Asia</td>\n",
              "      <td>1957</td>\n",
              "      <td>30.332</td>\n",
              "      <td>9240934</td>\n",
              "      <td>820.853030</td>\n",
              "    </tr>\n",
              "    <tr>\n",
              "      <th>2</th>\n",
              "      <td>Afghanistan</td>\n",
              "      <td>Asia</td>\n",
              "      <td>1962</td>\n",
              "      <td>31.997</td>\n",
              "      <td>10267083</td>\n",
              "      <td>853.100710</td>\n",
              "    </tr>\n",
              "    <tr>\n",
              "      <th>3</th>\n",
              "      <td>Afghanistan</td>\n",
              "      <td>Asia</td>\n",
              "      <td>1967</td>\n",
              "      <td>34.020</td>\n",
              "      <td>11537966</td>\n",
              "      <td>836.197138</td>\n",
              "    </tr>\n",
              "    <tr>\n",
              "      <th>4</th>\n",
              "      <td>Afghanistan</td>\n",
              "      <td>Asia</td>\n",
              "      <td>1972</td>\n",
              "      <td>36.088</td>\n",
              "      <td>13079460</td>\n",
              "      <td>739.981106</td>\n",
              "    </tr>\n",
              "  </tbody>\n",
              "</table>\n",
              "</div>"
            ],
            "text/plain": [
              "       country continent  year  lifeExp       pop   gdpPercap\n",
              "0  Afghanistan      Asia  1952   28.801   8425333  779.445314\n",
              "1  Afghanistan      Asia  1957   30.332   9240934  820.853030\n",
              "2  Afghanistan      Asia  1962   31.997  10267083  853.100710\n",
              "3  Afghanistan      Asia  1967   34.020  11537966  836.197138\n",
              "4  Afghanistan      Asia  1972   36.088  13079460  739.981106"
            ]
          },
          "metadata": {
            "tags": []
          },
          "execution_count": 5
        }
      ]
    },
    {
      "cell_type": "code",
      "metadata": {
        "colab": {
          "base_uri": "https://localhost:8080/",
          "height": 206
        },
        "id": "ptda9eVu4mbr",
        "outputId": "d8065029-c63b-4fd9-eeea-4fea48f785cd"
      },
      "source": [
        "gapminder.tail()  # gapminer.iloc[-5:]"
      ],
      "execution_count": 6,
      "outputs": [
        {
          "output_type": "execute_result",
          "data": {
            "text/html": [
              "<div>\n",
              "<style scoped>\n",
              "    .dataframe tbody tr th:only-of-type {\n",
              "        vertical-align: middle;\n",
              "    }\n",
              "\n",
              "    .dataframe tbody tr th {\n",
              "        vertical-align: top;\n",
              "    }\n",
              "\n",
              "    .dataframe thead th {\n",
              "        text-align: right;\n",
              "    }\n",
              "</style>\n",
              "<table border=\"1\" class=\"dataframe\">\n",
              "  <thead>\n",
              "    <tr style=\"text-align: right;\">\n",
              "      <th></th>\n",
              "      <th>country</th>\n",
              "      <th>continent</th>\n",
              "      <th>year</th>\n",
              "      <th>lifeExp</th>\n",
              "      <th>pop</th>\n",
              "      <th>gdpPercap</th>\n",
              "    </tr>\n",
              "  </thead>\n",
              "  <tbody>\n",
              "    <tr>\n",
              "      <th>1699</th>\n",
              "      <td>Zimbabwe</td>\n",
              "      <td>Africa</td>\n",
              "      <td>1987</td>\n",
              "      <td>62.351</td>\n",
              "      <td>9216418</td>\n",
              "      <td>706.157306</td>\n",
              "    </tr>\n",
              "    <tr>\n",
              "      <th>1700</th>\n",
              "      <td>Zimbabwe</td>\n",
              "      <td>Africa</td>\n",
              "      <td>1992</td>\n",
              "      <td>60.377</td>\n",
              "      <td>10704340</td>\n",
              "      <td>693.420786</td>\n",
              "    </tr>\n",
              "    <tr>\n",
              "      <th>1701</th>\n",
              "      <td>Zimbabwe</td>\n",
              "      <td>Africa</td>\n",
              "      <td>1997</td>\n",
              "      <td>46.809</td>\n",
              "      <td>11404948</td>\n",
              "      <td>792.449960</td>\n",
              "    </tr>\n",
              "    <tr>\n",
              "      <th>1702</th>\n",
              "      <td>Zimbabwe</td>\n",
              "      <td>Africa</td>\n",
              "      <td>2002</td>\n",
              "      <td>39.989</td>\n",
              "      <td>11926563</td>\n",
              "      <td>672.038623</td>\n",
              "    </tr>\n",
              "    <tr>\n",
              "      <th>1703</th>\n",
              "      <td>Zimbabwe</td>\n",
              "      <td>Africa</td>\n",
              "      <td>2007</td>\n",
              "      <td>43.487</td>\n",
              "      <td>12311143</td>\n",
              "      <td>469.709298</td>\n",
              "    </tr>\n",
              "  </tbody>\n",
              "</table>\n",
              "</div>"
            ],
            "text/plain": [
              "       country continent  year  lifeExp       pop   gdpPercap\n",
              "1699  Zimbabwe    Africa  1987   62.351   9216418  706.157306\n",
              "1700  Zimbabwe    Africa  1992   60.377  10704340  693.420786\n",
              "1701  Zimbabwe    Africa  1997   46.809  11404948  792.449960\n",
              "1702  Zimbabwe    Africa  2002   39.989  11926563  672.038623\n",
              "1703  Zimbabwe    Africa  2007   43.487  12311143  469.709298"
            ]
          },
          "metadata": {
            "tags": []
          },
          "execution_count": 6
        }
      ]
    },
    {
      "cell_type": "markdown",
      "metadata": {
        "id": "fU7TT-s3mIxy"
      },
      "source": [
        "* DataFrame에서 숫자 타입 변수들의 기술 통계량을 출력하세요."
      ]
    },
    {
      "cell_type": "code",
      "metadata": {
        "colab": {
          "base_uri": "https://localhost:8080/",
          "height": 300
        },
        "id": "ESf0pX-T43l0",
        "outputId": "4940371e-ff69-41e4-9eb6-92b484968cf5"
      },
      "source": [
        "gapminder.describe()"
      ],
      "execution_count": 7,
      "outputs": [
        {
          "output_type": "execute_result",
          "data": {
            "text/html": [
              "<div>\n",
              "<style scoped>\n",
              "    .dataframe tbody tr th:only-of-type {\n",
              "        vertical-align: middle;\n",
              "    }\n",
              "\n",
              "    .dataframe tbody tr th {\n",
              "        vertical-align: top;\n",
              "    }\n",
              "\n",
              "    .dataframe thead th {\n",
              "        text-align: right;\n",
              "    }\n",
              "</style>\n",
              "<table border=\"1\" class=\"dataframe\">\n",
              "  <thead>\n",
              "    <tr style=\"text-align: right;\">\n",
              "      <th></th>\n",
              "      <th>year</th>\n",
              "      <th>lifeExp</th>\n",
              "      <th>pop</th>\n",
              "      <th>gdpPercap</th>\n",
              "    </tr>\n",
              "  </thead>\n",
              "  <tbody>\n",
              "    <tr>\n",
              "      <th>count</th>\n",
              "      <td>1704.00000</td>\n",
              "      <td>1704.000000</td>\n",
              "      <td>1.704000e+03</td>\n",
              "      <td>1704.000000</td>\n",
              "    </tr>\n",
              "    <tr>\n",
              "      <th>mean</th>\n",
              "      <td>1979.50000</td>\n",
              "      <td>59.474439</td>\n",
              "      <td>2.960121e+07</td>\n",
              "      <td>7215.327081</td>\n",
              "    </tr>\n",
              "    <tr>\n",
              "      <th>std</th>\n",
              "      <td>17.26533</td>\n",
              "      <td>12.917107</td>\n",
              "      <td>1.061579e+08</td>\n",
              "      <td>9857.454543</td>\n",
              "    </tr>\n",
              "    <tr>\n",
              "      <th>min</th>\n",
              "      <td>1952.00000</td>\n",
              "      <td>23.599000</td>\n",
              "      <td>6.001100e+04</td>\n",
              "      <td>241.165877</td>\n",
              "    </tr>\n",
              "    <tr>\n",
              "      <th>25%</th>\n",
              "      <td>1965.75000</td>\n",
              "      <td>48.198000</td>\n",
              "      <td>2.793664e+06</td>\n",
              "      <td>1202.060309</td>\n",
              "    </tr>\n",
              "    <tr>\n",
              "      <th>50%</th>\n",
              "      <td>1979.50000</td>\n",
              "      <td>60.712500</td>\n",
              "      <td>7.023596e+06</td>\n",
              "      <td>3531.846989</td>\n",
              "    </tr>\n",
              "    <tr>\n",
              "      <th>75%</th>\n",
              "      <td>1993.25000</td>\n",
              "      <td>70.845500</td>\n",
              "      <td>1.958522e+07</td>\n",
              "      <td>9325.462346</td>\n",
              "    </tr>\n",
              "    <tr>\n",
              "      <th>max</th>\n",
              "      <td>2007.00000</td>\n",
              "      <td>82.603000</td>\n",
              "      <td>1.318683e+09</td>\n",
              "      <td>113523.132900</td>\n",
              "    </tr>\n",
              "  </tbody>\n",
              "</table>\n",
              "</div>"
            ],
            "text/plain": [
              "             year      lifeExp           pop      gdpPercap\n",
              "count  1704.00000  1704.000000  1.704000e+03    1704.000000\n",
              "mean   1979.50000    59.474439  2.960121e+07    7215.327081\n",
              "std      17.26533    12.917107  1.061579e+08    9857.454543\n",
              "min    1952.00000    23.599000  6.001100e+04     241.165877\n",
              "25%    1965.75000    48.198000  2.793664e+06    1202.060309\n",
              "50%    1979.50000    60.712500  7.023596e+06    3531.846989\n",
              "75%    1993.25000    70.845500  1.958522e+07    9325.462346\n",
              "max    2007.00000    82.603000  1.318683e+09  113523.132900"
            ]
          },
          "metadata": {
            "tags": []
          },
          "execution_count": 7
        }
      ]
    },
    {
      "cell_type": "markdown",
      "metadata": {
        "id": "Sqk_XuDamQkS"
      },
      "source": [
        "* DataFrame에 있는 국가 이름의 개수를 찾으세요."
      ]
    },
    {
      "cell_type": "code",
      "metadata": {
        "colab": {
          "base_uri": "https://localhost:8080/"
        },
        "id": "lJLxmO4q5Gzd",
        "outputId": "f6a16556-3526-4bc1-a0ec-2a05727d2c03"
      },
      "source": [
        "len(gapminder['country'].unique())"
      ],
      "execution_count": 10,
      "outputs": [
        {
          "output_type": "execute_result",
          "data": {
            "text/plain": [
              "142"
            ]
          },
          "metadata": {
            "tags": []
          },
          "execution_count": 10
        }
      ]
    },
    {
      "cell_type": "markdown",
      "metadata": {
        "id": "60CmtnsqmZ67"
      },
      "source": [
        "* DataFrame에 있는 (중복되지 않는) 모든 대륙 이름들을 찾으세요."
      ]
    },
    {
      "cell_type": "code",
      "metadata": {
        "colab": {
          "base_uri": "https://localhost:8080/"
        },
        "id": "q8Il3Kir50CE",
        "outputId": "c6e836a7-0438-4d6d-be05-04e02097f75b"
      },
      "source": [
        "gapminder['continent'].unique()"
      ],
      "execution_count": 11,
      "outputs": [
        {
          "output_type": "execute_result",
          "data": {
            "text/plain": [
              "array(['Asia', 'Europe', 'Africa', 'Americas', 'Oceania'], dtype=object)"
            ]
          },
          "metadata": {
            "tags": []
          },
          "execution_count": 11
        }
      ]
    },
    {
      "cell_type": "markdown",
      "metadata": {
        "id": "f-nN5onCmnst"
      },
      "source": [
        "* DataFrame에 있는 연도의 개수를 찾으세요."
      ]
    },
    {
      "cell_type": "code",
      "metadata": {
        "colab": {
          "base_uri": "https://localhost:8080/"
        },
        "id": "RXXOpEw06A4M",
        "outputId": "77bd7bbc-366c-4884-b169-a4b00740ba35"
      },
      "source": [
        "len(gapminder['year'].unique())"
      ],
      "execution_count": 13,
      "outputs": [
        {
          "output_type": "execute_result",
          "data": {
            "text/plain": [
              "12"
            ]
          },
          "metadata": {
            "tags": []
          },
          "execution_count": 13
        }
      ]
    },
    {
      "cell_type": "markdown",
      "metadata": {
        "id": "fWjGxRDWmyOR"
      },
      "source": [
        "* DataFrame에서 국가 이름, 연도, 1인당 GDP 컬럼을 선택하세요."
      ]
    },
    {
      "cell_type": "code",
      "metadata": {
        "colab": {
          "base_uri": "https://localhost:8080/"
        },
        "id": "es_sbw0w6ddG",
        "outputId": "55a1b093-e7e5-41c9-b959-fc6302035509"
      },
      "source": [
        "gapminder.columns"
      ],
      "execution_count": 15,
      "outputs": [
        {
          "output_type": "execute_result",
          "data": {
            "text/plain": [
              "Index(['country', 'continent', 'year', 'lifeExp', 'pop', 'gdpPercap'], dtype='object')"
            ]
          },
          "metadata": {
            "tags": []
          },
          "execution_count": 15
        }
      ]
    },
    {
      "cell_type": "code",
      "metadata": {
        "colab": {
          "base_uri": "https://localhost:8080/"
        },
        "id": "2laPQclX7DPU",
        "outputId": "d6fe2e6c-1353-45c4-804b-62f38f354daf"
      },
      "source": [
        "cols = ['country', 'year', 'gdpPercap']\n",
        "type(cols)"
      ],
      "execution_count": 17,
      "outputs": [
        {
          "output_type": "execute_result",
          "data": {
            "text/plain": [
              "list"
            ]
          },
          "metadata": {
            "tags": []
          },
          "execution_count": 17
        }
      ]
    },
    {
      "cell_type": "code",
      "metadata": {
        "colab": {
          "base_uri": "https://localhost:8080/",
          "height": 423
        },
        "id": "sYPu0QSQ6Vq8",
        "outputId": "33c5ca51-286f-4959-a5cc-b8ebe2e6a5f5"
      },
      "source": [
        "gapminder[cols]"
      ],
      "execution_count": 18,
      "outputs": [
        {
          "output_type": "execute_result",
          "data": {
            "text/html": [
              "<div>\n",
              "<style scoped>\n",
              "    .dataframe tbody tr th:only-of-type {\n",
              "        vertical-align: middle;\n",
              "    }\n",
              "\n",
              "    .dataframe tbody tr th {\n",
              "        vertical-align: top;\n",
              "    }\n",
              "\n",
              "    .dataframe thead th {\n",
              "        text-align: right;\n",
              "    }\n",
              "</style>\n",
              "<table border=\"1\" class=\"dataframe\">\n",
              "  <thead>\n",
              "    <tr style=\"text-align: right;\">\n",
              "      <th></th>\n",
              "      <th>country</th>\n",
              "      <th>year</th>\n",
              "      <th>gdpPercap</th>\n",
              "    </tr>\n",
              "  </thead>\n",
              "  <tbody>\n",
              "    <tr>\n",
              "      <th>0</th>\n",
              "      <td>Afghanistan</td>\n",
              "      <td>1952</td>\n",
              "      <td>779.445314</td>\n",
              "    </tr>\n",
              "    <tr>\n",
              "      <th>1</th>\n",
              "      <td>Afghanistan</td>\n",
              "      <td>1957</td>\n",
              "      <td>820.853030</td>\n",
              "    </tr>\n",
              "    <tr>\n",
              "      <th>2</th>\n",
              "      <td>Afghanistan</td>\n",
              "      <td>1962</td>\n",
              "      <td>853.100710</td>\n",
              "    </tr>\n",
              "    <tr>\n",
              "      <th>3</th>\n",
              "      <td>Afghanistan</td>\n",
              "      <td>1967</td>\n",
              "      <td>836.197138</td>\n",
              "    </tr>\n",
              "    <tr>\n",
              "      <th>4</th>\n",
              "      <td>Afghanistan</td>\n",
              "      <td>1972</td>\n",
              "      <td>739.981106</td>\n",
              "    </tr>\n",
              "    <tr>\n",
              "      <th>...</th>\n",
              "      <td>...</td>\n",
              "      <td>...</td>\n",
              "      <td>...</td>\n",
              "    </tr>\n",
              "    <tr>\n",
              "      <th>1699</th>\n",
              "      <td>Zimbabwe</td>\n",
              "      <td>1987</td>\n",
              "      <td>706.157306</td>\n",
              "    </tr>\n",
              "    <tr>\n",
              "      <th>1700</th>\n",
              "      <td>Zimbabwe</td>\n",
              "      <td>1992</td>\n",
              "      <td>693.420786</td>\n",
              "    </tr>\n",
              "    <tr>\n",
              "      <th>1701</th>\n",
              "      <td>Zimbabwe</td>\n",
              "      <td>1997</td>\n",
              "      <td>792.449960</td>\n",
              "    </tr>\n",
              "    <tr>\n",
              "      <th>1702</th>\n",
              "      <td>Zimbabwe</td>\n",
              "      <td>2002</td>\n",
              "      <td>672.038623</td>\n",
              "    </tr>\n",
              "    <tr>\n",
              "      <th>1703</th>\n",
              "      <td>Zimbabwe</td>\n",
              "      <td>2007</td>\n",
              "      <td>469.709298</td>\n",
              "    </tr>\n",
              "  </tbody>\n",
              "</table>\n",
              "<p>1704 rows × 3 columns</p>\n",
              "</div>"
            ],
            "text/plain": [
              "          country  year   gdpPercap\n",
              "0     Afghanistan  1952  779.445314\n",
              "1     Afghanistan  1957  820.853030\n",
              "2     Afghanistan  1962  853.100710\n",
              "3     Afghanistan  1967  836.197138\n",
              "4     Afghanistan  1972  739.981106\n",
              "...           ...   ...         ...\n",
              "1699     Zimbabwe  1987  706.157306\n",
              "1700     Zimbabwe  1992  693.420786\n",
              "1701     Zimbabwe  1997  792.449960\n",
              "1702     Zimbabwe  2002  672.038623\n",
              "1703     Zimbabwe  2007  469.709298\n",
              "\n",
              "[1704 rows x 3 columns]"
            ]
          },
          "metadata": {
            "tags": []
          },
          "execution_count": 18
        }
      ]
    },
    {
      "cell_type": "code",
      "metadata": {
        "colab": {
          "base_uri": "https://localhost:8080/",
          "height": 423
        },
        "id": "5HFDWhwi65aJ",
        "outputId": "35b398a1-867f-4d7a-b36b-c15decd693a9"
      },
      "source": [
        "gapminder.loc[:, cols]"
      ],
      "execution_count": 19,
      "outputs": [
        {
          "output_type": "execute_result",
          "data": {
            "text/html": [
              "<div>\n",
              "<style scoped>\n",
              "    .dataframe tbody tr th:only-of-type {\n",
              "        vertical-align: middle;\n",
              "    }\n",
              "\n",
              "    .dataframe tbody tr th {\n",
              "        vertical-align: top;\n",
              "    }\n",
              "\n",
              "    .dataframe thead th {\n",
              "        text-align: right;\n",
              "    }\n",
              "</style>\n",
              "<table border=\"1\" class=\"dataframe\">\n",
              "  <thead>\n",
              "    <tr style=\"text-align: right;\">\n",
              "      <th></th>\n",
              "      <th>country</th>\n",
              "      <th>year</th>\n",
              "      <th>gdpPercap</th>\n",
              "    </tr>\n",
              "  </thead>\n",
              "  <tbody>\n",
              "    <tr>\n",
              "      <th>0</th>\n",
              "      <td>Afghanistan</td>\n",
              "      <td>1952</td>\n",
              "      <td>779.445314</td>\n",
              "    </tr>\n",
              "    <tr>\n",
              "      <th>1</th>\n",
              "      <td>Afghanistan</td>\n",
              "      <td>1957</td>\n",
              "      <td>820.853030</td>\n",
              "    </tr>\n",
              "    <tr>\n",
              "      <th>2</th>\n",
              "      <td>Afghanistan</td>\n",
              "      <td>1962</td>\n",
              "      <td>853.100710</td>\n",
              "    </tr>\n",
              "    <tr>\n",
              "      <th>3</th>\n",
              "      <td>Afghanistan</td>\n",
              "      <td>1967</td>\n",
              "      <td>836.197138</td>\n",
              "    </tr>\n",
              "    <tr>\n",
              "      <th>4</th>\n",
              "      <td>Afghanistan</td>\n",
              "      <td>1972</td>\n",
              "      <td>739.981106</td>\n",
              "    </tr>\n",
              "    <tr>\n",
              "      <th>...</th>\n",
              "      <td>...</td>\n",
              "      <td>...</td>\n",
              "      <td>...</td>\n",
              "    </tr>\n",
              "    <tr>\n",
              "      <th>1699</th>\n",
              "      <td>Zimbabwe</td>\n",
              "      <td>1987</td>\n",
              "      <td>706.157306</td>\n",
              "    </tr>\n",
              "    <tr>\n",
              "      <th>1700</th>\n",
              "      <td>Zimbabwe</td>\n",
              "      <td>1992</td>\n",
              "      <td>693.420786</td>\n",
              "    </tr>\n",
              "    <tr>\n",
              "      <th>1701</th>\n",
              "      <td>Zimbabwe</td>\n",
              "      <td>1997</td>\n",
              "      <td>792.449960</td>\n",
              "    </tr>\n",
              "    <tr>\n",
              "      <th>1702</th>\n",
              "      <td>Zimbabwe</td>\n",
              "      <td>2002</td>\n",
              "      <td>672.038623</td>\n",
              "    </tr>\n",
              "    <tr>\n",
              "      <th>1703</th>\n",
              "      <td>Zimbabwe</td>\n",
              "      <td>2007</td>\n",
              "      <td>469.709298</td>\n",
              "    </tr>\n",
              "  </tbody>\n",
              "</table>\n",
              "<p>1704 rows × 3 columns</p>\n",
              "</div>"
            ],
            "text/plain": [
              "          country  year   gdpPercap\n",
              "0     Afghanistan  1952  779.445314\n",
              "1     Afghanistan  1957  820.853030\n",
              "2     Afghanistan  1962  853.100710\n",
              "3     Afghanistan  1967  836.197138\n",
              "4     Afghanistan  1972  739.981106\n",
              "...           ...   ...         ...\n",
              "1699     Zimbabwe  1987  706.157306\n",
              "1700     Zimbabwe  1992  693.420786\n",
              "1701     Zimbabwe  1997  792.449960\n",
              "1702     Zimbabwe  2002  672.038623\n",
              "1703     Zimbabwe  2007  469.709298\n",
              "\n",
              "[1704 rows x 3 columns]"
            ]
          },
          "metadata": {
            "tags": []
          },
          "execution_count": 19
        }
      ]
    },
    {
      "cell_type": "markdown",
      "metadata": {
        "id": "0Tl2VtBJm-Nq"
      },
      "source": [
        "* DataFrame에서 1인당 GDP의 최솟값, 최댓값을 찾으세요."
      ]
    },
    {
      "cell_type": "code",
      "metadata": {
        "colab": {
          "base_uri": "https://localhost:8080/"
        },
        "id": "P1yh6c0T71fG",
        "outputId": "96c68f69-736e-4e69-e2ef-d27c52b96908"
      },
      "source": [
        "# pd.Series.max() 메서드\n",
        "gapminder['gdpPercap'].max()"
      ],
      "execution_count": 21,
      "outputs": [
        {
          "output_type": "execute_result",
          "data": {
            "text/plain": [
              "113523.1329"
            ]
          },
          "metadata": {
            "tags": []
          },
          "execution_count": 21
        }
      ]
    },
    {
      "cell_type": "code",
      "metadata": {
        "colab": {
          "base_uri": "https://localhost:8080/"
        },
        "id": "Gg5D1RZq8NVt",
        "outputId": "0918eb23-f7fc-4a4e-cdaf-1da35fd838fc"
      },
      "source": [
        "# pd.Series.min() 메서드\n",
        "gapminder['gdpPercap'].min()"
      ],
      "execution_count": 22,
      "outputs": [
        {
          "output_type": "execute_result",
          "data": {
            "text/plain": [
              "241.16587650000002"
            ]
          },
          "metadata": {
            "tags": []
          },
          "execution_count": 22
        }
      ]
    },
    {
      "cell_type": "markdown",
      "metadata": {
        "id": "avZhht9RnFaS"
      },
      "source": [
        "* DataFrame에서 1인당 GDP가 최소/최대인 row를 찾으세요."
      ]
    },
    {
      "cell_type": "code",
      "metadata": {
        "colab": {
          "base_uri": "https://localhost:8080/",
          "height": 81
        },
        "id": "dWyMrUA68cf9",
        "outputId": "6b35c0b7-72b2-4eae-9c91-69b9311101b0"
      },
      "source": [
        "gapminder[gapminder.gdpPercap == gapminder.gdpPercap.max()]"
      ],
      "execution_count": 23,
      "outputs": [
        {
          "output_type": "execute_result",
          "data": {
            "text/html": [
              "<div>\n",
              "<style scoped>\n",
              "    .dataframe tbody tr th:only-of-type {\n",
              "        vertical-align: middle;\n",
              "    }\n",
              "\n",
              "    .dataframe tbody tr th {\n",
              "        vertical-align: top;\n",
              "    }\n",
              "\n",
              "    .dataframe thead th {\n",
              "        text-align: right;\n",
              "    }\n",
              "</style>\n",
              "<table border=\"1\" class=\"dataframe\">\n",
              "  <thead>\n",
              "    <tr style=\"text-align: right;\">\n",
              "      <th></th>\n",
              "      <th>country</th>\n",
              "      <th>continent</th>\n",
              "      <th>year</th>\n",
              "      <th>lifeExp</th>\n",
              "      <th>pop</th>\n",
              "      <th>gdpPercap</th>\n",
              "    </tr>\n",
              "  </thead>\n",
              "  <tbody>\n",
              "    <tr>\n",
              "      <th>853</th>\n",
              "      <td>Kuwait</td>\n",
              "      <td>Asia</td>\n",
              "      <td>1957</td>\n",
              "      <td>58.033</td>\n",
              "      <td>212846</td>\n",
              "      <td>113523.1329</td>\n",
              "    </tr>\n",
              "  </tbody>\n",
              "</table>\n",
              "</div>"
            ],
            "text/plain": [
              "    country continent  year  lifeExp     pop    gdpPercap\n",
              "853  Kuwait      Asia  1957   58.033  212846  113523.1329"
            ]
          },
          "metadata": {
            "tags": []
          },
          "execution_count": 23
        }
      ]
    },
    {
      "cell_type": "code",
      "metadata": {
        "colab": {
          "base_uri": "https://localhost:8080/",
          "height": 81
        },
        "id": "ubQO3Sl99Qih",
        "outputId": "7de75cbe-5c53-4b0d-eac2-aa2182f50ce8"
      },
      "source": [
        "gapminder[gapminder.gdpPercap == gapminder.gdpPercap.min()]"
      ],
      "execution_count": 24,
      "outputs": [
        {
          "output_type": "execute_result",
          "data": {
            "text/html": [
              "<div>\n",
              "<style scoped>\n",
              "    .dataframe tbody tr th:only-of-type {\n",
              "        vertical-align: middle;\n",
              "    }\n",
              "\n",
              "    .dataframe tbody tr th {\n",
              "        vertical-align: top;\n",
              "    }\n",
              "\n",
              "    .dataframe thead th {\n",
              "        text-align: right;\n",
              "    }\n",
              "</style>\n",
              "<table border=\"1\" class=\"dataframe\">\n",
              "  <thead>\n",
              "    <tr style=\"text-align: right;\">\n",
              "      <th></th>\n",
              "      <th>country</th>\n",
              "      <th>continent</th>\n",
              "      <th>year</th>\n",
              "      <th>lifeExp</th>\n",
              "      <th>pop</th>\n",
              "      <th>gdpPercap</th>\n",
              "    </tr>\n",
              "  </thead>\n",
              "  <tbody>\n",
              "    <tr>\n",
              "      <th>334</th>\n",
              "      <td>Congo, Dem. Rep.</td>\n",
              "      <td>Africa</td>\n",
              "      <td>2002</td>\n",
              "      <td>44.966</td>\n",
              "      <td>55379852</td>\n",
              "      <td>241.165877</td>\n",
              "    </tr>\n",
              "  </tbody>\n",
              "</table>\n",
              "</div>"
            ],
            "text/plain": [
              "              country continent  year  lifeExp       pop   gdpPercap\n",
              "334  Congo, Dem. Rep.    Africa  2002   44.966  55379852  241.165877"
            ]
          },
          "metadata": {
            "tags": []
          },
          "execution_count": 24
        }
      ]
    },
    {
      "cell_type": "code",
      "metadata": {
        "colab": {
          "base_uri": "https://localhost:8080/",
          "height": 112
        },
        "id": "nDT0eTko9TDd",
        "outputId": "8d608f3b-1049-4d07-a608-e77021ab10b2"
      },
      "source": [
        "gapminder[(gapminder.gdpPercap == gapminder.gdpPercap.max()) | \n",
        "          (gapminder.gdpPercap == gapminder.gdpPercap.min())]"
      ],
      "execution_count": 25,
      "outputs": [
        {
          "output_type": "execute_result",
          "data": {
            "text/html": [
              "<div>\n",
              "<style scoped>\n",
              "    .dataframe tbody tr th:only-of-type {\n",
              "        vertical-align: middle;\n",
              "    }\n",
              "\n",
              "    .dataframe tbody tr th {\n",
              "        vertical-align: top;\n",
              "    }\n",
              "\n",
              "    .dataframe thead th {\n",
              "        text-align: right;\n",
              "    }\n",
              "</style>\n",
              "<table border=\"1\" class=\"dataframe\">\n",
              "  <thead>\n",
              "    <tr style=\"text-align: right;\">\n",
              "      <th></th>\n",
              "      <th>country</th>\n",
              "      <th>continent</th>\n",
              "      <th>year</th>\n",
              "      <th>lifeExp</th>\n",
              "      <th>pop</th>\n",
              "      <th>gdpPercap</th>\n",
              "    </tr>\n",
              "  </thead>\n",
              "  <tbody>\n",
              "    <tr>\n",
              "      <th>334</th>\n",
              "      <td>Congo, Dem. Rep.</td>\n",
              "      <td>Africa</td>\n",
              "      <td>2002</td>\n",
              "      <td>44.966</td>\n",
              "      <td>55379852</td>\n",
              "      <td>241.165877</td>\n",
              "    </tr>\n",
              "    <tr>\n",
              "      <th>853</th>\n",
              "      <td>Kuwait</td>\n",
              "      <td>Asia</td>\n",
              "      <td>1957</td>\n",
              "      <td>58.033</td>\n",
              "      <td>212846</td>\n",
              "      <td>113523.132900</td>\n",
              "    </tr>\n",
              "  </tbody>\n",
              "</table>\n",
              "</div>"
            ],
            "text/plain": [
              "              country continent  year  lifeExp       pop      gdpPercap\n",
              "334  Congo, Dem. Rep.    Africa  2002   44.966  55379852     241.165877\n",
              "853            Kuwait      Asia  1957   58.033    212846  113523.132900"
            ]
          },
          "metadata": {
            "tags": []
          },
          "execution_count": 25
        }
      ]
    },
    {
      "cell_type": "markdown",
      "metadata": {
        "id": "4ZvZF2XonLL6"
      },
      "source": [
        "* DataFrame에서 기대수명(lifeExp)의 최솟값/최댓값을 찾으세요."
      ]
    },
    {
      "cell_type": "code",
      "metadata": {
        "colab": {
          "base_uri": "https://localhost:8080/"
        },
        "id": "Eu9gpkiM-K_V",
        "outputId": "6aea8956-e3c8-4888-93da-2758aaca0157"
      },
      "source": [
        "gapminder.lifeExp.max()"
      ],
      "execution_count": 26,
      "outputs": [
        {
          "output_type": "execute_result",
          "data": {
            "text/plain": [
              "82.603"
            ]
          },
          "metadata": {
            "tags": []
          },
          "execution_count": 26
        }
      ]
    },
    {
      "cell_type": "code",
      "metadata": {
        "colab": {
          "base_uri": "https://localhost:8080/"
        },
        "id": "W74Ss7QU-RcF",
        "outputId": "4ce4ec1f-372b-4da5-a4fd-ac5723f6f6da"
      },
      "source": [
        "gapminder.lifeExp.min()"
      ],
      "execution_count": 27,
      "outputs": [
        {
          "output_type": "execute_result",
          "data": {
            "text/plain": [
              "23.599"
            ]
          },
          "metadata": {
            "tags": []
          },
          "execution_count": 27
        }
      ]
    },
    {
      "cell_type": "markdown",
      "metadata": {
        "id": "qr81jztTncKz"
      },
      "source": [
        "* DataFrame에서 기대수명(lifeExp)이 최소/최대인 row를 찾으세요."
      ]
    },
    {
      "cell_type": "code",
      "metadata": {
        "colab": {
          "base_uri": "https://localhost:8080/",
          "height": 112
        },
        "id": "bk_MqOU4-av2",
        "outputId": "6da3ae47-676c-4d8f-887b-c60291983ecc"
      },
      "source": [
        "gapminder[(gapminder.lifeExp == gapminder.lifeExp.max()) |\n",
        "          (gapminder.lifeExp == gapminder.lifeExp.min())]"
      ],
      "execution_count": 28,
      "outputs": [
        {
          "output_type": "execute_result",
          "data": {
            "text/html": [
              "<div>\n",
              "<style scoped>\n",
              "    .dataframe tbody tr th:only-of-type {\n",
              "        vertical-align: middle;\n",
              "    }\n",
              "\n",
              "    .dataframe tbody tr th {\n",
              "        vertical-align: top;\n",
              "    }\n",
              "\n",
              "    .dataframe thead th {\n",
              "        text-align: right;\n",
              "    }\n",
              "</style>\n",
              "<table border=\"1\" class=\"dataframe\">\n",
              "  <thead>\n",
              "    <tr style=\"text-align: right;\">\n",
              "      <th></th>\n",
              "      <th>country</th>\n",
              "      <th>continent</th>\n",
              "      <th>year</th>\n",
              "      <th>lifeExp</th>\n",
              "      <th>pop</th>\n",
              "      <th>gdpPercap</th>\n",
              "    </tr>\n",
              "  </thead>\n",
              "  <tbody>\n",
              "    <tr>\n",
              "      <th>803</th>\n",
              "      <td>Japan</td>\n",
              "      <td>Asia</td>\n",
              "      <td>2007</td>\n",
              "      <td>82.603</td>\n",
              "      <td>127467972</td>\n",
              "      <td>31656.068060</td>\n",
              "    </tr>\n",
              "    <tr>\n",
              "      <th>1292</th>\n",
              "      <td>Rwanda</td>\n",
              "      <td>Africa</td>\n",
              "      <td>1992</td>\n",
              "      <td>23.599</td>\n",
              "      <td>7290203</td>\n",
              "      <td>737.068595</td>\n",
              "    </tr>\n",
              "  </tbody>\n",
              "</table>\n",
              "</div>"
            ],
            "text/plain": [
              "     country continent  year  lifeExp        pop     gdpPercap\n",
              "803    Japan      Asia  2007   82.603  127467972  31656.068060\n",
              "1292  Rwanda    Africa  1992   23.599    7290203    737.068595"
            ]
          },
          "metadata": {
            "tags": []
          },
          "execution_count": 28
        }
      ]
    },
    {
      "cell_type": "code",
      "metadata": {
        "colab": {
          "base_uri": "https://localhost:8080/",
          "height": 425
        },
        "id": "s85rsssd_A2t",
        "outputId": "439eed59-a913-49e5-b93d-24bcd48bb75a"
      },
      "source": [
        "gapminder[gapminder.country == 'Rwanda']"
      ],
      "execution_count": 29,
      "outputs": [
        {
          "output_type": "execute_result",
          "data": {
            "text/html": [
              "<div>\n",
              "<style scoped>\n",
              "    .dataframe tbody tr th:only-of-type {\n",
              "        vertical-align: middle;\n",
              "    }\n",
              "\n",
              "    .dataframe tbody tr th {\n",
              "        vertical-align: top;\n",
              "    }\n",
              "\n",
              "    .dataframe thead th {\n",
              "        text-align: right;\n",
              "    }\n",
              "</style>\n",
              "<table border=\"1\" class=\"dataframe\">\n",
              "  <thead>\n",
              "    <tr style=\"text-align: right;\">\n",
              "      <th></th>\n",
              "      <th>country</th>\n",
              "      <th>continent</th>\n",
              "      <th>year</th>\n",
              "      <th>lifeExp</th>\n",
              "      <th>pop</th>\n",
              "      <th>gdpPercap</th>\n",
              "    </tr>\n",
              "  </thead>\n",
              "  <tbody>\n",
              "    <tr>\n",
              "      <th>1284</th>\n",
              "      <td>Rwanda</td>\n",
              "      <td>Africa</td>\n",
              "      <td>1952</td>\n",
              "      <td>40.000</td>\n",
              "      <td>2534927</td>\n",
              "      <td>493.323875</td>\n",
              "    </tr>\n",
              "    <tr>\n",
              "      <th>1285</th>\n",
              "      <td>Rwanda</td>\n",
              "      <td>Africa</td>\n",
              "      <td>1957</td>\n",
              "      <td>41.500</td>\n",
              "      <td>2822082</td>\n",
              "      <td>540.289398</td>\n",
              "    </tr>\n",
              "    <tr>\n",
              "      <th>1286</th>\n",
              "      <td>Rwanda</td>\n",
              "      <td>Africa</td>\n",
              "      <td>1962</td>\n",
              "      <td>43.000</td>\n",
              "      <td>3051242</td>\n",
              "      <td>597.473073</td>\n",
              "    </tr>\n",
              "    <tr>\n",
              "      <th>1287</th>\n",
              "      <td>Rwanda</td>\n",
              "      <td>Africa</td>\n",
              "      <td>1967</td>\n",
              "      <td>44.100</td>\n",
              "      <td>3451079</td>\n",
              "      <td>510.963714</td>\n",
              "    </tr>\n",
              "    <tr>\n",
              "      <th>1288</th>\n",
              "      <td>Rwanda</td>\n",
              "      <td>Africa</td>\n",
              "      <td>1972</td>\n",
              "      <td>44.600</td>\n",
              "      <td>3992121</td>\n",
              "      <td>590.580664</td>\n",
              "    </tr>\n",
              "    <tr>\n",
              "      <th>1289</th>\n",
              "      <td>Rwanda</td>\n",
              "      <td>Africa</td>\n",
              "      <td>1977</td>\n",
              "      <td>45.000</td>\n",
              "      <td>4657072</td>\n",
              "      <td>670.080601</td>\n",
              "    </tr>\n",
              "    <tr>\n",
              "      <th>1290</th>\n",
              "      <td>Rwanda</td>\n",
              "      <td>Africa</td>\n",
              "      <td>1982</td>\n",
              "      <td>46.218</td>\n",
              "      <td>5507565</td>\n",
              "      <td>881.570647</td>\n",
              "    </tr>\n",
              "    <tr>\n",
              "      <th>1291</th>\n",
              "      <td>Rwanda</td>\n",
              "      <td>Africa</td>\n",
              "      <td>1987</td>\n",
              "      <td>44.020</td>\n",
              "      <td>6349365</td>\n",
              "      <td>847.991217</td>\n",
              "    </tr>\n",
              "    <tr>\n",
              "      <th>1292</th>\n",
              "      <td>Rwanda</td>\n",
              "      <td>Africa</td>\n",
              "      <td>1992</td>\n",
              "      <td>23.599</td>\n",
              "      <td>7290203</td>\n",
              "      <td>737.068595</td>\n",
              "    </tr>\n",
              "    <tr>\n",
              "      <th>1293</th>\n",
              "      <td>Rwanda</td>\n",
              "      <td>Africa</td>\n",
              "      <td>1997</td>\n",
              "      <td>36.087</td>\n",
              "      <td>7212583</td>\n",
              "      <td>589.944505</td>\n",
              "    </tr>\n",
              "    <tr>\n",
              "      <th>1294</th>\n",
              "      <td>Rwanda</td>\n",
              "      <td>Africa</td>\n",
              "      <td>2002</td>\n",
              "      <td>43.413</td>\n",
              "      <td>7852401</td>\n",
              "      <td>785.653765</td>\n",
              "    </tr>\n",
              "    <tr>\n",
              "      <th>1295</th>\n",
              "      <td>Rwanda</td>\n",
              "      <td>Africa</td>\n",
              "      <td>2007</td>\n",
              "      <td>46.242</td>\n",
              "      <td>8860588</td>\n",
              "      <td>863.088464</td>\n",
              "    </tr>\n",
              "  </tbody>\n",
              "</table>\n",
              "</div>"
            ],
            "text/plain": [
              "     country continent  year  lifeExp      pop   gdpPercap\n",
              "1284  Rwanda    Africa  1952   40.000  2534927  493.323875\n",
              "1285  Rwanda    Africa  1957   41.500  2822082  540.289398\n",
              "1286  Rwanda    Africa  1962   43.000  3051242  597.473073\n",
              "1287  Rwanda    Africa  1967   44.100  3451079  510.963714\n",
              "1288  Rwanda    Africa  1972   44.600  3992121  590.580664\n",
              "1289  Rwanda    Africa  1977   45.000  4657072  670.080601\n",
              "1290  Rwanda    Africa  1982   46.218  5507565  881.570647\n",
              "1291  Rwanda    Africa  1987   44.020  6349365  847.991217\n",
              "1292  Rwanda    Africa  1992   23.599  7290203  737.068595\n",
              "1293  Rwanda    Africa  1997   36.087  7212583  589.944505\n",
              "1294  Rwanda    Africa  2002   43.413  7852401  785.653765\n",
              "1295  Rwanda    Africa  2007   46.242  8860588  863.088464"
            ]
          },
          "metadata": {
            "tags": []
          },
          "execution_count": 29
        }
      ]
    },
    {
      "cell_type": "code",
      "metadata": {
        "colab": {
          "base_uri": "https://localhost:8080/",
          "height": 425
        },
        "id": "DlZ-iA0r_UBW",
        "outputId": "aa2c664b-d477-4bc5-c6b4-435f5d9a1778"
      },
      "source": [
        "gapminder[gapminder.country == 'Japan']"
      ],
      "execution_count": 30,
      "outputs": [
        {
          "output_type": "execute_result",
          "data": {
            "text/html": [
              "<div>\n",
              "<style scoped>\n",
              "    .dataframe tbody tr th:only-of-type {\n",
              "        vertical-align: middle;\n",
              "    }\n",
              "\n",
              "    .dataframe tbody tr th {\n",
              "        vertical-align: top;\n",
              "    }\n",
              "\n",
              "    .dataframe thead th {\n",
              "        text-align: right;\n",
              "    }\n",
              "</style>\n",
              "<table border=\"1\" class=\"dataframe\">\n",
              "  <thead>\n",
              "    <tr style=\"text-align: right;\">\n",
              "      <th></th>\n",
              "      <th>country</th>\n",
              "      <th>continent</th>\n",
              "      <th>year</th>\n",
              "      <th>lifeExp</th>\n",
              "      <th>pop</th>\n",
              "      <th>gdpPercap</th>\n",
              "    </tr>\n",
              "  </thead>\n",
              "  <tbody>\n",
              "    <tr>\n",
              "      <th>792</th>\n",
              "      <td>Japan</td>\n",
              "      <td>Asia</td>\n",
              "      <td>1952</td>\n",
              "      <td>63.030</td>\n",
              "      <td>86459025</td>\n",
              "      <td>3216.956347</td>\n",
              "    </tr>\n",
              "    <tr>\n",
              "      <th>793</th>\n",
              "      <td>Japan</td>\n",
              "      <td>Asia</td>\n",
              "      <td>1957</td>\n",
              "      <td>65.500</td>\n",
              "      <td>91563009</td>\n",
              "      <td>4317.694365</td>\n",
              "    </tr>\n",
              "    <tr>\n",
              "      <th>794</th>\n",
              "      <td>Japan</td>\n",
              "      <td>Asia</td>\n",
              "      <td>1962</td>\n",
              "      <td>68.730</td>\n",
              "      <td>95831757</td>\n",
              "      <td>6576.649461</td>\n",
              "    </tr>\n",
              "    <tr>\n",
              "      <th>795</th>\n",
              "      <td>Japan</td>\n",
              "      <td>Asia</td>\n",
              "      <td>1967</td>\n",
              "      <td>71.430</td>\n",
              "      <td>100825279</td>\n",
              "      <td>9847.788607</td>\n",
              "    </tr>\n",
              "    <tr>\n",
              "      <th>796</th>\n",
              "      <td>Japan</td>\n",
              "      <td>Asia</td>\n",
              "      <td>1972</td>\n",
              "      <td>73.420</td>\n",
              "      <td>107188273</td>\n",
              "      <td>14778.786360</td>\n",
              "    </tr>\n",
              "    <tr>\n",
              "      <th>797</th>\n",
              "      <td>Japan</td>\n",
              "      <td>Asia</td>\n",
              "      <td>1977</td>\n",
              "      <td>75.380</td>\n",
              "      <td>113872473</td>\n",
              "      <td>16610.377010</td>\n",
              "    </tr>\n",
              "    <tr>\n",
              "      <th>798</th>\n",
              "      <td>Japan</td>\n",
              "      <td>Asia</td>\n",
              "      <td>1982</td>\n",
              "      <td>77.110</td>\n",
              "      <td>118454974</td>\n",
              "      <td>19384.105710</td>\n",
              "    </tr>\n",
              "    <tr>\n",
              "      <th>799</th>\n",
              "      <td>Japan</td>\n",
              "      <td>Asia</td>\n",
              "      <td>1987</td>\n",
              "      <td>78.670</td>\n",
              "      <td>122091325</td>\n",
              "      <td>22375.941890</td>\n",
              "    </tr>\n",
              "    <tr>\n",
              "      <th>800</th>\n",
              "      <td>Japan</td>\n",
              "      <td>Asia</td>\n",
              "      <td>1992</td>\n",
              "      <td>79.360</td>\n",
              "      <td>124329269</td>\n",
              "      <td>26824.895110</td>\n",
              "    </tr>\n",
              "    <tr>\n",
              "      <th>801</th>\n",
              "      <td>Japan</td>\n",
              "      <td>Asia</td>\n",
              "      <td>1997</td>\n",
              "      <td>80.690</td>\n",
              "      <td>125956499</td>\n",
              "      <td>28816.584990</td>\n",
              "    </tr>\n",
              "    <tr>\n",
              "      <th>802</th>\n",
              "      <td>Japan</td>\n",
              "      <td>Asia</td>\n",
              "      <td>2002</td>\n",
              "      <td>82.000</td>\n",
              "      <td>127065841</td>\n",
              "      <td>28604.591900</td>\n",
              "    </tr>\n",
              "    <tr>\n",
              "      <th>803</th>\n",
              "      <td>Japan</td>\n",
              "      <td>Asia</td>\n",
              "      <td>2007</td>\n",
              "      <td>82.603</td>\n",
              "      <td>127467972</td>\n",
              "      <td>31656.068060</td>\n",
              "    </tr>\n",
              "  </tbody>\n",
              "</table>\n",
              "</div>"
            ],
            "text/plain": [
              "    country continent  year  lifeExp        pop     gdpPercap\n",
              "792   Japan      Asia  1952   63.030   86459025   3216.956347\n",
              "793   Japan      Asia  1957   65.500   91563009   4317.694365\n",
              "794   Japan      Asia  1962   68.730   95831757   6576.649461\n",
              "795   Japan      Asia  1967   71.430  100825279   9847.788607\n",
              "796   Japan      Asia  1972   73.420  107188273  14778.786360\n",
              "797   Japan      Asia  1977   75.380  113872473  16610.377010\n",
              "798   Japan      Asia  1982   77.110  118454974  19384.105710\n",
              "799   Japan      Asia  1987   78.670  122091325  22375.941890\n",
              "800   Japan      Asia  1992   79.360  124329269  26824.895110\n",
              "801   Japan      Asia  1997   80.690  125956499  28816.584990\n",
              "802   Japan      Asia  2002   82.000  127065841  28604.591900\n",
              "803   Japan      Asia  2007   82.603  127467972  31656.068060"
            ]
          },
          "metadata": {
            "tags": []
          },
          "execution_count": 30
        }
      ]
    },
    {
      "cell_type": "markdown",
      "metadata": {
        "id": "XgPMi0zEnsYJ"
      },
      "source": [
        "* 연도별 기대수명(lifeExp)의 평균을 출력하세요."
      ]
    },
    {
      "cell_type": "code",
      "metadata": {
        "colab": {
          "base_uri": "https://localhost:8080/"
        },
        "id": "0pT3J7swCP5s",
        "outputId": "586276e0-0076-49c4-8136-716e26f75c7f"
      },
      "source": [
        "years = gapminder['year'].unique()\n",
        "\n",
        "lifeExp_by_year = []  # 연도별 기대수명의 평균을 저장할 리스트\n",
        "for y in years:\n",
        "    subset = gapminder[gapminder.year == y]  # 데이터프레임에서 각 연도 부분집합 - 분리(split)\n",
        "    avg = subset['lifeExp'].mean()  # 부분집합에서 평균 계산 - 적용(apply)\n",
        "    lifeExp_by_year.append(avg)  # 리스트에 계산된 평균값을 추가 - 결합(combine)\n",
        "\n",
        "# 리스트를 pd.Series 객체로 변환\n",
        "lifeExp_by_year = pd.Series(data=lifeExp_by_year, index=years, name='lifeExp')\n",
        "lifeExp_by_year"
      ],
      "execution_count": 43,
      "outputs": [
        {
          "output_type": "execute_result",
          "data": {
            "text/plain": [
              "1952    49.057620\n",
              "1957    51.507401\n",
              "1962    53.609249\n",
              "1967    55.678290\n",
              "1972    57.647386\n",
              "1977    59.570157\n",
              "1982    61.533197\n",
              "1987    63.212613\n",
              "1992    64.160338\n",
              "1997    65.014676\n",
              "2002    65.694923\n",
              "2007    67.007423\n",
              "Name: lifeExp, dtype: float64"
            ]
          },
          "metadata": {
            "tags": []
          },
          "execution_count": 43
        }
      ]
    },
    {
      "cell_type": "code",
      "metadata": {
        "colab": {
          "base_uri": "https://localhost:8080/"
        },
        "id": "acoumEWg_-79",
        "outputId": "3fcf6c4a-27dd-4139-cd92-32fd4592ca06"
      },
      "source": [
        "gapminder.groupby('year')['lifeExp'].mean()"
      ],
      "execution_count": 32,
      "outputs": [
        {
          "output_type": "execute_result",
          "data": {
            "text/plain": [
              "year\n",
              "1952    49.057620\n",
              "1957    51.507401\n",
              "1962    53.609249\n",
              "1967    55.678290\n",
              "1972    57.647386\n",
              "1977    59.570157\n",
              "1982    61.533197\n",
              "1987    63.212613\n",
              "1992    64.160338\n",
              "1997    65.014676\n",
              "2002    65.694923\n",
              "2007    67.007423\n",
              "Name: lifeExp, dtype: float64"
            ]
          },
          "metadata": {
            "tags": []
          },
          "execution_count": 32
        }
      ]
    },
    {
      "cell_type": "code",
      "metadata": {
        "colab": {
          "base_uri": "https://localhost:8080/"
        },
        "id": "CmIzOdhlB0j3",
        "outputId": "199bb746-84b6-4b18-ca52-37ed5c797934"
      },
      "source": [
        "gapminder['lifeExp'].groupby(gapminder['year']).mean()"
      ],
      "execution_count": 34,
      "outputs": [
        {
          "output_type": "execute_result",
          "data": {
            "text/plain": [
              "year\n",
              "1952    49.057620\n",
              "1957    51.507401\n",
              "1962    53.609249\n",
              "1967    55.678290\n",
              "1972    57.647386\n",
              "1977    59.570157\n",
              "1982    61.533197\n",
              "1987    63.212613\n",
              "1992    64.160338\n",
              "1997    65.014676\n",
              "2002    65.694923\n",
              "2007    67.007423\n",
              "Name: lifeExp, dtype: float64"
            ]
          },
          "metadata": {
            "tags": []
          },
          "execution_count": 34
        }
      ]
    },
    {
      "cell_type": "markdown",
      "metadata": {
        "id": "Nsp61RZVn9kz"
      },
      "source": [
        "* 연도별 기대수명(lifeExp)의 평균을 그래프로 그리세요."
      ]
    },
    {
      "cell_type": "code",
      "metadata": {
        "colab": {
          "base_uri": "https://localhost:8080/",
          "height": 279
        },
        "id": "k21Vk-M7J47R",
        "outputId": "74b81828-7e0f-4c69-db75-0b6477eb7423"
      },
      "source": [
        "# pd.Series 객체의 index 속성과 values 속성을 각각 x축, y축으로 설정해서 그래프를 그림.\n",
        "plt.plot(lifeExp_by_year.index, lifeExp_by_year.values, 'o-')\n",
        "plt.xlabel('year')\n",
        "plt.ylabel('lifeExp')\n",
        "plt.grid()\n",
        "plt.show()"
      ],
      "execution_count": 50,
      "outputs": [
        {
          "output_type": "display_data",
          "data": {
            "image/png": "[encoded data removed]",
            "text/plain": [
              "<Figure size 432x288 with 1 Axes>"
            ]
          },
          "metadata": {
            "tags": [],
            "needs_background": "light"
          }
        }
      ]
    },
    {
      "cell_type": "code",
      "metadata": {
        "colab": {
          "base_uri": "https://localhost:8080/",
          "height": 268
        },
        "id": "WNwNBG2BK9VM",
        "outputId": "ddffc923-2432-484c-b51b-a2a3b838265e"
      },
      "source": [
        "plt.bar(x=lifeExp_by_year.index, height=lifeExp_by_year.values)\n",
        "plt.show()"
      ],
      "execution_count": 49,
      "outputs": [
        {
          "output_type": "display_data",
          "data": {
            "image/png": "[encoded data removed]",
            "text/plain": [
              "<Figure size 432x288 with 1 Axes>"
            ]
          },
          "metadata": {
            "tags": [],
            "needs_background": "light"
          }
        }
      ]
    },
    {
      "cell_type": "code",
      "metadata": {
        "colab": {
          "base_uri": "https://localhost:8080/",
          "height": 265
        },
        "id": "w245g_4kLSVO",
        "outputId": "0bb3f664-4202-4f17-fe37-58cca77b99cf"
      },
      "source": [
        "sns.lineplot(x=lifeExp_by_year.index, y=lifeExp_by_year.values, marker='o')\n",
        "plt.grid()\n",
        "plt.show()"
      ],
      "execution_count": 62,
      "outputs": [
        {
          "output_type": "display_data",
          "data": {
            "image/png": "[encoded data removed]",
            "text/plain": [
              "<Figure size 432x288 with 1 Axes>"
            ]
          },
          "metadata": {
            "tags": [],
            "needs_background": "light"
          }
        }
      ]
    },
    {
      "cell_type": "code",
      "metadata": {
        "colab": {
          "base_uri": "https://localhost:8080/",
          "height": 279
        },
        "id": "cy30uj3SLxHu",
        "outputId": "601e4f0f-553b-45d4-f8f1-d0d446fe9cb2"
      },
      "source": [
        "# seaborn 모듈의 함수들은 그룹별 통계(estimator)를 계산해서 그래프를 그려주는 기능을 가지고 있음.\n",
        "# estimator의 기본값은 평균(mean).\n",
        "sns.lineplot(x='year', y='lifeExp', data=gapminder, marker='o', err_style=None)\n",
        "plt.grid()\n",
        "plt.show()"
      ],
      "execution_count": 60,
      "outputs": [
        {
          "output_type": "display_data",
          "data": {
            "image/png": "[encoded data removed]",
            "text/plain": [
              "<Figure size 432x288 with 1 Axes>"
            ]
          },
          "metadata": {
            "tags": [],
            "needs_background": "light"
          }
        }
      ]
    },
    {
      "cell_type": "code",
      "metadata": {
        "colab": {
          "base_uri": "https://localhost:8080/",
          "height": 279
        },
        "id": "6G-WiQOWOXG4",
        "outputId": "afacb35f-be35-4cc0-d06c-f6495144b1e7"
      },
      "source": [
        "sns.barplot(x='year', y='lifeExp', data=gapminder)\n",
        "plt.show()"
      ],
      "execution_count": 65,
      "outputs": [
        {
          "output_type": "display_data",
          "data": {
            "image/png": "[encoded data removed]",
            "text/plain": [
              "<Figure size 432x288 with 1 Axes>"
            ]
          },
          "metadata": {
            "tags": [],
            "needs_background": "light"
          }
        }
      ]
    },
    {
      "cell_type": "markdown",
      "metadata": {
        "id": "SOapFlpioICZ"
      },
      "source": [
        "* 연도별 1인당 GDP의 평균을 출력하세요."
      ]
    },
    {
      "cell_type": "code",
      "metadata": {
        "colab": {
          "base_uri": "https://localhost:8080/"
        },
        "id": "uQbt9Htwg13p",
        "outputId": "edfb4911-9b46-4494-9ae4-a265db2d40fc"
      },
      "source": [
        "gdp_by_year = []  # 연도별 1인당 GDP를 저장하기 위한 리스트\n",
        "for y in years:\n",
        "    subset = gapminder[gapminder.year == y]  # 각 연도별 부분집합 - 분리(Split)\n",
        "    avg = subset['gdpPercap'].mean()  # 각 부분집합에서 통계값 계산 - 적용(Apply)\n",
        "    gdp_by_year.append(avg)  # 계산된 값을 리스트 추가 - 결합(Combine)\n",
        "\n",
        "# 리스트를 pd.Series 객체 변환\n",
        "gdp_by_year = pd.Series(data=gdp_by_year, index=years, name='gdpPercap')\n",
        "gdp_by_year"
      ],
      "execution_count": 70,
      "outputs": [
        {
          "output_type": "execute_result",
          "data": {
            "text/plain": [
              "1952     3725.276046\n",
              "1957     4299.408345\n",
              "1962     4725.812342\n",
              "1967     5483.653047\n",
              "1972     6770.082815\n",
              "1977     7313.166421\n",
              "1982     7518.901673\n",
              "1987     7900.920218\n",
              "1992     8158.608521\n",
              "1997     9090.175363\n",
              "2002     9917.848365\n",
              "2007    11680.071820\n",
              "Name: gdpPercap, dtype: float64"
            ]
          },
          "metadata": {
            "tags": []
          },
          "execution_count": 70
        }
      ]
    },
    {
      "cell_type": "code",
      "metadata": {
        "colab": {
          "base_uri": "https://localhost:8080/"
        },
        "id": "Ql4oM4rnj51j",
        "outputId": "f16a8ae9-6ba0-4aa8-d82d-2349764d0b31"
      },
      "source": [
        "gapminder.groupby('year')['gdpPercap'].mean()"
      ],
      "execution_count": 71,
      "outputs": [
        {
          "output_type": "execute_result",
          "data": {
            "text/plain": [
              "year\n",
              "1952     3725.276046\n",
              "1957     4299.408345\n",
              "1962     4725.812342\n",
              "1967     5483.653047\n",
              "1972     6770.082815\n",
              "1977     7313.166421\n",
              "1982     7518.901673\n",
              "1987     7900.920218\n",
              "1992     8158.608521\n",
              "1997     9090.175363\n",
              "2002     9917.848365\n",
              "2007    11680.071820\n",
              "Name: gdpPercap, dtype: float64"
            ]
          },
          "metadata": {
            "tags": []
          },
          "execution_count": 71
        }
      ]
    },
    {
      "cell_type": "markdown",
      "metadata": {
        "id": "UR77IWTMoMlR"
      },
      "source": [
        "* 연도별 1인당 GDP의 평균을 그래프로 그리세요."
      ]
    },
    {
      "cell_type": "code",
      "metadata": {
        "colab": {
          "base_uri": "https://localhost:8080/",
          "height": 281
        },
        "id": "bW5PAF5rkVYx",
        "outputId": "d4d01270-e96a-462e-870f-f2e1caf738bf"
      },
      "source": [
        "# groupby 메서드의 결과를 이용해서 시각화\n",
        "sns.lineplot(x=gdp_by_year.index, y=gdp_by_year.values, marker='o')\n",
        "plt.grid()\n",
        "plt.xlabel('Year')\n",
        "plt.ylabel('GDP per capita')\n",
        "plt.show()"
      ],
      "execution_count": 75,
      "outputs": [
        {
          "output_type": "display_data",
          "data": {
            "image/png": "[encoded data removed]",
            "text/plain": [
              "<Figure size 432x288 with 1 Axes>"
            ]
          },
          "metadata": {
            "tags": [],
            "needs_background": "light"
          }
        }
      ]
    },
    {
      "cell_type": "code",
      "metadata": {
        "colab": {
          "base_uri": "https://localhost:8080/",
          "height": 281
        },
        "id": "V9lbuGzdlR6x",
        "outputId": "d6d771b3-2d1d-4fa8-ff20-25dba2f8b86f"
      },
      "source": [
        "# seaborn 모듈의 함수들을 그룹별 통계 함수 적용 기능을 가지고 있음.\n",
        "sns.lineplot(x='year', y='gdpPercap', data=gapminder, marker='o', err_style=None)\n",
        "plt.grid()\n",
        "plt.show()"
      ],
      "execution_count": 78,
      "outputs": [
        {
          "output_type": "display_data",
          "data": {
            "image/png": "[encoded data removed]",
            "text/plain": [
              "<Figure size 432x288 with 1 Axes>"
            ]
          },
          "metadata": {
            "tags": [],
            "needs_background": "light"
          }
        }
      ]
    },
    {
      "cell_type": "markdown",
      "metadata": {
        "id": "YdEVHdFqoVkh"
      },
      "source": [
        "* 연도별 전세계 인구를 출력하세요."
      ]
    },
    {
      "cell_type": "code",
      "metadata": {
        "colab": {
          "base_uri": "https://localhost:8080/"
        },
        "id": "05Ok5Cn7l-4a",
        "outputId": "bd37b175-97af-4eda-b3a1-158e9e137921"
      },
      "source": [
        "pop_by_year = gapminder.groupby('year')['pop'].sum()\n",
        "pop_by_year"
      ],
      "execution_count": 79,
      "outputs": [
        {
          "output_type": "execute_result",
          "data": {
            "text/plain": [
              "year\n",
              "1952    2406957150\n",
              "1957    2664404580\n",
              "1962    2899782974\n",
              "1967    3217478384\n",
              "1972    3576977158\n",
              "1977    3930045807\n",
              "1982    4289436840\n",
              "1987    4691477418\n",
              "1992    5110710260\n",
              "1997    5515204472\n",
              "2002    5886977579\n",
              "2007    6251013179\n",
              "Name: pop, dtype: int64"
            ]
          },
          "metadata": {
            "tags": []
          },
          "execution_count": 79
        }
      ]
    },
    {
      "cell_type": "markdown",
      "metadata": {
        "id": "oNVKoD0CoZXB"
      },
      "source": [
        "* 연도별 전세계 인구를 그래프로 그리세요."
      ]
    },
    {
      "cell_type": "code",
      "metadata": {
        "colab": {
          "base_uri": "https://localhost:8080/",
          "height": 290
        },
        "id": "7cOya9XRnRFp",
        "outputId": "50f901be-ba38-4ca3-c500-c09abdf06f57"
      },
      "source": [
        "sns.lineplot(data=pop_by_year, marker='o')  # groupby 결과를 사용한 시각화\n",
        "plt.grid()\n",
        "plt.show()"
      ],
      "execution_count": 82,
      "outputs": [
        {
          "output_type": "display_data",
          "data": {
            "image/png": "[encoded data removed]",
            "text/plain": [
              "<Figure size 432x288 with 1 Axes>"
            ]
          },
          "metadata": {
            "tags": [],
            "needs_background": "light"
          }
        }
      ]
    },
    {
      "cell_type": "code",
      "metadata": {
        "colab": {
          "base_uri": "https://localhost:8080/",
          "height": 290
        },
        "id": "L5t3RhTIn8BQ",
        "outputId": "58e23f5d-4f71-4f77-bc16-c682ecd2b4ff"
      },
      "source": [
        "# seaborn 모듈의 시각화 함수에서 직접 groupby 연산을 수행\n",
        "# groupby 연산이 평균인 경우에는 생략가능. 평균이 아닌 경우에는 명시.\n",
        "# estimator의 기본값(default argument)은 'mean'\n",
        "sns.lineplot(data=gapminder, x='year', y='pop', estimator='sum', \n",
        "             marker='o', err_style=None)\n",
        "plt.grid()\n",
        "plt.show()"
      ],
      "execution_count": 86,
      "outputs": [
        {
          "output_type": "display_data",
          "data": {
            "image/png": "[encoded data removed]",
            "text/plain": [
              "<Figure size 432x288 with 1 Axes>"
            ]
          },
          "metadata": {
            "tags": [],
            "needs_background": "light"
          }
        }
      ]
    },
    {
      "cell_type": "markdown",
      "metadata": {
        "id": "iOSoOLBfocbJ"
      },
      "source": [
        "* 연도별 대륙별 전세계 인구를 출력하세요"
      ]
    },
    {
      "cell_type": "code",
      "metadata": {
        "colab": {
          "base_uri": "https://localhost:8080/"
        },
        "id": "fimHNsUopVMN",
        "outputId": "bf5df36a-6e3d-4e11-9366-00393934e786"
      },
      "source": [
        "pop_by_year_cont = gapminder.groupby(['year', 'continent'])['pop'].sum()\n",
        "pop_by_year_cont  #> 2중 인덱스를 갖는 pd.Series 객체"
      ],
      "execution_count": 88,
      "outputs": [
        {
          "output_type": "execute_result",
          "data": {
            "text/plain": [
              "year  continent\n",
              "1952  Africa        237640501\n",
              "      Americas      345152446\n",
              "      Asia         1395357351\n",
              "      Europe        418120846\n",
              "      Oceania        10686006\n",
              "1957  Africa        264837738\n",
              "      Americas      386953916\n",
              "      Asia         1562780599\n",
              "      Europe        437890351\n",
              "      Oceania        11941976\n",
              "1962  Africa        296516865\n",
              "      Americas      433270254\n",
              "      Asia         1696357182\n",
              "      Europe        460355155\n",
              "      Oceania        13283518\n",
              "1967  Africa        335289489\n",
              "      Americas      480746623\n",
              "      Asia         1905662900\n",
              "      Europe        481178958\n",
              "      Oceania        14600414\n",
              "1972  Africa        379879541\n",
              "      Americas      529384210\n",
              "      Asia         2150972248\n",
              "      Europe        500635059\n",
              "      Oceania        16106100\n",
              "1977  Africa        433061021\n",
              "      Americas      578067699\n",
              "      Asia         2384513556\n",
              "      Europe        517164531\n",
              "      Oceania        17239000\n",
              "1982  Africa        499348587\n",
              "      Americas      630290920\n",
              "      Asia         2610135582\n",
              "      Europe        531266901\n",
              "      Oceania        18394850\n",
              "1987  Africa        574834110\n",
              "      Americas      682753971\n",
              "      Asia         2871220762\n",
              "      Europe        543094160\n",
              "      Oceania        19574415\n",
              "1992  Africa        659081517\n",
              "      Americas      739274104\n",
              "      Asia         3133292191\n",
              "      Europe        558142797\n",
              "      Oceania        20919651\n",
              "1997  Africa        743832984\n",
              "      Americas      796900410\n",
              "      Asia         3383285500\n",
              "      Europe        568944148\n",
              "      Oceania        22241430\n",
              "2002  Africa        833723916\n",
              "      Americas      849772762\n",
              "      Asia         3601802203\n",
              "      Europe        578223869\n",
              "      Oceania        23454829\n",
              "2007  Africa        929539692\n",
              "      Americas      898871184\n",
              "      Asia         3811953827\n",
              "      Europe        586098529\n",
              "      Oceania        24549947\n",
              "Name: pop, dtype: int64"
            ]
          },
          "metadata": {
            "tags": []
          },
          "execution_count": 88
        }
      ]
    },
    {
      "cell_type": "code",
      "metadata": {
        "colab": {
          "base_uri": "https://localhost:8080/"
        },
        "id": "YDCHsIt7qxLq",
        "outputId": "6bc391b3-8432-4a9c-f116-a02beb1bf820"
      },
      "source": [
        "type(pop_by_year_cont)"
      ],
      "execution_count": 90,
      "outputs": [
        {
          "output_type": "execute_result",
          "data": {
            "text/plain": [
              "pandas.core.series.Series"
            ]
          },
          "metadata": {
            "tags": []
          },
          "execution_count": 90
        }
      ]
    },
    {
      "cell_type": "code",
      "metadata": {
        "colab": {
          "base_uri": "https://localhost:8080/"
        },
        "id": "R4XCMF2Bq0bB",
        "outputId": "41acfe66-a801-489c-87b6-4119255aec9e"
      },
      "source": [
        "pop_by_year_cont.index"
      ],
      "execution_count": 91,
      "outputs": [
        {
          "output_type": "execute_result",
          "data": {
            "text/plain": [
              "MultiIndex([(1952,   'Africa'),\n",
              "            (1952, 'Americas'),\n",
              "            (1952,     'Asia'),\n",
              "            (1952,   'Europe'),\n",
              "            (1952,  'Oceania'),\n",
              "            (1957,   'Africa'),\n",
              "            (1957, 'Americas'),\n",
              "            (1957,     'Asia'),\n",
              "            (1957,   'Europe'),\n",
              "            (1957,  'Oceania'),\n",
              "            (1962,   'Africa'),\n",
              "            (1962, 'Americas'),\n",
              "            (1962,     'Asia'),\n",
              "            (1962,   'Europe'),\n",
              "            (1962,  'Oceania'),\n",
              "            (1967,   'Africa'),\n",
              "            (1967, 'Americas'),\n",
              "            (1967,     'Asia'),\n",
              "            (1967,   'Europe'),\n",
              "            (1967,  'Oceania'),\n",
              "            (1972,   'Africa'),\n",
              "            (1972, 'Americas'),\n",
              "            (1972,     'Asia'),\n",
              "            (1972,   'Europe'),\n",
              "            (1972,  'Oceania'),\n",
              "            (1977,   'Africa'),\n",
              "            (1977, 'Americas'),\n",
              "            (1977,     'Asia'),\n",
              "            (1977,   'Europe'),\n",
              "            (1977,  'Oceania'),\n",
              "            (1982,   'Africa'),\n",
              "            (1982, 'Americas'),\n",
              "            (1982,     'Asia'),\n",
              "            (1982,   'Europe'),\n",
              "            (1982,  'Oceania'),\n",
              "            (1987,   'Africa'),\n",
              "            (1987, 'Americas'),\n",
              "            (1987,     'Asia'),\n",
              "            (1987,   'Europe'),\n",
              "            (1987,  'Oceania'),\n",
              "            (1992,   'Africa'),\n",
              "            (1992, 'Americas'),\n",
              "            (1992,     'Asia'),\n",
              "            (1992,   'Europe'),\n",
              "            (1992,  'Oceania'),\n",
              "            (1997,   'Africa'),\n",
              "            (1997, 'Americas'),\n",
              "            (1997,     'Asia'),\n",
              "            (1997,   'Europe'),\n",
              "            (1997,  'Oceania'),\n",
              "            (2002,   'Africa'),\n",
              "            (2002, 'Americas'),\n",
              "            (2002,     'Asia'),\n",
              "            (2002,   'Europe'),\n",
              "            (2002,  'Oceania'),\n",
              "            (2007,   'Africa'),\n",
              "            (2007, 'Americas'),\n",
              "            (2007,     'Asia'),\n",
              "            (2007,   'Europe'),\n",
              "            (2007,  'Oceania')],\n",
              "           names=['year', 'continent'])"
            ]
          },
          "metadata": {
            "tags": []
          },
          "execution_count": 91
        }
      ]
    },
    {
      "cell_type": "code",
      "metadata": {
        "colab": {
          "base_uri": "https://localhost:8080/"
        },
        "id": "PxsmQzMerIgz",
        "outputId": "29463e8b-6d62-41ba-cfe8-3cd159a516e4"
      },
      "source": [
        "pop_by_year_cont.values"
      ],
      "execution_count": 92,
      "outputs": [
        {
          "output_type": "execute_result",
          "data": {
            "text/plain": [
              "array([ 237640501,  345152446, 1395357351,  418120846,   10686006,\n",
              "        264837738,  386953916, 1562780599,  437890351,   11941976,\n",
              "        296516865,  433270254, 1696357182,  460355155,   13283518,\n",
              "        335289489,  480746623, 1905662900,  481178958,   14600414,\n",
              "        379879541,  529384210, 2150972248,  500635059,   16106100,\n",
              "        433061021,  578067699, 2384513556,  517164531,   17239000,\n",
              "        499348587,  630290920, 2610135582,  531266901,   18394850,\n",
              "        574834110,  682753971, 2871220762,  543094160,   19574415,\n",
              "        659081517,  739274104, 3133292191,  558142797,   20919651,\n",
              "        743832984,  796900410, 3383285500,  568944148,   22241430,\n",
              "        833723916,  849772762, 3601802203,  578223869,   23454829,\n",
              "        929539692,  898871184, 3811953827,  586098529,   24549947])"
            ]
          },
          "metadata": {
            "tags": []
          },
          "execution_count": 92
        }
      ]
    },
    {
      "cell_type": "code",
      "metadata": {
        "colab": {
          "base_uri": "https://localhost:8080/"
        },
        "id": "t0EQ6rWMrWOq",
        "outputId": "2e33fd54-28b6-4823-f957-d6053e566fd5"
      },
      "source": [
        "pop_by_year_cont.loc[(1952, 'Africa')]"
      ],
      "execution_count": 93,
      "outputs": [
        {
          "output_type": "execute_result",
          "data": {
            "text/plain": [
              "237640501"
            ]
          },
          "metadata": {
            "tags": []
          },
          "execution_count": 93
        }
      ]
    },
    {
      "cell_type": "markdown",
      "metadata": {
        "id": "JRiW4h2poh9i"
      },
      "source": [
        "* 연도별 대륙별 전세계 인구를 그래프로 그리세요."
      ]
    },
    {
      "cell_type": "code",
      "metadata": {
        "colab": {
          "base_uri": "https://localhost:8080/",
          "height": 290
        },
        "id": "kAF1OYYrrmSV",
        "outputId": "2575f741-a83d-49bc-b03d-6f85a0125dc9"
      },
      "source": [
        "sns.lineplot(data=gapminder, x='year', y='pop', hue='continent', estimator='sum',\n",
        "             marker='o', err_style=None)\n",
        "plt.show()"
      ],
      "execution_count": 95,
      "outputs": [
        {
          "output_type": "display_data",
          "data": {
            "image/png": "[encoded data removed]",
            "text/plain": [
              "<Figure size 432x288 with 1 Axes>"
            ]
          },
          "metadata": {
            "tags": [],
            "needs_background": "light"
          }
        }
      ]
    },
    {
      "cell_type": "markdown",
      "metadata": {
        "id": "NMO6pShUov9y"
      },
      "source": [
        "* 대한민국의 레코드만 출력하세요."
      ]
    },
    {
      "cell_type": "code",
      "metadata": {
        "colab": {
          "base_uri": "https://localhost:8080/",
          "height": 425
        },
        "id": "eIss-6Qy9fH7",
        "outputId": "a184463e-fc67-404a-bc2a-c65c5905f8dd"
      },
      "source": [
        "gapminder[gapminder['country'] == 'Korea, Rep.']"
      ],
      "execution_count": 105,
      "outputs": [
        {
          "output_type": "execute_result",
          "data": {
            "text/html": [
              "<div>\n",
              "<style scoped>\n",
              "    .dataframe tbody tr th:only-of-type {\n",
              "        vertical-align: middle;\n",
              "    }\n",
              "\n",
              "    .dataframe tbody tr th {\n",
              "        vertical-align: top;\n",
              "    }\n",
              "\n",
              "    .dataframe thead th {\n",
              "        text-align: right;\n",
              "    }\n",
              "</style>\n",
              "<table border=\"1\" class=\"dataframe\">\n",
              "  <thead>\n",
              "    <tr style=\"text-align: right;\">\n",
              "      <th></th>\n",
              "      <th>country</th>\n",
              "      <th>continent</th>\n",
              "      <th>year</th>\n",
              "      <th>lifeExp</th>\n",
              "      <th>pop</th>\n",
              "      <th>gdpPercap</th>\n",
              "    </tr>\n",
              "  </thead>\n",
              "  <tbody>\n",
              "    <tr>\n",
              "      <th>840</th>\n",
              "      <td>Korea, Rep.</td>\n",
              "      <td>Asia</td>\n",
              "      <td>1952</td>\n",
              "      <td>47.453</td>\n",
              "      <td>20947571</td>\n",
              "      <td>1030.592226</td>\n",
              "    </tr>\n",
              "    <tr>\n",
              "      <th>841</th>\n",
              "      <td>Korea, Rep.</td>\n",
              "      <td>Asia</td>\n",
              "      <td>1957</td>\n",
              "      <td>52.681</td>\n",
              "      <td>22611552</td>\n",
              "      <td>1487.593537</td>\n",
              "    </tr>\n",
              "    <tr>\n",
              "      <th>842</th>\n",
              "      <td>Korea, Rep.</td>\n",
              "      <td>Asia</td>\n",
              "      <td>1962</td>\n",
              "      <td>55.292</td>\n",
              "      <td>26420307</td>\n",
              "      <td>1536.344387</td>\n",
              "    </tr>\n",
              "    <tr>\n",
              "      <th>843</th>\n",
              "      <td>Korea, Rep.</td>\n",
              "      <td>Asia</td>\n",
              "      <td>1967</td>\n",
              "      <td>57.716</td>\n",
              "      <td>30131000</td>\n",
              "      <td>2029.228142</td>\n",
              "    </tr>\n",
              "    <tr>\n",
              "      <th>844</th>\n",
              "      <td>Korea, Rep.</td>\n",
              "      <td>Asia</td>\n",
              "      <td>1972</td>\n",
              "      <td>62.612</td>\n",
              "      <td>33505000</td>\n",
              "      <td>3030.876650</td>\n",
              "    </tr>\n",
              "    <tr>\n",
              "      <th>845</th>\n",
              "      <td>Korea, Rep.</td>\n",
              "      <td>Asia</td>\n",
              "      <td>1977</td>\n",
              "      <td>64.766</td>\n",
              "      <td>36436000</td>\n",
              "      <td>4657.221020</td>\n",
              "    </tr>\n",
              "    <tr>\n",
              "      <th>846</th>\n",
              "      <td>Korea, Rep.</td>\n",
              "      <td>Asia</td>\n",
              "      <td>1982</td>\n",
              "      <td>67.123</td>\n",
              "      <td>39326000</td>\n",
              "      <td>5622.942464</td>\n",
              "    </tr>\n",
              "    <tr>\n",
              "      <th>847</th>\n",
              "      <td>Korea, Rep.</td>\n",
              "      <td>Asia</td>\n",
              "      <td>1987</td>\n",
              "      <td>69.810</td>\n",
              "      <td>41622000</td>\n",
              "      <td>8533.088805</td>\n",
              "    </tr>\n",
              "    <tr>\n",
              "      <th>848</th>\n",
              "      <td>Korea, Rep.</td>\n",
              "      <td>Asia</td>\n",
              "      <td>1992</td>\n",
              "      <td>72.244</td>\n",
              "      <td>43805450</td>\n",
              "      <td>12104.278720</td>\n",
              "    </tr>\n",
              "    <tr>\n",
              "      <th>849</th>\n",
              "      <td>Korea, Rep.</td>\n",
              "      <td>Asia</td>\n",
              "      <td>1997</td>\n",
              "      <td>74.647</td>\n",
              "      <td>46173816</td>\n",
              "      <td>15993.527960</td>\n",
              "    </tr>\n",
              "    <tr>\n",
              "      <th>850</th>\n",
              "      <td>Korea, Rep.</td>\n",
              "      <td>Asia</td>\n",
              "      <td>2002</td>\n",
              "      <td>77.045</td>\n",
              "      <td>47969150</td>\n",
              "      <td>19233.988180</td>\n",
              "    </tr>\n",
              "    <tr>\n",
              "      <th>851</th>\n",
              "      <td>Korea, Rep.</td>\n",
              "      <td>Asia</td>\n",
              "      <td>2007</td>\n",
              "      <td>78.623</td>\n",
              "      <td>49044790</td>\n",
              "      <td>23348.139730</td>\n",
              "    </tr>\n",
              "  </tbody>\n",
              "</table>\n",
              "</div>"
            ],
            "text/plain": [
              "         country continent  year  lifeExp       pop     gdpPercap\n",
              "840  Korea, Rep.      Asia  1952   47.453  20947571   1030.592226\n",
              "841  Korea, Rep.      Asia  1957   52.681  22611552   1487.593537\n",
              "842  Korea, Rep.      Asia  1962   55.292  26420307   1536.344387\n",
              "843  Korea, Rep.      Asia  1967   57.716  30131000   2029.228142\n",
              "844  Korea, Rep.      Asia  1972   62.612  33505000   3030.876650\n",
              "845  Korea, Rep.      Asia  1977   64.766  36436000   4657.221020\n",
              "846  Korea, Rep.      Asia  1982   67.123  39326000   5622.942464\n",
              "847  Korea, Rep.      Asia  1987   69.810  41622000   8533.088805\n",
              "848  Korea, Rep.      Asia  1992   72.244  43805450  12104.278720\n",
              "849  Korea, Rep.      Asia  1997   74.647  46173816  15993.527960\n",
              "850  Korea, Rep.      Asia  2002   77.045  47969150  19233.988180\n",
              "851  Korea, Rep.      Asia  2007   78.623  49044790  23348.139730"
            ]
          },
          "metadata": {
            "tags": []
          },
          "execution_count": 105
        }
      ]
    },
    {
      "cell_type": "code",
      "metadata": {
        "colab": {
          "base_uri": "https://localhost:8080/",
          "height": 36
        },
        "id": "ZEZ7Fdjc-WQL",
        "outputId": "8abb4662-de63-4a0f-cb0a-428d1ce021e8"
      },
      "source": [
        "# str.lower(): 모든 문자들을 소문자로 변환\n",
        "'Korea, Rep.'.lower()"
      ],
      "execution_count": 106,
      "outputs": [
        {
          "output_type": "execute_result",
          "data": {
            "application/vnd.google.colaboratory.intrinsic+json": {
              "type": "string"
            },
            "text/plain": [
              "'korea, rep.'"
            ]
          },
          "metadata": {
            "tags": []
          },
          "execution_count": 106
        }
      ]
    },
    {
      "cell_type": "code",
      "metadata": {
        "colab": {
          "base_uri": "https://localhost:8080/"
        },
        "id": "XtJDrv3O-pOa",
        "outputId": "2fccb28f-4949-4dbd-8d90-79375adbec1a"
      },
      "source": [
        "# str.startswith(패턴): str이 '패턴'으로 시작하는 지\n",
        "'Korea, Rep.'.startswith('Korea')"
      ],
      "execution_count": 109,
      "outputs": [
        {
          "output_type": "execute_result",
          "data": {
            "text/plain": [
              "True"
            ]
          },
          "metadata": {
            "tags": []
          },
          "execution_count": 109
        }
      ]
    },
    {
      "cell_type": "code",
      "metadata": {
        "colab": {
          "base_uri": "https://localhost:8080/"
        },
        "id": "W673qO3d_fOL",
        "outputId": "b26673de-676b-484e-fd64-d802d49b995e"
      },
      "source": [
        "# pd.Series.str: StringMethods 클래스 객체. 문자열 관련된 기능(메서드)들을 가지고 있는 객체.\n",
        "gapminder['country'].str.lower()"
      ],
      "execution_count": 113,
      "outputs": [
        {
          "output_type": "execute_result",
          "data": {
            "text/plain": [
              "0       afghanistan\n",
              "1       afghanistan\n",
              "2       afghanistan\n",
              "3       afghanistan\n",
              "4       afghanistan\n",
              "           ...     \n",
              "1699       zimbabwe\n",
              "1700       zimbabwe\n",
              "1701       zimbabwe\n",
              "1702       zimbabwe\n",
              "1703       zimbabwe\n",
              "Name: country, Length: 1704, dtype: object"
            ]
          },
          "metadata": {
            "tags": []
          },
          "execution_count": 113
        }
      ]
    },
    {
      "cell_type": "code",
      "metadata": {
        "colab": {
          "base_uri": "https://localhost:8080/"
        },
        "id": "xHwEB1g_BpPO",
        "outputId": "891d753e-7f4e-4dd3-981a-39bdcff0fece"
      },
      "source": [
        "gapminder['country'].str.contains('Korea')"
      ],
      "execution_count": 114,
      "outputs": [
        {
          "output_type": "execute_result",
          "data": {
            "text/plain": [
              "0       False\n",
              "1       False\n",
              "2       False\n",
              "3       False\n",
              "4       False\n",
              "        ...  \n",
              "1699    False\n",
              "1700    False\n",
              "1701    False\n",
              "1702    False\n",
              "1703    False\n",
              "Name: country, Length: 1704, dtype: bool"
            ]
          },
          "metadata": {
            "tags": []
          },
          "execution_count": 114
        }
      ]
    },
    {
      "cell_type": "code",
      "metadata": {
        "colab": {
          "base_uri": "https://localhost:8080/",
          "height": 36
        },
        "id": "Q7WpEio_CHB1",
        "outputId": "bc3d968e-a642-4c1f-f20b-47ed694c1af5"
      },
      "source": [
        "# str 클래스가 가지고 있는 메서드들의 연쇄 호출(chain invoke)\n",
        "'Korea'.lower().upper()"
      ],
      "execution_count": 116,
      "outputs": [
        {
          "output_type": "execute_result",
          "data": {
            "application/vnd.google.colaboratory.intrinsic+json": {
              "type": "string"
            },
            "text/plain": [
              "'KOREA'"
            ]
          },
          "metadata": {
            "tags": []
          },
          "execution_count": 116
        }
      ]
    },
    {
      "cell_type": "code",
      "metadata": {
        "colab": {
          "base_uri": "https://localhost:8080/"
        },
        "id": "0dfgB1f4Cece",
        "outputId": "1a4eab41-0d06-4cda-bee4-6a5b39e5972d"
      },
      "source": [
        "# pd.Series에서 문자열 관련 함수를 연쇄 호출하기 위한 방법:\n",
        "gapminder['country'].str.lower().str.upper()"
      ],
      "execution_count": 120,
      "outputs": [
        {
          "output_type": "execute_result",
          "data": {
            "text/plain": [
              "0       AFGHANISTAN\n",
              "1       AFGHANISTAN\n",
              "2       AFGHANISTAN\n",
              "3       AFGHANISTAN\n",
              "4       AFGHANISTAN\n",
              "           ...     \n",
              "1699       ZIMBABWE\n",
              "1700       ZIMBABWE\n",
              "1701       ZIMBABWE\n",
              "1702       ZIMBABWE\n",
              "1703       ZIMBABWE\n",
              "Name: country, Length: 1704, dtype: object"
            ]
          },
          "metadata": {
            "tags": []
          },
          "execution_count": 120
        }
      ]
    },
    {
      "cell_type": "code",
      "metadata": {
        "colab": {
          "base_uri": "https://localhost:8080/",
          "height": 801
        },
        "id": "slkUv-9eDSDj",
        "outputId": "aca6e11a-7320-44f1-f86a-026e4adc865b"
      },
      "source": [
        "gapminder[gapminder.country.str.lower().str.contains('korea')]"
      ],
      "execution_count": 121,
      "outputs": [
        {
          "output_type": "execute_result",
          "data": {
            "text/html": [
              "<div>\n",
              "<style scoped>\n",
              "    .dataframe tbody tr th:only-of-type {\n",
              "        vertical-align: middle;\n",
              "    }\n",
              "\n",
              "    .dataframe tbody tr th {\n",
              "        vertical-align: top;\n",
              "    }\n",
              "\n",
              "    .dataframe thead th {\n",
              "        text-align: right;\n",
              "    }\n",
              "</style>\n",
              "<table border=\"1\" class=\"dataframe\">\n",
              "  <thead>\n",
              "    <tr style=\"text-align: right;\">\n",
              "      <th></th>\n",
              "      <th>country</th>\n",
              "      <th>continent</th>\n",
              "      <th>year</th>\n",
              "      <th>lifeExp</th>\n",
              "      <th>pop</th>\n",
              "      <th>gdpPercap</th>\n",
              "    </tr>\n",
              "  </thead>\n",
              "  <tbody>\n",
              "    <tr>\n",
              "      <th>828</th>\n",
              "      <td>Korea, Dem. Rep.</td>\n",
              "      <td>Asia</td>\n",
              "      <td>1952</td>\n",
              "      <td>50.056</td>\n",
              "      <td>8865488</td>\n",
              "      <td>1088.277758</td>\n",
              "    </tr>\n",
              "    <tr>\n",
              "      <th>829</th>\n",
              "      <td>Korea, Dem. Rep.</td>\n",
              "      <td>Asia</td>\n",
              "      <td>1957</td>\n",
              "      <td>54.081</td>\n",
              "      <td>9411381</td>\n",
              "      <td>1571.134655</td>\n",
              "    </tr>\n",
              "    <tr>\n",
              "      <th>830</th>\n",
              "      <td>Korea, Dem. Rep.</td>\n",
              "      <td>Asia</td>\n",
              "      <td>1962</td>\n",
              "      <td>56.656</td>\n",
              "      <td>10917494</td>\n",
              "      <td>1621.693598</td>\n",
              "    </tr>\n",
              "    <tr>\n",
              "      <th>831</th>\n",
              "      <td>Korea, Dem. Rep.</td>\n",
              "      <td>Asia</td>\n",
              "      <td>1967</td>\n",
              "      <td>59.942</td>\n",
              "      <td>12617009</td>\n",
              "      <td>2143.540609</td>\n",
              "    </tr>\n",
              "    <tr>\n",
              "      <th>832</th>\n",
              "      <td>Korea, Dem. Rep.</td>\n",
              "      <td>Asia</td>\n",
              "      <td>1972</td>\n",
              "      <td>63.983</td>\n",
              "      <td>14781241</td>\n",
              "      <td>3701.621503</td>\n",
              "    </tr>\n",
              "    <tr>\n",
              "      <th>833</th>\n",
              "      <td>Korea, Dem. Rep.</td>\n",
              "      <td>Asia</td>\n",
              "      <td>1977</td>\n",
              "      <td>67.159</td>\n",
              "      <td>16325320</td>\n",
              "      <td>4106.301249</td>\n",
              "    </tr>\n",
              "    <tr>\n",
              "      <th>834</th>\n",
              "      <td>Korea, Dem. Rep.</td>\n",
              "      <td>Asia</td>\n",
              "      <td>1982</td>\n",
              "      <td>69.100</td>\n",
              "      <td>17647518</td>\n",
              "      <td>4106.525293</td>\n",
              "    </tr>\n",
              "    <tr>\n",
              "      <th>835</th>\n",
              "      <td>Korea, Dem. Rep.</td>\n",
              "      <td>Asia</td>\n",
              "      <td>1987</td>\n",
              "      <td>70.647</td>\n",
              "      <td>19067554</td>\n",
              "      <td>4106.492315</td>\n",
              "    </tr>\n",
              "    <tr>\n",
              "      <th>836</th>\n",
              "      <td>Korea, Dem. Rep.</td>\n",
              "      <td>Asia</td>\n",
              "      <td>1992</td>\n",
              "      <td>69.978</td>\n",
              "      <td>20711375</td>\n",
              "      <td>3726.063507</td>\n",
              "    </tr>\n",
              "    <tr>\n",
              "      <th>837</th>\n",
              "      <td>Korea, Dem. Rep.</td>\n",
              "      <td>Asia</td>\n",
              "      <td>1997</td>\n",
              "      <td>67.727</td>\n",
              "      <td>21585105</td>\n",
              "      <td>1690.756814</td>\n",
              "    </tr>\n",
              "    <tr>\n",
              "      <th>838</th>\n",
              "      <td>Korea, Dem. Rep.</td>\n",
              "      <td>Asia</td>\n",
              "      <td>2002</td>\n",
              "      <td>66.662</td>\n",
              "      <td>22215365</td>\n",
              "      <td>1646.758151</td>\n",
              "    </tr>\n",
              "    <tr>\n",
              "      <th>839</th>\n",
              "      <td>Korea, Dem. Rep.</td>\n",
              "      <td>Asia</td>\n",
              "      <td>2007</td>\n",
              "      <td>67.297</td>\n",
              "      <td>23301725</td>\n",
              "      <td>1593.065480</td>\n",
              "    </tr>\n",
              "    <tr>\n",
              "      <th>840</th>\n",
              "      <td>Korea, Rep.</td>\n",
              "      <td>Asia</td>\n",
              "      <td>1952</td>\n",
              "      <td>47.453</td>\n",
              "      <td>20947571</td>\n",
              "      <td>1030.592226</td>\n",
              "    </tr>\n",
              "    <tr>\n",
              "      <th>841</th>\n",
              "      <td>Korea, Rep.</td>\n",
              "      <td>Asia</td>\n",
              "      <td>1957</td>\n",
              "      <td>52.681</td>\n",
              "      <td>22611552</td>\n",
              "      <td>1487.593537</td>\n",
              "    </tr>\n",
              "    <tr>\n",
              "      <th>842</th>\n",
              "      <td>Korea, Rep.</td>\n",
              "      <td>Asia</td>\n",
              "      <td>1962</td>\n",
              "      <td>55.292</td>\n",
              "      <td>26420307</td>\n",
              "      <td>1536.344387</td>\n",
              "    </tr>\n",
              "    <tr>\n",
              "      <th>843</th>\n",
              "      <td>Korea, Rep.</td>\n",
              "      <td>Asia</td>\n",
              "      <td>1967</td>\n",
              "      <td>57.716</td>\n",
              "      <td>30131000</td>\n",
              "      <td>2029.228142</td>\n",
              "    </tr>\n",
              "    <tr>\n",
              "      <th>844</th>\n",
              "      <td>Korea, Rep.</td>\n",
              "      <td>Asia</td>\n",
              "      <td>1972</td>\n",
              "      <td>62.612</td>\n",
              "      <td>33505000</td>\n",
              "      <td>3030.876650</td>\n",
              "    </tr>\n",
              "    <tr>\n",
              "      <th>845</th>\n",
              "      <td>Korea, Rep.</td>\n",
              "      <td>Asia</td>\n",
              "      <td>1977</td>\n",
              "      <td>64.766</td>\n",
              "      <td>36436000</td>\n",
              "      <td>4657.221020</td>\n",
              "    </tr>\n",
              "    <tr>\n",
              "      <th>846</th>\n",
              "      <td>Korea, Rep.</td>\n",
              "      <td>Asia</td>\n",
              "      <td>1982</td>\n",
              "      <td>67.123</td>\n",
              "      <td>39326000</td>\n",
              "      <td>5622.942464</td>\n",
              "    </tr>\n",
              "    <tr>\n",
              "      <th>847</th>\n",
              "      <td>Korea, Rep.</td>\n",
              "      <td>Asia</td>\n",
              "      <td>1987</td>\n",
              "      <td>69.810</td>\n",
              "      <td>41622000</td>\n",
              "      <td>8533.088805</td>\n",
              "    </tr>\n",
              "    <tr>\n",
              "      <th>848</th>\n",
              "      <td>Korea, Rep.</td>\n",
              "      <td>Asia</td>\n",
              "      <td>1992</td>\n",
              "      <td>72.244</td>\n",
              "      <td>43805450</td>\n",
              "      <td>12104.278720</td>\n",
              "    </tr>\n",
              "    <tr>\n",
              "      <th>849</th>\n",
              "      <td>Korea, Rep.</td>\n",
              "      <td>Asia</td>\n",
              "      <td>1997</td>\n",
              "      <td>74.647</td>\n",
              "      <td>46173816</td>\n",
              "      <td>15993.527960</td>\n",
              "    </tr>\n",
              "    <tr>\n",
              "      <th>850</th>\n",
              "      <td>Korea, Rep.</td>\n",
              "      <td>Asia</td>\n",
              "      <td>2002</td>\n",
              "      <td>77.045</td>\n",
              "      <td>47969150</td>\n",
              "      <td>19233.988180</td>\n",
              "    </tr>\n",
              "    <tr>\n",
              "      <th>851</th>\n",
              "      <td>Korea, Rep.</td>\n",
              "      <td>Asia</td>\n",
              "      <td>2007</td>\n",
              "      <td>78.623</td>\n",
              "      <td>49044790</td>\n",
              "      <td>23348.139730</td>\n",
              "    </tr>\n",
              "  </tbody>\n",
              "</table>\n",
              "</div>"
            ],
            "text/plain": [
              "              country continent  year  lifeExp       pop     gdpPercap\n",
              "828  Korea, Dem. Rep.      Asia  1952   50.056   8865488   1088.277758\n",
              "829  Korea, Dem. Rep.      Asia  1957   54.081   9411381   1571.134655\n",
              "830  Korea, Dem. Rep.      Asia  1962   56.656  10917494   1621.693598\n",
              "831  Korea, Dem. Rep.      Asia  1967   59.942  12617009   2143.540609\n",
              "832  Korea, Dem. Rep.      Asia  1972   63.983  14781241   3701.621503\n",
              "833  Korea, Dem. Rep.      Asia  1977   67.159  16325320   4106.301249\n",
              "834  Korea, Dem. Rep.      Asia  1982   69.100  17647518   4106.525293\n",
              "835  Korea, Dem. Rep.      Asia  1987   70.647  19067554   4106.492315\n",
              "836  Korea, Dem. Rep.      Asia  1992   69.978  20711375   3726.063507\n",
              "837  Korea, Dem. Rep.      Asia  1997   67.727  21585105   1690.756814\n",
              "838  Korea, Dem. Rep.      Asia  2002   66.662  22215365   1646.758151\n",
              "839  Korea, Dem. Rep.      Asia  2007   67.297  23301725   1593.065480\n",
              "840       Korea, Rep.      Asia  1952   47.453  20947571   1030.592226\n",
              "841       Korea, Rep.      Asia  1957   52.681  22611552   1487.593537\n",
              "842       Korea, Rep.      Asia  1962   55.292  26420307   1536.344387\n",
              "843       Korea, Rep.      Asia  1967   57.716  30131000   2029.228142\n",
              "844       Korea, Rep.      Asia  1972   62.612  33505000   3030.876650\n",
              "845       Korea, Rep.      Asia  1977   64.766  36436000   4657.221020\n",
              "846       Korea, Rep.      Asia  1982   67.123  39326000   5622.942464\n",
              "847       Korea, Rep.      Asia  1987   69.810  41622000   8533.088805\n",
              "848       Korea, Rep.      Asia  1992   72.244  43805450  12104.278720\n",
              "849       Korea, Rep.      Asia  1997   74.647  46173816  15993.527960\n",
              "850       Korea, Rep.      Asia  2002   77.045  47969150  19233.988180\n",
              "851       Korea, Rep.      Asia  2007   78.623  49044790  23348.139730"
            ]
          },
          "metadata": {
            "tags": []
          },
          "execution_count": 121
        }
      ]
    },
    {
      "cell_type": "code",
      "metadata": {
        "colab": {
          "base_uri": "https://localhost:8080/"
        },
        "id": "lXo-Lmo2ETqA",
        "outputId": "3fee053b-269d-4cd4-eb15-5a971eaeec9d"
      },
      "source": [
        "type(gapminder.country.str)"
      ],
      "execution_count": 125,
      "outputs": [
        {
          "output_type": "execute_result",
          "data": {
            "text/plain": [
              "pandas.core.strings.StringMethods"
            ]
          },
          "metadata": {
            "tags": []
          },
          "execution_count": 125
        }
      ]
    }
  ]
}
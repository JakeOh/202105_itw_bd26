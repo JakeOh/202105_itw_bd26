{
  "nbformat": 4,
  "nbformat_minor": 0,
  "metadata": {
    "colab": {
      "name": "da01_intro.ipynb",
      "provenance": [],
      "collapsed_sections": [],
      "authorship_tag": "ABX9TyN/jbvElkuuFtLkHj6q5mow",
      "include_colab_link": true
    },
    "kernelspec": {
      "name": "python3",
      "display_name": "Python 3"
    },
    "language_info": {
      "name": "python"
    }
  },
  "cells": [
    {
      "cell_type": "markdown",
      "metadata": {
        "id": "view-in-github",
        "colab_type": "text"
      },
      "source": [
        "<a href=\"https://colab.research.google.com/github/JakeOh/202105_itw_bd26/blob/main/lab_da/da01_intro.ipynb\" target=\"_parent\"><img src=\"https://colab.research.google.com/assets/colab-badge.svg\" alt=\"Open In Colab\"/></a>"
      ]
    },
    {
      "cell_type": "markdown",
      "metadata": {
        "id": "rjgu29FVNGVo"
      },
      "source": [
        "\n",
        "* NumPy: 다차원 배열을 다루는 패키지. 머신러닝 패키지(scikit-learn)에서 중요하게 사용됨.\n",
        "* pandas: 데이터프레임(DataFrame)과 시리즈(Series)를 다루는 패키지. 데이터 분석에서 기본으로 사용됨.\n",
        "* matplotlib: 데이터 시각화.\n",
        "* Google Colab에는 필요한 패키지들이 이미 설치되어 있음.\n",
        "    * import 문을 사용해서 모듈과 모듈의 함수, 클래스들을 사용할 수 있음.\n"
      ]
    },
    {
      "cell_type": "code",
      "metadata": {
        "id": "6AIlLK18NA4q"
      },
      "source": [
        "import numpy as np\n",
        "import pandas as pd\n",
        "import matplotlib.pyplot as plt\n",
        "import matplotlib"
      ],
      "execution_count": 1,
      "outputs": []
    },
    {
      "cell_type": "code",
      "metadata": {
        "colab": {
          "base_uri": "https://localhost:8080/"
        },
        "id": "Wo3NaMwaPDBf",
        "outputId": "b1ff8514-2c40-4b94-be4c-aff1b0e3a841"
      },
      "source": [
        "# Google Colab에 설치된 패키지 버전 확인 - 가장 최신 버전은 아님!\n",
        "print('NumPy version:', np.__version__)\n",
        "print('pandas version:', pd.__version__)\n",
        "print('matplotlib version:', matplotlib.__version__)"
      ],
      "execution_count": 2,
      "outputs": [
        {
          "output_type": "stream",
          "text": [
            "NumPy version: 1.19.5\n",
            "pandas version: 1.1.5\n",
            "matplotlib version: 3.2.2\n"
          ],
          "name": "stdout"
        }
      ]
    },
    {
      "cell_type": "markdown",
      "metadata": {
        "id": "bB9ABkJVBn7v"
      },
      "source": [
        "# Python list\n",
        "\n",
        "* 여러개의 값들을 저장할 수 있는 데이터 타입\n",
        "* 인덱스를 기반으로 값들을 저장하는 데이터 타입\n",
        "    * indexing: 인덱스로 원하는 위치의 값을 참조\n",
        "    * slicing: start <= index < end 범위의 값들의 부분집합(list)을 만듦\n",
        "* `list + list`: extend 메서드와 비슷. 두 리스트를 이어붙여서 하나의 리스트로 만듦.\n",
        "* `list * int`, `int * list`: list의 원소들을 정수 개수만큼 반복해서 추가.\n"
      ]
    },
    {
      "cell_type": "code",
      "metadata": {
        "id": "L4nvkQGoBpR-"
      },
      "source": [
        "num_list1 = [1, 2, 3]\n",
        "num_list2 = [10, 20, 30]"
      ],
      "execution_count": 10,
      "outputs": []
    },
    {
      "cell_type": "code",
      "metadata": {
        "colab": {
          "base_uri": "https://localhost:8080/"
        },
        "id": "0rb0DPasDIBg",
        "outputId": "b510d4de-73b7-434b-d088-49dfe9719f41"
      },
      "source": [
        "num_list1"
      ],
      "execution_count": 11,
      "outputs": [
        {
          "output_type": "execute_result",
          "data": {
            "text/plain": [
              "[1, 2, 3]"
            ]
          },
          "metadata": {
            "tags": []
          },
          "execution_count": 11
        }
      ]
    },
    {
      "cell_type": "code",
      "metadata": {
        "colab": {
          "base_uri": "https://localhost:8080/"
        },
        "id": "12-QKhc5DSn3",
        "outputId": "8c5454ba-ac94-4636-a22a-f11100fc5ba1"
      },
      "source": [
        "print(num_list1[0])  # indexing\n",
        "print(num_list1[:1])  # slicing"
      ],
      "execution_count": 12,
      "outputs": [
        {
          "output_type": "stream",
          "text": [
            "1\n",
            "[1]\n"
          ],
          "name": "stdout"
        }
      ]
    },
    {
      "cell_type": "code",
      "metadata": {
        "colab": {
          "base_uri": "https://localhost:8080/"
        },
        "id": "TEeNI7NGDwRo",
        "outputId": "582c920b-9b41-417e-f487-65f30a041357"
      },
      "source": [
        "num_list1 + num_list2"
      ],
      "execution_count": 13,
      "outputs": [
        {
          "output_type": "execute_result",
          "data": {
            "text/plain": [
              "[1, 2, 3, 10, 20, 30]"
            ]
          },
          "metadata": {
            "tags": []
          },
          "execution_count": 13
        }
      ]
    },
    {
      "cell_type": "code",
      "metadata": {
        "colab": {
          "base_uri": "https://localhost:8080/"
        },
        "id": "Sgn9BNm0D2nR",
        "outputId": "41f01a2b-161e-4d14-a43d-43b43d1eac17"
      },
      "source": [
        "num_list1.extend(num_list2)\n",
        "num_list1"
      ],
      "execution_count": 14,
      "outputs": [
        {
          "output_type": "execute_result",
          "data": {
            "text/plain": [
              "[1, 2, 3, 10, 20, 30]"
            ]
          },
          "metadata": {
            "tags": []
          },
          "execution_count": 14
        }
      ]
    },
    {
      "cell_type": "code",
      "metadata": {
        "colab": {
          "base_uri": "https://localhost:8080/"
        },
        "id": "3D_J6tnEEE2Q",
        "outputId": "466152c3-2bf5-405d-83e8-a8a75f714e74"
      },
      "source": [
        "num_list2 * 3"
      ],
      "execution_count": 15,
      "outputs": [
        {
          "output_type": "execute_result",
          "data": {
            "text/plain": [
              "[10, 20, 30, 10, 20, 30, 10, 20, 30]"
            ]
          },
          "metadata": {
            "tags": []
          },
          "execution_count": 15
        }
      ]
    },
    {
      "cell_type": "markdown",
      "metadata": {
        "id": "S04-gamyEXeh"
      },
      "source": [
        "# NumPy(Numerical Python)\n",
        "\n",
        "* 배열(array)을 쉽고 빠르게 연산(+, -, *, /, ...)하기 위한 라이브러리\n",
        "* NumPy 패키지의 대부분의 기능(함수, 메서드)들은 반복문의 기능을 가지고 있음.\n",
        "    * 같은 인덱스의 원소들끼리(element-wise) 연산을 수행.\n",
        "* np.ndarray 클래스: NumPy 패키지의 기본 데이터 타입. n-dimensional array(n차원 배열).\n"
      ]
    },
    {
      "cell_type": "code",
      "metadata": {
        "colab": {
          "base_uri": "https://localhost:8080/"
        },
        "id": "oS5gOjFqFwpu",
        "outputId": "fd1bc9ff-bf08-4b3f-9e41-39f3e1ae90d7"
      },
      "source": [
        "num_list1 = [1, 2, 3]\n",
        "num_list2 = [10, 20, 30]\n",
        "# 같은 인덱스의 원소들끼리 더하기한 결과\n",
        "add = [x + y for x, y in zip(num_list1, num_list2)]\n",
        "add"
      ],
      "execution_count": 17,
      "outputs": [
        {
          "output_type": "execute_result",
          "data": {
            "text/plain": [
              "[11, 22, 33]"
            ]
          },
          "metadata": {
            "tags": []
          },
          "execution_count": 17
        }
      ]
    },
    {
      "cell_type": "code",
      "metadata": {
        "colab": {
          "base_uri": "https://localhost:8080/"
        },
        "id": "5T__KVbpGtNz",
        "outputId": "142127d9-621b-4a7c-e1a2-a38aa5eef5f9"
      },
      "source": [
        "num_arr1 = np.array([1, 2, 3])\n",
        "print(type(num_arr1))\n",
        "print(num_arr1)"
      ],
      "execution_count": 19,
      "outputs": [
        {
          "output_type": "stream",
          "text": [
            "<class 'numpy.ndarray'>\n",
            "[1 2 3]\n"
          ],
          "name": "stdout"
        }
      ]
    },
    {
      "cell_type": "code",
      "metadata": {
        "colab": {
          "base_uri": "https://localhost:8080/"
        },
        "id": "cN3N9Sn_HMWf",
        "outputId": "5913cb9e-f99f-4ff5-afa7-07efbb21d2ab"
      },
      "source": [
        "num_arr2 = np.array([10, 20, 30])\n",
        "print(num_arr2)"
      ],
      "execution_count": 20,
      "outputs": [
        {
          "output_type": "stream",
          "text": [
            "[10 20 30]\n"
          ],
          "name": "stdout"
        }
      ]
    },
    {
      "cell_type": "markdown",
      "metadata": {
        "id": "5YMNNEYrMLQu"
      },
      "source": [
        "np.ndarray에서 사칙연산은 같은 인덱스의 원소들끼리 수행됨."
      ]
    },
    {
      "cell_type": "code",
      "metadata": {
        "colab": {
          "base_uri": "https://localhost:8080/"
        },
        "id": "0bHN2davHRSX",
        "outputId": "0eeaf0e7-4686-433a-baf3-f95006a6523d"
      },
      "source": [
        "num_arr1 + num_arr2"
      ],
      "execution_count": 21,
      "outputs": [
        {
          "output_type": "execute_result",
          "data": {
            "text/plain": [
              "array([11, 22, 33])"
            ]
          },
          "metadata": {
            "tags": []
          },
          "execution_count": 21
        }
      ]
    },
    {
      "cell_type": "code",
      "metadata": {
        "colab": {
          "base_uri": "https://localhost:8080/"
        },
        "id": "vIRWb7-YHT0W",
        "outputId": "88cd2c6e-ad53-454c-8629-2e8f171bfb7d"
      },
      "source": [
        "num_arr1 * num_arr2"
      ],
      "execution_count": 22,
      "outputs": [
        {
          "output_type": "execute_result",
          "data": {
            "text/plain": [
              "array([10, 40, 90])"
            ]
          },
          "metadata": {
            "tags": []
          },
          "execution_count": 22
        }
      ]
    },
    {
      "cell_type": "code",
      "metadata": {
        "colab": {
          "base_uri": "https://localhost:8080/"
        },
        "id": "TBrQBAWgIbWo",
        "outputId": "1797c925-60f0-46e2-8980-c105b7fea439"
      },
      "source": [
        "num_list1 + num_arr1  # np.array(num_list1) + num_arr1"
      ],
      "execution_count": 26,
      "outputs": [
        {
          "output_type": "execute_result",
          "data": {
            "text/plain": [
              "array([2, 4, 6])"
            ]
          },
          "metadata": {
            "tags": []
          },
          "execution_count": 26
        }
      ]
    },
    {
      "cell_type": "markdown",
      "metadata": {
        "id": "6mSez4CHMdOX"
      },
      "source": [
        "scalar multiplication: `np.ndarray * number`, `number * np.ndarray`"
      ]
    },
    {
      "cell_type": "code",
      "metadata": {
        "colab": {
          "base_uri": "https://localhost:8080/"
        },
        "id": "CfbkK4MUMqpH",
        "outputId": "b15fd1f3-a0b8-4953-f7d9-bec78d56bdf1"
      },
      "source": [
        "num_arr1 * 3  # element-wise 연산 수행"
      ],
      "execution_count": 28,
      "outputs": [
        {
          "output_type": "execute_result",
          "data": {
            "text/plain": [
              "array([3, 6, 9])"
            ]
          },
          "metadata": {
            "tags": []
          },
          "execution_count": 28
        }
      ]
    },
    {
      "cell_type": "code",
      "metadata": {
        "colab": {
          "base_uri": "https://localhost:8080/"
        },
        "id": "HmexI94MNYSv",
        "outputId": "3ac1ef2c-f43d-412d-9742-113d643d8f33"
      },
      "source": [
        "print(num_arr1, num_arr2)\n",
        "# np.dot(a, b) 함수\n",
        "np.dot(num_arr1, num_arr2)  # dot product = 1 * 10 + 2 * 20 + 3 * 30"
      ],
      "execution_count": 30,
      "outputs": [
        {
          "output_type": "stream",
          "text": [
            "[1 2 3] [10 20 30]\n"
          ],
          "name": "stdout"
        },
        {
          "output_type": "execute_result",
          "data": {
            "text/plain": [
              "140"
            ]
          },
          "metadata": {
            "tags": []
          },
          "execution_count": 30
        }
      ]
    },
    {
      "cell_type": "code",
      "metadata": {
        "colab": {
          "base_uri": "https://localhost:8080/"
        },
        "id": "U_661qi3OPK-",
        "outputId": "ea88eb2d-dd17-4fad-8b57-c7f50b17e263"
      },
      "source": [
        "# np.ndarray.dot() 메서드\n",
        "num_arr1.dot(num_arr2)"
      ],
      "execution_count": 31,
      "outputs": [
        {
          "output_type": "execute_result",
          "data": {
            "text/plain": [
              "140"
            ]
          },
          "metadata": {
            "tags": []
          },
          "execution_count": 31
        }
      ]
    },
    {
      "cell_type": "markdown",
      "metadata": {
        "id": "WH74i46uPoiD"
      },
      "source": [
        "np.ndarray 클래스의 속성들(attributes)"
      ]
    },
    {
      "cell_type": "code",
      "metadata": {
        "colab": {
          "base_uri": "https://localhost:8080/"
        },
        "id": "Y6UnbspHPtQ-",
        "outputId": "f7350242-ff40-4d18-aa89-17b141d77fef"
      },
      "source": [
        "print(num_arr1)\n",
        "print('ndim =', num_arr1.ndim)  # 차원(dimension)\n",
        "print('size =', num_arr1.size)  # size: 원소의 개수\n",
        "print('shape =', num_arr1.shape)  # shape: 각 차원에서의 원소의 개수\n",
        "print('dtype =', num_arr1.dtype)  # dtype: 배열의 원소들의 데이터 타입"
      ],
      "execution_count": 37,
      "outputs": [
        {
          "output_type": "stream",
          "text": [
            "[1 2 3]\n",
            "ndim = 1\n",
            "size = 3\n",
            "shape = (3,)\n",
            "dtype = int64\n"
          ],
          "name": "stdout"
        }
      ]
    },
    {
      "cell_type": "markdown",
      "metadata": {
        "id": "91444IoiROXS"
      },
      "source": [
        "\n",
        "* Python 숫자 타입\n",
        "    * 정수: `int`\n",
        "    * 실수: `float`\n",
        "* NumPy 숫자 타입\n",
        "    * 정수: `int8`, `int16`, `int32`, `int64`, ...\n",
        "    * 실수: `float16`, `float32`, `float64`, ...\n"
      ]
    },
    {
      "cell_type": "markdown",
      "metadata": {
        "id": "FwPmF_HDTQef"
      },
      "source": [
        "# 2차원 배열"
      ]
    },
    {
      "cell_type": "code",
      "metadata": {
        "colab": {
          "base_uri": "https://localhost:8080/"
        },
        "id": "_KQzgfldTSD1",
        "outputId": "6d875079-3d1f-414f-9eb0-38bd920abbd1"
      },
      "source": [
        "arr_2d = np.array([[1, 2, 3], [4, 5, 6]])\n",
        "print(arr_2d)"
      ],
      "execution_count": 38,
      "outputs": [
        {
          "output_type": "stream",
          "text": [
            "[[1 2 3]\n",
            " [4 5 6]]\n"
          ],
          "name": "stdout"
        }
      ]
    },
    {
      "cell_type": "code",
      "metadata": {
        "colab": {
          "base_uri": "https://localhost:8080/"
        },
        "id": "lblaSk8BTnnt",
        "outputId": "97f5ee56-938e-4f8d-b272-bbf0d670190f"
      },
      "source": [
        "print('ndim =', arr_2d.ndim)\n",
        "print('size =', arr_2d.size)\n",
        "print('shape =', arr_2d.shape)\n",
        "print('dtype =', arr_2d.dtype)"
      ],
      "execution_count": 42,
      "outputs": [
        {
          "output_type": "stream",
          "text": [
            "ndim = 2\n",
            "size = 6\n",
            "shape = (2, 3)\n",
            "dtype = int64\n"
          ],
          "name": "stdout"
        }
      ]
    }
  ]
}
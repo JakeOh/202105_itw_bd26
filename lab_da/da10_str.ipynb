{
  "nbformat": 4,
  "nbformat_minor": 0,
  "metadata": {
    "colab": {
      "name": "da10_str.ipynb",
      "provenance": [],
      "collapsed_sections": [],
      "authorship_tag": "ABX9TyOxJB7mpq+NBYQf1lTHOk3M",
      "include_colab_link": true
    },
    "kernelspec": {
      "name": "python3",
      "display_name": "Python 3"
    },
    "language_info": {
      "name": "python"
    }
  },
  "cells": [
    {
      "cell_type": "markdown",
      "metadata": {
        "id": "view-in-github",
        "colab_type": "text"
      },
      "source": [
        "<a href=\"https://colab.research.google.com/github/JakeOh/202105_itw_bd26/blob/main/lab_da/da10_str.ipynb\" target=\"_parent\"><img src=\"https://colab.research.google.com/assets/colab-badge.svg\" alt=\"Open In Colab\"/></a>"
      ]
    },
    {
      "cell_type": "markdown",
      "metadata": {
        "id": "gTZZVtTbuzd8"
      },
      "source": [
        "# DataFrame의 문자열 컬럼 다루기"
      ]
    },
    {
      "cell_type": "code",
      "metadata": {
        "id": "EmmRMbztLaHE"
      },
      "source": [
        "import pandas as pd\n",
        "import matplotlib.pyplot as plt\n",
        "import seaborn as sns"
      ],
      "execution_count": 1,
      "outputs": []
    },
    {
      "cell_type": "code",
      "metadata": {
        "id": "K2J-j60DuuyP"
      },
      "source": [
        "# 파일이 저장된 경로\n",
        "file_path = 'https://github.com/wesm/pydata-book/raw/2nd-edition/datasets/movielens/movies.dat'"
      ],
      "execution_count": 2,
      "outputs": []
    },
    {
      "cell_type": "markdown",
      "metadata": {
        "id": "5NqLnorzvYqx"
      },
      "source": [
        "* `pd.read_csv` 함수를 사용해서 movies.dat 파일을 읽고 DataFrame 생성\n",
        "* 데이터프레임 정보, head, ...\n",
        "* 장르가 'Animation'인 영화는 몇 개?\n",
        "* 장르가 로맨틱 코미디인 영화(Ramance & Comdey) 영화는 몇 개?\n",
        "* 연도별 영화 개봉 숫자, 시각화"
      ]
    },
    {
      "cell_type": "code",
      "metadata": {
        "id": "9H8fVolkLo-k"
      },
      "source": [
        "# 데이터프레임의 컬럼 이름으로 사용할 리스트\n",
        "col_names = ['movie_id', 'title', 'genres']"
      ],
      "execution_count": 3,
      "outputs": []
    },
    {
      "cell_type": "code",
      "metadata": {
        "id": "JG11kJuZL1ys"
      },
      "source": [
        "movies = pd.read_csv(file_path, \n",
        "                     sep='::',           # sep=구분자(seperator). 값들을 구분하기 위해 사용된 문자열.\n",
        "                     names=col_names,    # names=컬럼 이름으로 사용할 리스트.\n",
        "                     encoding='cp1252',  # encoding=파일의 문자열 저장 방식.\n",
        "                     engine='python')    # ParserWarning을 제거하기 위해서."
      ],
      "execution_count": 4,
      "outputs": []
    },
    {
      "cell_type": "markdown",
      "metadata": {
        "id": "5URvRk7NOTim"
      },
      "source": [
        "* seperator\n",
        "    * `','`: 쉼표\n",
        "    * `'\\t'`: 탭 문자\n",
        "    * `r'\\s+'`: 한 글자 이상의 공백을 의미하는 정규 표현식(regular expression)\n",
        "* encoding\n",
        "    * `utf-8`: Linux, MacOS, Unix OS에서 기본으로 사용되는 문자열 저장 방식.\n",
        "    * `cp949`: 한글 MS Windows에서 기본으로 사용되는 문자열 저장 방식.\n",
        "    * `cp1252`: 영문 MS Windows에서 기본으로 사용되는 문자열 저장 방식."
      ]
    },
    {
      "cell_type": "code",
      "metadata": {
        "colab": {
          "base_uri": "https://localhost:8080/"
        },
        "id": "sMrANmHTQdeg",
        "outputId": "14e39897-441a-4362-d399-3f136fc14328"
      },
      "source": [
        "movies.info()"
      ],
      "execution_count": 5,
      "outputs": [
        {
          "output_type": "stream",
          "text": [
            "<class 'pandas.core.frame.DataFrame'>\n",
            "RangeIndex: 3883 entries, 0 to 3882\n",
            "Data columns (total 3 columns):\n",
            " #   Column    Non-Null Count  Dtype \n",
            "---  ------    --------------  ----- \n",
            " 0   movie_id  3883 non-null   int64 \n",
            " 1   title     3883 non-null   object\n",
            " 2   genres    3883 non-null   object\n",
            "dtypes: int64(1), object(2)\n",
            "memory usage: 91.1+ KB\n"
          ],
          "name": "stdout"
        }
      ]
    },
    {
      "cell_type": "code",
      "metadata": {
        "colab": {
          "base_uri": "https://localhost:8080/",
          "height": 206
        },
        "id": "k-pn8QSSQeq1",
        "outputId": "2dc14725-19fe-4bf3-8498-6d66519e3b87"
      },
      "source": [
        "movies.head()"
      ],
      "execution_count": 6,
      "outputs": [
        {
          "output_type": "execute_result",
          "data": {
            "text/html": [
              "<div>\n",
              "<style scoped>\n",
              "    .dataframe tbody tr th:only-of-type {\n",
              "        vertical-align: middle;\n",
              "    }\n",
              "\n",
              "    .dataframe tbody tr th {\n",
              "        vertical-align: top;\n",
              "    }\n",
              "\n",
              "    .dataframe thead th {\n",
              "        text-align: right;\n",
              "    }\n",
              "</style>\n",
              "<table border=\"1\" class=\"dataframe\">\n",
              "  <thead>\n",
              "    <tr style=\"text-align: right;\">\n",
              "      <th></th>\n",
              "      <th>movie_id</th>\n",
              "      <th>title</th>\n",
              "      <th>genres</th>\n",
              "    </tr>\n",
              "  </thead>\n",
              "  <tbody>\n",
              "    <tr>\n",
              "      <th>0</th>\n",
              "      <td>1</td>\n",
              "      <td>Toy Story (1995)</td>\n",
              "      <td>Animation|Children's|Comedy</td>\n",
              "    </tr>\n",
              "    <tr>\n",
              "      <th>1</th>\n",
              "      <td>2</td>\n",
              "      <td>Jumanji (1995)</td>\n",
              "      <td>Adventure|Children's|Fantasy</td>\n",
              "    </tr>\n",
              "    <tr>\n",
              "      <th>2</th>\n",
              "      <td>3</td>\n",
              "      <td>Grumpier Old Men (1995)</td>\n",
              "      <td>Comedy|Romance</td>\n",
              "    </tr>\n",
              "    <tr>\n",
              "      <th>3</th>\n",
              "      <td>4</td>\n",
              "      <td>Waiting to Exhale (1995)</td>\n",
              "      <td>Comedy|Drama</td>\n",
              "    </tr>\n",
              "    <tr>\n",
              "      <th>4</th>\n",
              "      <td>5</td>\n",
              "      <td>Father of the Bride Part II (1995)</td>\n",
              "      <td>Comedy</td>\n",
              "    </tr>\n",
              "  </tbody>\n",
              "</table>\n",
              "</div>"
            ],
            "text/plain": [
              "   movie_id                               title                        genres\n",
              "0         1                    Toy Story (1995)   Animation|Children's|Comedy\n",
              "1         2                      Jumanji (1995)  Adventure|Children's|Fantasy\n",
              "2         3             Grumpier Old Men (1995)                Comedy|Romance\n",
              "3         4            Waiting to Exhale (1995)                  Comedy|Drama\n",
              "4         5  Father of the Bride Part II (1995)                        Comedy"
            ]
          },
          "metadata": {
            "tags": []
          },
          "execution_count": 6
        }
      ]
    },
    {
      "cell_type": "code",
      "metadata": {
        "colab": {
          "base_uri": "https://localhost:8080/",
          "height": 206
        },
        "id": "2ucpEfukQoAk",
        "outputId": "ec0d1dbf-c476-4746-9577-cf9fc66b53be"
      },
      "source": [
        "movies.tail()"
      ],
      "execution_count": 7,
      "outputs": [
        {
          "output_type": "execute_result",
          "data": {
            "text/html": [
              "<div>\n",
              "<style scoped>\n",
              "    .dataframe tbody tr th:only-of-type {\n",
              "        vertical-align: middle;\n",
              "    }\n",
              "\n",
              "    .dataframe tbody tr th {\n",
              "        vertical-align: top;\n",
              "    }\n",
              "\n",
              "    .dataframe thead th {\n",
              "        text-align: right;\n",
              "    }\n",
              "</style>\n",
              "<table border=\"1\" class=\"dataframe\">\n",
              "  <thead>\n",
              "    <tr style=\"text-align: right;\">\n",
              "      <th></th>\n",
              "      <th>movie_id</th>\n",
              "      <th>title</th>\n",
              "      <th>genres</th>\n",
              "    </tr>\n",
              "  </thead>\n",
              "  <tbody>\n",
              "    <tr>\n",
              "      <th>3878</th>\n",
              "      <td>3948</td>\n",
              "      <td>Meet the Parents (2000)</td>\n",
              "      <td>Comedy</td>\n",
              "    </tr>\n",
              "    <tr>\n",
              "      <th>3879</th>\n",
              "      <td>3949</td>\n",
              "      <td>Requiem for a Dream (2000)</td>\n",
              "      <td>Drama</td>\n",
              "    </tr>\n",
              "    <tr>\n",
              "      <th>3880</th>\n",
              "      <td>3950</td>\n",
              "      <td>Tigerland (2000)</td>\n",
              "      <td>Drama</td>\n",
              "    </tr>\n",
              "    <tr>\n",
              "      <th>3881</th>\n",
              "      <td>3951</td>\n",
              "      <td>Two Family House (2000)</td>\n",
              "      <td>Drama</td>\n",
              "    </tr>\n",
              "    <tr>\n",
              "      <th>3882</th>\n",
              "      <td>3952</td>\n",
              "      <td>Contender, The (2000)</td>\n",
              "      <td>Drama|Thriller</td>\n",
              "    </tr>\n",
              "  </tbody>\n",
              "</table>\n",
              "</div>"
            ],
            "text/plain": [
              "      movie_id                       title          genres\n",
              "3878      3948     Meet the Parents (2000)          Comedy\n",
              "3879      3949  Requiem for a Dream (2000)           Drama\n",
              "3880      3950            Tigerland (2000)           Drama\n",
              "3881      3951     Two Family House (2000)           Drama\n",
              "3882      3952       Contender, The (2000)  Drama|Thriller"
            ]
          },
          "metadata": {
            "tags": []
          },
          "execution_count": 7
        }
      ]
    },
    {
      "cell_type": "code",
      "metadata": {
        "colab": {
          "base_uri": "https://localhost:8080/",
          "height": 423
        },
        "id": "rvKLW2MxQzoc",
        "outputId": "5d6cddc4-48ce-4999-c282-a59dca706719"
      },
      "source": [
        "# Animation 장르의 영화들 - genres 컬럼의 문자열이 'Animation'을 포함\n",
        "animations = movies[movies.genres.str.contains('Animation')]\n",
        "animations"
      ],
      "execution_count": 8,
      "outputs": [
        {
          "output_type": "execute_result",
          "data": {
            "text/html": [
              "<div>\n",
              "<style scoped>\n",
              "    .dataframe tbody tr th:only-of-type {\n",
              "        vertical-align: middle;\n",
              "    }\n",
              "\n",
              "    .dataframe tbody tr th {\n",
              "        vertical-align: top;\n",
              "    }\n",
              "\n",
              "    .dataframe thead th {\n",
              "        text-align: right;\n",
              "    }\n",
              "</style>\n",
              "<table border=\"1\" class=\"dataframe\">\n",
              "  <thead>\n",
              "    <tr style=\"text-align: right;\">\n",
              "      <th></th>\n",
              "      <th>movie_id</th>\n",
              "      <th>title</th>\n",
              "      <th>genres</th>\n",
              "    </tr>\n",
              "  </thead>\n",
              "  <tbody>\n",
              "    <tr>\n",
              "      <th>0</th>\n",
              "      <td>1</td>\n",
              "      <td>Toy Story (1995)</td>\n",
              "      <td>Animation|Children's|Comedy</td>\n",
              "    </tr>\n",
              "    <tr>\n",
              "      <th>12</th>\n",
              "      <td>13</td>\n",
              "      <td>Balto (1995)</td>\n",
              "      <td>Animation|Children's</td>\n",
              "    </tr>\n",
              "    <tr>\n",
              "      <th>47</th>\n",
              "      <td>48</td>\n",
              "      <td>Pocahontas (1995)</td>\n",
              "      <td>Animation|Children's|Musical|Romance</td>\n",
              "    </tr>\n",
              "    <tr>\n",
              "      <th>236</th>\n",
              "      <td>239</td>\n",
              "      <td>Goofy Movie, A (1995)</td>\n",
              "      <td>Animation|Children's|Comedy|Romance</td>\n",
              "    </tr>\n",
              "    <tr>\n",
              "      <th>241</th>\n",
              "      <td>244</td>\n",
              "      <td>Gumby: The Movie (1995)</td>\n",
              "      <td>Animation|Children's</td>\n",
              "    </tr>\n",
              "    <tr>\n",
              "      <th>...</th>\n",
              "      <td>...</td>\n",
              "      <td>...</td>\n",
              "      <td>...</td>\n",
              "    </tr>\n",
              "    <tr>\n",
              "      <th>3690</th>\n",
              "      <td>3759</td>\n",
              "      <td>Fun and Fancy Free (1947)</td>\n",
              "      <td>Animation|Children's|Musical</td>\n",
              "    </tr>\n",
              "    <tr>\n",
              "      <th>3706</th>\n",
              "      <td>3775</td>\n",
              "      <td>Make Mine Music (1946)</td>\n",
              "      <td>Animation|Children's|Musical</td>\n",
              "    </tr>\n",
              "    <tr>\n",
              "      <th>3707</th>\n",
              "      <td>3776</td>\n",
              "      <td>Melody Time (1948)</td>\n",
              "      <td>Animation|Children's|Musical</td>\n",
              "    </tr>\n",
              "    <tr>\n",
              "      <th>3730</th>\n",
              "      <td>3799</td>\n",
              "      <td>Pokémon the Movie 2000 (2000)</td>\n",
              "      <td>Animation|Children's</td>\n",
              "    </tr>\n",
              "    <tr>\n",
              "      <th>3875</th>\n",
              "      <td>3945</td>\n",
              "      <td>Digimon: The Movie (2000)</td>\n",
              "      <td>Adventure|Animation|Children's</td>\n",
              "    </tr>\n",
              "  </tbody>\n",
              "</table>\n",
              "<p>105 rows × 3 columns</p>\n",
              "</div>"
            ],
            "text/plain": [
              "      movie_id  ...                                genres\n",
              "0            1  ...           Animation|Children's|Comedy\n",
              "12          13  ...                  Animation|Children's\n",
              "47          48  ...  Animation|Children's|Musical|Romance\n",
              "236        239  ...   Animation|Children's|Comedy|Romance\n",
              "241        244  ...                  Animation|Children's\n",
              "...        ...  ...                                   ...\n",
              "3690      3759  ...          Animation|Children's|Musical\n",
              "3706      3775  ...          Animation|Children's|Musical\n",
              "3707      3776  ...          Animation|Children's|Musical\n",
              "3730      3799  ...                  Animation|Children's\n",
              "3875      3945  ...        Adventure|Animation|Children's\n",
              "\n",
              "[105 rows x 3 columns]"
            ]
          },
          "metadata": {
            "tags": []
          },
          "execution_count": 8
        }
      ]
    },
    {
      "cell_type": "code",
      "metadata": {
        "colab": {
          "base_uri": "https://localhost:8080/"
        },
        "id": "DUO7etELSLkE",
        "outputId": "5ee270dc-f975-4a30-fc90-adcdaae4def0"
      },
      "source": [
        "len(animations)"
      ],
      "execution_count": 9,
      "outputs": [
        {
          "output_type": "execute_result",
          "data": {
            "text/plain": [
              "105"
            ]
          },
          "metadata": {
            "tags": []
          },
          "execution_count": 9
        }
      ]
    },
    {
      "cell_type": "code",
      "metadata": {
        "colab": {
          "base_uri": "https://localhost:8080/",
          "height": 423
        },
        "id": "IqJPYl2SSM1D",
        "outputId": "1ee188be-61de-429a-e6d4-6218bf73d3b0"
      },
      "source": [
        "# 로맨틱 코미디 - (Romance & Comedy)\n",
        "romantic_comedies = movies[(movies.genres.str.contains('Romance')) & \n",
        "                           (movies.genres.str.contains('Comedy'))]\n",
        "romantic_comedies"
      ],
      "execution_count": 10,
      "outputs": [
        {
          "output_type": "execute_result",
          "data": {
            "text/html": [
              "<div>\n",
              "<style scoped>\n",
              "    .dataframe tbody tr th:only-of-type {\n",
              "        vertical-align: middle;\n",
              "    }\n",
              "\n",
              "    .dataframe tbody tr th {\n",
              "        vertical-align: top;\n",
              "    }\n",
              "\n",
              "    .dataframe thead th {\n",
              "        text-align: right;\n",
              "    }\n",
              "</style>\n",
              "<table border=\"1\" class=\"dataframe\">\n",
              "  <thead>\n",
              "    <tr style=\"text-align: right;\">\n",
              "      <th></th>\n",
              "      <th>movie_id</th>\n",
              "      <th>title</th>\n",
              "      <th>genres</th>\n",
              "    </tr>\n",
              "  </thead>\n",
              "  <tbody>\n",
              "    <tr>\n",
              "      <th>2</th>\n",
              "      <td>3</td>\n",
              "      <td>Grumpier Old Men (1995)</td>\n",
              "      <td>Comedy|Romance</td>\n",
              "    </tr>\n",
              "    <tr>\n",
              "      <th>6</th>\n",
              "      <td>7</td>\n",
              "      <td>Sabrina (1995)</td>\n",
              "      <td>Comedy|Romance</td>\n",
              "    </tr>\n",
              "    <tr>\n",
              "      <th>10</th>\n",
              "      <td>11</td>\n",
              "      <td>American President, The (1995)</td>\n",
              "      <td>Comedy|Drama|Romance</td>\n",
              "    </tr>\n",
              "    <tr>\n",
              "      <th>38</th>\n",
              "      <td>39</td>\n",
              "      <td>Clueless (1995)</td>\n",
              "      <td>Comedy|Romance</td>\n",
              "    </tr>\n",
              "    <tr>\n",
              "      <th>63</th>\n",
              "      <td>64</td>\n",
              "      <td>Two if by Sea (1996)</td>\n",
              "      <td>Comedy|Romance</td>\n",
              "    </tr>\n",
              "    <tr>\n",
              "      <th>...</th>\n",
              "      <td>...</td>\n",
              "      <td>...</td>\n",
              "      <td>...</td>\n",
              "    </tr>\n",
              "    <tr>\n",
              "      <th>3679</th>\n",
              "      <td>3748</td>\n",
              "      <td>Match, The (1999)</td>\n",
              "      <td>Comedy|Romance</td>\n",
              "    </tr>\n",
              "    <tr>\n",
              "      <th>3759</th>\n",
              "      <td>3829</td>\n",
              "      <td>Mad About Mambo (2000)</td>\n",
              "      <td>Comedy|Romance</td>\n",
              "    </tr>\n",
              "    <tr>\n",
              "      <th>3804</th>\n",
              "      <td>3874</td>\n",
              "      <td>Couch in New York, A (1996)</td>\n",
              "      <td>Comedy|Romance</td>\n",
              "    </tr>\n",
              "    <tr>\n",
              "      <th>3815</th>\n",
              "      <td>3885</td>\n",
              "      <td>Love &amp; Sex (2000)</td>\n",
              "      <td>Comedy|Romance</td>\n",
              "    </tr>\n",
              "    <tr>\n",
              "      <th>3839</th>\n",
              "      <td>3909</td>\n",
              "      <td>Woman on Top (2000)</td>\n",
              "      <td>Comedy|Romance</td>\n",
              "    </tr>\n",
              "  </tbody>\n",
              "</table>\n",
              "<p>204 rows × 3 columns</p>\n",
              "</div>"
            ],
            "text/plain": [
              "      movie_id                           title                genres\n",
              "2            3         Grumpier Old Men (1995)        Comedy|Romance\n",
              "6            7                  Sabrina (1995)        Comedy|Romance\n",
              "10          11  American President, The (1995)  Comedy|Drama|Romance\n",
              "38          39                 Clueless (1995)        Comedy|Romance\n",
              "63          64            Two if by Sea (1996)        Comedy|Romance\n",
              "...        ...                             ...                   ...\n",
              "3679      3748               Match, The (1999)        Comedy|Romance\n",
              "3759      3829          Mad About Mambo (2000)        Comedy|Romance\n",
              "3804      3874     Couch in New York, A (1996)        Comedy|Romance\n",
              "3815      3885               Love & Sex (2000)        Comedy|Romance\n",
              "3839      3909             Woman on Top (2000)        Comedy|Romance\n",
              "\n",
              "[204 rows x 3 columns]"
            ]
          },
          "metadata": {
            "tags": []
          },
          "execution_count": 10
        }
      ]
    },
    {
      "cell_type": "code",
      "metadata": {
        "colab": {
          "base_uri": "https://localhost:8080/"
        },
        "id": "62G-hDHuTBD9",
        "outputId": "654c81d7-e8e6-4356-c034-f79a6e929a0c"
      },
      "source": [
        "len(romantic_comedies)"
      ],
      "execution_count": 11,
      "outputs": [
        {
          "output_type": "execute_result",
          "data": {
            "text/plain": [
              "204"
            ]
          },
          "metadata": {
            "tags": []
          },
          "execution_count": 11
        }
      ]
    },
    {
      "cell_type": "code",
      "metadata": {
        "colab": {
          "base_uri": "https://localhost:8080/",
          "height": 36
        },
        "id": "KqP-efyLTkoP",
        "outputId": "908597ab-eb9e-4742-e27e-8f1e01532e8a"
      },
      "source": [
        "# 연도별 영화 개봉 숫자, 시각화\n",
        "t = 'Toy Story (1995)'\n",
        "t[-5:-1]"
      ],
      "execution_count": 12,
      "outputs": [
        {
          "output_type": "execute_result",
          "data": {
            "application/vnd.google.colaboratory.intrinsic+json": {
              "type": "string"
            },
            "text/plain": [
              "'1995'"
            ]
          },
          "metadata": {
            "tags": []
          },
          "execution_count": 12
        }
      ]
    },
    {
      "cell_type": "code",
      "metadata": {
        "colab": {
          "base_uri": "https://localhost:8080/"
        },
        "id": "kh5hb2UbYxk2",
        "outputId": "c634992f-48d2-4893-b613-991633581454"
      },
      "source": [
        "movies.title[-5:-1]\n",
        "#> movies 데이터프레임의 title 컬럼 중에서 끝에서 5번째부터 끝에서 1번째 전까지 선택\n",
        "#> movies.title.iloc[-5:-1]와 동일한 코드"
      ],
      "execution_count": 13,
      "outputs": [
        {
          "output_type": "execute_result",
          "data": {
            "text/plain": [
              "3878       Meet the Parents (2000)\n",
              "3879    Requiem for a Dream (2000)\n",
              "3880              Tigerland (2000)\n",
              "3881       Two Family House (2000)\n",
              "Name: title, dtype: object"
            ]
          },
          "metadata": {
            "tags": []
          },
          "execution_count": 13
        }
      ]
    },
    {
      "cell_type": "code",
      "metadata": {
        "colab": {
          "base_uri": "https://localhost:8080/"
        },
        "id": "eOZKLglOZnzv",
        "outputId": "0ac28005-3906-4044-a224-8442ba70fceb"
      },
      "source": [
        "movies.title.str[-5:-1]\n",
        "#> movies 데이터프레임의 title 컬럼의 문자열들을 각각 -5 ~ -1 까지 slicing -> pd.Series"
      ],
      "execution_count": 14,
      "outputs": [
        {
          "output_type": "execute_result",
          "data": {
            "text/plain": [
              "0       1995\n",
              "1       1995\n",
              "2       1995\n",
              "3       1995\n",
              "4       1995\n",
              "        ... \n",
              "3878    2000\n",
              "3879    2000\n",
              "3880    2000\n",
              "3881    2000\n",
              "3882    2000\n",
              "Name: title, Length: 3883, dtype: object"
            ]
          },
          "metadata": {
            "tags": []
          },
          "execution_count": 14
        }
      ]
    },
    {
      "cell_type": "code",
      "metadata": {
        "colab": {
          "base_uri": "https://localhost:8080/"
        },
        "id": "pPgf7D7dae9u",
        "outputId": "e5596af2-f017-4814-d659-9c223c996cac"
      },
      "source": [
        "movies.title.str[-5:-1].astype('int')\n",
        "#> 문자열(object)들을 원소로 갖는 Series를 정수(int)를 원소로 갖는 Series로 변환."
      ],
      "execution_count": 15,
      "outputs": [
        {
          "output_type": "execute_result",
          "data": {
            "text/plain": [
              "0       1995\n",
              "1       1995\n",
              "2       1995\n",
              "3       1995\n",
              "4       1995\n",
              "        ... \n",
              "3878    2000\n",
              "3879    2000\n",
              "3880    2000\n",
              "3881    2000\n",
              "3882    2000\n",
              "Name: title, Length: 3883, dtype: int64"
            ]
          },
          "metadata": {
            "tags": []
          },
          "execution_count": 15
        }
      ]
    },
    {
      "cell_type": "code",
      "metadata": {
        "id": "RmzbINDZbQTe"
      },
      "source": [
        "# movies 데이터프레임에 영화 개봉 연도(year) 컬럼(파생 변수)를 추가\n",
        "movies['year'] = movies.title.str[-5:-1].astype('int')"
      ],
      "execution_count": 16,
      "outputs": []
    },
    {
      "cell_type": "code",
      "metadata": {
        "colab": {
          "base_uri": "https://localhost:8080/",
          "height": 423
        },
        "id": "q1F8gOJqbkF-",
        "outputId": "a1e8bfd2-f518-4f9d-96ee-7eacb305be26"
      },
      "source": [
        "movies"
      ],
      "execution_count": 17,
      "outputs": [
        {
          "output_type": "execute_result",
          "data": {
            "text/html": [
              "<div>\n",
              "<style scoped>\n",
              "    .dataframe tbody tr th:only-of-type {\n",
              "        vertical-align: middle;\n",
              "    }\n",
              "\n",
              "    .dataframe tbody tr th {\n",
              "        vertical-align: top;\n",
              "    }\n",
              "\n",
              "    .dataframe thead th {\n",
              "        text-align: right;\n",
              "    }\n",
              "</style>\n",
              "<table border=\"1\" class=\"dataframe\">\n",
              "  <thead>\n",
              "    <tr style=\"text-align: right;\">\n",
              "      <th></th>\n",
              "      <th>movie_id</th>\n",
              "      <th>title</th>\n",
              "      <th>genres</th>\n",
              "      <th>year</th>\n",
              "    </tr>\n",
              "  </thead>\n",
              "  <tbody>\n",
              "    <tr>\n",
              "      <th>0</th>\n",
              "      <td>1</td>\n",
              "      <td>Toy Story (1995)</td>\n",
              "      <td>Animation|Children's|Comedy</td>\n",
              "      <td>1995</td>\n",
              "    </tr>\n",
              "    <tr>\n",
              "      <th>1</th>\n",
              "      <td>2</td>\n",
              "      <td>Jumanji (1995)</td>\n",
              "      <td>Adventure|Children's|Fantasy</td>\n",
              "      <td>1995</td>\n",
              "    </tr>\n",
              "    <tr>\n",
              "      <th>2</th>\n",
              "      <td>3</td>\n",
              "      <td>Grumpier Old Men (1995)</td>\n",
              "      <td>Comedy|Romance</td>\n",
              "      <td>1995</td>\n",
              "    </tr>\n",
              "    <tr>\n",
              "      <th>3</th>\n",
              "      <td>4</td>\n",
              "      <td>Waiting to Exhale (1995)</td>\n",
              "      <td>Comedy|Drama</td>\n",
              "      <td>1995</td>\n",
              "    </tr>\n",
              "    <tr>\n",
              "      <th>4</th>\n",
              "      <td>5</td>\n",
              "      <td>Father of the Bride Part II (1995)</td>\n",
              "      <td>Comedy</td>\n",
              "      <td>1995</td>\n",
              "    </tr>\n",
              "    <tr>\n",
              "      <th>...</th>\n",
              "      <td>...</td>\n",
              "      <td>...</td>\n",
              "      <td>...</td>\n",
              "      <td>...</td>\n",
              "    </tr>\n",
              "    <tr>\n",
              "      <th>3878</th>\n",
              "      <td>3948</td>\n",
              "      <td>Meet the Parents (2000)</td>\n",
              "      <td>Comedy</td>\n",
              "      <td>2000</td>\n",
              "    </tr>\n",
              "    <tr>\n",
              "      <th>3879</th>\n",
              "      <td>3949</td>\n",
              "      <td>Requiem for a Dream (2000)</td>\n",
              "      <td>Drama</td>\n",
              "      <td>2000</td>\n",
              "    </tr>\n",
              "    <tr>\n",
              "      <th>3880</th>\n",
              "      <td>3950</td>\n",
              "      <td>Tigerland (2000)</td>\n",
              "      <td>Drama</td>\n",
              "      <td>2000</td>\n",
              "    </tr>\n",
              "    <tr>\n",
              "      <th>3881</th>\n",
              "      <td>3951</td>\n",
              "      <td>Two Family House (2000)</td>\n",
              "      <td>Drama</td>\n",
              "      <td>2000</td>\n",
              "    </tr>\n",
              "    <tr>\n",
              "      <th>3882</th>\n",
              "      <td>3952</td>\n",
              "      <td>Contender, The (2000)</td>\n",
              "      <td>Drama|Thriller</td>\n",
              "      <td>2000</td>\n",
              "    </tr>\n",
              "  </tbody>\n",
              "</table>\n",
              "<p>3883 rows × 4 columns</p>\n",
              "</div>"
            ],
            "text/plain": [
              "      movie_id  ...  year\n",
              "0            1  ...  1995\n",
              "1            2  ...  1995\n",
              "2            3  ...  1995\n",
              "3            4  ...  1995\n",
              "4            5  ...  1995\n",
              "...        ...  ...   ...\n",
              "3878      3948  ...  2000\n",
              "3879      3949  ...  2000\n",
              "3880      3950  ...  2000\n",
              "3881      3951  ...  2000\n",
              "3882      3952  ...  2000\n",
              "\n",
              "[3883 rows x 4 columns]"
            ]
          },
          "metadata": {
            "tags": []
          },
          "execution_count": 17
        }
      ]
    },
    {
      "cell_type": "code",
      "metadata": {
        "colab": {
          "base_uri": "https://localhost:8080/"
        },
        "id": "cfWyBOgJblG9",
        "outputId": "417a4cd9-3dda-4c65-810d-244011da8494"
      },
      "source": [
        "movies.info()"
      ],
      "execution_count": 18,
      "outputs": [
        {
          "output_type": "stream",
          "text": [
            "<class 'pandas.core.frame.DataFrame'>\n",
            "RangeIndex: 3883 entries, 0 to 3882\n",
            "Data columns (total 4 columns):\n",
            " #   Column    Non-Null Count  Dtype \n",
            "---  ------    --------------  ----- \n",
            " 0   movie_id  3883 non-null   int64 \n",
            " 1   title     3883 non-null   object\n",
            " 2   genres    3883 non-null   object\n",
            " 3   year      3883 non-null   int64 \n",
            "dtypes: int64(2), object(2)\n",
            "memory usage: 121.5+ KB\n"
          ],
          "name": "stdout"
        }
      ]
    },
    {
      "cell_type": "code",
      "metadata": {
        "colab": {
          "base_uri": "https://localhost:8080/"
        },
        "id": "NCBibrBUbw9t",
        "outputId": "959d34b7-58a3-4e62-e313-6208a90f91d5"
      },
      "source": [
        "result = movies['year'].value_counts()\n",
        "result"
      ],
      "execution_count": 19,
      "outputs": [
        {
          "output_type": "execute_result",
          "data": {
            "text/plain": [
              "1996    345\n",
              "1995    342\n",
              "1998    337\n",
              "1997    315\n",
              "1999    283\n",
              "       ... \n",
              "1923      3\n",
              "1929      3\n",
              "1922      2\n",
              "1920      2\n",
              "1921      1\n",
              "Name: year, Length: 81, dtype: int64"
            ]
          },
          "metadata": {
            "tags": []
          },
          "execution_count": 19
        }
      ]
    },
    {
      "cell_type": "code",
      "metadata": {
        "colab": {
          "base_uri": "https://localhost:8080/",
          "height": 265
        },
        "id": "1QnbkLHScOH-",
        "outputId": "6df65850-0278-4164-bada-c1a1a39bf9f1"
      },
      "source": [
        "plt.plot(result.index, result.values)\n",
        "plt.show()"
      ],
      "execution_count": 20,
      "outputs": [
        {
          "output_type": "display_data",
          "data": {
            "image/png": "[encoded data removed]",
            "text/plain": [
              "<Figure size 432x288 with 1 Axes>"
            ]
          },
          "metadata": {
            "tags": [],
            "needs_background": "light"
          }
        }
      ]
    },
    {
      "cell_type": "markdown",
      "metadata": {
        "id": "BJlnhLW3c5xB"
      },
      "source": [
        "`value_counts` 메서드의 결과는 값들의 내림차순으로 정렬되어 있음.\n",
        "인덱스가 정렬되어 있지 않기 때문에, 선들이 지그재그로 그려지게 됨.\n",
        "`value_counts`의 결과를 인덱스의 오름차순으로 정렬할 필요가 있음."
      ]
    },
    {
      "cell_type": "code",
      "metadata": {
        "colab": {
          "base_uri": "https://localhost:8080/"
        },
        "id": "TTjnC2k3dcX3",
        "outputId": "eeefb741-9cbe-49c7-ce1b-0617947f5546"
      },
      "source": [
        "sorted_result = movies.year.value_counts().sort_index()\n",
        "sorted_result"
      ],
      "execution_count": 21,
      "outputs": [
        {
          "output_type": "execute_result",
          "data": {
            "text/plain": [
              "1919      3\n",
              "1920      2\n",
              "1921      1\n",
              "1922      2\n",
              "1923      3\n",
              "       ... \n",
              "1996    345\n",
              "1997    315\n",
              "1998    337\n",
              "1999    283\n",
              "2000    156\n",
              "Name: year, Length: 81, dtype: int64"
            ]
          },
          "metadata": {
            "tags": []
          },
          "execution_count": 21
        }
      ]
    },
    {
      "cell_type": "code",
      "metadata": {
        "colab": {
          "base_uri": "https://localhost:8080/",
          "height": 265
        },
        "id": "rfGYNKhAdp8N",
        "outputId": "a1f786c6-1ed7-4f78-fab2-ce861aed0e47"
      },
      "source": [
        "plt.plot(sorted_result.index, sorted_result.values)\n",
        "plt.show()"
      ],
      "execution_count": 22,
      "outputs": [
        {
          "output_type": "display_data",
          "data": {
            "image/png": "[encoded data removed]",
            "text/plain": [
              "<Figure size 432x288 with 1 Axes>"
            ]
          },
          "metadata": {
            "tags": [],
            "needs_background": "light"
          }
        }
      ]
    },
    {
      "cell_type": "code",
      "metadata": {
        "colab": {
          "base_uri": "https://localhost:8080/",
          "height": 265
        },
        "id": "v2zFUzwlePav",
        "outputId": "e6bb60e6-3764-4f27-dad3-b78f80b8cc49"
      },
      "source": [
        "plt.bar(x=result.index, height=result.values)\n",
        "plt.show()\n",
        "#> 막대 그래프인 경우는 막대들이 그려지는 순서가 중요하지 않기 때문에 \n",
        "# 인덱스로 정렬된 Series를 사용할 필요는 없다."
      ],
      "execution_count": 23,
      "outputs": [
        {
          "output_type": "display_data",
          "data": {
            "image/png": "[encoded data removed]",
            "text/plain": [
              "<Figure size 432x288 with 1 Axes>"
            ]
          },
          "metadata": {
            "tags": [],
            "needs_background": "light"
          }
        }
      ]
    },
    {
      "cell_type": "markdown",
      "metadata": {
        "id": "gr_jVGUZe6xH"
      },
      "source": [
        "* movies 데이터프레임에 가장 자주 등장하는 장르 이름 상위 10개 찾고, 시각화"
      ]
    },
    {
      "cell_type": "code",
      "metadata": {
        "id": "t5HpuYWD19rU"
      },
      "source": [
        "arr = ['animation', 'drama', 'animation', 'comedy', 'drama', 'comedy', 'drama']"
      ],
      "execution_count": 28,
      "outputs": []
    },
    {
      "cell_type": "code",
      "metadata": {
        "colab": {
          "base_uri": "https://localhost:8080/"
        },
        "id": "PjIG6jjg2D7I",
        "outputId": "c40401cc-22dc-4732-db9e-469e29ed4848"
      },
      "source": [
        "# arr의 원소를 key로 하고, 그 원소가 리스트에 나오는 횟수를 value로 하는 dict를 생성.\n",
        "arr_cnt = {}  # empty dict\n",
        "for x in arr:  # 리스트에서 원소를 하나씩 꺼내면서 반복\n",
        "    if x in arr_cnt.keys():  # 원소가 dict의 key로 존재하면\n",
        "        arr_cnt[x] += 1  # 숫자를 1 증가\n",
        "    else:  # 원소가 dict의 key로 존재하지 않으면, 처음 나오는 경우이므로\n",
        "        arr_cnt[x] = 1\n",
        "\n",
        "print(arr_cnt)"
      ],
      "execution_count": 30,
      "outputs": [
        {
          "output_type": "stream",
          "text": [
            "{'animation': 2, 'drama': 3, 'comedy': 2}\n"
          ],
          "name": "stdout"
        }
      ]
    },
    {
      "cell_type": "code",
      "metadata": {
        "colab": {
          "base_uri": "https://localhost:8080/"
        },
        "id": "k72Ryhea8OMw",
        "outputId": "ad528828-f630-4185-e91a-058c8431b497"
      },
      "source": [
        "arr_cnt.items()  # (key, value) 튜플들의 리스트"
      ],
      "execution_count": 38,
      "outputs": [
        {
          "output_type": "execute_result",
          "data": {
            "text/plain": [
              "dict_items([('animation', 2), ('drama', 3), ('comedy', 2)])"
            ]
          },
          "metadata": {
            "tags": []
          },
          "execution_count": 38
        }
      ]
    },
    {
      "cell_type": "code",
      "metadata": {
        "colab": {
          "base_uri": "https://localhost:8080/"
        },
        "id": "6fPXirYs6Zog",
        "outputId": "2d507665-3b1c-4e4a-d1a5-24b95092722b"
      },
      "source": [
        "# dict를 value로 정렬: {'animation': 2, 'comedy': 2, 'drama': 3}\n",
        "result = sorted(arr_cnt.items(), key=lambda x: x[1], reverse=False)\n",
        "#> key=정렬 기준(함수), reverse=False(오름차순), True(내림차순)\n",
        "print(result)\n",
        "result2 = dict(result)  # tuple들의 list를 dict로 변환\n",
        "print(result2)"
      ],
      "execution_count": 43,
      "outputs": [
        {
          "output_type": "stream",
          "text": [
            "[('animation', 2), ('comedy', 2), ('drama', 3)]\n",
            "{'animation': 2, 'comedy': 2, 'drama': 3}\n"
          ],
          "name": "stdout"
        }
      ]
    },
    {
      "cell_type": "code",
      "metadata": {
        "colab": {
          "base_uri": "https://localhost:8080/"
        },
        "id": "OLSpwOjWBepw",
        "outputId": "adeab2cb-9168-4df8-f1a6-3bd3e113734a"
      },
      "source": [
        "# pandas를 사용한 단어 개수 세기\n",
        "pd.value_counts(arr)  #> 단어들이 index가 되고, 그 단어의 등장 횟수가 value인 pd.Series 객체"
      ],
      "execution_count": 48,
      "outputs": [
        {
          "output_type": "execute_result",
          "data": {
            "text/plain": [
              "comedy       2\n",
              "animation    2\n",
              "drama        3\n",
              "dtype: int64"
            ]
          },
          "metadata": {
            "tags": []
          },
          "execution_count": 48
        }
      ]
    },
    {
      "cell_type": "code",
      "metadata": {
        "colab": {
          "base_uri": "https://localhost:8080/"
        },
        "id": "fux2AVv6CmdS",
        "outputId": "69a3b14c-c283-4f25-f0d8-b7cadc88f3b8"
      },
      "source": [
        "genres = []  # 개별 영화 장르를 저장할 리스트\n",
        "for s in movies.genres:\n",
        "    genres.extend(s.split('|'))\n",
        "    \n",
        "len(genres)"
      ],
      "execution_count": 56,
      "outputs": [
        {
          "output_type": "execute_result",
          "data": {
            "text/plain": [
              "6408"
            ]
          },
          "metadata": {
            "tags": []
          },
          "execution_count": 56
        }
      ]
    },
    {
      "cell_type": "code",
      "metadata": {
        "colab": {
          "base_uri": "https://localhost:8080/"
        },
        "id": "saorKEVHEK1y",
        "outputId": "0485ebab-94ec-44e1-e4c2-f41587ab96cf"
      },
      "source": [
        "genres[:10]"
      ],
      "execution_count": 57,
      "outputs": [
        {
          "output_type": "execute_result",
          "data": {
            "text/plain": [
              "['Animation',\n",
              " \"Children's\",\n",
              " 'Comedy',\n",
              " 'Adventure',\n",
              " \"Children's\",\n",
              " 'Fantasy',\n",
              " 'Comedy',\n",
              " 'Romance',\n",
              " 'Comedy',\n",
              " 'Drama']"
            ]
          },
          "metadata": {
            "tags": []
          },
          "execution_count": 57
        }
      ]
    },
    {
      "cell_type": "code",
      "metadata": {
        "colab": {
          "base_uri": "https://localhost:8080/"
        },
        "id": "naBdFYS0E2k1",
        "outputId": "d5ebf4d6-a6bc-44e4-a3e1-4d252ef29a45"
      },
      "source": [
        "genre_counts = pd.value_counts(genres)\n",
        "genre_counts  # value_counts 함수는 값들의 내림차순으로 정렬된 Series를 리턴."
      ],
      "execution_count": 58,
      "outputs": [
        {
          "output_type": "execute_result",
          "data": {
            "text/plain": [
              "Drama          1603\n",
              "Comedy         1200\n",
              "Action          503\n",
              "Thriller        492\n",
              "Romance         471\n",
              "Horror          343\n",
              "Adventure       283\n",
              "Sci-Fi          276\n",
              "Children's      251\n",
              "Crime           211\n",
              "War             143\n",
              "Documentary     127\n",
              "Musical         114\n",
              "Mystery         106\n",
              "Animation       105\n",
              "Western          68\n",
              "Fantasy          68\n",
              "Film-Noir        44\n",
              "dtype: int64"
            ]
          },
          "metadata": {
            "tags": []
          },
          "execution_count": 58
        }
      ]
    },
    {
      "cell_type": "code",
      "metadata": {
        "colab": {
          "base_uri": "https://localhost:8080/"
        },
        "id": "pPeWFLYcFi6B",
        "outputId": "3dfb141f-77bc-4ad2-9510-cdd2d23d4f5b"
      },
      "source": [
        "top10 = genre_counts.head(n=10)  # genre_counts.iloc[:10]\n",
        "top10"
      ],
      "execution_count": 59,
      "outputs": [
        {
          "output_type": "execute_result",
          "data": {
            "text/plain": [
              "Drama         1603\n",
              "Comedy        1200\n",
              "Action         503\n",
              "Thriller       492\n",
              "Romance        471\n",
              "Horror         343\n",
              "Adventure      283\n",
              "Sci-Fi         276\n",
              "Children's     251\n",
              "Crime          211\n",
              "dtype: int64"
            ]
          },
          "metadata": {
            "tags": []
          },
          "execution_count": 59
        }
      ]
    },
    {
      "cell_type": "code",
      "metadata": {
        "colab": {
          "base_uri": "https://localhost:8080/",
          "height": 265
        },
        "id": "BYRU9LlvGD1I",
        "outputId": "93c6c187-a11f-4c2d-c2cd-d7cfd3242e8f"
      },
      "source": [
        "sns.barplot(x=top10.values, y=top10.index)\n",
        "plt.show()"
      ],
      "execution_count": 60,
      "outputs": [
        {
          "output_type": "display_data",
          "data": {
            "image/png": "[encoded data removed]",
            "text/plain": [
              "<Figure size 432x288 with 1 Axes>"
            ]
          },
          "metadata": {
            "tags": [],
            "needs_background": "light"
          }
        }
      ]
    }
  ]
}
{
  "nbformat": 4,
  "nbformat_minor": 0,
  "metadata": {
    "colab": {
      "name": "da16_datetime.ipynb",
      "provenance": [],
      "collapsed_sections": [],
      "authorship_tag": "ABX9TyOM9KlNnKjaxWRRNs8pRBrl",
      "include_colab_link": true
    },
    "kernelspec": {
      "name": "python3",
      "display_name": "Python 3"
    },
    "language_info": {
      "name": "python"
    }
  },
  "cells": [
    {
      "cell_type": "markdown",
      "metadata": {
        "id": "view-in-github",
        "colab_type": "text"
      },
      "source": [
        "<a href=\"https://colab.research.google.com/github/JakeOh/202105_itw_bd26/blob/main/lab_da/da16_datetime.ipynb\" target=\"_parent\"><img src=\"https://colab.research.google.com/assets/colab-badge.svg\" alt=\"Open In Colab\"/></a>"
      ]
    },
    {
      "cell_type": "markdown",
      "metadata": {
        "id": "zhjwR8lONdeA"
      },
      "source": [
        "\n",
        "* Python `datetime` 모듈\n",
        "    * `datetime` 클래스: 날짜(date), 시간(time)과 관련된 정보들을 저장, 표현할 수 있는 기능(메서드)들을 가지고 있는 데이터 타입.\n",
        "    * https://docs.python.org/3/library/datetime.html 참고\n"
      ]
    },
    {
      "cell_type": "code",
      "metadata": {
        "id": "h3W0cNwoNJby"
      },
      "source": [
        "import datetime  # datetime 모듈을 import"
      ],
      "execution_count": 1,
      "outputs": []
    },
    {
      "cell_type": "code",
      "metadata": {
        "colab": {
          "base_uri": "https://localhost:8080/"
        },
        "id": "qQWar0ulOtz4",
        "outputId": "8e43880d-8df6-4c75-ef0b-30c32a87f9b1"
      },
      "source": [
        "datetime.datetime.now()  #> Colab 가상 머신의 현재 시간을 리턴함.\n",
        "# datetime 모듈에 있는 datetime 클래스에 있는 now() 메서드 호출"
      ],
      "execution_count": 2,
      "outputs": [
        {
          "output_type": "execute_result",
          "data": {
            "text/plain": [
              "datetime.datetime(2021, 8, 19, 0, 42, 42, 426655)"
            ]
          },
          "metadata": {},
          "execution_count": 2
        }
      ]
    },
    {
      "cell_type": "code",
      "metadata": {
        "id": "TmlUliDfPOu4"
      },
      "source": [
        "from datetime import datetime  # datetime 모듈에서 datetime 클래스를 import"
      ],
      "execution_count": 3,
      "outputs": []
    },
    {
      "cell_type": "code",
      "metadata": {
        "colab": {
          "base_uri": "https://localhost:8080/"
        },
        "id": "t9cU8zzGQS4x",
        "outputId": "c85a7a1b-bebc-4b22-cbab-a15b2fe2bb3d"
      },
      "source": [
        "datetime.now()\n",
        "# datetime 클래스의 now() 메서드 호출"
      ],
      "execution_count": 4,
      "outputs": [
        {
          "output_type": "execute_result",
          "data": {
            "text/plain": [
              "datetime.datetime(2021, 8, 19, 0, 42, 42, 455469)"
            ]
          },
          "metadata": {},
          "execution_count": 4
        }
      ]
    },
    {
      "cell_type": "markdown",
      "metadata": {
        "id": "T1fSheN0Q8Qw"
      },
      "source": [
        "\n",
        "* `datetime` 클래스의 메서드\n"
      ]
    },
    {
      "cell_type": "code",
      "metadata": {
        "id": "2k8IU8XJQcnQ"
      },
      "source": [
        "# datetime.now(): 코드가 실행되는 컴퓨터 OS에서 설정된 시간대의 현재 시간을 리턴\n",
        "curr_dt = datetime.now()"
      ],
      "execution_count": 5,
      "outputs": []
    },
    {
      "cell_type": "code",
      "metadata": {
        "colab": {
          "base_uri": "https://localhost:8080/"
        },
        "id": "KYaoyqAwRk1B",
        "outputId": "77017bd7-6073-4d23-89e6-c90e466dd571"
      },
      "source": [
        "curr_dt  # expression을 출력"
      ],
      "execution_count": 6,
      "outputs": [
        {
          "output_type": "execute_result",
          "data": {
            "text/plain": [
              "datetime.datetime(2021, 8, 19, 0, 42, 42, 471568)"
            ]
          },
          "metadata": {},
          "execution_count": 6
        }
      ]
    },
    {
      "cell_type": "code",
      "metadata": {
        "colab": {
          "base_uri": "https://localhost:8080/"
        },
        "id": "4inYFK6VRm4A",
        "outputId": "4caebe07-8764-4bf9-9b0b-42d031806c80"
      },
      "source": [
        "print(curr_dt)  # statement"
      ],
      "execution_count": 7,
      "outputs": [
        {
          "output_type": "stream",
          "text": [
            "2021-08-19 00:42:42.471568\n"
          ],
          "name": "stdout"
        }
      ]
    },
    {
      "cell_type": "markdown",
      "metadata": {
        "id": "mY-alPHmSL-H"
      },
      "source": [
        "\n",
        "* UTC(Coordinates Universal Timezone): 그리니치 천문대 기준 시간\n",
        "* KST(Korean Standard Timezone): 한국표준시. UTC+09:00\n"
      ]
    },
    {
      "cell_type": "code",
      "metadata": {
        "colab": {
          "base_uri": "https://localhost:8080/"
        },
        "id": "xT2UNdkLT8pR",
        "outputId": "506ff1b1-71b5-4ec5-af70-0543be9e2a0c"
      },
      "source": [
        "# datetime.datetime 클래스의 속성들: year, month, day, hour, minute, second\n",
        "print(type(curr_dt))\n",
        "print(curr_dt.year)\n",
        "print(curr_dt.month)\n",
        "print(curr_dt.day)\n",
        "print(f'{curr_dt.hour}:{curr_dt.minute}:{curr_dt.second}')"
      ],
      "execution_count": 8,
      "outputs": [
        {
          "output_type": "stream",
          "text": [
            "<class 'datetime.datetime'>\n",
            "2021\n",
            "8\n",
            "19\n",
            "0:42:42\n"
          ],
          "name": "stdout"
        }
      ]
    },
    {
      "cell_type": "code",
      "metadata": {
        "colab": {
          "base_uri": "https://localhost:8080/"
        },
        "id": "ZyAkzWldVWZX",
        "outputId": "9a34cd89-dcaf-4e74-9547-91cb53fb6872"
      },
      "source": [
        "# datetime.datetime() 생성자 함수\n",
        "yesterday = datetime(2021, 8, 17)\n",
        "print(yesterday)"
      ],
      "execution_count": 9,
      "outputs": [
        {
          "output_type": "stream",
          "text": [
            "2021-08-17 00:00:00\n"
          ],
          "name": "stdout"
        }
      ]
    },
    {
      "cell_type": "code",
      "metadata": {
        "colab": {
          "base_uri": "https://localhost:8080/"
        },
        "id": "60lOpipwV_vQ",
        "outputId": "d89dff7c-9cb2-4c8f-e5b2-7b3ea9fd304e"
      },
      "source": [
        "tomorrow = datetime(2021, 8, 19, 17, 20)\n",
        "print(tomorrow)"
      ],
      "execution_count": 10,
      "outputs": [
        {
          "output_type": "stream",
          "text": [
            "2021-08-19 17:20:00\n"
          ],
          "name": "stdout"
        }
      ]
    },
    {
      "cell_type": "code",
      "metadata": {
        "colab": {
          "base_uri": "https://localhost:8080/"
        },
        "id": "L0F0ETgEWXPn",
        "outputId": "17726d25-8895-474d-c97a-5653df81483f"
      },
      "source": [
        "tomorrow - yesterday  # datetime 타입의 변수들의 뺄셈 결과는 timedelta 클래스 타입"
      ],
      "execution_count": 11,
      "outputs": [
        {
          "output_type": "execute_result",
          "data": {
            "text/plain": [
              "datetime.timedelta(days=2, seconds=62400)"
            ]
          },
          "metadata": {},
          "execution_count": 11
        }
      ]
    },
    {
      "cell_type": "markdown",
      "metadata": {
        "id": "71yUo5MRbKlI"
      },
      "source": [
        "\n",
        "* `datetime`(날짜/시간) 객체 <---> `str`(문자열) 객체\n",
        "    * `datetime.strftime(포맷문자열)`: `datetime` 객체를 포맷문자열 형식으로 formatting된 문자열로 변환해서 리턴.\n",
        "    * `datetime.strptime(문자열, 포맷문자열)`: 문자열(str)을 `datetime` 객체로 변환(parsing).\n",
        "\n",
        "* 날짜 포맷 문자열\n",
        "    * 연(year): `%Y`(4자리 연도), `%y`(2자리 연도)\n",
        "    * 월(month): `%m`(2자리 숫자), `%B`(월 이름), `%b`(월 이름 약자)\n",
        "    * 일(day): `%d`(2자리 숫자)\n",
        "    * 시(hour): `%H`(24시간 형식. 0 ~ 23), `%I`(12시간 형식. 1 ~ 12)\n",
        "    * 분(minute): `%M`(2자리 숫자. 00 ~ 59)\n",
        "    * 초(second): `%S`(2자리 숫자. 00 ~ 59)\n"
      ]
    },
    {
      "cell_type": "code",
      "metadata": {
        "colab": {
          "base_uri": "https://localhost:8080/"
        },
        "id": "Iop2F9oOWhvA",
        "outputId": "6bf3c23e-50b9-4472-de2e-f17297511d60"
      },
      "source": [
        "curr_dt = datetime.now()\n",
        "print(curr_dt)"
      ],
      "execution_count": 12,
      "outputs": [
        {
          "output_type": "stream",
          "text": [
            "2021-08-19 00:42:42.581514\n"
          ],
          "name": "stdout"
        }
      ]
    },
    {
      "cell_type": "markdown",
      "metadata": {
        "id": "QlVn9LMYfxvg"
      },
      "source": [
        "`datetime` 객체 ---> `str`"
      ]
    },
    {
      "cell_type": "code",
      "metadata": {
        "colab": {
          "base_uri": "https://localhost:8080/",
          "height": 36
        },
        "id": "T6Dq8HGhd2-7",
        "outputId": "fa1cdb32-c236-450c-fc5d-1b1982a33edb"
      },
      "source": [
        "curr_dt.strftime('%Y/%m/%d')  #> argument로 전달된 포맷으로 formatting된 문자열을 리턴."
      ],
      "execution_count": 13,
      "outputs": [
        {
          "output_type": "execute_result",
          "data": {
            "application/vnd.google.colaboratory.intrinsic+json": {
              "type": "string"
            },
            "text/plain": [
              "'2021/08/19'"
            ]
          },
          "metadata": {},
          "execution_count": 13
        }
      ]
    },
    {
      "cell_type": "code",
      "metadata": {
        "colab": {
          "base_uri": "https://localhost:8080/",
          "height": 36
        },
        "id": "TeP6PE92eIhP",
        "outputId": "acd1a277-b0c9-438a-eb6b-5e645146384c"
      },
      "source": [
        "curr_dt.strftime('%b-%d-%y')"
      ],
      "execution_count": 14,
      "outputs": [
        {
          "output_type": "execute_result",
          "data": {
            "application/vnd.google.colaboratory.intrinsic+json": {
              "type": "string"
            },
            "text/plain": [
              "'Aug-19-21'"
            ]
          },
          "metadata": {},
          "execution_count": 14
        }
      ]
    },
    {
      "cell_type": "code",
      "metadata": {
        "colab": {
          "base_uri": "https://localhost:8080/",
          "height": 36
        },
        "id": "_FK_ZudzfPEv",
        "outputId": "51248e09-68ec-47ee-f40d-278581658bc1"
      },
      "source": [
        "curr_dt.strftime('%I:%M:%S %p')  # %p: AM/PM(오전/오후) 표시"
      ],
      "execution_count": 15,
      "outputs": [
        {
          "output_type": "execute_result",
          "data": {
            "application/vnd.google.colaboratory.intrinsic+json": {
              "type": "string"
            },
            "text/plain": [
              "'12:42:42 AM'"
            ]
          },
          "metadata": {},
          "execution_count": 15
        }
      ]
    },
    {
      "cell_type": "markdown",
      "metadata": {
        "id": "BXMInZrff57Y"
      },
      "source": [
        "`str` ---> `datetime` 객체"
      ]
    },
    {
      "cell_type": "code",
      "metadata": {
        "colab": {
          "base_uri": "https://localhost:8080/"
        },
        "id": "tx-G2D3Nf-go",
        "outputId": "832c402c-0db6-4a1d-9b15-b93aff13ea69"
      },
      "source": [
        "# datetime.strptime(string, format): format 형식의 문자열 string을 datetime 객체로 변환(parsing) 리턴.\n",
        "datetime.strptime('2021-08-18 18:04:30', '%Y-%m-%d %H:%M:%S')"
      ],
      "execution_count": 16,
      "outputs": [
        {
          "output_type": "execute_result",
          "data": {
            "text/plain": [
              "datetime.datetime(2021, 8, 18, 18, 4, 30)"
            ]
          },
          "metadata": {},
          "execution_count": 16
        }
      ]
    },
    {
      "cell_type": "code",
      "metadata": {
        "colab": {
          "base_uri": "https://localhost:8080/"
        },
        "id": "nIpaqXL9gnva",
        "outputId": "d98e19d8-f6c3-4ede-c628-5d7be9fd7b9b"
      },
      "source": [
        "datetime.strptime('08-18-21', '%m-%d-%y')"
      ],
      "execution_count": 17,
      "outputs": [
        {
          "output_type": "execute_result",
          "data": {
            "text/plain": [
              "datetime.datetime(2021, 8, 18, 0, 0)"
            ]
          },
          "metadata": {},
          "execution_count": 17
        }
      ]
    },
    {
      "cell_type": "code",
      "metadata": {
        "colab": {
          "base_uri": "https://localhost:8080/"
        },
        "id": "6B6o_FXUhYWH",
        "outputId": "ab62948d-dbe5-4aca-ce55-8759faa83863"
      },
      "source": [
        "datetime.strptime('18-08-21', '%y-%m-%d')  # 우리나라 방식(년-월-일)"
      ],
      "execution_count": 18,
      "outputs": [
        {
          "output_type": "execute_result",
          "data": {
            "text/plain": [
              "datetime.datetime(2018, 8, 21, 0, 0)"
            ]
          },
          "metadata": {},
          "execution_count": 18
        }
      ]
    },
    {
      "cell_type": "code",
      "metadata": {
        "colab": {
          "base_uri": "https://localhost:8080/"
        },
        "id": "MsB1jyCph0oP",
        "outputId": "1eaa4609-4886-4506-d689-c3655146dcc8"
      },
      "source": [
        "datetime.strptime('18-08-21', '%d-%m-%y')  # 영국 방식(일-월-년)"
      ],
      "execution_count": 19,
      "outputs": [
        {
          "output_type": "execute_result",
          "data": {
            "text/plain": [
              "datetime.datetime(2021, 8, 18, 0, 0)"
            ]
          },
          "metadata": {},
          "execution_count": 19
        }
      ]
    },
    {
      "cell_type": "markdown",
      "metadata": {
        "id": "clSMEeRp4UTe"
      },
      "source": [
        "* timestamp(UNIX time, POSIX time, epoch time, ...): 1970년 1월 1일 0시 0분 0초를 시작으로 해서 1초마다 1씩 증가하는 숫자.\n",
        "* `datetime.timestamp` 메서드: `datetime` 객체 ---> `timestamp`(숫자)\n",
        "* `datetime.fromtimestamp` 메서드: `timestamp`(숫자) ---> `datetime` 객체"
      ]
    },
    {
      "cell_type": "code",
      "metadata": {
        "colab": {
          "base_uri": "https://localhost:8080/"
        },
        "id": "GEa4JGsu5k60",
        "outputId": "386ed1dd-1fad-40ea-8d3a-680294cda06a"
      },
      "source": [
        "curr_dt = datetime.now()\n",
        "print(curr_dt)"
      ],
      "execution_count": 20,
      "outputs": [
        {
          "output_type": "stream",
          "text": [
            "2021-08-19 00:54:40.563941\n"
          ],
          "name": "stdout"
        }
      ]
    },
    {
      "cell_type": "code",
      "metadata": {
        "colab": {
          "base_uri": "https://localhost:8080/"
        },
        "id": "Hsd8ZDGV5yZk",
        "outputId": "1b134865-67d6-4f6d-b7c1-655304f07ba9"
      },
      "source": [
        "ts = curr_dt.timestamp()\n",
        "print(ts)\n",
        "print(type(ts))"
      ],
      "execution_count": 21,
      "outputs": [
        {
          "output_type": "stream",
          "text": [
            "1629334480.563941\n",
            "<class 'float'>\n"
          ],
          "name": "stdout"
        }
      ]
    },
    {
      "cell_type": "code",
      "metadata": {
        "colab": {
          "base_uri": "https://localhost:8080/"
        },
        "id": "zVLBdtzf6HrD",
        "outputId": "58aa5b08-60d7-44fa-ffee-62e51704e18c"
      },
      "source": [
        "dt = datetime.fromtimestamp(1629334480)\n",
        "print(dt)\n",
        "print(type(dt))"
      ],
      "execution_count": 22,
      "outputs": [
        {
          "output_type": "stream",
          "text": [
            "2021-08-19 00:54:40\n",
            "<class 'datetime.datetime'>\n"
          ],
          "name": "stdout"
        }
      ]
    },
    {
      "cell_type": "code",
      "metadata": {
        "id": "lduT5ipj7bX0"
      },
      "source": [
        "ratings_file = 'https://github.com/wesm/pydata-book/raw/2nd-edition/datasets/movielens/ratings.dat'"
      ],
      "execution_count": 23,
      "outputs": []
    },
    {
      "cell_type": "code",
      "metadata": {
        "id": "jvjS1Qu07eED"
      },
      "source": [
        "import pandas as pd"
      ],
      "execution_count": 24,
      "outputs": []
    },
    {
      "cell_type": "code",
      "metadata": {
        "id": "5Wh2CCF97grb"
      },
      "source": [
        "ratings = pd.read_csv(ratings_file, sep='::', engine='python',\n",
        "                      names=['user_id', 'movie_id', 'rating', 'ts'],\n",
        "                      nrows=10)  # 파일에서 10개 행만 읽음"
      ],
      "execution_count": 25,
      "outputs": []
    },
    {
      "cell_type": "code",
      "metadata": {
        "colab": {
          "base_uri": "https://localhost:8080/",
          "height": 363
        },
        "id": "lvSEccv68EMV",
        "outputId": "70104dc1-111c-4993-d304-663085425a24"
      },
      "source": [
        "ratings"
      ],
      "execution_count": 26,
      "outputs": [
        {
          "output_type": "execute_result",
          "data": {
            "text/html": [
              "<div>\n",
              "<style scoped>\n",
              "    .dataframe tbody tr th:only-of-type {\n",
              "        vertical-align: middle;\n",
              "    }\n",
              "\n",
              "    .dataframe tbody tr th {\n",
              "        vertical-align: top;\n",
              "    }\n",
              "\n",
              "    .dataframe thead th {\n",
              "        text-align: right;\n",
              "    }\n",
              "</style>\n",
              "<table border=\"1\" class=\"dataframe\">\n",
              "  <thead>\n",
              "    <tr style=\"text-align: right;\">\n",
              "      <th></th>\n",
              "      <th>user_id</th>\n",
              "      <th>movie_id</th>\n",
              "      <th>rating</th>\n",
              "      <th>ts</th>\n",
              "    </tr>\n",
              "  </thead>\n",
              "  <tbody>\n",
              "    <tr>\n",
              "      <th>0</th>\n",
              "      <td>1</td>\n",
              "      <td>1193</td>\n",
              "      <td>5</td>\n",
              "      <td>978300760</td>\n",
              "    </tr>\n",
              "    <tr>\n",
              "      <th>1</th>\n",
              "      <td>1</td>\n",
              "      <td>661</td>\n",
              "      <td>3</td>\n",
              "      <td>978302109</td>\n",
              "    </tr>\n",
              "    <tr>\n",
              "      <th>2</th>\n",
              "      <td>1</td>\n",
              "      <td>914</td>\n",
              "      <td>3</td>\n",
              "      <td>978301968</td>\n",
              "    </tr>\n",
              "    <tr>\n",
              "      <th>3</th>\n",
              "      <td>1</td>\n",
              "      <td>3408</td>\n",
              "      <td>4</td>\n",
              "      <td>978300275</td>\n",
              "    </tr>\n",
              "    <tr>\n",
              "      <th>4</th>\n",
              "      <td>1</td>\n",
              "      <td>2355</td>\n",
              "      <td>5</td>\n",
              "      <td>978824291</td>\n",
              "    </tr>\n",
              "    <tr>\n",
              "      <th>5</th>\n",
              "      <td>1</td>\n",
              "      <td>1197</td>\n",
              "      <td>3</td>\n",
              "      <td>978302268</td>\n",
              "    </tr>\n",
              "    <tr>\n",
              "      <th>6</th>\n",
              "      <td>1</td>\n",
              "      <td>1287</td>\n",
              "      <td>5</td>\n",
              "      <td>978302039</td>\n",
              "    </tr>\n",
              "    <tr>\n",
              "      <th>7</th>\n",
              "      <td>1</td>\n",
              "      <td>2804</td>\n",
              "      <td>5</td>\n",
              "      <td>978300719</td>\n",
              "    </tr>\n",
              "    <tr>\n",
              "      <th>8</th>\n",
              "      <td>1</td>\n",
              "      <td>594</td>\n",
              "      <td>4</td>\n",
              "      <td>978302268</td>\n",
              "    </tr>\n",
              "    <tr>\n",
              "      <th>9</th>\n",
              "      <td>1</td>\n",
              "      <td>919</td>\n",
              "      <td>4</td>\n",
              "      <td>978301368</td>\n",
              "    </tr>\n",
              "  </tbody>\n",
              "</table>\n",
              "</div>"
            ],
            "text/plain": [
              "   user_id  movie_id  rating         ts\n",
              "0        1      1193       5  978300760\n",
              "1        1       661       3  978302109\n",
              "2        1       914       3  978301968\n",
              "3        1      3408       4  978300275\n",
              "4        1      2355       5  978824291\n",
              "5        1      1197       3  978302268\n",
              "6        1      1287       5  978302039\n",
              "7        1      2804       5  978300719\n",
              "8        1       594       4  978302268\n",
              "9        1       919       4  978301368"
            ]
          },
          "metadata": {},
          "execution_count": 26
        }
      ]
    },
    {
      "cell_type": "code",
      "metadata": {
        "colab": {
          "base_uri": "https://localhost:8080/"
        },
        "id": "2Gw3UrjX8F47",
        "outputId": "18211812-11f6-4f4d-dcfd-2e08d4fc1d8d"
      },
      "source": [
        "dates = []  # ratings 데이터프레임의 ts 값(timestamp)을 datetime 객체로 변환한 값들을 저장하기 위한 리스트\n",
        "for ts in ratings['ts']:  # ts 컬럼의 값들을 처음부터 끝까지 반복하면서\n",
        "    dates.append(datetime.fromtimestamp(ts))  # 숫자를 datetime으로 변환 후 리스트에 추가\n",
        "\n",
        "print(dates)\n",
        "print(pd.Series(dates))\n",
        "\n",
        "# dates에 저장된 값들을 파생변수로 데이터프레임에 추가\n",
        "ratings['dt'] = pd.Series(dates)"
      ],
      "execution_count": 34,
      "outputs": [
        {
          "output_type": "stream",
          "text": [
            "[datetime.datetime(2000, 12, 31, 22, 12, 40), datetime.datetime(2000, 12, 31, 22, 35, 9), datetime.datetime(2000, 12, 31, 22, 32, 48), datetime.datetime(2000, 12, 31, 22, 4, 35), datetime.datetime(2001, 1, 6, 23, 38, 11), datetime.datetime(2000, 12, 31, 22, 37, 48), datetime.datetime(2000, 12, 31, 22, 33, 59), datetime.datetime(2000, 12, 31, 22, 11, 59), datetime.datetime(2000, 12, 31, 22, 37, 48), datetime.datetime(2000, 12, 31, 22, 22, 48)]\n",
            "0   2000-12-31 22:12:40\n",
            "1   2000-12-31 22:35:09\n",
            "2   2000-12-31 22:32:48\n",
            "3   2000-12-31 22:04:35\n",
            "4   2001-01-06 23:38:11\n",
            "5   2000-12-31 22:37:48\n",
            "6   2000-12-31 22:33:59\n",
            "7   2000-12-31 22:11:59\n",
            "8   2000-12-31 22:37:48\n",
            "9   2000-12-31 22:22:48\n",
            "dtype: datetime64[ns]\n"
          ],
          "name": "stdout"
        }
      ]
    },
    {
      "cell_type": "code",
      "metadata": {
        "colab": {
          "base_uri": "https://localhost:8080/",
          "height": 363
        },
        "id": "nWAF9cWh9k8M",
        "outputId": "42ae5601-1d4a-46e3-9cfe-c531d87a73a6"
      },
      "source": [
        "ratings"
      ],
      "execution_count": 32,
      "outputs": [
        {
          "output_type": "execute_result",
          "data": {
            "text/html": [
              "<div>\n",
              "<style scoped>\n",
              "    .dataframe tbody tr th:only-of-type {\n",
              "        vertical-align: middle;\n",
              "    }\n",
              "\n",
              "    .dataframe tbody tr th {\n",
              "        vertical-align: top;\n",
              "    }\n",
              "\n",
              "    .dataframe thead th {\n",
              "        text-align: right;\n",
              "    }\n",
              "</style>\n",
              "<table border=\"1\" class=\"dataframe\">\n",
              "  <thead>\n",
              "    <tr style=\"text-align: right;\">\n",
              "      <th></th>\n",
              "      <th>user_id</th>\n",
              "      <th>movie_id</th>\n",
              "      <th>rating</th>\n",
              "      <th>ts</th>\n",
              "      <th>dt</th>\n",
              "    </tr>\n",
              "  </thead>\n",
              "  <tbody>\n",
              "    <tr>\n",
              "      <th>0</th>\n",
              "      <td>1</td>\n",
              "      <td>1193</td>\n",
              "      <td>5</td>\n",
              "      <td>978300760</td>\n",
              "      <td>2000-12-31 22:12:40</td>\n",
              "    </tr>\n",
              "    <tr>\n",
              "      <th>1</th>\n",
              "      <td>1</td>\n",
              "      <td>661</td>\n",
              "      <td>3</td>\n",
              "      <td>978302109</td>\n",
              "      <td>2000-12-31 22:35:09</td>\n",
              "    </tr>\n",
              "    <tr>\n",
              "      <th>2</th>\n",
              "      <td>1</td>\n",
              "      <td>914</td>\n",
              "      <td>3</td>\n",
              "      <td>978301968</td>\n",
              "      <td>2000-12-31 22:32:48</td>\n",
              "    </tr>\n",
              "    <tr>\n",
              "      <th>3</th>\n",
              "      <td>1</td>\n",
              "      <td>3408</td>\n",
              "      <td>4</td>\n",
              "      <td>978300275</td>\n",
              "      <td>2000-12-31 22:04:35</td>\n",
              "    </tr>\n",
              "    <tr>\n",
              "      <th>4</th>\n",
              "      <td>1</td>\n",
              "      <td>2355</td>\n",
              "      <td>5</td>\n",
              "      <td>978824291</td>\n",
              "      <td>2001-01-06 23:38:11</td>\n",
              "    </tr>\n",
              "    <tr>\n",
              "      <th>5</th>\n",
              "      <td>1</td>\n",
              "      <td>1197</td>\n",
              "      <td>3</td>\n",
              "      <td>978302268</td>\n",
              "      <td>2000-12-31 22:37:48</td>\n",
              "    </tr>\n",
              "    <tr>\n",
              "      <th>6</th>\n",
              "      <td>1</td>\n",
              "      <td>1287</td>\n",
              "      <td>5</td>\n",
              "      <td>978302039</td>\n",
              "      <td>2000-12-31 22:33:59</td>\n",
              "    </tr>\n",
              "    <tr>\n",
              "      <th>7</th>\n",
              "      <td>1</td>\n",
              "      <td>2804</td>\n",
              "      <td>5</td>\n",
              "      <td>978300719</td>\n",
              "      <td>2000-12-31 22:11:59</td>\n",
              "    </tr>\n",
              "    <tr>\n",
              "      <th>8</th>\n",
              "      <td>1</td>\n",
              "      <td>594</td>\n",
              "      <td>4</td>\n",
              "      <td>978302268</td>\n",
              "      <td>2000-12-31 22:37:48</td>\n",
              "    </tr>\n",
              "    <tr>\n",
              "      <th>9</th>\n",
              "      <td>1</td>\n",
              "      <td>919</td>\n",
              "      <td>4</td>\n",
              "      <td>978301368</td>\n",
              "      <td>2000-12-31 22:22:48</td>\n",
              "    </tr>\n",
              "  </tbody>\n",
              "</table>\n",
              "</div>"
            ],
            "text/plain": [
              "   user_id  movie_id  rating         ts                  dt\n",
              "0        1      1193       5  978300760 2000-12-31 22:12:40\n",
              "1        1       661       3  978302109 2000-12-31 22:35:09\n",
              "2        1       914       3  978301968 2000-12-31 22:32:48\n",
              "3        1      3408       4  978300275 2000-12-31 22:04:35\n",
              "4        1      2355       5  978824291 2001-01-06 23:38:11\n",
              "5        1      1197       3  978302268 2000-12-31 22:37:48\n",
              "6        1      1287       5  978302039 2000-12-31 22:33:59\n",
              "7        1      2804       5  978300719 2000-12-31 22:11:59\n",
              "8        1       594       4  978302268 2000-12-31 22:37:48\n",
              "9        1       919       4  978301368 2000-12-31 22:22:48"
            ]
          },
          "metadata": {},
          "execution_count": 32
        }
      ]
    },
    {
      "cell_type": "code",
      "metadata": {
        "colab": {
          "base_uri": "https://localhost:8080/",
          "height": 363
        },
        "id": "kwVeBOSi9lu6",
        "outputId": "b9460c73-0a1f-4e8c-9490-87bff2f29a57"
      },
      "source": [
        "# pd.to_datetime() 함수: 문자열 Series 또는 숫자 Series를 datetime Series로 변환\n",
        "ratings['dt2'] = pd.to_datetime(ratings['ts'], unit='s')\n",
        "#> unit: timestamp(숫자)가 저장하고 있는 시간의 단위\n",
        "# s: 초(second), ms: milli-second, us: micro-second, ns: nano-second\n",
        "ratings"
      ],
      "execution_count": 35,
      "outputs": [
        {
          "output_type": "execute_result",
          "data": {
            "text/html": [
              "<div>\n",
              "<style scoped>\n",
              "    .dataframe tbody tr th:only-of-type {\n",
              "        vertical-align: middle;\n",
              "    }\n",
              "\n",
              "    .dataframe tbody tr th {\n",
              "        vertical-align: top;\n",
              "    }\n",
              "\n",
              "    .dataframe thead th {\n",
              "        text-align: right;\n",
              "    }\n",
              "</style>\n",
              "<table border=\"1\" class=\"dataframe\">\n",
              "  <thead>\n",
              "    <tr style=\"text-align: right;\">\n",
              "      <th></th>\n",
              "      <th>user_id</th>\n",
              "      <th>movie_id</th>\n",
              "      <th>rating</th>\n",
              "      <th>ts</th>\n",
              "      <th>dt</th>\n",
              "      <th>dt2</th>\n",
              "    </tr>\n",
              "  </thead>\n",
              "  <tbody>\n",
              "    <tr>\n",
              "      <th>0</th>\n",
              "      <td>1</td>\n",
              "      <td>1193</td>\n",
              "      <td>5</td>\n",
              "      <td>978300760</td>\n",
              "      <td>2000-12-31 22:12:40</td>\n",
              "      <td>2000-12-31 22:12:40</td>\n",
              "    </tr>\n",
              "    <tr>\n",
              "      <th>1</th>\n",
              "      <td>1</td>\n",
              "      <td>661</td>\n",
              "      <td>3</td>\n",
              "      <td>978302109</td>\n",
              "      <td>2000-12-31 22:35:09</td>\n",
              "      <td>2000-12-31 22:35:09</td>\n",
              "    </tr>\n",
              "    <tr>\n",
              "      <th>2</th>\n",
              "      <td>1</td>\n",
              "      <td>914</td>\n",
              "      <td>3</td>\n",
              "      <td>978301968</td>\n",
              "      <td>2000-12-31 22:32:48</td>\n",
              "      <td>2000-12-31 22:32:48</td>\n",
              "    </tr>\n",
              "    <tr>\n",
              "      <th>3</th>\n",
              "      <td>1</td>\n",
              "      <td>3408</td>\n",
              "      <td>4</td>\n",
              "      <td>978300275</td>\n",
              "      <td>2000-12-31 22:04:35</td>\n",
              "      <td>2000-12-31 22:04:35</td>\n",
              "    </tr>\n",
              "    <tr>\n",
              "      <th>4</th>\n",
              "      <td>1</td>\n",
              "      <td>2355</td>\n",
              "      <td>5</td>\n",
              "      <td>978824291</td>\n",
              "      <td>2001-01-06 23:38:11</td>\n",
              "      <td>2001-01-06 23:38:11</td>\n",
              "    </tr>\n",
              "    <tr>\n",
              "      <th>5</th>\n",
              "      <td>1</td>\n",
              "      <td>1197</td>\n",
              "      <td>3</td>\n",
              "      <td>978302268</td>\n",
              "      <td>2000-12-31 22:37:48</td>\n",
              "      <td>2000-12-31 22:37:48</td>\n",
              "    </tr>\n",
              "    <tr>\n",
              "      <th>6</th>\n",
              "      <td>1</td>\n",
              "      <td>1287</td>\n",
              "      <td>5</td>\n",
              "      <td>978302039</td>\n",
              "      <td>2000-12-31 22:33:59</td>\n",
              "      <td>2000-12-31 22:33:59</td>\n",
              "    </tr>\n",
              "    <tr>\n",
              "      <th>7</th>\n",
              "      <td>1</td>\n",
              "      <td>2804</td>\n",
              "      <td>5</td>\n",
              "      <td>978300719</td>\n",
              "      <td>2000-12-31 22:11:59</td>\n",
              "      <td>2000-12-31 22:11:59</td>\n",
              "    </tr>\n",
              "    <tr>\n",
              "      <th>8</th>\n",
              "      <td>1</td>\n",
              "      <td>594</td>\n",
              "      <td>4</td>\n",
              "      <td>978302268</td>\n",
              "      <td>2000-12-31 22:37:48</td>\n",
              "      <td>2000-12-31 22:37:48</td>\n",
              "    </tr>\n",
              "    <tr>\n",
              "      <th>9</th>\n",
              "      <td>1</td>\n",
              "      <td>919</td>\n",
              "      <td>4</td>\n",
              "      <td>978301368</td>\n",
              "      <td>2000-12-31 22:22:48</td>\n",
              "      <td>2000-12-31 22:22:48</td>\n",
              "    </tr>\n",
              "  </tbody>\n",
              "</table>\n",
              "</div>"
            ],
            "text/plain": [
              "   user_id  movie_id  rating         ts                  dt                 dt2\n",
              "0        1      1193       5  978300760 2000-12-31 22:12:40 2000-12-31 22:12:40\n",
              "1        1       661       3  978302109 2000-12-31 22:35:09 2000-12-31 22:35:09\n",
              "2        1       914       3  978301968 2000-12-31 22:32:48 2000-12-31 22:32:48\n",
              "3        1      3408       4  978300275 2000-12-31 22:04:35 2000-12-31 22:04:35\n",
              "4        1      2355       5  978824291 2001-01-06 23:38:11 2001-01-06 23:38:11\n",
              "5        1      1197       3  978302268 2000-12-31 22:37:48 2000-12-31 22:37:48\n",
              "6        1      1287       5  978302039 2000-12-31 22:33:59 2000-12-31 22:33:59\n",
              "7        1      2804       5  978300719 2000-12-31 22:11:59 2000-12-31 22:11:59\n",
              "8        1       594       4  978302268 2000-12-31 22:37:48 2000-12-31 22:37:48\n",
              "9        1       919       4  978301368 2000-12-31 22:22:48 2000-12-31 22:22:48"
            ]
          },
          "metadata": {},
          "execution_count": 35
        }
      ]
    },
    {
      "cell_type": "code",
      "metadata": {
        "id": "ieqVgiaiAhSr"
      },
      "source": [
        ""
      ],
      "execution_count": null,
      "outputs": []
    }
  ]
}
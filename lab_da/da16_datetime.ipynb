{
  "nbformat": 4,
  "nbformat_minor": 0,
  "metadata": {
    "colab": {
      "name": "da16_datetime.ipynb",
      "provenance": [],
      "collapsed_sections": [],
      "authorship_tag": "ABX9TyO3i5Q1Yf4nkWIl4X8oyuY4",
      "include_colab_link": true
    },
    "kernelspec": {
      "name": "python3",
      "display_name": "Python 3"
    },
    "language_info": {
      "name": "python"
    }
  },
  "cells": [
    {
      "cell_type": "markdown",
      "metadata": {
        "id": "view-in-github",
        "colab_type": "text"
      },
      "source": [
        "<a href=\"https://colab.research.google.com/github/JakeOh/202105_itw_bd26/blob/main/lab_da/da16_datetime.ipynb\" target=\"_parent\"><img src=\"https://colab.research.google.com/assets/colab-badge.svg\" alt=\"Open In Colab\"/></a>"
      ]
    },
    {
      "cell_type": "markdown",
      "metadata": {
        "id": "zhjwR8lONdeA"
      },
      "source": [
        "# Python `datetime` 모듈\n",
        "\n",
        "* `datetime` 클래스: 날짜(date), 시간(time)과 관련된 정보들을 저장, 표현할 수 있는 기능(메서드)들을 가지고 있는 데이터 타입.\n",
        "* https://docs.python.org/3/library/datetime.html 참고\n"
      ]
    },
    {
      "cell_type": "code",
      "metadata": {
        "id": "h3W0cNwoNJby"
      },
      "source": [
        "import datetime  # datetime 모듈을 import"
      ],
      "execution_count": 1,
      "outputs": []
    },
    {
      "cell_type": "code",
      "metadata": {
        "colab": {
          "base_uri": "https://localhost:8080/"
        },
        "id": "qQWar0ulOtz4",
        "outputId": "8e43880d-8df6-4c75-ef0b-30c32a87f9b1"
      },
      "source": [
        "datetime.datetime.now()  #> Colab 가상 머신의 현재 시간을 리턴함.\n",
        "# datetime 모듈에 있는 datetime 클래스에 있는 now() 메서드 호출"
      ],
      "execution_count": 2,
      "outputs": [
        {
          "output_type": "execute_result",
          "data": {
            "text/plain": [
              "datetime.datetime(2021, 8, 19, 0, 42, 42, 426655)"
            ]
          },
          "metadata": {},
          "execution_count": 2
        }
      ]
    },
    {
      "cell_type": "code",
      "metadata": {
        "id": "TmlUliDfPOu4"
      },
      "source": [
        "from datetime import datetime  # datetime 모듈에서 datetime 클래스를 import"
      ],
      "execution_count": 3,
      "outputs": []
    },
    {
      "cell_type": "code",
      "metadata": {
        "colab": {
          "base_uri": "https://localhost:8080/"
        },
        "id": "t9cU8zzGQS4x",
        "outputId": "c85a7a1b-bebc-4b22-cbab-a15b2fe2bb3d"
      },
      "source": [
        "datetime.now()\n",
        "# datetime 클래스의 now() 메서드 호출"
      ],
      "execution_count": 4,
      "outputs": [
        {
          "output_type": "execute_result",
          "data": {
            "text/plain": [
              "datetime.datetime(2021, 8, 19, 0, 42, 42, 455469)"
            ]
          },
          "metadata": {},
          "execution_count": 4
        }
      ]
    },
    {
      "cell_type": "markdown",
      "metadata": {
        "id": "T1fSheN0Q8Qw"
      },
      "source": [
        "\n",
        "* `datetime` 클래스의 메서드\n"
      ]
    },
    {
      "cell_type": "code",
      "metadata": {
        "id": "2k8IU8XJQcnQ"
      },
      "source": [
        "# datetime.now(): 코드가 실행되는 컴퓨터 OS에서 설정된 시간대의 현재 시간을 리턴\n",
        "curr_dt = datetime.now()"
      ],
      "execution_count": 5,
      "outputs": []
    },
    {
      "cell_type": "code",
      "metadata": {
        "colab": {
          "base_uri": "https://localhost:8080/"
        },
        "id": "KYaoyqAwRk1B",
        "outputId": "77017bd7-6073-4d23-89e6-c90e466dd571"
      },
      "source": [
        "curr_dt  # expression을 출력"
      ],
      "execution_count": 6,
      "outputs": [
        {
          "output_type": "execute_result",
          "data": {
            "text/plain": [
              "datetime.datetime(2021, 8, 19, 0, 42, 42, 471568)"
            ]
          },
          "metadata": {},
          "execution_count": 6
        }
      ]
    },
    {
      "cell_type": "code",
      "metadata": {
        "colab": {
          "base_uri": "https://localhost:8080/"
        },
        "id": "4inYFK6VRm4A",
        "outputId": "4caebe07-8764-4bf9-9b0b-42d031806c80"
      },
      "source": [
        "print(curr_dt)  # statement"
      ],
      "execution_count": 7,
      "outputs": [
        {
          "output_type": "stream",
          "text": [
            "2021-08-19 00:42:42.471568\n"
          ],
          "name": "stdout"
        }
      ]
    },
    {
      "cell_type": "markdown",
      "metadata": {
        "id": "mY-alPHmSL-H"
      },
      "source": [
        "\n",
        "* UTC(Coordinates Universal Timezone): 그리니치 천문대 기준 시간\n",
        "* KST(Korean Standard Timezone): 한국표준시. UTC+09:00\n"
      ]
    },
    {
      "cell_type": "code",
      "metadata": {
        "colab": {
          "base_uri": "https://localhost:8080/"
        },
        "id": "xT2UNdkLT8pR",
        "outputId": "506ff1b1-71b5-4ec5-af70-0543be9e2a0c"
      },
      "source": [
        "# datetime.datetime 클래스의 속성들: year, month, day, hour, minute, second, ...\n",
        "print(type(curr_dt))\n",
        "print(curr_dt.year)\n",
        "print(curr_dt.month)\n",
        "print(curr_dt.day)\n",
        "print(f'{curr_dt.hour}:{curr_dt.minute}:{curr_dt.second}')"
      ],
      "execution_count": 8,
      "outputs": [
        {
          "output_type": "stream",
          "text": [
            "<class 'datetime.datetime'>\n",
            "2021\n",
            "8\n",
            "19\n",
            "0:42:42\n"
          ],
          "name": "stdout"
        }
      ]
    },
    {
      "cell_type": "code",
      "metadata": {
        "colab": {
          "base_uri": "https://localhost:8080/"
        },
        "id": "ZyAkzWldVWZX",
        "outputId": "9a34cd89-dcaf-4e74-9547-91cb53fb6872"
      },
      "source": [
        "# datetime.datetime() 생성자 함수\n",
        "yesterday = datetime(2021, 8, 17)\n",
        "print(yesterday)"
      ],
      "execution_count": 9,
      "outputs": [
        {
          "output_type": "stream",
          "text": [
            "2021-08-17 00:00:00\n"
          ],
          "name": "stdout"
        }
      ]
    },
    {
      "cell_type": "code",
      "metadata": {
        "colab": {
          "base_uri": "https://localhost:8080/"
        },
        "id": "60lOpipwV_vQ",
        "outputId": "d89dff7c-9cb2-4c8f-e5b2-7b3ea9fd304e"
      },
      "source": [
        "tomorrow = datetime(2021, 8, 19, 17, 20)\n",
        "print(tomorrow)"
      ],
      "execution_count": 10,
      "outputs": [
        {
          "output_type": "stream",
          "text": [
            "2021-08-19 17:20:00\n"
          ],
          "name": "stdout"
        }
      ]
    },
    {
      "cell_type": "code",
      "metadata": {
        "colab": {
          "base_uri": "https://localhost:8080/"
        },
        "id": "L0F0ETgEWXPn",
        "outputId": "17726d25-8895-474d-c97a-5653df81483f"
      },
      "source": [
        "tomorrow - yesterday  # datetime 타입의 변수들의 뺄셈 결과는 timedelta 클래스 타입"
      ],
      "execution_count": 11,
      "outputs": [
        {
          "output_type": "execute_result",
          "data": {
            "text/plain": [
              "datetime.timedelta(days=2, seconds=62400)"
            ]
          },
          "metadata": {},
          "execution_count": 11
        }
      ]
    },
    {
      "cell_type": "markdown",
      "metadata": {
        "id": "71yUo5MRbKlI"
      },
      "source": [
        "\n",
        "* `datetime`(날짜/시간) 객체 <---> `str`(문자열) 객체\n",
        "    * `datetime.strftime(포맷문자열)`: `datetime` 객체를 포맷문자열 형식으로 formatting된 문자열로 변환해서 리턴.\n",
        "    * `datetime.strptime(문자열, 포맷문자열)`: 문자열(str)을 `datetime` 객체로 변환(parsing).\n",
        "\n",
        "* 날짜 포맷 문자열\n",
        "    * 연(year): `%Y`(4자리 연도), `%y`(2자리 연도)\n",
        "    * 월(month): `%m`(2자리 숫자), `%B`(월 이름), `%b`(월 이름 약자)\n",
        "    * 일(day): `%d`(2자리 숫자)\n",
        "    * 시(hour): `%H`(24시간 형식. 0 ~ 23), `%I`(12시간 형식. 1 ~ 12)\n",
        "    * 분(minute): `%M`(2자리 숫자. 00 ~ 59)\n",
        "    * 초(second): `%S`(2자리 숫자. 00 ~ 59)\n"
      ]
    },
    {
      "cell_type": "code",
      "metadata": {
        "colab": {
          "base_uri": "https://localhost:8080/"
        },
        "id": "Iop2F9oOWhvA",
        "outputId": "6bf3c23e-50b9-4472-de2e-f17297511d60"
      },
      "source": [
        "curr_dt = datetime.now()\n",
        "print(curr_dt)"
      ],
      "execution_count": 12,
      "outputs": [
        {
          "output_type": "stream",
          "text": [
            "2021-08-19 00:42:42.581514\n"
          ],
          "name": "stdout"
        }
      ]
    },
    {
      "cell_type": "markdown",
      "metadata": {
        "id": "QlVn9LMYfxvg"
      },
      "source": [
        "`datetime` 객체 ---> `str`"
      ]
    },
    {
      "cell_type": "code",
      "metadata": {
        "colab": {
          "base_uri": "https://localhost:8080/",
          "height": 36
        },
        "id": "T6Dq8HGhd2-7",
        "outputId": "fa1cdb32-c236-450c-fc5d-1b1982a33edb"
      },
      "source": [
        "curr_dt.strftime('%Y/%m/%d')  #> argument로 전달된 포맷으로 formatting된 문자열을 리턴."
      ],
      "execution_count": 13,
      "outputs": [
        {
          "output_type": "execute_result",
          "data": {
            "application/vnd.google.colaboratory.intrinsic+json": {
              "type": "string"
            },
            "text/plain": [
              "'2021/08/19'"
            ]
          },
          "metadata": {},
          "execution_count": 13
        }
      ]
    },
    {
      "cell_type": "code",
      "metadata": {
        "colab": {
          "base_uri": "https://localhost:8080/",
          "height": 36
        },
        "id": "TeP6PE92eIhP",
        "outputId": "acd1a277-b0c9-438a-eb6b-5e645146384c"
      },
      "source": [
        "curr_dt.strftime('%b-%d-%y')"
      ],
      "execution_count": 14,
      "outputs": [
        {
          "output_type": "execute_result",
          "data": {
            "application/vnd.google.colaboratory.intrinsic+json": {
              "type": "string"
            },
            "text/plain": [
              "'Aug-19-21'"
            ]
          },
          "metadata": {},
          "execution_count": 14
        }
      ]
    },
    {
      "cell_type": "code",
      "metadata": {
        "colab": {
          "base_uri": "https://localhost:8080/",
          "height": 36
        },
        "id": "_FK_ZudzfPEv",
        "outputId": "51248e09-68ec-47ee-f40d-278581658bc1"
      },
      "source": [
        "curr_dt.strftime('%I:%M:%S %p')  # %p: AM/PM(오전/오후) 표시"
      ],
      "execution_count": 15,
      "outputs": [
        {
          "output_type": "execute_result",
          "data": {
            "application/vnd.google.colaboratory.intrinsic+json": {
              "type": "string"
            },
            "text/plain": [
              "'12:42:42 AM'"
            ]
          },
          "metadata": {},
          "execution_count": 15
        }
      ]
    },
    {
      "cell_type": "markdown",
      "metadata": {
        "id": "BXMInZrff57Y"
      },
      "source": [
        "`str` ---> `datetime` 객체"
      ]
    },
    {
      "cell_type": "code",
      "metadata": {
        "colab": {
          "base_uri": "https://localhost:8080/"
        },
        "id": "tx-G2D3Nf-go",
        "outputId": "832c402c-0db6-4a1d-9b15-b93aff13ea69"
      },
      "source": [
        "# datetime.strptime(string, format): format 형식의 문자열 string을 datetime 객체로 변환(parsing) 리턴.\n",
        "datetime.strptime('2021-08-18 18:04:30', '%Y-%m-%d %H:%M:%S')"
      ],
      "execution_count": 16,
      "outputs": [
        {
          "output_type": "execute_result",
          "data": {
            "text/plain": [
              "datetime.datetime(2021, 8, 18, 18, 4, 30)"
            ]
          },
          "metadata": {},
          "execution_count": 16
        }
      ]
    },
    {
      "cell_type": "code",
      "metadata": {
        "colab": {
          "base_uri": "https://localhost:8080/"
        },
        "id": "nIpaqXL9gnva",
        "outputId": "d98e19d8-f6c3-4ede-c628-5d7be9fd7b9b"
      },
      "source": [
        "datetime.strptime('08-18-21', '%m-%d-%y')"
      ],
      "execution_count": 17,
      "outputs": [
        {
          "output_type": "execute_result",
          "data": {
            "text/plain": [
              "datetime.datetime(2021, 8, 18, 0, 0)"
            ]
          },
          "metadata": {},
          "execution_count": 17
        }
      ]
    },
    {
      "cell_type": "code",
      "metadata": {
        "colab": {
          "base_uri": "https://localhost:8080/"
        },
        "id": "6B6o_FXUhYWH",
        "outputId": "ab62948d-dbe5-4aca-ce55-8759faa83863"
      },
      "source": [
        "datetime.strptime('18-08-21', '%y-%m-%d')  # 우리나라 방식(년-월-일)"
      ],
      "execution_count": 18,
      "outputs": [
        {
          "output_type": "execute_result",
          "data": {
            "text/plain": [
              "datetime.datetime(2018, 8, 21, 0, 0)"
            ]
          },
          "metadata": {},
          "execution_count": 18
        }
      ]
    },
    {
      "cell_type": "code",
      "metadata": {
        "colab": {
          "base_uri": "https://localhost:8080/"
        },
        "id": "MsB1jyCph0oP",
        "outputId": "1eaa4609-4886-4506-d689-c3655146dcc8"
      },
      "source": [
        "datetime.strptime('18-08-21', '%d-%m-%y')  # 영국 방식(일-월-년)"
      ],
      "execution_count": 19,
      "outputs": [
        {
          "output_type": "execute_result",
          "data": {
            "text/plain": [
              "datetime.datetime(2021, 8, 18, 0, 0)"
            ]
          },
          "metadata": {},
          "execution_count": 19
        }
      ]
    },
    {
      "cell_type": "markdown",
      "metadata": {
        "id": "clSMEeRp4UTe"
      },
      "source": [
        "* timestamp(UNIX time, POSIX time, epoch time, ...): 1970년 1월 1일 0시 0분 0초를 시작으로 해서 1초마다 1씩 증가하는 숫자.\n",
        "* `datetime.timestamp` 메서드: `datetime` 객체 ---> `timestamp`(숫자)\n",
        "* `datetime.fromtimestamp` 메서드: `timestamp`(숫자) ---> `datetime` 객체"
      ]
    },
    {
      "cell_type": "code",
      "metadata": {
        "colab": {
          "base_uri": "https://localhost:8080/"
        },
        "id": "GEa4JGsu5k60",
        "outputId": "386ed1dd-1fad-40ea-8d3a-680294cda06a"
      },
      "source": [
        "curr_dt = datetime.now()\n",
        "print(curr_dt)"
      ],
      "execution_count": 20,
      "outputs": [
        {
          "output_type": "stream",
          "text": [
            "2021-08-19 00:54:40.563941\n"
          ],
          "name": "stdout"
        }
      ]
    },
    {
      "cell_type": "code",
      "metadata": {
        "colab": {
          "base_uri": "https://localhost:8080/"
        },
        "id": "Hsd8ZDGV5yZk",
        "outputId": "1b134865-67d6-4f6d-b7c1-655304f07ba9"
      },
      "source": [
        "ts = curr_dt.timestamp()\n",
        "print(ts)\n",
        "print(type(ts))"
      ],
      "execution_count": 21,
      "outputs": [
        {
          "output_type": "stream",
          "text": [
            "1629334480.563941\n",
            "<class 'float'>\n"
          ],
          "name": "stdout"
        }
      ]
    },
    {
      "cell_type": "code",
      "metadata": {
        "colab": {
          "base_uri": "https://localhost:8080/"
        },
        "id": "zVLBdtzf6HrD",
        "outputId": "58aa5b08-60d7-44fa-ffee-62e51704e18c"
      },
      "source": [
        "dt = datetime.fromtimestamp(1629334480)\n",
        "print(dt)\n",
        "print(type(dt))"
      ],
      "execution_count": 22,
      "outputs": [
        {
          "output_type": "stream",
          "text": [
            "2021-08-19 00:54:40\n",
            "<class 'datetime.datetime'>\n"
          ],
          "name": "stdout"
        }
      ]
    },
    {
      "cell_type": "markdown",
      "metadata": {
        "id": "GSZAgnPX3ApW"
      },
      "source": [
        "# pandas.to_datetime"
      ]
    },
    {
      "cell_type": "markdown",
      "metadata": {
        "id": "RC8Wa5UC3KF5"
      },
      "source": [
        "## movies 데이터프레임"
      ]
    },
    {
      "cell_type": "code",
      "metadata": {
        "id": "lduT5ipj7bX0"
      },
      "source": [
        "ratings_file = 'https://github.com/wesm/pydata-book/raw/2nd-edition/datasets/movielens/ratings.dat'"
      ],
      "execution_count": 23,
      "outputs": []
    },
    {
      "cell_type": "code",
      "metadata": {
        "id": "jvjS1Qu07eED"
      },
      "source": [
        "import pandas as pd"
      ],
      "execution_count": 24,
      "outputs": []
    },
    {
      "cell_type": "code",
      "metadata": {
        "id": "5Wh2CCF97grb"
      },
      "source": [
        "ratings = pd.read_csv(ratings_file, sep='::', engine='python',\n",
        "                      names=['user_id', 'movie_id', 'rating', 'ts'],\n",
        "                      nrows=10)  # 파일에서 10개 행만 읽음"
      ],
      "execution_count": 25,
      "outputs": []
    },
    {
      "cell_type": "code",
      "metadata": {
        "colab": {
          "base_uri": "https://localhost:8080/",
          "height": 363
        },
        "id": "lvSEccv68EMV",
        "outputId": "70104dc1-111c-4993-d304-663085425a24"
      },
      "source": [
        "ratings"
      ],
      "execution_count": 26,
      "outputs": [
        {
          "output_type": "execute_result",
          "data": {
            "text/html": [
              "<div>\n",
              "<style scoped>\n",
              "    .dataframe tbody tr th:only-of-type {\n",
              "        vertical-align: middle;\n",
              "    }\n",
              "\n",
              "    .dataframe tbody tr th {\n",
              "        vertical-align: top;\n",
              "    }\n",
              "\n",
              "    .dataframe thead th {\n",
              "        text-align: right;\n",
              "    }\n",
              "</style>\n",
              "<table border=\"1\" class=\"dataframe\">\n",
              "  <thead>\n",
              "    <tr style=\"text-align: right;\">\n",
              "      <th></th>\n",
              "      <th>user_id</th>\n",
              "      <th>movie_id</th>\n",
              "      <th>rating</th>\n",
              "      <th>ts</th>\n",
              "    </tr>\n",
              "  </thead>\n",
              "  <tbody>\n",
              "    <tr>\n",
              "      <th>0</th>\n",
              "      <td>1</td>\n",
              "      <td>1193</td>\n",
              "      <td>5</td>\n",
              "      <td>978300760</td>\n",
              "    </tr>\n",
              "    <tr>\n",
              "      <th>1</th>\n",
              "      <td>1</td>\n",
              "      <td>661</td>\n",
              "      <td>3</td>\n",
              "      <td>978302109</td>\n",
              "    </tr>\n",
              "    <tr>\n",
              "      <th>2</th>\n",
              "      <td>1</td>\n",
              "      <td>914</td>\n",
              "      <td>3</td>\n",
              "      <td>978301968</td>\n",
              "    </tr>\n",
              "    <tr>\n",
              "      <th>3</th>\n",
              "      <td>1</td>\n",
              "      <td>3408</td>\n",
              "      <td>4</td>\n",
              "      <td>978300275</td>\n",
              "    </tr>\n",
              "    <tr>\n",
              "      <th>4</th>\n",
              "      <td>1</td>\n",
              "      <td>2355</td>\n",
              "      <td>5</td>\n",
              "      <td>978824291</td>\n",
              "    </tr>\n",
              "    <tr>\n",
              "      <th>5</th>\n",
              "      <td>1</td>\n",
              "      <td>1197</td>\n",
              "      <td>3</td>\n",
              "      <td>978302268</td>\n",
              "    </tr>\n",
              "    <tr>\n",
              "      <th>6</th>\n",
              "      <td>1</td>\n",
              "      <td>1287</td>\n",
              "      <td>5</td>\n",
              "      <td>978302039</td>\n",
              "    </tr>\n",
              "    <tr>\n",
              "      <th>7</th>\n",
              "      <td>1</td>\n",
              "      <td>2804</td>\n",
              "      <td>5</td>\n",
              "      <td>978300719</td>\n",
              "    </tr>\n",
              "    <tr>\n",
              "      <th>8</th>\n",
              "      <td>1</td>\n",
              "      <td>594</td>\n",
              "      <td>4</td>\n",
              "      <td>978302268</td>\n",
              "    </tr>\n",
              "    <tr>\n",
              "      <th>9</th>\n",
              "      <td>1</td>\n",
              "      <td>919</td>\n",
              "      <td>4</td>\n",
              "      <td>978301368</td>\n",
              "    </tr>\n",
              "  </tbody>\n",
              "</table>\n",
              "</div>"
            ],
            "text/plain": [
              "   user_id  movie_id  rating         ts\n",
              "0        1      1193       5  978300760\n",
              "1        1       661       3  978302109\n",
              "2        1       914       3  978301968\n",
              "3        1      3408       4  978300275\n",
              "4        1      2355       5  978824291\n",
              "5        1      1197       3  978302268\n",
              "6        1      1287       5  978302039\n",
              "7        1      2804       5  978300719\n",
              "8        1       594       4  978302268\n",
              "9        1       919       4  978301368"
            ]
          },
          "metadata": {},
          "execution_count": 26
        }
      ]
    },
    {
      "cell_type": "code",
      "metadata": {
        "colab": {
          "base_uri": "https://localhost:8080/"
        },
        "id": "2Gw3UrjX8F47",
        "outputId": "18211812-11f6-4f4d-dcfd-2e08d4fc1d8d"
      },
      "source": [
        "dates = []  # ratings 데이터프레임의 ts 값(timestamp)을 datetime 객체로 변환한 값들을 저장하기 위한 리스트\n",
        "for ts in ratings['ts']:  # ts 컬럼의 값들을 처음부터 끝까지 반복하면서\n",
        "    dates.append(datetime.fromtimestamp(ts))  # 숫자를 datetime으로 변환 후 리스트에 추가\n",
        "\n",
        "print(dates)\n",
        "print(pd.Series(dates))\n",
        "\n",
        "# dates에 저장된 값들을 파생변수로 데이터프레임에 추가\n",
        "ratings['dt'] = pd.Series(dates)"
      ],
      "execution_count": 34,
      "outputs": [
        {
          "output_type": "stream",
          "text": [
            "[datetime.datetime(2000, 12, 31, 22, 12, 40), datetime.datetime(2000, 12, 31, 22, 35, 9), datetime.datetime(2000, 12, 31, 22, 32, 48), datetime.datetime(2000, 12, 31, 22, 4, 35), datetime.datetime(2001, 1, 6, 23, 38, 11), datetime.datetime(2000, 12, 31, 22, 37, 48), datetime.datetime(2000, 12, 31, 22, 33, 59), datetime.datetime(2000, 12, 31, 22, 11, 59), datetime.datetime(2000, 12, 31, 22, 37, 48), datetime.datetime(2000, 12, 31, 22, 22, 48)]\n",
            "0   2000-12-31 22:12:40\n",
            "1   2000-12-31 22:35:09\n",
            "2   2000-12-31 22:32:48\n",
            "3   2000-12-31 22:04:35\n",
            "4   2001-01-06 23:38:11\n",
            "5   2000-12-31 22:37:48\n",
            "6   2000-12-31 22:33:59\n",
            "7   2000-12-31 22:11:59\n",
            "8   2000-12-31 22:37:48\n",
            "9   2000-12-31 22:22:48\n",
            "dtype: datetime64[ns]\n"
          ],
          "name": "stdout"
        }
      ]
    },
    {
      "cell_type": "code",
      "metadata": {
        "colab": {
          "base_uri": "https://localhost:8080/",
          "height": 363
        },
        "id": "nWAF9cWh9k8M",
        "outputId": "42ae5601-1d4a-46e3-9cfe-c531d87a73a6"
      },
      "source": [
        "ratings"
      ],
      "execution_count": 32,
      "outputs": [
        {
          "output_type": "execute_result",
          "data": {
            "text/html": [
              "<div>\n",
              "<style scoped>\n",
              "    .dataframe tbody tr th:only-of-type {\n",
              "        vertical-align: middle;\n",
              "    }\n",
              "\n",
              "    .dataframe tbody tr th {\n",
              "        vertical-align: top;\n",
              "    }\n",
              "\n",
              "    .dataframe thead th {\n",
              "        text-align: right;\n",
              "    }\n",
              "</style>\n",
              "<table border=\"1\" class=\"dataframe\">\n",
              "  <thead>\n",
              "    <tr style=\"text-align: right;\">\n",
              "      <th></th>\n",
              "      <th>user_id</th>\n",
              "      <th>movie_id</th>\n",
              "      <th>rating</th>\n",
              "      <th>ts</th>\n",
              "      <th>dt</th>\n",
              "    </tr>\n",
              "  </thead>\n",
              "  <tbody>\n",
              "    <tr>\n",
              "      <th>0</th>\n",
              "      <td>1</td>\n",
              "      <td>1193</td>\n",
              "      <td>5</td>\n",
              "      <td>978300760</td>\n",
              "      <td>2000-12-31 22:12:40</td>\n",
              "    </tr>\n",
              "    <tr>\n",
              "      <th>1</th>\n",
              "      <td>1</td>\n",
              "      <td>661</td>\n",
              "      <td>3</td>\n",
              "      <td>978302109</td>\n",
              "      <td>2000-12-31 22:35:09</td>\n",
              "    </tr>\n",
              "    <tr>\n",
              "      <th>2</th>\n",
              "      <td>1</td>\n",
              "      <td>914</td>\n",
              "      <td>3</td>\n",
              "      <td>978301968</td>\n",
              "      <td>2000-12-31 22:32:48</td>\n",
              "    </tr>\n",
              "    <tr>\n",
              "      <th>3</th>\n",
              "      <td>1</td>\n",
              "      <td>3408</td>\n",
              "      <td>4</td>\n",
              "      <td>978300275</td>\n",
              "      <td>2000-12-31 22:04:35</td>\n",
              "    </tr>\n",
              "    <tr>\n",
              "      <th>4</th>\n",
              "      <td>1</td>\n",
              "      <td>2355</td>\n",
              "      <td>5</td>\n",
              "      <td>978824291</td>\n",
              "      <td>2001-01-06 23:38:11</td>\n",
              "    </tr>\n",
              "    <tr>\n",
              "      <th>5</th>\n",
              "      <td>1</td>\n",
              "      <td>1197</td>\n",
              "      <td>3</td>\n",
              "      <td>978302268</td>\n",
              "      <td>2000-12-31 22:37:48</td>\n",
              "    </tr>\n",
              "    <tr>\n",
              "      <th>6</th>\n",
              "      <td>1</td>\n",
              "      <td>1287</td>\n",
              "      <td>5</td>\n",
              "      <td>978302039</td>\n",
              "      <td>2000-12-31 22:33:59</td>\n",
              "    </tr>\n",
              "    <tr>\n",
              "      <th>7</th>\n",
              "      <td>1</td>\n",
              "      <td>2804</td>\n",
              "      <td>5</td>\n",
              "      <td>978300719</td>\n",
              "      <td>2000-12-31 22:11:59</td>\n",
              "    </tr>\n",
              "    <tr>\n",
              "      <th>8</th>\n",
              "      <td>1</td>\n",
              "      <td>594</td>\n",
              "      <td>4</td>\n",
              "      <td>978302268</td>\n",
              "      <td>2000-12-31 22:37:48</td>\n",
              "    </tr>\n",
              "    <tr>\n",
              "      <th>9</th>\n",
              "      <td>1</td>\n",
              "      <td>919</td>\n",
              "      <td>4</td>\n",
              "      <td>978301368</td>\n",
              "      <td>2000-12-31 22:22:48</td>\n",
              "    </tr>\n",
              "  </tbody>\n",
              "</table>\n",
              "</div>"
            ],
            "text/plain": [
              "   user_id  movie_id  rating         ts                  dt\n",
              "0        1      1193       5  978300760 2000-12-31 22:12:40\n",
              "1        1       661       3  978302109 2000-12-31 22:35:09\n",
              "2        1       914       3  978301968 2000-12-31 22:32:48\n",
              "3        1      3408       4  978300275 2000-12-31 22:04:35\n",
              "4        1      2355       5  978824291 2001-01-06 23:38:11\n",
              "5        1      1197       3  978302268 2000-12-31 22:37:48\n",
              "6        1      1287       5  978302039 2000-12-31 22:33:59\n",
              "7        1      2804       5  978300719 2000-12-31 22:11:59\n",
              "8        1       594       4  978302268 2000-12-31 22:37:48\n",
              "9        1       919       4  978301368 2000-12-31 22:22:48"
            ]
          },
          "metadata": {},
          "execution_count": 32
        }
      ]
    },
    {
      "cell_type": "code",
      "metadata": {
        "colab": {
          "base_uri": "https://localhost:8080/",
          "height": 363
        },
        "id": "kwVeBOSi9lu6",
        "outputId": "b9460c73-0a1f-4e8c-9490-87bff2f29a57"
      },
      "source": [
        "# pd.to_datetime() 함수: 문자열 Series 또는 숫자 Series를 datetime Series로 변환\n",
        "ratings['dt2'] = pd.to_datetime(ratings['ts'], unit='s')\n",
        "#> unit: timestamp(숫자)가 저장하고 있는 시간의 단위\n",
        "# s: 초(second), ms: milli-second, us: micro-second, ns: nano-second\n",
        "ratings"
      ],
      "execution_count": 35,
      "outputs": [
        {
          "output_type": "execute_result",
          "data": {
            "text/html": [
              "<div>\n",
              "<style scoped>\n",
              "    .dataframe tbody tr th:only-of-type {\n",
              "        vertical-align: middle;\n",
              "    }\n",
              "\n",
              "    .dataframe tbody tr th {\n",
              "        vertical-align: top;\n",
              "    }\n",
              "\n",
              "    .dataframe thead th {\n",
              "        text-align: right;\n",
              "    }\n",
              "</style>\n",
              "<table border=\"1\" class=\"dataframe\">\n",
              "  <thead>\n",
              "    <tr style=\"text-align: right;\">\n",
              "      <th></th>\n",
              "      <th>user_id</th>\n",
              "      <th>movie_id</th>\n",
              "      <th>rating</th>\n",
              "      <th>ts</th>\n",
              "      <th>dt</th>\n",
              "      <th>dt2</th>\n",
              "    </tr>\n",
              "  </thead>\n",
              "  <tbody>\n",
              "    <tr>\n",
              "      <th>0</th>\n",
              "      <td>1</td>\n",
              "      <td>1193</td>\n",
              "      <td>5</td>\n",
              "      <td>978300760</td>\n",
              "      <td>2000-12-31 22:12:40</td>\n",
              "      <td>2000-12-31 22:12:40</td>\n",
              "    </tr>\n",
              "    <tr>\n",
              "      <th>1</th>\n",
              "      <td>1</td>\n",
              "      <td>661</td>\n",
              "      <td>3</td>\n",
              "      <td>978302109</td>\n",
              "      <td>2000-12-31 22:35:09</td>\n",
              "      <td>2000-12-31 22:35:09</td>\n",
              "    </tr>\n",
              "    <tr>\n",
              "      <th>2</th>\n",
              "      <td>1</td>\n",
              "      <td>914</td>\n",
              "      <td>3</td>\n",
              "      <td>978301968</td>\n",
              "      <td>2000-12-31 22:32:48</td>\n",
              "      <td>2000-12-31 22:32:48</td>\n",
              "    </tr>\n",
              "    <tr>\n",
              "      <th>3</th>\n",
              "      <td>1</td>\n",
              "      <td>3408</td>\n",
              "      <td>4</td>\n",
              "      <td>978300275</td>\n",
              "      <td>2000-12-31 22:04:35</td>\n",
              "      <td>2000-12-31 22:04:35</td>\n",
              "    </tr>\n",
              "    <tr>\n",
              "      <th>4</th>\n",
              "      <td>1</td>\n",
              "      <td>2355</td>\n",
              "      <td>5</td>\n",
              "      <td>978824291</td>\n",
              "      <td>2001-01-06 23:38:11</td>\n",
              "      <td>2001-01-06 23:38:11</td>\n",
              "    </tr>\n",
              "    <tr>\n",
              "      <th>5</th>\n",
              "      <td>1</td>\n",
              "      <td>1197</td>\n",
              "      <td>3</td>\n",
              "      <td>978302268</td>\n",
              "      <td>2000-12-31 22:37:48</td>\n",
              "      <td>2000-12-31 22:37:48</td>\n",
              "    </tr>\n",
              "    <tr>\n",
              "      <th>6</th>\n",
              "      <td>1</td>\n",
              "      <td>1287</td>\n",
              "      <td>5</td>\n",
              "      <td>978302039</td>\n",
              "      <td>2000-12-31 22:33:59</td>\n",
              "      <td>2000-12-31 22:33:59</td>\n",
              "    </tr>\n",
              "    <tr>\n",
              "      <th>7</th>\n",
              "      <td>1</td>\n",
              "      <td>2804</td>\n",
              "      <td>5</td>\n",
              "      <td>978300719</td>\n",
              "      <td>2000-12-31 22:11:59</td>\n",
              "      <td>2000-12-31 22:11:59</td>\n",
              "    </tr>\n",
              "    <tr>\n",
              "      <th>8</th>\n",
              "      <td>1</td>\n",
              "      <td>594</td>\n",
              "      <td>4</td>\n",
              "      <td>978302268</td>\n",
              "      <td>2000-12-31 22:37:48</td>\n",
              "      <td>2000-12-31 22:37:48</td>\n",
              "    </tr>\n",
              "    <tr>\n",
              "      <th>9</th>\n",
              "      <td>1</td>\n",
              "      <td>919</td>\n",
              "      <td>4</td>\n",
              "      <td>978301368</td>\n",
              "      <td>2000-12-31 22:22:48</td>\n",
              "      <td>2000-12-31 22:22:48</td>\n",
              "    </tr>\n",
              "  </tbody>\n",
              "</table>\n",
              "</div>"
            ],
            "text/plain": [
              "   user_id  movie_id  rating         ts                  dt                 dt2\n",
              "0        1      1193       5  978300760 2000-12-31 22:12:40 2000-12-31 22:12:40\n",
              "1        1       661       3  978302109 2000-12-31 22:35:09 2000-12-31 22:35:09\n",
              "2        1       914       3  978301968 2000-12-31 22:32:48 2000-12-31 22:32:48\n",
              "3        1      3408       4  978300275 2000-12-31 22:04:35 2000-12-31 22:04:35\n",
              "4        1      2355       5  978824291 2001-01-06 23:38:11 2001-01-06 23:38:11\n",
              "5        1      1197       3  978302268 2000-12-31 22:37:48 2000-12-31 22:37:48\n",
              "6        1      1287       5  978302039 2000-12-31 22:33:59 2000-12-31 22:33:59\n",
              "7        1      2804       5  978300719 2000-12-31 22:11:59 2000-12-31 22:11:59\n",
              "8        1       594       4  978302268 2000-12-31 22:37:48 2000-12-31 22:37:48\n",
              "9        1       919       4  978301368 2000-12-31 22:22:48 2000-12-31 22:22:48"
            ]
          },
          "metadata": {},
          "execution_count": 35
        }
      ]
    },
    {
      "cell_type": "markdown",
      "metadata": {
        "id": "ZTcijXEb3SNi"
      },
      "source": [
        "# resample"
      ]
    },
    {
      "cell_type": "markdown",
      "metadata": {
        "id": "C_fjFFxL3g1u"
      },
      "source": [
        "## SPX 데이터프레임"
      ]
    },
    {
      "cell_type": "markdown",
      "metadata": {
        "id": "8IFTwPGxEYj5"
      },
      "source": [
        "CSV 파일 날짜/시간 처리"
      ]
    },
    {
      "cell_type": "code",
      "metadata": {
        "id": "ieqVgiaiAhSr"
      },
      "source": [
        "file_path = 'https://github.com/wesm/pydata-book/raw/2nd-edition/examples/spx.csv'"
      ],
      "execution_count": 36,
      "outputs": []
    },
    {
      "cell_type": "code",
      "metadata": {
        "id": "HJBZyTyMFJ1S"
      },
      "source": [
        "df = pd.read_csv(file_path)"
      ],
      "execution_count": 37,
      "outputs": []
    },
    {
      "cell_type": "code",
      "metadata": {
        "colab": {
          "base_uri": "https://localhost:8080/",
          "height": 206
        },
        "id": "BOdMXGoGFYgB",
        "outputId": "b717a199-436c-4de3-aa8a-d0829ddd75d2"
      },
      "source": [
        "df.head()"
      ],
      "execution_count": 38,
      "outputs": [
        {
          "output_type": "execute_result",
          "data": {
            "text/html": [
              "<div>\n",
              "<style scoped>\n",
              "    .dataframe tbody tr th:only-of-type {\n",
              "        vertical-align: middle;\n",
              "    }\n",
              "\n",
              "    .dataframe tbody tr th {\n",
              "        vertical-align: top;\n",
              "    }\n",
              "\n",
              "    .dataframe thead th {\n",
              "        text-align: right;\n",
              "    }\n",
              "</style>\n",
              "<table border=\"1\" class=\"dataframe\">\n",
              "  <thead>\n",
              "    <tr style=\"text-align: right;\">\n",
              "      <th></th>\n",
              "      <th>Date</th>\n",
              "      <th>SPX</th>\n",
              "    </tr>\n",
              "  </thead>\n",
              "  <tbody>\n",
              "    <tr>\n",
              "      <th>0</th>\n",
              "      <td>1990-02-01 00:00:00</td>\n",
              "      <td>328.79</td>\n",
              "    </tr>\n",
              "    <tr>\n",
              "      <th>1</th>\n",
              "      <td>1990-02-02 00:00:00</td>\n",
              "      <td>330.92</td>\n",
              "    </tr>\n",
              "    <tr>\n",
              "      <th>2</th>\n",
              "      <td>1990-02-05 00:00:00</td>\n",
              "      <td>331.85</td>\n",
              "    </tr>\n",
              "    <tr>\n",
              "      <th>3</th>\n",
              "      <td>1990-02-06 00:00:00</td>\n",
              "      <td>329.66</td>\n",
              "    </tr>\n",
              "    <tr>\n",
              "      <th>4</th>\n",
              "      <td>1990-02-07 00:00:00</td>\n",
              "      <td>333.75</td>\n",
              "    </tr>\n",
              "  </tbody>\n",
              "</table>\n",
              "</div>"
            ],
            "text/plain": [
              "                  Date     SPX\n",
              "0  1990-02-01 00:00:00  328.79\n",
              "1  1990-02-02 00:00:00  330.92\n",
              "2  1990-02-05 00:00:00  331.85\n",
              "3  1990-02-06 00:00:00  329.66\n",
              "4  1990-02-07 00:00:00  333.75"
            ]
          },
          "metadata": {},
          "execution_count": 38
        }
      ]
    },
    {
      "cell_type": "code",
      "metadata": {
        "colab": {
          "base_uri": "https://localhost:8080/",
          "height": 206
        },
        "id": "oKBedd3hFZ-p",
        "outputId": "c8b122ed-a144-4826-9504-d92649a8be0e"
      },
      "source": [
        "df.tail()"
      ],
      "execution_count": 39,
      "outputs": [
        {
          "output_type": "execute_result",
          "data": {
            "text/html": [
              "<div>\n",
              "<style scoped>\n",
              "    .dataframe tbody tr th:only-of-type {\n",
              "        vertical-align: middle;\n",
              "    }\n",
              "\n",
              "    .dataframe tbody tr th {\n",
              "        vertical-align: top;\n",
              "    }\n",
              "\n",
              "    .dataframe thead th {\n",
              "        text-align: right;\n",
              "    }\n",
              "</style>\n",
              "<table border=\"1\" class=\"dataframe\">\n",
              "  <thead>\n",
              "    <tr style=\"text-align: right;\">\n",
              "      <th></th>\n",
              "      <th>Date</th>\n",
              "      <th>SPX</th>\n",
              "    </tr>\n",
              "  </thead>\n",
              "  <tbody>\n",
              "    <tr>\n",
              "      <th>5467</th>\n",
              "      <td>2011-10-10 00:00:00</td>\n",
              "      <td>1194.89</td>\n",
              "    </tr>\n",
              "    <tr>\n",
              "      <th>5468</th>\n",
              "      <td>2011-10-11 00:00:00</td>\n",
              "      <td>1195.54</td>\n",
              "    </tr>\n",
              "    <tr>\n",
              "      <th>5469</th>\n",
              "      <td>2011-10-12 00:00:00</td>\n",
              "      <td>1207.25</td>\n",
              "    </tr>\n",
              "    <tr>\n",
              "      <th>5470</th>\n",
              "      <td>2011-10-13 00:00:00</td>\n",
              "      <td>1203.66</td>\n",
              "    </tr>\n",
              "    <tr>\n",
              "      <th>5471</th>\n",
              "      <td>2011-10-14 00:00:00</td>\n",
              "      <td>1224.58</td>\n",
              "    </tr>\n",
              "  </tbody>\n",
              "</table>\n",
              "</div>"
            ],
            "text/plain": [
              "                     Date      SPX\n",
              "5467  2011-10-10 00:00:00  1194.89\n",
              "5468  2011-10-11 00:00:00  1195.54\n",
              "5469  2011-10-12 00:00:00  1207.25\n",
              "5470  2011-10-13 00:00:00  1203.66\n",
              "5471  2011-10-14 00:00:00  1224.58"
            ]
          },
          "metadata": {},
          "execution_count": 39
        }
      ]
    },
    {
      "cell_type": "markdown",
      "metadata": {
        "id": "G07icGJRFsAs"
      },
      "source": [
        "데이터프레임의 Date 컬럼의 데이터 타입?"
      ]
    },
    {
      "cell_type": "code",
      "metadata": {
        "colab": {
          "base_uri": "https://localhost:8080/"
        },
        "id": "Md3L_6iIFgmR",
        "outputId": "fef7fca5-004f-4e5e-efa1-f045c43d4c9c"
      },
      "source": [
        "df.info()  #> Date 컬럼의 데이터 타입은 object -> 문자열(str)"
      ],
      "execution_count": 40,
      "outputs": [
        {
          "output_type": "stream",
          "text": [
            "<class 'pandas.core.frame.DataFrame'>\n",
            "RangeIndex: 5472 entries, 0 to 5471\n",
            "Data columns (total 2 columns):\n",
            " #   Column  Non-Null Count  Dtype  \n",
            "---  ------  --------------  -----  \n",
            " 0   Date    5472 non-null   object \n",
            " 1   SPX     5472 non-null   float64\n",
            "dtypes: float64(1), object(1)\n",
            "memory usage: 85.6+ KB\n"
          ],
          "name": "stdout"
        }
      ]
    },
    {
      "cell_type": "code",
      "metadata": {
        "id": "7aOCsk48Ggsz"
      },
      "source": [
        "# 연도별 주식 가격의 평균, 최소, 최대\n",
        "df['year'] = df['Date'].str[:4].astype('int')"
      ],
      "execution_count": 41,
      "outputs": []
    },
    {
      "cell_type": "code",
      "metadata": {
        "colab": {
          "base_uri": "https://localhost:8080/",
          "height": 423
        },
        "id": "CHDNpronGzNa",
        "outputId": "ea04e5c0-23a6-4f2d-8f8e-76e0f5eeeaf8"
      },
      "source": [
        "df"
      ],
      "execution_count": 42,
      "outputs": [
        {
          "output_type": "execute_result",
          "data": {
            "text/html": [
              "<div>\n",
              "<style scoped>\n",
              "    .dataframe tbody tr th:only-of-type {\n",
              "        vertical-align: middle;\n",
              "    }\n",
              "\n",
              "    .dataframe tbody tr th {\n",
              "        vertical-align: top;\n",
              "    }\n",
              "\n",
              "    .dataframe thead th {\n",
              "        text-align: right;\n",
              "    }\n",
              "</style>\n",
              "<table border=\"1\" class=\"dataframe\">\n",
              "  <thead>\n",
              "    <tr style=\"text-align: right;\">\n",
              "      <th></th>\n",
              "      <th>Date</th>\n",
              "      <th>SPX</th>\n",
              "      <th>year</th>\n",
              "    </tr>\n",
              "  </thead>\n",
              "  <tbody>\n",
              "    <tr>\n",
              "      <th>0</th>\n",
              "      <td>1990-02-01 00:00:00</td>\n",
              "      <td>328.79</td>\n",
              "      <td>1990</td>\n",
              "    </tr>\n",
              "    <tr>\n",
              "      <th>1</th>\n",
              "      <td>1990-02-02 00:00:00</td>\n",
              "      <td>330.92</td>\n",
              "      <td>1990</td>\n",
              "    </tr>\n",
              "    <tr>\n",
              "      <th>2</th>\n",
              "      <td>1990-02-05 00:00:00</td>\n",
              "      <td>331.85</td>\n",
              "      <td>1990</td>\n",
              "    </tr>\n",
              "    <tr>\n",
              "      <th>3</th>\n",
              "      <td>1990-02-06 00:00:00</td>\n",
              "      <td>329.66</td>\n",
              "      <td>1990</td>\n",
              "    </tr>\n",
              "    <tr>\n",
              "      <th>4</th>\n",
              "      <td>1990-02-07 00:00:00</td>\n",
              "      <td>333.75</td>\n",
              "      <td>1990</td>\n",
              "    </tr>\n",
              "    <tr>\n",
              "      <th>...</th>\n",
              "      <td>...</td>\n",
              "      <td>...</td>\n",
              "      <td>...</td>\n",
              "    </tr>\n",
              "    <tr>\n",
              "      <th>5467</th>\n",
              "      <td>2011-10-10 00:00:00</td>\n",
              "      <td>1194.89</td>\n",
              "      <td>2011</td>\n",
              "    </tr>\n",
              "    <tr>\n",
              "      <th>5468</th>\n",
              "      <td>2011-10-11 00:00:00</td>\n",
              "      <td>1195.54</td>\n",
              "      <td>2011</td>\n",
              "    </tr>\n",
              "    <tr>\n",
              "      <th>5469</th>\n",
              "      <td>2011-10-12 00:00:00</td>\n",
              "      <td>1207.25</td>\n",
              "      <td>2011</td>\n",
              "    </tr>\n",
              "    <tr>\n",
              "      <th>5470</th>\n",
              "      <td>2011-10-13 00:00:00</td>\n",
              "      <td>1203.66</td>\n",
              "      <td>2011</td>\n",
              "    </tr>\n",
              "    <tr>\n",
              "      <th>5471</th>\n",
              "      <td>2011-10-14 00:00:00</td>\n",
              "      <td>1224.58</td>\n",
              "      <td>2011</td>\n",
              "    </tr>\n",
              "  </tbody>\n",
              "</table>\n",
              "<p>5472 rows × 3 columns</p>\n",
              "</div>"
            ],
            "text/plain": [
              "                     Date      SPX  year\n",
              "0     1990-02-01 00:00:00   328.79  1990\n",
              "1     1990-02-02 00:00:00   330.92  1990\n",
              "2     1990-02-05 00:00:00   331.85  1990\n",
              "3     1990-02-06 00:00:00   329.66  1990\n",
              "4     1990-02-07 00:00:00   333.75  1990\n",
              "...                   ...      ...   ...\n",
              "5467  2011-10-10 00:00:00  1194.89  2011\n",
              "5468  2011-10-11 00:00:00  1195.54  2011\n",
              "5469  2011-10-12 00:00:00  1207.25  2011\n",
              "5470  2011-10-13 00:00:00  1203.66  2011\n",
              "5471  2011-10-14 00:00:00  1224.58  2011\n",
              "\n",
              "[5472 rows x 3 columns]"
            ]
          },
          "metadata": {},
          "execution_count": 42
        }
      ]
    },
    {
      "cell_type": "code",
      "metadata": {
        "colab": {
          "base_uri": "https://localhost:8080/",
          "height": 770
        },
        "id": "xBRjAJRLG1vw",
        "outputId": "e0067c9d-0bc4-4ccf-9aca-0d3178685df7"
      },
      "source": [
        "df.groupby('year')['SPX'].agg(['mean', 'min', 'max'])"
      ],
      "execution_count": 43,
      "outputs": [
        {
          "output_type": "execute_result",
          "data": {
            "text/html": [
              "<div>\n",
              "<style scoped>\n",
              "    .dataframe tbody tr th:only-of-type {\n",
              "        vertical-align: middle;\n",
              "    }\n",
              "\n",
              "    .dataframe tbody tr th {\n",
              "        vertical-align: top;\n",
              "    }\n",
              "\n",
              "    .dataframe thead th {\n",
              "        text-align: right;\n",
              "    }\n",
              "</style>\n",
              "<table border=\"1\" class=\"dataframe\">\n",
              "  <thead>\n",
              "    <tr style=\"text-align: right;\">\n",
              "      <th></th>\n",
              "      <th>mean</th>\n",
              "      <th>min</th>\n",
              "      <th>max</th>\n",
              "    </tr>\n",
              "    <tr>\n",
              "      <th>year</th>\n",
              "      <th></th>\n",
              "      <th></th>\n",
              "      <th></th>\n",
              "    </tr>\n",
              "  </thead>\n",
              "  <tbody>\n",
              "    <tr>\n",
              "      <th>1990</th>\n",
              "      <td>334.123506</td>\n",
              "      <td>295.46</td>\n",
              "      <td>368.95</td>\n",
              "    </tr>\n",
              "    <tr>\n",
              "      <th>1991</th>\n",
              "      <td>376.186324</td>\n",
              "      <td>311.49</td>\n",
              "      <td>417.09</td>\n",
              "    </tr>\n",
              "    <tr>\n",
              "      <th>1992</th>\n",
              "      <td>415.747008</td>\n",
              "      <td>394.50</td>\n",
              "      <td>441.28</td>\n",
              "    </tr>\n",
              "    <tr>\n",
              "      <th>1993</th>\n",
              "      <td>451.614822</td>\n",
              "      <td>429.05</td>\n",
              "      <td>470.94</td>\n",
              "    </tr>\n",
              "    <tr>\n",
              "      <th>1994</th>\n",
              "      <td>460.416508</td>\n",
              "      <td>438.92</td>\n",
              "      <td>482.00</td>\n",
              "    </tr>\n",
              "    <tr>\n",
              "      <th>1995</th>\n",
              "      <td>541.719087</td>\n",
              "      <td>459.11</td>\n",
              "      <td>621.69</td>\n",
              "    </tr>\n",
              "    <tr>\n",
              "      <th>1996</th>\n",
              "      <td>670.494843</td>\n",
              "      <td>598.48</td>\n",
              "      <td>757.03</td>\n",
              "    </tr>\n",
              "    <tr>\n",
              "      <th>1997</th>\n",
              "      <td>873.427787</td>\n",
              "      <td>737.01</td>\n",
              "      <td>983.79</td>\n",
              "    </tr>\n",
              "    <tr>\n",
              "      <th>1998</th>\n",
              "      <td>1085.503254</td>\n",
              "      <td>927.69</td>\n",
              "      <td>1241.81</td>\n",
              "    </tr>\n",
              "    <tr>\n",
              "      <th>1999</th>\n",
              "      <td>1327.329563</td>\n",
              "      <td>1212.19</td>\n",
              "      <td>1469.25</td>\n",
              "    </tr>\n",
              "    <tr>\n",
              "      <th>2000</th>\n",
              "      <td>1427.221071</td>\n",
              "      <td>1264.74</td>\n",
              "      <td>1527.46</td>\n",
              "    </tr>\n",
              "    <tr>\n",
              "      <th>2001</th>\n",
              "      <td>1194.178992</td>\n",
              "      <td>965.80</td>\n",
              "      <td>1373.73</td>\n",
              "    </tr>\n",
              "    <tr>\n",
              "      <th>2002</th>\n",
              "      <td>993.934802</td>\n",
              "      <td>776.76</td>\n",
              "      <td>1172.51</td>\n",
              "    </tr>\n",
              "    <tr>\n",
              "      <th>2003</th>\n",
              "      <td>965.227540</td>\n",
              "      <td>800.73</td>\n",
              "      <td>1111.92</td>\n",
              "    </tr>\n",
              "    <tr>\n",
              "      <th>2004</th>\n",
              "      <td>1130.649444</td>\n",
              "      <td>1063.23</td>\n",
              "      <td>1213.55</td>\n",
              "    </tr>\n",
              "    <tr>\n",
              "      <th>2005</th>\n",
              "      <td>1207.229444</td>\n",
              "      <td>1137.50</td>\n",
              "      <td>1272.74</td>\n",
              "    </tr>\n",
              "    <tr>\n",
              "      <th>2006</th>\n",
              "      <td>1310.461633</td>\n",
              "      <td>1223.69</td>\n",
              "      <td>1427.09</td>\n",
              "    </tr>\n",
              "    <tr>\n",
              "      <th>2007</th>\n",
              "      <td>1477.184343</td>\n",
              "      <td>1374.12</td>\n",
              "      <td>1565.15</td>\n",
              "    </tr>\n",
              "    <tr>\n",
              "      <th>2008</th>\n",
              "      <td>1220.042055</td>\n",
              "      <td>752.44</td>\n",
              "      <td>1447.16</td>\n",
              "    </tr>\n",
              "    <tr>\n",
              "      <th>2009</th>\n",
              "      <td>948.046389</td>\n",
              "      <td>676.53</td>\n",
              "      <td>1127.78</td>\n",
              "    </tr>\n",
              "    <tr>\n",
              "      <th>2010</th>\n",
              "      <td>1139.965516</td>\n",
              "      <td>1022.58</td>\n",
              "      <td>1259.78</td>\n",
              "    </tr>\n",
              "    <tr>\n",
              "      <th>2011</th>\n",
              "      <td>1276.093015</td>\n",
              "      <td>1099.23</td>\n",
              "      <td>1363.61</td>\n",
              "    </tr>\n",
              "  </tbody>\n",
              "</table>\n",
              "</div>"
            ],
            "text/plain": [
              "             mean      min      max\n",
              "year                               \n",
              "1990   334.123506   295.46   368.95\n",
              "1991   376.186324   311.49   417.09\n",
              "1992   415.747008   394.50   441.28\n",
              "1993   451.614822   429.05   470.94\n",
              "1994   460.416508   438.92   482.00\n",
              "1995   541.719087   459.11   621.69\n",
              "1996   670.494843   598.48   757.03\n",
              "1997   873.427787   737.01   983.79\n",
              "1998  1085.503254   927.69  1241.81\n",
              "1999  1327.329563  1212.19  1469.25\n",
              "2000  1427.221071  1264.74  1527.46\n",
              "2001  1194.178992   965.80  1373.73\n",
              "2002   993.934802   776.76  1172.51\n",
              "2003   965.227540   800.73  1111.92\n",
              "2004  1130.649444  1063.23  1213.55\n",
              "2005  1207.229444  1137.50  1272.74\n",
              "2006  1310.461633  1223.69  1427.09\n",
              "2007  1477.184343  1374.12  1565.15\n",
              "2008  1220.042055   752.44  1447.16\n",
              "2009   948.046389   676.53  1127.78\n",
              "2010  1139.965516  1022.58  1259.78\n",
              "2011  1276.093015  1099.23  1363.61"
            ]
          },
          "metadata": {},
          "execution_count": 43
        }
      ]
    },
    {
      "cell_type": "markdown",
      "metadata": {
        "id": "s9iqUfNyI3tc"
      },
      "source": [
        "Date 컬럼의 타입이 문자열인 경우, 주기별(연도별, 분기별, 월별, ...) 통계를 계산하기 위해서는 문자열을 parsing해서 파생변수를 추가하고 groupby 계산을 해야 함.\n",
        "Date 컬럼의 타입이 datetime인 경우, 그런 계산들을 간단히 수행할 수 있음."
      ]
    },
    {
      "cell_type": "code",
      "metadata": {
        "id": "OcAb8D1bHDoY"
      },
      "source": [
        "df['dt'] = pd.to_datetime(df['Date'])"
      ],
      "execution_count": 45,
      "outputs": []
    },
    {
      "cell_type": "code",
      "metadata": {
        "colab": {
          "base_uri": "https://localhost:8080/",
          "height": 423
        },
        "id": "B0RNZ_PsJpfJ",
        "outputId": "afa4e478-af4f-45c0-9187-eaa0d78e801f"
      },
      "source": [
        "df"
      ],
      "execution_count": 46,
      "outputs": [
        {
          "output_type": "execute_result",
          "data": {
            "text/html": [
              "<div>\n",
              "<style scoped>\n",
              "    .dataframe tbody tr th:only-of-type {\n",
              "        vertical-align: middle;\n",
              "    }\n",
              "\n",
              "    .dataframe tbody tr th {\n",
              "        vertical-align: top;\n",
              "    }\n",
              "\n",
              "    .dataframe thead th {\n",
              "        text-align: right;\n",
              "    }\n",
              "</style>\n",
              "<table border=\"1\" class=\"dataframe\">\n",
              "  <thead>\n",
              "    <tr style=\"text-align: right;\">\n",
              "      <th></th>\n",
              "      <th>Date</th>\n",
              "      <th>SPX</th>\n",
              "      <th>year</th>\n",
              "      <th>dt</th>\n",
              "    </tr>\n",
              "  </thead>\n",
              "  <tbody>\n",
              "    <tr>\n",
              "      <th>0</th>\n",
              "      <td>1990-02-01 00:00:00</td>\n",
              "      <td>328.79</td>\n",
              "      <td>1990</td>\n",
              "      <td>1990-02-01</td>\n",
              "    </tr>\n",
              "    <tr>\n",
              "      <th>1</th>\n",
              "      <td>1990-02-02 00:00:00</td>\n",
              "      <td>330.92</td>\n",
              "      <td>1990</td>\n",
              "      <td>1990-02-02</td>\n",
              "    </tr>\n",
              "    <tr>\n",
              "      <th>2</th>\n",
              "      <td>1990-02-05 00:00:00</td>\n",
              "      <td>331.85</td>\n",
              "      <td>1990</td>\n",
              "      <td>1990-02-05</td>\n",
              "    </tr>\n",
              "    <tr>\n",
              "      <th>3</th>\n",
              "      <td>1990-02-06 00:00:00</td>\n",
              "      <td>329.66</td>\n",
              "      <td>1990</td>\n",
              "      <td>1990-02-06</td>\n",
              "    </tr>\n",
              "    <tr>\n",
              "      <th>4</th>\n",
              "      <td>1990-02-07 00:00:00</td>\n",
              "      <td>333.75</td>\n",
              "      <td>1990</td>\n",
              "      <td>1990-02-07</td>\n",
              "    </tr>\n",
              "    <tr>\n",
              "      <th>...</th>\n",
              "      <td>...</td>\n",
              "      <td>...</td>\n",
              "      <td>...</td>\n",
              "      <td>...</td>\n",
              "    </tr>\n",
              "    <tr>\n",
              "      <th>5467</th>\n",
              "      <td>2011-10-10 00:00:00</td>\n",
              "      <td>1194.89</td>\n",
              "      <td>2011</td>\n",
              "      <td>2011-10-10</td>\n",
              "    </tr>\n",
              "    <tr>\n",
              "      <th>5468</th>\n",
              "      <td>2011-10-11 00:00:00</td>\n",
              "      <td>1195.54</td>\n",
              "      <td>2011</td>\n",
              "      <td>2011-10-11</td>\n",
              "    </tr>\n",
              "    <tr>\n",
              "      <th>5469</th>\n",
              "      <td>2011-10-12 00:00:00</td>\n",
              "      <td>1207.25</td>\n",
              "      <td>2011</td>\n",
              "      <td>2011-10-12</td>\n",
              "    </tr>\n",
              "    <tr>\n",
              "      <th>5470</th>\n",
              "      <td>2011-10-13 00:00:00</td>\n",
              "      <td>1203.66</td>\n",
              "      <td>2011</td>\n",
              "      <td>2011-10-13</td>\n",
              "    </tr>\n",
              "    <tr>\n",
              "      <th>5471</th>\n",
              "      <td>2011-10-14 00:00:00</td>\n",
              "      <td>1224.58</td>\n",
              "      <td>2011</td>\n",
              "      <td>2011-10-14</td>\n",
              "    </tr>\n",
              "  </tbody>\n",
              "</table>\n",
              "<p>5472 rows × 4 columns</p>\n",
              "</div>"
            ],
            "text/plain": [
              "                     Date      SPX  year         dt\n",
              "0     1990-02-01 00:00:00   328.79  1990 1990-02-01\n",
              "1     1990-02-02 00:00:00   330.92  1990 1990-02-02\n",
              "2     1990-02-05 00:00:00   331.85  1990 1990-02-05\n",
              "3     1990-02-06 00:00:00   329.66  1990 1990-02-06\n",
              "4     1990-02-07 00:00:00   333.75  1990 1990-02-07\n",
              "...                   ...      ...   ...        ...\n",
              "5467  2011-10-10 00:00:00  1194.89  2011 2011-10-10\n",
              "5468  2011-10-11 00:00:00  1195.54  2011 2011-10-11\n",
              "5469  2011-10-12 00:00:00  1207.25  2011 2011-10-12\n",
              "5470  2011-10-13 00:00:00  1203.66  2011 2011-10-13\n",
              "5471  2011-10-14 00:00:00  1224.58  2011 2011-10-14\n",
              "\n",
              "[5472 rows x 4 columns]"
            ]
          },
          "metadata": {},
          "execution_count": 46
        }
      ]
    },
    {
      "cell_type": "code",
      "metadata": {
        "colab": {
          "base_uri": "https://localhost:8080/"
        },
        "id": "qbn8m1WUJqlx",
        "outputId": "bdaec6c7-5c96-4f9b-9bb5-cdd9d1103090"
      },
      "source": [
        "df.info()"
      ],
      "execution_count": 47,
      "outputs": [
        {
          "output_type": "stream",
          "text": [
            "<class 'pandas.core.frame.DataFrame'>\n",
            "RangeIndex: 5472 entries, 0 to 5471\n",
            "Data columns (total 4 columns):\n",
            " #   Column  Non-Null Count  Dtype         \n",
            "---  ------  --------------  -----         \n",
            " 0   Date    5472 non-null   object        \n",
            " 1   SPX     5472 non-null   float64       \n",
            " 2   year    5472 non-null   int64         \n",
            " 3   dt      5472 non-null   datetime64[ns]\n",
            "dtypes: datetime64[ns](1), float64(1), int64(1), object(1)\n",
            "memory usage: 171.1+ KB\n"
          ],
          "name": "stdout"
        }
      ]
    },
    {
      "cell_type": "code",
      "metadata": {
        "id": "96WIbSVnJyXI"
      },
      "source": [
        "# 새로 추가된 dt 컬럼을 index로 변환\n",
        "df = df.set_index('dt')"
      ],
      "execution_count": 48,
      "outputs": []
    },
    {
      "cell_type": "code",
      "metadata": {
        "colab": {
          "base_uri": "https://localhost:8080/",
          "height": 237
        },
        "id": "CfpleGUsKHoK",
        "outputId": "60c1cca3-4418-48d8-b8ec-f59f80e2e8b2"
      },
      "source": [
        "df.head()"
      ],
      "execution_count": 49,
      "outputs": [
        {
          "output_type": "execute_result",
          "data": {
            "text/html": [
              "<div>\n",
              "<style scoped>\n",
              "    .dataframe tbody tr th:only-of-type {\n",
              "        vertical-align: middle;\n",
              "    }\n",
              "\n",
              "    .dataframe tbody tr th {\n",
              "        vertical-align: top;\n",
              "    }\n",
              "\n",
              "    .dataframe thead th {\n",
              "        text-align: right;\n",
              "    }\n",
              "</style>\n",
              "<table border=\"1\" class=\"dataframe\">\n",
              "  <thead>\n",
              "    <tr style=\"text-align: right;\">\n",
              "      <th></th>\n",
              "      <th>Date</th>\n",
              "      <th>SPX</th>\n",
              "      <th>year</th>\n",
              "    </tr>\n",
              "    <tr>\n",
              "      <th>dt</th>\n",
              "      <th></th>\n",
              "      <th></th>\n",
              "      <th></th>\n",
              "    </tr>\n",
              "  </thead>\n",
              "  <tbody>\n",
              "    <tr>\n",
              "      <th>1990-02-01</th>\n",
              "      <td>1990-02-01 00:00:00</td>\n",
              "      <td>328.79</td>\n",
              "      <td>1990</td>\n",
              "    </tr>\n",
              "    <tr>\n",
              "      <th>1990-02-02</th>\n",
              "      <td>1990-02-02 00:00:00</td>\n",
              "      <td>330.92</td>\n",
              "      <td>1990</td>\n",
              "    </tr>\n",
              "    <tr>\n",
              "      <th>1990-02-05</th>\n",
              "      <td>1990-02-05 00:00:00</td>\n",
              "      <td>331.85</td>\n",
              "      <td>1990</td>\n",
              "    </tr>\n",
              "    <tr>\n",
              "      <th>1990-02-06</th>\n",
              "      <td>1990-02-06 00:00:00</td>\n",
              "      <td>329.66</td>\n",
              "      <td>1990</td>\n",
              "    </tr>\n",
              "    <tr>\n",
              "      <th>1990-02-07</th>\n",
              "      <td>1990-02-07 00:00:00</td>\n",
              "      <td>333.75</td>\n",
              "      <td>1990</td>\n",
              "    </tr>\n",
              "  </tbody>\n",
              "</table>\n",
              "</div>"
            ],
            "text/plain": [
              "                           Date     SPX  year\n",
              "dt                                           \n",
              "1990-02-01  1990-02-01 00:00:00  328.79  1990\n",
              "1990-02-02  1990-02-02 00:00:00  330.92  1990\n",
              "1990-02-05  1990-02-05 00:00:00  331.85  1990\n",
              "1990-02-06  1990-02-06 00:00:00  329.66  1990\n",
              "1990-02-07  1990-02-07 00:00:00  333.75  1990"
            ]
          },
          "metadata": {},
          "execution_count": 49
        }
      ]
    },
    {
      "cell_type": "code",
      "metadata": {
        "colab": {
          "base_uri": "https://localhost:8080/",
          "height": 770
        },
        "id": "NXr1QRf7KITI",
        "outputId": "25f95992-699e-487b-b58e-1256cb5525e6"
      },
      "source": [
        "# df에서 datetime 타입의 인덱스를 사용해서 연도별 SPX 컬럼의 평균, 최솟값, 최댓값을 계산\n",
        "df.resample('Y')['SPX'].agg(['mean', 'min', 'max'])"
      ],
      "execution_count": 52,
      "outputs": [
        {
          "output_type": "execute_result",
          "data": {
            "text/html": [
              "<div>\n",
              "<style scoped>\n",
              "    .dataframe tbody tr th:only-of-type {\n",
              "        vertical-align: middle;\n",
              "    }\n",
              "\n",
              "    .dataframe tbody tr th {\n",
              "        vertical-align: top;\n",
              "    }\n",
              "\n",
              "    .dataframe thead th {\n",
              "        text-align: right;\n",
              "    }\n",
              "</style>\n",
              "<table border=\"1\" class=\"dataframe\">\n",
              "  <thead>\n",
              "    <tr style=\"text-align: right;\">\n",
              "      <th></th>\n",
              "      <th>mean</th>\n",
              "      <th>min</th>\n",
              "      <th>max</th>\n",
              "    </tr>\n",
              "    <tr>\n",
              "      <th>dt</th>\n",
              "      <th></th>\n",
              "      <th></th>\n",
              "      <th></th>\n",
              "    </tr>\n",
              "  </thead>\n",
              "  <tbody>\n",
              "    <tr>\n",
              "      <th>1990-12-31</th>\n",
              "      <td>334.123506</td>\n",
              "      <td>295.46</td>\n",
              "      <td>368.95</td>\n",
              "    </tr>\n",
              "    <tr>\n",
              "      <th>1991-12-31</th>\n",
              "      <td>376.186324</td>\n",
              "      <td>311.49</td>\n",
              "      <td>417.09</td>\n",
              "    </tr>\n",
              "    <tr>\n",
              "      <th>1992-12-31</th>\n",
              "      <td>415.747008</td>\n",
              "      <td>394.50</td>\n",
              "      <td>441.28</td>\n",
              "    </tr>\n",
              "    <tr>\n",
              "      <th>1993-12-31</th>\n",
              "      <td>451.614822</td>\n",
              "      <td>429.05</td>\n",
              "      <td>470.94</td>\n",
              "    </tr>\n",
              "    <tr>\n",
              "      <th>1994-12-31</th>\n",
              "      <td>460.416508</td>\n",
              "      <td>438.92</td>\n",
              "      <td>482.00</td>\n",
              "    </tr>\n",
              "    <tr>\n",
              "      <th>1995-12-31</th>\n",
              "      <td>541.719087</td>\n",
              "      <td>459.11</td>\n",
              "      <td>621.69</td>\n",
              "    </tr>\n",
              "    <tr>\n",
              "      <th>1996-12-31</th>\n",
              "      <td>670.494843</td>\n",
              "      <td>598.48</td>\n",
              "      <td>757.03</td>\n",
              "    </tr>\n",
              "    <tr>\n",
              "      <th>1997-12-31</th>\n",
              "      <td>873.427787</td>\n",
              "      <td>737.01</td>\n",
              "      <td>983.79</td>\n",
              "    </tr>\n",
              "    <tr>\n",
              "      <th>1998-12-31</th>\n",
              "      <td>1085.503254</td>\n",
              "      <td>927.69</td>\n",
              "      <td>1241.81</td>\n",
              "    </tr>\n",
              "    <tr>\n",
              "      <th>1999-12-31</th>\n",
              "      <td>1327.329563</td>\n",
              "      <td>1212.19</td>\n",
              "      <td>1469.25</td>\n",
              "    </tr>\n",
              "    <tr>\n",
              "      <th>2000-12-31</th>\n",
              "      <td>1427.221071</td>\n",
              "      <td>1264.74</td>\n",
              "      <td>1527.46</td>\n",
              "    </tr>\n",
              "    <tr>\n",
              "      <th>2001-12-31</th>\n",
              "      <td>1194.178992</td>\n",
              "      <td>965.80</td>\n",
              "      <td>1373.73</td>\n",
              "    </tr>\n",
              "    <tr>\n",
              "      <th>2002-12-31</th>\n",
              "      <td>993.934802</td>\n",
              "      <td>776.76</td>\n",
              "      <td>1172.51</td>\n",
              "    </tr>\n",
              "    <tr>\n",
              "      <th>2003-12-31</th>\n",
              "      <td>965.227540</td>\n",
              "      <td>800.73</td>\n",
              "      <td>1111.92</td>\n",
              "    </tr>\n",
              "    <tr>\n",
              "      <th>2004-12-31</th>\n",
              "      <td>1130.649444</td>\n",
              "      <td>1063.23</td>\n",
              "      <td>1213.55</td>\n",
              "    </tr>\n",
              "    <tr>\n",
              "      <th>2005-12-31</th>\n",
              "      <td>1207.229444</td>\n",
              "      <td>1137.50</td>\n",
              "      <td>1272.74</td>\n",
              "    </tr>\n",
              "    <tr>\n",
              "      <th>2006-12-31</th>\n",
              "      <td>1310.461633</td>\n",
              "      <td>1223.69</td>\n",
              "      <td>1427.09</td>\n",
              "    </tr>\n",
              "    <tr>\n",
              "      <th>2007-12-31</th>\n",
              "      <td>1477.184343</td>\n",
              "      <td>1374.12</td>\n",
              "      <td>1565.15</td>\n",
              "    </tr>\n",
              "    <tr>\n",
              "      <th>2008-12-31</th>\n",
              "      <td>1220.042055</td>\n",
              "      <td>752.44</td>\n",
              "      <td>1447.16</td>\n",
              "    </tr>\n",
              "    <tr>\n",
              "      <th>2009-12-31</th>\n",
              "      <td>948.046389</td>\n",
              "      <td>676.53</td>\n",
              "      <td>1127.78</td>\n",
              "    </tr>\n",
              "    <tr>\n",
              "      <th>2010-12-31</th>\n",
              "      <td>1139.965516</td>\n",
              "      <td>1022.58</td>\n",
              "      <td>1259.78</td>\n",
              "    </tr>\n",
              "    <tr>\n",
              "      <th>2011-12-31</th>\n",
              "      <td>1276.093015</td>\n",
              "      <td>1099.23</td>\n",
              "      <td>1363.61</td>\n",
              "    </tr>\n",
              "  </tbody>\n",
              "</table>\n",
              "</div>"
            ],
            "text/plain": [
              "                   mean      min      max\n",
              "dt                                       \n",
              "1990-12-31   334.123506   295.46   368.95\n",
              "1991-12-31   376.186324   311.49   417.09\n",
              "1992-12-31   415.747008   394.50   441.28\n",
              "1993-12-31   451.614822   429.05   470.94\n",
              "1994-12-31   460.416508   438.92   482.00\n",
              "1995-12-31   541.719087   459.11   621.69\n",
              "1996-12-31   670.494843   598.48   757.03\n",
              "1997-12-31   873.427787   737.01   983.79\n",
              "1998-12-31  1085.503254   927.69  1241.81\n",
              "1999-12-31  1327.329563  1212.19  1469.25\n",
              "2000-12-31  1427.221071  1264.74  1527.46\n",
              "2001-12-31  1194.178992   965.80  1373.73\n",
              "2002-12-31   993.934802   776.76  1172.51\n",
              "2003-12-31   965.227540   800.73  1111.92\n",
              "2004-12-31  1130.649444  1063.23  1213.55\n",
              "2005-12-31  1207.229444  1137.50  1272.74\n",
              "2006-12-31  1310.461633  1223.69  1427.09\n",
              "2007-12-31  1477.184343  1374.12  1565.15\n",
              "2008-12-31  1220.042055   752.44  1447.16\n",
              "2009-12-31   948.046389   676.53  1127.78\n",
              "2010-12-31  1139.965516  1022.58  1259.78\n",
              "2011-12-31  1276.093015  1099.23  1363.61"
            ]
          },
          "metadata": {},
          "execution_count": 52
        }
      ]
    },
    {
      "cell_type": "code",
      "metadata": {
        "colab": {
          "base_uri": "https://localhost:8080/",
          "height": 455
        },
        "id": "zK62LxIJLwHQ",
        "outputId": "27ef30af-f036-4207-f4fe-f4b1d500b9e9"
      },
      "source": [
        "# 분기(Quarter)별 통계\n",
        "df.resample('Q')['SPX'].agg(['mean', 'min', 'max'])"
      ],
      "execution_count": 53,
      "outputs": [
        {
          "output_type": "execute_result",
          "data": {
            "text/html": [
              "<div>\n",
              "<style scoped>\n",
              "    .dataframe tbody tr th:only-of-type {\n",
              "        vertical-align: middle;\n",
              "    }\n",
              "\n",
              "    .dataframe tbody tr th {\n",
              "        vertical-align: top;\n",
              "    }\n",
              "\n",
              "    .dataframe thead th {\n",
              "        text-align: right;\n",
              "    }\n",
              "</style>\n",
              "<table border=\"1\" class=\"dataframe\">\n",
              "  <thead>\n",
              "    <tr style=\"text-align: right;\">\n",
              "      <th></th>\n",
              "      <th>mean</th>\n",
              "      <th>min</th>\n",
              "      <th>max</th>\n",
              "    </tr>\n",
              "    <tr>\n",
              "      <th>dt</th>\n",
              "      <th></th>\n",
              "      <th></th>\n",
              "      <th></th>\n",
              "    </tr>\n",
              "  </thead>\n",
              "  <tbody>\n",
              "    <tr>\n",
              "      <th>1990-03-31</th>\n",
              "      <td>334.751951</td>\n",
              "      <td>324.15</td>\n",
              "      <td>343.53</td>\n",
              "    </tr>\n",
              "    <tr>\n",
              "      <th>1990-06-30</th>\n",
              "      <td>349.796508</td>\n",
              "      <td>329.11</td>\n",
              "      <td>367.40</td>\n",
              "    </tr>\n",
              "    <tr>\n",
              "      <th>1990-09-30</th>\n",
              "      <td>335.881746</td>\n",
              "      <td>300.97</td>\n",
              "      <td>368.95</td>\n",
              "    </tr>\n",
              "    <tr>\n",
              "      <th>1990-12-31</th>\n",
              "      <td>316.562031</td>\n",
              "      <td>295.46</td>\n",
              "      <td>331.75</td>\n",
              "    </tr>\n",
              "    <tr>\n",
              "      <th>1991-03-31</th>\n",
              "      <td>352.282951</td>\n",
              "      <td>311.49</td>\n",
              "      <td>376.72</td>\n",
              "    </tr>\n",
              "    <tr>\n",
              "      <th>...</th>\n",
              "      <td>...</td>\n",
              "      <td>...</td>\n",
              "      <td>...</td>\n",
              "    </tr>\n",
              "    <tr>\n",
              "      <th>2010-12-31</th>\n",
              "      <td>1204.585625</td>\n",
              "      <td>1137.03</td>\n",
              "      <td>1259.78</td>\n",
              "    </tr>\n",
              "    <tr>\n",
              "      <th>2011-03-31</th>\n",
              "      <td>1302.529032</td>\n",
              "      <td>1256.88</td>\n",
              "      <td>1343.01</td>\n",
              "    </tr>\n",
              "    <tr>\n",
              "      <th>2011-06-30</th>\n",
              "      <td>1318.332857</td>\n",
              "      <td>1265.42</td>\n",
              "      <td>1363.61</td>\n",
              "    </tr>\n",
              "    <tr>\n",
              "      <th>2011-09-30</th>\n",
              "      <td>1225.268437</td>\n",
              "      <td>1119.46</td>\n",
              "      <td>1353.22</td>\n",
              "    </tr>\n",
              "    <tr>\n",
              "      <th>2011-12-31</th>\n",
              "      <td>1171.356000</td>\n",
              "      <td>1099.23</td>\n",
              "      <td>1224.58</td>\n",
              "    </tr>\n",
              "  </tbody>\n",
              "</table>\n",
              "<p>88 rows × 3 columns</p>\n",
              "</div>"
            ],
            "text/plain": [
              "                   mean      min      max\n",
              "dt                                       \n",
              "1990-03-31   334.751951   324.15   343.53\n",
              "1990-06-30   349.796508   329.11   367.40\n",
              "1990-09-30   335.881746   300.97   368.95\n",
              "1990-12-31   316.562031   295.46   331.75\n",
              "1991-03-31   352.282951   311.49   376.72\n",
              "...                 ...      ...      ...\n",
              "2010-12-31  1204.585625  1137.03  1259.78\n",
              "2011-03-31  1302.529032  1256.88  1343.01\n",
              "2011-06-30  1318.332857  1265.42  1363.61\n",
              "2011-09-30  1225.268437  1119.46  1353.22\n",
              "2011-12-31  1171.356000  1099.23  1224.58\n",
              "\n",
              "[88 rows x 3 columns]"
            ]
          },
          "metadata": {},
          "execution_count": 53
        }
      ]
    },
    {
      "cell_type": "code",
      "metadata": {
        "colab": {
          "base_uri": "https://localhost:8080/",
          "height": 455
        },
        "id": "15bwmEm_L5FZ",
        "outputId": "c1fb7af4-60d3-458e-81d1-4639849438ef"
      },
      "source": [
        "# 월(Month)별 통계\n",
        "df.resample('M')['SPX'].agg(['mean', 'min', 'max'])"
      ],
      "execution_count": 54,
      "outputs": [
        {
          "output_type": "execute_result",
          "data": {
            "text/html": [
              "<div>\n",
              "<style scoped>\n",
              "    .dataframe tbody tr th:only-of-type {\n",
              "        vertical-align: middle;\n",
              "    }\n",
              "\n",
              "    .dataframe tbody tr th {\n",
              "        vertical-align: top;\n",
              "    }\n",
              "\n",
              "    .dataframe thead th {\n",
              "        text-align: right;\n",
              "    }\n",
              "</style>\n",
              "<table border=\"1\" class=\"dataframe\">\n",
              "  <thead>\n",
              "    <tr style=\"text-align: right;\">\n",
              "      <th></th>\n",
              "      <th>mean</th>\n",
              "      <th>min</th>\n",
              "      <th>max</th>\n",
              "    </tr>\n",
              "    <tr>\n",
              "      <th>dt</th>\n",
              "      <th></th>\n",
              "      <th></th>\n",
              "      <th></th>\n",
              "    </tr>\n",
              "  </thead>\n",
              "  <tbody>\n",
              "    <tr>\n",
              "      <th>1990-02-28</th>\n",
              "      <td>330.452632</td>\n",
              "      <td>324.15</td>\n",
              "      <td>334.89</td>\n",
              "    </tr>\n",
              "    <tr>\n",
              "      <th>1990-03-31</th>\n",
              "      <td>338.465000</td>\n",
              "      <td>332.74</td>\n",
              "      <td>343.53</td>\n",
              "    </tr>\n",
              "    <tr>\n",
              "      <th>1990-04-30</th>\n",
              "      <td>338.178000</td>\n",
              "      <td>329.11</td>\n",
              "      <td>344.74</td>\n",
              "    </tr>\n",
              "    <tr>\n",
              "      <th>1990-05-31</th>\n",
              "      <td>350.250000</td>\n",
              "      <td>332.25</td>\n",
              "      <td>361.23</td>\n",
              "    </tr>\n",
              "    <tr>\n",
              "      <th>1990-06-30</th>\n",
              "      <td>360.386667</td>\n",
              "      <td>352.06</td>\n",
              "      <td>367.40</td>\n",
              "    </tr>\n",
              "    <tr>\n",
              "      <th>...</th>\n",
              "      <td>...</td>\n",
              "      <td>...</td>\n",
              "      <td>...</td>\n",
              "    </tr>\n",
              "    <tr>\n",
              "      <th>2011-06-30</th>\n",
              "      <td>1287.288636</td>\n",
              "      <td>1265.42</td>\n",
              "      <td>1320.64</td>\n",
              "    </tr>\n",
              "    <tr>\n",
              "      <th>2011-07-31</th>\n",
              "      <td>1325.184500</td>\n",
              "      <td>1292.28</td>\n",
              "      <td>1353.22</td>\n",
              "    </tr>\n",
              "    <tr>\n",
              "      <th>2011-08-31</th>\n",
              "      <td>1185.305652</td>\n",
              "      <td>1119.46</td>\n",
              "      <td>1286.94</td>\n",
              "    </tr>\n",
              "    <tr>\n",
              "      <th>2011-09-30</th>\n",
              "      <td>1173.879048</td>\n",
              "      <td>1129.56</td>\n",
              "      <td>1216.01</td>\n",
              "    </tr>\n",
              "    <tr>\n",
              "      <th>2011-10-31</th>\n",
              "      <td>1171.356000</td>\n",
              "      <td>1099.23</td>\n",
              "      <td>1224.58</td>\n",
              "    </tr>\n",
              "  </tbody>\n",
              "</table>\n",
              "<p>261 rows × 3 columns</p>\n",
              "</div>"
            ],
            "text/plain": [
              "                   mean      min      max\n",
              "dt                                       \n",
              "1990-02-28   330.452632   324.15   334.89\n",
              "1990-03-31   338.465000   332.74   343.53\n",
              "1990-04-30   338.178000   329.11   344.74\n",
              "1990-05-31   350.250000   332.25   361.23\n",
              "1990-06-30   360.386667   352.06   367.40\n",
              "...                 ...      ...      ...\n",
              "2011-06-30  1287.288636  1265.42  1320.64\n",
              "2011-07-31  1325.184500  1292.28  1353.22\n",
              "2011-08-31  1185.305652  1119.46  1286.94\n",
              "2011-09-30  1173.879048  1129.56  1216.01\n",
              "2011-10-31  1171.356000  1099.23  1224.58\n",
              "\n",
              "[261 rows x 3 columns]"
            ]
          },
          "metadata": {},
          "execution_count": 54
        }
      ]
    },
    {
      "cell_type": "code",
      "metadata": {
        "id": "OV4jmZWgMgAH"
      },
      "source": [
        "# CSV 파일을 읽을 때, 날짜/시간 포맷의 문자열을 datetime 객체로 자동 변환\n",
        "df2 = pd.read_csv(file_path, parse_dates=['Date'])\n",
        "#> parse_dates: datetime 객체로 변환할 컬럼 이름들의 리스트.\n",
        "#> parse_dates의 기본값은 False - 문자열을 datetime으로 자동 변환하지 않음."
      ],
      "execution_count": 55,
      "outputs": []
    },
    {
      "cell_type": "code",
      "metadata": {
        "colab": {
          "base_uri": "https://localhost:8080/",
          "height": 206
        },
        "id": "Np9Gmwr4N71L",
        "outputId": "11148425-d98b-4b29-de3a-174d1498593d"
      },
      "source": [
        "df2.head()"
      ],
      "execution_count": 56,
      "outputs": [
        {
          "output_type": "execute_result",
          "data": {
            "text/html": [
              "<div>\n",
              "<style scoped>\n",
              "    .dataframe tbody tr th:only-of-type {\n",
              "        vertical-align: middle;\n",
              "    }\n",
              "\n",
              "    .dataframe tbody tr th {\n",
              "        vertical-align: top;\n",
              "    }\n",
              "\n",
              "    .dataframe thead th {\n",
              "        text-align: right;\n",
              "    }\n",
              "</style>\n",
              "<table border=\"1\" class=\"dataframe\">\n",
              "  <thead>\n",
              "    <tr style=\"text-align: right;\">\n",
              "      <th></th>\n",
              "      <th>Date</th>\n",
              "      <th>SPX</th>\n",
              "    </tr>\n",
              "  </thead>\n",
              "  <tbody>\n",
              "    <tr>\n",
              "      <th>0</th>\n",
              "      <td>1990-02-01</td>\n",
              "      <td>328.79</td>\n",
              "    </tr>\n",
              "    <tr>\n",
              "      <th>1</th>\n",
              "      <td>1990-02-02</td>\n",
              "      <td>330.92</td>\n",
              "    </tr>\n",
              "    <tr>\n",
              "      <th>2</th>\n",
              "      <td>1990-02-05</td>\n",
              "      <td>331.85</td>\n",
              "    </tr>\n",
              "    <tr>\n",
              "      <th>3</th>\n",
              "      <td>1990-02-06</td>\n",
              "      <td>329.66</td>\n",
              "    </tr>\n",
              "    <tr>\n",
              "      <th>4</th>\n",
              "      <td>1990-02-07</td>\n",
              "      <td>333.75</td>\n",
              "    </tr>\n",
              "  </tbody>\n",
              "</table>\n",
              "</div>"
            ],
            "text/plain": [
              "        Date     SPX\n",
              "0 1990-02-01  328.79\n",
              "1 1990-02-02  330.92\n",
              "2 1990-02-05  331.85\n",
              "3 1990-02-06  329.66\n",
              "4 1990-02-07  333.75"
            ]
          },
          "metadata": {},
          "execution_count": 56
        }
      ]
    },
    {
      "cell_type": "code",
      "metadata": {
        "colab": {
          "base_uri": "https://localhost:8080/"
        },
        "id": "ZpyDom6-N-T4",
        "outputId": "c0838211-cc3c-4670-f205-9e4c5a597da7"
      },
      "source": [
        "df2.info()"
      ],
      "execution_count": 57,
      "outputs": [
        {
          "output_type": "stream",
          "text": [
            "<class 'pandas.core.frame.DataFrame'>\n",
            "RangeIndex: 5472 entries, 0 to 5471\n",
            "Data columns (total 2 columns):\n",
            " #   Column  Non-Null Count  Dtype         \n",
            "---  ------  --------------  -----         \n",
            " 0   Date    5472 non-null   datetime64[ns]\n",
            " 1   SPX     5472 non-null   float64       \n",
            "dtypes: datetime64[ns](1), float64(1)\n",
            "memory usage: 85.6 KB\n"
          ],
          "name": "stdout"
        }
      ]
    },
    {
      "cell_type": "code",
      "metadata": {
        "colab": {
          "base_uri": "https://localhost:8080/",
          "height": 237
        },
        "id": "1pesBy1YOaa-",
        "outputId": "54c7b721-9e63-41b1-d15e-2245d54ca09c"
      },
      "source": [
        "# datetime 객체를 저장하는 컬럼을 (row) index로 설정 -> resample 메서드를 사용하기 위해서\n",
        "df2 = df2.set_index('Date')\n",
        "df2.head()"
      ],
      "execution_count": 58,
      "outputs": [
        {
          "output_type": "execute_result",
          "data": {
            "text/html": [
              "<div>\n",
              "<style scoped>\n",
              "    .dataframe tbody tr th:only-of-type {\n",
              "        vertical-align: middle;\n",
              "    }\n",
              "\n",
              "    .dataframe tbody tr th {\n",
              "        vertical-align: top;\n",
              "    }\n",
              "\n",
              "    .dataframe thead th {\n",
              "        text-align: right;\n",
              "    }\n",
              "</style>\n",
              "<table border=\"1\" class=\"dataframe\">\n",
              "  <thead>\n",
              "    <tr style=\"text-align: right;\">\n",
              "      <th></th>\n",
              "      <th>SPX</th>\n",
              "    </tr>\n",
              "    <tr>\n",
              "      <th>Date</th>\n",
              "      <th></th>\n",
              "    </tr>\n",
              "  </thead>\n",
              "  <tbody>\n",
              "    <tr>\n",
              "      <th>1990-02-01</th>\n",
              "      <td>328.79</td>\n",
              "    </tr>\n",
              "    <tr>\n",
              "      <th>1990-02-02</th>\n",
              "      <td>330.92</td>\n",
              "    </tr>\n",
              "    <tr>\n",
              "      <th>1990-02-05</th>\n",
              "      <td>331.85</td>\n",
              "    </tr>\n",
              "    <tr>\n",
              "      <th>1990-02-06</th>\n",
              "      <td>329.66</td>\n",
              "    </tr>\n",
              "    <tr>\n",
              "      <th>1990-02-07</th>\n",
              "      <td>333.75</td>\n",
              "    </tr>\n",
              "  </tbody>\n",
              "</table>\n",
              "</div>"
            ],
            "text/plain": [
              "               SPX\n",
              "Date              \n",
              "1990-02-01  328.79\n",
              "1990-02-02  330.92\n",
              "1990-02-05  331.85\n",
              "1990-02-06  329.66\n",
              "1990-02-07  333.75"
            ]
          },
          "metadata": {},
          "execution_count": 58
        }
      ]
    },
    {
      "cell_type": "code",
      "metadata": {
        "id": "-DNJsXgdOevm"
      },
      "source": [
        "df3 = pd.read_csv(file_path, parse_dates=['Date'], index_col=['Date'])\n",
        "#> parse_dates: datetime 객체로 변환할 컬럼들의 리스트\n",
        "# parse_dates 파라미터를 사용하는 대신에, pd.to_datetime() 함수를 이용할 수도 있음.\n",
        "#> index_col: (row) index로 만들 컬럼들의 리스트\n",
        "# index_col 파라미터를 사용하는 대신에, pd.DataFrame.set_index() 메서드를 이용할 수도 있음."
      ],
      "execution_count": 59,
      "outputs": []
    },
    {
      "cell_type": "code",
      "metadata": {
        "colab": {
          "base_uri": "https://localhost:8080/",
          "height": 237
        },
        "id": "FM6ONKBgSeLP",
        "outputId": "1b8da4e6-044c-4465-b2c6-28d487e4089b"
      },
      "source": [
        "df3.head()"
      ],
      "execution_count": 61,
      "outputs": [
        {
          "output_type": "execute_result",
          "data": {
            "text/html": [
              "<div>\n",
              "<style scoped>\n",
              "    .dataframe tbody tr th:only-of-type {\n",
              "        vertical-align: middle;\n",
              "    }\n",
              "\n",
              "    .dataframe tbody tr th {\n",
              "        vertical-align: top;\n",
              "    }\n",
              "\n",
              "    .dataframe thead th {\n",
              "        text-align: right;\n",
              "    }\n",
              "</style>\n",
              "<table border=\"1\" class=\"dataframe\">\n",
              "  <thead>\n",
              "    <tr style=\"text-align: right;\">\n",
              "      <th></th>\n",
              "      <th>SPX</th>\n",
              "    </tr>\n",
              "    <tr>\n",
              "      <th>Date</th>\n",
              "      <th></th>\n",
              "    </tr>\n",
              "  </thead>\n",
              "  <tbody>\n",
              "    <tr>\n",
              "      <th>1990-02-01</th>\n",
              "      <td>328.79</td>\n",
              "    </tr>\n",
              "    <tr>\n",
              "      <th>1990-02-02</th>\n",
              "      <td>330.92</td>\n",
              "    </tr>\n",
              "    <tr>\n",
              "      <th>1990-02-05</th>\n",
              "      <td>331.85</td>\n",
              "    </tr>\n",
              "    <tr>\n",
              "      <th>1990-02-06</th>\n",
              "      <td>329.66</td>\n",
              "    </tr>\n",
              "    <tr>\n",
              "      <th>1990-02-07</th>\n",
              "      <td>333.75</td>\n",
              "    </tr>\n",
              "  </tbody>\n",
              "</table>\n",
              "</div>"
            ],
            "text/plain": [
              "               SPX\n",
              "Date              \n",
              "1990-02-01  328.79\n",
              "1990-02-02  330.92\n",
              "1990-02-05  331.85\n",
              "1990-02-06  329.66\n",
              "1990-02-07  333.75"
            ]
          },
          "metadata": {},
          "execution_count": 61
        }
      ]
    },
    {
      "cell_type": "code",
      "metadata": {
        "colab": {
          "base_uri": "https://localhost:8080/"
        },
        "id": "8zj-bT35SfMu",
        "outputId": "8440e0fa-9fef-4405-da29-5ee84b242a71"
      },
      "source": [
        "df3.info()"
      ],
      "execution_count": 62,
      "outputs": [
        {
          "output_type": "stream",
          "text": [
            "<class 'pandas.core.frame.DataFrame'>\n",
            "DatetimeIndex: 5472 entries, 1990-02-01 to 2011-10-14\n",
            "Data columns (total 1 columns):\n",
            " #   Column  Non-Null Count  Dtype  \n",
            "---  ------  --------------  -----  \n",
            " 0   SPX     5472 non-null   float64\n",
            "dtypes: float64(1)\n",
            "memory usage: 85.5 KB\n"
          ],
          "name": "stdout"
        }
      ]
    },
    {
      "cell_type": "markdown",
      "metadata": {
        "id": "TO4nrXLp3rRZ"
      },
      "source": [
        "## banklist 데이터프레임"
      ]
    },
    {
      "cell_type": "markdown",
      "metadata": {
        "id": "3Rnp2prlVb-R"
      },
      "source": [
        "* github에 저장된 banklist.csv 파일을 읽고, 데이터 프레임을 생성\n",
        "* datetime 타입으로 변환할 수 있는 컬럼(들)을 타입 변환\n",
        "* 연도별 파산한 은행 숫자를 찾고, 시각화\n",
        "* 분기별 파산한 은행 숫자를 찾고, 시각화"
      ]
    },
    {
      "cell_type": "code",
      "metadata": {
        "id": "aojU0sUwV8-v"
      },
      "source": [
        "import matplotlib.pyplot as plt\n",
        "import pandas as pd\n",
        "import seaborn as sns"
      ],
      "execution_count": 64,
      "outputs": []
    },
    {
      "cell_type": "code",
      "metadata": {
        "id": "5-yisHrTSi--"
      },
      "source": [
        "bank_file = 'https://github.com/JakeOh/202105_itw_bd26/raw/main/datasets/banklist.csv'"
      ],
      "execution_count": 65,
      "outputs": []
    },
    {
      "cell_type": "code",
      "metadata": {
        "id": "PNo6eSToUAJv"
      },
      "source": [
        "banks = pd.read_csv(bank_file)  # csv 파일을 읽고 DataFrame 생성"
      ],
      "execution_count": 66,
      "outputs": []
    },
    {
      "cell_type": "code",
      "metadata": {
        "colab": {
          "base_uri": "https://localhost:8080/",
          "height": 206
        },
        "id": "V3eFpQsZtw1X",
        "outputId": "6b23c640-254d-42c5-9e3b-6609ad605050"
      },
      "source": [
        "banks.head()"
      ],
      "execution_count": 67,
      "outputs": [
        {
          "output_type": "execute_result",
          "data": {
            "text/html": [
              "<div>\n",
              "<style scoped>\n",
              "    .dataframe tbody tr th:only-of-type {\n",
              "        vertical-align: middle;\n",
              "    }\n",
              "\n",
              "    .dataframe tbody tr th {\n",
              "        vertical-align: top;\n",
              "    }\n",
              "\n",
              "    .dataframe thead th {\n",
              "        text-align: right;\n",
              "    }\n",
              "</style>\n",
              "<table border=\"1\" class=\"dataframe\">\n",
              "  <thead>\n",
              "    <tr style=\"text-align: right;\">\n",
              "      <th></th>\n",
              "      <th>Bank Name</th>\n",
              "      <th>City</th>\n",
              "      <th>ST</th>\n",
              "      <th>CERT</th>\n",
              "      <th>Acquiring Institution</th>\n",
              "      <th>Closing Date</th>\n",
              "      <th>Updated Date</th>\n",
              "    </tr>\n",
              "  </thead>\n",
              "  <tbody>\n",
              "    <tr>\n",
              "      <th>0</th>\n",
              "      <td>Washington Federal Bank for Savings</td>\n",
              "      <td>Chicago</td>\n",
              "      <td>IL</td>\n",
              "      <td>30570</td>\n",
              "      <td>Royal Savings Bank</td>\n",
              "      <td>15-Dec-17</td>\n",
              "      <td>20-Dec-17</td>\n",
              "    </tr>\n",
              "    <tr>\n",
              "      <th>1</th>\n",
              "      <td>The Farmers and Merchants State Bank of Argonia</td>\n",
              "      <td>Argonia</td>\n",
              "      <td>KS</td>\n",
              "      <td>17719</td>\n",
              "      <td>Conway Bank</td>\n",
              "      <td>13-Oct-17</td>\n",
              "      <td>20-Oct-17</td>\n",
              "    </tr>\n",
              "    <tr>\n",
              "      <th>2</th>\n",
              "      <td>Fayette County Bank</td>\n",
              "      <td>Saint Elmo</td>\n",
              "      <td>IL</td>\n",
              "      <td>1802</td>\n",
              "      <td>United Fidelity Bank, fsb</td>\n",
              "      <td>26-May-17</td>\n",
              "      <td>26-Jul-17</td>\n",
              "    </tr>\n",
              "    <tr>\n",
              "      <th>3</th>\n",
              "      <td>Guaranty Bank, (d/b/a BestBank in Georgia &amp; Mi...</td>\n",
              "      <td>Milwaukee</td>\n",
              "      <td>WI</td>\n",
              "      <td>30003</td>\n",
              "      <td>First-Citizens Bank &amp; Trust Company</td>\n",
              "      <td>5-May-17</td>\n",
              "      <td>26-Jul-17</td>\n",
              "    </tr>\n",
              "    <tr>\n",
              "      <th>4</th>\n",
              "      <td>First NBC Bank</td>\n",
              "      <td>New Orleans</td>\n",
              "      <td>LA</td>\n",
              "      <td>58302</td>\n",
              "      <td>Whitney Bank</td>\n",
              "      <td>28-Apr-17</td>\n",
              "      <td>5-Dec-17</td>\n",
              "    </tr>\n",
              "  </tbody>\n",
              "</table>\n",
              "</div>"
            ],
            "text/plain": [
              "                                           Bank Name  ... Updated Date\n",
              "0                Washington Federal Bank for Savings  ...    20-Dec-17\n",
              "1    The Farmers and Merchants State Bank of Argonia  ...    20-Oct-17\n",
              "2                                Fayette County Bank  ...    26-Jul-17\n",
              "3  Guaranty Bank, (d/b/a BestBank in Georgia & Mi...  ...    26-Jul-17\n",
              "4                                     First NBC Bank  ...     5-Dec-17\n",
              "\n",
              "[5 rows x 7 columns]"
            ]
          },
          "metadata": {},
          "execution_count": 67
        }
      ]
    },
    {
      "cell_type": "code",
      "metadata": {
        "colab": {
          "base_uri": "https://localhost:8080/"
        },
        "id": "s8JlA_7Ht9Jo",
        "outputId": "f19f87b2-1c84-4a1a-9b38-79cb0ad9a1a1"
      },
      "source": [
        "banks.info()"
      ],
      "execution_count": 68,
      "outputs": [
        {
          "output_type": "stream",
          "text": [
            "<class 'pandas.core.frame.DataFrame'>\n",
            "RangeIndex: 555 entries, 0 to 554\n",
            "Data columns (total 7 columns):\n",
            " #   Column                 Non-Null Count  Dtype \n",
            "---  ------                 --------------  ----- \n",
            " 0   Bank Name              555 non-null    object\n",
            " 1   City                   555 non-null    object\n",
            " 2   ST                     555 non-null    object\n",
            " 3   CERT                   555 non-null    int64 \n",
            " 4   Acquiring Institution  555 non-null    object\n",
            " 5   Closing Date           555 non-null    object\n",
            " 6   Updated Date           555 non-null    object\n",
            "dtypes: int64(1), object(6)\n",
            "memory usage: 30.5+ KB\n"
          ],
          "name": "stdout"
        }
      ]
    },
    {
      "cell_type": "code",
      "metadata": {
        "id": "2KKnKEGauXmo"
      },
      "source": [
        "# 'Closing Date' 컬럼을 datetime 타입으로 변환\n",
        "banks['Closing Date'] = pd.to_datetime(banks['Closing Date'])"
      ],
      "execution_count": 69,
      "outputs": []
    },
    {
      "cell_type": "code",
      "metadata": {
        "colab": {
          "base_uri": "https://localhost:8080/"
        },
        "id": "8JKSEqo7u9Lw",
        "outputId": "e9cb07b6-2b8e-48fe-a3f3-001ca9bc7862"
      },
      "source": [
        "banks.info()"
      ],
      "execution_count": 70,
      "outputs": [
        {
          "output_type": "stream",
          "text": [
            "<class 'pandas.core.frame.DataFrame'>\n",
            "RangeIndex: 555 entries, 0 to 554\n",
            "Data columns (total 7 columns):\n",
            " #   Column                 Non-Null Count  Dtype         \n",
            "---  ------                 --------------  -----         \n",
            " 0   Bank Name              555 non-null    object        \n",
            " 1   City                   555 non-null    object        \n",
            " 2   ST                     555 non-null    object        \n",
            " 3   CERT                   555 non-null    int64         \n",
            " 4   Acquiring Institution  555 non-null    object        \n",
            " 5   Closing Date           555 non-null    datetime64[ns]\n",
            " 6   Updated Date           555 non-null    object        \n",
            "dtypes: datetime64[ns](1), int64(1), object(5)\n",
            "memory usage: 30.5+ KB\n"
          ],
          "name": "stdout"
        }
      ]
    },
    {
      "cell_type": "code",
      "metadata": {
        "colab": {
          "base_uri": "https://localhost:8080/",
          "height": 206
        },
        "id": "L8EUFxQTvDxZ",
        "outputId": "f1725fc8-986e-499d-b996-f3c2e814bbe1"
      },
      "source": [
        "banks.head()"
      ],
      "execution_count": 71,
      "outputs": [
        {
          "output_type": "execute_result",
          "data": {
            "text/html": [
              "<div>\n",
              "<style scoped>\n",
              "    .dataframe tbody tr th:only-of-type {\n",
              "        vertical-align: middle;\n",
              "    }\n",
              "\n",
              "    .dataframe tbody tr th {\n",
              "        vertical-align: top;\n",
              "    }\n",
              "\n",
              "    .dataframe thead th {\n",
              "        text-align: right;\n",
              "    }\n",
              "</style>\n",
              "<table border=\"1\" class=\"dataframe\">\n",
              "  <thead>\n",
              "    <tr style=\"text-align: right;\">\n",
              "      <th></th>\n",
              "      <th>Bank Name</th>\n",
              "      <th>City</th>\n",
              "      <th>ST</th>\n",
              "      <th>CERT</th>\n",
              "      <th>Acquiring Institution</th>\n",
              "      <th>Closing Date</th>\n",
              "      <th>Updated Date</th>\n",
              "    </tr>\n",
              "  </thead>\n",
              "  <tbody>\n",
              "    <tr>\n",
              "      <th>0</th>\n",
              "      <td>Washington Federal Bank for Savings</td>\n",
              "      <td>Chicago</td>\n",
              "      <td>IL</td>\n",
              "      <td>30570</td>\n",
              "      <td>Royal Savings Bank</td>\n",
              "      <td>2017-12-15</td>\n",
              "      <td>20-Dec-17</td>\n",
              "    </tr>\n",
              "    <tr>\n",
              "      <th>1</th>\n",
              "      <td>The Farmers and Merchants State Bank of Argonia</td>\n",
              "      <td>Argonia</td>\n",
              "      <td>KS</td>\n",
              "      <td>17719</td>\n",
              "      <td>Conway Bank</td>\n",
              "      <td>2017-10-13</td>\n",
              "      <td>20-Oct-17</td>\n",
              "    </tr>\n",
              "    <tr>\n",
              "      <th>2</th>\n",
              "      <td>Fayette County Bank</td>\n",
              "      <td>Saint Elmo</td>\n",
              "      <td>IL</td>\n",
              "      <td>1802</td>\n",
              "      <td>United Fidelity Bank, fsb</td>\n",
              "      <td>2017-05-26</td>\n",
              "      <td>26-Jul-17</td>\n",
              "    </tr>\n",
              "    <tr>\n",
              "      <th>3</th>\n",
              "      <td>Guaranty Bank, (d/b/a BestBank in Georgia &amp; Mi...</td>\n",
              "      <td>Milwaukee</td>\n",
              "      <td>WI</td>\n",
              "      <td>30003</td>\n",
              "      <td>First-Citizens Bank &amp; Trust Company</td>\n",
              "      <td>2017-05-05</td>\n",
              "      <td>26-Jul-17</td>\n",
              "    </tr>\n",
              "    <tr>\n",
              "      <th>4</th>\n",
              "      <td>First NBC Bank</td>\n",
              "      <td>New Orleans</td>\n",
              "      <td>LA</td>\n",
              "      <td>58302</td>\n",
              "      <td>Whitney Bank</td>\n",
              "      <td>2017-04-28</td>\n",
              "      <td>5-Dec-17</td>\n",
              "    </tr>\n",
              "  </tbody>\n",
              "</table>\n",
              "</div>"
            ],
            "text/plain": [
              "                                           Bank Name  ... Updated Date\n",
              "0                Washington Federal Bank for Savings  ...    20-Dec-17\n",
              "1    The Farmers and Merchants State Bank of Argonia  ...    20-Oct-17\n",
              "2                                Fayette County Bank  ...    26-Jul-17\n",
              "3  Guaranty Bank, (d/b/a BestBank in Georgia & Mi...  ...    26-Jul-17\n",
              "4                                     First NBC Bank  ...     5-Dec-17\n",
              "\n",
              "[5 rows x 7 columns]"
            ]
          },
          "metadata": {},
          "execution_count": 71
        }
      ]
    },
    {
      "cell_type": "code",
      "metadata": {
        "id": "o_hMMDBKv31o"
      },
      "source": [
        "# 'Updated Date' 컬럼을 datetime 타입으로 변환\n",
        "banks['Updated Date'] = pd.to_datetime(banks['Updated Date'], dayfirst=True)"
      ],
      "execution_count": 72,
      "outputs": []
    },
    {
      "cell_type": "code",
      "metadata": {
        "colab": {
          "base_uri": "https://localhost:8080/"
        },
        "id": "6vRjbpxiwJ53",
        "outputId": "d4b03104-7d7b-46ee-8258-55576634fb53"
      },
      "source": [
        "banks.info()"
      ],
      "execution_count": 73,
      "outputs": [
        {
          "output_type": "stream",
          "text": [
            "<class 'pandas.core.frame.DataFrame'>\n",
            "RangeIndex: 555 entries, 0 to 554\n",
            "Data columns (total 7 columns):\n",
            " #   Column                 Non-Null Count  Dtype         \n",
            "---  ------                 --------------  -----         \n",
            " 0   Bank Name              555 non-null    object        \n",
            " 1   City                   555 non-null    object        \n",
            " 2   ST                     555 non-null    object        \n",
            " 3   CERT                   555 non-null    int64         \n",
            " 4   Acquiring Institution  555 non-null    object        \n",
            " 5   Closing Date           555 non-null    datetime64[ns]\n",
            " 6   Updated Date           555 non-null    datetime64[ns]\n",
            "dtypes: datetime64[ns](2), int64(1), object(4)\n",
            "memory usage: 30.5+ KB\n"
          ],
          "name": "stdout"
        }
      ]
    },
    {
      "cell_type": "code",
      "metadata": {
        "colab": {
          "base_uri": "https://localhost:8080/",
          "height": 206
        },
        "id": "uCRL3-X2wMlY",
        "outputId": "4bcdfd01-0fce-4ec2-fd4c-44c75beb7318"
      },
      "source": [
        "banks.head()"
      ],
      "execution_count": 75,
      "outputs": [
        {
          "output_type": "execute_result",
          "data": {
            "text/html": [
              "<div>\n",
              "<style scoped>\n",
              "    .dataframe tbody tr th:only-of-type {\n",
              "        vertical-align: middle;\n",
              "    }\n",
              "\n",
              "    .dataframe tbody tr th {\n",
              "        vertical-align: top;\n",
              "    }\n",
              "\n",
              "    .dataframe thead th {\n",
              "        text-align: right;\n",
              "    }\n",
              "</style>\n",
              "<table border=\"1\" class=\"dataframe\">\n",
              "  <thead>\n",
              "    <tr style=\"text-align: right;\">\n",
              "      <th></th>\n",
              "      <th>Bank Name</th>\n",
              "      <th>City</th>\n",
              "      <th>ST</th>\n",
              "      <th>CERT</th>\n",
              "      <th>Acquiring Institution</th>\n",
              "      <th>Closing Date</th>\n",
              "      <th>Updated Date</th>\n",
              "    </tr>\n",
              "  </thead>\n",
              "  <tbody>\n",
              "    <tr>\n",
              "      <th>0</th>\n",
              "      <td>Washington Federal Bank for Savings</td>\n",
              "      <td>Chicago</td>\n",
              "      <td>IL</td>\n",
              "      <td>30570</td>\n",
              "      <td>Royal Savings Bank</td>\n",
              "      <td>2017-12-15</td>\n",
              "      <td>2017-12-20</td>\n",
              "    </tr>\n",
              "    <tr>\n",
              "      <th>1</th>\n",
              "      <td>The Farmers and Merchants State Bank of Argonia</td>\n",
              "      <td>Argonia</td>\n",
              "      <td>KS</td>\n",
              "      <td>17719</td>\n",
              "      <td>Conway Bank</td>\n",
              "      <td>2017-10-13</td>\n",
              "      <td>2017-10-20</td>\n",
              "    </tr>\n",
              "    <tr>\n",
              "      <th>2</th>\n",
              "      <td>Fayette County Bank</td>\n",
              "      <td>Saint Elmo</td>\n",
              "      <td>IL</td>\n",
              "      <td>1802</td>\n",
              "      <td>United Fidelity Bank, fsb</td>\n",
              "      <td>2017-05-26</td>\n",
              "      <td>2017-07-26</td>\n",
              "    </tr>\n",
              "    <tr>\n",
              "      <th>3</th>\n",
              "      <td>Guaranty Bank, (d/b/a BestBank in Georgia &amp; Mi...</td>\n",
              "      <td>Milwaukee</td>\n",
              "      <td>WI</td>\n",
              "      <td>30003</td>\n",
              "      <td>First-Citizens Bank &amp; Trust Company</td>\n",
              "      <td>2017-05-05</td>\n",
              "      <td>2017-07-26</td>\n",
              "    </tr>\n",
              "    <tr>\n",
              "      <th>4</th>\n",
              "      <td>First NBC Bank</td>\n",
              "      <td>New Orleans</td>\n",
              "      <td>LA</td>\n",
              "      <td>58302</td>\n",
              "      <td>Whitney Bank</td>\n",
              "      <td>2017-04-28</td>\n",
              "      <td>2017-12-05</td>\n",
              "    </tr>\n",
              "  </tbody>\n",
              "</table>\n",
              "</div>"
            ],
            "text/plain": [
              "                                           Bank Name  ... Updated Date\n",
              "0                Washington Federal Bank for Savings  ...   2017-12-20\n",
              "1    The Farmers and Merchants State Bank of Argonia  ...   2017-10-20\n",
              "2                                Fayette County Bank  ...   2017-07-26\n",
              "3  Guaranty Bank, (d/b/a BestBank in Georgia & Mi...  ...   2017-07-26\n",
              "4                                     First NBC Bank  ...   2017-12-05\n",
              "\n",
              "[5 rows x 7 columns]"
            ]
          },
          "metadata": {},
          "execution_count": 75
        }
      ]
    },
    {
      "cell_type": "code",
      "metadata": {
        "id": "KmzmaxjXwPMf"
      },
      "source": [
        "# 'Closing Date' 컬럼을 index로 변환\n",
        "banks = banks.set_index('Closing Date')"
      ],
      "execution_count": 76,
      "outputs": []
    },
    {
      "cell_type": "code",
      "metadata": {
        "colab": {
          "base_uri": "https://localhost:8080/",
          "height": 237
        },
        "id": "gw2EvkVrwujA",
        "outputId": "87a8ec58-f220-486e-88ca-2e62ad947c7a"
      },
      "source": [
        "banks.head()"
      ],
      "execution_count": 77,
      "outputs": [
        {
          "output_type": "execute_result",
          "data": {
            "text/html": [
              "<div>\n",
              "<style scoped>\n",
              "    .dataframe tbody tr th:only-of-type {\n",
              "        vertical-align: middle;\n",
              "    }\n",
              "\n",
              "    .dataframe tbody tr th {\n",
              "        vertical-align: top;\n",
              "    }\n",
              "\n",
              "    .dataframe thead th {\n",
              "        text-align: right;\n",
              "    }\n",
              "</style>\n",
              "<table border=\"1\" class=\"dataframe\">\n",
              "  <thead>\n",
              "    <tr style=\"text-align: right;\">\n",
              "      <th></th>\n",
              "      <th>Bank Name</th>\n",
              "      <th>City</th>\n",
              "      <th>ST</th>\n",
              "      <th>CERT</th>\n",
              "      <th>Acquiring Institution</th>\n",
              "      <th>Updated Date</th>\n",
              "    </tr>\n",
              "    <tr>\n",
              "      <th>Closing Date</th>\n",
              "      <th></th>\n",
              "      <th></th>\n",
              "      <th></th>\n",
              "      <th></th>\n",
              "      <th></th>\n",
              "      <th></th>\n",
              "    </tr>\n",
              "  </thead>\n",
              "  <tbody>\n",
              "    <tr>\n",
              "      <th>2017-12-15</th>\n",
              "      <td>Washington Federal Bank for Savings</td>\n",
              "      <td>Chicago</td>\n",
              "      <td>IL</td>\n",
              "      <td>30570</td>\n",
              "      <td>Royal Savings Bank</td>\n",
              "      <td>2017-12-20</td>\n",
              "    </tr>\n",
              "    <tr>\n",
              "      <th>2017-10-13</th>\n",
              "      <td>The Farmers and Merchants State Bank of Argonia</td>\n",
              "      <td>Argonia</td>\n",
              "      <td>KS</td>\n",
              "      <td>17719</td>\n",
              "      <td>Conway Bank</td>\n",
              "      <td>2017-10-20</td>\n",
              "    </tr>\n",
              "    <tr>\n",
              "      <th>2017-05-26</th>\n",
              "      <td>Fayette County Bank</td>\n",
              "      <td>Saint Elmo</td>\n",
              "      <td>IL</td>\n",
              "      <td>1802</td>\n",
              "      <td>United Fidelity Bank, fsb</td>\n",
              "      <td>2017-07-26</td>\n",
              "    </tr>\n",
              "    <tr>\n",
              "      <th>2017-05-05</th>\n",
              "      <td>Guaranty Bank, (d/b/a BestBank in Georgia &amp; Mi...</td>\n",
              "      <td>Milwaukee</td>\n",
              "      <td>WI</td>\n",
              "      <td>30003</td>\n",
              "      <td>First-Citizens Bank &amp; Trust Company</td>\n",
              "      <td>2017-07-26</td>\n",
              "    </tr>\n",
              "    <tr>\n",
              "      <th>2017-04-28</th>\n",
              "      <td>First NBC Bank</td>\n",
              "      <td>New Orleans</td>\n",
              "      <td>LA</td>\n",
              "      <td>58302</td>\n",
              "      <td>Whitney Bank</td>\n",
              "      <td>2017-12-05</td>\n",
              "    </tr>\n",
              "  </tbody>\n",
              "</table>\n",
              "</div>"
            ],
            "text/plain": [
              "                                                      Bank Name  ... Updated Date\n",
              "Closing Date                                                     ...             \n",
              "2017-12-15                  Washington Federal Bank for Savings  ...   2017-12-20\n",
              "2017-10-13      The Farmers and Merchants State Bank of Argonia  ...   2017-10-20\n",
              "2017-05-26                                  Fayette County Bank  ...   2017-07-26\n",
              "2017-05-05    Guaranty Bank, (d/b/a BestBank in Georgia & Mi...  ...   2017-07-26\n",
              "2017-04-28                                       First NBC Bank  ...   2017-12-05\n",
              "\n",
              "[5 rows x 6 columns]"
            ]
          },
          "metadata": {},
          "execution_count": 77
        }
      ]
    },
    {
      "cell_type": "code",
      "metadata": {
        "colab": {
          "base_uri": "https://localhost:8080/"
        },
        "id": "ecQanOoNwv1P",
        "outputId": "56f519fd-9828-4eef-8241-be64403f05c5"
      },
      "source": [
        "banks.info()"
      ],
      "execution_count": 78,
      "outputs": [
        {
          "output_type": "stream",
          "text": [
            "<class 'pandas.core.frame.DataFrame'>\n",
            "DatetimeIndex: 555 entries, 2017-12-15 to 2000-10-13\n",
            "Data columns (total 6 columns):\n",
            " #   Column                 Non-Null Count  Dtype         \n",
            "---  ------                 --------------  -----         \n",
            " 0   Bank Name              555 non-null    object        \n",
            " 1   City                   555 non-null    object        \n",
            " 2   ST                     555 non-null    object        \n",
            " 3   CERT                   555 non-null    int64         \n",
            " 4   Acquiring Institution  555 non-null    object        \n",
            " 5   Updated Date           555 non-null    datetime64[ns]\n",
            "dtypes: datetime64[ns](1), int64(1), object(4)\n",
            "memory usage: 30.4+ KB\n"
          ],
          "name": "stdout"
        }
      ]
    },
    {
      "cell_type": "code",
      "metadata": {
        "colab": {
          "base_uri": "https://localhost:8080/"
        },
        "id": "bU2AXaZGxO2_",
        "outputId": "e549bdf0-51b7-4553-9ada-6e3b2b4e7a02"
      },
      "source": [
        "# 연도별 파산한 은행 숫자\n",
        "by_year = banks.resample(rule='Y').size()\n",
        "by_year"
      ],
      "execution_count": 89,
      "outputs": [
        {
          "output_type": "execute_result",
          "data": {
            "text/plain": [
              "Closing Date\n",
              "2000-12-31      2\n",
              "2001-12-31      4\n",
              "2002-12-31     11\n",
              "2003-12-31      3\n",
              "2004-12-31      4\n",
              "2005-12-31      0\n",
              "2006-12-31      0\n",
              "2007-12-31      3\n",
              "2008-12-31     25\n",
              "2009-12-31    140\n",
              "2010-12-31    157\n",
              "2011-12-31     92\n",
              "2012-12-31     51\n",
              "2013-12-31     24\n",
              "2014-12-31     18\n",
              "2015-12-31      8\n",
              "2016-12-31      5\n",
              "2017-12-31      8\n",
              "Freq: A-DEC, dtype: int64"
            ]
          },
          "metadata": {},
          "execution_count": 89
        }
      ]
    },
    {
      "cell_type": "code",
      "metadata": {
        "colab": {
          "base_uri": "https://localhost:8080/",
          "height": 265
        },
        "id": "j09XL7wfxSFH",
        "outputId": "d2862c42-9143-4c0e-f6bd-9af2e5c7ac5e"
      },
      "source": [
        "plt.plot(by_year, marker='o')\n",
        "plt.grid()\n",
        "plt.show()"
      ],
      "execution_count": 90,
      "outputs": [
        {
          "output_type": "display_data",
          "data": {
            "image/png": "[encoded data removed]",
            "text/plain": [
              "<Figure size 432x288 with 1 Axes>"
            ]
          },
          "metadata": {
            "needs_background": "light"
          }
        }
      ]
    },
    {
      "cell_type": "code",
      "metadata": {
        "colab": {
          "base_uri": "https://localhost:8080/"
        },
        "id": "ttPoGqsvylIa",
        "outputId": "800d89b1-9e01-4791-f518-3a553185850a"
      },
      "source": [
        "# 분기별 파산한 은행 숫자\n",
        "by_quarter = banks.resample(rule='Q').size()\n",
        "by_quarter"
      ],
      "execution_count": 94,
      "outputs": [
        {
          "output_type": "execute_result",
          "data": {
            "text/plain": [
              "Closing Date\n",
              "2000-12-31    2\n",
              "2001-03-31    1\n",
              "2001-06-30    1\n",
              "2001-09-30    2\n",
              "2001-12-31    0\n",
              "             ..\n",
              "2016-12-31    0\n",
              "2017-03-31    3\n",
              "2017-06-30    3\n",
              "2017-09-30    0\n",
              "2017-12-31    2\n",
              "Freq: Q-DEC, Length: 69, dtype: int64"
            ]
          },
          "metadata": {},
          "execution_count": 94
        }
      ]
    },
    {
      "cell_type": "code",
      "metadata": {
        "colab": {
          "base_uri": "https://localhost:8080/",
          "height": 265
        },
        "id": "Nr0ulWBo0D-z",
        "outputId": "796ff281-e285-47dc-c353-000538452eb3"
      },
      "source": [
        "plt.plot(by_quarter, marker='o')\n",
        "plt.grid()\n",
        "plt.show()"
      ],
      "execution_count": 96,
      "outputs": [
        {
          "output_type": "display_data",
          "data": {
            "image/png": "[encoded data removed]",
            "text/plain": [
              "<Figure size 432x288 with 1 Axes>"
            ]
          },
          "metadata": {
            "needs_background": "light"
          }
        }
      ]
    },
    {
      "cell_type": "code",
      "metadata": {
        "colab": {
          "base_uri": "https://localhost:8080/"
        },
        "id": "RmYmg0x40znz",
        "outputId": "5439dc28-ec33-4a04-e7ab-1ca05371f103"
      },
      "source": [
        "by_month = banks.resample(rule='M').size()\n",
        "by_month"
      ],
      "execution_count": 97,
      "outputs": [
        {
          "output_type": "execute_result",
          "data": {
            "text/plain": [
              "Closing Date\n",
              "2000-10-31    1\n",
              "2000-11-30    0\n",
              "2000-12-31    1\n",
              "2001-01-31    0\n",
              "2001-02-28    1\n",
              "             ..\n",
              "2017-08-31    0\n",
              "2017-09-30    0\n",
              "2017-10-31    1\n",
              "2017-11-30    0\n",
              "2017-12-31    1\n",
              "Freq: M, Length: 207, dtype: int64"
            ]
          },
          "metadata": {},
          "execution_count": 97
        }
      ]
    },
    {
      "cell_type": "code",
      "metadata": {
        "colab": {
          "base_uri": "https://localhost:8080/",
          "height": 268
        },
        "id": "eNWrnWV605xm",
        "outputId": "4815d0b6-9195-48a2-ffd0-f7115321f650"
      },
      "source": [
        "plt.plot(by_month)\n",
        "plt.grid()\n",
        "plt.show()"
      ],
      "execution_count": 98,
      "outputs": [
        {
          "output_type": "display_data",
          "data": {
            "image/png": "[encoded data removed]",
            "text/plain": [
              "<Figure size 432x288 with 1 Axes>"
            ]
          },
          "metadata": {
            "needs_background": "light"
          }
        }
      ]
    },
    {
      "cell_type": "markdown",
      "metadata": {
        "id": "B_UFuq2j6bh-"
      },
      "source": [
        "# datetime 속성 사용하기"
      ]
    },
    {
      "cell_type": "markdown",
      "metadata": {
        "id": "PsMMXmW02Jxr"
      },
      "source": [
        "## 대기 중 NO2 농도 측정 데이터"
      ]
    },
    {
      "cell_type": "code",
      "metadata": {
        "id": "VOM1mSrk1DR9"
      },
      "source": [
        "no2_file = 'https://github.com/pandas-dev/pandas/raw/master/doc/data/air_quality_no2_long.csv'"
      ],
      "execution_count": 99,
      "outputs": []
    },
    {
      "cell_type": "markdown",
      "metadata": {
        "id": "u9U11FFG2ZAI"
      },
      "source": [
        "* csv 파일을 읽고 DataFrame을 생성\n",
        "* datetime 타입으로 변환할 수 있는 컬럼을 변환"
      ]
    },
    {
      "cell_type": "code",
      "metadata": {
        "id": "sWc9FMQl2LvW"
      },
      "source": [
        "air_quality = pd.read_csv(no2_file)"
      ],
      "execution_count": 100,
      "outputs": []
    },
    {
      "cell_type": "code",
      "metadata": {
        "colab": {
          "base_uri": "https://localhost:8080/",
          "height": 206
        },
        "id": "fuyeeCzs8MYV",
        "outputId": "55b031ce-e099-4ef8-de83-f97b1098e2e1"
      },
      "source": [
        "air_quality.head()"
      ],
      "execution_count": 101,
      "outputs": [
        {
          "output_type": "execute_result",
          "data": {
            "text/html": [
              "<div>\n",
              "<style scoped>\n",
              "    .dataframe tbody tr th:only-of-type {\n",
              "        vertical-align: middle;\n",
              "    }\n",
              "\n",
              "    .dataframe tbody tr th {\n",
              "        vertical-align: top;\n",
              "    }\n",
              "\n",
              "    .dataframe thead th {\n",
              "        text-align: right;\n",
              "    }\n",
              "</style>\n",
              "<table border=\"1\" class=\"dataframe\">\n",
              "  <thead>\n",
              "    <tr style=\"text-align: right;\">\n",
              "      <th></th>\n",
              "      <th>city</th>\n",
              "      <th>country</th>\n",
              "      <th>date.utc</th>\n",
              "      <th>location</th>\n",
              "      <th>parameter</th>\n",
              "      <th>value</th>\n",
              "      <th>unit</th>\n",
              "    </tr>\n",
              "  </thead>\n",
              "  <tbody>\n",
              "    <tr>\n",
              "      <th>0</th>\n",
              "      <td>Paris</td>\n",
              "      <td>FR</td>\n",
              "      <td>2019-06-21 00:00:00+00:00</td>\n",
              "      <td>FR04014</td>\n",
              "      <td>no2</td>\n",
              "      <td>20.0</td>\n",
              "      <td>µg/m³</td>\n",
              "    </tr>\n",
              "    <tr>\n",
              "      <th>1</th>\n",
              "      <td>Paris</td>\n",
              "      <td>FR</td>\n",
              "      <td>2019-06-20 23:00:00+00:00</td>\n",
              "      <td>FR04014</td>\n",
              "      <td>no2</td>\n",
              "      <td>21.8</td>\n",
              "      <td>µg/m³</td>\n",
              "    </tr>\n",
              "    <tr>\n",
              "      <th>2</th>\n",
              "      <td>Paris</td>\n",
              "      <td>FR</td>\n",
              "      <td>2019-06-20 22:00:00+00:00</td>\n",
              "      <td>FR04014</td>\n",
              "      <td>no2</td>\n",
              "      <td>26.5</td>\n",
              "      <td>µg/m³</td>\n",
              "    </tr>\n",
              "    <tr>\n",
              "      <th>3</th>\n",
              "      <td>Paris</td>\n",
              "      <td>FR</td>\n",
              "      <td>2019-06-20 21:00:00+00:00</td>\n",
              "      <td>FR04014</td>\n",
              "      <td>no2</td>\n",
              "      <td>24.9</td>\n",
              "      <td>µg/m³</td>\n",
              "    </tr>\n",
              "    <tr>\n",
              "      <th>4</th>\n",
              "      <td>Paris</td>\n",
              "      <td>FR</td>\n",
              "      <td>2019-06-20 20:00:00+00:00</td>\n",
              "      <td>FR04014</td>\n",
              "      <td>no2</td>\n",
              "      <td>21.4</td>\n",
              "      <td>µg/m³</td>\n",
              "    </tr>\n",
              "  </tbody>\n",
              "</table>\n",
              "</div>"
            ],
            "text/plain": [
              "    city country                   date.utc location parameter  value   unit\n",
              "0  Paris      FR  2019-06-21 00:00:00+00:00  FR04014       no2   20.0  µg/m³\n",
              "1  Paris      FR  2019-06-20 23:00:00+00:00  FR04014       no2   21.8  µg/m³\n",
              "2  Paris      FR  2019-06-20 22:00:00+00:00  FR04014       no2   26.5  µg/m³\n",
              "3  Paris      FR  2019-06-20 21:00:00+00:00  FR04014       no2   24.9  µg/m³\n",
              "4  Paris      FR  2019-06-20 20:00:00+00:00  FR04014       no2   21.4  µg/m³"
            ]
          },
          "metadata": {},
          "execution_count": 101
        }
      ]
    },
    {
      "cell_type": "code",
      "metadata": {
        "colab": {
          "base_uri": "https://localhost:8080/"
        },
        "id": "QPJRQ0q78UO-",
        "outputId": "1cfac8a6-795f-4e8b-bf05-cc213eddb12f"
      },
      "source": [
        "air_quality.info()  # date.utc 컬럼의 타입은 문자열"
      ],
      "execution_count": 102,
      "outputs": [
        {
          "output_type": "stream",
          "text": [
            "<class 'pandas.core.frame.DataFrame'>\n",
            "RangeIndex: 2068 entries, 0 to 2067\n",
            "Data columns (total 7 columns):\n",
            " #   Column     Non-Null Count  Dtype  \n",
            "---  ------     --------------  -----  \n",
            " 0   city       2068 non-null   object \n",
            " 1   country    2068 non-null   object \n",
            " 2   date.utc   2068 non-null   object \n",
            " 3   location   2068 non-null   object \n",
            " 4   parameter  2068 non-null   object \n",
            " 5   value      2068 non-null   float64\n",
            " 6   unit       2068 non-null   object \n",
            "dtypes: float64(1), object(6)\n",
            "memory usage: 113.2+ KB\n"
          ],
          "name": "stdout"
        }
      ]
    },
    {
      "cell_type": "code",
      "metadata": {
        "id": "Rw6pEFz-8pDu"
      },
      "source": [
        "# date.utc 컬럼의 타입을 datetime 타입으로 변환\n",
        "air_quality['date.utc'] = pd.to_datetime(air_quality['date.utc'])"
      ],
      "execution_count": 103,
      "outputs": []
    },
    {
      "cell_type": "code",
      "metadata": {
        "colab": {
          "base_uri": "https://localhost:8080/"
        },
        "id": "3yZ_Kuo88V-U",
        "outputId": "47e40582-3486-4167-8dac-2c8b78a63ed7"
      },
      "source": [
        "air_quality.info()  #> date.utc 컬럼의 타입은 datetime64"
      ],
      "execution_count": 104,
      "outputs": [
        {
          "output_type": "stream",
          "text": [
            "<class 'pandas.core.frame.DataFrame'>\n",
            "RangeIndex: 2068 entries, 0 to 2067\n",
            "Data columns (total 7 columns):\n",
            " #   Column     Non-Null Count  Dtype              \n",
            "---  ------     --------------  -----              \n",
            " 0   city       2068 non-null   object             \n",
            " 1   country    2068 non-null   object             \n",
            " 2   date.utc   2068 non-null   datetime64[ns, UTC]\n",
            " 3   location   2068 non-null   object             \n",
            " 4   parameter  2068 non-null   object             \n",
            " 5   value      2068 non-null   float64            \n",
            " 6   unit       2068 non-null   object             \n",
            "dtypes: datetime64[ns, UTC](1), float64(1), object(5)\n",
            "memory usage: 113.2+ KB\n"
          ],
          "name": "stdout"
        }
      ]
    },
    {
      "cell_type": "code",
      "metadata": {
        "colab": {
          "base_uri": "https://localhost:8080/",
          "height": 206
        },
        "id": "uY6mZu2O83Xd",
        "outputId": "e899f85f-c7c4-4337-d15d-271515c4af7a"
      },
      "source": [
        "air_quality.head()"
      ],
      "execution_count": 105,
      "outputs": [
        {
          "output_type": "execute_result",
          "data": {
            "text/html": [
              "<div>\n",
              "<style scoped>\n",
              "    .dataframe tbody tr th:only-of-type {\n",
              "        vertical-align: middle;\n",
              "    }\n",
              "\n",
              "    .dataframe tbody tr th {\n",
              "        vertical-align: top;\n",
              "    }\n",
              "\n",
              "    .dataframe thead th {\n",
              "        text-align: right;\n",
              "    }\n",
              "</style>\n",
              "<table border=\"1\" class=\"dataframe\">\n",
              "  <thead>\n",
              "    <tr style=\"text-align: right;\">\n",
              "      <th></th>\n",
              "      <th>city</th>\n",
              "      <th>country</th>\n",
              "      <th>date.utc</th>\n",
              "      <th>location</th>\n",
              "      <th>parameter</th>\n",
              "      <th>value</th>\n",
              "      <th>unit</th>\n",
              "    </tr>\n",
              "  </thead>\n",
              "  <tbody>\n",
              "    <tr>\n",
              "      <th>0</th>\n",
              "      <td>Paris</td>\n",
              "      <td>FR</td>\n",
              "      <td>2019-06-21 00:00:00+00:00</td>\n",
              "      <td>FR04014</td>\n",
              "      <td>no2</td>\n",
              "      <td>20.0</td>\n",
              "      <td>µg/m³</td>\n",
              "    </tr>\n",
              "    <tr>\n",
              "      <th>1</th>\n",
              "      <td>Paris</td>\n",
              "      <td>FR</td>\n",
              "      <td>2019-06-20 23:00:00+00:00</td>\n",
              "      <td>FR04014</td>\n",
              "      <td>no2</td>\n",
              "      <td>21.8</td>\n",
              "      <td>µg/m³</td>\n",
              "    </tr>\n",
              "    <tr>\n",
              "      <th>2</th>\n",
              "      <td>Paris</td>\n",
              "      <td>FR</td>\n",
              "      <td>2019-06-20 22:00:00+00:00</td>\n",
              "      <td>FR04014</td>\n",
              "      <td>no2</td>\n",
              "      <td>26.5</td>\n",
              "      <td>µg/m³</td>\n",
              "    </tr>\n",
              "    <tr>\n",
              "      <th>3</th>\n",
              "      <td>Paris</td>\n",
              "      <td>FR</td>\n",
              "      <td>2019-06-20 21:00:00+00:00</td>\n",
              "      <td>FR04014</td>\n",
              "      <td>no2</td>\n",
              "      <td>24.9</td>\n",
              "      <td>µg/m³</td>\n",
              "    </tr>\n",
              "    <tr>\n",
              "      <th>4</th>\n",
              "      <td>Paris</td>\n",
              "      <td>FR</td>\n",
              "      <td>2019-06-20 20:00:00+00:00</td>\n",
              "      <td>FR04014</td>\n",
              "      <td>no2</td>\n",
              "      <td>21.4</td>\n",
              "      <td>µg/m³</td>\n",
              "    </tr>\n",
              "  </tbody>\n",
              "</table>\n",
              "</div>"
            ],
            "text/plain": [
              "    city country                  date.utc location parameter  value   unit\n",
              "0  Paris      FR 2019-06-21 00:00:00+00:00  FR04014       no2   20.0  µg/m³\n",
              "1  Paris      FR 2019-06-20 23:00:00+00:00  FR04014       no2   21.8  µg/m³\n",
              "2  Paris      FR 2019-06-20 22:00:00+00:00  FR04014       no2   26.5  µg/m³\n",
              "3  Paris      FR 2019-06-20 21:00:00+00:00  FR04014       no2   24.9  µg/m³\n",
              "4  Paris      FR 2019-06-20 20:00:00+00:00  FR04014       no2   21.4  µg/m³"
            ]
          },
          "metadata": {},
          "execution_count": 105
        }
      ]
    },
    {
      "cell_type": "code",
      "metadata": {
        "colab": {
          "base_uri": "https://localhost:8080/",
          "height": 300
        },
        "id": "kiNu4Fv69HwW",
        "outputId": "de2bfcdb-2cb2-46f4-b320-8880c161493d"
      },
      "source": [
        "air_quality.describe()  # datetime 타입의 컬럼은 평균, 최솟값, 최댓값 등을 요약하지 않음."
      ],
      "execution_count": 106,
      "outputs": [
        {
          "output_type": "execute_result",
          "data": {
            "text/html": [
              "<div>\n",
              "<style scoped>\n",
              "    .dataframe tbody tr th:only-of-type {\n",
              "        vertical-align: middle;\n",
              "    }\n",
              "\n",
              "    .dataframe tbody tr th {\n",
              "        vertical-align: top;\n",
              "    }\n",
              "\n",
              "    .dataframe thead th {\n",
              "        text-align: right;\n",
              "    }\n",
              "</style>\n",
              "<table border=\"1\" class=\"dataframe\">\n",
              "  <thead>\n",
              "    <tr style=\"text-align: right;\">\n",
              "      <th></th>\n",
              "      <th>value</th>\n",
              "    </tr>\n",
              "  </thead>\n",
              "  <tbody>\n",
              "    <tr>\n",
              "      <th>count</th>\n",
              "      <td>2068.000000</td>\n",
              "    </tr>\n",
              "    <tr>\n",
              "      <th>mean</th>\n",
              "      <td>26.261847</td>\n",
              "    </tr>\n",
              "    <tr>\n",
              "      <th>std</th>\n",
              "      <td>13.479451</td>\n",
              "    </tr>\n",
              "    <tr>\n",
              "      <th>min</th>\n",
              "      <td>0.000000</td>\n",
              "    </tr>\n",
              "    <tr>\n",
              "      <th>25%</th>\n",
              "      <td>17.000000</td>\n",
              "    </tr>\n",
              "    <tr>\n",
              "      <th>50%</th>\n",
              "      <td>25.000000</td>\n",
              "    </tr>\n",
              "    <tr>\n",
              "      <th>75%</th>\n",
              "      <td>33.000000</td>\n",
              "    </tr>\n",
              "    <tr>\n",
              "      <th>max</th>\n",
              "      <td>97.000000</td>\n",
              "    </tr>\n",
              "  </tbody>\n",
              "</table>\n",
              "</div>"
            ],
            "text/plain": [
              "             value\n",
              "count  2068.000000\n",
              "mean     26.261847\n",
              "std      13.479451\n",
              "min       0.000000\n",
              "25%      17.000000\n",
              "50%      25.000000\n",
              "75%      33.000000\n",
              "max      97.000000"
            ]
          },
          "metadata": {},
          "execution_count": 106
        }
      ]
    },
    {
      "cell_type": "markdown",
      "metadata": {
        "id": "iY-SSJkd9m8E"
      },
      "source": [
        "datetime64 타입의 컬럼에서도 min, max 메서드를 사용할 수 있음."
      ]
    },
    {
      "cell_type": "code",
      "metadata": {
        "colab": {
          "base_uri": "https://localhost:8080/"
        },
        "id": "uFIhPd029bgp",
        "outputId": "9c972127-cbf2-4b71-d3c6-0aec02f5f5dc"
      },
      "source": [
        "air_quality['date.utc'].min()"
      ],
      "execution_count": 107,
      "outputs": [
        {
          "output_type": "execute_result",
          "data": {
            "text/plain": [
              "Timestamp('2019-05-07 01:00:00+0000', tz='UTC')"
            ]
          },
          "metadata": {},
          "execution_count": 107
        }
      ]
    },
    {
      "cell_type": "code",
      "metadata": {
        "colab": {
          "base_uri": "https://localhost:8080/"
        },
        "id": "muLTfKSe9ghO",
        "outputId": "cf38bbdf-4083-4679-9d99-061164bbd42d"
      },
      "source": [
        "air_quality['date.utc'].max()"
      ],
      "execution_count": 108,
      "outputs": [
        {
          "output_type": "execute_result",
          "data": {
            "text/plain": [
              "Timestamp('2019-06-21 00:00:00+0000', tz='UTC')"
            ]
          },
          "metadata": {},
          "execution_count": 108
        }
      ]
    },
    {
      "cell_type": "markdown",
      "metadata": {
        "id": "juuHzK7A-xHM"
      },
      "source": [
        "datetime64 타입의 컬럼에서 년/월/일/시/분/초/요일 등의 정보 추출 - dt 속성을 사용"
      ]
    },
    {
      "cell_type": "code",
      "metadata": {
        "colab": {
          "base_uri": "https://localhost:8080/"
        },
        "id": "mXBkD0Q1-6ut",
        "outputId": "8bd081af-767c-4a5e-8573-4292626c5412"
      },
      "source": [
        "air_quality['date.utc'].dt.year"
      ],
      "execution_count": 109,
      "outputs": [
        {
          "output_type": "execute_result",
          "data": {
            "text/plain": [
              "0       2019\n",
              "1       2019\n",
              "2       2019\n",
              "3       2019\n",
              "4       2019\n",
              "        ... \n",
              "2063    2019\n",
              "2064    2019\n",
              "2065    2019\n",
              "2066    2019\n",
              "2067    2019\n",
              "Name: date.utc, Length: 2068, dtype: int64"
            ]
          },
          "metadata": {},
          "execution_count": 109
        }
      ]
    },
    {
      "cell_type": "code",
      "metadata": {
        "colab": {
          "base_uri": "https://localhost:8080/"
        },
        "id": "Hdg8wGX2_pIe",
        "outputId": "c4b648a5-defc-4b5e-8ded-bda2f480382f"
      },
      "source": [
        "air_quality['date.utc'].dt.month"
      ],
      "execution_count": 112,
      "outputs": [
        {
          "output_type": "execute_result",
          "data": {
            "text/plain": [
              "0       6\n",
              "1       6\n",
              "2       6\n",
              "3       6\n",
              "4       6\n",
              "       ..\n",
              "2063    5\n",
              "2064    5\n",
              "2065    5\n",
              "2066    5\n",
              "2067    5\n",
              "Name: date.utc, Length: 2068, dtype: int64"
            ]
          },
          "metadata": {},
          "execution_count": 112
        }
      ]
    },
    {
      "cell_type": "code",
      "metadata": {
        "colab": {
          "base_uri": "https://localhost:8080/"
        },
        "id": "g3HkhNHU_ROd",
        "outputId": "1388f6f0-30c7-468d-c325-9d694a5dc462"
      },
      "source": [
        "air_quality['date.utc'].dt.weekday  # datetime에서 요일 정보 추출\n",
        "# 0(월요일), 1(화요일), ..., 5(토요일), 6(일요일)"
      ],
      "execution_count": 113,
      "outputs": [
        {
          "output_type": "execute_result",
          "data": {
            "text/plain": [
              "0       4\n",
              "1       3\n",
              "2       3\n",
              "3       3\n",
              "4       3\n",
              "       ..\n",
              "2063    1\n",
              "2064    1\n",
              "2065    1\n",
              "2066    1\n",
              "2067    1\n",
              "Name: date.utc, Length: 2068, dtype: int64"
            ]
          },
          "metadata": {},
          "execution_count": 113
        }
      ]
    },
    {
      "cell_type": "markdown",
      "metadata": {
        "id": "AImaTdElAs6s"
      },
      "source": [
        "하루 중 언제 NO2의 농도가 가장 높을까?\n",
        "* 시간대별 도시별 NO2의 평균 계산, 시각화"
      ]
    },
    {
      "cell_type": "code",
      "metadata": {
        "id": "t_9F8dK-BTWl"
      },
      "source": [
        "result = air_quality.groupby([air_quality['date.utc'].dt.hour, 'city'])['value'].mean()"
      ],
      "execution_count": 117,
      "outputs": []
    },
    {
      "cell_type": "code",
      "metadata": {
        "id": "RCMdLXboDRZj"
      },
      "source": [
        "result = result.reset_index()  # 모든 인덱스를 컬럼으로 변환(Seris -> DataFrame)"
      ],
      "execution_count": 119,
      "outputs": []
    },
    {
      "cell_type": "code",
      "metadata": {
        "colab": {
          "base_uri": "https://localhost:8080/",
          "height": 423
        },
        "id": "lWl4fwufDSZL",
        "outputId": "1c3c7875-bc27-462f-c093-5f8b25b63437"
      },
      "source": [
        "result"
      ],
      "execution_count": 120,
      "outputs": [
        {
          "output_type": "execute_result",
          "data": {
            "text/html": [
              "<div>\n",
              "<style scoped>\n",
              "    .dataframe tbody tr th:only-of-type {\n",
              "        vertical-align: middle;\n",
              "    }\n",
              "\n",
              "    .dataframe tbody tr th {\n",
              "        vertical-align: top;\n",
              "    }\n",
              "\n",
              "    .dataframe thead th {\n",
              "        text-align: right;\n",
              "    }\n",
              "</style>\n",
              "<table border=\"1\" class=\"dataframe\">\n",
              "  <thead>\n",
              "    <tr style=\"text-align: right;\">\n",
              "      <th></th>\n",
              "      <th>date.utc</th>\n",
              "      <th>city</th>\n",
              "      <th>value</th>\n",
              "    </tr>\n",
              "  </thead>\n",
              "  <tbody>\n",
              "    <tr>\n",
              "      <th>0</th>\n",
              "      <td>0</td>\n",
              "      <td>Antwerpen</td>\n",
              "      <td>24.750000</td>\n",
              "    </tr>\n",
              "    <tr>\n",
              "      <th>1</th>\n",
              "      <td>0</td>\n",
              "      <td>London</td>\n",
              "      <td>24.292683</td>\n",
              "    </tr>\n",
              "    <tr>\n",
              "      <th>2</th>\n",
              "      <td>0</td>\n",
              "      <td>Paris</td>\n",
              "      <td>31.683333</td>\n",
              "    </tr>\n",
              "    <tr>\n",
              "      <th>3</th>\n",
              "      <td>1</td>\n",
              "      <td>Antwerpen</td>\n",
              "      <td>25.838235</td>\n",
              "    </tr>\n",
              "    <tr>\n",
              "      <th>4</th>\n",
              "      <td>1</td>\n",
              "      <td>London</td>\n",
              "      <td>24.757576</td>\n",
              "    </tr>\n",
              "    <tr>\n",
              "      <th>...</th>\n",
              "      <td>...</td>\n",
              "      <td>...</td>\n",
              "      <td>...</td>\n",
              "    </tr>\n",
              "    <tr>\n",
              "      <th>67</th>\n",
              "      <td>22</td>\n",
              "      <td>London</td>\n",
              "      <td>28.969697</td>\n",
              "    </tr>\n",
              "    <tr>\n",
              "      <th>68</th>\n",
              "      <td>22</td>\n",
              "      <td>Paris</td>\n",
              "      <td>35.400000</td>\n",
              "    </tr>\n",
              "    <tr>\n",
              "      <th>69</th>\n",
              "      <td>23</td>\n",
              "      <td>Antwerpen</td>\n",
              "      <td>23.000000</td>\n",
              "    </tr>\n",
              "    <tr>\n",
              "      <th>70</th>\n",
              "      <td>23</td>\n",
              "      <td>London</td>\n",
              "      <td>28.414634</td>\n",
              "    </tr>\n",
              "    <tr>\n",
              "      <th>71</th>\n",
              "      <td>23</td>\n",
              "      <td>Paris</td>\n",
              "      <td>34.288095</td>\n",
              "    </tr>\n",
              "  </tbody>\n",
              "</table>\n",
              "<p>72 rows × 3 columns</p>\n",
              "</div>"
            ],
            "text/plain": [
              "    date.utc       city      value\n",
              "0          0  Antwerpen  24.750000\n",
              "1          0     London  24.292683\n",
              "2          0      Paris  31.683333\n",
              "3          1  Antwerpen  25.838235\n",
              "4          1     London  24.757576\n",
              "..       ...        ...        ...\n",
              "67        22     London  28.969697\n",
              "68        22      Paris  35.400000\n",
              "69        23  Antwerpen  23.000000\n",
              "70        23     London  28.414634\n",
              "71        23      Paris  34.288095\n",
              "\n",
              "[72 rows x 3 columns]"
            ]
          },
          "metadata": {},
          "execution_count": 120
        }
      ]
    },
    {
      "cell_type": "code",
      "metadata": {
        "colab": {
          "base_uri": "https://localhost:8080/",
          "height": 279
        },
        "id": "4hVmtIKbDbXj",
        "outputId": "36001edc-9c3f-4ae8-94c9-26662d0410bb"
      },
      "source": [
        "sns.lineplot(data=result, x='date.utc', y='value', hue='city', style='city', marker='o')\n",
        "plt.show()"
      ],
      "execution_count": 123,
      "outputs": [
        {
          "output_type": "display_data",
          "data": {
            "image/png": "[encoded data removed]",
            "text/plain": [
              "<Figure size 432x288 with 1 Axes>"
            ]
          },
          "metadata": {
            "needs_background": "light"
          }
        }
      ]
    },
    {
      "cell_type": "code",
      "metadata": {
        "id": "uuIElsUxEc7F"
      },
      "source": [
        "result = air_quality.pivot_table(values='value', index=air_quality['date.utc'].dt.hour, columns='city')"
      ],
      "execution_count": 126,
      "outputs": []
    },
    {
      "cell_type": "code",
      "metadata": {
        "colab": {
          "base_uri": "https://localhost:8080/",
          "height": 833
        },
        "id": "0LsxHzL3FEPD",
        "outputId": "4f4fe9cf-0215-4b16-89a8-0ff44e8253f5"
      },
      "source": [
        "result"
      ],
      "execution_count": 127,
      "outputs": [
        {
          "output_type": "execute_result",
          "data": {
            "text/html": [
              "<div>\n",
              "<style scoped>\n",
              "    .dataframe tbody tr th:only-of-type {\n",
              "        vertical-align: middle;\n",
              "    }\n",
              "\n",
              "    .dataframe tbody tr th {\n",
              "        vertical-align: top;\n",
              "    }\n",
              "\n",
              "    .dataframe thead th {\n",
              "        text-align: right;\n",
              "    }\n",
              "</style>\n",
              "<table border=\"1\" class=\"dataframe\">\n",
              "  <thead>\n",
              "    <tr style=\"text-align: right;\">\n",
              "      <th>city</th>\n",
              "      <th>Antwerpen</th>\n",
              "      <th>London</th>\n",
              "      <th>Paris</th>\n",
              "    </tr>\n",
              "    <tr>\n",
              "      <th>date.utc</th>\n",
              "      <th></th>\n",
              "      <th></th>\n",
              "      <th></th>\n",
              "    </tr>\n",
              "  </thead>\n",
              "  <tbody>\n",
              "    <tr>\n",
              "      <th>0</th>\n",
              "      <td>24.750000</td>\n",
              "      <td>24.292683</td>\n",
              "      <td>31.683333</td>\n",
              "    </tr>\n",
              "    <tr>\n",
              "      <th>1</th>\n",
              "      <td>25.838235</td>\n",
              "      <td>24.757576</td>\n",
              "      <td>27.433333</td>\n",
              "    </tr>\n",
              "    <tr>\n",
              "      <th>2</th>\n",
              "      <td>21.000000</td>\n",
              "      <td>21.800000</td>\n",
              "      <td>25.964286</td>\n",
              "    </tr>\n",
              "    <tr>\n",
              "      <th>3</th>\n",
              "      <td>21.333333</td>\n",
              "      <td>21.536585</td>\n",
              "      <td>25.234211</td>\n",
              "    </tr>\n",
              "    <tr>\n",
              "      <th>4</th>\n",
              "      <td>24.833333</td>\n",
              "      <td>18.976190</td>\n",
              "      <td>27.257895</td>\n",
              "    </tr>\n",
              "    <tr>\n",
              "      <th>5</th>\n",
              "      <td>29.500000</td>\n",
              "      <td>19.048780</td>\n",
              "      <td>35.534211</td>\n",
              "    </tr>\n",
              "    <tr>\n",
              "      <th>6</th>\n",
              "      <td>33.333333</td>\n",
              "      <td>20.976190</td>\n",
              "      <td>40.102381</td>\n",
              "    </tr>\n",
              "    <tr>\n",
              "      <th>7</th>\n",
              "      <td>37.666667</td>\n",
              "      <td>21.452381</td>\n",
              "      <td>40.569767</td>\n",
              "    </tr>\n",
              "    <tr>\n",
              "      <th>8</th>\n",
              "      <td>34.833333</td>\n",
              "      <td>21.238095</td>\n",
              "      <td>36.458140</td>\n",
              "    </tr>\n",
              "    <tr>\n",
              "      <th>9</th>\n",
              "      <td>27.666667</td>\n",
              "      <td>21.857143</td>\n",
              "      <td>30.076744</td>\n",
              "    </tr>\n",
              "    <tr>\n",
              "      <th>10</th>\n",
              "      <td>21.250000</td>\n",
              "      <td>21.560976</td>\n",
              "      <td>23.658140</td>\n",
              "    </tr>\n",
              "    <tr>\n",
              "      <th>11</th>\n",
              "      <td>21.000000</td>\n",
              "      <td>22.121951</td>\n",
              "      <td>20.461905</td>\n",
              "    </tr>\n",
              "    <tr>\n",
              "      <th>12</th>\n",
              "      <td>25.250000</td>\n",
              "      <td>23.400000</td>\n",
              "      <td>18.571429</td>\n",
              "    </tr>\n",
              "    <tr>\n",
              "      <th>13</th>\n",
              "      <td>23.250000</td>\n",
              "      <td>24.175000</td>\n",
              "      <td>17.958140</td>\n",
              "    </tr>\n",
              "    <tr>\n",
              "      <th>14</th>\n",
              "      <td>23.750000</td>\n",
              "      <td>25.900000</td>\n",
              "      <td>17.772093</td>\n",
              "    </tr>\n",
              "    <tr>\n",
              "      <th>15</th>\n",
              "      <td>29.250000</td>\n",
              "      <td>28.682927</td>\n",
              "      <td>18.854762</td>\n",
              "    </tr>\n",
              "    <tr>\n",
              "      <th>16</th>\n",
              "      <td>17.500000</td>\n",
              "      <td>28.951220</td>\n",
              "      <td>21.266667</td>\n",
              "    </tr>\n",
              "    <tr>\n",
              "      <th>17</th>\n",
              "      <td>18.500000</td>\n",
              "      <td>30.073171</td>\n",
              "      <td>23.585714</td>\n",
              "    </tr>\n",
              "    <tr>\n",
              "      <th>18</th>\n",
              "      <td>25.500000</td>\n",
              "      <td>30.121951</td>\n",
              "      <td>24.204762</td>\n",
              "    </tr>\n",
              "    <tr>\n",
              "      <th>19</th>\n",
              "      <td>30.750000</td>\n",
              "      <td>29.560976</td>\n",
              "      <td>26.635714</td>\n",
              "    </tr>\n",
              "    <tr>\n",
              "      <th>20</th>\n",
              "      <td>27.500000</td>\n",
              "      <td>29.121951</td>\n",
              "      <td>29.707143</td>\n",
              "    </tr>\n",
              "    <tr>\n",
              "      <th>21</th>\n",
              "      <td>25.750000</td>\n",
              "      <td>28.853659</td>\n",
              "      <td>33.237209</td>\n",
              "    </tr>\n",
              "    <tr>\n",
              "      <th>22</th>\n",
              "      <td>26.500000</td>\n",
              "      <td>28.969697</td>\n",
              "      <td>35.400000</td>\n",
              "    </tr>\n",
              "    <tr>\n",
              "      <th>23</th>\n",
              "      <td>23.000000</td>\n",
              "      <td>28.414634</td>\n",
              "      <td>34.288095</td>\n",
              "    </tr>\n",
              "  </tbody>\n",
              "</table>\n",
              "</div>"
            ],
            "text/plain": [
              "city      Antwerpen     London      Paris\n",
              "date.utc                                 \n",
              "0         24.750000  24.292683  31.683333\n",
              "1         25.838235  24.757576  27.433333\n",
              "2         21.000000  21.800000  25.964286\n",
              "3         21.333333  21.536585  25.234211\n",
              "4         24.833333  18.976190  27.257895\n",
              "5         29.500000  19.048780  35.534211\n",
              "6         33.333333  20.976190  40.102381\n",
              "7         37.666667  21.452381  40.569767\n",
              "8         34.833333  21.238095  36.458140\n",
              "9         27.666667  21.857143  30.076744\n",
              "10        21.250000  21.560976  23.658140\n",
              "11        21.000000  22.121951  20.461905\n",
              "12        25.250000  23.400000  18.571429\n",
              "13        23.250000  24.175000  17.958140\n",
              "14        23.750000  25.900000  17.772093\n",
              "15        29.250000  28.682927  18.854762\n",
              "16        17.500000  28.951220  21.266667\n",
              "17        18.500000  30.073171  23.585714\n",
              "18        25.500000  30.121951  24.204762\n",
              "19        30.750000  29.560976  26.635714\n",
              "20        27.500000  29.121951  29.707143\n",
              "21        25.750000  28.853659  33.237209\n",
              "22        26.500000  28.969697  35.400000\n",
              "23        23.000000  28.414634  34.288095"
            ]
          },
          "metadata": {},
          "execution_count": 127
        }
      ]
    },
    {
      "cell_type": "code",
      "metadata": {
        "colab": {
          "base_uri": "https://localhost:8080/",
          "height": 265
        },
        "id": "Pq5ORedxFE4r",
        "outputId": "9a60f0e4-1864-47f9-b9fc-97e4d0e830ec"
      },
      "source": [
        "plt.plot(result['Antwerpen'], linestyle='-', marker='o', label='Antwerpen')\n",
        "plt.plot(result['Paris'], linestyle='--', marker='o', label='Paris')\n",
        "plt.plot(result['London'], linestyle=':', marker='o', label='London')\n",
        "plt.legend()\n",
        "plt.show()"
      ],
      "execution_count": 134,
      "outputs": [
        {
          "output_type": "display_data",
          "data": {
            "image/png": "[encoded data removed]",
            "text/plain": [
              "<Figure size 432x288 with 1 Axes>"
            ]
          },
          "metadata": {
            "needs_background": "light"
          }
        }
      ]
    }
  ]
}
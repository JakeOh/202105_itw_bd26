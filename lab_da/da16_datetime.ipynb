{
  "nbformat": 4,
  "nbformat_minor": 0,
  "metadata": {
    "colab": {
      "name": "da16_datetime.ipynb",
      "provenance": [],
      "collapsed_sections": [],
      "authorship_tag": "ABX9TyNc5sPIS2+nhmCkW6BBFju4",
      "include_colab_link": true
    },
    "kernelspec": {
      "name": "python3",
      "display_name": "Python 3"
    },
    "language_info": {
      "name": "python"
    }
  },
  "cells": [
    {
      "cell_type": "markdown",
      "metadata": {
        "id": "view-in-github",
        "colab_type": "text"
      },
      "source": [
        "<a href=\"https://colab.research.google.com/github/JakeOh/202105_itw_bd26/blob/main/lab_da/da16_datetime.ipynb\" target=\"_parent\"><img src=\"https://colab.research.google.com/assets/colab-badge.svg\" alt=\"Open In Colab\"/></a>"
      ]
    },
    {
      "cell_type": "markdown",
      "metadata": {
        "id": "zhjwR8lONdeA"
      },
      "source": [
        "\n",
        "* Python `datetime` 모듈\n",
        "    * `datetime` 클래스: 날짜(date), 시간(time)과 관련된 정보들을 저장, 표현할 수 있는 기능(메서드)들을 가지고 있는 데이터 타입.\n",
        "    * https://docs.python.org/3/library/datetime.html 참고\n"
      ]
    },
    {
      "cell_type": "code",
      "metadata": {
        "id": "h3W0cNwoNJby"
      },
      "source": [
        "import datetime  # datetime 모듈을 import"
      ],
      "execution_count": 1,
      "outputs": []
    },
    {
      "cell_type": "code",
      "metadata": {
        "colab": {
          "base_uri": "https://localhost:8080/"
        },
        "id": "qQWar0ulOtz4",
        "outputId": "01ad8959-bb3d-4652-8411-e23e474c89b3"
      },
      "source": [
        "datetime.datetime.now()  #> Colab 가상 머신의 현재 시간을 리턴함.\n",
        "# datetime 모듈에 있는 datetime 클래스에 있는 now() 메서드 호출"
      ],
      "execution_count": 3,
      "outputs": [
        {
          "output_type": "execute_result",
          "data": {
            "text/plain": [
              "datetime.datetime(2021, 8, 18, 7, 50, 25, 936835)"
            ]
          },
          "metadata": {
            "tags": []
          },
          "execution_count": 3
        }
      ]
    },
    {
      "cell_type": "code",
      "metadata": {
        "id": "TmlUliDfPOu4"
      },
      "source": [
        "from datetime import datetime  # datetime 모듈에서 datetime 클래스를 import"
      ],
      "execution_count": 4,
      "outputs": []
    },
    {
      "cell_type": "code",
      "metadata": {
        "colab": {
          "base_uri": "https://localhost:8080/"
        },
        "id": "t9cU8zzGQS4x",
        "outputId": "a1249228-1231-433f-9e4d-a0499bfb4b9c"
      },
      "source": [
        "datetime.now()\n",
        "# datetime 클래스의 now() 메서드 호출"
      ],
      "execution_count": 5,
      "outputs": [
        {
          "output_type": "execute_result",
          "data": {
            "text/plain": [
              "datetime.datetime(2021, 8, 18, 7, 55, 10, 760063)"
            ]
          },
          "metadata": {
            "tags": []
          },
          "execution_count": 5
        }
      ]
    },
    {
      "cell_type": "markdown",
      "metadata": {
        "id": "T1fSheN0Q8Qw"
      },
      "source": [
        "\n",
        "* `datetime` 클래스의 메서드\n"
      ]
    },
    {
      "cell_type": "code",
      "metadata": {
        "id": "2k8IU8XJQcnQ"
      },
      "source": [
        "# datetime.now(): 코드가 실행되는 컴퓨터 OS에서 설정된 시간대의 현재 시간을 리턴\n",
        "curr_dt = datetime.now()"
      ],
      "execution_count": 10,
      "outputs": []
    },
    {
      "cell_type": "code",
      "metadata": {
        "colab": {
          "base_uri": "https://localhost:8080/"
        },
        "id": "KYaoyqAwRk1B",
        "outputId": "53cb0c73-93ec-4548-96de-9b15b787be6c"
      },
      "source": [
        "curr_dt  # expression을 출력"
      ],
      "execution_count": 11,
      "outputs": [
        {
          "output_type": "execute_result",
          "data": {
            "text/plain": [
              "datetime.datetime(2021, 8, 18, 8, 11, 27, 3992)"
            ]
          },
          "metadata": {
            "tags": []
          },
          "execution_count": 11
        }
      ]
    },
    {
      "cell_type": "code",
      "metadata": {
        "colab": {
          "base_uri": "https://localhost:8080/"
        },
        "id": "4inYFK6VRm4A",
        "outputId": "b2c2429c-6edf-42e5-e5b9-6846436d859f"
      },
      "source": [
        "print(curr_dt)  # statement"
      ],
      "execution_count": 12,
      "outputs": [
        {
          "output_type": "stream",
          "text": [
            "2021-08-18 08:11:27.003992\n"
          ],
          "name": "stdout"
        }
      ]
    },
    {
      "cell_type": "markdown",
      "metadata": {
        "id": "mY-alPHmSL-H"
      },
      "source": [
        "\n",
        "* UTC(Coordinates Universal Timezone): 그리니치 천문대 기준 시간\n",
        "* KST(Korean Standard Timezone): 한국표준시. UTC+09:00\n"
      ]
    },
    {
      "cell_type": "code",
      "metadata": {
        "colab": {
          "base_uri": "https://localhost:8080/"
        },
        "id": "xT2UNdkLT8pR",
        "outputId": "043c7b32-0899-4957-f3de-f06cb692b047"
      },
      "source": [
        "# datetime.datetime 클래스의 속성들: year, month, day, hour, minute, second\n",
        "print(type(curr_dt))\n",
        "print(curr_dt.year)\n",
        "print(curr_dt.month)\n",
        "print(curr_dt.day)\n",
        "print(f'{curr_dt.hour}:{curr_dt.minute}:{curr_dt.second}')"
      ],
      "execution_count": 17,
      "outputs": [
        {
          "output_type": "stream",
          "text": [
            "<class 'datetime.datetime'>\n",
            "2021\n",
            "8\n",
            "18\n",
            "8:11:27\n"
          ],
          "name": "stdout"
        }
      ]
    },
    {
      "cell_type": "code",
      "metadata": {
        "colab": {
          "base_uri": "https://localhost:8080/"
        },
        "id": "ZyAkzWldVWZX",
        "outputId": "6358da18-becd-4bc0-9d30-ca1e385e60bc"
      },
      "source": [
        "# datetime.datetime() 생성자 함수\n",
        "yesterday = datetime(2021, 8, 17)\n",
        "print(yesterday)"
      ],
      "execution_count": 18,
      "outputs": [
        {
          "output_type": "stream",
          "text": [
            "2021-08-17 00:00:00\n"
          ],
          "name": "stdout"
        }
      ]
    },
    {
      "cell_type": "code",
      "metadata": {
        "colab": {
          "base_uri": "https://localhost:8080/"
        },
        "id": "60lOpipwV_vQ",
        "outputId": "1f6862ab-80e7-4369-ee91-23cc57028617"
      },
      "source": [
        "tomorrow = datetime(2021, 8, 19, 17, 20)\n",
        "print(tomorrow)"
      ],
      "execution_count": 19,
      "outputs": [
        {
          "output_type": "stream",
          "text": [
            "2021-08-19 17:20:00\n"
          ],
          "name": "stdout"
        }
      ]
    },
    {
      "cell_type": "code",
      "metadata": {
        "colab": {
          "base_uri": "https://localhost:8080/"
        },
        "id": "L0F0ETgEWXPn",
        "outputId": "81b08f22-d447-45ef-f320-d5644b81dd1c"
      },
      "source": [
        "tomorrow - yesterday  # datetime 타입의 변수들의 뺄셈 결과는 timedelta 클래스 타입"
      ],
      "execution_count": 20,
      "outputs": [
        {
          "output_type": "execute_result",
          "data": {
            "text/plain": [
              "datetime.timedelta(days=2, seconds=62400)"
            ]
          },
          "metadata": {
            "tags": []
          },
          "execution_count": 20
        }
      ]
    },
    {
      "cell_type": "markdown",
      "metadata": {
        "id": "71yUo5MRbKlI"
      },
      "source": [
        "\n",
        "* `datetime`(날짜/시간) 객체 <---> `str`(문자열) 객체\n",
        "    * `datetime.strftime(포맷문자열)`: `datetime` 객체를 포맷문자열 형식으로 formatting된 문자열로 변환해서 리턴.\n",
        "    * `datetime.strptime(문자열, 포맷문자열)`: 문자열(str)을 `datetime` 객체로 변환(parsing).\n",
        "\n",
        "* 날짜 포맷 문자열\n",
        "    * 연(year): `%Y`(4자리 연도), `%y`(2자리 연도)\n",
        "    * 월(month): `%m`(2자리 숫자), `%B`(월 이름), `%b`(월 이름 약자)\n",
        "    * 일(day): `%d`(2자리 숫자)\n",
        "    * 시(hour): `%H`(24시간 형식. 0 ~ 23), `%I`(12시간 형식. 1 ~ 12)\n",
        "    * 분(minute): `%M`(2자리 숫자. 00 ~ 59)\n",
        "    * 초(second): `%S`(2자리 숫자. 00 ~ 59)\n"
      ]
    },
    {
      "cell_type": "code",
      "metadata": {
        "colab": {
          "base_uri": "https://localhost:8080/"
        },
        "id": "Iop2F9oOWhvA",
        "outputId": "2651fa44-a737-4f7e-9850-a0fc8d03936a"
      },
      "source": [
        "curr_dt = datetime.now()\n",
        "print(curr_dt)"
      ],
      "execution_count": 21,
      "outputs": [
        {
          "output_type": "stream",
          "text": [
            "2021-08-18 08:53:46.693125\n"
          ],
          "name": "stdout"
        }
      ]
    },
    {
      "cell_type": "markdown",
      "metadata": {
        "id": "QlVn9LMYfxvg"
      },
      "source": [
        "`datetime` 객체 ---> `str`"
      ]
    },
    {
      "cell_type": "code",
      "metadata": {
        "colab": {
          "base_uri": "https://localhost:8080/",
          "height": 36
        },
        "id": "T6Dq8HGhd2-7",
        "outputId": "818d23de-0a66-4cfb-94ed-22f1ddeb2294"
      },
      "source": [
        "curr_dt.strftime('%Y/%m/%d')  #> argument로 전달된 포맷으로 formatting된 문자열을 리턴."
      ],
      "execution_count": 22,
      "outputs": [
        {
          "output_type": "execute_result",
          "data": {
            "application/vnd.google.colaboratory.intrinsic+json": {
              "type": "string"
            },
            "text/plain": [
              "'2021/08/18'"
            ]
          },
          "metadata": {
            "tags": []
          },
          "execution_count": 22
        }
      ]
    },
    {
      "cell_type": "code",
      "metadata": {
        "colab": {
          "base_uri": "https://localhost:8080/",
          "height": 36
        },
        "id": "TeP6PE92eIhP",
        "outputId": "d942781c-238a-451d-9fe0-c279e933e8b9"
      },
      "source": [
        "curr_dt.strftime('%b-%d-%y')"
      ],
      "execution_count": 23,
      "outputs": [
        {
          "output_type": "execute_result",
          "data": {
            "application/vnd.google.colaboratory.intrinsic+json": {
              "type": "string"
            },
            "text/plain": [
              "'Aug-18-21'"
            ]
          },
          "metadata": {
            "tags": []
          },
          "execution_count": 23
        }
      ]
    },
    {
      "cell_type": "code",
      "metadata": {
        "colab": {
          "base_uri": "https://localhost:8080/",
          "height": 36
        },
        "id": "_FK_ZudzfPEv",
        "outputId": "376ee51a-3a12-4e8c-a54b-f00ed26f24d0"
      },
      "source": [
        "curr_dt.strftime('%I:%M:%S %p')  # %p: AM/PM(오전/오후) 표시"
      ],
      "execution_count": 25,
      "outputs": [
        {
          "output_type": "execute_result",
          "data": {
            "application/vnd.google.colaboratory.intrinsic+json": {
              "type": "string"
            },
            "text/plain": [
              "'08:53:46 AM'"
            ]
          },
          "metadata": {
            "tags": []
          },
          "execution_count": 25
        }
      ]
    },
    {
      "cell_type": "markdown",
      "metadata": {
        "id": "BXMInZrff57Y"
      },
      "source": [
        "`str` ---> `datetime` 객체"
      ]
    },
    {
      "cell_type": "code",
      "metadata": {
        "colab": {
          "base_uri": "https://localhost:8080/"
        },
        "id": "tx-G2D3Nf-go",
        "outputId": "35d015e4-62ec-4c3a-9701-ce79c0109bab"
      },
      "source": [
        "# datetime.strptime(string, format): format 형식의 문자열 string을 datetime 객체로 변환(parsing) 리턴.\n",
        "datetime.strptime('2021-08-18 18:04:30', '%Y-%m-%d %H:%M:%S')"
      ],
      "execution_count": 26,
      "outputs": [
        {
          "output_type": "execute_result",
          "data": {
            "text/plain": [
              "datetime.datetime(2021, 8, 18, 18, 4, 30)"
            ]
          },
          "metadata": {
            "tags": []
          },
          "execution_count": 26
        }
      ]
    },
    {
      "cell_type": "code",
      "metadata": {
        "colab": {
          "base_uri": "https://localhost:8080/"
        },
        "id": "nIpaqXL9gnva",
        "outputId": "df478753-e17b-4d35-a078-d0dd6ca5e5d4"
      },
      "source": [
        "datetime.strptime('08-18-21', '%m-%d-%y')"
      ],
      "execution_count": 27,
      "outputs": [
        {
          "output_type": "execute_result",
          "data": {
            "text/plain": [
              "datetime.datetime(2021, 8, 18, 0, 0)"
            ]
          },
          "metadata": {
            "tags": []
          },
          "execution_count": 27
        }
      ]
    },
    {
      "cell_type": "code",
      "metadata": {
        "colab": {
          "base_uri": "https://localhost:8080/"
        },
        "id": "6B6o_FXUhYWH",
        "outputId": "b5f19ae2-2816-40cf-880d-c77e939ca2c1"
      },
      "source": [
        "datetime.strptime('18-08-21', '%y-%m-%d')  # 우리나라 방식(년-월-일)"
      ],
      "execution_count": 28,
      "outputs": [
        {
          "output_type": "execute_result",
          "data": {
            "text/plain": [
              "datetime.datetime(2018, 8, 21, 0, 0)"
            ]
          },
          "metadata": {
            "tags": []
          },
          "execution_count": 28
        }
      ]
    },
    {
      "cell_type": "code",
      "metadata": {
        "colab": {
          "base_uri": "https://localhost:8080/"
        },
        "id": "MsB1jyCph0oP",
        "outputId": "08764dea-6bbb-4700-eb70-63bb369a49f3"
      },
      "source": [
        "datetime.strptime('18-08-21', '%d-%m-%y')  # 영국 방식(일-월-년)"
      ],
      "execution_count": 29,
      "outputs": [
        {
          "output_type": "execute_result",
          "data": {
            "text/plain": [
              "datetime.datetime(2021, 8, 18, 0, 0)"
            ]
          },
          "metadata": {
            "tags": []
          },
          "execution_count": 29
        }
      ]
    }
  ]
}
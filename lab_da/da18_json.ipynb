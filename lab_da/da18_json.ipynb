{
  "nbformat": 4,
  "nbformat_minor": 0,
  "metadata": {
    "colab": {
      "name": "da18_json.ipynb",
      "provenance": [],
      "collapsed_sections": [],
      "authorship_tag": "ABX9TyPziJKVLMuAgBumlEZAJjrG",
      "include_colab_link": true
    },
    "kernelspec": {
      "name": "python3",
      "display_name": "Python 3"
    },
    "language_info": {
      "name": "python"
    }
  },
  "cells": [
    {
      "cell_type": "markdown",
      "metadata": {
        "id": "view-in-github",
        "colab_type": "text"
      },
      "source": [
        "<a href=\"https://colab.research.google.com/github/JakeOh/202105_itw_bd26/blob/main/lab_da/da18_json.ipynb\" target=\"_parent\"><img src=\"https://colab.research.google.com/assets/colab-badge.svg\" alt=\"Open In Colab\"/></a>"
      ]
    },
    {
      "cell_type": "markdown",
      "metadata": {
        "id": "NJ_gO9VzCvY-"
      },
      "source": [
        "# JSON\n",
        "\n",
        "* JSON(JavaScript Object Notations): 자바스크립트 객체 표현법\n",
        "* `{key1: value1, key2: value2, ...}` 형식의 문자열\n",
        "* Python의 `dict` 클래스 객체의 문자열 표현과 비슷\n",
        "* `json` 모듈: **JSON** 형식 **문자열(str)** <---> **`dict`** 타입 **객체(object)**\n",
        "    * `json.dumps(obj)`: Python 객체 obj를 JSON 형식의 문자열로 변환(serialize, 직렬화)해서 변환된 문자열을 리턴.\n",
        "    * `json.loads(s)`: JSON 형식의 문자열 s를 Python 객체로 변환(deserialize, 역직렬화)해서 변환된 파이썬 객체를 리턴.\n",
        "    * `json.dump(obj, fp)`: Python 객체 obj를 JSON 형식의 문자열로 변환해서 파일fp에 씀(write).\n",
        "    * `json.load(fp)`: 파일 fp에서 JSON 형식의 문자열을 읽어서 Python 객체로 변환해서, 변환된 객체를 리턴.\n"
      ]
    },
    {
      "cell_type": "code",
      "metadata": {
        "id": "Zw3uSW9ICqMP"
      },
      "source": [
        "import json  # JSON 읽기/쓰기 기능을 가지고 있는 파이썬 기본 모듈\n",
        "import matplotlib.pyplot as plt\n",
        "import numpy as np\n",
        "import pandas as pd\n",
        "import seaborn as sns"
      ],
      "execution_count": 1,
      "outputs": []
    },
    {
      "cell_type": "code",
      "metadata": {
        "id": "9kpulfSRHSMl"
      },
      "source": [
        "# json.dumps(obj): Python object ---> JSON formatted string (Serialize, 직렬화)\n",
        "person = {'name': '홍길동', \n",
        "          'age': 16,\n",
        "          'phones': ['02-1111-2222', '010-3333-4444']}"
      ],
      "execution_count": 2,
      "outputs": []
    },
    {
      "cell_type": "code",
      "metadata": {
        "colab": {
          "base_uri": "https://localhost:8080/"
        },
        "id": "iNZ40I8HIWVl",
        "outputId": "d0cfad38-70f3-42f9-aec8-332c81e94e86"
      },
      "source": [
        "person"
      ],
      "execution_count": 3,
      "outputs": [
        {
          "output_type": "execute_result",
          "data": {
            "text/plain": [
              "{'age': 16, 'name': '홍길동', 'phones': ['02-1111-2222', '010-3333-4444']}"
            ]
          },
          "metadata": {},
          "execution_count": 3
        }
      ]
    },
    {
      "cell_type": "code",
      "metadata": {
        "colab": {
          "base_uri": "https://localhost:8080/"
        },
        "id": "ztSpiEaHIW57",
        "outputId": "bdd73c9d-ea66-4c0c-90e3-30839b1506db"
      },
      "source": [
        "type(person)  # person은 파이썬 dict 클래스 타입의 객체"
      ],
      "execution_count": 4,
      "outputs": [
        {
          "output_type": "execute_result",
          "data": {
            "text/plain": [
              "dict"
            ]
          },
          "metadata": {},
          "execution_count": 4
        }
      ]
    },
    {
      "cell_type": "code",
      "metadata": {
        "colab": {
          "base_uri": "https://localhost:8080/",
          "height": 36
        },
        "id": "3A62dAwoIj5b",
        "outputId": "665bcd48-8fee-41ba-ece1-46035e71664e"
      },
      "source": [
        "person_json = json.dumps(person)\n",
        "person_json"
      ],
      "execution_count": 5,
      "outputs": [
        {
          "output_type": "execute_result",
          "data": {
            "application/vnd.google.colaboratory.intrinsic+json": {
              "type": "string"
            },
            "text/plain": [
              "'{\"name\": \"\\\\ud64d\\\\uae38\\\\ub3d9\", \"age\": 16, \"phones\": [\"02-1111-2222\", \"010-3333-4444\"]}'"
            ]
          },
          "metadata": {},
          "execution_count": 5
        }
      ]
    },
    {
      "cell_type": "code",
      "metadata": {
        "colab": {
          "base_uri": "https://localhost:8080/"
        },
        "id": "tWSZsoNOK6Yp",
        "outputId": "f0ef2c54-c306-47df-f495-ce8851da78c9"
      },
      "source": [
        "type(person_json)  # json_dumps의 리턴 타입은 str"
      ],
      "execution_count": 8,
      "outputs": [
        {
          "output_type": "execute_result",
          "data": {
            "text/plain": [
              "str"
            ]
          },
          "metadata": {},
          "execution_count": 8
        }
      ]
    },
    {
      "cell_type": "code",
      "metadata": {
        "colab": {
          "base_uri": "https://localhost:8080/"
        },
        "id": "aHQY-_ZzI2aq",
        "outputId": "c01f6191-cd4d-486d-8c86-762c89ea5e09"
      },
      "source": [
        "# json.loads(s): JSON formatted string ---> Python object (Deserialize, 역직렬화)\n",
        "result = json.loads(person_json)\n",
        "result"
      ],
      "execution_count": 6,
      "outputs": [
        {
          "output_type": "execute_result",
          "data": {
            "text/plain": [
              "{'age': 16, 'name': '홍길동', 'phones': ['02-1111-2222', '010-3333-4444']}"
            ]
          },
          "metadata": {},
          "execution_count": 6
        }
      ]
    },
    {
      "cell_type": "code",
      "metadata": {
        "colab": {
          "base_uri": "https://localhost:8080/"
        },
        "id": "iIYVWCZaKBbU",
        "outputId": "c35bab1f-365d-42de-f6c5-186e02b947e2"
      },
      "source": [
        "type(result)"
      ],
      "execution_count": 7,
      "outputs": [
        {
          "output_type": "execute_result",
          "data": {
            "text/plain": [
              "dict"
            ]
          },
          "metadata": {},
          "execution_count": 7
        }
      ]
    },
    {
      "cell_type": "markdown",
      "metadata": {
        "id": "1yHpYV_fOX88"
      },
      "source": [
        "## JSON 쓰기/읽기"
      ]
    },
    {
      "cell_type": "code",
      "metadata": {
        "id": "aXCVHZFqKFjL"
      },
      "source": [
        "with open('gildong.json', mode='w') as f:  # 파일을 텍스트 쓰기(wt) 모드로 오픈\n",
        "    f.write(person_json)  # 문자열을 파일에 씀\n",
        "# with ~ as 구문 종료 후 f.close() 자동 호출됨."
      ],
      "execution_count": 9,
      "outputs": []
    },
    {
      "cell_type": "code",
      "metadata": {
        "colab": {
          "base_uri": "https://localhost:8080/"
        },
        "id": "U_cr6VwePBT4",
        "outputId": "96b4e9a5-22f0-4d79-ebcb-2fd63d353ca0"
      },
      "source": [
        "with open('gildong.json', mode='r') as f:  # 파일을 텍스트 읽기(rt) 모드로 오픈\n",
        "    line = f.readline()  # 파일에서 첫번째 줄을 읽음\n",
        "    print(line)  # 파일에서 읽은 JSON 포맷의 문자열\n",
        "    gildong = json.loads(line)  # str ---> dict : deserialize\n",
        "    print(type(gildong))\n",
        "    print(gildong)"
      ],
      "execution_count": 11,
      "outputs": [
        {
          "output_type": "stream",
          "text": [
            "{\"name\": \"\\ud64d\\uae38\\ub3d9\", \"age\": 16, \"phones\": [\"02-1111-2222\", \"010-3333-4444\"]}\n",
            "<class 'dict'>\n",
            "{'name': '홍길동', 'age': 16, 'phones': ['02-1111-2222', '010-3333-4444']}\n"
          ],
          "name": "stdout"
        }
      ]
    },
    {
      "cell_type": "code",
      "metadata": {
        "id": "EWICScw9QxP5"
      },
      "source": [
        "# JSON 포맷의 문자열이 한줄씩 저장된 파일\n",
        "with open('movies.json', mode='w') as f:\n",
        "    # dict 객체 생성\n",
        "    movie1 = {'mid': 1, 'title': '모가디슈', 'genre': 'action'}\n",
        "    movie2 = {'mid': 2, 'title': 'black widow'}\n",
        "    movie3 = {'mid': 3, 'title': '씽크홀', 'genre': 'comedy'}\n",
        "    # dict ---> JSON formatted string\n",
        "    m1_s = json.dumps(movie1)\n",
        "    m2_s = json.dumps(movie2)\n",
        "    m3_s = json.dumps(movie3)\n",
        "    # 3개의 문자열을 한줄씩 파일에 write\n",
        "    f.write(m1_s + '\\n')  # '\\n': new line(줄바꿈)\n",
        "    f.write(m2_s + '\\n')\n",
        "    f.write(m3_s + '\\n')"
      ],
      "execution_count": 13,
      "outputs": []
    },
    {
      "cell_type": "code",
      "metadata": {
        "colab": {
          "base_uri": "https://localhost:8080/"
        },
        "id": "TT2G2ivjUKEP",
        "outputId": "7fee32ec-ff5e-41bf-8e66-6414977ee8cf"
      },
      "source": [
        "# 파일에서 한줄씩 읽으면서 dict객체로 변환하고 리스트에 추가\n",
        "movies = []  # 한줄씩 읽고 변환한 객체를 저장할 리스트\n",
        "with open('movies.json', mode='r') as f:  # 파일을 텍스트 읽기(rt) 모드로 open\n",
        "    for line in f:  # 파일에서 한줄씩 읽으면서 반복\n",
        "        # print(line)\n",
        "        m = json.loads(line.strip())  # json formatted string ---> dict\n",
        "        movies.append(m)  # dict 객체를 리스트에 추가\n",
        "\n",
        "movies  #> dict 객체를 아이템으로 갖는 리스트"
      ],
      "execution_count": 16,
      "outputs": [
        {
          "output_type": "execute_result",
          "data": {
            "text/plain": [
              "[{'genre': 'action', 'mid': 1, 'title': '모가디슈'},\n",
              " {'mid': 2, 'title': 'black widow'},\n",
              " {'genre': 'comedy', 'mid': 3, 'title': '씽크홀'}]"
            ]
          },
          "metadata": {},
          "execution_count": 16
        }
      ]
    },
    {
      "cell_type": "code",
      "metadata": {
        "colab": {
          "base_uri": "https://localhost:8080/"
        },
        "id": "PGJ-tcVDWFNX",
        "outputId": "7c37a4ae-8ec0-4cee-ad62-1ca958d49ad5"
      },
      "source": [
        "# list comprehension\n",
        "with open('movies.json', mode='r') as f:\n",
        "    movies_2 = [json.loads(s.strip()) for s in f]\n",
        "movies_2"
      ],
      "execution_count": 17,
      "outputs": [
        {
          "output_type": "execute_result",
          "data": {
            "text/plain": [
              "[{'genre': 'action', 'mid': 1, 'title': '모가디슈'},\n",
              " {'mid': 2, 'title': 'black widow'},\n",
              " {'genre': 'comedy', 'mid': 3, 'title': '씽크홀'}]"
            ]
          },
          "metadata": {},
          "execution_count": 17
        }
      ]
    },
    {
      "cell_type": "code",
      "metadata": {
        "id": "I5zvHfcnXIIH"
      },
      "source": [
        "movies_df = pd.DataFrame(movies)"
      ],
      "execution_count": 18,
      "outputs": []
    },
    {
      "cell_type": "code",
      "metadata": {
        "colab": {
          "base_uri": "https://localhost:8080/",
          "height": 143
        },
        "id": "DBHXki1WXeWO",
        "outputId": "f19f1fb0-5119-43f0-f729-00a7ef0149fd"
      },
      "source": [
        "movies_df"
      ],
      "execution_count": 19,
      "outputs": [
        {
          "output_type": "execute_result",
          "data": {
            "text/html": [
              "<div>\n",
              "<style scoped>\n",
              "    .dataframe tbody tr th:only-of-type {\n",
              "        vertical-align: middle;\n",
              "    }\n",
              "\n",
              "    .dataframe tbody tr th {\n",
              "        vertical-align: top;\n",
              "    }\n",
              "\n",
              "    .dataframe thead th {\n",
              "        text-align: right;\n",
              "    }\n",
              "</style>\n",
              "<table border=\"1\" class=\"dataframe\">\n",
              "  <thead>\n",
              "    <tr style=\"text-align: right;\">\n",
              "      <th></th>\n",
              "      <th>mid</th>\n",
              "      <th>title</th>\n",
              "      <th>genre</th>\n",
              "    </tr>\n",
              "  </thead>\n",
              "  <tbody>\n",
              "    <tr>\n",
              "      <th>0</th>\n",
              "      <td>1</td>\n",
              "      <td>모가디슈</td>\n",
              "      <td>action</td>\n",
              "    </tr>\n",
              "    <tr>\n",
              "      <th>1</th>\n",
              "      <td>2</td>\n",
              "      <td>black widow</td>\n",
              "      <td>NaN</td>\n",
              "    </tr>\n",
              "    <tr>\n",
              "      <th>2</th>\n",
              "      <td>3</td>\n",
              "      <td>씽크홀</td>\n",
              "      <td>comedy</td>\n",
              "    </tr>\n",
              "  </tbody>\n",
              "</table>\n",
              "</div>"
            ],
            "text/plain": [
              "   mid        title   genre\n",
              "0    1         모가디슈  action\n",
              "1    2  black widow     NaN\n",
              "2    3          씽크홀  comedy"
            ]
          },
          "metadata": {},
          "execution_count": 19
        }
      ]
    },
    {
      "cell_type": "markdown",
      "metadata": {
        "id": "qDI3qKJMbsil"
      },
      "source": [
        "# bitly 데이터셋\n",
        "\n",
        "* https://github.com/wesm/pydata-book/raw/2nd-edition/datasets/bitly_usagov/example.txt 파일을 다운로드\n",
        "    * bit.ly 서비스를 이용해서 usa.gov 사이트에 접속한 클라이언트들의 로그 정보를 저장한 파일\n",
        "* 다운로드한 파일을 Colab 세션 저장소에 업로드\n",
        "* 업로드한 파일을 읽기 모드로 오픈\n",
        "* 파일의 첫번째 줄부터 마지막 줄까지 한줄씩 읽으면서 반복\n",
        "    * 읽은 JSON 포맷의 문자열을 dict 타입 객체로 변환하고 리스트에 추가(append)\n",
        "* 파일의 내용이 모두 append된 리스트를 DataFrame으로 생성\n",
        "* 데이터 분석"
      ]
    },
    {
      "cell_type": "code",
      "metadata": {
        "id": "ambIHYUyXfS2"
      },
      "source": [
        "# 업로드한 파일을 읽고 리스트에 데이터들을 추가\n",
        "with open(file='example.txt', mode='r') as f:\n",
        "    # readline ---> JSON formatted string ---> dict ---> append\n",
        "    records = [json.loads(s.strip()) for s in f]"
      ],
      "execution_count": 20,
      "outputs": []
    },
    {
      "cell_type": "code",
      "metadata": {
        "colab": {
          "base_uri": "https://localhost:8080/"
        },
        "id": "mxBIRQwBiZu8",
        "outputId": "3c10f6e7-0cdd-4de2-f3f9-a3e5acc71d32"
      },
      "source": [
        "len(records)  #> 3,560개 dict를 저장하고 있는 리스트"
      ],
      "execution_count": 21,
      "outputs": [
        {
          "output_type": "execute_result",
          "data": {
            "text/plain": [
              "3560"
            ]
          },
          "metadata": {},
          "execution_count": 21
        }
      ]
    },
    {
      "cell_type": "code",
      "metadata": {
        "colab": {
          "base_uri": "https://localhost:8080/"
        },
        "id": "idFX4z6Uib1C",
        "outputId": "5b37ce55-aa0d-41cc-dfde-365c1e37cb58"
      },
      "source": [
        "# 리스트의  첫번째 아이템(dict)\n",
        "records[0]"
      ],
      "execution_count": 22,
      "outputs": [
        {
          "output_type": "execute_result",
          "data": {
            "text/plain": [
              "{'a': 'Mozilla/5.0 (Windows NT 6.1; WOW64) AppleWebKit/535.11 (KHTML, like Gecko) Chrome/17.0.963.78 Safari/535.11',\n",
              " 'al': 'en-US,en;q=0.8',\n",
              " 'c': 'US',\n",
              " 'cy': 'Danvers',\n",
              " 'g': 'A6qOVH',\n",
              " 'gr': 'MA',\n",
              " 'h': 'wfLQtf',\n",
              " 'hc': 1331822918,\n",
              " 'hh': '1.usa.gov',\n",
              " 'l': 'orofrog',\n",
              " 'll': [42.576698, -70.954903],\n",
              " 'nk': 1,\n",
              " 'r': 'http://www.facebook.com/l/7AQEFzjSi/1.usa.gov/wfLQtf',\n",
              " 't': 1331923247,\n",
              " 'tz': 'America/New_York',\n",
              " 'u': 'http://www.ncbi.nlm.nih.gov/pubmed/22415991'}"
            ]
          },
          "metadata": {},
          "execution_count": 22
        }
      ]
    },
    {
      "cell_type": "code",
      "metadata": {
        "colab": {
          "base_uri": "https://localhost:8080/"
        },
        "id": "L_gva_ugjxii",
        "outputId": "8710bc18-6fe7-4143-a66d-7f1d888f024e"
      },
      "source": [
        "# 리스트의 마지막 아이템(dict)\n",
        "records[-1]"
      ],
      "execution_count": 23,
      "outputs": [
        {
          "output_type": "execute_result",
          "data": {
            "text/plain": [
              "{'a': 'Mozilla/4.0 (compatible; MSIE 8.0; Windows NT 6.1; Trident/4.0; SLCC2; .NET CLR 2.0.50727; .NET CLR 3.5.30729; .NET CLR 3.0.30729; Media Center PC 6.0; MS-RTC LM 8; .NET4.0C; .NET4.0E; .NET CLR 1.1.4322)',\n",
              " 'al': 'en-US',\n",
              " 'c': 'US',\n",
              " 'cy': 'Mc Lean',\n",
              " 'g': 'qxKrTK',\n",
              " 'gr': 'VA',\n",
              " 'h': 'qxKrTK',\n",
              " 'hc': 1312897670,\n",
              " 'hh': '1.usa.gov',\n",
              " 'l': 'bitly',\n",
              " 'll': [38.935799, -77.162102],\n",
              " 'nk': 0,\n",
              " 'r': 'http://t.co/OEEEvwjU',\n",
              " 't': 1331926849,\n",
              " 'tz': 'America/New_York',\n",
              " 'u': 'http://herndon-va.gov/Content/public_safety/Public_Information/weekly_reports.aspx?cnlid=1736'}"
            ]
          },
          "metadata": {},
          "execution_count": 23
        }
      ]
    },
    {
      "cell_type": "code",
      "metadata": {
        "id": "RssyPb5Rj3_K"
      },
      "source": [
        "# dict들의 list를 DataFrame으로 변환\n",
        "df = pd.DataFrame(records)"
      ],
      "execution_count": 24,
      "outputs": []
    },
    {
      "cell_type": "code",
      "metadata": {
        "colab": {
          "base_uri": "https://localhost:8080/",
          "height": 347
        },
        "id": "EQqLfpDX4GAV",
        "outputId": "a37ebc9d-cdfe-4703-8327-f3b3dea60fc9"
      },
      "source": [
        "df.head()\n",
        "#> list의 각 아이템은 DataFrame의 행(row)으로 변환\n",
        "#> dict의 key는 DataFrame의 컬럼 이름으로 변환\n",
        "#> dict의 value는 해당 컬럼의 값으로 변환"
      ],
      "execution_count": 25,
      "outputs": [
        {
          "output_type": "execute_result",
          "data": {
            "text/html": [
              "<div>\n",
              "<style scoped>\n",
              "    .dataframe tbody tr th:only-of-type {\n",
              "        vertical-align: middle;\n",
              "    }\n",
              "\n",
              "    .dataframe tbody tr th {\n",
              "        vertical-align: top;\n",
              "    }\n",
              "\n",
              "    .dataframe thead th {\n",
              "        text-align: right;\n",
              "    }\n",
              "</style>\n",
              "<table border=\"1\" class=\"dataframe\">\n",
              "  <thead>\n",
              "    <tr style=\"text-align: right;\">\n",
              "      <th></th>\n",
              "      <th>a</th>\n",
              "      <th>c</th>\n",
              "      <th>nk</th>\n",
              "      <th>tz</th>\n",
              "      <th>gr</th>\n",
              "      <th>g</th>\n",
              "      <th>h</th>\n",
              "      <th>l</th>\n",
              "      <th>al</th>\n",
              "      <th>hh</th>\n",
              "      <th>r</th>\n",
              "      <th>u</th>\n",
              "      <th>t</th>\n",
              "      <th>hc</th>\n",
              "      <th>cy</th>\n",
              "      <th>ll</th>\n",
              "      <th>_heartbeat_</th>\n",
              "      <th>kw</th>\n",
              "    </tr>\n",
              "  </thead>\n",
              "  <tbody>\n",
              "    <tr>\n",
              "      <th>0</th>\n",
              "      <td>Mozilla/5.0 (Windows NT 6.1; WOW64) AppleWebKi...</td>\n",
              "      <td>US</td>\n",
              "      <td>1.0</td>\n",
              "      <td>America/New_York</td>\n",
              "      <td>MA</td>\n",
              "      <td>A6qOVH</td>\n",
              "      <td>wfLQtf</td>\n",
              "      <td>orofrog</td>\n",
              "      <td>en-US,en;q=0.8</td>\n",
              "      <td>1.usa.gov</td>\n",
              "      <td>http://www.facebook.com/l/7AQEFzjSi/1.usa.gov/...</td>\n",
              "      <td>http://www.ncbi.nlm.nih.gov/pubmed/22415991</td>\n",
              "      <td>1.331923e+09</td>\n",
              "      <td>1.331823e+09</td>\n",
              "      <td>Danvers</td>\n",
              "      <td>[42.576698, -70.954903]</td>\n",
              "      <td>NaN</td>\n",
              "      <td>NaN</td>\n",
              "    </tr>\n",
              "    <tr>\n",
              "      <th>1</th>\n",
              "      <td>GoogleMaps/RochesterNY</td>\n",
              "      <td>US</td>\n",
              "      <td>0.0</td>\n",
              "      <td>America/Denver</td>\n",
              "      <td>UT</td>\n",
              "      <td>mwszkS</td>\n",
              "      <td>mwszkS</td>\n",
              "      <td>bitly</td>\n",
              "      <td>NaN</td>\n",
              "      <td>j.mp</td>\n",
              "      <td>http://www.AwareMap.com/</td>\n",
              "      <td>http://www.monroecounty.gov/etc/911/rss.php</td>\n",
              "      <td>1.331923e+09</td>\n",
              "      <td>1.308262e+09</td>\n",
              "      <td>Provo</td>\n",
              "      <td>[40.218102, -111.613297]</td>\n",
              "      <td>NaN</td>\n",
              "      <td>NaN</td>\n",
              "    </tr>\n",
              "    <tr>\n",
              "      <th>2</th>\n",
              "      <td>Mozilla/4.0 (compatible; MSIE 8.0; Windows NT ...</td>\n",
              "      <td>US</td>\n",
              "      <td>1.0</td>\n",
              "      <td>America/New_York</td>\n",
              "      <td>DC</td>\n",
              "      <td>xxr3Qb</td>\n",
              "      <td>xxr3Qb</td>\n",
              "      <td>bitly</td>\n",
              "      <td>en-US</td>\n",
              "      <td>1.usa.gov</td>\n",
              "      <td>http://t.co/03elZC4Q</td>\n",
              "      <td>http://boxer.senate.gov/en/press/releases/0316...</td>\n",
              "      <td>1.331923e+09</td>\n",
              "      <td>1.331920e+09</td>\n",
              "      <td>Washington</td>\n",
              "      <td>[38.9007, -77.043098]</td>\n",
              "      <td>NaN</td>\n",
              "      <td>NaN</td>\n",
              "    </tr>\n",
              "    <tr>\n",
              "      <th>3</th>\n",
              "      <td>Mozilla/5.0 (Macintosh; Intel Mac OS X 10_6_8)...</td>\n",
              "      <td>BR</td>\n",
              "      <td>0.0</td>\n",
              "      <td>America/Sao_Paulo</td>\n",
              "      <td>27</td>\n",
              "      <td>zCaLwp</td>\n",
              "      <td>zUtuOu</td>\n",
              "      <td>alelex88</td>\n",
              "      <td>pt-br</td>\n",
              "      <td>1.usa.gov</td>\n",
              "      <td>direct</td>\n",
              "      <td>http://apod.nasa.gov/apod/ap120312.html</td>\n",
              "      <td>1.331923e+09</td>\n",
              "      <td>1.331923e+09</td>\n",
              "      <td>Braz</td>\n",
              "      <td>[-23.549999, -46.616699]</td>\n",
              "      <td>NaN</td>\n",
              "      <td>NaN</td>\n",
              "    </tr>\n",
              "    <tr>\n",
              "      <th>4</th>\n",
              "      <td>Mozilla/5.0 (Windows NT 6.1; WOW64) AppleWebKi...</td>\n",
              "      <td>US</td>\n",
              "      <td>0.0</td>\n",
              "      <td>America/New_York</td>\n",
              "      <td>MA</td>\n",
              "      <td>9b6kNl</td>\n",
              "      <td>9b6kNl</td>\n",
              "      <td>bitly</td>\n",
              "      <td>en-US,en;q=0.8</td>\n",
              "      <td>bit.ly</td>\n",
              "      <td>http://www.shrewsbury-ma.gov/selco/</td>\n",
              "      <td>http://www.shrewsbury-ma.gov/egov/gallery/1341...</td>\n",
              "      <td>1.331923e+09</td>\n",
              "      <td>1.273672e+09</td>\n",
              "      <td>Shrewsbury</td>\n",
              "      <td>[42.286499, -71.714699]</td>\n",
              "      <td>NaN</td>\n",
              "      <td>NaN</td>\n",
              "    </tr>\n",
              "  </tbody>\n",
              "</table>\n",
              "</div>"
            ],
            "text/plain": [
              "                                                   a   c  ...  _heartbeat_   kw\n",
              "0  Mozilla/5.0 (Windows NT 6.1; WOW64) AppleWebKi...  US  ...          NaN  NaN\n",
              "1                             GoogleMaps/RochesterNY  US  ...          NaN  NaN\n",
              "2  Mozilla/4.0 (compatible; MSIE 8.0; Windows NT ...  US  ...          NaN  NaN\n",
              "3  Mozilla/5.0 (Macintosh; Intel Mac OS X 10_6_8)...  BR  ...          NaN  NaN\n",
              "4  Mozilla/5.0 (Windows NT 6.1; WOW64) AppleWebKi...  US  ...          NaN  NaN\n",
              "\n",
              "[5 rows x 18 columns]"
            ]
          },
          "metadata": {},
          "execution_count": 25
        }
      ]
    },
    {
      "cell_type": "code",
      "metadata": {
        "colab": {
          "base_uri": "https://localhost:8080/"
        },
        "id": "hOafx02P4IXr",
        "outputId": "f162cbbb-0072-4851-ba3f-ea1413e0fab1"
      },
      "source": [
        "df.info()\n",
        "#> JSON(반정형 데이터) 데이터들을 DataFrame(정형 데이터)으로 변환하면 보통 NA들이 많이 생기게 됨."
      ],
      "execution_count": 26,
      "outputs": [
        {
          "output_type": "stream",
          "text": [
            "<class 'pandas.core.frame.DataFrame'>\n",
            "RangeIndex: 3560 entries, 0 to 3559\n",
            "Data columns (total 18 columns):\n",
            " #   Column       Non-Null Count  Dtype  \n",
            "---  ------       --------------  -----  \n",
            " 0   a            3440 non-null   object \n",
            " 1   c            2919 non-null   object \n",
            " 2   nk           3440 non-null   float64\n",
            " 3   tz           3440 non-null   object \n",
            " 4   gr           2919 non-null   object \n",
            " 5   g            3440 non-null   object \n",
            " 6   h            3440 non-null   object \n",
            " 7   l            3440 non-null   object \n",
            " 8   al           3094 non-null   object \n",
            " 9   hh           3440 non-null   object \n",
            " 10  r            3440 non-null   object \n",
            " 11  u            3440 non-null   object \n",
            " 12  t            3440 non-null   float64\n",
            " 13  hc           3440 non-null   float64\n",
            " 14  cy           2919 non-null   object \n",
            " 15  ll           2919 non-null   object \n",
            " 16  _heartbeat_  120 non-null    float64\n",
            " 17  kw           93 non-null     object \n",
            "dtypes: float64(4), object(14)\n",
            "memory usage: 500.8+ KB\n"
          ],
          "name": "stdout"
        }
      ]
    },
    {
      "cell_type": "markdown",
      "metadata": {
        "id": "nxgcRJZD7zyP"
      },
      "source": [
        "## 사용자 접속 지역(시간대, timezone) 분석\n",
        "\n",
        "* tz에는 몇 개의 시간대?\n",
        "* 사용자가 가장 많이 접속한 지역(시간대)?"
      ]
    },
    {
      "cell_type": "code",
      "metadata": {
        "colab": {
          "base_uri": "https://localhost:8080/"
        },
        "id": "BvNAkHBk75Cz",
        "outputId": "2c87bb12-32b9-4a82-8951-88d8762ff8fe"
      },
      "source": [
        "df['tz']"
      ],
      "execution_count": 27,
      "outputs": [
        {
          "output_type": "execute_result",
          "data": {
            "text/plain": [
              "0          America/New_York\n",
              "1            America/Denver\n",
              "2          America/New_York\n",
              "3         America/Sao_Paulo\n",
              "4          America/New_York\n",
              "               ...         \n",
              "3555       America/New_York\n",
              "3556        America/Chicago\n",
              "3557         America/Denver\n",
              "3558    America/Los_Angeles\n",
              "3559       America/New_York\n",
              "Name: tz, Length: 3560, dtype: object"
            ]
          },
          "metadata": {},
          "execution_count": 27
        }
      ]
    },
    {
      "cell_type": "code",
      "metadata": {
        "colab": {
          "base_uri": "https://localhost:8080/"
        },
        "id": "GBMtdA8m8K5E",
        "outputId": "cfc13fb5-cb65-4ee1-ed0f-a88d3541b7d3"
      },
      "source": [
        "df['tz'].value_counts()"
      ],
      "execution_count": 28,
      "outputs": [
        {
          "output_type": "execute_result",
          "data": {
            "text/plain": [
              "America/New_York        1251\n",
              "                         521\n",
              "America/Chicago          400\n",
              "America/Los_Angeles      382\n",
              "America/Denver           191\n",
              "                        ... \n",
              "Australia/Queensland       1\n",
              "America/Monterrey          1\n",
              "Europe/Skopje              1\n",
              "Europe/Uzhgorod            1\n",
              "Europe/Ljubljana           1\n",
              "Name: tz, Length: 97, dtype: int64"
            ]
          },
          "metadata": {},
          "execution_count": 28
        }
      ]
    },
    {
      "cell_type": "code",
      "metadata": {
        "id": "iFS5NMn9-IeL"
      },
      "source": [
        "# 데이터를 가공(cleaning)하기 위한 복사본을 만듦.\n",
        "df_clean = df.copy()"
      ],
      "execution_count": 29,
      "outputs": []
    },
    {
      "cell_type": "code",
      "metadata": {
        "id": "2WRgl_9O8d16"
      },
      "source": [
        "# tz 컬럼의 NA값들을 'Missing' 문자열로 대체\n",
        "df_clean['tz'] = df_clean['tz'].fillna('Missing')"
      ],
      "execution_count": 30,
      "outputs": []
    },
    {
      "cell_type": "code",
      "metadata": {
        "colab": {
          "base_uri": "https://localhost:8080/"
        },
        "id": "gWGFaa_J-yO4",
        "outputId": "4c329dfa-6b8d-45e6-ee83-d39e8eba9c08"
      },
      "source": [
        "df_clean['tz'].value_counts()"
      ],
      "execution_count": 31,
      "outputs": [
        {
          "output_type": "execute_result",
          "data": {
            "text/plain": [
              "America/New_York        1251\n",
              "                         521\n",
              "America/Chicago          400\n",
              "America/Los_Angeles      382\n",
              "America/Denver           191\n",
              "                        ... \n",
              "Europe/Skopje              1\n",
              "Europe/Volgograd           1\n",
              "Europe/Uzhgorod            1\n",
              "Australia/Queensland       1\n",
              "Africa/Johannesburg        1\n",
              "Name: tz, Length: 98, dtype: int64"
            ]
          },
          "metadata": {},
          "execution_count": 31
        }
      ]
    },
    {
      "cell_type": "code",
      "metadata": {
        "id": "kHNyMPvB-2eo"
      },
      "source": [
        "# tz 컬럼의 빈 문자열('')을 'Unknown' 문자열로 대체\n",
        "df_clean.loc[df_clean.tz == '', 'tz'] = 'Unknown'"
      ],
      "execution_count": 36,
      "outputs": []
    },
    {
      "cell_type": "code",
      "metadata": {
        "colab": {
          "base_uri": "https://localhost:8080/"
        },
        "id": "3dwjwpZZ_7fK",
        "outputId": "12e35ba0-ac0a-4cc0-f1e6-ec511cfb5f54"
      },
      "source": [
        "df_clean['tz'].value_counts()"
      ],
      "execution_count": 37,
      "outputs": [
        {
          "output_type": "execute_result",
          "data": {
            "text/plain": [
              "America/New_York             1251\n",
              "Unknown                       521\n",
              "America/Chicago               400\n",
              "America/Los_Angeles           382\n",
              "America/Denver                191\n",
              "                             ... \n",
              "America/Argentina/Cordoba       1\n",
              "Asia/Kuching                    1\n",
              "Europe/Skopje                   1\n",
              "Europe/Volgograd                1\n",
              "Asia/Manila                     1\n",
              "Name: tz, Length: 98, dtype: int64"
            ]
          },
          "metadata": {},
          "execution_count": 37
        }
      ]
    },
    {
      "cell_type": "code",
      "metadata": {
        "id": "1zLec5X2AAtJ"
      },
      "source": [
        "# 사용자들이 가장 많이 접속한 시간대(timezone) 상위 10개를 시각화"
      ],
      "execution_count": null,
      "outputs": []
    }
  ]
}
{
  "nbformat": 4,
  "nbformat_minor": 0,
  "metadata": {
    "colab": {
      "name": "da18_json.ipynb",
      "provenance": [],
      "collapsed_sections": [],
      "authorship_tag": "ABX9TyOV36COGKlJFS/84mjcs6Sy",
      "include_colab_link": true
    },
    "kernelspec": {
      "name": "python3",
      "display_name": "Python 3"
    },
    "language_info": {
      "name": "python"
    }
  },
  "cells": [
    {
      "cell_type": "markdown",
      "metadata": {
        "id": "view-in-github",
        "colab_type": "text"
      },
      "source": [
        "<a href=\"https://colab.research.google.com/github/JakeOh/202105_itw_bd26/blob/main/lab_da/da18_json.ipynb\" target=\"_parent\"><img src=\"https://colab.research.google.com/assets/colab-badge.svg\" alt=\"Open In Colab\"/></a>"
      ]
    },
    {
      "cell_type": "markdown",
      "metadata": {
        "id": "NJ_gO9VzCvY-"
      },
      "source": [
        "# JSON\n",
        "\n",
        "* JSON(JavaScript Object Notations): 자바스크립트 객체 표현법\n",
        "* `{key1: value1, key2: value2, ...}` 형식의 문자열\n",
        "* Python의 `dict` 클래스 객체의 문자열 표현과 비슷\n",
        "* `json` 모듈: **JSON** 형식 **문자열(str)** <---> **`dict`** 타입 **객체(object)**\n",
        "    * `json.dumps(obj)`: Python 객체 obj를 JSON 형식의 문자열로 변환(serialize, 직렬화)해서 변환된 문자열을 리턴.\n",
        "    * `json.loads(s)`: JSON 형식의 문자열 s를 Python 객체로 변환(deserialize, 역직렬화)해서 변환된 파이썬 객체를 리턴.\n",
        "    * `json.dump(obj, fp)`: Python 객체 obj를 JSON 형식의 문자열로 변환해서 파일fp에 씀(write).\n",
        "    * `json.load(fp)`: 파일 fp에서 JSON 형식의 문자열을 읽어서 Python 객체로 변환해서, 변환된 객체를 리턴.\n"
      ]
    },
    {
      "cell_type": "code",
      "metadata": {
        "id": "Zw3uSW9ICqMP"
      },
      "source": [
        "import json  # JSON 읽기/쓰기 기능을 가지고 있는 파이썬 기본 모듈\n",
        "import matplotlib.pyplot as plt\n",
        "import numpy as np\n",
        "import pandas as pd\n",
        "import seaborn as sns"
      ],
      "execution_count": 1,
      "outputs": []
    },
    {
      "cell_type": "code",
      "metadata": {
        "id": "9kpulfSRHSMl"
      },
      "source": [
        "# json.dumps(obj): Python object ---> JSON formatted string (Serialize, 직렬화)\n",
        "person = {'name': '홍길동', \n",
        "          'age': 16,\n",
        "          'phones': ['02-1111-2222', '010-3333-4444']}"
      ],
      "execution_count": 2,
      "outputs": []
    },
    {
      "cell_type": "code",
      "metadata": {
        "colab": {
          "base_uri": "https://localhost:8080/"
        },
        "id": "iNZ40I8HIWVl",
        "outputId": "d0cfad38-70f3-42f9-aec8-332c81e94e86"
      },
      "source": [
        "person"
      ],
      "execution_count": 3,
      "outputs": [
        {
          "output_type": "execute_result",
          "data": {
            "text/plain": [
              "{'age': 16, 'name': '홍길동', 'phones': ['02-1111-2222', '010-3333-4444']}"
            ]
          },
          "metadata": {},
          "execution_count": 3
        }
      ]
    },
    {
      "cell_type": "code",
      "metadata": {
        "colab": {
          "base_uri": "https://localhost:8080/"
        },
        "id": "ztSpiEaHIW57",
        "outputId": "bdd73c9d-ea66-4c0c-90e3-30839b1506db"
      },
      "source": [
        "type(person)  # person은 파이썬 dict 클래스 타입의 객체"
      ],
      "execution_count": 4,
      "outputs": [
        {
          "output_type": "execute_result",
          "data": {
            "text/plain": [
              "dict"
            ]
          },
          "metadata": {},
          "execution_count": 4
        }
      ]
    },
    {
      "cell_type": "code",
      "metadata": {
        "colab": {
          "base_uri": "https://localhost:8080/",
          "height": 36
        },
        "id": "3A62dAwoIj5b",
        "outputId": "665bcd48-8fee-41ba-ece1-46035e71664e"
      },
      "source": [
        "person_json = json.dumps(person)\n",
        "person_json"
      ],
      "execution_count": 5,
      "outputs": [
        {
          "output_type": "execute_result",
          "data": {
            "application/vnd.google.colaboratory.intrinsic+json": {
              "type": "string"
            },
            "text/plain": [
              "'{\"name\": \"\\\\ud64d\\\\uae38\\\\ub3d9\", \"age\": 16, \"phones\": [\"02-1111-2222\", \"010-3333-4444\"]}'"
            ]
          },
          "metadata": {},
          "execution_count": 5
        }
      ]
    },
    {
      "cell_type": "code",
      "metadata": {
        "colab": {
          "base_uri": "https://localhost:8080/"
        },
        "id": "tWSZsoNOK6Yp",
        "outputId": "f0ef2c54-c306-47df-f495-ce8851da78c9"
      },
      "source": [
        "type(person_json)  # json_dumps의 리턴 타입은 str"
      ],
      "execution_count": 8,
      "outputs": [
        {
          "output_type": "execute_result",
          "data": {
            "text/plain": [
              "str"
            ]
          },
          "metadata": {},
          "execution_count": 8
        }
      ]
    },
    {
      "cell_type": "code",
      "metadata": {
        "colab": {
          "base_uri": "https://localhost:8080/"
        },
        "id": "aHQY-_ZzI2aq",
        "outputId": "c01f6191-cd4d-486d-8c86-762c89ea5e09"
      },
      "source": [
        "# json.loads(s): JSON formatted string ---> Python object (Deserialize, 역직렬화)\n",
        "result = json.loads(person_json)\n",
        "result"
      ],
      "execution_count": 6,
      "outputs": [
        {
          "output_type": "execute_result",
          "data": {
            "text/plain": [
              "{'age': 16, 'name': '홍길동', 'phones': ['02-1111-2222', '010-3333-4444']}"
            ]
          },
          "metadata": {},
          "execution_count": 6
        }
      ]
    },
    {
      "cell_type": "code",
      "metadata": {
        "colab": {
          "base_uri": "https://localhost:8080/"
        },
        "id": "iIYVWCZaKBbU",
        "outputId": "c35bab1f-365d-42de-f6c5-186e02b947e2"
      },
      "source": [
        "type(result)"
      ],
      "execution_count": 7,
      "outputs": [
        {
          "output_type": "execute_result",
          "data": {
            "text/plain": [
              "dict"
            ]
          },
          "metadata": {},
          "execution_count": 7
        }
      ]
    },
    {
      "cell_type": "markdown",
      "metadata": {
        "id": "1yHpYV_fOX88"
      },
      "source": [
        "## JSON 쓰기/읽기"
      ]
    },
    {
      "cell_type": "code",
      "metadata": {
        "id": "aXCVHZFqKFjL"
      },
      "source": [
        "with open('gildong.json', mode='w') as f:  # 파일을 텍스트 쓰기(wt) 모드로 오픈\n",
        "    f.write(person_json)  # 문자열을 파일에 씀\n",
        "# with ~ as 구문 종료 후 f.close() 자동 호출됨."
      ],
      "execution_count": 9,
      "outputs": []
    },
    {
      "cell_type": "code",
      "metadata": {
        "colab": {
          "base_uri": "https://localhost:8080/"
        },
        "id": "U_cr6VwePBT4",
        "outputId": "96b4e9a5-22f0-4d79-ebcb-2fd63d353ca0"
      },
      "source": [
        "with open('gildong.json', mode='r') as f:  # 파일을 텍스트 읽기(rt) 모드로 오픈\n",
        "    line = f.readline()  # 파일에서 첫번째 줄을 읽음\n",
        "    print(line)  # 파일에서 읽은 JSON 포맷의 문자열\n",
        "    gildong = json.loads(line)  # str ---> dict : deserialize\n",
        "    print(type(gildong))\n",
        "    print(gildong)"
      ],
      "execution_count": 11,
      "outputs": [
        {
          "output_type": "stream",
          "text": [
            "{\"name\": \"\\ud64d\\uae38\\ub3d9\", \"age\": 16, \"phones\": [\"02-1111-2222\", \"010-3333-4444\"]}\n",
            "<class 'dict'>\n",
            "{'name': '홍길동', 'age': 16, 'phones': ['02-1111-2222', '010-3333-4444']}\n"
          ],
          "name": "stdout"
        }
      ]
    },
    {
      "cell_type": "code",
      "metadata": {
        "id": "EWICScw9QxP5"
      },
      "source": [
        "# JSON 포맷의 문자열이 한줄씩 저장된 파일\n",
        "with open('movies.json', mode='w') as f:\n",
        "    # dict 객체 생성\n",
        "    movie1 = {'mid': 1, 'title': '모가디슈', 'genre': 'action'}\n",
        "    movie2 = {'mid': 2, 'title': 'black widow'}\n",
        "    movie3 = {'mid': 3, 'title': '씽크홀', 'genre': 'comedy'}\n",
        "    # dict ---> JSON formatted string\n",
        "    m1_s = json.dumps(movie1)\n",
        "    m2_s = json.dumps(movie2)\n",
        "    m3_s = json.dumps(movie3)\n",
        "    # 3개의 문자열을 한줄씩 파일에 write\n",
        "    f.write(m1_s + '\\n')  # '\\n': new line(줄바꿈)\n",
        "    f.write(m2_s + '\\n')\n",
        "    f.write(m3_s + '\\n')"
      ],
      "execution_count": 13,
      "outputs": []
    },
    {
      "cell_type": "code",
      "metadata": {
        "colab": {
          "base_uri": "https://localhost:8080/"
        },
        "id": "TT2G2ivjUKEP",
        "outputId": "7fee32ec-ff5e-41bf-8e66-6414977ee8cf"
      },
      "source": [
        "# 파일에서 한줄씩 읽으면서 dict객체로 변환하고 리스트에 추가\n",
        "movies = []  # 한줄씩 읽고 변환한 객체를 저장할 리스트\n",
        "with open('movies.json', mode='r') as f:  # 파일을 텍스트 읽기(rt) 모드로 open\n",
        "    for line in f:  # 파일에서 한줄씩 읽으면서 반복\n",
        "        # print(line)\n",
        "        m = json.loads(line.strip())  # json formatted string ---> dict\n",
        "        movies.append(m)  # dict 객체를 리스트에 추가\n",
        "\n",
        "movies  #> dict 객체를 아이템으로 갖는 리스트"
      ],
      "execution_count": 16,
      "outputs": [
        {
          "output_type": "execute_result",
          "data": {
            "text/plain": [
              "[{'genre': 'action', 'mid': 1, 'title': '모가디슈'},\n",
              " {'mid': 2, 'title': 'black widow'},\n",
              " {'genre': 'comedy', 'mid': 3, 'title': '씽크홀'}]"
            ]
          },
          "metadata": {},
          "execution_count": 16
        }
      ]
    },
    {
      "cell_type": "code",
      "metadata": {
        "colab": {
          "base_uri": "https://localhost:8080/"
        },
        "id": "PGJ-tcVDWFNX",
        "outputId": "7c37a4ae-8ec0-4cee-ad62-1ca958d49ad5"
      },
      "source": [
        "# list comprehension\n",
        "with open('movies.json', mode='r') as f:\n",
        "    movies_2 = [json.loads(s.strip()) for s in f]\n",
        "movies_2"
      ],
      "execution_count": 17,
      "outputs": [
        {
          "output_type": "execute_result",
          "data": {
            "text/plain": [
              "[{'genre': 'action', 'mid': 1, 'title': '모가디슈'},\n",
              " {'mid': 2, 'title': 'black widow'},\n",
              " {'genre': 'comedy', 'mid': 3, 'title': '씽크홀'}]"
            ]
          },
          "metadata": {},
          "execution_count": 17
        }
      ]
    },
    {
      "cell_type": "code",
      "metadata": {
        "id": "I5zvHfcnXIIH"
      },
      "source": [
        "movies_df = pd.DataFrame(movies)"
      ],
      "execution_count": 18,
      "outputs": []
    },
    {
      "cell_type": "code",
      "metadata": {
        "colab": {
          "base_uri": "https://localhost:8080/",
          "height": 143
        },
        "id": "DBHXki1WXeWO",
        "outputId": "f19f1fb0-5119-43f0-f729-00a7ef0149fd"
      },
      "source": [
        "movies_df"
      ],
      "execution_count": 19,
      "outputs": [
        {
          "output_type": "execute_result",
          "data": {
            "text/html": [
              "<div>\n",
              "<style scoped>\n",
              "    .dataframe tbody tr th:only-of-type {\n",
              "        vertical-align: middle;\n",
              "    }\n",
              "\n",
              "    .dataframe tbody tr th {\n",
              "        vertical-align: top;\n",
              "    }\n",
              "\n",
              "    .dataframe thead th {\n",
              "        text-align: right;\n",
              "    }\n",
              "</style>\n",
              "<table border=\"1\" class=\"dataframe\">\n",
              "  <thead>\n",
              "    <tr style=\"text-align: right;\">\n",
              "      <th></th>\n",
              "      <th>mid</th>\n",
              "      <th>title</th>\n",
              "      <th>genre</th>\n",
              "    </tr>\n",
              "  </thead>\n",
              "  <tbody>\n",
              "    <tr>\n",
              "      <th>0</th>\n",
              "      <td>1</td>\n",
              "      <td>모가디슈</td>\n",
              "      <td>action</td>\n",
              "    </tr>\n",
              "    <tr>\n",
              "      <th>1</th>\n",
              "      <td>2</td>\n",
              "      <td>black widow</td>\n",
              "      <td>NaN</td>\n",
              "    </tr>\n",
              "    <tr>\n",
              "      <th>2</th>\n",
              "      <td>3</td>\n",
              "      <td>씽크홀</td>\n",
              "      <td>comedy</td>\n",
              "    </tr>\n",
              "  </tbody>\n",
              "</table>\n",
              "</div>"
            ],
            "text/plain": [
              "   mid        title   genre\n",
              "0    1         모가디슈  action\n",
              "1    2  black widow     NaN\n",
              "2    3          씽크홀  comedy"
            ]
          },
          "metadata": {},
          "execution_count": 19
        }
      ]
    },
    {
      "cell_type": "code",
      "metadata": {
        "id": "ambIHYUyXfS2"
      },
      "source": [
        ""
      ],
      "execution_count": null,
      "outputs": []
    }
  ]
}
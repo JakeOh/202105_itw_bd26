{
  "nbformat": 4,
  "nbformat_minor": 0,
  "metadata": {
    "colab": {
      "name": "da18_json.ipynb",
      "provenance": [],
      "collapsed_sections": [],
      "authorship_tag": "ABX9TyN0mltx9ob3EVrBNpNeu8E3",
      "include_colab_link": true
    },
    "kernelspec": {
      "name": "python3",
      "display_name": "Python 3"
    },
    "language_info": {
      "name": "python"
    }
  },
  "cells": [
    {
      "cell_type": "markdown",
      "metadata": {
        "id": "view-in-github",
        "colab_type": "text"
      },
      "source": [
        "<a href=\"https://colab.research.google.com/github/JakeOh/202105_itw_bd26/blob/main/lab_da/da18_json.ipynb\" target=\"_parent\"><img src=\"https://colab.research.google.com/assets/colab-badge.svg\" alt=\"Open In Colab\"/></a>"
      ]
    },
    {
      "cell_type": "markdown",
      "metadata": {
        "id": "NJ_gO9VzCvY-"
      },
      "source": [
        "# JSON\n",
        "\n",
        "* JSON(JavaScript Object Notations): 자바스크립트 객체 표현법\n",
        "* `{key1: value1, key2: value2, ...}` 형식의 문자열\n",
        "* Python의 `dict` 클래스 객체의 문자열 표현과 비슷\n",
        "* `json` 모듈: **JSON** 형식 **문자열(str)** <---> **`dict`** 타입 **객체(object)**\n",
        "    * `json.dumps(obj)`: Python 객체 obj를 JSON 형식의 문자열로 변환(serialize, 직렬화)해서 변환된 문자열을 리턴.\n",
        "    * `json.loads(s)`: JSON 형식의 문자열 s를 Python 객체로 변환(deserialize, 역직렬화)해서 변환된 파이썬 객체를 리턴.\n",
        "    * `json.dump(obj, fp)`: Python 객체 obj를 JSON 형식의 문자열로 변환해서 파일fp에 씀(write).\n",
        "    * `json.load(fp)`: 파일 fp에서 JSON 형식의 문자열을 읽어서 Python 객체로 변환해서, 변환된 객체를 리턴.\n"
      ]
    },
    {
      "cell_type": "code",
      "metadata": {
        "id": "Zw3uSW9ICqMP"
      },
      "source": [
        "import json  # JSON 읽기/쓰기 기능을 가지고 있는 파이썬 기본 모듈\n",
        "import matplotlib.pyplot as plt\n",
        "import numpy as np\n",
        "import pandas as pd\n",
        "import seaborn as sns"
      ],
      "execution_count": 1,
      "outputs": []
    },
    {
      "cell_type": "code",
      "metadata": {
        "id": "9kpulfSRHSMl"
      },
      "source": [
        "# json.dumps(obj): Python object ---> JSON formatted string (Serialize, 직렬화)\n",
        "person = {'name': '홍길동', \n",
        "          'age': 16,\n",
        "          'phones': ['02-1111-2222', '010-3333-4444']}"
      ],
      "execution_count": 2,
      "outputs": []
    },
    {
      "cell_type": "code",
      "metadata": {
        "colab": {
          "base_uri": "https://localhost:8080/"
        },
        "id": "iNZ40I8HIWVl",
        "outputId": "d0cfad38-70f3-42f9-aec8-332c81e94e86"
      },
      "source": [
        "person"
      ],
      "execution_count": 3,
      "outputs": [
        {
          "output_type": "execute_result",
          "data": {
            "text/plain": [
              "{'age': 16, 'name': '홍길동', 'phones': ['02-1111-2222', '010-3333-4444']}"
            ]
          },
          "metadata": {},
          "execution_count": 3
        }
      ]
    },
    {
      "cell_type": "code",
      "metadata": {
        "colab": {
          "base_uri": "https://localhost:8080/"
        },
        "id": "ztSpiEaHIW57",
        "outputId": "bdd73c9d-ea66-4c0c-90e3-30839b1506db"
      },
      "source": [
        "type(person)  # person은 파이썬 dict 클래스 타입의 객체"
      ],
      "execution_count": 4,
      "outputs": [
        {
          "output_type": "execute_result",
          "data": {
            "text/plain": [
              "dict"
            ]
          },
          "metadata": {},
          "execution_count": 4
        }
      ]
    },
    {
      "cell_type": "code",
      "metadata": {
        "colab": {
          "base_uri": "https://localhost:8080/",
          "height": 36
        },
        "id": "3A62dAwoIj5b",
        "outputId": "665bcd48-8fee-41ba-ece1-46035e71664e"
      },
      "source": [
        "person_json = json.dumps(person)\n",
        "person_json"
      ],
      "execution_count": 5,
      "outputs": [
        {
          "output_type": "execute_result",
          "data": {
            "application/vnd.google.colaboratory.intrinsic+json": {
              "type": "string"
            },
            "text/plain": [
              "'{\"name\": \"\\\\ud64d\\\\uae38\\\\ub3d9\", \"age\": 16, \"phones\": [\"02-1111-2222\", \"010-3333-4444\"]}'"
            ]
          },
          "metadata": {},
          "execution_count": 5
        }
      ]
    },
    {
      "cell_type": "code",
      "metadata": {
        "colab": {
          "base_uri": "https://localhost:8080/"
        },
        "id": "tWSZsoNOK6Yp",
        "outputId": "f0ef2c54-c306-47df-f495-ce8851da78c9"
      },
      "source": [
        "type(person_json)  # json_dumps의 리턴 타입은 str"
      ],
      "execution_count": 8,
      "outputs": [
        {
          "output_type": "execute_result",
          "data": {
            "text/plain": [
              "str"
            ]
          },
          "metadata": {},
          "execution_count": 8
        }
      ]
    },
    {
      "cell_type": "code",
      "metadata": {
        "colab": {
          "base_uri": "https://localhost:8080/"
        },
        "id": "aHQY-_ZzI2aq",
        "outputId": "c01f6191-cd4d-486d-8c86-762c89ea5e09"
      },
      "source": [
        "# json.loads(s): JSON formatted string ---> Python object (Deserialize, 역직렬화)\n",
        "result = json.loads(person_json)\n",
        "result"
      ],
      "execution_count": 6,
      "outputs": [
        {
          "output_type": "execute_result",
          "data": {
            "text/plain": [
              "{'age': 16, 'name': '홍길동', 'phones': ['02-1111-2222', '010-3333-4444']}"
            ]
          },
          "metadata": {},
          "execution_count": 6
        }
      ]
    },
    {
      "cell_type": "code",
      "metadata": {
        "colab": {
          "base_uri": "https://localhost:8080/"
        },
        "id": "iIYVWCZaKBbU",
        "outputId": "c35bab1f-365d-42de-f6c5-186e02b947e2"
      },
      "source": [
        "type(result)"
      ],
      "execution_count": 7,
      "outputs": [
        {
          "output_type": "execute_result",
          "data": {
            "text/plain": [
              "dict"
            ]
          },
          "metadata": {},
          "execution_count": 7
        }
      ]
    },
    {
      "cell_type": "markdown",
      "metadata": {
        "id": "1yHpYV_fOX88"
      },
      "source": [
        "## JSON 쓰기/읽기"
      ]
    },
    {
      "cell_type": "code",
      "metadata": {
        "id": "aXCVHZFqKFjL"
      },
      "source": [
        "with open('gildong.json', mode='w') as f:  # 파일을 텍스트 쓰기(wt) 모드로 오픈\n",
        "    f.write(person_json)  # 문자열을 파일에 씀\n",
        "# with ~ as 구문 종료 후 f.close() 자동 호출됨."
      ],
      "execution_count": 9,
      "outputs": []
    },
    {
      "cell_type": "code",
      "metadata": {
        "colab": {
          "base_uri": "https://localhost:8080/"
        },
        "id": "U_cr6VwePBT4",
        "outputId": "96b4e9a5-22f0-4d79-ebcb-2fd63d353ca0"
      },
      "source": [
        "with open('gildong.json', mode='r') as f:  # 파일을 텍스트 읽기(rt) 모드로 오픈\n",
        "    line = f.readline()  # 파일에서 첫번째 줄을 읽음\n",
        "    print(line)  # 파일에서 읽은 JSON 포맷의 문자열\n",
        "    gildong = json.loads(line)  # str ---> dict : deserialize\n",
        "    print(type(gildong))\n",
        "    print(gildong)"
      ],
      "execution_count": 11,
      "outputs": [
        {
          "output_type": "stream",
          "text": [
            "{\"name\": \"\\ud64d\\uae38\\ub3d9\", \"age\": 16, \"phones\": [\"02-1111-2222\", \"010-3333-4444\"]}\n",
            "<class 'dict'>\n",
            "{'name': '홍길동', 'age': 16, 'phones': ['02-1111-2222', '010-3333-4444']}\n"
          ],
          "name": "stdout"
        }
      ]
    },
    {
      "cell_type": "code",
      "metadata": {
        "id": "EWICScw9QxP5"
      },
      "source": [
        "# JSON 포맷의 문자열이 한줄씩 저장된 파일\n",
        "with open('movies.json', mode='w') as f:\n",
        "    # dict 객체 생성\n",
        "    movie1 = {'mid': 1, 'title': '모가디슈', 'genre': 'action'}\n",
        "    movie2 = {'mid': 2, 'title': 'black widow'}\n",
        "    movie3 = {'mid': 3, 'title': '씽크홀', 'genre': 'comedy'}\n",
        "    # dict ---> JSON formatted string\n",
        "    m1_s = json.dumps(movie1)\n",
        "    m2_s = json.dumps(movie2)\n",
        "    m3_s = json.dumps(movie3)\n",
        "    # 3개의 문자열을 한줄씩 파일에 write\n",
        "    f.write(m1_s + '\\n')  # '\\n': new line(줄바꿈)\n",
        "    f.write(m2_s + '\\n')\n",
        "    f.write(m3_s + '\\n')"
      ],
      "execution_count": 13,
      "outputs": []
    },
    {
      "cell_type": "code",
      "metadata": {
        "colab": {
          "base_uri": "https://localhost:8080/"
        },
        "id": "TT2G2ivjUKEP",
        "outputId": "7fee32ec-ff5e-41bf-8e66-6414977ee8cf"
      },
      "source": [
        "# 파일에서 한줄씩 읽으면서 dict객체로 변환하고 리스트에 추가\n",
        "movies = []  # 한줄씩 읽고 변환한 객체를 저장할 리스트\n",
        "with open('movies.json', mode='r') as f:  # 파일을 텍스트 읽기(rt) 모드로 open\n",
        "    for line in f:  # 파일에서 한줄씩 읽으면서 반복\n",
        "        # print(line)\n",
        "        m = json.loads(line.strip())  # json formatted string ---> dict\n",
        "        movies.append(m)  # dict 객체를 리스트에 추가\n",
        "\n",
        "movies  #> dict 객체를 아이템으로 갖는 리스트"
      ],
      "execution_count": 16,
      "outputs": [
        {
          "output_type": "execute_result",
          "data": {
            "text/plain": [
              "[{'genre': 'action', 'mid': 1, 'title': '모가디슈'},\n",
              " {'mid': 2, 'title': 'black widow'},\n",
              " {'genre': 'comedy', 'mid': 3, 'title': '씽크홀'}]"
            ]
          },
          "metadata": {},
          "execution_count": 16
        }
      ]
    },
    {
      "cell_type": "code",
      "metadata": {
        "colab": {
          "base_uri": "https://localhost:8080/"
        },
        "id": "PGJ-tcVDWFNX",
        "outputId": "7c37a4ae-8ec0-4cee-ad62-1ca958d49ad5"
      },
      "source": [
        "# list comprehension\n",
        "with open('movies.json', mode='r') as f:\n",
        "    movies_2 = [json.loads(s.strip()) for s in f]\n",
        "movies_2"
      ],
      "execution_count": 17,
      "outputs": [
        {
          "output_type": "execute_result",
          "data": {
            "text/plain": [
              "[{'genre': 'action', 'mid': 1, 'title': '모가디슈'},\n",
              " {'mid': 2, 'title': 'black widow'},\n",
              " {'genre': 'comedy', 'mid': 3, 'title': '씽크홀'}]"
            ]
          },
          "metadata": {},
          "execution_count": 17
        }
      ]
    },
    {
      "cell_type": "code",
      "metadata": {
        "id": "I5zvHfcnXIIH"
      },
      "source": [
        "movies_df = pd.DataFrame(movies)"
      ],
      "execution_count": 18,
      "outputs": []
    },
    {
      "cell_type": "code",
      "metadata": {
        "colab": {
          "base_uri": "https://localhost:8080/",
          "height": 143
        },
        "id": "DBHXki1WXeWO",
        "outputId": "f19f1fb0-5119-43f0-f729-00a7ef0149fd"
      },
      "source": [
        "movies_df"
      ],
      "execution_count": 19,
      "outputs": [
        {
          "output_type": "execute_result",
          "data": {
            "text/html": [
              "<div>\n",
              "<style scoped>\n",
              "    .dataframe tbody tr th:only-of-type {\n",
              "        vertical-align: middle;\n",
              "    }\n",
              "\n",
              "    .dataframe tbody tr th {\n",
              "        vertical-align: top;\n",
              "    }\n",
              "\n",
              "    .dataframe thead th {\n",
              "        text-align: right;\n",
              "    }\n",
              "</style>\n",
              "<table border=\"1\" class=\"dataframe\">\n",
              "  <thead>\n",
              "    <tr style=\"text-align: right;\">\n",
              "      <th></th>\n",
              "      <th>mid</th>\n",
              "      <th>title</th>\n",
              "      <th>genre</th>\n",
              "    </tr>\n",
              "  </thead>\n",
              "  <tbody>\n",
              "    <tr>\n",
              "      <th>0</th>\n",
              "      <td>1</td>\n",
              "      <td>모가디슈</td>\n",
              "      <td>action</td>\n",
              "    </tr>\n",
              "    <tr>\n",
              "      <th>1</th>\n",
              "      <td>2</td>\n",
              "      <td>black widow</td>\n",
              "      <td>NaN</td>\n",
              "    </tr>\n",
              "    <tr>\n",
              "      <th>2</th>\n",
              "      <td>3</td>\n",
              "      <td>씽크홀</td>\n",
              "      <td>comedy</td>\n",
              "    </tr>\n",
              "  </tbody>\n",
              "</table>\n",
              "</div>"
            ],
            "text/plain": [
              "   mid        title   genre\n",
              "0    1         모가디슈  action\n",
              "1    2  black widow     NaN\n",
              "2    3          씽크홀  comedy"
            ]
          },
          "metadata": {},
          "execution_count": 19
        }
      ]
    },
    {
      "cell_type": "markdown",
      "metadata": {
        "id": "qDI3qKJMbsil"
      },
      "source": [
        "# bitly 데이터셋\n",
        "\n",
        "* https://github.com/wesm/pydata-book/raw/2nd-edition/datasets/bitly_usagov/example.txt 파일을 다운로드\n",
        "    * bit.ly 서비스를 이용해서 usa.gov 사이트에 접속한 클라이언트들의 로그 정보를 저장한 파일\n",
        "* 다운로드한 파일을 Colab 세션 저장소에 업로드\n",
        "* 업로드한 파일을 읽기 모드로 오픈\n",
        "* 파일의 첫번째 줄부터 마지막 줄까지 한줄씩 읽으면서 반복\n",
        "    * 읽은 JSON 포맷의 문자열을 dict 타입 객체로 변환하고 리스트에 추가(append)\n",
        "* 파일의 내용이 모두 append된 리스트를 DataFrame으로 생성\n",
        "* 데이터 분석"
      ]
    },
    {
      "cell_type": "code",
      "metadata": {
        "id": "ambIHYUyXfS2"
      },
      "source": [
        "# 업로드한 파일을 읽고 리스트에 데이터들을 추가\n",
        "with open(file='example.txt', mode='r') as f:\n",
        "    # readline ---> JSON formatted string ---> dict ---> append\n",
        "    records = [json.loads(s.strip()) for s in f]"
      ],
      "execution_count": 20,
      "outputs": []
    },
    {
      "cell_type": "code",
      "metadata": {
        "colab": {
          "base_uri": "https://localhost:8080/"
        },
        "id": "mxBIRQwBiZu8",
        "outputId": "3c10f6e7-0cdd-4de2-f3f9-a3e5acc71d32"
      },
      "source": [
        "len(records)  #> 3,560개 dict를 저장하고 있는 리스트"
      ],
      "execution_count": 21,
      "outputs": [
        {
          "output_type": "execute_result",
          "data": {
            "text/plain": [
              "3560"
            ]
          },
          "metadata": {},
          "execution_count": 21
        }
      ]
    },
    {
      "cell_type": "code",
      "metadata": {
        "colab": {
          "base_uri": "https://localhost:8080/"
        },
        "id": "idFX4z6Uib1C",
        "outputId": "5b37ce55-aa0d-41cc-dfde-365c1e37cb58"
      },
      "source": [
        "# 리스트의  첫번째 아이템(dict)\n",
        "records[0]"
      ],
      "execution_count": 22,
      "outputs": [
        {
          "output_type": "execute_result",
          "data": {
            "text/plain": [
              "{'a': 'Mozilla/5.0 (Windows NT 6.1; WOW64) AppleWebKit/535.11 (KHTML, like Gecko) Chrome/17.0.963.78 Safari/535.11',\n",
              " 'al': 'en-US,en;q=0.8',\n",
              " 'c': 'US',\n",
              " 'cy': 'Danvers',\n",
              " 'g': 'A6qOVH',\n",
              " 'gr': 'MA',\n",
              " 'h': 'wfLQtf',\n",
              " 'hc': 1331822918,\n",
              " 'hh': '1.usa.gov',\n",
              " 'l': 'orofrog',\n",
              " 'll': [42.576698, -70.954903],\n",
              " 'nk': 1,\n",
              " 'r': 'http://www.facebook.com/l/7AQEFzjSi/1.usa.gov/wfLQtf',\n",
              " 't': 1331923247,\n",
              " 'tz': 'America/New_York',\n",
              " 'u': 'http://www.ncbi.nlm.nih.gov/pubmed/22415991'}"
            ]
          },
          "metadata": {},
          "execution_count": 22
        }
      ]
    },
    {
      "cell_type": "code",
      "metadata": {
        "colab": {
          "base_uri": "https://localhost:8080/"
        },
        "id": "L_gva_ugjxii",
        "outputId": "8710bc18-6fe7-4143-a66d-7f1d888f024e"
      },
      "source": [
        "# 리스트의 마지막 아이템(dict)\n",
        "records[-1]"
      ],
      "execution_count": 23,
      "outputs": [
        {
          "output_type": "execute_result",
          "data": {
            "text/plain": [
              "{'a': 'Mozilla/4.0 (compatible; MSIE 8.0; Windows NT 6.1; Trident/4.0; SLCC2; .NET CLR 2.0.50727; .NET CLR 3.5.30729; .NET CLR 3.0.30729; Media Center PC 6.0; MS-RTC LM 8; .NET4.0C; .NET4.0E; .NET CLR 1.1.4322)',\n",
              " 'al': 'en-US',\n",
              " 'c': 'US',\n",
              " 'cy': 'Mc Lean',\n",
              " 'g': 'qxKrTK',\n",
              " 'gr': 'VA',\n",
              " 'h': 'qxKrTK',\n",
              " 'hc': 1312897670,\n",
              " 'hh': '1.usa.gov',\n",
              " 'l': 'bitly',\n",
              " 'll': [38.935799, -77.162102],\n",
              " 'nk': 0,\n",
              " 'r': 'http://t.co/OEEEvwjU',\n",
              " 't': 1331926849,\n",
              " 'tz': 'America/New_York',\n",
              " 'u': 'http://herndon-va.gov/Content/public_safety/Public_Information/weekly_reports.aspx?cnlid=1736'}"
            ]
          },
          "metadata": {},
          "execution_count": 23
        }
      ]
    },
    {
      "cell_type": "code",
      "metadata": {
        "id": "RssyPb5Rj3_K"
      },
      "source": [
        "# dict들의 list를 DataFrame으로 변환\n",
        "df = pd.DataFrame(records)"
      ],
      "execution_count": 24,
      "outputs": []
    },
    {
      "cell_type": "code",
      "metadata": {
        "colab": {
          "base_uri": "https://localhost:8080/",
          "height": 347
        },
        "id": "EQqLfpDX4GAV",
        "outputId": "a37ebc9d-cdfe-4703-8327-f3b3dea60fc9"
      },
      "source": [
        "df.head()\n",
        "#> list의 각 아이템은 DataFrame의 행(row)으로 변환\n",
        "#> dict의 key는 DataFrame의 컬럼 이름으로 변환\n",
        "#> dict의 value는 해당 컬럼의 값으로 변환"
      ],
      "execution_count": 25,
      "outputs": [
        {
          "output_type": "execute_result",
          "data": {
            "text/html": [
              "<div>\n",
              "<style scoped>\n",
              "    .dataframe tbody tr th:only-of-type {\n",
              "        vertical-align: middle;\n",
              "    }\n",
              "\n",
              "    .dataframe tbody tr th {\n",
              "        vertical-align: top;\n",
              "    }\n",
              "\n",
              "    .dataframe thead th {\n",
              "        text-align: right;\n",
              "    }\n",
              "</style>\n",
              "<table border=\"1\" class=\"dataframe\">\n",
              "  <thead>\n",
              "    <tr style=\"text-align: right;\">\n",
              "      <th></th>\n",
              "      <th>a</th>\n",
              "      <th>c</th>\n",
              "      <th>nk</th>\n",
              "      <th>tz</th>\n",
              "      <th>gr</th>\n",
              "      <th>g</th>\n",
              "      <th>h</th>\n",
              "      <th>l</th>\n",
              "      <th>al</th>\n",
              "      <th>hh</th>\n",
              "      <th>r</th>\n",
              "      <th>u</th>\n",
              "      <th>t</th>\n",
              "      <th>hc</th>\n",
              "      <th>cy</th>\n",
              "      <th>ll</th>\n",
              "      <th>_heartbeat_</th>\n",
              "      <th>kw</th>\n",
              "    </tr>\n",
              "  </thead>\n",
              "  <tbody>\n",
              "    <tr>\n",
              "      <th>0</th>\n",
              "      <td>Mozilla/5.0 (Windows NT 6.1; WOW64) AppleWebKi...</td>\n",
              "      <td>US</td>\n",
              "      <td>1.0</td>\n",
              "      <td>America/New_York</td>\n",
              "      <td>MA</td>\n",
              "      <td>A6qOVH</td>\n",
              "      <td>wfLQtf</td>\n",
              "      <td>orofrog</td>\n",
              "      <td>en-US,en;q=0.8</td>\n",
              "      <td>1.usa.gov</td>\n",
              "      <td>http://www.facebook.com/l/7AQEFzjSi/1.usa.gov/...</td>\n",
              "      <td>http://www.ncbi.nlm.nih.gov/pubmed/22415991</td>\n",
              "      <td>1.331923e+09</td>\n",
              "      <td>1.331823e+09</td>\n",
              "      <td>Danvers</td>\n",
              "      <td>[42.576698, -70.954903]</td>\n",
              "      <td>NaN</td>\n",
              "      <td>NaN</td>\n",
              "    </tr>\n",
              "    <tr>\n",
              "      <th>1</th>\n",
              "      <td>GoogleMaps/RochesterNY</td>\n",
              "      <td>US</td>\n",
              "      <td>0.0</td>\n",
              "      <td>America/Denver</td>\n",
              "      <td>UT</td>\n",
              "      <td>mwszkS</td>\n",
              "      <td>mwszkS</td>\n",
              "      <td>bitly</td>\n",
              "      <td>NaN</td>\n",
              "      <td>j.mp</td>\n",
              "      <td>http://www.AwareMap.com/</td>\n",
              "      <td>http://www.monroecounty.gov/etc/911/rss.php</td>\n",
              "      <td>1.331923e+09</td>\n",
              "      <td>1.308262e+09</td>\n",
              "      <td>Provo</td>\n",
              "      <td>[40.218102, -111.613297]</td>\n",
              "      <td>NaN</td>\n",
              "      <td>NaN</td>\n",
              "    </tr>\n",
              "    <tr>\n",
              "      <th>2</th>\n",
              "      <td>Mozilla/4.0 (compatible; MSIE 8.0; Windows NT ...</td>\n",
              "      <td>US</td>\n",
              "      <td>1.0</td>\n",
              "      <td>America/New_York</td>\n",
              "      <td>DC</td>\n",
              "      <td>xxr3Qb</td>\n",
              "      <td>xxr3Qb</td>\n",
              "      <td>bitly</td>\n",
              "      <td>en-US</td>\n",
              "      <td>1.usa.gov</td>\n",
              "      <td>http://t.co/03elZC4Q</td>\n",
              "      <td>http://boxer.senate.gov/en/press/releases/0316...</td>\n",
              "      <td>1.331923e+09</td>\n",
              "      <td>1.331920e+09</td>\n",
              "      <td>Washington</td>\n",
              "      <td>[38.9007, -77.043098]</td>\n",
              "      <td>NaN</td>\n",
              "      <td>NaN</td>\n",
              "    </tr>\n",
              "    <tr>\n",
              "      <th>3</th>\n",
              "      <td>Mozilla/5.0 (Macintosh; Intel Mac OS X 10_6_8)...</td>\n",
              "      <td>BR</td>\n",
              "      <td>0.0</td>\n",
              "      <td>America/Sao_Paulo</td>\n",
              "      <td>27</td>\n",
              "      <td>zCaLwp</td>\n",
              "      <td>zUtuOu</td>\n",
              "      <td>alelex88</td>\n",
              "      <td>pt-br</td>\n",
              "      <td>1.usa.gov</td>\n",
              "      <td>direct</td>\n",
              "      <td>http://apod.nasa.gov/apod/ap120312.html</td>\n",
              "      <td>1.331923e+09</td>\n",
              "      <td>1.331923e+09</td>\n",
              "      <td>Braz</td>\n",
              "      <td>[-23.549999, -46.616699]</td>\n",
              "      <td>NaN</td>\n",
              "      <td>NaN</td>\n",
              "    </tr>\n",
              "    <tr>\n",
              "      <th>4</th>\n",
              "      <td>Mozilla/5.0 (Windows NT 6.1; WOW64) AppleWebKi...</td>\n",
              "      <td>US</td>\n",
              "      <td>0.0</td>\n",
              "      <td>America/New_York</td>\n",
              "      <td>MA</td>\n",
              "      <td>9b6kNl</td>\n",
              "      <td>9b6kNl</td>\n",
              "      <td>bitly</td>\n",
              "      <td>en-US,en;q=0.8</td>\n",
              "      <td>bit.ly</td>\n",
              "      <td>http://www.shrewsbury-ma.gov/selco/</td>\n",
              "      <td>http://www.shrewsbury-ma.gov/egov/gallery/1341...</td>\n",
              "      <td>1.331923e+09</td>\n",
              "      <td>1.273672e+09</td>\n",
              "      <td>Shrewsbury</td>\n",
              "      <td>[42.286499, -71.714699]</td>\n",
              "      <td>NaN</td>\n",
              "      <td>NaN</td>\n",
              "    </tr>\n",
              "  </tbody>\n",
              "</table>\n",
              "</div>"
            ],
            "text/plain": [
              "                                                   a   c  ...  _heartbeat_   kw\n",
              "0  Mozilla/5.0 (Windows NT 6.1; WOW64) AppleWebKi...  US  ...          NaN  NaN\n",
              "1                             GoogleMaps/RochesterNY  US  ...          NaN  NaN\n",
              "2  Mozilla/4.0 (compatible; MSIE 8.0; Windows NT ...  US  ...          NaN  NaN\n",
              "3  Mozilla/5.0 (Macintosh; Intel Mac OS X 10_6_8)...  BR  ...          NaN  NaN\n",
              "4  Mozilla/5.0 (Windows NT 6.1; WOW64) AppleWebKi...  US  ...          NaN  NaN\n",
              "\n",
              "[5 rows x 18 columns]"
            ]
          },
          "metadata": {},
          "execution_count": 25
        }
      ]
    },
    {
      "cell_type": "code",
      "metadata": {
        "colab": {
          "base_uri": "https://localhost:8080/"
        },
        "id": "hOafx02P4IXr",
        "outputId": "f162cbbb-0072-4851-ba3f-ea1413e0fab1"
      },
      "source": [
        "df.info()\n",
        "#> JSON(반정형 데이터) 데이터들을 DataFrame(정형 데이터)으로 변환하면 보통 NA들이 많이 생기게 됨."
      ],
      "execution_count": 26,
      "outputs": [
        {
          "output_type": "stream",
          "text": [
            "<class 'pandas.core.frame.DataFrame'>\n",
            "RangeIndex: 3560 entries, 0 to 3559\n",
            "Data columns (total 18 columns):\n",
            " #   Column       Non-Null Count  Dtype  \n",
            "---  ------       --------------  -----  \n",
            " 0   a            3440 non-null   object \n",
            " 1   c            2919 non-null   object \n",
            " 2   nk           3440 non-null   float64\n",
            " 3   tz           3440 non-null   object \n",
            " 4   gr           2919 non-null   object \n",
            " 5   g            3440 non-null   object \n",
            " 6   h            3440 non-null   object \n",
            " 7   l            3440 non-null   object \n",
            " 8   al           3094 non-null   object \n",
            " 9   hh           3440 non-null   object \n",
            " 10  r            3440 non-null   object \n",
            " 11  u            3440 non-null   object \n",
            " 12  t            3440 non-null   float64\n",
            " 13  hc           3440 non-null   float64\n",
            " 14  cy           2919 non-null   object \n",
            " 15  ll           2919 non-null   object \n",
            " 16  _heartbeat_  120 non-null    float64\n",
            " 17  kw           93 non-null     object \n",
            "dtypes: float64(4), object(14)\n",
            "memory usage: 500.8+ KB\n"
          ],
          "name": "stdout"
        }
      ]
    },
    {
      "cell_type": "markdown",
      "metadata": {
        "id": "nxgcRJZD7zyP"
      },
      "source": [
        "## 사용자 접속 지역(시간대, timezone) 분석\n",
        "\n",
        "* tz에는 몇 개의 시간대?\n",
        "* 사용자가 가장 많이 접속한 지역(시간대)?"
      ]
    },
    {
      "cell_type": "code",
      "metadata": {
        "colab": {
          "base_uri": "https://localhost:8080/"
        },
        "id": "BvNAkHBk75Cz",
        "outputId": "2c87bb12-32b9-4a82-8951-88d8762ff8fe"
      },
      "source": [
        "df['tz']"
      ],
      "execution_count": 27,
      "outputs": [
        {
          "output_type": "execute_result",
          "data": {
            "text/plain": [
              "0          America/New_York\n",
              "1            America/Denver\n",
              "2          America/New_York\n",
              "3         America/Sao_Paulo\n",
              "4          America/New_York\n",
              "               ...         \n",
              "3555       America/New_York\n",
              "3556        America/Chicago\n",
              "3557         America/Denver\n",
              "3558    America/Los_Angeles\n",
              "3559       America/New_York\n",
              "Name: tz, Length: 3560, dtype: object"
            ]
          },
          "metadata": {},
          "execution_count": 27
        }
      ]
    },
    {
      "cell_type": "code",
      "metadata": {
        "colab": {
          "base_uri": "https://localhost:8080/"
        },
        "id": "GBMtdA8m8K5E",
        "outputId": "cfc13fb5-cb65-4ee1-ed0f-a88d3541b7d3"
      },
      "source": [
        "df['tz'].value_counts()"
      ],
      "execution_count": 28,
      "outputs": [
        {
          "output_type": "execute_result",
          "data": {
            "text/plain": [
              "America/New_York        1251\n",
              "                         521\n",
              "America/Chicago          400\n",
              "America/Los_Angeles      382\n",
              "America/Denver           191\n",
              "                        ... \n",
              "Australia/Queensland       1\n",
              "America/Monterrey          1\n",
              "Europe/Skopje              1\n",
              "Europe/Uzhgorod            1\n",
              "Europe/Ljubljana           1\n",
              "Name: tz, Length: 97, dtype: int64"
            ]
          },
          "metadata": {},
          "execution_count": 28
        }
      ]
    },
    {
      "cell_type": "code",
      "metadata": {
        "id": "iFS5NMn9-IeL"
      },
      "source": [
        "# 데이터를 가공(cleaning)하기 위한 복사본을 만듦.\n",
        "df_clean = df.copy()"
      ],
      "execution_count": 29,
      "outputs": []
    },
    {
      "cell_type": "code",
      "metadata": {
        "id": "2WRgl_9O8d16"
      },
      "source": [
        "# tz 컬럼의 NA값들을 'Missing' 문자열로 대체\n",
        "df_clean['tz'] = df_clean['tz'].fillna('Missing')"
      ],
      "execution_count": 30,
      "outputs": []
    },
    {
      "cell_type": "code",
      "metadata": {
        "colab": {
          "base_uri": "https://localhost:8080/"
        },
        "id": "gWGFaa_J-yO4",
        "outputId": "4c329dfa-6b8d-45e6-ee83-d39e8eba9c08"
      },
      "source": [
        "df_clean['tz'].value_counts()"
      ],
      "execution_count": 31,
      "outputs": [
        {
          "output_type": "execute_result",
          "data": {
            "text/plain": [
              "America/New_York        1251\n",
              "                         521\n",
              "America/Chicago          400\n",
              "America/Los_Angeles      382\n",
              "America/Denver           191\n",
              "                        ... \n",
              "Europe/Skopje              1\n",
              "Europe/Volgograd           1\n",
              "Europe/Uzhgorod            1\n",
              "Australia/Queensland       1\n",
              "Africa/Johannesburg        1\n",
              "Name: tz, Length: 98, dtype: int64"
            ]
          },
          "metadata": {},
          "execution_count": 31
        }
      ]
    },
    {
      "cell_type": "code",
      "metadata": {
        "id": "kHNyMPvB-2eo"
      },
      "source": [
        "# tz 컬럼의 빈 문자열('')을 'Unknown' 문자열로 대체\n",
        "df_clean.loc[df_clean.tz == '', 'tz'] = 'Unknown'"
      ],
      "execution_count": 36,
      "outputs": []
    },
    {
      "cell_type": "code",
      "metadata": {
        "colab": {
          "base_uri": "https://localhost:8080/"
        },
        "id": "3dwjwpZZ_7fK",
        "outputId": "12e35ba0-ac0a-4cc0-f1e6-ec511cfb5f54"
      },
      "source": [
        "df_clean['tz'].value_counts()"
      ],
      "execution_count": 37,
      "outputs": [
        {
          "output_type": "execute_result",
          "data": {
            "text/plain": [
              "America/New_York             1251\n",
              "Unknown                       521\n",
              "America/Chicago               400\n",
              "America/Los_Angeles           382\n",
              "America/Denver                191\n",
              "                             ... \n",
              "America/Argentina/Cordoba       1\n",
              "Asia/Kuching                    1\n",
              "Europe/Skopje                   1\n",
              "Europe/Volgograd                1\n",
              "Asia/Manila                     1\n",
              "Name: tz, Length: 98, dtype: int64"
            ]
          },
          "metadata": {},
          "execution_count": 37
        }
      ]
    },
    {
      "cell_type": "code",
      "metadata": {
        "colab": {
          "base_uri": "https://localhost:8080/"
        },
        "id": "1zLec5X2AAtJ",
        "outputId": "f844add9-54ee-48f0-b3f4-8ab52de0d77b"
      },
      "source": [
        "# 사용자들이 가장 많이 접속한 시간대(timezone) 상위 10개를 시각화\n",
        "top10_tz = df_clean['tz'].value_counts().head(n=10)\n",
        "top10_tz"
      ],
      "execution_count": 38,
      "outputs": [
        {
          "output_type": "execute_result",
          "data": {
            "text/plain": [
              "America/New_York       1251\n",
              "Unknown                 521\n",
              "America/Chicago         400\n",
              "America/Los_Angeles     382\n",
              "America/Denver          191\n",
              "Missing                 120\n",
              "Europe/London            74\n",
              "Asia/Tokyo               37\n",
              "Pacific/Honolulu         36\n",
              "Europe/Madrid            35\n",
              "Name: tz, dtype: int64"
            ]
          },
          "metadata": {},
          "execution_count": 38
        }
      ]
    },
    {
      "cell_type": "code",
      "metadata": {
        "colab": {
          "base_uri": "https://localhost:8080/",
          "height": 265
        },
        "id": "oso571DkFG-h",
        "outputId": "801a77db-9957-485b-a44a-97fb45a797c6"
      },
      "source": [
        "# 가로 막대 그래프\n",
        "sns.barplot(x=top10_tz.values, y=top10_tz.index)\n",
        "plt.show()"
      ],
      "execution_count": 39,
      "outputs": [
        {
          "output_type": "display_data",
          "data": {
            "image/png": "[encoded data removed]",
            "text/plain": [
              "<Figure size 432x288 with 1 Axes>"
            ]
          },
          "metadata": {
            "needs_background": "light"
          }
        }
      ]
    },
    {
      "cell_type": "code",
      "metadata": {
        "colab": {
          "base_uri": "https://localhost:8080/"
        },
        "id": "pZ8Uysn4FsVp",
        "outputId": "f44797d8-a720-40e1-96fd-e0c2aa408b86"
      },
      "source": [
        "df_clean['tz'].value_counts().tail(n=10)"
      ],
      "execution_count": 42,
      "outputs": [
        {
          "output_type": "execute_result",
          "data": {
            "text/plain": [
              "Europe/Uzhgorod                   1\n",
              "America/Santo_Domingo             1\n",
              "Australia/Queensland              1\n",
              "America/Argentina/Buenos_Aires    1\n",
              "Africa/Johannesburg               1\n",
              "America/Argentina/Cordoba         1\n",
              "Asia/Kuching                      1\n",
              "Europe/Skopje                     1\n",
              "Europe/Volgograd                  1\n",
              "Asia/Manila                       1\n",
              "Name: tz, dtype: int64"
            ]
          },
          "metadata": {},
          "execution_count": 42
        }
      ]
    },
    {
      "cell_type": "code",
      "metadata": {
        "colab": {
          "base_uri": "https://localhost:8080/",
          "height": 399
        },
        "id": "FGfG1z8hGgp3",
        "outputId": "c924a87e-1aeb-46fa-9c3a-e141ef5404b7"
      },
      "source": [
        "# 한국 서울 표준 시간대(Asia/Seoul)가 데이터프레임에 등장할까요?\n",
        "# df_clean[df_clean.tz == 'Asia/Seoul']\n",
        "df_clean[df_clean.tz.str.contains('Seoul')]"
      ],
      "execution_count": 46,
      "outputs": [
        {
          "output_type": "execute_result",
          "data": {
            "text/html": [
              "<div>\n",
              "<style scoped>\n",
              "    .dataframe tbody tr th:only-of-type {\n",
              "        vertical-align: middle;\n",
              "    }\n",
              "\n",
              "    .dataframe tbody tr th {\n",
              "        vertical-align: top;\n",
              "    }\n",
              "\n",
              "    .dataframe thead th {\n",
              "        text-align: right;\n",
              "    }\n",
              "</style>\n",
              "<table border=\"1\" class=\"dataframe\">\n",
              "  <thead>\n",
              "    <tr style=\"text-align: right;\">\n",
              "      <th></th>\n",
              "      <th>a</th>\n",
              "      <th>c</th>\n",
              "      <th>nk</th>\n",
              "      <th>tz</th>\n",
              "      <th>gr</th>\n",
              "      <th>g</th>\n",
              "      <th>h</th>\n",
              "      <th>l</th>\n",
              "      <th>al</th>\n",
              "      <th>hh</th>\n",
              "      <th>r</th>\n",
              "      <th>u</th>\n",
              "      <th>t</th>\n",
              "      <th>hc</th>\n",
              "      <th>cy</th>\n",
              "      <th>ll</th>\n",
              "      <th>_heartbeat_</th>\n",
              "      <th>kw</th>\n",
              "    </tr>\n",
              "  </thead>\n",
              "  <tbody>\n",
              "    <tr>\n",
              "      <th>1428</th>\n",
              "      <td>Mozilla/5.0 (Windows NT 5.1) AppleWebKit/535.1...</td>\n",
              "      <td>KR</td>\n",
              "      <td>1.0</td>\n",
              "      <td>Asia/Seoul</td>\n",
              "      <td>11</td>\n",
              "      <td>y7mqmw</td>\n",
              "      <td>w41aUb</td>\n",
              "      <td>rebroth</td>\n",
              "      <td>en-US,en;q=0.8</td>\n",
              "      <td>1.usa.gov</td>\n",
              "      <td>http://t.co/l16apDbA</td>\n",
              "      <td>http://apod.nasa.gov/apod/ap120314.html</td>\n",
              "      <td>1.331925e+09</td>\n",
              "      <td>1.331739e+09</td>\n",
              "      <td>Seoul</td>\n",
              "      <td>[37.566399, 126.999702]</td>\n",
              "      <td>NaN</td>\n",
              "      <td>NaN</td>\n",
              "    </tr>\n",
              "    <tr>\n",
              "      <th>3154</th>\n",
              "      <td>Mozilla/5.0 (iPad; U; CPU iPhone OS 5_0_1 like...</td>\n",
              "      <td>KR</td>\n",
              "      <td>0.0</td>\n",
              "      <td>Asia/Seoul</td>\n",
              "      <td>11</td>\n",
              "      <td>wcndER</td>\n",
              "      <td>zkpJBR</td>\n",
              "      <td>bnjacobs</td>\n",
              "      <td>ko-kr</td>\n",
              "      <td>1.usa.gov</td>\n",
              "      <td>http://m.facebook.com/l.php?u=http%3A%2F%2F1.u...</td>\n",
              "      <td>http://www.nasa.gov/mission_pages/nustar/main/...</td>\n",
              "      <td>1.331926e+09</td>\n",
              "      <td>1.331923e+09</td>\n",
              "      <td>Seoul</td>\n",
              "      <td>[37.566399, 126.999702]</td>\n",
              "      <td>NaN</td>\n",
              "      <td>NaN</td>\n",
              "    </tr>\n",
              "    <tr>\n",
              "      <th>3175</th>\n",
              "      <td>Mozilla/5.0 (iPad; U; CPU iPhone OS 5_0_1 like...</td>\n",
              "      <td>KR</td>\n",
              "      <td>1.0</td>\n",
              "      <td>Asia/Seoul</td>\n",
              "      <td>11</td>\n",
              "      <td>wcndER</td>\n",
              "      <td>zkpJBR</td>\n",
              "      <td>bnjacobs</td>\n",
              "      <td>ko-kr</td>\n",
              "      <td>1.usa.gov</td>\n",
              "      <td>http://m.facebook.com/l.php?u=http%3A%2F%2F1.u...</td>\n",
              "      <td>http://www.nasa.gov/mission_pages/nustar/main/...</td>\n",
              "      <td>1.331926e+09</td>\n",
              "      <td>1.331923e+09</td>\n",
              "      <td>Seoul</td>\n",
              "      <td>[37.566399, 126.999702]</td>\n",
              "      <td>NaN</td>\n",
              "      <td>NaN</td>\n",
              "    </tr>\n",
              "    <tr>\n",
              "      <th>3496</th>\n",
              "      <td>Mozilla/5.0 (iPhone; CPU iPhone OS 5_0_1 like ...</td>\n",
              "      <td>KR</td>\n",
              "      <td>0.0</td>\n",
              "      <td>Asia/Seoul</td>\n",
              "      <td>11</td>\n",
              "      <td>wQacbF</td>\n",
              "      <td>AsWr9f</td>\n",
              "      <td>addthis</td>\n",
              "      <td>en-us</td>\n",
              "      <td>1.usa.gov</td>\n",
              "      <td>https://twitter.com/whitehouse/status/18067782...</td>\n",
              "      <td>http://www.whitehouse.gov/energy/gasprices#.T2...</td>\n",
              "      <td>1.331927e+09</td>\n",
              "      <td>1.331912e+09</td>\n",
              "      <td>Seoul</td>\n",
              "      <td>[37.566399, 126.999702]</td>\n",
              "      <td>NaN</td>\n",
              "      <td>NaN</td>\n",
              "    </tr>\n",
              "    <tr>\n",
              "      <th>3506</th>\n",
              "      <td>Mozilla/5.0 (iPhone; CPU iPhone OS 5_0_1 like ...</td>\n",
              "      <td>KR</td>\n",
              "      <td>0.0</td>\n",
              "      <td>Asia/Seoul</td>\n",
              "      <td>11</td>\n",
              "      <td>wQacbF</td>\n",
              "      <td>AsWr9f</td>\n",
              "      <td>addthis</td>\n",
              "      <td>en-us</td>\n",
              "      <td>1.usa.gov</td>\n",
              "      <td>direct</td>\n",
              "      <td>http://www.whitehouse.gov/energy/gasprices#.T2...</td>\n",
              "      <td>1.331927e+09</td>\n",
              "      <td>1.331912e+09</td>\n",
              "      <td>Seoul</td>\n",
              "      <td>[37.566399, 126.999702]</td>\n",
              "      <td>NaN</td>\n",
              "      <td>NaN</td>\n",
              "    </tr>\n",
              "  </tbody>\n",
              "</table>\n",
              "</div>"
            ],
            "text/plain": [
              "                                                      a   c  ...  _heartbeat_   kw\n",
              "1428  Mozilla/5.0 (Windows NT 5.1) AppleWebKit/535.1...  KR  ...          NaN  NaN\n",
              "3154  Mozilla/5.0 (iPad; U; CPU iPhone OS 5_0_1 like...  KR  ...          NaN  NaN\n",
              "3175  Mozilla/5.0 (iPad; U; CPU iPhone OS 5_0_1 like...  KR  ...          NaN  NaN\n",
              "3496  Mozilla/5.0 (iPhone; CPU iPhone OS 5_0_1 like ...  KR  ...          NaN  NaN\n",
              "3506  Mozilla/5.0 (iPhone; CPU iPhone OS 5_0_1 like ...  KR  ...          NaN  NaN\n",
              "\n",
              "[5 rows x 18 columns]"
            ]
          },
          "metadata": {},
          "execution_count": 46
        }
      ]
    },
    {
      "cell_type": "markdown",
      "metadata": {
        "id": "PGJaAAK4JNDn"
      },
      "source": [
        "## 사용자 접속 국가(c) 분석\n",
        "\n",
        "* 가장 많이 접속한 국가 상위 10개 시각화"
      ]
    },
    {
      "cell_type": "code",
      "metadata": {
        "id": "VkFkyESvJo7t"
      },
      "source": [
        "df_clean['c'] = df_clean['c'].fillna('Missing')  # NA를 'Missing'으로 대체\n",
        "df_clean.loc[df_clean.c == '', 'c'] = 'Unknown'  # 빈 문자열('')을 'Unknown'으로 대체"
      ],
      "execution_count": 47,
      "outputs": []
    },
    {
      "cell_type": "code",
      "metadata": {
        "id": "tbnHBzh_MLtd"
      },
      "source": [
        "top10_country = df_clean['c'].value_counts().head(n=10)"
      ],
      "execution_count": 51,
      "outputs": []
    },
    {
      "cell_type": "code",
      "metadata": {
        "colab": {
          "base_uri": "https://localhost:8080/"
        },
        "id": "8tTYjKvAMutU",
        "outputId": "374be8ae-572d-46a8-a05e-e2f6053bb16e"
      },
      "source": [
        "top10_country"
      ],
      "execution_count": 52,
      "outputs": [
        {
          "output_type": "execute_result",
          "data": {
            "text/plain": [
              "US         2305\n",
              "Missing     641\n",
              "GB           74\n",
              "CA           60\n",
              "ES           37\n",
              "JP           37\n",
              "BR           35\n",
              "DE           28\n",
              "IT           27\n",
              "NL           22\n",
              "Name: c, dtype: int64"
            ]
          },
          "metadata": {},
          "execution_count": 52
        }
      ]
    },
    {
      "cell_type": "code",
      "metadata": {
        "colab": {
          "base_uri": "https://localhost:8080/",
          "height": 265
        },
        "id": "RKNV6U6dMv_8",
        "outputId": "0cc8d78d-550f-45a3-fad7-ab9be57b02e1"
      },
      "source": [
        "sns.barplot(x=top10_country.values, y=top10_country.index)\n",
        "plt.show()"
      ],
      "execution_count": 53,
      "outputs": [
        {
          "output_type": "display_data",
          "data": {
            "image/png": "[encoded data removed]",
            "text/plain": [
              "<Figure size 432x288 with 1 Axes>"
            ]
          },
          "metadata": {
            "needs_background": "light"
          }
        }
      ]
    },
    {
      "cell_type": "code",
      "metadata": {
        "id": "tJU1bCHjNM1m"
      },
      "source": [
        "# 미국과 NA(Missing)를 제외한 상위 10개 국가\n",
        "top10_country2 = df_clean['c'].value_counts().iloc[2:12]"
      ],
      "execution_count": 56,
      "outputs": []
    },
    {
      "cell_type": "code",
      "metadata": {
        "colab": {
          "base_uri": "https://localhost:8080/",
          "height": 265
        },
        "id": "5d4T21vfOPnt",
        "outputId": "1e13384a-1a64-47f1-9465-f3a346f3b5ea"
      },
      "source": [
        "sns.barplot(x=top10_country2.values, y=top10_country2.index)\n",
        "plt.show()"
      ],
      "execution_count": 57,
      "outputs": [
        {
          "output_type": "display_data",
          "data": {
            "image/png": "[encoded data removed]",
            "text/plain": [
              "<Figure size 432x288 with 1 Axes>"
            ]
          },
          "metadata": {
            "needs_background": "light"
          }
        }
      ]
    },
    {
      "cell_type": "code",
      "metadata": {
        "colab": {
          "base_uri": "https://localhost:8080/"
        },
        "id": "jDpUkvyzOV2L",
        "outputId": "c79cc609-6a06-43f7-e190-d38931024dff"
      },
      "source": [
        "df_clean[(df_clean.c != 'US') & (df_clean.c != 'Missing')]['c'].value_counts().head(n=10)"
      ],
      "execution_count": 65,
      "outputs": [
        {
          "output_type": "execute_result",
          "data": {
            "text/plain": [
              "GB    74\n",
              "CA    60\n",
              "JP    37\n",
              "ES    37\n",
              "BR    35\n",
              "DE    28\n",
              "IT    27\n",
              "NL    22\n",
              "MX    19\n",
              "PL    16\n",
              "Name: c, dtype: int64"
            ]
          },
          "metadata": {},
          "execution_count": 65
        }
      ]
    },
    {
      "cell_type": "markdown",
      "metadata": {
        "id": "MOOq5qXkVB-y"
      },
      "source": [
        "## 사용자 접속 환경(OS) 분석\n",
        "\n",
        "* 데이터프레임의 `a` 컬럼의 문자열을 분석하면 OS 정보를 일부 알 수 있음."
      ]
    },
    {
      "cell_type": "markdown",
      "metadata": {
        "id": "XsbwKWGgWVls"
      },
      "source": [
        "NA 처리 방법:\n",
        "\n",
        "* NA를 다른 값으로 대체\n",
        "    * 평균값 대체, 중앙값 대체, 특정값(예: 0) 대체\n",
        "    * 이전 행의 값으로 대체, 다음 행의 값으로 대체\n",
        "* NA가 포함된 행(row)을 삭제\n",
        "    * NA가 많지 않은 경우에(행들을 삭제해도 경향이 많이 바뀌지 않을 때)"
      ]
    },
    {
      "cell_type": "code",
      "metadata": {
        "colab": {
          "base_uri": "https://localhost:8080/"
        },
        "id": "oH7htn_PVIYU",
        "outputId": "d62af7c3-0636-446b-8baa-07c55e353d4d"
      },
      "source": [
        "df_clean.info()"
      ],
      "execution_count": 68,
      "outputs": [
        {
          "output_type": "stream",
          "text": [
            "<class 'pandas.core.frame.DataFrame'>\n",
            "RangeIndex: 3560 entries, 0 to 3559\n",
            "Data columns (total 18 columns):\n",
            " #   Column       Non-Null Count  Dtype  \n",
            "---  ------       --------------  -----  \n",
            " 0   a            3440 non-null   object \n",
            " 1   c            3560 non-null   object \n",
            " 2   nk           3440 non-null   float64\n",
            " 3   tz           3560 non-null   object \n",
            " 4   gr           2919 non-null   object \n",
            " 5   g            3440 non-null   object \n",
            " 6   h            3440 non-null   object \n",
            " 7   l            3440 non-null   object \n",
            " 8   al           3094 non-null   object \n",
            " 9   hh           3440 non-null   object \n",
            " 10  r            3440 non-null   object \n",
            " 11  u            3440 non-null   object \n",
            " 12  t            3440 non-null   float64\n",
            " 13  hc           3440 non-null   float64\n",
            " 14  cy           2919 non-null   object \n",
            " 15  ll           2919 non-null   object \n",
            " 16  _heartbeat_  120 non-null    float64\n",
            " 17  kw           93 non-null     object \n",
            "dtypes: float64(4), object(14)\n",
            "memory usage: 500.8+ KB\n"
          ],
          "name": "stdout"
        }
      ]
    },
    {
      "cell_type": "code",
      "metadata": {
        "id": "rUwHerEFYWY8"
      },
      "source": [
        "# 'a' 컬럼이 NA인 행들을 모두 삭제 - 'a' 컬럼의 값이 NA가 아닌 행들을 선택\n",
        "df_clean = df_clean[df_clean.a.notnull()]"
      ],
      "execution_count": 69,
      "outputs": []
    },
    {
      "cell_type": "markdown",
      "metadata": {
        "id": "HHxWHcm7ZUYa"
      },
      "source": [
        "\n",
        "* `pd.Series.isnull()`: \n",
        "    * null(NA)인 위치를 찾아주는 메서드\n",
        "    * Series의 값이 null(NA)이면 True, 아니면 False 리턴하는 메서드.\n",
        "* `pd.Series.notnull()`: \n",
        "    * not-null인 위치를 찾아주는 메서드\n",
        "    * Series 값이 null(NA)가 아니면 True, null이면 False를 리턴하는 메서드.\n"
      ]
    },
    {
      "cell_type": "code",
      "metadata": {
        "colab": {
          "base_uri": "https://localhost:8080/"
        },
        "id": "0OuLD9xzZBe6",
        "outputId": "19955175-c2c0-4110-f69e-7f520a805df8"
      },
      "source": [
        "df_clean.info()"
      ],
      "execution_count": 70,
      "outputs": [
        {
          "output_type": "stream",
          "text": [
            "<class 'pandas.core.frame.DataFrame'>\n",
            "Int64Index: 3440 entries, 0 to 3559\n",
            "Data columns (total 18 columns):\n",
            " #   Column       Non-Null Count  Dtype  \n",
            "---  ------       --------------  -----  \n",
            " 0   a            3440 non-null   object \n",
            " 1   c            3440 non-null   object \n",
            " 2   nk           3440 non-null   float64\n",
            " 3   tz           3440 non-null   object \n",
            " 4   gr           2919 non-null   object \n",
            " 5   g            3440 non-null   object \n",
            " 6   h            3440 non-null   object \n",
            " 7   l            3440 non-null   object \n",
            " 8   al           3094 non-null   object \n",
            " 9   hh           3440 non-null   object \n",
            " 10  r            3440 non-null   object \n",
            " 11  u            3440 non-null   object \n",
            " 12  t            3440 non-null   float64\n",
            " 13  hc           3440 non-null   float64\n",
            " 14  cy           2919 non-null   object \n",
            " 15  ll           2919 non-null   object \n",
            " 16  _heartbeat_  0 non-null      float64\n",
            " 17  kw           93 non-null     object \n",
            "dtypes: float64(4), object(14)\n",
            "memory usage: 510.6+ KB\n"
          ],
          "name": "stdout"
        }
      ]
    },
    {
      "cell_type": "markdown",
      "metadata": {
        "id": "EjUXLPAEaaOt"
      },
      "source": [
        "'os' 파생변수를 추가\n",
        "\n",
        "* 'a' 컬럼의 문자열이 'Windows'를 포함하면, Windows\n",
        "* 'a' 컬럼의 문자열이 'Windows'를 포함하지 않으면, Other\n"
      ]
    },
    {
      "cell_type": "code",
      "metadata": {
        "colab": {
          "base_uri": "https://localhost:8080/"
        },
        "id": "wFsjJVY8aSFb",
        "outputId": "7a211b01-1fea-49ba-ce9d-cf0a3bdc2585"
      },
      "source": [
        "# np.where(조건, 값1, 값2): 조건을 만족하면 값1, 조건을 만족하지 못하면 값2가 선택됨. \n",
        "df_clean['os'] = np.where(df_clean['a'].str.lower().str.contains('windows'), 'Windows', 'Other')"
      ],
      "execution_count": 77,
      "outputs": [
        {
          "output_type": "stream",
          "text": [
            "/usr/local/lib/python3.7/dist-packages/ipykernel_launcher.py:1: SettingWithCopyWarning: \n",
            "A value is trying to be set on a copy of a slice from a DataFrame.\n",
            "Try using .loc[row_indexer,col_indexer] = value instead\n",
            "\n",
            "See the caveats in the documentation: https://pandas.pydata.org/pandas-docs/stable/user_guide/indexing.html#returning-a-view-versus-a-copy\n",
            "  \"\"\"Entry point for launching an IPython kernel.\n"
          ],
          "name": "stderr"
        }
      ]
    },
    {
      "cell_type": "code",
      "metadata": {
        "colab": {
          "base_uri": "https://localhost:8080/",
          "height": 206
        },
        "id": "lKxUx5rFb7ZI",
        "outputId": "be8c6006-c1a2-47ca-93e8-7ade46309617"
      },
      "source": [
        "df_clean[['a', 'os']].head()"
      ],
      "execution_count": 78,
      "outputs": [
        {
          "output_type": "execute_result",
          "data": {
            "text/html": [
              "<div>\n",
              "<style scoped>\n",
              "    .dataframe tbody tr th:only-of-type {\n",
              "        vertical-align: middle;\n",
              "    }\n",
              "\n",
              "    .dataframe tbody tr th {\n",
              "        vertical-align: top;\n",
              "    }\n",
              "\n",
              "    .dataframe thead th {\n",
              "        text-align: right;\n",
              "    }\n",
              "</style>\n",
              "<table border=\"1\" class=\"dataframe\">\n",
              "  <thead>\n",
              "    <tr style=\"text-align: right;\">\n",
              "      <th></th>\n",
              "      <th>a</th>\n",
              "      <th>os</th>\n",
              "    </tr>\n",
              "  </thead>\n",
              "  <tbody>\n",
              "    <tr>\n",
              "      <th>0</th>\n",
              "      <td>Mozilla/5.0 (Windows NT 6.1; WOW64) AppleWebKi...</td>\n",
              "      <td>Windows</td>\n",
              "    </tr>\n",
              "    <tr>\n",
              "      <th>1</th>\n",
              "      <td>GoogleMaps/RochesterNY</td>\n",
              "      <td>Other</td>\n",
              "    </tr>\n",
              "    <tr>\n",
              "      <th>2</th>\n",
              "      <td>Mozilla/4.0 (compatible; MSIE 8.0; Windows NT ...</td>\n",
              "      <td>Windows</td>\n",
              "    </tr>\n",
              "    <tr>\n",
              "      <th>3</th>\n",
              "      <td>Mozilla/5.0 (Macintosh; Intel Mac OS X 10_6_8)...</td>\n",
              "      <td>Other</td>\n",
              "    </tr>\n",
              "    <tr>\n",
              "      <th>4</th>\n",
              "      <td>Mozilla/5.0 (Windows NT 6.1; WOW64) AppleWebKi...</td>\n",
              "      <td>Windows</td>\n",
              "    </tr>\n",
              "  </tbody>\n",
              "</table>\n",
              "</div>"
            ],
            "text/plain": [
              "                                                   a       os\n",
              "0  Mozilla/5.0 (Windows NT 6.1; WOW64) AppleWebKi...  Windows\n",
              "1                             GoogleMaps/RochesterNY    Other\n",
              "2  Mozilla/4.0 (compatible; MSIE 8.0; Windows NT ...  Windows\n",
              "3  Mozilla/5.0 (Macintosh; Intel Mac OS X 10_6_8)...    Other\n",
              "4  Mozilla/5.0 (Windows NT 6.1; WOW64) AppleWebKi...  Windows"
            ]
          },
          "metadata": {},
          "execution_count": 78
        }
      ]
    },
    {
      "cell_type": "code",
      "metadata": {
        "colab": {
          "base_uri": "https://localhost:8080/"
        },
        "id": "rXNCKaxZdLnk",
        "outputId": "36b9cc76-9b47-4883-ef77-562fed834854"
      },
      "source": [
        "df_clean['os'].value_counts()"
      ],
      "execution_count": 79,
      "outputs": [
        {
          "output_type": "execute_result",
          "data": {
            "text/plain": [
              "Windows    2246\n",
              "Other      1194\n",
              "Name: os, dtype: int64"
            ]
          },
          "metadata": {},
          "execution_count": 79
        }
      ]
    },
    {
      "cell_type": "markdown",
      "metadata": {
        "id": "tnKIoHfpdvoT"
      },
      "source": [
        "사용자 시간대(timezone)별, 운영체제(OS)별 빈도수, 상위 10개 시각화"
      ]
    },
    {
      "cell_type": "code",
      "metadata": {
        "colab": {
          "base_uri": "https://localhost:8080/"
        },
        "id": "hcsNQ7xYdPKQ",
        "outputId": "4ae9ea7c-92ab-4eb4-dd6d-6b2fa19df136"
      },
      "source": [
        "df_clean.groupby(['tz', 'os']).size()"
      ],
      "execution_count": 80,
      "outputs": [
        {
          "output_type": "execute_result",
          "data": {
            "text/plain": [
              "tz                   os     \n",
              "Africa/Cairo         Windows      3\n",
              "Africa/Casablanca    Windows      1\n",
              "Africa/Ceuta         Windows      2\n",
              "Africa/Johannesburg  Windows      1\n",
              "Africa/Lusaka        Windows      1\n",
              "                               ... \n",
              "Pacific/Auckland     Other        3\n",
              "                     Windows      8\n",
              "Pacific/Honolulu     Windows     36\n",
              "Unknown              Other      245\n",
              "                     Windows    276\n",
              "Length: 149, dtype: int64"
            ]
          },
          "metadata": {},
          "execution_count": 80
        }
      ]
    },
    {
      "cell_type": "code",
      "metadata": {
        "colab": {
          "base_uri": "https://localhost:8080/",
          "height": 455
        },
        "id": "eBXYjOVWmh48",
        "outputId": "40761df2-2101-41c2-e7ca-a89fd4883aab"
      },
      "source": [
        "# unstack: Series에서 인덱스의 값을 컬럼 이름으로 변환. long ---> wide\n",
        "df_clean.groupby(['tz', 'os']).size().unstack()"
      ],
      "execution_count": 82,
      "outputs": [
        {
          "output_type": "execute_result",
          "data": {
            "text/html": [
              "<div>\n",
              "<style scoped>\n",
              "    .dataframe tbody tr th:only-of-type {\n",
              "        vertical-align: middle;\n",
              "    }\n",
              "\n",
              "    .dataframe tbody tr th {\n",
              "        vertical-align: top;\n",
              "    }\n",
              "\n",
              "    .dataframe thead th {\n",
              "        text-align: right;\n",
              "    }\n",
              "</style>\n",
              "<table border=\"1\" class=\"dataframe\">\n",
              "  <thead>\n",
              "    <tr style=\"text-align: right;\">\n",
              "      <th>os</th>\n",
              "      <th>Other</th>\n",
              "      <th>Windows</th>\n",
              "    </tr>\n",
              "    <tr>\n",
              "      <th>tz</th>\n",
              "      <th></th>\n",
              "      <th></th>\n",
              "    </tr>\n",
              "  </thead>\n",
              "  <tbody>\n",
              "    <tr>\n",
              "      <th>Africa/Cairo</th>\n",
              "      <td>NaN</td>\n",
              "      <td>3.0</td>\n",
              "    </tr>\n",
              "    <tr>\n",
              "      <th>Africa/Casablanca</th>\n",
              "      <td>NaN</td>\n",
              "      <td>1.0</td>\n",
              "    </tr>\n",
              "    <tr>\n",
              "      <th>Africa/Ceuta</th>\n",
              "      <td>NaN</td>\n",
              "      <td>2.0</td>\n",
              "    </tr>\n",
              "    <tr>\n",
              "      <th>Africa/Johannesburg</th>\n",
              "      <td>NaN</td>\n",
              "      <td>1.0</td>\n",
              "    </tr>\n",
              "    <tr>\n",
              "      <th>Africa/Lusaka</th>\n",
              "      <td>NaN</td>\n",
              "      <td>1.0</td>\n",
              "    </tr>\n",
              "    <tr>\n",
              "      <th>...</th>\n",
              "      <td>...</td>\n",
              "      <td>...</td>\n",
              "    </tr>\n",
              "    <tr>\n",
              "      <th>Europe/Warsaw</th>\n",
              "      <td>1.0</td>\n",
              "      <td>15.0</td>\n",
              "    </tr>\n",
              "    <tr>\n",
              "      <th>Europe/Zurich</th>\n",
              "      <td>4.0</td>\n",
              "      <td>NaN</td>\n",
              "    </tr>\n",
              "    <tr>\n",
              "      <th>Pacific/Auckland</th>\n",
              "      <td>3.0</td>\n",
              "      <td>8.0</td>\n",
              "    </tr>\n",
              "    <tr>\n",
              "      <th>Pacific/Honolulu</th>\n",
              "      <td>NaN</td>\n",
              "      <td>36.0</td>\n",
              "    </tr>\n",
              "    <tr>\n",
              "      <th>Unknown</th>\n",
              "      <td>245.0</td>\n",
              "      <td>276.0</td>\n",
              "    </tr>\n",
              "  </tbody>\n",
              "</table>\n",
              "<p>97 rows × 2 columns</p>\n",
              "</div>"
            ],
            "text/plain": [
              "os                   Other  Windows\n",
              "tz                                 \n",
              "Africa/Cairo           NaN      3.0\n",
              "Africa/Casablanca      NaN      1.0\n",
              "Africa/Ceuta           NaN      2.0\n",
              "Africa/Johannesburg    NaN      1.0\n",
              "Africa/Lusaka          NaN      1.0\n",
              "...                    ...      ...\n",
              "Europe/Warsaw          1.0     15.0\n",
              "Europe/Zurich          4.0      NaN\n",
              "Pacific/Auckland       3.0      8.0\n",
              "Pacific/Honolulu       NaN     36.0\n",
              "Unknown              245.0    276.0\n",
              "\n",
              "[97 rows x 2 columns]"
            ]
          },
          "metadata": {},
          "execution_count": 82
        }
      ]
    },
    {
      "cell_type": "code",
      "metadata": {
        "colab": {
          "base_uri": "https://localhost:8080/",
          "height": 455
        },
        "id": "OMVfbqh8n24e",
        "outputId": "eadfa734-6590-48d8-948c-16b58df5b4c4"
      },
      "source": [
        "# unstack 과정에서 NA들이 생기게 됨 ---> NA를 0으로 대체\n",
        "tz_os_counts = df_clean.groupby(['tz', 'os']).size().unstack().fillna(0)\n",
        "tz_os_counts"
      ],
      "execution_count": 86,
      "outputs": [
        {
          "output_type": "execute_result",
          "data": {
            "text/html": [
              "<div>\n",
              "<style scoped>\n",
              "    .dataframe tbody tr th:only-of-type {\n",
              "        vertical-align: middle;\n",
              "    }\n",
              "\n",
              "    .dataframe tbody tr th {\n",
              "        vertical-align: top;\n",
              "    }\n",
              "\n",
              "    .dataframe thead th {\n",
              "        text-align: right;\n",
              "    }\n",
              "</style>\n",
              "<table border=\"1\" class=\"dataframe\">\n",
              "  <thead>\n",
              "    <tr style=\"text-align: right;\">\n",
              "      <th>os</th>\n",
              "      <th>Other</th>\n",
              "      <th>Windows</th>\n",
              "    </tr>\n",
              "    <tr>\n",
              "      <th>tz</th>\n",
              "      <th></th>\n",
              "      <th></th>\n",
              "    </tr>\n",
              "  </thead>\n",
              "  <tbody>\n",
              "    <tr>\n",
              "      <th>Africa/Cairo</th>\n",
              "      <td>0.0</td>\n",
              "      <td>3.0</td>\n",
              "    </tr>\n",
              "    <tr>\n",
              "      <th>Africa/Casablanca</th>\n",
              "      <td>0.0</td>\n",
              "      <td>1.0</td>\n",
              "    </tr>\n",
              "    <tr>\n",
              "      <th>Africa/Ceuta</th>\n",
              "      <td>0.0</td>\n",
              "      <td>2.0</td>\n",
              "    </tr>\n",
              "    <tr>\n",
              "      <th>Africa/Johannesburg</th>\n",
              "      <td>0.0</td>\n",
              "      <td>1.0</td>\n",
              "    </tr>\n",
              "    <tr>\n",
              "      <th>Africa/Lusaka</th>\n",
              "      <td>0.0</td>\n",
              "      <td>1.0</td>\n",
              "    </tr>\n",
              "    <tr>\n",
              "      <th>...</th>\n",
              "      <td>...</td>\n",
              "      <td>...</td>\n",
              "    </tr>\n",
              "    <tr>\n",
              "      <th>Europe/Warsaw</th>\n",
              "      <td>1.0</td>\n",
              "      <td>15.0</td>\n",
              "    </tr>\n",
              "    <tr>\n",
              "      <th>Europe/Zurich</th>\n",
              "      <td>4.0</td>\n",
              "      <td>0.0</td>\n",
              "    </tr>\n",
              "    <tr>\n",
              "      <th>Pacific/Auckland</th>\n",
              "      <td>3.0</td>\n",
              "      <td>8.0</td>\n",
              "    </tr>\n",
              "    <tr>\n",
              "      <th>Pacific/Honolulu</th>\n",
              "      <td>0.0</td>\n",
              "      <td>36.0</td>\n",
              "    </tr>\n",
              "    <tr>\n",
              "      <th>Unknown</th>\n",
              "      <td>245.0</td>\n",
              "      <td>276.0</td>\n",
              "    </tr>\n",
              "  </tbody>\n",
              "</table>\n",
              "<p>97 rows × 2 columns</p>\n",
              "</div>"
            ],
            "text/plain": [
              "os                   Other  Windows\n",
              "tz                                 \n",
              "Africa/Cairo           0.0      3.0\n",
              "Africa/Casablanca      0.0      1.0\n",
              "Africa/Ceuta           0.0      2.0\n",
              "Africa/Johannesburg    0.0      1.0\n",
              "Africa/Lusaka          0.0      1.0\n",
              "...                    ...      ...\n",
              "Europe/Warsaw          1.0     15.0\n",
              "Europe/Zurich          4.0      0.0\n",
              "Pacific/Auckland       3.0      8.0\n",
              "Pacific/Honolulu       0.0     36.0\n",
              "Unknown              245.0    276.0\n",
              "\n",
              "[97 rows x 2 columns]"
            ]
          },
          "metadata": {},
          "execution_count": 86
        }
      ]
    },
    {
      "cell_type": "code",
      "metadata": {
        "colab": {
          "base_uri": "https://localhost:8080/",
          "height": 455
        },
        "id": "nXuCWwvJoiiL",
        "outputId": "3bee359b-d388-4b79-f067-76a705c3da5f"
      },
      "source": [
        "# 전체(Windows+Other) 접속자 수의 상위 10개 ---> 파생 변수\n",
        "tz_os_counts['Total'] = tz_os_counts['Other'] + tz_os_counts['Windows']\n",
        "tz_os_counts"
      ],
      "execution_count": 87,
      "outputs": [
        {
          "output_type": "execute_result",
          "data": {
            "text/html": [
              "<div>\n",
              "<style scoped>\n",
              "    .dataframe tbody tr th:only-of-type {\n",
              "        vertical-align: middle;\n",
              "    }\n",
              "\n",
              "    .dataframe tbody tr th {\n",
              "        vertical-align: top;\n",
              "    }\n",
              "\n",
              "    .dataframe thead th {\n",
              "        text-align: right;\n",
              "    }\n",
              "</style>\n",
              "<table border=\"1\" class=\"dataframe\">\n",
              "  <thead>\n",
              "    <tr style=\"text-align: right;\">\n",
              "      <th>os</th>\n",
              "      <th>Other</th>\n",
              "      <th>Windows</th>\n",
              "      <th>Total</th>\n",
              "    </tr>\n",
              "    <tr>\n",
              "      <th>tz</th>\n",
              "      <th></th>\n",
              "      <th></th>\n",
              "      <th></th>\n",
              "    </tr>\n",
              "  </thead>\n",
              "  <tbody>\n",
              "    <tr>\n",
              "      <th>Africa/Cairo</th>\n",
              "      <td>0.0</td>\n",
              "      <td>3.0</td>\n",
              "      <td>3.0</td>\n",
              "    </tr>\n",
              "    <tr>\n",
              "      <th>Africa/Casablanca</th>\n",
              "      <td>0.0</td>\n",
              "      <td>1.0</td>\n",
              "      <td>1.0</td>\n",
              "    </tr>\n",
              "    <tr>\n",
              "      <th>Africa/Ceuta</th>\n",
              "      <td>0.0</td>\n",
              "      <td>2.0</td>\n",
              "      <td>2.0</td>\n",
              "    </tr>\n",
              "    <tr>\n",
              "      <th>Africa/Johannesburg</th>\n",
              "      <td>0.0</td>\n",
              "      <td>1.0</td>\n",
              "      <td>1.0</td>\n",
              "    </tr>\n",
              "    <tr>\n",
              "      <th>Africa/Lusaka</th>\n",
              "      <td>0.0</td>\n",
              "      <td>1.0</td>\n",
              "      <td>1.0</td>\n",
              "    </tr>\n",
              "    <tr>\n",
              "      <th>...</th>\n",
              "      <td>...</td>\n",
              "      <td>...</td>\n",
              "      <td>...</td>\n",
              "    </tr>\n",
              "    <tr>\n",
              "      <th>Europe/Warsaw</th>\n",
              "      <td>1.0</td>\n",
              "      <td>15.0</td>\n",
              "      <td>16.0</td>\n",
              "    </tr>\n",
              "    <tr>\n",
              "      <th>Europe/Zurich</th>\n",
              "      <td>4.0</td>\n",
              "      <td>0.0</td>\n",
              "      <td>4.0</td>\n",
              "    </tr>\n",
              "    <tr>\n",
              "      <th>Pacific/Auckland</th>\n",
              "      <td>3.0</td>\n",
              "      <td>8.0</td>\n",
              "      <td>11.0</td>\n",
              "    </tr>\n",
              "    <tr>\n",
              "      <th>Pacific/Honolulu</th>\n",
              "      <td>0.0</td>\n",
              "      <td>36.0</td>\n",
              "      <td>36.0</td>\n",
              "    </tr>\n",
              "    <tr>\n",
              "      <th>Unknown</th>\n",
              "      <td>245.0</td>\n",
              "      <td>276.0</td>\n",
              "      <td>521.0</td>\n",
              "    </tr>\n",
              "  </tbody>\n",
              "</table>\n",
              "<p>97 rows × 3 columns</p>\n",
              "</div>"
            ],
            "text/plain": [
              "os                   Other  Windows  Total\n",
              "tz                                        \n",
              "Africa/Cairo           0.0      3.0    3.0\n",
              "Africa/Casablanca      0.0      1.0    1.0\n",
              "Africa/Ceuta           0.0      2.0    2.0\n",
              "Africa/Johannesburg    0.0      1.0    1.0\n",
              "Africa/Lusaka          0.0      1.0    1.0\n",
              "...                    ...      ...    ...\n",
              "Europe/Warsaw          1.0     15.0   16.0\n",
              "Europe/Zurich          4.0      0.0    4.0\n",
              "Pacific/Auckland       3.0      8.0   11.0\n",
              "Pacific/Honolulu       0.0     36.0   36.0\n",
              "Unknown              245.0    276.0  521.0\n",
              "\n",
              "[97 rows x 3 columns]"
            ]
          },
          "metadata": {},
          "execution_count": 87
        }
      ]
    },
    {
      "cell_type": "code",
      "metadata": {
        "colab": {
          "base_uri": "https://localhost:8080/",
          "height": 394
        },
        "id": "c_7-nX9ApZg0",
        "outputId": "1c54aafa-a049-4247-9278-02a353937c2c"
      },
      "source": [
        "top10 = tz_os_counts.sort_values(by='Total', ascending=False).head(n=10)\n",
        "top10"
      ],
      "execution_count": 91,
      "outputs": [
        {
          "output_type": "execute_result",
          "data": {
            "text/html": [
              "<div>\n",
              "<style scoped>\n",
              "    .dataframe tbody tr th:only-of-type {\n",
              "        vertical-align: middle;\n",
              "    }\n",
              "\n",
              "    .dataframe tbody tr th {\n",
              "        vertical-align: top;\n",
              "    }\n",
              "\n",
              "    .dataframe thead th {\n",
              "        text-align: right;\n",
              "    }\n",
              "</style>\n",
              "<table border=\"1\" class=\"dataframe\">\n",
              "  <thead>\n",
              "    <tr style=\"text-align: right;\">\n",
              "      <th>os</th>\n",
              "      <th>Other</th>\n",
              "      <th>Windows</th>\n",
              "      <th>Total</th>\n",
              "    </tr>\n",
              "    <tr>\n",
              "      <th>tz</th>\n",
              "      <th></th>\n",
              "      <th></th>\n",
              "      <th></th>\n",
              "    </tr>\n",
              "  </thead>\n",
              "  <tbody>\n",
              "    <tr>\n",
              "      <th>America/New_York</th>\n",
              "      <td>339.0</td>\n",
              "      <td>912.0</td>\n",
              "      <td>1251.0</td>\n",
              "    </tr>\n",
              "    <tr>\n",
              "      <th>Unknown</th>\n",
              "      <td>245.0</td>\n",
              "      <td>276.0</td>\n",
              "      <td>521.0</td>\n",
              "    </tr>\n",
              "    <tr>\n",
              "      <th>America/Chicago</th>\n",
              "      <td>115.0</td>\n",
              "      <td>285.0</td>\n",
              "      <td>400.0</td>\n",
              "    </tr>\n",
              "    <tr>\n",
              "      <th>America/Los_Angeles</th>\n",
              "      <td>130.0</td>\n",
              "      <td>252.0</td>\n",
              "      <td>382.0</td>\n",
              "    </tr>\n",
              "    <tr>\n",
              "      <th>America/Denver</th>\n",
              "      <td>132.0</td>\n",
              "      <td>59.0</td>\n",
              "      <td>191.0</td>\n",
              "    </tr>\n",
              "    <tr>\n",
              "      <th>Europe/London</th>\n",
              "      <td>43.0</td>\n",
              "      <td>31.0</td>\n",
              "      <td>74.0</td>\n",
              "    </tr>\n",
              "    <tr>\n",
              "      <th>Asia/Tokyo</th>\n",
              "      <td>2.0</td>\n",
              "      <td>35.0</td>\n",
              "      <td>37.0</td>\n",
              "    </tr>\n",
              "    <tr>\n",
              "      <th>Pacific/Honolulu</th>\n",
              "      <td>0.0</td>\n",
              "      <td>36.0</td>\n",
              "      <td>36.0</td>\n",
              "    </tr>\n",
              "    <tr>\n",
              "      <th>Europe/Madrid</th>\n",
              "      <td>16.0</td>\n",
              "      <td>19.0</td>\n",
              "      <td>35.0</td>\n",
              "    </tr>\n",
              "    <tr>\n",
              "      <th>America/Sao_Paulo</th>\n",
              "      <td>13.0</td>\n",
              "      <td>20.0</td>\n",
              "      <td>33.0</td>\n",
              "    </tr>\n",
              "  </tbody>\n",
              "</table>\n",
              "</div>"
            ],
            "text/plain": [
              "os                   Other  Windows   Total\n",
              "tz                                         \n",
              "America/New_York     339.0    912.0  1251.0\n",
              "Unknown              245.0    276.0   521.0\n",
              "America/Chicago      115.0    285.0   400.0\n",
              "America/Los_Angeles  130.0    252.0   382.0\n",
              "America/Denver       132.0     59.0   191.0\n",
              "Europe/London         43.0     31.0    74.0\n",
              "Asia/Tokyo             2.0     35.0    37.0\n",
              "Pacific/Honolulu       0.0     36.0    36.0\n",
              "Europe/Madrid         16.0     19.0    35.0\n",
              "America/Sao_Paulo     13.0     20.0    33.0"
            ]
          },
          "metadata": {},
          "execution_count": 91
        }
      ]
    },
    {
      "cell_type": "code",
      "metadata": {
        "colab": {
          "base_uri": "https://localhost:8080/",
          "height": 455
        },
        "id": "P1r-H_6tuiJ-",
        "outputId": "89afef72-7558-40a0-9d1c-95df7c1da8a2"
      },
      "source": [
        "# pivot_table 함수 사용: goupby -> size -> unstack -> fillna\n",
        "df_clean.pivot_table(index='tz', columns='os', aggfunc='size', fill_value=0)\n",
        "#> fill_value: 피벗 테이블을 만들 때 NA가 생기는 경우, NA 대신 채워주는 값"
      ],
      "execution_count": 93,
      "outputs": [
        {
          "output_type": "execute_result",
          "data": {
            "text/html": [
              "<div>\n",
              "<style scoped>\n",
              "    .dataframe tbody tr th:only-of-type {\n",
              "        vertical-align: middle;\n",
              "    }\n",
              "\n",
              "    .dataframe tbody tr th {\n",
              "        vertical-align: top;\n",
              "    }\n",
              "\n",
              "    .dataframe thead th {\n",
              "        text-align: right;\n",
              "    }\n",
              "</style>\n",
              "<table border=\"1\" class=\"dataframe\">\n",
              "  <thead>\n",
              "    <tr style=\"text-align: right;\">\n",
              "      <th>os</th>\n",
              "      <th>Other</th>\n",
              "      <th>Windows</th>\n",
              "    </tr>\n",
              "    <tr>\n",
              "      <th>tz</th>\n",
              "      <th></th>\n",
              "      <th></th>\n",
              "    </tr>\n",
              "  </thead>\n",
              "  <tbody>\n",
              "    <tr>\n",
              "      <th>Africa/Cairo</th>\n",
              "      <td>0</td>\n",
              "      <td>3</td>\n",
              "    </tr>\n",
              "    <tr>\n",
              "      <th>Africa/Casablanca</th>\n",
              "      <td>0</td>\n",
              "      <td>1</td>\n",
              "    </tr>\n",
              "    <tr>\n",
              "      <th>Africa/Ceuta</th>\n",
              "      <td>0</td>\n",
              "      <td>2</td>\n",
              "    </tr>\n",
              "    <tr>\n",
              "      <th>Africa/Johannesburg</th>\n",
              "      <td>0</td>\n",
              "      <td>1</td>\n",
              "    </tr>\n",
              "    <tr>\n",
              "      <th>Africa/Lusaka</th>\n",
              "      <td>0</td>\n",
              "      <td>1</td>\n",
              "    </tr>\n",
              "    <tr>\n",
              "      <th>...</th>\n",
              "      <td>...</td>\n",
              "      <td>...</td>\n",
              "    </tr>\n",
              "    <tr>\n",
              "      <th>Europe/Warsaw</th>\n",
              "      <td>1</td>\n",
              "      <td>15</td>\n",
              "    </tr>\n",
              "    <tr>\n",
              "      <th>Europe/Zurich</th>\n",
              "      <td>4</td>\n",
              "      <td>0</td>\n",
              "    </tr>\n",
              "    <tr>\n",
              "      <th>Pacific/Auckland</th>\n",
              "      <td>3</td>\n",
              "      <td>8</td>\n",
              "    </tr>\n",
              "    <tr>\n",
              "      <th>Pacific/Honolulu</th>\n",
              "      <td>0</td>\n",
              "      <td>36</td>\n",
              "    </tr>\n",
              "    <tr>\n",
              "      <th>Unknown</th>\n",
              "      <td>245</td>\n",
              "      <td>276</td>\n",
              "    </tr>\n",
              "  </tbody>\n",
              "</table>\n",
              "<p>97 rows × 2 columns</p>\n",
              "</div>"
            ],
            "text/plain": [
              "os                   Other  Windows\n",
              "tz                                 \n",
              "Africa/Cairo             0        3\n",
              "Africa/Casablanca        0        1\n",
              "Africa/Ceuta             0        2\n",
              "Africa/Johannesburg      0        1\n",
              "Africa/Lusaka            0        1\n",
              "...                    ...      ...\n",
              "Europe/Warsaw            1       15\n",
              "Europe/Zurich            4        0\n",
              "Pacific/Auckland         3        8\n",
              "Pacific/Honolulu         0       36\n",
              "Unknown                245      276\n",
              "\n",
              "[97 rows x 2 columns]"
            ]
          },
          "metadata": {},
          "execution_count": 93
        }
      ]
    },
    {
      "cell_type": "code",
      "metadata": {
        "colab": {
          "base_uri": "https://localhost:8080/"
        },
        "id": "m0YJyOSvxMTa",
        "outputId": "9a09ba6e-0ed2-469b-aada-3235e1ad93be"
      },
      "source": [
        "# 시각화(막대 그래프)를 그리기 위해서 unstack되어 있는 데이터프레임을 다시 stack시킴.\n",
        "# 그래프를 그릴 때 Total 변수는 필요가 없기 때문에 stack시키기 전에 Total 변수를 먼저 삭제.\n",
        "stacked = top10.drop(columns='Total').stack()\n",
        "stacked  #> Series - values은 이름(label)이 설정되어 있지 않음."
      ],
      "execution_count": 97,
      "outputs": [
        {
          "output_type": "execute_result",
          "data": {
            "text/plain": [
              "tz                   os     \n",
              "America/New_York     Other      339.0\n",
              "                     Windows    912.0\n",
              "Unknown              Other      245.0\n",
              "                     Windows    276.0\n",
              "America/Chicago      Other      115.0\n",
              "                     Windows    285.0\n",
              "America/Los_Angeles  Other      130.0\n",
              "                     Windows    252.0\n",
              "America/Denver       Other      132.0\n",
              "                     Windows     59.0\n",
              "Europe/London        Other       43.0\n",
              "                     Windows     31.0\n",
              "Asia/Tokyo           Other        2.0\n",
              "                     Windows     35.0\n",
              "Pacific/Honolulu     Other        0.0\n",
              "                     Windows     36.0\n",
              "Europe/Madrid        Other       16.0\n",
              "                     Windows     19.0\n",
              "America/Sao_Paulo    Other       13.0\n",
              "                     Windows     20.0\n",
              "dtype: float64"
            ]
          },
          "metadata": {},
          "execution_count": 97
        }
      ]
    },
    {
      "cell_type": "code",
      "metadata": {
        "colab": {
          "base_uri": "https://localhost:8080/"
        },
        "id": "0VS6GraDyJ44",
        "outputId": "64ed44d3-e068-4f7c-d493-3493aed3df8e"
      },
      "source": [
        "stacked.name = 'count'  # Series의 values에 이름을 설정\n",
        "stacked"
      ],
      "execution_count": 98,
      "outputs": [
        {
          "output_type": "execute_result",
          "data": {
            "text/plain": [
              "tz                   os     \n",
              "America/New_York     Other      339.0\n",
              "                     Windows    912.0\n",
              "Unknown              Other      245.0\n",
              "                     Windows    276.0\n",
              "America/Chicago      Other      115.0\n",
              "                     Windows    285.0\n",
              "America/Los_Angeles  Other      130.0\n",
              "                     Windows    252.0\n",
              "America/Denver       Other      132.0\n",
              "                     Windows     59.0\n",
              "Europe/London        Other       43.0\n",
              "                     Windows     31.0\n",
              "Asia/Tokyo           Other        2.0\n",
              "                     Windows     35.0\n",
              "Pacific/Honolulu     Other        0.0\n",
              "                     Windows     36.0\n",
              "Europe/Madrid        Other       16.0\n",
              "                     Windows     19.0\n",
              "America/Sao_Paulo    Other       13.0\n",
              "                     Windows     20.0\n",
              "Name: count, dtype: float64"
            ]
          },
          "metadata": {},
          "execution_count": 98
        }
      ]
    },
    {
      "cell_type": "code",
      "metadata": {
        "colab": {
          "base_uri": "https://localhost:8080/",
          "height": 676
        },
        "id": "s-Q5KkRqyqGL",
        "outputId": "31e72c5f-41d5-48b3-d138-031c4e64bb06"
      },
      "source": [
        "result = stacked.reset_index()  # 인덱스를 제거하고 데이터프레임의 컬럼으로 변환\n",
        "result"
      ],
      "execution_count": 99,
      "outputs": [
        {
          "output_type": "execute_result",
          "data": {
            "text/html": [
              "<div>\n",
              "<style scoped>\n",
              "    .dataframe tbody tr th:only-of-type {\n",
              "        vertical-align: middle;\n",
              "    }\n",
              "\n",
              "    .dataframe tbody tr th {\n",
              "        vertical-align: top;\n",
              "    }\n",
              "\n",
              "    .dataframe thead th {\n",
              "        text-align: right;\n",
              "    }\n",
              "</style>\n",
              "<table border=\"1\" class=\"dataframe\">\n",
              "  <thead>\n",
              "    <tr style=\"text-align: right;\">\n",
              "      <th></th>\n",
              "      <th>tz</th>\n",
              "      <th>os</th>\n",
              "      <th>count</th>\n",
              "    </tr>\n",
              "  </thead>\n",
              "  <tbody>\n",
              "    <tr>\n",
              "      <th>0</th>\n",
              "      <td>America/New_York</td>\n",
              "      <td>Other</td>\n",
              "      <td>339.0</td>\n",
              "    </tr>\n",
              "    <tr>\n",
              "      <th>1</th>\n",
              "      <td>America/New_York</td>\n",
              "      <td>Windows</td>\n",
              "      <td>912.0</td>\n",
              "    </tr>\n",
              "    <tr>\n",
              "      <th>2</th>\n",
              "      <td>Unknown</td>\n",
              "      <td>Other</td>\n",
              "      <td>245.0</td>\n",
              "    </tr>\n",
              "    <tr>\n",
              "      <th>3</th>\n",
              "      <td>Unknown</td>\n",
              "      <td>Windows</td>\n",
              "      <td>276.0</td>\n",
              "    </tr>\n",
              "    <tr>\n",
              "      <th>4</th>\n",
              "      <td>America/Chicago</td>\n",
              "      <td>Other</td>\n",
              "      <td>115.0</td>\n",
              "    </tr>\n",
              "    <tr>\n",
              "      <th>5</th>\n",
              "      <td>America/Chicago</td>\n",
              "      <td>Windows</td>\n",
              "      <td>285.0</td>\n",
              "    </tr>\n",
              "    <tr>\n",
              "      <th>6</th>\n",
              "      <td>America/Los_Angeles</td>\n",
              "      <td>Other</td>\n",
              "      <td>130.0</td>\n",
              "    </tr>\n",
              "    <tr>\n",
              "      <th>7</th>\n",
              "      <td>America/Los_Angeles</td>\n",
              "      <td>Windows</td>\n",
              "      <td>252.0</td>\n",
              "    </tr>\n",
              "    <tr>\n",
              "      <th>8</th>\n",
              "      <td>America/Denver</td>\n",
              "      <td>Other</td>\n",
              "      <td>132.0</td>\n",
              "    </tr>\n",
              "    <tr>\n",
              "      <th>9</th>\n",
              "      <td>America/Denver</td>\n",
              "      <td>Windows</td>\n",
              "      <td>59.0</td>\n",
              "    </tr>\n",
              "    <tr>\n",
              "      <th>10</th>\n",
              "      <td>Europe/London</td>\n",
              "      <td>Other</td>\n",
              "      <td>43.0</td>\n",
              "    </tr>\n",
              "    <tr>\n",
              "      <th>11</th>\n",
              "      <td>Europe/London</td>\n",
              "      <td>Windows</td>\n",
              "      <td>31.0</td>\n",
              "    </tr>\n",
              "    <tr>\n",
              "      <th>12</th>\n",
              "      <td>Asia/Tokyo</td>\n",
              "      <td>Other</td>\n",
              "      <td>2.0</td>\n",
              "    </tr>\n",
              "    <tr>\n",
              "      <th>13</th>\n",
              "      <td>Asia/Tokyo</td>\n",
              "      <td>Windows</td>\n",
              "      <td>35.0</td>\n",
              "    </tr>\n",
              "    <tr>\n",
              "      <th>14</th>\n",
              "      <td>Pacific/Honolulu</td>\n",
              "      <td>Other</td>\n",
              "      <td>0.0</td>\n",
              "    </tr>\n",
              "    <tr>\n",
              "      <th>15</th>\n",
              "      <td>Pacific/Honolulu</td>\n",
              "      <td>Windows</td>\n",
              "      <td>36.0</td>\n",
              "    </tr>\n",
              "    <tr>\n",
              "      <th>16</th>\n",
              "      <td>Europe/Madrid</td>\n",
              "      <td>Other</td>\n",
              "      <td>16.0</td>\n",
              "    </tr>\n",
              "    <tr>\n",
              "      <th>17</th>\n",
              "      <td>Europe/Madrid</td>\n",
              "      <td>Windows</td>\n",
              "      <td>19.0</td>\n",
              "    </tr>\n",
              "    <tr>\n",
              "      <th>18</th>\n",
              "      <td>America/Sao_Paulo</td>\n",
              "      <td>Other</td>\n",
              "      <td>13.0</td>\n",
              "    </tr>\n",
              "    <tr>\n",
              "      <th>19</th>\n",
              "      <td>America/Sao_Paulo</td>\n",
              "      <td>Windows</td>\n",
              "      <td>20.0</td>\n",
              "    </tr>\n",
              "  </tbody>\n",
              "</table>\n",
              "</div>"
            ],
            "text/plain": [
              "                     tz       os  count\n",
              "0      America/New_York    Other  339.0\n",
              "1      America/New_York  Windows  912.0\n",
              "2               Unknown    Other  245.0\n",
              "3               Unknown  Windows  276.0\n",
              "4       America/Chicago    Other  115.0\n",
              "5       America/Chicago  Windows  285.0\n",
              "6   America/Los_Angeles    Other  130.0\n",
              "7   America/Los_Angeles  Windows  252.0\n",
              "8        America/Denver    Other  132.0\n",
              "9        America/Denver  Windows   59.0\n",
              "10        Europe/London    Other   43.0\n",
              "11        Europe/London  Windows   31.0\n",
              "12           Asia/Tokyo    Other    2.0\n",
              "13           Asia/Tokyo  Windows   35.0\n",
              "14     Pacific/Honolulu    Other    0.0\n",
              "15     Pacific/Honolulu  Windows   36.0\n",
              "16        Europe/Madrid    Other   16.0\n",
              "17        Europe/Madrid  Windows   19.0\n",
              "18    America/Sao_Paulo    Other   13.0\n",
              "19    America/Sao_Paulo  Windows   20.0"
            ]
          },
          "metadata": {},
          "execution_count": 99
        }
      ]
    },
    {
      "cell_type": "code",
      "metadata": {
        "colab": {
          "base_uri": "https://localhost:8080/",
          "height": 279
        },
        "id": "cxUd2bFryu6Q",
        "outputId": "e7bfe811-e9cc-4ddd-c80a-5f99c5e2a803"
      },
      "source": [
        "sns.barplot(data=result, x='count', y='tz', hue='os')\n",
        "plt.show()"
      ],
      "execution_count": 100,
      "outputs": [
        {
          "output_type": "display_data",
          "data": {
            "image/png": "[encoded data removed]",
            "text/plain": [
              "<Figure size 432x288 with 1 Axes>"
            ]
          },
          "metadata": {
            "needs_background": "light"
          }
        }
      ]
    },
    {
      "cell_type": "code",
      "metadata": {
        "id": "VeK1jY04zR5Z"
      },
      "source": [
        ""
      ],
      "execution_count": null,
      "outputs": []
    }
  ]
}
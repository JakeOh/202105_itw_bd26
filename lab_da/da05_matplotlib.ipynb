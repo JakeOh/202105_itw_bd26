{
  "nbformat": 4,
  "nbformat_minor": 0,
  "metadata": {
    "colab": {
      "name": "da05_matplotlib.ipynb",
      "provenance": [],
      "collapsed_sections": [],
      "authorship_tag": "ABX9TyPTYIZgk0ekpR9x3jkYXJOU",
      "include_colab_link": true
    },
    "kernelspec": {
      "name": "python3",
      "display_name": "Python 3"
    },
    "language_info": {
      "name": "python"
    }
  },
  "cells": [
    {
      "cell_type": "markdown",
      "metadata": {
        "id": "view-in-github",
        "colab_type": "text"
      },
      "source": [
        "<a href=\"https://colab.research.google.com/github/JakeOh/202105_itw_bd26/blob/main/lab_da/da05_matplotlib.ipynb\" target=\"_parent\"><img src=\"https://colab.research.google.com/assets/colab-badge.svg\" alt=\"Open In Colab\"/></a>"
      ]
    },
    {
      "cell_type": "code",
      "metadata": {
        "id": "thMchTTnYwub"
      },
      "source": [
        "import matplotlib.pyplot as plt  # 시각화 모듈\n",
        "import numpy as np               # ndarray 기능\n",
        "import pandas as pd              # Series, DataFrame 기능\n",
        "import seaborn as sns            # 시각화 모듈, 예제 데이터 셋"
      ],
      "execution_count": 182,
      "outputs": []
    },
    {
      "cell_type": "markdown",
      "metadata": {
        "id": "M2n4Rot0ZeW3"
      },
      "source": [
        "# 데이터 셋"
      ]
    },
    {
      "cell_type": "code",
      "metadata": {
        "id": "fJWmnlBkZYAi"
      },
      "source": [
        "tips = sns.load_dataset('tips')"
      ],
      "execution_count": 2,
      "outputs": []
    },
    {
      "cell_type": "code",
      "metadata": {
        "colab": {
          "base_uri": "https://localhost:8080/",
          "height": 206
        },
        "id": "PSZqBXDnZkkw",
        "outputId": "b4d94306-a631-4a17-89d6-5fbe18da0222"
      },
      "source": [
        "tips.head()  # tips.iloc[:5], tips.loc[:4]"
      ],
      "execution_count": 3,
      "outputs": [
        {
          "output_type": "execute_result",
          "data": {
            "text/html": [
              "<div>\n",
              "<style scoped>\n",
              "    .dataframe tbody tr th:only-of-type {\n",
              "        vertical-align: middle;\n",
              "    }\n",
              "\n",
              "    .dataframe tbody tr th {\n",
              "        vertical-align: top;\n",
              "    }\n",
              "\n",
              "    .dataframe thead th {\n",
              "        text-align: right;\n",
              "    }\n",
              "</style>\n",
              "<table border=\"1\" class=\"dataframe\">\n",
              "  <thead>\n",
              "    <tr style=\"text-align: right;\">\n",
              "      <th></th>\n",
              "      <th>total_bill</th>\n",
              "      <th>tip</th>\n",
              "      <th>sex</th>\n",
              "      <th>smoker</th>\n",
              "      <th>day</th>\n",
              "      <th>time</th>\n",
              "      <th>size</th>\n",
              "    </tr>\n",
              "  </thead>\n",
              "  <tbody>\n",
              "    <tr>\n",
              "      <th>0</th>\n",
              "      <td>16.99</td>\n",
              "      <td>1.01</td>\n",
              "      <td>Female</td>\n",
              "      <td>No</td>\n",
              "      <td>Sun</td>\n",
              "      <td>Dinner</td>\n",
              "      <td>2</td>\n",
              "    </tr>\n",
              "    <tr>\n",
              "      <th>1</th>\n",
              "      <td>10.34</td>\n",
              "      <td>1.66</td>\n",
              "      <td>Male</td>\n",
              "      <td>No</td>\n",
              "      <td>Sun</td>\n",
              "      <td>Dinner</td>\n",
              "      <td>3</td>\n",
              "    </tr>\n",
              "    <tr>\n",
              "      <th>2</th>\n",
              "      <td>21.01</td>\n",
              "      <td>3.50</td>\n",
              "      <td>Male</td>\n",
              "      <td>No</td>\n",
              "      <td>Sun</td>\n",
              "      <td>Dinner</td>\n",
              "      <td>3</td>\n",
              "    </tr>\n",
              "    <tr>\n",
              "      <th>3</th>\n",
              "      <td>23.68</td>\n",
              "      <td>3.31</td>\n",
              "      <td>Male</td>\n",
              "      <td>No</td>\n",
              "      <td>Sun</td>\n",
              "      <td>Dinner</td>\n",
              "      <td>2</td>\n",
              "    </tr>\n",
              "    <tr>\n",
              "      <th>4</th>\n",
              "      <td>24.59</td>\n",
              "      <td>3.61</td>\n",
              "      <td>Female</td>\n",
              "      <td>No</td>\n",
              "      <td>Sun</td>\n",
              "      <td>Dinner</td>\n",
              "      <td>4</td>\n",
              "    </tr>\n",
              "  </tbody>\n",
              "</table>\n",
              "</div>"
            ],
            "text/plain": [
              "   total_bill   tip     sex smoker  day    time  size\n",
              "0       16.99  1.01  Female     No  Sun  Dinner     2\n",
              "1       10.34  1.66    Male     No  Sun  Dinner     3\n",
              "2       21.01  3.50    Male     No  Sun  Dinner     3\n",
              "3       23.68  3.31    Male     No  Sun  Dinner     2\n",
              "4       24.59  3.61  Female     No  Sun  Dinner     4"
            ]
          },
          "metadata": {
            "tags": []
          },
          "execution_count": 3
        }
      ]
    },
    {
      "cell_type": "code",
      "metadata": {
        "colab": {
          "base_uri": "https://localhost:8080/"
        },
        "id": "dBY1Z6ANZnDg",
        "outputId": "c480fa04-f580-41bf-9bef-2148bd2133bb"
      },
      "source": [
        "tips.shape"
      ],
      "execution_count": 4,
      "outputs": [
        {
          "output_type": "execute_result",
          "data": {
            "text/plain": [
              "(244, 7)"
            ]
          },
          "metadata": {
            "tags": []
          },
          "execution_count": 4
        }
      ]
    },
    {
      "cell_type": "code",
      "metadata": {
        "colab": {
          "base_uri": "https://localhost:8080/",
          "height": 300
        },
        "id": "Q1EUm47xZxBg",
        "outputId": "1ff7704d-ce0d-4e34-b6cd-2fb122a2768e"
      },
      "source": [
        "tips.describe()  # 숫자 타입 변수들의 기술 통계량 요약"
      ],
      "execution_count": 5,
      "outputs": [
        {
          "output_type": "execute_result",
          "data": {
            "text/html": [
              "<div>\n",
              "<style scoped>\n",
              "    .dataframe tbody tr th:only-of-type {\n",
              "        vertical-align: middle;\n",
              "    }\n",
              "\n",
              "    .dataframe tbody tr th {\n",
              "        vertical-align: top;\n",
              "    }\n",
              "\n",
              "    .dataframe thead th {\n",
              "        text-align: right;\n",
              "    }\n",
              "</style>\n",
              "<table border=\"1\" class=\"dataframe\">\n",
              "  <thead>\n",
              "    <tr style=\"text-align: right;\">\n",
              "      <th></th>\n",
              "      <th>total_bill</th>\n",
              "      <th>tip</th>\n",
              "      <th>size</th>\n",
              "    </tr>\n",
              "  </thead>\n",
              "  <tbody>\n",
              "    <tr>\n",
              "      <th>count</th>\n",
              "      <td>244.000000</td>\n",
              "      <td>244.000000</td>\n",
              "      <td>244.000000</td>\n",
              "    </tr>\n",
              "    <tr>\n",
              "      <th>mean</th>\n",
              "      <td>19.785943</td>\n",
              "      <td>2.998279</td>\n",
              "      <td>2.569672</td>\n",
              "    </tr>\n",
              "    <tr>\n",
              "      <th>std</th>\n",
              "      <td>8.902412</td>\n",
              "      <td>1.383638</td>\n",
              "      <td>0.951100</td>\n",
              "    </tr>\n",
              "    <tr>\n",
              "      <th>min</th>\n",
              "      <td>3.070000</td>\n",
              "      <td>1.000000</td>\n",
              "      <td>1.000000</td>\n",
              "    </tr>\n",
              "    <tr>\n",
              "      <th>25%</th>\n",
              "      <td>13.347500</td>\n",
              "      <td>2.000000</td>\n",
              "      <td>2.000000</td>\n",
              "    </tr>\n",
              "    <tr>\n",
              "      <th>50%</th>\n",
              "      <td>17.795000</td>\n",
              "      <td>2.900000</td>\n",
              "      <td>2.000000</td>\n",
              "    </tr>\n",
              "    <tr>\n",
              "      <th>75%</th>\n",
              "      <td>24.127500</td>\n",
              "      <td>3.562500</td>\n",
              "      <td>3.000000</td>\n",
              "    </tr>\n",
              "    <tr>\n",
              "      <th>max</th>\n",
              "      <td>50.810000</td>\n",
              "      <td>10.000000</td>\n",
              "      <td>6.000000</td>\n",
              "    </tr>\n",
              "  </tbody>\n",
              "</table>\n",
              "</div>"
            ],
            "text/plain": [
              "       total_bill         tip        size\n",
              "count  244.000000  244.000000  244.000000\n",
              "mean    19.785943    2.998279    2.569672\n",
              "std      8.902412    1.383638    0.951100\n",
              "min      3.070000    1.000000    1.000000\n",
              "25%     13.347500    2.000000    2.000000\n",
              "50%     17.795000    2.900000    2.000000\n",
              "75%     24.127500    3.562500    3.000000\n",
              "max     50.810000   10.000000    6.000000"
            ]
          },
          "metadata": {
            "tags": []
          },
          "execution_count": 5
        }
      ]
    },
    {
      "cell_type": "markdown",
      "metadata": {
        "id": "64IVjWuTaYpB"
      },
      "source": [
        "# matplotlib.pyplot 모듈을 사용한 시각화"
      ]
    },
    {
      "cell_type": "code",
      "metadata": {
        "colab": {
          "base_uri": "https://localhost:8080/",
          "height": 295
        },
        "id": "jJneSD48ab0o",
        "outputId": "91165d7b-ac33-434c-9641-6c68269f727c"
      },
      "source": [
        "# 1. figure 객체 생성\n",
        "fig = plt.figure()\n",
        "\n",
        "# 2. figure 객체에 subplot을 생성해서 추가\n",
        "axis = fig.add_subplot(111)  # fig.add_subplot(1, 1, 1)\n",
        "# nrows=1(figure에서 행의 개수)\n",
        "# ncols=1(figure에서 열의 개수)\n",
        "# index=1(생성된 subplot의 인덱스, 1부터 시작)\n",
        "\n",
        "# 3. subplot에 그래프를 그림\n",
        "axis.hist(x=tips['total_bill'])  # histogram\n",
        "\n",
        "# 4. 그래프 옵션\n",
        "axis.set_title('Histogram of total bill')\n",
        "axis.set_xlabel('Total bill')\n",
        "axis.set_ylabel('Counts')\n",
        "\n",
        "# 5. 그래프 보여주기\n",
        "plt.show()"
      ],
      "execution_count": 13,
      "outputs": [
        {
          "output_type": "display_data",
          "data": {
            "image/png": "[encoded data removed]",
            "text/plain": [
              "<Figure size 432x288 with 1 Axes>"
            ]
          },
          "metadata": {
            "tags": [],
            "needs_background": "light"
          }
        }
      ]
    },
    {
      "cell_type": "markdown",
      "metadata": {
        "id": "oIiRwMSSeIh6"
      },
      "source": [
        "figure에 2개의 subplot을 추가해서, 히스토그램과 산점도 그래프를 그림."
      ]
    },
    {
      "cell_type": "code",
      "metadata": {
        "colab": {
          "base_uri": "https://localhost:8080/",
          "height": 513
        },
        "id": "cmYjEXaEeQNJ",
        "outputId": "82dc3690-6b50-42d4-9539-09ce13b99907"
      },
      "source": [
        "# 1. figure 생성\n",
        "fig = plt.figure(figsize=(8, 8))\n",
        "\n",
        "# 2. subplot 생성, 추가\n",
        "axis1 = fig.add_subplot(2, 1, 1)  # 행이 2개이고, 열이 1개인 figure에서 첫번째 subplot\n",
        "axis2 = fig.add_subplot(2, 1, 2)  # 행이 2개이고, 열이 1개인 figure에서 두번째 subplot\n",
        "\n",
        "# 3. 각 subplot에 그래프를 그림\n",
        "axis1.hist(x=tips['total_bill'])\n",
        "axis2.scatter(x=tips['total_bill'], y=tips['tip'])\n",
        "\n",
        "# 4. 그래프 옵션\n",
        "axis1.set_title('Histogram of total bill')\n",
        "axis2.set_title('Tip ~ Total bill')\n",
        "axis2.set_xlabel('Total bill')\n",
        "axis2.set_ylabel('Tip')\n",
        "\n",
        "# 5. 그래프 보여주기\n",
        "plt.show()"
      ],
      "execution_count": 20,
      "outputs": [
        {
          "output_type": "display_data",
          "data": {
            "image/png": "[encoded data removed]",
            "text/plain": [
              "<Figure size 576x576 with 2 Axes>"
            ]
          },
          "metadata": {
            "tags": [],
            "needs_background": "light"
          }
        }
      ]
    },
    {
      "cell_type": "markdown",
      "metadata": {
        "id": "L8PjEbRLkpYr"
      },
      "source": [
        "figure에 행이 1개이고, 열이 2개가 되도록 subplot을 추가하고 시각화"
      ]
    },
    {
      "cell_type": "code",
      "metadata": {
        "colab": {
          "base_uri": "https://localhost:8080/",
          "height": 227
        },
        "id": "0s-Ld3JLkwQx",
        "outputId": "726ee952-2112-4f82-ceba-3aa03ef4e862"
      },
      "source": [
        "fig = plt.figure(figsize=(12, 3))\n",
        "\n",
        "axis1 = fig.add_subplot(121)  # fig.add_subplot(1, 2, 1)\n",
        "axis2 = fig.add_subplot(122)  # fig.add_subplot(1, 2, 2)\n",
        "\n",
        "axis1.hist(x=tips['total_bill'])\n",
        "axis2.scatter(x=tips['total_bill'], y=tips['tip'])\n",
        "\n",
        "axis1.set_title('Histogram of total bill')\n",
        "axis2.set_title('Tip ~ Total Bill')\n",
        "\n",
        "plt.show()"
      ],
      "execution_count": 34,
      "outputs": [
        {
          "output_type": "display_data",
          "data": {
            "image/png": "[encoded data removed]",
            "text/plain": [
              "<Figure size 864x216 with 2 Axes>"
            ]
          },
          "metadata": {
            "tags": [],
            "needs_background": "light"
          }
        }
      ]
    },
    {
      "cell_type": "markdown",
      "metadata": {
        "id": "C_eXvZc1nF_R"
      },
      "source": [
        "`figure()` 호출과 `add_subplot()` 호출을 하나의 함수 호출로 수행"
      ]
    },
    {
      "cell_type": "code",
      "metadata": {
        "colab": {
          "base_uri": "https://localhost:8080/",
          "height": 281
        },
        "id": "SayyxbLMnVDy",
        "outputId": "703b5a2d-1403-44eb-c889-fc628960aa04"
      },
      "source": [
        "# figure 객체 생성 + subplot을 추가\n",
        "fig, ax = plt.subplots()\n",
        "#> fig: figure 객체\n",
        "#> ax: Subplot 객체\n",
        "\n",
        "# subplot 객체의 메서드를 사용해서 그래프를 그림\n",
        "ax.hist(x=tips['total_bill'])\n",
        "\n",
        "# 그래프 옵션\n",
        "ax.set_title('Histogram of total bill')\n",
        "\n",
        "plt.show()"
      ],
      "execution_count": 38,
      "outputs": [
        {
          "output_type": "display_data",
          "data": {
            "image/png": "[encoded data removed]",
            "text/plain": [
              "<Figure size 432x288 with 1 Axes>"
            ]
          },
          "metadata": {
            "tags": [],
            "needs_background": "light"
          }
        }
      ]
    },
    {
      "cell_type": "code",
      "metadata": {
        "colab": {
          "base_uri": "https://localhost:8080/",
          "height": 265
        },
        "id": "Ci8pri9_osEK",
        "outputId": "7291aa63-319c-48a1-cb57-5c214be45258"
      },
      "source": [
        "fig, ax = plt.subplots(nrows=1, ncols=2)\n",
        "#> fig: figure 객체\n",
        "#> ax: Subplot들의 배열(ndarray)\n",
        "\n",
        "ax[0].hist(x=tips['total_bill'])\n",
        "ax[1].hist(x=tips['tip'])\n",
        "\n",
        "plt.show()"
      ],
      "execution_count": 45,
      "outputs": [
        {
          "output_type": "display_data",
          "data": {
            "image/png": "[encoded data removed]",
            "text/plain": [
              "<Figure size 432x288 with 2 Axes>"
            ]
          },
          "metadata": {
            "tags": [],
            "needs_background": "light"
          }
        }
      ]
    },
    {
      "cell_type": "markdown",
      "metadata": {
        "id": "BgAaiVw-q_fT"
      },
      "source": [
        "1개의 figure 객체에 subplot이 1개만 있는 경우에는, matplotlib.pyplot 모듈의 top-level 함수들(plot, scatter, hist, boxplot, ...)을 사용할 수 있음."
      ]
    },
    {
      "cell_type": "code",
      "metadata": {
        "colab": {
          "base_uri": "https://localhost:8080/",
          "height": 295
        },
        "id": "P3rsm3VErUUT",
        "outputId": "41a3df91-633f-44af-d9d3-384ad5e9f40c"
      },
      "source": [
        "# figure 객체 생성, subplot 1개를 추가, 히스토그램 그림.\n",
        "plt.hist(x=tips['total_bill'])\n",
        "# 그래프 옵션들\n",
        "plt.title('Histogram of total bill')\n",
        "plt.xlabel('Total bill')\n",
        "plt.ylabel('Count')\n",
        "# 그래프 보여주기\n",
        "plt.show()"
      ],
      "execution_count": 46,
      "outputs": [
        {
          "output_type": "display_data",
          "data": {
            "image/png": "[encoded data removed]",
            "text/plain": [
              "<Figure size 432x288 with 1 Axes>"
            ]
          },
          "metadata": {
            "tags": [],
            "needs_background": "light"
          }
        }
      ]
    },
    {
      "cell_type": "markdown",
      "metadata": {
        "id": "m4SKuK3_sjlY"
      },
      "source": [
        "# Box Plot\n",
        "\n",
        "숫자 타입 변수의 기술 통계량(최솟값, 최댓값, 중앙값, 25%, 75%) 시각화"
      ]
    },
    {
      "cell_type": "code",
      "metadata": {
        "colab": {
          "base_uri": "https://localhost:8080/",
          "height": 265
        },
        "id": "PioJ-C09s0IL",
        "outputId": "b7bba65d-689d-4fb9-f830-ada0496a7899"
      },
      "source": [
        "plt.boxplot(x=tips['total_bill'], labels=['Total bill'])\n",
        "plt.show()"
      ],
      "execution_count": 48,
      "outputs": [
        {
          "output_type": "display_data",
          "data": {
            "image/png": "[encoded data removed]",
            "text/plain": [
              "<Figure size 432x288 with 1 Axes>"
            ]
          },
          "metadata": {
            "tags": [],
            "needs_background": "light"
          }
        }
      ]
    },
    {
      "cell_type": "code",
      "metadata": {
        "colab": {
          "base_uri": "https://localhost:8080/",
          "height": 265
        },
        "id": "XyhED1VOtB06",
        "outputId": "63d4ccd9-1bd9-4bd2-f314-0bad736353f7"
      },
      "source": [
        "# total_bill, tip의 box plot\n",
        "plt.boxplot(x=[tips['total_bill'], tips['tip']], labels=['Total bill', 'Tip'])\n",
        "plt.show()"
      ],
      "execution_count": 51,
      "outputs": [
        {
          "output_type": "display_data",
          "data": {
            "image/png": "[encoded data removed]",
            "text/plain": [
              "<Figure size 432x288 with 1 Axes>"
            ]
          },
          "metadata": {
            "tags": [],
            "needs_background": "light"
          }
        }
      ]
    },
    {
      "cell_type": "markdown",
      "metadata": {
        "id": "NbL608mbyKDf"
      },
      "source": [
        "성별 tip의 기술 통계량을 출력하고, box plot을 그림."
      ]
    },
    {
      "cell_type": "code",
      "metadata": {
        "colab": {
          "base_uri": "https://localhost:8080/"
        },
        "id": "G4bsZ_EuyeJL",
        "outputId": "02505a20-a035-468e-b79a-aee96350a666"
      },
      "source": [
        "male_tip = tips[tips['sex'] == 'Male']['tip']\n",
        "male_tip"
      ],
      "execution_count": 52,
      "outputs": [
        {
          "output_type": "execute_result",
          "data": {
            "text/plain": [
              "1      1.66\n",
              "2      3.50\n",
              "3      3.31\n",
              "5      4.71\n",
              "6      2.00\n",
              "       ... \n",
              "236    1.00\n",
              "237    1.17\n",
              "239    5.92\n",
              "241    2.00\n",
              "242    1.75\n",
              "Name: tip, Length: 157, dtype: float64"
            ]
          },
          "metadata": {
            "tags": []
          },
          "execution_count": 52
        }
      ]
    },
    {
      "cell_type": "code",
      "metadata": {
        "colab": {
          "base_uri": "https://localhost:8080/"
        },
        "id": "y0ZQSWOEz6aj",
        "outputId": "37cdd629-63ba-4ff4-df52-7e48d90e2073"
      },
      "source": [
        "male_tip.describe()"
      ],
      "execution_count": 53,
      "outputs": [
        {
          "output_type": "execute_result",
          "data": {
            "text/plain": [
              "count    157.000000\n",
              "mean       3.089618\n",
              "std        1.489102\n",
              "min        1.000000\n",
              "25%        2.000000\n",
              "50%        3.000000\n",
              "75%        3.760000\n",
              "max       10.000000\n",
              "Name: tip, dtype: float64"
            ]
          },
          "metadata": {
            "tags": []
          },
          "execution_count": 53
        }
      ]
    },
    {
      "cell_type": "code",
      "metadata": {
        "colab": {
          "base_uri": "https://localhost:8080/"
        },
        "id": "SHgBJEWc0Ss8",
        "outputId": "3a7da845-986e-4a31-8c5e-63ec57aef68d"
      },
      "source": [
        "female_tip = tips[tips['sex'] == 'Female']['tip']\n",
        "female_tip"
      ],
      "execution_count": 55,
      "outputs": [
        {
          "output_type": "execute_result",
          "data": {
            "text/plain": [
              "0      1.01\n",
              "4      3.61\n",
              "11     5.00\n",
              "14     3.02\n",
              "16     1.67\n",
              "       ... \n",
              "226    2.00\n",
              "229    2.88\n",
              "238    4.67\n",
              "240    2.00\n",
              "243    3.00\n",
              "Name: tip, Length: 87, dtype: float64"
            ]
          },
          "metadata": {
            "tags": []
          },
          "execution_count": 55
        }
      ]
    },
    {
      "cell_type": "code",
      "metadata": {
        "colab": {
          "base_uri": "https://localhost:8080/"
        },
        "id": "n-uoIXcI0bs0",
        "outputId": "8ca6d6ef-409c-4b63-96b1-cb2108765874"
      },
      "source": [
        "female_tip.describe()"
      ],
      "execution_count": 56,
      "outputs": [
        {
          "output_type": "execute_result",
          "data": {
            "text/plain": [
              "count    87.000000\n",
              "mean      2.833448\n",
              "std       1.159495\n",
              "min       1.000000\n",
              "25%       2.000000\n",
              "50%       2.750000\n",
              "75%       3.500000\n",
              "max       6.500000\n",
              "Name: tip, dtype: float64"
            ]
          },
          "metadata": {
            "tags": []
          },
          "execution_count": 56
        }
      ]
    },
    {
      "cell_type": "code",
      "metadata": {
        "colab": {
          "base_uri": "https://localhost:8080/",
          "height": 323
        },
        "id": "wV5zXu6P0lhT",
        "outputId": "f958831a-e047-4cb7-c422-be72680134a2"
      },
      "source": [
        "plt.boxplot(x=[male_tip, female_tip], labels=['Male', 'Female'])\n",
        "plt.show()"
      ],
      "execution_count": 58,
      "outputs": [
        {
          "output_type": "stream",
          "text": [
            "/usr/local/lib/python3.7/dist-packages/numpy/core/_asarray.py:83: VisibleDeprecationWarning: Creating an ndarray from ragged nested sequences (which is a list-or-tuple of lists-or-tuples-or ndarrays with different lengths or shapes) is deprecated. If you meant to do this, you must specify 'dtype=object' when creating the ndarray\n",
            "  return array(a, dtype, copy=False, order=order)\n"
          ],
          "name": "stderr"
        },
        {
          "output_type": "display_data",
          "data": {
            "image/png": "[encoded data removed]",
            "text/plain": [
              "<Figure size 432x288 with 1 Axes>"
            ]
          },
          "metadata": {
            "tags": [],
            "needs_background": "light"
          }
        }
      ]
    },
    {
      "cell_type": "code",
      "metadata": {
        "colab": {
          "base_uri": "https://localhost:8080/",
          "height": 265
        },
        "id": "xWst4cAE1kr0",
        "outputId": "c8ad404b-a1be-4a01-a470-859dd727afa0"
      },
      "source": [
        "# VisibleDeprecationWarning을 없애기 위해서 객체들의 배열(ndarray)를 생성하고 boxplot 함수의 argument로 전달.\n",
        "tip_by_gender = np.array([male_tip, female_tip], dtype='object')\n",
        "plt.boxplot(x=tip_by_gender, labels=['Male', 'Female'])\n",
        "plt.show()"
      ],
      "execution_count": 60,
      "outputs": [
        {
          "output_type": "display_data",
          "data": {
            "image/png": "[encoded data removed]",
            "text/plain": [
              "<Figure size 432x288 with 1 Axes>"
            ]
          },
          "metadata": {
            "tags": [],
            "needs_background": "light"
          }
        }
      ]
    },
    {
      "cell_type": "markdown",
      "metadata": {
        "id": "WzfmIAmXyetr"
      },
      "source": [
        "시간별 tip의 기술 통계량을 출력하고, box plot을 그림."
      ]
    },
    {
      "cell_type": "code",
      "metadata": {
        "colab": {
          "base_uri": "https://localhost:8080/"
        },
        "id": "a8zmmYxSylaC",
        "outputId": "918083ac-2617-4ad0-82cc-3b08fde267a4"
      },
      "source": [
        "tips['time'].unique()"
      ],
      "execution_count": 61,
      "outputs": [
        {
          "output_type": "execute_result",
          "data": {
            "text/plain": [
              "['Dinner', 'Lunch']\n",
              "Categories (2, object): ['Dinner', 'Lunch']"
            ]
          },
          "metadata": {
            "tags": []
          },
          "execution_count": 61
        }
      ]
    },
    {
      "cell_type": "code",
      "metadata": {
        "colab": {
          "base_uri": "https://localhost:8080/"
        },
        "id": "ODvv8UhH2Sg6",
        "outputId": "18a90e81-a2f8-49db-da02-7967ee64c458"
      },
      "source": [
        "dinner_tip = tips[tips['time'] == 'Dinner']['tip']\n",
        "dinner_tip"
      ],
      "execution_count": 63,
      "outputs": [
        {
          "output_type": "execute_result",
          "data": {
            "text/plain": [
              "0      1.01\n",
              "1      1.66\n",
              "2      3.50\n",
              "3      3.31\n",
              "4      3.61\n",
              "       ... \n",
              "239    5.92\n",
              "240    2.00\n",
              "241    2.00\n",
              "242    1.75\n",
              "243    3.00\n",
              "Name: tip, Length: 176, dtype: float64"
            ]
          },
          "metadata": {
            "tags": []
          },
          "execution_count": 63
        }
      ]
    },
    {
      "cell_type": "code",
      "metadata": {
        "colab": {
          "base_uri": "https://localhost:8080/"
        },
        "id": "avBQ05LR2ob0",
        "outputId": "7109d357-2039-4a0b-8362-e0059d960cc1"
      },
      "source": [
        "dinner_tip.describe()"
      ],
      "execution_count": 64,
      "outputs": [
        {
          "output_type": "execute_result",
          "data": {
            "text/plain": [
              "count    176.000000\n",
              "mean       3.102670\n",
              "std        1.436243\n",
              "min        1.000000\n",
              "25%        2.000000\n",
              "50%        3.000000\n",
              "75%        3.687500\n",
              "max       10.000000\n",
              "Name: tip, dtype: float64"
            ]
          },
          "metadata": {
            "tags": []
          },
          "execution_count": 64
        }
      ]
    },
    {
      "cell_type": "code",
      "metadata": {
        "colab": {
          "base_uri": "https://localhost:8080/"
        },
        "id": "1cO_VY5e2y-b",
        "outputId": "78a13e58-9549-4426-f795-d450ba5fc676"
      },
      "source": [
        "lunch_tip = tips[tips['time'] == 'Lunch']['tip']\n",
        "lunch_tip"
      ],
      "execution_count": 65,
      "outputs": [
        {
          "output_type": "execute_result",
          "data": {
            "text/plain": [
              "77     4.00\n",
              "78     3.00\n",
              "79     2.71\n",
              "80     3.00\n",
              "81     3.40\n",
              "       ... \n",
              "222    1.92\n",
              "223    3.00\n",
              "224    1.58\n",
              "225    2.50\n",
              "226    2.00\n",
              "Name: tip, Length: 68, dtype: float64"
            ]
          },
          "metadata": {
            "tags": []
          },
          "execution_count": 65
        }
      ]
    },
    {
      "cell_type": "code",
      "metadata": {
        "colab": {
          "base_uri": "https://localhost:8080/"
        },
        "id": "wNH06jNh2-xz",
        "outputId": "4c6735ec-20a7-4127-ed8b-1c645ac09b10"
      },
      "source": [
        "lunch_tip.describe()"
      ],
      "execution_count": 66,
      "outputs": [
        {
          "output_type": "execute_result",
          "data": {
            "text/plain": [
              "count    68.000000\n",
              "mean      2.728088\n",
              "std       1.205345\n",
              "min       1.250000\n",
              "25%       2.000000\n",
              "50%       2.250000\n",
              "75%       3.287500\n",
              "max       6.700000\n",
              "Name: tip, dtype: float64"
            ]
          },
          "metadata": {
            "tags": []
          },
          "execution_count": 66
        }
      ]
    },
    {
      "cell_type": "code",
      "metadata": {
        "colab": {
          "base_uri": "https://localhost:8080/",
          "height": 265
        },
        "id": "6fyc9Enr3HVL",
        "outputId": "192376f2-68ee-4eff-c547-231372c40ea9"
      },
      "source": [
        "plt.boxplot(x=np.array([lunch_tip, dinner_tip], dtype='object'),\n",
        "            labels=['Lunch', 'Dinner'])\n",
        "plt.show()"
      ],
      "execution_count": 69,
      "outputs": [
        {
          "output_type": "display_data",
          "data": {
            "image/png": "[encoded data removed]",
            "text/plain": [
              "<Figure size 432x288 with 1 Axes>"
            ]
          },
          "metadata": {
            "tags": [],
            "needs_background": "light"
          }
        }
      ]
    },
    {
      "cell_type": "markdown",
      "metadata": {
        "id": "MBpWEb7H3sEz"
      },
      "source": [
        "요일별 tip의 box plot 시각화"
      ]
    },
    {
      "cell_type": "code",
      "metadata": {
        "colab": {
          "base_uri": "https://localhost:8080/"
        },
        "id": "e0ko15cC3a6b",
        "outputId": "690b1510-5f2f-4164-e96f-5af83af52247"
      },
      "source": [
        "days = tips['day'].unique()\n",
        "days"
      ],
      "execution_count": 71,
      "outputs": [
        {
          "output_type": "execute_result",
          "data": {
            "text/plain": [
              "['Sun', 'Sat', 'Thur', 'Fri']\n",
              "Categories (4, object): ['Sun', 'Sat', 'Thur', 'Fri']"
            ]
          },
          "metadata": {
            "tags": []
          },
          "execution_count": 71
        }
      ]
    },
    {
      "cell_type": "code",
      "metadata": {
        "colab": {
          "base_uri": "https://localhost:8080/",
          "height": 265
        },
        "id": "Who99YpC5lO8",
        "outputId": "aef44432-919e-41cc-fcd8-68eb9a678da8"
      },
      "source": [
        "tip_by_day = []  # 요일별 tip을 저장하기 위한 empty list\n",
        "\n",
        "for d in days:\n",
        "    # 해당 요일의 tip 컬럼을 리스트에 추가\n",
        "    tip_by_day.append(tips[tips['day'] == d]['tip'])\n",
        "\n",
        "# 리스트를 Series를 원소로 갖는 ndarray로 변환\n",
        "tip_by_day = np.array(tip_by_day, dtype='object')\n",
        "\n",
        "# boxplot\n",
        "plt.boxplot(x=tip_by_day, labels=days)\n",
        "plt.show()"
      ],
      "execution_count": 74,
      "outputs": [
        {
          "output_type": "display_data",
          "data": {
            "image/png": "[encoded data removed]",
            "text/plain": [
              "<Figure size 432x288 with 1 Axes>"
            ]
          },
          "metadata": {
            "tags": [],
            "needs_background": "light"
          }
        }
      ]
    },
    {
      "cell_type": "code",
      "metadata": {
        "colab": {
          "base_uri": "https://localhost:8080/"
        },
        "id": "tg2aDZ1T5uVj",
        "outputId": "ddc944c2-5845-47ec-eba2-74206844b8dd"
      },
      "source": [
        "tips[tips['day'] == 'Sat']['tip'].describe()"
      ],
      "execution_count": 75,
      "outputs": [
        {
          "output_type": "execute_result",
          "data": {
            "text/plain": [
              "count    87.000000\n",
              "mean      2.993103\n",
              "std       1.631014\n",
              "min       1.000000\n",
              "25%       2.000000\n",
              "50%       2.750000\n",
              "75%       3.370000\n",
              "max      10.000000\n",
              "Name: tip, dtype: float64"
            ]
          },
          "metadata": {
            "tags": []
          },
          "execution_count": 75
        }
      ]
    },
    {
      "cell_type": "markdown",
      "metadata": {
        "id": "Uch6Ky4OOAZm"
      },
      "source": [
        "# Histogram\n",
        "\n",
        "연속형 자료를 구간으로 나눠서 구간 안에 포함되는 자료의 수를 막대로 표현한 그래프."
      ]
    },
    {
      "cell_type": "code",
      "metadata": {
        "colab": {
          "base_uri": "https://localhost:8080/",
          "height": 423
        },
        "id": "fEx_IWvXOYmN",
        "outputId": "adcb1b75-aa06-4fb1-8c3c-b87d7a2de004"
      },
      "source": [
        "tips"
      ],
      "execution_count": 77,
      "outputs": [
        {
          "output_type": "execute_result",
          "data": {
            "text/html": [
              "<div>\n",
              "<style scoped>\n",
              "    .dataframe tbody tr th:only-of-type {\n",
              "        vertical-align: middle;\n",
              "    }\n",
              "\n",
              "    .dataframe tbody tr th {\n",
              "        vertical-align: top;\n",
              "    }\n",
              "\n",
              "    .dataframe thead th {\n",
              "        text-align: right;\n",
              "    }\n",
              "</style>\n",
              "<table border=\"1\" class=\"dataframe\">\n",
              "  <thead>\n",
              "    <tr style=\"text-align: right;\">\n",
              "      <th></th>\n",
              "      <th>total_bill</th>\n",
              "      <th>tip</th>\n",
              "      <th>sex</th>\n",
              "      <th>smoker</th>\n",
              "      <th>day</th>\n",
              "      <th>time</th>\n",
              "      <th>size</th>\n",
              "    </tr>\n",
              "  </thead>\n",
              "  <tbody>\n",
              "    <tr>\n",
              "      <th>0</th>\n",
              "      <td>16.99</td>\n",
              "      <td>1.01</td>\n",
              "      <td>Female</td>\n",
              "      <td>No</td>\n",
              "      <td>Sun</td>\n",
              "      <td>Dinner</td>\n",
              "      <td>2</td>\n",
              "    </tr>\n",
              "    <tr>\n",
              "      <th>1</th>\n",
              "      <td>10.34</td>\n",
              "      <td>1.66</td>\n",
              "      <td>Male</td>\n",
              "      <td>No</td>\n",
              "      <td>Sun</td>\n",
              "      <td>Dinner</td>\n",
              "      <td>3</td>\n",
              "    </tr>\n",
              "    <tr>\n",
              "      <th>2</th>\n",
              "      <td>21.01</td>\n",
              "      <td>3.50</td>\n",
              "      <td>Male</td>\n",
              "      <td>No</td>\n",
              "      <td>Sun</td>\n",
              "      <td>Dinner</td>\n",
              "      <td>3</td>\n",
              "    </tr>\n",
              "    <tr>\n",
              "      <th>3</th>\n",
              "      <td>23.68</td>\n",
              "      <td>3.31</td>\n",
              "      <td>Male</td>\n",
              "      <td>No</td>\n",
              "      <td>Sun</td>\n",
              "      <td>Dinner</td>\n",
              "      <td>2</td>\n",
              "    </tr>\n",
              "    <tr>\n",
              "      <th>4</th>\n",
              "      <td>24.59</td>\n",
              "      <td>3.61</td>\n",
              "      <td>Female</td>\n",
              "      <td>No</td>\n",
              "      <td>Sun</td>\n",
              "      <td>Dinner</td>\n",
              "      <td>4</td>\n",
              "    </tr>\n",
              "    <tr>\n",
              "      <th>...</th>\n",
              "      <td>...</td>\n",
              "      <td>...</td>\n",
              "      <td>...</td>\n",
              "      <td>...</td>\n",
              "      <td>...</td>\n",
              "      <td>...</td>\n",
              "      <td>...</td>\n",
              "    </tr>\n",
              "    <tr>\n",
              "      <th>239</th>\n",
              "      <td>29.03</td>\n",
              "      <td>5.92</td>\n",
              "      <td>Male</td>\n",
              "      <td>No</td>\n",
              "      <td>Sat</td>\n",
              "      <td>Dinner</td>\n",
              "      <td>3</td>\n",
              "    </tr>\n",
              "    <tr>\n",
              "      <th>240</th>\n",
              "      <td>27.18</td>\n",
              "      <td>2.00</td>\n",
              "      <td>Female</td>\n",
              "      <td>Yes</td>\n",
              "      <td>Sat</td>\n",
              "      <td>Dinner</td>\n",
              "      <td>2</td>\n",
              "    </tr>\n",
              "    <tr>\n",
              "      <th>241</th>\n",
              "      <td>22.67</td>\n",
              "      <td>2.00</td>\n",
              "      <td>Male</td>\n",
              "      <td>Yes</td>\n",
              "      <td>Sat</td>\n",
              "      <td>Dinner</td>\n",
              "      <td>2</td>\n",
              "    </tr>\n",
              "    <tr>\n",
              "      <th>242</th>\n",
              "      <td>17.82</td>\n",
              "      <td>1.75</td>\n",
              "      <td>Male</td>\n",
              "      <td>No</td>\n",
              "      <td>Sat</td>\n",
              "      <td>Dinner</td>\n",
              "      <td>2</td>\n",
              "    </tr>\n",
              "    <tr>\n",
              "      <th>243</th>\n",
              "      <td>18.78</td>\n",
              "      <td>3.00</td>\n",
              "      <td>Female</td>\n",
              "      <td>No</td>\n",
              "      <td>Thur</td>\n",
              "      <td>Dinner</td>\n",
              "      <td>2</td>\n",
              "    </tr>\n",
              "  </tbody>\n",
              "</table>\n",
              "<p>244 rows × 7 columns</p>\n",
              "</div>"
            ],
            "text/plain": [
              "     total_bill   tip     sex smoker   day    time  size\n",
              "0         16.99  1.01  Female     No   Sun  Dinner     2\n",
              "1         10.34  1.66    Male     No   Sun  Dinner     3\n",
              "2         21.01  3.50    Male     No   Sun  Dinner     3\n",
              "3         23.68  3.31    Male     No   Sun  Dinner     2\n",
              "4         24.59  3.61  Female     No   Sun  Dinner     4\n",
              "..          ...   ...     ...    ...   ...     ...   ...\n",
              "239       29.03  5.92    Male     No   Sat  Dinner     3\n",
              "240       27.18  2.00  Female    Yes   Sat  Dinner     2\n",
              "241       22.67  2.00    Male    Yes   Sat  Dinner     2\n",
              "242       17.82  1.75    Male     No   Sat  Dinner     2\n",
              "243       18.78  3.00  Female     No  Thur  Dinner     2\n",
              "\n",
              "[244 rows x 7 columns]"
            ]
          },
          "metadata": {
            "tags": []
          },
          "execution_count": 77
        }
      ]
    },
    {
      "cell_type": "code",
      "metadata": {
        "colab": {
          "base_uri": "https://localhost:8080/",
          "height": 281
        },
        "id": "LQT0wWmUOZMm",
        "outputId": "e68cf2e1-4114-4206-a342-b9bb98c42abd"
      },
      "source": [
        "plt.hist(x=tips['total_bill'], bins=10, edgecolor='black', color='white')\n",
        "# bins=막대 개수, 구간\n",
        "# color=막대를 채우는 색깔\n",
        "# edgecolor=막대의 테두리 색깔\n",
        "plt.grid()\n",
        "plt.title('Total bill')\n",
        "plt.show()"
      ],
      "execution_count": 84,
      "outputs": [
        {
          "output_type": "display_data",
          "data": {
            "image/png": "[encoded data removed]",
            "text/plain": [
              "<Figure size 432x288 with 1 Axes>"
            ]
          },
          "metadata": {
            "tags": [],
            "needs_background": "light"
          }
        }
      ]
    },
    {
      "cell_type": "markdown",
      "metadata": {
        "id": "o2Fisl_sPsvc"
      },
      "source": [
        "tip의 히스토그램"
      ]
    },
    {
      "cell_type": "code",
      "metadata": {
        "colab": {
          "base_uri": "https://localhost:8080/",
          "height": 279
        },
        "id": "0EAURzBjPvS2",
        "outputId": "758e305b-efe0-4223-9d8d-273aa97f59ec"
      },
      "source": [
        "plt.hist(x=tips['tip'], color='white', edgecolor='black')\n",
        "plt.grid()\n",
        "plt.xlabel('Tip')\n",
        "plt.ylabel('Count')\n",
        "plt.show()"
      ],
      "execution_count": 87,
      "outputs": [
        {
          "output_type": "display_data",
          "data": {
            "image/png": "[encoded data removed]",
            "text/plain": [
              "<Figure size 432x288 with 1 Axes>"
            ]
          },
          "metadata": {
            "tags": [],
            "needs_background": "light"
          }
        }
      ]
    },
    {
      "cell_type": "markdown",
      "metadata": {
        "id": "cXl2PQoXQgRG"
      },
      "source": [
        "# Bar Plot\n",
        "\n",
        "카테고리 타입 변수의 빈도수를 막대로 표현한 그래프."
      ]
    },
    {
      "cell_type": "code",
      "metadata": {
        "colab": {
          "base_uri": "https://localhost:8080/"
        },
        "id": "77kPxyaZQoce",
        "outputId": "2bb0c3ca-2701-4853-b205-ae6eb8e48058"
      },
      "source": [
        "# 남성/여성 숫자\n",
        "gender_counts = tips['sex'].value_counts()\n",
        "gender_counts  #> Series"
      ],
      "execution_count": 89,
      "outputs": [
        {
          "output_type": "execute_result",
          "data": {
            "text/plain": [
              "Male      157\n",
              "Female     87\n",
              "Name: sex, dtype: int64"
            ]
          },
          "metadata": {
            "tags": []
          },
          "execution_count": 89
        }
      ]
    },
    {
      "cell_type": "code",
      "metadata": {
        "colab": {
          "base_uri": "https://localhost:8080/"
        },
        "id": "eLINX_qJQsr2",
        "outputId": "349c6c46-5f50-4652-ad4d-dd8ea58dd2c0"
      },
      "source": [
        "gender_counts.index"
      ],
      "execution_count": 91,
      "outputs": [
        {
          "output_type": "execute_result",
          "data": {
            "text/plain": [
              "CategoricalIndex(['Male', 'Female'], categories=['Male', 'Female'], ordered=False, dtype='category')"
            ]
          },
          "metadata": {
            "tags": []
          },
          "execution_count": 91
        }
      ]
    },
    {
      "cell_type": "code",
      "metadata": {
        "colab": {
          "base_uri": "https://localhost:8080/"
        },
        "id": "YKZaCGU5RNNx",
        "outputId": "1bde00c0-de2a-4596-b055-ab7f195cfcdc"
      },
      "source": [
        "gender_counts.values"
      ],
      "execution_count": 92,
      "outputs": [
        {
          "output_type": "execute_result",
          "data": {
            "text/plain": [
              "array([157,  87])"
            ]
          },
          "metadata": {
            "tags": []
          },
          "execution_count": 92
        }
      ]
    },
    {
      "cell_type": "code",
      "metadata": {
        "colab": {
          "base_uri": "https://localhost:8080/",
          "height": 265
        },
        "id": "8jJuj-ylRgRN",
        "outputId": "056f5d81-c8d9-4658-9721-8e16927ee122"
      },
      "source": [
        "plt.bar(x=gender_counts.index, height=gender_counts.values, width=0.4)\n",
        "plt.show()"
      ],
      "execution_count": 95,
      "outputs": [
        {
          "output_type": "display_data",
          "data": {
            "image/png": "[encoded data removed]",
            "text/plain": [
              "<Figure size 432x288 with 1 Axes>"
            ]
          },
          "metadata": {
            "tags": [],
            "needs_background": "light"
          }
        }
      ]
    },
    {
      "cell_type": "markdown",
      "metadata": {
        "id": "uHk2kY3HSB1_"
      },
      "source": [
        "가로 막대 그래프(horizontal bar plot)"
      ]
    },
    {
      "cell_type": "code",
      "metadata": {
        "colab": {
          "base_uri": "https://localhost:8080/",
          "height": 265
        },
        "id": "gxgMVw4jSDDd",
        "outputId": "43e87be0-d308-420d-81ec-c15db1fdada5"
      },
      "source": [
        "plt.barh(y=gender_counts.index, width=gender_counts.values, height=0.5)\n",
        "plt.show()"
      ],
      "execution_count": 97,
      "outputs": [
        {
          "output_type": "display_data",
          "data": {
            "image/png": "[encoded data removed]",
            "text/plain": [
              "<Figure size 432x288 with 1 Axes>"
            ]
          },
          "metadata": {
            "tags": [],
            "needs_background": "light"
          }
        }
      ]
    },
    {
      "cell_type": "markdown",
      "metadata": {
        "id": "9dO4sOqyS10P"
      },
      "source": [
        "size의 막대 그래프"
      ]
    },
    {
      "cell_type": "code",
      "metadata": {
        "colab": {
          "base_uri": "https://localhost:8080/"
        },
        "id": "cEVLnOPTScnF",
        "outputId": "8e55bc3a-6350-4507-e7dd-45b0cf47d457"
      },
      "source": [
        "size_counts = tips['size'].value_counts()\n",
        "size_counts"
      ],
      "execution_count": 98,
      "outputs": [
        {
          "output_type": "execute_result",
          "data": {
            "text/plain": [
              "2    156\n",
              "3     38\n",
              "4     37\n",
              "5      5\n",
              "6      4\n",
              "1      4\n",
              "Name: size, dtype: int64"
            ]
          },
          "metadata": {
            "tags": []
          },
          "execution_count": 98
        }
      ]
    },
    {
      "cell_type": "code",
      "metadata": {
        "colab": {
          "base_uri": "https://localhost:8080/",
          "height": 265
        },
        "id": "JpmbcmKUTSav",
        "outputId": "cbb81eb2-6e6c-4c12-c126-d44c183ecf77"
      },
      "source": [
        "plt.bar(x=size_counts.index, height=size_counts.values)\n",
        "plt.show()"
      ],
      "execution_count": 99,
      "outputs": [
        {
          "output_type": "display_data",
          "data": {
            "image/png": "[encoded data removed]",
            "text/plain": [
              "<Figure size 432x288 with 1 Axes>"
            ]
          },
          "metadata": {
            "tags": [],
            "needs_background": "light"
          }
        }
      ]
    },
    {
      "cell_type": "markdown",
      "metadata": {
        "id": "bKcmH6XkT2Vn"
      },
      "source": [
        "* figure에 4개의 subplot(2 rows, 2 columns)을 추가\n",
        "* 남성/여성 빈도수, 흡연자/비흡연자 빈도수, 요일별 빈도수, Lunch/Dinner 빈도수 막대 그래프"
      ]
    },
    {
      "cell_type": "code",
      "metadata": {
        "id": "e3AI8D1vUSt2"
      },
      "source": [
        "gender_counts = tips['sex'].value_counts()  # 성별 빈도수\n",
        "smoker_counts = tips['smoker'].value_counts()  # 흡연 여부 빈도수\n",
        "day_counts = tips['day'].value_counts()  # 요일 빈도수\n",
        "time_counts = tips['time'].value_counts()  # Lunch/Dinner 빈도수"
      ],
      "execution_count": 104,
      "outputs": []
    },
    {
      "cell_type": "code",
      "metadata": {
        "colab": {
          "base_uri": "https://localhost:8080/",
          "height": 499
        },
        "id": "p8roDPnOVpkI",
        "outputId": "5bb80ca5-733c-4311-b3ea-f59197277e7d"
      },
      "source": [
        "fig, ax = plt.subplots(nrows=2, ncols=2, figsize=(8, 8))\n",
        "\n",
        "ax[0, 0].bar(x=gender_counts.index, height=gender_counts.values)\n",
        "ax[0, 0].set_title('gender')\n",
        "ax[0, 1].bar(x=smoker_counts.index, height=smoker_counts.values)\n",
        "ax[0, 1].set_title('smoker')\n",
        "ax[1, 0].bar(x=day_counts.index, height=day_counts.values)\n",
        "ax[1, 0].set_title('day')\n",
        "ax[1, 1].bar(x=time_counts.index, height=time_counts.values)\n",
        "ax[1, 1].set_title('time')\n",
        "\n",
        "plt.show()"
      ],
      "execution_count": 117,
      "outputs": [
        {
          "output_type": "display_data",
          "data": {
            "image/png": "[encoded data removed]",
            "text/plain": [
              "<Figure size 576x576 with 4 Axes>"
            ]
          },
          "metadata": {
            "tags": [],
            "needs_background": "light"
          }
        }
      ]
    },
    {
      "cell_type": "markdown",
      "metadata": {
        "id": "oSiTw0DjbYJ4"
      },
      "source": [
        "# 산점도 그래프(scatter plot)"
      ]
    },
    {
      "cell_type": "code",
      "metadata": {
        "colab": {
          "base_uri": "https://localhost:8080/",
          "height": 279
        },
        "id": "dV7u2MB9VrS-",
        "outputId": "04136570-7771-48e4-af3e-8509e87eaf39"
      },
      "source": [
        "plt.scatter(x=tips['total_bill'], y=tips['tip'],\n",
        "            alpha=0.4, marker='o', s=20, color='green')\n",
        "# alpha: 불투명도(0.0: 투명 ~ 1.0: 불투명)\n",
        "# marker: 점의 모양('o', 's', 'v', '^', ...)\n",
        "# s: 점의 크기(size)\n",
        "# color: 점의 색깔\n",
        "plt.grid()\n",
        "plt.xlabel('Total bill')\n",
        "plt.ylabel('Tip')\n",
        "plt.show()"
      ],
      "execution_count": 139,
      "outputs": [
        {
          "output_type": "display_data",
          "data": {
            "image/png": "[encoded data removed]",
            "text/plain": [
              "<Figure size 432x288 with 1 Axes>"
            ]
          },
          "metadata": {
            "tags": [],
            "needs_background": "light"
          }
        }
      ]
    },
    {
      "cell_type": "markdown",
      "metadata": {
        "id": "4Ybsu9C8eM8S"
      },
      "source": [
        "# 선 그래프(Line Plot)"
      ]
    },
    {
      "cell_type": "code",
      "metadata": {
        "colab": {
          "base_uri": "https://localhost:8080/",
          "height": 363
        },
        "id": "qVZcvgHCbfM_",
        "outputId": "61cbcbcf-31a6-4d77-b9ee-bdd084f3c3de"
      },
      "source": [
        "np.random.seed(1)\n",
        "df = pd.DataFrame({'x1': np.arange(10),\n",
        "                   'x2': np.random.rand(10)})\n",
        "df"
      ],
      "execution_count": 141,
      "outputs": [
        {
          "output_type": "execute_result",
          "data": {
            "text/html": [
              "<div>\n",
              "<style scoped>\n",
              "    .dataframe tbody tr th:only-of-type {\n",
              "        vertical-align: middle;\n",
              "    }\n",
              "\n",
              "    .dataframe tbody tr th {\n",
              "        vertical-align: top;\n",
              "    }\n",
              "\n",
              "    .dataframe thead th {\n",
              "        text-align: right;\n",
              "    }\n",
              "</style>\n",
              "<table border=\"1\" class=\"dataframe\">\n",
              "  <thead>\n",
              "    <tr style=\"text-align: right;\">\n",
              "      <th></th>\n",
              "      <th>x1</th>\n",
              "      <th>x2</th>\n",
              "    </tr>\n",
              "  </thead>\n",
              "  <tbody>\n",
              "    <tr>\n",
              "      <th>0</th>\n",
              "      <td>0</td>\n",
              "      <td>0.417022</td>\n",
              "    </tr>\n",
              "    <tr>\n",
              "      <th>1</th>\n",
              "      <td>1</td>\n",
              "      <td>0.720324</td>\n",
              "    </tr>\n",
              "    <tr>\n",
              "      <th>2</th>\n",
              "      <td>2</td>\n",
              "      <td>0.000114</td>\n",
              "    </tr>\n",
              "    <tr>\n",
              "      <th>3</th>\n",
              "      <td>3</td>\n",
              "      <td>0.302333</td>\n",
              "    </tr>\n",
              "    <tr>\n",
              "      <th>4</th>\n",
              "      <td>4</td>\n",
              "      <td>0.146756</td>\n",
              "    </tr>\n",
              "    <tr>\n",
              "      <th>5</th>\n",
              "      <td>5</td>\n",
              "      <td>0.092339</td>\n",
              "    </tr>\n",
              "    <tr>\n",
              "      <th>6</th>\n",
              "      <td>6</td>\n",
              "      <td>0.186260</td>\n",
              "    </tr>\n",
              "    <tr>\n",
              "      <th>7</th>\n",
              "      <td>7</td>\n",
              "      <td>0.345561</td>\n",
              "    </tr>\n",
              "    <tr>\n",
              "      <th>8</th>\n",
              "      <td>8</td>\n",
              "      <td>0.396767</td>\n",
              "    </tr>\n",
              "    <tr>\n",
              "      <th>9</th>\n",
              "      <td>9</td>\n",
              "      <td>0.538817</td>\n",
              "    </tr>\n",
              "  </tbody>\n",
              "</table>\n",
              "</div>"
            ],
            "text/plain": [
              "   x1        x2\n",
              "0   0  0.417022\n",
              "1   1  0.720324\n",
              "2   2  0.000114\n",
              "3   3  0.302333\n",
              "4   4  0.146756\n",
              "5   5  0.092339\n",
              "6   6  0.186260\n",
              "7   7  0.345561\n",
              "8   8  0.396767\n",
              "9   9  0.538817"
            ]
          },
          "metadata": {
            "tags": []
          },
          "execution_count": 141
        }
      ]
    },
    {
      "cell_type": "code",
      "metadata": {
        "colab": {
          "base_uri": "https://localhost:8080/",
          "height": 265
        },
        "id": "09mJUzXAend_",
        "outputId": "6396ff8e-abda-48bd-f139-57fbfd3567dd"
      },
      "source": [
        "plt.plot(df['x1'], df['x2'])\n",
        "plt.grid()\n",
        "plt.show()"
      ],
      "execution_count": 143,
      "outputs": [
        {
          "output_type": "display_data",
          "data": {
            "image/png": "[encoded data removed]",
            "text/plain": [
              "<Figure size 432x288 with 1 Axes>"
            ]
          },
          "metadata": {
            "tags": [],
            "needs_background": "light"
          }
        }
      ]
    },
    {
      "cell_type": "code",
      "metadata": {
        "colab": {
          "base_uri": "https://localhost:8080/",
          "height": 265
        },
        "id": "VtOEm-TOfcOQ",
        "outputId": "17178a88-4b1f-43e4-b479-c30dd014bf66"
      },
      "source": [
        "plt.plot(df['x1'], df['x2'], 'bo-')\n",
        "# 'bo-': format string. color, marker, linestyle을 설정\n",
        "# color: b, g, r, k, ...\n",
        "# marker: o, s, v, ^, ...\n",
        "# linestyle: -, --, :, ...\n",
        "plt.show()"
      ],
      "execution_count": 154,
      "outputs": [
        {
          "output_type": "display_data",
          "data": {
            "image/png": "[encoded data removed]",
            "text/plain": [
              "<Figure size 432x288 with 1 Axes>"
            ]
          },
          "metadata": {
            "tags": [],
            "needs_background": "light"
          }
        }
      ]
    },
    {
      "cell_type": "code",
      "metadata": {
        "colab": {
          "base_uri": "https://localhost:8080/",
          "height": 265
        },
        "id": "nNz4Y6_thFi7",
        "outputId": "08f2371c-161a-43b9-e958-d78d1f69bf1a"
      },
      "source": [
        "plt.plot(df['x1'], df['x2'], color='green', marker='^', linestyle='dotted')\n",
        "plt.show()"
      ],
      "execution_count": 156,
      "outputs": [
        {
          "output_type": "display_data",
          "data": {
            "image/png": "[encoded data removed]",
            "text/plain": [
              "<Figure size 432x288 with 1 Axes>"
            ]
          },
          "metadata": {
            "tags": [],
            "needs_background": "light"
          }
        }
      ]
    },
    {
      "cell_type": "markdown",
      "metadata": {
        "id": "olO5VDYYhr98"
      },
      "source": [
        "`plot` 함수에서 `linestyle=''`(empty string)로 설정하면 `scatter` 함수와 동일"
      ]
    },
    {
      "cell_type": "code",
      "metadata": {
        "colab": {
          "base_uri": "https://localhost:8080/",
          "height": 265
        },
        "id": "aV--RqGShxOH",
        "outputId": "c78e0cf8-ece9-47bd-c12d-9dc83838023a"
      },
      "source": [
        "plt.plot(df['x1'], df['x2'], 'bo')  # linestyle=''\n",
        "plt.show()"
      ],
      "execution_count": 157,
      "outputs": [
        {
          "output_type": "display_data",
          "data": {
            "image/png": "[encoded data removed]",
            "text/plain": [
              "<Figure size 432x288 with 1 Axes>"
            ]
          },
          "metadata": {
            "tags": [],
            "needs_background": "light"
          }
        }
      ]
    },
    {
      "cell_type": "markdown",
      "metadata": {
        "id": "JTwYm6P4iUEQ"
      },
      "source": [
        "1개의 plot에 여러개의 선 그래플 그리기"
      ]
    },
    {
      "cell_type": "code",
      "metadata": {
        "colab": {
          "base_uri": "https://localhost:8080/",
          "height": 363
        },
        "id": "5xaDDWE-iXS6",
        "outputId": "81405fc9-8cc4-4b48-9ad1-6978e650a543"
      },
      "source": [
        "np.random.seed(1)\n",
        "df = pd.DataFrame({'y1': np.random.rand(10),\n",
        "                   'y2': np.random.rand(10),\n",
        "                   'y3': np.random.rand(10)})\n",
        "df"
      ],
      "execution_count": 158,
      "outputs": [
        {
          "output_type": "execute_result",
          "data": {
            "text/html": [
              "<div>\n",
              "<style scoped>\n",
              "    .dataframe tbody tr th:only-of-type {\n",
              "        vertical-align: middle;\n",
              "    }\n",
              "\n",
              "    .dataframe tbody tr th {\n",
              "        vertical-align: top;\n",
              "    }\n",
              "\n",
              "    .dataframe thead th {\n",
              "        text-align: right;\n",
              "    }\n",
              "</style>\n",
              "<table border=\"1\" class=\"dataframe\">\n",
              "  <thead>\n",
              "    <tr style=\"text-align: right;\">\n",
              "      <th></th>\n",
              "      <th>y1</th>\n",
              "      <th>y2</th>\n",
              "      <th>y3</th>\n",
              "    </tr>\n",
              "  </thead>\n",
              "  <tbody>\n",
              "    <tr>\n",
              "      <th>0</th>\n",
              "      <td>0.417022</td>\n",
              "      <td>0.419195</td>\n",
              "      <td>0.800745</td>\n",
              "    </tr>\n",
              "    <tr>\n",
              "      <th>1</th>\n",
              "      <td>0.720324</td>\n",
              "      <td>0.685220</td>\n",
              "      <td>0.968262</td>\n",
              "    </tr>\n",
              "    <tr>\n",
              "      <th>2</th>\n",
              "      <td>0.000114</td>\n",
              "      <td>0.204452</td>\n",
              "      <td>0.313424</td>\n",
              "    </tr>\n",
              "    <tr>\n",
              "      <th>3</th>\n",
              "      <td>0.302333</td>\n",
              "      <td>0.878117</td>\n",
              "      <td>0.692323</td>\n",
              "    </tr>\n",
              "    <tr>\n",
              "      <th>4</th>\n",
              "      <td>0.146756</td>\n",
              "      <td>0.027388</td>\n",
              "      <td>0.876389</td>\n",
              "    </tr>\n",
              "    <tr>\n",
              "      <th>5</th>\n",
              "      <td>0.092339</td>\n",
              "      <td>0.670468</td>\n",
              "      <td>0.894607</td>\n",
              "    </tr>\n",
              "    <tr>\n",
              "      <th>6</th>\n",
              "      <td>0.186260</td>\n",
              "      <td>0.417305</td>\n",
              "      <td>0.085044</td>\n",
              "    </tr>\n",
              "    <tr>\n",
              "      <th>7</th>\n",
              "      <td>0.345561</td>\n",
              "      <td>0.558690</td>\n",
              "      <td>0.039055</td>\n",
              "    </tr>\n",
              "    <tr>\n",
              "      <th>8</th>\n",
              "      <td>0.396767</td>\n",
              "      <td>0.140387</td>\n",
              "      <td>0.169830</td>\n",
              "    </tr>\n",
              "    <tr>\n",
              "      <th>9</th>\n",
              "      <td>0.538817</td>\n",
              "      <td>0.198101</td>\n",
              "      <td>0.878143</td>\n",
              "    </tr>\n",
              "  </tbody>\n",
              "</table>\n",
              "</div>"
            ],
            "text/plain": [
              "         y1        y2        y3\n",
              "0  0.417022  0.419195  0.800745\n",
              "1  0.720324  0.685220  0.968262\n",
              "2  0.000114  0.204452  0.313424\n",
              "3  0.302333  0.878117  0.692323\n",
              "4  0.146756  0.027388  0.876389\n",
              "5  0.092339  0.670468  0.894607\n",
              "6  0.186260  0.417305  0.085044\n",
              "7  0.345561  0.558690  0.039055\n",
              "8  0.396767  0.140387  0.169830\n",
              "9  0.538817  0.198101  0.878143"
            ]
          },
          "metadata": {
            "tags": []
          },
          "execution_count": 158
        }
      ]
    },
    {
      "cell_type": "code",
      "metadata": {
        "colab": {
          "base_uri": "https://localhost:8080/",
          "height": 266
        },
        "id": "l0Gauv5uipgn",
        "outputId": "eadf3331-0681-4c7b-fd0a-f5e5c95a3e1c"
      },
      "source": [
        "plt.plot(df['y1'], label='y1', linestyle='solid')  # '-'\n",
        "plt.plot(df['y2'], label='y2', linestyle='dotted') # ':'\n",
        "plt.plot(df['y3'], label='y3', linestyle='dashed') # '--'\n",
        "\n",
        "plt.legend()  # 각 plot의 label을 화면에 표시(범례)\n",
        "plt.show()"
      ],
      "execution_count": 165,
      "outputs": [
        {
          "output_type": "display_data",
          "data": {
            "image/png": "[encoded data removed]",
            "text/plain": [
              "<Figure size 432x288 with 1 Axes>"
            ]
          },
          "metadata": {
            "tags": [],
            "needs_background": "light"
          }
        }
      ]
    },
    {
      "cell_type": "markdown",
      "metadata": {
        "id": "1h908x29knYj"
      },
      "source": [
        "# Exercise\n",
        "\n",
        "* seaborn 패키지의 iris 예제 데이터 셋을 로드\n",
        "* DataFrame의 구조 확인\n",
        "* petal_width ~ petal_length 산점도 그래프\n",
        "    * species별로 marker의 색깔이 다르게 표현"
      ]
    },
    {
      "cell_type": "code",
      "metadata": {
        "id": "yb0zdrv1k2_A"
      },
      "source": [
        "iris = sns.load_dataset('iris')"
      ],
      "execution_count": 168,
      "outputs": []
    },
    {
      "cell_type": "code",
      "metadata": {
        "colab": {
          "base_uri": "https://localhost:8080/",
          "height": 423
        },
        "id": "0a_18QsUk7X3",
        "outputId": "57be71bc-822e-4616-9f15-52476f2981ed"
      },
      "source": [
        "iris"
      ],
      "execution_count": 169,
      "outputs": [
        {
          "output_type": "execute_result",
          "data": {
            "text/html": [
              "<div>\n",
              "<style scoped>\n",
              "    .dataframe tbody tr th:only-of-type {\n",
              "        vertical-align: middle;\n",
              "    }\n",
              "\n",
              "    .dataframe tbody tr th {\n",
              "        vertical-align: top;\n",
              "    }\n",
              "\n",
              "    .dataframe thead th {\n",
              "        text-align: right;\n",
              "    }\n",
              "</style>\n",
              "<table border=\"1\" class=\"dataframe\">\n",
              "  <thead>\n",
              "    <tr style=\"text-align: right;\">\n",
              "      <th></th>\n",
              "      <th>sepal_length</th>\n",
              "      <th>sepal_width</th>\n",
              "      <th>petal_length</th>\n",
              "      <th>petal_width</th>\n",
              "      <th>species</th>\n",
              "    </tr>\n",
              "  </thead>\n",
              "  <tbody>\n",
              "    <tr>\n",
              "      <th>0</th>\n",
              "      <td>5.1</td>\n",
              "      <td>3.5</td>\n",
              "      <td>1.4</td>\n",
              "      <td>0.2</td>\n",
              "      <td>setosa</td>\n",
              "    </tr>\n",
              "    <tr>\n",
              "      <th>1</th>\n",
              "      <td>4.9</td>\n",
              "      <td>3.0</td>\n",
              "      <td>1.4</td>\n",
              "      <td>0.2</td>\n",
              "      <td>setosa</td>\n",
              "    </tr>\n",
              "    <tr>\n",
              "      <th>2</th>\n",
              "      <td>4.7</td>\n",
              "      <td>3.2</td>\n",
              "      <td>1.3</td>\n",
              "      <td>0.2</td>\n",
              "      <td>setosa</td>\n",
              "    </tr>\n",
              "    <tr>\n",
              "      <th>3</th>\n",
              "      <td>4.6</td>\n",
              "      <td>3.1</td>\n",
              "      <td>1.5</td>\n",
              "      <td>0.2</td>\n",
              "      <td>setosa</td>\n",
              "    </tr>\n",
              "    <tr>\n",
              "      <th>4</th>\n",
              "      <td>5.0</td>\n",
              "      <td>3.6</td>\n",
              "      <td>1.4</td>\n",
              "      <td>0.2</td>\n",
              "      <td>setosa</td>\n",
              "    </tr>\n",
              "    <tr>\n",
              "      <th>...</th>\n",
              "      <td>...</td>\n",
              "      <td>...</td>\n",
              "      <td>...</td>\n",
              "      <td>...</td>\n",
              "      <td>...</td>\n",
              "    </tr>\n",
              "    <tr>\n",
              "      <th>145</th>\n",
              "      <td>6.7</td>\n",
              "      <td>3.0</td>\n",
              "      <td>5.2</td>\n",
              "      <td>2.3</td>\n",
              "      <td>virginica</td>\n",
              "    </tr>\n",
              "    <tr>\n",
              "      <th>146</th>\n",
              "      <td>6.3</td>\n",
              "      <td>2.5</td>\n",
              "      <td>5.0</td>\n",
              "      <td>1.9</td>\n",
              "      <td>virginica</td>\n",
              "    </tr>\n",
              "    <tr>\n",
              "      <th>147</th>\n",
              "      <td>6.5</td>\n",
              "      <td>3.0</td>\n",
              "      <td>5.2</td>\n",
              "      <td>2.0</td>\n",
              "      <td>virginica</td>\n",
              "    </tr>\n",
              "    <tr>\n",
              "      <th>148</th>\n",
              "      <td>6.2</td>\n",
              "      <td>3.4</td>\n",
              "      <td>5.4</td>\n",
              "      <td>2.3</td>\n",
              "      <td>virginica</td>\n",
              "    </tr>\n",
              "    <tr>\n",
              "      <th>149</th>\n",
              "      <td>5.9</td>\n",
              "      <td>3.0</td>\n",
              "      <td>5.1</td>\n",
              "      <td>1.8</td>\n",
              "      <td>virginica</td>\n",
              "    </tr>\n",
              "  </tbody>\n",
              "</table>\n",
              "<p>150 rows × 5 columns</p>\n",
              "</div>"
            ],
            "text/plain": [
              "     sepal_length  sepal_width  petal_length  petal_width    species\n",
              "0             5.1          3.5           1.4          0.2     setosa\n",
              "1             4.9          3.0           1.4          0.2     setosa\n",
              "2             4.7          3.2           1.3          0.2     setosa\n",
              "3             4.6          3.1           1.5          0.2     setosa\n",
              "4             5.0          3.6           1.4          0.2     setosa\n",
              "..            ...          ...           ...          ...        ...\n",
              "145           6.7          3.0           5.2          2.3  virginica\n",
              "146           6.3          2.5           5.0          1.9  virginica\n",
              "147           6.5          3.0           5.2          2.0  virginica\n",
              "148           6.2          3.4           5.4          2.3  virginica\n",
              "149           5.9          3.0           5.1          1.8  virginica\n",
              "\n",
              "[150 rows x 5 columns]"
            ]
          },
          "metadata": {
            "tags": []
          },
          "execution_count": 169
        }
      ]
    },
    {
      "cell_type": "code",
      "metadata": {
        "id": "Oaxgra3_k8Fv"
      },
      "source": [
        "setosa = iris[iris['species'] == 'setosa']\n",
        "versicolor = iris[iris['species'] == 'versicolor']\n",
        "virginica = iris[iris['species'] == 'virginica']"
      ],
      "execution_count": 173,
      "outputs": []
    },
    {
      "cell_type": "code",
      "metadata": {
        "colab": {
          "base_uri": "https://localhost:8080/",
          "height": 280
        },
        "id": "u8NohBvmpazJ",
        "outputId": "ef34b6dd-253e-4520-83a9-2cee932c0224"
      },
      "source": [
        "plt.scatter(setosa['petal_length'], setosa['petal_width'], label='setosa')\n",
        "plt.scatter(versicolor['petal_length'], versicolor['petal_width'], label='versicolor')\n",
        "plt.scatter(virginica['petal_length'], virginica['petal_width'], label='virginica')\n",
        "\n",
        "plt.legend()\n",
        "plt.xlabel('petal_length')\n",
        "plt.ylabel('petal_width')\n",
        "plt.show()"
      ],
      "execution_count": 178,
      "outputs": [
        {
          "output_type": "display_data",
          "data": {
            "image/png": "[encoded data removed]",
            "text/plain": [
              "<Figure size 432x288 with 1 Axes>"
            ]
          },
          "metadata": {
            "tags": [],
            "needs_background": "light"
          }
        }
      ]
    },
    {
      "cell_type": "code",
      "metadata": {
        "colab": {
          "base_uri": "https://localhost:8080/",
          "height": 265
        },
        "id": "OwRgH_Myqy8b",
        "outputId": "50f29c60-1d9e-420a-ae71-a0d2f51c1b41"
      },
      "source": [
        "species = iris['species'].unique()\n",
        "for s in species:\n",
        "    subset = iris[iris['species'] == s]\n",
        "    plt.scatter(subset['petal_length'], subset['petal_width'], label=s)\n",
        "\n",
        "plt.legend()\n",
        "plt.show()"
      ],
      "execution_count": 181,
      "outputs": [
        {
          "output_type": "display_data",
          "data": {
            "image/png": "[encoded data removed]",
            "text/plain": [
              "<Figure size 432x288 with 1 Axes>"
            ]
          },
          "metadata": {
            "tags": [],
            "needs_background": "light"
          }
        }
      ]
    }
  ]
}
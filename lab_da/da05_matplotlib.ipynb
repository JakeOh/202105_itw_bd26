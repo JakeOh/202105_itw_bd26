{
  "nbformat": 4,
  "nbformat_minor": 0,
  "metadata": {
    "colab": {
      "name": "da05_matplotlib.ipynb",
      "provenance": [],
      "collapsed_sections": [],
      "authorship_tag": "ABX9TyP4TuCjNdkchzKO7ZWWs2kc",
      "include_colab_link": true
    },
    "kernelspec": {
      "name": "python3",
      "display_name": "Python 3"
    },
    "language_info": {
      "name": "python"
    }
  },
  "cells": [
    {
      "cell_type": "markdown",
      "metadata": {
        "id": "view-in-github",
        "colab_type": "text"
      },
      "source": [
        "<a href=\"https://colab.research.google.com/github/JakeOh/202105_itw_bd26/blob/main/lab_da/da05_matplotlib.ipynb\" target=\"_parent\"><img src=\"https://colab.research.google.com/assets/colab-badge.svg\" alt=\"Open In Colab\"/></a>"
      ]
    },
    {
      "cell_type": "code",
      "metadata": {
        "id": "thMchTTnYwub"
      },
      "source": [
        "import matplotlib.pyplot as plt  # 시각화 모듈\n",
        "import pandas as pd              # Series, DataFrame 기능\n",
        "import seaborn as sns            # 시각화 모듈, 예제 데이터 셋"
      ],
      "execution_count": 1,
      "outputs": []
    },
    {
      "cell_type": "markdown",
      "metadata": {
        "id": "M2n4Rot0ZeW3"
      },
      "source": [
        "# 데이터 셋"
      ]
    },
    {
      "cell_type": "code",
      "metadata": {
        "id": "fJWmnlBkZYAi"
      },
      "source": [
        "tips = sns.load_dataset('tips')"
      ],
      "execution_count": 2,
      "outputs": []
    },
    {
      "cell_type": "code",
      "metadata": {
        "colab": {
          "base_uri": "https://localhost:8080/",
          "height": 206
        },
        "id": "PSZqBXDnZkkw",
        "outputId": "b4d94306-a631-4a17-89d6-5fbe18da0222"
      },
      "source": [
        "tips.head()  # tips.iloc[:5], tips.loc[:4]"
      ],
      "execution_count": 3,
      "outputs": [
        {
          "output_type": "execute_result",
          "data": {
            "text/html": [
              "<div>\n",
              "<style scoped>\n",
              "    .dataframe tbody tr th:only-of-type {\n",
              "        vertical-align: middle;\n",
              "    }\n",
              "\n",
              "    .dataframe tbody tr th {\n",
              "        vertical-align: top;\n",
              "    }\n",
              "\n",
              "    .dataframe thead th {\n",
              "        text-align: right;\n",
              "    }\n",
              "</style>\n",
              "<table border=\"1\" class=\"dataframe\">\n",
              "  <thead>\n",
              "    <tr style=\"text-align: right;\">\n",
              "      <th></th>\n",
              "      <th>total_bill</th>\n",
              "      <th>tip</th>\n",
              "      <th>sex</th>\n",
              "      <th>smoker</th>\n",
              "      <th>day</th>\n",
              "      <th>time</th>\n",
              "      <th>size</th>\n",
              "    </tr>\n",
              "  </thead>\n",
              "  <tbody>\n",
              "    <tr>\n",
              "      <th>0</th>\n",
              "      <td>16.99</td>\n",
              "      <td>1.01</td>\n",
              "      <td>Female</td>\n",
              "      <td>No</td>\n",
              "      <td>Sun</td>\n",
              "      <td>Dinner</td>\n",
              "      <td>2</td>\n",
              "    </tr>\n",
              "    <tr>\n",
              "      <th>1</th>\n",
              "      <td>10.34</td>\n",
              "      <td>1.66</td>\n",
              "      <td>Male</td>\n",
              "      <td>No</td>\n",
              "      <td>Sun</td>\n",
              "      <td>Dinner</td>\n",
              "      <td>3</td>\n",
              "    </tr>\n",
              "    <tr>\n",
              "      <th>2</th>\n",
              "      <td>21.01</td>\n",
              "      <td>3.50</td>\n",
              "      <td>Male</td>\n",
              "      <td>No</td>\n",
              "      <td>Sun</td>\n",
              "      <td>Dinner</td>\n",
              "      <td>3</td>\n",
              "    </tr>\n",
              "    <tr>\n",
              "      <th>3</th>\n",
              "      <td>23.68</td>\n",
              "      <td>3.31</td>\n",
              "      <td>Male</td>\n",
              "      <td>No</td>\n",
              "      <td>Sun</td>\n",
              "      <td>Dinner</td>\n",
              "      <td>2</td>\n",
              "    </tr>\n",
              "    <tr>\n",
              "      <th>4</th>\n",
              "      <td>24.59</td>\n",
              "      <td>3.61</td>\n",
              "      <td>Female</td>\n",
              "      <td>No</td>\n",
              "      <td>Sun</td>\n",
              "      <td>Dinner</td>\n",
              "      <td>4</td>\n",
              "    </tr>\n",
              "  </tbody>\n",
              "</table>\n",
              "</div>"
            ],
            "text/plain": [
              "   total_bill   tip     sex smoker  day    time  size\n",
              "0       16.99  1.01  Female     No  Sun  Dinner     2\n",
              "1       10.34  1.66    Male     No  Sun  Dinner     3\n",
              "2       21.01  3.50    Male     No  Sun  Dinner     3\n",
              "3       23.68  3.31    Male     No  Sun  Dinner     2\n",
              "4       24.59  3.61  Female     No  Sun  Dinner     4"
            ]
          },
          "metadata": {
            "tags": []
          },
          "execution_count": 3
        }
      ]
    },
    {
      "cell_type": "code",
      "metadata": {
        "colab": {
          "base_uri": "https://localhost:8080/"
        },
        "id": "dBY1Z6ANZnDg",
        "outputId": "c480fa04-f580-41bf-9bef-2148bd2133bb"
      },
      "source": [
        "tips.shape"
      ],
      "execution_count": 4,
      "outputs": [
        {
          "output_type": "execute_result",
          "data": {
            "text/plain": [
              "(244, 7)"
            ]
          },
          "metadata": {
            "tags": []
          },
          "execution_count": 4
        }
      ]
    },
    {
      "cell_type": "code",
      "metadata": {
        "colab": {
          "base_uri": "https://localhost:8080/",
          "height": 300
        },
        "id": "Q1EUm47xZxBg",
        "outputId": "1ff7704d-ce0d-4e34-b6cd-2fb122a2768e"
      },
      "source": [
        "tips.describe()  # 숫자 타입 변수들의 기술 통계량 요약"
      ],
      "execution_count": 5,
      "outputs": [
        {
          "output_type": "execute_result",
          "data": {
            "text/html": [
              "<div>\n",
              "<style scoped>\n",
              "    .dataframe tbody tr th:only-of-type {\n",
              "        vertical-align: middle;\n",
              "    }\n",
              "\n",
              "    .dataframe tbody tr th {\n",
              "        vertical-align: top;\n",
              "    }\n",
              "\n",
              "    .dataframe thead th {\n",
              "        text-align: right;\n",
              "    }\n",
              "</style>\n",
              "<table border=\"1\" class=\"dataframe\">\n",
              "  <thead>\n",
              "    <tr style=\"text-align: right;\">\n",
              "      <th></th>\n",
              "      <th>total_bill</th>\n",
              "      <th>tip</th>\n",
              "      <th>size</th>\n",
              "    </tr>\n",
              "  </thead>\n",
              "  <tbody>\n",
              "    <tr>\n",
              "      <th>count</th>\n",
              "      <td>244.000000</td>\n",
              "      <td>244.000000</td>\n",
              "      <td>244.000000</td>\n",
              "    </tr>\n",
              "    <tr>\n",
              "      <th>mean</th>\n",
              "      <td>19.785943</td>\n",
              "      <td>2.998279</td>\n",
              "      <td>2.569672</td>\n",
              "    </tr>\n",
              "    <tr>\n",
              "      <th>std</th>\n",
              "      <td>8.902412</td>\n",
              "      <td>1.383638</td>\n",
              "      <td>0.951100</td>\n",
              "    </tr>\n",
              "    <tr>\n",
              "      <th>min</th>\n",
              "      <td>3.070000</td>\n",
              "      <td>1.000000</td>\n",
              "      <td>1.000000</td>\n",
              "    </tr>\n",
              "    <tr>\n",
              "      <th>25%</th>\n",
              "      <td>13.347500</td>\n",
              "      <td>2.000000</td>\n",
              "      <td>2.000000</td>\n",
              "    </tr>\n",
              "    <tr>\n",
              "      <th>50%</th>\n",
              "      <td>17.795000</td>\n",
              "      <td>2.900000</td>\n",
              "      <td>2.000000</td>\n",
              "    </tr>\n",
              "    <tr>\n",
              "      <th>75%</th>\n",
              "      <td>24.127500</td>\n",
              "      <td>3.562500</td>\n",
              "      <td>3.000000</td>\n",
              "    </tr>\n",
              "    <tr>\n",
              "      <th>max</th>\n",
              "      <td>50.810000</td>\n",
              "      <td>10.000000</td>\n",
              "      <td>6.000000</td>\n",
              "    </tr>\n",
              "  </tbody>\n",
              "</table>\n",
              "</div>"
            ],
            "text/plain": [
              "       total_bill         tip        size\n",
              "count  244.000000  244.000000  244.000000\n",
              "mean    19.785943    2.998279    2.569672\n",
              "std      8.902412    1.383638    0.951100\n",
              "min      3.070000    1.000000    1.000000\n",
              "25%     13.347500    2.000000    2.000000\n",
              "50%     17.795000    2.900000    2.000000\n",
              "75%     24.127500    3.562500    3.000000\n",
              "max     50.810000   10.000000    6.000000"
            ]
          },
          "metadata": {
            "tags": []
          },
          "execution_count": 5
        }
      ]
    },
    {
      "cell_type": "markdown",
      "metadata": {
        "id": "64IVjWuTaYpB"
      },
      "source": [
        "# matplotlib.pyplot 모듈을 사용한 시각화"
      ]
    },
    {
      "cell_type": "code",
      "metadata": {
        "colab": {
          "base_uri": "https://localhost:8080/",
          "height": 295
        },
        "id": "jJneSD48ab0o",
        "outputId": "91165d7b-ac33-434c-9641-6c68269f727c"
      },
      "source": [
        "# 1. figure 객체 생성\n",
        "fig = plt.figure()\n",
        "\n",
        "# 2. figure 객체에 subplot을 생성해서 추가\n",
        "axis = fig.add_subplot(111)  # fig.add_subplot(1, 1, 1)\n",
        "# nrows=1(figure에서 행의 개수)\n",
        "# ncols=1(figure에서 열의 개수)\n",
        "# index=1(생성된 subplot의 인덱스, 1부터 시작)\n",
        "\n",
        "# 3. subplot에 그래프를 그림\n",
        "axis.hist(x=tips['total_bill'])  # histogram\n",
        "\n",
        "# 4. 그래프 옵션\n",
        "axis.set_title('Histogram of total bill')\n",
        "axis.set_xlabel('Total bill')\n",
        "axis.set_ylabel('Counts')\n",
        "\n",
        "# 5. 그래프 보여주기\n",
        "plt.show()"
      ],
      "execution_count": 13,
      "outputs": [
        {
          "output_type": "display_data",
          "data": {
            "image/png": "[encoded data removed]",
            "text/plain": [
              "<Figure size 432x288 with 1 Axes>"
            ]
          },
          "metadata": {
            "tags": [],
            "needs_background": "light"
          }
        }
      ]
    },
    {
      "cell_type": "markdown",
      "metadata": {
        "id": "oIiRwMSSeIh6"
      },
      "source": [
        "figure에 2개의 subplot을 추가해서, 히스토그램과 산점도 그래프를 그림."
      ]
    },
    {
      "cell_type": "code",
      "metadata": {
        "colab": {
          "base_uri": "https://localhost:8080/",
          "height": 513
        },
        "id": "cmYjEXaEeQNJ",
        "outputId": "82dc3690-6b50-42d4-9539-09ce13b99907"
      },
      "source": [
        "# 1. figure 생성\n",
        "fig = plt.figure(figsize=(8, 8))\n",
        "\n",
        "# 2. subplot 생성, 추가\n",
        "axis1 = fig.add_subplot(2, 1, 1)  # 행이 2개이고, 열이 1개인 figure에서 첫번째 subplot\n",
        "axis2 = fig.add_subplot(2, 1, 2)  # 행이 2개이고, 열이 1개인 figure에서 두번째 subplot\n",
        "\n",
        "# 3. 각 subplot에 그래프를 그림\n",
        "axis1.hist(x=tips['total_bill'])\n",
        "axis2.scatter(x=tips['total_bill'], y=tips['tip'])\n",
        "\n",
        "# 4. 그래프 옵션\n",
        "axis1.set_title('Histogram of total bill')\n",
        "axis2.set_title('Tip ~ Total bill')\n",
        "axis2.set_xlabel('Total bill')\n",
        "axis2.set_ylabel('Tip')\n",
        "\n",
        "# 5. 그래프 보여주기\n",
        "plt.show()"
      ],
      "execution_count": 20,
      "outputs": [
        {
          "output_type": "display_data",
          "data": {
            "image/png": "[encoded data removed]",
            "text/plain": [
              "<Figure size 576x576 with 2 Axes>"
            ]
          },
          "metadata": {
            "tags": [],
            "needs_background": "light"
          }
        }
      ]
    }
  ]
}
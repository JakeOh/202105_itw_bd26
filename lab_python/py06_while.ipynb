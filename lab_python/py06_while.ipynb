{
  "nbformat": 4,
  "nbformat_minor": 0,
  "metadata": {
    "colab": {
      "name": "py06_while.ipynb",
      "provenance": [],
      "collapsed_sections": [],
      "authorship_tag": "ABX9TyNLrq/krDSomYoVPqTjDfeq",
      "include_colab_link": true
    },
    "kernelspec": {
      "name": "python3",
      "display_name": "Python 3"
    },
    "language_info": {
      "name": "python"
    }
  },
  "cells": [
    {
      "cell_type": "markdown",
      "metadata": {
        "id": "view-in-github",
        "colab_type": "text"
      },
      "source": [
        "<a href=\"https://colab.research.google.com/github/JakeOh/202105_itw_bd26/blob/main/lab_python/py06_while.ipynb\" target=\"_parent\"><img src=\"https://colab.research.google.com/assets/colab-badge.svg\" alt=\"Open In Colab\"/></a>"
      ]
    },
    {
      "cell_type": "markdown",
      "metadata": {
        "id": "RG4VbSv55lS2"
      },
      "source": [
        "# while 반복문"
      ]
    },
    {
      "cell_type": "markdown",
      "metadata": {
        "id": "yc189Qo-5s_O"
      },
      "source": [
        "\n",
        "\n",
        "```\n",
        "[초기화 문장]\n",
        "while 조건식:\n",
        "    조건식을 만족하는 동안에(조건식이 True인 동안에) 반복할 코드 블록(문장들)\n",
        "    [조건을 변경할 수 있는 문장]\n",
        "```\n",
        "\n"
      ]
    },
    {
      "cell_type": "markdown",
      "metadata": {
        "id": "Cx2AiX6n6gz9"
      },
      "source": [
        "1부터 5까지 한줄씩 출력"
      ]
    },
    {
      "cell_type": "code",
      "metadata": {
        "colab": {
          "base_uri": "https://localhost:8080/"
        },
        "id": "mhrJSC5k5gLz",
        "outputId": "8cf96d9d-88ac-4156-fa01-1bdd76ec3158"
      },
      "source": [
        "for x in range(1, 6):\n",
        "    print(x)"
      ],
      "execution_count": 1,
      "outputs": [
        {
          "output_type": "stream",
          "text": [
            "1\n",
            "2\n",
            "3\n",
            "4\n",
            "5\n"
          ],
          "name": "stdout"
        }
      ]
    },
    {
      "cell_type": "code",
      "metadata": {
        "colab": {
          "base_uri": "https://localhost:8080/"
        },
        "id": "Q-m-Ixpp6eXw",
        "outputId": "72c6e89b-1d3f-41f0-aa3a-4de97d9cba3a"
      },
      "source": [
        "x = 1\n",
        "while x < 6:\n",
        "    print(x)\n",
        "    # x = x + 1\n",
        "    x += 1  # 복합 할당 연산자(compound assignment operator)"
      ],
      "execution_count": 2,
      "outputs": [
        {
          "output_type": "stream",
          "text": [
            "1\n",
            "2\n",
            "3\n",
            "4\n",
            "5\n"
          ],
          "name": "stdout"
        }
      ]
    },
    {
      "cell_type": "markdown",
      "metadata": {
        "id": "FejI2Jcz--uv"
      },
      "source": [
        "## Exercises"
      ]
    },
    {
      "cell_type": "markdown",
      "metadata": {
        "id": "4-l8w9Ef9GGm"
      },
      "source": [
        "10 미만의 홀수를 출력"
      ]
    },
    {
      "cell_type": "code",
      "metadata": {
        "id": "2ZX5Dkz69Mw-",
        "colab": {
          "base_uri": "https://localhost:8080/"
        },
        "outputId": "19c659a9-86f4-46bd-f67b-011f11d5f6f2"
      },
      "source": [
        "n = 1  # 시작값\n",
        "while n < 10:  # 반복할 조건\n",
        "    if n % 2 == 1:  # 2로 나눈 나머지가 1이면(홀수이면)\n",
        "        print(n)  # 출력\n",
        "    n += 1  #  n 값을 1 증가시킴."
      ],
      "execution_count": 5,
      "outputs": [
        {
          "output_type": "stream",
          "text": [
            "1\n",
            "3\n",
            "5\n",
            "7\n",
            "9\n"
          ],
          "name": "stdout"
        }
      ]
    },
    {
      "cell_type": "code",
      "metadata": {
        "colab": {
          "base_uri": "https://localhost:8080/"
        },
        "id": "px0o_ByjhFzW",
        "outputId": "1c39ba4e-5cfc-4102-c912-8478e6f2e5c0"
      },
      "source": [
        "n = 1\n",
        "while n < 10:\n",
        "    print(n)\n",
        "    n += 2"
      ],
      "execution_count": 6,
      "outputs": [
        {
          "output_type": "stream",
          "text": [
            "1\n",
            "3\n",
            "5\n",
            "7\n",
            "9\n"
          ],
          "name": "stdout"
        }
      ]
    },
    {
      "cell_type": "code",
      "metadata": {
        "colab": {
          "base_uri": "https://localhost:8080/"
        },
        "id": "JaNhMNopijfH",
        "outputId": "53ecce1c-9ac0-4517-c91f-e670f3d262a6"
      },
      "source": [
        "n = 0\n",
        "while n < 5:\n",
        "    print(2 * n + 1)\n",
        "    n += 1"
      ],
      "execution_count": 8,
      "outputs": [
        {
          "output_type": "stream",
          "text": [
            "1\n",
            "3\n",
            "5\n",
            "7\n",
            "9\n"
          ],
          "name": "stdout"
        }
      ]
    },
    {
      "cell_type": "markdown",
      "metadata": {
        "id": "kaDemsVn9OY-"
      },
      "source": [
        "아래와 같이 출력\n",
        "\n",
        "```\n",
        "*\n",
        "**\n",
        "***\n",
        "****\n",
        "*****\n",
        "```\n"
      ]
    },
    {
      "cell_type": "code",
      "metadata": {
        "id": "Ue43dVWn9Nyu",
        "colab": {
          "base_uri": "https://localhost:8080/"
        },
        "outputId": "2408e2de-c355-45ee-eeb6-38f387832b0a"
      },
      "source": [
        "n = 1\n",
        "while n <= 5:  # while n < 6:\n",
        "    print('*' * n)\n",
        "    n += 1"
      ],
      "execution_count": 9,
      "outputs": [
        {
          "output_type": "stream",
          "text": [
            "*\n",
            "**\n",
            "***\n",
            "****\n",
            "*****\n"
          ],
          "name": "stdout"
        }
      ]
    },
    {
      "cell_type": "markdown",
      "metadata": {
        "id": "YyAnE4TN9V34"
      },
      "source": [
        "구구단 12단 출력"
      ]
    },
    {
      "cell_type": "code",
      "metadata": {
        "id": "KfkNhP6c9ZEn",
        "colab": {
          "base_uri": "https://localhost:8080/"
        },
        "outputId": "25040f9b-638f-45e7-deff-a32153db6a77"
      },
      "source": [
        "dan = 12\n",
        "n = 1\n",
        "while n <= 12:  # while n < 13:\n",
        "    print(f'{dan} x {n} = {dan * n}')\n",
        "    n += 1"
      ],
      "execution_count": 14,
      "outputs": [
        {
          "output_type": "stream",
          "text": [
            "12 x 1 = 12\n",
            "12 x 2 = 24\n",
            "12 x 3 = 36\n",
            "12 x 4 = 48\n",
            "12 x 5 = 60\n",
            "12 x 6 = 72\n",
            "12 x 7 = 84\n",
            "12 x 8 = 96\n",
            "12 x 9 = 108\n",
            "12 x 10 = 120\n",
            "12 x 11 = 132\n",
            "12 x 12 = 144\n"
          ],
          "name": "stdout"
        }
      ]
    },
    {
      "cell_type": "markdown",
      "metadata": {
        "id": "qYv5YJb5_BnP"
      },
      "source": [
        "# 중첩 while 반복문(nested while loop)"
      ]
    },
    {
      "cell_type": "markdown",
      "metadata": {
        "id": "xATMr96x_IaH"
      },
      "source": [
        "구구단 2단 ~ 9단까지 출력"
      ]
    },
    {
      "cell_type": "code",
      "metadata": {
        "id": "prfcI_Zi_HnQ",
        "colab": {
          "base_uri": "https://localhost:8080/"
        },
        "outputId": "e0949f13-1d2f-428b-c0a1-dccba479bf6b"
      },
      "source": [
        "dan = 2  # 단의 시작값\n",
        "while dan < 10:  # 9단까지\n",
        "    print(f'--- {dan}단 ---')\n",
        "    n = 1  # 단에서 곱하는 숫자 시작값\n",
        "    while n < 10: \n",
        "        print(f'{dan} x {n} = {dan * n}')\n",
        "        n += 1\n",
        "    dan += 1"
      ],
      "execution_count": 19,
      "outputs": [
        {
          "output_type": "stream",
          "text": [
            "--- 2단 ---\n",
            "2 x 1 = 2\n",
            "2 x 2 = 4\n",
            "2 x 3 = 6\n",
            "2 x 4 = 8\n",
            "2 x 5 = 10\n",
            "2 x 6 = 12\n",
            "2 x 7 = 14\n",
            "2 x 8 = 16\n",
            "2 x 9 = 18\n",
            "--- 3단 ---\n",
            "3 x 1 = 3\n",
            "3 x 2 = 6\n",
            "3 x 3 = 9\n",
            "3 x 4 = 12\n",
            "3 x 5 = 15\n",
            "3 x 6 = 18\n",
            "3 x 7 = 21\n",
            "3 x 8 = 24\n",
            "3 x 9 = 27\n",
            "--- 4단 ---\n",
            "4 x 1 = 4\n",
            "4 x 2 = 8\n",
            "4 x 3 = 12\n",
            "4 x 4 = 16\n",
            "4 x 5 = 20\n",
            "4 x 6 = 24\n",
            "4 x 7 = 28\n",
            "4 x 8 = 32\n",
            "4 x 9 = 36\n",
            "--- 5단 ---\n",
            "5 x 1 = 5\n",
            "5 x 2 = 10\n",
            "5 x 3 = 15\n",
            "5 x 4 = 20\n",
            "5 x 5 = 25\n",
            "5 x 6 = 30\n",
            "5 x 7 = 35\n",
            "5 x 8 = 40\n",
            "5 x 9 = 45\n",
            "--- 6단 ---\n",
            "6 x 1 = 6\n",
            "6 x 2 = 12\n",
            "6 x 3 = 18\n",
            "6 x 4 = 24\n",
            "6 x 5 = 30\n",
            "6 x 6 = 36\n",
            "6 x 7 = 42\n",
            "6 x 8 = 48\n",
            "6 x 9 = 54\n",
            "--- 7단 ---\n",
            "7 x 1 = 7\n",
            "7 x 2 = 14\n",
            "7 x 3 = 21\n",
            "7 x 4 = 28\n",
            "7 x 5 = 35\n",
            "7 x 6 = 42\n",
            "7 x 7 = 49\n",
            "7 x 8 = 56\n",
            "7 x 9 = 63\n",
            "--- 8단 ---\n",
            "8 x 1 = 8\n",
            "8 x 2 = 16\n",
            "8 x 3 = 24\n",
            "8 x 4 = 32\n",
            "8 x 5 = 40\n",
            "8 x 6 = 48\n",
            "8 x 7 = 56\n",
            "8 x 8 = 64\n",
            "8 x 9 = 72\n",
            "--- 9단 ---\n",
            "9 x 1 = 9\n",
            "9 x 2 = 18\n",
            "9 x 3 = 27\n",
            "9 x 4 = 36\n",
            "9 x 5 = 45\n",
            "9 x 6 = 54\n",
            "9 x 7 = 63\n",
            "9 x 8 = 72\n",
            "9 x 9 = 81\n"
          ],
          "name": "stdout"
        }
      ]
    },
    {
      "cell_type": "markdown",
      "metadata": {
        "id": "03qLRy7M_LtO"
      },
      "source": [
        "# while 문에서 break 사용하기"
      ]
    },
    {
      "cell_type": "markdown",
      "metadata": {
        "id": "jL45hPTu_Rqm"
      },
      "source": [
        "다음과 같이 출력\n",
        "\n",
        "```\n",
        "2 x 1 = 2\n",
        "2 x 2 = 4\n",
        "--------------------\n",
        "3 x 1 = 3\n",
        "3 x 2 = 6\n",
        "3 x 3 = 9\n",
        "--------------------\n",
        "4 x 1 = 4\n",
        "4 x 2 = 8\n",
        "4 x 3 = 12\n",
        "4 x 4 = 16\n",
        "--------------------\n",
        "...\n",
        "--------------------\n",
        "9 x 1 = 9\n",
        "...\n",
        "9 x 9 = 81\n",
        "--------------------\n",
        "```"
      ]
    },
    {
      "cell_type": "code",
      "metadata": {
        "id": "BXvn5ow4_ez_",
        "colab": {
          "base_uri": "https://localhost:8080/"
        },
        "outputId": "07490474-1194-4bc2-e898-ba583f5a9362"
      },
      "source": [
        "dan = 2\n",
        "while dan < 10:\n",
        "    n = 1\n",
        "    while n < 10:\n",
        "        print(f'{dan} x {n} = {dan * n}')\n",
        "        if dan == n:\n",
        "            break\n",
        "        n += 1\n",
        "        \n",
        "    print('-' * 20)\n",
        "    dan += 1"
      ],
      "execution_count": 24,
      "outputs": [
        {
          "output_type": "stream",
          "text": [
            "2 x 1 = 2\n",
            "2 x 2 = 4\n",
            "--------------------\n",
            "3 x 1 = 3\n",
            "3 x 2 = 6\n",
            "3 x 3 = 9\n",
            "--------------------\n",
            "4 x 1 = 4\n",
            "4 x 2 = 8\n",
            "4 x 3 = 12\n",
            "4 x 4 = 16\n",
            "--------------------\n",
            "5 x 1 = 5\n",
            "5 x 2 = 10\n",
            "5 x 3 = 15\n",
            "5 x 4 = 20\n",
            "5 x 5 = 25\n",
            "--------------------\n",
            "6 x 1 = 6\n",
            "6 x 2 = 12\n",
            "6 x 3 = 18\n",
            "6 x 4 = 24\n",
            "6 x 5 = 30\n",
            "6 x 6 = 36\n",
            "--------------------\n",
            "7 x 1 = 7\n",
            "7 x 2 = 14\n",
            "7 x 3 = 21\n",
            "7 x 4 = 28\n",
            "7 x 5 = 35\n",
            "7 x 6 = 42\n",
            "7 x 7 = 49\n",
            "--------------------\n",
            "8 x 1 = 8\n",
            "8 x 2 = 16\n",
            "8 x 3 = 24\n",
            "8 x 4 = 32\n",
            "8 x 5 = 40\n",
            "8 x 6 = 48\n",
            "8 x 7 = 56\n",
            "8 x 8 = 64\n",
            "--------------------\n",
            "9 x 1 = 9\n",
            "9 x 2 = 18\n",
            "9 x 3 = 27\n",
            "9 x 4 = 36\n",
            "9 x 5 = 45\n",
            "9 x 6 = 54\n",
            "9 x 7 = 63\n",
            "9 x 8 = 72\n",
            "9 x 9 = 81\n",
            "--------------------\n"
          ],
          "name": "stdout"
        }
      ]
    },
    {
      "cell_type": "code",
      "metadata": {
        "colab": {
          "base_uri": "https://localhost:8080/"
        },
        "id": "Ez6TxzmfuX3u",
        "outputId": "05cf0cb0-308c-48bc-c76e-a443d3563cc9"
      },
      "source": [
        "dan = 2\n",
        "while dan < 10:\n",
        "    n = 1\n",
        "    while n <= dan:\n",
        "        print(f'{dan} x {n} = {dan * n}')\n",
        "        n += 1\n",
        "    print('-' * 20)\n",
        "    dan += 1"
      ],
      "execution_count": 25,
      "outputs": [
        {
          "output_type": "stream",
          "text": [
            "2 x 1 = 2\n",
            "2 x 2 = 4\n",
            "--------------------\n",
            "3 x 1 = 3\n",
            "3 x 2 = 6\n",
            "3 x 3 = 9\n",
            "--------------------\n",
            "4 x 1 = 4\n",
            "4 x 2 = 8\n",
            "4 x 3 = 12\n",
            "4 x 4 = 16\n",
            "--------------------\n",
            "5 x 1 = 5\n",
            "5 x 2 = 10\n",
            "5 x 3 = 15\n",
            "5 x 4 = 20\n",
            "5 x 5 = 25\n",
            "--------------------\n",
            "6 x 1 = 6\n",
            "6 x 2 = 12\n",
            "6 x 3 = 18\n",
            "6 x 4 = 24\n",
            "6 x 5 = 30\n",
            "6 x 6 = 36\n",
            "--------------------\n",
            "7 x 1 = 7\n",
            "7 x 2 = 14\n",
            "7 x 3 = 21\n",
            "7 x 4 = 28\n",
            "7 x 5 = 35\n",
            "7 x 6 = 42\n",
            "7 x 7 = 49\n",
            "--------------------\n",
            "8 x 1 = 8\n",
            "8 x 2 = 16\n",
            "8 x 3 = 24\n",
            "8 x 4 = 32\n",
            "8 x 5 = 40\n",
            "8 x 6 = 48\n",
            "8 x 7 = 56\n",
            "8 x 8 = 64\n",
            "--------------------\n",
            "9 x 1 = 9\n",
            "9 x 2 = 18\n",
            "9 x 3 = 27\n",
            "9 x 4 = 36\n",
            "9 x 5 = 45\n",
            "9 x 6 = 54\n",
            "9 x 7 = 63\n",
            "9 x 8 = 72\n",
            "9 x 9 = 81\n",
            "--------------------\n"
          ],
          "name": "stdout"
        }
      ]
    },
    {
      "cell_type": "markdown",
      "metadata": {
        "id": "ZrkmYRWIv6C1"
      },
      "source": [
        "# 무한 반복문와 break"
      ]
    },
    {
      "cell_type": "code",
      "metadata": {
        "colab": {
          "base_uri": "https://localhost:8080/"
        },
        "id": "KU6M1V36v8tW",
        "outputId": "a4c13873-035c-4677-aeee-3fda937e8b77"
      },
      "source": [
        "while True:  # 무한 루프(infinite loop)\n",
        "    msg = input('메시지를 입력하세요. 멈추고 싶으면 Q를 입력하세요>>> ')\n",
        "    print(msg)\n",
        "    if msg == 'Q':  # 무한 루프를 종료시킬 조건\n",
        "        break"
      ],
      "execution_count": 27,
      "outputs": [
        {
          "output_type": "stream",
          "text": [
            "메시지를 입력하세요. 멈추고 싶으면 Q를 입력하세요>>> 안녕하세요\n",
            "안녕하세요\n",
            "메시지를 입력하세요. 멈추고 싶으면 Q를 입력하세요>>> 반복문 이해되시죠?\n",
            "반복문 이해되시죠?\n",
            "메시지를 입력하세요. 멈추고 싶으면 Q를 입력하세요>>> Q\n",
            "Q\n"
          ],
          "name": "stdout"
        }
      ]
    }
  ]
}
{
  "nbformat": 4,
  "nbformat_minor": 0,
  "metadata": {
    "colab": {
      "name": "py06_while.ipynb",
      "provenance": [],
      "collapsed_sections": [],
      "authorship_tag": "ABX9TyOX165zcvpYscI1to4nA34S",
      "include_colab_link": true
    },
    "kernelspec": {
      "name": "python3",
      "display_name": "Python 3"
    },
    "language_info": {
      "name": "python"
    }
  },
  "cells": [
    {
      "cell_type": "markdown",
      "metadata": {
        "id": "view-in-github",
        "colab_type": "text"
      },
      "source": [
        "<a href=\"https://colab.research.google.com/github/JakeOh/202105_itw_bd26/blob/main/lab_python/py06_while.ipynb\" target=\"_parent\"><img src=\"https://colab.research.google.com/assets/colab-badge.svg\" alt=\"Open In Colab\"/></a>"
      ]
    },
    {
      "cell_type": "markdown",
      "metadata": {
        "id": "RG4VbSv55lS2"
      },
      "source": [
        "# while 반복문"
      ]
    },
    {
      "cell_type": "markdown",
      "metadata": {
        "id": "yc189Qo-5s_O"
      },
      "source": [
        "\n",
        "\n",
        "```\n",
        "[초기화 문장]\n",
        "while 조건식:\n",
        "    조건식을 만족하는 동안에(조건식이 True인 동안에) 반복할 코드 블록(문장들)\n",
        "    [조건을 변경할 수 있는 문장]\n",
        "```\n",
        "\n"
      ]
    },
    {
      "cell_type": "markdown",
      "metadata": {
        "id": "Cx2AiX6n6gz9"
      },
      "source": [
        "1부터 5까지 한줄씩 출력"
      ]
    },
    {
      "cell_type": "code",
      "metadata": {
        "colab": {
          "base_uri": "https://localhost:8080/"
        },
        "id": "mhrJSC5k5gLz",
        "outputId": "588ab409-7ef8-4527-b3c2-6663ec16c44b"
      },
      "source": [
        "for x in range(1, 6):\n",
        "    print(x)"
      ],
      "execution_count": 1,
      "outputs": [
        {
          "output_type": "stream",
          "text": [
            "1\n",
            "2\n",
            "3\n",
            "4\n",
            "5\n"
          ],
          "name": "stdout"
        }
      ]
    },
    {
      "cell_type": "code",
      "metadata": {
        "colab": {
          "base_uri": "https://localhost:8080/"
        },
        "id": "Q-m-Ixpp6eXw",
        "outputId": "14215fe3-0051-4051-de5b-3a254ddf68f0"
      },
      "source": [
        "x = 1\n",
        "while x < 6:\n",
        "    print(x)\n",
        "    x = x + 1"
      ],
      "execution_count": 3,
      "outputs": [
        {
          "output_type": "stream",
          "text": [
            "1\n",
            "2\n",
            "3\n",
            "4\n",
            "5\n"
          ],
          "name": "stdout"
        }
      ]
    },
    {
      "cell_type": "markdown",
      "metadata": {
        "id": "4-l8w9Ef9GGm"
      },
      "source": [
        "10 미만의 홀수를 출력"
      ]
    },
    {
      "cell_type": "code",
      "metadata": {
        "id": "2ZX5Dkz69Mw-"
      },
      "source": [
        ""
      ],
      "execution_count": null,
      "outputs": []
    },
    {
      "cell_type": "markdown",
      "metadata": {
        "id": "kaDemsVn9OY-"
      },
      "source": [
        "아래와 같이 출력\n",
        "\n",
        "```\n",
        "*\n",
        "**\n",
        "***\n",
        "****\n",
        "*****\n",
        "```\n"
      ]
    },
    {
      "cell_type": "code",
      "metadata": {
        "id": "Ue43dVWn9Nyu"
      },
      "source": [
        ""
      ],
      "execution_count": null,
      "outputs": []
    },
    {
      "cell_type": "markdown",
      "metadata": {
        "id": "YyAnE4TN9V34"
      },
      "source": [
        "구구단 12단 출력"
      ]
    },
    {
      "cell_type": "code",
      "metadata": {
        "id": "KfkNhP6c9ZEn"
      },
      "source": [
        ""
      ],
      "execution_count": null,
      "outputs": []
    }
  ]
}
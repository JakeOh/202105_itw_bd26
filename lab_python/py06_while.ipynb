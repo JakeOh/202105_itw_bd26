{
  "nbformat": 4,
  "nbformat_minor": 0,
  "metadata": {
    "colab": {
      "name": "py06_while.ipynb",
      "provenance": [],
      "collapsed_sections": [],
      "authorship_tag": "ABX9TyOtfAXMgopAQmyUA1Jcz2yg",
      "include_colab_link": true
    },
    "kernelspec": {
      "name": "python3",
      "display_name": "Python 3"
    },
    "language_info": {
      "name": "python"
    }
  },
  "cells": [
    {
      "cell_type": "markdown",
      "metadata": {
        "id": "view-in-github",
        "colab_type": "text"
      },
      "source": [
        "<a href=\"https://colab.research.google.com/github/JakeOh/202105_itw_bd26/blob/main/lab_python/py06_while.ipynb\" target=\"_parent\"><img src=\"https://colab.research.google.com/assets/colab-badge.svg\" alt=\"Open In Colab\"/></a>"
      ]
    },
    {
      "cell_type": "markdown",
      "metadata": {
        "id": "RG4VbSv55lS2"
      },
      "source": [
        "# while 반복문"
      ]
    },
    {
      "cell_type": "markdown",
      "metadata": {
        "id": "yc189Qo-5s_O"
      },
      "source": [
        "\n",
        "\n",
        "```\n",
        "[초기화 문장]\n",
        "while 조건식:\n",
        "    조건식을 만족하는 동안에(조건식이 True인 동안에) 반복할 코드 블록(문장들)\n",
        "    [조건을 변경할 수 있는 문장]\n",
        "```\n",
        "\n"
      ]
    },
    {
      "cell_type": "markdown",
      "metadata": {
        "id": "Cx2AiX6n6gz9"
      },
      "source": [
        "1부터 5까지 한줄씩 출력"
      ]
    },
    {
      "cell_type": "code",
      "metadata": {
        "colab": {
          "base_uri": "https://localhost:8080/"
        },
        "id": "mhrJSC5k5gLz",
        "outputId": "588ab409-7ef8-4527-b3c2-6663ec16c44b"
      },
      "source": [
        "for x in range(1, 6):\n",
        "    print(x)"
      ],
      "execution_count": 1,
      "outputs": [
        {
          "output_type": "stream",
          "text": [
            "1\n",
            "2\n",
            "3\n",
            "4\n",
            "5\n"
          ],
          "name": "stdout"
        }
      ]
    },
    {
      "cell_type": "code",
      "metadata": {
        "colab": {
          "base_uri": "https://localhost:8080/"
        },
        "id": "Q-m-Ixpp6eXw",
        "outputId": "1a3ba875-ac43-40ca-a906-455e843a06f5"
      },
      "source": [
        "x = 1\n",
        "while x < 6:\n",
        "    print(x)\n",
        "    # x = x + 1\n",
        "    x += 1  # 복합 할당 연산자(compound assignment operator)"
      ],
      "execution_count": 4,
      "outputs": [
        {
          "output_type": "stream",
          "text": [
            "1\n",
            "2\n",
            "3\n",
            "4\n",
            "5\n"
          ],
          "name": "stdout"
        }
      ]
    },
    {
      "cell_type": "markdown",
      "metadata": {
        "id": "FejI2Jcz--uv"
      },
      "source": [
        "## Exercises"
      ]
    },
    {
      "cell_type": "markdown",
      "metadata": {
        "id": "4-l8w9Ef9GGm"
      },
      "source": [
        "10 미만의 홀수를 출력"
      ]
    },
    {
      "cell_type": "code",
      "metadata": {
        "id": "2ZX5Dkz69Mw-"
      },
      "source": [
        ""
      ],
      "execution_count": null,
      "outputs": []
    },
    {
      "cell_type": "markdown",
      "metadata": {
        "id": "kaDemsVn9OY-"
      },
      "source": [
        "아래와 같이 출력\n",
        "\n",
        "```\n",
        "*\n",
        "**\n",
        "***\n",
        "****\n",
        "*****\n",
        "```\n"
      ]
    },
    {
      "cell_type": "code",
      "metadata": {
        "id": "Ue43dVWn9Nyu"
      },
      "source": [
        ""
      ],
      "execution_count": null,
      "outputs": []
    },
    {
      "cell_type": "markdown",
      "metadata": {
        "id": "YyAnE4TN9V34"
      },
      "source": [
        "구구단 12단 출력"
      ]
    },
    {
      "cell_type": "code",
      "metadata": {
        "id": "KfkNhP6c9ZEn"
      },
      "source": [
        ""
      ],
      "execution_count": null,
      "outputs": []
    },
    {
      "cell_type": "markdown",
      "metadata": {
        "id": "qYv5YJb5_BnP"
      },
      "source": [
        "# 중첩 while 반복문(nested while loop)"
      ]
    },
    {
      "cell_type": "markdown",
      "metadata": {
        "id": "xATMr96x_IaH"
      },
      "source": [
        "구구단 2단 ~ 9단까지 출력"
      ]
    },
    {
      "cell_type": "code",
      "metadata": {
        "id": "prfcI_Zi_HnQ"
      },
      "source": [
        ""
      ],
      "execution_count": null,
      "outputs": []
    },
    {
      "cell_type": "markdown",
      "metadata": {
        "id": "03qLRy7M_LtO"
      },
      "source": [
        "# while 문에서 break 사용하기"
      ]
    },
    {
      "cell_type": "markdown",
      "metadata": {
        "id": "jL45hPTu_Rqm"
      },
      "source": [
        "다음과 같이 출력\n",
        "\n",
        "```\n",
        "2 x 1 = 2\n",
        "2 x 2 = 4\n",
        "--------------------\n",
        "3 x 1 = 3\n",
        "3 x 2 = 6\n",
        "3 x 3 = 9\n",
        "--------------------\n",
        "4 x 1 = 4\n",
        "4 x 2 = 8\n",
        "4 x 3 = 12\n",
        "4 x 4 = 16\n",
        "--------------------\n",
        "...\n",
        "--------------------\n",
        "9 x 1 = 9\n",
        "...\n",
        "9 x 9 = 81\n",
        "--------------------\n",
        "```"
      ]
    },
    {
      "cell_type": "code",
      "metadata": {
        "id": "BXvn5ow4_ez_"
      },
      "source": [
        ""
      ],
      "execution_count": null,
      "outputs": []
    }
  ]
}
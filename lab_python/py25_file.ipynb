{
  "nbformat": 4,
  "nbformat_minor": 0,
  "metadata": {
    "colab": {
      "name": "py25_file.ipynb",
      "provenance": [],
      "authorship_tag": "ABX9TyMFXI21bUCHJsg2V0l6dgVY",
      "include_colab_link": true
    },
    "kernelspec": {
      "name": "python3",
      "display_name": "Python 3"
    },
    "language_info": {
      "name": "python"
    }
  },
  "cells": [
    {
      "cell_type": "markdown",
      "metadata": {
        "id": "view-in-github",
        "colab_type": "text"
      },
      "source": [
        "<a href=\"https://colab.research.google.com/github/JakeOh/202105_itw_bd26/blob/main/lab_python/py25_file.ipynb\" target=\"_parent\"><img src=\"https://colab.research.google.com/assets/colab-badge.svg\" alt=\"Open In Colab\"/></a>"
      ]
    },
    {
      "cell_type": "markdown",
      "metadata": {
        "id": "bxn63ctUG5rC"
      },
      "source": [
        "# 파일 쓰기\n",
        "\n",
        "1. 파일 열기(open)\n",
        "2. 파일 내용 쓰기(write)\n",
        "3. 파일 닫기(close)\n"
      ]
    },
    {
      "cell_type": "code",
      "metadata": {
        "colab": {
          "base_uri": "https://localhost:8080/"
        },
        "id": "SWLh6D9BFS0P",
        "outputId": "2d39bfad-ea08-4518-8c2b-e1e3799f28b6"
      },
      "source": [
        "# open(file, mode='rt', ...): 파일 열기\n",
        "#   file: 디렉토리(폴더)를 포함한 파일 이름\n",
        "#   mode: r(read: 읽기, 기본값), w(write: 쓰기), a(append: 추가), t(text: 텍스트, 기본값), b(binary: 이진)\n",
        "\n",
        "# 1) 파일 열기\n",
        "f = open(file='hello.txt', mode='w')  # mode='wt', 텍스트 모드가 기본값이므로 t는 생략 가능\n",
        "print(f)\n",
        "\n",
        "# 오픈된 파일 객체의 메서드를 사용해서 read, write, close를 수행.\n",
        "# 2) 파일 쓰기(write)\n",
        "f.write('Hello!\\n')  # '\\n': new line(줄바꿈)\n",
        "f.write('안녕하세요!\\n')\n",
        "\n",
        "# 3) 파일 닫기\n",
        "f.close()"
      ],
      "execution_count": 3,
      "outputs": [
        {
          "output_type": "stream",
          "text": [
            "<_io.TextIOWrapper name='hello.txt' mode='w' encoding='UTF-8'>\n"
          ],
          "name": "stdout"
        }
      ]
    }
  ]
}
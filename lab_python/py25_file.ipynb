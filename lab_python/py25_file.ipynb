{
  "nbformat": 4,
  "nbformat_minor": 0,
  "metadata": {
    "colab": {
      "name": "py25_file.ipynb",
      "provenance": [],
      "collapsed_sections": [],
      "mount_file_id": "17ieHNVYKQgQGtq-XPXtWu8xx3v0ton4l",
      "authorship_tag": "ABX9TyOPEa8EkmiIwyrgtsqZfKmG",
      "include_colab_link": true
    },
    "kernelspec": {
      "name": "python3",
      "display_name": "Python 3"
    },
    "language_info": {
      "name": "python"
    }
  },
  "cells": [
    {
      "cell_type": "markdown",
      "metadata": {
        "id": "view-in-github",
        "colab_type": "text"
      },
      "source": [
        "<a href=\"https://colab.research.google.com/github/JakeOh/202105_itw_bd26/blob/main/lab_python/py25_file.ipynb\" target=\"_parent\"><img src=\"https://colab.research.google.com/assets/colab-badge.svg\" alt=\"Open In Colab\"/></a>"
      ]
    },
    {
      "cell_type": "markdown",
      "metadata": {
        "id": "bxn63ctUG5rC"
      },
      "source": [
        "# 파일 쓰기\n",
        "\n",
        "1. 파일 열기(open)\n",
        "2. 파일 내용 쓰기(write)\n",
        "3. 파일 닫기(close)\n"
      ]
    },
    {
      "cell_type": "code",
      "metadata": {
        "colab": {
          "base_uri": "https://localhost:8080/"
        },
        "id": "SWLh6D9BFS0P",
        "outputId": "2d39bfad-ea08-4518-8c2b-e1e3799f28b6"
      },
      "source": [
        "# open(file, mode='rt', ...): 파일 열기\n",
        "#   file: 디렉토리(폴더)를 포함한 파일 이름\n",
        "#   mode: r(read: 읽기, 기본값), w(write: 쓰기), a(append: 추가), t(text: 텍스트, 기본값), b(binary: 이진)\n",
        "\n",
        "# 1) 파일 열기\n",
        "f = open(file='hello.txt', mode='w')  # mode='wt', 텍스트 모드가 기본값이므로 t는 생략 가능\n",
        "print(f)\n",
        "\n",
        "# 오픈된 파일 객체의 메서드를 사용해서 read, write, close를 수행.\n",
        "# 2) 파일 쓰기(write)\n",
        "f.write('Hello!\\n')  # '\\n': new line(줄바꿈)\n",
        "f.write('안녕하세요!\\n')\n",
        "\n",
        "# 3) 파일 닫기\n",
        "f.close()"
      ],
      "execution_count": 3,
      "outputs": [
        {
          "output_type": "stream",
          "text": [
            "<_io.TextIOWrapper name='hello.txt' mode='w' encoding='UTF-8'>\n"
          ],
          "name": "stdout"
        }
      ]
    },
    {
      "cell_type": "code",
      "metadata": {
        "id": "A7DEfBqhTAet"
      },
      "source": [
        "# with 함수() as 변수:\n",
        "with open(file='hello.txt', mode='a') as f:\n",
        "    # mode='at': append text\n",
        "    f.write('파일 append 테스트\\n')\n",
        "    f.write('이번 시간이 끝나면 점심 시간입니다...\\n')\n",
        "# with 블록이 끝나면 open된 파일 객체 f의 close 메서드가 자동으로 호출됨."
      ],
      "execution_count": 4,
      "outputs": []
    },
    {
      "cell_type": "markdown",
      "metadata": {
        "id": "28owtAXaUp70"
      },
      "source": [
        "# 파일 읽기\n",
        "\n",
        "1. open\n",
        "2. read\n",
        "3. close\n"
      ]
    },
    {
      "cell_type": "code",
      "metadata": {
        "colab": {
          "base_uri": "https://localhost:8080/"
        },
        "id": "qbZZTot7U3-D",
        "outputId": "5bbffe0c-676e-4cfe-9452-5edb82132a33"
      },
      "source": [
        "with open(file='hello.txt') as f:\n",
        "    # mode='rt': read text. 기본값이므로 생략 가능.\n",
        "    line = f.readline().strip()  \n",
        "    # 파일에서 한줄을 읽고, 문자열 앞뒤의 공백 문자를 제거.\n",
        "    print(line)"
      ],
      "execution_count": 6,
      "outputs": [
        {
          "output_type": "stream",
          "text": [
            "Hello!\n"
          ],
          "name": "stdout"
        }
      ]
    },
    {
      "cell_type": "code",
      "metadata": {
        "colab": {
          "base_uri": "https://localhost:8080/"
        },
        "id": "FqYZT6vAW1ks",
        "outputId": "1bf9fd3a-9290-452e-a605-385cdfcd158a"
      },
      "source": [
        "# open()으로 생성된 파일 객체는 iterable 타입 -> for-in 구문에서 사용 가능\n",
        "with open(file='hello.txt') as f:\n",
        "    for line in f:  # f.readline() 자동으로 호출됨\n",
        "        print(line.strip())"
      ],
      "execution_count": 9,
      "outputs": [
        {
          "output_type": "stream",
          "text": [
            "Hello!\n",
            "안녕하세요!\n",
            "파일 append 테스트\n",
            "이번 시간이 끝나면 점심 시간입니다...\n"
          ],
          "name": "stdout"
        }
      ]
    },
    {
      "cell_type": "markdown",
      "metadata": {
        "id": "T4ubodvPYFEz"
      },
      "source": [
        "# Google Drive에 파일 쓰기/읽기\n",
        "\n",
        "* Colab에서 write한 파일은 Colab 가상 머신의 디렉토리에 저장됨.\n",
        "* Colab 세션이 종료되면 저장했던 파일들은 삭제됨.\n",
        "* Colab은 Google Drive를 연동할 수 있음. (Google Drive를 연결할 수 있음.) - 마운드(mount)"
      ]
    },
    {
      "cell_type": "code",
      "metadata": {
        "id": "d0LcjeHva8sD"
      },
      "source": [
        "dir_path = '/content/drive/MyDrive/Colab Notebooks/lab_python'"
      ],
      "execution_count": 4,
      "outputs": []
    },
    {
      "cell_type": "code",
      "metadata": {
        "id": "VsTQHRQcbHNQ"
      },
      "source": [
        "file_name = 'emails.txt'"
      ],
      "execution_count": 5,
      "outputs": []
    },
    {
      "cell_type": "code",
      "metadata": {
        "id": "7vClEtiKuo0-"
      },
      "source": [
        "import os  # os.path.join() 함수를 사용하기 위해서"
      ],
      "execution_count": 6,
      "outputs": []
    },
    {
      "cell_type": "code",
      "metadata": {
        "colab": {
          "base_uri": "https://localhost:8080/"
        },
        "id": "xQe_9ATevEZO",
        "outputId": "de159324-4af7-4348-e988-2c23cafb1456"
      },
      "source": [
        "# os.path.join(): 디렉토리 이름과 파일 이름을 파일 구분자(file separator)를 사용해서 이어줌.\n",
        "file_path = os.path.join(dir_path, file_name)\n",
        "print(file_path)"
      ],
      "execution_count": 7,
      "outputs": [
        {
          "output_type": "stream",
          "text": [
            "/content/drive/MyDrive/Colab Notebooks/lab_python/emails.txt\n"
          ],
          "name": "stdout"
        }
      ]
    },
    {
      "cell_type": "code",
      "metadata": {
        "id": "9TZt3BLewTjL"
      },
      "source": [
        "# write text 모드로 파일을 오픈\n",
        "with open(file=file_path, mode='w') as f:\n",
        "    f.write('hdg@naver.com\\n')\n",
        "    f.write('gildong.hong@gmail.com\\n')\n",
        "    f.write('gildong@daum.net\\n')"
      ],
      "execution_count": 9,
      "outputs": []
    },
    {
      "cell_type": "code",
      "metadata": {
        "colab": {
          "base_uri": "https://localhost:8080/"
        },
        "id": "8mlp0Mc2w9Gr",
        "outputId": "2a953f01-4d97-46dc-b5d4-fff67f938e32"
      },
      "source": [
        "# google drive에 저장한 emails.txt 파일을 읽어서 한 줄씩 출력\n",
        "with open(file=file_path) as f:\n",
        "    # 파일을 read text 모드로 오픈\n",
        "    for line in f:\n",
        "        print(line.strip())"
      ],
      "execution_count": 11,
      "outputs": [
        {
          "output_type": "stream",
          "text": [
            "hdg@naver.com\n",
            "gildong.hong@gmail.com\n",
            "gildong@daum.net\n"
          ],
          "name": "stdout"
        }
      ]
    },
    {
      "cell_type": "code",
      "metadata": {
        "colab": {
          "base_uri": "https://localhost:8080/"
        },
        "id": "XH-vjkUexjrr",
        "outputId": "44e4cde9-12ea-4f27-cc9b-0366e376e98f"
      },
      "source": [
        "# google drive에 저장한 emails.txt 파일을 읽어서, 이메일 주소의 도메인(domain)들만 저장하는 리스트를 생성, 출력\n",
        "with open(file=file_path, mode='r') as f:\n",
        "    domains = []  # 도메인 주소들을 저장할 리스트\n",
        "    for line in f:  # 파일에서 한 줄씩 읽으면서\n",
        "        # 라인의 앞뒤 공백(\\n) 제거 -> @를 구분자로해서 단어를 추출한 리스트 -> 리스트의 인덱스 1번 아이템 -> append\n",
        "        domains.append(line.strip().split(sep='@')[1])\n",
        "\n",
        "print(domains)"
      ],
      "execution_count": 14,
      "outputs": [
        {
          "output_type": "stream",
          "text": [
            "['naver.com', 'gmail.com', 'daum.net']\n"
          ],
          "name": "stdout"
        }
      ]
    },
    {
      "cell_type": "code",
      "metadata": {
        "colab": {
          "base_uri": "https://localhost:8080/"
        },
        "id": "gIfMbegT1nXZ",
        "outputId": "2803a000-2cb6-4252-a7cb-5b0919025cd5"
      },
      "source": [
        "with open(file_path, 'r') as f:\n",
        "    domains = [line.strip().split('@')[1] for line in f]\n",
        "\n",
        "print(domains)"
      ],
      "execution_count": 18,
      "outputs": [
        {
          "output_type": "stream",
          "text": [
            "['naver.com', 'gmail.com', 'daum.net']\n"
          ],
          "name": "stdout"
        }
      ]
    },
    {
      "cell_type": "markdown",
      "metadata": {
        "id": "KOWnFe4i3AvQ"
      },
      "source": [
        "# Binary File 읽기/쓰기"
      ]
    },
    {
      "cell_type": "markdown",
      "metadata": {
        "id": "Ql18sLBe3dkX"
      },
      "source": [
        "**pickle**\n",
        "\n",
        "* Python에서 객체(object)를 이진 데이터(binary data) 형식으로 파일 읽기/쓰기를 할 때 사용되는 타입.\n",
        "* Python의 dict 타입을 파일로 저장할 수 있고, 파일의 내용을 읽어서 dict 타입으로 변환할 수 있음.\n",
        "* `pickle.dump(object, file)`: object를 file에 씀(write).\n",
        "* `pickle.load(file)`: file에서 이진 데이터를 읽어서 객체(object)를 리턴.\n"
      ]
    },
    {
      "cell_type": "code",
      "metadata": {
        "id": "BzZ3X_fj7hmn"
      },
      "source": [
        "import pickle  # pickle 모듈 불러오기"
      ],
      "execution_count": 19,
      "outputs": []
    },
    {
      "cell_type": "code",
      "metadata": {
        "colab": {
          "base_uri": "https://localhost:8080/"
        },
        "id": "uYcS7kfX7wFi",
        "outputId": "09f62e13-56de-4c42-c820-6a4a6cfd7a65"
      },
      "source": [
        "# 파일에 쓰기 위한 dict 객체 생성\n",
        "ssam = {\n",
        "    'name': '오쌤',\n",
        "    'company': '아이티윌',\n",
        "    'phone': ['010-1234-5678', '02-0000-5678'],\n",
        "    'email': {'company': 'jake@itwill.co.kr', 'personal': 'jake@gmail.com'}\n",
        "}\n",
        "print(ssam)"
      ],
      "execution_count": 20,
      "outputs": [
        {
          "output_type": "stream",
          "text": [
            "{'name': '오쌤', 'company': '아이티윌', 'phone': ['010-1234-5678', '02-0000-5678'], 'email': {'company': 'jake@itwill.co.kr', 'personal': 'jake@gmail.com'}}\n"
          ],
          "name": "stdout"
        }
      ]
    },
    {
      "cell_type": "markdown",
      "metadata": {
        "id": "6_5sbTLj8lX-"
      },
      "source": [
        "ssam dict 객체를 pickle 형식의 파일에 저장(쓰기)"
      ]
    },
    {
      "cell_type": "code",
      "metadata": {
        "id": "ZopqhBJ58si_"
      },
      "source": [
        "file_name = 'person.pickle'\n",
        "with open(file_name, mode='wb') as f:  # 파일을 write binary 모드로 오픈\n",
        "    pickle.dump(ssam, f)  # 파일 f에 ssam 객체를 저장 "
      ],
      "execution_count": 25,
      "outputs": []
    },
    {
      "cell_type": "markdown",
      "metadata": {
        "id": "RcOJCRjA-V2l"
      },
      "source": [
        "pickle 파일을 읽어서 저장된 내용을 객체로 생성"
      ]
    },
    {
      "cell_type": "code",
      "metadata": {
        "colab": {
          "base_uri": "https://localhost:8080/"
        },
        "id": "phCFIBBd9L_O",
        "outputId": "b33c5057-c8fa-4c13-9075-e8bfd5049463"
      },
      "source": [
        "with open(file_name, mode='rb') as f:  # 파일을 read binary 모드로 오픈\n",
        "    obj = pickle.load(f)\n",
        "\n",
        "print(obj)"
      ],
      "execution_count": 26,
      "outputs": [
        {
          "output_type": "stream",
          "text": [
            "{'name': '오쌤', 'company': '아이티윌', 'phone': ['010-1234-5678', '02-0000-5678'], 'email': {'company': 'jake@itwill.co.kr', 'personal': 'jake@gmail.com'}}\n"
          ],
          "name": "stdout"
        }
      ]
    },
    {
      "cell_type": "code",
      "metadata": {
        "id": "Mf7Xff2k_cVl"
      },
      "source": [
        "class Score:\n",
        "    def __init__(self, korean=0, english=0, math=0):\n",
        "        self.korean = korean\n",
        "        self.english = english\n",
        "        self.math = math\n",
        "\n",
        "    def __repr__(self):\n",
        "        return f'Score(korean={self.korean}, english={self.english}, math={self.math})'\n",
        "\n",
        "    def mean(self):\n",
        "        return (self.korean + self.english + self.math) / 3"
      ],
      "execution_count": 27,
      "outputs": []
    },
    {
      "cell_type": "code",
      "metadata": {
        "colab": {
          "base_uri": "https://localhost:8080/"
        },
        "id": "DCWo0nexAb3Y",
        "outputId": "079010b0-0209-4f06-ea57-63d6314ee739"
      },
      "source": [
        "ssam = {'name': '오쌤', 'score': Score(90, 80, 99)}\n",
        "print(ssam)"
      ],
      "execution_count": 29,
      "outputs": [
        {
          "output_type": "stream",
          "text": [
            "{'name': '오쌤', 'score': Score(korean=90, english=80, math=99)}\n"
          ],
          "name": "stdout"
        }
      ]
    },
    {
      "cell_type": "code",
      "metadata": {
        "id": "xkvdwFv4AzRj"
      },
      "source": [
        "with open('score.pickle', mode='wb') as f:\n",
        "    pickle.dump(ssam, f)"
      ],
      "execution_count": 32,
      "outputs": []
    },
    {
      "cell_type": "code",
      "metadata": {
        "colab": {
          "base_uri": "https://localhost:8080/"
        },
        "id": "LUq-tuGSBTBe",
        "outputId": "a1882b5b-c1ad-43fe-c710-4b47d466d87f"
      },
      "source": [
        "with open('score.pickle', mode='rb') as f:\n",
        "    result = pickle.load(f)\n",
        "\n",
        "print(result)\n",
        "print(result['score'].mean())"
      ],
      "execution_count": 35,
      "outputs": [
        {
          "output_type": "stream",
          "text": [
            "{'name': '오쌤', 'score': Score(korean=90, english=80, math=99)}\n",
            "89.66666666666667\n"
          ],
          "name": "stdout"
        }
      ]
    }
  ]
}
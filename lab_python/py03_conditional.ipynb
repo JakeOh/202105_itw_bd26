{
  "nbformat": 4,
  "nbformat_minor": 0,
  "metadata": {
    "colab": {
      "name": "py03_conditional.ipynb",
      "provenance": [],
      "collapsed_sections": [],
      "authorship_tag": "ABX9TyOl8YPIgDGiwqGapj4mSNXN",
      "include_colab_link": true
    },
    "kernelspec": {
      "name": "python3",
      "display_name": "Python 3"
    },
    "language_info": {
      "name": "python"
    }
  },
  "cells": [
    {
      "cell_type": "markdown",
      "metadata": {
        "id": "view-in-github",
        "colab_type": "text"
      },
      "source": [
        "<a href=\"https://colab.research.google.com/github/JakeOh/202105_itw_bd26/blob/main/lab_python/py03_conditional.ipynb\" target=\"_parent\"><img src=\"https://colab.research.google.com/assets/colab-badge.svg\" alt=\"Open In Colab\"/></a>"
      ]
    },
    {
      "cell_type": "markdown",
      "metadata": {
        "id": "rUEd5bTddx6Q"
      },
      "source": [
        "# 조건문(Conditional Statement)\n",
        "\n",
        "조건에 따라서 실행할 문장들을 작성하는 방법"
      ]
    },
    {
      "cell_type": "markdown",
      "metadata": {
        "id": "HqzVBTTHeeC2"
      },
      "source": [
        "## else 없는 조건문"
      ]
    },
    {
      "cell_type": "markdown",
      "metadata": {
        "id": "aG1SqGETeozu"
      },
      "source": [
        "\n",
        "\n",
        "```\n",
        "if 조건식:\n",
        "    조건식을 만족할 때(조건식이 True가 될 때) 실행할 코드 블록(문장들)\n",
        "```\n",
        "\n",
        "\n",
        "*   `if 조건식` 뒤에는 반드시 콜론(:)을 사용해야 함.\n",
        "*   `if` 블록은 반드시 들여쓰기(indentation)를 해야 함."
      ]
    },
    {
      "cell_type": "code",
      "metadata": {
        "colab": {
          "base_uri": "https://localhost:8080/"
        },
        "id": "1Of1y8rKdBhJ",
        "outputId": "463d7446-cc17-4147-9bd0-7995acffd7b7"
      },
      "source": [
        "number = -100  # 100을 number 변수에 저장\n",
        "if number > 0:  # number가 0보다 크면\n",
        "    print(f'{number}은(는) 양수입니다.')\n",
        "    print('if 블록 내부 끝')\n",
        "print('if 블록 바깥')"
      ],
      "execution_count": 7,
      "outputs": [
        {
          "output_type": "stream",
          "text": [
            "if 블록 바깥\n"
          ],
          "name": "stdout"
        }
      ]
    },
    {
      "cell_type": "markdown",
      "metadata": {
        "id": "Bq5ql5Lkjr6g"
      },
      "source": [
        "## else 있는 조건문"
      ]
    },
    {
      "cell_type": "markdown",
      "metadata": {
        "id": "YTBu-b9hjwmu"
      },
      "source": [
        "\n",
        "\n",
        "```\n",
        "if 조건식:\n",
        "    조건식을 만족할 때(조건식이 True가 될 때) 실행할 블록\n",
        "else:\n",
        "    조건식을 만족하지 못할 때(조건식이 False가 될 때) 실행할 블록\n",
        "```\n",
        "\n",
        "\n",
        "*   if 조건식과 else 뒤에는 반드시 콜론(:)을 사용해야 함.\n",
        "*   if 블록과 else 블록은 반드시 들여쓰기를 해야 함.\n"
      ]
    },
    {
      "cell_type": "code",
      "metadata": {
        "colab": {
          "base_uri": "https://localhost:8080/"
        },
        "id": "hP7WYKLDh3wv",
        "outputId": "8d05326a-47ba-4642-eee1-fc25f4e1b71d"
      },
      "source": [
        "number = -123\n",
        "if number > 0:  # number가 0보다 크면\n",
        "    print(f'{number}은(는) 양수입니다.')\n",
        "else:  # 그렇지 않으면(number가 0보다 크지 않으면)\n",
        "    print(f'{number}은(는) 양수가 아닙니다.')\n",
        "print('if-else 문 바깥')"
      ],
      "execution_count": 9,
      "outputs": [
        {
          "output_type": "stream",
          "text": [
            "-123은(는) 양수가 아닙니다.\n",
            "if-else 문 바깥\n"
          ],
          "name": "stdout"
        }
      ]
    }
  ]
}
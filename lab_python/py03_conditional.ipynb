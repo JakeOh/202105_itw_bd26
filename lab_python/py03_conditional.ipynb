{
  "nbformat": 4,
  "nbformat_minor": 0,
  "metadata": {
    "colab": {
      "name": "py03_conditional.ipynb",
      "provenance": [],
      "collapsed_sections": [],
      "authorship_tag": "ABX9TyOMjBr2IvVX3djF4bIKMdyw",
      "include_colab_link": true
    },
    "kernelspec": {
      "name": "python3",
      "display_name": "Python 3"
    },
    "language_info": {
      "name": "python"
    }
  },
  "cells": [
    {
      "cell_type": "markdown",
      "metadata": {
        "id": "view-in-github",
        "colab_type": "text"
      },
      "source": [
        "<a href=\"https://colab.research.google.com/github/JakeOh/202105_itw_bd26/blob/main/lab_python/py03_conditional.ipynb\" target=\"_parent\"><img src=\"https://colab.research.google.com/assets/colab-badge.svg\" alt=\"Open In Colab\"/></a>"
      ]
    },
    {
      "cell_type": "markdown",
      "metadata": {
        "id": "rUEd5bTddx6Q"
      },
      "source": [
        "# 조건문(Conditional Statement)\n",
        "\n",
        "조건에 따라서 실행할 문장들을 작성하는 방법"
      ]
    },
    {
      "cell_type": "markdown",
      "metadata": {
        "id": "HqzVBTTHeeC2"
      },
      "source": [
        "## else 없는 조건문"
      ]
    },
    {
      "cell_type": "markdown",
      "metadata": {
        "id": "aG1SqGETeozu"
      },
      "source": [
        "\n",
        "\n",
        "```\n",
        "if 조건식:\n",
        "    조건식을 만족할 때(조건식이 True가 될 때) 실행할 코드 블록(문장들)\n",
        "```\n",
        "\n",
        "\n",
        "*   `if 조건식` 뒤에는 반드시 콜론(:)을 사용해야 함.\n",
        "*   `if` 블록은 반드시 들여쓰기(indentation)를 해야 함."
      ]
    },
    {
      "cell_type": "code",
      "metadata": {
        "colab": {
          "base_uri": "https://localhost:8080/"
        },
        "id": "1Of1y8rKdBhJ",
        "outputId": "463d7446-cc17-4147-9bd0-7995acffd7b7"
      },
      "source": [
        "number = -100  # 100을 number 변수에 저장\n",
        "if number > 0:  # number가 0보다 크면\n",
        "    print(f'{number}은(는) 양수입니다.')\n",
        "    print('if 블록 내부 끝')\n",
        "print('if 블록 바깥')"
      ],
      "execution_count": 7,
      "outputs": [
        {
          "output_type": "stream",
          "text": [
            "if 블록 바깥\n"
          ],
          "name": "stdout"
        }
      ]
    },
    {
      "cell_type": "markdown",
      "metadata": {
        "id": "Bq5ql5Lkjr6g"
      },
      "source": [
        "## else 있는 조건문"
      ]
    },
    {
      "cell_type": "markdown",
      "metadata": {
        "id": "YTBu-b9hjwmu"
      },
      "source": [
        "\n",
        "\n",
        "```\n",
        "if 조건식:\n",
        "    조건식을 만족할 때(조건식이 True가 될 때) 실행할 블록\n",
        "else:\n",
        "    조건식을 만족하지 못할 때(조건식이 False가 될 때) 실행할 블록\n",
        "```\n",
        "\n",
        "\n",
        "*   if 조건식과 else 뒤에는 반드시 콜론(:)을 사용해야 함.\n",
        "*   if 블록과 else 블록은 반드시 들여쓰기를 해야 함.\n"
      ]
    },
    {
      "cell_type": "code",
      "metadata": {
        "colab": {
          "base_uri": "https://localhost:8080/"
        },
        "id": "hP7WYKLDh3wv",
        "outputId": "8d05326a-47ba-4642-eee1-fc25f4e1b71d"
      },
      "source": [
        "number = -123\n",
        "if number > 0:  # number가 0보다 크면\n",
        "    print(f'{number}은(는) 양수입니다.')\n",
        "else:  # 그렇지 않으면(number가 0보다 크지 않으면)\n",
        "    print(f'{number}은(는) 양수가 아닙니다.')\n",
        "print('if-else 문 바깥')"
      ],
      "execution_count": 9,
      "outputs": [
        {
          "output_type": "stream",
          "text": [
            "-123은(는) 양수가 아닙니다.\n",
            "if-else 문 바깥\n"
          ],
          "name": "stdout"
        }
      ]
    },
    {
      "cell_type": "code",
      "metadata": {
        "colab": {
          "base_uri": "https://localhost:8080/"
        },
        "id": "18jVVP_Ura8p",
        "outputId": "9224ca68-09c4-428b-b845-c1a54ec61597"
      },
      "source": [
        "# 정수(integer)를 입력 받아서 변수에 저장\n",
        "number = int(input('정수 입력>>> '))\n",
        "if number % 2 == 0:  \n",
        "    # 입력받은 정수가 짝수이면, 'even' 출력\n",
        "    print('even')\n",
        "else:\n",
        "    # 그렇지 않으면, 'odd' 출력\n",
        "    print('odd')"
      ],
      "execution_count": 13,
      "outputs": [
        {
          "output_type": "stream",
          "text": [
            "정수 입력>>> 120\n",
            "even\n"
          ],
          "name": "stdout"
        }
      ]
    },
    {
      "cell_type": "markdown",
      "metadata": {
        "id": "CWjpIn4nuoHP"
      },
      "source": [
        "## Chained Conditionals (if-elif-else)"
      ]
    },
    {
      "cell_type": "markdown",
      "metadata": {
        "id": "0xr-wn_Ouw7Y"
      },
      "source": [
        "\n",
        "\n",
        "```\n",
        "if 조건식1:\n",
        "    조건식1을 만족할 때 실행할 코드 블록\n",
        "elif 조건식2:\n",
        "    조건식2를 만족할 때 실행할 코드 블록\n",
        "...\n",
        "else:\n",
        "    위의 모든 조건식들을 만족하지 못할 때 실행할 코드 블록\n",
        "```\n",
        "\n",
        "\n",
        "*   `elif` 조건식은 1개 이상일 수 있음.\n",
        "*   `else` 블록은 생략할 수 있음.\n",
        "*   모든 블록들은 들여쓰기가 되어야 함.\n"
      ]
    },
    {
      "cell_type": "code",
      "metadata": {
        "colab": {
          "base_uri": "https://localhost:8080/"
        },
        "id": "0UGW3mZQwjzx",
        "outputId": "e07193f0-7879-4be9-f059-d551897022ce"
      },
      "source": [
        "number = 0\n",
        "\n",
        "if number > 0:  # 만약 number가 0보다 크면\n",
        "    print('양수')\n",
        "elif number < 0:  # 그렇지 않고(0보다 크지 않고), number가 0보다 작으면\n",
        "    print('음수')\n",
        "else:\n",
        "    print('zero')\n",
        "print('=== end ===')"
      ],
      "execution_count": 16,
      "outputs": [
        {
          "output_type": "stream",
          "text": [
            "zero\n",
            "=== end ===\n"
          ],
          "name": "stdout"
        }
      ]
    },
    {
      "cell_type": "markdown",
      "metadata": {
        "id": "R8EDJnJnyqnK"
      },
      "source": [
        "## 중첩 조건문(nested conditionals)"
      ]
    },
    {
      "cell_type": "markdown",
      "metadata": {
        "id": "A7Y2MDZMywAi"
      },
      "source": [
        "*   `if` 블록, `elif` 블록 또는 `else` 블록 안에서 조건문(if, if-else, if-elif-else)을 사용하는 것.\n",
        "*   중첩 조건문을 사용할 때는 들여쓰기를 주의해야 함. 들여쓰기 방법에 따라서 완전히 다른 실행 코드(로직)이 될 수 있음.\n",
        "*   중첩 조건문은 `elif`를 사용하거나 논리 연산자(`and`, `or`)를 사용해서 중첩되지 않는 조건문으로 만들 수 있음.\n",
        "\n",
        "\n",
        "```\n",
        "if condition1:\n",
        "    if condition2:\n",
        "        statements\n",
        "    else:\n",
        "        statements\n",
        "\n",
        "if condition1:\n",
        "    statements\n",
        "else:\n",
        "    if condition2:\n",
        "        statements\n",
        "    else:\n",
        "        statements\n",
        "```\n"
      ]
    }
  ]
}
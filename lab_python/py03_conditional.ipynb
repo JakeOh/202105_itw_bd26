{
  "nbformat": 4,
  "nbformat_minor": 0,
  "metadata": {
    "colab": {
      "name": "py03_conditional.ipynb",
      "provenance": [],
      "collapsed_sections": [],
      "authorship_tag": "ABX9TyMz/U87CjOBYS3lnHxv6sNc",
      "include_colab_link": true
    },
    "kernelspec": {
      "name": "python3",
      "display_name": "Python 3"
    },
    "language_info": {
      "name": "python"
    }
  },
  "cells": [
    {
      "cell_type": "markdown",
      "metadata": {
        "id": "view-in-github",
        "colab_type": "text"
      },
      "source": [
        "<a href=\"https://colab.research.google.com/github/JakeOh/202105_itw_bd26/blob/main/lab_python/py03_conditional.ipynb\" target=\"_parent\"><img src=\"https://colab.research.google.com/assets/colab-badge.svg\" alt=\"Open In Colab\"/></a>"
      ]
    },
    {
      "cell_type": "markdown",
      "metadata": {
        "id": "rUEd5bTddx6Q"
      },
      "source": [
        "# 조건문(Conditional Statement)\n",
        "\n",
        "조건에 따라서 실행할 문장들을 작성하는 방법"
      ]
    },
    {
      "cell_type": "markdown",
      "metadata": {
        "id": "HqzVBTTHeeC2"
      },
      "source": [
        "## else 없는 조건문"
      ]
    },
    {
      "cell_type": "markdown",
      "metadata": {
        "id": "aG1SqGETeozu"
      },
      "source": [
        "\n",
        "\n",
        "```\n",
        "if 조건식:\n",
        "    조건식을 만족할 때(조건식이 True가 될 때) 실행할 코드 블록(문장들)\n",
        "```\n",
        "\n",
        "\n",
        "*   `if 조건식` 뒤에는 반드시 콜론(:)을 사용해야 함.\n",
        "*   `if` 블록은 반드시 들여쓰기(indentation)를 해야 함."
      ]
    },
    {
      "cell_type": "code",
      "metadata": {
        "colab": {
          "base_uri": "https://localhost:8080/"
        },
        "id": "1Of1y8rKdBhJ",
        "outputId": "5a67d642-f25d-46f1-817d-9e3fd9719237"
      },
      "source": [
        "number = -100  # 100을 number 변수에 저장\n",
        "if number > 0:  # number가 0보다 크면\n",
        "    print(f'{number}은(는) 양수입니다.')\n",
        "    print('if 블록 내부 끝')\n",
        "print('if 블록 바깥')"
      ],
      "execution_count": 1,
      "outputs": [
        {
          "output_type": "stream",
          "text": [
            "if 블록 바깥\n"
          ],
          "name": "stdout"
        }
      ]
    },
    {
      "cell_type": "markdown",
      "metadata": {
        "id": "Bq5ql5Lkjr6g"
      },
      "source": [
        "## else 있는 조건문"
      ]
    },
    {
      "cell_type": "markdown",
      "metadata": {
        "id": "YTBu-b9hjwmu"
      },
      "source": [
        "\n",
        "\n",
        "```\n",
        "if 조건식:\n",
        "    조건식을 만족할 때(조건식이 True가 될 때) 실행할 블록\n",
        "else:\n",
        "    조건식을 만족하지 못할 때(조건식이 False가 될 때) 실행할 블록\n",
        "```\n",
        "\n",
        "\n",
        "*   if 조건식과 else 뒤에는 반드시 콜론(:)을 사용해야 함.\n",
        "*   if 블록과 else 블록은 반드시 들여쓰기를 해야 함.\n"
      ]
    },
    {
      "cell_type": "code",
      "metadata": {
        "colab": {
          "base_uri": "https://localhost:8080/"
        },
        "id": "hP7WYKLDh3wv",
        "outputId": "287d4da5-ac42-48c3-d199-251c5ae2cdde"
      },
      "source": [
        "number = -123\n",
        "if number > 0:  # number가 0보다 크면\n",
        "    print(f'{number}은(는) 양수입니다.')\n",
        "else:  # 그렇지 않으면(number가 0보다 크지 않으면)\n",
        "    print(f'{number}은(는) 양수가 아닙니다.')\n",
        "print('if-else 문 바깥')"
      ],
      "execution_count": 2,
      "outputs": [
        {
          "output_type": "stream",
          "text": [
            "-123은(는) 양수가 아닙니다.\n",
            "if-else 문 바깥\n"
          ],
          "name": "stdout"
        }
      ]
    },
    {
      "cell_type": "code",
      "metadata": {
        "colab": {
          "base_uri": "https://localhost:8080/"
        },
        "id": "18jVVP_Ura8p",
        "outputId": "cf18d5de-4f0f-4f7c-baef-ea337488f236"
      },
      "source": [
        "# 정수(integer)를 입력 받아서 변수에 저장\n",
        "number = int(input('정수 입력>>> '))\n",
        "if number % 2 == 0:  \n",
        "    # 입력받은 정수가 짝수이면, 'even' 출력\n",
        "    print('even')\n",
        "else:\n",
        "    # 그렇지 않으면, 'odd' 출력\n",
        "    print('odd')"
      ],
      "execution_count": 3,
      "outputs": [
        {
          "output_type": "stream",
          "text": [
            "정수 입력>>> 123\n",
            "odd\n"
          ],
          "name": "stdout"
        }
      ]
    },
    {
      "cell_type": "markdown",
      "metadata": {
        "id": "CWjpIn4nuoHP"
      },
      "source": [
        "## Chained Conditionals (if-elif-else)"
      ]
    },
    {
      "cell_type": "markdown",
      "metadata": {
        "id": "0xr-wn_Ouw7Y"
      },
      "source": [
        "\n",
        "\n",
        "```\n",
        "if 조건식1:\n",
        "    조건식1을 만족할 때 실행할 코드 블록\n",
        "elif 조건식2:\n",
        "    조건식2를 만족할 때 실행할 코드 블록\n",
        "...\n",
        "else:\n",
        "    위의 모든 조건식들을 만족하지 못할 때 실행할 코드 블록\n",
        "```\n",
        "\n",
        "\n",
        "*   `elif` 조건식은 1개 이상일 수 있음.\n",
        "*   `else` 블록은 생략할 수 있음.\n",
        "*   모든 블록들은 들여쓰기가 되어야 함.\n"
      ]
    },
    {
      "cell_type": "code",
      "metadata": {
        "colab": {
          "base_uri": "https://localhost:8080/"
        },
        "id": "0UGW3mZQwjzx",
        "outputId": "52e10ce2-b680-40be-dcfb-79e9861e4ece"
      },
      "source": [
        "number = 0\n",
        "\n",
        "if number > 0:  # 만약 number가 0보다 크면\n",
        "    print('양수')\n",
        "elif number < 0:  # 그렇지 않고(0보다 크지 않고), number가 0보다 작으면\n",
        "    print('음수')\n",
        "else:\n",
        "    print('zero')\n",
        "print('=== end ===')"
      ],
      "execution_count": 4,
      "outputs": [
        {
          "output_type": "stream",
          "text": [
            "zero\n",
            "=== end ===\n"
          ],
          "name": "stdout"
        }
      ]
    },
    {
      "cell_type": "markdown",
      "metadata": {
        "id": "R8EDJnJnyqnK"
      },
      "source": [
        "## 중첩 조건문(nested conditionals)"
      ]
    },
    {
      "cell_type": "markdown",
      "metadata": {
        "id": "A7Y2MDZMywAi"
      },
      "source": [
        "*   `if` 블록, `elif` 블록 또는 `else` 블록 안에서 조건문(if, if-else, if-elif-else)을 사용하는 것.\n",
        "*   중첩 조건문을 사용할 때는 들여쓰기를 주의해야 함. 들여쓰기 방법에 따라서 완전히 다른 실행 코드(로직)이 될 수 있음.\n",
        "*   중첩 조건문은 `elif`를 사용하거나 논리 연산자(`and`, `or`)를 사용해서 중첩되지 않는 조건문으로 만들 수 있음.\n",
        "\n",
        "\n",
        "```\n",
        "if condition1:\n",
        "    if condition2:\n",
        "        statements\n",
        "    else:\n",
        "        statements\n",
        "\n",
        "if condition1:\n",
        "    statements\n",
        "else:\n",
        "    if condition2:\n",
        "        statements\n",
        "    else:\n",
        "        statements\n",
        "```\n"
      ]
    },
    {
      "cell_type": "code",
      "metadata": {
        "colab": {
          "base_uri": "https://localhost:8080/"
        },
        "id": "dfPHhDPt4W0_",
        "outputId": "cdc2b6c7-32ac-41fc-87ce-04152352f6fe"
      },
      "source": [
        "number = 0\n",
        "\n",
        "if number > 0:  # number가 0보다 크면\n",
        "    print('positive number')\n",
        "else:  # 그렇지 않으면(number가 0보다 크지 않으면)\n",
        "    if number < 0:  # number가 0보다 작으면\n",
        "        print('negative number')\n",
        "    else:  # 그렇지 않으면(number가 0보다 크지 않고, 0보다 작지도 않으면)\n",
        "        print('zero')\n",
        "\n",
        "print('=== end ===')"
      ],
      "execution_count": 5,
      "outputs": [
        {
          "output_type": "stream",
          "text": [
            "zero\n",
            "=== end ===\n"
          ],
          "name": "stdout"
        }
      ]
    },
    {
      "cell_type": "markdown",
      "metadata": {
        "id": "L3yJ1qe_5svC"
      },
      "source": [
        "## Exercise"
      ]
    },
    {
      "cell_type": "markdown",
      "metadata": {
        "id": "kCPMymUS5v7T"
      },
      "source": [
        "*   정수 3개를 입력받고 변수에 저장\n",
        "*   정수 3개의 평균을 계산하고 출력\n",
        "*   평균이\n",
        "    *   90 이상이면, 'A'\n",
        "    *   80 이상이면, 'B'\n",
        "    *   70 이상이면, 'C'\n",
        "    *   70 미만이면, 'F' 출력"
      ]
    },
    {
      "cell_type": "code",
      "metadata": {
        "id": "FcxCCIN25uQI",
        "colab": {
          "base_uri": "https://localhost:8080/"
        },
        "outputId": "78e17186-89ff-4e2a-8617-69dd4d3fa7d7"
      },
      "source": [
        "# 정수 3개 입력 저장\n",
        "korean = int(input('국어 점수 입력>>> '))\n",
        "english = int(input('영어 점수 입력>>> '))\n",
        "math = int(input('수학 점수 입력>>> '))\n",
        "\n",
        "# 평균 계산\n",
        "average = (korean + english + math) / 3\n",
        "print('평균:', average)\n",
        "\n",
        "# 학점 출력\n",
        "if average >= 90:    # 평균이 90 이상이면\n",
        "    print('A')\n",
        "elif average >= 80:  # 평균이 80 이상이면(80 <= avg < 90)\n",
        "    print('B')\n",
        "elif average >= 70:  # 평균이 70 이상이면(70 <= avg < 80)\n",
        "    print('C')\n",
        "else:                # 평균이 70 미만이면(avg < 70)\n",
        "    print('F')"
      ],
      "execution_count": 10,
      "outputs": [
        {
          "output_type": "stream",
          "text": [
            "국어 점수 입력>>> 90\n",
            "영어 점수 입력>>> 80\n",
            "수학 점수 입력>>> 88\n",
            "평균: 86.0\n",
            "B\n"
          ],
          "name": "stdout"
        }
      ]
    }
  ]
}
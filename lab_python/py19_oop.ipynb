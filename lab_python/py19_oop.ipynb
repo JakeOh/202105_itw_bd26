{
  "nbformat": 4,
  "nbformat_minor": 0,
  "metadata": {
    "colab": {
      "name": "py19_oop.ipynb",
      "provenance": [],
      "collapsed_sections": [],
      "authorship_tag": "ABX9TyOcOt7IGcLZWAARp522G5D6",
      "include_colab_link": true
    },
    "kernelspec": {
      "name": "python3",
      "display_name": "Python 3"
    },
    "language_info": {
      "name": "python"
    }
  },
  "cells": [
    {
      "cell_type": "markdown",
      "metadata": {
        "id": "view-in-github",
        "colab_type": "text"
      },
      "source": [
        "<a href=\"https://colab.research.google.com/github/JakeOh/202105_itw_bd26/blob/main/lab_python/py19_oop.ipynb\" target=\"_parent\"><img src=\"https://colab.research.google.com/assets/colab-badge.svg\" alt=\"Open In Colab\"/></a>"
      ]
    },
    {
      "cell_type": "markdown",
      "metadata": {
        "id": "gWBtGZ0aPPG_"
      },
      "source": [
        "# OOP(Object-Oriented Programming,  객체 지향 프로그래밍)"
      ]
    },
    {
      "cell_type": "markdown",
      "metadata": {
        "id": "4PVD6KnKQErV"
      },
      "source": [
        "# 배경 설명"
      ]
    },
    {
      "cell_type": "markdown",
      "metadata": {
        "id": "c98Z24csYetc"
      },
      "source": [
        "## list, dict를 사용"
      ]
    },
    {
      "cell_type": "code",
      "metadata": {
        "id": "llpcbIpXPHUj"
      },
      "source": [
        "#  학생, 과목 점수 리스트\n",
        "students = [\n",
        "            {'name': 'aaa', 'korean': 90, 'english': 80, 'math': 70},\n",
        "            {'name': 'bbb', 'korean': 70, 'english': 100, 'math': 98},\n",
        "            {'name': 'ccc', 'korean': 85, 'english': 50, 'math': 88},\n",
        "            {'name': 'ddd', 'korean': 100, 'english': 70, 'math': 60},\n",
        "            {'name': 'eee', 'korean': 95, 'english': 90, 'math': 50}\n",
        "]"
      ],
      "execution_count": 9,
      "outputs": []
    },
    {
      "cell_type": "code",
      "metadata": {
        "colab": {
          "base_uri": "https://localhost:8080/"
        },
        "id": "oBqkIldlRxJ1",
        "outputId": "a33f27ba-e512-4058-fd1b-62683485c616"
      },
      "source": [
        "# 각 학생의 3과목 총점과 평균을 출력\n",
        "for s in students:\n",
        "    total = s['korean'] + s['english'] + s['math']\n",
        "    avg = total / 3\n",
        "    print(f'이름: {s[\"name\"]}, 총점: {total}, 평균: {avg}')"
      ],
      "execution_count": 10,
      "outputs": [
        {
          "output_type": "stream",
          "text": [
            "이름: aaa, 총점: 240, 평균: 80.0\n",
            "이름: bbb, 총점: 268, 평균: 89.33333333333333\n",
            "이름: ccc, 총점: 223, 평균: 74.33333333333333\n",
            "이름: ddd, 총점: 230, 평균: 76.66666666666667\n",
            "이름: eee, 총점: 235, 평균: 78.33333333333333\n"
          ],
          "name": "stdout"
        }
      ]
    },
    {
      "cell_type": "markdown",
      "metadata": {
        "id": "V46_Un4YZhFr"
      },
      "source": [
        "위 프로그래밍 방식의 문제점은 dict의 키는 중복되지 않게만 설정하면 되기 때문에, 반복문을 사용해서 총점과 평균을 계산, 출력하는 기능을 만들 수 없는 경우가 발생할 수도 있다."
      ]
    },
    {
      "cell_type": "markdown",
      "metadata": {
        "id": "o6_dqs2rZ26j"
      },
      "source": [
        "## 함수형 프로그래밍(Functional Programming)"
      ]
    },
    {
      "cell_type": "code",
      "metadata": {
        "id": "vmOPfdFqZ-eL"
      },
      "source": [
        "def create_student(name, korean, english, math):\n",
        "    \"\"\"name, korean, english, math를 키로 갖는 dict 객체를 리턴.\"\"\"\n",
        "    student = {'name': name,\n",
        "               'korean': korean,\n",
        "               'english': english,\n",
        "               'math': math}\n",
        "    return student"
      ],
      "execution_count": 11,
      "outputs": []
    },
    {
      "cell_type": "code",
      "metadata": {
        "id": "RxTBhyKPasc-"
      },
      "source": [
        "students = [\n",
        "            create_student('aaa', 100, 90, 80),\n",
        "            create_student('bbb', 90, 80, 70),\n",
        "            create_student('ccc', 88, 99, 77),\n",
        "            create_student('ddd', 50, 40, 60),\n",
        "            create_student('eee', 100, 50, 70)\n",
        "]"
      ],
      "execution_count": 12,
      "outputs": []
    },
    {
      "cell_type": "code",
      "metadata": {
        "id": "bPiXf1HHcRyj"
      },
      "source": [
        "def get_student_total(student):\n",
        "    \"\"\"student dict에서 총점을 계산해서 리턴\n",
        "    \"\"\"\n",
        "    total = student['korean'] + student['english'] + student['math']\n",
        "    return total"
      ],
      "execution_count": 15,
      "outputs": []
    },
    {
      "cell_type": "code",
      "metadata": {
        "id": "VWIH6Rsic1Rk"
      },
      "source": [
        "def get_student_average(student):\n",
        "    \"\"\"student dict에서 평균을 계산해서 리턴\n",
        "    \"\"\"\n",
        "    total = get_student_total(student)\n",
        "    avg = total / 3\n",
        "    return avg"
      ],
      "execution_count": 17,
      "outputs": []
    },
    {
      "cell_type": "code",
      "metadata": {
        "colab": {
          "base_uri": "https://localhost:8080/"
        },
        "id": "b9-HVkMvbEQc",
        "outputId": "5ec520e7-5786-4f46-e0cf-29111beb3d63"
      },
      "source": [
        "for s in students:\n",
        "    total = get_student_total(s)\n",
        "    avg = get_student_average(s)\n",
        "    print(f'이름: {s[\"name\"]}, 총점: {total}, 평균: {avg}')"
      ],
      "execution_count": 18,
      "outputs": [
        {
          "output_type": "stream",
          "text": [
            "이름: aaa, 총점: 270, 평균: 90.0\n",
            "이름: bbb, 총점: 240, 평균: 80.0\n",
            "이름: ccc, 총점: 264, 평균: 88.0\n",
            "이름: ddd, 총점: 150, 평균: 50.0\n",
            "이름: eee, 총점: 220, 평균: 73.33333333333333\n"
          ],
          "name": "stdout"
        }
      ]
    },
    {
      "cell_type": "markdown",
      "metadata": {
        "id": "ns6hUBBbfAkq"
      },
      "source": [
        "총점과 평균을 계산하는 함수는 학생 dict와 매우 밀접한 관계를 맺고 있음.\n",
        "\n",
        "서로 관계를 맺고 있는 데이터(이름, 3과목 점수)와 기능(총점 계산, 평균 계산) 하나로 묶을 수 있을까?"
      ]
    },
    {
      "cell_type": "code",
      "metadata": {
        "id": "KQUtZpwBbMDK"
      },
      "source": [
        ""
      ],
      "execution_count": null,
      "outputs": []
    }
  ]
}
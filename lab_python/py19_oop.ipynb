{
  "nbformat": 4,
  "nbformat_minor": 0,
  "metadata": {
    "colab": {
      "name": "py19_oop.ipynb",
      "provenance": [],
      "collapsed_sections": [],
      "authorship_tag": "ABX9TyOlwVMSd9iNJgdiV6yhMLwl",
      "include_colab_link": true
    },
    "kernelspec": {
      "name": "python3",
      "display_name": "Python 3"
    },
    "language_info": {
      "name": "python"
    }
  },
  "cells": [
    {
      "cell_type": "markdown",
      "metadata": {
        "id": "view-in-github",
        "colab_type": "text"
      },
      "source": [
        "<a href=\"https://colab.research.google.com/github/JakeOh/202105_itw_bd26/blob/main/lab_python/py19_oop.ipynb\" target=\"_parent\"><img src=\"https://colab.research.google.com/assets/colab-badge.svg\" alt=\"Open In Colab\"/></a>"
      ]
    },
    {
      "cell_type": "markdown",
      "metadata": {
        "id": "gWBtGZ0aPPG_"
      },
      "source": [
        "# OOP(Object-Oriented Programming,  객체 지향 프로그래밍)"
      ]
    },
    {
      "cell_type": "markdown",
      "metadata": {
        "id": "4PVD6KnKQErV"
      },
      "source": [
        "# 배경 설명"
      ]
    },
    {
      "cell_type": "code",
      "metadata": {
        "id": "llpcbIpXPHUj"
      },
      "source": [
        "#  학생, 과목 점수 리스트\n",
        "students = [\n",
        "            {'name': 'aaa', 'korean': 90, 'english': 80, 'math': 70},\n",
        "            {'name': 'bbb', 'korean': 70, 'english': 100, 'math': 98},\n",
        "            {'name': 'ccc', 'korean': 85, 'english': 50, 'math': 88},\n",
        "            {'name': 'ddd', 'korean': 100, 'english': 70, 'math': 60},\n",
        "            {'name': 'eee', 'korean': 95, 'english': 90, 'math': 50}\n",
        "]"
      ],
      "execution_count": 1,
      "outputs": []
    },
    {
      "cell_type": "code",
      "metadata": {
        "id": "oBqkIldlRxJ1"
      },
      "source": [
        "# 각 학생의 3과목 총점과 평균을 출력\n"
      ],
      "execution_count": null,
      "outputs": []
    }
  ]
}
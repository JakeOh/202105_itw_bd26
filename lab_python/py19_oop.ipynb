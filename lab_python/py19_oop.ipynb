{
  "nbformat": 4,
  "nbformat_minor": 0,
  "metadata": {
    "colab": {
      "name": "py19_oop.ipynb",
      "provenance": [],
      "collapsed_sections": [],
      "authorship_tag": "ABX9TyO+qAQSbF6hss6LGGxho60+",
      "include_colab_link": true
    },
    "kernelspec": {
      "name": "python3",
      "display_name": "Python 3"
    },
    "language_info": {
      "name": "python"
    }
  },
  "cells": [
    {
      "cell_type": "markdown",
      "metadata": {
        "id": "view-in-github",
        "colab_type": "text"
      },
      "source": [
        "<a href=\"https://colab.research.google.com/github/JakeOh/202105_itw_bd26/blob/main/lab_python/py19_oop.ipynb\" target=\"_parent\"><img src=\"https://colab.research.google.com/assets/colab-badge.svg\" alt=\"Open In Colab\"/></a>"
      ]
    },
    {
      "cell_type": "markdown",
      "metadata": {
        "id": "4PVD6KnKQErV"
      },
      "source": [
        "# 배경 설명"
      ]
    },
    {
      "cell_type": "markdown",
      "metadata": {
        "id": "c98Z24csYetc"
      },
      "source": [
        "## list, dict를 사용"
      ]
    },
    {
      "cell_type": "code",
      "metadata": {
        "id": "llpcbIpXPHUj"
      },
      "source": [
        "#  학생, 과목 점수 리스트\n",
        "students = [\n",
        "            {'name': 'aaa', 'korean': 90, 'english': 80, 'math': 70},\n",
        "            {'name': 'bbb', 'korean': 70, 'english': 100, 'math': 98},\n",
        "            {'name': 'ccc', 'korean': 85, 'english': 50, 'math': 88},\n",
        "            {'name': 'ddd', 'korean': 100, 'english': 70, 'math': 60},\n",
        "            {'name': 'eee', 'korean': 95, 'english': 90, 'math': 50}\n",
        "]"
      ],
      "execution_count": 1,
      "outputs": []
    },
    {
      "cell_type": "code",
      "metadata": {
        "colab": {
          "base_uri": "https://localhost:8080/"
        },
        "id": "oBqkIldlRxJ1",
        "outputId": "863a801b-648b-4ba5-a6d8-1e8391210230"
      },
      "source": [
        "# 각 학생의 3과목 총점과 평균을 출력\n",
        "for s in students:\n",
        "    total = s['korean'] + s['english'] + s['math']\n",
        "    avg = total / 3\n",
        "    print(f'이름: {s[\"name\"]}, 총점: {total}, 평균: {avg}')"
      ],
      "execution_count": 2,
      "outputs": [
        {
          "output_type": "stream",
          "text": [
            "이름: aaa, 총점: 240, 평균: 80.0\n",
            "이름: bbb, 총점: 268, 평균: 89.33333333333333\n",
            "이름: ccc, 총점: 223, 평균: 74.33333333333333\n",
            "이름: ddd, 총점: 230, 평균: 76.66666666666667\n",
            "이름: eee, 총점: 235, 평균: 78.33333333333333\n"
          ],
          "name": "stdout"
        }
      ]
    },
    {
      "cell_type": "markdown",
      "metadata": {
        "id": "V46_Un4YZhFr"
      },
      "source": [
        "위 프로그래밍 방식의 문제점은 dict의 키는 중복되지 않게만 설정하면 되기 때문에, 반복문을 사용해서 총점과 평균을 계산, 출력하는 기능을 만들 수 없는 경우가 발생할 수도 있다."
      ]
    },
    {
      "cell_type": "markdown",
      "metadata": {
        "id": "o6_dqs2rZ26j"
      },
      "source": [
        "## 함수형 프로그래밍(Functional Programming)"
      ]
    },
    {
      "cell_type": "code",
      "metadata": {
        "id": "vmOPfdFqZ-eL"
      },
      "source": [
        "def create_student(name, korean, english, math):\n",
        "    \"\"\"name, korean, english, math를 키로 갖는 dict 객체를 리턴.\"\"\"\n",
        "    student = {'name': name,\n",
        "               'korean': korean,\n",
        "               'english': english,\n",
        "               'math': math}\n",
        "    return student"
      ],
      "execution_count": 3,
      "outputs": []
    },
    {
      "cell_type": "code",
      "metadata": {
        "id": "RxTBhyKPasc-"
      },
      "source": [
        "students = [\n",
        "            create_student('aaa', 100, 90, 80),\n",
        "            create_student('bbb', 90, 80, 70),\n",
        "            create_student('ccc', 88, 99, 77),\n",
        "            create_student('ddd', 50, 40, 60),\n",
        "            create_student('eee', 100, 50, 70)\n",
        "]"
      ],
      "execution_count": 4,
      "outputs": []
    },
    {
      "cell_type": "code",
      "metadata": {
        "id": "bPiXf1HHcRyj"
      },
      "source": [
        "def get_student_total(student):\n",
        "    \"\"\"student dict에서 총점을 계산해서 리턴\n",
        "    \"\"\"\n",
        "    total = student['korean'] + student['english'] + student['math']\n",
        "    return total"
      ],
      "execution_count": 5,
      "outputs": []
    },
    {
      "cell_type": "code",
      "metadata": {
        "id": "VWIH6Rsic1Rk"
      },
      "source": [
        "def get_student_average(student):\n",
        "    \"\"\"student dict에서 평균을 계산해서 리턴\n",
        "    \"\"\"\n",
        "    total = get_student_total(student)\n",
        "    avg = total / 3\n",
        "    return avg"
      ],
      "execution_count": 6,
      "outputs": []
    },
    {
      "cell_type": "code",
      "metadata": {
        "colab": {
          "base_uri": "https://localhost:8080/"
        },
        "id": "b9-HVkMvbEQc",
        "outputId": "cd96aa11-553e-46fe-8c2c-ef15d1e9c59e"
      },
      "source": [
        "for s in students:\n",
        "    total = get_student_total(s)\n",
        "    avg = get_student_average(s)\n",
        "    print(f'이름: {s[\"name\"]}, 총점: {total}, 평균: {avg}')"
      ],
      "execution_count": 7,
      "outputs": [
        {
          "output_type": "stream",
          "text": [
            "이름: aaa, 총점: 270, 평균: 90.0\n",
            "이름: bbb, 총점: 240, 평균: 80.0\n",
            "이름: ccc, 총점: 264, 평균: 88.0\n",
            "이름: ddd, 총점: 150, 평균: 50.0\n",
            "이름: eee, 총점: 220, 평균: 73.33333333333333\n"
          ],
          "name": "stdout"
        }
      ]
    },
    {
      "cell_type": "markdown",
      "metadata": {
        "id": "ns6hUBBbfAkq"
      },
      "source": [
        "총점과 평균을 계산하는 함수는 학생 dict와 매우 밀접한 관계를 맺고 있음.\n",
        "\n",
        "서로 관계를 맺고 있는 데이터(이름, 3과목 점수)와 기능(총점 계산, 평균 계산) 하나로 묶을 수 있을까?"
      ]
    },
    {
      "cell_type": "markdown",
      "metadata": {
        "id": "_pPwa8pXkKOK"
      },
      "source": [
        "# 객체 지향 프로그래밍(OOP: Objected-Oriented Programming)\n",
        "\n",
        "* 객체(object): 소프트웨어로 구현할 대상. 자료 구조.\n",
        "* 클래스(class): 객체를 구현하기 위한 설계도. 코드.\n",
        "    * 속성(attribute): 객체가 가져야 하는 데이터. 변수에 저장되는 값.\n",
        "    * 메서드(method): 객체가 가져야 하는 기능. 클래스 내부에서 정의하는 함수.\n",
        "* 인스턴스(instance): 설계도인 클래스에 따라서 메모리에 생성된 객체.\n",
        "* 인스턴스 생성(instantiate): 클래스의 객체를 메모리에 생성하는 것.\n",
        "* 생성자(constructor): 클래스의 이름과 동일한 함수.\n",
        "    * 생성자를 호출하면 클래스에서 정의된 `__init__` 메서드가 자동으로 호출됨.\n"
      ]
    },
    {
      "cell_type": "code",
      "metadata": {
        "id": "KQUtZpwBbMDK"
      },
      "source": [
        "# 클래스 정의(선언)\n",
        "class Student:\n",
        "    # 생성자 함수: 속성들을 선언하고 초기화\n",
        "    def __init__(self, name, korean, english, math):\n",
        "        self.name = name\n",
        "        self.korean = korean\n",
        "        self.english = english\n",
        "        self.math = math\n",
        "\n",
        "    # 메서드\n",
        "    def get_sum(self):\n",
        "        \"\"\"3과목의 총점을 리턴.\"\"\"\n",
        "        return self.korean + self.english + self.math\n",
        "\n",
        "    def get_average(self):\n",
        "        \"\"\"3과목의 평균을 리턴.\"\"\"\n",
        "        sum = self.get_sum()\n",
        "        avg = sum / 3\n",
        "        return avg"
      ],
      "execution_count": 8,
      "outputs": []
    },
    {
      "cell_type": "code",
      "metadata": {
        "colab": {
          "base_uri": "https://localhost:8080/"
        },
        "id": "7ipxF3sFoWSr",
        "outputId": "9646ba21-d509-450d-9666-42e60961a136"
      },
      "source": [
        "# Student 클래스의 인스턴스 생성: 생성자 함수 호출 -> 클래스의 __init__ 메서드가 호출됨\n",
        "student_1 = Student(name='오쌤', korean=100, english=100, math=100)\n",
        "print(student_1)\n",
        "print('이름:', student_1.name)  # student_1 인스턴스가 가지고 있는 name 속성\n",
        "print('국어 점수:', student_1.korean)  # 인스턴스의 속성 참조\n",
        "print('영어 점수:', student_1.english)\n",
        "print('수학 점수:', student_1.math)\n",
        "print('총점:', student_1.get_sum())  # 인스턴스의 메서드 호출\n",
        "print('평균:', student_1.get_average())"
      ],
      "execution_count": 9,
      "outputs": [
        {
          "output_type": "stream",
          "text": [
            "<__main__.Student object at 0x7f43f4d9e8d0>\n",
            "이름: 오쌤\n",
            "국어 점수: 100\n",
            "영어 점수: 100\n",
            "수학 점수: 100\n",
            "총점: 300\n",
            "평균: 100.0\n"
          ],
          "name": "stdout"
        }
      ]
    },
    {
      "cell_type": "code",
      "metadata": {
        "colab": {
          "base_uri": "https://localhost:8080/"
        },
        "id": "ziBP9EsGzLzJ",
        "outputId": "664607dc-d3cb-485c-9713-4e837ee2f2aa"
      },
      "source": [
        "student_2 = Student('홍길동', 100, 50, 98)\n",
        "print(student_2)\n",
        "print('이름:', student_2.name)  # 인스턴스의 속성 참조\n",
        "print('국어 점수:', student_2.korean)\n",
        "print('영어 점수:', student_2.english)\n",
        "print('수학 점수:', student_2.math)\n",
        "print('총점:', student_2.get_sum())  # 인스턴스의 메서드 호출\n",
        "print('평균:', student_2.get_average())"
      ],
      "execution_count": 10,
      "outputs": [
        {
          "output_type": "stream",
          "text": [
            "<__main__.Student object at 0x7f43f12fc8d0>\n",
            "이름: 홍길동\n",
            "국어 점수: 100\n",
            "영어 점수: 50\n",
            "수학 점수: 98\n",
            "총점: 248\n",
            "평균: 82.66666666666667\n"
          ],
          "name": "stdout"
        }
      ]
    },
    {
      "cell_type": "code",
      "metadata": {
        "id": "7PSxwMUb_CCr"
      },
      "source": [
        "students = [\n",
        "            Student('aaa', 100, 90, 80),\n",
        "            Student('bbb', 90, 70, 80),\n",
        "            Student('ccc', 50, 60, 70)\n",
        "]"
      ],
      "execution_count": 11,
      "outputs": []
    },
    {
      "cell_type": "code",
      "metadata": {
        "colab": {
          "base_uri": "https://localhost:8080/"
        },
        "id": "pKsFekKx_PTd",
        "outputId": "02fb3898-921c-4cfd-c474-021f3ae297b6"
      },
      "source": [
        "for s in students:\n",
        "    # total = s.get_sum()\n",
        "    # avg = s.get_average()\n",
        "    # print(f'이름: {s.name}, 총점: {total}, 평균: {avg}')\n",
        "    print(f'이름: {s.name}, 총점: {s.get_sum()}, 평균: {s.get_average()}')"
      ],
      "execution_count": 12,
      "outputs": [
        {
          "output_type": "stream",
          "text": [
            "이름: aaa, 총점: 270, 평균: 90.0\n",
            "이름: bbb, 총점: 240, 평균: 80.0\n",
            "이름: ccc, 총점: 180, 평균: 60.0\n"
          ],
          "name": "stdout"
        }
      ]
    },
    {
      "cell_type": "markdown",
      "metadata": {
        "id": "46taAs8fjt8J"
      },
      "source": [
        "## 객체 사용 예제"
      ]
    },
    {
      "cell_type": "code",
      "metadata": {
        "colab": {
          "base_uri": "https://localhost:8080/"
        },
        "id": "ZnVXdKuFjxKi",
        "outputId": "9caa1b17-9539-4a98-81ca-8aeb80afc39a"
      },
      "source": [
        "numbers1 = list()  # list 클래스 생성자 호출 - list 인스턴스 생성\n",
        "print(type(numbers1))"
      ],
      "execution_count": 13,
      "outputs": [
        {
          "output_type": "stream",
          "text": [
            "<class 'list'>\n"
          ],
          "name": "stdout"
        }
      ]
    },
    {
      "cell_type": "code",
      "metadata": {
        "colab": {
          "base_uri": "https://localhost:8080/"
        },
        "id": "ap_yvnCKkAok",
        "outputId": "98d05756-0136-4a6c-9b22-ce542f6a0545"
      },
      "source": [
        "numbers1.append(10)  # list 객체(인스턴스)의 메서드 호출\n",
        "numbers1.append(20)\n",
        "numbers1.append(30)\n",
        "print(numbers1)"
      ],
      "execution_count": 14,
      "outputs": [
        {
          "output_type": "stream",
          "text": [
            "[10, 20, 30]\n"
          ],
          "name": "stdout"
        }
      ]
    },
    {
      "cell_type": "code",
      "metadata": {
        "colab": {
          "base_uri": "https://localhost:8080/"
        },
        "id": "iChnxDN3kTzl",
        "outputId": "fbeee490-c82a-4935-bc23-8b07bce19f00"
      },
      "source": [
        "numbers2 = list()  # list 클래스 생성자 호출 - list 인스턴스 생성\n",
        "numbers2.append(100)  # list 인스턴스의 메서드 호출\n",
        "numbers2.append(50)\n",
        "print(numbers2)"
      ],
      "execution_count": 15,
      "outputs": [
        {
          "output_type": "stream",
          "text": [
            "[100, 50]\n"
          ],
          "name": "stdout"
        }
      ]
    }
  ]
}
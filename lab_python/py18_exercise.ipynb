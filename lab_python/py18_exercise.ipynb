{
  "nbformat": 4,
  "nbformat_minor": 0,
  "metadata": {
    "colab": {
      "name": "py18_exercise.ipynb",
      "provenance": [],
      "collapsed_sections": [],
      "authorship_tag": "ABX9TyPpRTzbdKrI/+1KPowGbLO5",
      "include_colab_link": true
    },
    "kernelspec": {
      "name": "python3",
      "display_name": "Python 3"
    },
    "language_info": {
      "name": "python"
    }
  },
  "cells": [
    {
      "cell_type": "markdown",
      "metadata": {
        "id": "view-in-github",
        "colab_type": "text"
      },
      "source": [
        "<a href=\"https://colab.research.google.com/github/JakeOh/202105_itw_bd26/blob/main/lab_python/py18_exercise.ipynb\" target=\"_parent\"><img src=\"https://colab.research.google.com/assets/colab-badge.svg\" alt=\"Open In Colab\"/></a>"
      ]
    },
    {
      "cell_type": "markdown",
      "metadata": {
        "id": "ZA6hxDezSAJE"
      },
      "source": [
        "# 3선승제 가위/바위/보 게임\n",
        "\n",
        "* 게임 종료 조건: 사용자 또는 컴퓨터 중에서 누군가 먼저 3번 이기면 게임 종료\n",
        "* 사용자: 1(가위), 2(바위), 3(보) 중에 선택\n",
        "* 컴퓨터: 1 ~ 3 난수 생성"
      ]
    },
    {
      "cell_type": "code",
      "metadata": {
        "id": "cwwYk8L4Ra-v"
      },
      "source": [
        "import random"
      ],
      "execution_count": 1,
      "outputs": []
    },
    {
      "cell_type": "code",
      "metadata": {
        "id": "JBQPlmbEV3IS"
      },
      "source": [
        "def user_choice():\n",
        "    \"\"\"\n",
        "    사용자로부터 (키보드) 입력을 받아서, 1, 2, 3 중에 하나를 리턴.\n",
        "    예외 처리(try-except 구문)를 사용.\n",
        "    \"\"\"\n",
        "    while True:  # 무한 루프\n",
        "        print('[1] 가위')\n",
        "        print('[2] 바위')\n",
        "        print('[3] 보')\n",
        "        try:\n",
        "            user = int(input('선택>>> '))\n",
        "            if user not in (1, 2, 3):\n",
        "                raise ValueError()\n",
        "            break  # 무한루프 종료\n",
        "        except:\n",
        "            print('1, 2, 3 중에서만 선택하세요...')\n",
        "\n",
        "    return user"
      ],
      "execution_count": 2,
      "outputs": []
    },
    {
      "cell_type": "code",
      "metadata": {
        "colab": {
          "base_uri": "https://localhost:8080/"
        },
        "id": "b8lbqK9PsaoB",
        "outputId": "d1aea19b-b22f-49f0-b042-787fab883515"
      },
      "source": [
        "user_choice()"
      ],
      "execution_count": 3,
      "outputs": [
        {
          "output_type": "stream",
          "text": [
            "[1] 가위\n",
            "[2] 바위\n",
            "[3] 보\n",
            "선택>>> 2\n"
          ],
          "name": "stdout"
        },
        {
          "output_type": "execute_result",
          "data": {
            "text/plain": [
              "2"
            ]
          },
          "metadata": {
            "tags": []
          },
          "execution_count": 3
        }
      ]
    },
    {
      "cell_type": "code",
      "metadata": {
        "id": "OKcmhqZ1WzIq"
      },
      "source": [
        "def computer_choice():\n",
        "    \"\"\"\n",
        "    1, 2, 3 중에 하나를 랜덤하게 리턴.\n",
        "    \"\"\"\n",
        "    return random.randrange(1, 4)"
      ],
      "execution_count": 4,
      "outputs": []
    },
    {
      "cell_type": "code",
      "metadata": {
        "colab": {
          "base_uri": "https://localhost:8080/"
        },
        "id": "j6P67g_dxnNm",
        "outputId": "a836faee-a035-4edb-cdea-fca86145977f"
      },
      "source": [
        "computer_choice()"
      ],
      "execution_count": 5,
      "outputs": [
        {
          "output_type": "execute_result",
          "data": {
            "text/plain": [
              "3"
            ]
          },
          "metadata": {
            "tags": []
          },
          "execution_count": 5
        }
      ]
    },
    {
      "cell_type": "code",
      "metadata": {
        "id": "qzTrZmWDyAfj"
      },
      "source": [
        "def show_user_computer(user, computer):\n",
        "    rps = {1: '가위', 2: '바위', 3: '보'}  # dict: key-value\n",
        "    print(f'User({rps[user]}) vs Computer({rps[computer]})')"
      ],
      "execution_count": 6,
      "outputs": []
    },
    {
      "cell_type": "code",
      "metadata": {
        "colab": {
          "base_uri": "https://localhost:8080/"
        },
        "id": "zS7r31mVy09V",
        "outputId": "ed22535f-529c-4cbf-f1ff-72b60e33aa89"
      },
      "source": [
        "show_user_computer(user=1, computer=2)"
      ],
      "execution_count": 7,
      "outputs": [
        {
          "output_type": "stream",
          "text": [
            "User(가위) vs Computer(바위)\n"
          ],
          "name": "stdout"
        }
      ]
    },
    {
      "cell_type": "code",
      "metadata": {
        "id": "C1hKTG6PYNHq"
      },
      "source": [
        "def game_result(user, computer):\n",
        "    \"\"\"\n",
        "    사용자 선택(가위/바위/보), 컴퓨터 선택(가위/바위/보)를 전달받아서, 누가 이겼는 지를 리턴.\n",
        "    parameter 사용자: 1, 2, 3 중 하나.\n",
        "    parameter 컴퓨터: 1, 2, 3 중 하나.\n",
        "    return: user, computer, tie 중 하나를 리턴.\n",
        "    \"\"\"\n",
        "    game = user - computer\n",
        "    if game == 0:\n",
        "        result = 'tie'\n",
        "    elif game in (1, -2):\n",
        "        result = 'user'\n",
        "    else:\n",
        "        result = 'computer'\n",
        "    \n",
        "    return result"
      ],
      "execution_count": 8,
      "outputs": []
    },
    {
      "cell_type": "code",
      "metadata": {
        "colab": {
          "base_uri": "https://localhost:8080/",
          "height": 36
        },
        "id": "kd4zjSd90kVv",
        "outputId": "13f8151c-790f-4d96-9c2d-6a64152d73c7"
      },
      "source": [
        "game_result(user=1, computer=3)"
      ],
      "execution_count": 9,
      "outputs": [
        {
          "output_type": "execute_result",
          "data": {
            "application/vnd.google.colaboratory.intrinsic+json": {
              "type": "string"
            },
            "text/plain": [
              "'user'"
            ]
          },
          "metadata": {
            "tags": []
          },
          "execution_count": 9
        }
      ]
    },
    {
      "cell_type": "code",
      "metadata": {
        "colab": {
          "base_uri": "https://localhost:8080/"
        },
        "id": "dYGAiCEDR9rV",
        "outputId": "9b5aa117-bffb-4556-8900-fed442e2f98d"
      },
      "source": [
        "user_wins = 0      # 사용자가 이긴 횟수\n",
        "computer_wins = 0  # 컴퓨터가 이긴 횟수\n",
        "num_games = 0      # 몇번째 가위/바위/보인 지를 출력\n",
        "\n",
        "while True:  # 무한 루프\n",
        "    num_games += 1\n",
        "    print(f'--- Game #{num_games} ---')\n",
        "    \n",
        "    user = user_choice()  # 사용자가 가위/바위/보 선택\n",
        "    computer = computer_choice()  # 컴퓨터가 가위/바위/보 선택\n",
        "    show_user_computer(user, computer)\n",
        "    \n",
        "    who_win = game_result(user, computer)  # 누가 이겼는 지 결정.\n",
        "    if who_win == 'user':  # 사용자가 이겼다면\n",
        "        user_wins += 1     # 사용자가 이긴 횟수를 1 증가\n",
        "    elif who_win == 'computer':  # 컴퓨터가 이겼다면\n",
        "        computer_wins += 1       # 컴퓨터가 이긴 횟수를 1 증가\n",
        "    \n",
        "    if user_wins == 3 or computer_wins == 3:\n",
        "        break  # 무한 루프 종료 -> 게임 종료\n",
        "\n",
        "# 최종 결과 출력\n",
        "print(f'User({user_wins}) : Computer({computer_wins})')"
      ],
      "execution_count": 12,
      "outputs": [
        {
          "output_type": "stream",
          "text": [
            "--- Game #1 ---\n",
            "[1] 가위\n",
            "[2] 바위\n",
            "[3] 보\n",
            "선택>>> 2\n",
            "User(바위) vs Computer(가위)\n",
            "--- Game #2 ---\n",
            "[1] 가위\n",
            "[2] 바위\n",
            "[3] 보\n",
            "선택>>> 2\n",
            "User(바위) vs Computer(바위)\n",
            "--- Game #3 ---\n",
            "[1] 가위\n",
            "[2] 바위\n",
            "[3] 보\n",
            "선택>>> 2\n",
            "User(바위) vs Computer(보)\n",
            "--- Game #4 ---\n",
            "[1] 가위\n",
            "[2] 바위\n",
            "[3] 보\n",
            "선택>>> 2\n",
            "User(바위) vs Computer(바위)\n",
            "--- Game #5 ---\n",
            "[1] 가위\n",
            "[2] 바위\n",
            "[3] 보\n",
            "선택>>> 2\n",
            "User(바위) vs Computer(바위)\n",
            "--- Game #6 ---\n",
            "[1] 가위\n",
            "[2] 바위\n",
            "[3] 보\n",
            "선택>>> 2\n",
            "User(바위) vs Computer(가위)\n",
            "--- Game #7 ---\n",
            "[1] 가위\n",
            "[2] 바위\n",
            "[3] 보\n",
            "선택>>> 2\n",
            "User(바위) vs Computer(바위)\n",
            "--- Game #8 ---\n",
            "[1] 가위\n",
            "[2] 바위\n",
            "[3] 보\n",
            "선택>>> 2\n",
            "User(바위) vs Computer(보)\n",
            "--- Game #9 ---\n",
            "[1] 가위\n",
            "[2] 바위\n",
            "[3] 보\n",
            "선택>>> 2\n",
            "User(바위) vs Computer(보)\n",
            "User(2) : Computer(3)\n"
          ],
          "name": "stdout"
        }
      ]
    }
  ]
}
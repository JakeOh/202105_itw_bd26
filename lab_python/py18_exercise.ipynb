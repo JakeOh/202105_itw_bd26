{
  "nbformat": 4,
  "nbformat_minor": 0,
  "metadata": {
    "colab": {
      "name": "py18_exercise.ipynb",
      "provenance": [],
      "collapsed_sections": [],
      "authorship_tag": "ABX9TyPHRsT+VHDn/ECzbn1zBb+P",
      "include_colab_link": true
    },
    "kernelspec": {
      "name": "python3",
      "display_name": "Python 3"
    },
    "language_info": {
      "name": "python"
    }
  },
  "cells": [
    {
      "cell_type": "markdown",
      "metadata": {
        "id": "view-in-github",
        "colab_type": "text"
      },
      "source": [
        "<a href=\"https://colab.research.google.com/github/JakeOh/202105_itw_bd26/blob/main/lab_python/py18_exercise.ipynb\" target=\"_parent\"><img src=\"https://colab.research.google.com/assets/colab-badge.svg\" alt=\"Open In Colab\"/></a>"
      ]
    },
    {
      "cell_type": "markdown",
      "metadata": {
        "id": "ZA6hxDezSAJE"
      },
      "source": [
        "# 3선승제 가위/바위/보 게임\n",
        "\n",
        "* 게임 종료 조건: 사용자 또는 컴퓨터 중에서 누군가 먼저 3번 이기면 게임 종료\n",
        "* 사용자: 1(가위), 2(바위), 3(보) 중에 선택\n",
        "* 컴퓨터: 1 ~ 3 난수 생성"
      ]
    },
    {
      "cell_type": "code",
      "metadata": {
        "id": "cwwYk8L4Ra-v"
      },
      "source": [
        "import random"
      ],
      "execution_count": 1,
      "outputs": []
    },
    {
      "cell_type": "code",
      "metadata": {
        "id": "JBQPlmbEV3IS"
      },
      "source": [
        "def 사용자 가위/바위/보 선택():\n",
        "    \"\"\"\n",
        "    사용자로부터 (키보드) 입력을 받아서, 1, 2, 3 중에 하나를 리턴.\n",
        "    예외 처리(try-except 구문)를 사용.\n",
        "    \"\"\"\n",
        "    pass"
      ],
      "execution_count": null,
      "outputs": []
    },
    {
      "cell_type": "code",
      "metadata": {
        "id": "OKcmhqZ1WzIq"
      },
      "source": [
        "def 컴퓨터 가위/바위/보 선택():\n",
        "    \"\"\"\n",
        "    1, 2, 3 중에 하나를 랜덤하게 리턴.\n",
        "    \"\"\"\n",
        "    pass"
      ],
      "execution_count": null,
      "outputs": []
    },
    {
      "cell_type": "code",
      "metadata": {
        "id": "C1hKTG6PYNHq"
      },
      "source": [
        "def 게임결과(사용자, 컴퓨터):\n",
        "    \"\"\"\n",
        "    사용자 선택(가위/바위/보), 컴퓨터 선택(가위/바위/보)를 전달받아서, 누가 이겼는 지를 리턴.\n",
        "    parameter 사용자: 1, 2, 3 중 하나.\n",
        "    parameter 컴퓨터: 1, 2, 3 중 하나.\n",
        "    return: user, computer, tie 중 하나를 리턴.\n",
        "    \"\"\"\n",
        "    pass"
      ],
      "execution_count": null,
      "outputs": []
    },
    {
      "cell_type": "code",
      "metadata": {
        "id": "dYGAiCEDR9rV"
      },
      "source": [
        "반복:\n",
        "    사용자 = 가위/바위/보 선택(1~3)\n",
        "    컴퓨터 = 난수 생성(1~3)\n",
        "    출력(사용자 vs 컴퓨터)\n",
        "    \n",
        "    게임결과(사용자 vs 컴퓨터)\n",
        "    if 게임 결과 == 사용자 win:\n",
        "        사용자 이긴 횟수 += 1\n",
        "    elif 게임 결과 == 컴퓨터 win:\n",
        "        컴퓨터 이긴 횟수 += 1\n",
        "    \n",
        "    if 사용자 이긴 횟수 == 3 or 컴퓨터 이긴 횟수 == 3:\n",
        "        반복 종료\n",
        "\n",
        "최종 결과 출력"
      ],
      "execution_count": null,
      "outputs": []
    }
  ]
}
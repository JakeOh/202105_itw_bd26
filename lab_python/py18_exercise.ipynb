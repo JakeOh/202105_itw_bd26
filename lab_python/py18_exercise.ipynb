{
  "nbformat": 4,
  "nbformat_minor": 0,
  "metadata": {
    "colab": {
      "name": "py18_exercise.ipynb",
      "provenance": [],
      "collapsed_sections": [],
      "authorship_tag": "ABX9TyNE0VQRuMUGCKwQ0gIFHou6",
      "include_colab_link": true
    },
    "kernelspec": {
      "name": "python3",
      "display_name": "Python 3"
    },
    "language_info": {
      "name": "python"
    }
  },
  "cells": [
    {
      "cell_type": "markdown",
      "metadata": {
        "id": "view-in-github",
        "colab_type": "text"
      },
      "source": [
        "<a href=\"https://colab.research.google.com/github/JakeOh/202105_itw_bd26/blob/main/lab_python/py18_exercise.ipynb\" target=\"_parent\"><img src=\"https://colab.research.google.com/assets/colab-badge.svg\" alt=\"Open In Colab\"/></a>"
      ]
    },
    {
      "cell_type": "markdown",
      "metadata": {
        "id": "ZA6hxDezSAJE"
      },
      "source": [
        "# 3선승제 가위/바위/보 게임\n",
        "\n",
        "* 게임 종료 조건: 사용자 또는 컴퓨터 중에서 누군가 먼저 3번 이기면 게임 종료\n",
        "* 사용자: 1(가위), 2(바위), 3(보) 중에 선택\n",
        "* 컴퓨터: 1 ~ 3 난수 생성"
      ]
    },
    {
      "cell_type": "code",
      "metadata": {
        "id": "cwwYk8L4Ra-v"
      },
      "source": [
        "import random"
      ],
      "execution_count": 1,
      "outputs": []
    },
    {
      "cell_type": "code",
      "metadata": {
        "id": "JBQPlmbEV3IS"
      },
      "source": [
        "def user_choice():\n",
        "    \"\"\"\n",
        "    사용자로부터 (키보드) 입력을 받아서, 1, 2, 3 중에 하나를 리턴.\n",
        "    예외 처리(try-except 구문)를 사용.\n",
        "    \"\"\"\n",
        "    while True:  # 무한 루프\n",
        "        print('[1] 가위')\n",
        "        print('[2] 바위')\n",
        "        print('[3] 보')\n",
        "        try:\n",
        "            user = int(input('선택>>> '))\n",
        "            if user not in (1, 2, 3):\n",
        "                raise ValueError()\n",
        "            break  # 무한루프 종료\n",
        "        except:\n",
        "            print('1, 2, 3 중에서만 선택하세요...')\n",
        "\n",
        "    return user"
      ],
      "execution_count": 14,
      "outputs": []
    },
    {
      "cell_type": "code",
      "metadata": {
        "colab": {
          "base_uri": "https://localhost:8080/"
        },
        "id": "b8lbqK9PsaoB",
        "outputId": "57a6f4ef-ac2b-43de-cb4a-3de7393d0a86"
      },
      "source": [
        "user_choice()"
      ],
      "execution_count": 16,
      "outputs": [
        {
          "output_type": "stream",
          "text": [
            "[1] 가위\n",
            "[2] 바위\n",
            "[3] 보\n",
            "선택>>> 1\n"
          ],
          "name": "stdout"
        },
        {
          "output_type": "execute_result",
          "data": {
            "text/plain": [
              "1"
            ]
          },
          "metadata": {
            "tags": []
          },
          "execution_count": 16
        }
      ]
    },
    {
      "cell_type": "code",
      "metadata": {
        "id": "OKcmhqZ1WzIq"
      },
      "source": [
        "def computer_choice():\n",
        "    \"\"\"\n",
        "    1, 2, 3 중에 하나를 랜덤하게 리턴.\n",
        "    \"\"\"\n",
        "    return random.randrange(1, 4)"
      ],
      "execution_count": 17,
      "outputs": []
    },
    {
      "cell_type": "code",
      "metadata": {
        "colab": {
          "base_uri": "https://localhost:8080/"
        },
        "id": "j6P67g_dxnNm",
        "outputId": "08ee4bb9-e184-425c-879a-1820a04e7cb0"
      },
      "source": [
        "computer_choice()"
      ],
      "execution_count": 30,
      "outputs": [
        {
          "output_type": "execute_result",
          "data": {
            "text/plain": [
              "2"
            ]
          },
          "metadata": {
            "tags": []
          },
          "execution_count": 30
        }
      ]
    },
    {
      "cell_type": "code",
      "metadata": {
        "id": "qzTrZmWDyAfj"
      },
      "source": [
        "def show_user_computer(user, computer):\n",
        "    rps = {1: '가위', 2: '바위', 3: '보'}  # dict: key-value\n",
        "    print(f'User({rps[user]}) vs Computer({rps[computer]})')"
      ],
      "execution_count": 31,
      "outputs": []
    },
    {
      "cell_type": "code",
      "metadata": {
        "colab": {
          "base_uri": "https://localhost:8080/"
        },
        "id": "zS7r31mVy09V",
        "outputId": "cc98689e-2d81-4d1c-9bc9-028e54e981f1"
      },
      "source": [
        "show_user_computer(user=1, computer=2)"
      ],
      "execution_count": 33,
      "outputs": [
        {
          "output_type": "stream",
          "text": [
            "User(가위) vs Computer(바위)\n"
          ],
          "name": "stdout"
        }
      ]
    },
    {
      "cell_type": "code",
      "metadata": {
        "id": "C1hKTG6PYNHq"
      },
      "source": [
        "def game_result(user, computer):\n",
        "    \"\"\"\n",
        "    사용자 선택(가위/바위/보), 컴퓨터 선택(가위/바위/보)를 전달받아서, 누가 이겼는 지를 리턴.\n",
        "    parameter 사용자: 1, 2, 3 중 하나.\n",
        "    parameter 컴퓨터: 1, 2, 3 중 하나.\n",
        "    return: user, computer, tie 중 하나를 리턴.\n",
        "    \"\"\"\n",
        "    game = user - computer\n",
        "    if game == 0:\n",
        "        result = 'tie'\n",
        "    elif game in (1, -2):\n",
        "        result = 'user'\n",
        "    else:\n",
        "        result = 'computer'\n",
        "    \n",
        "    return result"
      ],
      "execution_count": 35,
      "outputs": []
    },
    {
      "cell_type": "code",
      "metadata": {
        "colab": {
          "base_uri": "https://localhost:8080/",
          "height": 36
        },
        "id": "kd4zjSd90kVv",
        "outputId": "eb8139b4-dd7c-4852-ec6b-6e009cd02569"
      },
      "source": [
        "game_result(user=1, computer=3)"
      ],
      "execution_count": 38,
      "outputs": [
        {
          "output_type": "execute_result",
          "data": {
            "application/vnd.google.colaboratory.intrinsic+json": {
              "type": "string"
            },
            "text/plain": [
              "'user'"
            ]
          },
          "metadata": {
            "tags": []
          },
          "execution_count": 38
        }
      ]
    },
    {
      "cell_type": "code",
      "metadata": {
        "id": "dYGAiCEDR9rV"
      },
      "source": [
        "반복:\n",
        "    사용자 = 가위/바위/보 선택(1~3)\n",
        "    컴퓨터 = 난수 생성(1~3)\n",
        "    출력(사용자 vs 컴퓨터)\n",
        "    \n",
        "    게임결과(사용자 vs 컴퓨터)\n",
        "    if 게임 결과 == 사용자 win:\n",
        "        사용자 이긴 횟수 += 1\n",
        "    elif 게임 결과 == 컴퓨터 win:\n",
        "        컴퓨터 이긴 횟수 += 1\n",
        "    \n",
        "    if 사용자 이긴 횟수 == 3 or 컴퓨터 이긴 횟수 == 3:\n",
        "        반복 종료\n",
        "\n",
        "최종 결과 출력"
      ],
      "execution_count": null,
      "outputs": []
    }
  ]
}
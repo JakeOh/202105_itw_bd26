{
  "nbformat": 4,
  "nbformat_minor": 0,
  "metadata": {
    "colab": {
      "name": "py29_daum_news.ipynb",
      "provenance": [],
      "collapsed_sections": [],
      "authorship_tag": "ABX9TyNwWtuA7eQ/pZUzefLjuPOS",
      "include_colab_link": true
    },
    "kernelspec": {
      "name": "python3",
      "display_name": "Python 3"
    },
    "language_info": {
      "name": "python"
    }
  },
  "cells": [
    {
      "cell_type": "markdown",
      "metadata": {
        "id": "view-in-github",
        "colab_type": "text"
      },
      "source": [
        "<a href=\"https://colab.research.google.com/github/JakeOh/202105_itw_bd26/blob/main/lab_python/py29_daum_news.ipynb\" target=\"_parent\"><img src=\"https://colab.research.google.com/assets/colab-badge.svg\" alt=\"Open In Colab\"/></a>"
      ]
    },
    {
      "cell_type": "markdown",
      "metadata": {
        "id": "OpdmYsnAxAJ6"
      },
      "source": [
        "# module import"
      ]
    },
    {
      "cell_type": "code",
      "metadata": {
        "id": "ivLHb9_OuiaT"
      },
      "source": [
        "# 웹 서버에 요청(reqeust)을 보내고, 응답(response)을 받는 기능을 가지고 있는 모듈\n",
        "import requests\n",
        "\n",
        "from bs4 import BeautifulSoup  # HTML parsing(분석)"
      ],
      "execution_count": null,
      "outputs": []
    },
    {
      "cell_type": "markdown",
      "metadata": {
        "id": "8Eia2jzYxYbw"
      },
      "source": [
        "# 다음(DAUM) 많이 본 랭킹 뉴스"
      ]
    },
    {
      "cell_type": "code",
      "metadata": {
        "id": "u6O7tcJdxV9w"
      },
      "source": [
        "# request를 보낼 웹 주소\n",
        "url = 'https://news.daum.net/ranking/popular'"
      ],
      "execution_count": null,
      "outputs": []
    },
    {
      "cell_type": "code",
      "metadata": {
        "colab": {
          "base_uri": "https://localhost:8080/"
        },
        "id": "64JsA5gDxr4x",
        "outputId": "f0787b40-f0da-4d97-8b37-ca7efd270aae"
      },
      "source": [
        "# 서버로 요청을 보내고 응답을 받음\n",
        "response = requests.get(url)  # GET 방식 요청을 보내고 응답을 받음.\n",
        "print(response)\n",
        "#> Response [코드]: \n",
        "#>  200 - 요청 처리 성공(Success)\n",
        "#>  404 - 요청 주소(URL)이 잘못됨."
      ],
      "execution_count": null,
      "outputs": [
        {
          "output_type": "stream",
          "text": [
            "<Response [200]>\n"
          ],
          "name": "stdout"
        }
      ]
    },
    {
      "cell_type": "code",
      "metadata": {
        "colab": {
          "base_uri": "https://localhost:8080/"
        },
        "id": "fJB77OosyHMZ",
        "outputId": "19f46f53-c3d3-442c-b3b5-98df30b48d33"
      },
      "source": [
        "# 응답(response)에 포함된 html 코드(문자열)\n",
        "html = response.text.strip()\n",
        "print(html[:100])  # html 코드의 첫 100글자\n",
        "print('-' * 80)\n",
        "print(html[-100:])  # html 코드의 마지막 100글자"
      ],
      "execution_count": null,
      "outputs": [
        {
          "output_type": "stream",
          "text": [
            "<!DOCTYPE html>\n",
            "\n",
            "\n",
            "\n",
            "<html lang=\"ko\" class=\"os_unknown none unknown version_0 \">\n",
            "<head>\n",
            "<meta charset=\n",
            "--------------------------------------------------------------------------------\n",
            " type=\"text/javascript\" src=\"//t1.daumcdn.net/kas/static/ba.min.js\"></script>\n",
            "</div>\n",
            "</body>\n",
            "</html>\n"
          ],
          "name": "stdout"
        }
      ]
    },
    {
      "cell_type": "code",
      "metadata": {
        "id": "DYTwRme90z0A"
      },
      "source": [
        "# html 코드를 분석하는 BeautifulSoup 객체 생성\n",
        "soup = BeautifulSoup(markup=html, features='html5lib')"
      ],
      "execution_count": null,
      "outputs": []
    },
    {
      "cell_type": "code",
      "metadata": {
        "colab": {
          "base_uri": "https://localhost:8080/"
        },
        "id": "am4lQbUW1A43",
        "outputId": "803de2fe-c368-4785-bd69-e563d797b68e"
      },
      "source": [
        "elements = soup.select('a.link_txt')\n",
        "len(elements)  #> 158개\n",
        "#> 전체 html 코드에는 태그가 a이고 class 속성값이 link_txt인 요소가 모두 158개\n",
        "#> 찾으려고 하는 랭킹 뉴스 50개 이외에도 더 있음."
      ],
      "execution_count": null,
      "outputs": [
        {
          "output_type": "execute_result",
          "data": {
            "text/plain": [
              "158"
            ]
          },
          "metadata": {
            "tags": []
          },
          "execution_count": 18
        }
      ]
    },
    {
      "cell_type": "code",
      "metadata": {
        "colab": {
          "base_uri": "https://localhost:8080/"
        },
        "id": "kWvMSsrm7TYo",
        "outputId": "43d19133-a917-476e-e07a-82c7daf16d2c"
      },
      "source": [
        "selector = 'ul.list_news2 li a.link_txt'\n",
        "elements = soup.select(selector)\n",
        "len(elements)  #> 50개 HTML 요소를 갖는 리스트"
      ],
      "execution_count": null,
      "outputs": [
        {
          "output_type": "execute_result",
          "data": {
            "text/plain": [
              "50"
            ]
          },
          "metadata": {
            "tags": []
          },
          "execution_count": 33
        }
      ]
    },
    {
      "cell_type": "code",
      "metadata": {
        "colab": {
          "base_uri": "https://localhost:8080/"
        },
        "id": "PfkZKlhF9GdG",
        "outputId": "84d3b7d3-c127-4bc7-8f1d-bee701a6313e"
      },
      "source": [
        "for link in elements:\n",
        "    print(link.text.strip())  # a 태그의 텍스트 컨텐트\n",
        "    print(link['href'])  # link.get('href') - a 태그의 href 속성 값\n",
        "    print()"
      ],
      "execution_count": null,
      "outputs": [
        {
          "output_type": "stream",
          "text": [
            "\"수건으로 몸 가리며 도망..풀파티장은 아수라장\"\n",
            "https://v.daum.net/v/20210803093900449\n",
            "\n",
            "'박진영 사퇴' 단초 만든 정세균 \"음주운전 부끄럽게 생각해야\"\n",
            "https://v.daum.net/v/20210803102643588\n",
            "\n",
            "'델타 플러스' 국내 첫 확인, 엎친데 덮치나..신규확진 1202명, 4주째 네자릿수\n",
            "https://v.daum.net/v/20210803093813431\n",
            "\n",
            "아기사슴 밤비, 3분의 1이 코로나 걸렸다\n",
            "https://v.daum.net/v/20210803090932310\n",
            "\n",
            "일본서 80대 여성 한달 내에 화이자 4번 접종..건강은?\n",
            "https://v.daum.net/v/20210803095311011\n",
            "\n",
            "\"공식발표 엉터리\" 中소문 진짜였네..폭우 사망자 사흘만에 3배↑\n",
            "https://v.daum.net/v/20210803083646321\n",
            "\n",
            "장제원, 윤석열 캠프 '총괄실장'에 선임..이용, 수행실장으로\n",
            "https://v.daum.net/v/20210803093155165\n",
            "\n",
            "\"왜 반말\" 호프집서 처음 본 60대 머리에 소주병 내리친 50대\n",
            "https://v.daum.net/v/20210803091153409\n",
            "\n",
            "올해 대체공휴일, 8월16일·10월4일·10월11일로 확정\n",
            "https://v.daum.net/v/20210803100014330\n",
            "\n",
            "이번이 세 번째..美 국회의사당 폭동 진압 경찰관, 극단적 선택\n",
            "https://v.daum.net/v/20210803103601037\n",
            "\n",
            "이런 방법이 있었구나..'짝퉁' 구찌·롤렉스 초간단 구별법\n",
            "https://v.daum.net/v/20210803070104932\n",
            "\n",
            "유시민, '알릴레오 방송' 재개..대선 앞두고 '정치 발언'도 다시?\n",
            "https://v.daum.net/v/20210803110121307\n",
            "\n",
            "로펌대표가 신입 女변호사 성폭행..경찰 \"공소권 없다\" 결론\n",
            "https://v.daum.net/v/20210803100003294\n",
            "\n",
            "\"회사 때려치웠다고 말해 이유 물어보니 대표가 많이 만져서\"\n",
            "https://v.daum.net/v/20210803100015333\n",
            "\n",
            "윤석열·최재형의 선 넘는 '입'.. 이래서야 지지층 넓히겠나\n",
            "https://v.daum.net/v/20210803090003912\n",
            "\n",
            "나이 들면 온몸이 쑤시고 아픈 이유\n",
            "https://v.daum.net/v/20210803100106405\n",
            "\n",
            "아무리 운동해도 근육이 그대로인 이유 4가지\n",
            "https://v.daum.net/v/20210803073202280\n",
            "\n",
            "건강에 참 좋은데, 남의 시선 때문에 피하는 행동은?\n",
            "https://v.daum.net/v/20210803084726566\n",
            "\n",
            "\"10시간 차 타고 왔어요\" 태국 한인들 코로나 백신 단체 접종\n",
            "https://v.daum.net/v/20210803080018640\n",
            "\n",
            "\"숨진 성폭행 가해 대표변호사, 10차례 추행 혐의\"\n",
            "https://v.daum.net/v/20210803104632515\n",
            "\n",
            "화이자 '영하 2~8도' 아이스박스로 보건소서 위탁의료기관 이송..'콜드체인' 관리될까\n",
            "https://v.daum.net/v/20210803094937892\n",
            "\n",
            "국내 첫 '델타플러스' 변이 확인.. 40대 남성 등 2명\n",
            "https://v.daum.net/v/20210803104559483\n",
            "\n",
            "체력 떨어질 때..힘 북돋우는 식품 6\n",
            "https://v.daum.net/v/20210803070604028\n",
            "\n",
            "'오죽 괴롭힘 당했으면'..사원증 모양 녹음기 찾는 직장인들\n",
            "https://v.daum.net/v/20210803112319408\n",
            "\n",
            "먹고 바로 '꾸루룩'..식사 직후 배변, 원인과 증상은?\n",
            "https://v.daum.net/v/20210803050111747\n",
            "\n",
            "재난지원금에 추석까지..과일·채소·한우가격 천정부지\n",
            "https://v.daum.net/v/20210803112134319\n",
            "\n",
            "국민의당 이태규 \"우리가 돈이 없지 가오가 없냐\"\n",
            "https://v.daum.net/v/20210803084204440\n",
            "\n",
            "윤석열 '쩍벌' 습관에 조응천 \"충심으로 드리는 말씀인데..\"\n",
            "https://v.daum.net/v/20210803000511684\n",
            "\n",
            "서초구 어린이집 19명 집단감염..\"식사·신체놀이 밀접접촉\"\n",
            "https://v.daum.net/v/20210803110325413\n",
            "\n",
            "운동 전 '커피 한 잔'에 숨겨진 비밀\n",
            "https://v.daum.net/v/20210803080202682\n",
            "\n",
            "말다툼 끝 4살 아들 앞에서 아내 살해..30대 남성 13년형 확정\n",
            "https://v.daum.net/v/20210803103139820\n",
            "\n",
            "박병석 \"나라 갈등 세계 최악\"..윤석열 \"국민통합 잘 되게\"\n",
            "https://v.daum.net/v/20210803095421067\n",
            "\n",
            "\"풀파티 안 하겠다고 약속 받았는데 당일에 가보니..\"\n",
            "https://v.daum.net/v/20210803092301825\n",
            "\n",
            "\"김밥 먹고 5kg 빠졌다\"..분당 김밥집 '집단 식중독' 쇼크\n",
            "https://v.daum.net/v/20210803111547007\n",
            "\n",
            "부동산 레임덕 현실화하나..돌파구 없는 정책 리더십(종합)\n",
            "https://v.daum.net/v/20210803081043824\n",
            "\n",
            "자식에겐 한푼 안 주고..1조4000억 전재산 내연녀에 남긴 남자\n",
            "https://v.daum.net/v/20210803073751329\n",
            "\n",
            "국민 10명 중 8명 \"수도권 거리두기 4단계 연장 찬성\"\n",
            "https://v.daum.net/v/20210803110037246\n",
            "\n",
            "'이재명-태영건설 유착설' 퍼뜨린 유튜버 '혐의없음'..검찰행\n",
            "https://v.daum.net/v/20210803095125964\n",
            "\n",
            "日 \"후쿠시마 이미지 나빠져\"..한국에만 선택적 '도시락 트집'\n",
            "https://v.daum.net/v/20210803080402714\n",
            "\n",
            "\"왜 우리만 이런 얼굴을..\" 中이 트집 잡은 올림픽 사진\n",
            "https://v.daum.net/v/20210802163127522\n",
            "\n",
            "조은산 만난 윤석열 \"조국 수사는 정의도, 정치도 아니었다..그건 상식\"\n",
            "https://v.daum.net/v/20210803102810658\n",
            "\n",
            "힘 빠진 동학개미들..증시 떠나나\n",
            "https://v.daum.net/v/20210803111159814\n",
            "\n",
            "테슬라 13t 대형 배터리 화재..불 끄는데 꼬박 나흘\n",
            "https://v.daum.net/v/20210803103413947\n",
            "\n",
            "[영상] 서울대 치과병원에서 불..환자 등 100여 명 대피\n",
            "https://v.daum.net/v/20210803112943700\n",
            "\n",
            "\"썩어 쉰내 진동\"..'착한 소비' 대박났던 초당옥수수의 배신\n",
            "https://v.daum.net/v/20210802201200661\n",
            "\n",
            "조은산 만난 윤석열 \"조국 수사 왜? 상식이었다..내 정치는 타이슨식\"\n",
            "https://v.daum.net/v/20210803103829150\n",
            "\n",
            "[단독]삼성전자 수원사업장서 무더기 코로나 확진..10여명 추정\n",
            "https://v.daum.net/v/20210803114000203\n",
            "\n",
            "군, 40mm급 소형포탄 6발 탑재 '유탄발사드론' 내년 시범운용\n",
            "https://v.daum.net/v/20210803091432489\n",
            "\n",
            "다시 소환된 이재명 '음주운전'..김두관·정세균 \"벌금기록 공개\" 협공\n",
            "https://v.daum.net/v/20210803112427488\n",
            "\n",
            "\"대전이 작년 대구같다\"..4단계서 확진 증가 \"방역 손 놨나\"\n",
            "https://v.daum.net/v/20210803110127314\n",
            "\n"
          ],
          "name": "stdout"
        }
      ]
    },
    {
      "cell_type": "markdown",
      "metadata": {
        "id": "Yu-MrDTJ_X8-"
      },
      "source": [
        "# 다음(DAUM) 뉴스 랭킹 열독률 높은 뉴스 1 ~ 20위의 제목과 링크를 출력"
      ]
    },
    {
      "cell_type": "code",
      "metadata": {
        "colab": {
          "base_uri": "https://localhost:8080/"
        },
        "id": "EXTxi8GP_vok",
        "outputId": "5e3eddf4-9e20-4024-c9ea-aa9690033be9"
      },
      "source": [
        "# 요청 주소\n",
        "url = 'https://news.daum.net/ranking/kkomkkom'\n",
        "\n",
        "# 요청(request)을 보내고 응답(response)를 받음\n",
        "response = requests.get(url)\n",
        "\n",
        "# 응답 코드(HTTP Status Code) 확인\n",
        "print(response)"
      ],
      "execution_count": null,
      "outputs": [
        {
          "output_type": "stream",
          "text": [
            "<Response [200]>\n"
          ],
          "name": "stdout"
        }
      ]
    },
    {
      "cell_type": "code",
      "metadata": {
        "colab": {
          "base_uri": "https://localhost:8080/"
        },
        "id": "uFkwB1S9U_93",
        "outputId": "ebfdb73d-6f8f-4e87-f91d-b74d3a542cca"
      },
      "source": [
        "# 응답에서 HTML 코드를 추출\n",
        "html = response.text.strip()\n",
        "print(html[:300])"
      ],
      "execution_count": null,
      "outputs": [
        {
          "output_type": "stream",
          "text": [
            "<!DOCTYPE html>\n",
            "\n",
            "\n",
            "\n",
            "<html lang=\"ko\" class=\"os_unknown none unknown version_0 \">\n",
            "<head>\n",
            "<meta charset=\"utf-8\">\n",
            "<meta name=\"referrer\" content=\"always\" />\n",
            "\n",
            "<meta property=\"og:author\" content=\"Daum 뉴스\" />\n",
            "<meta property=\"og:site_name\" content=\"다음뉴스\" />\n",
            "<meta property=\"og:title\" content=\"뉴스 랭킹\"/>\n",
            "<meta pr\n"
          ],
          "name": "stdout"
        }
      ]
    },
    {
      "cell_type": "code",
      "metadata": {
        "colab": {
          "base_uri": "https://localhost:8080/"
        },
        "id": "k-GMVJOiVS5N",
        "outputId": "967a571d-5815-494b-85df-3c6f0969398e"
      },
      "source": [
        "# BeautifulSoup 객체 생성\n",
        "soup = BeautifulSoup(markup=html, features='html5lib')\n",
        "# CSS selector\n",
        "selector = 'ul.list_news2 li a.link_txt'\n",
        "# 'ul.list_news2 > li > div.cont_thumb > strong.tit_thumb > a.link_txt'\n",
        "\n",
        "# CSSS selector를 사용해서 원하는 HTML 요소들을 찾음\n",
        "elements = soup.select(selector)\n",
        "len(elements)  #> 30개"
      ],
      "execution_count": null,
      "outputs": [
        {
          "output_type": "execute_result",
          "data": {
            "text/plain": [
              "30"
            ]
          },
          "metadata": {
            "tags": []
          },
          "execution_count": 37
        }
      ]
    },
    {
      "cell_type": "code",
      "metadata": {
        "colab": {
          "base_uri": "https://localhost:8080/"
        },
        "id": "MrW4hbHDWdGF",
        "outputId": "d9b92909-b833-43c2-81b7-345d02e94e7b"
      },
      "source": [
        "for i, link in enumerate(elements):\n",
        "    if i == 20:\n",
        "        break\n",
        "    print(f'--- {i + 1} ---')  # 기사 순위\n",
        "    print(link.text)  # 기사 제목\n",
        "    print(link['href'])  # 기사 링크 주소(URL)"
      ],
      "execution_count": null,
      "outputs": [
        {
          "output_type": "stream",
          "text": [
            "--- 1 ---\n",
            "겨우 빨랫감에 덜미..빈 라덴, 10년만에 이렇게 잡혔다\n",
            "https://v.daum.net/v/20210803050140757\n",
            "--- 2 ---\n",
            "'알코올농도 0.124%' 나온 운전자 '무죄'..왜?\n",
            "https://v.daum.net/v/20210803070035911\n",
            "--- 3 ---\n",
            "맹견 피하다 불법주차 차량 부딪쳐 장애..법원 \"견주·차주 100% 책임\"\n",
            "https://v.daum.net/v/20210803111318895\n",
            "--- 4 ---\n",
            "조은산 만난 윤석열 \"조국 수사 왜? 상식이었다..내 정치는 타이슨식\"\n",
            "https://v.daum.net/v/20210803103829150\n",
            "--- 5 ---\n",
            "맹견 피하다 불법주차 차량 부딪혀 다치면 견주·차주 100% 책임\n",
            "https://v.daum.net/v/20210803094733801\n",
            "--- 6 ---\n",
            "미얀마 민주진영 정부 \"전면전 대비하라\"..무장단체에 지침\n",
            "https://v.daum.net/v/20210803104104248\n",
            "--- 7 ---\n",
            "[사건의 재구성]숨긴 성착취물만 3449개..'사부' 따라 10대만 노렸다\n",
            "https://v.daum.net/v/20210803060012269\n",
            "--- 8 ---\n",
            "조은산 만난 尹 \"조국 수사, 정의 아닌 상식이었다\"\n",
            "https://v.daum.net/v/20210803103642069\n",
            "--- 9 ---\n",
            "\"칼 내려놓고 얘기하자\"..상담심리 전공 살린 경찰관\n",
            "https://v.daum.net/v/20210803090003914\n",
            "--- 10 ---\n",
            "화이자·모더나 가격 인상에..더 중요해진 '국산백신' 개발, 어디까지 왔나\n",
            "https://v.daum.net/v/20210803055705214\n",
            "--- 11 ---\n",
            "맹견 피하려다 하필 불법 주차 차량과 충돌..법원 \"견주와 차주가 배상하라\"\n",
            "https://v.daum.net/v/20210803103219850\n",
            "--- 12 ---\n",
            "크래프톤 오늘 청약 마지막 날..HK이노엔 변수 통할까\n",
            "https://v.daum.net/v/20210803053003069\n",
            "--- 13 ---\n",
            "조국 \"윤석열, 김기춘 지침 신조로..야간의 주간화, 라면의 상식화\"\n",
            "https://v.daum.net/v/20210803075102492\n",
            "--- 14 ---\n",
            "막노동으로 번 돈 '지주택' 투자했다가..\"돈 꼭 받아\" 유서가 된 문자\n",
            "https://v.daum.net/v/20210803053902125\n",
            "--- 15 ---\n",
            "반도체 미래 승부처 'EUV', 인텔의 공습이 시작됐다\n",
            "https://v.daum.net/v/20210803060118366\n",
            "--- 16 ---\n",
            "하정우와 '43살 차이' 이복동생, 김용건 재산 상속 어떻게 받을까\n",
            "https://v.daum.net/v/20210803073644319\n",
            "--- 17 ---\n",
            "대법관 후보 첫 제외 '고법부장'..더 이상 '법관의 꽃'은 없나\n",
            "https://v.daum.net/v/20210803000010562\n",
            "--- 18 ---\n",
            "\"경기도민 혈세가 주유비로\" 이재명 지사직 사퇴 공세 확전하나\n",
            "https://v.daum.net/v/20210803062503561\n",
            "--- 19 ---\n",
            "'쌍용차 인수전' 다크호스 된 SM그룹..11년 만에 재도전\n",
            "https://v.daum.net/v/20210803060105351\n",
            "--- 20 ---\n",
            "'고가 논란' 크래프톤, 막판 청약할까 말까\n",
            "https://v.daum.net/v/20210803070303984\n"
          ],
          "name": "stdout"
        }
      ]
    },
    {
      "cell_type": "code",
      "metadata": {
        "colab": {
          "base_uri": "https://localhost:8080/"
        },
        "id": "zOKWe4uUaKvr",
        "outputId": "b63aa8e6-2e92-419a-bc24-76894a342656"
      },
      "source": [
        "for i in range(1, 11):\n",
        "    selector = f'ul.list_news2 > li:nth-of-type({i}) a.link_txt'\n",
        "    link = soup.select_one(selector)\n",
        "    print(f'--- {i} ---')\n",
        "    print(link.text)\n",
        "    print(link['href'])"
      ],
      "execution_count": null,
      "outputs": [
        {
          "output_type": "stream",
          "text": [
            "--- 1 ---\n",
            "겨우 빨랫감에 덜미..빈 라덴, 10년만에 이렇게 잡혔다\n",
            "https://v.daum.net/v/20210803050140757\n",
            "--- 2 ---\n",
            "'알코올농도 0.124%' 나온 운전자 '무죄'..왜?\n",
            "https://v.daum.net/v/20210803070035911\n",
            "--- 3 ---\n",
            "맹견 피하다 불법주차 차량 부딪쳐 장애..법원 \"견주·차주 100% 책임\"\n",
            "https://v.daum.net/v/20210803111318895\n",
            "--- 4 ---\n",
            "조은산 만난 윤석열 \"조국 수사 왜? 상식이었다..내 정치는 타이슨식\"\n",
            "https://v.daum.net/v/20210803103829150\n",
            "--- 5 ---\n",
            "맹견 피하다 불법주차 차량 부딪혀 다치면 견주·차주 100% 책임\n",
            "https://v.daum.net/v/20210803094733801\n",
            "--- 6 ---\n",
            "미얀마 민주진영 정부 \"전면전 대비하라\"..무장단체에 지침\n",
            "https://v.daum.net/v/20210803104104248\n",
            "--- 7 ---\n",
            "[사건의 재구성]숨긴 성착취물만 3449개..'사부' 따라 10대만 노렸다\n",
            "https://v.daum.net/v/20210803060012269\n",
            "--- 8 ---\n",
            "조은산 만난 尹 \"조국 수사, 정의 아닌 상식이었다\"\n",
            "https://v.daum.net/v/20210803103642069\n",
            "--- 9 ---\n",
            "\"칼 내려놓고 얘기하자\"..상담심리 전공 살린 경찰관\n",
            "https://v.daum.net/v/20210803090003914\n",
            "--- 10 ---\n",
            "화이자·모더나 가격 인상에..더 중요해진 '국산백신' 개발, 어디까지 왔나\n",
            "https://v.daum.net/v/20210803055705214\n"
          ],
          "name": "stdout"
        }
      ]
    },
    {
      "cell_type": "markdown",
      "metadata": {
        "id": "luUbOg8y_wis"
      },
      "source": [
        "# 다음 뉴스 랭킹 댓글 많은 뉴스 1 ~ 10위까지의 순위, 댓글수, 제목, 링크 URL을 출력"
      ]
    },
    {
      "cell_type": "code",
      "metadata": {
        "colab": {
          "base_uri": "https://localhost:8080/"
        },
        "id": "zak4elipcYJT",
        "outputId": "f82de993-9ff8-43ef-bb23-e9fb2f9a2ca0"
      },
      "source": [
        "url = 'https://news.daum.net/ranking/bestreply'  # request URL\n",
        "response = requests.get(url)  # request -> response\n",
        "print(response)  #> 200: HTTP Success"
      ],
      "execution_count": null,
      "outputs": [
        {
          "output_type": "stream",
          "text": [
            "<Response [200]>\n"
          ],
          "name": "stdout"
        }
      ]
    },
    {
      "cell_type": "code",
      "metadata": {
        "colab": {
          "base_uri": "https://localhost:8080/"
        },
        "id": "p-OQMjd0kYvb",
        "outputId": "a7151b8d-a9d5-4d6e-c177-caff11a8e4f6"
      },
      "source": [
        "html = response.text.strip()  # response에서 HTML 코드 추출\n",
        "print(html[:300])"
      ],
      "execution_count": null,
      "outputs": [
        {
          "output_type": "stream",
          "text": [
            "<!DOCTYPE html>\n",
            "\n",
            "\n",
            "\n",
            "<html lang=\"ko\" class=\"os_unknown none unknown version_0 \">\n",
            "<head>\n",
            "<meta charset=\"utf-8\">\n",
            "<meta name=\"referrer\" content=\"always\" />\n",
            "\n",
            "<meta property=\"og:author\" content=\"Daum 뉴스\" />\n",
            "<meta property=\"og:site_name\" content=\"다음뉴스\" />\n",
            "<meta property=\"og:title\" content=\"뉴스 랭킹\"/>\n",
            "<meta pr\n"
          ],
          "name": "stdout"
        }
      ]
    },
    {
      "cell_type": "code",
      "metadata": {
        "id": "frIq41j5kpD4"
      },
      "source": [
        "soup = BeautifulSoup(markup=html, features='html5lib')  # BeautifulSoup 객체 생성"
      ],
      "execution_count": null,
      "outputs": []
    },
    {
      "cell_type": "code",
      "metadata": {
        "colab": {
          "base_uri": "https://localhost:8080/"
        },
        "id": "zBqrq7sEk70I",
        "outputId": "5bd4480b-a9cf-4ebd-a4df-7c1b4d0dd9b3"
      },
      "source": [
        "reply_selector = 'ul.list_news2 > li:nth-of-type(1) > div.rank_num > span.info_rank > span.ico_news2'\n",
        "soup.select_one(reply_selector)"
      ],
      "execution_count": null,
      "outputs": [
        {
          "output_type": "execute_result",
          "data": {
            "text/plain": [
              "<span class=\"ico_news2\">2,194</span>"
            ]
          },
          "metadata": {
            "tags": []
          },
          "execution_count": 64
        }
      ]
    },
    {
      "cell_type": "code",
      "metadata": {
        "colab": {
          "base_uri": "https://localhost:8080/"
        },
        "id": "Qbt0iyQ0m6QU",
        "outputId": "e9715cf0-f8e3-4d1f-fd63-f0efd1b1a9f8"
      },
      "source": [
        "title_selector = 'ul.list_news2 > li:nth-of-type(1) > div.cont_thumb a.link_txt'\n",
        "soup.select_one(title_selector)"
      ],
      "execution_count": null,
      "outputs": [
        {
          "output_type": "execute_result",
          "data": {
            "text/plain": [
              "<a class=\"link_txt\" href=\"https://news.v.daum.net/v/20210803125100237\">국정원 \"北, 한미연합훈련 중단시 남북관계 상응조치 의향\"(종합)</a>"
            ]
          },
          "metadata": {
            "tags": []
          },
          "execution_count": 65
        }
      ]
    },
    {
      "cell_type": "code",
      "metadata": {
        "colab": {
          "base_uri": "https://localhost:8080/"
        },
        "id": "7D3sD2LDn5v3",
        "outputId": "ac38439c-9771-4ea3-ff00-905aff506071"
      },
      "source": [
        "for i in range(1, 11):\n",
        "    reply_selector = f'ul.list_news2 > li:nth-of-type({i}) > div.rank_num > span.info_rank > span.ico_news2'\n",
        "    title_selector = f'ul.list_news2 > li:nth-of-type({i}) > div.cont_thumb a.link_txt'\n",
        "    num_of_replies = soup.select_one(reply_selector).text\n",
        "    link = soup.select_one(title_selector)\n",
        "    title = link.text\n",
        "    title_link = link['href']  # link.get('href')\n",
        "    print(f'--- {i} ---')\n",
        "    print(f'댓글수: {num_of_replies}')\n",
        "    print(title)\n",
        "    print(title_link)"
      ],
      "execution_count": null,
      "outputs": [
        {
          "output_type": "stream",
          "text": [
            "--- 1 ---\n",
            "댓글수: 2,194\n",
            "국정원 \"北, 한미연합훈련 중단시 남북관계 상응조치 의향\"(종합)\n",
            "https://news.v.daum.net/v/20210803125100237\n",
            "--- 2 ---\n",
            "댓글수: 2,057\n",
            "미 총기난사 유족들, '범인이 썼던 탄창' 제조 한국기업 고소\n",
            "https://news.v.daum.net/v/20210803114328346\n",
            "--- 3 ---\n",
            "댓글수: 1,906\n",
            "\"수건으로 몸 가리며 도망..풀파티장은 아수라장\"\n",
            "https://news.v.daum.net/v/20210803093900449\n",
            "--- 4 ---\n",
            "댓글수: 1,607\n",
            "조은산 만난 윤석열 \"조국 수사는 정의도, 정치도 아니었다..그건 상식\"\n",
            "https://news.v.daum.net/v/20210803102810658\n",
            "--- 5 ---\n",
            "댓글수: 1,484\n",
            "갓 낳은 아기 4층 밖으로 던진 20대 징역 2년 확정\n",
            "https://news.v.daum.net/v/20210803112951705\n",
            "--- 6 ---\n",
            "댓글수: 1,461\n",
            "윤석열 \"형 사실 민초단\" 먹방..\"배우신 분\" vs \"치약인데\"\n",
            "https://news.v.daum.net/v/20210803121701603\n",
            "--- 7 ---\n",
            "댓글수: 1,413\n",
            "국민의힘·국민의힘, 합당 싸움 격화..\"安 대선출마\" vs \"커다란 오판될 것\"\n",
            "https://news.v.daum.net/v/20210803113201830\n",
            "--- 8 ---\n",
            "댓글수: 1,105\n",
            "국민 84% 수도권 4단계 연장 찬성..미접종자 접종의향 비율도 84%(종합)\n",
            "https://news.v.daum.net/v/20210803123934068\n",
            "--- 9 ---\n",
            "댓글수: 775\n",
            "하정우와 '43살 차이' 이복동생, 김용건 재산 상속 어떻게 받을까\n",
            "https://news.v.daum.net/v/20210803073644319\n",
            "--- 10 ---\n",
            "댓글수: 755\n",
            "조은산 만난 윤석열 \"조국 수사 왜? 상식이었다..내 정치는 타이슨식\"\n",
            "https://news.v.daum.net/v/20210803103829150\n"
          ],
          "name": "stdout"
        }
      ]
    },
    {
      "cell_type": "markdown",
      "metadata": {
        "id": "uCXDUr_Aqn-A"
      },
      "source": [
        "# 다음 뉴스 랭킹 연령별 뉴스에서 연령대/성별/순위/기사 제목/기사 URL을 출력"
      ]
    },
    {
      "cell_type": "code",
      "metadata": {
        "colab": {
          "base_uri": "https://localhost:8080/"
        },
        "id": "bSFS-W7LqxNm",
        "outputId": "f1e39570-400c-46bb-95d8-238b4822af9a"
      },
      "source": [
        "url = 'https://news.daum.net/ranking/age'\n",
        "response = requests.get(url)\n",
        "print(response)"
      ],
      "execution_count": null,
      "outputs": [
        {
          "output_type": "stream",
          "text": [
            "<Response [200]>\n"
          ],
          "name": "stdout"
        }
      ]
    },
    {
      "cell_type": "code",
      "metadata": {
        "id": "5rLQs8Cr1IsW"
      },
      "source": [
        "html = response.text.strip()\n",
        "soup = BeautifulSoup(markup=html, features='html5lib')"
      ],
      "execution_count": null,
      "outputs": []
    },
    {
      "cell_type": "code",
      "metadata": {
        "colab": {
          "base_uri": "https://localhost:8080/"
        },
        "id": "vnZYzaYy1TpK",
        "outputId": "ee992834-1efa-40de-f233-98786a5aaeb0"
      },
      "source": [
        "selector = 'div.item_20s > div.rank_female > strong.txt_news'\n",
        "soup.select_one(selector)"
      ],
      "execution_count": null,
      "outputs": [
        {
          "output_type": "execute_result",
          "data": {
            "text/plain": [
              "<strong class=\"txt_news\">20대 여성</strong>"
            ]
          },
          "metadata": {
            "tags": []
          },
          "execution_count": 78
        }
      ]
    },
    {
      "cell_type": "code",
      "metadata": {
        "colab": {
          "base_uri": "https://localhost:8080/"
        },
        "id": "E1T7EHm-2aRi",
        "outputId": "3ead48d9-caaf-44fc-b5ad-26ce8f80facb"
      },
      "source": [
        "selector = 'div.item_20s > div.rank_female > ol.list_age > li.num_news > a.link_txt'\n",
        "soup.select(selector)"
      ],
      "execution_count": null,
      "outputs": [
        {
          "output_type": "execute_result",
          "data": {
            "text/plain": [
              "[<a class=\"link_txt\" href=\"https://v.daum.net/v/20210803151039204\">방호복 입고 할머니와 화투 사진 주인공은 삼육서울병원 간호사</a>,\n",
              " <a class=\"link_txt\" href=\"https://v.daum.net/v/20210803153818428\">\"레깅스 입고 거리 활보族 늘었다\"..여름에도 불티난 레깅스</a>,\n",
              " <a class=\"link_txt\" href=\"https://v.daum.net/v/20210803140733677\">[뉴시스Pic] '양궁 3관왕' 안산, 모교 방문해 후배들 격려</a>,\n",
              " <a class=\"link_txt\" href=\"https://v.daum.net/v/20210803140003344\">생수병 버릴 때 뚜껑 떼지 마세요 [제로웨이스트 실험실]</a>,\n",
              " <a class=\"link_txt\" href=\"https://v.daum.net/v/20210803150024789\">[단독] '화곡동 일가족 변사' 한 달 만에.. 옆 건물서 기초수급자 숨진 채 발견</a>]"
            ]
          },
          "metadata": {
            "tags": []
          },
          "execution_count": 86
        }
      ]
    },
    {
      "cell_type": "code",
      "metadata": {
        "colab": {
          "base_uri": "https://localhost:8080/"
        },
        "id": "c6tLjl1k3fcs",
        "outputId": "e232c90c-2730-45f2-ae2c-43392e96a485"
      },
      "source": [
        "ages = range(20, 60, 10)  # 연령대: 20, 30, 40, 50\n",
        "genders = ('female', 'male')  # 성별\n",
        "\n",
        "for age in ages:\n",
        "    for gender in genders:\n",
        "        # 카테고리(연령대, 성별) 출력\n",
        "        category_selector = f'div.item_{age}s > div.rank_{gender} > strong.txt_news'\n",
        "        category = soup.select_one(category_selector)\n",
        "        print(f'--- {category.text} ---')\n",
        "\n",
        "        # 카테고리의 기사 순위, 제목, URL\n",
        "        selector = f'div.item_{age}s > div.rank_{gender} > ol.list_age > li.num_news > a.link_txt'\n",
        "        links = soup.select(selector)\n",
        "        for i, link in enumerate(links):\n",
        "            print(f'[{i + 1}] {link.text} {link[\"href\"]}')\n"
      ],
      "execution_count": 92,
      "outputs": [
        {
          "output_type": "stream",
          "text": [
            "--- 20대 여성 ---\n",
            "[1] 방호복 입고 할머니와 화투 사진 주인공은 삼육서울병원 간호사 https://v.daum.net/v/20210803151039204\n",
            "[2] \"레깅스 입고 거리 활보族 늘었다\"..여름에도 불티난 레깅스 https://v.daum.net/v/20210803153818428\n",
            "[3] [뉴시스Pic] '양궁 3관왕' 안산, 모교 방문해 후배들 격려 https://v.daum.net/v/20210803140733677\n",
            "[4] 생수병 버릴 때 뚜껑 떼지 마세요 [제로웨이스트 실험실] https://v.daum.net/v/20210803140003344\n",
            "[5] [단독] '화곡동 일가족 변사' 한 달 만에.. 옆 건물서 기초수급자 숨진 채 발견 https://v.daum.net/v/20210803150024789\n",
            "--- 20대 남성 ---\n",
            "[1] 잠자는 여우 털 '쏙쏙'..박새가 '털 도둑질' 목숨 거는 이유는? https://v.daum.net/v/20210803145604610\n",
            "[2] 3억원 빌린 뒤 갚지 않은 채무자 살해한 60대 징역 20년 https://v.daum.net/v/20210803150104812\n",
            "[3] 앞뒤가 똑같은 번호 '이수근 대리운전'마저..\"카카오 너무하다\" https://v.daum.net/v/20210803123902051\n",
            "[4] 송영길, 경기도 재난지원금 100% 지급 \"지방정부 판단 문제\" https://v.daum.net/v/20210803141151840\n",
            "[5] 이준석, 대선후보 검증단장에 '尹 악연' 김진태 유력 검토 https://v.daum.net/v/20210803153031076\n",
            "--- 30대 여성 ---\n",
            "[1] \"연하 남친이 헤어지자고 할까 봐\" 갓 낳은 아기 4층서 던진 20대 엄마 '실형' https://v.daum.net/v/20210803144541202\n",
            "[2] 방호복 입고 할머니와 화투 사진 주인공은 삼육서울병원 간호사 https://v.daum.net/v/20210803151039204\n",
            "[3] 생수병 버릴 때 뚜껑 떼지 마세요 [제로웨이스트 실험실] https://v.daum.net/v/20210803140003344\n",
            "[4] \"레깅스 입고 거리 활보族 늘었다\"..여름에도 불티난 레깅스 https://v.daum.net/v/20210803153818428\n",
            "[5] [단독] '화곡동 일가족 변사' 한 달 만에.. 옆 건물서 기초수급자 숨진 채 발견 https://v.daum.net/v/20210803150024789\n",
            "--- 30대 남성 ---\n",
            "[1] 앞뒤가 똑같은 번호 '이수근 대리운전'마저..\"카카오 너무하다\" https://v.daum.net/v/20210803123902051\n",
            "[2] 3억원 빌린 뒤 갚지 않은 채무자 살해한 60대 징역 20년 https://v.daum.net/v/20210803150104812\n",
            "[3] \"연하 남친이 헤어지자고 할까 봐\" 갓 낳은 아기 4층서 던진 20대 엄마 '실형' https://v.daum.net/v/20210803144541202\n",
            "[4] 방호복 입고 할머니와 화투 사진 주인공은 삼육서울병원 간호사 https://v.daum.net/v/20210803151039204\n",
            "[5] 송영길, 경기도 재난지원금 100% 지급 \"지방정부 판단 문제\" https://v.daum.net/v/20210803141151840\n",
            "--- 40대 여성 ---\n",
            "[1] '이 음식' 마음 놓고 먹었다간, 1년 만에 뚱뚱해진다 https://v.daum.net/v/20210803143956978\n",
            "[2] 이재명 \"음주운전 반성하고 사과드린다\" 재차 고개 숙여 https://v.daum.net/v/20210803150226872\n",
            "[3] 방호복 입고 할머니와 화투 사진 주인공은 삼육서울병원 간호사 https://v.daum.net/v/20210803151039204\n",
            "[4] \"연하 남친이 헤어지자고 할까 봐\" 갓 낳은 아기 4층서 던진 20대 엄마 '실형' https://v.daum.net/v/20210803144541202\n",
            "[5] 생수병 버릴 때 뚜껑 떼지 마세요 [제로웨이스트 실험실] https://v.daum.net/v/20210803140003344\n",
            "--- 40대 남성 ---\n",
            "[1] 미 총기난사 유족들, '범인이 썼던 탄창' 제조 한국기업 고소 https://v.daum.net/v/20210803114328346\n",
            "[2] '이 음식' 마음 놓고 먹었다간, 1년 만에 뚱뚱해진다 https://v.daum.net/v/20210803143956978\n",
            "[3] 3억원 빌린 뒤 갚지 않은 채무자 살해한 60대 징역 20년 https://v.daum.net/v/20210803150104812\n",
            "[4] 송영길, 경기도 재난지원금 100% 지급 \"지방정부 판단 문제\" https://v.daum.net/v/20210803141151840\n",
            "[5] 방호복 입고 할머니와 화투 사진 주인공은 삼육서울병원 간호사 https://v.daum.net/v/20210803151039204\n",
            "--- 50대 여성 ---\n",
            "[1] 이재명 \"음주운전 반성하고 사과드린다\" 재차 고개 숙여 https://v.daum.net/v/20210803150226872\n",
            "[2] '이 음식' 마음 놓고 먹었다간, 1년 만에 뚱뚱해진다 https://v.daum.net/v/20210803143956978\n",
            "[3] 방호복 입고 할머니와 화투 사진 주인공은 삼육서울병원 간호사 https://v.daum.net/v/20210803151039204\n",
            "[4] [단독] '화곡동 일가족 변사' 한 달 만에.. 옆 건물서 기초수급자 숨진 채 발견 https://v.daum.net/v/20210803150024789\n",
            "[5] 3억원 빌린 뒤 갚지 않은 채무자 살해한 60대 징역 20년 https://v.daum.net/v/20210803150104812\n",
            "--- 50대 남성 ---\n",
            "[1] 하정우와 '43살 차이' 이복동생, 김용건 재산 상속 어떻게 받을까 https://v.daum.net/v/20210803073644319\n",
            "[2] 이준석, 대선후보 검증단장에 '尹 악연' 김진태 유력 검토 https://v.daum.net/v/20210803153031076\n",
            "[3] 이재명 \"음주운전 반성하고 사과드린다\" 재차 고개 숙여 https://v.daum.net/v/20210803150226872\n",
            "[4] 송영길, 경기도 재난지원금 100% 지급 \"지방정부 판단 문제\" https://v.daum.net/v/20210803141151840\n",
            "[5] 3억원 빌린 뒤 갚지 않은 채무자 살해한 60대 징역 20년 https://v.daum.net/v/20210803150104812\n"
          ],
          "name": "stdout"
        }
      ]
    },
    {
      "cell_type": "code",
      "metadata": {
        "id": "oA1SyJom5ELZ"
      },
      "source": [
        ""
      ],
      "execution_count": null,
      "outputs": []
    }
  ]
}
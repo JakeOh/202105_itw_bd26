{
  "nbformat": 4,
  "nbformat_minor": 0,
  "metadata": {
    "colab": {
      "name": "py29_daum_news.ipynb",
      "provenance": [],
      "collapsed_sections": [],
      "authorship_tag": "ABX9TyNx9TpOD9eSwQXx3mMJhssJ",
      "include_colab_link": true
    },
    "kernelspec": {
      "name": "python3",
      "display_name": "Python 3"
    },
    "language_info": {
      "name": "python"
    }
  },
  "cells": [
    {
      "cell_type": "markdown",
      "metadata": {
        "id": "view-in-github",
        "colab_type": "text"
      },
      "source": [
        "<a href=\"https://colab.research.google.com/github/JakeOh/202105_itw_bd26/blob/main/lab_python/py29_daum_news.ipynb\" target=\"_parent\"><img src=\"https://colab.research.google.com/assets/colab-badge.svg\" alt=\"Open In Colab\"/></a>"
      ]
    },
    {
      "cell_type": "markdown",
      "metadata": {
        "id": "OpdmYsnAxAJ6"
      },
      "source": [
        "# module import"
      ]
    },
    {
      "cell_type": "code",
      "metadata": {
        "id": "ivLHb9_OuiaT"
      },
      "source": [
        "# 웹 서버에 요청(reqeust)을 보내고, 응답(response)을 받는 기능을 가지고 있는 모듈\n",
        "import requests\n",
        "\n",
        "from bs4 import BeautifulSoup  # HTML parsing(분석)"
      ],
      "execution_count": 1,
      "outputs": []
    },
    {
      "cell_type": "markdown",
      "metadata": {
        "id": "8Eia2jzYxYbw"
      },
      "source": [
        "# 다음(DAUM) 많이 본 랭킹 뉴스"
      ]
    },
    {
      "cell_type": "code",
      "metadata": {
        "id": "u6O7tcJdxV9w"
      },
      "source": [
        "# request를 보낼 웹 주소\n",
        "url = 'https://news.daum.net/ranking/popular'"
      ],
      "execution_count": 2,
      "outputs": []
    },
    {
      "cell_type": "code",
      "metadata": {
        "colab": {
          "base_uri": "https://localhost:8080/"
        },
        "id": "64JsA5gDxr4x",
        "outputId": "b4e9e72d-6f42-4c9d-db8b-a3ee79c5826a"
      },
      "source": [
        "# 서버로 요청을 보내고 응답을 받음\n",
        "response = requests.get(url)  # GET 방식 요청을 보내고 응답을 받음.\n",
        "print(response)\n",
        "#> Response [코드]: \n",
        "#>  200 - 요청 처리 성공(Success)\n",
        "#>  404 - 요청 주소(URL)이 잘못됨."
      ],
      "execution_count": 3,
      "outputs": [
        {
          "output_type": "stream",
          "text": [
            "<Response [200]>\n"
          ],
          "name": "stdout"
        }
      ]
    },
    {
      "cell_type": "code",
      "metadata": {
        "colab": {
          "base_uri": "https://localhost:8080/"
        },
        "id": "fJB77OosyHMZ",
        "outputId": "abb9c50f-8ee7-4cce-e9b7-e4fac3856e7d"
      },
      "source": [
        "# 응답(response)에 포함된 html 코드(문자열)\n",
        "html = response.text.strip()\n",
        "print(html[:100])  # html 코드의 첫 100글자\n",
        "print('-' * 80)\n",
        "print(html[-100:])  # html 코드의 마지막 100글자"
      ],
      "execution_count": 4,
      "outputs": [
        {
          "output_type": "stream",
          "text": [
            "<!DOCTYPE html>\n",
            "\n",
            "\n",
            "\n",
            "<html lang=\"ko\" class=\"os_unknown none unknown version_0 \">\n",
            "<head>\n",
            "<meta charset=\n",
            "--------------------------------------------------------------------------------\n",
            " type=\"text/javascript\" src=\"//t1.daumcdn.net/kas/static/ba.min.js\"></script>\n",
            "</div>\n",
            "</body>\n",
            "</html>\n"
          ],
          "name": "stdout"
        }
      ]
    },
    {
      "cell_type": "code",
      "metadata": {
        "id": "DYTwRme90z0A"
      },
      "source": [
        "# html 코드를 분석하는 BeautifulSoup 객체 생성\n",
        "soup = BeautifulSoup(markup=html, features='html5lib')"
      ],
      "execution_count": 5,
      "outputs": []
    },
    {
      "cell_type": "code",
      "metadata": {
        "colab": {
          "base_uri": "https://localhost:8080/"
        },
        "id": "am4lQbUW1A43",
        "outputId": "1eed9de4-98a6-43aa-8683-9412fae7d642"
      },
      "source": [
        "elements = soup.select('a.link_txt')\n",
        "len(elements)  #> 158개\n",
        "#> 전체 html 코드에는 태그가 a이고 class 속성값이 link_txt인 요소가 모두 158개\n",
        "#> 찾으려고 하는 랭킹 뉴스 50개 이외에도 더 있음."
      ],
      "execution_count": 6,
      "outputs": [
        {
          "output_type": "execute_result",
          "data": {
            "text/plain": [
              "158"
            ]
          },
          "metadata": {
            "tags": []
          },
          "execution_count": 6
        }
      ]
    },
    {
      "cell_type": "code",
      "metadata": {
        "colab": {
          "base_uri": "https://localhost:8080/"
        },
        "id": "kWvMSsrm7TYo",
        "outputId": "ba3f6392-0077-4033-ef79-404616bb24ef"
      },
      "source": [
        "selector = 'ul.list_news2 li a.link_txt'\n",
        "elements = soup.select(selector)\n",
        "len(elements)  #> 50개 HTML 요소를 갖는 리스트"
      ],
      "execution_count": 7,
      "outputs": [
        {
          "output_type": "execute_result",
          "data": {
            "text/plain": [
              "50"
            ]
          },
          "metadata": {
            "tags": []
          },
          "execution_count": 7
        }
      ]
    },
    {
      "cell_type": "code",
      "metadata": {
        "colab": {
          "base_uri": "https://localhost:8080/"
        },
        "id": "PfkZKlhF9GdG",
        "outputId": "48d7b58a-b109-492f-f761-10b9c32d71c8"
      },
      "source": [
        "for link in elements:\n",
        "    print(link.text.strip())  # a 태그의 텍스트 컨텐트\n",
        "    print(link['href'])  # link.get('href') - a 태그의 href 속성 값\n",
        "    print()"
      ],
      "execution_count": 8,
      "outputs": [
        {
          "output_type": "stream",
          "text": [
            "美검찰 \"쿠오모, 보좌관 블라우스 안에 손넣고 움켜쥐었다\"\n",
            "https://v.daum.net/v/20210804020829164\n",
            "\n",
            "2030 원룸족들 \"침대는 빼주세요\"\n",
            "https://v.daum.net/v/20210804030436443\n",
            "\n",
            "[뉴스+]\"금메달 반납하라고?\"..'안산' '쥴리벽화'로 이어진 '혐오..\n",
            "https://v.daum.net/v/20210804081236400\n",
            "\n",
            "\"카페 사장님들 난리났다\"..카페·음식점 '손실보상' 제외?\n",
            "https://v.daum.net/v/20210804070056435\n",
            "\n",
            "\"셀프빨래방 갔다가 이불만 망쳤네\"..소비자불만 4년새 3.1배↑\n",
            "https://v.daum.net/v/20210804060047754\n",
            "\n",
            "건강한 30대 수영선수 백신접종 후 사흘만에 사망.. 팔다리 통증\n",
            "https://v.daum.net/v/20210803183356023\n",
            "\n",
            "따르릉 \"국정원입니다\"..국회 출석 자처한 박지원에 與野 발칵\n",
            "https://v.daum.net/v/20210804045001948\n",
            "\n",
            "[단독] 애플 공식 광고에 '욱일기'가..한국선 '블러 처리'\n",
            "https://v.daum.net/v/20210804053602492\n",
            "\n",
            "윤석열 만났단 조은산 \"넌지시 물었다. '조국 수사' 왜 했냐고, 당신의 정의냐고\"\n",
            "https://v.daum.net/v/20210804055023566\n",
            "\n",
            "\"쿠오모 성추행은 사실\"..바이든 \"사임하라\" 전격 발표\n",
            "https://v.daum.net/v/20210804063901163\n",
            "\n",
            "\"운동할 때만 입기 아까워요\"..해외까지 진출한 'K레깅스'\n",
            "https://v.daum.net/v/20210804060109793\n",
            "\n",
            "대만 선수 응원했다가 '손절' 당한 유명 연예인..57억 날렸다\n",
            "https://v.daum.net/v/20210804080601248\n",
            "\n",
            "\"해 뜨면 일어나고 해지면 자는 '귀농 생활' 3대가 건강해졌죠\"\n",
            "https://v.daum.net/v/20210804050603164\n",
            "\n",
            "마스크난 겪은 미, 이젠 재고 넘쳐 경영난..\"중국산에 밀려\"\n",
            "https://v.daum.net/v/20210804024720230\n",
            "\n",
            "\"하루 5만원도 못 버는데 에어컨은 무슨..\" 찜통 가판대에 갇힌 상인들\n",
            "https://v.daum.net/v/20210804043125891\n",
            "\n",
            "[체험기]폭염 견디며 4시간 걸어도 일당은 1만원대..치킨도 못 사먹는다 [언박싱]\n",
            "https://v.daum.net/v/20210804090658942\n",
            "\n",
            "국민의힘, 여성 지지율 급락·남성 지지율은 보합.. '이남자 전략' 실패?\n",
            "https://v.daum.net/v/20210804090009629\n",
            "\n",
            "[특파원 리포트] 3백여 명 사망·실종 中 정저우에 델타 변이까지..美·中 설전\n",
            "https://v.daum.net/v/20210803174856961\n",
            "\n",
            "용을 품은 호수, 산멍~ 물멍~ 하다 그리움에 멍들다 [자박자박 소읍탐방]\n",
            "https://v.daum.net/v/20210804043050883\n",
            "\n",
            "美국방부 한때 폐쇄..장교 1명 흉기찔려 죽고 용의자 사살돼(종합)\n",
            "https://v.daum.net/v/20210804040717730\n",
            "\n",
            "\"탄환 날아와 차에 구멍나자 소주 1박스 들고온 해병대\"\n",
            "https://v.daum.net/v/20210804050202126\n",
            "\n",
            "낮에 포착된 달 표면의 얼음 미스터리, 아폴로 달 사진으로 풀었다\n",
            "https://v.daum.net/v/20210804090133712\n",
            "\n",
            "오후 8시부터 비수도권 18∼49세 택배근로자 등 우선접종 사전예약\n",
            "https://v.daum.net/v/20210804043006870\n",
            "\n",
            "반찬가게가 한달 1억 번다고? '돌밥'이 만든 뜻밖의 호황\n",
            "https://v.daum.net/v/20210804060056767\n",
            "\n",
            "기업들 '마스크 잔혹사' ..쌍방울, 최대 납품처 지오영 공정위에 신고\n",
            "https://v.daum.net/v/20210804062532059\n",
            "\n",
            "'쩍벌'까지 나온 윤석열의 1일1구설..\"지속되면 중도확장 불가\"\n",
            "https://v.daum.net/v/20210804053002426\n",
            "\n",
            "\"밥상 차리기 겁난다\"..4인가족 삼겹살 파티, 4만→5만원 뜀박질\n",
            "https://v.daum.net/v/20210804055505589\n",
            "\n",
            "후배 변호사 성폭행한 '로펌 대표' 극단적 선택에 \"불송치 결정\"\n",
            "https://v.daum.net/v/20210804051002276\n",
            "\n",
            "아기 낳자마자 4층 아래로 던져 숨지게 한 20대 친모 '징역 2년'..탯줄도 달려 있었다\n",
            "https://v.daum.net/v/20210804070214481\n",
            "\n",
            "[인터뷰] 장성민 \"윤석열은 정치 모르는 아마추어..바로 판 흔들릴 것\"\n",
            "https://v.daum.net/v/20210804060007647\n",
            "\n",
            "쓰지도 않고 쌓아놓은 현금만 '130兆'..삼성전자, 車 반도체 다시 노린다\n",
            "https://v.daum.net/v/20210804060047753\n",
            "\n",
            "'성추행'에 벼랑끝 내몰린 쿠오모..바이든까지 사퇴 촉구 가세\n",
            "https://v.daum.net/v/20210804071636661\n",
            "\n",
            "진중권 \"윤석열 페미니즘 발언? 용서가 안된다\"[한판승부]\n",
            "https://v.daum.net/v/20210804060329868\n",
            "\n",
            "얀센 백신, AZ와 같은 바이러스 벡터 계열..50대 이상 대상자로 '접종 권고연령' 제한\n",
            "https://v.daum.net/v/20210804070448533\n",
            "\n",
            "이준석, '尹저격수' 김진태 검증단장 검토에..\"이간질 아니다\"\n",
            "https://v.daum.net/v/20210804082134584\n",
            "\n",
            "이재명 \"10억아파트 월세 60만원에 공급\".. 野 \"허경영이냐\"\n",
            "https://v.daum.net/v/20210804030554474\n",
            "\n",
            "\"한·중·일 등 아시아발 봉쇄충격 주의..세계 경기회복 저해\" 英매체\n",
            "https://v.daum.net/v/20210804020017110\n",
            "\n",
            "이준석, 안철수 향해 \"날 애송이 취급 말라, 계급보고 경례하는 것\"\n",
            "https://v.daum.net/v/20210804084328133\n",
            "\n",
            "카드 이어 신분증도.. 휴대폰, 지갑의 모든 걸 꺼내가다\n",
            "https://v.daum.net/v/20210804030406436\n",
            "\n",
            "피로 유발하는 나쁜 식습관 4\n",
            "https://v.daum.net/v/20210804082003545\n",
            "\n",
            "은메달 따고도 '통한의 사죄'.. 中 '소분홍'에 멍드는 선수들\n",
            "https://v.daum.net/v/20210804050655214\n",
            "\n",
            "맥도날드 \"유효기간 지난 재료 사용 공식 사과..재발 방지 대책 마련\"\n",
            "https://v.daum.net/v/20210804072508740\n",
            "\n",
            "백신 맞아도 걸리는 델타+, 그래도 백신 맞는 한가지 이유\n",
            "https://v.daum.net/v/20210804050058100\n",
            "\n",
            "\"전복 사세요\" 245곳 지자체에 공문 보낸 완도.. 왜?\n",
            "https://v.daum.net/v/20210804010005901\n",
            "\n",
            "[여기 어때] 산·계곡·바다가 함께 하는 동해\n",
            "https://v.daum.net/v/20210804073010802\n",
            "\n",
            "셀프빨래방 무심코 이용했다가..\"세탁물 훼손 주의\"\n",
            "https://v.daum.net/v/20210804060029707\n",
            "\n",
            "미 국방부 \"연합훈련 모든 결정은 한국과 협의로..훈련중단 요청 없었다\"\n",
            "https://v.daum.net/v/20210804080249191\n",
            "\n",
            "전광훈 측, 자영업자 내세우자..\"우리가 왜 거기서 나와\"\n",
            "https://v.daum.net/v/20210804060107791\n",
            "\n",
            "국민의당, 이준석 향해 \"철부지 애송이\"..감정 싸움으로 가는 국민의힘과 국민의당\n",
            "https://v.daum.net/v/20210804075605072\n",
            "\n",
            "환자가 환자 성폭행했는데..관리 부실·숨기기 '급급'\n",
            "https://v.daum.net/v/20210803220510029\n",
            "\n"
          ],
          "name": "stdout"
        }
      ]
    },
    {
      "cell_type": "markdown",
      "metadata": {
        "id": "Yu-MrDTJ_X8-"
      },
      "source": [
        "# 다음(DAUM) 뉴스 랭킹 열독률 높은 뉴스 1 ~ 20위의 제목과 링크를 출력"
      ]
    },
    {
      "cell_type": "code",
      "metadata": {
        "colab": {
          "base_uri": "https://localhost:8080/"
        },
        "id": "EXTxi8GP_vok",
        "outputId": "8849c362-c5d3-4c04-fece-c19652614907"
      },
      "source": [
        "# 요청 주소\n",
        "url = 'https://news.daum.net/ranking/kkomkkom'\n",
        "\n",
        "# 요청(request)을 보내고 응답(response)를 받음\n",
        "response = requests.get(url)\n",
        "\n",
        "# 응답 코드(HTTP Status Code) 확인\n",
        "print(response)"
      ],
      "execution_count": 9,
      "outputs": [
        {
          "output_type": "stream",
          "text": [
            "<Response [200]>\n"
          ],
          "name": "stdout"
        }
      ]
    },
    {
      "cell_type": "code",
      "metadata": {
        "colab": {
          "base_uri": "https://localhost:8080/"
        },
        "id": "uFkwB1S9U_93",
        "outputId": "2faeb75e-4e43-4fa7-b778-9c6f462248c0"
      },
      "source": [
        "# 응답에서 HTML 코드를 추출\n",
        "html = response.text.strip()\n",
        "print(html[:300])"
      ],
      "execution_count": 10,
      "outputs": [
        {
          "output_type": "stream",
          "text": [
            "<!DOCTYPE html>\n",
            "\n",
            "\n",
            "\n",
            "<html lang=\"ko\" class=\"os_unknown none unknown version_0 \">\n",
            "<head>\n",
            "<meta charset=\"utf-8\">\n",
            "<meta name=\"referrer\" content=\"always\" />\n",
            "\n",
            "<meta property=\"og:author\" content=\"Daum 뉴스\" />\n",
            "<meta property=\"og:site_name\" content=\"다음뉴스\" />\n",
            "<meta property=\"og:title\" content=\"뉴스 랭킹\"/>\n",
            "<meta pr\n"
          ],
          "name": "stdout"
        }
      ]
    },
    {
      "cell_type": "code",
      "metadata": {
        "colab": {
          "base_uri": "https://localhost:8080/"
        },
        "id": "k-GMVJOiVS5N",
        "outputId": "25f505f8-fa87-4c07-9d74-7900d1820331"
      },
      "source": [
        "# BeautifulSoup 객체 생성\n",
        "soup = BeautifulSoup(markup=html, features='html5lib')\n",
        "# CSS selector\n",
        "selector = 'ul.list_news2 li a.link_txt'\n",
        "# 'ul.list_news2 > li > div.cont_thumb > strong.tit_thumb > a.link_txt'\n",
        "\n",
        "# CSSS selector를 사용해서 원하는 HTML 요소들을 찾음\n",
        "elements = soup.select(selector)\n",
        "len(elements)  #> 30개"
      ],
      "execution_count": 11,
      "outputs": [
        {
          "output_type": "execute_result",
          "data": {
            "text/plain": [
              "30"
            ]
          },
          "metadata": {
            "tags": []
          },
          "execution_count": 11
        }
      ]
    },
    {
      "cell_type": "code",
      "metadata": {
        "colab": {
          "base_uri": "https://localhost:8080/"
        },
        "id": "MrW4hbHDWdGF",
        "outputId": "29ab61fd-77df-46ff-eccc-0fd31a2c9dd2"
      },
      "source": [
        "for i, link in enumerate(elements):\n",
        "    if i == 20:\n",
        "        break\n",
        "    print(f'--- {i + 1} ---')  # 기사 순위\n",
        "    print(link.text)  # 기사 제목\n",
        "    print(link['href'])  # 기사 링크 주소(URL)"
      ],
      "execution_count": 12,
      "outputs": [
        {
          "output_type": "stream",
          "text": [
            "--- 1 ---\n",
            "\"경선 주도권은 내 손안에\"..윤석열·이준석 '기싸움'\n",
            "https://v.daum.net/v/20210804060029706\n",
            "--- 2 ---\n",
            "윤석열 만났단 조은산 \"넌지시 물었다. '조국 수사' 왜 했냐고, 당신의 정의냐고\"\n",
            "https://v.daum.net/v/20210804055023566\n",
            "--- 3 ---\n",
            "집주인이 특약 안 지켜 계약 해지했는데..세입자 패소, 왜?\n",
            "https://v.daum.net/v/20210804060106786\n",
            "--- 4 ---\n",
            "이준석 \"국민의당, 날 대표가 아닌 철부지 애송이로 봐\"\n",
            "https://v.daum.net/v/20210804084341136\n",
            "--- 5 ---\n",
            "'舊안철수계' 김근식 \"安 합당안한다 하시라, 이미 예상했다\"\n",
            "https://v.daum.net/v/20210804080247189\n",
            "--- 6 ---\n",
            "[단독]고객 거짓말도 안속아..피싱 막은 은행원 '명품촉'\n",
            "https://v.daum.net/v/20210804080104159\n",
            "--- 7 ---\n",
            "日-獨, 남중국해 中견제 협공.. 미사일부대 배치하고 군함 파견\n",
            "https://v.daum.net/v/20210804030034275\n",
            "--- 8 ---\n",
            "이준석, 안철수 향해 \"나중에 김종인도 온다..그런 전술 안먹혀\"\n",
            "https://v.daum.net/v/20210804092120530\n",
            "--- 9 ---\n",
            "이준석 \"안철수, 나와 김종인 상대할 땐 달리 생각해야\"\n",
            "https://v.daum.net/v/20210804090445850\n",
            "--- 10 ---\n",
            "이준석, 안철수 향해 \"날 애송이 취급 말라, 계급보고 경례하는 것\"\n",
            "https://v.daum.net/v/20210804084328133\n",
            "--- 11 ---\n",
            "경선버스 탄 윤석열 '첩첩산중'..검증 문턱 다가온다\n",
            "https://v.daum.net/v/20210804060202826\n",
            "--- 12 ---\n",
            "군사·무역·자원 '골드 해역' 남중국해 놓고 美동맹과 中 갈등 고조\n",
            "https://v.daum.net/v/20210804074646960\n",
            "--- 13 ---\n",
            "윤석열 \"우직하게 맞는 타이슨 정치 할 것\"..정청래 \"좋겠다\"\n",
            "https://v.daum.net/v/20210804073122822\n",
            "--- 14 ---\n",
            "크래프톤 건너 뛴 개미들, 다음 청약 기대주는\n",
            "https://v.daum.net/v/20210804060032716\n",
            "--- 15 ---\n",
            "[Q&A] 소각장에서 손사래치는 쓰레기는?\n",
            "https://v.daum.net/v/20210804065825363\n",
            "--- 16 ---\n",
            "700만~1500만원 美백신 관광 상품 완판..누가 가나 봤더니\n",
            "https://v.daum.net/v/20210804060206832\n",
            "--- 17 ---\n",
            "'박터지는' 배터리 분리막 경쟁..日 도레이 기술력은?\n",
            "https://v.daum.net/v/20210804050701218\n",
            "--- 18 ---\n",
            "4주째 1천 명..확진자는 생활치료센터에서 이렇게 지낸다\n",
            "https://v.daum.net/v/20210804071502639\n",
            "--- 19 ---\n",
            "진중권 \"尹 '페미니즘 발언', 선 넘어..지지 뚝뚝 떨어지고 있다\"\n",
            "https://v.daum.net/v/20210804070732559\n",
            "--- 20 ---\n",
            "\"방역수칙 위반\"..도마 오른 윤석열 103개 의원실 신고식\n",
            "https://v.daum.net/v/20210804081848528\n"
          ],
          "name": "stdout"
        }
      ]
    },
    {
      "cell_type": "code",
      "metadata": {
        "colab": {
          "base_uri": "https://localhost:8080/"
        },
        "id": "zOKWe4uUaKvr",
        "outputId": "19d8da38-7b11-4321-f29b-5b40cb9b1841"
      },
      "source": [
        "for i in range(1, 11):\n",
        "    selector = f'ul.list_news2 > li:nth-of-type({i}) a.link_txt'\n",
        "    link = soup.select_one(selector)\n",
        "    print(f'--- {i} ---')\n",
        "    print(link.text)\n",
        "    print(link['href'])"
      ],
      "execution_count": 13,
      "outputs": [
        {
          "output_type": "stream",
          "text": [
            "--- 1 ---\n",
            "\"경선 주도권은 내 손안에\"..윤석열·이준석 '기싸움'\n",
            "https://v.daum.net/v/20210804060029706\n",
            "--- 2 ---\n",
            "윤석열 만났단 조은산 \"넌지시 물었다. '조국 수사' 왜 했냐고, 당신의 정의냐고\"\n",
            "https://v.daum.net/v/20210804055023566\n",
            "--- 3 ---\n",
            "집주인이 특약 안 지켜 계약 해지했는데..세입자 패소, 왜?\n",
            "https://v.daum.net/v/20210804060106786\n",
            "--- 4 ---\n",
            "이준석 \"국민의당, 날 대표가 아닌 철부지 애송이로 봐\"\n",
            "https://v.daum.net/v/20210804084341136\n",
            "--- 5 ---\n",
            "'舊안철수계' 김근식 \"安 합당안한다 하시라, 이미 예상했다\"\n",
            "https://v.daum.net/v/20210804080247189\n",
            "--- 6 ---\n",
            "[단독]고객 거짓말도 안속아..피싱 막은 은행원 '명품촉'\n",
            "https://v.daum.net/v/20210804080104159\n",
            "--- 7 ---\n",
            "日-獨, 남중국해 中견제 협공.. 미사일부대 배치하고 군함 파견\n",
            "https://v.daum.net/v/20210804030034275\n",
            "--- 8 ---\n",
            "이준석, 안철수 향해 \"나중에 김종인도 온다..그런 전술 안먹혀\"\n",
            "https://v.daum.net/v/20210804092120530\n",
            "--- 9 ---\n",
            "이준석 \"안철수, 나와 김종인 상대할 땐 달리 생각해야\"\n",
            "https://v.daum.net/v/20210804090445850\n",
            "--- 10 ---\n",
            "이준석, 안철수 향해 \"날 애송이 취급 말라, 계급보고 경례하는 것\"\n",
            "https://v.daum.net/v/20210804084328133\n"
          ],
          "name": "stdout"
        }
      ]
    },
    {
      "cell_type": "markdown",
      "metadata": {
        "id": "luUbOg8y_wis"
      },
      "source": [
        "# 다음 뉴스 랭킹 댓글 많은 뉴스 1 ~ 10위까지의 순위, 댓글수, 제목, 링크 URL을 출력"
      ]
    },
    {
      "cell_type": "code",
      "metadata": {
        "colab": {
          "base_uri": "https://localhost:8080/"
        },
        "id": "zak4elipcYJT",
        "outputId": "846d3958-4376-4c96-cc89-eca174fce626"
      },
      "source": [
        "url = 'https://news.daum.net/ranking/bestreply'  # request URL\n",
        "response = requests.get(url)  # request -> response\n",
        "print(response)  #> 200: HTTP Success"
      ],
      "execution_count": 14,
      "outputs": [
        {
          "output_type": "stream",
          "text": [
            "<Response [200]>\n"
          ],
          "name": "stdout"
        }
      ]
    },
    {
      "cell_type": "code",
      "metadata": {
        "colab": {
          "base_uri": "https://localhost:8080/"
        },
        "id": "p-OQMjd0kYvb",
        "outputId": "6728e39b-8edc-400f-e5f7-5a20a2549e7f"
      },
      "source": [
        "html = response.text.strip()  # response에서 HTML 코드 추출\n",
        "print(html[:300])"
      ],
      "execution_count": 15,
      "outputs": [
        {
          "output_type": "stream",
          "text": [
            "<!DOCTYPE html>\n",
            "\n",
            "\n",
            "\n",
            "<html lang=\"ko\" class=\"os_unknown none unknown version_0 \">\n",
            "<head>\n",
            "<meta charset=\"utf-8\">\n",
            "<meta name=\"referrer\" content=\"always\" />\n",
            "\n",
            "<meta property=\"og:author\" content=\"Daum 뉴스\" />\n",
            "<meta property=\"og:site_name\" content=\"다음뉴스\" />\n",
            "<meta property=\"og:title\" content=\"뉴스 랭킹\"/>\n",
            "<meta pr\n"
          ],
          "name": "stdout"
        }
      ]
    },
    {
      "cell_type": "code",
      "metadata": {
        "id": "frIq41j5kpD4"
      },
      "source": [
        "soup = BeautifulSoup(markup=html, features='html5lib')  # BeautifulSoup 객체 생성"
      ],
      "execution_count": 16,
      "outputs": []
    },
    {
      "cell_type": "code",
      "metadata": {
        "colab": {
          "base_uri": "https://localhost:8080/"
        },
        "id": "zBqrq7sEk70I",
        "outputId": "0835cd62-62b5-4942-9f52-52064b16b22a"
      },
      "source": [
        "reply_selector = 'ul.list_news2 > li:nth-of-type(1) > div.rank_num > span.info_rank > span.ico_news2'\n",
        "soup.select_one(reply_selector)"
      ],
      "execution_count": 17,
      "outputs": [
        {
          "output_type": "execute_result",
          "data": {
            "text/plain": [
              "<span class=\"ico_news2\">6,214</span>"
            ]
          },
          "metadata": {
            "tags": []
          },
          "execution_count": 17
        }
      ]
    },
    {
      "cell_type": "code",
      "metadata": {
        "colab": {
          "base_uri": "https://localhost:8080/"
        },
        "id": "Qbt0iyQ0m6QU",
        "outputId": "e76922a1-5cf3-403d-e268-d3d769b0bc6d"
      },
      "source": [
        "title_selector = 'ul.list_news2 > li:nth-of-type(1) > div.cont_thumb a.link_txt'\n",
        "soup.select_one(title_selector)"
      ],
      "execution_count": 18,
      "outputs": [
        {
          "output_type": "execute_result",
          "data": {
            "text/plain": [
              "<a class=\"link_txt\" href=\"https://news.v.daum.net/v/20210803101512073\">김부선 \"이재명 음주운전 전과 2회 이상..18조원 걸겠다\"</a>"
            ]
          },
          "metadata": {
            "tags": []
          },
          "execution_count": 18
        }
      ]
    },
    {
      "cell_type": "code",
      "metadata": {
        "colab": {
          "base_uri": "https://localhost:8080/"
        },
        "id": "7D3sD2LDn5v3",
        "outputId": "b8130789-c5eb-4fdc-fdaa-52d2b3a7c819"
      },
      "source": [
        "for i in range(1, 11):\n",
        "    reply_selector = f'ul.list_news2 > li:nth-of-type({i}) > div.rank_num > span.info_rank > span.ico_news2'\n",
        "    title_selector = f'ul.list_news2 > li:nth-of-type({i}) > div.cont_thumb a.link_txt'\n",
        "    num_of_replies = soup.select_one(reply_selector).text\n",
        "    link = soup.select_one(title_selector)\n",
        "    title = link.text\n",
        "    title_link = link['href']  # link.get('href')\n",
        "    print(f'--- {i} ---')\n",
        "    print(f'댓글수: {num_of_replies}')\n",
        "    print(title)\n",
        "    print(title_link)"
      ],
      "execution_count": 19,
      "outputs": [
        {
          "output_type": "stream",
          "text": [
            "--- 1 ---\n",
            "댓글수: 6,214\n",
            "김부선 \"이재명 음주운전 전과 2회 이상..18조원 걸겠다\"\n",
            "https://news.v.daum.net/v/20210803101512073\n",
            "--- 2 ---\n",
            "댓글수: 2,611\n",
            "따르릉 \"국정원입니다\"..국회 출석 자처한 박지원에 與野 발칵\n",
            "https://news.v.daum.net/v/20210804045001948\n",
            "--- 3 ---\n",
            "댓글수: 1,770\n",
            "윤석열 만났단 조은산 \"넌지시 물었다. '조국 수사' 왜 했냐고, 당신의 정의냐고\"\n",
            "https://news.v.daum.net/v/20210804055023566\n",
            "--- 4 ---\n",
            "댓글수: 1,625\n",
            "실언 넘어 막말로..윤석열 '입'이 잊고 있는 한 가지\n",
            "https://news.v.daum.net/v/20210803170203443\n",
            "--- 5 ---\n",
            "댓글수: 1,285\n",
            "건강한 30대 수영선수 백신접종 후 사흘만에 사망.. 팔다리 통증\n",
            "https://news.v.daum.net/v/20210803183356023\n",
            "--- 6 ---\n",
            "댓글수: 1,238\n",
            "이재명 \"10억아파트 월세 60만원에 공급\".. 野 \"허경영이냐\"\n",
            "https://news.v.daum.net/v/20210804030554474\n",
            "--- 7 ---\n",
            "댓글수: 1,117\n",
            "[특파원 리포트] 3백여 명 사망·실종 中 정저우에 델타 변이까지..美·中 설전\n",
            "https://news.v.daum.net/v/20210803174856961\n",
            "--- 8 ---\n",
            "댓글수: 1,096\n",
            "[뉴스+]\"금메달 반납하라고?\"..'안산' '쥴리벽화'로 이어진 '혐오..\n",
            "https://news.v.daum.net/v/20210804081236400\n",
            "--- 9 ---\n",
            "댓글수: 1,047\n",
            "[인터뷰] 장성민 \"윤석열은 정치 모르는 아마추어..바로 판 흔들릴 것\"\n",
            "https://news.v.daum.net/v/20210804060007647\n",
            "--- 10 ---\n",
            "댓글수: 808\n",
            "알고 보면 '킹메이커' 안철수..국민의힘 압박에 독자출마설 솔솔\n",
            "https://news.v.daum.net/v/20210804050300139\n"
          ],
          "name": "stdout"
        }
      ]
    },
    {
      "cell_type": "markdown",
      "metadata": {
        "id": "uCXDUr_Aqn-A"
      },
      "source": [
        "# 다음 뉴스 랭킹 연령별 뉴스에서 연령대/성별/순위/기사 제목/기사 URL을 출력"
      ]
    },
    {
      "cell_type": "code",
      "metadata": {
        "colab": {
          "base_uri": "https://localhost:8080/"
        },
        "id": "bSFS-W7LqxNm",
        "outputId": "e536495e-4be7-4521-f0e5-f10d5b263ecd"
      },
      "source": [
        "url = 'https://news.daum.net/ranking/age'\n",
        "response = requests.get(url)\n",
        "print(response)"
      ],
      "execution_count": 20,
      "outputs": [
        {
          "output_type": "stream",
          "text": [
            "<Response [200]>\n"
          ],
          "name": "stdout"
        }
      ]
    },
    {
      "cell_type": "code",
      "metadata": {
        "id": "5rLQs8Cr1IsW"
      },
      "source": [
        "html = response.text.strip()\n",
        "soup = BeautifulSoup(markup=html, features='html5lib')"
      ],
      "execution_count": 21,
      "outputs": []
    },
    {
      "cell_type": "code",
      "metadata": {
        "colab": {
          "base_uri": "https://localhost:8080/"
        },
        "id": "vnZYzaYy1TpK",
        "outputId": "b19ba0d7-7685-4a7a-ecae-12c67e8854d1"
      },
      "source": [
        "selector = 'div.item_20s > div.rank_female > strong.txt_news'\n",
        "soup.select_one(selector)"
      ],
      "execution_count": 22,
      "outputs": [
        {
          "output_type": "execute_result",
          "data": {
            "text/plain": [
              "<strong class=\"txt_news\">20대 여성</strong>"
            ]
          },
          "metadata": {
            "tags": []
          },
          "execution_count": 22
        }
      ]
    },
    {
      "cell_type": "code",
      "metadata": {
        "colab": {
          "base_uri": "https://localhost:8080/"
        },
        "id": "E1T7EHm-2aRi",
        "outputId": "a6d6424c-177a-438c-a3cb-5095a6fa281d"
      },
      "source": [
        "selector = 'div.item_20s > div.rank_female > ol.list_age > li.num_news > a.link_txt'\n",
        "soup.select(selector)"
      ],
      "execution_count": 23,
      "outputs": [
        {
          "output_type": "execute_result",
          "data": {
            "text/plain": [
              "[<a class=\"link_txt\" href=\"https://v.daum.net/v/20210804072508740\">맥도날드 \"유효기간 지난 재료 사용 공식 사과..재발 방지 대책 마련\"</a>,\n",
              " <a class=\"link_txt\" href=\"https://v.daum.net/v/20210804082003545\">피로 유발하는 나쁜 식습관 4</a>,\n",
              " <a class=\"link_txt\" href=\"https://v.daum.net/v/20210804030436443\">2030 원룸족들 \"침대는 빼주세요\"</a>,\n",
              " <a class=\"link_txt\" href=\"https://v.daum.net/v/20210804053602492\">[단독] 애플 공식 광고에 '욱일기'가..한국선 '블러 처리'</a>,\n",
              " <a class=\"link_txt\" href=\"https://v.daum.net/v/20210803183356023\">건강한 30대 수영선수 백신접종 후 사흘만에 사망.. 팔다리 통증</a>]"
            ]
          },
          "metadata": {
            "tags": []
          },
          "execution_count": 23
        }
      ]
    },
    {
      "cell_type": "code",
      "metadata": {
        "colab": {
          "base_uri": "https://localhost:8080/"
        },
        "id": "c6tLjl1k3fcs",
        "outputId": "8de61c4f-3a62-45c7-c94a-778c0904eafb"
      },
      "source": [
        "ages = range(20, 60, 10)  # 연령대: 20, 30, 40, 50\n",
        "genders = ('female', 'male')  # 성별\n",
        "\n",
        "for age in ages:\n",
        "    for gender in genders:\n",
        "        # 카테고리(연령대, 성별) 출력\n",
        "        category_selector = f'div.item_{age}s > div.rank_{gender} > strong.txt_news'\n",
        "        category = soup.select_one(category_selector)\n",
        "        print(f'--- {category.text} ---')\n",
        "\n",
        "        # 카테고리의 기사 순위, 제목, URL\n",
        "        selector = f'div.item_{age}s > div.rank_{gender} > ol.list_age > li.num_news > a.link_txt'\n",
        "        links = soup.select(selector)\n",
        "        for i, link in enumerate(links):\n",
        "            print(f'[{i + 1}] {link.text} {link[\"href\"]}')\n"
      ],
      "execution_count": 24,
      "outputs": [
        {
          "output_type": "stream",
          "text": [
            "--- 20대 여성 ---\n",
            "[1] 맥도날드 \"유효기간 지난 재료 사용 공식 사과..재발 방지 대책 마련\" https://v.daum.net/v/20210804072508740\n",
            "[2] 피로 유발하는 나쁜 식습관 4 https://v.daum.net/v/20210804082003545\n",
            "[3] 2030 원룸족들 \"침대는 빼주세요\" https://v.daum.net/v/20210804030436443\n",
            "[4] [단독] 애플 공식 광고에 '욱일기'가..한국선 '블러 처리' https://v.daum.net/v/20210804053602492\n",
            "[5] 건강한 30대 수영선수 백신접종 후 사흘만에 사망.. 팔다리 통증 https://v.daum.net/v/20210803183356023\n",
            "--- 20대 남성 ---\n",
            "[1] 美검찰 \"쿠오모, 보좌관 블라우스 안에 손넣고 움켜쥐었다\" https://v.daum.net/v/20210804020829164\n",
            "[2] [단독] 애플 공식 광고에 '욱일기'가..한국선 '블러 처리' https://v.daum.net/v/20210804053602492\n",
            "[3] 건강한 30대 수영선수 백신접종 후 사흘만에 사망.. 팔다리 통증 https://v.daum.net/v/20210803183356023\n",
            "[4] \"셀프빨래방 갔다가 이불만 망쳤네\"..소비자불만 4년새 3.1배↑ https://v.daum.net/v/20210804060047754\n",
            "[5] \"운동할 때만 입기 아까워요\"..해외까지 진출한 'K레깅스' https://v.daum.net/v/20210804060109793\n",
            "--- 30대 여성 ---\n",
            "[1] \"카페 사장님들 난리났다\"..카페·음식점 '손실보상' 제외? https://v.daum.net/v/20210804070056435\n",
            "[2] 건강한 30대 수영선수 백신접종 후 사흘만에 사망.. 팔다리 통증 https://v.daum.net/v/20210803183356023\n",
            "[3] \"셀프빨래방 갔다가 이불만 망쳤네\"..소비자불만 4년새 3.1배↑ https://v.daum.net/v/20210804060047754\n",
            "[4] 2030 원룸족들 \"침대는 빼주세요\" https://v.daum.net/v/20210804030436443\n",
            "[5] 대만 선수 응원했다가 '손절' 당한 유명 연예인..57억 날렸다 https://v.daum.net/v/20210804080601248\n",
            "--- 30대 남성 ---\n",
            "[1] 건강한 30대 수영선수 백신접종 후 사흘만에 사망.. 팔다리 통증 https://v.daum.net/v/20210803183356023\n",
            "[2] \"셀프빨래방 갔다가 이불만 망쳤네\"..소비자불만 4년새 3.1배↑ https://v.daum.net/v/20210804060047754\n",
            "[3] 美검찰 \"쿠오모, 보좌관 블라우스 안에 손넣고 움켜쥐었다\" https://v.daum.net/v/20210804020829164\n",
            "[4] [단독] 애플 공식 광고에 '욱일기'가..한국선 '블러 처리' https://v.daum.net/v/20210804053602492\n",
            "[5] \"운동할 때만 입기 아까워요\"..해외까지 진출한 'K레깅스' https://v.daum.net/v/20210804060109793\n",
            "--- 40대 여성 ---\n",
            "[1] \"셀프빨래방 갔다가 이불만 망쳤네\"..소비자불만 4년새 3.1배↑ https://v.daum.net/v/20210804060047754\n",
            "[2] 건강한 30대 수영선수 백신접종 후 사흘만에 사망.. 팔다리 통증 https://v.daum.net/v/20210803183356023\n",
            "[3] \"카페 사장님들 난리났다\"..카페·음식점 '손실보상' 제외? https://v.daum.net/v/20210804070056435\n",
            "[4] 대만 선수 응원했다가 '손절' 당한 유명 연예인..57억 날렸다 https://v.daum.net/v/20210804080601248\n",
            "[5] 美검찰 \"쿠오모, 보좌관 블라우스 안에 손넣고 움켜쥐었다\" https://v.daum.net/v/20210804020829164\n",
            "--- 40대 남성 ---\n",
            "[1] 2030 원룸족들 \"침대는 빼주세요\" https://v.daum.net/v/20210804030436443\n",
            "[2] 美검찰 \"쿠오모, 보좌관 블라우스 안에 손넣고 움켜쥐었다\" https://v.daum.net/v/20210804020829164\n",
            "[3] \"쿠오모 성추행은 사실\"..바이든 \"사임하라\" 전격 발표 https://v.daum.net/v/20210804063901163\n",
            "[4] \"셀프빨래방 갔다가 이불만 망쳤네\"..소비자불만 4년새 3.1배↑ https://v.daum.net/v/20210804060047754\n",
            "[5] 따르릉 \"국정원입니다\"..국회 출석 자처한 박지원에 與野 발칵 https://v.daum.net/v/20210804045001948\n",
            "--- 50대 여성 ---\n",
            "[1] [뉴스+]\"금메달 반납하라고?\"..'안산' '쥴리벽화'로 이어진 '혐오.. https://v.daum.net/v/20210804081236400\n",
            "[2] \"카페 사장님들 난리났다\"..카페·음식점 '손실보상' 제외? https://v.daum.net/v/20210804070056435\n",
            "[3] \"셀프빨래방 갔다가 이불만 망쳤네\"..소비자불만 4년새 3.1배↑ https://v.daum.net/v/20210804060047754\n",
            "[4] 건강한 30대 수영선수 백신접종 후 사흘만에 사망.. 팔다리 통증 https://v.daum.net/v/20210803183356023\n",
            "[5] 2030 원룸족들 \"침대는 빼주세요\" https://v.daum.net/v/20210804030436443\n",
            "--- 50대 남성 ---\n",
            "[1] 따르릉 \"국정원입니다\"..국회 출석 자처한 박지원에 與野 발칵 https://v.daum.net/v/20210804045001948\n",
            "[2] 美검찰 \"쿠오모, 보좌관 블라우스 안에 손넣고 움켜쥐었다\" https://v.daum.net/v/20210804020829164\n",
            "[3] [뉴스+]\"금메달 반납하라고?\"..'안산' '쥴리벽화'로 이어진 '혐오.. https://v.daum.net/v/20210804081236400\n",
            "[4] 2030 원룸족들 \"침대는 빼주세요\" https://v.daum.net/v/20210804030436443\n",
            "[5] 윤석열 만났단 조은산 \"넌지시 물었다. '조국 수사' 왜 했냐고, 당신의 정의냐고\" https://v.daum.net/v/20210804055023566\n"
          ],
          "name": "stdout"
        }
      ]
    },
    {
      "cell_type": "markdown",
      "metadata": {
        "id": "qtMksM3Y-6kB"
      },
      "source": [
        "# URL 형식\n",
        "\n",
        "* 프로토콜://도메인이름(IP주소)[:포트번호]/경로[?쿼리스트링]\n",
        "    * 프로토콜(protocol): http, https\n",
        "    * 도메인(domain) 이름: www.daum.net, www.naver.com, www.google.com, search.daum.net, ...\n",
        "    * 포트(port) 번호: 포트 번호가 80번인 경우는 생략 가능\n",
        "    * 쿼리 스트링(query string): \n",
        "        * 클라이언트(웹 브라우저)가 서버로 정보를 보낼 때 사용\n",
        "            * 클라이언트가 서버로 보내는 정보의 예: 검색어, 페이지 번호, ...\n",
        "        * parameter=value 형식으로 전달\n",
        "        * 파라미터가 여러 개인 경우에는 &로 파라미터들을 구분\n",
        "\n",
        "* URL 예:\n",
        "    * https://search.daum.net/search?w=tot&DA=YZR&t__nil_searchbox=btn&sug=&sugo=&sq=&o=&q=%EC%98%AC%EB%A6%BC%ED%94%BD\n",
        "    * https://search.daum.net/search?nil_suggest=sugsch&w=tot&DA=GIQ&sq=%EC%BD%94%EB%A1%9C%EB%82%98&o=2&sugo=15&q=%EC%BD%94%EB%A1%9C%EB%82%98\n",
        "    * https://search.daum.net/search?w=news&q=%EC%98%AC%EB%A6%BC%ED%94%BD&DA=UME&spacing=0\n",
        "    * https://search.daum.net/search?w=news&q=%EC%BD%94%EB%A1%9C%EB%82%98&DA=YZR&spacing=0\n",
        "    * https://search.daum.net/search?w=news&q=%EB%B9%85%EB%8D%B0%EC%9D%B4%ED%84%B0&DA=YZR&spacing=0\n",
        "    * https://search.daum.net/search?w=news&q=%EB%B9%85%EB%8D%B0%EC%9D%B4%ED%84%B0&DA=PGD&spacing=0&p=3\n",
        "\n",
        "* 요청 방식(Request Method)\n",
        "    * GET 방식\n",
        "        * 클라이언트가 서버로 보내는 정보들을 URL의 쿼리 스트링에 포함시켜서 요청을 보내는 방식\n",
        "        * 검색어 입력, 링크 클릭, ...\n",
        "    * POST 방식\n",
        "        * 클라이언트가 서버로 보내는 정보들을 HTTP 패킷 안에 포함시켜서 URL에 정보들이 노출되지 않도록 요청을 보내는 방식\n",
        "        * 로그인, 이메일 작성 후 보내기, ...\n"
      ]
    },
    {
      "cell_type": "markdown",
      "metadata": {
        "id": "poZDmLBmHspw"
      },
      "source": [
        "# Exercise\n",
        "\n",
        "* 다음에서 검색어를 입력\n",
        "* 검색 결과 중 뉴스를 선택\n",
        "* 1페이지부터 5페이지까지의 뉴스 기사 제목과 링크를 찾으세요.\n",
        "* 힌트:\n",
        "    * https://search.daum.net/search?w=news&q=%EB%B9%85%EB%8D%B0%EC%9D%B4%ED%84%B0&DA=PGD&spacing=0&p=1\n",
        "    * https://search.daum.net/search?w=news&q=%EB%B9%85%EB%8D%B0%EC%9D%B4%ED%84%B0&DA=PGD&spacing=0&p=2\n",
        "    * https://search.daum.net/search?w=news&q=%EB%B9%85%EB%8D%B0%EC%9D%B4%ED%84%B0&DA=PGD&spacing=0&p=3"
      ]
    },
    {
      "cell_type": "code",
      "metadata": {
        "id": "CopBPz2N_IqP",
        "colab": {
          "base_uri": "https://localhost:8080/"
        },
        "outputId": "1e260363-c44f-4672-9435-1ed96d7fd0e0"
      },
      "source": [
        "keyword = '거리두기'\n",
        "for i in range(1, 6):\n",
        "    # url = f'https://search.daum.net/search?w=news&q={keyword}&p={i}'  # 요청 URL\n",
        "    # response = requests.get(url)  # request를 보내고 response를 받음\n",
        "    \n",
        "    url = 'https://search.daum.net/search?w=news'  # 요청 URL\n",
        "    params = {'q': keyword, 'p': i}  # 요청 파라미터: q=검색어, p=페이지 번호\n",
        "    response = requests.get(url, params)\n",
        "    if response.status_code != 200:  # 요청이 성공하지 않은 경우에\n",
        "        print('HTTP Status Code:', response.status_code)\n",
        "        continue  # 반복문 블록 실행을 멈추가 다음 iteration을 진행.\n",
        "        #> 이유: 다음 요청 URL을 시도하기 위해서\n",
        "    \n",
        "    print(f'--- page {i} ---')\n",
        "    html = response.text.strip()  # response에서 HTML 코드 추출\n",
        "    soup = BeautifulSoup(markup=html, features='html5lib')  # HTML parsing하는 객체\n",
        "    selector = 'ul.list_news > li a.tit_main.ff_dot'\n",
        "    elements = soup.select(selector)\n",
        "    for link in elements:\n",
        "        title = link.text  # a 태그의 텍스트 컨텐트\n",
        "        title_url = link['href']  # link.get('href'): a 태그의 href 속성 값\n",
        "        print(title_url, title)"
      ],
      "execution_count": 37,
      "outputs": [
        {
          "output_type": "stream",
          "text": [
            "--- page 1 ---\n",
            "http://v.media.daum.net/v/20210804121115295?f=o 방역당국 \"6시 3인 금지 변경 계획 없다\" 못박아..거리두기 부분 보완은 검토중\n",
            "http://v.media.daum.net/v/20210804113026603?f=o 4주 연속 '수요일 급증'.. '고강도 거리두기' 추석까지 계속되나\n",
            "http://v.media.daum.net/v/20210804110557488?f=o 김부겸 \"6시 모임 제한, 자영업자에 혹독\"..거리두기 완화될까\n",
            "http://v.media.daum.net/v/20210804111315809?f=o 비수도권 확진자 600명 넘어서..충주, 거리두기 4단계\n",
            "http://v.media.daum.net/v/20210804115011425?f=o 다시 1천700명대..'거리두기 단계' 6일 결정\n",
            "http://v.media.daum.net/v/20210804120136943?f=o 송영길 \"소상공인 위기 심각, 근원적 처방은 거리두기 완화\"\n",
            "https://cp.news.search.daum.net/p/109282975 코로나 확진자 또 폭증…정부, 거리두기 연장·완화 고심\n",
            "http://v.media.daum.net/v/20210804113614879?f=o 주말효과 사라지자 다시 1700명대..거리두기 연장 6일 결정\n",
            "http://v.media.daum.net/v/20210804112753505?f=o 충주시 5일부터 거리두기 4단계 격상\n",
            "http://v.media.daum.net/v/20210804113233734?f=o 천안시, 거리두기 4단계 격상 고려..\"방역 동참\" 호소\n",
            "--- page 2 ---\n",
            "https://cp.news.search.daum.net/p/109283761 김 총리“거리두기 조정안 내주 적용 단계\n",
            "https://cp.news.search.daum.net/p/109283277 신규 확진자 1,725명…거리두기 6일 발표\n",
            "http://v.media.daum.net/v/20210804092323602?f=o 김총리 \"거리두기 조정안 모레 결정..보완점 살펴보겠다\"\n",
            "http://v.media.daum.net/v/20210804112744499?f=o 거리두기 단계 결정 앞두고 방역당국 \"사적모임 제한 변경 없어\"\n",
            "http://v.media.daum.net/v/20210804114647307?f=o 충북 19명 추가, 누적 3천996명..충주시 거리두기 4단계 격상\n",
            "http://v.media.daum.net/v/20210804111505888?f=o 김부겸 총리 \"6일 내주 거리두기 단계 결정..8월 백신 2860만회분 도입\"\n",
            "https://cp.news.search.daum.net/p/109283892 송북동, 사회적 거리두기 동참 호소 민관합동 캠페인\n",
            "https://cp.news.search.daum.net/p/109283901 안성시, ‘거리두기 4단계’ 방역수칙 위반 노래연습장 적발\n",
            "https://cp.news.search.daum.net/p/109282423 [종합] 거리두기 4단계에도 이동량 3.6% 늘어…휴가철 맞아 비수도권 6.4% 증가\n",
            "http://v.media.daum.net/v/20210804111708986?f=o 전북 부안군 코로나19 20명 확진..거리두기 3단계 격상\n",
            "--- page 3 ---\n",
            "https://cp.news.search.daum.net/p/109278806 조길형 충주시장, \"오늘(4일) 자정부터 1주일간 코로나19 사회적 거리두기 4단계 격상\"\n",
            "http://v.media.daum.net/v/20210804103435889?f=o 신규확진 1725명, 4차유행 비수도권 최다..6일 거리두기 연장 여부 결정(종합)\n",
            "http://v.media.daum.net/v/20210804101210757?f=o [경남] 3일 하루 114명 확진.. 창원시, 거리두기 4단계 격상?\n",
            "http://v.media.daum.net/v/20210804091402206?f=o 김 총리 \"금요일, 중대본서 거리두기 단계 결정\"\n",
            "http://v.media.daum.net/v/20210804093647090?f=o 김부겸 \"다음주 거리두기 단계, 모레 결정\"\n",
            "https://cp.news.search.daum.net/p/109279565 사회적 거리두기 조정 6일 발표…현행 단계 연장될까\n",
            "https://cp.news.search.daum.net/p/109277965 꺾이지 않는 코로나19… 거리두기 연장 가능성 무게\n",
            "http://v.media.daum.net/v/20210804070419526?f=o 시민들 \"현 거리두기 9월 말까지 유지해야\"\n",
            "http://v.media.daum.net/v/20210804111814036?f=o 거리두기 3단계 부안군 공무원도 확진..공무원 전수검사\n",
            "http://v.media.daum.net/v/20210804093413993?f=o 충북 집단감염 여파 계속..\"지역별 거리두기 상향 검토\"\n",
            "--- page 4 ---\n",
            "http://v.media.daum.net/v/20210804084022046?f=o 확진자수 재급증에 델타 플러스 새 변수까지..現 거리두기 계속 유지될 듯\n",
            "http://v.media.daum.net/v/20210804050025075?f=o [폭염·거리두기가 바꾼 유통지형도②]1인가구, 에어컨도 이커머스 새벽배송\n",
            "https://cp.news.search.daum.net/p/109279621 “거리두기 3단계” 나주시, 코로나 특별방역 총력\n",
            "https://cp.news.search.daum.net/p/109275592 ‘4단계+α’ 더 센 거리두기 나올까..김부겸 “추이 지켜본 뒤 6일 결정”\n",
            "http://v.media.daum.net/v/20210804090837011?f=o 부안서 학생 등 집단감염..거리두기 3단계 강화 결정\n",
            "https://cp.news.search.daum.net/p/109275081 김부겸 \"거리두기 조정안 오는 6日 결정\"\n",
            "http://v.media.daum.net/v/20210804092201551?f=o [마켓인사이트]무디스 \"한국 사회적거리두기 규제로 신용카드 ABS 부실 우려\"\n",
            "https://cp.news.search.daum.net/p/109276661 김부겸 총리 \"코로나19 기세 여전...6일 거리두기 단계 결정\"\n",
            "https://cp.news.search.daum.net/p/109273367 국민 10명 중 8명 이상 수도권 거리두기 4단계 연장 찬성\n",
            "https://cp.news.search.daum.net/p/109278502 충주 오늘 밤부터 거리두기 4단계 격상\n",
            "--- page 5 ---\n",
            "https://cp.news.search.daum.net/p/109273036 거리두기 '4단계+α'로 가나…김 총리 \"하루 이틀 더 지켜보고 결정\"\n",
            "https://cp.news.search.daum.net/p/109280190 [코로나19]신규확진 닷새 만에 다시 천7백명대...6일 거리두기 단계 조정안 발표\n",
            "https://cp.news.search.daum.net/p/109274429 [종합] 사회적 거리두기 단계 6일 결정...4단계+α 달라지는 점 예상\n",
            "https://cp.news.search.daum.net/p/109274779 9일부터 시행할 거리두기 現 상황 유지될 듯...조정안 이번 주 확정\n",
            "https://cp.news.search.daum.net/p/109278506 거리두기 격상에 중구 해수욕장 4개소 임시폐장\n",
            "http://v.media.daum.net/v/20210804090153724?f=o 김부겸 총리, \"6일 다음주 거리두기 결정..집단 면역이 근본 해답\" [TF사진관]\n",
            "https://cp.news.search.daum.net/p/109274802 정부, 다음주 거리두기 6일 결정…\"백신 공급 계속 증가\"\n",
            "https://cp.news.search.daum.net/p/109280457 대전시 하천관리사업소, 하천 둔치 사회적거리두기 점검\n",
            "https://cp.news.search.daum.net/p/109276617 거리두기 동참 위한 나만의 슬기로운 집콕‧홈트법은?\n",
            "http://v.media.daum.net/v/20210803215813822?f=o 국민 84% \"수도권 거리 두기 연장 필요\"..백신 접종 의향 ↑\n"
          ],
          "name": "stdout"
        }
      ]
    },
    {
      "cell_type": "code",
      "metadata": {
        "id": "oA1SyJom5ELZ"
      },
      "source": [
        ""
      ],
      "execution_count": 24,
      "outputs": []
    }
  ]
}
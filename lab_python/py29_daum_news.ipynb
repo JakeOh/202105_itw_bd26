{
  "nbformat": 4,
  "nbformat_minor": 0,
  "metadata": {
    "colab": {
      "name": "py29_daum_news.ipynb",
      "provenance": [],
      "collapsed_sections": [],
      "authorship_tag": "ABX9TyM4GLUm5tALdDuvyN8vOH3X",
      "include_colab_link": true
    },
    "kernelspec": {
      "name": "python3",
      "display_name": "Python 3"
    },
    "language_info": {
      "name": "python"
    }
  },
  "cells": [
    {
      "cell_type": "markdown",
      "metadata": {
        "id": "view-in-github",
        "colab_type": "text"
      },
      "source": [
        "<a href=\"https://colab.research.google.com/github/JakeOh/202105_itw_bd26/blob/main/lab_python/py29_daum_news.ipynb\" target=\"_parent\"><img src=\"https://colab.research.google.com/assets/colab-badge.svg\" alt=\"Open In Colab\"/></a>"
      ]
    },
    {
      "cell_type": "markdown",
      "metadata": {
        "id": "OpdmYsnAxAJ6"
      },
      "source": [
        "# module import"
      ]
    },
    {
      "cell_type": "code",
      "metadata": {
        "id": "ivLHb9_OuiaT"
      },
      "source": [
        "# 웹 서버에 요청(reqeust)을 보내고, 응답(response)을 받는 기능을 가지고 있는 모듈\n",
        "import requests\n",
        "\n",
        "from bs4 import BeautifulSoup  # HTML parsing(분석)"
      ],
      "execution_count": 1,
      "outputs": []
    },
    {
      "cell_type": "markdown",
      "metadata": {
        "id": "8Eia2jzYxYbw"
      },
      "source": [
        "# 다음(DAUM) 많이 본 랭킹 뉴스"
      ]
    },
    {
      "cell_type": "code",
      "metadata": {
        "id": "u6O7tcJdxV9w"
      },
      "source": [
        "# request를 보낼 웹 주소\n",
        "url = 'https://news.daum.net/ranking/popular'"
      ],
      "execution_count": 6,
      "outputs": []
    },
    {
      "cell_type": "code",
      "metadata": {
        "colab": {
          "base_uri": "https://localhost:8080/"
        },
        "id": "64JsA5gDxr4x",
        "outputId": "6d29df87-3d39-4515-df75-6b392be8aa63"
      },
      "source": [
        "# 서버로 요청을 보내고 응답을 받음\n",
        "response = requests.get(url)  # GET 방식 요청을 보내고 응답을 받음.\n",
        "print(response)\n",
        "#> Response [코드]: \n",
        "#>  200 - 요청 처리 성공(Success)\n",
        "#>  404 - 요청 주소(URL)이 잘못됨."
      ],
      "execution_count": 7,
      "outputs": [
        {
          "output_type": "stream",
          "text": [
            "<Response [200]>\n"
          ],
          "name": "stdout"
        }
      ]
    },
    {
      "cell_type": "code",
      "metadata": {
        "colab": {
          "base_uri": "https://localhost:8080/"
        },
        "id": "fJB77OosyHMZ",
        "outputId": "af268043-8431-4af0-8b3d-9123d091f480"
      },
      "source": [
        "# 응답(response)에 포함된 html 코드(문자열)\n",
        "html = response.text.strip()\n",
        "print(html[:100])\n",
        "print('-' * 80)\n",
        "print(html[-100:])"
      ],
      "execution_count": 14,
      "outputs": [
        {
          "output_type": "stream",
          "text": [
            "<!DOCTYPE html>\n",
            "\n",
            "\n",
            "\n",
            "<html lang=\"ko\" class=\"os_unknown none unknown version_0 \">\n",
            "<head>\n",
            "<meta charset=\n",
            "--------------------------------------------------------------------------------\n",
            " type=\"text/javascript\" src=\"//t1.daumcdn.net/kas/static/ba.min.js\"></script>\n",
            "</div>\n",
            "</body>\n",
            "</html>\n"
          ],
          "name": "stdout"
        }
      ]
    },
    {
      "cell_type": "code",
      "metadata": {
        "id": "DYTwRme90z0A"
      },
      "source": [
        "# html 코드를 분석하는 BeautifulSoup 객체 생성\n",
        "soup = BeautifulSoup(markup=html, features='html5lib')"
      ],
      "execution_count": 16,
      "outputs": []
    },
    {
      "cell_type": "code",
      "metadata": {
        "id": "am4lQbUW1A43"
      },
      "source": [
        ""
      ],
      "execution_count": null,
      "outputs": []
    }
  ]
}
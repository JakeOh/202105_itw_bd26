{
  "nbformat": 4,
  "nbformat_minor": 0,
  "metadata": {
    "colab": {
      "name": "py29_daum_news.ipynb",
      "provenance": [],
      "collapsed_sections": [],
      "authorship_tag": "ABX9TyMtOILLSnsXIizcqcmFrIic",
      "include_colab_link": true
    },
    "kernelspec": {
      "name": "python3",
      "display_name": "Python 3"
    },
    "language_info": {
      "name": "python"
    }
  },
  "cells": [
    {
      "cell_type": "markdown",
      "metadata": {
        "id": "view-in-github",
        "colab_type": "text"
      },
      "source": [
        "<a href=\"https://colab.research.google.com/github/JakeOh/202105_itw_bd26/blob/main/lab_python/py29_daum_news.ipynb\" target=\"_parent\"><img src=\"https://colab.research.google.com/assets/colab-badge.svg\" alt=\"Open In Colab\"/></a>"
      ]
    },
    {
      "cell_type": "markdown",
      "metadata": {
        "id": "OpdmYsnAxAJ6"
      },
      "source": [
        "# module import"
      ]
    },
    {
      "cell_type": "code",
      "metadata": {
        "id": "ivLHb9_OuiaT"
      },
      "source": [
        "# 웹 서버에 요청(reqeust)을 보내고, 응답(response)을 받는 기능을 가지고 있는 모듈\n",
        "import requests\n",
        "\n",
        "from bs4 import BeautifulSoup  # HTML parsing(분석)"
      ],
      "execution_count": 1,
      "outputs": []
    },
    {
      "cell_type": "markdown",
      "metadata": {
        "id": "8Eia2jzYxYbw"
      },
      "source": [
        "# 다음(DAUM) 많이 본 랭킹 뉴스"
      ]
    },
    {
      "cell_type": "code",
      "metadata": {
        "id": "u6O7tcJdxV9w"
      },
      "source": [
        "# request를 보낼 웹 주소\n",
        "url = 'https://news.daum.net/ranking/popular'"
      ],
      "execution_count": 29,
      "outputs": []
    },
    {
      "cell_type": "code",
      "metadata": {
        "colab": {
          "base_uri": "https://localhost:8080/"
        },
        "id": "64JsA5gDxr4x",
        "outputId": "f0787b40-f0da-4d97-8b37-ca7efd270aae"
      },
      "source": [
        "# 서버로 요청을 보내고 응답을 받음\n",
        "response = requests.get(url)  # GET 방식 요청을 보내고 응답을 받음.\n",
        "print(response)\n",
        "#> Response [코드]: \n",
        "#>  200 - 요청 처리 성공(Success)\n",
        "#>  404 - 요청 주소(URL)이 잘못됨."
      ],
      "execution_count": 30,
      "outputs": [
        {
          "output_type": "stream",
          "text": [
            "<Response [200]>\n"
          ],
          "name": "stdout"
        }
      ]
    },
    {
      "cell_type": "code",
      "metadata": {
        "colab": {
          "base_uri": "https://localhost:8080/"
        },
        "id": "fJB77OosyHMZ",
        "outputId": "19f46f53-c3d3-442c-b3b5-98df30b48d33"
      },
      "source": [
        "# 응답(response)에 포함된 html 코드(문자열)\n",
        "html = response.text.strip()\n",
        "print(html[:100])  # html 코드의 첫 100글자\n",
        "print('-' * 80)\n",
        "print(html[-100:])  # html 코드의 마지막 100글자"
      ],
      "execution_count": 31,
      "outputs": [
        {
          "output_type": "stream",
          "text": [
            "<!DOCTYPE html>\n",
            "\n",
            "\n",
            "\n",
            "<html lang=\"ko\" class=\"os_unknown none unknown version_0 \">\n",
            "<head>\n",
            "<meta charset=\n",
            "--------------------------------------------------------------------------------\n",
            " type=\"text/javascript\" src=\"//t1.daumcdn.net/kas/static/ba.min.js\"></script>\n",
            "</div>\n",
            "</body>\n",
            "</html>\n"
          ],
          "name": "stdout"
        }
      ]
    },
    {
      "cell_type": "code",
      "metadata": {
        "id": "DYTwRme90z0A"
      },
      "source": [
        "# html 코드를 분석하는 BeautifulSoup 객체 생성\n",
        "soup = BeautifulSoup(markup=html, features='html5lib')"
      ],
      "execution_count": 32,
      "outputs": []
    },
    {
      "cell_type": "code",
      "metadata": {
        "colab": {
          "base_uri": "https://localhost:8080/"
        },
        "id": "am4lQbUW1A43",
        "outputId": "803de2fe-c368-4785-bd69-e563d797b68e"
      },
      "source": [
        "elements = soup.select('a.link_txt')\n",
        "len(elements)  #> 158개\n",
        "#> 전체 html 코드에는 태그가 a이고 class 속성값이 link_txt인 요소가 모두 158개\n",
        "#> 찾으려고 하는 랭킹 뉴스 50개 이외에도 더 있음."
      ],
      "execution_count": 18,
      "outputs": [
        {
          "output_type": "execute_result",
          "data": {
            "text/plain": [
              "158"
            ]
          },
          "metadata": {
            "tags": []
          },
          "execution_count": 18
        }
      ]
    },
    {
      "cell_type": "code",
      "metadata": {
        "colab": {
          "base_uri": "https://localhost:8080/"
        },
        "id": "kWvMSsrm7TYo",
        "outputId": "43d19133-a917-476e-e07a-82c7daf16d2c"
      },
      "source": [
        "selector = 'ul.list_news2 li a.link_txt'\n",
        "elements = soup.select(selector)\n",
        "len(elements)  #> 50개 HTML 요소를 갖는 리스트"
      ],
      "execution_count": 33,
      "outputs": [
        {
          "output_type": "execute_result",
          "data": {
            "text/plain": [
              "50"
            ]
          },
          "metadata": {
            "tags": []
          },
          "execution_count": 33
        }
      ]
    },
    {
      "cell_type": "code",
      "metadata": {
        "colab": {
          "base_uri": "https://localhost:8080/"
        },
        "id": "PfkZKlhF9GdG",
        "outputId": "84d3b7d3-c127-4bc7-8f1d-bee701a6313e"
      },
      "source": [
        "for link in elements:\n",
        "    print(link.text.strip())  # a 태그의 텍스트 컨텐트\n",
        "    print(link['href'])  # link.get('href') - a 태그의 href 속성 값\n",
        "    print()"
      ],
      "execution_count": 34,
      "outputs": [
        {
          "output_type": "stream",
          "text": [
            "\"수건으로 몸 가리며 도망..풀파티장은 아수라장\"\n",
            "https://v.daum.net/v/20210803093900449\n",
            "\n",
            "'박진영 사퇴' 단초 만든 정세균 \"음주운전 부끄럽게 생각해야\"\n",
            "https://v.daum.net/v/20210803102643588\n",
            "\n",
            "'델타 플러스' 국내 첫 확인, 엎친데 덮치나..신규확진 1202명, 4주째 네자릿수\n",
            "https://v.daum.net/v/20210803093813431\n",
            "\n",
            "아기사슴 밤비, 3분의 1이 코로나 걸렸다\n",
            "https://v.daum.net/v/20210803090932310\n",
            "\n",
            "일본서 80대 여성 한달 내에 화이자 4번 접종..건강은?\n",
            "https://v.daum.net/v/20210803095311011\n",
            "\n",
            "\"공식발표 엉터리\" 中소문 진짜였네..폭우 사망자 사흘만에 3배↑\n",
            "https://v.daum.net/v/20210803083646321\n",
            "\n",
            "장제원, 윤석열 캠프 '총괄실장'에 선임..이용, 수행실장으로\n",
            "https://v.daum.net/v/20210803093155165\n",
            "\n",
            "\"왜 반말\" 호프집서 처음 본 60대 머리에 소주병 내리친 50대\n",
            "https://v.daum.net/v/20210803091153409\n",
            "\n",
            "올해 대체공휴일, 8월16일·10월4일·10월11일로 확정\n",
            "https://v.daum.net/v/20210803100014330\n",
            "\n",
            "이번이 세 번째..美 국회의사당 폭동 진압 경찰관, 극단적 선택\n",
            "https://v.daum.net/v/20210803103601037\n",
            "\n",
            "이런 방법이 있었구나..'짝퉁' 구찌·롤렉스 초간단 구별법\n",
            "https://v.daum.net/v/20210803070104932\n",
            "\n",
            "유시민, '알릴레오 방송' 재개..대선 앞두고 '정치 발언'도 다시?\n",
            "https://v.daum.net/v/20210803110121307\n",
            "\n",
            "로펌대표가 신입 女변호사 성폭행..경찰 \"공소권 없다\" 결론\n",
            "https://v.daum.net/v/20210803100003294\n",
            "\n",
            "\"회사 때려치웠다고 말해 이유 물어보니 대표가 많이 만져서\"\n",
            "https://v.daum.net/v/20210803100015333\n",
            "\n",
            "윤석열·최재형의 선 넘는 '입'.. 이래서야 지지층 넓히겠나\n",
            "https://v.daum.net/v/20210803090003912\n",
            "\n",
            "나이 들면 온몸이 쑤시고 아픈 이유\n",
            "https://v.daum.net/v/20210803100106405\n",
            "\n",
            "아무리 운동해도 근육이 그대로인 이유 4가지\n",
            "https://v.daum.net/v/20210803073202280\n",
            "\n",
            "건강에 참 좋은데, 남의 시선 때문에 피하는 행동은?\n",
            "https://v.daum.net/v/20210803084726566\n",
            "\n",
            "\"10시간 차 타고 왔어요\" 태국 한인들 코로나 백신 단체 접종\n",
            "https://v.daum.net/v/20210803080018640\n",
            "\n",
            "\"숨진 성폭행 가해 대표변호사, 10차례 추행 혐의\"\n",
            "https://v.daum.net/v/20210803104632515\n",
            "\n",
            "화이자 '영하 2~8도' 아이스박스로 보건소서 위탁의료기관 이송..'콜드체인' 관리될까\n",
            "https://v.daum.net/v/20210803094937892\n",
            "\n",
            "국내 첫 '델타플러스' 변이 확인.. 40대 남성 등 2명\n",
            "https://v.daum.net/v/20210803104559483\n",
            "\n",
            "체력 떨어질 때..힘 북돋우는 식품 6\n",
            "https://v.daum.net/v/20210803070604028\n",
            "\n",
            "'오죽 괴롭힘 당했으면'..사원증 모양 녹음기 찾는 직장인들\n",
            "https://v.daum.net/v/20210803112319408\n",
            "\n",
            "먹고 바로 '꾸루룩'..식사 직후 배변, 원인과 증상은?\n",
            "https://v.daum.net/v/20210803050111747\n",
            "\n",
            "재난지원금에 추석까지..과일·채소·한우가격 천정부지\n",
            "https://v.daum.net/v/20210803112134319\n",
            "\n",
            "국민의당 이태규 \"우리가 돈이 없지 가오가 없냐\"\n",
            "https://v.daum.net/v/20210803084204440\n",
            "\n",
            "윤석열 '쩍벌' 습관에 조응천 \"충심으로 드리는 말씀인데..\"\n",
            "https://v.daum.net/v/20210803000511684\n",
            "\n",
            "서초구 어린이집 19명 집단감염..\"식사·신체놀이 밀접접촉\"\n",
            "https://v.daum.net/v/20210803110325413\n",
            "\n",
            "운동 전 '커피 한 잔'에 숨겨진 비밀\n",
            "https://v.daum.net/v/20210803080202682\n",
            "\n",
            "말다툼 끝 4살 아들 앞에서 아내 살해..30대 남성 13년형 확정\n",
            "https://v.daum.net/v/20210803103139820\n",
            "\n",
            "박병석 \"나라 갈등 세계 최악\"..윤석열 \"국민통합 잘 되게\"\n",
            "https://v.daum.net/v/20210803095421067\n",
            "\n",
            "\"풀파티 안 하겠다고 약속 받았는데 당일에 가보니..\"\n",
            "https://v.daum.net/v/20210803092301825\n",
            "\n",
            "\"김밥 먹고 5kg 빠졌다\"..분당 김밥집 '집단 식중독' 쇼크\n",
            "https://v.daum.net/v/20210803111547007\n",
            "\n",
            "부동산 레임덕 현실화하나..돌파구 없는 정책 리더십(종합)\n",
            "https://v.daum.net/v/20210803081043824\n",
            "\n",
            "자식에겐 한푼 안 주고..1조4000억 전재산 내연녀에 남긴 남자\n",
            "https://v.daum.net/v/20210803073751329\n",
            "\n",
            "국민 10명 중 8명 \"수도권 거리두기 4단계 연장 찬성\"\n",
            "https://v.daum.net/v/20210803110037246\n",
            "\n",
            "'이재명-태영건설 유착설' 퍼뜨린 유튜버 '혐의없음'..검찰행\n",
            "https://v.daum.net/v/20210803095125964\n",
            "\n",
            "日 \"후쿠시마 이미지 나빠져\"..한국에만 선택적 '도시락 트집'\n",
            "https://v.daum.net/v/20210803080402714\n",
            "\n",
            "\"왜 우리만 이런 얼굴을..\" 中이 트집 잡은 올림픽 사진\n",
            "https://v.daum.net/v/20210802163127522\n",
            "\n",
            "조은산 만난 윤석열 \"조국 수사는 정의도, 정치도 아니었다..그건 상식\"\n",
            "https://v.daum.net/v/20210803102810658\n",
            "\n",
            "힘 빠진 동학개미들..증시 떠나나\n",
            "https://v.daum.net/v/20210803111159814\n",
            "\n",
            "테슬라 13t 대형 배터리 화재..불 끄는데 꼬박 나흘\n",
            "https://v.daum.net/v/20210803103413947\n",
            "\n",
            "[영상] 서울대 치과병원에서 불..환자 등 100여 명 대피\n",
            "https://v.daum.net/v/20210803112943700\n",
            "\n",
            "\"썩어 쉰내 진동\"..'착한 소비' 대박났던 초당옥수수의 배신\n",
            "https://v.daum.net/v/20210802201200661\n",
            "\n",
            "조은산 만난 윤석열 \"조국 수사 왜? 상식이었다..내 정치는 타이슨식\"\n",
            "https://v.daum.net/v/20210803103829150\n",
            "\n",
            "[단독]삼성전자 수원사업장서 무더기 코로나 확진..10여명 추정\n",
            "https://v.daum.net/v/20210803114000203\n",
            "\n",
            "군, 40mm급 소형포탄 6발 탑재 '유탄발사드론' 내년 시범운용\n",
            "https://v.daum.net/v/20210803091432489\n",
            "\n",
            "다시 소환된 이재명 '음주운전'..김두관·정세균 \"벌금기록 공개\" 협공\n",
            "https://v.daum.net/v/20210803112427488\n",
            "\n",
            "\"대전이 작년 대구같다\"..4단계서 확진 증가 \"방역 손 놨나\"\n",
            "https://v.daum.net/v/20210803110127314\n",
            "\n"
          ],
          "name": "stdout"
        }
      ]
    },
    {
      "cell_type": "markdown",
      "metadata": {
        "id": "Yu-MrDTJ_X8-"
      },
      "source": [
        "# 다음(DAUM) 뉴스 랭킹 열독률 높은 뉴스 1 ~ 20위의 제목과 링크를 출력"
      ]
    },
    {
      "cell_type": "code",
      "metadata": {
        "id": "EXTxi8GP_vok"
      },
      "source": [
        ""
      ],
      "execution_count": null,
      "outputs": []
    },
    {
      "cell_type": "markdown",
      "metadata": {
        "id": "luUbOg8y_wis"
      },
      "source": [
        ""
      ]
    }
  ]
}
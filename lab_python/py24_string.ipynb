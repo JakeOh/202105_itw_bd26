{
  "nbformat": 4,
  "nbformat_minor": 0,
  "metadata": {
    "colab": {
      "name": "py24_string.ipynb",
      "provenance": [],
      "collapsed_sections": [],
      "authorship_tag": "ABX9TyNfGkFvsxq212QuA8UsK2ao",
      "include_colab_link": true
    },
    "kernelspec": {
      "name": "python3",
      "display_name": "Python 3"
    },
    "language_info": {
      "name": "python"
    }
  },
  "cells": [
    {
      "cell_type": "markdown",
      "metadata": {
        "id": "view-in-github",
        "colab_type": "text"
      },
      "source": [
        "<a href=\"https://colab.research.google.com/github/JakeOh/202105_itw_bd26/blob/main/lab_python/py24_string.ipynb\" target=\"_parent\"><img src=\"https://colab.research.google.com/assets/colab-badge.svg\" alt=\"Open In Colab\"/></a>"
      ]
    },
    {
      "cell_type": "markdown",
      "metadata": {
        "id": "VZuUcCXADilC"
      },
      "source": [
        "# 문자열 메서드(string methods)"
      ]
    },
    {
      "cell_type": "code",
      "metadata": {
        "id": "gF4KScB7DbUZ"
      },
      "source": [
        "s = 'heLLo pyTHOn!'  # str 클래스의 인스턴스 생성"
      ],
      "execution_count": 1,
      "outputs": []
    },
    {
      "cell_type": "code",
      "metadata": {
        "colab": {
          "base_uri": "https://localhost:8080/",
          "height": 36
        },
        "id": "QEpxNiItFqeS",
        "outputId": "e2a57977-0871-454b-dc9f-da37928f317b"
      },
      "source": [
        "s"
      ],
      "execution_count": 2,
      "outputs": [
        {
          "output_type": "execute_result",
          "data": {
            "application/vnd.google.colaboratory.intrinsic+json": {
              "type": "string"
            },
            "text/plain": [
              "'heLLo pyTHOn!'"
            ]
          },
          "metadata": {
            "tags": []
          },
          "execution_count": 2
        }
      ]
    },
    {
      "cell_type": "code",
      "metadata": {
        "colab": {
          "base_uri": "https://localhost:8080/"
        },
        "id": "iEe1jNsAF5QX",
        "outputId": "1ae8b2ed-fb4d-47c4-f020-9d57901e84f3"
      },
      "source": [
        "# str.lower(): str을 소문자로 변환한 (새로운) 문자열을 리턴. 원본 문자열은 바뀌지 않음!\n",
        "print(s.lower())\n",
        "print(s)"
      ],
      "execution_count": 3,
      "outputs": [
        {
          "output_type": "stream",
          "text": [
            "hello python!\n",
            "heLLo pyTHOn!\n"
          ],
          "name": "stdout"
        }
      ]
    },
    {
      "cell_type": "code",
      "metadata": {
        "colab": {
          "base_uri": "https://localhost:8080/",
          "height": 36
        },
        "id": "rEWv5ohiHywR",
        "outputId": "1f6a2666-a119-43bb-e8cd-2f6999367e2d"
      },
      "source": [
        "# str.upper(): str을 대문자로 변환한 (새로운) 문자열을 리턴.\n",
        "s.upper()"
      ],
      "execution_count": 4,
      "outputs": [
        {
          "output_type": "execute_result",
          "data": {
            "application/vnd.google.colaboratory.intrinsic+json": {
              "type": "string"
            },
            "text/plain": [
              "'HELLO PYTHON!'"
            ]
          },
          "metadata": {
            "tags": []
          },
          "execution_count": 4
        }
      ]
    },
    {
      "cell_type": "code",
      "metadata": {
        "colab": {
          "base_uri": "https://localhost:8080/"
        },
        "id": "LUUVw1uMJNrp",
        "outputId": "4509a021-1462-4e8a-c2ca-3b39705f109d"
      },
      "source": [
        "# list(iterable): iterable 객체를 list로 변환해서 리턴\n",
        "list('hello')  # str -> 문자들의 리스트"
      ],
      "execution_count": 5,
      "outputs": [
        {
          "output_type": "execute_result",
          "data": {
            "text/plain": [
              "['h', 'e', 'l', 'l', 'o']"
            ]
          },
          "metadata": {
            "tags": []
          },
          "execution_count": 5
        }
      ]
    },
    {
      "cell_type": "code",
      "metadata": {
        "colab": {
          "base_uri": "https://localhost:8080/"
        },
        "id": "ZtwVbtkRPctl",
        "outputId": "f2889c34-6a38-47dd-f070-e2ed72475bc0"
      },
      "source": [
        "# str.count(sub): 문자열 str 안에 sub가 몇 번 등장하는 지를 리턴.\n",
        "print(s)\n",
        "print(s.count('L'))\n",
        "print(s.count('o'))\n",
        "print(s.count('LL'))\n",
        "print(s.count('LL', 0, 5))  # 0 <= index < 5 범위의 문자열 내에서\n",
        "print(s.count('LL', 5))  # 5 <= index 범위의 문자열 내에서"
      ],
      "execution_count": 6,
      "outputs": [
        {
          "output_type": "stream",
          "text": [
            "heLLo pyTHOn!\n",
            "2\n",
            "1\n",
            "1\n",
            "1\n",
            "0\n"
          ],
          "name": "stdout"
        }
      ]
    },
    {
      "cell_type": "code",
      "metadata": {
        "colab": {
          "base_uri": "https://localhost:8080/"
        },
        "id": "dDTyvftYTH9c",
        "outputId": "a92c7361-c50b-4908-b452-4e17483de6c9"
      },
      "source": [
        "# str.startswith(패턴): 문자열 str이 '패턴'으로 시작하면 True, 그렇지 않으면 False 리턴.\n",
        "url = 'https://www.google.com/'\n",
        "url.startswith('http')"
      ],
      "execution_count": 7,
      "outputs": [
        {
          "output_type": "execute_result",
          "data": {
            "text/plain": [
              "True"
            ]
          },
          "metadata": {
            "tags": []
          },
          "execution_count": 7
        }
      ]
    },
    {
      "cell_type": "code",
      "metadata": {
        "colab": {
          "base_uri": "https://localhost:8080/"
        },
        "id": "kKWyiy3YU-bj",
        "outputId": "6e47b591-a39b-4e04-9772-157d4f7f1c33"
      },
      "source": [
        "# str.endswith(패턴): 문자열 str이 '패턴'으로 끝나면 True, 그렇지 않으면 False를 리턴.\n",
        "phone = '010-1234-5678'\n",
        "phone.endswith('0000')"
      ],
      "execution_count": 8,
      "outputs": [
        {
          "output_type": "execute_result",
          "data": {
            "text/plain": [
              "False"
            ]
          },
          "metadata": {
            "tags": []
          },
          "execution_count": 8
        }
      ]
    },
    {
      "cell_type": "code",
      "metadata": {
        "colab": {
          "base_uri": "https://localhost:8080/"
        },
        "id": "Q1c4CmhAV4Zb",
        "outputId": "d15d394a-867b-40d1-99c2-6ba1e4eaf19c"
      },
      "source": [
        "# str.find(패턴): 문자열 str에서 '패턴'이 등장하는 가장 낮은 인덱스를 리턴. \n",
        "# 만약 패턴을 못 찾으면 -1을 리턴.\n",
        "email = 'abc.def@gmail.com'\n",
        "idx = email.find('@')\n",
        "print('idx =', idx)\n",
        "# 인덱스를 사용한 문자열 slicing\n",
        "print(email[:idx])  # 0 <= index < idx 범위의 substring\n",
        "print(email[(idx + 1):])  # idx <= index 범위의 substring"
      ],
      "execution_count": 9,
      "outputs": [
        {
          "output_type": "stream",
          "text": [
            "idx = 7\n",
            "abc.def\n",
            "gmail.com\n"
          ],
          "name": "stdout"
        }
      ]
    },
    {
      "cell_type": "code",
      "metadata": {
        "id": "YGZPPMBy4QmP"
      },
      "source": [
        "sentence = 'Apollo 15 (July 26 – August 7, 1971) was the fourth crewed mission to land on the Moon.'"
      ],
      "execution_count": 10,
      "outputs": []
    },
    {
      "cell_type": "code",
      "metadata": {
        "colab": {
          "base_uri": "https://localhost:8080/"
        },
        "id": "CN9qmXbn4yxS",
        "outputId": "e029e9d3-32e6-458a-8be5-edd256fd5652"
      },
      "source": [
        "# str.split(): 공백(space, tab, enter)을 기준으로 문자열을 잘라서 단어들의 리스트를 만들고 리턴.\n",
        "sentence.split()"
      ],
      "execution_count": 11,
      "outputs": [
        {
          "output_type": "execute_result",
          "data": {
            "text/plain": [
              "['Apollo',\n",
              " '15',\n",
              " '(July',\n",
              " '26',\n",
              " '–',\n",
              " 'August',\n",
              " '7,',\n",
              " '1971)',\n",
              " 'was',\n",
              " 'the',\n",
              " 'fourth',\n",
              " 'crewed',\n",
              " 'mission',\n",
              " 'to',\n",
              " 'land',\n",
              " 'on',\n",
              " 'the',\n",
              " 'Moon.']"
            ]
          },
          "metadata": {
            "tags": []
          },
          "execution_count": 11
        }
      ]
    },
    {
      "cell_type": "code",
      "metadata": {
        "colab": {
          "base_uri": "https://localhost:8080/"
        },
        "id": "a3Th8h9i6tVW",
        "outputId": "08a33c26-8e3c-48c6-b31e-4fd9ca9a2df2"
      },
      "source": [
        "date = '2021-07-30'\n",
        "date.split(sep='-')"
      ],
      "execution_count": 12,
      "outputs": [
        {
          "output_type": "execute_result",
          "data": {
            "text/plain": [
              "['2021', '07', '30']"
            ]
          },
          "metadata": {
            "tags": []
          },
          "execution_count": 12
        }
      ]
    },
    {
      "cell_type": "code",
      "metadata": {
        "colab": {
          "base_uri": "https://localhost:8080/"
        },
        "id": "4vOzWoIW7JF1",
        "outputId": "8f928dee-a93c-42aa-88a1-aca2d4a3625e"
      },
      "source": [
        "csv = '홍길동,100,90,50'\n",
        "csv.split(sep=',')"
      ],
      "execution_count": 13,
      "outputs": [
        {
          "output_type": "execute_result",
          "data": {
            "text/plain": [
              "['홍길동', '100', '90', '50']"
            ]
          },
          "metadata": {
            "tags": []
          },
          "execution_count": 13
        }
      ]
    },
    {
      "cell_type": "code",
      "metadata": {
        "colab": {
          "base_uri": "https://localhost:8080/",
          "height": 36
        },
        "id": "77AeWYWP7oi-",
        "outputId": "11888501-0ad6-4e36-f7d7-0a58710fc3ac"
      },
      "source": [
        "# str.join(iterable): iterable이 갖고 있는 단어들을 str으로 붙여서 하나의 문자열을 만들고 리턴.\n",
        "'-'.join(['2021', '07', '30'])"
      ],
      "execution_count": 14,
      "outputs": [
        {
          "output_type": "execute_result",
          "data": {
            "application/vnd.google.colaboratory.intrinsic+json": {
              "type": "string"
            },
            "text/plain": [
              "'2021-07-30'"
            ]
          },
          "metadata": {
            "tags": []
          },
          "execution_count": 14
        }
      ]
    },
    {
      "cell_type": "code",
      "metadata": {
        "colab": {
          "base_uri": "https://localhost:8080/",
          "height": 36
        },
        "id": "I1PKpCH09HWt",
        "outputId": "19b3d5ed-b16d-45a1-c1d4-d7cf9bcb0b1b"
      },
      "source": [
        "' '.join(['홍길동', '100', '90', '50'])"
      ],
      "execution_count": 15,
      "outputs": [
        {
          "output_type": "execute_result",
          "data": {
            "application/vnd.google.colaboratory.intrinsic+json": {
              "type": "string"
            },
            "text/plain": [
              "'홍길동 100 90 50'"
            ]
          },
          "metadata": {
            "tags": []
          },
          "execution_count": 15
        }
      ]
    },
    {
      "cell_type": "code",
      "metadata": {
        "colab": {
          "base_uri": "https://localhost:8080/"
        },
        "id": "aU9zkbA_9WOf",
        "outputId": "0ed26849-1e71-427a-a15e-de8a489aa451"
      },
      "source": [
        "sentence = '     Hello, Python!        안녕하세요...       '\n",
        "print(sentence)\n",
        "\n",
        "# str.lstrip(): 문자열의 왼쪽(시작 부분)에 있는 모든 공백을 제거한 문자열을 리턴.\n",
        "print(sentence.lstrip())\n",
        "# str.rstrip(): 문자열의 오른쪽(끝나는 부분)에 있는 모든 공백을 제거한 문자열을 리턴.\n",
        "print(sentence.rstrip())\n",
        "# str.strip(): 문자열의 시작과 끝에 있는 모든 공백을 제거한 문자열을 리턴\n",
        "print(sentence.strip())"
      ],
      "execution_count": 19,
      "outputs": [
        {
          "output_type": "stream",
          "text": [
            "     Hello, Python!        안녕하세요...       \n",
            "Hello, Python!        안녕하세요...       \n",
            "     Hello, Python!        안녕하세요...\n",
            "Hello, Python!        안녕하세요...\n"
          ],
          "name": "stdout"
        }
      ]
    },
    {
      "cell_type": "code",
      "metadata": {
        "colab": {
          "base_uri": "https://localhost:8080/",
          "height": 36
        },
        "id": "KTDwfFZW_wMc",
        "outputId": "84f58a76-08e6-4d2b-e227-bcf9db4358a2"
      },
      "source": [
        "sentence = '<<<hello 안녕하세요>>>'\n",
        "sentence.strip('<').strip('>')"
      ],
      "execution_count": 22,
      "outputs": [
        {
          "output_type": "execute_result",
          "data": {
            "application/vnd.google.colaboratory.intrinsic+json": {
              "type": "string"
            },
            "text/plain": [
              "'hello 안녕하세요'"
            ]
          },
          "metadata": {
            "tags": []
          },
          "execution_count": 22
        }
      ]
    },
    {
      "cell_type": "code",
      "metadata": {
        "colab": {
          "base_uri": "https://localhost:8080/",
          "height": 36
        },
        "id": "0WrlhyyQAsbU",
        "outputId": "21d6aeb4-f119-42af-f52b-56732f374e56"
      },
      "source": [
        "sentence = 'Hello,Python,안녕하세요,100'\n",
        "\n",
        "# str.replace(old, new): 문자열 str에서 나오는 old 패턴을 new로 대체한 문자열을 리턴.\n",
        "sentence.replace(',', '::')"
      ],
      "execution_count": 27,
      "outputs": [
        {
          "output_type": "execute_result",
          "data": {
            "application/vnd.google.colaboratory.intrinsic+json": {
              "type": "string"
            },
            "text/plain": [
              "'Hello::Python::안녕하세요::100'"
            ]
          },
          "metadata": {
            "tags": []
          },
          "execution_count": 27
        }
      ]
    }
  ]
}
{
  "nbformat": 4,
  "nbformat_minor": 0,
  "metadata": {
    "colab": {
      "name": "py24_string.ipynb",
      "provenance": [],
      "collapsed_sections": [],
      "authorship_tag": "ABX9TyO5UjPcSOGxj6+ywahGN3tF",
      "include_colab_link": true
    },
    "kernelspec": {
      "name": "python3",
      "display_name": "Python 3"
    },
    "language_info": {
      "name": "python"
    }
  },
  "cells": [
    {
      "cell_type": "markdown",
      "metadata": {
        "id": "view-in-github",
        "colab_type": "text"
      },
      "source": [
        "<a href=\"https://colab.research.google.com/github/JakeOh/202105_itw_bd26/blob/main/lab_python/py24_string.ipynb\" target=\"_parent\"><img src=\"https://colab.research.google.com/assets/colab-badge.svg\" alt=\"Open In Colab\"/></a>"
      ]
    },
    {
      "cell_type": "markdown",
      "metadata": {
        "id": "VZuUcCXADilC"
      },
      "source": [
        "# 문자열 메서드(string methods)"
      ]
    },
    {
      "cell_type": "code",
      "metadata": {
        "id": "gF4KScB7DbUZ"
      },
      "source": [
        "s = 'heLLo pyTHOn!'  # str 클래스의 인스턴스 생성"
      ],
      "execution_count": 1,
      "outputs": []
    },
    {
      "cell_type": "code",
      "metadata": {
        "colab": {
          "base_uri": "https://localhost:8080/",
          "height": 36
        },
        "id": "QEpxNiItFqeS",
        "outputId": "eb8ddd3d-d31d-4f2e-fb74-e055db1181c4"
      },
      "source": [
        "s"
      ],
      "execution_count": 2,
      "outputs": [
        {
          "output_type": "execute_result",
          "data": {
            "application/vnd.google.colaboratory.intrinsic+json": {
              "type": "string"
            },
            "text/plain": [
              "'heLLo pyTHOn!'"
            ]
          },
          "metadata": {
            "tags": []
          },
          "execution_count": 2
        }
      ]
    },
    {
      "cell_type": "code",
      "metadata": {
        "colab": {
          "base_uri": "https://localhost:8080/"
        },
        "id": "iEe1jNsAF5QX",
        "outputId": "31f678cc-c002-4381-dec7-40e50455e579"
      },
      "source": [
        "# str.lower(): str을 소문자로 변환한 (새로운) 문자열을 리턴. 원본 문자열은 바뀌지 않음!\n",
        "print(s.lower())\n",
        "print(s)"
      ],
      "execution_count": 4,
      "outputs": [
        {
          "output_type": "stream",
          "text": [
            "hello python!\n",
            "heLLo pyTHOn!\n"
          ],
          "name": "stdout"
        }
      ]
    },
    {
      "cell_type": "code",
      "metadata": {
        "colab": {
          "base_uri": "https://localhost:8080/",
          "height": 36
        },
        "id": "rEWv5ohiHywR",
        "outputId": "ef0217f1-df43-472a-d42c-3eb6db6f6461"
      },
      "source": [
        "# str.upper(): str을 대문자로 변환한 (새로운) 문자열을 리턴.\n",
        "s.upper()"
      ],
      "execution_count": 8,
      "outputs": [
        {
          "output_type": "execute_result",
          "data": {
            "application/vnd.google.colaboratory.intrinsic+json": {
              "type": "string"
            },
            "text/plain": [
              "'HELLO PYTHON!'"
            ]
          },
          "metadata": {
            "tags": []
          },
          "execution_count": 8
        }
      ]
    },
    {
      "cell_type": "code",
      "metadata": {
        "colab": {
          "base_uri": "https://localhost:8080/"
        },
        "id": "LUUVw1uMJNrp",
        "outputId": "61a4c165-bb88-47b1-bcc1-fb998d6985d0"
      },
      "source": [
        "# list(iterable): iterable 객체를 list로 변환해서 리턴\n",
        "list('hello')  # str -> 문자들의 리스트"
      ],
      "execution_count": 13,
      "outputs": [
        {
          "output_type": "execute_result",
          "data": {
            "text/plain": [
              "['h', 'e', 'l', 'l', 'o']"
            ]
          },
          "metadata": {
            "tags": []
          },
          "execution_count": 13
        }
      ]
    },
    {
      "cell_type": "code",
      "metadata": {
        "colab": {
          "base_uri": "https://localhost:8080/"
        },
        "id": "ZtwVbtkRPctl",
        "outputId": "68e3e312-bb81-4647-bbf9-8d121df029b5"
      },
      "source": [
        "# str.count(sub): 문자열 str 안에 sub가 몇 번 등장하는 지를 리턴.\n",
        "print(s)\n",
        "print(s.count('L'))\n",
        "print(s.count('o'))\n",
        "print(s.count('LL'))\n",
        "print(s.count('LL', 0, 5))  # 0 <= index < 5 범위의 문자열 내에서\n",
        "print(s.count('LL', 5))  # 5 <= index 범위의 문자열 내에서"
      ],
      "execution_count": 19,
      "outputs": [
        {
          "output_type": "stream",
          "text": [
            "heLLo pyTHOn!\n",
            "2\n",
            "1\n",
            "1\n",
            "1\n",
            "0\n"
          ],
          "name": "stdout"
        }
      ]
    },
    {
      "cell_type": "code",
      "metadata": {
        "colab": {
          "base_uri": "https://localhost:8080/"
        },
        "id": "dDTyvftYTH9c",
        "outputId": "99a7cf2f-db5c-4430-9118-bf0ad3c2b749"
      },
      "source": [
        "# str.startswith(패턴): 문자열 str이 '패턴'으로 시작하면 True, 그렇지 않으면 False 리턴.\n",
        "url = 'https://www.google.com/'\n",
        "url.startswith('http')"
      ],
      "execution_count": 21,
      "outputs": [
        {
          "output_type": "execute_result",
          "data": {
            "text/plain": [
              "True"
            ]
          },
          "metadata": {
            "tags": []
          },
          "execution_count": 21
        }
      ]
    },
    {
      "cell_type": "code",
      "metadata": {
        "colab": {
          "base_uri": "https://localhost:8080/"
        },
        "id": "kKWyiy3YU-bj",
        "outputId": "ff8056ea-42d0-41af-b50e-b765b3173363"
      },
      "source": [
        "# str.endswith(패턴): 문자열 str이 '패턴'으로 끝나면 True, 그렇지 않으면 False를 리턴.\n",
        "phone = '010-1234-5678'\n",
        "phone.endswith('0000')"
      ],
      "execution_count": 23,
      "outputs": [
        {
          "output_type": "execute_result",
          "data": {
            "text/plain": [
              "False"
            ]
          },
          "metadata": {
            "tags": []
          },
          "execution_count": 23
        }
      ]
    },
    {
      "cell_type": "code",
      "metadata": {
        "colab": {
          "base_uri": "https://localhost:8080/"
        },
        "id": "Q1c4CmhAV4Zb",
        "outputId": "dd40053b-3f89-45fb-d510-f3b950507d1a"
      },
      "source": [
        "# str.find(패턴): 문자열 str에서 '패턴'이 등장하는 가장 낮은 인덱스를 리턴. \n",
        "# 만약 패턴을 못 찾으면 -1을 리턴.\n",
        "email = 'abc.def@gmail.com'\n",
        "idx = email.find('@')\n",
        "print('idx =', idx)\n",
        "# 인덱스를 사용한 문자열 slicing\n",
        "print(email[:idx])  # 0 <= index < idx 범위의 substring\n",
        "print(email[(idx + 1):])  # idx <= index 범위의 substring"
      ],
      "execution_count": 28,
      "outputs": [
        {
          "output_type": "stream",
          "text": [
            "idx = 7\n",
            "abc.def\n",
            "gmail.com\n"
          ],
          "name": "stdout"
        }
      ]
    }
  ]
}
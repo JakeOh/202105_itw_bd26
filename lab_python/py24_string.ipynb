{
  "nbformat": 4,
  "nbformat_minor": 0,
  "metadata": {
    "colab": {
      "name": "py24_string.ipynb",
      "provenance": [],
      "collapsed_sections": [],
      "authorship_tag": "ABX9TyP7nzWPJzL3H1Gm1KagIyuZ",
      "include_colab_link": true
    },
    "kernelspec": {
      "name": "python3",
      "display_name": "Python 3"
    },
    "language_info": {
      "name": "python"
    }
  },
  "cells": [
    {
      "cell_type": "markdown",
      "metadata": {
        "id": "view-in-github",
        "colab_type": "text"
      },
      "source": [
        "<a href=\"https://colab.research.google.com/github/JakeOh/202105_itw_bd26/blob/main/lab_python/py24_string.ipynb\" target=\"_parent\"><img src=\"https://colab.research.google.com/assets/colab-badge.svg\" alt=\"Open In Colab\"/></a>"
      ]
    },
    {
      "cell_type": "markdown",
      "metadata": {
        "id": "VZuUcCXADilC"
      },
      "source": [
        "# 문자열 메서드(string methods)"
      ]
    },
    {
      "cell_type": "code",
      "metadata": {
        "id": "gF4KScB7DbUZ"
      },
      "source": [
        "s = 'heLLo pyTHOn!'  # str 클래스의 인스턴스 생성"
      ],
      "execution_count": 1,
      "outputs": []
    },
    {
      "cell_type": "code",
      "metadata": {
        "colab": {
          "base_uri": "https://localhost:8080/",
          "height": 36
        },
        "id": "QEpxNiItFqeS",
        "outputId": "eb8ddd3d-d31d-4f2e-fb74-e055db1181c4"
      },
      "source": [
        "s"
      ],
      "execution_count": 2,
      "outputs": [
        {
          "output_type": "execute_result",
          "data": {
            "application/vnd.google.colaboratory.intrinsic+json": {
              "type": "string"
            },
            "text/plain": [
              "'heLLo pyTHOn!'"
            ]
          },
          "metadata": {
            "tags": []
          },
          "execution_count": 2
        }
      ]
    },
    {
      "cell_type": "code",
      "metadata": {
        "colab": {
          "base_uri": "https://localhost:8080/"
        },
        "id": "iEe1jNsAF5QX",
        "outputId": "31f678cc-c002-4381-dec7-40e50455e579"
      },
      "source": [
        "# str.lower(): str을 소문자로 변환한 (새로운) 문자열을 리턴. 원본 문자열은 바뀌지 않음!\n",
        "print(s.lower())\n",
        "print(s)"
      ],
      "execution_count": 4,
      "outputs": [
        {
          "output_type": "stream",
          "text": [
            "hello python!\n",
            "heLLo pyTHOn!\n"
          ],
          "name": "stdout"
        }
      ]
    },
    {
      "cell_type": "code",
      "metadata": {
        "colab": {
          "base_uri": "https://localhost:8080/",
          "height": 36
        },
        "id": "rEWv5ohiHywR",
        "outputId": "ef0217f1-df43-472a-d42c-3eb6db6f6461"
      },
      "source": [
        "# str.upper(): str을 대문자로 변환한 (새로운) 문자열을 리턴.\n",
        "s.upper()"
      ],
      "execution_count": 8,
      "outputs": [
        {
          "output_type": "execute_result",
          "data": {
            "application/vnd.google.colaboratory.intrinsic+json": {
              "type": "string"
            },
            "text/plain": [
              "'HELLO PYTHON!'"
            ]
          },
          "metadata": {
            "tags": []
          },
          "execution_count": 8
        }
      ]
    },
    {
      "cell_type": "code",
      "metadata": {
        "id": "LUUVw1uMJNrp"
      },
      "source": [
        ""
      ],
      "execution_count": null,
      "outputs": []
    }
  ]
}
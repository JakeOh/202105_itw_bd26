{
  "nbformat": 4,
  "nbformat_minor": 0,
  "metadata": {
    "colab": {
      "name": "py09_list.ipynb",
      "provenance": [],
      "collapsed_sections": [],
      "authorship_tag": "ABX9TyOqDVrlQV5PPtKH4jPStsJN",
      "include_colab_link": true
    },
    "kernelspec": {
      "name": "python3",
      "display_name": "Python 3"
    },
    "language_info": {
      "name": "python"
    }
  },
  "cells": [
    {
      "cell_type": "markdown",
      "metadata": {
        "id": "view-in-github",
        "colab_type": "text"
      },
      "source": [
        "<a href=\"https://colab.research.google.com/github/JakeOh/202105_itw_bd26/blob/main/lab_python/py09_list.ipynb\" target=\"_parent\"><img src=\"https://colab.research.google.com/assets/colab-badge.svg\" alt=\"Open In Colab\"/></a>"
      ]
    },
    {
      "cell_type": "markdown",
      "metadata": {
        "id": "SOZiaGxD1EWx"
      },
      "source": [
        "# 리스트와 for 반복문"
      ]
    },
    {
      "cell_type": "code",
      "metadata": {
        "id": "KiPcvFLY00jr"
      },
      "source": [
        "import random  # 난수 생성 함수를 가지고 있는 모듈 사용"
      ],
      "execution_count": 1,
      "outputs": []
    },
    {
      "cell_type": "markdown",
      "metadata": {
        "id": "EvY6CEuk1aa2"
      },
      "source": [
        "\n",
        "*   empty list 생성 - numbers\n",
        "*   10 ~ 100 범위의 정수 난수 10개를 리스트에 추가하고 출력\n",
        "*   리스트의 원소들 중 짝수들로만 이루어진 새로운 리스트를 생성하고 출력 - evens\n",
        "*   리스트의 원소들 중 홀수들로만 이루어진 새로운 리스트를 생성하고 출력 - odds\n"
      ]
    },
    {
      "cell_type": "code",
      "metadata": {
        "colab": {
          "base_uri": "https://localhost:8080/"
        },
        "id": "urDGwsdz2DCd",
        "outputId": "178a10ce-5ef4-40c5-8ac4-0894bd7b0cdb"
      },
      "source": [
        "numbers = []  # empty list\n",
        "for _ in range(10):  # 10번 반복\n",
        "    numbers.append(random.randrange(10, 101))\n",
        "\n",
        "print(numbers)"
      ],
      "execution_count": 2,
      "outputs": [
        {
          "output_type": "stream",
          "text": [
            "[93, 39, 79, 17, 82, 18, 75, 99, 40, 26]\n"
          ],
          "name": "stdout"
        }
      ]
    },
    {
      "cell_type": "markdown",
      "metadata": {
        "id": "LQ7Z7qMg9H71"
      },
      "source": [
        "\n",
        "*   `random.randrange(start, stop)`: start <= r < stop 범위의 정수 난수를 생성\n",
        "*   `random.randint(start, stop)`: start <= r <= stop 범위의 정수 난수를 생성\n"
      ]
    },
    {
      "cell_type": "code",
      "metadata": {
        "colab": {
          "base_uri": "https://localhost:8080/"
        },
        "id": "Reekb1m49Bfy",
        "outputId": "fb95f145-66ac-4c6c-da8d-eeef2ddf8219"
      },
      "source": [
        "evens = []  # 짝수들을 저장할 빈 리스트\n",
        "odds = []  # 홀수들을 저장할 빈 리스트\n",
        "# evens, odds = [], []\n",
        "\n",
        "for x in numbers:  # 리스트 numbers의 원소들을 반복하면서\n",
        "    if x % 2 == 0: # 리스트의 원소가 짝수이면\n",
        "        evens.append(x)\n",
        "    else:  # 그렇지 않으면(홀수이면)\n",
        "        odds.append(x)\n",
        "\n",
        "print(evens)\n",
        "print(odds)"
      ],
      "execution_count": 3,
      "outputs": [
        {
          "output_type": "stream",
          "text": [
            "[82, 18, 40, 26]\n",
            "[93, 39, 79, 17, 75, 99]\n"
          ],
          "name": "stdout"
        }
      ]
    },
    {
      "cell_type": "markdown",
      "metadata": {
        "id": "WYS1Y9eO2Tc8"
      },
      "source": [
        "\n",
        "*   empty list를 생성 - numbers\n",
        "*   -10 ~ 10 범위의 정수 난수 10개를 리스트에 추가, 출력\n",
        "*   리스트의 원소가 양수이면 True, 그렇지 않으면 False를 저장하는 리스트를 생성, 출력 - positives\n"
      ]
    },
    {
      "cell_type": "code",
      "metadata": {
        "colab": {
          "base_uri": "https://localhost:8080/"
        },
        "id": "uuQKPy-726Ru",
        "outputId": "012041ec-42f4-40b5-c1aa-706f1f226c94"
      },
      "source": [
        "numbers = []  # 정수들을 저장할 빈 리스트\n",
        "for _ in range(10):\n",
        "    numbers.append(random.randrange(-10, 11))\n",
        "\n",
        "print(numbers)"
      ],
      "execution_count": 4,
      "outputs": [
        {
          "output_type": "stream",
          "text": [
            "[-2, 8, -10, 8, 10, 4, -10, 0, -5, 8]\n"
          ],
          "name": "stdout"
        }
      ]
    },
    {
      "cell_type": "code",
      "metadata": {
        "colab": {
          "base_uri": "https://localhost:8080/"
        },
        "id": "SjE9wrVHDhUp",
        "outputId": "6e17704e-592b-4cc2-f62c-daf5396c8142"
      },
      "source": [
        "positives = []  # 양수(True), 0 또는 음수(False)를 저장할 리스트\n",
        "for x in numbers:  # 리스트 numbers의 원소들을 반복하면서\n",
        "    # if x > 0:  # 원소가 양수이면\n",
        "    #     positives.append(True)  # True를 추가\n",
        "    # else:  # 그렇지 않으면(원소가 음수이면)\n",
        "    #     positives.append(False)  # False를 추가\n",
        "    positives.append(x > 0)\n",
        "\n",
        "print(positives)"
      ],
      "execution_count": 6,
      "outputs": [
        {
          "output_type": "stream",
          "text": [
            "[False, True, False, True, True, True, False, False, False, True]\n"
          ],
          "name": "stdout"
        }
      ]
    },
    {
      "cell_type": "markdown",
      "metadata": {
        "id": "xiIhcdXF267d"
      },
      "source": [
        "\n",
        "*   empty list를 생성\n",
        "*   리스트에 0 또는 1을 랜덤하게 10번 추가, 출력\n",
        "*   리스트의 원소가 0이면 'Male', 1이면 'Female'을 저장하는 리스트를 생성, 출력.\n"
      ]
    },
    {
      "cell_type": "code",
      "metadata": {
        "colab": {
          "base_uri": "https://localhost:8080/"
        },
        "id": "KWwwuE9D3qQ1",
        "outputId": "7f579f12-593b-4863-b132-552c1ab0cf74"
      },
      "source": [
        "gender_codes = []  # 0 또는 1들을 저장할 리스트\n",
        "for _ in range(10):\n",
        "    gender_codes.append(random.randrange(0, 2))\n",
        "\n",
        "print(gender_codes)"
      ],
      "execution_count": 7,
      "outputs": [
        {
          "output_type": "stream",
          "text": [
            "[0, 1, 0, 0, 0, 1, 1, 1, 0, 1]\n"
          ],
          "name": "stdout"
        }
      ]
    },
    {
      "cell_type": "code",
      "metadata": {
        "colab": {
          "base_uri": "https://localhost:8080/"
        },
        "id": "ZTxy1CpHGMxp",
        "outputId": "fd419367-b065-47eb-d55f-f874b4a50ee7"
      },
      "source": [
        "genders = []  # 'Male' 또는 'Female'들을 저장할 리스트\n",
        "for x in gender_codes:  # 리스트 gender_codes의 원소들을 반복하면서\n",
        "    if x == 0:\n",
        "        genders.append('Male')\n",
        "    else:\n",
        "        genders.append('Female')\n",
        "\n",
        "print(genders)"
      ],
      "execution_count": 8,
      "outputs": [
        {
          "output_type": "stream",
          "text": [
            "['Male', 'Female', 'Male', 'Male', 'Male', 'Female', 'Female', 'Female', 'Male', 'Female']\n"
          ],
          "name": "stdout"
        }
      ]
    },
    {
      "cell_type": "markdown",
      "metadata": {
        "id": "7ti2AwiSHkao"
      },
      "source": [
        "# List Comprehension(리스트 내포)"
      ]
    },
    {
      "cell_type": "code",
      "metadata": {
        "colab": {
          "base_uri": "https://localhost:8080/"
        },
        "id": "vtmlFYGxHx-3",
        "outputId": "9a3c3d17-de71-49af-f78e-e34e56b76a12"
      },
      "source": [
        "# 1 ~ 10까지 정수들을 차례로 저장하는 리스트\n",
        "numbers = []\n",
        "for x in range(1, 11):\n",
        "    numbers.append(x)\n",
        "\n",
        "print(numbers)"
      ],
      "execution_count": 9,
      "outputs": [
        {
          "output_type": "stream",
          "text": [
            "[1, 2, 3, 4, 5, 6, 7, 8, 9, 10]\n"
          ],
          "name": "stdout"
        }
      ]
    },
    {
      "cell_type": "code",
      "metadata": {
        "colab": {
          "base_uri": "https://localhost:8080/"
        },
        "id": "iit8wuZ9I52s",
        "outputId": "8e349053-25f1-42d7-aee5-b94f397701c2"
      },
      "source": [
        "# list comprehension\n",
        "numbers = [x for x in range(1, 11)]\n",
        "print(numbers)"
      ],
      "execution_count": 10,
      "outputs": [
        {
          "output_type": "stream",
          "text": [
            "[1, 2, 3, 4, 5, 6, 7, 8, 9, 10]\n"
          ],
          "name": "stdout"
        }
      ]
    },
    {
      "cell_type": "code",
      "metadata": {
        "colab": {
          "base_uri": "https://localhost:8080/"
        },
        "id": "cN4GzXB_JKQw",
        "outputId": "ee278b23-6b25-4cd2-e3cf-8da8076a83c7"
      },
      "source": [
        "# [1, 4, 9, 16, 25, 36, 49, 64, 81, 100]\n",
        "squares = []\n",
        "for x in range(1, 11):\n",
        "    squares.append(x ** 2)\n",
        "\n",
        "print(squares)"
      ],
      "execution_count": 11,
      "outputs": [
        {
          "output_type": "stream",
          "text": [
            "[1, 4, 9, 16, 25, 36, 49, 64, 81, 100]\n"
          ],
          "name": "stdout"
        }
      ]
    },
    {
      "cell_type": "code",
      "metadata": {
        "colab": {
          "base_uri": "https://localhost:8080/"
        },
        "id": "wWLDAe97Kerb",
        "outputId": "51276cbf-8d34-4cc7-8a0d-fc853306050b"
      },
      "source": [
        "squares = [x ** 2 for x in range(1, 11)]\n",
        "print(squares)"
      ],
      "execution_count": 15,
      "outputs": [
        {
          "output_type": "stream",
          "text": [
            "[1, 4, 9, 16, 25, 36, 49, 64, 81, 100]\n"
          ],
          "name": "stdout"
        }
      ]
    },
    {
      "cell_type": "code",
      "metadata": {
        "colab": {
          "base_uri": "https://localhost:8080/"
        },
        "id": "nWFRmbJ6KqAJ",
        "outputId": "4f04c35f-5e29-4f89-ad90-49228af17f2e"
      },
      "source": [
        "# 0 이상 10 이하의 짝수들을 갖는 리스트\n",
        "evens = []\n",
        "for x in range(0, 11, 2):\n",
        "    evens.append(x)\n",
        "\n",
        "print(evens)"
      ],
      "execution_count": 16,
      "outputs": [
        {
          "output_type": "stream",
          "text": [
            "[0, 2, 4, 6, 8, 10]\n"
          ],
          "name": "stdout"
        }
      ]
    },
    {
      "cell_type": "code",
      "metadata": {
        "colab": {
          "base_uri": "https://localhost:8080/"
        },
        "id": "ruc2RODbLegJ",
        "outputId": "d39ac229-b4f2-4646-caf3-a7ca28373ab2"
      },
      "source": [
        "evens = [x for x in range(0, 11, 2)]\n",
        "print(evens)"
      ],
      "execution_count": 17,
      "outputs": [
        {
          "output_type": "stream",
          "text": [
            "[0, 2, 4, 6, 8, 10]\n"
          ],
          "name": "stdout"
        }
      ]
    },
    {
      "cell_type": "code",
      "metadata": {
        "id": "B2Z-yB9ULhtJ"
      },
      "source": [
        ""
      ],
      "execution_count": null,
      "outputs": []
    }
  ]
}
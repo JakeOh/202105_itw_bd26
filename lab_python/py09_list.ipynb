{
  "nbformat": 4,
  "nbformat_minor": 0,
  "metadata": {
    "colab": {
      "name": "py09_list.ipynb",
      "provenance": [],
      "collapsed_sections": [],
      "authorship_tag": "ABX9TyM7DFXBEBhmMLyQCNohTSOP",
      "include_colab_link": true
    },
    "kernelspec": {
      "name": "python3",
      "display_name": "Python 3"
    },
    "language_info": {
      "name": "python"
    }
  },
  "cells": [
    {
      "cell_type": "markdown",
      "metadata": {
        "id": "view-in-github",
        "colab_type": "text"
      },
      "source": [
        "<a href=\"https://colab.research.google.com/github/JakeOh/202105_itw_bd26/blob/main/lab_python/py09_list.ipynb\" target=\"_parent\"><img src=\"https://colab.research.google.com/assets/colab-badge.svg\" alt=\"Open In Colab\"/></a>"
      ]
    },
    {
      "cell_type": "markdown",
      "metadata": {
        "id": "SOZiaGxD1EWx"
      },
      "source": [
        "# 리스트와 for 반복문"
      ]
    },
    {
      "cell_type": "code",
      "metadata": {
        "id": "KiPcvFLY00jr"
      },
      "source": [
        "import random  # 난수 생성 함수를 가지고 있는 모듈 사용"
      ],
      "execution_count": 1,
      "outputs": []
    },
    {
      "cell_type": "markdown",
      "metadata": {
        "id": "EvY6CEuk1aa2"
      },
      "source": [
        "\n",
        "*   empty list 생성 - numbers\n",
        "*   10 ~ 100 범위의 정수 난수 10개를 리스트에 추가하고 출력\n",
        "*   리스트의 원소들 중 짝수들로만 이루어진 새로운 리스트를 생성하고 출력 - evens\n",
        "*   리스트의 원소들 중 홀수들로만 이루어진 새로운 리스트를 생성하고 출력 - odds\n"
      ]
    },
    {
      "cell_type": "code",
      "metadata": {
        "colab": {
          "base_uri": "https://localhost:8080/"
        },
        "id": "urDGwsdz2DCd",
        "outputId": "178a10ce-5ef4-40c5-8ac4-0894bd7b0cdb"
      },
      "source": [
        "numbers = []  # empty list\n",
        "for _ in range(10):  # 10번 반복\n",
        "    numbers.append(random.randrange(10, 101))\n",
        "\n",
        "print(numbers)"
      ],
      "execution_count": 2,
      "outputs": [
        {
          "output_type": "stream",
          "text": [
            "[93, 39, 79, 17, 82, 18, 75, 99, 40, 26]\n"
          ],
          "name": "stdout"
        }
      ]
    },
    {
      "cell_type": "markdown",
      "metadata": {
        "id": "LQ7Z7qMg9H71"
      },
      "source": [
        "\n",
        "*   `random.randrange(start, stop)`: start <= r < stop 범위의 정수 난수를 생성\n",
        "*   `random.randint(start, stop)`: start <= r <= stop 범위의 정수 난수를 생성\n"
      ]
    },
    {
      "cell_type": "code",
      "metadata": {
        "colab": {
          "base_uri": "https://localhost:8080/"
        },
        "id": "Reekb1m49Bfy",
        "outputId": "fb95f145-66ac-4c6c-da8d-eeef2ddf8219"
      },
      "source": [
        "evens = []  # 짝수들을 저장할 빈 리스트\n",
        "odds = []  # 홀수들을 저장할 빈 리스트\n",
        "# evens, odds = [], []\n",
        "\n",
        "for x in numbers:  # 리스트 numbers의 원소들을 반복하면서\n",
        "    if x % 2 == 0: # 리스트의 원소가 짝수이면\n",
        "        evens.append(x)\n",
        "    else:  # 그렇지 않으면(홀수이면)\n",
        "        odds.append(x)\n",
        "\n",
        "print(evens)\n",
        "print(odds)"
      ],
      "execution_count": 3,
      "outputs": [
        {
          "output_type": "stream",
          "text": [
            "[82, 18, 40, 26]\n",
            "[93, 39, 79, 17, 75, 99]\n"
          ],
          "name": "stdout"
        }
      ]
    },
    {
      "cell_type": "markdown",
      "metadata": {
        "id": "WYS1Y9eO2Tc8"
      },
      "source": [
        "\n",
        "*   empty list를 생성 - numbers\n",
        "*   -10 ~ 10 범위의 정수 난수 10개를 리스트에 추가, 출력\n",
        "*   리스트의 원소가 양수이면 True, 그렇지 않으면 False를 저장하는 리스트를 생성, 출력 - positives\n"
      ]
    },
    {
      "cell_type": "code",
      "metadata": {
        "colab": {
          "base_uri": "https://localhost:8080/"
        },
        "id": "uuQKPy-726Ru",
        "outputId": "012041ec-42f4-40b5-c1aa-706f1f226c94"
      },
      "source": [
        "numbers = []  # 정수들을 저장할 빈 리스트\n",
        "for _ in range(10):\n",
        "    numbers.append(random.randrange(-10, 11))\n",
        "\n",
        "print(numbers)"
      ],
      "execution_count": 4,
      "outputs": [
        {
          "output_type": "stream",
          "text": [
            "[-2, 8, -10, 8, 10, 4, -10, 0, -5, 8]\n"
          ],
          "name": "stdout"
        }
      ]
    },
    {
      "cell_type": "code",
      "metadata": {
        "colab": {
          "base_uri": "https://localhost:8080/"
        },
        "id": "SjE9wrVHDhUp",
        "outputId": "6e17704e-592b-4cc2-f62c-daf5396c8142"
      },
      "source": [
        "positives = []  # 양수(True), 0 또는 음수(False)를 저장할 리스트\n",
        "for x in numbers:  # 리스트 numbers의 원소들을 반복하면서\n",
        "    # if x > 0:  # 원소가 양수이면\n",
        "    #     positives.append(True)  # True를 추가\n",
        "    # else:  # 그렇지 않으면(원소가 음수이면)\n",
        "    #     positives.append(False)  # False를 추가\n",
        "    positives.append(x > 0)\n",
        "\n",
        "print(positives)"
      ],
      "execution_count": 6,
      "outputs": [
        {
          "output_type": "stream",
          "text": [
            "[False, True, False, True, True, True, False, False, False, True]\n"
          ],
          "name": "stdout"
        }
      ]
    },
    {
      "cell_type": "markdown",
      "metadata": {
        "id": "xiIhcdXF267d"
      },
      "source": [
        "\n",
        "*   empty list를 생성\n",
        "*   리스트에 0 또는 1을 랜덤하게 10번 추가, 출력\n",
        "*   리스트의 원소가 0이면 'Male', 1이면 'Female'을 저장하는 리스트를 생성, 출력.\n"
      ]
    },
    {
      "cell_type": "code",
      "metadata": {
        "colab": {
          "base_uri": "https://localhost:8080/"
        },
        "id": "KWwwuE9D3qQ1",
        "outputId": "7f579f12-593b-4863-b132-552c1ab0cf74"
      },
      "source": [
        "gender_codes = []  # 0 또는 1들을 저장할 리스트\n",
        "for _ in range(10):\n",
        "    gender_codes.append(random.randrange(0, 2))\n",
        "\n",
        "print(gender_codes)"
      ],
      "execution_count": 7,
      "outputs": [
        {
          "output_type": "stream",
          "text": [
            "[0, 1, 0, 0, 0, 1, 1, 1, 0, 1]\n"
          ],
          "name": "stdout"
        }
      ]
    },
    {
      "cell_type": "code",
      "metadata": {
        "colab": {
          "base_uri": "https://localhost:8080/"
        },
        "id": "ZTxy1CpHGMxp",
        "outputId": "fd419367-b065-47eb-d55f-f874b4a50ee7"
      },
      "source": [
        "genders = []  # 'Male' 또는 'Female'들을 저장할 리스트\n",
        "for x in gender_codes:  # 리스트 gender_codes의 원소들을 반복하면서\n",
        "    if x == 0:\n",
        "        genders.append('Male')\n",
        "    else:\n",
        "        genders.append('Female')\n",
        "\n",
        "print(genders)"
      ],
      "execution_count": 8,
      "outputs": [
        {
          "output_type": "stream",
          "text": [
            "['Male', 'Female', 'Male', 'Male', 'Male', 'Female', 'Female', 'Female', 'Male', 'Female']\n"
          ],
          "name": "stdout"
        }
      ]
    },
    {
      "cell_type": "markdown",
      "metadata": {
        "id": "7ti2AwiSHkao"
      },
      "source": [
        "# List Comprehension(리스트 내포)"
      ]
    },
    {
      "cell_type": "code",
      "metadata": {
        "colab": {
          "base_uri": "https://localhost:8080/"
        },
        "id": "vtmlFYGxHx-3",
        "outputId": "9a3c3d17-de71-49af-f78e-e34e56b76a12"
      },
      "source": [
        "# 1 ~ 10까지 정수들을 차례로 저장하는 리스트\n",
        "numbers = []\n",
        "for x in range(1, 11):\n",
        "    numbers.append(x)\n",
        "\n",
        "print(numbers)"
      ],
      "execution_count": 9,
      "outputs": [
        {
          "output_type": "stream",
          "text": [
            "[1, 2, 3, 4, 5, 6, 7, 8, 9, 10]\n"
          ],
          "name": "stdout"
        }
      ]
    },
    {
      "cell_type": "code",
      "metadata": {
        "colab": {
          "base_uri": "https://localhost:8080/"
        },
        "id": "iit8wuZ9I52s",
        "outputId": "8e349053-25f1-42d7-aee5-b94f397701c2"
      },
      "source": [
        "# list comprehension\n",
        "numbers = [x for x in range(1, 11)]\n",
        "print(numbers)"
      ],
      "execution_count": 10,
      "outputs": [
        {
          "output_type": "stream",
          "text": [
            "[1, 2, 3, 4, 5, 6, 7, 8, 9, 10]\n"
          ],
          "name": "stdout"
        }
      ]
    },
    {
      "cell_type": "code",
      "metadata": {
        "colab": {
          "base_uri": "https://localhost:8080/"
        },
        "id": "cN4GzXB_JKQw",
        "outputId": "ee278b23-6b25-4cd2-e3cf-8da8076a83c7"
      },
      "source": [
        "# [1, 4, 9, 16, 25, 36, 49, 64, 81, 100]\n",
        "squares = []\n",
        "for x in range(1, 11):\n",
        "    squares.append(x ** 2)\n",
        "\n",
        "print(squares)"
      ],
      "execution_count": 11,
      "outputs": [
        {
          "output_type": "stream",
          "text": [
            "[1, 4, 9, 16, 25, 36, 49, 64, 81, 100]\n"
          ],
          "name": "stdout"
        }
      ]
    },
    {
      "cell_type": "code",
      "metadata": {
        "colab": {
          "base_uri": "https://localhost:8080/"
        },
        "id": "wWLDAe97Kerb",
        "outputId": "51276cbf-8d34-4cc7-8a0d-fc853306050b"
      },
      "source": [
        "squares = [x ** 2 for x in range(1, 11)]\n",
        "print(squares)"
      ],
      "execution_count": 15,
      "outputs": [
        {
          "output_type": "stream",
          "text": [
            "[1, 4, 9, 16, 25, 36, 49, 64, 81, 100]\n"
          ],
          "name": "stdout"
        }
      ]
    },
    {
      "cell_type": "code",
      "metadata": {
        "colab": {
          "base_uri": "https://localhost:8080/"
        },
        "id": "nWFRmbJ6KqAJ",
        "outputId": "4f04c35f-5e29-4f89-ad90-49228af17f2e"
      },
      "source": [
        "# 0 이상 10 이하의 짝수들을 갖는 리스트\n",
        "evens = []\n",
        "for x in range(0, 11, 2):\n",
        "    evens.append(x)\n",
        "\n",
        "print(evens)"
      ],
      "execution_count": 16,
      "outputs": [
        {
          "output_type": "stream",
          "text": [
            "[0, 2, 4, 6, 8, 10]\n"
          ],
          "name": "stdout"
        }
      ]
    },
    {
      "cell_type": "code",
      "metadata": {
        "colab": {
          "base_uri": "https://localhost:8080/"
        },
        "id": "ruc2RODbLegJ",
        "outputId": "d39ac229-b4f2-4646-caf3-a7ca28373ab2"
      },
      "source": [
        "evens = [x for x in range(0, 11, 2)]\n",
        "print(evens)"
      ],
      "execution_count": 17,
      "outputs": [
        {
          "output_type": "stream",
          "text": [
            "[0, 2, 4, 6, 8, 10]\n"
          ],
          "name": "stdout"
        }
      ]
    },
    {
      "cell_type": "code",
      "metadata": {
        "id": "B2Z-yB9ULhtJ"
      },
      "source": [
        "# 문자열들을 저장하는 리스트\n",
        "fruits = ['apple', 'banana', 'cherry', 'dragon fruit', 'pineapple']"
      ],
      "execution_count": 18,
      "outputs": []
    },
    {
      "cell_type": "code",
      "metadata": {
        "colab": {
          "base_uri": "https://localhost:8080/"
        },
        "id": "cKqKx3ioeVOm",
        "outputId": "94ef3b1b-953e-4f65-8682-b48ee854e3a7"
      },
      "source": [
        "# fruits가 가지고 있는 문자열들의 길이를 저장하는 리스트\n",
        "fruit_lengths = []\n",
        "for x in fruits:\n",
        "    fruit_lengths.append(len(x))\n",
        "\n",
        "print(fruit_lengths)"
      ],
      "execution_count": 23,
      "outputs": [
        {
          "output_type": "stream",
          "text": [
            "[5, 6, 6, 12, 9]\n"
          ],
          "name": "stdout"
        }
      ]
    },
    {
      "cell_type": "code",
      "metadata": {
        "colab": {
          "base_uri": "https://localhost:8080/"
        },
        "id": "0CPYX5tfgNC2",
        "outputId": "a37dc687-96be-4c32-c9ad-456a86828646"
      },
      "source": [
        "fruit_lengths = [len(x) for x in fruits]\n",
        "print(fruit_lengths)"
      ],
      "execution_count": 24,
      "outputs": [
        {
          "output_type": "stream",
          "text": [
            "[5, 6, 6, 12, 9]\n"
          ],
          "name": "stdout"
        }
      ]
    },
    {
      "cell_type": "code",
      "metadata": {
        "colab": {
          "base_uri": "https://localhost:8080/"
        },
        "id": "hBvhPUeEgxB8",
        "outputId": "fa559ebb-7ffa-4095-f6bf-4b483dd2babe"
      },
      "source": [
        "# 10 ~ 100 범위의 정수 난수 10개를 저장하는 리스트\n",
        "numbers = [random.randrange(10, 101) for _ in range(10)]\n",
        "print(numbers)"
      ],
      "execution_count": 28,
      "outputs": [
        {
          "output_type": "stream",
          "text": [
            "[57, 71, 35, 35, 15, 47, 60, 31, 34, 48]\n"
          ],
          "name": "stdout"
        }
      ]
    },
    {
      "cell_type": "code",
      "metadata": {
        "colab": {
          "base_uri": "https://localhost:8080/"
        },
        "id": "CqPZ4ef6he7N",
        "outputId": "8d789ef7-cdaa-4cd5-c38e-16bf3f0b840c"
      },
      "source": [
        "# numbers의 원소들 중에서 짝수로만 이루어진 리스트: evens\n",
        "evens = [x for x in numbers if x % 2 == 0]\n",
        "print(evens)"
      ],
      "execution_count": 30,
      "outputs": [
        {
          "output_type": "stream",
          "text": [
            "[60, 34, 48]\n"
          ],
          "name": "stdout"
        }
      ]
    },
    {
      "cell_type": "code",
      "metadata": {
        "colab": {
          "base_uri": "https://localhost:8080/"
        },
        "id": "JU1ap_VPhmeO",
        "outputId": "2037011a-b968-48ae-cf90-48d2e9b1f6ed"
      },
      "source": [
        "# numbers의 원소들 중에서 홀수로만 이루어진 리스트: odds\n",
        "odds = [x for x in numbers if x % 2 == 1]\n",
        "print(odds)"
      ],
      "execution_count": 31,
      "outputs": [
        {
          "output_type": "stream",
          "text": [
            "[57, 71, 35, 35, 15, 47, 31]\n"
          ],
          "name": "stdout"
        }
      ]
    },
    {
      "cell_type": "code",
      "metadata": {
        "colab": {
          "base_uri": "https://localhost:8080/"
        },
        "id": "ejXE_btAi4a_",
        "outputId": "25873271-1e06-4921-9035-a4c460e12ad3"
      },
      "source": [
        "# -10 ~ 10 범위의 정수 난수 10개를 저장하는 리스트\n",
        "numbers = [random.randrange(-10, 11) for _ in range(10)]\n",
        "print(numbers)"
      ],
      "execution_count": 33,
      "outputs": [
        {
          "output_type": "stream",
          "text": [
            "[4, -6, 10, -9, 0, -5, 9, -10, 3, 6]\n"
          ],
          "name": "stdout"
        }
      ]
    },
    {
      "cell_type": "code",
      "metadata": {
        "colab": {
          "base_uri": "https://localhost:8080/"
        },
        "id": "FOMWSDGijaPn",
        "outputId": "14d43867-f4af-452b-b93b-df9f4710d5b0"
      },
      "source": [
        "# numbers의 원소가 양수이면 True, 그렇지 않으면 False를 저장하는 리스트\n",
        "positives = [x > 0 for x in numbers]\n",
        "print(positives)"
      ],
      "execution_count": 34,
      "outputs": [
        {
          "output_type": "stream",
          "text": [
            "[True, False, True, False, False, False, True, False, True, True]\n"
          ],
          "name": "stdout"
        }
      ]
    },
    {
      "cell_type": "code",
      "metadata": {
        "colab": {
          "base_uri": "https://localhost:8080/"
        },
        "id": "eij5Ig5Pk4AG",
        "outputId": "fb97342f-8d0b-473d-c85d-f4da5c3da893"
      },
      "source": [
        "# if-else 표현식(expression): 값1 if 조건식 else 값2\n",
        "x = -100\n",
        "# is_positive = (x > 0)\n",
        "is_positive = True if x > 0 else False\n",
        "print(is_positive)"
      ],
      "execution_count": 36,
      "outputs": [
        {
          "output_type": "stream",
          "text": [
            "False\n"
          ],
          "name": "stdout"
        }
      ]
    },
    {
      "cell_type": "code",
      "metadata": {
        "colab": {
          "base_uri": "https://localhost:8080/"
        },
        "id": "u80nEJkDmAyh",
        "outputId": "c899a9a0-853d-48fd-f8cd-ecf7687d8c4d"
      },
      "source": [
        "positives = [True if x > 0 else False for x in numbers]\n",
        "print(positives)"
      ],
      "execution_count": 37,
      "outputs": [
        {
          "output_type": "stream",
          "text": [
            "[True, False, True, False, False, False, True, False, True, True]\n"
          ],
          "name": "stdout"
        }
      ]
    },
    {
      "cell_type": "code",
      "metadata": {
        "colab": {
          "base_uri": "https://localhost:8080/"
        },
        "id": "_zlzitrRmd6p",
        "outputId": "6b668d42-5f26-491e-c5f0-56f1c647c67e"
      },
      "source": [
        "# 0 또는 1 10개를 저장하는 리스트\n",
        "gender_codes = [random.randrange(0, 2) for _ in range(10)]\n",
        "print(gender_codes)"
      ],
      "execution_count": 38,
      "outputs": [
        {
          "output_type": "stream",
          "text": [
            "[1, 1, 0, 1, 0, 0, 1, 0, 0, 1]\n"
          ],
          "name": "stdout"
        }
      ]
    },
    {
      "cell_type": "code",
      "metadata": {
        "colab": {
          "base_uri": "https://localhost:8080/"
        },
        "id": "eLOUvXtpndqv",
        "outputId": "62ec2a12-a4c6-461d-c5ff-c0c15226b45a"
      },
      "source": [
        "# 리스트 gender_codes의 값이 0이면 'Male', 1이면 'Female'을 저장하는 리스트\n",
        "genders = ['Male' if x == 0 else 'Female' for x in gender_codes]\n",
        "print(genders)"
      ],
      "execution_count": 39,
      "outputs": [
        {
          "output_type": "stream",
          "text": [
            "['Female', 'Female', 'Male', 'Female', 'Male', 'Male', 'Female', 'Male', 'Male', 'Female']\n"
          ],
          "name": "stdout"
        }
      ]
    },
    {
      "cell_type": "code",
      "metadata": {
        "colab": {
          "base_uri": "https://localhost:8080/"
        },
        "id": "sG_2dV9hoV4v",
        "outputId": "0b3f434f-4b18-481c-ff77-cc0a11f673d7"
      },
      "source": [
        "# numbers: 10개의 정수 난수를 저장하는 리스트\n",
        "numbers = [random.randrange(100) for _ in range(10)]\n",
        "print(numbers)\n",
        "\n",
        "# evens: numbers의 원소가 짝수이면 'even', 홀수이면 'odd'를 저장하는 리스트\n",
        "evens = ['even' if x % 2 == 0 else 'odd'\n",
        "         for x in numbers]\n",
        "print(evens)"
      ],
      "execution_count": 41,
      "outputs": [
        {
          "output_type": "stream",
          "text": [
            "[0, 70, 96, 44, 0, 54, 19, 7, 88, 8]\n",
            "['even', 'even', 'even', 'even', 'even', 'even', 'odd', 'odd', 'even', 'even']\n"
          ],
          "name": "stdout"
        }
      ]
    },
    {
      "cell_type": "code",
      "metadata": {
        "colab": {
          "base_uri": "https://localhost:8080/"
        },
        "id": "_BZQJ-zpsL4p",
        "outputId": "05078f9d-0809-449e-b591-51e635493448"
      },
      "source": [
        "# gender_codes: 0, 1, 2를 랜덤하게 10개 저장하는 리스트\n",
        "gender_codes = [random.randrange(3) for _ in range(10)]\n",
        "print(gender_codes)\n",
        "\n",
        "# genders: gender_codes의 원소가 0이면 'male', 1이면 'female', 2이면 'unknown'을 저장하는 리스트\n",
        "genders = ['male' if x == 0 else ('female' if x == 1 else 'unknown')\n",
        "           for x in gender_codes]\n",
        "print(genders)"
      ],
      "execution_count": 45,
      "outputs": [
        {
          "output_type": "stream",
          "text": [
            "[1, 1, 2, 0, 2, 1, 0, 0, 1, 1]\n",
            "['female', 'female', 'unknown', 'male', 'unknown', 'female', 'male', 'male', 'female', 'female']\n"
          ],
          "name": "stdout"
        }
      ]
    },
    {
      "cell_type": "code",
      "metadata": {
        "colab": {
          "base_uri": "https://localhost:8080/"
        },
        "id": "Ls8s8i-qxqRb",
        "outputId": "555c0c45-e989-4378-ced7-9da548e62e21"
      },
      "source": [
        "# numbers1: 10 미만의 정수 난수 10개를 저장하는 리스트\n",
        "numbers1 = [random.randrange(10) for _ in range(10)]\n",
        "print(numbers1)\n",
        "\n",
        "# numbers2: 10 미만의 정수 난수 10개를 저장하는 리스트\n",
        "numbers2 = [random.randrange(10) for _ in range(10)]\n",
        "print(numbers2)\n",
        "\n",
        "# adds: numbers1과 numbers2의 같은 인덱스의 원소들끼리 더한 값을 저장한 리스트\n",
        "# adds = []\n",
        "# for i in range(10):\n",
        "#     adds.append(numbers1[i] + numbers2[i])\n",
        "adds = [numbers1[i] + numbers2[i] for i in range(10)]\n",
        "\n",
        "print(adds)"
      ],
      "execution_count": 49,
      "outputs": [
        {
          "output_type": "stream",
          "text": [
            "[3, 9, 8, 0, 4, 0, 9, 6, 7, 8]\n",
            "[2, 7, 5, 5, 0, 2, 2, 7, 6, 0]\n",
            "[5, 16, 13, 5, 4, 2, 11, 13, 13, 8]\n"
          ],
          "name": "stdout"
        }
      ]
    },
    {
      "cell_type": "code",
      "metadata": {
        "colab": {
          "base_uri": "https://localhost:8080/"
        },
        "id": "K0oOfuBz6jJb",
        "outputId": "4171fcb1-3cd5-4752-ba17-0881822cf401"
      },
      "source": [
        "# adds = []\n",
        "# for x, y in zip(numbers1, numbers2):\n",
        "#     adds.append(x + y)\n",
        "adds = [x + y for x, y in zip(numbers1, numbers2)]\n",
        "\n",
        "print(adds)"
      ],
      "execution_count": 53,
      "outputs": [
        {
          "output_type": "stream",
          "text": [
            "[5, 16, 13, 5, 4, 2, 11, 13, 13, 8]\n"
          ],
          "name": "stdout"
        }
      ]
    },
    {
      "cell_type": "code",
      "metadata": {
        "colab": {
          "base_uri": "https://localhost:8080/"
        },
        "id": "ZsHscV-p8LwD",
        "outputId": "cf27c72c-ed4c-4844-fcaf-7e64102b0ed0"
      },
      "source": [
        "for x, y, z in zip([1, 2], [3, 4], [5, 6]):\n",
        "    print(x, y, z)"
      ],
      "execution_count": 58,
      "outputs": [
        {
          "output_type": "stream",
          "text": [
            "1 3 5\n",
            "2 4 6\n"
          ],
          "name": "stdout"
        }
      ]
    },
    {
      "cell_type": "markdown",
      "metadata": {
        "id": "xJktGrbm9bQr"
      },
      "source": [
        "# 다차원 리스트"
      ]
    },
    {
      "cell_type": "code",
      "metadata": {
        "colab": {
          "base_uri": "https://localhost:8080/"
        },
        "id": "IxMqF2De9dor",
        "outputId": "a12da41b-f879-4143-adb4-ea236df882a8"
      },
      "source": [
        "# 2차원 리스트: 1차원 리스트를 원소로 갖는 리스트\n",
        "matrix = [ [1, 2, 3], \n",
        "           [4, 5, 6], \n",
        "           [7, 8, 9] ]\n",
        "print(matrix)"
      ],
      "execution_count": 59,
      "outputs": [
        {
          "output_type": "stream",
          "text": [
            "[[1, 2, 3], [4, 5, 6], [7, 8, 9]]\n"
          ],
          "name": "stdout"
        }
      ]
    },
    {
      "cell_type": "markdown",
      "metadata": {
        "id": "gPHoTKrW_Jtq"
      },
      "source": [
        "## 2차원 리스트의 indexing"
      ]
    },
    {
      "cell_type": "code",
      "metadata": {
        "colab": {
          "base_uri": "https://localhost:8080/"
        },
        "id": "PO0UP9jo9_DU",
        "outputId": "a24a92c4-f30c-4b98-d737-a9b24ed35364"
      },
      "source": [
        "print(matrix[0])  #> 1차원 리스트"
      ],
      "execution_count": 60,
      "outputs": [
        {
          "output_type": "stream",
          "text": [
            "[1, 2, 3]\n"
          ],
          "name": "stdout"
        }
      ]
    },
    {
      "cell_type": "code",
      "metadata": {
        "colab": {
          "base_uri": "https://localhost:8080/"
        },
        "id": "SJrl9rf2-or9",
        "outputId": "d2aa5541-cb7a-40dd-e41c-659ff3955339"
      },
      "source": [
        "print(matrix[0][0])"
      ],
      "execution_count": 61,
      "outputs": [
        {
          "output_type": "stream",
          "text": [
            "1\n"
          ],
          "name": "stdout"
        }
      ]
    },
    {
      "cell_type": "code",
      "metadata": {
        "colab": {
          "base_uri": "https://localhost:8080/"
        },
        "id": "tlvMylKB-9o8",
        "outputId": "4174a7e6-6094-4bff-e9d8-86bd47b21558"
      },
      "source": [
        "print(matrix[1][2])  #> 6"
      ],
      "execution_count": 62,
      "outputs": [
        {
          "output_type": "stream",
          "text": [
            "6\n"
          ],
          "name": "stdout"
        }
      ]
    },
    {
      "cell_type": "markdown",
      "metadata": {
        "id": "DGjOKs5l_O4c"
      },
      "source": [
        "## 2차원 리스트와 for 반복문"
      ]
    },
    {
      "cell_type": "code",
      "metadata": {
        "colab": {
          "base_uri": "https://localhost:8080/"
        },
        "id": "gO209NSu_Ek0",
        "outputId": "5007aeb2-9c0b-4694-b1b2-3ebad3b75060"
      },
      "source": [
        "for row in matrix:\n",
        "    print(row)"
      ],
      "execution_count": 65,
      "outputs": [
        {
          "output_type": "stream",
          "text": [
            "[1, 2, 3]\n",
            "[4, 5, 6]\n",
            "[7, 8, 9]\n"
          ],
          "name": "stdout"
        }
      ]
    },
    {
      "cell_type": "code",
      "metadata": {
        "colab": {
          "base_uri": "https://localhost:8080/"
        },
        "id": "0tXDN9z6_xSt",
        "outputId": "50dddbc5-07d3-4204-b8f5-5176ee0f60fd"
      },
      "source": [
        "for row in matrix:\n",
        "    for x in row:\n",
        "        print(x)"
      ],
      "execution_count": 64,
      "outputs": [
        {
          "output_type": "stream",
          "text": [
            "1\n",
            "2\n",
            "3\n",
            "4\n",
            "5\n",
            "6\n",
            "7\n",
            "8\n",
            "9\n"
          ],
          "name": "stdout"
        }
      ]
    },
    {
      "cell_type": "code",
      "metadata": {
        "colab": {
          "base_uri": "https://localhost:8080/"
        },
        "id": "altBMdydAuX1",
        "outputId": "c375c2b5-1682-4a6e-fb3e-0762a384e63d"
      },
      "source": [
        "for row in matrix:\n",
        "    for x in row:\n",
        "        print(x, end='\\t')  # 한 줄에 출력\n",
        "    print()  # 줄바꿈"
      ],
      "execution_count": 66,
      "outputs": [
        {
          "output_type": "stream",
          "text": [
            "1\t2\t3\t\n",
            "4\t5\t6\t\n",
            "7\t8\t9\t\n"
          ],
          "name": "stdout"
        }
      ]
    },
    {
      "cell_type": "code",
      "metadata": {
        "colab": {
          "base_uri": "https://localhost:8080/"
        },
        "id": "08oaY11DBa72",
        "outputId": "1f6ea625-9498-4068-ff7e-c1c85261bf80"
      },
      "source": [
        "for i, row in enumerate(matrix):\n",
        "    for j, value in enumerate(row):\n",
        "        print(i, j, value, sep=' : ')"
      ],
      "execution_count": 71,
      "outputs": [
        {
          "output_type": "stream",
          "text": [
            "0 : 0 : 1\n",
            "0 : 1 : 2\n",
            "0 : 2 : 3\n",
            "1 : 0 : 4\n",
            "1 : 1 : 5\n",
            "1 : 2 : 6\n",
            "2 : 0 : 7\n",
            "2 : 1 : 8\n",
            "2 : 2 : 9\n"
          ],
          "name": "stdout"
        }
      ]
    },
    {
      "cell_type": "markdown",
      "metadata": {
        "id": "a67vu9DOEfQb"
      },
      "source": [
        "\n",
        "*   matrix1, matrix2: 3x3 모양의 정수 난수를 저장한 2차원 리스트\n",
        "*   result: matrix1과 matrix2 리스트의 같은 위치에 있는 원소들끼리 더한 값을 저장한 리스트.\n"
      ]
    },
    {
      "cell_type": "code",
      "metadata": {
        "id": "97RxkIpbCx78"
      },
      "source": [
        ""
      ],
      "execution_count": null,
      "outputs": []
    }
  ]
}
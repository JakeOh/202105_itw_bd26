{
  "nbformat": 4,
  "nbformat_minor": 0,
  "metadata": {
    "colab": {
      "name": "py09_list.ipynb",
      "provenance": [],
      "collapsed_sections": [],
      "authorship_tag": "ABX9TyNitXHBIEsMEDGpfvwBYO8f",
      "include_colab_link": true
    },
    "kernelspec": {
      "name": "python3",
      "display_name": "Python 3"
    },
    "language_info": {
      "name": "python"
    }
  },
  "cells": [
    {
      "cell_type": "markdown",
      "metadata": {
        "id": "view-in-github",
        "colab_type": "text"
      },
      "source": [
        "<a href=\"https://colab.research.google.com/github/JakeOh/202105_itw_bd26/blob/main/lab_python/py09_list.ipynb\" target=\"_parent\"><img src=\"https://colab.research.google.com/assets/colab-badge.svg\" alt=\"Open In Colab\"/></a>"
      ]
    },
    {
      "cell_type": "markdown",
      "metadata": {
        "id": "SOZiaGxD1EWx"
      },
      "source": [
        "# 리스트와 for 반복문"
      ]
    },
    {
      "cell_type": "code",
      "metadata": {
        "id": "KiPcvFLY00jr"
      },
      "source": [
        "import random  # 난수 생성 함수를 가지고 있는 모듈 사용"
      ],
      "execution_count": 1,
      "outputs": []
    },
    {
      "cell_type": "markdown",
      "metadata": {
        "id": "EvY6CEuk1aa2"
      },
      "source": [
        "\n",
        "*   empty list 생성 - numbers\n",
        "*   10 ~ 100 범위의 정수 난수 10개를 리스트에 추가하고 출력\n",
        "*   리스트의 원소들 중 짝수들로만 이루어진 새로운 리스트를 생성하고 출력 - evens\n",
        "*   리스트의 원소들 중 홀수들로만 이루어진 새로운 리스트를 생성하고 출력 - odds\n"
      ]
    },
    {
      "cell_type": "code",
      "metadata": {
        "colab": {
          "base_uri": "https://localhost:8080/"
        },
        "id": "urDGwsdz2DCd",
        "outputId": "178a10ce-5ef4-40c5-8ac4-0894bd7b0cdb"
      },
      "source": [
        "numbers = []  # empty list\n",
        "for _ in range(10):  # 10번 반복\n",
        "    numbers.append(random.randrange(10, 101))\n",
        "\n",
        "print(numbers)"
      ],
      "execution_count": 2,
      "outputs": [
        {
          "output_type": "stream",
          "text": [
            "[93, 39, 79, 17, 82, 18, 75, 99, 40, 26]\n"
          ],
          "name": "stdout"
        }
      ]
    },
    {
      "cell_type": "markdown",
      "metadata": {
        "id": "LQ7Z7qMg9H71"
      },
      "source": [
        "\n",
        "*   `random.randrange(start, stop)`: start <= r < stop 범위의 정수 난수를 생성\n",
        "*   `random.randint(start, stop)`: start <= r <= stop 범위의 정수 난수를 생성\n"
      ]
    },
    {
      "cell_type": "code",
      "metadata": {
        "colab": {
          "base_uri": "https://localhost:8080/"
        },
        "id": "Reekb1m49Bfy",
        "outputId": "fb95f145-66ac-4c6c-da8d-eeef2ddf8219"
      },
      "source": [
        "evens = []\n",
        "odds = []\n",
        "# evens, odds = [], []\n",
        "\n",
        "for x in numbers:  # 리스트 numbers의 원소들을 반복하면서\n",
        "    if x % 2 == 0: # 리스트의 원소가 짝수이면\n",
        "        evens.append(x)\n",
        "    else:  # 그렇지 않으면(홀수이면)\n",
        "        odds.append(x)\n",
        "\n",
        "print(evens)\n",
        "print(odds)"
      ],
      "execution_count": 3,
      "outputs": [
        {
          "output_type": "stream",
          "text": [
            "[82, 18, 40, 26]\n",
            "[93, 39, 79, 17, 75, 99]\n"
          ],
          "name": "stdout"
        }
      ]
    },
    {
      "cell_type": "markdown",
      "metadata": {
        "id": "WYS1Y9eO2Tc8"
      },
      "source": [
        "\n",
        "*   empty list를 생성 - numbers\n",
        "*   -10 ~ 10 범위의 정수 난수 10개를 리스트에 추가, 출력\n",
        "*   리스트의 원소가 양수이면 True, 그렇지 않으면 False를 저장하는 리스트를 생성, 출력 - positives\n"
      ]
    },
    {
      "cell_type": "code",
      "metadata": {
        "id": "uuQKPy-726Ru"
      },
      "source": [
        ""
      ],
      "execution_count": null,
      "outputs": []
    },
    {
      "cell_type": "markdown",
      "metadata": {
        "id": "xiIhcdXF267d"
      },
      "source": [
        "\n",
        "*   empty list를 생성\n",
        "*   리스트에 0 또는 1을 랜덤하게 10번 추가, 출력\n",
        "*   리스트의 원소가 0이면 'Male', 1이면 'Female'을 저장하는 리스트를 생성, 출력.\n"
      ]
    },
    {
      "cell_type": "code",
      "metadata": {
        "id": "KWwwuE9D3qQ1"
      },
      "source": [
        ""
      ],
      "execution_count": null,
      "outputs": []
    }
  ]
}
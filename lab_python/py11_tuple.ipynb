{
  "nbformat": 4,
  "nbformat_minor": 0,
  "metadata": {
    "colab": {
      "name": "py11_tuple.ipynb",
      "provenance": [],
      "collapsed_sections": [],
      "authorship_tag": "ABX9TyNyEphtOlRgL/RM0W044lPc",
      "include_colab_link": true
    },
    "kernelspec": {
      "name": "python3",
      "display_name": "Python 3"
    },
    "language_info": {
      "name": "python"
    }
  },
  "cells": [
    {
      "cell_type": "markdown",
      "metadata": {
        "id": "view-in-github",
        "colab_type": "text"
      },
      "source": [
        "<a href=\"https://colab.research.google.com/github/JakeOh/202105_itw_bd26/blob/main/lab_python/py11_tuple.ipynb\" target=\"_parent\"><img src=\"https://colab.research.google.com/assets/colab-badge.svg\" alt=\"Open In Colab\"/></a>"
      ]
    },
    {
      "cell_type": "markdown",
      "metadata": {
        "id": "bcesOKuUNVb-"
      },
      "source": [
        "# 튜플(tuple)"
      ]
    },
    {
      "cell_type": "markdown",
      "metadata": {
        "id": "NwEqql-4Nc-H"
      },
      "source": [
        "\n",
        "*   tuple: 저장된 원소(아이템)들을 변경할 수 없는 리스트.\n",
        "*   인덱스 기반의 데이터 타입. 인덱스를 사용해서 원소를 참조함. - indexing, slicing\n",
        "*   append(), insert(), extend(), remove(), pop(), sort()와 같은 기능(메서드)들은 제공되지 않음.\n"
      ]
    },
    {
      "cell_type": "code",
      "metadata": {
        "colab": {
          "base_uri": "https://localhost:8080/"
        },
        "id": "WTwa6V-ANJA1",
        "outputId": "63e518d5-2d39-457f-91db-693e2bfb5fe4"
      },
      "source": [
        "numbers = (1, 2, 3, 4, 5)\n",
        "print(numbers)\n",
        "print(type(numbers))"
      ],
      "execution_count": 2,
      "outputs": [
        {
          "output_type": "stream",
          "text": [
            "(1, 2, 3, 4, 5)\n",
            "<class 'tuple'>\n"
          ],
          "name": "stdout"
        }
      ]
    },
    {
      "cell_type": "markdown",
      "metadata": {
        "id": "cwQS4v_ZO-sH"
      },
      "source": [
        "# indexing"
      ]
    },
    {
      "cell_type": "code",
      "metadata": {
        "colab": {
          "base_uri": "https://localhost:8080/"
        },
        "id": "97dBC7hoOr7o",
        "outputId": "01409f9c-db7b-4dd1-c63b-3385c4853562"
      },
      "source": [
        "print(numbers[0])  # 인덱스는 0부터 시작\n",
        "print(numbers[4])  # 마지막 인덱스는 (원소 개수 - 1)\n",
        "print(numbers[-1])  # 음수 인덱스 - 튜플의 마지막 원소부터 거꾸로 매겨지는 인덱스"
      ],
      "execution_count": 5,
      "outputs": [
        {
          "output_type": "stream",
          "text": [
            "1\n",
            "5\n",
            "5\n"
          ],
          "name": "stdout"
        }
      ]
    },
    {
      "cell_type": "markdown",
      "metadata": {
        "id": "v9zrawygQQPg"
      },
      "source": [
        "# slicing"
      ]
    },
    {
      "cell_type": "code",
      "metadata": {
        "colab": {
          "base_uri": "https://localhost:8080/"
        },
        "id": "Xvqhp_YgQR0g",
        "outputId": "c99e91c5-2138-4e29-d179-cac1c565acd6"
      },
      "source": [
        "print(numbers)\n",
        "print(numbers[1:3])  # start <= index < stop 범위의 원소들로 이루어진 튜플\n",
        "print(numbers[:3])  # 시작 인덱스가 생략되면 0부터(앞에서 3개를 잘라낸 튜플)\n",
        "print(numbers[3:])  # 종료 인덱스가 생략되면 끝까지\n",
        "print(numbers[-3:])  # 끝에서 3개를 잘라낸 튜플"
      ],
      "execution_count": 9,
      "outputs": [
        {
          "output_type": "stream",
          "text": [
            "(1, 2, 3, 4, 5)\n",
            "(2, 3)\n",
            "(1, 2, 3)\n",
            "(4, 5)\n",
            "(3, 4, 5)\n"
          ],
          "name": "stdout"
        }
      ]
    },
    {
      "cell_type": "code",
      "metadata": {
        "colab": {
          "base_uri": "https://localhost:8080/"
        },
        "id": "-eWbn5VlRC3P",
        "outputId": "2bde89a5-462b-4324-a7ba-b74ef06bde03"
      },
      "source": [
        "print(numbers[1])  #> 원소(아이템) - 숫자\n",
        "print(numbers[1:2])  #> 원소(아이템) 1개로 이루어진 튜플"
      ],
      "execution_count": 11,
      "outputs": [
        {
          "output_type": "stream",
          "text": [
            "2\n",
            "(2,)\n"
          ],
          "name": "stdout"
        }
      ]
    },
    {
      "cell_type": "code",
      "metadata": {
        "id": "6J5xTJelSjHg"
      },
      "source": [
        "# numbers[0] = 100\n",
        "#> TypeError 발생 - 튜플은 기존 원소의 값을 변경할 수 없다!"
      ],
      "execution_count": 14,
      "outputs": []
    },
    {
      "cell_type": "markdown",
      "metadata": {
        "id": "m6AfVbijUSWg"
      },
      "source": [
        "# decomposition(분해)"
      ]
    },
    {
      "cell_type": "code",
      "metadata": {
        "colab": {
          "base_uri": "https://localhost:8080/"
        },
        "id": "kSZ6Ice8T4PZ",
        "outputId": "773728d6-2b52-4e4b-af3e-d07e06b5a315"
      },
      "source": [
        "first, second = (1, 2)\n",
        "print('first =', first)\n",
        "print('second =', second)"
      ],
      "execution_count": 17,
      "outputs": [
        {
          "output_type": "stream",
          "text": [
            "first = 1\n",
            "second = 2\n"
          ],
          "name": "stdout"
        }
      ]
    },
    {
      "cell_type": "code",
      "metadata": {
        "colab": {
          "base_uri": "https://localhost:8080/"
        },
        "id": "rSbo8myjVCnq",
        "outputId": "8e575c90-52a3-43bf-d0d9-19f0d28de81c"
      },
      "source": [
        "x, y = [100, 200]\n",
        "print(f'x = {x}, y = {y}')"
      ],
      "execution_count": 18,
      "outputs": [
        {
          "output_type": "stream",
          "text": [
            "x = 100, y = 200\n"
          ],
          "name": "stdout"
        }
      ]
    }
  ]
}
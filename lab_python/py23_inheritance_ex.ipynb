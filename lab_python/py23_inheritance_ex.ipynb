{
  "nbformat": 4,
  "nbformat_minor": 0,
  "metadata": {
    "colab": {
      "name": "py23_inheritance_ex.ipynb",
      "provenance": [],
      "collapsed_sections": [],
      "authorship_tag": "ABX9TyMsO0O4pblRmLx09we2aIRE",
      "include_colab_link": true
    },
    "kernelspec": {
      "name": "python3",
      "display_name": "Python 3"
    },
    "language_info": {
      "name": "python"
    }
  },
  "cells": [
    {
      "cell_type": "markdown",
      "metadata": {
        "id": "view-in-github",
        "colab_type": "text"
      },
      "source": [
        "<a href=\"https://colab.research.google.com/github/JakeOh/202105_itw_bd26/blob/main/lab_python/py23_inheritance_ex.ipynb\" target=\"_parent\"><img src=\"https://colab.research.google.com/assets/colab-badge.svg\" alt=\"Open In Colab\"/></a>"
      ]
    },
    {
      "cell_type": "code",
      "metadata": {
        "id": "7w9ufgH-Iol9"
      },
      "source": [
        "import math  # math.pi 변수의 값을 사용하기 위해서"
      ],
      "execution_count": 1,
      "outputs": []
    },
    {
      "cell_type": "code",
      "metadata": {
        "colab": {
          "base_uri": "https://localhost:8080/"
        },
        "id": "5LLD8jlPI20E",
        "outputId": "5f66dce2-88ba-4b47-e99b-6ed60fc98c5f"
      },
      "source": [
        "print(math.pi)"
      ],
      "execution_count": 2,
      "outputs": [
        {
          "output_type": "stream",
          "text": [
            "3.141592653589793\n"
          ],
          "name": "stdout"
        }
      ]
    },
    {
      "cell_type": "code",
      "metadata": {
        "id": "Yengun2vJGS0"
      },
      "source": [
        "class Point:\n",
        "    \"\"\"2차원 평면 상의 한 점의 좌표를 표현하는 클래스\"\"\"\n",
        "    def __init__(self, x=0, y=0):\n",
        "        self.x = x\n",
        "        self.y = y\n",
        "\n",
        "    def __repr__(self):\n",
        "        # Point(0, 0) 포맷\n",
        "        pass\n",
        "\n",
        "    def move(self, dx, dy):\n",
        "        \"\"\"점의 좌표를 x축의 방향으로 dx만큼, y축의 방향으로 dy만큼 이동시키고, 이동된 객체(self)를 리턴.\"\"\"\n",
        "        pass"
      ],
      "execution_count": 3,
      "outputs": []
    },
    {
      "cell_type": "code",
      "metadata": {
        "id": "LUSKDM0nKAUk"
      },
      "source": [
        "#  도형은 점은 가지고 있다. (HAS-A)\n",
        "class Shape:\n",
        "    def __init__(self, x=0, y=0):\n",
        "        self.point = ???  # Point 인스턴스를 속성으로 저장\n",
        "\n",
        "    def __repr__(self):\n",
        "        # Shape(point=Point(0, 0)) 포맷\n",
        "        pass\n",
        "\n",
        "    def move(self, dx, dy):\n",
        "        \"\"\"도형을 x축의 방향으로 dx만큼, y축의 방향으로 dy만큼 이동시키는 메서드.\n",
        "        도형이 가지고 있는 Point 객체를 이동시킴.\n",
        "        \"\"\"\n",
        "        pass\n",
        "\n",
        "    def area(self):\n",
        "        \"\"\"도형의 넓이를 계산해서 리턴\"\"\"\n",
        "        raise NotImplementedError('넓이를 계산하는 메서드를 반드시 구현해야 함!')\n",
        "\n",
        "    def perimeter(self):\n",
        "        \"\"\"도형의 둘레의 길이를 계산해서 리턴\"\"\"\n",
        "        raise NotImplementedError('둘레의 길이를 계산하는 메서드를 반드시 구현해야 함!')"
      ],
      "execution_count": null,
      "outputs": []
    },
    {
      "cell_type": "code",
      "metadata": {
        "id": "ZbQYY8q5Mo3g"
      },
      "source": [
        "# 원은 도형이다. (IS-A) -> Shape 클래스를 상속하는 클래스\n",
        "# 1) __init__(원의 중심 x좌표, 원의 중심 y좌표, 반지름) 구현\n",
        "# 2) Shape 클래스의 area, perimeter 메서드를 override\n",
        "class Circle:\n",
        "    pass"
      ],
      "execution_count": null,
      "outputs": []
    },
    {
      "cell_type": "code",
      "metadata": {
        "id": "V3b83ycwNgYv"
      },
      "source": [
        "# 직사각형은 도형이다. (IS-A) -> Shape 클래스를 상속하는 클래스\n",
        "# 1) __init__(꼭지점 x좌표, 꼭지점 y좌표, 가로 길이, 세로 길이) 구현\n",
        "# 2) area, perimeter 메서드를 override\n",
        "class Rectangle:\n",
        "    pass"
      ],
      "execution_count": null,
      "outputs": []
    },
    {
      "cell_type": "code",
      "metadata": {
        "id": "K8_981T3N9_3"
      },
      "source": [
        "# 정사각형은 직사각형이다. (IS-A) -> Rectangle 클래스를 상속하는 클래스\n",
        "# 1) __init__(꼭지점 x좌표, 꼭지점 y좌표, 한변의 길이)\n",
        "# 2) area, perimeter를 override해야 하나?\n",
        "class Square:\n",
        "    pass"
      ],
      "execution_count": null,
      "outputs": []
    }
  ]
}
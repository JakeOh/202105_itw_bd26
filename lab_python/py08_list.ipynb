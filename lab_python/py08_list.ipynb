{
  "nbformat": 4,
  "nbformat_minor": 0,
  "metadata": {
    "colab": {
      "name": "py08_list.ipynb",
      "provenance": [],
      "collapsed_sections": [],
      "authorship_tag": "ABX9TyMQrIX1xE8C8gLbDE1Ox6AF",
      "include_colab_link": true
    },
    "kernelspec": {
      "name": "python3",
      "display_name": "Python 3"
    },
    "language_info": {
      "name": "python"
    }
  },
  "cells": [
    {
      "cell_type": "markdown",
      "metadata": {
        "id": "view-in-github",
        "colab_type": "text"
      },
      "source": [
        "<a href=\"https://colab.research.google.com/github/JakeOh/202105_itw_bd26/blob/main/lab_python/py08_list.ipynb\" target=\"_parent\"><img src=\"https://colab.research.google.com/assets/colab-badge.svg\" alt=\"Open In Colab\"/></a>"
      ]
    },
    {
      "cell_type": "markdown",
      "metadata": {
        "id": "xygGpNqBmCdV"
      },
      "source": [
        "# List(리스트)"
      ]
    },
    {
      "cell_type": "markdown",
      "metadata": {
        "id": "QrRcR1uMmF8d"
      },
      "source": [
        "\n",
        "*   list: 여러개의 값들을 하나의 변수에 저장하기 위한 데이터 타입.\n",
        "*   element(원소, 요소): 리스트에 저장된 각각의 값.\n",
        "*   index(인덱스): 리스트에 값이 저장된 위치(번호).\n",
        "    *   리스트의 인덱스는 **0**부터 시작!!\n",
        "    *   리스트의 마지막 원소의 인덱스는 **(원소개수 - 1)**\n",
        "*   리스트는 원소들을 변경(추가/삭제)할 수 있음.\n",
        "    *   tuple과 다른점!!\n"
      ]
    },
    {
      "cell_type": "code",
      "metadata": {
        "colab": {
          "base_uri": "https://localhost:8080/"
        },
        "id": "IX7igkM1l1UX",
        "outputId": "c1ccfc90-8f88-42f8-9aef-3ca0228547ee"
      },
      "source": [
        "# 숫자들을 저장하는 list\n",
        "numbers = [10, 20, 100, 90, 80]\n",
        "print(numbers)\n",
        "print(type(numbers))"
      ],
      "execution_count": 1,
      "outputs": [
        {
          "output_type": "stream",
          "text": [
            "[10, 20, 100, 90, 80]\n",
            "<class 'list'>\n"
          ],
          "name": "stdout"
        }
      ]
    },
    {
      "cell_type": "markdown",
      "metadata": {
        "id": "6dXpl420p3lz"
      },
      "source": [
        "# indexing"
      ]
    },
    {
      "cell_type": "markdown",
      "metadata": {
        "id": "Ft9-T-SKp7vq"
      },
      "source": [
        "인덱스를 사용해서 리스트의 원소를 사용하는 방법"
      ]
    },
    {
      "cell_type": "code",
      "metadata": {
        "colab": {
          "base_uri": "https://localhost:8080/"
        },
        "id": "3azpgu9kp0nr",
        "outputId": "2692c832-4350-4296-d534-fcc89c2d1404"
      },
      "source": [
        "print(numbers[0])  # 리스트의 첫번째 원소\n",
        "print(numbers[4])  # 리스트의 인덱스 4번 원소\n",
        "print(numbers[-1])  # 리스트의 마지막 원소\n",
        "# print(numbers[5])  #> IndexError 발생 - 인덱스의 범위를 벗어난 인덱스를 사용했기 때문."
      ],
      "execution_count": 2,
      "outputs": [
        {
          "output_type": "stream",
          "text": [
            "10\n",
            "80\n",
            "80\n"
          ],
          "name": "stdout"
        }
      ]
    },
    {
      "cell_type": "markdown",
      "metadata": {
        "id": "loYD6ytaxC-9"
      },
      "source": [
        "# slicing"
      ]
    },
    {
      "cell_type": "markdown",
      "metadata": {
        "id": "5X9zJvKYxHFt"
      },
      "source": [
        "\n",
        "```\n",
        "list_name[start:end]\n",
        "```\n",
        "\n",
        "*   start <= index < end 범위의 인덱스 위치의 원소들을 선택\n",
        "*   start가 생략되면 리스트의 첫번째 원소부터 선택\n",
        "*   end가 생략되면 리스트의 마지막 원소까지 선택\n",
        "*   slicing의 결과는 새로운 *리스트*"
      ]
    },
    {
      "cell_type": "code",
      "metadata": {
        "colab": {
          "base_uri": "https://localhost:8080/"
        },
        "id": "clvGKYZBqJR6",
        "outputId": "950977c9-6444-4c01-c671-81040623514a"
      },
      "source": [
        "numbers[1:4]  # 1 <= index < 4 인덱스 범위의 원소들로 이루어진 리스트"
      ],
      "execution_count": 3,
      "outputs": [
        {
          "output_type": "execute_result",
          "data": {
            "text/plain": [
              "[20, 100, 90]"
            ]
          },
          "metadata": {
            "tags": []
          },
          "execution_count": 3
        }
      ]
    },
    {
      "cell_type": "code",
      "metadata": {
        "colab": {
          "base_uri": "https://localhost:8080/"
        },
        "id": "r_pctzqfyvG8",
        "outputId": "e9150f99-bed3-4fa6-ff8a-0650e76ab0db"
      },
      "source": [
        "numbers[:3]  # 0 <= index < 3 인덱스 범위의 원소들로 이루어진 리스트"
      ],
      "execution_count": 4,
      "outputs": [
        {
          "output_type": "execute_result",
          "data": {
            "text/plain": [
              "[10, 20, 100]"
            ]
          },
          "metadata": {
            "tags": []
          },
          "execution_count": 4
        }
      ]
    },
    {
      "cell_type": "code",
      "metadata": {
        "colab": {
          "base_uri": "https://localhost:8080/"
        },
        "id": "ne0sMcYCzFEu",
        "outputId": "51492271-daf6-4a05-b40b-fd705cc997f2"
      },
      "source": [
        "numbers[3:]  # 3 <= index < 마지막 인덱스 범위의 원소들로 이루어진 리스트"
      ],
      "execution_count": 5,
      "outputs": [
        {
          "output_type": "execute_result",
          "data": {
            "text/plain": [
              "[90, 80]"
            ]
          },
          "metadata": {
            "tags": []
          },
          "execution_count": 5
        }
      ]
    },
    {
      "cell_type": "code",
      "metadata": {
        "colab": {
          "base_uri": "https://localhost:8080/"
        },
        "id": "xJDePiE2zW9c",
        "outputId": "61107291-3a75-4657-caa1-a5aeb57badcc"
      },
      "source": [
        "numbers[:]  # 처음부터 끝까지"
      ],
      "execution_count": 6,
      "outputs": [
        {
          "output_type": "execute_result",
          "data": {
            "text/plain": [
              "[10, 20, 100, 90, 80]"
            ]
          },
          "metadata": {
            "tags": []
          },
          "execution_count": 6
        }
      ]
    },
    {
      "cell_type": "code",
      "metadata": {
        "colab": {
          "base_uri": "https://localhost:8080/"
        },
        "id": "og48WnHjzn59",
        "outputId": "cac2bc8e-bb1e-4f53-866d-6342cf71efd5"
      },
      "source": [
        "# 끝에서 3개 선택\n",
        "numbers[-3:]"
      ],
      "execution_count": 7,
      "outputs": [
        {
          "output_type": "execute_result",
          "data": {
            "text/plain": [
              "[100, 90, 80]"
            ]
          },
          "metadata": {
            "tags": []
          },
          "execution_count": 7
        }
      ]
    },
    {
      "cell_type": "code",
      "metadata": {
        "colab": {
          "base_uri": "https://localhost:8080/"
        },
        "id": "s8DZItSz0S5v",
        "outputId": "96a1506f-6509-4367-992a-1c2f274d8fe7"
      },
      "source": [
        "print(numbers[1])  # 인덱스 1번 위치의 \"원소\" -> 숫자 1개\n",
        "print(numbers[1:2])  # 1 <= index < 2 범위의 원소들로 이루어진 \"리스트\" -> 숫자 1개를 갖고 있는 \"리스트\""
      ],
      "execution_count": 8,
      "outputs": [
        {
          "output_type": "stream",
          "text": [
            "20\n",
            "[20]\n"
          ],
          "name": "stdout"
        }
      ]
    },
    {
      "cell_type": "markdown",
      "metadata": {
        "id": "_QCZgJZo1igj"
      },
      "source": [
        "## 문자열 - 문자들의 리스트"
      ]
    },
    {
      "cell_type": "code",
      "metadata": {
        "colab": {
          "base_uri": "https://localhost:8080/"
        },
        "id": "MhZqqaP81mTU",
        "outputId": "95adfd05-c8e3-4e47-cbb9-2e0b72ae6917"
      },
      "source": [
        "# 문자열 -> 인덱스, 인덱싱, 슬라이싱\n",
        "message = 'Hello, Python!'  # 14개의 문자를 가지고 있는 문자열\n",
        "print(message[0])  # indexing\n",
        "print(message[13])\n",
        "print(message[-1])\n",
        "print(message[:5])  # slicing"
      ],
      "execution_count": 9,
      "outputs": [
        {
          "output_type": "stream",
          "text": [
            "H\n",
            "!\n",
            "!\n",
            "Hello\n"
          ],
          "name": "stdout"
        }
      ]
    },
    {
      "cell_type": "markdown",
      "metadata": {
        "id": "34p9n_Yk2zlj"
      },
      "source": [
        "# list의 산술 연산"
      ]
    },
    {
      "cell_type": "markdown",
      "metadata": {
        "id": "x_-R0zVa3aOT"
      },
      "source": [
        "문자열의 산술 연산: `+, *`"
      ]
    },
    {
      "cell_type": "code",
      "metadata": {
        "colab": {
          "base_uri": "https://localhost:8080/",
          "height": 36
        },
        "id": "ZRWfNrDO22Jr",
        "outputId": "1e61f226-7073-4399-fb77-9dddf34297e7"
      },
      "source": [
        "'Hello' + 'Python'  # +: concatenate"
      ],
      "execution_count": 10,
      "outputs": [
        {
          "output_type": "execute_result",
          "data": {
            "application/vnd.google.colaboratory.intrinsic+json": {
              "type": "string"
            },
            "text/plain": [
              "'HelloPython'"
            ]
          },
          "metadata": {
            "tags": []
          },
          "execution_count": 10
        }
      ]
    },
    {
      "cell_type": "code",
      "metadata": {
        "colab": {
          "base_uri": "https://localhost:8080/",
          "height": 36
        },
        "id": "26pW9SKS3jBR",
        "outputId": "54f3825b-96f5-4608-bf8a-e7c616cc1819"
      },
      "source": [
        "'Hello' * 3  # *: replicate"
      ],
      "execution_count": 11,
      "outputs": [
        {
          "output_type": "execute_result",
          "data": {
            "application/vnd.google.colaboratory.intrinsic+json": {
              "type": "string"
            },
            "text/plain": [
              "'HelloHelloHello'"
            ]
          },
          "metadata": {
            "tags": []
          },
          "execution_count": 11
        }
      ]
    },
    {
      "cell_type": "markdown",
      "metadata": {
        "id": "fAzfjXUq3yvj"
      },
      "source": [
        "list의 산술 연산: `+, *`"
      ]
    },
    {
      "cell_type": "code",
      "metadata": {
        "colab": {
          "base_uri": "https://localhost:8080/"
        },
        "id": "ugBGA2mW33UZ",
        "outputId": "70bc6c45-7f61-4cc2-bc8d-08a7f64bc01f"
      },
      "source": [
        "[1, 2, 3] + [10, 20, 30]  # +: concatenate(이어 붙이기)"
      ],
      "execution_count": 12,
      "outputs": [
        {
          "output_type": "execute_result",
          "data": {
            "text/plain": [
              "[1, 2, 3, 10, 20, 30]"
            ]
          },
          "metadata": {
            "tags": []
          },
          "execution_count": 12
        }
      ]
    },
    {
      "cell_type": "code",
      "metadata": {
        "colab": {
          "base_uri": "https://localhost:8080/"
        },
        "id": "ZAvEtni-4Ho5",
        "outputId": "dcf41629-75cf-4f97-c77e-b80e0ad6edd4"
      },
      "source": [
        "[1, 2, 3] * 3  # *: replicate(복제하기)"
      ],
      "execution_count": 13,
      "outputs": [
        {
          "output_type": "execute_result",
          "data": {
            "text/plain": [
              "[1, 2, 3, 1, 2, 3, 1, 2, 3]"
            ]
          },
          "metadata": {
            "tags": []
          },
          "execution_count": 13
        }
      ]
    },
    {
      "cell_type": "markdown",
      "metadata": {
        "id": "5IbT0uoQ41gq"
      },
      "source": [
        "# list의 메서드(함수) - 기능"
      ]
    },
    {
      "cell_type": "markdown",
      "metadata": {
        "id": "rGwFrcjg5QBx"
      },
      "source": [
        "## element 추가"
      ]
    },
    {
      "cell_type": "code",
      "metadata": {
        "colab": {
          "base_uri": "https://localhost:8080/"
        },
        "id": "43lvGdo24LlK",
        "outputId": "d995b82a-5f91-4c2c-ff7a-b886beca27d8"
      },
      "source": [
        "# list.append(값): 리스트의 가장 마지막에 새로운 원소를 추가.\n",
        "print(numbers)  # 원소 추가 전\n",
        "numbers.append(0)  # 새로운 원소 추가\n",
        "print(numbers)  # 원소 추가 후"
      ],
      "execution_count": 14,
      "outputs": [
        {
          "output_type": "stream",
          "text": [
            "[10, 20, 100, 90, 80]\n",
            "[10, 20, 100, 90, 80, 0]\n"
          ],
          "name": "stdout"
        }
      ]
    },
    {
      "cell_type": "code",
      "metadata": {
        "colab": {
          "base_uri": "https://localhost:8080/"
        },
        "id": "iYYvOtdY6rJD",
        "outputId": "4b579daa-0688-480e-b4bd-febb1132e75e"
      },
      "source": [
        "# list.insert(index, object): list의 index 위치에 object(값)을 추가(삽입)\n",
        "print(numbers)  # insert 전\n",
        "numbers.insert(1, 123)  # index 1 위치에 123을 추가\n",
        "print(numbers)  # insert 후"
      ],
      "execution_count": 15,
      "outputs": [
        {
          "output_type": "stream",
          "text": [
            "[10, 20, 100, 90, 80, 0]\n",
            "[10, 123, 20, 100, 90, 80, 0]\n"
          ],
          "name": "stdout"
        }
      ]
    },
    {
      "cell_type": "code",
      "metadata": {
        "colab": {
          "base_uri": "https://localhost:8080/"
        },
        "id": "6yPb_xdy_rLe",
        "outputId": "40fa2326-6b30-4c2d-c0a7-484666688244"
      },
      "source": [
        "# list.extend(iterable): 리스트 이어붙이기(concatenate). + 연산과 동일.\n",
        "print(numbers)  # extend 전\n",
        "numbers.extend([1, 2, 3])  # numbers + [1, 2, 3]\n",
        "print(numbers)"
      ],
      "execution_count": 16,
      "outputs": [
        {
          "output_type": "stream",
          "text": [
            "[10, 123, 20, 100, 90, 80, 0]\n",
            "[10, 123, 20, 100, 90, 80, 0, 1, 2, 3]\n"
          ],
          "name": "stdout"
        }
      ]
    },
    {
      "cell_type": "code",
      "metadata": {
        "colab": {
          "base_uri": "https://localhost:8080/"
        },
        "id": "LWwv-siBAer-",
        "outputId": "699b367d-96a0-42a5-a709-fec9f77316e1"
      },
      "source": [
        "list1 = [1, 2, 3]\n",
        "list1.append([4, 5, 6])\n",
        "print(list1)"
      ],
      "execution_count": 17,
      "outputs": [
        {
          "output_type": "stream",
          "text": [
            "[1, 2, 3, [4, 5, 6]]\n"
          ],
          "name": "stdout"
        }
      ]
    },
    {
      "cell_type": "code",
      "metadata": {
        "colab": {
          "base_uri": "https://localhost:8080/"
        },
        "id": "063wMp_TA3-L",
        "outputId": "51202480-0edc-4a8d-c2a3-a6824277f8df"
      },
      "source": [
        "list2 = [1, 2, 3]\n",
        "list2.extend([4, 5, 6])\n",
        "print(list2)"
      ],
      "execution_count": 18,
      "outputs": [
        {
          "output_type": "stream",
          "text": [
            "[1, 2, 3, 4, 5, 6]\n"
          ],
          "name": "stdout"
        }
      ]
    },
    {
      "cell_type": "markdown",
      "metadata": {
        "id": "IQhAfMSEBY6m"
      },
      "source": [
        "## element 삭제"
      ]
    },
    {
      "cell_type": "code",
      "metadata": {
        "colab": {
          "base_uri": "https://localhost:8080/"
        },
        "id": "PsPz_EswBbFU",
        "outputId": "d7e91b0f-8ff9-4f4f-93bf-42e729942f95"
      },
      "source": [
        "# list.remove(값): 리스트에서 처음 등장하는 값 한 개를 삭제\n",
        "numbers = [1, 2, 3, 1, 2, 10, 20]\n",
        "print(numbers)  # 삭제 전\n",
        "numbers.remove(1)  # 값 1을 삭제\n",
        "print(numbers)  # 삭제 후"
      ],
      "execution_count": 19,
      "outputs": [
        {
          "output_type": "stream",
          "text": [
            "[1, 2, 3, 1, 2, 10, 20]\n",
            "[2, 3, 1, 2, 10, 20]\n"
          ],
          "name": "stdout"
        }
      ]
    },
    {
      "cell_type": "code",
      "metadata": {
        "colab": {
          "base_uri": "https://localhost:8080/"
        },
        "id": "eVBdiqtGCRpj",
        "outputId": "ed25fe83-f12e-40b2-816e-fca6e37d6970"
      },
      "source": [
        "# list.pop(index): 인덱스 위치의 원소를 삭제. index를 생략하면 가장 마지막 원소를 삭제.\n",
        "numbers = [1, 2, 3, 1, 2, 10, 20]\n",
        "print(numbers)  # 삭제 전\n",
        "numbers.pop(1)  # index 1 위치의 값을 삭제\n",
        "print(numbers)  # 삭제 후\n",
        "numbers.pop()  # 가장 마지막 원소 삭제\n",
        "print(numbers)"
      ],
      "execution_count": 20,
      "outputs": [
        {
          "output_type": "stream",
          "text": [
            "[1, 2, 3, 1, 2, 10, 20]\n",
            "[1, 3, 1, 2, 10, 20]\n",
            "[1, 3, 1, 2, 10]\n"
          ],
          "name": "stdout"
        }
      ]
    },
    {
      "cell_type": "code",
      "metadata": {
        "colab": {
          "base_uri": "https://localhost:8080/"
        },
        "id": "EzXEh0WYDMKb",
        "outputId": "23bbff76-ebf1-44a5-cf3f-dd9263ec605d"
      },
      "source": [
        "# list.clear(): 리스트의 모든 원소 삭제\n",
        "numbers = [1, 2, 3, 1, 2, 10, 20]\n",
        "print(numbers)  # 삭제 전\n",
        "numbers.clear()  # 모든 원소 삭제\n",
        "print(numbers)  # 삭제 후 -> empty list"
      ],
      "execution_count": 21,
      "outputs": [
        {
          "output_type": "stream",
          "text": [
            "[1, 2, 3, 1, 2, 10, 20]\n",
            "[]\n"
          ],
          "name": "stdout"
        }
      ]
    },
    {
      "cell_type": "markdown",
      "metadata": {
        "id": "on7-RWVMDvbJ"
      },
      "source": [
        "## 리스트의 값 수정"
      ]
    },
    {
      "cell_type": "code",
      "metadata": {
        "colab": {
          "base_uri": "https://localhost:8080/"
        },
        "id": "EVYiSzTADa3D",
        "outputId": "e4bb214b-0414-4687-b671-6b39a698fa24"
      },
      "source": [
        "# list[index] = value\n",
        "numbers = [1, 2, 3, 4, 5]\n",
        "print(numbers)\n",
        "numbers[0] = 100\n",
        "print(numbers)"
      ],
      "execution_count": 22,
      "outputs": [
        {
          "output_type": "stream",
          "text": [
            "[1, 2, 3, 4, 5]\n",
            "[100, 2, 3, 4, 5]\n"
          ],
          "name": "stdout"
        }
      ]
    },
    {
      "cell_type": "markdown",
      "metadata": {
        "id": "RV8wDf2IEjPi"
      },
      "source": [
        "# list와 for 반복문"
      ]
    },
    {
      "cell_type": "code",
      "metadata": {
        "colab": {
          "base_uri": "https://localhost:8080/"
        },
        "id": "Ir5goU_REl6S",
        "outputId": "b451fae3-cb53-474d-cc20-8b9c165f333f"
      },
      "source": [
        "numbers = [1, 10, 100, 1000]\n",
        "# 리스트에서 값만 반복(iteration)\n",
        "for x in numbers:\n",
        "    print(x)"
      ],
      "execution_count": 23,
      "outputs": [
        {
          "output_type": "stream",
          "text": [
            "1\n",
            "10\n",
            "100\n",
            "1000\n"
          ],
          "name": "stdout"
        }
      ]
    },
    {
      "cell_type": "code",
      "metadata": {
        "colab": {
          "base_uri": "https://localhost:8080/"
        },
        "id": "azxiGfQwF3oh",
        "outputId": "61f28d6a-f51d-4009-c66c-8fb178d6f16f"
      },
      "source": [
        "# 리스트에서 인덱스와 값을 동시에 반복(iteration)\n",
        "for index, value in enumerate(numbers):\n",
        "    print(index, ':', value)"
      ],
      "execution_count": 24,
      "outputs": [
        {
          "output_type": "stream",
          "text": [
            "0 : 1\n",
            "1 : 10\n",
            "2 : 100\n",
            "3 : 1000\n"
          ],
          "name": "stdout"
        }
      ]
    },
    {
      "cell_type": "markdown",
      "metadata": {
        "id": "8rfQnqLJI1kX"
      },
      "source": [
        "## Exercise"
      ]
    },
    {
      "cell_type": "code",
      "metadata": {
        "id": "fIfiSkYGptR6"
      },
      "source": [
        "import random  # 난수 생성 함수들을 가지고 있는 모듈"
      ],
      "execution_count": 25,
      "outputs": []
    },
    {
      "cell_type": "markdown",
      "metadata": {
        "id": "RBv7VgQFI46_"
      },
      "source": [
        "1. 빈 리스트(empty list) 생성"
      ]
    },
    {
      "cell_type": "code",
      "metadata": {
        "id": "B0TNFpOJIBbZ"
      },
      "source": [
        "numbers = []  # empty list\n",
        "# numbers = list()"
      ],
      "execution_count": 48,
      "outputs": []
    },
    {
      "cell_type": "markdown",
      "metadata": {
        "id": "4Ehe63QzI81p"
      },
      "source": [
        "2. 1에서 생성한 빈 리스트에 1 ~ 10 사이의 정수 난수 5개를 저장"
      ]
    },
    {
      "cell_type": "code",
      "metadata": {
        "id": "LS8J1xcNJNp_",
        "colab": {
          "base_uri": "https://localhost:8080/"
        },
        "outputId": "609cad54-4288-4ea7-ed79-ada5d84defe3"
      },
      "source": [
        "random.seed(1)  # 난수가 만들어지는 순서를 고정.\n",
        "\n",
        "for _ in range(5):  # _: dummy variable\n",
        "    numbers.append(random.randrange(1, 11))\n",
        "\n",
        "print(numbers)"
      ],
      "execution_count": 49,
      "outputs": [
        {
          "output_type": "stream",
          "text": [
            "[3, 10, 2, 5, 2]\n"
          ],
          "name": "stdout"
        }
      ]
    },
    {
      "cell_type": "markdown",
      "metadata": {
        "id": "hdrswK_PJPOY"
      },
      "source": [
        "3. 리스트에 저장된 모든 숫자들의 합(sum)을 계산하고 출력"
      ]
    },
    {
      "cell_type": "code",
      "metadata": {
        "id": "uXwDTT3NJOlv",
        "colab": {
          "base_uri": "https://localhost:8080/"
        },
        "outputId": "1bc32033-ac0b-4b1b-b439-3f5be1973ec2"
      },
      "source": [
        "total = sum(numbers)\n",
        "print(total)"
      ],
      "execution_count": 40,
      "outputs": [
        {
          "output_type": "stream",
          "text": [
            "22\n"
          ],
          "name": "stdout"
        }
      ]
    },
    {
      "cell_type": "code",
      "metadata": {
        "colab": {
          "base_uri": "https://localhost:8080/"
        },
        "id": "-V5OCdhcsKEM",
        "outputId": "2b29ff30-054a-407d-f679-9d72b69f5fdb"
      },
      "source": [
        "total = 0\n",
        "for x in numbers:\n",
        "    total += x\n",
        "print('total =', total)"
      ],
      "execution_count": 43,
      "outputs": [
        {
          "output_type": "stream",
          "text": [
            "total = 22\n"
          ],
          "name": "stdout"
        }
      ]
    },
    {
      "cell_type": "markdown",
      "metadata": {
        "id": "Zwxn-oUCJYh4"
      },
      "source": [
        "4. 리스트에 저장된 모든 숫자들의 평균을 계산하고 출력"
      ]
    },
    {
      "cell_type": "code",
      "metadata": {
        "id": "ekLyWHlGJYEP",
        "colab": {
          "base_uri": "https://localhost:8080/"
        },
        "outputId": "aa105c40-ba30-4c97-e7df-371b0075de14"
      },
      "source": [
        "# len(반복가능한타입): 원소의 개수를 반환\n",
        "avg = total / len(numbers)\n",
        "print('average =', avg)"
      ],
      "execution_count": 45,
      "outputs": [
        {
          "output_type": "stream",
          "text": [
            "average = 4.4\n"
          ],
          "name": "stdout"
        }
      ]
    }
  ]
}
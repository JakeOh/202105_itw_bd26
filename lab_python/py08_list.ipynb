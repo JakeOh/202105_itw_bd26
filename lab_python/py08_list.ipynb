{
  "nbformat": 4,
  "nbformat_minor": 0,
  "metadata": {
    "colab": {
      "name": "py08_list.ipynb",
      "provenance": [],
      "collapsed_sections": [],
      "authorship_tag": "ABX9TyOGVIlfKSeTfnq9/+1whDMj",
      "include_colab_link": true
    },
    "kernelspec": {
      "name": "python3",
      "display_name": "Python 3"
    },
    "language_info": {
      "name": "python"
    }
  },
  "cells": [
    {
      "cell_type": "markdown",
      "metadata": {
        "id": "view-in-github",
        "colab_type": "text"
      },
      "source": [
        "<a href=\"https://colab.research.google.com/github/JakeOh/202105_itw_bd26/blob/main/lab_python/py08_list.ipynb\" target=\"_parent\"><img src=\"https://colab.research.google.com/assets/colab-badge.svg\" alt=\"Open In Colab\"/></a>"
      ]
    },
    {
      "cell_type": "markdown",
      "metadata": {
        "id": "xygGpNqBmCdV"
      },
      "source": [
        "# List(리스트)"
      ]
    },
    {
      "cell_type": "markdown",
      "metadata": {
        "id": "QrRcR1uMmF8d"
      },
      "source": [
        "\n",
        "*   list: 여러개의 값들을 하나의 변수에 저장하기 위한 데이터 타입.\n",
        "*   element(원소, 요소): 리스트에 저장된 각각의 값.\n",
        "*   index(인덱스): 리스트에 값이 저장된 위치(번호).\n",
        "    *   리스트의 인덱스는 **0**부터 시작!!\n",
        "    *   리스트의 마지막 원소의 인덱스는 **(원소개수 - 1)**\n",
        "*   리스트는 원소들을 변경(추가/삭제)할 수 있음.\n",
        "    *   tuple과 다른점!!\n"
      ]
    },
    {
      "cell_type": "code",
      "metadata": {
        "colab": {
          "base_uri": "https://localhost:8080/"
        },
        "id": "IX7igkM1l1UX",
        "outputId": "c326ef5c-9b31-4a84-aed3-411abe4cc189"
      },
      "source": [
        "# 숫자들을 저장하는 list\n",
        "numbers = [10, 20, 100, 90, 80]\n",
        "print(numbers)\n",
        "print(type(numbers))"
      ],
      "execution_count": 45,
      "outputs": [
        {
          "output_type": "stream",
          "text": [
            "[10, 20, 100, 90, 80]\n",
            "<class 'list'>\n"
          ],
          "name": "stdout"
        }
      ]
    },
    {
      "cell_type": "markdown",
      "metadata": {
        "id": "6dXpl420p3lz"
      },
      "source": [
        "# indexing"
      ]
    },
    {
      "cell_type": "markdown",
      "metadata": {
        "id": "Ft9-T-SKp7vq"
      },
      "source": [
        "인덱스를 사용해서 리스트의 원소를 사용하는 방법"
      ]
    },
    {
      "cell_type": "code",
      "metadata": {
        "colab": {
          "base_uri": "https://localhost:8080/"
        },
        "id": "3azpgu9kp0nr",
        "outputId": "f1408705-6b14-48bc-e308-4d69be5a9187"
      },
      "source": [
        "print(numbers[0])  # 리스트의 첫번째 원소\n",
        "print(numbers[4])  # 리스트의 인덱스 4번 원소\n",
        "print(numbers[-1])  # 리스트의 마지막 원소\n",
        "# print(numbers[5])  #> IndexError 발생 - 인덱스의 범위를 벗어난 인덱스를 사용했기 때문."
      ],
      "execution_count": 46,
      "outputs": [
        {
          "output_type": "stream",
          "text": [
            "10\n",
            "80\n",
            "80\n"
          ],
          "name": "stdout"
        }
      ]
    },
    {
      "cell_type": "markdown",
      "metadata": {
        "id": "loYD6ytaxC-9"
      },
      "source": [
        "# slicing"
      ]
    },
    {
      "cell_type": "markdown",
      "metadata": {
        "id": "5X9zJvKYxHFt"
      },
      "source": [
        "\n",
        "```\n",
        "list_name[start:end]\n",
        "```\n",
        "\n",
        "*   start <= index < end 범위의 인덱스 위치의 원소들을 선택\n",
        "*   start가 생략되면 리스트의 첫번째 원소부터 선택\n",
        "*   end가 생략되면 리스트의 마지막 원소까지 선택\n",
        "*   slicing의 결과는 새로운 *리스트*"
      ]
    },
    {
      "cell_type": "code",
      "metadata": {
        "colab": {
          "base_uri": "https://localhost:8080/"
        },
        "id": "clvGKYZBqJR6",
        "outputId": "3c88df9e-7cc0-4cfe-c765-994ad91455ed"
      },
      "source": [
        "numbers[1:4]  # 1 <= index < 4 인덱스 범위의 원소들로 이루어진 리스트"
      ],
      "execution_count": 47,
      "outputs": [
        {
          "output_type": "execute_result",
          "data": {
            "text/plain": [
              "[20, 100, 90]"
            ]
          },
          "metadata": {
            "tags": []
          },
          "execution_count": 47
        }
      ]
    },
    {
      "cell_type": "code",
      "metadata": {
        "colab": {
          "base_uri": "https://localhost:8080/"
        },
        "id": "r_pctzqfyvG8",
        "outputId": "d0c79a6c-ba89-47be-c323-3c9c9c1df8b3"
      },
      "source": [
        "numbers[:3]  # 0 <= index < 3 인덱스 범위의 원소들로 이루어진 리스트"
      ],
      "execution_count": 48,
      "outputs": [
        {
          "output_type": "execute_result",
          "data": {
            "text/plain": [
              "[10, 20, 100]"
            ]
          },
          "metadata": {
            "tags": []
          },
          "execution_count": 48
        }
      ]
    },
    {
      "cell_type": "code",
      "metadata": {
        "colab": {
          "base_uri": "https://localhost:8080/"
        },
        "id": "ne0sMcYCzFEu",
        "outputId": "fade4c4c-2b3d-489f-acfe-60c926f39da9"
      },
      "source": [
        "numbers[3:]  # 3 <= index < 마지막 인덱스 범위의 원소들로 이루어진 리스트"
      ],
      "execution_count": 49,
      "outputs": [
        {
          "output_type": "execute_result",
          "data": {
            "text/plain": [
              "[90, 80]"
            ]
          },
          "metadata": {
            "tags": []
          },
          "execution_count": 49
        }
      ]
    },
    {
      "cell_type": "code",
      "metadata": {
        "colab": {
          "base_uri": "https://localhost:8080/"
        },
        "id": "xJDePiE2zW9c",
        "outputId": "8d139eb8-4c78-47aa-be29-e83e4682592c"
      },
      "source": [
        "numbers[:]  # 처음부터 끝까지"
      ],
      "execution_count": 50,
      "outputs": [
        {
          "output_type": "execute_result",
          "data": {
            "text/plain": [
              "[10, 20, 100, 90, 80]"
            ]
          },
          "metadata": {
            "tags": []
          },
          "execution_count": 50
        }
      ]
    },
    {
      "cell_type": "code",
      "metadata": {
        "colab": {
          "base_uri": "https://localhost:8080/"
        },
        "id": "og48WnHjzn59",
        "outputId": "9877587f-8b5e-4bb8-e5a0-4237f364a220"
      },
      "source": [
        "# 끝에서 3개 선택\n",
        "numbers[-3:]"
      ],
      "execution_count": 51,
      "outputs": [
        {
          "output_type": "execute_result",
          "data": {
            "text/plain": [
              "[100, 90, 80]"
            ]
          },
          "metadata": {
            "tags": []
          },
          "execution_count": 51
        }
      ]
    },
    {
      "cell_type": "code",
      "metadata": {
        "colab": {
          "base_uri": "https://localhost:8080/"
        },
        "id": "s8DZItSz0S5v",
        "outputId": "187c975a-53d0-4943-e6de-ac15f8df96a5"
      },
      "source": [
        "print(numbers[1])  # 인덱스 1번 위치의 \"원소\" -> 숫자 1개\n",
        "print(numbers[1:2])  # 1 <= index < 2 범위의 원소들로 이루어진 \"리스트\" -> 숫자 1개를 갖고 있는 \"리스트\""
      ],
      "execution_count": 52,
      "outputs": [
        {
          "output_type": "stream",
          "text": [
            "20\n",
            "[20]\n"
          ],
          "name": "stdout"
        }
      ]
    },
    {
      "cell_type": "markdown",
      "metadata": {
        "id": "_QCZgJZo1igj"
      },
      "source": [
        "## 문자열 - 문자들의 리스트"
      ]
    },
    {
      "cell_type": "code",
      "metadata": {
        "colab": {
          "base_uri": "https://localhost:8080/"
        },
        "id": "MhZqqaP81mTU",
        "outputId": "dd2516a7-2089-4755-b3d6-59586a8e2da1"
      },
      "source": [
        "# 문자열 -> 인덱스, 인덱싱, 슬라이싱\n",
        "message = 'Hello, Python!'  # 14개의 문자를 가지고 있는 문자열\n",
        "print(message[0])  # indexing\n",
        "print(message[13])\n",
        "print(message[-1])\n",
        "print(message[:5])  # slicing"
      ],
      "execution_count": 53,
      "outputs": [
        {
          "output_type": "stream",
          "text": [
            "H\n",
            "!\n",
            "!\n",
            "Hello\n"
          ],
          "name": "stdout"
        }
      ]
    },
    {
      "cell_type": "markdown",
      "metadata": {
        "id": "34p9n_Yk2zlj"
      },
      "source": [
        "# list의 산술 연산"
      ]
    },
    {
      "cell_type": "markdown",
      "metadata": {
        "id": "x_-R0zVa3aOT"
      },
      "source": [
        "문자열의 산술 연산: `+, *`"
      ]
    },
    {
      "cell_type": "code",
      "metadata": {
        "colab": {
          "base_uri": "https://localhost:8080/",
          "height": 36
        },
        "id": "ZRWfNrDO22Jr",
        "outputId": "c85e9f80-48f1-4498-f79c-79f006bcf4e0"
      },
      "source": [
        "'Hello' + 'Python'  # +: concatenate"
      ],
      "execution_count": 54,
      "outputs": [
        {
          "output_type": "execute_result",
          "data": {
            "application/vnd.google.colaboratory.intrinsic+json": {
              "type": "string"
            },
            "text/plain": [
              "'HelloPython'"
            ]
          },
          "metadata": {
            "tags": []
          },
          "execution_count": 54
        }
      ]
    },
    {
      "cell_type": "code",
      "metadata": {
        "colab": {
          "base_uri": "https://localhost:8080/",
          "height": 36
        },
        "id": "26pW9SKS3jBR",
        "outputId": "df248399-1d8c-4a71-9ff4-52d57117cf3f"
      },
      "source": [
        "'Hello' * 3  # *: replicate"
      ],
      "execution_count": 55,
      "outputs": [
        {
          "output_type": "execute_result",
          "data": {
            "application/vnd.google.colaboratory.intrinsic+json": {
              "type": "string"
            },
            "text/plain": [
              "'HelloHelloHello'"
            ]
          },
          "metadata": {
            "tags": []
          },
          "execution_count": 55
        }
      ]
    },
    {
      "cell_type": "markdown",
      "metadata": {
        "id": "fAzfjXUq3yvj"
      },
      "source": [
        "list의 산술 연산: `+, *`"
      ]
    },
    {
      "cell_type": "code",
      "metadata": {
        "colab": {
          "base_uri": "https://localhost:8080/"
        },
        "id": "ugBGA2mW33UZ",
        "outputId": "d48ac81f-a775-44c6-feca-bfc77d272d1c"
      },
      "source": [
        "[1, 2, 3] + [10, 20, 30]  # +: concatenate(이어 붙이기)"
      ],
      "execution_count": 56,
      "outputs": [
        {
          "output_type": "execute_result",
          "data": {
            "text/plain": [
              "[1, 2, 3, 10, 20, 30]"
            ]
          },
          "metadata": {
            "tags": []
          },
          "execution_count": 56
        }
      ]
    },
    {
      "cell_type": "code",
      "metadata": {
        "colab": {
          "base_uri": "https://localhost:8080/"
        },
        "id": "ZAvEtni-4Ho5",
        "outputId": "48117049-a0b0-4b31-c924-440c70fc2898"
      },
      "source": [
        "[1, 2, 3] * 3  # *: replicate(복제하기)"
      ],
      "execution_count": 57,
      "outputs": [
        {
          "output_type": "execute_result",
          "data": {
            "text/plain": [
              "[1, 2, 3, 1, 2, 3, 1, 2, 3]"
            ]
          },
          "metadata": {
            "tags": []
          },
          "execution_count": 57
        }
      ]
    },
    {
      "cell_type": "markdown",
      "metadata": {
        "id": "5IbT0uoQ41gq"
      },
      "source": [
        "# list의 메서드(함수) - 기능"
      ]
    },
    {
      "cell_type": "markdown",
      "metadata": {
        "id": "rGwFrcjg5QBx"
      },
      "source": [
        "## element 추가"
      ]
    },
    {
      "cell_type": "code",
      "metadata": {
        "colab": {
          "base_uri": "https://localhost:8080/"
        },
        "id": "43lvGdo24LlK",
        "outputId": "dc7aca3f-e6f0-406a-a118-99e4397be930"
      },
      "source": [
        "# list.append(값): 리스트의 가장 마지막에 새로운 원소를 추가.\n",
        "print(numbers)  # 원소 추가 전\n",
        "numbers.append(0)  # 새로운 원소 추가\n",
        "print(numbers)  # 원소 추가 후"
      ],
      "execution_count": 58,
      "outputs": [
        {
          "output_type": "stream",
          "text": [
            "[10, 20, 100, 90, 80]\n",
            "[10, 20, 100, 90, 80, 0]\n"
          ],
          "name": "stdout"
        }
      ]
    },
    {
      "cell_type": "code",
      "metadata": {
        "colab": {
          "base_uri": "https://localhost:8080/"
        },
        "id": "iYYvOtdY6rJD",
        "outputId": "49dbb291-d546-4759-a7ff-9ccc3fed2169"
      },
      "source": [
        "# list.insert(index, object): list의 index 위치에 object(값)을 추가(삽입)\n",
        "print(numbers)  # insert 전\n",
        "numbers.insert(1, 123)  # index 1 위치에 123을 추가\n",
        "print(numbers)  # insert 후"
      ],
      "execution_count": 60,
      "outputs": [
        {
          "output_type": "stream",
          "text": [
            "[10, 20, 100, 90, 80, 0]\n",
            "[10, 123, 20, 100, 90, 80, 0]\n"
          ],
          "name": "stdout"
        }
      ]
    },
    {
      "cell_type": "code",
      "metadata": {
        "colab": {
          "base_uri": "https://localhost:8080/"
        },
        "id": "6yPb_xdy_rLe",
        "outputId": "d01d75fe-4100-443a-9eb6-324ec792438e"
      },
      "source": [
        "# list.extend(iterable): 리스트 이어붙이기(concatenate). + 연산과 동일.\n",
        "print(numbers)  # extend 전\n",
        "numbers.extend([1, 2, 3])  # numbers + [1, 2, 3]\n",
        "print(numbers)"
      ],
      "execution_count": 62,
      "outputs": [
        {
          "output_type": "stream",
          "text": [
            "[10, 123, 20, 100, 90, 80, 0]\n",
            "[10, 123, 20, 100, 90, 80, 0, 1, 2, 3]\n"
          ],
          "name": "stdout"
        }
      ]
    },
    {
      "cell_type": "code",
      "metadata": {
        "colab": {
          "base_uri": "https://localhost:8080/"
        },
        "id": "LWwv-siBAer-",
        "outputId": "51516617-d2b0-4cc4-ba04-2939a5acef12"
      },
      "source": [
        "list1 = [1, 2, 3]\n",
        "list1.append([4, 5, 6])\n",
        "print(list1)"
      ],
      "execution_count": 64,
      "outputs": [
        {
          "output_type": "stream",
          "text": [
            "[1, 2, 3, [4, 5, 6]]\n"
          ],
          "name": "stdout"
        }
      ]
    },
    {
      "cell_type": "code",
      "metadata": {
        "colab": {
          "base_uri": "https://localhost:8080/"
        },
        "id": "063wMp_TA3-L",
        "outputId": "2db65575-308d-47bd-9f31-94e6b07f1efb"
      },
      "source": [
        "list2 = [1, 2, 3]\n",
        "list2.extend([4, 5, 6])\n",
        "print(list2)"
      ],
      "execution_count": 66,
      "outputs": [
        {
          "output_type": "stream",
          "text": [
            "[1, 2, 3, 4, 5, 6]\n"
          ],
          "name": "stdout"
        }
      ]
    },
    {
      "cell_type": "markdown",
      "metadata": {
        "id": "IQhAfMSEBY6m"
      },
      "source": [
        "## element 삭제"
      ]
    },
    {
      "cell_type": "code",
      "metadata": {
        "colab": {
          "base_uri": "https://localhost:8080/"
        },
        "id": "PsPz_EswBbFU",
        "outputId": "96340584-a1d0-436d-c9e9-9277e9c306c7"
      },
      "source": [
        "# list.remove(값): 리스트에서 처음 등장하는 값 한 개를 삭제\n",
        "numbers = [1, 2, 3, 1, 2, 10, 20]\n",
        "print(numbers)  # 삭제 전\n",
        "numbers.remove(1)  # 값 1을 삭제\n",
        "print(numbers)  # 삭제 후"
      ],
      "execution_count": 67,
      "outputs": [
        {
          "output_type": "stream",
          "text": [
            "[1, 2, 3, 1, 2, 10, 20]\n",
            "[2, 3, 1, 2, 10, 20]\n"
          ],
          "name": "stdout"
        }
      ]
    },
    {
      "cell_type": "code",
      "metadata": {
        "colab": {
          "base_uri": "https://localhost:8080/"
        },
        "id": "eVBdiqtGCRpj",
        "outputId": "61d196d0-c2c3-4ae7-c43d-c14316761c17"
      },
      "source": [
        "# list.pop(index): 인덱스 위치의 원소를 삭제. index를 생략하면 가장 마지막 원소를 삭제.\n",
        "numbers = [1, 2, 3, 1, 2, 10, 20]\n",
        "print(numbers)  # 삭제 전\n",
        "numbers.pop(1)  # index 1 위치의 값을 삭제\n",
        "print(numbers)  # 삭제 후\n",
        "numbers.pop()  # 가장 마지막 원소 삭제\n",
        "print(numbers)"
      ],
      "execution_count": 69,
      "outputs": [
        {
          "output_type": "stream",
          "text": [
            "[1, 2, 3, 1, 2, 10, 20]\n",
            "[1, 3, 1, 2, 10, 20]\n",
            "[1, 3, 1, 2, 10]\n"
          ],
          "name": "stdout"
        }
      ]
    },
    {
      "cell_type": "code",
      "metadata": {
        "colab": {
          "base_uri": "https://localhost:8080/"
        },
        "id": "EzXEh0WYDMKb",
        "outputId": "2fd0ae57-18ad-455b-aae7-f9306621a2b1"
      },
      "source": [
        "# list.clear(): 리스트의 모든 원소 삭제\n",
        "numbers = [1, 2, 3, 1, 2, 10, 20]\n",
        "print(numbers)  # 삭제 전\n",
        "numbers.clear()  # 모든 원소 삭제\n",
        "print(numbers)  # 삭제 후 -> empty list"
      ],
      "execution_count": 70,
      "outputs": [
        {
          "output_type": "stream",
          "text": [
            "[1, 2, 3, 1, 2, 10, 20]\n",
            "[]\n"
          ],
          "name": "stdout"
        }
      ]
    },
    {
      "cell_type": "markdown",
      "metadata": {
        "id": "on7-RWVMDvbJ"
      },
      "source": [
        "## 리스트의 값 수정"
      ]
    },
    {
      "cell_type": "code",
      "metadata": {
        "colab": {
          "base_uri": "https://localhost:8080/"
        },
        "id": "EVYiSzTADa3D",
        "outputId": "d11f2459-41db-4297-b82f-e026b6139a4b"
      },
      "source": [
        "# list[index] = value\n",
        "numbers = [1, 2, 3, 4, 5]\n",
        "print(numbers)\n",
        "numbers[0] = 100\n",
        "print(numbers)"
      ],
      "execution_count": 73,
      "outputs": [
        {
          "output_type": "stream",
          "text": [
            "[1, 2, 3, 4, 5]\n",
            "[100, 2, 3, 4, 5]\n"
          ],
          "name": "stdout"
        }
      ]
    },
    {
      "cell_type": "markdown",
      "metadata": {
        "id": "RV8wDf2IEjPi"
      },
      "source": [
        "# list와 for 반복문"
      ]
    },
    {
      "cell_type": "code",
      "metadata": {
        "colab": {
          "base_uri": "https://localhost:8080/"
        },
        "id": "Ir5goU_REl6S",
        "outputId": "75d6ce06-a86c-4de6-fc79-dfd71dbfafa3"
      },
      "source": [
        "numbers = [1, 10, 100, 1000]\n",
        "# 리스트에서 값만 반복(iteration)\n",
        "for x in numbers:\n",
        "    print(x)"
      ],
      "execution_count": 75,
      "outputs": [
        {
          "output_type": "stream",
          "text": [
            "1\n",
            "10\n",
            "100\n",
            "1000\n"
          ],
          "name": "stdout"
        }
      ]
    },
    {
      "cell_type": "code",
      "metadata": {
        "colab": {
          "base_uri": "https://localhost:8080/"
        },
        "id": "azxiGfQwF3oh",
        "outputId": "61130161-634d-40fc-91ac-70a59f5ccdf2"
      },
      "source": [
        "# 리스트에서 인덱스와 값을 동시에 반복(iteration)\n",
        "for index, value in enumerate(numbers):\n",
        "    print(index, ':', value)"
      ],
      "execution_count": 76,
      "outputs": [
        {
          "output_type": "stream",
          "text": [
            "0 : 1\n",
            "1 : 10\n",
            "2 : 100\n",
            "3 : 1000\n"
          ],
          "name": "stdout"
        }
      ]
    },
    {
      "cell_type": "code",
      "metadata": {
        "id": "B0TNFpOJIBbZ"
      },
      "source": [
        ""
      ],
      "execution_count": null,
      "outputs": []
    }
  ]
}
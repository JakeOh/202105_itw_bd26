{
  "nbformat": 4,
  "nbformat_minor": 0,
  "metadata": {
    "colab": {
      "name": "py08_list.ipynb",
      "provenance": [],
      "collapsed_sections": [],
      "authorship_tag": "ABX9TyMhf8ZlSwJ4utFL/0qgEoHl",
      "include_colab_link": true
    },
    "kernelspec": {
      "name": "python3",
      "display_name": "Python 3"
    },
    "language_info": {
      "name": "python"
    }
  },
  "cells": [
    {
      "cell_type": "markdown",
      "metadata": {
        "id": "view-in-github",
        "colab_type": "text"
      },
      "source": [
        "<a href=\"https://colab.research.google.com/github/JakeOh/202105_itw_bd26/blob/main/lab_python/py08_list.ipynb\" target=\"_parent\"><img src=\"https://colab.research.google.com/assets/colab-badge.svg\" alt=\"Open In Colab\"/></a>"
      ]
    },
    {
      "cell_type": "markdown",
      "metadata": {
        "id": "xygGpNqBmCdV"
      },
      "source": [
        "# List(리스트)"
      ]
    },
    {
      "cell_type": "markdown",
      "metadata": {
        "id": "QrRcR1uMmF8d"
      },
      "source": [
        "\n",
        "*   list: 여러개의 값들을 하나의 변수에 저장하기 위한 데이터 타입.\n",
        "*   element(원소, 요소): 리스트에 저장된 각각의 값.\n",
        "*   index(인덱스): 리스트에 값이 저장된 위치(번호).\n",
        "    *   리스트의 인덱스는 **0**부터 시작!!\n",
        "    *   리스트의 마지막 원소의 인덱스는 **(원소개수 - 1)**\n",
        "*   리스트는 원소들을 변경(추가/삭제)할 수 있음.\n",
        "    *   tuple과 다른점!!\n"
      ]
    },
    {
      "cell_type": "code",
      "metadata": {
        "colab": {
          "base_uri": "https://localhost:8080/"
        },
        "id": "IX7igkM1l1UX",
        "outputId": "b9363bbf-e435-490e-f184-26b1d2d5edee"
      },
      "source": [
        "# 숫자들을 저장하는 list\n",
        "numbers = [10, 20, 100, 90, 80]\n",
        "print(numbers)\n",
        "print(type(numbers))"
      ],
      "execution_count": 2,
      "outputs": [
        {
          "output_type": "stream",
          "text": [
            "[10, 20, 100, 90, 80]\n",
            "<class 'list'>\n"
          ],
          "name": "stdout"
        }
      ]
    },
    {
      "cell_type": "markdown",
      "metadata": {
        "id": "6dXpl420p3lz"
      },
      "source": [
        "# indexing"
      ]
    },
    {
      "cell_type": "markdown",
      "metadata": {
        "id": "Ft9-T-SKp7vq"
      },
      "source": [
        "인덱스를 사용해서 리스트의 원소를 사용하는 방법"
      ]
    },
    {
      "cell_type": "code",
      "metadata": {
        "colab": {
          "base_uri": "https://localhost:8080/"
        },
        "id": "3azpgu9kp0nr",
        "outputId": "cc20873b-286b-4709-b271-bd25d89d2715"
      },
      "source": [
        "print(numbers[0])  # 리스트의 첫번째 원소\n",
        "print(numbers[4])  # 리스트의 인덱스 4번 원소\n",
        "print(numbers[-1])  # 리스트의 마지막 원소\n",
        "# print(numbers[5])  #> IndexError 발생 - 인덱스의 범위를 벗어난 인덱스를 사용했기 때문."
      ],
      "execution_count": 7,
      "outputs": [
        {
          "output_type": "stream",
          "text": [
            "10\n",
            "80\n",
            "80\n"
          ],
          "name": "stdout"
        }
      ]
    },
    {
      "cell_type": "code",
      "metadata": {
        "id": "clvGKYZBqJR6"
      },
      "source": [
        ""
      ],
      "execution_count": null,
      "outputs": []
    }
  ]
}
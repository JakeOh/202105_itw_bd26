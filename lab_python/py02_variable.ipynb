{
  "nbformat": 4,
  "nbformat_minor": 0,
  "metadata": {
    "colab": {
      "name": "py02_variable.ipynb",
      "provenance": [],
      "collapsed_sections": [],
      "authorship_tag": "ABX9TyN2e0ujzn0C3/q4AgXfi+VD",
      "include_colab_link": true
    },
    "kernelspec": {
      "name": "python3",
      "display_name": "Python 3"
    },
    "language_info": {
      "name": "python"
    }
  },
  "cells": [
    {
      "cell_type": "markdown",
      "metadata": {
        "id": "view-in-github",
        "colab_type": "text"
      },
      "source": [
        "<a href=\"https://colab.research.google.com/github/JakeOh/202105_itw_bd26/blob/main/lab_python/py02_variable.ipynb\" target=\"_parent\"><img src=\"https://colab.research.google.com/assets/colab-badge.svg\" alt=\"Open In Colab\"/></a>"
      ]
    },
    {
      "cell_type": "markdown",
      "metadata": {
        "id": "KSVyt3u0rWQE"
      },
      "source": [
        "# Python Data Type(자료 형)"
      ]
    },
    {
      "cell_type": "markdown",
      "metadata": {
        "id": "X6Q8CzwtsLiF"
      },
      "source": [
        "*   숫자 타입:\n",
        "    *   int: 정수\n",
        "    *   float: 실수\n",
        "*   문자열 타입: str\n",
        "*   논리 타입: bool - True/False 두 가지 상태를 저장하는 변수"
      ]
    },
    {
      "cell_type": "code",
      "metadata": {
        "colab": {
          "base_uri": "https://localhost:8080/"
        },
        "id": "WZ2o5HQaq0v8",
        "outputId": "a49478a6-c344-419a-c226-b3c201384b30"
      },
      "source": [
        "# 변수 n에 정수 100을 저장\n",
        "n = 100\n",
        "print(n)"
      ],
      "execution_count": 6,
      "outputs": [
        {
          "output_type": "stream",
          "text": [
            "100\n"
          ],
          "name": "stdout"
        }
      ]
    },
    {
      "cell_type": "code",
      "metadata": {
        "colab": {
          "base_uri": "https://localhost:8080/"
        },
        "id": "vKfsjDpOtiSF",
        "outputId": "2378db68-50cf-4249-8e89-af270424f030"
      },
      "source": [
        "type(n)  # type(x): 변수 x의 자료 형(data type)을 반환."
      ],
      "execution_count": 7,
      "outputs": [
        {
          "output_type": "execute_result",
          "data": {
            "text/plain": [
              "int"
            ]
          },
          "metadata": {
            "tags": []
          },
          "execution_count": 7
        }
      ]
    },
    {
      "cell_type": "code",
      "metadata": {
        "colab": {
          "base_uri": "https://localhost:8080/"
        },
        "id": "bPsMBuEst7bL",
        "outputId": "8c9625e3-b44a-4a46-e6b5-a93763d7f5d9"
      },
      "source": [
        "pi = 3.141592\n",
        "print(pi)\n",
        "type(pi)"
      ],
      "execution_count": 8,
      "outputs": [
        {
          "output_type": "stream",
          "text": [
            "3.141592\n"
          ],
          "name": "stdout"
        },
        {
          "output_type": "execute_result",
          "data": {
            "text/plain": [
              "float"
            ]
          },
          "metadata": {
            "tags": []
          },
          "execution_count": 8
        }
      ]
    },
    {
      "cell_type": "code",
      "metadata": {
        "colab": {
          "base_uri": "https://localhost:8080/"
        },
        "id": "lFjeYIVEuEGc",
        "outputId": "a2cd6cb6-75db-40a4-e17b-7f4361466a81"
      },
      "source": [
        "s = '안녕하세요'\n",
        "print(s)\n",
        "type(s)"
      ],
      "execution_count": 10,
      "outputs": [
        {
          "output_type": "stream",
          "text": [
            "안녕하세요\n"
          ],
          "name": "stdout"
        },
        {
          "output_type": "execute_result",
          "data": {
            "text/plain": [
              "str"
            ]
          },
          "metadata": {
            "tags": []
          },
          "execution_count": 10
        }
      ]
    },
    {
      "cell_type": "code",
      "metadata": {
        "colab": {
          "base_uri": "https://localhost:8080/"
        },
        "id": "AvDTjj2ZuFjE",
        "outputId": "f391bd5b-eb54-4898-e200-46ac77b0e079"
      },
      "source": [
        "b = True # Python의 예약어들은 대/소문자를 구분함.\n",
        "print(b)\n",
        "type(b)"
      ],
      "execution_count": 14,
      "outputs": [
        {
          "output_type": "stream",
          "text": [
            "True\n"
          ],
          "name": "stdout"
        },
        {
          "output_type": "execute_result",
          "data": {
            "text/plain": [
              "bool"
            ]
          },
          "metadata": {
            "tags": []
          },
          "execution_count": 14
        }
      ]
    },
    {
      "cell_type": "code",
      "metadata": {
        "colab": {
          "base_uri": "https://localhost:8080/"
        },
        "id": "vwBp3Ee_DaN1",
        "outputId": "f54d3488-9fa0-4ec2-a0e6-f53395e677f7"
      },
      "source": [
        "b = 5 > 1\n",
        "print(b, type(b))"
      ],
      "execution_count": 15,
      "outputs": [
        {
          "output_type": "stream",
          "text": [
            "True <class 'bool'>\n"
          ],
          "name": "stdout"
        }
      ]
    },
    {
      "cell_type": "markdown",
      "metadata": {
        "id": "lxZEEYerD6Nk"
      },
      "source": [
        "# 명시적 타입 변환(explicit type conversion)"
      ]
    },
    {
      "cell_type": "markdown",
      "metadata": {
        "id": "yeg_ei1jEkWs"
      },
      "source": [
        "\n",
        "*   `int(값)`: 값을 정수로 변환하는 함수\n",
        "*   `float(값)`: 값을 실수로 변환하는 함수\n",
        "*   `str(값)`: 값을 문자열로 변환하는 함수\n"
      ]
    },
    {
      "cell_type": "code",
      "metadata": {
        "colab": {
          "base_uri": "https://localhost:8080/"
        },
        "id": "GJBSmBIvEAYG",
        "outputId": "a7eb3664-c92d-4baa-fdd7-160d2517cc11"
      },
      "source": [
        "num_str = '123'\n",
        "type(num_str)"
      ],
      "execution_count": 16,
      "outputs": [
        {
          "output_type": "execute_result",
          "data": {
            "text/plain": [
              "str"
            ]
          },
          "metadata": {
            "tags": []
          },
          "execution_count": 16
        }
      ]
    },
    {
      "cell_type": "code",
      "metadata": {
        "colab": {
          "base_uri": "https://localhost:8080/"
        },
        "id": "VRBJojtgFooQ",
        "outputId": "644d15a4-db29-4f67-fb2d-41af4354875c"
      },
      "source": [
        "num_int = int(num_str)  # 문자열 '123'을 정수 123으로 변환 후 변수 num_int에 저장.\n",
        "type(num_int)"
      ],
      "execution_count": 17,
      "outputs": [
        {
          "output_type": "execute_result",
          "data": {
            "text/plain": [
              "int"
            ]
          },
          "metadata": {
            "tags": []
          },
          "execution_count": 17
        }
      ]
    },
    {
      "cell_type": "code",
      "metadata": {
        "colab": {
          "base_uri": "https://localhost:8080/"
        },
        "id": "UjhARvPfF_so",
        "outputId": "8210ce96-3309-4700-99a5-3e0bc5eb42f8"
      },
      "source": [
        "pi = float('3.141592')  # 문자열 '3.141592'를 실수로 변환 후 그 결과를 변수 pi에 저장.\n",
        "type(pi)"
      ],
      "execution_count": 19,
      "outputs": [
        {
          "output_type": "execute_result",
          "data": {
            "text/plain": [
              "float"
            ]
          },
          "metadata": {
            "tags": []
          },
          "execution_count": 19
        }
      ]
    },
    {
      "cell_type": "code",
      "metadata": {
        "id": "_YX2wdx6G_kP"
      },
      "source": [
        "# int('3.14')  #> 문자열 '3.14'는 정수로 변환 불가능.\n",
        "# int('1,000')  #> 문자열 '1,000'은 정수로 변환 불가능.\n",
        "# float('1,000.0')  #> 문자열 '1,000.0'은 실수로 변환 불가능"
      ],
      "execution_count": 25,
      "outputs": []
    },
    {
      "cell_type": "markdown",
      "metadata": {
        "id": "Tg2FkvuvIYJ1"
      },
      "source": [
        "# 산술 연산자"
      ]
    },
    {
      "cell_type": "markdown",
      "metadata": {
        "id": "OjsUXOdOIhyc"
      },
      "source": [
        "\n",
        "*   산술 연산자 종류: `+`, `-`, `*`, `/`, `**`, `//`, `%`\n",
        "*   산술 연산자는 숫자 타입(int, float)의 값 또는 변수에서 사용할 수 있음.\n"
      ]
    },
    {
      "cell_type": "code",
      "metadata": {
        "id": "JwmDUBjzIHMS"
      },
      "source": [
        "n1 = 10\n",
        "n2 = 3"
      ],
      "execution_count": 33,
      "outputs": []
    },
    {
      "cell_type": "code",
      "metadata": {
        "colab": {
          "base_uri": "https://localhost:8080/"
        },
        "id": "sElz9Fr8JXrX",
        "outputId": "386cf50c-2b88-4024-f07e-8d05e8178a37"
      },
      "source": [
        "print(f'{n1} + {n2} = {n1 + n2}')\n",
        "print(f'{n1} - {n2} = {n1 - n2}')\n",
        "print(f'{n1} x {n2} = {n1 * n2}')\n",
        "print(f'{n1} / {n2} = {n1 / n2}')\n",
        "print(f'{n1}의 {n2} 거듭제곱 = {n1 ** n2}')\n",
        "print(f'{n1}을 {n2}로 나눈 몫 = {n1 // n2}')\n",
        "print(f'{n1}을 {n2}로 나눈 나머지 = {n1 % n2}')"
      ],
      "execution_count": 34,
      "outputs": [
        {
          "output_type": "stream",
          "text": [
            "10 + 3 = 13\n",
            "10 - 3 = 7\n",
            "10 x 3 = 30\n",
            "10 / 3 = 3.3333333333333335\n",
            "10의 3 거듭제곱 = 1000\n",
            "10을 3로 나눈 몫 = 3\n",
            "10을 3로 나눈 나머지 = 1\n"
          ],
          "name": "stdout"
        }
      ]
    },
    {
      "cell_type": "code",
      "metadata": {
        "colab": {
          "base_uri": "https://localhost:8080/"
        },
        "id": "12-HWnbqPC19",
        "outputId": "7dadaee0-dcee-461e-c78e-63ab57be6918"
      },
      "source": [
        "print(10 ** -1)"
      ],
      "execution_count": 35,
      "outputs": [
        {
          "output_type": "stream",
          "text": [
            "0.1\n"
          ],
          "name": "stdout"
        }
      ]
    },
    {
      "cell_type": "markdown",
      "metadata": {
        "id": "1nOXkHN_PWz3"
      },
      "source": [
        "문자열(str)에서 사용할 수 있는 산술 연산자:\n",
        "*   `+`: concatenate. 문자열 이어 붙이기.\n",
        "*   `*`: replicate. 문자열 복제."
      ]
    },
    {
      "cell_type": "code",
      "metadata": {
        "colab": {
          "base_uri": "https://localhost:8080/",
          "height": 36
        },
        "id": "jePIHCEjQEjl",
        "outputId": "680178f4-fcc5-4cc4-b1cf-88c9158b57fd"
      },
      "source": [
        "'Hello' + 'Python'"
      ],
      "execution_count": 43,
      "outputs": [
        {
          "output_type": "execute_result",
          "data": {
            "application/vnd.google.colaboratory.intrinsic+json": {
              "type": "string"
            },
            "text/plain": [
              "'HelloPython'"
            ]
          },
          "metadata": {
            "tags": []
          },
          "execution_count": 43
        }
      ]
    },
    {
      "cell_type": "markdown",
      "metadata": {
        "id": "V67Y93nlQXFK"
      },
      "source": [
        "Colab 노트북의 코드 셀에서 가장 마지막 문장이 값 또는 변수(객체)이면, 그 객체의 값이 콘솔 창에 출력됨."
      ]
    },
    {
      "cell_type": "code",
      "metadata": {
        "colab": {
          "base_uri": "https://localhost:8080/",
          "height": 36
        },
        "id": "UBBebgruQIOn",
        "outputId": "c138a695-059b-4cbb-e97f-4ad3d3dbe249"
      },
      "source": [
        "'Hello' * 5"
      ],
      "execution_count": 44,
      "outputs": [
        {
          "output_type": "execute_result",
          "data": {
            "application/vnd.google.colaboratory.intrinsic+json": {
              "type": "string"
            },
            "text/plain": [
              "'HelloHelloHelloHelloHello'"
            ]
          },
          "metadata": {
            "tags": []
          },
          "execution_count": 44
        }
      ]
    },
    {
      "cell_type": "markdown",
      "metadata": {
        "id": "7pOigHwvShfm"
      },
      "source": [
        "bool 타입의 값들을 산술 연산을 하면, True는 1, False는 0으로 자동 변환(implicit type conversion)이 된 후 연산이 수행됨."
      ]
    },
    {
      "cell_type": "code",
      "metadata": {
        "colab": {
          "base_uri": "https://localhost:8080/"
        },
        "id": "5gx2XRNJSuD2",
        "outputId": "98a24049-9a03-4642-ed2e-e42b7bd8c94e"
      },
      "source": [
        "True + True"
      ],
      "execution_count": 45,
      "outputs": [
        {
          "output_type": "execute_result",
          "data": {
            "text/plain": [
              "2"
            ]
          },
          "metadata": {
            "tags": []
          },
          "execution_count": 45
        }
      ]
    },
    {
      "cell_type": "code",
      "metadata": {
        "colab": {
          "base_uri": "https://localhost:8080/"
        },
        "id": "M3PmG4sjTEFl",
        "outputId": "0cb526ae-a670-4a6a-dcd8-298598a39cb1"
      },
      "source": [
        "(True + False + True) / 3"
      ],
      "execution_count": 46,
      "outputs": [
        {
          "output_type": "execute_result",
          "data": {
            "text/plain": [
              "0.6666666666666666"
            ]
          },
          "metadata": {
            "tags": []
          },
          "execution_count": 46
        }
      ]
    },
    {
      "cell_type": "markdown",
      "metadata": {
        "id": "Iich4Yd2TiRN"
      },
      "source": [
        "# 비교 연산자와 논리 연산자"
      ]
    },
    {
      "cell_type": "markdown",
      "metadata": {
        "id": "cV8bMucgTrK1"
      },
      "source": [
        "\n",
        "*   비교 연산자: `==`, `!=`, `>`, `>=`, `<`, `<=`\n",
        "*   논리 연산자: `and`, `or`, `not`\n"
      ]
    },
    {
      "cell_type": "code",
      "metadata": {
        "id": "uv5nCVqbULkQ"
      },
      "source": [
        "x = 100"
      ],
      "execution_count": 47,
      "outputs": []
    },
    {
      "cell_type": "code",
      "metadata": {
        "colab": {
          "base_uri": "https://localhost:8080/"
        },
        "id": "2S3VjxiGUTN-",
        "outputId": "77255b5d-b780-449e-a485-88c7bb086e8f"
      },
      "source": [
        "print(x == 100)  # equal to\n",
        "print(x != 100)  # not equal to\n",
        "print(x > 100)  # greater than"
      ],
      "execution_count": 48,
      "outputs": [
        {
          "output_type": "stream",
          "text": [
            "True\n",
            "False\n",
            "False\n"
          ],
          "name": "stdout"
        }
      ]
    },
    {
      "cell_type": "code",
      "metadata": {
        "colab": {
          "base_uri": "https://localhost:8080/"
        },
        "id": "Ioqxhu8JU_y5",
        "outputId": "7c3e694e-6a1f-4dbf-ca23-e4889e06ea88"
      },
      "source": [
        "print((x > 50) and (x < 150))\n",
        "print((x > 100) and (x < 150))\n",
        "print((x > 100) or (x < 150))"
      ],
      "execution_count": 51,
      "outputs": [
        {
          "output_type": "stream",
          "text": [
            "True\n",
            "False\n",
            "True\n"
          ],
          "name": "stdout"
        }
      ]
    },
    {
      "cell_type": "markdown",
      "metadata": {
        "id": "3RpfNX4GWJ1e"
      },
      "source": [
        "# Exercise"
      ]
    },
    {
      "cell_type": "markdown",
      "metadata": {
        "id": "wePmCdTVWMpe"
      },
      "source": [
        "섭씨 온도를 입력 받아서 화씨 온도로 변환 후 출력하는 코드를 작성.\n",
        "\n",
        "```\n",
        "fahrenheit = celcius * 1.8 + 32\n",
        "```\n"
      ]
    },
    {
      "cell_type": "code",
      "metadata": {
        "colab": {
          "base_uri": "https://localhost:8080/"
        },
        "id": "sznaX2eqWLju",
        "outputId": "7b4c9a71-93bc-445b-dfe0-e09d41d363dd"
      },
      "source": [
        "# 섭씨 온도 입력\n",
        "celcius = float(input('섭씨 온도 입력>>> '))  #> 입력받은 문자열을 float 타입으로 변환 후 변수에 저장.\n",
        "# 섭씨 온도를 화씨 온도로 변환\n",
        "fahrenheit = celcius * 1.8 + 32\n",
        "# 화씨 온도를 출력\n",
        "print(fahrenheit)"
      ],
      "execution_count": 53,
      "outputs": [
        {
          "output_type": "stream",
          "text": [
            "섭씨 온도 입력>>> 32\n",
            "89.6\n"
          ],
          "name": "stdout"
        }
      ]
    }
  ]
}
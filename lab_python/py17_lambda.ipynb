{
  "nbformat": 4,
  "nbformat_minor": 0,
  "metadata": {
    "colab": {
      "name": "py17_lambda.ipynb",
      "provenance": [],
      "collapsed_sections": [],
      "authorship_tag": "ABX9TyNlQ9Th3PqMWUTxk0iDRn8f",
      "include_colab_link": true
    },
    "kernelspec": {
      "name": "python3",
      "display_name": "Python 3"
    },
    "language_info": {
      "name": "python"
    }
  },
  "cells": [
    {
      "cell_type": "markdown",
      "metadata": {
        "id": "view-in-github",
        "colab_type": "text"
      },
      "source": [
        "<a href=\"https://colab.research.google.com/github/JakeOh/202105_itw_bd26/blob/main/lab_python/py17_lambda.ipynb\" target=\"_parent\"><img src=\"https://colab.research.google.com/assets/colab-badge.svg\" alt=\"Open In Colab\"/></a>"
      ]
    },
    {
      "cell_type": "markdown",
      "metadata": {
        "id": "0kUR5F5ftIHx"
      },
      "source": [
        "# 1급 객체(first-class object)로서의 함수\n",
        "\n",
        "함수(function)는 객체(object)이다.\n",
        "*   함수는 변수에 할당할 수 있음.\n",
        "*   함수의 argument로 함수를 전달할 수 있음.\n",
        "*   함수의 return value가 함수가 될 수 있음. 함수는 함수를 반환할 수 있음.\n",
        "*   함수 내부에서 다른 함수를 정의(선언)할 수 있음."
      ]
    },
    {
      "cell_type": "code",
      "metadata": {
        "colab": {
          "base_uri": "https://localhost:8080/"
        },
        "id": "kZLzBq3Ts1nI",
        "outputId": "f10d2706-acdc-404f-a560-48c190a87083"
      },
      "source": [
        "x = 1  # 정수 1을 변수 x에 할당(저장)\n",
        "y = x  # 변수 x의 값을 변수 y에 할당\n",
        "print('x =', x)\n",
        "print('y =', y)"
      ],
      "execution_count": 1,
      "outputs": [
        {
          "output_type": "stream",
          "text": [
            "x = 1\n",
            "y = 1\n"
          ],
          "name": "stdout"
        }
      ]
    },
    {
      "cell_type": "code",
      "metadata": {
        "id": "U0-9O-YGwtx4"
      },
      "source": [
        "# 함수 정의(선언)\n",
        "def twice(x):\n",
        "    return 2 * x"
      ],
      "execution_count": 2,
      "outputs": []
    },
    {
      "cell_type": "code",
      "metadata": {
        "colab": {
          "base_uri": "https://localhost:8080/"
        },
        "id": "HYjtCtonw593",
        "outputId": "9811d8c8-b7d6-4c7b-8cf0-a008780fa2b9"
      },
      "source": [
        "result = twice(5)  # 함수 호출\n",
        "print('result =', result)"
      ],
      "execution_count": 3,
      "outputs": [
        {
          "output_type": "stream",
          "text": [
            "result = 10\n"
          ],
          "name": "stdout"
        }
      ]
    },
    {
      "cell_type": "code",
      "metadata": {
        "colab": {
          "base_uri": "https://localhost:8080/"
        },
        "id": "Lk_KZd6cxRUm",
        "outputId": "1d552c50-e016-4038-993a-7c4d13ffc44b"
      },
      "source": [
        "twice  # twice 객체를 콘솔창에 출력"
      ],
      "execution_count": 10,
      "outputs": [
        {
          "output_type": "execute_result",
          "data": {
            "text/plain": [
              "<function __main__.twice>"
            ]
          },
          "metadata": {
            "tags": []
          },
          "execution_count": 10
        }
      ]
    },
    {
      "cell_type": "code",
      "metadata": {
        "colab": {
          "base_uri": "https://localhost:8080/"
        },
        "id": "D3CBx_tTycP2",
        "outputId": "cca58d70-0770-4659-a5bb-7f1c7be26c04"
      },
      "source": [
        "double = twice  # 함수 객체는 변수에 할당할 수 있음.\n",
        "print(double)  # 변수 double은 함수 객체\n",
        "result = double(5)  # 변수 이름으로 함수를 호출\n",
        "print('result =', result)"
      ],
      "execution_count": 13,
      "outputs": [
        {
          "output_type": "stream",
          "text": [
            "<function twice at 0x7f3ae2f59320>\n",
            "result = 10\n"
          ],
          "name": "stdout"
        }
      ]
    },
    {
      "cell_type": "markdown",
      "metadata": {
        "id": "bV47VXdR9NqD"
      },
      "source": [
        "argument로 함수를 전달받는 함수 예제"
      ]
    },
    {
      "cell_type": "code",
      "metadata": {
        "id": "K2JOnqwi4omm"
      },
      "source": [
        "def calculator(x, y, fn):\n",
        "    \"\"\"\n",
        "    x, y: 숫자(int, float)\n",
        "    fn: 숫자 2개를 argument로 전달받고, 숫자를 리턴하는 함수\n",
        "    \"\"\"\n",
        "    result = fn(x, y)\n",
        "    return result"
      ],
      "execution_count": 14,
      "outputs": []
    },
    {
      "cell_type": "code",
      "metadata": {
        "id": "JISuG5di5FN_"
      },
      "source": [
        "def plus(x, y):\n",
        "    return x + y"
      ],
      "execution_count": 15,
      "outputs": []
    },
    {
      "cell_type": "code",
      "metadata": {
        "colab": {
          "base_uri": "https://localhost:8080/"
        },
        "id": "AfcHf5d-5nJd",
        "outputId": "a7094a35-0403-45a4-866c-32883ff865fb"
      },
      "source": [
        "plus(1, 2)"
      ],
      "execution_count": 16,
      "outputs": [
        {
          "output_type": "execute_result",
          "data": {
            "text/plain": [
              "3"
            ]
          },
          "metadata": {
            "tags": []
          },
          "execution_count": 16
        }
      ]
    },
    {
      "cell_type": "code",
      "metadata": {
        "colab": {
          "base_uri": "https://localhost:8080/"
        },
        "id": "VlcJHNUQ5pj9",
        "outputId": "a7b843e8-82a0-4d23-ba30-142c04411eee"
      },
      "source": [
        "calculator(1, 2, plus)"
      ],
      "execution_count": 17,
      "outputs": [
        {
          "output_type": "execute_result",
          "data": {
            "text/plain": [
              "3"
            ]
          },
          "metadata": {
            "tags": []
          },
          "execution_count": 17
        }
      ]
    },
    {
      "cell_type": "code",
      "metadata": {
        "id": "_zx5ZbDk5-m0"
      },
      "source": [
        "def minus(x, y):\n",
        "    return x - y"
      ],
      "execution_count": 18,
      "outputs": []
    },
    {
      "cell_type": "code",
      "metadata": {
        "colab": {
          "base_uri": "https://localhost:8080/"
        },
        "id": "0WxhGFV06Coc",
        "outputId": "a66cd3aa-69a2-4e35-ff57-72bc495d5c58"
      },
      "source": [
        "calculator(1, 2, minus)"
      ],
      "execution_count": 19,
      "outputs": [
        {
          "output_type": "execute_result",
          "data": {
            "text/plain": [
              "-1"
            ]
          },
          "metadata": {
            "tags": []
          },
          "execution_count": 19
        }
      ]
    },
    {
      "cell_type": "code",
      "metadata": {
        "id": "7LRcG6mZ8CLM"
      },
      "source": [
        "def greater(x, y):\n",
        "    if x > y:\n",
        "        return x\n",
        "    else:\n",
        "        return y"
      ],
      "execution_count": 20,
      "outputs": []
    },
    {
      "cell_type": "code",
      "metadata": {
        "colab": {
          "base_uri": "https://localhost:8080/"
        },
        "id": "TaEgMm0y8QT9",
        "outputId": "5c2e7146-c8b8-4d6c-bc41-919136b87433"
      },
      "source": [
        "calculator(1, 2, greater)"
      ],
      "execution_count": 21,
      "outputs": [
        {
          "output_type": "execute_result",
          "data": {
            "text/plain": [
              "2"
            ]
          },
          "metadata": {
            "tags": []
          },
          "execution_count": 21
        }
      ]
    },
    {
      "cell_type": "code",
      "metadata": {
        "colab": {
          "base_uri": "https://localhost:8080/"
        },
        "id": "P-jRF7TO87X-",
        "outputId": "282bba0c-4f1f-414f-c7ad-e580de014455"
      },
      "source": [
        "calculator(1, 2, max)"
      ],
      "execution_count": 22,
      "outputs": [
        {
          "output_type": "execute_result",
          "data": {
            "text/plain": [
              "2"
            ]
          },
          "metadata": {
            "tags": []
          },
          "execution_count": 22
        }
      ]
    },
    {
      "cell_type": "markdown",
      "metadata": {
        "id": "laB1fXQH9pt7"
      },
      "source": [
        "함수 내부에서 함수를 선언하고, 함수를 리턴하는 예제"
      ]
    },
    {
      "cell_type": "code",
      "metadata": {
        "id": "QsD4fvpS9vSM"
      },
      "source": [
        "def make_incrementor(n):\n",
        "    # 내부 함수(inner function), 지역 함수(local function): 함수 내부에서 정의된 함수\n",
        "    def add_n(x):\n",
        "        # 내부 함수는 외부 함수의 지역변수, 파라미터를 사용할 수 있음.\n",
        "        return x + n\n",
        "    \n",
        "    # make_incrementor 함수가 add_n 함수를 리턴\n",
        "    return add_n"
      ],
      "execution_count": 24,
      "outputs": []
    },
    {
      "cell_type": "code",
      "metadata": {
        "colab": {
          "base_uri": "https://localhost:8080/"
        },
        "id": "sNZLeooX_SVE",
        "outputId": "baea4bfe-b8f3-4520-9222-eb286bc67659"
      },
      "source": [
        "increase_by_2 = make_incrementor(2)\n",
        "print(increase_by_2)  #> make_incrementor()의 결과는 함수"
      ],
      "execution_count": 25,
      "outputs": [
        {
          "output_type": "stream",
          "text": [
            "<function make_incrementor.<locals>.add_n at 0x7f3ae2e897a0>\n"
          ],
          "name": "stdout"
        }
      ]
    },
    {
      "cell_type": "code",
      "metadata": {
        "colab": {
          "base_uri": "https://localhost:8080/"
        },
        "id": "utu_O2QbAIn1",
        "outputId": "c6fd0c1c-45b5-4537-934e-9f35ca48ad12"
      },
      "source": [
        "increase_by_2(10)  #> 함수 호출"
      ],
      "execution_count": 26,
      "outputs": [
        {
          "output_type": "execute_result",
          "data": {
            "text/plain": [
              "12"
            ]
          },
          "metadata": {
            "tags": []
          },
          "execution_count": 26
        }
      ]
    },
    {
      "cell_type": "code",
      "metadata": {
        "colab": {
          "base_uri": "https://localhost:8080/"
        },
        "id": "amfDlaV9A9Bs",
        "outputId": "197adcd7-490b-46fa-bb88-7f14b058a159"
      },
      "source": [
        "increase_by_10 = make_incrementor(10)\n",
        "increase_by_10(10)"
      ],
      "execution_count": 27,
      "outputs": [
        {
          "output_type": "execute_result",
          "data": {
            "text/plain": [
              "20"
            ]
          },
          "metadata": {
            "tags": []
          },
          "execution_count": 27
        }
      ]
    }
  ]
}
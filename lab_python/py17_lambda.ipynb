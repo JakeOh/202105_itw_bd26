{
  "nbformat": 4,
  "nbformat_minor": 0,
  "metadata": {
    "colab": {
      "name": "py17_lambda.ipynb",
      "provenance": [],
      "collapsed_sections": [],
      "authorship_tag": "ABX9TyNDl2sbQOOgEVvpXJ8OhMi9",
      "include_colab_link": true
    },
    "kernelspec": {
      "name": "python3",
      "display_name": "Python 3"
    },
    "language_info": {
      "name": "python"
    }
  },
  "cells": [
    {
      "cell_type": "markdown",
      "metadata": {
        "id": "view-in-github",
        "colab_type": "text"
      },
      "source": [
        "<a href=\"https://colab.research.google.com/github/JakeOh/202105_itw_bd26/blob/main/lab_python/py17_lambda.ipynb\" target=\"_parent\"><img src=\"https://colab.research.google.com/assets/colab-badge.svg\" alt=\"Open In Colab\"/></a>"
      ]
    },
    {
      "cell_type": "markdown",
      "metadata": {
        "id": "0kUR5F5ftIHx"
      },
      "source": [
        "# 1급 객체(first-class object)로서의 함수\n",
        "\n",
        "함수(function)는 객체(object)이다.\n",
        "*   함수는 변수에 할당할 수 있음.\n",
        "*   함수의 argument로 함수를 전달할 수 있음.\n",
        "*   함수의 return value가 함수가 될 수 있음. 함수는 함수를 반환할 수 있음.\n",
        "*   함수 내부에서 다른 함수를 정의(선언)할 수 있음."
      ]
    },
    {
      "cell_type": "code",
      "metadata": {
        "colab": {
          "base_uri": "https://localhost:8080/"
        },
        "id": "kZLzBq3Ts1nI",
        "outputId": "f10d2706-acdc-404f-a560-48c190a87083"
      },
      "source": [
        "x = 1  # 정수 1을 변수 x에 할당(저장)\n",
        "y = x  # 변수 x의 값을 변수 y에 할당\n",
        "print('x =', x)\n",
        "print('y =', y)"
      ],
      "execution_count": null,
      "outputs": [
        {
          "output_type": "stream",
          "text": [
            "x = 1\n",
            "y = 1\n"
          ],
          "name": "stdout"
        }
      ]
    },
    {
      "cell_type": "code",
      "metadata": {
        "id": "U0-9O-YGwtx4"
      },
      "source": [
        "# 함수 정의(선언)\n",
        "def twice(x):\n",
        "    return 2 * x"
      ],
      "execution_count": null,
      "outputs": []
    },
    {
      "cell_type": "code",
      "metadata": {
        "colab": {
          "base_uri": "https://localhost:8080/"
        },
        "id": "HYjtCtonw593",
        "outputId": "9811d8c8-b7d6-4c7b-8cf0-a008780fa2b9"
      },
      "source": [
        "result = twice(5)  # 함수 호출\n",
        "print('result =', result)"
      ],
      "execution_count": null,
      "outputs": [
        {
          "output_type": "stream",
          "text": [
            "result = 10\n"
          ],
          "name": "stdout"
        }
      ]
    },
    {
      "cell_type": "code",
      "metadata": {
        "colab": {
          "base_uri": "https://localhost:8080/"
        },
        "id": "Lk_KZd6cxRUm",
        "outputId": "1d552c50-e016-4038-993a-7c4d13ffc44b"
      },
      "source": [
        "twice  # twice 객체를 콘솔창에 출력"
      ],
      "execution_count": null,
      "outputs": [
        {
          "output_type": "execute_result",
          "data": {
            "text/plain": [
              "<function __main__.twice>"
            ]
          },
          "metadata": {
            "tags": []
          },
          "execution_count": 10
        }
      ]
    },
    {
      "cell_type": "code",
      "metadata": {
        "colab": {
          "base_uri": "https://localhost:8080/"
        },
        "id": "D3CBx_tTycP2",
        "outputId": "cca58d70-0770-4659-a5bb-7f1c7be26c04"
      },
      "source": [
        "double = twice  # 함수 객체는 변수에 할당할 수 있음.\n",
        "print(double)  # 변수 double은 함수 객체\n",
        "result = double(5)  # 변수 이름으로 함수를 호출\n",
        "print('result =', result)"
      ],
      "execution_count": null,
      "outputs": [
        {
          "output_type": "stream",
          "text": [
            "<function twice at 0x7f3ae2f59320>\n",
            "result = 10\n"
          ],
          "name": "stdout"
        }
      ]
    },
    {
      "cell_type": "markdown",
      "metadata": {
        "id": "bV47VXdR9NqD"
      },
      "source": [
        "argument로 함수를 전달받는 함수 예제"
      ]
    },
    {
      "cell_type": "code",
      "metadata": {
        "id": "K2JOnqwi4omm"
      },
      "source": [
        "def calculator(x, y, fn):\n",
        "    \"\"\"\n",
        "    x, y: 숫자(int, float)\n",
        "    fn: 숫자 2개를 argument로 전달받고, 숫자를 리턴하는 함수\n",
        "    \"\"\"\n",
        "    result = fn(x, y)\n",
        "    return result"
      ],
      "execution_count": null,
      "outputs": []
    },
    {
      "cell_type": "code",
      "metadata": {
        "id": "JISuG5di5FN_"
      },
      "source": [
        "def plus(x, y):\n",
        "    return x + y"
      ],
      "execution_count": null,
      "outputs": []
    },
    {
      "cell_type": "code",
      "metadata": {
        "colab": {
          "base_uri": "https://localhost:8080/"
        },
        "id": "AfcHf5d-5nJd",
        "outputId": "a7094a35-0403-45a4-866c-32883ff865fb"
      },
      "source": [
        "plus(1, 2)"
      ],
      "execution_count": null,
      "outputs": [
        {
          "output_type": "execute_result",
          "data": {
            "text/plain": [
              "3"
            ]
          },
          "metadata": {
            "tags": []
          },
          "execution_count": 16
        }
      ]
    },
    {
      "cell_type": "code",
      "metadata": {
        "colab": {
          "base_uri": "https://localhost:8080/"
        },
        "id": "VlcJHNUQ5pj9",
        "outputId": "a7b843e8-82a0-4d23-ba30-142c04411eee"
      },
      "source": [
        "calculator(1, 2, plus)"
      ],
      "execution_count": null,
      "outputs": [
        {
          "output_type": "execute_result",
          "data": {
            "text/plain": [
              "3"
            ]
          },
          "metadata": {
            "tags": []
          },
          "execution_count": 17
        }
      ]
    },
    {
      "cell_type": "code",
      "metadata": {
        "id": "_zx5ZbDk5-m0"
      },
      "source": [
        "def minus(x, y):\n",
        "    return x - y"
      ],
      "execution_count": null,
      "outputs": []
    },
    {
      "cell_type": "code",
      "metadata": {
        "colab": {
          "base_uri": "https://localhost:8080/"
        },
        "id": "0WxhGFV06Coc",
        "outputId": "a66cd3aa-69a2-4e35-ff57-72bc495d5c58"
      },
      "source": [
        "calculator(1, 2, minus)"
      ],
      "execution_count": null,
      "outputs": [
        {
          "output_type": "execute_result",
          "data": {
            "text/plain": [
              "-1"
            ]
          },
          "metadata": {
            "tags": []
          },
          "execution_count": 19
        }
      ]
    },
    {
      "cell_type": "code",
      "metadata": {
        "id": "7LRcG6mZ8CLM"
      },
      "source": [
        "def greater(x, y):\n",
        "    if x > y:\n",
        "        return x\n",
        "    else:\n",
        "        return y"
      ],
      "execution_count": null,
      "outputs": []
    },
    {
      "cell_type": "code",
      "metadata": {
        "colab": {
          "base_uri": "https://localhost:8080/"
        },
        "id": "TaEgMm0y8QT9",
        "outputId": "5c2e7146-c8b8-4d6c-bc41-919136b87433"
      },
      "source": [
        "calculator(1, 2, greater)"
      ],
      "execution_count": null,
      "outputs": [
        {
          "output_type": "execute_result",
          "data": {
            "text/plain": [
              "2"
            ]
          },
          "metadata": {
            "tags": []
          },
          "execution_count": 21
        }
      ]
    },
    {
      "cell_type": "code",
      "metadata": {
        "colab": {
          "base_uri": "https://localhost:8080/"
        },
        "id": "P-jRF7TO87X-",
        "outputId": "282bba0c-4f1f-414f-c7ad-e580de014455"
      },
      "source": [
        "calculator(1, 2, max)"
      ],
      "execution_count": null,
      "outputs": [
        {
          "output_type": "execute_result",
          "data": {
            "text/plain": [
              "2"
            ]
          },
          "metadata": {
            "tags": []
          },
          "execution_count": 22
        }
      ]
    },
    {
      "cell_type": "markdown",
      "metadata": {
        "id": "laB1fXQH9pt7"
      },
      "source": [
        "함수 내부에서 함수를 선언하고, 함수를 리턴하는 예제"
      ]
    },
    {
      "cell_type": "code",
      "metadata": {
        "id": "QsD4fvpS9vSM"
      },
      "source": [
        "def make_incrementor(n):\n",
        "    # 내부 함수(inner function), 지역 함수(local function): 함수 내부에서 정의된 함수\n",
        "    def add_n(x):\n",
        "        # 내부 함수는 외부 함수의 지역변수, 파라미터를 사용할 수 있음.\n",
        "        return x + n\n",
        "    \n",
        "    # make_incrementor 함수가 add_n 함수를 리턴\n",
        "    return add_n"
      ],
      "execution_count": null,
      "outputs": []
    },
    {
      "cell_type": "code",
      "metadata": {
        "colab": {
          "base_uri": "https://localhost:8080/"
        },
        "id": "sNZLeooX_SVE",
        "outputId": "baea4bfe-b8f3-4520-9222-eb286bc67659"
      },
      "source": [
        "increase_by_2 = make_incrementor(2)\n",
        "print(increase_by_2)  #> make_incrementor()의 결과는 함수"
      ],
      "execution_count": null,
      "outputs": [
        {
          "output_type": "stream",
          "text": [
            "<function make_incrementor.<locals>.add_n at 0x7f3ae2e897a0>\n"
          ],
          "name": "stdout"
        }
      ]
    },
    {
      "cell_type": "code",
      "metadata": {
        "colab": {
          "base_uri": "https://localhost:8080/"
        },
        "id": "utu_O2QbAIn1",
        "outputId": "c6fd0c1c-45b5-4537-934e-9f35ca48ad12"
      },
      "source": [
        "increase_by_2(10)  #> 함수 호출"
      ],
      "execution_count": null,
      "outputs": [
        {
          "output_type": "execute_result",
          "data": {
            "text/plain": [
              "12"
            ]
          },
          "metadata": {
            "tags": []
          },
          "execution_count": 26
        }
      ]
    },
    {
      "cell_type": "code",
      "metadata": {
        "colab": {
          "base_uri": "https://localhost:8080/"
        },
        "id": "amfDlaV9A9Bs",
        "outputId": "197adcd7-490b-46fa-bb88-7f14b058a159"
      },
      "source": [
        "increase_by_10 = make_incrementor(10)\n",
        "increase_by_10(10)"
      ],
      "execution_count": null,
      "outputs": [
        {
          "output_type": "execute_result",
          "data": {
            "text/plain": [
              "20"
            ]
          },
          "metadata": {
            "tags": []
          },
          "execution_count": 27
        }
      ]
    },
    {
      "cell_type": "markdown",
      "metadata": {
        "id": "E6PUg2kWH7aq"
      },
      "source": [
        "# 람다 표현식(Lambda expression)\n",
        "\n",
        "```\n",
        "lambda param1, param2, ...: expression\n",
        "```\n",
        "\n",
        "*   이름이 없는 함수(anonymous function)\n",
        "*   함수 이름 없이, 함수의 파라미터 선언과 반환 값 또는 반환 식(expression)으로 함수를 정의(선언)하는 방법.\n"
      ]
    },
    {
      "cell_type": "code",
      "metadata": {
        "id": "hm2WDU4oJdXa"
      },
      "source": [
        "plus_one = lambda x: x + 1  # argument x를 전달받아서 x + 1을 반환하는 함수"
      ],
      "execution_count": null,
      "outputs": []
    },
    {
      "cell_type": "code",
      "metadata": {
        "colab": {
          "base_uri": "https://localhost:8080/"
        },
        "id": "PJMnCMi7LOt6",
        "outputId": "5f89c397-9bb5-4a6c-983b-ee5a4877273d"
      },
      "source": [
        "plus_one(1)  # 함수 호출"
      ],
      "execution_count": null,
      "outputs": [
        {
          "output_type": "execute_result",
          "data": {
            "text/plain": [
              "2"
            ]
          },
          "metadata": {
            "tags": []
          },
          "execution_count": 29
        }
      ]
    },
    {
      "cell_type": "code",
      "metadata": {
        "colab": {
          "base_uri": "https://localhost:8080/"
        },
        "id": "HWk14l_RLUHp",
        "outputId": "2492157c-a9fb-460b-ce8f-7b1b0c741b30"
      },
      "source": [
        "plus_one(10)"
      ],
      "execution_count": null,
      "outputs": [
        {
          "output_type": "execute_result",
          "data": {
            "text/plain": [
              "11"
            ]
          },
          "metadata": {
            "tags": []
          },
          "execution_count": 30
        }
      ]
    },
    {
      "cell_type": "code",
      "metadata": {
        "id": "-UO6R8enLnvy"
      },
      "source": [
        "plus = lambda x, y: x + y  # argument x, y를 전달받아서 x + y를 리턴하는 함수"
      ],
      "execution_count": null,
      "outputs": []
    },
    {
      "cell_type": "code",
      "metadata": {
        "colab": {
          "base_uri": "https://localhost:8080/"
        },
        "id": "HKpLhahxMROa",
        "outputId": "a0eae26d-8430-4664-f75d-fc9307e2d698"
      },
      "source": [
        "plus(10, 100)"
      ],
      "execution_count": null,
      "outputs": [
        {
          "output_type": "execute_result",
          "data": {
            "text/plain": [
              "110"
            ]
          },
          "metadata": {
            "tags": []
          },
          "execution_count": 32
        }
      ]
    },
    {
      "cell_type": "code",
      "metadata": {
        "colab": {
          "base_uri": "https://localhost:8080/"
        },
        "id": "X2n4c_bxMXFI",
        "outputId": "4ebd06f4-cf03-4df4-9e61-18056cb69fd3"
      },
      "source": [
        "plus(1, 2)"
      ],
      "execution_count": null,
      "outputs": [
        {
          "output_type": "execute_result",
          "data": {
            "text/plain": [
              "3"
            ]
          },
          "metadata": {
            "tags": []
          },
          "execution_count": 33
        }
      ]
    },
    {
      "cell_type": "markdown",
      "metadata": {
        "id": "4SWoIK0CNz9B"
      },
      "source": [
        "lambda 표현식은 함수의 argument로 전달될 수 있음."
      ]
    },
    {
      "cell_type": "code",
      "metadata": {
        "colab": {
          "base_uri": "https://localhost:8080/"
        },
        "id": "ejbxZtCCMYgQ",
        "outputId": "73526d6a-8490-4221-f2f0-d493f6e54e8d"
      },
      "source": [
        "calculator(1, 2, lambda x, y: x + y)"
      ],
      "execution_count": null,
      "outputs": [
        {
          "output_type": "execute_result",
          "data": {
            "text/plain": [
              "3"
            ]
          },
          "metadata": {
            "tags": []
          },
          "execution_count": 34
        }
      ]
    },
    {
      "cell_type": "code",
      "metadata": {
        "colab": {
          "base_uri": "https://localhost:8080/"
        },
        "id": "7PbWnYMXOGQi",
        "outputId": "9317f20e-1955-46a5-e626-eec6b947a146"
      },
      "source": [
        "calculator(1, 2, lambda x, y: x - y)"
      ],
      "execution_count": null,
      "outputs": [
        {
          "output_type": "execute_result",
          "data": {
            "text/plain": [
              "-1"
            ]
          },
          "metadata": {
            "tags": []
          },
          "execution_count": 35
        }
      ]
    },
    {
      "cell_type": "code",
      "metadata": {
        "colab": {
          "base_uri": "https://localhost:8080/"
        },
        "id": "AZm7-k2Ahw-s",
        "outputId": "7e9c2462-be84-4685-f65d-1750c20df2e7"
      },
      "source": [
        "# calculator 함수에 나누기(/) 연산을 수행하는 lambda를 전달\n",
        "calculator(x=1, y=2, fn=lambda x, y: x / y)"
      ],
      "execution_count": null,
      "outputs": [
        {
          "output_type": "execute_result",
          "data": {
            "text/plain": [
              "0.5"
            ]
          },
          "metadata": {
            "tags": []
          },
          "execution_count": 36
        }
      ]
    },
    {
      "cell_type": "code",
      "metadata": {
        "colab": {
          "base_uri": "https://localhost:8080/"
        },
        "id": "TqqMi6A3h_0N",
        "outputId": "689ed716-5d79-4762-dae1-a2178392f28c"
      },
      "source": [
        "# calculator 함수에 곱하기(*) 연산을 수행하는 lambda를 전달\n",
        "calculator(x=12, y=12, fn=lambda x, y: x * y)"
      ],
      "execution_count": null,
      "outputs": [
        {
          "output_type": "execute_result",
          "data": {
            "text/plain": [
              "144"
            ]
          },
          "metadata": {
            "tags": []
          },
          "execution_count": 40
        }
      ]
    },
    {
      "cell_type": "code",
      "metadata": {
        "colab": {
          "base_uri": "https://localhost:8080/"
        },
        "id": "HLQ2db5oiKPE",
        "outputId": "45660cef-7168-41be-9d24-1da71c26d340"
      },
      "source": [
        "# calculator 함수에 x가 y보다 큰 지를 리턴하는 lambda를 전달\n",
        "calculator(3, 1, lambda x, y: x > y)"
      ],
      "execution_count": null,
      "outputs": [
        {
          "output_type": "execute_result",
          "data": {
            "text/plain": [
              "True"
            ]
          },
          "metadata": {
            "tags": []
          },
          "execution_count": 44
        }
      ]
    },
    {
      "cell_type": "code",
      "metadata": {
        "colab": {
          "base_uri": "https://localhost:8080/"
        },
        "id": "_q57D2zXlngX",
        "outputId": "d39983a5-ef5d-4e63-f5bb-c805e93d55dd"
      },
      "source": [
        "calculator(1, 3, lambda x, y: x > y)"
      ],
      "execution_count": null,
      "outputs": [
        {
          "output_type": "execute_result",
          "data": {
            "text/plain": [
              "False"
            ]
          },
          "metadata": {
            "tags": []
          },
          "execution_count": 45
        }
      ]
    },
    {
      "cell_type": "code",
      "metadata": {
        "colab": {
          "base_uri": "https://localhost:8080/"
        },
        "id": "hJDpNiHzl77T",
        "outputId": "8dec0484-edfc-4c81-906e-71bf5b3e3e4c"
      },
      "source": [
        "# x와 y 중에서 더 큰 수를 리턴\n",
        "calculator(1, 3, lambda x, y: max(x, y))"
      ],
      "execution_count": null,
      "outputs": [
        {
          "output_type": "execute_result",
          "data": {
            "text/plain": [
              "3"
            ]
          },
          "metadata": {
            "tags": []
          },
          "execution_count": 48
        }
      ]
    },
    {
      "cell_type": "code",
      "metadata": {
        "colab": {
          "base_uri": "https://localhost:8080/"
        },
        "id": "vQcRvEHvmJdK",
        "outputId": "5c1f46f4-9727-4739-fd78-9d31a7be306b"
      },
      "source": [
        "# if expression(표현식): 값1 if 조건식 else 값2\n",
        "calculator(10, 20, lambda x, y: x if x > y else y)"
      ],
      "execution_count": null,
      "outputs": [
        {
          "output_type": "execute_result",
          "data": {
            "text/plain": [
              "20"
            ]
          },
          "metadata": {
            "tags": []
          },
          "execution_count": 50
        }
      ]
    },
    {
      "cell_type": "markdown",
      "metadata": {
        "id": "-lYRg11Nn4TG"
      },
      "source": [
        "lambda 표현식 응용\n",
        "*   filtering\n",
        "    *   성별 컬럼에서 값이 'Male'인 데이터들만 선택\n",
        "*   mapping\n",
        "    *   성별 컬럼의 값이 'Male'이면 1, 'Female'이면 0을 매핑."
      ]
    },
    {
      "cell_type": "code",
      "metadata": {
        "id": "-FnDWkb7n6Xq"
      },
      "source": [
        "numbers = [1, -2, 3, -4, -5, 6, 7, -8]"
      ],
      "execution_count": null,
      "outputs": []
    },
    {
      "cell_type": "code",
      "metadata": {
        "colab": {
          "base_uri": "https://localhost:8080/"
        },
        "id": "6Nrpz1V0-RDA",
        "outputId": "8a067fe9-81b5-467a-f86c-bbe0b8342066"
      },
      "source": [
        "# numbers의 아이템들 중 양수들로 이루어진 리스트(numbers에서 양수들만 필터링)\n",
        "result = filter(lambda x: x > 0, numbers)\n",
        "list(result)  # 필터링된 결과들로 이루어진 리스트를 생성"
      ],
      "execution_count": null,
      "outputs": [
        {
          "output_type": "execute_result",
          "data": {
            "text/plain": [
              "[1, 3, 6, 7]"
            ]
          },
          "metadata": {
            "tags": []
          },
          "execution_count": 55
        }
      ]
    },
    {
      "cell_type": "code",
      "metadata": {
        "colab": {
          "base_uri": "https://localhost:8080/"
        },
        "id": "24A-b8_N--xJ",
        "outputId": "bb151fca-05f2-4a0e-855b-2da804508053"
      },
      "source": [
        "# numbers에서 음수들만 필터링\n",
        "result = filter(lambda x: x < 0, numbers)\n",
        "# 필터링된 결과를 리스트로 만듦.\n",
        "list(result)"
      ],
      "execution_count": null,
      "outputs": [
        {
          "output_type": "execute_result",
          "data": {
            "text/plain": [
              "[-2, -4, -5, -8]"
            ]
          },
          "metadata": {
            "tags": []
          },
          "execution_count": 56
        }
      ]
    },
    {
      "cell_type": "code",
      "metadata": {
        "colab": {
          "base_uri": "https://localhost:8080/"
        },
        "id": "evFM-5Zu_2mQ",
        "outputId": "ca3a38f9-2d2b-49fc-a3a9-9ca19887640a"
      },
      "source": [
        "def is_negative(x):\n",
        "    return x < 0\n",
        "\n",
        "result = filter(is_negative, numbers)\n",
        "list(result)"
      ],
      "execution_count": null,
      "outputs": [
        {
          "output_type": "execute_result",
          "data": {
            "text/plain": [
              "[-2, -4, -5, -8]"
            ]
          },
          "metadata": {
            "tags": []
          },
          "execution_count": 57
        }
      ]
    },
    {
      "cell_type": "code",
      "metadata": {
        "colab": {
          "base_uri": "https://localhost:8080/"
        },
        "id": "TneziDV9AsHR",
        "outputId": "39b4cb9f-f9b5-40a5-f32e-5d782627c673"
      },
      "source": [
        "# numbers에서 홀수만 필터링\n",
        "result = filter(lambda x: x % 2 != 0, numbers)\n",
        "list(result)"
      ],
      "execution_count": null,
      "outputs": [
        {
          "output_type": "execute_result",
          "data": {
            "text/plain": [
              "[1, 3, -5, 7]"
            ]
          },
          "metadata": {
            "tags": []
          },
          "execution_count": 58
        }
      ]
    },
    {
      "cell_type": "code",
      "metadata": {
        "colab": {
          "base_uri": "https://localhost:8080/"
        },
        "id": "PvjlYTcWCR6b",
        "outputId": "77c4af8e-ab70-4ca4-a98a-78ae58d24376"
      },
      "source": [
        "# numbers에서 짝수는 'even', 홀수는 'odd' 매핑\n",
        "result = map(lambda x: 'even' if x % 2 == 0 else 'odd', numbers)\n",
        "list(result)"
      ],
      "execution_count": null,
      "outputs": [
        {
          "output_type": "execute_result",
          "data": {
            "text/plain": [
              "['odd', 'even', 'odd', 'even', 'odd', 'even', 'odd', 'even']"
            ]
          },
          "metadata": {
            "tags": []
          },
          "execution_count": 64
        }
      ]
    },
    {
      "cell_type": "code",
      "metadata": {
        "colab": {
          "base_uri": "https://localhost:8080/"
        },
        "id": "P6xSq0ELD8Wd",
        "outputId": "12f1fa2a-9bf5-4ecf-8c94-0843ac0ee7cb"
      },
      "source": [
        "genders = ['male', 'female', 'female', 'male']\n",
        "# 'female' -> 0, 'male' -> 1 매핑\n",
        "result = map(lambda x: 0 if x == 'female' else 1, genders)\n",
        "# 매핑 결과를 리스트로 변환\n",
        "list(result)"
      ],
      "execution_count": null,
      "outputs": [
        {
          "output_type": "execute_result",
          "data": {
            "text/plain": [
              "[1, 0, 0, 1]"
            ]
          },
          "metadata": {
            "tags": []
          },
          "execution_count": 65
        }
      ]
    },
    {
      "cell_type": "code",
      "metadata": {
        "colab": {
          "base_uri": "https://localhost:8080/"
        },
        "id": "qJ7cpz9wETrP",
        "outputId": "f9012bab-db02-45ec-e7a1-57024b838068"
      },
      "source": [
        "print(numbers)\n",
        "\n",
        "# numbers의 양수들만 필터링된 리스트를 생성\n",
        "positives = []  # 양수들만 저장할 빈 리스트 생성\n",
        "for x in numbers:  # numbers의 원소들을 하나씩 꺼내면서 반복\n",
        "    if x > 0:  #  numbers의 원소가 양수이면\n",
        "        positives.append(x)  # 리스트에 추가\n",
        "\n",
        "print(positives)  # 결과 확인"
      ],
      "execution_count": null,
      "outputs": [
        {
          "output_type": "stream",
          "text": [
            "[1, -2, 3, -4, -5, 6, 7, -8]\n",
            "[1, 3, 6, 7]\n"
          ],
          "name": "stdout"
        }
      ]
    },
    {
      "cell_type": "code",
      "metadata": {
        "id": "ycJ73IUPFoiW",
        "colab": {
          "base_uri": "https://localhost:8080/"
        },
        "outputId": "a1d041c7-04e7-496b-8f57-3b267e4ea71a"
      },
      "source": [
        "# numbers의 음수들만 필터링된 리스트를 생성\n",
        "print(numbers)\n",
        "negatives = [x for x in numbers if x < 0]\n",
        "print(negatives)"
      ],
      "execution_count": 68,
      "outputs": [
        {
          "output_type": "stream",
          "text": [
            "[1, -2, 3, -4, -5, 6, 7, -8]\n",
            "[-2, -4, -5, -8]\n"
          ],
          "name": "stdout"
        }
      ]
    },
    {
      "cell_type": "markdown",
      "metadata": {
        "id": "Mx8Pu25sKUZr"
      },
      "source": [
        "filter() 함수 map() 함수를 직접 구현"
      ]
    },
    {
      "cell_type": "code",
      "metadata": {
        "id": "NsT7R-iEGNhm"
      },
      "source": [
        "def my_filter(iterable, fn):\n",
        "    \"\"\"\n",
        "    iterable: 리스트.\n",
        "    fn: 리스트 iterable의 원소 하나를 argument로 전달받아서 True 또는 False를 리턴하는 함수.\n",
        "    리스트 iterable의 원소들 중에서 함수 fn의 결과가 True가 되는 원소들로 이루어진 리스트를 리턴.\n",
        "    \"\"\"\n",
        "    result = []  # 필터링된 결과를 저장할 빈 리스트\n",
        "    for x in iterable:  # 리스트의 원소들을 하나씩 꺼내면서 반복\n",
        "        if fn(x):  # 리스트의 원소를 argument로 전달한 함수의 리턴 결과가 True이면(필터링 조건을 만족하면)\n",
        "            result.append(x)  # 결과 리스트에 추가\n",
        "\n",
        "    return result"
      ],
      "execution_count": 69,
      "outputs": []
    },
    {
      "cell_type": "code",
      "metadata": {
        "colab": {
          "base_uri": "https://localhost:8080/"
        },
        "id": "B6xjbDfINKI0",
        "outputId": "b2dd9c71-18d7-49ed-e94e-f14226085210"
      },
      "source": [
        "print(numbers)\n",
        "# numbers에서 양수들만 필터링\n",
        "my_filter(numbers, lambda x: x > 0)"
      ],
      "execution_count": 76,
      "outputs": [
        {
          "output_type": "stream",
          "text": [
            "[1, -2, 3, -4, -5, 6, 7, -8]\n"
          ],
          "name": "stdout"
        },
        {
          "output_type": "execute_result",
          "data": {
            "text/plain": [
              "[1, 3, 6, 7]"
            ]
          },
          "metadata": {
            "tags": []
          },
          "execution_count": 76
        }
      ]
    },
    {
      "cell_type": "code",
      "metadata": {
        "colab": {
          "base_uri": "https://localhost:8080/"
        },
        "id": "FAbq-QZLOlmi",
        "outputId": "75a5b9f4-8e7b-4919-a6e7-9bebd35c43b8"
      },
      "source": [
        "languages = ['Python', 'R', 'SQL', 'Java', 'JavaScript', 'HTML', 'C/C++']\n",
        "# languages에서 5글자 이상인 원소들을 필터링\n",
        "my_filter(languages, lambda x: len(x) >= 5)"
      ],
      "execution_count": 71,
      "outputs": [
        {
          "output_type": "execute_result",
          "data": {
            "text/plain": [
              "['Python', 'JavaScript', 'C/C++']"
            ]
          },
          "metadata": {
            "tags": []
          },
          "execution_count": 71
        }
      ]
    },
    {
      "cell_type": "code",
      "metadata": {
        "colab": {
          "base_uri": "https://localhost:8080/"
        },
        "id": "IZTEfZhUPxcc",
        "outputId": "d4b655b1-19d6-4727-a640-fce5a807a5dd"
      },
      "source": [
        "genders = ['male', 'female', 'female', 'male', 'female']\n",
        "# genders에서 'male'만 필터링\n",
        "my_filter(genders, lambda x: x == 'male')"
      ],
      "execution_count": 72,
      "outputs": [
        {
          "output_type": "execute_result",
          "data": {
            "text/plain": [
              "['male', 'male']"
            ]
          },
          "metadata": {
            "tags": []
          },
          "execution_count": 72
        }
      ]
    },
    {
      "cell_type": "code",
      "metadata": {
        "colab": {
          "base_uri": "https://localhost:8080/"
        },
        "id": "Gr5MgFs3QYgh",
        "outputId": "5646f07b-c87b-47b8-acb3-9d95610d3a86"
      },
      "source": [
        "ages = [16, 19, 20, 35, 55]\n",
        "# ages에서 미성년(나이가 20 미만)을 필터링\n",
        "my_filter(ages, lambda x: x < 20)"
      ],
      "execution_count": 73,
      "outputs": [
        {
          "output_type": "execute_result",
          "data": {
            "text/plain": [
              "[16, 19]"
            ]
          },
          "metadata": {
            "tags": []
          },
          "execution_count": 73
        }
      ]
    },
    {
      "cell_type": "code",
      "metadata": {
        "id": "ircdzkUHR-bx"
      },
      "source": [
        "def my_mapper(iterable, fn):\n",
        "    \"\"\"\n",
        "    iterable: 리스트.\n",
        "    fn: argument가 1개이고 리턴 값이 있는 함수.\n",
        "    iterable의 원소들을 fn의 argument로 전달해서 리턴된 값들로 이루어진 리스트를 반환.\n",
        "    \"\"\"\n",
        "    result = [fn(x) for x in iterable]\n",
        "    return result"
      ],
      "execution_count": 77,
      "outputs": []
    },
    {
      "cell_type": "code",
      "metadata": {
        "colab": {
          "base_uri": "https://localhost:8080/"
        },
        "id": "VDr7sQGVTCYU",
        "outputId": "750d8ffd-6189-44d5-8e53-2c1e8e801f16"
      },
      "source": [
        "print(numbers)\n",
        "# numbers의 원소들을 짝수이면 'even', 홀수이면 'odd' 매핑\n",
        "my_mapper(numbers, lambda x: 'even' if x % 2 == 0 else 'odd')"
      ],
      "execution_count": 79,
      "outputs": [
        {
          "output_type": "stream",
          "text": [
            "[1, -2, 3, -4, -5, 6, 7, -8]\n"
          ],
          "name": "stdout"
        },
        {
          "output_type": "execute_result",
          "data": {
            "text/plain": [
              "['odd', 'even', 'odd', 'even', 'odd', 'even', 'odd', 'even']"
            ]
          },
          "metadata": {
            "tags": []
          },
          "execution_count": 79
        }
      ]
    },
    {
      "cell_type": "code",
      "metadata": {
        "colab": {
          "base_uri": "https://localhost:8080/"
        },
        "id": "lIFKPmGOUjMP",
        "outputId": "9ed816fd-5fc2-4036-a67b-626a55df7da8"
      },
      "source": [
        "print(languages)\n",
        "# languages의 글자수로 이루어진 리스트\n",
        "my_mapper(languages, lambda x: len(x))"
      ],
      "execution_count": 81,
      "outputs": [
        {
          "output_type": "stream",
          "text": [
            "['Python', 'R', 'SQL', 'Java', 'JavaScript', 'HTML', 'C/C++']\n"
          ],
          "name": "stdout"
        },
        {
          "output_type": "execute_result",
          "data": {
            "text/plain": [
              "[6, 1, 3, 4, 10, 4, 5]"
            ]
          },
          "metadata": {
            "tags": []
          },
          "execution_count": 81
        }
      ]
    },
    {
      "cell_type": "code",
      "metadata": {
        "colab": {
          "base_uri": "https://localhost:8080/"
        },
        "id": "jAbE36LBVA8h",
        "outputId": "454f0d33-7db1-4fba-b41a-83b7be87fb1d"
      },
      "source": [
        "print(genders)\n",
        "# female -> 0, male -> 1\n",
        "my_mapper(genders, lambda x: 0 if x == 'female' else 1)"
      ],
      "execution_count": 84,
      "outputs": [
        {
          "output_type": "stream",
          "text": [
            "['male', 'female', 'female', 'male', 'female']\n"
          ],
          "name": "stdout"
        },
        {
          "output_type": "execute_result",
          "data": {
            "text/plain": [
              "[1, 0, 0, 1, 0]"
            ]
          },
          "metadata": {
            "tags": []
          },
          "execution_count": 84
        }
      ]
    }
  ]
}
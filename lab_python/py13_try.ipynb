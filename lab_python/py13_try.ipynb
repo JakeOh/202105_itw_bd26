{
  "nbformat": 4,
  "nbformat_minor": 0,
  "metadata": {
    "colab": {
      "name": "py13_try.ipynb",
      "provenance": [],
      "collapsed_sections": [],
      "authorship_tag": "ABX9TyNTVQuHFzTIK3tR0CWJDT0O",
      "include_colab_link": true
    },
    "kernelspec": {
      "name": "python3",
      "display_name": "Python 3"
    },
    "language_info": {
      "name": "python"
    }
  },
  "cells": [
    {
      "cell_type": "markdown",
      "metadata": {
        "id": "view-in-github",
        "colab_type": "text"
      },
      "source": [
        "<a href=\"https://colab.research.google.com/github/JakeOh/202105_itw_bd26/blob/main/lab_python/py13_try.ipynb\" target=\"_parent\"><img src=\"https://colab.research.google.com/assets/colab-badge.svg\" alt=\"Open In Colab\"/></a>"
      ]
    },
    {
      "cell_type": "markdown",
      "metadata": {
        "id": "XzR4cv-WhY8z"
      },
      "source": [
        "# 예외(exception), 오류(error) 종류"
      ]
    },
    {
      "cell_type": "code",
      "metadata": {
        "colab": {
          "base_uri": "https://localhost:8080/"
        },
        "id": "1aHMFjRChFoy",
        "outputId": "f7daa73c-9e5a-46b5-a89e-6fd72043e40a"
      },
      "source": [
        "# prnit('Hello')  #> NameError: 사용하려는 함수 또는 변수 이름이 정의되지 않은 경우\n",
        "print('Hello')"
      ],
      "execution_count": 2,
      "outputs": [
        {
          "output_type": "stream",
          "text": [
            "Hello\n"
          ],
          "name": "stdout"
        }
      ]
    },
    {
      "cell_type": "code",
      "metadata": {
        "id": "1L5Vh4i4iOa7"
      },
      "source": [
        "# x += 1  #> NameError\n",
        "x = 0\n",
        "x += 1"
      ],
      "execution_count": 4,
      "outputs": []
    },
    {
      "cell_type": "code",
      "metadata": {
        "id": "8-WLntUZio0S"
      },
      "source": [
        "# x = int('100.')  #> ValueError: 잘못된 값이 사용된 경우(함수 argument로 전달된 경우)\n",
        "x = int('100')"
      ],
      "execution_count": 6,
      "outputs": []
    },
    {
      "cell_type": "code",
      "metadata": {
        "colab": {
          "base_uri": "https://localhost:8080/"
        },
        "id": "4Li159m8jSHd",
        "outputId": "74cdbfe8-1a81-4079-ab8e-8bdc799a0594"
      },
      "source": [
        "# 100 + '200'  #> TypeError: 잘못된 타입의 값이 사용된 경우\n",
        "print(100 + 200)\n",
        "print('100' + '200')"
      ],
      "execution_count": 10,
      "outputs": [
        {
          "output_type": "stream",
          "text": [
            "300\n",
            "100200\n"
          ],
          "name": "stdout"
        }
      ]
    },
    {
      "cell_type": "code",
      "metadata": {
        "colab": {
          "base_uri": "https://localhost:8080/"
        },
        "id": "xiKaEHrTkGh8",
        "outputId": "580cc8a9-fbbb-401f-c1aa-ee3ba21b22fe"
      },
      "source": [
        "numbers = [1, 2, 3]\n",
        "# print(numbers[3])  #> IndexError: 리스트의 인덱스가 범위를 벗어나는 경우\n",
        "print(numbers[2])"
      ],
      "execution_count": 12,
      "outputs": [
        {
          "output_type": "stream",
          "text": [
            "3\n"
          ],
          "name": "stdout"
        }
      ]
    },
    {
      "cell_type": "code",
      "metadata": {
        "colab": {
          "base_uri": "https://localhost:8080/"
        },
        "id": "qn3ZZ4EKktgr",
        "outputId": "6f543cef-50ff-4431-eb79-acd7cc2d933c"
      },
      "source": [
        "# 123 / 0  #> ZeroDivisionError: 0으로 나누려고 할 때\n",
        "123 / 0.001"
      ],
      "execution_count": 14,
      "outputs": [
        {
          "output_type": "execute_result",
          "data": {
            "text/plain": [
              "123000.0"
            ]
          },
          "metadata": {
            "tags": []
          },
          "execution_count": 14
        }
      ]
    },
    {
      "cell_type": "markdown",
      "metadata": {
        "id": "pS1bz0hMoxkN"
      },
      "source": [
        "# try-except 구문"
      ]
    },
    {
      "cell_type": "markdown",
      "metadata": {
        "id": "eCndXyEgpD1D"
      },
      "source": [
        "프로그램 실행 중에 오류(예외)가 발생하는 경우 해결 방법:\n",
        "\n",
        "*   예외가 발생한 위치와 원인을 파악해서 예외가 발생하지 않도록 코드 수정.\n",
        "*   오류가 발생하더라도 프로그램이 (비정상적으로) 종료되지 않고 계속 실행될 수 있도록 처리\n",
        "\n",
        "```\n",
        "try:\n",
        "    실행할 코드들(블록)\n",
        "except [에러 이름 [as 별명]]:\n",
        "    에러가 발생했을 때 실행할 문장들(블록)\n",
        "[else:\n",
        "    try 블록이 에러없이 정상적으로 모두 실행됐을 때 실행할 문장들]\n",
        "[finally:\n",
        "    try 블록 실행중 에러 발생 여부와 상관없이 항상 실행할 문장들]\n",
        "```\n"
      ]
    },
    {
      "cell_type": "code",
      "metadata": {
        "colab": {
          "base_uri": "https://localhost:8080/"
        },
        "id": "QMwJedLeo2FO",
        "outputId": "f64547d1-8d30-426a-8f7a-5494585c4511"
      },
      "source": [
        "try:\n",
        "    x = float(input('숫자 x 입력>>> '))\n",
        "    y = float(input('숫자 y 입력>>> '))\n",
        "    print(f'{x} + {y} = {x + y}')\n",
        "    print(f'{x} - {y} = {x - y}')\n",
        "    print(f'{x} x {y} = {x * y}')\n",
        "    print(f'{x} / {y} = {x / y}')\n",
        "except:  # 모든 에러를 처리\n",
        "    print('오류 발생')"
      ],
      "execution_count": 25,
      "outputs": [
        {
          "output_type": "stream",
          "text": [
            "숫자 x 입력>>> 1\n",
            "숫자 y 입력>>> 0\n",
            "1.0 + 0.0 = 1.0\n",
            "1.0 - 0.0 = 1.0\n",
            "1.0 x 0.0 = 0.0\n",
            "오류 발생\n"
          ],
          "name": "stdout"
        }
      ]
    },
    {
      "cell_type": "code",
      "metadata": {
        "colab": {
          "base_uri": "https://localhost:8080/",
          "height": 348
        },
        "id": "bSFO3QjAudte",
        "outputId": "8b946d91-6266-4ea6-9ff5-4889198ae2e0"
      },
      "source": [
        "try:\n",
        "    x = float(input('숫자 x 입력>>> '))\n",
        "    y = float(input('숫자 y 입력>>> '))\n",
        "    print(f'{x} + {y} = {x + y}')\n",
        "    print(f'{x} - {y} = {x - y}')\n",
        "    print(f'{x} x {y} = {x * y}')\n",
        "    print(f'{x} / {y} = {x / y}')\n",
        "except ValueError:  # ValueError 오류만 처리\n",
        "    print('ValueError가 발생')"
      ],
      "execution_count": 24,
      "outputs": [
        {
          "output_type": "stream",
          "text": [
            "숫자 x 입력>>> 1\n",
            "숫자 y 입력>>> 0\n",
            "1.0 + 0.0 = 1.0\n",
            "1.0 - 0.0 = 1.0\n",
            "1.0 x 0.0 = 0.0\n"
          ],
          "name": "stdout"
        },
        {
          "output_type": "error",
          "ename": "ZeroDivisionError",
          "evalue": "ignored",
          "traceback": [
            "\u001b[0;31m---------------------------------------------------------------------------\u001b[0m",
            "\u001b[0;31mZeroDivisionError\u001b[0m                         Traceback (most recent call last)",
            "\u001b[0;32m<ipython-input-24-25f91492b99f>\u001b[0m in \u001b[0;36m<module>\u001b[0;34m()\u001b[0m\n\u001b[1;32m      5\u001b[0m     \u001b[0mprint\u001b[0m\u001b[0;34m(\u001b[0m\u001b[0;34mf'{x} - {y} = {x - y}'\u001b[0m\u001b[0;34m)\u001b[0m\u001b[0;34m\u001b[0m\u001b[0;34m\u001b[0m\u001b[0m\n\u001b[1;32m      6\u001b[0m     \u001b[0mprint\u001b[0m\u001b[0;34m(\u001b[0m\u001b[0;34mf'{x} x {y} = {x * y}'\u001b[0m\u001b[0;34m)\u001b[0m\u001b[0;34m\u001b[0m\u001b[0;34m\u001b[0m\u001b[0m\n\u001b[0;32m----> 7\u001b[0;31m     \u001b[0mprint\u001b[0m\u001b[0;34m(\u001b[0m\u001b[0;34mf'{x} / {y} = {x / y}'\u001b[0m\u001b[0;34m)\u001b[0m\u001b[0;34m\u001b[0m\u001b[0;34m\u001b[0m\u001b[0m\n\u001b[0m\u001b[1;32m      8\u001b[0m \u001b[0;32mexcept\u001b[0m \u001b[0mValueError\u001b[0m\u001b[0;34m:\u001b[0m\u001b[0;34m\u001b[0m\u001b[0;34m\u001b[0m\u001b[0m\n\u001b[1;32m      9\u001b[0m     \u001b[0mprint\u001b[0m\u001b[0;34m(\u001b[0m\u001b[0;34m'ValueError가 발생'\u001b[0m\u001b[0;34m)\u001b[0m\u001b[0;34m\u001b[0m\u001b[0;34m\u001b[0m\u001b[0m\n",
            "\u001b[0;31mZeroDivisionError\u001b[0m: float division by zero"
          ]
        }
      ]
    },
    {
      "cell_type": "code",
      "metadata": {
        "colab": {
          "base_uri": "https://localhost:8080/"
        },
        "id": "SpIGtYaTxSB3",
        "outputId": "3f21de1a-4c8c-4fbb-f577-ac57d12fec36"
      },
      "source": [
        "try:\n",
        "    x = float(input('숫자 x 입력>>> '))\n",
        "    y = float(input('숫자 y 입력>>> '))\n",
        "    print(f'{x} + {y} = {x + y}')\n",
        "    print(f'{x} - {y} = {x - y}')\n",
        "    print(f'{x} x {y} = {x * y}')\n",
        "    print(f'{x} / {y} = {x / y}')\n",
        "except ValueError:\n",
        "    print('입력값은 숫자여야 합니다!')\n",
        "except ZeroDivisionError:\n",
        "    print('0으로는 나눌 수 없습니다.')"
      ],
      "execution_count": 27,
      "outputs": [
        {
          "output_type": "stream",
          "text": [
            "숫자 x 입력>>> 1\n",
            "숫자 y 입력>>> 0\n",
            "1.0 + 0.0 = 1.0\n",
            "1.0 - 0.0 = 1.0\n",
            "1.0 x 0.0 = 0.0\n",
            "0으로는 나눌 수 없습니다.\n"
          ],
          "name": "stdout"
        }
      ]
    },
    {
      "cell_type": "code",
      "metadata": {
        "colab": {
          "base_uri": "https://localhost:8080/"
        },
        "id": "MZku_U-HF9sD",
        "outputId": "eb2ed4af-7820-423b-a41b-0313490e0f46"
      },
      "source": [
        "try:\n",
        "    n = int(input('정수 입력>>> '))\n",
        "    print('n =', n)\n",
        "    print('[1] try 구문 끝')\n",
        "except ValueError as e:  # ValueError가 발생했을 때\n",
        "    print('[2]', e)\n",
        "else:  # 오류가 발생하지 않았을 때\n",
        "    print('[3] try에서 에러가 발생하지 않은 경우')\n",
        "finally:  # 항상\n",
        "    print('[4] finally')"
      ],
      "execution_count": 29,
      "outputs": [
        {
          "output_type": "stream",
          "text": [
            "정수 입력>>> 1.23\n",
            "[2] invalid literal for int() with base 10: '1.23'\n",
            "[4] finally\n"
          ],
          "name": "stdout"
        }
      ]
    },
    {
      "cell_type": "markdown",
      "metadata": {
        "id": "9C90HPR4JD8m"
      },
      "source": [
        "# try-except 응용"
      ]
    },
    {
      "cell_type": "markdown",
      "metadata": {
        "id": "fvTa4AYPJM2y"
      },
      "source": [
        "word counting"
      ]
    },
    {
      "cell_type": "code",
      "metadata": {
        "colab": {
          "base_uri": "https://localhost:8080/"
        },
        "id": "ymJsvaJkJGlj",
        "outputId": "588cf7df-b387-40ab-bdcd-fef36e5b4347"
      },
      "source": [
        "words = ['one', 'two', 'two', 'three', 'three', 'three']\n",
        "word_counts = {}  # empty dict\n",
        "for w in words:\n",
        "    try:\n",
        "        word_counts[w] += 1  # word_counts[w] = word_counts[w] + 1\n",
        "    except:\n",
        "        word_counts[w] = 1\n",
        "\n",
        "print(word_counts)"
      ],
      "execution_count": 32,
      "outputs": [
        {
          "output_type": "stream",
          "text": [
            "{'one': 1, 'two': 2, 'three': 3}\n"
          ],
          "name": "stdout"
        }
      ]
    },
    {
      "cell_type": "markdown",
      "metadata": {
        "id": "BpES5fAMK4-M"
      },
      "source": [
        "정수를 입력받고 변수에 저장, 출력"
      ]
    },
    {
      "cell_type": "code",
      "metadata": {
        "colab": {
          "base_uri": "https://localhost:8080/"
        },
        "id": "S-Tam7_3K-qd",
        "outputId": "e7042c97-d7d0-462d-ee45-66aa0fa6cee7"
      },
      "source": [
        "while True:  # 무한 반복문\n",
        "    try:\n",
        "        n = int(input('정수 입력>>> '))\n",
        "        print('n =', n)\n",
        "        break  # while 반복문 종료\n",
        "    except:\n",
        "        print('입력값은 정수여야 합니다!')"
      ],
      "execution_count": 39,
      "outputs": [
        {
          "output_type": "stream",
          "text": [
            "정수 입력>>> a\n",
            "입력값은 정수여야 합니다!\n",
            "정수 입력>>> ab\n",
            "입력값은 정수여야 합니다!\n",
            "정수 입력>>> abc\n",
            "입력값은 정수여야 합니다!\n",
            "정수 입력>>> bccc\n",
            "입력값은 정수여야 합니다!\n",
            "정수 입력>>> 100\n",
            "n = 100\n"
          ],
          "name": "stdout"
        }
      ]
    },
    {
      "cell_type": "code",
      "metadata": {
        "colab": {
          "base_uri": "https://localhost:8080/"
        },
        "id": "1S3QUGd0OSUm",
        "outputId": "2e931ffe-b276-4b8c-d6f6-b1e3e278d3ea"
      },
      "source": [
        "while True:  # 무한 반복문\n",
        "    try:  # 정수 입력 시도\n",
        "        n = int(input('정수 입력>>> '))\n",
        "    except:  # 에러가 발생한 경우\n",
        "        print('입력값은 정수여야 합니다!')\n",
        "    else:  # 에러가 발생하지 않은 경우\n",
        "        print('n =', n)\n",
        "        break  # 무한 반복문 종료"
      ],
      "execution_count": 41,
      "outputs": [
        {
          "output_type": "stream",
          "text": [
            "정수 입력>>> ㅁ\n",
            "입력값은 정수여야 합니다!\n",
            "정수 입력>>> 1\n",
            "n = 1\n"
          ],
          "name": "stdout"
        }
      ]
    },
    {
      "cell_type": "markdown",
      "metadata": {
        "id": "TZCtaD9_SeC8"
      },
      "source": [
        "# 사용자 정의 에러 생성"
      ]
    },
    {
      "cell_type": "code",
      "metadata": {
        "colab": {
          "base_uri": "https://localhost:8080/"
        },
        "id": "cCJGbmTjSh1-",
        "outputId": "8a984537-5da4-4288-ae40-b2d9cda99de0"
      },
      "source": [
        "try:\n",
        "    age = int(input('나이 입력>>> '))\n",
        "    if age < 0:  # 입력받은 값이 0보다 작으면\n",
        "        raise ValueError('나이는 0보다 크거나 같아야 합니다!')\n",
        "    print('나이:', age)\n",
        "except ValueError as e:\n",
        "    print(e)"
      ],
      "execution_count": 48,
      "outputs": [
        {
          "output_type": "stream",
          "text": [
            "나이 입력>>> 16\n",
            "나이: 16\n"
          ],
          "name": "stdout"
        }
      ]
    },
    {
      "cell_type": "code",
      "metadata": {
        "id": "UxL7qkLRTzT2"
      },
      "source": [
        ""
      ],
      "execution_count": null,
      "outputs": []
    }
  ]
}
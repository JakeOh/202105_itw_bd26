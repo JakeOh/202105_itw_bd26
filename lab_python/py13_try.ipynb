{
  "nbformat": 4,
  "nbformat_minor": 0,
  "metadata": {
    "colab": {
      "name": "py13_try.ipynb",
      "provenance": [],
      "collapsed_sections": [],
      "authorship_tag": "ABX9TyNbFy/Gmqr4WEY7Y/OuJL37",
      "include_colab_link": true
    },
    "kernelspec": {
      "name": "python3",
      "display_name": "Python 3"
    },
    "language_info": {
      "name": "python"
    }
  },
  "cells": [
    {
      "cell_type": "markdown",
      "metadata": {
        "id": "view-in-github",
        "colab_type": "text"
      },
      "source": [
        "<a href=\"https://colab.research.google.com/github/JakeOh/202105_itw_bd26/blob/main/lab_python/py13_try.ipynb\" target=\"_parent\"><img src=\"https://colab.research.google.com/assets/colab-badge.svg\" alt=\"Open In Colab\"/></a>"
      ]
    },
    {
      "cell_type": "markdown",
      "metadata": {
        "id": "XzR4cv-WhY8z"
      },
      "source": [
        "# 예외(exception), 오류(error) 종류"
      ]
    },
    {
      "cell_type": "code",
      "metadata": {
        "colab": {
          "base_uri": "https://localhost:8080/"
        },
        "id": "1aHMFjRChFoy",
        "outputId": "f7daa73c-9e5a-46b5-a89e-6fd72043e40a"
      },
      "source": [
        "# prnit('Hello')  #> NameError: 사용하려는 함수 또는 변수 이름이 정의되지 않은 경우\n",
        "print('Hello')"
      ],
      "execution_count": 2,
      "outputs": [
        {
          "output_type": "stream",
          "text": [
            "Hello\n"
          ],
          "name": "stdout"
        }
      ]
    },
    {
      "cell_type": "code",
      "metadata": {
        "id": "1L5Vh4i4iOa7"
      },
      "source": [
        "# x += 1  #> NameError\n",
        "x = 0\n",
        "x += 1"
      ],
      "execution_count": 4,
      "outputs": []
    },
    {
      "cell_type": "code",
      "metadata": {
        "id": "8-WLntUZio0S"
      },
      "source": [
        "# x = int('100.')  #> ValueError: 잘못된 값이 사용된 경우(함수 argument로 전달된 경우)\n",
        "x = int('100')"
      ],
      "execution_count": 6,
      "outputs": []
    },
    {
      "cell_type": "code",
      "metadata": {
        "colab": {
          "base_uri": "https://localhost:8080/"
        },
        "id": "4Li159m8jSHd",
        "outputId": "74cdbfe8-1a81-4079-ab8e-8bdc799a0594"
      },
      "source": [
        "# 100 + '200'  #> TypeError: 잘못된 타입의 값이 사용된 경우\n",
        "print(100 + 200)\n",
        "print('100' + '200')"
      ],
      "execution_count": 10,
      "outputs": [
        {
          "output_type": "stream",
          "text": [
            "300\n",
            "100200\n"
          ],
          "name": "stdout"
        }
      ]
    },
    {
      "cell_type": "code",
      "metadata": {
        "colab": {
          "base_uri": "https://localhost:8080/"
        },
        "id": "xiKaEHrTkGh8",
        "outputId": "580cc8a9-fbbb-401f-c1aa-ee3ba21b22fe"
      },
      "source": [
        "numbers = [1, 2, 3]\n",
        "# print(numbers[3])  #> IndexError: 리스트의 인덱스가 범위를 벗어나는 경우\n",
        "print(numbers[2])"
      ],
      "execution_count": 12,
      "outputs": [
        {
          "output_type": "stream",
          "text": [
            "3\n"
          ],
          "name": "stdout"
        }
      ]
    },
    {
      "cell_type": "code",
      "metadata": {
        "colab": {
          "base_uri": "https://localhost:8080/"
        },
        "id": "qn3ZZ4EKktgr",
        "outputId": "6f543cef-50ff-4431-eb79-acd7cc2d933c"
      },
      "source": [
        "# 123 / 0  #> ZeroDivisionError: 0으로 나누려고 할 때\n",
        "123 / 0.001"
      ],
      "execution_count": 14,
      "outputs": [
        {
          "output_type": "execute_result",
          "data": {
            "text/plain": [
              "123000.0"
            ]
          },
          "metadata": {
            "tags": []
          },
          "execution_count": 14
        }
      ]
    }
  ]
}
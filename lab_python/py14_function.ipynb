{
  "nbformat": 4,
  "nbformat_minor": 0,
  "metadata": {
    "colab": {
      "name": "py14_function.ipynb",
      "provenance": [],
      "collapsed_sections": [],
      "authorship_tag": "ABX9TyNfanPWgXGImHRSCL7aD21w",
      "include_colab_link": true
    },
    "kernelspec": {
      "name": "python3",
      "display_name": "Python 3"
    },
    "language_info": {
      "name": "python"
    }
  },
  "cells": [
    {
      "cell_type": "markdown",
      "metadata": {
        "id": "view-in-github",
        "colab_type": "text"
      },
      "source": [
        "<a href=\"https://colab.research.google.com/github/JakeOh/202105_itw_bd26/blob/main/lab_python/py14_function.ipynb\" target=\"_parent\"><img src=\"https://colab.research.google.com/assets/colab-badge.svg\" alt=\"Open In Colab\"/></a>"
      ]
    },
    {
      "cell_type": "markdown",
      "metadata": {
        "id": "zojLLdypWsZn"
      },
      "source": [
        "# 함수(Function)"
      ]
    },
    {
      "cell_type": "markdown",
      "metadata": {
        "id": "BRWAJT0AWwXf"
      },
      "source": [
        "\n",
        "*   **함수(function)**: 기능을 수행하는 코드 블록\n",
        "*   **인수(argument)**: 함수가 기능을 수행하기 위해서 데이터가 필요한 경우, 함수를 호출할 때 함수에게 전달하는 값(들)\n",
        "*   **매개변수(parameter)**: 함수가 호출될 때 전달되는 값들(argument)을 저장하기 위해서, 함수를 정의할 때 선언하는 변수\n",
        "*   **반환 값(return value)**: 함수가 기능의 수행 결과로 반환하는 값\n",
        "    *   반환 값이 있는 함수도 있고, 반환 값이 없는 함수도 있음.\n"
      ]
    },
    {
      "cell_type": "code",
      "metadata": {
        "colab": {
          "base_uri": "https://localhost:8080/"
        },
        "id": "YLkms33eWdJI",
        "outputId": "c6c4abb4-4e20-40de-fc44-d81cf1b4f413"
      },
      "source": [
        "result = len([1, 2, 3, 4, 5])\n",
        "print(result)\n",
        "\n",
        "# 함수: len\n",
        "# argument: [1, 2, 3, 4, 5] -> parameter에 저장되는 값\n",
        "# 함수 호출(call, invoke): len([1, 2, 3, 4, 5])\n",
        "# 반환 값: 5"
      ],
      "execution_count": 1,
      "outputs": [
        {
          "output_type": "stream",
          "text": [
            "5\n"
          ],
          "name": "stdout"
        }
      ]
    },
    {
      "cell_type": "code",
      "metadata": {
        "colab": {
          "base_uri": "https://localhost:8080/"
        },
        "id": "R4c8z845awyx",
        "outputId": "806ae1dd-f6e8-44f2-d019-ae6c2244f34f"
      },
      "source": [
        "result = print('안녕하세요')\n",
        "print(result)  #> None - 반환 값 없음.\n",
        "\n",
        "# 함수: print\n",
        "# argument: '안녕하세요'\n",
        "# 함수 호출: print('안녕하세요')\n",
        "# return value: None"
      ],
      "execution_count": 2,
      "outputs": [
        {
          "output_type": "stream",
          "text": [
            "안녕하세요\n",
            "None\n"
          ],
          "name": "stdout"
        }
      ]
    },
    {
      "cell_type": "markdown",
      "metadata": {
        "id": "i9wB-GChgh-H"
      },
      "source": [
        "# 함수 정의 방법"
      ]
    },
    {
      "cell_type": "markdown",
      "metadata": {
        "id": "KMHB2FgsgmmZ"
      },
      "source": [
        "\n",
        "\n",
        "```\n",
        "def function_name([param1, ...]):\n",
        "    [\"\"\"문서화 주석(documentation comment) - 함수에 대한 설명.\"\"\"]\n",
        "    함수 기능 작성\n",
        "    [return 반환값]\n",
        "```\n",
        "\n"
      ]
    },
    {
      "cell_type": "code",
      "metadata": {
        "id": "ba4IxqrGgmJQ"
      },
      "source": [
        "# 함수 정의(definition)\n",
        "def subtract(x, y):\n",
        "    \"\"\"숫자 2개(x, y)를 전달받아서 x - y를 반환하는 함수.\"\"\"\n",
        "    return x - y"
      ],
      "execution_count": 25,
      "outputs": []
    },
    {
      "cell_type": "code",
      "metadata": {
        "colab": {
          "base_uri": "https://localhost:8080/"
        },
        "id": "Ygl4-VBGi4wC",
        "outputId": "fc2716f8-acfa-4cbf-fdf7-39eaa5a65dbf"
      },
      "source": [
        "# 함수 호출(call, invoke)\n",
        "# 함수를 호출할 때 parameter를 명시하지 않으면, argument는 \"순서대로\" 전달됨.\n",
        "result = subtract(1, 3)\n",
        "print(result)"
      ],
      "execution_count": 26,
      "outputs": [
        {
          "output_type": "stream",
          "text": [
            "-2\n"
          ],
          "name": "stdout"
        }
      ]
    },
    {
      "cell_type": "code",
      "metadata": {
        "id": "PhDYa1wyliai"
      },
      "source": [
        "def add(x, y):\n",
        "    \"\"\"숫자 2개(x, y)를 전달받아서 x + y를 반환.\"\"\"\n",
        "    return x + y"
      ],
      "execution_count": 5,
      "outputs": []
    },
    {
      "cell_type": "code",
      "metadata": {
        "colab": {
          "base_uri": "https://localhost:8080/"
        },
        "id": "yYYh4BmrltuS",
        "outputId": "ec167e43-1ecc-4949-89a2-98c173b76e0a"
      },
      "source": [
        "result = add(1, 2)\n",
        "print(result)\n",
        "#> 숫자 2개의 덧셈 결과\n",
        "\n",
        "result = add('1', '2')\n",
        "print(result)\n",
        "#> 문자열 2개를 이어주는 기능(concatenate)\n",
        "# parameter는 변수 타입을 검사하지 않음."
      ],
      "execution_count": 6,
      "outputs": [
        {
          "output_type": "stream",
          "text": [
            "3\n",
            "12\n"
          ],
          "name": "stdout"
        }
      ]
    },
    {
      "cell_type": "code",
      "metadata": {
        "id": "xb_ocO6rlyMJ"
      },
      "source": [
        "# 2개 이상의 값을 반환하는 함수 정의\n",
        "def plus_and_minus(x, y):\n",
        "    \"\"\"2개의 숫자(x, y)를 전달받아서,\n",
        "    x + y, x - y를 리턴하는 함수\"\"\"\n",
        "    return x + y, x - y"
      ],
      "execution_count": 7,
      "outputs": []
    },
    {
      "cell_type": "code",
      "metadata": {
        "colab": {
          "base_uri": "https://localhost:8080/"
        },
        "id": "dwOhvVkwpiuk",
        "outputId": "86df26da-0382-4a8e-8c13-2984e3fa938d"
      },
      "source": [
        "result = plus_and_minus(1, 2)\n",
        "print(result)\n",
        "#> 2개 이상의 값을 리턴하는 함수란 tuple을 리턴하는 함수이다.\n",
        "\n",
        "# tuple decomposition(분해): x, y = (value1, value2)\n",
        "plus, minus = plus_and_minus(1, 2)\n",
        "print(plus)\n",
        "print(minus)"
      ],
      "execution_count": 29,
      "outputs": [
        {
          "output_type": "stream",
          "text": [
            "(3, -1)\n",
            "3\n",
            "-1\n"
          ],
          "name": "stdout"
        }
      ]
    },
    {
      "cell_type": "code",
      "metadata": {
        "id": "M-6ql7X3vL28"
      },
      "source": [
        "# 값을 반환하지 않는 함수 정의\n",
        "def repeat_message(message, n):\n",
        "    \"\"\"문자열 message와 정수 n을 전달받아서,\n",
        "    message를 n번 반복해서 출력하는 함수.\n",
        "    \"\"\"\n",
        "    for _ in range(n):\n",
        "        print(message)\n",
        "\n",
        "    # return None\n",
        "    # 반환하는 값이 없는 경우에 보통 return None 문장은 생략함."
      ],
      "execution_count": 9,
      "outputs": []
    },
    {
      "cell_type": "code",
      "metadata": {
        "colab": {
          "base_uri": "https://localhost:8080/"
        },
        "id": "SZ2xn7X8wE8N",
        "outputId": "b03178b2-2287-485d-b80f-f3027f7a663c"
      },
      "source": [
        "repeat_message('안녕하세요', 5)"
      ],
      "execution_count": 10,
      "outputs": [
        {
          "output_type": "stream",
          "text": [
            "안녕하세요\n",
            "안녕하세요\n",
            "안녕하세요\n",
            "안녕하세요\n",
            "안녕하세요\n"
          ],
          "name": "stdout"
        }
      ]
    },
    {
      "cell_type": "code",
      "metadata": {
        "colab": {
          "base_uri": "https://localhost:8080/"
        },
        "id": "KiR357ZVwpxD",
        "outputId": "8ada9d73-fcf2-42d3-ce4e-97f2ea9db3d9"
      },
      "source": [
        "result = repeat_message('hello', 3)\n",
        "print(result)"
      ],
      "execution_count": 11,
      "outputs": [
        {
          "output_type": "stream",
          "text": [
            "hello\n",
            "hello\n",
            "hello\n",
            "None\n"
          ],
          "name": "stdout"
        }
      ]
    },
    {
      "cell_type": "markdown",
      "metadata": {
        "id": "a0LLL2ufyJZb"
      },
      "source": [
        "# 함수 정의 연습"
      ]
    },
    {
      "cell_type": "code",
      "metadata": {
        "id": "2-r9S1N9yVRb"
      },
      "source": [
        "import random  # 난수 관련 함수들 사용하기 위해서\n",
        "import math  # 수학 함수들을 사용하기 위해서"
      ],
      "execution_count": 12,
      "outputs": []
    },
    {
      "cell_type": "markdown",
      "metadata": {
        "id": "pWa1SZ6lyMw0"
      },
      "source": [
        "## Ex1. \n",
        "\n",
        "*   함수 이름: make_list\n",
        "*   기능: start 이상 end 미만의 정수 난수 n개를 갖는 리스트를 생성해서 반환"
      ]
    },
    {
      "cell_type": "code",
      "metadata": {
        "id": "bJm67VL_yLtc"
      },
      "source": [
        "def make_list(start, end, n):\n",
        "    # array = []  # empty list\n",
        "    # for _ in range(n):  # n번 반복하면서\n",
        "    #     array.append(random.randrange(start, end))  # 난수를 리스트에 추가\n",
        "    array = [random.randrange(start, end) for _ in range(n)]\n",
        "    return array"
      ],
      "execution_count": 45,
      "outputs": []
    },
    {
      "cell_type": "code",
      "metadata": {
        "colab": {
          "base_uri": "https://localhost:8080/"
        },
        "id": "jnKxR8iGzbRm",
        "outputId": "b8e38cc9-c6de-4b5f-8d43-44610a036b8a"
      },
      "source": [
        "array1 = make_list(0, 100, 5)\n",
        "print(array1)"
      ],
      "execution_count": 55,
      "outputs": [
        {
          "output_type": "stream",
          "text": [
            "[57, 1, 80, 92, 99]\n"
          ],
          "name": "stdout"
        }
      ]
    },
    {
      "cell_type": "code",
      "metadata": {
        "id": "HK0BK9mLzeQs",
        "colab": {
          "base_uri": "https://localhost:8080/"
        },
        "outputId": "a59ea751-6cda-4ec3-e62d-5a68badf0fe1"
      },
      "source": [
        "array2 = make_list(1, 5, 10)\n",
        "print(array2)"
      ],
      "execution_count": 56,
      "outputs": [
        {
          "output_type": "stream",
          "text": [
            "[2, 2, 4, 4, 4, 1, 2, 4, 3, 4]\n"
          ],
          "name": "stdout"
        }
      ]
    },
    {
      "cell_type": "markdown",
      "metadata": {
        "id": "EYmQX5kszxCN"
      },
      "source": [
        "## Ex2.\n",
        "\n",
        "*   함수 이름: calculate_sum\n",
        "*   기능: 숫자들을 저장하는 리스트를 전달받아서, 리스트의 모든 아이템들의 합을 리턴.\n"
      ]
    },
    {
      "cell_type": "code",
      "metadata": {
        "id": "yq2N6ICi0BFi"
      },
      "source": [
        "def calculate_sum(array):\n",
        "    # return sum(array)\n",
        "    total = 0\n",
        "    for x in array:\n",
        "        total += x\n",
        "    return total"
      ],
      "execution_count": 62,
      "outputs": []
    },
    {
      "cell_type": "code",
      "metadata": {
        "colab": {
          "base_uri": "https://localhost:8080/"
        },
        "id": "opB1H_SMz-6X",
        "outputId": "9e533aad-6b38-4944-c6c5-697e486b18f1"
      },
      "source": [
        "s = calculate_sum([1, 2, 3, 4, 5])\n",
        "print(s)"
      ],
      "execution_count": 65,
      "outputs": [
        {
          "output_type": "stream",
          "text": [
            "15\n"
          ],
          "name": "stdout"
        }
      ]
    },
    {
      "cell_type": "code",
      "metadata": {
        "colab": {
          "base_uri": "https://localhost:8080/"
        },
        "id": "H88L99lns-kH",
        "outputId": "6e47b4d4-4b44-44a2-f10e-0fbc436bbbfa"
      },
      "source": [
        "s1 = calculate_sum(array1)\n",
        "print(s1)"
      ],
      "execution_count": 63,
      "outputs": [
        {
          "output_type": "stream",
          "text": [
            "329\n"
          ],
          "name": "stdout"
        }
      ]
    },
    {
      "cell_type": "code",
      "metadata": {
        "colab": {
          "base_uri": "https://localhost:8080/"
        },
        "id": "P6btcaoHtGu-",
        "outputId": "560a251c-5d28-4793-fb03-b39b951bad0c"
      },
      "source": [
        "s2 = calculate_sum(array2)\n",
        "print(s2)"
      ],
      "execution_count": 64,
      "outputs": [
        {
          "output_type": "stream",
          "text": [
            "30\n"
          ],
          "name": "stdout"
        }
      ]
    },
    {
      "cell_type": "markdown",
      "metadata": {
        "id": "8YbRUypf0Glv"
      },
      "source": [
        "## Ex3.\n",
        "\n",
        "*   함수 이름: calculate_mean\n",
        "*   기능: 숫자들을 저장하는 리스트를 전달받아서, 리스트의 모든 아이템들의 평균을 리턴.\n"
      ]
    },
    {
      "cell_type": "code",
      "metadata": {
        "id": "UgdXEEFk0jq9"
      },
      "source": [
        "def calculate_mean(array):\n",
        "    # 평균 = 합 / 개수\n",
        "    s = calculate_sum(array)\n",
        "    n = len(array)\n",
        "    return s / n"
      ],
      "execution_count": 80,
      "outputs": []
    },
    {
      "cell_type": "code",
      "metadata": {
        "colab": {
          "base_uri": "https://localhost:8080/"
        },
        "id": "nHiW1frI1Iy9",
        "outputId": "d304f694-47fc-40a0-fdba-8b9c2ae24e91"
      },
      "source": [
        "mean = calculate_mean([1, 2, 3, 4, 5])\n",
        "print(mean)  #> 3.0"
      ],
      "execution_count": 81,
      "outputs": [
        {
          "output_type": "stream",
          "text": [
            "3.0\n"
          ],
          "name": "stdout"
        }
      ]
    },
    {
      "cell_type": "code",
      "metadata": {
        "colab": {
          "base_uri": "https://localhost:8080/"
        },
        "id": "2zGkzJPG2h02",
        "outputId": "aa501d20-487e-4467-bd13-ec5ee9e153cf"
      },
      "source": [
        "mean1 = calculate_mean(array1)  # [57, 1, 80, 92, 99]\n",
        "print(mean1)"
      ],
      "execution_count": 82,
      "outputs": [
        {
          "output_type": "stream",
          "text": [
            "65.8\n"
          ],
          "name": "stdout"
        }
      ]
    },
    {
      "cell_type": "code",
      "metadata": {
        "colab": {
          "base_uri": "https://localhost:8080/"
        },
        "id": "g_xVi6T629bv",
        "outputId": "ec5781f7-5e2a-4094-d758-b196dfe89798"
      },
      "source": [
        "mean2 = calculate_mean(array2)\n",
        "print(mean2)"
      ],
      "execution_count": 83,
      "outputs": [
        {
          "output_type": "stream",
          "text": [
            "3.0\n"
          ],
          "name": "stdout"
        }
      ]
    },
    {
      "cell_type": "markdown",
      "metadata": {
        "id": "hmBrW0t20kqc"
      },
      "source": [
        "## Ex4.\n",
        "\n",
        "*   함수 이름: calculate_var\n",
        "*   기능: 숫자들을 저장하는 리스트를 전달받아서, 숫자들의 분산을 리턴.\n"
      ]
    },
    {
      "cell_type": "code",
      "metadata": {
        "id": "lWhCUMq_0u_0"
      },
      "source": [
        ""
      ],
      "execution_count": 14,
      "outputs": []
    },
    {
      "cell_type": "markdown",
      "metadata": {
        "id": "4Ce0Wo-N0weJ"
      },
      "source": [
        "## Ex5.\n",
        "\n",
        "*   함수 이름: calculate_stddev\n",
        "*   기능: 숫자들을 저장하는 리스트를 전달받아서, 숫자들의 표준편차를 리턴.\n"
      ]
    },
    {
      "cell_type": "code",
      "metadata": {
        "id": "aE6R48gb076-"
      },
      "source": [
        ""
      ],
      "execution_count": 14,
      "outputs": []
    },
    {
      "cell_type": "markdown",
      "metadata": {
        "id": "qpBp08iA1E-j"
      },
      "source": [
        "## Ex6.\n",
        "\n",
        "*   함수 이름: find_min_and_max\n",
        "*   기능: 숫자들를 저장하는 리스트를 전달받아서, 숫자들의 최솟값과 최댓값을 리턴.\n"
      ]
    },
    {
      "cell_type": "code",
      "metadata": {
        "id": "7-72IXpn1WDd"
      },
      "source": [
        ""
      ],
      "execution_count": 14,
      "outputs": []
    }
  ]
}
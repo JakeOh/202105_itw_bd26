{
  "nbformat": 4,
  "nbformat_minor": 0,
  "metadata": {
    "colab": {
      "name": "py14_function.ipynb",
      "provenance": [],
      "collapsed_sections": [],
      "authorship_tag": "ABX9TyP2yrjfDZmRTVLKQPzJG/E7",
      "include_colab_link": true
    },
    "kernelspec": {
      "name": "python3",
      "display_name": "Python 3"
    },
    "language_info": {
      "name": "python"
    }
  },
  "cells": [
    {
      "cell_type": "markdown",
      "metadata": {
        "id": "view-in-github",
        "colab_type": "text"
      },
      "source": [
        "<a href=\"https://colab.research.google.com/github/JakeOh/202105_itw_bd26/blob/main/lab_python/py14_function.ipynb\" target=\"_parent\"><img src=\"https://colab.research.google.com/assets/colab-badge.svg\" alt=\"Open In Colab\"/></a>"
      ]
    },
    {
      "cell_type": "markdown",
      "metadata": {
        "id": "zojLLdypWsZn"
      },
      "source": [
        "# 함수(Function)"
      ]
    },
    {
      "cell_type": "markdown",
      "metadata": {
        "id": "BRWAJT0AWwXf"
      },
      "source": [
        "\n",
        "*   **함수(function)**: 기능을 수행하는 코드 블록\n",
        "*   **인수(argument)**: 함수가 기능을 수행하기 위해서 데이터가 필요한 경우, 함수를 호출할 때 함수에게 전달하는 값(들)\n",
        "*   **매개변수(parameter)**: 함수가 호출될 때 전달되는 값들(argument)을 저장하기 위해서, 함수를 정의할 때 선언하는 변수\n",
        "*   **반환 값(return value)**: 함수가 기능의 수행 결과로 반환하는 값\n",
        "    *   반환 값이 있는 함수도 있고, 반환 값이 없는 함수도 있음.\n"
      ]
    },
    {
      "cell_type": "code",
      "metadata": {
        "colab": {
          "base_uri": "https://localhost:8080/"
        },
        "id": "YLkms33eWdJI",
        "outputId": "554cbcff-ac75-4428-bd24-5a72bdf4098f"
      },
      "source": [
        "result = len([1, 2, 3, 4, 5])\n",
        "print(result)\n",
        "\n",
        "# 함수: len\n",
        "# argument: [1, 2, 3, 4, 5] -> parameter에 저장되는 값\n",
        "# 함수 호출(call, invoke): len([1, 2, 3, 4, 5])\n",
        "# 반환 값: 5"
      ],
      "execution_count": 1,
      "outputs": [
        {
          "output_type": "stream",
          "text": [
            "5\n"
          ],
          "name": "stdout"
        }
      ]
    },
    {
      "cell_type": "code",
      "metadata": {
        "colab": {
          "base_uri": "https://localhost:8080/"
        },
        "id": "R4c8z845awyx",
        "outputId": "422d9185-bebe-4e24-c217-9f77d373f2c5"
      },
      "source": [
        "result = print('안녕하세요')\n",
        "print(result)  #> None - 반환 값 없음.\n",
        "\n",
        "# 함수: print\n",
        "# argument: '안녕하세요'\n",
        "# 함수 호출: print('안녕하세요')\n",
        "# return value: None"
      ],
      "execution_count": 3,
      "outputs": [
        {
          "output_type": "stream",
          "text": [
            "안녕하세요\n",
            "None\n"
          ],
          "name": "stdout"
        }
      ]
    },
    {
      "cell_type": "markdown",
      "metadata": {
        "id": "i9wB-GChgh-H"
      },
      "source": [
        "# 함수 정의 방법"
      ]
    },
    {
      "cell_type": "markdown",
      "metadata": {
        "id": "KMHB2FgsgmmZ"
      },
      "source": [
        "\n",
        "\n",
        "```\n",
        "def function_name([param1, ...]):\n",
        "    [\"\"\"문서화 주석(documentation comment) - 함수에 대한 설명.\"\"\"]\n",
        "    함수 기능 작성\n",
        "    [return 반환값]\n",
        "```\n",
        "\n"
      ]
    },
    {
      "cell_type": "code",
      "metadata": {
        "id": "ba4IxqrGgmJQ"
      },
      "source": [
        "# 함수 정의(definition)\n",
        "def subtract(x, y):\n",
        "    \"\"\"숫자 2개(x, y)를 전달받아서 x - y를 반환하는 함수.\"\"\"\n",
        "    return x - y"
      ],
      "execution_count": 4,
      "outputs": []
    },
    {
      "cell_type": "code",
      "metadata": {
        "colab": {
          "base_uri": "https://localhost:8080/"
        },
        "id": "Ygl4-VBGi4wC",
        "outputId": "be667546-8d00-4558-baef-e9a6794143e8"
      },
      "source": [
        "# 함수 호출(call, invoke)\n",
        "# 함수를 호출할 때 parameter를 명시하지 않으면, argument는 \"순서대로\" 전달됨.\n",
        "result = subtract(2, 1)\n",
        "print(result)"
      ],
      "execution_count": 8,
      "outputs": [
        {
          "output_type": "stream",
          "text": [
            "1\n"
          ],
          "name": "stdout"
        }
      ]
    },
    {
      "cell_type": "code",
      "metadata": {
        "id": "PhDYa1wyliai"
      },
      "source": [
        "def add(x, y):\n",
        "    \"\"\"숫자 2개(x, y)를 전달받아서 x + y를 반환.\"\"\"\n",
        "    return x + y"
      ],
      "execution_count": 12,
      "outputs": []
    },
    {
      "cell_type": "code",
      "metadata": {
        "colab": {
          "base_uri": "https://localhost:8080/"
        },
        "id": "yYYh4BmrltuS",
        "outputId": "3e19e3bf-ef12-4162-dfd8-a8be0a7f27b3"
      },
      "source": [
        "result = add(1, 2)\n",
        "print(result)\n",
        "#> 숫자 2개의 덧셈 결과\n",
        "\n",
        "result = add('1', '2')\n",
        "print(result)\n",
        "#> 문자열 2개를 이어주는 기능(concatenate)\n",
        "# parameter는 변수 타입을 검사하지 않음."
      ],
      "execution_count": 15,
      "outputs": [
        {
          "output_type": "stream",
          "text": [
            "3\n",
            "12\n"
          ],
          "name": "stdout"
        }
      ]
    },
    {
      "cell_type": "code",
      "metadata": {
        "id": "xb_ocO6rlyMJ"
      },
      "source": [
        "# 2개 이상의 값을 반환하는 함수 정의\n",
        "def plus_and_minus(x, y):\n",
        "    \"\"\"2개의 숫자(x, y)를 전달받아서,\n",
        "    x + y, x - y를 리턴하는 함수\"\"\"\n",
        "    return x + y, x - y"
      ],
      "execution_count": 16,
      "outputs": []
    },
    {
      "cell_type": "code",
      "metadata": {
        "colab": {
          "base_uri": "https://localhost:8080/"
        },
        "id": "dwOhvVkwpiuk",
        "outputId": "55f60f16-0f1f-4501-d2e9-3bd93473f3b0"
      },
      "source": [
        "result = plus_and_minus(1, 2)\n",
        "print(result)\n",
        "#> 2개 이상의 값을 리턴하는 함수란 tuple을 리턴하는 함수이다.\n",
        "\n",
        "# tuple decomposition(분해): x, y = (value1, value2)\n",
        "plus, minus = plus_and_minus(1, 2)\n",
        "print(plus)\n",
        "print(minus)"
      ],
      "execution_count": 18,
      "outputs": [
        {
          "output_type": "stream",
          "text": [
            "(3, -1)\n",
            "3\n",
            "-1\n"
          ],
          "name": "stdout"
        }
      ]
    }
  ]
}
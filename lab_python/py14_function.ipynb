{
  "nbformat": 4,
  "nbformat_minor": 0,
  "metadata": {
    "colab": {
      "name": "py14_function.ipynb",
      "provenance": [],
      "collapsed_sections": [],
      "authorship_tag": "ABX9TyPZhTa1GSrbZn3veeiB7IXY",
      "include_colab_link": true
    },
    "kernelspec": {
      "name": "python3",
      "display_name": "Python 3"
    },
    "language_info": {
      "name": "python"
    }
  },
  "cells": [
    {
      "cell_type": "markdown",
      "metadata": {
        "id": "view-in-github",
        "colab_type": "text"
      },
      "source": [
        "<a href=\"https://colab.research.google.com/github/JakeOh/202105_itw_bd26/blob/main/lab_python/py14_function.ipynb\" target=\"_parent\"><img src=\"https://colab.research.google.com/assets/colab-badge.svg\" alt=\"Open In Colab\"/></a>"
      ]
    },
    {
      "cell_type": "markdown",
      "metadata": {
        "id": "zojLLdypWsZn"
      },
      "source": [
        "# 함수(Function)"
      ]
    },
    {
      "cell_type": "markdown",
      "metadata": {
        "id": "BRWAJT0AWwXf"
      },
      "source": [
        "\n",
        "*   **함수(function)**: 기능을 수행하는 코드 블록\n",
        "*   **인수(argument)**: 함수가 기능을 수행하기 위해서 데이터가 필요한 경우, 함수를 호출할 때 함수에게 전달하는 값(들)\n",
        "*   **매개변수(parameter)**: 함수가 호출될 때 전달되는 값들(argument)을 저장하기 위해서, 함수를 정의할 때 선언하는 변수\n",
        "*   **반환 값(return value)**: 함수가 기능의 수행 결과로 반환하는 값\n",
        "    *   반환 값이 있는 함수도 있고, 반환 값이 없는 함수도 있음.\n"
      ]
    },
    {
      "cell_type": "code",
      "metadata": {
        "colab": {
          "base_uri": "https://localhost:8080/"
        },
        "id": "YLkms33eWdJI",
        "outputId": "36e35949-e9e5-4716-def0-284d8760e68e"
      },
      "source": [
        "result = len([1, 2, 3, 4, 5])\n",
        "print(result)\n",
        "\n",
        "# 함수: len\n",
        "# argument: [1, 2, 3, 4, 5] -> parameter에 저장되는 값\n",
        "# 함수 호출(call, invoke): len([1, 2, 3, 4, 5])\n",
        "# 반환 값: 5"
      ],
      "execution_count": 90,
      "outputs": [
        {
          "output_type": "stream",
          "text": [
            "5\n"
          ],
          "name": "stdout"
        }
      ]
    },
    {
      "cell_type": "code",
      "metadata": {
        "colab": {
          "base_uri": "https://localhost:8080/"
        },
        "id": "R4c8z845awyx",
        "outputId": "0e11e82e-54b5-4358-fa9d-489fb04574b8"
      },
      "source": [
        "result = print('안녕하세요')\n",
        "print(result)  #> None - 반환 값 없음.\n",
        "\n",
        "# 함수: print\n",
        "# argument: '안녕하세요'\n",
        "# 함수 호출: print('안녕하세요')\n",
        "# return value: None"
      ],
      "execution_count": 91,
      "outputs": [
        {
          "output_type": "stream",
          "text": [
            "안녕하세요\n",
            "None\n"
          ],
          "name": "stdout"
        }
      ]
    },
    {
      "cell_type": "markdown",
      "metadata": {
        "id": "i9wB-GChgh-H"
      },
      "source": [
        "# 함수 정의 방법"
      ]
    },
    {
      "cell_type": "markdown",
      "metadata": {
        "id": "KMHB2FgsgmmZ"
      },
      "source": [
        "\n",
        "\n",
        "```\n",
        "def function_name([param1, ...]):\n",
        "    [\"\"\"문서화 주석(documentation comment) - 함수에 대한 설명.\"\"\"]\n",
        "    함수 기능 작성\n",
        "    [return 반환값]\n",
        "```\n",
        "\n"
      ]
    },
    {
      "cell_type": "code",
      "metadata": {
        "id": "ba4IxqrGgmJQ"
      },
      "source": [
        "# 함수 정의(definition)\n",
        "def subtract(x, y):\n",
        "    \"\"\"숫자 2개(x, y)를 전달받아서 x - y를 반환하는 함수.\"\"\"\n",
        "    return x - y"
      ],
      "execution_count": 92,
      "outputs": []
    },
    {
      "cell_type": "code",
      "metadata": {
        "colab": {
          "base_uri": "https://localhost:8080/"
        },
        "id": "Ygl4-VBGi4wC",
        "outputId": "9a0b7298-e6e5-4abb-dbb0-7a8d738d474d"
      },
      "source": [
        "# 함수 호출(call, invoke)\n",
        "# 함수를 호출할 때 parameter를 명시하지 않으면, argument는 \"순서대로\" 전달됨.\n",
        "result = subtract(1, 3)\n",
        "print(result)"
      ],
      "execution_count": 93,
      "outputs": [
        {
          "output_type": "stream",
          "text": [
            "-2\n"
          ],
          "name": "stdout"
        }
      ]
    },
    {
      "cell_type": "code",
      "metadata": {
        "id": "PhDYa1wyliai"
      },
      "source": [
        "def add(x, y):\n",
        "    \"\"\"숫자 2개(x, y)를 전달받아서 x + y를 반환.\"\"\"\n",
        "    return x + y"
      ],
      "execution_count": 94,
      "outputs": []
    },
    {
      "cell_type": "code",
      "metadata": {
        "colab": {
          "base_uri": "https://localhost:8080/"
        },
        "id": "yYYh4BmrltuS",
        "outputId": "be39a56f-4356-4d31-8701-18d53b688d37"
      },
      "source": [
        "result = add(1, 2)\n",
        "print(result)\n",
        "#> 숫자 2개의 덧셈 결과\n",
        "\n",
        "result = add('1', '2')\n",
        "print(result)\n",
        "#> 문자열 2개를 이어주는 기능(concatenate)\n",
        "# parameter는 변수 타입을 검사하지 않음."
      ],
      "execution_count": 95,
      "outputs": [
        {
          "output_type": "stream",
          "text": [
            "3\n",
            "12\n"
          ],
          "name": "stdout"
        }
      ]
    },
    {
      "cell_type": "code",
      "metadata": {
        "id": "xb_ocO6rlyMJ"
      },
      "source": [
        "# 2개 이상의 값을 반환하는 함수 정의\n",
        "def plus_and_minus(x, y):\n",
        "    \"\"\"2개의 숫자(x, y)를 전달받아서,\n",
        "    x + y, x - y를 리턴하는 함수\"\"\"\n",
        "    return x + y, x - y"
      ],
      "execution_count": 96,
      "outputs": []
    },
    {
      "cell_type": "code",
      "metadata": {
        "colab": {
          "base_uri": "https://localhost:8080/"
        },
        "id": "dwOhvVkwpiuk",
        "outputId": "798f4853-7c08-43e9-eece-f8046d11ba06"
      },
      "source": [
        "result = plus_and_minus(1, 2)\n",
        "print(result)\n",
        "#> 2개 이상의 값을 리턴하는 함수란 tuple을 리턴하는 함수이다.\n",
        "\n",
        "# tuple decomposition(분해): x, y = (value1, value2)\n",
        "plus, minus = plus_and_minus(1, 2)\n",
        "print(plus)\n",
        "print(minus)"
      ],
      "execution_count": 97,
      "outputs": [
        {
          "output_type": "stream",
          "text": [
            "(3, -1)\n",
            "3\n",
            "-1\n"
          ],
          "name": "stdout"
        }
      ]
    },
    {
      "cell_type": "code",
      "metadata": {
        "id": "M-6ql7X3vL28"
      },
      "source": [
        "# 값을 반환하지 않는 함수 정의\n",
        "def repeat_message(message, n):\n",
        "    \"\"\"문자열 message와 정수 n을 전달받아서,\n",
        "    message를 n번 반복해서 출력하는 함수.\n",
        "    \"\"\"\n",
        "    for _ in range(n):\n",
        "        print(message)\n",
        "\n",
        "    # return None\n",
        "    # 반환하는 값이 없는 경우에 보통 return None 문장은 생략함."
      ],
      "execution_count": 98,
      "outputs": []
    },
    {
      "cell_type": "code",
      "metadata": {
        "colab": {
          "base_uri": "https://localhost:8080/"
        },
        "id": "SZ2xn7X8wE8N",
        "outputId": "890d094d-f6b0-41f0-e545-2e34cf28a6eb"
      },
      "source": [
        "repeat_message('안녕하세요', 5)"
      ],
      "execution_count": 99,
      "outputs": [
        {
          "output_type": "stream",
          "text": [
            "안녕하세요\n",
            "안녕하세요\n",
            "안녕하세요\n",
            "안녕하세요\n",
            "안녕하세요\n"
          ],
          "name": "stdout"
        }
      ]
    },
    {
      "cell_type": "code",
      "metadata": {
        "colab": {
          "base_uri": "https://localhost:8080/"
        },
        "id": "KiR357ZVwpxD",
        "outputId": "fc251393-23c6-4c7c-e61e-dbd7d6d17b14"
      },
      "source": [
        "result = repeat_message('hello', 3)\n",
        "print(result)"
      ],
      "execution_count": 100,
      "outputs": [
        {
          "output_type": "stream",
          "text": [
            "hello\n",
            "hello\n",
            "hello\n",
            "None\n"
          ],
          "name": "stdout"
        }
      ]
    },
    {
      "cell_type": "markdown",
      "metadata": {
        "id": "a0LLL2ufyJZb"
      },
      "source": [
        "# 함수 정의 연습"
      ]
    },
    {
      "cell_type": "code",
      "metadata": {
        "id": "2-r9S1N9yVRb"
      },
      "source": [
        "import random  # 난수 관련 함수들 사용하기 위해서\n",
        "import math  # 수학 함수들을 사용하기 위해서"
      ],
      "execution_count": 101,
      "outputs": []
    },
    {
      "cell_type": "markdown",
      "metadata": {
        "id": "pWa1SZ6lyMw0"
      },
      "source": [
        "## Ex1. \n",
        "\n",
        "*   함수 이름: make_list\n",
        "*   기능: start 이상 end 미만의 정수 난수 n개를 갖는 리스트를 생성해서 반환"
      ]
    },
    {
      "cell_type": "code",
      "metadata": {
        "id": "bJm67VL_yLtc"
      },
      "source": [
        "def make_list(start, end, n):\n",
        "    # array = []  # empty list\n",
        "    # for _ in range(n):  # n번 반복하면서\n",
        "    #     array.append(random.randrange(start, end))  # 난수를 리스트에 추가\n",
        "    array = [random.randrange(start, end) for _ in range(n)]\n",
        "    return array"
      ],
      "execution_count": 102,
      "outputs": []
    },
    {
      "cell_type": "code",
      "metadata": {
        "colab": {
          "base_uri": "https://localhost:8080/"
        },
        "id": "jnKxR8iGzbRm",
        "outputId": "1dc96371-77c4-4e7a-e17a-08bd676c0085"
      },
      "source": [
        "array1 = make_list(0, 100, 5)\n",
        "print(array1)"
      ],
      "execution_count": 103,
      "outputs": [
        {
          "output_type": "stream",
          "text": [
            "[99, 93, 88, 0, 93]\n"
          ],
          "name": "stdout"
        }
      ]
    },
    {
      "cell_type": "code",
      "metadata": {
        "id": "HK0BK9mLzeQs",
        "colab": {
          "base_uri": "https://localhost:8080/"
        },
        "outputId": "c95b805a-f896-44b1-c54c-51f779fa53d5"
      },
      "source": [
        "array2 = make_list(1, 5, 10)\n",
        "print(array2)"
      ],
      "execution_count": 104,
      "outputs": [
        {
          "output_type": "stream",
          "text": [
            "[2, 1, 4, 3, 4, 1, 4, 2, 4, 3]\n"
          ],
          "name": "stdout"
        }
      ]
    },
    {
      "cell_type": "markdown",
      "metadata": {
        "id": "EYmQX5kszxCN"
      },
      "source": [
        "## Ex2.\n",
        "\n",
        "*   함수 이름: calculate_sum\n",
        "*   기능: 숫자들을 저장하는 리스트를 전달받아서, 리스트의 모든 아이템들의 합을 리턴.\n"
      ]
    },
    {
      "cell_type": "code",
      "metadata": {
        "id": "yq2N6ICi0BFi"
      },
      "source": [
        "def calculate_sum(array):\n",
        "    # return sum(array)\n",
        "    total = 0\n",
        "    for x in array:\n",
        "        total += x\n",
        "    return total"
      ],
      "execution_count": 105,
      "outputs": []
    },
    {
      "cell_type": "code",
      "metadata": {
        "colab": {
          "base_uri": "https://localhost:8080/"
        },
        "id": "opB1H_SMz-6X",
        "outputId": "8583919d-5535-4779-9560-9fe23ec3083b"
      },
      "source": [
        "s = calculate_sum([1, 2, 3, 4, 5])\n",
        "print(s)"
      ],
      "execution_count": 106,
      "outputs": [
        {
          "output_type": "stream",
          "text": [
            "15\n"
          ],
          "name": "stdout"
        }
      ]
    },
    {
      "cell_type": "code",
      "metadata": {
        "colab": {
          "base_uri": "https://localhost:8080/"
        },
        "id": "H88L99lns-kH",
        "outputId": "0601d04e-39ec-47ee-e013-f8429e3e3b7b"
      },
      "source": [
        "s1 = calculate_sum(array1)\n",
        "print(s1)"
      ],
      "execution_count": 107,
      "outputs": [
        {
          "output_type": "stream",
          "text": [
            "373\n"
          ],
          "name": "stdout"
        }
      ]
    },
    {
      "cell_type": "code",
      "metadata": {
        "colab": {
          "base_uri": "https://localhost:8080/"
        },
        "id": "P6btcaoHtGu-",
        "outputId": "bfa6585b-a562-4deb-acc8-e3f29b8b28c5"
      },
      "source": [
        "s2 = calculate_sum(array2)\n",
        "print(s2)"
      ],
      "execution_count": 108,
      "outputs": [
        {
          "output_type": "stream",
          "text": [
            "28\n"
          ],
          "name": "stdout"
        }
      ]
    },
    {
      "cell_type": "markdown",
      "metadata": {
        "id": "8YbRUypf0Glv"
      },
      "source": [
        "## Ex3.\n",
        "\n",
        "*   함수 이름: calculate_mean\n",
        "*   기능: 숫자들을 저장하는 리스트를 전달받아서, 리스트의 모든 아이템들의 평균을 리턴.\n"
      ]
    },
    {
      "cell_type": "code",
      "metadata": {
        "id": "UgdXEEFk0jq9"
      },
      "source": [
        "def calculate_mean(array):\n",
        "    # 평균 = 합 / 개수\n",
        "    s = calculate_sum(array)\n",
        "    n = len(array)\n",
        "    return s / n"
      ],
      "execution_count": 109,
      "outputs": []
    },
    {
      "cell_type": "code",
      "metadata": {
        "colab": {
          "base_uri": "https://localhost:8080/"
        },
        "id": "nHiW1frI1Iy9",
        "outputId": "ac714606-2b90-484f-acba-a0fd1144ae6f"
      },
      "source": [
        "mean = calculate_mean([1, 2, 3, 4, 5])\n",
        "print(mean)  #> 3.0"
      ],
      "execution_count": 110,
      "outputs": [
        {
          "output_type": "stream",
          "text": [
            "3.0\n"
          ],
          "name": "stdout"
        }
      ]
    },
    {
      "cell_type": "code",
      "metadata": {
        "colab": {
          "base_uri": "https://localhost:8080/"
        },
        "id": "2zGkzJPG2h02",
        "outputId": "36bc5bfb-e131-4ee0-9f6f-7a11bee4fe45"
      },
      "source": [
        "mean1 = calculate_mean(array1)  # [57, 1, 80, 92, 99]\n",
        "print(mean1)"
      ],
      "execution_count": 111,
      "outputs": [
        {
          "output_type": "stream",
          "text": [
            "74.6\n"
          ],
          "name": "stdout"
        }
      ]
    },
    {
      "cell_type": "code",
      "metadata": {
        "colab": {
          "base_uri": "https://localhost:8080/"
        },
        "id": "g_xVi6T629bv",
        "outputId": "0e90f4fc-4539-4e4d-d62a-b6be2347301c"
      },
      "source": [
        "mean2 = calculate_mean(array2)\n",
        "print(mean2)"
      ],
      "execution_count": 112,
      "outputs": [
        {
          "output_type": "stream",
          "text": [
            "2.8\n"
          ],
          "name": "stdout"
        }
      ]
    },
    {
      "cell_type": "markdown",
      "metadata": {
        "id": "hmBrW0t20kqc"
      },
      "source": [
        "## Ex4.\n",
        "\n",
        "*   함수 이름: calculate_var\n",
        "*   기능: 숫자들을 저장하는 리스트를 전달받아서, 숫자들의 분산을 리턴.\n"
      ]
    },
    {
      "cell_type": "code",
      "metadata": {
        "id": "lWhCUMq_0u_0"
      },
      "source": [
        "def calculate_var(array):\n",
        "    mean = calculate_mean(array)\n",
        "    squares = [(x - mean) ** 2 for x in array]\n",
        "    sum_of_squares = calculate_sum(squares)\n",
        "    var = sum_of_squares / (len(array) - 1)\n",
        "\n",
        "    return var"
      ],
      "execution_count": 113,
      "outputs": []
    },
    {
      "cell_type": "code",
      "metadata": {
        "colab": {
          "base_uri": "https://localhost:8080/"
        },
        "id": "_NUbqn93OrfO",
        "outputId": "52d23830-098a-4f79-d267-38d6eeb73c05"
      },
      "source": [
        "var = calculate_var([1, 2, 3, 4, 5])\n",
        "print(var)"
      ],
      "execution_count": 114,
      "outputs": [
        {
          "output_type": "stream",
          "text": [
            "2.5\n"
          ],
          "name": "stdout"
        }
      ]
    },
    {
      "cell_type": "code",
      "metadata": {
        "colab": {
          "base_uri": "https://localhost:8080/"
        },
        "id": "wKqhSpYVRs9W",
        "outputId": "b4cb07e5-3f44-4047-8cd0-f0582e1a32df"
      },
      "source": [
        "var1 = calculate_var(array1)  # [99, 93, 88, 0, 93]\n",
        "print(var1)"
      ],
      "execution_count": 115,
      "outputs": [
        {
          "output_type": "stream",
          "text": [
            "1754.3\n"
          ],
          "name": "stdout"
        }
      ]
    },
    {
      "cell_type": "markdown",
      "metadata": {
        "id": "4Ce0Wo-N0weJ"
      },
      "source": [
        "## Ex5.\n",
        "\n",
        "*   함수 이름: calculate_stddev\n",
        "*   기능: 숫자들을 저장하는 리스트를 전달받아서, 숫자들의 표준편차를 리턴.\n"
      ]
    },
    {
      "cell_type": "code",
      "metadata": {
        "id": "aE6R48gb076-"
      },
      "source": [
        "def calculate_stddev(array):\n",
        "    var = calculate_var(array)\n",
        "    return math.sqrt(var)"
      ],
      "execution_count": 116,
      "outputs": []
    },
    {
      "cell_type": "code",
      "metadata": {
        "colab": {
          "base_uri": "https://localhost:8080/"
        },
        "id": "C7Lm85cRTNYH",
        "outputId": "a6f5d0eb-24de-4ced-e19d-4ca9fa744a58"
      },
      "source": [
        "std_dev = calculate_stddev([1, 2, 3, 4, 5])\n",
        "print(std_dev)"
      ],
      "execution_count": 117,
      "outputs": [
        {
          "output_type": "stream",
          "text": [
            "1.5811388300841898\n"
          ],
          "name": "stdout"
        }
      ]
    },
    {
      "cell_type": "code",
      "metadata": {
        "colab": {
          "base_uri": "https://localhost:8080/"
        },
        "id": "KSWn2e86T0AQ",
        "outputId": "f58aafd7-a6f9-44fb-e7ad-847633ff81b6"
      },
      "source": [
        "std_dev1 = calculate_stddev(array1)\n",
        "print(std_dev1)"
      ],
      "execution_count": 119,
      "outputs": [
        {
          "output_type": "stream",
          "text": [
            "41.88436462452307\n"
          ],
          "name": "stdout"
        }
      ]
    },
    {
      "cell_type": "markdown",
      "metadata": {
        "id": "qpBp08iA1E-j"
      },
      "source": [
        "## Ex6.\n",
        "\n",
        "*   함수 이름: find_min_and_max\n",
        "*   기능: 숫자들를 저장하는 리스트를 전달받아서, 숫자들의 최솟값과 최댓값을 리턴.\n"
      ]
    },
    {
      "cell_type": "code",
      "metadata": {
        "id": "7-72IXpn1WDd"
      },
      "source": [
        "def find_min_and_max(array):\n",
        "    # return min(array), max(array)\n",
        "    min_arr = array[0]  # 리스트의 첫번째 값을 최솟값이라고 가정.\n",
        "    max_arr = array[0]  # 리스트의 첫번째 값을 최댓값이라고 가정.\n",
        "    for x in array:  # 리스트의 값을 하나씩 꺼내면서 반복\n",
        "        if x < min_arr:  # 리스트에서 꺼낸 값이 min_arr보다 작다면\n",
        "            min_arr = x  # 최솟값을 변경\n",
        "        if x > max_arr:  # 리스트에서 꺼낸 값이 max_arr보다 크다면\n",
        "            max_arr = x  # 최댓값을 변경\n",
        "    \n",
        "    return min_arr, max_arr"
      ],
      "execution_count": 123,
      "outputs": []
    },
    {
      "cell_type": "code",
      "metadata": {
        "colab": {
          "base_uri": "https://localhost:8080/"
        },
        "id": "HxnF_pUmUp7Z",
        "outputId": "0e937031-37ef-4d6e-939f-af2f8a4d70b7"
      },
      "source": [
        "find_min_and_max([1, 2, 3, 4, 5])"
      ],
      "execution_count": 124,
      "outputs": [
        {
          "output_type": "execute_result",
          "data": {
            "text/plain": [
              "(1, 5)"
            ]
          },
          "metadata": {
            "tags": []
          },
          "execution_count": 124
        }
      ]
    },
    {
      "cell_type": "code",
      "metadata": {
        "colab": {
          "base_uri": "https://localhost:8080/"
        },
        "id": "K9iAOoozU4jh",
        "outputId": "255c0eb5-4bc7-4d88-c346-abd5309611ed"
      },
      "source": [
        "find_min_and_max([10, 20, 1, 0, 50, 100])"
      ],
      "execution_count": 125,
      "outputs": [
        {
          "output_type": "execute_result",
          "data": {
            "text/plain": [
              "(0, 100)"
            ]
          },
          "metadata": {
            "tags": []
          },
          "execution_count": 125
        }
      ]
    },
    {
      "cell_type": "code",
      "metadata": {
        "id": "ZY14KmoBcC8Z"
      },
      "source": [
        "def find_min_and_max2(array):\n",
        "    # 전달받은 리스트를 오름차순 정렬\n",
        "    sorted_arr = sorted(array)\n",
        "    # 정렬된 리스트의 첫번째 원소(최솟값), 마지막 원소(최댓값)를 반환\n",
        "    return sorted_arr[0], sorted_arr[-1]"
      ],
      "execution_count": 126,
      "outputs": []
    },
    {
      "cell_type": "code",
      "metadata": {
        "colab": {
          "base_uri": "https://localhost:8080/"
        },
        "id": "k_fIYERJcs4M",
        "outputId": "71d56a90-d5ea-44fe-9abf-577a629e118e"
      },
      "source": [
        "find_min_and_max2([10, 20, 1, 0, 50, 100])"
      ],
      "execution_count": 127,
      "outputs": [
        {
          "output_type": "execute_result",
          "data": {
            "text/plain": [
              "(0, 100)"
            ]
          },
          "metadata": {
            "tags": []
          },
          "execution_count": 127
        }
      ]
    }
  ]
}
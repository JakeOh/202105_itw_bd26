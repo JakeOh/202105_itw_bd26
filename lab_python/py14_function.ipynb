{
  "nbformat": 4,
  "nbformat_minor": 0,
  "metadata": {
    "colab": {
      "name": "py14_function.ipynb",
      "provenance": [],
      "authorship_tag": "ABX9TyPdy1vUD42gegz7NMHD1U4q",
      "include_colab_link": true
    },
    "kernelspec": {
      "name": "python3",
      "display_name": "Python 3"
    },
    "language_info": {
      "name": "python"
    }
  },
  "cells": [
    {
      "cell_type": "markdown",
      "metadata": {
        "id": "view-in-github",
        "colab_type": "text"
      },
      "source": [
        "<a href=\"https://colab.research.google.com/github/JakeOh/202105_itw_bd26/blob/main/lab_python/py14_function.ipynb\" target=\"_parent\"><img src=\"https://colab.research.google.com/assets/colab-badge.svg\" alt=\"Open In Colab\"/></a>"
      ]
    },
    {
      "cell_type": "markdown",
      "metadata": {
        "id": "zojLLdypWsZn"
      },
      "source": [
        "# 함수(Function)"
      ]
    },
    {
      "cell_type": "markdown",
      "metadata": {
        "id": "BRWAJT0AWwXf"
      },
      "source": [
        "\n",
        "*   **함수(function)**: 기능을 수행하는 코드 블록\n",
        "*   **인수(argument)**: 함수가 기능을 수행하기 위해서 데이터가 필요한 경우, 함수를 호출할 때 함수에게 전달하는 값(들)\n",
        "*   **매개변수(parameter)**: 함수가 호출될 때 전달되는 값들(argument)을 저장하기 위해서, 함수를 정의할 때 선언하는 변수\n",
        "*   **반환 값(return value)**: 함수가 기능의 수행 결과로 반환하는 값\n",
        "    *   반환 값이 있는 함수도 있고, 반환 값이 없는 함수도 있음.\n"
      ]
    },
    {
      "cell_type": "code",
      "metadata": {
        "colab": {
          "base_uri": "https://localhost:8080/"
        },
        "id": "YLkms33eWdJI",
        "outputId": "554cbcff-ac75-4428-bd24-5a72bdf4098f"
      },
      "source": [
        "result = len([1, 2, 3, 4, 5])\n",
        "print(result)\n",
        "\n",
        "# 함수: len\n",
        "# argument: [1, 2, 3, 4, 5] -> parameter에 저장되는 값\n",
        "# 함수 호출(call, invoke): len([1, 2, 3, 4, 5])\n",
        "# 반환 값: 5"
      ],
      "execution_count": 1,
      "outputs": [
        {
          "output_type": "stream",
          "text": [
            "5\n"
          ],
          "name": "stdout"
        }
      ]
    },
    {
      "cell_type": "code",
      "metadata": {
        "colab": {
          "base_uri": "https://localhost:8080/"
        },
        "id": "R4c8z845awyx",
        "outputId": "422d9185-bebe-4e24-c217-9f77d373f2c5"
      },
      "source": [
        "result = print('안녕하세요')\n",
        "print(result)  #> None - 반환 값 없음."
      ],
      "execution_count": 3,
      "outputs": [
        {
          "output_type": "stream",
          "text": [
            "안녕하세요\n",
            "None\n"
          ],
          "name": "stdout"
        }
      ]
    }
  ]
}
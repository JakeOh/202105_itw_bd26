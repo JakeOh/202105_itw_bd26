{
  "nbformat": 4,
  "nbformat_minor": 0,
  "metadata": {
    "colab": {
      "name": "py04_conditional.ipynb",
      "provenance": [],
      "collapsed_sections": [],
      "authorship_tag": "ABX9TyNyKzio+IUq17VraMFeNr5u",
      "include_colab_link": true
    },
    "kernelspec": {
      "name": "python3",
      "display_name": "Python 3"
    },
    "language_info": {
      "name": "python"
    }
  },
  "cells": [
    {
      "cell_type": "markdown",
      "metadata": {
        "id": "view-in-github",
        "colab_type": "text"
      },
      "source": [
        "<a href=\"https://colab.research.google.com/github/JakeOh/202105_itw_bd26/blob/main/lab_python/py04_conditional.ipynb\" target=\"_parent\"><img src=\"https://colab.research.google.com/assets/colab-badge.svg\" alt=\"Open In Colab\"/></a>"
      ]
    },
    {
      "cell_type": "code",
      "metadata": {
        "id": "1Iiu1mXacjtk"
      },
      "source": [
        "import random  # random 모듈 사용"
      ],
      "execution_count": 1,
      "outputs": []
    },
    {
      "cell_type": "markdown",
      "metadata": {
        "id": "QXWfpY0TeHj_"
      },
      "source": [
        "random 모듈이 가지고 있는 함수들을 사용하는 방법"
      ]
    },
    {
      "cell_type": "code",
      "metadata": {
        "colab": {
          "base_uri": "https://localhost:8080/"
        },
        "id": "UZ3h96oNdvEP",
        "outputId": "17673a1c-6e91-48d0-e02f-0b537097ce84"
      },
      "source": [
        "# random.randrange(start, stop): start <= r < stop 범위의 정수 난수를 생성.\n",
        "random.randrange(start=1, stop=4)"
      ],
      "execution_count": 10,
      "outputs": [
        {
          "output_type": "execute_result",
          "data": {
            "text/plain": [
              "3"
            ]
          },
          "metadata": {
            "tags": []
          },
          "execution_count": 10
        }
      ]
    },
    {
      "cell_type": "code",
      "metadata": {
        "colab": {
          "base_uri": "https://localhost:8080/"
        },
        "id": "SWA6oobph6i0",
        "outputId": "4c7c22f5-4b02-4866-ae8f-4b0646cb1884"
      },
      "source": [
        "# random.randrange(stop): 0 <= r < stop 범위의 정수 난수 생성.\n",
        "random.randrange(4)"
      ],
      "execution_count": 20,
      "outputs": [
        {
          "output_type": "execute_result",
          "data": {
            "text/plain": [
              "1"
            ]
          },
          "metadata": {
            "tags": []
          },
          "execution_count": 20
        }
      ]
    },
    {
      "cell_type": "code",
      "metadata": {
        "colab": {
          "base_uri": "https://localhost:8080/"
        },
        "id": "HoNUw9utiTeD",
        "outputId": "c7f3c844-77d9-4958-d94d-9361669ab627"
      },
      "source": [
        "# random.random(): 0 <= r < 1 범위의 실수 난수 생성\n",
        "random.random()"
      ],
      "execution_count": 26,
      "outputs": [
        {
          "output_type": "execute_result",
          "data": {
            "text/plain": [
              "0.03380544753428394"
            ]
          },
          "metadata": {
            "tags": []
          },
          "execution_count": 26
        }
      ]
    },
    {
      "cell_type": "markdown",
      "metadata": {
        "id": "cbUBCqx7iudL"
      },
      "source": [
        "user가 가위/바위/보 중에서 선택"
      ]
    },
    {
      "cell_type": "code",
      "metadata": {
        "colab": {
          "base_uri": "https://localhost:8080/"
        },
        "id": "pkwAXf5di0Xo",
        "outputId": "631fb972-87cf-4270-e547-04a0245cad68"
      },
      "source": [
        "print('=== 가위/바위/보 ===')\n",
        "print('[1] 가위')\n",
        "print('[2] 바위')\n",
        "print('[3] 보')\n",
        "user = int(input('선택>>> '))"
      ],
      "execution_count": 29,
      "outputs": [
        {
          "output_type": "stream",
          "text": [
            "=== 가위/바위/보 ===\n",
            "[1] 가위\n",
            "[2] 바위\n",
            "[3] 보\n",
            "선택>>> 3\n"
          ],
          "name": "stdout"
        }
      ]
    },
    {
      "cell_type": "markdown",
      "metadata": {
        "id": "7EcwTXjSjbDl"
      },
      "source": [
        "computer가 가위/바위/보 중에서 선택"
      ]
    },
    {
      "cell_type": "code",
      "metadata": {
        "colab": {
          "base_uri": "https://localhost:8080/"
        },
        "id": "vEIC1NR0jdud",
        "outputId": "b9f98e95-2682-42b3-a4f2-1c736112d4ec"
      },
      "source": [
        "computer = random.randrange(1, 4)\n",
        "print(computer)"
      ],
      "execution_count": 31,
      "outputs": [
        {
          "output_type": "stream",
          "text": [
            "3\n"
          ],
          "name": "stdout"
        }
      ]
    },
    {
      "cell_type": "markdown",
      "metadata": {
        "id": "QpK6U6J9jyi-"
      },
      "source": [
        "user와 computer의 가위/바위/보 승패 결정"
      ]
    },
    {
      "cell_type": "code",
      "metadata": {
        "colab": {
          "base_uri": "https://localhost:8080/"
        },
        "id": "NoEjLwbNj1PN",
        "outputId": "6f119aaa-798d-485d-a977-73898ed06a1e"
      },
      "source": [
        "# user 선택\n",
        "print('=== 가위/바위/보 ===')\n",
        "print('[1] 가위')\n",
        "print('[2] 바위')\n",
        "print('[3] 보')\n",
        "user = int(input('선택>>> '))\n",
        "\n",
        "# computer 선택\n",
        "computer = random.randrange(1, 4)\n",
        "print(computer)\n",
        "\n",
        "# 승패 결정\n",
        "if user == 1:\n",
        "    print('user(가위)')\n",
        "    if computer == 1:\n",
        "        print('computer(가위)')\n",
        "        print('Tie')\n",
        "    elif computer == 2:\n",
        "        print('computer(바위)')\n",
        "        print('Computer Won')\n",
        "    else:\n",
        "        print('computer(보)')\n",
        "        print('User Won')\n",
        "elif user == 2:\n",
        "    print('user(바위)')\n",
        "    if computer == 1:\n",
        "        print('computer(가위)')\n",
        "        print('User Won')\n",
        "    elif computer == 2:\n",
        "        print('computer(바위)')\n",
        "        print('Tie')\n",
        "    else:\n",
        "        print('computer(보)')\n",
        "        print('Computer Won')\n",
        "elif user == 3:\n",
        "    print('user(보)')\n",
        "    if computer == 1:\n",
        "        print('computer(가위)')\n",
        "        print('Computer Won')\n",
        "    elif computer == 2:\n",
        "        print('computer(바위)')\n",
        "        print('User Won')\n",
        "    else:\n",
        "        print('computer(보)')\n",
        "        print('Tie')"
      ],
      "execution_count": 39,
      "outputs": [
        {
          "output_type": "stream",
          "text": [
            "=== 가위/바위/보 ===\n",
            "[1] 가위\n",
            "[2] 바위\n",
            "[3] 보\n",
            "선택>>> 2\n",
            "1\n",
            "user(바위)\n",
            "computer(가위)\n",
            "User Won\n"
          ],
          "name": "stdout"
        }
      ]
    },
    {
      "cell_type": "code",
      "metadata": {
        "id": "TcU3XDBRyyW7"
      },
      "source": [
        "if user == computer:  # 비김\n",
        "    pass\n",
        "elif user == 1:  # user=가위\n",
        "    if computer == 2:  # com=바위\n",
        "        pass\n",
        "    else:  # com=보\n",
        "        pass\n",
        "elif user == 2:  # user=바위\n",
        "    if computer == 1:  # com=가위\n",
        "        pass\n",
        "    else:  # com=보\n",
        "        pass\n",
        "elif user == 3:  # user=보\n",
        "    if computer == 1:  # com=가위\n",
        "        pass\n",
        "    else:  # com=바위\n",
        "        pass"
      ],
      "execution_count": 40,
      "outputs": []
    },
    {
      "cell_type": "code",
      "metadata": {
        "id": "MOJmu8FB2P9d"
      },
      "source": [
        "if user == computer:  # 비김\n",
        "    pass\n",
        "elif (user == 1 and computer == 3) or (user == 2 and computer == 1) or (user == 3 and computer == 2):\n",
        "    # user가 이기는 경우\n",
        "    pass\n",
        "else:  # computer가 이기는 경우\n",
        "    pass"
      ],
      "execution_count": 41,
      "outputs": []
    },
    {
      "cell_type": "code",
      "metadata": {
        "id": "WPD_bX5g3LX1"
      },
      "source": [
        "score = user - computer\n",
        "if score == 0:  # 비김\n",
        "    pass\n",
        "elif score == 1 or score == -2:  # user가 이기는 경우\n",
        "    pass\n",
        "else:  # computer가 이기는 경우\n",
        "    pass"
      ],
      "execution_count": null,
      "outputs": []
    }
  ]
}
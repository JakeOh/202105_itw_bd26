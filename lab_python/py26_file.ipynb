{
  "nbformat": 4,
  "nbformat_minor": 0,
  "metadata": {
    "colab": {
      "name": "py26_file.ipynb",
      "provenance": [],
      "collapsed_sections": [],
      "mount_file_id": "17RRel3Ci-OmSlShxnsVxJLyo9k3BAF-V",
      "authorship_tag": "ABX9TyNotwgtm+tiH8DK/Vz0uVCr",
      "include_colab_link": true
    },
    "kernelspec": {
      "name": "python3",
      "display_name": "Python 3"
    },
    "language_info": {
      "name": "python"
    }
  },
  "cells": [
    {
      "cell_type": "markdown",
      "metadata": {
        "id": "view-in-github",
        "colab_type": "text"
      },
      "source": [
        "<a href=\"https://colab.research.google.com/github/JakeOh/202105_itw_bd26/blob/main/lab_python/py26_file.ipynb\" target=\"_parent\"><img src=\"https://colab.research.google.com/assets/colab-badge.svg\" alt=\"Open In Colab\"/></a>"
      ]
    },
    {
      "cell_type": "markdown",
      "metadata": {
        "id": "khGJWbSSEqt6"
      },
      "source": [
        "* colab 연결\n",
        "* google drive를 마운트(연결)\n",
        "* csv_exam.csv 파일을 google drive에 업로드\n",
        "* 업로드된 파일 경로 복사"
      ]
    },
    {
      "cell_type": "code",
      "metadata": {
        "id": "HN-twl4UDD3S"
      },
      "source": [
        "file_path = '/content/drive/MyDrive/Colab Notebooks/lab_python/csv_exam.csv'"
      ],
      "execution_count": 1,
      "outputs": []
    },
    {
      "cell_type": "markdown",
      "metadata": {
        "id": "NBS653_LJObS"
      },
      "source": [
        "1. csv_exam.csv 파일을 오픈\n",
        "2. 파일에서 첫번째 줄을 읽고 아무 동작없이 건너뜀. (파일의 첫번째 줄은 컬럼 이름이기 때문에)\n",
        "3. 파일의 두번째 줄부터 끝까지 4번 내용을 반복 \n",
        "4. 각 줄에서 읽은 내용을 쉼표(,)로 구분(분리)한 리스트를 빈 리스트에 append\n",
        ">   `[['1', '1', '50', '98', '50'], ['2', '1', '60', '9', '60'], ...]`\n",
        "5. 2차원 리스트의 모든 값들을 숫자로 변환\n",
        ">   `[[1, 1, 50, 98, 50], [2, 1, 60, 9, 60], ...]`\n",
        "6. 수학 점수로만 이루어진 1차원 리스트를 생성\n",
        ">   `[50, 60, 45, ...]`\n",
        "7. 수학 점수 최댓값, 최솟값, 평균\n",
        "8. 1반 학생들의 수학 점수 총점, 평균, 최댓값, 최솟값"
      ]
    },
    {
      "cell_type": "code",
      "metadata": {
        "colab": {
          "base_uri": "https://localhost:8080/"
        },
        "id": "fOr73-STEqGd",
        "outputId": "fbe7e8ff-f3e1-45b6-cf5c-b90049ce1663"
      },
      "source": [
        "with open(file_path) as f:  # 파일을 read text 모드로 오픈\n",
        "    f.readline()  # 파일의 첫번째 줄을 읽고 skip\n",
        "    exam = []  # 각 줄의 내용을 저장할 빈 리스트\n",
        "    for line in f:  # 파일의 두번째 줄부터 끝까지 반복\n",
        "        exam.append(line.strip().split(sep=','))\n",
        "\n",
        "exam"
      ],
      "execution_count": 2,
      "outputs": [
        {
          "output_type": "execute_result",
          "data": {
            "text/plain": [
              "[['1', '1', '50', '98', '50'],\n",
              " ['2', '1', '60', '97', '60'],\n",
              " ['3', '1', '45', '86', '78'],\n",
              " ['4', '1', '30', '98', '58'],\n",
              " ['5', '2', '25', '80', '65'],\n",
              " ['6', '2', '50', '89', '98'],\n",
              " ['7', '2', '80', '90', '45'],\n",
              " ['8', '2', '90', '78', '25'],\n",
              " ['9', '3', '20', '98', '15'],\n",
              " ['10', '3', '50', '98', '45'],\n",
              " ['11', '3', '65', '65', '65'],\n",
              " ['12', '3', '45', '85', '32'],\n",
              " ['13', '4', '46', '98', '65'],\n",
              " ['14', '4', '48', '87', '12'],\n",
              " ['15', '4', '75', '56', '78'],\n",
              " ['16', '4', '58', '98', '65'],\n",
              " ['17', '5', '65', '68', '98'],\n",
              " ['18', '5', '80', '78', '90'],\n",
              " ['19', '5', '89', '68', '87'],\n",
              " ['20', '5', '78', '83', '58']]"
            ]
          },
          "metadata": {
            "tags": []
          },
          "execution_count": 2
        }
      ]
    },
    {
      "cell_type": "code",
      "metadata": {
        "colab": {
          "base_uri": "https://localhost:8080/"
        },
        "id": "KcJM53Y7adVE",
        "outputId": "71d6bffb-9003-4c68-b744-5c98e69b179f"
      },
      "source": [
        "for row in exam:\n",
        "    for i, v in enumerate(row):\n",
        "        row[i] = int(v)\n",
        "exam"
      ],
      "execution_count": 3,
      "outputs": [
        {
          "output_type": "execute_result",
          "data": {
            "text/plain": [
              "[[1, 1, 50, 98, 50],\n",
              " [2, 1, 60, 97, 60],\n",
              " [3, 1, 45, 86, 78],\n",
              " [4, 1, 30, 98, 58],\n",
              " [5, 2, 25, 80, 65],\n",
              " [6, 2, 50, 89, 98],\n",
              " [7, 2, 80, 90, 45],\n",
              " [8, 2, 90, 78, 25],\n",
              " [9, 3, 20, 98, 15],\n",
              " [10, 3, 50, 98, 45],\n",
              " [11, 3, 65, 65, 65],\n",
              " [12, 3, 45, 85, 32],\n",
              " [13, 4, 46, 98, 65],\n",
              " [14, 4, 48, 87, 12],\n",
              " [15, 4, 75, 56, 78],\n",
              " [16, 4, 58, 98, 65],\n",
              " [17, 5, 65, 68, 98],\n",
              " [18, 5, 80, 78, 90],\n",
              " [19, 5, 89, 68, 87],\n",
              " [20, 5, 78, 83, 58]]"
            ]
          },
          "metadata": {
            "tags": []
          },
          "execution_count": 3
        }
      ]
    },
    {
      "cell_type": "code",
      "metadata": {
        "colab": {
          "base_uri": "https://localhost:8080/"
        },
        "id": "RkmUrJ5AZQlM",
        "outputId": "a578ea85-77b4-4750-e795-fa8c8e043314"
      },
      "source": [
        "exam[0][1]"
      ],
      "execution_count": 4,
      "outputs": [
        {
          "output_type": "execute_result",
          "data": {
            "text/plain": [
              "1"
            ]
          },
          "metadata": {
            "tags": []
          },
          "execution_count": 4
        }
      ]
    },
    {
      "cell_type": "code",
      "metadata": {
        "colab": {
          "base_uri": "https://localhost:8080/"
        },
        "id": "jJRB-8OHY3hz",
        "outputId": "dd9e19b4-9e04-4a75-8a20-9ed9275036d8"
      },
      "source": [
        "for i, row in enumerate(exam):\n",
        "    for j, x in enumerate(row):\n",
        "        exam[i][j] = int(x)\n",
        "\n",
        "exam"
      ],
      "execution_count": 5,
      "outputs": [
        {
          "output_type": "execute_result",
          "data": {
            "text/plain": [
              "[[1, 1, 50, 98, 50],\n",
              " [2, 1, 60, 97, 60],\n",
              " [3, 1, 45, 86, 78],\n",
              " [4, 1, 30, 98, 58],\n",
              " [5, 2, 25, 80, 65],\n",
              " [6, 2, 50, 89, 98],\n",
              " [7, 2, 80, 90, 45],\n",
              " [8, 2, 90, 78, 25],\n",
              " [9, 3, 20, 98, 15],\n",
              " [10, 3, 50, 98, 45],\n",
              " [11, 3, 65, 65, 65],\n",
              " [12, 3, 45, 85, 32],\n",
              " [13, 4, 46, 98, 65],\n",
              " [14, 4, 48, 87, 12],\n",
              " [15, 4, 75, 56, 78],\n",
              " [16, 4, 58, 98, 65],\n",
              " [17, 5, 65, 68, 98],\n",
              " [18, 5, 80, 78, 90],\n",
              " [19, 5, 89, 68, 87],\n",
              " [20, 5, 78, 83, 58]]"
            ]
          },
          "metadata": {
            "tags": []
          },
          "execution_count": 5
        }
      ]
    },
    {
      "cell_type": "code",
      "metadata": {
        "colab": {
          "base_uri": "https://localhost:8080/"
        },
        "id": "doxZjnIiaMcj",
        "outputId": "138c15c1-af1e-4fef-997a-9811df0ca0f1"
      },
      "source": [
        "with open(file_path) as f:\n",
        "    print(f.readline())\n",
        "    exam = []\n",
        "    for line in f:\n",
        "        row = line.strip().split(',')\n",
        "        student = [int(x) for x in row]\n",
        "        exam.append(student)\n",
        "\n",
        "exam"
      ],
      "execution_count": 6,
      "outputs": [
        {
          "output_type": "stream",
          "text": [
            "id,class,math,english,science\n",
            "\n"
          ],
          "name": "stdout"
        },
        {
          "output_type": "execute_result",
          "data": {
            "text/plain": [
              "[[1, 1, 50, 98, 50],\n",
              " [2, 1, 60, 97, 60],\n",
              " [3, 1, 45, 86, 78],\n",
              " [4, 1, 30, 98, 58],\n",
              " [5, 2, 25, 80, 65],\n",
              " [6, 2, 50, 89, 98],\n",
              " [7, 2, 80, 90, 45],\n",
              " [8, 2, 90, 78, 25],\n",
              " [9, 3, 20, 98, 15],\n",
              " [10, 3, 50, 98, 45],\n",
              " [11, 3, 65, 65, 65],\n",
              " [12, 3, 45, 85, 32],\n",
              " [13, 4, 46, 98, 65],\n",
              " [14, 4, 48, 87, 12],\n",
              " [15, 4, 75, 56, 78],\n",
              " [16, 4, 58, 98, 65],\n",
              " [17, 5, 65, 68, 98],\n",
              " [18, 5, 80, 78, 90],\n",
              " [19, 5, 89, 68, 87],\n",
              " [20, 5, 78, 83, 58]]"
            ]
          },
          "metadata": {
            "tags": []
          },
          "execution_count": 6
        }
      ]
    },
    {
      "cell_type": "code",
      "metadata": {
        "colab": {
          "base_uri": "https://localhost:8080/"
        },
        "id": "tj70mv8Adb7U",
        "outputId": "ff9d15d7-79cb-424b-fc84-5108b022ffcb"
      },
      "source": [
        "# math = []\n",
        "# for row in exam:\n",
        "#     math.append(row[2])\n",
        "\n",
        "math = [row[2] for row in exam]\n",
        "\n",
        "print(math)"
      ],
      "execution_count": 7,
      "outputs": [
        {
          "output_type": "stream",
          "text": [
            "[50, 60, 45, 30, 25, 50, 80, 90, 20, 50, 65, 45, 46, 48, 75, 58, 65, 80, 89, 78]\n"
          ],
          "name": "stdout"
        }
      ]
    },
    {
      "cell_type": "code",
      "metadata": {
        "colab": {
          "base_uri": "https://localhost:8080/"
        },
        "id": "-5wvFSCMdwvR",
        "outputId": "a8e28e50-b7af-4c9e-922e-7089131db02a"
      },
      "source": [
        "print('max:', max(math))\n",
        "print('min:', min(math))"
      ],
      "execution_count": 8,
      "outputs": [
        {
          "output_type": "stream",
          "text": [
            "max: 90\n",
            "min: 20\n"
          ],
          "name": "stdout"
        }
      ]
    },
    {
      "cell_type": "code",
      "metadata": {
        "colab": {
          "base_uri": "https://localhost:8080/"
        },
        "id": "RCS5XtD-d7Jp",
        "outputId": "72bffa9e-3073-4317-8085-9a7b2db3e0dc"
      },
      "source": [
        "math_mean = sum(math) / len(math)\n",
        "print('mean:', math_mean)"
      ],
      "execution_count": 9,
      "outputs": [
        {
          "output_type": "stream",
          "text": [
            "mean: 57.45\n"
          ],
          "name": "stdout"
        }
      ]
    },
    {
      "cell_type": "code",
      "metadata": {
        "colab": {
          "base_uri": "https://localhost:8080/"
        },
        "id": "UFRC_RGBeUqL",
        "outputId": "4b77c5ad-59e2-4bc6-ccaa-3daf591fe195"
      },
      "source": [
        "math_class1 = []  # 1반 학생들의 수학 점수를 저장할 리스트\n",
        "for row in exam:  # 2차원 리스트에서 1차원 리스트를 하나씩 꺼내면서 반복\n",
        "    if row[1]  == 1:  # class 값이 1이면\n",
        "        math_class1.append(row[2])  # 수학 점수를 리스트에 추가\n",
        "\n",
        "print(math_class1)"
      ],
      "execution_count": 10,
      "outputs": [
        {
          "output_type": "stream",
          "text": [
            "[50, 60, 45, 30]\n"
          ],
          "name": "stdout"
        }
      ]
    },
    {
      "cell_type": "code",
      "metadata": {
        "colab": {
          "base_uri": "https://localhost:8080/"
        },
        "id": "PPlfz_i3faNq",
        "outputId": "6fb1a044-d026-4993-bc07-75cf84909d74"
      },
      "source": [
        "# 2반 학생들의 수학 점수\n",
        "math_class2 = [row[2] for row in exam if row[1] == 2]\n",
        "print(math_class2)"
      ],
      "execution_count": 11,
      "outputs": [
        {
          "output_type": "stream",
          "text": [
            "[25, 50, 80, 90]\n"
          ],
          "name": "stdout"
        }
      ]
    },
    {
      "cell_type": "code",
      "metadata": {
        "colab": {
          "base_uri": "https://localhost:8080/"
        },
        "id": "LDx1rf1Ifqya",
        "outputId": "2f7ba0e6-d860-4afa-d882-3f19c2e41b7a"
      },
      "source": [
        "print('총점:', sum(math_class1))\n",
        "print('평균:', sum(math_class1) / len(math_class1))\n",
        "print('최댓값:', max(math_class1))\n",
        "print('최솟값:', min(math_class1))"
      ],
      "execution_count": 12,
      "outputs": [
        {
          "output_type": "stream",
          "text": [
            "총점: 185\n",
            "평균: 46.25\n",
            "최댓값: 60\n",
            "최솟값: 30\n"
          ],
          "name": "stdout"
        }
      ]
    },
    {
      "cell_type": "markdown",
      "metadata": {
        "id": "weDDSQoth-Vq"
      },
      "source": [
        "\n",
        "* id, class, math, english, science를 속성으로 갖는 클래스 Student를 구현\n",
        "    * `__init__`\n",
        "    * `__repr__`\n",
        "* csv_exam.csv 파일을 열고, 한 줄씩 Student 객체를 생성하고 리스트에 추가(append)\n",
        "* 각 과목(수학, 영어, 과학)의 평균을 계산\n",
        "* 1반 학생들의 각 과목 평균을 계산\n"
      ]
    },
    {
      "cell_type": "code",
      "metadata": {
        "id": "qnPpdqY-Xm9o"
      },
      "source": [
        "class Student:\n",
        "    def __init__(self, id, cls, math, english, science):\n",
        "        self.id = int(id)\n",
        "        self.cls = int(cls)\n",
        "        self.math = int(math)\n",
        "        self.english = int(english)\n",
        "        self.science = int(science)\n",
        "\n",
        "    def __repr__(self):\n",
        "        return f'Student(id={self.id}, class={self.cls}, math={self.math}, english={self.english}, science={self.science})'"
      ],
      "execution_count": 17,
      "outputs": []
    },
    {
      "cell_type": "code",
      "metadata": {
        "colab": {
          "base_uri": "https://localhost:8080/"
        },
        "id": "YdpTefr0ZP7g",
        "outputId": "bd8b406a-b6c9-49f7-c97f-09f3b28510c1"
      },
      "source": [
        "exams = []\n",
        "with open(file_path) as f:\n",
        "    f.readline()  # 파일의 첫번째 줄은 컬럼 이름이므로 읽고 넘어감.\n",
        "    for line in f:\n",
        "        score = line.strip().split(sep=',')\n",
        "        student = Student(score[0], score[1], score[2], score[3], score[4])\n",
        "        exams.append(student)\n",
        "\n",
        "exams"
      ],
      "execution_count": 18,
      "outputs": [
        {
          "output_type": "execute_result",
          "data": {
            "text/plain": [
              "[Student(id=1, class=1, math=50, english=98, science=50),\n",
              " Student(id=2, class=1, math=60, english=97, science=60),\n",
              " Student(id=3, class=1, math=45, english=86, science=78),\n",
              " Student(id=4, class=1, math=30, english=98, science=58),\n",
              " Student(id=5, class=2, math=25, english=80, science=65),\n",
              " Student(id=6, class=2, math=50, english=89, science=98),\n",
              " Student(id=7, class=2, math=80, english=90, science=45),\n",
              " Student(id=8, class=2, math=90, english=78, science=25),\n",
              " Student(id=9, class=3, math=20, english=98, science=15),\n",
              " Student(id=10, class=3, math=50, english=98, science=45),\n",
              " Student(id=11, class=3, math=65, english=65, science=65),\n",
              " Student(id=12, class=3, math=45, english=85, science=32),\n",
              " Student(id=13, class=4, math=46, english=98, science=65),\n",
              " Student(id=14, class=4, math=48, english=87, science=12),\n",
              " Student(id=15, class=4, math=75, english=56, science=78),\n",
              " Student(id=16, class=4, math=58, english=98, science=65),\n",
              " Student(id=17, class=5, math=65, english=68, science=98),\n",
              " Student(id=18, class=5, math=80, english=78, science=90),\n",
              " Student(id=19, class=5, math=89, english=68, science=87),\n",
              " Student(id=20, class=5, math=78, english=83, science=58)]"
            ]
          },
          "metadata": {
            "tags": []
          },
          "execution_count": 18
        }
      ]
    },
    {
      "cell_type": "code",
      "metadata": {
        "id": "E4HdXOJ1czpP"
      },
      "source": [
        "class Student2:\n",
        "    def __init__(self, score):\n",
        "        self.id = int(score[0])\n",
        "        self.cls = int(score[1])\n",
        "        self.math = int(score[2])\n",
        "        self.english = int(score[3])\n",
        "        self.science = int(score[4])\n",
        "    \n",
        "    def __repr__(self):\n",
        "        return f'Student(id={self.id}, class={self.cls}, math={self.math}, english={self.english}, science={self.science})'"
      ],
      "execution_count": 27,
      "outputs": []
    },
    {
      "cell_type": "code",
      "metadata": {
        "colab": {
          "base_uri": "https://localhost:8080/"
        },
        "id": "TCjHgJi6dXJV",
        "outputId": "97c57540-f44f-443b-c436-e3762e53c37d"
      },
      "source": [
        "exams = []\n",
        "with open(file_path) as f:\n",
        "    f.readline()\n",
        "    for line in f:\n",
        "        student = Student2(line.strip().split(sep=','))\n",
        "        exams.append(student)\n",
        "\n",
        "exams"
      ],
      "execution_count": 28,
      "outputs": [
        {
          "output_type": "execute_result",
          "data": {
            "text/plain": [
              "[Student(id=1, class=1, math=50, english=98, science=50),\n",
              " Student(id=2, class=1, math=60, english=97, science=60),\n",
              " Student(id=3, class=1, math=45, english=86, science=78),\n",
              " Student(id=4, class=1, math=30, english=98, science=58),\n",
              " Student(id=5, class=2, math=25, english=80, science=65),\n",
              " Student(id=6, class=2, math=50, english=89, science=98),\n",
              " Student(id=7, class=2, math=80, english=90, science=45),\n",
              " Student(id=8, class=2, math=90, english=78, science=25),\n",
              " Student(id=9, class=3, math=20, english=98, science=15),\n",
              " Student(id=10, class=3, math=50, english=98, science=45),\n",
              " Student(id=11, class=3, math=65, english=65, science=65),\n",
              " Student(id=12, class=3, math=45, english=85, science=32),\n",
              " Student(id=13, class=4, math=46, english=98, science=65),\n",
              " Student(id=14, class=4, math=48, english=87, science=12),\n",
              " Student(id=15, class=4, math=75, english=56, science=78),\n",
              " Student(id=16, class=4, math=58, english=98, science=65),\n",
              " Student(id=17, class=5, math=65, english=68, science=98),\n",
              " Student(id=18, class=5, math=80, english=78, science=90),\n",
              " Student(id=19, class=5, math=89, english=68, science=87),\n",
              " Student(id=20, class=5, math=78, english=83, science=58)]"
            ]
          },
          "metadata": {
            "tags": []
          },
          "execution_count": 28
        }
      ]
    },
    {
      "cell_type": "code",
      "metadata": {
        "colab": {
          "base_uri": "https://localhost:8080/"
        },
        "id": "BLVkKp5kivJd",
        "outputId": "c42780c1-db86-4dc7-c7d3-54bb6a73429a"
      },
      "source": [
        "# exams에서 수학 점수들만 저장한 리스트\n",
        "maths = [s.math for s in exams]\n",
        "print(maths)"
      ],
      "execution_count": 30,
      "outputs": [
        {
          "output_type": "stream",
          "text": [
            "[50, 60, 45, 30, 25, 50, 80, 90, 20, 50, 65, 45, 46, 48, 75, 58, 65, 80, 89, 78]\n"
          ],
          "name": "stdout"
        }
      ]
    },
    {
      "cell_type": "code",
      "metadata": {
        "colab": {
          "base_uri": "https://localhost:8080/"
        },
        "id": "1pHH7Mydjl4U",
        "outputId": "f40baf37-0dc9-46be-9bd8-69b523a24b87"
      },
      "source": [
        "print('max:', max(maths))\n",
        "print('min:', min(maths))\n",
        "print('mean:', sum(maths) / len(maths))"
      ],
      "execution_count": 31,
      "outputs": [
        {
          "output_type": "stream",
          "text": [
            "max: 90\n",
            "min: 20\n",
            "mean: 57.45\n"
          ],
          "name": "stdout"
        }
      ]
    },
    {
      "cell_type": "code",
      "metadata": {
        "colab": {
          "base_uri": "https://localhost:8080/"
        },
        "id": "su0XSaqDj3Dt",
        "outputId": "ba97cad8-5bd2-4a37-b55b-c94124a1eda5"
      },
      "source": [
        "maths_class1 = [s.math for s in exams if s.cls == 1]\n",
        "print(maths_class1)\n",
        "print('mean:', sum(maths_class1) / len(maths_class1))"
      ],
      "execution_count": 34,
      "outputs": [
        {
          "output_type": "stream",
          "text": [
            "[50, 60, 45, 30]\n",
            "mean: 46.25\n"
          ],
          "name": "stdout"
        }
      ]
    },
    {
      "cell_type": "code",
      "metadata": {
        "colab": {
          "base_uri": "https://localhost:8080/"
        },
        "id": "GBLMI8yTkPT9",
        "outputId": "360bb016-fe8b-4de5-a15d-0e553ee5dc7a"
      },
      "source": [
        "english_class1 = [s.english for s in exams if s.cls == 1]\n",
        "print(english_class1)\n",
        "print('mean:', sum(english_class1) / len(english_class1))"
      ],
      "execution_count": 36,
      "outputs": [
        {
          "output_type": "stream",
          "text": [
            "[98, 97, 86, 98]\n",
            "mean: 94.75\n"
          ],
          "name": "stdout"
        }
      ]
    }
  ]
}
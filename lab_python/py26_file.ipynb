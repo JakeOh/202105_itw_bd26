{
  "nbformat": 4,
  "nbformat_minor": 0,
  "metadata": {
    "colab": {
      "name": "py26_file.ipynb",
      "provenance": [],
      "mount_file_id": "17RRel3Ci-OmSlShxnsVxJLyo9k3BAF-V",
      "authorship_tag": "ABX9TyM4dNfjsURqSj8omqTZBceq",
      "include_colab_link": true
    },
    "kernelspec": {
      "name": "python3",
      "display_name": "Python 3"
    },
    "language_info": {
      "name": "python"
    }
  },
  "cells": [
    {
      "cell_type": "markdown",
      "metadata": {
        "id": "view-in-github",
        "colab_type": "text"
      },
      "source": [
        "<a href=\"https://colab.research.google.com/github/JakeOh/202105_itw_bd26/blob/main/lab_python/py26_file.ipynb\" target=\"_parent\"><img src=\"https://colab.research.google.com/assets/colab-badge.svg\" alt=\"Open In Colab\"/></a>"
      ]
    },
    {
      "cell_type": "markdown",
      "metadata": {
        "id": "khGJWbSSEqt6"
      },
      "source": [
        "* colab 연결\n",
        "* google drive를 마운트(연결)\n",
        "* csv_exam.csv 파일을 google drive에 업로드\n",
        "* 업로드된 파일 경로 복사"
      ]
    },
    {
      "cell_type": "code",
      "metadata": {
        "id": "HN-twl4UDD3S"
      },
      "source": [
        "file_path = '/content/drive/MyDrive/Colab Notebooks/lab_python/csv_exam.csv'"
      ],
      "execution_count": 1,
      "outputs": []
    },
    {
      "cell_type": "markdown",
      "metadata": {
        "id": "NBS653_LJObS"
      },
      "source": [
        "1. csv_exam.csv 파일을 오픈\n",
        "2. 파일에서 첫번째 줄을 읽고 아무 동작없이 건너뜀. (파일의 첫번째 줄은 컬럼 이름이기 때문에)\n",
        "3. 파일의 두번째 줄부터 끝까지 4번 내용을 반복 \n",
        "4. 각 줄에서 읽은 내용을 쉼표(,)로 구분(분리)한 리스트를 빈 리스트에 append\n",
        ">   `[['1', '1', '50', '98', '50'], ['2', '1', '60', '9', '60'], ...]`\n",
        "5. 2차원 리스트의 모든 값들을 숫자로 변환\n",
        ">   `[[1, 1, 50, 98, 50], [2, 1, 60, 9, 60], ...]`\n",
        "6. 수학 점수로만 이루어진 1차원 리스트를 생성\n",
        ">   `[50, 60, 45, ...]`\n",
        "7. 수학 점수 최댓값, 최솟값, 평균\n",
        "8. 1반 학생들의 수학 점수 총점, 평균, 최댓값, 최솟값"
      ]
    },
    {
      "cell_type": "code",
      "metadata": {
        "id": "fOr73-STEqGd"
      },
      "source": [
        ""
      ],
      "execution_count": null,
      "outputs": []
    }
  ]
}
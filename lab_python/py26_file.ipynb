{
  "nbformat": 4,
  "nbformat_minor": 0,
  "metadata": {
    "colab": {
      "name": "py26_file.ipynb",
      "provenance": [],
      "collapsed_sections": [],
      "mount_file_id": "17RRel3Ci-OmSlShxnsVxJLyo9k3BAF-V",
      "authorship_tag": "ABX9TyPRDTZzU9VJdsLlvPi0tH+h",
      "include_colab_link": true
    },
    "kernelspec": {
      "name": "python3",
      "display_name": "Python 3"
    },
    "language_info": {
      "name": "python"
    }
  },
  "cells": [
    {
      "cell_type": "markdown",
      "metadata": {
        "id": "view-in-github",
        "colab_type": "text"
      },
      "source": [
        "<a href=\"https://colab.research.google.com/github/JakeOh/202105_itw_bd26/blob/main/lab_python/py26_file.ipynb\" target=\"_parent\"><img src=\"https://colab.research.google.com/assets/colab-badge.svg\" alt=\"Open In Colab\"/></a>"
      ]
    },
    {
      "cell_type": "markdown",
      "metadata": {
        "id": "khGJWbSSEqt6"
      },
      "source": [
        "* colab 연결\n",
        "* google drive를 마운트(연결)\n",
        "* csv_exam.csv 파일을 google drive에 업로드\n",
        "* 업로드된 파일 경로 복사"
      ]
    },
    {
      "cell_type": "code",
      "metadata": {
        "id": "HN-twl4UDD3S"
      },
      "source": [
        "file_path = '/content/drive/MyDrive/Colab Notebooks/lab_python/csv_exam.csv'"
      ],
      "execution_count": 1,
      "outputs": []
    },
    {
      "cell_type": "markdown",
      "metadata": {
        "id": "NBS653_LJObS"
      },
      "source": [
        "1. csv_exam.csv 파일을 오픈\n",
        "2. 파일에서 첫번째 줄을 읽고 아무 동작없이 건너뜀. (파일의 첫번째 줄은 컬럼 이름이기 때문에)\n",
        "3. 파일의 두번째 줄부터 끝까지 4번 내용을 반복 \n",
        "4. 각 줄에서 읽은 내용을 쉼표(,)로 구분(분리)한 리스트를 빈 리스트에 append\n",
        ">   `[['1', '1', '50', '98', '50'], ['2', '1', '60', '9', '60'], ...]`\n",
        "5. 2차원 리스트의 모든 값들을 숫자로 변환\n",
        ">   `[[1, 1, 50, 98, 50], [2, 1, 60, 9, 60], ...]`\n",
        "6. 수학 점수로만 이루어진 1차원 리스트를 생성\n",
        ">   `[50, 60, 45, ...]`\n",
        "7. 수학 점수 최댓값, 최솟값, 평균\n",
        "8. 1반 학생들의 수학 점수 총점, 평균, 최댓값, 최솟값"
      ]
    },
    {
      "cell_type": "code",
      "metadata": {
        "colab": {
          "base_uri": "https://localhost:8080/"
        },
        "id": "fOr73-STEqGd",
        "outputId": "7a13e292-cb91-4e6f-8cf5-702e619cd6a8"
      },
      "source": [
        "with open(file_path) as f:  # 파일을 read text 모드로 오픈\n",
        "    f.readline()  # 파일의 첫번째 줄을 읽고 skip\n",
        "    exam = []  # 각 줄의 내용을 저장할 빈 리스트\n",
        "    for line in f:  # 파일의 두번째 줄부터 끝까지 반복\n",
        "        exam.append(line.strip().split(sep=','))\n",
        "\n",
        "exam"
      ],
      "execution_count": 19,
      "outputs": [
        {
          "output_type": "execute_result",
          "data": {
            "text/plain": [
              "[['1', '1', '50', '98', '50'],\n",
              " ['2', '1', '60', '97', '60'],\n",
              " ['3', '1', '45', '86', '78'],\n",
              " ['4', '1', '30', '98', '58'],\n",
              " ['5', '2', '25', '80', '65'],\n",
              " ['6', '2', '50', '89', '98'],\n",
              " ['7', '2', '80', '90', '45'],\n",
              " ['8', '2', '90', '78', '25'],\n",
              " ['9', '3', '20', '98', '15'],\n",
              " ['10', '3', '50', '98', '45'],\n",
              " ['11', '3', '65', '65', '65'],\n",
              " ['12', '3', '45', '85', '32'],\n",
              " ['13', '4', '46', '98', '65'],\n",
              " ['14', '4', '48', '87', '12'],\n",
              " ['15', '4', '75', '56', '78'],\n",
              " ['16', '4', '58', '98', '65'],\n",
              " ['17', '5', '65', '68', '98'],\n",
              " ['18', '5', '80', '78', '90'],\n",
              " ['19', '5', '89', '68', '87'],\n",
              " ['20', '5', '78', '83', '58']]"
            ]
          },
          "metadata": {
            "tags": []
          },
          "execution_count": 19
        }
      ]
    },
    {
      "cell_type": "code",
      "metadata": {
        "colab": {
          "base_uri": "https://localhost:8080/"
        },
        "id": "KcJM53Y7adVE",
        "outputId": "cfa13b0a-8781-4328-ed36-3b2d6ec0e6a1"
      },
      "source": [
        "for row in exam:\n",
        "    for i, v in enumerate(row):\n",
        "        row[i] = int(v)\n",
        "exam"
      ],
      "execution_count": 18,
      "outputs": [
        {
          "output_type": "execute_result",
          "data": {
            "text/plain": [
              "[[1, 1, 50, 98, 50],\n",
              " [2, 1, 60, 97, 60],\n",
              " [3, 1, 45, 86, 78],\n",
              " [4, 1, 30, 98, 58],\n",
              " [5, 2, 25, 80, 65],\n",
              " [6, 2, 50, 89, 98],\n",
              " [7, 2, 80, 90, 45],\n",
              " [8, 2, 90, 78, 25],\n",
              " [9, 3, 20, 98, 15],\n",
              " [10, 3, 50, 98, 45],\n",
              " [11, 3, 65, 65, 65],\n",
              " [12, 3, 45, 85, 32],\n",
              " [13, 4, 46, 98, 65],\n",
              " [14, 4, 48, 87, 12],\n",
              " [15, 4, 75, 56, 78],\n",
              " [16, 4, 58, 98, 65],\n",
              " [17, 5, 65, 68, 98],\n",
              " [18, 5, 80, 78, 90],\n",
              " [19, 5, 89, 68, 87],\n",
              " [20, 5, 78, 83, 58]]"
            ]
          },
          "metadata": {
            "tags": []
          },
          "execution_count": 18
        }
      ]
    },
    {
      "cell_type": "code",
      "metadata": {
        "colab": {
          "base_uri": "https://localhost:8080/",
          "height": 36
        },
        "id": "RkmUrJ5AZQlM",
        "outputId": "875f265f-da44-4dd9-bbee-88c600a4f389"
      },
      "source": [
        "exam[0][1]"
      ],
      "execution_count": 14,
      "outputs": [
        {
          "output_type": "execute_result",
          "data": {
            "application/vnd.google.colaboratory.intrinsic+json": {
              "type": "string"
            },
            "text/plain": [
              "'1'"
            ]
          },
          "metadata": {
            "tags": []
          },
          "execution_count": 14
        }
      ]
    },
    {
      "cell_type": "code",
      "metadata": {
        "colab": {
          "base_uri": "https://localhost:8080/"
        },
        "id": "jJRB-8OHY3hz",
        "outputId": "00193747-1487-4517-ed22-879436fd4256"
      },
      "source": [
        "for i, row in enumerate(exam):\n",
        "    for j, x in enumerate(row):\n",
        "        exam[i][j] = int(x)\n",
        "\n",
        "exam"
      ],
      "execution_count": 15,
      "outputs": [
        {
          "output_type": "execute_result",
          "data": {
            "text/plain": [
              "[[1, 1, 50, 98, 50],\n",
              " [2, 1, 60, 97, 60],\n",
              " [3, 1, 45, 86, 78],\n",
              " [4, 1, 30, 98, 58],\n",
              " [5, 2, 25, 80, 65],\n",
              " [6, 2, 50, 89, 98],\n",
              " [7, 2, 80, 90, 45],\n",
              " [8, 2, 90, 78, 25],\n",
              " [9, 3, 20, 98, 15],\n",
              " [10, 3, 50, 98, 45],\n",
              " [11, 3, 65, 65, 65],\n",
              " [12, 3, 45, 85, 32],\n",
              " [13, 4, 46, 98, 65],\n",
              " [14, 4, 48, 87, 12],\n",
              " [15, 4, 75, 56, 78],\n",
              " [16, 4, 58, 98, 65],\n",
              " [17, 5, 65, 68, 98],\n",
              " [18, 5, 80, 78, 90],\n",
              " [19, 5, 89, 68, 87],\n",
              " [20, 5, 78, 83, 58]]"
            ]
          },
          "metadata": {
            "tags": []
          },
          "execution_count": 15
        }
      ]
    },
    {
      "cell_type": "code",
      "metadata": {
        "colab": {
          "base_uri": "https://localhost:8080/"
        },
        "id": "doxZjnIiaMcj",
        "outputId": "b1061974-622c-4b95-ce3e-6ca7cd5fc97e"
      },
      "source": [
        "with open(file_path) as f:\n",
        "    print(f.readline())\n",
        "    exam = []\n",
        "    for line in f:\n",
        "        row = line.strip().split(',')\n",
        "        student = [int(x) for x in row]\n",
        "        exam.append(student)\n",
        "\n",
        "exam"
      ],
      "execution_count": 26,
      "outputs": [
        {
          "output_type": "stream",
          "text": [
            "id,class,math,english,science\n",
            "\n"
          ],
          "name": "stdout"
        },
        {
          "output_type": "execute_result",
          "data": {
            "text/plain": [
              "[[1, 1, 50, 98, 50],\n",
              " [2, 1, 60, 97, 60],\n",
              " [3, 1, 45, 86, 78],\n",
              " [4, 1, 30, 98, 58],\n",
              " [5, 2, 25, 80, 65],\n",
              " [6, 2, 50, 89, 98],\n",
              " [7, 2, 80, 90, 45],\n",
              " [8, 2, 90, 78, 25],\n",
              " [9, 3, 20, 98, 15],\n",
              " [10, 3, 50, 98, 45],\n",
              " [11, 3, 65, 65, 65],\n",
              " [12, 3, 45, 85, 32],\n",
              " [13, 4, 46, 98, 65],\n",
              " [14, 4, 48, 87, 12],\n",
              " [15, 4, 75, 56, 78],\n",
              " [16, 4, 58, 98, 65],\n",
              " [17, 5, 65, 68, 98],\n",
              " [18, 5, 80, 78, 90],\n",
              " [19, 5, 89, 68, 87],\n",
              " [20, 5, 78, 83, 58]]"
            ]
          },
          "metadata": {
            "tags": []
          },
          "execution_count": 26
        }
      ]
    },
    {
      "cell_type": "code",
      "metadata": {
        "colab": {
          "base_uri": "https://localhost:8080/"
        },
        "id": "tj70mv8Adb7U",
        "outputId": "2e5a6e6b-bd30-45a7-bc8e-5ac2ea4dcbd5"
      },
      "source": [
        "# math = []\n",
        "# for row in exam:\n",
        "#     math.append(row[2])\n",
        "\n",
        "math = [row[2] for row in exam]\n",
        "\n",
        "print(math)"
      ],
      "execution_count": 29,
      "outputs": [
        {
          "output_type": "stream",
          "text": [
            "[50, 60, 45, 30, 25, 50, 80, 90, 20, 50, 65, 45, 46, 48, 75, 58, 65, 80, 89, 78]\n"
          ],
          "name": "stdout"
        }
      ]
    },
    {
      "cell_type": "code",
      "metadata": {
        "colab": {
          "base_uri": "https://localhost:8080/"
        },
        "id": "-5wvFSCMdwvR",
        "outputId": "58b7967b-e884-4d89-ce67-aa5baabef38b"
      },
      "source": [
        "print('max:', max(math))\n",
        "print('min:', min(math))"
      ],
      "execution_count": 30,
      "outputs": [
        {
          "output_type": "stream",
          "text": [
            "max: 90\n",
            "min: 20\n"
          ],
          "name": "stdout"
        }
      ]
    },
    {
      "cell_type": "code",
      "metadata": {
        "colab": {
          "base_uri": "https://localhost:8080/"
        },
        "id": "RCS5XtD-d7Jp",
        "outputId": "9ce1bced-7345-4538-fd9a-50a4aa32fa7e"
      },
      "source": [
        "math_mean = sum(math) / len(math)\n",
        "print('mean:', math_mean)"
      ],
      "execution_count": 31,
      "outputs": [
        {
          "output_type": "stream",
          "text": [
            "mean: 57.45\n"
          ],
          "name": "stdout"
        }
      ]
    },
    {
      "cell_type": "code",
      "metadata": {
        "colab": {
          "base_uri": "https://localhost:8080/"
        },
        "id": "UFRC_RGBeUqL",
        "outputId": "bec87ebc-b6ab-4c6f-abcd-fc9d75df025f"
      },
      "source": [
        "math_class1 = []  # 1반 학생들의 수학 점수를 저장할 리스트\n",
        "for row in exam:  # 2차원 리스트에서 1차원 리스트를 하나씩 꺼내면서 반복\n",
        "    if row[1]  == 1:  # class 값이 1이면\n",
        "        math_class1.append(row[2])  # 수학 점수를 리스트에 추가\n",
        "\n",
        "print(math_class1)"
      ],
      "execution_count": 32,
      "outputs": [
        {
          "output_type": "stream",
          "text": [
            "[50, 60, 45, 30]\n"
          ],
          "name": "stdout"
        }
      ]
    },
    {
      "cell_type": "code",
      "metadata": {
        "colab": {
          "base_uri": "https://localhost:8080/"
        },
        "id": "PPlfz_i3faNq",
        "outputId": "691e2e6e-bacd-4f6a-9998-24af4cc157d1"
      },
      "source": [
        "# 2반 학생들의 수학 점수\n",
        "math_class2 = [row[2] for row in exam if row[1] == 2]\n",
        "print(math_class2)"
      ],
      "execution_count": 33,
      "outputs": [
        {
          "output_type": "stream",
          "text": [
            "[25, 50, 80, 90]\n"
          ],
          "name": "stdout"
        }
      ]
    },
    {
      "cell_type": "code",
      "metadata": {
        "colab": {
          "base_uri": "https://localhost:8080/"
        },
        "id": "LDx1rf1Ifqya",
        "outputId": "40013881-1a65-45cd-d695-8015516d03ee"
      },
      "source": [
        "print('총점:', sum(math_class1))\n",
        "print('평균:', sum(math_class1) / len(math_class1))\n",
        "print('최댓값:', max(math_class1))\n",
        "print('최솟값:', min(math_class1))"
      ],
      "execution_count": 36,
      "outputs": [
        {
          "output_type": "stream",
          "text": [
            "총점: 185\n",
            "평균: 46.25\n",
            "최댓값: 60\n",
            "최솟값: 30\n"
          ],
          "name": "stdout"
        }
      ]
    },
    {
      "cell_type": "markdown",
      "metadata": {
        "id": "weDDSQoth-Vq"
      },
      "source": [
        "\n",
        "* id, class, math, english, science를 속성으로 갖는 클래스 Student를 구현\n",
        "    * `__init__`\n",
        "    * `__repr__`\n",
        "* csv_exam.csv 파일을 열고, 한 줄씩 Student 객체를 생성하고 리스트에 추가(append)\n",
        "* 각 과목(수학, 영어, 과학)의 평균을 계산\n",
        "* 1반 학생들의 각 과목 평균을 계산\n"
      ]
    }
  ]
}
{
  "nbformat": 4,
  "nbformat_minor": 0,
  "metadata": {
    "colab": {
      "name": "py10_list_ex.ipynb",
      "provenance": [],
      "authorship_tag": "ABX9TyOXJRgl01E/u8JFItGnUbhu",
      "include_colab_link": true
    },
    "kernelspec": {
      "name": "python3",
      "display_name": "Python 3"
    },
    "language_info": {
      "name": "python"
    }
  },
  "cells": [
    {
      "cell_type": "markdown",
      "metadata": {
        "id": "view-in-github",
        "colab_type": "text"
      },
      "source": [
        "<a href=\"https://colab.research.google.com/github/JakeOh/202105_itw_bd26/blob/main/lab_python/py10_list_ex.ipynb\" target=\"_parent\"><img src=\"https://colab.research.google.com/assets/colab-badge.svg\" alt=\"Open In Colab\"/></a>"
      ]
    },
    {
      "cell_type": "code",
      "metadata": {
        "id": "sdfHkHYCU5fK"
      },
      "source": [
        "import random  # 난수 생성\n",
        "import math    # 수학 함수(math.sqrt, ...)"
      ],
      "execution_count": null,
      "outputs": []
    },
    {
      "cell_type": "markdown",
      "metadata": {
        "id": "dc5ZiRUZVY_n"
      },
      "source": [
        "\n",
        "*   0 이상 10 미만의 정수 난수 5개를 갖는 리스트 생성\n",
        "*   리스트의 모든 원소의 합계\n",
        "*   리스트의 모든 원소의 평균\n",
        "*   리스트의 모든 원소의 분산\n",
        "*   리스트의 모든 원소의 표준편차\n",
        "*   리스트의 원소들 중 최댓값\n",
        "*   리스트의 원소들 중 최솟값\n",
        "*   리스트의 원소들을 정렬\n"
      ]
    }
  ]
}
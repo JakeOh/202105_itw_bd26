{
  "nbformat": 4,
  "nbformat_minor": 0,
  "metadata": {
    "colab": {
      "name": "py10_list_ex.ipynb",
      "provenance": [],
      "collapsed_sections": [],
      "authorship_tag": "ABX9TyPSVEVo9YiwMY5DkBbrXXXf",
      "include_colab_link": true
    },
    "kernelspec": {
      "name": "python3",
      "display_name": "Python 3"
    },
    "language_info": {
      "name": "python"
    }
  },
  "cells": [
    {
      "cell_type": "markdown",
      "metadata": {
        "id": "view-in-github",
        "colab_type": "text"
      },
      "source": [
        "<a href=\"https://colab.research.google.com/github/JakeOh/202105_itw_bd26/blob/main/lab_python/py10_list_ex.ipynb\" target=\"_parent\"><img src=\"https://colab.research.google.com/assets/colab-badge.svg\" alt=\"Open In Colab\"/></a>"
      ]
    },
    {
      "cell_type": "code",
      "metadata": {
        "id": "sdfHkHYCU5fK"
      },
      "source": [
        "import random  # 난수 생성\n",
        "import math    # 수학 함수(math.sqrt, ...)"
      ],
      "execution_count": 1,
      "outputs": []
    },
    {
      "cell_type": "markdown",
      "metadata": {
        "id": "dc5ZiRUZVY_n"
      },
      "source": [
        "\n",
        "*   0 이상 10 미만의 정수 난수 5개를 갖는 리스트 생성\n",
        "\n",
        "$$\n",
        "x = [x_1, x_2, x_3, ..., x_n]\n",
        "$$\n",
        "\n",
        "*   리스트의 모든 원소의 합계\n",
        "\n",
        "$$\n",
        "sum = \\sum_{i = 1}^{n} x_i = x_1 + x_2 + ... + x_n\n",
        "$$\n",
        "\n",
        "*   리스트의 모든 원소의 평균(mean)\n",
        "\n",
        "$$\n",
        "\\bar{x} = \\frac{1}{n} \\sum_{i = 1}^{n} x_i\n",
        "$$\n",
        "\n",
        "*   리스트의 모든 원소의 분산(variance)\n",
        "\n",
        "$$\n",
        "var = \\frac{1}{n - 1} \\sum_{i = 1}^{n} (x_i - \\bar{x})^2\n",
        "$$\n",
        "\n",
        "*   리스트의 모든 원소의 표준편차(standard deviation)\n",
        "\n",
        "$$\n",
        "std = \\sqrt{var}\n",
        "    = \\sqrt{\\frac{1}{n - 1} \\sum_{i = 1}^{n} (x_i - \\bar{x})^2}\n",
        "$$\n",
        "\n",
        "*   리스트의 원소들 중 최댓값\n",
        "*   리스트의 원소들 중 최솟값\n",
        "*   리스트의 원소들을 정렬\n"
      ]
    },
    {
      "cell_type": "code",
      "metadata": {
        "colab": {
          "base_uri": "https://localhost:8080/"
        },
        "id": "vlVc1TRA0sk9",
        "outputId": "a5591e6c-c002-4331-c800-7976daf87956"
      },
      "source": [
        "# 정수 난수 5개를 갖는 리스트\n",
        "scores = []  # empty list\n",
        "for _ in range(5):  # 5번 반복하면서\n",
        "    scores.append(random.randrange(11))  # 난수를 scores에 추가\n",
        "\n",
        "print(scores)"
      ],
      "execution_count": 2,
      "outputs": [
        {
          "output_type": "stream",
          "text": [
            "[4, 6, 4, 3, 7]\n"
          ],
          "name": "stdout"
        }
      ]
    },
    {
      "cell_type": "code",
      "metadata": {
        "colab": {
          "base_uri": "https://localhost:8080/"
        },
        "id": "-KcZST0q1LRN",
        "outputId": "d73fe2b3-5224-4fd5-b0da-2078b5e8bb46"
      },
      "source": [
        "# list comprehension\n",
        "scores = [random.randrange(11) for _ in range(5)]\n",
        "print(scores)"
      ],
      "execution_count": 3,
      "outputs": [
        {
          "output_type": "stream",
          "text": [
            "[5, 4, 6, 4, 6]\n"
          ],
          "name": "stdout"
        }
      ]
    },
    {
      "cell_type": "code",
      "metadata": {
        "colab": {
          "base_uri": "https://localhost:8080/"
        },
        "id": "cS6XvLZT2WL0",
        "outputId": "60f18d5b-d4f3-44c8-d2f2-ba9623068b17"
      },
      "source": [
        "# scores의 모든 원소들의 합계\n",
        "s = sum(scores)\n",
        "print('sum =', s)"
      ],
      "execution_count": 4,
      "outputs": [
        {
          "output_type": "stream",
          "text": [
            "sum = 25\n"
          ],
          "name": "stdout"
        }
      ]
    },
    {
      "cell_type": "code",
      "metadata": {
        "colab": {
          "base_uri": "https://localhost:8080/"
        },
        "id": "XInXAki3284l",
        "outputId": "ec4a6a17-f9cd-45eb-c71f-346131c1ab28"
      },
      "source": [
        "s = 0\n",
        "for x in scores:\n",
        "    s += x\n",
        "print('sum =', s)"
      ],
      "execution_count": 5,
      "outputs": [
        {
          "output_type": "stream",
          "text": [
            "sum = 25\n"
          ],
          "name": "stdout"
        }
      ]
    },
    {
      "cell_type": "code",
      "metadata": {
        "colab": {
          "base_uri": "https://localhost:8080/"
        },
        "id": "A4HF9e-Z3lD7",
        "outputId": "b0a5d727-9cb6-4787-b57c-bf51576580ba"
      },
      "source": [
        "# scores의 평균\n",
        "n = len(scores)  # 리스트 scores의 원소 개수\n",
        "mean = s / n\n",
        "print('mean =', mean)"
      ],
      "execution_count": 6,
      "outputs": [
        {
          "output_type": "stream",
          "text": [
            "mean = 5.0\n"
          ],
          "name": "stdout"
        }
      ]
    },
    {
      "cell_type": "code",
      "metadata": {
        "colab": {
          "base_uri": "https://localhost:8080/"
        },
        "id": "5tRBJvT13_fG",
        "outputId": "9523b29b-0454-4234-b1d3-bc8f95a33f40"
      },
      "source": [
        "# scores의 분산: [(x1 - x_bar)**2, (x2 - x_bar)**2, ..., (x5 - x_bar)**2]의 평균\n",
        "variations = [(x - mean) ** 2 for x in scores]\n",
        "print(variations)\n",
        "var = sum(variations) / (n - 1)\n",
        "print('variation =', var)"
      ],
      "execution_count": 8,
      "outputs": [
        {
          "output_type": "stream",
          "text": [
            "[0.0, 1.0, 1.0, 1.0, 1.0]\n",
            "variation = 1.0\n"
          ],
          "name": "stdout"
        }
      ]
    },
    {
      "cell_type": "code",
      "metadata": {
        "colab": {
          "base_uri": "https://localhost:8080/"
        },
        "id": "RJoZJH9K6ReU",
        "outputId": "916a7c89-e8bd-49b5-dfec-4178246d0ca0"
      },
      "source": [
        "total = 0\n",
        "for x in scores:  # [5, 4, 6, 4, 6]\n",
        "    total += (x - mean) ** 2\n",
        "var = total / (n - 1)\n",
        "print('분산:', var)"
      ],
      "execution_count": 15,
      "outputs": [
        {
          "output_type": "stream",
          "text": [
            "분산: 1.0\n"
          ],
          "name": "stdout"
        }
      ]
    },
    {
      "cell_type": "code",
      "metadata": {
        "colab": {
          "base_uri": "https://localhost:8080/"
        },
        "id": "ll00sQkC5Cxl",
        "outputId": "bdff0f79-1637-455a-a52f-590fe082fb3f"
      },
      "source": [
        "# scores의 표준편차 = sqrt(분산)\n",
        "std = math.sqrt(var)\n",
        "print('standard deviation =', std)"
      ],
      "execution_count": 9,
      "outputs": [
        {
          "output_type": "stream",
          "text": [
            "standard deviation = 1.0\n"
          ],
          "name": "stdout"
        }
      ]
    },
    {
      "cell_type": "code",
      "metadata": {
        "colab": {
          "base_uri": "https://localhost:8080/"
        },
        "id": "XA2RzG4r-4ee",
        "outputId": "43e56488-46a9-4396-8611-1d9068a1ad51"
      },
      "source": [
        "scores_max = max(scores)\n",
        "print(scores_max)"
      ],
      "execution_count": 18,
      "outputs": [
        {
          "output_type": "stream",
          "text": [
            "6\n"
          ],
          "name": "stdout"
        }
      ]
    },
    {
      "cell_type": "code",
      "metadata": {
        "colab": {
          "base_uri": "https://localhost:8080/"
        },
        "id": "Ho_zFQia_3UP",
        "outputId": "9cd78fa8-b054-4e2f-9ea4-8d66d5ef6e62"
      },
      "source": [
        "scores_min = min(scores)\n",
        "print(scores_min)"
      ],
      "execution_count": 19,
      "outputs": [
        {
          "output_type": "stream",
          "text": [
            "4\n"
          ],
          "name": "stdout"
        }
      ]
    },
    {
      "cell_type": "code",
      "metadata": {
        "colab": {
          "base_uri": "https://localhost:8080/"
        },
        "id": "H2sm91LBDOit",
        "outputId": "f869f216-5983-47b0-dbb8-da65b9280521"
      },
      "source": [
        "# 리스트 정렬(sort)\n",
        "scores_sorted = sorted(scores)  # 오름차순 정렬된 \"새로운 리스트\"를 만들어서 반환.\n",
        "print(scores_sorted)\n",
        "print(scores)  # 원본 리스트는 변경이 없다!"
      ],
      "execution_count": 21,
      "outputs": [
        {
          "output_type": "stream",
          "text": [
            "[4, 4, 5, 6, 6]\n",
            "[5, 4, 6, 4, 6]\n"
          ],
          "name": "stdout"
        }
      ]
    },
    {
      "cell_type": "code",
      "metadata": {
        "colab": {
          "base_uri": "https://localhost:8080/"
        },
        "id": "q3dZJdl4EuOI",
        "outputId": "0722f5d8-067a-40ee-8fbd-b659dd72c388"
      },
      "source": [
        "scores_desc_order = sorted(scores, reverse=True)  # 내림차순 정렬된 새로운 리스트를 만들어서 반환.\n",
        "print(scores_desc_order)"
      ],
      "execution_count": 22,
      "outputs": [
        {
          "output_type": "stream",
          "text": [
            "[6, 6, 5, 4, 4]\n"
          ],
          "name": "stdout"
        }
      ]
    },
    {
      "cell_type": "code",
      "metadata": {
        "colab": {
          "base_uri": "https://localhost:8080/"
        },
        "id": "4Jw8dabgGUq_",
        "outputId": "09f8e542-fb27-41fb-bae8-f2a3f810d725"
      },
      "source": [
        "# 리스트 메서드를 사용한 정렬\n",
        "scores.sort()  # 원본 리스트를 오름차순 정렬함. 원본 리스트가 변경됨!!\n",
        "print(scores)"
      ],
      "execution_count": 23,
      "outputs": [
        {
          "output_type": "stream",
          "text": [
            "[4, 4, 5, 6, 6]\n"
          ],
          "name": "stdout"
        }
      ]
    },
    {
      "cell_type": "code",
      "metadata": {
        "colab": {
          "base_uri": "https://localhost:8080/"
        },
        "id": "xHOb537VH_WO",
        "outputId": "7f4496ca-64c2-4fbc-f682-27ed3a76dfc1"
      },
      "source": [
        "scores.sort(reverse=True)  # 원본 리스트를 내림차순 정렬함. 변경됨.\n",
        "print(scores)"
      ],
      "execution_count": 24,
      "outputs": [
        {
          "output_type": "stream",
          "text": [
            "[6, 6, 5, 4, 4]\n"
          ],
          "name": "stdout"
        }
      ]
    }
  ]
}
{
  "nbformat": 4,
  "nbformat_minor": 0,
  "metadata": {
    "colab": {
      "name": "py27_bs.ipynb",
      "provenance": [],
      "mount_file_id": "1o3J4l4uOKyVcKw9HDeZ9wqpSKr_JvnGY",
      "authorship_tag": "ABX9TyOMuz7cAeuA3s3ex4KYKb7F",
      "include_colab_link": true
    },
    "kernelspec": {
      "name": "python3",
      "display_name": "Python 3"
    },
    "language_info": {
      "name": "python"
    }
  },
  "cells": [
    {
      "cell_type": "markdown",
      "metadata": {
        "id": "view-in-github",
        "colab_type": "text"
      },
      "source": [
        "<a href=\"https://colab.research.google.com/github/JakeOh/202105_itw_bd26/blob/main/lab_python/py27_bs.ipynb\" target=\"_parent\"><img src=\"https://colab.research.google.com/assets/colab-badge.svg\" alt=\"Open In Colab\"/></a>"
      ]
    },
    {
      "cell_type": "markdown",
      "metadata": {
        "id": "DUaOTyeYo9ul"
      },
      "source": [
        "\n",
        "* [github](https://github.com/JakeOh/202105_itw_bd26/tree/main/lab_python)에 업로드된 web01.html, web02.html, web03.html 파일을 다운로드\n",
        "* 다운로드된 파일을 구글 드라이브에 업로드\n",
        "* Colab 연결\n",
        "* 구글 드라이브 마운트\n"
      ]
    },
    {
      "cell_type": "code",
      "metadata": {
        "id": "zg0iojVboTof"
      },
      "source": [
        "# 구글 드라이브에 저장된 파일들의 경로\n",
        "web01 = '/content/drive/MyDrive/Colab Notebooks/lab_python/web01.html'\n",
        "web02 = '/content/drive/MyDrive/Colab Notebooks/lab_python/web02.html'\n",
        "web03 = '/content/drive/MyDrive/Colab Notebooks/lab_python/web03.html'"
      ],
      "execution_count": 1,
      "outputs": []
    },
    {
      "cell_type": "markdown",
      "metadata": {
        "id": "Y6oy8kRzLYAe"
      },
      "source": [
        "bs4(BeautifulSoup) 모듈에서 BeautifulSoup 클래스를 임포트"
      ]
    },
    {
      "cell_type": "code",
      "metadata": {
        "id": "HoXm2FWqLMoH"
      },
      "source": [
        "from bs4 import BeautifulSoup"
      ],
      "execution_count": 2,
      "outputs": []
    },
    {
      "cell_type": "markdown",
      "metadata": {
        "id": "xGaQgBnKMjFe"
      },
      "source": [
        "[Beautiful Soup 4 Documentation](https://www.crummy.com/software/BeautifulSoup/bs4/doc/) 참조"
      ]
    },
    {
      "cell_type": "code",
      "metadata": {
        "id": "UQkE0fgYLsD_"
      },
      "source": [
        "# 1. HTML 문서를 read text 모드로 open\n",
        "html = open(file=web01, mode='rt')"
      ],
      "execution_count": 3,
      "outputs": []
    },
    {
      "cell_type": "code",
      "metadata": {
        "id": "78otglI_NEM_"
      },
      "source": [
        "# 2. HTML 문서를 분석(parsing)할 수 있는 BeautifulSoup 객체 생성\n",
        "soup = BeautifulSoup(markup=html, features='html5lib')\n",
        "#> markup: open된 HTML 파일(스트림) 객체\n",
        "#> feature: HTML 문서를 분석(parse)하는 라이브러리 이름('html.parser', 'html5lib', ...)"
      ],
      "execution_count": 4,
      "outputs": []
    },
    {
      "cell_type": "code",
      "metadata": {
        "colab": {
          "base_uri": "https://localhost:8080/"
        },
        "id": "7wfCUJPfQHso",
        "outputId": "d03a6c81-1adc-47cc-8d40-a41edb75dbb4"
      },
      "source": [
        "# 3. 생성된 soup 객체의 메서드를 사용해서 HTML 문서의 요소들을 찾음\n",
        "# BS.find(name='태그이름'): HTML 문서에서 가장 처음에 등장하는 태그 요소를 찾아서 리턴\n",
        "element = soup.find(name='h1')\n",
        "element"
      ],
      "execution_count": 5,
      "outputs": [
        {
          "output_type": "execute_result",
          "data": {
            "text/plain": [
              "<h1>처음 만드는 HTML 파일</h1>"
            ]
          },
          "metadata": {
            "tags": []
          },
          "execution_count": 5
        }
      ]
    },
    {
      "cell_type": "code",
      "metadata": {
        "colab": {
          "base_uri": "https://localhost:8080/"
        },
        "id": "99nndElTRlMU",
        "outputId": "594e9737-82e0-4f01-b2d0-1943918b44f6"
      },
      "source": [
        "# HTML 문서에서 h2 태그를 갖는 요소를 찾으세요.\n",
        "soup.find(name='h2')"
      ],
      "execution_count": 6,
      "outputs": [
        {
          "output_type": "execute_result",
          "data": {
            "text/plain": [
              "<h2>HTML: HyperText Markup Language</h2>"
            ]
          },
          "metadata": {
            "tags": []
          },
          "execution_count": 6
        }
      ]
    },
    {
      "cell_type": "code",
      "metadata": {
        "colab": {
          "base_uri": "https://localhost:8080/"
        },
        "id": "5exeJ-Q0Rw4G",
        "outputId": "afa1b789-88fa-4aa6-cff1-66bdcfd1be7a"
      },
      "source": [
        "# HTML 문서에서 가장 처음에 등장하는 a 태그 요소\n",
        "soup.find(name='a')"
      ],
      "execution_count": 7,
      "outputs": [
        {
          "output_type": "execute_result",
          "data": {
            "text/plain": [
              "<a href=\"https://www.daum.net/\">다음 카카오</a>"
            ]
          },
          "metadata": {
            "tags": []
          },
          "execution_count": 7
        }
      ]
    },
    {
      "cell_type": "code",
      "metadata": {
        "colab": {
          "base_uri": "https://localhost:8080/"
        },
        "id": "OBNqVy7mS-UV",
        "outputId": "88d659d7-7d6f-461b-da8f-ba76f690b585"
      },
      "source": [
        "# BS.find_all(name='태그이름'): 해당 태그 이름의 모든 요소들을 찾아서 리스트를 리턴.\n",
        "# HTML 문서의 모든 a 태그 요소들의 리스트\n",
        "links = soup.find_all(name='a')\n",
        "print(links)\n",
        "\n",
        "for l in links:\n",
        "    print(l)"
      ],
      "execution_count": 10,
      "outputs": [
        {
          "output_type": "stream",
          "text": [
            "[<a href=\"https://www.daum.net/\">다음 카카오</a>, <a href=\"https://www.naver.com/\">네이버</a>, <a href=\"https://www.google.com/\">\n",
            "        <img src=\"googlelogo.png\" style=\"width: 100px;\"/>\n",
            "    </a>]\n",
            "<a href=\"https://www.daum.net/\">다음 카카오</a>\n",
            "<a href=\"https://www.naver.com/\">네이버</a>\n",
            "<a href=\"https://www.google.com/\">\n",
            "        <img src=\"googlelogo.png\" style=\"width: 100px;\"/>\n",
            "    </a>\n"
          ],
          "name": "stdout"
        }
      ]
    }
  ]
}
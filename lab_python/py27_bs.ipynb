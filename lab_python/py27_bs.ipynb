{
  "nbformat": 4,
  "nbformat_minor": 0,
  "metadata": {
    "colab": {
      "name": "py27_bs.ipynb",
      "provenance": [],
      "collapsed_sections": [],
      "mount_file_id": "1o3J4l4uOKyVcKw9HDeZ9wqpSKr_JvnGY",
      "authorship_tag": "ABX9TyNIpIX6skLe93XxyIyh1vvJ",
      "include_colab_link": true
    },
    "kernelspec": {
      "name": "python3",
      "display_name": "Python 3"
    },
    "language_info": {
      "name": "python"
    }
  },
  "cells": [
    {
      "cell_type": "markdown",
      "metadata": {
        "id": "view-in-github",
        "colab_type": "text"
      },
      "source": [
        "<a href=\"https://colab.research.google.com/github/JakeOh/202105_itw_bd26/blob/main/lab_python/py27_bs.ipynb\" target=\"_parent\"><img src=\"https://colab.research.google.com/assets/colab-badge.svg\" alt=\"Open In Colab\"/></a>"
      ]
    },
    {
      "cell_type": "markdown",
      "metadata": {
        "id": "DUaOTyeYo9ul"
      },
      "source": [
        "\n",
        "* [github](https://github.com/JakeOh/202105_itw_bd26/tree/main/lab_python)에 업로드된 web01.html, web02.html, web03.html 파일을 다운로드\n",
        "* 다운로드된 파일을 구글 드라이브에 업로드\n",
        "* Colab 연결\n",
        "* 구글 드라이브 마운트\n"
      ]
    },
    {
      "cell_type": "code",
      "metadata": {
        "id": "zg0iojVboTof"
      },
      "source": [
        "# 구글 드라이브에 저장된 파일들의 경로\n",
        "web01 = '/content/drive/MyDrive/Colab Notebooks/lab_python/web01.html'\n",
        "web02 = '/content/drive/MyDrive/Colab Notebooks/lab_python/web02.html'\n",
        "web03 = '/content/drive/MyDrive/Colab Notebooks/lab_python/web03.html'"
      ],
      "execution_count": 1,
      "outputs": []
    },
    {
      "cell_type": "markdown",
      "metadata": {
        "id": "Y6oy8kRzLYAe"
      },
      "source": [
        "bs4(BeautifulSoup) 모듈에서 BeautifulSoup 클래스를 임포트"
      ]
    },
    {
      "cell_type": "code",
      "metadata": {
        "id": "HoXm2FWqLMoH"
      },
      "source": [
        "from bs4 import BeautifulSoup"
      ],
      "execution_count": 2,
      "outputs": []
    },
    {
      "cell_type": "markdown",
      "metadata": {
        "id": "xGaQgBnKMjFe"
      },
      "source": [
        "[Beautiful Soup 4 Documentation](https://www.crummy.com/software/BeautifulSoup/bs4/doc/) 참조"
      ]
    },
    {
      "cell_type": "code",
      "metadata": {
        "id": "UQkE0fgYLsD_"
      },
      "source": [
        "# 1. HTML 문서를 read text 모드로 open\n",
        "html = open(file=web01, mode='rt')"
      ],
      "execution_count": 3,
      "outputs": []
    },
    {
      "cell_type": "code",
      "metadata": {
        "id": "78otglI_NEM_"
      },
      "source": [
        "# 2. HTML 문서를 분석(parsing)할 수 있는 BeautifulSoup 객체 생성\n",
        "soup = BeautifulSoup(markup=html, features='html5lib')\n",
        "#> markup: open된 HTML 파일(스트림) 객체\n",
        "#> feature: HTML 문서를 분석(parse)하는 라이브러리 이름('html.parser', 'html5lib', ...)"
      ],
      "execution_count": 4,
      "outputs": []
    },
    {
      "cell_type": "code",
      "metadata": {
        "colab": {
          "base_uri": "https://localhost:8080/"
        },
        "id": "7wfCUJPfQHso",
        "outputId": "d03a6c81-1adc-47cc-8d40-a41edb75dbb4"
      },
      "source": [
        "# 3. 생성된 soup 객체의 메서드를 사용해서 HTML 문서의 요소들을 찾음\n",
        "# BS.find(name='태그이름'): HTML 문서에서 가장 처음에 등장하는 태그 요소를 찾아서 리턴\n",
        "element = soup.find(name='h1')\n",
        "element"
      ],
      "execution_count": 5,
      "outputs": [
        {
          "output_type": "execute_result",
          "data": {
            "text/plain": [
              "<h1>처음 만드는 HTML 파일</h1>"
            ]
          },
          "metadata": {
            "tags": []
          },
          "execution_count": 5
        }
      ]
    },
    {
      "cell_type": "code",
      "metadata": {
        "colab": {
          "base_uri": "https://localhost:8080/"
        },
        "id": "99nndElTRlMU",
        "outputId": "594e9737-82e0-4f01-b2d0-1943918b44f6"
      },
      "source": [
        "# HTML 문서에서 h2 태그를 갖는 요소를 찾으세요.\n",
        "soup.find(name='h2')"
      ],
      "execution_count": 6,
      "outputs": [
        {
          "output_type": "execute_result",
          "data": {
            "text/plain": [
              "<h2>HTML: HyperText Markup Language</h2>"
            ]
          },
          "metadata": {
            "tags": []
          },
          "execution_count": 6
        }
      ]
    },
    {
      "cell_type": "code",
      "metadata": {
        "colab": {
          "base_uri": "https://localhost:8080/"
        },
        "id": "5exeJ-Q0Rw4G",
        "outputId": "afa1b789-88fa-4aa6-cff1-66bdcfd1be7a"
      },
      "source": [
        "# HTML 문서에서 가장 처음에 등장하는 a 태그 요소\n",
        "soup.find(name='a')"
      ],
      "execution_count": 7,
      "outputs": [
        {
          "output_type": "execute_result",
          "data": {
            "text/plain": [
              "<a href=\"https://www.daum.net/\">다음 카카오</a>"
            ]
          },
          "metadata": {
            "tags": []
          },
          "execution_count": 7
        }
      ]
    },
    {
      "cell_type": "code",
      "metadata": {
        "colab": {
          "base_uri": "https://localhost:8080/"
        },
        "id": "OBNqVy7mS-UV",
        "outputId": "88d659d7-7d6f-461b-da8f-ba76f690b585"
      },
      "source": [
        "# BS.find_all(name='태그이름'): 해당 태그 이름의 모든 요소들을 찾아서 리스트를 리턴.\n",
        "# HTML 문서의 모든 a 태그 요소들의 리스트\n",
        "links = soup.find_all(name='a')\n",
        "print(links)\n",
        "\n",
        "for l in links:\n",
        "    print(l)"
      ],
      "execution_count": 10,
      "outputs": [
        {
          "output_type": "stream",
          "text": [
            "[<a href=\"https://www.daum.net/\">다음 카카오</a>, <a href=\"https://www.naver.com/\">네이버</a>, <a href=\"https://www.google.com/\">\n",
            "        <img src=\"googlelogo.png\" style=\"width: 100px;\"/>\n",
            "    </a>]\n",
            "<a href=\"https://www.daum.net/\">다음 카카오</a>\n",
            "<a href=\"https://www.naver.com/\">네이버</a>\n",
            "<a href=\"https://www.google.com/\">\n",
            "        <img src=\"googlelogo.png\" style=\"width: 100px;\"/>\n",
            "    </a>\n"
          ],
          "name": "stdout"
        }
      ]
    },
    {
      "cell_type": "markdown",
      "metadata": {
        "id": "HxlClM7dZZQ6"
      },
      "source": [
        "HTML 요소(element)의 텍스트 컨텐트(content) 또는 속성(attribute)의 값을 찾는 방법"
      ]
    },
    {
      "cell_type": "code",
      "metadata": {
        "colab": {
          "base_uri": "https://localhost:8080/"
        },
        "id": "mgfe5cwYZVCT",
        "outputId": "a0ae5231-db0d-4033-a83f-f1bb4a73671d"
      },
      "source": [
        "element = soup.find(name='a')\n",
        "print(element)  # a 태그 요소\n",
        "print(element.text)  # a 태그 요소의 텍스트 컨텐트\n",
        "print(element.get(key='href'))  # a 태그 요소의 href 속성의 값"
      ],
      "execution_count": 13,
      "outputs": [
        {
          "output_type": "stream",
          "text": [
            "<a href=\"https://www.daum.net/\">다음 카카오</a>\n",
            "다음 카카오\n",
            "https://www.daum.net/\n"
          ],
          "name": "stdout"
        }
      ]
    },
    {
      "cell_type": "code",
      "metadata": {
        "colab": {
          "base_uri": "https://localhost:8080/",
          "height": 36
        },
        "id": "RpQ0A7n7bS5K",
        "outputId": "d4a069a7-8537-4ac3-963a-049f9e572b02"
      },
      "source": [
        "# h1 태그의 텍스트\n",
        "soup.find(name='h1').text"
      ],
      "execution_count": 16,
      "outputs": [
        {
          "output_type": "execute_result",
          "data": {
            "application/vnd.google.colaboratory.intrinsic+json": {
              "type": "string"
            },
            "text/plain": [
              "'처음 만드는 HTML 파일'"
            ]
          },
          "metadata": {
            "tags": []
          },
          "execution_count": 16
        }
      ]
    },
    {
      "cell_type": "code",
      "metadata": {
        "colab": {
          "base_uri": "https://localhost:8080/",
          "height": 36
        },
        "id": "z-oU2eGMbVJl",
        "outputId": "63e2f6f4-99dc-4138-d8de-d908e3aa82fc"
      },
      "source": [
        "# h2 태그의 텍스트\n",
        "soup.find(name='h2').text"
      ],
      "execution_count": 17,
      "outputs": [
        {
          "output_type": "execute_result",
          "data": {
            "application/vnd.google.colaboratory.intrinsic+json": {
              "type": "string"
            },
            "text/plain": [
              "'HTML: HyperText Markup Language'"
            ]
          },
          "metadata": {
            "tags": []
          },
          "execution_count": 17
        }
      ]
    },
    {
      "cell_type": "code",
      "metadata": {
        "colab": {
          "base_uri": "https://localhost:8080/"
        },
        "id": "lmMr4l6wbWpk",
        "outputId": "0c1e102d-364b-4a1a-a057-26f2acc99ae3"
      },
      "source": [
        "# 모든 a 태그 요소의 href 속성 값\n",
        "links = soup.find_all(name='a')\n",
        "for l in links:\n",
        "    print(l.get(key='href'))"
      ],
      "execution_count": 21,
      "outputs": [
        {
          "output_type": "stream",
          "text": [
            "https://www.daum.net/\n",
            "https://www.naver.com/\n",
            "https://www.google.com/\n"
          ],
          "name": "stdout"
        }
      ]
    },
    {
      "cell_type": "markdown",
      "metadata": {
        "id": "NSgFfZfTdj0q"
      },
      "source": [
        "find 함수를 간단히 사용하는 방법"
      ]
    },
    {
      "cell_type": "code",
      "metadata": {
        "colab": {
          "base_uri": "https://localhost:8080/"
        },
        "id": "ogLnYZ-rdnB5",
        "outputId": "93624d2f-b1a4-47b1-8b9f-e6496f40c002"
      },
      "source": [
        "print(soup.find(name='h1'))\n",
        "print(soup.h1)\n",
        "\n",
        "print(soup.find('h1').text)\n",
        "print(soup.h1.text)"
      ],
      "execution_count": 27,
      "outputs": [
        {
          "output_type": "stream",
          "text": [
            "<h1>처음 만드는 HTML 파일</h1>\n",
            "<h1>처음 만드는 HTML 파일</h1>\n",
            "처음 만드는 HTML 파일\n",
            "처음 만드는 HTML 파일\n"
          ],
          "name": "stdout"
        }
      ]
    },
    {
      "cell_type": "code",
      "metadata": {
        "colab": {
          "base_uri": "https://localhost:8080/"
        },
        "id": "F-fss3KRdzZg",
        "outputId": "417beda8-30d5-4021-ac5d-aaefeb8ee76e"
      },
      "source": [
        "print(soup.find(name='a'))\n",
        "print(soup.a)\n",
        "\n",
        "print(soup.find('a').text)\n",
        "print(soup.a.text)"
      ],
      "execution_count": 29,
      "outputs": [
        {
          "output_type": "stream",
          "text": [
            "<a href=\"https://www.daum.net/\">다음 카카오</a>\n",
            "<a href=\"https://www.daum.net/\">다음 카카오</a>\n",
            "다음 카카오\n",
            "다음 카카오\n"
          ],
          "name": "stdout"
        }
      ]
    },
    {
      "cell_type": "markdown",
      "metadata": {
        "id": "ppAbZX7Beevo"
      },
      "source": [
        "속성의 값을 찾는 get 메서드를 간단히 사용하는 방법"
      ]
    },
    {
      "cell_type": "code",
      "metadata": {
        "colab": {
          "base_uri": "https://localhost:8080/"
        },
        "id": "fVV-BuumedPx",
        "outputId": "8d6f7695-597a-4a39-cd35-91f94ddc7edc"
      },
      "source": [
        "# a 태그 요소의 href 속성 값\n",
        "print(soup.find('a').get(key='href'))\n",
        "print(soup.a.get(key='href'))\n",
        "print(soup.a['href'])"
      ],
      "execution_count": 32,
      "outputs": [
        {
          "output_type": "stream",
          "text": [
            "https://www.daum.net/\n",
            "https://www.daum.net/\n",
            "https://www.daum.net/\n"
          ],
          "name": "stdout"
        }
      ]
    },
    {
      "cell_type": "code",
      "metadata": {
        "id": "PybmhSiPfbDg"
      },
      "source": [
        "# 4. 필요한 분석이 끝났으면 HTML 문서를 닫음.\n",
        "html.close()"
      ],
      "execution_count": 33,
      "outputs": []
    },
    {
      "cell_type": "code",
      "metadata": {
        "colab": {
          "base_uri": "https://localhost:8080/"
        },
        "id": "jN35zaFJfhc0",
        "outputId": "eb0265e5-5004-44ea-823a-b07b59f0127b"
      },
      "source": [
        "# HTML 문서를 open\n",
        "with open(file=web01) as html:\n",
        "    # BeautifulSoup 객체 생성\n",
        "    soup = BeautifulSoup(markup=html, features='html5lib')\n",
        "    # a 태그 요소들 중에서 href 속성 값이 'https://www.naver.com/'인 요소의 텍스트를 출력\n",
        "    # BS.find(name='태그이름', attrs={'속성이름': '속성값', ...})\n",
        "    link = soup.find(name='a', attrs={'href': 'https://www.naver.com/'})\n",
        "    print(link.text)"
      ],
      "execution_count": 37,
      "outputs": [
        {
          "output_type": "stream",
          "text": [
            "네이버\n"
          ],
          "name": "stdout"
        }
      ]
    }
  ]
}
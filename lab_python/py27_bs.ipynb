{
  "nbformat": 4,
  "nbformat_minor": 0,
  "metadata": {
    "colab": {
      "name": "py27_bs.ipynb",
      "provenance": [],
      "mount_file_id": "1o3J4l4uOKyVcKw9HDeZ9wqpSKr_JvnGY",
      "authorship_tag": "ABX9TyO7CNt6wa51OVJ/YtPHXxFZ",
      "include_colab_link": true
    },
    "kernelspec": {
      "name": "python3",
      "display_name": "Python 3"
    },
    "language_info": {
      "name": "python"
    }
  },
  "cells": [
    {
      "cell_type": "markdown",
      "metadata": {
        "id": "view-in-github",
        "colab_type": "text"
      },
      "source": [
        "<a href=\"https://colab.research.google.com/github/JakeOh/202105_itw_bd26/blob/main/lab_python/py27_bs.ipynb\" target=\"_parent\"><img src=\"https://colab.research.google.com/assets/colab-badge.svg\" alt=\"Open In Colab\"/></a>"
      ]
    },
    {
      "cell_type": "markdown",
      "metadata": {
        "id": "DUaOTyeYo9ul"
      },
      "source": [
        "\n",
        "* [github](https://github.com/JakeOh/202105_itw_bd26/tree/main/lab_python)에 업로드된 web01.html, web02.html, web03.html 파일을 다운로드\n",
        "* 다운로드된 파일을 구글 드라이브에 업로드\n",
        "* Colab 연결\n",
        "* 구글 드라이브 마운트\n"
      ]
    },
    {
      "cell_type": "code",
      "metadata": {
        "id": "zg0iojVboTof"
      },
      "source": [
        ""
      ],
      "execution_count": null,
      "outputs": []
    }
  ]
}
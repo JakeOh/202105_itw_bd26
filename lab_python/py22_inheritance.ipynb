{
  "nbformat": 4,
  "nbformat_minor": 0,
  "metadata": {
    "colab": {
      "name": "py22_inheritance.ipynb",
      "provenance": [],
      "collapsed_sections": [],
      "authorship_tag": "ABX9TyNGeW7NJyYPYSse/45V67jB",
      "include_colab_link": true
    },
    "kernelspec": {
      "name": "python3",
      "display_name": "Python 3"
    },
    "language_info": {
      "name": "python"
    }
  },
  "cells": [
    {
      "cell_type": "markdown",
      "metadata": {
        "id": "view-in-github",
        "colab_type": "text"
      },
      "source": [
        "<a href=\"https://colab.research.google.com/github/JakeOh/202105_itw_bd26/blob/main/lab_python/py22_inheritance.ipynb\" target=\"_parent\"><img src=\"https://colab.research.google.com/assets/colab-badge.svg\" alt=\"Open In Colab\"/></a>"
      ]
    },
    {
      "cell_type": "markdown",
      "metadata": {
        "id": "L5gV3pRcgGcq"
      },
      "source": [
        "# 상속(Inheritance)\n",
        "\n",
        "* super class(상위 클래스), parent class(부모 클래스), base class(기본 클래스)\n",
        "* sub class(하위 클래스), child class(자식 클래스), derived class(유도/파생 클래스)\n",
        "* 상속: 상위 클래스의 속성들(attributes)과 기능들(methods)을 하위 클래스에서 재사용(reuse)하는 것.\n",
        "* IS-A 관계가 성립하는 객체들은 상속을 사용해서 구현함.\n",
        "    * 학생은 사람이다. (Student **IS A** person.)\n",
        "        * 학생 - sub class\n",
        "        * 사람 - super class\n",
        "* HAS-A 관계가 성립하는 객체들은 _일반적으로_ 상속이 아니라, attribute(속성)을 사용해서 클래스를 구현함.\n",
        "    * 학생은 점수를 가지고 있다. (Student **Has A** score.)\n",
        "        * 학생 클래스의 속성 중의 하나로 Scroe 클래스의 객체를 저장하는 방식으로 구현함.\n"
      ]
    },
    {
      "cell_type": "code",
      "metadata": {
        "id": "4K7b82qJbxNB"
      },
      "source": [
        "class Person:\n",
        "    def __init__(self, name):\n",
        "        self.name = name\n",
        "\n",
        "    def say_hello(self):\n",
        "        print(f'안녕하세요. 저는 {self.name}입니다.')"
      ],
      "execution_count": 2,
      "outputs": []
    },
    {
      "cell_type": "code",
      "metadata": {
        "id": "cTEzvryZpQxP"
      },
      "source": [
        "# Person 클래스의 인스턴스 생성\n",
        "ssam = Person('오쌤')"
      ],
      "execution_count": 3,
      "outputs": []
    },
    {
      "cell_type": "code",
      "metadata": {
        "colab": {
          "base_uri": "https://localhost:8080/"
        },
        "id": "YAanHGLCpf_F",
        "outputId": "0d6da012-4f64-466a-f795-28c0dcb886c2"
      },
      "source": [
        "ssam.say_hello()  # 인스턴스의 메서드 호출"
      ],
      "execution_count": 4,
      "outputs": [
        {
          "output_type": "stream",
          "text": [
            "안녕하세요. 저는 오쌤입니다.\n"
          ],
          "name": "stdout"
        }
      ]
    },
    {
      "cell_type": "markdown",
      "metadata": {
        "id": "V6a8r8NFpxS2"
      },
      "source": [
        "Person 클래스를 상속받는 Student 클래스를 정의\n",
        "\n",
        "```\n",
        "class SubClass(SuperClass):\n",
        "    pass\n",
        "```\n"
      ]
    },
    {
      "cell_type": "code",
      "metadata": {
        "id": "svbnRlvtp2j1"
      },
      "source": [
        "class Student(Person):  # Student 클래스는 Person 클래스를 상속한다. Student 클래스는 Person 클래스를 확장한다.\n",
        "    def say_hello2(self):\n",
        "        print('저는 학생입니다.')"
      ],
      "execution_count": 9,
      "outputs": []
    },
    {
      "cell_type": "code",
      "metadata": {
        "id": "jbuHuGvfqjSG"
      },
      "source": [
        "# Student 클래스의 인스턴스 생성\n",
        "stu = Student('오쌤')"
      ],
      "execution_count": 10,
      "outputs": []
    },
    {
      "cell_type": "code",
      "metadata": {
        "colab": {
          "base_uri": "https://localhost:8080/"
        },
        "id": "osvOzYZ1rdHt",
        "outputId": "5cd2fcf5-b351-4112-a745-e32952d9714c"
      },
      "source": [
        "stu.say_hello()  # 부모 객체로부터 상속받은 메서드를 호출\n",
        "stu.say_hello2()  # 자식 객체만 가지고 있는 메서드를 호출"
      ],
      "execution_count": 12,
      "outputs": [
        {
          "output_type": "stream",
          "text": [
            "안녕하세요. 저는 오쌤입니다.\n",
            "저는 학생입니다.\n"
          ],
          "name": "stdout"
        }
      ]
    },
    {
      "cell_type": "markdown",
      "metadata": {
        "id": "K6LXxAVJtZP8"
      },
      "source": [
        "# Method Override\n",
        "\n",
        "* 상위 클래스의 메서드를 하위 클래스에서 같은 이름으로 재정의하는 것(덮어쓰는 것).\n",
        "* 하위 클래스에서 overriding된 상위 클래스의 메서드를 호출하기 위해서는 `super().method_name(arg)`와 같은 방식을 사용함.\n"
      ]
    },
    {
      "cell_type": "code",
      "metadata": {
        "id": "tLP-kJQnuY0z"
      },
      "source": [
        "# 회사원은 사람이다.(Business person IS A person.)\n",
        "class BusinessPerson(Person):\n",
        "    # __init__ 메서드의 override\n",
        "    def __init__(self, name, company=None):\n",
        "        # 부모 클래스의 __init__ 메서드를 직접 호출할 때 argument name을 전달\n",
        "        super().__init__(name)\n",
        "        self.company = company  # 자식 클래스만 갖는 속성\n",
        "\n",
        "    # method override: 부모 클래스인 Person의 say_hello() 메서드를 재정의.\n",
        "    def say_hello(self):\n",
        "        super().say_hello()  # 부모 클래스의 say_hello()를 직접 호출 - 부모 클래스의 기능을 사용.\n",
        "        print(f'저는 {self.company} 회사원입니다.')  # 부모 클래스의 기능을 확장."
      ],
      "execution_count": 32,
      "outputs": []
    },
    {
      "cell_type": "code",
      "metadata": {
        "id": "Fed68pTtvSH0"
      },
      "source": [
        "# BusinessPerson 클래스의 인스턴스 생성\n",
        "gil_dong = BusinessPerson('홍길동', '아이티윌')"
      ],
      "execution_count": 28,
      "outputs": []
    },
    {
      "cell_type": "code",
      "metadata": {
        "colab": {
          "base_uri": "https://localhost:8080/"
        },
        "id": "1I8ReCYjvnL6",
        "outputId": "e320bd19-007b-4ce9-c53d-840cfdb3a635"
      },
      "source": [
        "gil_dong.say_hello()"
      ],
      "execution_count": 26,
      "outputs": [
        {
          "output_type": "stream",
          "text": [
            "안녕하세요. 저는 홍길동입니다.\n",
            "저는 아이티윌 회사원입니다.\n"
          ],
          "name": "stdout"
        }
      ]
    },
    {
      "cell_type": "code",
      "metadata": {
        "colab": {
          "base_uri": "https://localhost:8080/"
        },
        "id": "uJeM-coD7lCw",
        "outputId": "59711ff2-8ffe-42d5-e8a0-480a444e03bf"
      },
      "source": [
        "bp = BusinessPerson('아무개')\n",
        "bp.say_hello()"
      ],
      "execution_count": 33,
      "outputs": [
        {
          "output_type": "stream",
          "text": [
            "안녕하세요. 저는 아무개입니다.\n",
            "저는 None 회사원입니다.\n"
          ],
          "name": "stdout"
        }
      ]
    },
    {
      "cell_type": "markdown",
      "metadata": {
        "id": "1gLreoSa8XN-"
      },
      "source": [
        "# `isinstance` 함수\n",
        "\n",
        "객체가 어떤 클래스의 인스턴스인 지(True) 아닌 지(False)를 리턴하는 함수"
      ]
    },
    {
      "cell_type": "code",
      "metadata": {
        "colab": {
          "base_uri": "https://localhost:8080/"
        },
        "id": "dB3fVUlh8gbu",
        "outputId": "7707912d-5a2c-4f08-8600-6c229d8e89d9"
      },
      "source": [
        "array = [1, 2, 3]\n",
        "print(isinstance(array, list))\n",
        "print(isinstance(array, dict))"
      ],
      "execution_count": 35,
      "outputs": [
        {
          "output_type": "stream",
          "text": [
            "True\n",
            "False\n"
          ],
          "name": "stdout"
        }
      ]
    },
    {
      "cell_type": "code",
      "metadata": {
        "colab": {
          "base_uri": "https://localhost:8080/"
        },
        "id": "Cpp85N7H94BO",
        "outputId": "42e4827c-1cc9-4f07-cdb2-3985eabb041a"
      },
      "source": [
        "n = 1\n",
        "print(isinstance(n, int))\n",
        "print(isinstance(n, float))"
      ],
      "execution_count": 37,
      "outputs": [
        {
          "output_type": "stream",
          "text": [
            "True\n",
            "False\n"
          ],
          "name": "stdout"
        }
      ]
    },
    {
      "cell_type": "markdown",
      "metadata": {
        "id": "fAdA8HoY-ItY"
      },
      "source": [
        "## 상속과 `isinstance` 함수"
      ]
    },
    {
      "cell_type": "code",
      "metadata": {
        "id": "5NJUViQJ-LjG"
      },
      "source": [
        "class Car:\n",
        "    pass\n",
        "\n",
        "# 전기자동차는 자동차이다. (IS-A)\n",
        "class ElectricCar(Car):\n",
        "    pass"
      ],
      "execution_count": 38,
      "outputs": []
    },
    {
      "cell_type": "code",
      "metadata": {
        "colab": {
          "base_uri": "https://localhost:8080/"
        },
        "id": "U3SEej_q_PJv",
        "outputId": "debf834b-4b37-43b3-bf4d-cd9d2cc131ca"
      },
      "source": [
        "sonata = Car()  # Car 클래스의 인스턴스를 생성\n",
        "print(isinstance(sonata, Car))\n",
        "print(isinstance(sonata, ElectricCar))"
      ],
      "execution_count": 39,
      "outputs": [
        {
          "output_type": "stream",
          "text": [
            "True\n",
            "False\n"
          ],
          "name": "stdout"
        }
      ]
    },
    {
      "cell_type": "code",
      "metadata": {
        "colab": {
          "base_uri": "https://localhost:8080/"
        },
        "id": "gGB8h_k9_tpH",
        "outputId": "2b47390d-ecc6-4349-e116-01ca3f3c691f"
      },
      "source": [
        "tesla = ElectricCar()  # ElectricCar 클래스의 인스턴스 생성\n",
        "print(isinstance(tesla, Car))\n",
        "print(isinstance(tesla, ElectricCar))"
      ],
      "execution_count": 40,
      "outputs": [
        {
          "output_type": "stream",
          "text": [
            "True\n",
            "True\n"
          ],
          "name": "stdout"
        }
      ]
    },
    {
      "cell_type": "markdown",
      "metadata": {
        "id": "_KAZxzgHEN0j"
      },
      "source": [
        "`isinstance` 함수 활용"
      ]
    },
    {
      "cell_type": "code",
      "metadata": {
        "id": "Uv36-Ac0EPyb"
      },
      "source": [
        "class Animal:\n",
        "    def move(self):\n",
        "        pass\n",
        "\n",
        "# 강아지는 동물이다. (IS-A)\n",
        "class Dog(Animal):\n",
        "    # method overrid\n",
        "    def move(self):\n",
        "        print('강아지가 총총총...')\n",
        "\n",
        "# 새는 동물이다. (IS-A)\n",
        "class Bird(Animal):\n",
        "    def move(self):\n",
        "        print('새가 훨훨~~')\n",
        "\n",
        "# 나무는 동물이다(X). 동물은 나무다(X).\n",
        "class Tree:\n",
        "    pass"
      ],
      "execution_count": 41,
      "outputs": []
    },
    {
      "cell_type": "code",
      "metadata": {
        "colab": {
          "base_uri": "https://localhost:8080/"
        },
        "id": "2K43IygaF2IE",
        "outputId": "4f2678a4-6c95-4eea-bcd7-74f782667748"
      },
      "source": [
        "joy = Dog()  # Dog 클래스 인스턴스(객체)\n",
        "chamsae = Bird()  # Bird 클래스 인스턴스(객체)\n",
        "tree = Tree() # Tree 클래스 인스턴스(객체)\n",
        "\n",
        "array = [joy, chamsae, tree]\n",
        "for x in array:\n",
        "    if isinstance(x, Animal):\n",
        "        x.move()"
      ],
      "execution_count": 43,
      "outputs": [
        {
          "output_type": "stream",
          "text": [
            "강아지가 총총총...\n",
            "새가 훨훨~~\n"
          ],
          "name": "stdout"
        }
      ]
    }
  ]
}
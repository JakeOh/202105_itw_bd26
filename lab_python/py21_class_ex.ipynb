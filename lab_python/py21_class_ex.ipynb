{
  "nbformat": 4,
  "nbformat_minor": 0,
  "metadata": {
    "colab": {
      "name": "py21_class_ex.ipynb",
      "provenance": [],
      "authorship_tag": "ABX9TyNzXUuBkBPZpckaKoxip4/v",
      "include_colab_link": true
    },
    "kernelspec": {
      "name": "python3",
      "display_name": "Python 3"
    },
    "language_info": {
      "name": "python"
    }
  },
  "cells": [
    {
      "cell_type": "markdown",
      "metadata": {
        "id": "view-in-github",
        "colab_type": "text"
      },
      "source": [
        "<a href=\"https://colab.research.google.com/github/JakeOh/202105_itw_bd26/blob/main/lab_python/py21_class_ex.ipynb\" target=\"_parent\"><img src=\"https://colab.research.google.com/assets/colab-badge.svg\" alt=\"Open In Colab\"/></a>"
      ]
    },
    {
      "cell_type": "markdown",
      "metadata": {
        "id": "_PkGIgdx_tF8"
      },
      "source": [
        "# Ex1. Score 클래스\n",
        "\n",
        "* 속성(attributes):\n",
        "    * 국어, 영어, 수학 점수\n",
        "    * 국어, 영어, 수학 점수의 기본값은 0.\n",
        "* 기능(functionality):\n",
        "    * `__repr__`: `Score(국어=100, 영어=100, 수학=100)` 포맷을 리턴\n",
        "    * `calculate_sum`: 세 과목의 총점 리턴\n",
        "    * `calculate_mean`: 세 과목의 평균 리턴\n"
      ]
    },
    {
      "cell_type": "code",
      "metadata": {
        "id": "GPGNNR0a_lUu"
      },
      "source": [
        ""
      ],
      "execution_count": null,
      "outputs": []
    },
    {
      "cell_type": "markdown",
      "metadata": {
        "id": "WJvUQlfXA_Fr"
      },
      "source": [
        "# Ex2. Student 클래스\n",
        "\n",
        "* 속성(attributes):\n",
        "    * 학생 이름, 점수(Score 객체)\n",
        "* 기능(functionality):\n",
        "    * `__repr__`: `Student(이름: 홍길동, 점수: Score(국어=100, 영어=100, 수학=100))` 포맷을 리턴\n",
        "* 테스트\n",
        "    * Student 객체(인스턴스)를 생성.\n",
        "    * 생성된 객체에서 총점, 평균을 계산하는 메서드를 호출.\n"
      ]
    },
    {
      "cell_type": "code",
      "metadata": {
        "id": "wEhfuJFaCYqo"
      },
      "source": [
        ""
      ],
      "execution_count": null,
      "outputs": []
    }
  ]
}
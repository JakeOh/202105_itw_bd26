{
  "nbformat": 4,
  "nbformat_minor": 0,
  "metadata": {
    "colab": {
      "name": "py21_class_ex.ipynb",
      "provenance": [],
      "authorship_tag": "ABX9TyOLFcr/oW3nNInhYL1PG4xo",
      "include_colab_link": true
    },
    "kernelspec": {
      "name": "python3",
      "display_name": "Python 3"
    },
    "language_info": {
      "name": "python"
    }
  },
  "cells": [
    {
      "cell_type": "markdown",
      "metadata": {
        "id": "view-in-github",
        "colab_type": "text"
      },
      "source": [
        "<a href=\"https://colab.research.google.com/github/JakeOh/202105_itw_bd26/blob/main/lab_python/py21_class_ex.ipynb\" target=\"_parent\"><img src=\"https://colab.research.google.com/assets/colab-badge.svg\" alt=\"Open In Colab\"/></a>"
      ]
    },
    {
      "cell_type": "markdown",
      "metadata": {
        "id": "_PkGIgdx_tF8"
      },
      "source": [
        "# Ex1. Score 클래스\n",
        "\n",
        "* 속성(attributes):\n",
        "    * 국어, 영어, 수학 점수\n",
        "    * 국어, 영어, 수학 점수의 기본값은 0.\n",
        "* 기능(functionality):\n",
        "    * `__repr__`: `Score(국어=100, 영어=100, 수학=100)` 포맷을 리턴\n",
        "    * `calculate_sum`: 세 과목의 총점 리턴\n",
        "    * `calculate_mean`: 세 과목의 평균 리턴\n"
      ]
    },
    {
      "cell_type": "code",
      "metadata": {
        "id": "GPGNNR0a_lUu"
      },
      "source": [
        "class Score:\n",
        "    def __init__(self, korean=0, english=0, math=0):\n",
        "        self.korean = korean\n",
        "        self.english = english\n",
        "        self.math = math\n",
        "    \n",
        "    def __repr__(self):\n",
        "        return f'Score(국어={self.korean}, 영어={self.english}, 수학={self.math})'\n",
        "\n",
        "    def calculate_sum(self):\n",
        "        return self.korean + self.english + self.math\n",
        "\n",
        "    def calculate_mean(self):\n",
        "        return self.calculate_sum() / 3"
      ],
      "execution_count": 7,
      "outputs": []
    },
    {
      "cell_type": "code",
      "metadata": {
        "colab": {
          "base_uri": "https://localhost:8080/"
        },
        "id": "kCwK1BsAqUhH",
        "outputId": "009673c5-eb0e-41e6-c590-822909fa7a5b"
      },
      "source": [
        "score_1 = Score()\n",
        "print(score_1)\n",
        "print('총점:', score_1.calculate_sum())\n",
        "print('평균:', score_1.calculate_mean())"
      ],
      "execution_count": 8,
      "outputs": [
        {
          "output_type": "stream",
          "text": [
            "Score(국어=0, 영어=0, 수학=0)\n",
            "총점: 0\n",
            "평균: 0.0\n"
          ],
          "name": "stdout"
        }
      ]
    },
    {
      "cell_type": "code",
      "metadata": {
        "colab": {
          "base_uri": "https://localhost:8080/"
        },
        "id": "OJzeuXOerCr1",
        "outputId": "bab2f6af-0e70-4f51-beca-0d6ea0387c2a"
      },
      "source": [
        "score_2 = Score(korean=100, english=90)\n",
        "print(score_2)\n",
        "print('총점:', score_2.calculate_sum())\n",
        "print('평균:', score_2.calculate_mean())"
      ],
      "execution_count": 9,
      "outputs": [
        {
          "output_type": "stream",
          "text": [
            "Score(국어=100, 영어=90, 수학=0)\n",
            "총점: 190\n",
            "평균: 63.333333333333336\n"
          ],
          "name": "stdout"
        }
      ]
    },
    {
      "cell_type": "markdown",
      "metadata": {
        "id": "WJvUQlfXA_Fr"
      },
      "source": [
        "# Ex2. Student 클래스\n",
        "\n",
        "* 속성(attributes):\n",
        "    * 학생 이름, 점수(Score 객체)\n",
        "* 기능(functionality):\n",
        "    * `__repr__`: `Student(이름: 홍길동, 점수: Score(국어=100, 영어=100, 수학=100))` 포맷을 리턴\n",
        "* 테스트\n",
        "    * Student 객체(인스턴스)를 생성.\n",
        "    * 생성된 객체에서 총점, 평균을 계산하는 메서드를 호출.\n"
      ]
    },
    {
      "cell_type": "code",
      "metadata": {
        "id": "MQVfokVLPXmn"
      },
      "source": [
        "class Student:\n",
        "    def __init__(self, name, k=0, e=0, m=0):\n",
        "        self.name = name\n",
        "        self.korean = k\n",
        "        self.english = e\n",
        "        self.math = m\n",
        "    \n",
        "    def __repr__(self):\n",
        "        return f'Student(이름: {self.name}, 점수: Score(국어={self.korean}, 영어={self.english}, 수학={self.math}))'\n",
        "\n",
        "    def calculate_sum(self):\n",
        "        return self.korean + self.english + self.math\n",
        "\n",
        "    def calculate_mean(self):\n",
        "        return self.calculate_sum() / 3"
      ],
      "execution_count": 13,
      "outputs": []
    },
    {
      "cell_type": "code",
      "metadata": {
        "id": "wEhfuJFaCYqo",
        "colab": {
          "base_uri": "https://localhost:8080/"
        },
        "outputId": "95ab1f21-140f-4796-de53-a5d9b14f075e"
      },
      "source": [
        "stu = Student('홍길동', 100, 100, 100)\n",
        "print(stu)  #> Student(이름: 홍길동, 점수: Score(국어=100, 영어=100, 수학=100))\n",
        "print('총점:', stu.calculate_sum())\n",
        "print('평균:', stu.calculate_mean())"
      ],
      "execution_count": 15,
      "outputs": [
        {
          "output_type": "stream",
          "text": [
            "Student(이름: 홍길동, 점수: Score(국어=100, 영어=100, 수학=100))\n",
            "총점: 300\n",
            "평균: 100.0\n"
          ],
          "name": "stdout"
        }
      ]
    },
    {
      "cell_type": "code",
      "metadata": {
        "id": "IxW2dBtRtYxN"
      },
      "source": [
        "class Student:\n",
        "    def __init__(self, name, score):\n",
        "        self.name = name\n",
        "        self.korean = score.korean\n",
        "        self.english = score.english\n",
        "        self.math = score.math\n",
        "\n",
        "    def __repr__(self):\n",
        "        return f'Student(이름: {self.name}, 점수: Score(국어={self.korean}, 영어={self.english}, 수학={self.math}))'\n",
        "\n",
        "    def calculate_sum(self):\n",
        "        return self.korean + self.english + self.math\n",
        "\n",
        "    def calculate_mean(self):\n",
        "        return self.calculate_sum() / 3"
      ],
      "execution_count": 23,
      "outputs": []
    },
    {
      "cell_type": "code",
      "metadata": {
        "colab": {
          "base_uri": "https://localhost:8080/"
        },
        "id": "Cnn5PuD-zgNB",
        "outputId": "a6854325-dfb6-4471-ab89-883387e32fe1"
      },
      "source": [
        "stu_2 = Student('오쌤', score_2)\n",
        "print(stu_2)\n",
        "print('총점:', stu_2.calculate_sum())\n",
        "print('평균:', stu_2.calculate_mean())"
      ],
      "execution_count": 26,
      "outputs": [
        {
          "output_type": "stream",
          "text": [
            "Student(이름: 오쌤, 점수: Score(국어=100, 영어=90, 수학=0))\n",
            "총점: 190\n",
            "평균: 63.333333333333336\n"
          ],
          "name": "stdout"
        }
      ]
    },
    {
      "cell_type": "code",
      "metadata": {
        "id": "KrO_wPrY2j1v"
      },
      "source": [
        "class Student:\n",
        "    def __init__(self, name, score):\n",
        "        self.name = name\n",
        "        self.score = score\n",
        "\n",
        "    def __repr__(self):\n",
        "        return f'Student(이름: {self.name}, 점수: {self.score})'"
      ],
      "execution_count": 27,
      "outputs": []
    },
    {
      "cell_type": "code",
      "metadata": {
        "colab": {
          "base_uri": "https://localhost:8080/"
        },
        "id": "OinX_I2R3IMI",
        "outputId": "c864c1bf-b36f-4377-b4b5-5a6eb43bb44a"
      },
      "source": [
        "gil_dong = Student(name='홍길동', score=score_1)\n",
        "print(gil_dong)\n",
        "print('국어:', gil_dong.score.korean)\n",
        "print('총점:', gil_dong.score.calculate_sum())\n",
        "print('평균:', gil_dong.score.calculate_mean())"
      ],
      "execution_count": 30,
      "outputs": [
        {
          "output_type": "stream",
          "text": [
            "Student(이름: 홍길동, 점수: Score(국어=0, 영어=0, 수학=0))\n",
            "국어: 0\n",
            "총점: 0\n",
            "평균: 0.0\n"
          ],
          "name": "stdout"
        }
      ]
    },
    {
      "cell_type": "markdown",
      "metadata": {
        "id": "sBdjFhvt_Gqt"
      },
      "source": [
        "# Ex3. self를 리턴하는 메서드\n",
        "\n",
        "* 메서드 연쇄 호출(method chain call)"
      ]
    },
    {
      "cell_type": "code",
      "metadata": {
        "id": "EHr1Dtel_Jqm"
      },
      "source": [
        "class MyNumber:\n",
        "    def __init__(self, x=0.0):\n",
        "        self.x = x\n",
        "    \n",
        "    def __repr__(self):\n",
        "        return str(self.x)\n",
        "\n",
        "    def add(self, other):\n",
        "        self.x += other.x  # self.x = self.x + other.x\n",
        "        return self\n",
        "    \n",
        "    def subtract(self, other):\n",
        "        self.x -= other.x  # self.x = self.x - other.x\n",
        "        return self\n",
        "\n",
        "    def multiply(self, other):\n",
        "        self.x *= other.x  # self.x = self.x * other.x\n",
        "        return self\n",
        "\n",
        "    def divide(self, other):\n",
        "        self.x /= other.x  # self.x = self.x / other.x\n",
        "        return self"
      ],
      "execution_count": 44,
      "outputs": []
    },
    {
      "cell_type": "code",
      "metadata": {
        "colab": {
          "base_uri": "https://localhost:8080/"
        },
        "id": "i4bA6d9eAH-v",
        "outputId": "6b166145-da3f-4f06-9e22-9cd3d1a6e16f"
      },
      "source": [
        "num1 = MyNumber(1)\n",
        "print(num1)  # print(num1.__repr__())\n",
        "\n",
        "num2 = MyNumber(2)\n",
        "print(num2)\n",
        "\n",
        "num1.add(num2).subtract(num2).add(num1).multiply(num2)\n",
        "print(num1)"
      ],
      "execution_count": 46,
      "outputs": [
        {
          "output_type": "stream",
          "text": [
            "1\n",
            "2\n",
            "4\n"
          ],
          "name": "stdout"
        }
      ]
    }
  ]
}
{
  "nbformat": 4,
  "nbformat_minor": 0,
  "metadata": {
    "colab": {
      "name": "py01_print.ipynb",
      "provenance": [],
      "collapsed_sections": [],
      "authorship_tag": "ABX9TyOGd98a8udF3bhRmc0/yEML",
      "include_colab_link": true
    },
    "kernelspec": {
      "name": "python3",
      "display_name": "Python 3"
    },
    "language_info": {
      "name": "python"
    }
  },
  "cells": [
    {
      "cell_type": "markdown",
      "metadata": {
        "id": "view-in-github",
        "colab_type": "text"
      },
      "source": [
        "<a href=\"https://colab.research.google.com/github/JakeOh/202105_itw_bd26/blob/main/lab_python/py01_print.ipynb\" target=\"_parent\"><img src=\"https://colab.research.google.com/assets/colab-badge.svg\" alt=\"Open In Colab\"/></a>"
      ]
    },
    {
      "cell_type": "markdown",
      "metadata": {
        "id": "yOdQJ8zpaJC1"
      },
      "source": [
        "**여러가지 print 방법**"
      ]
    },
    {
      "cell_type": "code",
      "metadata": {
        "colab": {
          "base_uri": "https://localhost:8080/"
        },
        "id": "Qyo6I_aTY8Rz",
        "outputId": "10e5150f-41eb-440f-e812-1b7c94d124a0"
      },
      "source": [
        "print('Hello, Python!')"
      ],
      "execution_count": 1,
      "outputs": [
        {
          "output_type": "stream",
          "text": [
            "Hello, Python!\n"
          ],
          "name": "stdout"
        }
      ]
    },
    {
      "cell_type": "markdown",
      "metadata": {
        "id": "1ON2IBrranT8"
      },
      "source": [
        "\n",
        "`print()` 함수에게 argument를 여러개 전달하면, 각 argument를 공백으로 연결해서 한 줄에 출력함.\n"
      ]
    },
    {
      "cell_type": "code",
      "metadata": {
        "colab": {
          "base_uri": "https://localhost:8080/"
        },
        "id": "JVTZs9eXabJz",
        "outputId": "0851b5b6-f8b4-4478-ca52-ad03032338b2"
      },
      "source": [
        "print('Hello', '안녕', 'Bon Jour')"
      ],
      "execution_count": 2,
      "outputs": [
        {
          "output_type": "stream",
          "text": [
            "Hello 안녕 Bon Jour\n"
          ],
          "name": "stdout"
        }
      ]
    },
    {
      "cell_type": "code",
      "metadata": {
        "colab": {
          "base_uri": "https://localhost:8080/"
        },
        "id": "AARmjNOFbhhd",
        "outputId": "d14d3590-7b8f-472d-bd8f-5489c8a1e90f"
      },
      "source": [
        "print(1, 2, 3)"
      ],
      "execution_count": 3,
      "outputs": [
        {
          "output_type": "stream",
          "text": [
            "1 2 3\n"
          ],
          "name": "stdout"
        }
      ]
    },
    {
      "cell_type": "code",
      "metadata": {
        "colab": {
          "base_uri": "https://localhost:8080/"
        },
        "id": "CpacdLKldku8",
        "outputId": "687551ac-f134-4c15-f420-d96f261a7255"
      },
      "source": [
        "print(1 + 2)"
      ],
      "execution_count": 4,
      "outputs": [
        {
          "output_type": "stream",
          "text": [
            "3\n"
          ],
          "name": "stdout"
        }
      ]
    },
    {
      "cell_type": "code",
      "metadata": {
        "colab": {
          "base_uri": "https://localhost:8080/"
        },
        "id": "ZAuux4abdxVk",
        "outputId": "db87bc24-f818-4fc0-993e-eb6437e9b463"
      },
      "source": [
        "print(1, '+', 2, '=', (1 + 2))"
      ],
      "execution_count": 8,
      "outputs": [
        {
          "output_type": "stream",
          "text": [
            "1 + 2 = 3\n"
          ],
          "name": "stdout"
        }
      ]
    },
    {
      "cell_type": "markdown",
      "metadata": {
        "id": "zRyH0JsHghqT"
      },
      "source": [
        "placeholder 문자열과 `format()` 메서드(함수)를 사용한 print"
      ]
    },
    {
      "cell_type": "code",
      "metadata": {
        "colab": {
          "base_uri": "https://localhost:8080/"
        },
        "id": "MJIeGitPefqK",
        "outputId": "9cd10415-9681-40ae-c044-eefac439732e"
      },
      "source": [
        "print('{} + {} = {}'.format(1, 2, 3))  # placeholder {}"
      ],
      "execution_count": 9,
      "outputs": [
        {
          "output_type": "stream",
          "text": [
            "1 + 2 = 3\n"
          ],
          "name": "stdout"
        }
      ]
    },
    {
      "cell_type": "code",
      "metadata": {
        "colab": {
          "base_uri": "https://localhost:8080/"
        },
        "id": "qRAvpTBfe44b",
        "outputId": "400c41c4-10fa-46b3-e409-4b688524ce2e"
      },
      "source": [
        "print('{x} + {y} = {z}'.format(x=1, y=2, z=(1 + 2)))"
      ],
      "execution_count": 15,
      "outputs": [
        {
          "output_type": "stream",
          "text": [
            "1 + 2 = 3\n"
          ],
          "name": "stdout"
        }
      ]
    },
    {
      "cell_type": "markdown",
      "metadata": {
        "id": "st4dbcsChoVs"
      },
      "source": [
        "formatted string 사용 - Python 3.6 버전 이상에서 사용 가능."
      ]
    },
    {
      "cell_type": "code",
      "metadata": {
        "id": "L4QC-rEwfpVL"
      },
      "source": [
        "# 변수 = 값: 값을 변수에 저장.\n",
        "a = 1\n",
        "b = 2"
      ],
      "execution_count": 16,
      "outputs": []
    },
    {
      "cell_type": "code",
      "metadata": {
        "colab": {
          "base_uri": "https://localhost:8080/"
        },
        "id": "WO3kzJliiKAU",
        "outputId": "47d96fcc-44e2-4a88-ea2c-c7a139345318"
      },
      "source": [
        "print(f'{a} + {b} = {a + b}')"
      ],
      "execution_count": 17,
      "outputs": [
        {
          "output_type": "stream",
          "text": [
            "1 + 2 = 3\n"
          ],
          "name": "stdout"
        }
      ]
    }
  ]
}
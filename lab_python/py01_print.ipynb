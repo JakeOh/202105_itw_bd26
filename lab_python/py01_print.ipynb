{
  "nbformat": 4,
  "nbformat_minor": 0,
  "metadata": {
    "colab": {
      "name": "py01_print.ipynb",
      "provenance": [],
      "collapsed_sections": [],
      "authorship_tag": "ABX9TyPVwy+Pn24Qg7DJBsTFEek3",
      "include_colab_link": true
    },
    "kernelspec": {
      "name": "python3",
      "display_name": "Python 3"
    },
    "language_info": {
      "name": "python"
    }
  },
  "cells": [
    {
      "cell_type": "markdown",
      "metadata": {
        "id": "view-in-github",
        "colab_type": "text"
      },
      "source": [
        "<a href=\"https://colab.research.google.com/github/JakeOh/202105_itw_bd26/blob/main/lab_python/py01_print.ipynb\" target=\"_parent\"><img src=\"https://colab.research.google.com/assets/colab-badge.svg\" alt=\"Open In Colab\"/></a>"
      ]
    },
    {
      "cell_type": "markdown",
      "metadata": {
        "id": "yOdQJ8zpaJC1"
      },
      "source": [
        "**여러가지 print 방법**"
      ]
    },
    {
      "cell_type": "code",
      "metadata": {
        "colab": {
          "base_uri": "https://localhost:8080/"
        },
        "id": "Qyo6I_aTY8Rz",
        "outputId": "10e5150f-41eb-440f-e812-1b7c94d124a0"
      },
      "source": [
        "print('Hello, Python!')"
      ],
      "execution_count": 1,
      "outputs": [
        {
          "output_type": "stream",
          "text": [
            "Hello, Python!\n"
          ],
          "name": "stdout"
        }
      ]
    },
    {
      "cell_type": "markdown",
      "metadata": {
        "id": "1ON2IBrranT8"
      },
      "source": [
        "\n",
        "`print()` 함수에게 argument를 여러개 전달하면, 각 argument를 공백으로 연결해서 한 줄에 출력함.\n"
      ]
    },
    {
      "cell_type": "code",
      "metadata": {
        "colab": {
          "base_uri": "https://localhost:8080/"
        },
        "id": "JVTZs9eXabJz",
        "outputId": "0851b5b6-f8b4-4478-ca52-ad03032338b2"
      },
      "source": [
        "print('Hello', '안녕', 'Bon Jour')"
      ],
      "execution_count": 2,
      "outputs": [
        {
          "output_type": "stream",
          "text": [
            "Hello 안녕 Bon Jour\n"
          ],
          "name": "stdout"
        }
      ]
    },
    {
      "cell_type": "code",
      "metadata": {
        "colab": {
          "base_uri": "https://localhost:8080/"
        },
        "id": "AARmjNOFbhhd",
        "outputId": "d14d3590-7b8f-472d-bd8f-5489c8a1e90f"
      },
      "source": [
        "print(1, 2, 3)"
      ],
      "execution_count": 3,
      "outputs": [
        {
          "output_type": "stream",
          "text": [
            "1 2 3\n"
          ],
          "name": "stdout"
        }
      ]
    },
    {
      "cell_type": "code",
      "metadata": {
        "colab": {
          "base_uri": "https://localhost:8080/"
        },
        "id": "CpacdLKldku8",
        "outputId": "687551ac-f134-4c15-f420-d96f261a7255"
      },
      "source": [
        "print(1 + 2)"
      ],
      "execution_count": 4,
      "outputs": [
        {
          "output_type": "stream",
          "text": [
            "3\n"
          ],
          "name": "stdout"
        }
      ]
    },
    {
      "cell_type": "code",
      "metadata": {
        "colab": {
          "base_uri": "https://localhost:8080/"
        },
        "id": "ZAuux4abdxVk",
        "outputId": "db87bc24-f818-4fc0-993e-eb6437e9b463"
      },
      "source": [
        "print(1, '+', 2, '=', (1 + 2))"
      ],
      "execution_count": 8,
      "outputs": [
        {
          "output_type": "stream",
          "text": [
            "1 + 2 = 3\n"
          ],
          "name": "stdout"
        }
      ]
    },
    {
      "cell_type": "markdown",
      "metadata": {
        "id": "zRyH0JsHghqT"
      },
      "source": [
        "placeholder 문자열과 `format()` 메서드(함수)를 사용한 print"
      ]
    },
    {
      "cell_type": "code",
      "metadata": {
        "colab": {
          "base_uri": "https://localhost:8080/"
        },
        "id": "MJIeGitPefqK",
        "outputId": "9cd10415-9681-40ae-c044-eefac439732e"
      },
      "source": [
        "print('{} + {} = {}'.format(1, 2, 3))  # placeholder {}"
      ],
      "execution_count": 9,
      "outputs": [
        {
          "output_type": "stream",
          "text": [
            "1 + 2 = 3\n"
          ],
          "name": "stdout"
        }
      ]
    },
    {
      "cell_type": "code",
      "metadata": {
        "colab": {
          "base_uri": "https://localhost:8080/"
        },
        "id": "qRAvpTBfe44b",
        "outputId": "400c41c4-10fa-46b3-e409-4b688524ce2e"
      },
      "source": [
        "print('{x} + {y} = {z}'.format(x=1, y=2, z=(1 + 2)))"
      ],
      "execution_count": 15,
      "outputs": [
        {
          "output_type": "stream",
          "text": [
            "1 + 2 = 3\n"
          ],
          "name": "stdout"
        }
      ]
    },
    {
      "cell_type": "markdown",
      "metadata": {
        "id": "st4dbcsChoVs"
      },
      "source": [
        "formatted string 사용 - Python 3.6 버전 이상에서 사용 가능."
      ]
    },
    {
      "cell_type": "code",
      "metadata": {
        "id": "L4QC-rEwfpVL"
      },
      "source": [
        "# 변수 = 값: 값을 변수에 저장.\n",
        "a = 1\n",
        "b = 2"
      ],
      "execution_count": 16,
      "outputs": []
    },
    {
      "cell_type": "code",
      "metadata": {
        "colab": {
          "base_uri": "https://localhost:8080/"
        },
        "id": "WO3kzJliiKAU",
        "outputId": "47d96fcc-44e2-4a88-ea2c-c7a139345318"
      },
      "source": [
        "print(f'{a} + {b} = {a + b}')"
      ],
      "execution_count": 17,
      "outputs": [
        {
          "output_type": "stream",
          "text": [
            "1 + 2 = 3\n"
          ],
          "name": "stdout"
        }
      ]
    },
    {
      "cell_type": "code",
      "metadata": {
        "colab": {
          "base_uri": "https://localhost:8080/"
        },
        "id": "DDxI-e3jm1bL",
        "outputId": "2328fbe3-562f-4667-94c1-beee2ea96dd1"
      },
      "source": [
        "dir()  # 현재 세션에서 생성된 객체(변수) 이름들을 검색."
      ],
      "execution_count": 20,
      "outputs": [
        {
          "output_type": "execute_result",
          "data": {
            "text/plain": [
              "['In',\n",
              " 'Out',\n",
              " '_',\n",
              " '_18',\n",
              " '__',\n",
              " '___',\n",
              " '__builtin__',\n",
              " '__builtins__',\n",
              " '__doc__',\n",
              " '__loader__',\n",
              " '__name__',\n",
              " '__package__',\n",
              " '__spec__',\n",
              " '_dh',\n",
              " '_i',\n",
              " '_i1',\n",
              " '_i10',\n",
              " '_i11',\n",
              " '_i12',\n",
              " '_i13',\n",
              " '_i14',\n",
              " '_i15',\n",
              " '_i16',\n",
              " '_i17',\n",
              " '_i18',\n",
              " '_i19',\n",
              " '_i2',\n",
              " '_i20',\n",
              " '_i3',\n",
              " '_i4',\n",
              " '_i5',\n",
              " '_i6',\n",
              " '_i7',\n",
              " '_i8',\n",
              " '_i9',\n",
              " '_ih',\n",
              " '_ii',\n",
              " '_iii',\n",
              " '_oh',\n",
              " '_sh',\n",
              " 'a',\n",
              " 'b',\n",
              " 'exit',\n",
              " 'get_ipython',\n",
              " 'quit']"
            ]
          },
          "metadata": {
            "tags": []
          },
          "execution_count": 20
        }
      ]
    },
    {
      "cell_type": "markdown",
      "metadata": {
        "id": "_qW8BnCxnVm6"
      },
      "source": [
        "파이썬 문자열 - 작은 따옴표('') 또는 큰 따옴표(\"\")를 사용"
      ]
    },
    {
      "cell_type": "code",
      "metadata": {
        "colab": {
          "base_uri": "https://localhost:8080/"
        },
        "id": "zkWUz6kvnUWi",
        "outputId": "e271db47-1ad1-43a4-857c-f26fafeeb8c9"
      },
      "source": [
        "print(\"I'm a boy.\")"
      ],
      "execution_count": 21,
      "outputs": [
        {
          "output_type": "stream",
          "text": [
            "I'm a boy.\n"
          ],
          "name": "stdout"
        }
      ]
    },
    {
      "cell_type": "code",
      "metadata": {
        "colab": {
          "base_uri": "https://localhost:8080/"
        },
        "id": "P6EocT8hn3u0",
        "outputId": "8d17ef75-1e67-424a-eb10-9c4eee8059c8"
      },
      "source": [
        "print('I\\'m a boy.')"
      ],
      "execution_count": 23,
      "outputs": [
        {
          "output_type": "stream",
          "text": [
            "I'm a boy.\n"
          ],
          "name": "stdout"
        }
      ]
    },
    {
      "cell_type": "markdown",
      "metadata": {
        "id": "Nf7UFCY3osUz"
      },
      "source": [
        "사용자 입력 - 키보드에서 문자열을 입력받는 방법"
      ]
    },
    {
      "cell_type": "code",
      "metadata": {
        "colab": {
          "base_uri": "https://localhost:8080/"
        },
        "id": "zWg9DmI5o0h8",
        "outputId": "c5581a75-a606-423e-91b9-13c14bff8ca9"
      },
      "source": [
        "name = input('이름을 입력하세요...')"
      ],
      "execution_count": 24,
      "outputs": [
        {
          "output_type": "stream",
          "text": [
            "이름을 입력하세요...오쌤\n"
          ],
          "name": "stdout"
        }
      ]
    },
    {
      "cell_type": "code",
      "metadata": {
        "colab": {
          "base_uri": "https://localhost:8080/"
        },
        "id": "dwSn1GJTpt_8",
        "outputId": "ebca3644-72e6-409c-c295-3b908601e0af"
      },
      "source": [
        "print(f'안녕하세요, {name}!')"
      ],
      "execution_count": 25,
      "outputs": [
        {
          "output_type": "stream",
          "text": [
            "안녕하세요, 오쌤!\n"
          ],
          "name": "stdout"
        }
      ]
    }
  ]
}
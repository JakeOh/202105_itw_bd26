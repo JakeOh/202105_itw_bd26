{
  "nbformat": 4,
  "nbformat_minor": 0,
  "metadata": {
    "colab": {
      "name": "py07_loop.ipynb",
      "provenance": [],
      "collapsed_sections": [],
      "authorship_tag": "ABX9TyNL5tcpkliqziqYXiNqmXOx",
      "include_colab_link": true
    },
    "kernelspec": {
      "name": "python3",
      "display_name": "Python 3"
    },
    "language_info": {
      "name": "python"
    }
  },
  "cells": [
    {
      "cell_type": "markdown",
      "metadata": {
        "id": "view-in-github",
        "colab_type": "text"
      },
      "source": [
        "<a href=\"https://colab.research.google.com/github/JakeOh/202105_itw_bd26/blob/main/lab_python/py07_loop.ipynb\" target=\"_parent\"><img src=\"https://colab.research.google.com/assets/colab-badge.svg\" alt=\"Open In Colab\"/></a>"
      ]
    },
    {
      "cell_type": "markdown",
      "metadata": {
        "id": "bPJl13uoyNot"
      },
      "source": [
        "# print 함수의 파라미터"
      ]
    },
    {
      "cell_type": "markdown",
      "metadata": {
        "id": "o4pzI3-1yT7z"
      },
      "source": [
        "\n",
        "\n",
        "*   특수 기호\n",
        "    *   '\\t': 탭(tab)\n",
        "    *   '\\n': 줄바꿈(new line)\n",
        "*   `print()` 함수의 파라미터\n",
        "    *   `end`: 콘솔 창에 출력 후 어떤 동작을 할 것인지를 설정. 기본값은 줄바꿈('\\n')\n",
        "    *   `sep`: 출력하는 argument를 구별하기 위한 문자를 설정. 기본값은 공백(' ')\n",
        "\n"
      ]
    },
    {
      "cell_type": "code",
      "metadata": {
        "colab": {
          "base_uri": "https://localhost:8080/"
        },
        "id": "s-JXBRvKx7yN",
        "outputId": "2089b0fa-03c1-44b0-aa41-d49b023afa8e"
      },
      "source": [
        "print('hello')\n",
        "print('안녕하세요')\n",
        "print('hi')"
      ],
      "execution_count": 3,
      "outputs": [
        {
          "output_type": "stream",
          "text": [
            "hello\n",
            "안녕하세요\n",
            "hi\n"
          ],
          "name": "stdout"
        }
      ]
    },
    {
      "cell_type": "code",
      "metadata": {
        "colab": {
          "base_uri": "https://localhost:8080/"
        },
        "id": "GI1sUZU-0Tqa",
        "outputId": "5e043877-34e2-4963-d00c-62b694a8160e"
      },
      "source": [
        "print('hello', end=',')\n",
        "print('안녕하세요', end=',')\n",
        "print('hi', end=',')"
      ],
      "execution_count": 4,
      "outputs": [
        {
          "output_type": "stream",
          "text": [
            "hello,안녕하세요,hi,"
          ],
          "name": "stdout"
        }
      ]
    },
    {
      "cell_type": "code",
      "metadata": {
        "colab": {
          "base_uri": "https://localhost:8080/"
        },
        "id": "uR9sbob_03ya",
        "outputId": "28a780a6-768c-44bf-931b-5a95c10100bf"
      },
      "source": [
        "print('hello', end='\\t')\n",
        "print('안녕하세요', end='\\t')\n",
        "print('hi')"
      ],
      "execution_count": 6,
      "outputs": [
        {
          "output_type": "stream",
          "text": [
            "hello\t안녕하세요\thi\t"
          ],
          "name": "stdout"
        }
      ]
    },
    {
      "cell_type": "code",
      "metadata": {
        "colab": {
          "base_uri": "https://localhost:8080/"
        },
        "id": "x1RKZ6IX5Pm6",
        "outputId": "34e110f7-e970-43d4-da73-91a8e24f22cd"
      },
      "source": [
        "print('hello', '안녕하세요', 'Good morning')\n",
        "print('hello', '안녕하세요', 'Good morning', sep=',')\n",
        "print('hello', '안녕하세요', 'Good morning', sep='::')"
      ],
      "execution_count": 10,
      "outputs": [
        {
          "output_type": "stream",
          "text": [
            "hello 안녕하세요 Good morning\n",
            "hello,안녕하세요,Good morning\n",
            "hello::안녕하세요::Good morning\n"
          ],
          "name": "stdout"
        }
      ]
    },
    {
      "cell_type": "markdown",
      "metadata": {
        "id": "hK5s3OMk6ZOx"
      },
      "source": [
        "# EX 1"
      ]
    },
    {
      "cell_type": "markdown",
      "metadata": {
        "id": "wecTseXJ6bBu"
      },
      "source": [
        "다음과 같이 출력되도록 코드를 작성하세요.\n",
        "\n",
        "```\n",
        "1 little 2 little 3 little indian\n",
        "4 little 5 little 6 little indian\n",
        "7 little 8 little 9 little indian\n",
        "10 little indian boys!\n",
        "```\n"
      ]
    },
    {
      "cell_type": "code",
      "metadata": {
        "colab": {
          "base_uri": "https://localhost:8080/"
        },
        "id": "oOlUK-9W6ajH",
        "outputId": "5a0c6ed5-7a34-435e-d053-80d1602af8cf"
      },
      "source": [
        "for n in range(1, 11):\n",
        "    print(n, 'little', end=' ')\n",
        "    if n % 3 == 0:\n",
        "        print('indian')\n",
        "\n",
        "print('indian boys!')"
      ],
      "execution_count": 15,
      "outputs": [
        {
          "output_type": "stream",
          "text": [
            "1 little 2 little 3 little indian\n",
            "4 little 5 little 6 little indian\n",
            "7 little 8 little 9 little indian\n",
            "10 little indian boys!\n"
          ],
          "name": "stdout"
        }
      ]
    },
    {
      "cell_type": "markdown",
      "metadata": {
        "id": "bT5Jjw5r6uVu"
      },
      "source": [
        "# EX 2"
      ]
    },
    {
      "cell_type": "markdown",
      "metadata": {
        "id": "4_ArgxHy6zlu"
      },
      "source": [
        "아래와 같이 출력되도록 코드를 작성하세요.\n",
        "\n",
        "```\n",
        "1  2  *  4  5  *  7  8  *  10\n",
        "11 12 *  14 15 *  17 18 *  20\n",
        "21 22 *  24 25 *  27 28 *  *\n",
        "*  *  *  *  *  *  *  *  *  40\n",
        "...\n",
        "81 82 *  84 85 *  87 88 *  * \n",
        "*  *  *  *  *  *  *  *  *  100\n",
        "```\n"
      ]
    },
    {
      "cell_type": "code",
      "metadata": {
        "colab": {
          "base_uri": "https://localhost:8080/"
        },
        "id": "q6llK9067Yym",
        "outputId": "5b2e11d2-a0a0-4157-9ff9-bfca03c2f09b"
      },
      "source": [
        "for n in range(1, 101):\n",
        "    # 숫자 n의 1의 자릿수\n",
        "    n_1 = n % 10  # 10으로 나눈 나머지\n",
        "    # 숫자 n의 10의 자릿수\n",
        "    n_10 = n // 10  # 10으로 나눈 몫\n",
        "\n",
        "    # 1의 자릿수가 3 또는 6 또는 9이면\n",
        "    # condition_1 = (n_1 == 3) or (n_1 == 6) or (n_1 == 9)\n",
        "    condition_1 = n_1 in (3, 6, 9)\n",
        "    # 10의 자릿수가 3 또는 6 또는 9이면\n",
        "    # condition_10 = (n_10 == 3) or (n_10 == 6) or (n_10 == 9)\n",
        "    condition_10 = n_10 in (3, 6, 9)\n",
        "\n",
        "    if condition_1 and condition_10:\n",
        "        print('**', end='\\t')\n",
        "    elif condition_1 or condition_10:\n",
        "        # 1의 자릿수가 3, 6, 9 이거나 10의 자릿수가 3, 6, 9이면\n",
        "        print('*', end='\\t')\n",
        "    else:\n",
        "        print(n, end='\\t')\n",
        "    \n",
        "    # 숫자 10개를 출력할 때 마다 줄바꿈을 출력\n",
        "    if n % 10 == 0:\n",
        "        print()\n"
      ],
      "execution_count": 31,
      "outputs": [
        {
          "output_type": "stream",
          "text": [
            "1\t2\t*\t4\t5\t*\t7\t8\t*\t10\t\n",
            "11\t12\t*\t14\t15\t*\t17\t18\t*\t20\t\n",
            "21\t22\t*\t24\t25\t*\t27\t28\t*\t*\t\n",
            "*\t*\t**\t*\t*\t**\t*\t*\t**\t40\t\n",
            "41\t42\t*\t44\t45\t*\t47\t48\t*\t50\t\n",
            "51\t52\t*\t54\t55\t*\t57\t58\t*\t*\t\n",
            "*\t*\t**\t*\t*\t**\t*\t*\t**\t70\t\n",
            "71\t72\t*\t74\t75\t*\t77\t78\t*\t80\t\n",
            "81\t82\t*\t84\t85\t*\t87\t88\t*\t*\t\n",
            "*\t*\t**\t*\t*\t**\t*\t*\t**\t100\t\n"
          ],
          "name": "stdout"
        }
      ]
    },
    {
      "cell_type": "markdown",
      "metadata": {
        "id": "Q2PPLJL3iqGY"
      },
      "source": [
        "`in`, `not in` 연산자"
      ]
    },
    {
      "cell_type": "code",
      "metadata": {
        "colab": {
          "base_uri": "https://localhost:8080/"
        },
        "id": "zgUoJBZ7cfyj",
        "outputId": "19c607a2-8792-4fef-ff65-515432ce9026"
      },
      "source": [
        "result = 1 in range(10)\n",
        "print(result)\n",
        "\n",
        "result = 'h' in 'Hello'\n",
        "print(result)\n",
        "\n",
        "result = 'h' not in 'Hello'\n",
        "print(result)"
      ],
      "execution_count": 35,
      "outputs": [
        {
          "output_type": "stream",
          "text": [
            "True\n",
            "False\n",
            "True\n"
          ],
          "name": "stdout"
        }
      ]
    },
    {
      "cell_type": "code",
      "metadata": {
        "colab": {
          "base_uri": "https://localhost:8080/"
        },
        "id": "ShXRx94mi1pf",
        "outputId": "77941192-1457-40b3-d4f7-f15b3f28bf34"
      },
      "source": [
        "'3' in '14'"
      ],
      "execution_count": 40,
      "outputs": [
        {
          "output_type": "execute_result",
          "data": {
            "text/plain": [
              "False"
            ]
          },
          "metadata": {
            "tags": []
          },
          "execution_count": 40
        }
      ]
    },
    {
      "cell_type": "code",
      "metadata": {
        "colab": {
          "base_uri": "https://localhost:8080/"
        },
        "id": "69cJzo4SkIYN",
        "outputId": "ea5e067e-f2d7-482c-e800-865c9dbf9afe"
      },
      "source": [
        "for n in range(1, 101):\n",
        "    n_str = str(n)  # 정수 n을 문자열로 변환 후 저장.\n",
        "    if ('3' in n_str) or ('6' in n_str) or ('9' in n_str):\n",
        "        # 문자열 n_str에 '3', 또는 '6' 또는, '9'가 포함되어 있으면\n",
        "        print('*', end='\\t')\n",
        "    else:\n",
        "        print(n_str, end='\\t')\n",
        "    \n",
        "    # 10개 출력 후 줄바꿈\n",
        "    if n % 10 == 0:\n",
        "        print()"
      ],
      "execution_count": 41,
      "outputs": [
        {
          "output_type": "stream",
          "text": [
            "1\t2\t*\t4\t5\t*\t7\t8\t*\t10\t\n",
            "11\t12\t*\t14\t15\t*\t17\t18\t*\t20\t\n",
            "21\t22\t*\t24\t25\t*\t27\t28\t*\t*\t\n",
            "*\t*\t*\t*\t*\t*\t*\t*\t*\t40\t\n",
            "41\t42\t*\t44\t45\t*\t47\t48\t*\t50\t\n",
            "51\t52\t*\t54\t55\t*\t57\t58\t*\t*\t\n",
            "*\t*\t*\t*\t*\t*\t*\t*\t*\t70\t\n",
            "71\t72\t*\t74\t75\t*\t77\t78\t*\t80\t\n",
            "81\t82\t*\t84\t85\t*\t87\t88\t*\t*\t\n",
            "*\t*\t*\t*\t*\t*\t*\t*\t*\t100\t\n"
          ],
          "name": "stdout"
        }
      ]
    }
  ]
}
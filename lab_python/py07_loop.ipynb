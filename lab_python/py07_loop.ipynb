{
  "nbformat": 4,
  "nbformat_minor": 0,
  "metadata": {
    "colab": {
      "name": "py07_loop.ipynb",
      "provenance": [],
      "collapsed_sections": [],
      "authorship_tag": "ABX9TyM1nRuwlGuWjf5NyXtm+wGH",
      "include_colab_link": true
    },
    "kernelspec": {
      "name": "python3",
      "display_name": "Python 3"
    },
    "language_info": {
      "name": "python"
    }
  },
  "cells": [
    {
      "cell_type": "markdown",
      "metadata": {
        "id": "view-in-github",
        "colab_type": "text"
      },
      "source": [
        "<a href=\"https://colab.research.google.com/github/JakeOh/202105_itw_bd26/blob/main/lab_python/py07_loop.ipynb\" target=\"_parent\"><img src=\"https://colab.research.google.com/assets/colab-badge.svg\" alt=\"Open In Colab\"/></a>"
      ]
    },
    {
      "cell_type": "markdown",
      "metadata": {
        "id": "bPJl13uoyNot"
      },
      "source": [
        "# print 함수의 파라미터"
      ]
    },
    {
      "cell_type": "markdown",
      "metadata": {
        "id": "o4pzI3-1yT7z"
      },
      "source": [
        "\n",
        "\n",
        "*   특수 기호\n",
        "    *   '\\t': 탭(tab)\n",
        "    *   '\\n': 줄바꿈(new line)\n",
        "*   `print()` 함수의 `end` 파라미터: 콘솔 창에 출력 후 어떤 동작을 할 것인지를 설정.\n",
        "    *   기본값: '\\n'\n",
        "\n"
      ]
    },
    {
      "cell_type": "code",
      "metadata": {
        "colab": {
          "base_uri": "https://localhost:8080/"
        },
        "id": "s-JXBRvKx7yN",
        "outputId": "2089b0fa-03c1-44b0-aa41-d49b023afa8e"
      },
      "source": [
        "print('hello')\n",
        "print('안녕하세요')\n",
        "print('hi')"
      ],
      "execution_count": 3,
      "outputs": [
        {
          "output_type": "stream",
          "text": [
            "hello\n",
            "안녕하세요\n",
            "hi\n"
          ],
          "name": "stdout"
        }
      ]
    },
    {
      "cell_type": "code",
      "metadata": {
        "colab": {
          "base_uri": "https://localhost:8080/"
        },
        "id": "GI1sUZU-0Tqa",
        "outputId": "5e043877-34e2-4963-d00c-62b694a8160e"
      },
      "source": [
        "print('hello', end=',')\n",
        "print('안녕하세요', end=',')\n",
        "print('hi', end=',')"
      ],
      "execution_count": 4,
      "outputs": [
        {
          "output_type": "stream",
          "text": [
            "hello,안녕하세요,hi,"
          ],
          "name": "stdout"
        }
      ]
    },
    {
      "cell_type": "code",
      "metadata": {
        "colab": {
          "base_uri": "https://localhost:8080/"
        },
        "id": "uR9sbob_03ya",
        "outputId": "28a780a6-768c-44bf-931b-5a95c10100bf"
      },
      "source": [
        "print('hello', end='\\t')\n",
        "print('안녕하세요', end='\\t')\n",
        "print('hi')"
      ],
      "execution_count": 6,
      "outputs": [
        {
          "output_type": "stream",
          "text": [
            "hello\t안녕하세요\thi\t"
          ],
          "name": "stdout"
        }
      ]
    }
  ]
}
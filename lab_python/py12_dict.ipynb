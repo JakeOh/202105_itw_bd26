{
  "nbformat": 4,
  "nbformat_minor": 0,
  "metadata": {
    "colab": {
      "name": "py12_dict.ipynb",
      "provenance": [],
      "collapsed_sections": [],
      "authorship_tag": "ABX9TyOOt2T7Exnj11klJziNxBni",
      "include_colab_link": true
    },
    "kernelspec": {
      "name": "python3",
      "display_name": "Python 3"
    },
    "language_info": {
      "name": "python"
    }
  },
  "cells": [
    {
      "cell_type": "markdown",
      "metadata": {
        "id": "view-in-github",
        "colab_type": "text"
      },
      "source": [
        "<a href=\"https://colab.research.google.com/github/JakeOh/202105_itw_bd26/blob/main/lab_python/py12_dict.ipynb\" target=\"_parent\"><img src=\"https://colab.research.google.com/assets/colab-badge.svg\" alt=\"Open In Colab\"/></a>"
      ]
    },
    {
      "cell_type": "markdown",
      "metadata": {
        "id": "CVnmAuXvrk1c"
      },
      "source": [
        "# dict"
      ]
    },
    {
      "cell_type": "markdown",
      "metadata": {
        "id": "Z6VDLu1AroRL"
      },
      "source": [
        "**dict**\n",
        "\n",
        "*   사전(dictionary) 형식의 데이터 타입\n",
        "*   키(key)를 기반으로 값(value)을 저장하는 데이터 타입\n",
        "    *   list, tuple: index를 기반으로 값을 저장하는 데이터 타입\n",
        "    *   key의 역할은 list나 tuple에서 인덱스의 역할과 마찬가지로, 사전에 저장되어 있는 유일한 1개의 값을 찾아가기(참조하기) 위한 용도.\n"
      ]
    },
    {
      "cell_type": "code",
      "metadata": {
        "colab": {
          "base_uri": "https://localhost:8080/"
        },
        "id": "FCpxScTjrSzb",
        "outputId": "de33728a-6bdc-423d-ae1f-23806f0d22a1"
      },
      "source": [
        "students = {1: '홍길동', 2: '오쌤', 10: 'Scott'}\n",
        "print(students)\n",
        "print(type(students))\n",
        "print(students.keys())  # dict의 key들\n",
        "print(students.values())  # dict의 value들"
      ],
      "execution_count": 1,
      "outputs": [
        {
          "output_type": "stream",
          "text": [
            "{1: '홍길동', 2: '오쌤', 10: 'Scott'}\n",
            "<class 'dict'>\n",
            "dict_keys([1, 2, 10])\n",
            "dict_values(['홍길동', '오쌤', 'Scott'])\n"
          ],
          "name": "stdout"
        }
      ]
    },
    {
      "cell_type": "code",
      "metadata": {
        "colab": {
          "base_uri": "https://localhost:8080/"
        },
        "id": "ZlndgJi3v5eP",
        "outputId": "a55187c2-4260-4fca-ef6a-c2fea1886438"
      },
      "source": [
        "# dict[key] - dict에서 key에 해당하는 value\n",
        "print(students[2])"
      ],
      "execution_count": 2,
      "outputs": [
        {
          "output_type": "stream",
          "text": [
            "오쌤\n"
          ],
          "name": "stdout"
        }
      ]
    },
    {
      "cell_type": "code",
      "metadata": {
        "colab": {
          "base_uri": "https://localhost:8080/"
        },
        "id": "rRCId1B9wZt0",
        "outputId": "e9b4c303-e7ee-4686-9517-993b13de2d72"
      },
      "source": [
        "# dict[key] = value\n",
        "# 1) key가 dict에 없는 경우, 새로운 key: value 아이템을 dict에 추가\n",
        "students[11] = 'tiger'\n",
        "print(students)\n",
        "\n",
        "# 2) key가 dict에 있는 경우, 기존 값을 새로운 값으로 변경\n",
        "students[1] = '김길동'\n",
        "print(students)"
      ],
      "execution_count": 3,
      "outputs": [
        {
          "output_type": "stream",
          "text": [
            "{1: '홍길동', 2: '오쌤', 10: 'Scott', 11: 'tiger'}\n",
            "{1: '김길동', 2: '오쌤', 10: 'Scott', 11: 'tiger'}\n"
          ],
          "name": "stdout"
        }
      ]
    },
    {
      "cell_type": "markdown",
      "metadata": {
        "id": "SXAo96Z02zJU"
      },
      "source": [
        "# dict의 메서드(기능)"
      ]
    },
    {
      "cell_type": "code",
      "metadata": {
        "colab": {
          "base_uri": "https://localhost:8080/"
        },
        "id": "RC_4Zcog1r64",
        "outputId": "0165aff7-c751-4900-90b2-874a39039b21"
      },
      "source": [
        "book = {'title': '혼자 공부하는 파이썬', \n",
        "        'author': '윤인성',\n",
        "        'price': 18000}\n",
        "print(book)"
      ],
      "execution_count": 4,
      "outputs": [
        {
          "output_type": "stream",
          "text": [
            "{'title': '혼자 공부하는 파이썬', 'author': '윤인성', 'price': 18000}\n"
          ],
          "name": "stdout"
        }
      ]
    },
    {
      "cell_type": "code",
      "metadata": {
        "colab": {
          "base_uri": "https://localhost:8080/"
        },
        "id": "uxaBNBpC2u7e",
        "outputId": "be8f4dd3-3fee-4673-8af3-41fb21bb3442"
      },
      "source": [
        "book.keys()  # dict의 key들을 확인"
      ],
      "execution_count": 5,
      "outputs": [
        {
          "output_type": "execute_result",
          "data": {
            "text/plain": [
              "dict_keys(['title', 'author', 'price'])"
            ]
          },
          "metadata": {
            "tags": []
          },
          "execution_count": 5
        }
      ]
    },
    {
      "cell_type": "code",
      "metadata": {
        "colab": {
          "base_uri": "https://localhost:8080/"
        },
        "id": "Zz6PT6S33pIe",
        "outputId": "f7185feb-f1a2-4d78-8860-fd06c25144c5"
      },
      "source": [
        "book.values()  # dict의 value들만 확인"
      ],
      "execution_count": 6,
      "outputs": [
        {
          "output_type": "execute_result",
          "data": {
            "text/plain": [
              "dict_values(['혼자 공부하는 파이썬', '윤인성', 18000])"
            ]
          },
          "metadata": {
            "tags": []
          },
          "execution_count": 6
        }
      ]
    },
    {
      "cell_type": "code",
      "metadata": {
        "colab": {
          "base_uri": "https://localhost:8080/"
        },
        "id": "nUY725y13wYA",
        "outputId": "722050bc-1994-41d6-d232-7ec7bb96704c"
      },
      "source": [
        "book.items()  # (key, value) item들의 리스트"
      ],
      "execution_count": 7,
      "outputs": [
        {
          "output_type": "execute_result",
          "data": {
            "text/plain": [
              "dict_items([('title', '혼자 공부하는 파이썬'), ('author', '윤인성'), ('price', 18000)])"
            ]
          },
          "metadata": {
            "tags": []
          },
          "execution_count": 7
        }
      ]
    },
    {
      "cell_type": "code",
      "metadata": {
        "colab": {
          "base_uri": "https://localhost:8080/"
        },
        "id": "JOMOMfo34srP",
        "outputId": "4dd238af-6bfe-42e6-ff63-59cfe4784be2"
      },
      "source": [
        "# dict.get(key): key에 해당하는 value를 반환.\n",
        "print(book.get('title'))\n",
        "print(book['title'])"
      ],
      "execution_count": 8,
      "outputs": [
        {
          "output_type": "stream",
          "text": [
            "혼자 공부하는 파이썬\n",
            "혼자 공부하는 파이썬\n"
          ],
          "name": "stdout"
        }
      ]
    },
    {
      "cell_type": "code",
      "metadata": {
        "colab": {
          "base_uri": "https://localhost:8080/"
        },
        "id": "kNCoK_5p5akm",
        "outputId": "865875c1-12ef-4f75-dc52-684fcdeb1383"
      },
      "source": [
        "# book['isbn']\n",
        "#> dict[key]를 사용하는 경우, key가 dict에 없는 경우에는 KeyError갈 발생함.\n",
        "\n",
        "print(book.get('isbn'))\n",
        "#> dict.get(key) 메서드를 사용하는 경우, key가 dict에 없는 경우에 에러 대신 None을 반환."
      ],
      "execution_count": 9,
      "outputs": [
        {
          "output_type": "stream",
          "text": [
            "None\n"
          ],
          "name": "stdout"
        }
      ]
    },
    {
      "cell_type": "code",
      "metadata": {
        "colab": {
          "base_uri": "https://localhost:8080/"
        },
        "id": "wCNN4AgA6fh_",
        "outputId": "5a15cd98-edee-46ca-e469-bde2dcfa212f"
      },
      "source": [
        "book.pop('price')  # key에 해당하는 아이템(key: value)을 삭제\n",
        "print(book)"
      ],
      "execution_count": 10,
      "outputs": [
        {
          "output_type": "stream",
          "text": [
            "{'title': '혼자 공부하는 파이썬', 'author': '윤인성'}\n"
          ],
          "name": "stdout"
        }
      ]
    },
    {
      "cell_type": "code",
      "metadata": {
        "colab": {
          "base_uri": "https://localhost:8080/"
        },
        "id": "WZbpgXkV7UKZ",
        "outputId": "eaa194a8-9838-470b-e1a1-a30487020578"
      },
      "source": [
        "book['가격'] = 18000  # dict에 새로운 아이템(key: value)을 추가\n",
        "print(book)"
      ],
      "execution_count": 11,
      "outputs": [
        {
          "output_type": "stream",
          "text": [
            "{'title': '혼자 공부하는 파이썬', 'author': '윤인성', '가격': 18000}\n"
          ],
          "name": "stdout"
        }
      ]
    },
    {
      "cell_type": "markdown",
      "metadata": {
        "id": "tqwvcPuN8P5o"
      },
      "source": [
        "dict는 key와 value 모두 다양한 타입의 자료들을 사용할 수 있음."
      ]
    },
    {
      "cell_type": "code",
      "metadata": {
        "colab": {
          "base_uri": "https://localhost:8080/"
        },
        "id": "XJi-Zsg17kqH",
        "outputId": "b1990f74-bb92-47ee-faf3-015039a4a25f"
      },
      "source": [
        "contact = {'no': 1, \n",
        "           'name': '오쌤',\n",
        "           'phone': ['010-0000-0000', '02-0000-0000', '02-1234-5678'],\n",
        "           'email': {'personal': 'jake@gmail.com', 'company': 'jake@itwill.co.kr'}}\n",
        "print(contact)"
      ],
      "execution_count": 12,
      "outputs": [
        {
          "output_type": "stream",
          "text": [
            "{'no': 1, 'name': '오쌤', 'phone': ['010-0000-0000', '02-0000-0000', '02-1234-5678'], 'email': {'personal': 'jake@gmail.com', 'company': 'jake@itwill.co.kr'}}\n"
          ],
          "name": "stdout"
        }
      ]
    },
    {
      "cell_type": "code",
      "metadata": {
        "colab": {
          "base_uri": "https://localhost:8080/"
        },
        "id": "crRrmwzX9vey",
        "outputId": "dfada1ef-ba2d-4972-b678-c4c9ebcc1ec3"
      },
      "source": [
        "print(contact['phone'])  #> 리스트(list)\n",
        "print(contact['phone'][0])  #> 인덱스 -> 리스트의 원소를 참조"
      ],
      "execution_count": 13,
      "outputs": [
        {
          "output_type": "stream",
          "text": [
            "['010-0000-0000', '02-0000-0000', '02-1234-5678']\n",
            "010-0000-0000\n"
          ],
          "name": "stdout"
        }
      ]
    },
    {
      "cell_type": "code",
      "metadata": {
        "colab": {
          "base_uri": "https://localhost:8080/"
        },
        "id": "7ENT4t-W-ipI",
        "outputId": "4d0035db-e544-4c02-9d9f-e542358bbf2b"
      },
      "source": [
        "print(contact['email'])  #> dict\n",
        "print(contact['email']['company'])  #> key -> value를 참조"
      ],
      "execution_count": 14,
      "outputs": [
        {
          "output_type": "stream",
          "text": [
            "{'personal': 'jake@gmail.com', 'company': 'jake@itwill.co.kr'}\n",
            "jake@itwill.co.kr\n"
          ],
          "name": "stdout"
        }
      ]
    },
    {
      "cell_type": "code",
      "metadata": {
        "colab": {
          "base_uri": "https://localhost:8080/"
        },
        "id": "VyBl2JUdDOe0",
        "outputId": "a78b7fde-da43-4ddb-9d7d-65d65ea209bb"
      },
      "source": [
        "numbers = [10, 5, 7]  # list\n",
        "print(numbers[0])  # list_name[index]"
      ],
      "execution_count": 15,
      "outputs": [
        {
          "output_type": "stream",
          "text": [
            "10\n"
          ],
          "name": "stdout"
        }
      ]
    },
    {
      "cell_type": "code",
      "metadata": {
        "colab": {
          "base_uri": "https://localhost:8080/"
        },
        "id": "HYoi3yvnDcKK",
        "outputId": "13cf70ea-b64b-41f2-d29c-b27f13e3b282"
      },
      "source": [
        "data = {'name': '오쌤', 'age': 16, 1: 100, 2: 'abc'}  # dict\n",
        "print(data['name'])\n",
        "print(data[1])"
      ],
      "execution_count": 16,
      "outputs": [
        {
          "output_type": "stream",
          "text": [
            "오쌤\n",
            "100\n"
          ],
          "name": "stdout"
        }
      ]
    },
    {
      "cell_type": "markdown",
      "metadata": {
        "id": "hXqaBYjlHFSZ"
      },
      "source": [
        "# dict와 for 반복문"
      ]
    },
    {
      "cell_type": "code",
      "metadata": {
        "id": "mnA8QJgaFlaB"
      },
      "source": [
        "menu = {'짜장면': 5000, '짬뽕': 6000, '볶음밥': 6000}"
      ],
      "execution_count": 17,
      "outputs": []
    },
    {
      "cell_type": "code",
      "metadata": {
        "colab": {
          "base_uri": "https://localhost:8080/"
        },
        "id": "vj4mgUVxFrPr",
        "outputId": "924e200c-a1bd-4d4b-91ce-2740ab192106"
      },
      "source": [
        "for x in menu:\n",
        "    print(x)\n",
        "# for-in 구문에서 dict를 사용하면 key를 iteration한다."
      ],
      "execution_count": 18,
      "outputs": [
        {
          "output_type": "stream",
          "text": [
            "짜장면\n",
            "짬뽕\n",
            "볶음밥\n"
          ],
          "name": "stdout"
        }
      ]
    },
    {
      "cell_type": "code",
      "metadata": {
        "colab": {
          "base_uri": "https://localhost:8080/"
        },
        "id": "cScVxATFFtdq",
        "outputId": "513563cd-8a41-4ced-b577-a62fe06809fd"
      },
      "source": [
        "for k in menu:\n",
        "    print(k, ':', menu[k])"
      ],
      "execution_count": 19,
      "outputs": [
        {
          "output_type": "stream",
          "text": [
            "짜장면 : 5000\n",
            "짬뽕 : 6000\n",
            "볶음밥 : 6000\n"
          ],
          "name": "stdout"
        }
      ]
    },
    {
      "cell_type": "code",
      "metadata": {
        "colab": {
          "base_uri": "https://localhost:8080/"
        },
        "id": "wkEAsAivMnsn",
        "outputId": "5448f420-58a2-492d-eccb-166ba2b8de5d"
      },
      "source": [
        "for k, v in menu.items():  # [('짜장면', 5000), ('짬뽕', 6000), ('볶음밥', 6000)]\n",
        "    print(k, v)"
      ],
      "execution_count": 20,
      "outputs": [
        {
          "output_type": "stream",
          "text": [
            "짜장면 5000\n",
            "짬뽕 6000\n",
            "볶음밥 6000\n"
          ],
          "name": "stdout"
        }
      ]
    },
    {
      "cell_type": "markdown",
      "metadata": {
        "id": "ok7kqwJYREMT"
      },
      "source": [
        "# Dictionary Comprehension"
      ]
    },
    {
      "cell_type": "code",
      "metadata": {
        "colab": {
          "base_uri": "https://localhost:8080/"
        },
        "id": "aNs8cBVHRIak",
        "outputId": "5f90310d-384a-4556-97fa-7c379b7144e4"
      },
      "source": [
        "emp_no = [101, 102, 201, 202]  # 사번 리스트\n",
        "emp_name = ['King', 'Scott', 'Allen', '오쌤']  # 직원 이름 리스트\n",
        "\n",
        "# 사번을 key로 하고 이름을 value로 갖는 dict를 생성.\n",
        "\n",
        "# 1) empty dict 생성\n",
        "employees = {}  # employees = dict()\n",
        "\n",
        "# 2) emp_no, emp_name 리스트의 원소들을 차례로 반복하면서, employees[key] = value\n",
        "for k, v in zip(emp_no, emp_name):\n",
        "    employees[k] = v\n",
        "\n",
        "print(employees)"
      ],
      "execution_count": 21,
      "outputs": [
        {
          "output_type": "stream",
          "text": [
            "{101: 'King', 102: 'Scott', 201: 'Allen', 202: '오쌤'}\n"
          ],
          "name": "stdout"
        }
      ]
    },
    {
      "cell_type": "code",
      "metadata": {
        "colab": {
          "base_uri": "https://localhost:8080/"
        },
        "id": "mwk2mqWVTzN0",
        "outputId": "dea427ec-d08e-4f58-afc2-725cce750d7d"
      },
      "source": [
        "# dictionary comprehension: {k: v for k, v in iterable}\n",
        "emp = {k: v for k, v in zip(emp_no, emp_name)}\n",
        "print(emp)"
      ],
      "execution_count": 22,
      "outputs": [
        {
          "output_type": "stream",
          "text": [
            "{101: 'King', 102: 'Scott', 201: 'Allen', 202: '오쌤'}\n"
          ],
          "name": "stdout"
        }
      ]
    },
    {
      "cell_type": "code",
      "metadata": {
        "colab": {
          "base_uri": "https://localhost:8080/"
        },
        "id": "MwXGiVePWXP1",
        "outputId": "0e640142-2da0-4e97-9e62-1e2c86f8b257"
      },
      "source": [
        "fruits = ['apple', 'banana', 'cherry', 'pineapple', 'watermelon', '딸기', '복숭아']\n",
        "\n",
        "# {과일이름: 이름길이} 형식의 dict를 생성\n",
        "# {'apple': 5, 'banana': 6, ..., '복숭아': 3} dict를 생성\n",
        "\n",
        "fruit_lengths = {}  # empty dict 생성\n",
        "\n",
        "for x in fruits:  # fruits 원소들을 반복하면서\n",
        "    fruit_lengths[x] = len(x)  # fruit_lengths[과일이름] = 과일이름길이\n",
        "\n",
        "print(fruit_lengths)"
      ],
      "execution_count": 23,
      "outputs": [
        {
          "output_type": "stream",
          "text": [
            "{'apple': 5, 'banana': 6, 'cherry': 6, 'pineapple': 9, 'watermelon': 10, '딸기': 2, '복숭아': 3}\n"
          ],
          "name": "stdout"
        }
      ]
    },
    {
      "cell_type": "code",
      "metadata": {
        "colab": {
          "base_uri": "https://localhost:8080/"
        },
        "id": "xEAHn3-vZutE",
        "outputId": "44132113-b938-478e-c834-100a92233b63"
      },
      "source": [
        "fruit_lengths2 = {x: len(x) for x in fruits}\n",
        "print(fruit_lengths2)"
      ],
      "execution_count": 24,
      "outputs": [
        {
          "output_type": "stream",
          "text": [
            "{'apple': 5, 'banana': 6, 'cherry': 6, 'pineapple': 9, 'watermelon': 10, '딸기': 2, '복숭아': 3}\n"
          ],
          "name": "stdout"
        }
      ]
    },
    {
      "cell_type": "markdown",
      "metadata": {
        "id": "Qm1Dq2ukaff9"
      },
      "source": [
        "# Word Counting"
      ]
    },
    {
      "cell_type": "code",
      "metadata": {
        "id": "yxkwQGBhaCxt"
      },
      "source": [
        "words = ['one', 'little', 'two', 'little', 'three', 'little', 'indian', 'indian']"
      ],
      "execution_count": 25,
      "outputs": []
    },
    {
      "cell_type": "markdown",
      "metadata": {
        "id": "FAD3qMqOa8hs"
      },
      "source": [
        "리스트 words에 등장하는 단어를 dict의 key로 하고, 그 단어가 등장하는 횟수를 value로 하는 dict를 만들어 보세요.\n",
        "\n",
        "> 결과: `{'one': 1, 'little': 3, 'two': 1, 'three': 1, 'indian': 2}`\n",
        "\n",
        "*   힌트:\n",
        "    *   dict, for, if 이용\n",
        "    *   defaultdict 데이터 타입 이용\n",
        "    *   ..."
      ]
    },
    {
      "cell_type": "code",
      "metadata": {
        "id": "Z0fvjbFsa722",
        "colab": {
          "base_uri": "https://localhost:8080/"
        },
        "outputId": "2f50ac93-6055-46ac-e899-b5db6e29bf7c"
      },
      "source": [
        "# empty dict 생성\n",
        "word_counts = {}  # word_counts = dict()\n",
        "\n",
        "for w in words:  # 리스트 words가 가지고 있는 문자열 w에 대해서 반복하면서\n",
        "    if w in word_counts:  # 문자열 w가 word_counts의 key로 존재하면\n",
        "        word_counts[w] += 1  # 단어 등장 횟수를 1 증가\n",
        "    else:  # 문자열 w가 처음 등장한 경우\n",
        "        word_counts[w] = 1  # 단어 등장 횟수를 1로 설정.\n",
        "    print(word_counts)"
      ],
      "execution_count": 30,
      "outputs": [
        {
          "output_type": "stream",
          "text": [
            "{'one': 1}\n",
            "{'one': 1, 'little': 1}\n",
            "{'one': 1, 'little': 1, 'two': 1}\n",
            "{'one': 1, 'little': 2, 'two': 1}\n",
            "{'one': 1, 'little': 2, 'two': 1, 'three': 1}\n",
            "{'one': 1, 'little': 3, 'two': 1, 'three': 1}\n",
            "{'one': 1, 'little': 3, 'two': 1, 'three': 1, 'indian': 1}\n",
            "{'one': 1, 'little': 3, 'two': 1, 'three': 1, 'indian': 2}\n"
          ],
          "name": "stdout"
        }
      ]
    },
    {
      "cell_type": "code",
      "metadata": {
        "id": "LRcfBzjbWXys"
      },
      "source": [
        "from collections import defaultdict\n",
        "# collections 모듈에서 defaultdict 데이터 타입을 import"
      ],
      "execution_count": 32,
      "outputs": []
    },
    {
      "cell_type": "code",
      "metadata": {
        "colab": {
          "base_uri": "https://localhost:8080/"
        },
        "id": "JZslHCbybdPt",
        "outputId": "a8ca21ec-9cdc-4c9e-9743-1fef0d8ce55f"
      },
      "source": [
        "word_counts2 = defaultdict(int)\n",
        "# dictionary의 value의 데이터 타입은 int임을 설정\n",
        "for w in words:\n",
        "    word_counts2[w] += 1  # word_counts2[w] = word_counts2[w] + 1\n",
        "    print(word_counts2)"
      ],
      "execution_count": 35,
      "outputs": [
        {
          "output_type": "stream",
          "text": [
            "defaultdict(<class 'int'>, {'one': 1})\n",
            "defaultdict(<class 'int'>, {'one': 1, 'little': 1})\n",
            "defaultdict(<class 'int'>, {'one': 1, 'little': 1, 'two': 1})\n",
            "defaultdict(<class 'int'>, {'one': 1, 'little': 2, 'two': 1})\n",
            "defaultdict(<class 'int'>, {'one': 1, 'little': 2, 'two': 1, 'three': 1})\n",
            "defaultdict(<class 'int'>, {'one': 1, 'little': 3, 'two': 1, 'three': 1})\n",
            "defaultdict(<class 'int'>, {'one': 1, 'little': 3, 'two': 1, 'three': 1, 'indian': 1})\n",
            "defaultdict(<class 'int'>, {'one': 1, 'little': 3, 'two': 1, 'three': 1, 'indian': 2})\n"
          ],
          "name": "stdout"
        }
      ]
    },
    {
      "cell_type": "code",
      "metadata": {
        "colab": {
          "base_uri": "https://localhost:8080/"
        },
        "id": "aEkeqLnNdbGD",
        "outputId": "0ba25516-aca1-4145-c123-e8a80a708593"
      },
      "source": [
        "word_counts3 = {}\n",
        "for w in words:\n",
        "    # print(w, words.count(w))\n",
        "    word_counts3[w] = words.count(w)\n",
        "    print(word_counts3)"
      ],
      "execution_count": 37,
      "outputs": [
        {
          "output_type": "stream",
          "text": [
            "{'one': 1}\n",
            "{'one': 1, 'little': 3}\n",
            "{'one': 1, 'little': 3, 'two': 1}\n",
            "{'one': 1, 'little': 3, 'two': 1}\n",
            "{'one': 1, 'little': 3, 'two': 1, 'three': 1}\n",
            "{'one': 1, 'little': 3, 'two': 1, 'three': 1}\n",
            "{'one': 1, 'little': 3, 'two': 1, 'three': 1, 'indian': 2}\n",
            "{'one': 1, 'little': 3, 'two': 1, 'three': 1, 'indian': 2}\n"
          ],
          "name": "stdout"
        }
      ]
    },
    {
      "cell_type": "code",
      "metadata": {
        "colab": {
          "base_uri": "https://localhost:8080/"
        },
        "id": "4zC_niV4gNpd",
        "outputId": "c25b10c0-cad9-4906-9012-9ed520ecf801"
      },
      "source": [
        "word_counts4 = {w: words.count(w) for w in words}  # dictionary comprehension\n",
        "print(word_counts4)"
      ],
      "execution_count": 38,
      "outputs": [
        {
          "output_type": "stream",
          "text": [
            "{'one': 1, 'little': 3, 'two': 1, 'three': 1, 'indian': 2}\n"
          ],
          "name": "stdout"
        }
      ]
    }
  ]
}
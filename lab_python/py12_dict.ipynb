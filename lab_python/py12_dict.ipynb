{
  "nbformat": 4,
  "nbformat_minor": 0,
  "metadata": {
    "colab": {
      "name": "py12_dict.ipynb",
      "provenance": [],
      "collapsed_sections": [],
      "authorship_tag": "ABX9TyOPziY7PvRlTit3K9/gozil",
      "include_colab_link": true
    },
    "kernelspec": {
      "name": "python3",
      "display_name": "Python 3"
    },
    "language_info": {
      "name": "python"
    }
  },
  "cells": [
    {
      "cell_type": "markdown",
      "metadata": {
        "id": "view-in-github",
        "colab_type": "text"
      },
      "source": [
        "<a href=\"https://colab.research.google.com/github/JakeOh/202105_itw_bd26/blob/main/lab_python/py12_dict.ipynb\" target=\"_parent\"><img src=\"https://colab.research.google.com/assets/colab-badge.svg\" alt=\"Open In Colab\"/></a>"
      ]
    },
    {
      "cell_type": "markdown",
      "metadata": {
        "id": "CVnmAuXvrk1c"
      },
      "source": [
        "# dict"
      ]
    },
    {
      "cell_type": "markdown",
      "metadata": {
        "id": "Z6VDLu1AroRL"
      },
      "source": [
        "**dict**\n",
        "\n",
        "*   사전(dictionary) 형식의 데이터 타입\n",
        "*   키(key)를 기반으로 값(value)을 저장하는 데이터 타입\n",
        "    *   list, tuple: index를 기반으로 값을 저장하는 데이터 타입\n",
        "    *   key의 역할은 list나 tuple에서 인덱스의 역할과 마찬가지로, 사전에 저장되어 있는 유일한 1개의 값을 찾아가기(참조하기) 위한 용도.\n"
      ]
    },
    {
      "cell_type": "code",
      "metadata": {
        "colab": {
          "base_uri": "https://localhost:8080/"
        },
        "id": "FCpxScTjrSzb",
        "outputId": "5817ff7b-5a37-4436-9cb7-f559e46d96f0"
      },
      "source": [
        "students = {1: '홍길동', 2: '오쌤', 10: 'Scott'}\n",
        "print(students)\n",
        "print(type(students))\n",
        "print(students.keys())  # dict의 key들\n",
        "print(students.values())  # dict의 value들"
      ],
      "execution_count": 5,
      "outputs": [
        {
          "output_type": "stream",
          "text": [
            "{1: '홍길동', 2: '오쌤', 10: 'Scott'}\n",
            "<class 'dict'>\n",
            "dict_keys([1, 2, 10])\n",
            "dict_values(['홍길동', '오쌤', 'Scott'])\n"
          ],
          "name": "stdout"
        }
      ]
    },
    {
      "cell_type": "code",
      "metadata": {
        "colab": {
          "base_uri": "https://localhost:8080/"
        },
        "id": "ZlndgJi3v5eP",
        "outputId": "ba87ee9e-53fa-43ff-9fbd-9a3bf3354acd"
      },
      "source": [
        "# dict[key] - dict에서 key에 해당하는 value\n",
        "print(students[2])"
      ],
      "execution_count": 6,
      "outputs": [
        {
          "output_type": "stream",
          "text": [
            "오쌤\n"
          ],
          "name": "stdout"
        }
      ]
    },
    {
      "cell_type": "code",
      "metadata": {
        "colab": {
          "base_uri": "https://localhost:8080/"
        },
        "id": "rRCId1B9wZt0",
        "outputId": "c03c7e1d-3ddf-4d18-842b-26c2d1919286"
      },
      "source": [
        "# dict[key] = value\n",
        "# 1) key가 dict에 없는 경우, 새로운 key: value 아이템을 dict에 추가\n",
        "students[11] = 'tiger'\n",
        "print(students)\n",
        "\n",
        "# 2) key가 dict에 있는 경우, 기존 값을 새로운 값으로 변경\n",
        "students[1] = '김길동'\n",
        "print(students)"
      ],
      "execution_count": 8,
      "outputs": [
        {
          "output_type": "stream",
          "text": [
            "{1: '홍길동', 2: '오쌤', 10: 'Scott', 11: 'tiger'}\n",
            "{1: '김길동', 2: '오쌤', 10: 'Scott', 11: 'tiger'}\n"
          ],
          "name": "stdout"
        }
      ]
    },
    {
      "cell_type": "markdown",
      "metadata": {
        "id": "SXAo96Z02zJU"
      },
      "source": [
        "# dict의 메서드(기능)"
      ]
    },
    {
      "cell_type": "code",
      "metadata": {
        "colab": {
          "base_uri": "https://localhost:8080/"
        },
        "id": "RC_4Zcog1r64",
        "outputId": "aebbacdd-df3b-4008-af01-152fdb9197ad"
      },
      "source": [
        "book = {'title': '혼자 공부하는 파이썬', \n",
        "        'author': '윤인성',\n",
        "        'price': 18000}\n",
        "print(book)"
      ],
      "execution_count": 9,
      "outputs": [
        {
          "output_type": "stream",
          "text": [
            "{'title': '혼자 공부하는 파이썬', 'author': '윤인성', 'price': 18000}\n"
          ],
          "name": "stdout"
        }
      ]
    },
    {
      "cell_type": "code",
      "metadata": {
        "colab": {
          "base_uri": "https://localhost:8080/"
        },
        "id": "uxaBNBpC2u7e",
        "outputId": "cbe84ec8-88f7-43f6-c871-bb9ce3f44556"
      },
      "source": [
        "book.keys()  # dict의 key들을 확인"
      ],
      "execution_count": 10,
      "outputs": [
        {
          "output_type": "execute_result",
          "data": {
            "text/plain": [
              "dict_keys(['title', 'author', 'price'])"
            ]
          },
          "metadata": {
            "tags": []
          },
          "execution_count": 10
        }
      ]
    },
    {
      "cell_type": "code",
      "metadata": {
        "colab": {
          "base_uri": "https://localhost:8080/"
        },
        "id": "Zz6PT6S33pIe",
        "outputId": "57e3a536-1194-41cf-a7b4-2008a945bde4"
      },
      "source": [
        "book.values()  # dict의 value들만 확인"
      ],
      "execution_count": 11,
      "outputs": [
        {
          "output_type": "execute_result",
          "data": {
            "text/plain": [
              "dict_values(['혼자 공부하는 파이썬', '윤인성', 18000])"
            ]
          },
          "metadata": {
            "tags": []
          },
          "execution_count": 11
        }
      ]
    },
    {
      "cell_type": "code",
      "metadata": {
        "colab": {
          "base_uri": "https://localhost:8080/"
        },
        "id": "nUY725y13wYA",
        "outputId": "5ceb6217-f7e2-4582-a9f9-169bef61b31e"
      },
      "source": [
        "book.items()  # (key, value) item들의 리스트"
      ],
      "execution_count": 12,
      "outputs": [
        {
          "output_type": "execute_result",
          "data": {
            "text/plain": [
              "dict_items([('title', '혼자 공부하는 파이썬'), ('author', '윤인성'), ('price', 18000)])"
            ]
          },
          "metadata": {
            "tags": []
          },
          "execution_count": 12
        }
      ]
    },
    {
      "cell_type": "code",
      "metadata": {
        "colab": {
          "base_uri": "https://localhost:8080/"
        },
        "id": "JOMOMfo34srP",
        "outputId": "ff3b3e52-ca98-44e3-eaad-bbd2a06446df"
      },
      "source": [
        "# dict.get(key): key에 해당하는 value를 반환.\n",
        "print(book.get('title'))\n",
        "print(book['title'])"
      ],
      "execution_count": 14,
      "outputs": [
        {
          "output_type": "stream",
          "text": [
            "혼자 공부하는 파이썬\n",
            "혼자 공부하는 파이썬\n"
          ],
          "name": "stdout"
        }
      ]
    },
    {
      "cell_type": "code",
      "metadata": {
        "colab": {
          "base_uri": "https://localhost:8080/"
        },
        "id": "kNCoK_5p5akm",
        "outputId": "21438dc3-fb48-4639-f88e-428c939623d7"
      },
      "source": [
        "# book['isbn']\n",
        "#> dict[key]를 사용하는 경우, key가 dict에 없는 경우에는 KeyError갈 발생함.\n",
        "\n",
        "print(book.get('isbn'))\n",
        "#> dict.get(key) 메서드를 사용하는 경우, key가 dict에 없는 경우에 에러 대신 None을 반환."
      ],
      "execution_count": 17,
      "outputs": [
        {
          "output_type": "stream",
          "text": [
            "None\n"
          ],
          "name": "stdout"
        }
      ]
    },
    {
      "cell_type": "code",
      "metadata": {
        "colab": {
          "base_uri": "https://localhost:8080/"
        },
        "id": "wCNN4AgA6fh_",
        "outputId": "25ba3be6-0c30-421c-9f2c-881b9b7a19db"
      },
      "source": [
        "book.pop('price')  # key에 해당하는 아이템(key: value)을 삭제\n",
        "print(book)"
      ],
      "execution_count": 18,
      "outputs": [
        {
          "output_type": "stream",
          "text": [
            "{'title': '혼자 공부하는 파이썬', 'author': '윤인성'}\n"
          ],
          "name": "stdout"
        }
      ]
    },
    {
      "cell_type": "code",
      "metadata": {
        "colab": {
          "base_uri": "https://localhost:8080/"
        },
        "id": "WZbpgXkV7UKZ",
        "outputId": "05c31cfc-ad7f-4d3a-f496-cc986baebc89"
      },
      "source": [
        "book['가격'] = 18000  # dict에 새로운 아이템(key: value)을 추가\n",
        "print(book)"
      ],
      "execution_count": 19,
      "outputs": [
        {
          "output_type": "stream",
          "text": [
            "{'title': '혼자 공부하는 파이썬', 'author': '윤인성', '가격': 18000}\n"
          ],
          "name": "stdout"
        }
      ]
    },
    {
      "cell_type": "markdown",
      "metadata": {
        "id": "tqwvcPuN8P5o"
      },
      "source": [
        "dict는 key와 value 모두 다양한 타입의 자료들을 사용할 수 있음."
      ]
    },
    {
      "cell_type": "code",
      "metadata": {
        "colab": {
          "base_uri": "https://localhost:8080/"
        },
        "id": "XJi-Zsg17kqH",
        "outputId": "d0f68398-deed-4774-bbbd-af1d648b05be"
      },
      "source": [
        "contact = {'no': 1, \n",
        "           'name': '오쌤',\n",
        "           'phone': ['010-0000-0000', '02-0000-0000', '02-1234-5678'],\n",
        "           'email': {'personal': 'jake@gmail.com', 'company': 'jake@itwill.co.kr'}}\n",
        "print(contact)"
      ],
      "execution_count": 20,
      "outputs": [
        {
          "output_type": "stream",
          "text": [
            "{'no': 1, 'name': '오쌤', 'phone': ['010-0000-0000', '02-0000-0000', '02-1234-5678'], 'email': {'personal': 'jake@gmail.com', 'company': 'jake@itwill.co.kr'}}\n"
          ],
          "name": "stdout"
        }
      ]
    },
    {
      "cell_type": "code",
      "metadata": {
        "colab": {
          "base_uri": "https://localhost:8080/"
        },
        "id": "crRrmwzX9vey",
        "outputId": "730456a2-a3da-41fc-dcbb-42084b87bfe2"
      },
      "source": [
        "print(contact['phone'])  #> 리스트(list)\n",
        "print(contact['phone'][0])  #> 인덱스 -> 리스트의 원소를 참조"
      ],
      "execution_count": 22,
      "outputs": [
        {
          "output_type": "stream",
          "text": [
            "['010-0000-0000', '02-0000-0000', '02-1234-5678']\n",
            "010-0000-0000\n"
          ],
          "name": "stdout"
        }
      ]
    },
    {
      "cell_type": "code",
      "metadata": {
        "colab": {
          "base_uri": "https://localhost:8080/"
        },
        "id": "7ENT4t-W-ipI",
        "outputId": "fdb0dcd7-6505-41fa-af80-bbbbd17aeec7"
      },
      "source": [
        "print(contact['email'])  #> dict\n",
        "print(contact['email']['company'])  #> key -> value를 참조"
      ],
      "execution_count": 24,
      "outputs": [
        {
          "output_type": "stream",
          "text": [
            "{'personal': 'jake@gmail.com', 'company': 'jake@itwill.co.kr'}\n",
            "jake@itwill.co.kr\n"
          ],
          "name": "stdout"
        }
      ]
    }
  ]
}
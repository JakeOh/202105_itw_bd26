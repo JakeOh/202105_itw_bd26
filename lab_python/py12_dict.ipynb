{
  "nbformat": 4,
  "nbformat_minor": 0,
  "metadata": {
    "colab": {
      "name": "py12_dict.ipynb",
      "provenance": [],
      "collapsed_sections": [],
      "authorship_tag": "ABX9TyPR3/gfc9GuI1TaE2GqqCaw",
      "include_colab_link": true
    },
    "kernelspec": {
      "name": "python3",
      "display_name": "Python 3"
    },
    "language_info": {
      "name": "python"
    }
  },
  "cells": [
    {
      "cell_type": "markdown",
      "metadata": {
        "id": "view-in-github",
        "colab_type": "text"
      },
      "source": [
        "<a href=\"https://colab.research.google.com/github/JakeOh/202105_itw_bd26/blob/main/lab_python/py12_dict.ipynb\" target=\"_parent\"><img src=\"https://colab.research.google.com/assets/colab-badge.svg\" alt=\"Open In Colab\"/></a>"
      ]
    },
    {
      "cell_type": "markdown",
      "metadata": {
        "id": "CVnmAuXvrk1c"
      },
      "source": [
        "# dict"
      ]
    },
    {
      "cell_type": "markdown",
      "metadata": {
        "id": "Z6VDLu1AroRL"
      },
      "source": [
        "**dict**\n",
        "\n",
        "*   사전(dictionary) 형식의 데이터 타입\n",
        "*   키(key)를 기반으로 값(value)을 저장하는 데이터 타입\n",
        "    *   list, tuple: index를 기반으로 값을 저장하는 데이터 타입\n",
        "    *   key의 역할은 list나 tuple에서 인덱스의 역할과 마찬가지로, 사전에 저장되어 있는 유일한 1개의 값을 찾아가기(참조하기) 위한 용도.\n"
      ]
    },
    {
      "cell_type": "code",
      "metadata": {
        "colab": {
          "base_uri": "https://localhost:8080/"
        },
        "id": "FCpxScTjrSzb",
        "outputId": "5817ff7b-5a37-4436-9cb7-f559e46d96f0"
      },
      "source": [
        "students = {1: '홍길동', 2: '오쌤', 10: 'Scott'}\n",
        "print(students)\n",
        "print(type(students))\n",
        "print(students.keys())  # dict의 key들\n",
        "print(students.values())  # dict의 value들"
      ],
      "execution_count": 5,
      "outputs": [
        {
          "output_type": "stream",
          "text": [
            "{1: '홍길동', 2: '오쌤', 10: 'Scott'}\n",
            "<class 'dict'>\n",
            "dict_keys([1, 2, 10])\n",
            "dict_values(['홍길동', '오쌤', 'Scott'])\n"
          ],
          "name": "stdout"
        }
      ]
    },
    {
      "cell_type": "code",
      "metadata": {
        "colab": {
          "base_uri": "https://localhost:8080/"
        },
        "id": "ZlndgJi3v5eP",
        "outputId": "ba87ee9e-53fa-43ff-9fbd-9a3bf3354acd"
      },
      "source": [
        "# dict[key] - dict에서 key에 해당하는 value\n",
        "print(students[2])"
      ],
      "execution_count": 6,
      "outputs": [
        {
          "output_type": "stream",
          "text": [
            "오쌤\n"
          ],
          "name": "stdout"
        }
      ]
    },
    {
      "cell_type": "code",
      "metadata": {
        "colab": {
          "base_uri": "https://localhost:8080/"
        },
        "id": "rRCId1B9wZt0",
        "outputId": "c03c7e1d-3ddf-4d18-842b-26c2d1919286"
      },
      "source": [
        "# dict[key] = value\n",
        "# 1) key가 dict에 없는 경우, 새로운 key: value 아이템을 dict에 추가\n",
        "students[11] = 'tiger'\n",
        "print(students)\n",
        "\n",
        "# 2) key가 dict에 있는 경우, 기존 값을 새로운 값으로 변경\n",
        "students[1] = '김길동'\n",
        "print(students)"
      ],
      "execution_count": 8,
      "outputs": [
        {
          "output_type": "stream",
          "text": [
            "{1: '홍길동', 2: '오쌤', 10: 'Scott', 11: 'tiger'}\n",
            "{1: '김길동', 2: '오쌤', 10: 'Scott', 11: 'tiger'}\n"
          ],
          "name": "stdout"
        }
      ]
    }
  ]
}
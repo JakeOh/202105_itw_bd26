{
  "nbformat": 4,
  "nbformat_minor": 0,
  "metadata": {
    "colab": {
      "name": "py05_for.ipynb",
      "provenance": [],
      "collapsed_sections": [],
      "authorship_tag": "ABX9TyN7i32Eu35y+ogY6HagasGF",
      "include_colab_link": true
    },
    "kernelspec": {
      "name": "python3",
      "display_name": "Python 3"
    },
    "language_info": {
      "name": "python"
    }
  },
  "cells": [
    {
      "cell_type": "markdown",
      "metadata": {
        "id": "view-in-github",
        "colab_type": "text"
      },
      "source": [
        "<a href=\"https://colab.research.google.com/github/JakeOh/202105_itw_bd26/blob/main/lab_python/py05_for.ipynb\" target=\"_parent\"><img src=\"https://colab.research.google.com/assets/colab-badge.svg\" alt=\"Open In Colab\"/></a>"
      ]
    },
    {
      "cell_type": "markdown",
      "metadata": {
        "id": "ZLS5H2cDLLxi"
      },
      "source": [
        "**for 반복문**\n",
        "\n",
        "\n",
        "```\n",
        "for 변수 in iterable-type:\n",
        "    반복해서 실행할 블록(문장들)\n",
        "```\n",
        "\n",
        "\n",
        "*   iterable-type: 반복 가능한 데이터 타입.\n",
        "    *   range, list, tuple, dict, set, str, ..."
      ]
    },
    {
      "cell_type": "code",
      "metadata": {
        "colab": {
          "base_uri": "https://localhost:8080/"
        },
        "id": "i-zFFb0jK-Hg",
        "outputId": "50da98e0-4ffe-45cb-f3b4-04d79fed56f6"
      },
      "source": [
        "# range(start, stop, step): start <= x < stop 범위의 step(양수)만큼씩 증가하는 정수들을 생성.\n",
        "for x in range(1, 5, 1):\n",
        "    print(x)"
      ],
      "execution_count": 1,
      "outputs": [
        {
          "output_type": "stream",
          "text": [
            "1\n",
            "2\n",
            "3\n",
            "4\n"
          ],
          "name": "stdout"
        }
      ]
    },
    {
      "cell_type": "code",
      "metadata": {
        "colab": {
          "base_uri": "https://localhost:8080/"
        },
        "id": "-IjF0jBsMcez",
        "outputId": "b2aaeda4-3170-484a-8774-b7d2a8e0f511"
      },
      "source": [
        "# range(start, stop): start <= x < stop 범위의 1씩 증가하는 정수들을 생성.\n",
        "for x in range(0, 5):\n",
        "    print(x)"
      ],
      "execution_count": 2,
      "outputs": [
        {
          "output_type": "stream",
          "text": [
            "0\n",
            "1\n",
            "2\n",
            "3\n",
            "4\n"
          ],
          "name": "stdout"
        }
      ]
    },
    {
      "cell_type": "code",
      "metadata": {
        "colab": {
          "base_uri": "https://localhost:8080/"
        },
        "id": "8gE9eTPTOnvp",
        "outputId": "f5520ed3-ac9a-417b-bc1b-05a4c2693b5a"
      },
      "source": [
        "# range(stop): 0 <= x < stop 범위의 1씩 증가하는 정수들을 생성.\n",
        "for x in range(5):\n",
        "    print(x)"
      ],
      "execution_count": 3,
      "outputs": [
        {
          "output_type": "stream",
          "text": [
            "0\n",
            "1\n",
            "2\n",
            "3\n",
            "4\n"
          ],
          "name": "stdout"
        }
      ]
    },
    {
      "cell_type": "code",
      "metadata": {
        "colab": {
          "base_uri": "https://localhost:8080/"
        },
        "id": "c2POHpNpPgr0",
        "outputId": "5e3398d8-cad4-4474-85d1-e806e03f19bf"
      },
      "source": [
        "# range(start, stop, step): start >= x > stop 범위의 step(음수)만큼씩 감소하는 정수들을 생성\n",
        "for x in range(5, 0, -1):\n",
        "    print(x)"
      ],
      "execution_count": 4,
      "outputs": [
        {
          "output_type": "stream",
          "text": [
            "5\n",
            "4\n",
            "3\n",
            "2\n",
            "1\n"
          ],
          "name": "stdout"
        }
      ]
    },
    {
      "cell_type": "markdown",
      "metadata": {
        "id": "tXPMf7vyQ0l1"
      },
      "source": [
        "문자열(string): 문자들의 집합(순서가 있는 배열) --> 반복 가능한(iterable) 데이터 타입"
      ]
    },
    {
      "cell_type": "code",
      "metadata": {
        "colab": {
          "base_uri": "https://localhost:8080/"
        },
        "id": "2WGWHl0zRP-z",
        "outputId": "c87c2e4f-396a-4a82-f05c-e667269152b8"
      },
      "source": [
        "msg = '안녕하세요'\n",
        "for x in msg:\n",
        "    print(x)"
      ],
      "execution_count": 5,
      "outputs": [
        {
          "output_type": "stream",
          "text": [
            "안\n",
            "녕\n",
            "하\n",
            "세\n",
            "요\n"
          ],
          "name": "stdout"
        }
      ]
    },
    {
      "cell_type": "markdown",
      "metadata": {
        "id": "Hj65SGMjSPfc"
      },
      "source": [
        "0 이상 10 미만의 짝수들을 출력"
      ]
    },
    {
      "cell_type": "code",
      "metadata": {
        "colab": {
          "base_uri": "https://localhost:8080/"
        },
        "id": "MUUVVZE_SUzb",
        "outputId": "7fe2e0ce-709d-4606-8ab4-c92a62edaca9"
      },
      "source": [
        "for n in range(0, 10, 2):\n",
        "    print(n)"
      ],
      "execution_count": 6,
      "outputs": [
        {
          "output_type": "stream",
          "text": [
            "0\n",
            "2\n",
            "4\n",
            "6\n",
            "8\n"
          ],
          "name": "stdout"
        }
      ]
    },
    {
      "cell_type": "code",
      "metadata": {
        "colab": {
          "base_uri": "https://localhost:8080/"
        },
        "id": "0Q4DXIDrTTiD",
        "outputId": "0c9a501b-eef4-4286-a10f-01a01a48646e"
      },
      "source": [
        "for n in range(10):  # (0, 1, 2, 3, ..., 8, 9)\n",
        "    if n % 2 == 0:  # n을 2로 나눈 나머지가 0이면(n이 짝수이면)\n",
        "        print(n)"
      ],
      "execution_count": 8,
      "outputs": [
        {
          "output_type": "stream",
          "text": [
            "0\n",
            "2\n",
            "4\n",
            "6\n",
            "8\n"
          ],
          "name": "stdout"
        }
      ]
    }
  ]
}
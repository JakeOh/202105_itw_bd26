{
  "nbformat": 4,
  "nbformat_minor": 0,
  "metadata": {
    "colab": {
      "name": "py05_for.ipynb",
      "provenance": [],
      "collapsed_sections": [],
      "authorship_tag": "ABX9TyPNw5yBsUutifDd7nV22CVu",
      "include_colab_link": true
    },
    "kernelspec": {
      "name": "python3",
      "display_name": "Python 3"
    },
    "language_info": {
      "name": "python"
    }
  },
  "cells": [
    {
      "cell_type": "markdown",
      "metadata": {
        "id": "view-in-github",
        "colab_type": "text"
      },
      "source": [
        "<a href=\"https://colab.research.google.com/github/JakeOh/202105_itw_bd26/blob/main/lab_python/py05_for.ipynb\" target=\"_parent\"><img src=\"https://colab.research.google.com/assets/colab-badge.svg\" alt=\"Open In Colab\"/></a>"
      ]
    },
    {
      "cell_type": "markdown",
      "metadata": {
        "id": "ZLS5H2cDLLxi"
      },
      "source": [
        "**for 반복문**\n",
        "\n",
        "\n",
        "```\n",
        "for 변수 in iterable-type:\n",
        "    반복해서 실행할 블록(문장들)\n",
        "```\n",
        "\n",
        "\n",
        "*   iterable-type: 반복 가능한 데이터 타입.\n",
        "    *   range, list, tuple, dict, set, str, ..."
      ]
    },
    {
      "cell_type": "code",
      "metadata": {
        "colab": {
          "base_uri": "https://localhost:8080/"
        },
        "id": "i-zFFb0jK-Hg",
        "outputId": "50da98e0-4ffe-45cb-f3b4-04d79fed56f6"
      },
      "source": [
        "# range(start, stop, step): start <= x < stop 범위의 step(양수)만큼씩 증가하는 정수들을 생성.\n",
        "for x in range(1, 5, 1):\n",
        "    print(x)"
      ],
      "execution_count": 1,
      "outputs": [
        {
          "output_type": "stream",
          "text": [
            "1\n",
            "2\n",
            "3\n",
            "4\n"
          ],
          "name": "stdout"
        }
      ]
    },
    {
      "cell_type": "code",
      "metadata": {
        "colab": {
          "base_uri": "https://localhost:8080/"
        },
        "id": "-IjF0jBsMcez",
        "outputId": "b2aaeda4-3170-484a-8774-b7d2a8e0f511"
      },
      "source": [
        "# range(start, stop): start <= x < stop 범위의 1씩 증가하는 정수들을 생성.\n",
        "for x in range(0, 5):\n",
        "    print(x)"
      ],
      "execution_count": 2,
      "outputs": [
        {
          "output_type": "stream",
          "text": [
            "0\n",
            "1\n",
            "2\n",
            "3\n",
            "4\n"
          ],
          "name": "stdout"
        }
      ]
    },
    {
      "cell_type": "code",
      "metadata": {
        "colab": {
          "base_uri": "https://localhost:8080/"
        },
        "id": "8gE9eTPTOnvp",
        "outputId": "f5520ed3-ac9a-417b-bc1b-05a4c2693b5a"
      },
      "source": [
        "# range(stop): 0 <= x < stop 범위의 1씩 증가하는 정수들을 생성.\n",
        "for x in range(5):\n",
        "    print(x)"
      ],
      "execution_count": 3,
      "outputs": [
        {
          "output_type": "stream",
          "text": [
            "0\n",
            "1\n",
            "2\n",
            "3\n",
            "4\n"
          ],
          "name": "stdout"
        }
      ]
    },
    {
      "cell_type": "code",
      "metadata": {
        "colab": {
          "base_uri": "https://localhost:8080/"
        },
        "id": "c2POHpNpPgr0",
        "outputId": "5e3398d8-cad4-4474-85d1-e806e03f19bf"
      },
      "source": [
        "# range(start, stop, step): start >= x > stop 범위의 step(음수)만큼씩 감소하는 정수들을 생성\n",
        "for x in range(5, 0, -1):\n",
        "    print(x)"
      ],
      "execution_count": 4,
      "outputs": [
        {
          "output_type": "stream",
          "text": [
            "5\n",
            "4\n",
            "3\n",
            "2\n",
            "1\n"
          ],
          "name": "stdout"
        }
      ]
    },
    {
      "cell_type": "markdown",
      "metadata": {
        "id": "tXPMf7vyQ0l1"
      },
      "source": [
        "문자열(string): 문자들의 집합(순서가 있는 배열) --> 반복 가능한(iterable) 데이터 타입"
      ]
    },
    {
      "cell_type": "code",
      "metadata": {
        "colab": {
          "base_uri": "https://localhost:8080/"
        },
        "id": "2WGWHl0zRP-z",
        "outputId": "c87c2e4f-396a-4a82-f05c-e667269152b8"
      },
      "source": [
        "msg = '안녕하세요'\n",
        "for x in msg:\n",
        "    print(x)"
      ],
      "execution_count": 5,
      "outputs": [
        {
          "output_type": "stream",
          "text": [
            "안\n",
            "녕\n",
            "하\n",
            "세\n",
            "요\n"
          ],
          "name": "stdout"
        }
      ]
    },
    {
      "cell_type": "markdown",
      "metadata": {
        "id": "Hj65SGMjSPfc"
      },
      "source": [
        "0 이상 10 미만의 짝수들을 출력"
      ]
    },
    {
      "cell_type": "code",
      "metadata": {
        "colab": {
          "base_uri": "https://localhost:8080/"
        },
        "id": "MUUVVZE_SUzb",
        "outputId": "7fe2e0ce-709d-4606-8ab4-c92a62edaca9"
      },
      "source": [
        "for n in range(0, 10, 2):\n",
        "    print(n)"
      ],
      "execution_count": 6,
      "outputs": [
        {
          "output_type": "stream",
          "text": [
            "0\n",
            "2\n",
            "4\n",
            "6\n",
            "8\n"
          ],
          "name": "stdout"
        }
      ]
    },
    {
      "cell_type": "code",
      "metadata": {
        "colab": {
          "base_uri": "https://localhost:8080/"
        },
        "id": "0Q4DXIDrTTiD",
        "outputId": "0c9a501b-eef4-4286-a10f-01a01a48646e"
      },
      "source": [
        "for n in range(10):  # (0, 1, 2, 3, ..., 8, 9)\n",
        "    if n % 2 == 0:  # n을 2로 나눈 나머지가 0이면(n이 짝수이면)\n",
        "        print(n)"
      ],
      "execution_count": 8,
      "outputs": [
        {
          "output_type": "stream",
          "text": [
            "0\n",
            "2\n",
            "4\n",
            "6\n",
            "8\n"
          ],
          "name": "stdout"
        }
      ]
    },
    {
      "cell_type": "markdown",
      "metadata": {
        "id": "whfGuK-bYgRz"
      },
      "source": [
        "다음과 같이 출력하는 코드를 작성하세요.\n",
        "\n",
        "```\n",
        "*\n",
        "**\n",
        "***\n",
        "****\n",
        "*****\n",
        "```\n"
      ]
    },
    {
      "cell_type": "code",
      "metadata": {
        "colab": {
          "base_uri": "https://localhost:8080/"
        },
        "id": "7Co5xTyRYmwV",
        "outputId": "9522956a-45cb-4db7-b775-b2161569cb23"
      },
      "source": [
        "print('*')\n",
        "print('**')\n",
        "print('***')\n",
        "print('****')\n",
        "print('*****')"
      ],
      "execution_count": 9,
      "outputs": [
        {
          "output_type": "stream",
          "text": [
            "*\n",
            "**\n",
            "***\n",
            "****\n",
            "*****\n"
          ],
          "name": "stdout"
        }
      ]
    },
    {
      "cell_type": "code",
      "metadata": {
        "colab": {
          "base_uri": "https://localhost:8080/"
        },
        "id": "VC2mxYAicUPJ",
        "outputId": "95e99d51-bdde-420e-d1e4-3a4210247300"
      },
      "source": [
        "print('*' * 1)\n",
        "print('*' * 2)\n",
        "print('*' * 3)\n",
        "print('*' * 4)\n",
        "print('*' * 5)"
      ],
      "execution_count": 12,
      "outputs": [
        {
          "output_type": "stream",
          "text": [
            "*\n",
            "**\n",
            "***\n",
            "****\n",
            "*****\n"
          ],
          "name": "stdout"
        }
      ]
    },
    {
      "cell_type": "code",
      "metadata": {
        "colab": {
          "base_uri": "https://localhost:8080/"
        },
        "id": "wgWYvBXHc_7e",
        "outputId": "12164383-4775-4ae0-ba6d-da60cc9be20a"
      },
      "source": [
        "for n in range(1, 6):\n",
        "    print('*' * n)"
      ],
      "execution_count": 15,
      "outputs": [
        {
          "output_type": "stream",
          "text": [
            "*\n",
            "**\n",
            "***\n",
            "****\n",
            "*****\n"
          ],
          "name": "stdout"
        }
      ]
    },
    {
      "cell_type": "code",
      "metadata": {
        "colab": {
          "base_uri": "https://localhost:8080/"
        },
        "id": "YPLMaGbGdaI-",
        "outputId": "79791e82-e421-42dc-d787-eaaa6db8a081"
      },
      "source": [
        "for n in range(5):\n",
        "    print('*' * (n + 1))"
      ],
      "execution_count": 17,
      "outputs": [
        {
          "output_type": "stream",
          "text": [
            "*\n",
            "**\n",
            "***\n",
            "****\n",
            "*****\n"
          ],
          "name": "stdout"
        }
      ]
    },
    {
      "cell_type": "markdown",
      "metadata": {
        "id": "wfr5HLIVYvEL"
      },
      "source": [
        "다음과 같이 출력하는 코드를 작성하세요.\n",
        "\n",
        "```\n",
        "*\n",
        "**\n",
        "***\n",
        "****\n",
        "*****\n",
        "****\n",
        "***\n",
        "**\n",
        "*\n",
        "```\n"
      ]
    },
    {
      "cell_type": "code",
      "metadata": {
        "colab": {
          "base_uri": "https://localhost:8080/"
        },
        "id": "YZ4cUD2jY2jk",
        "outputId": "acc0d302-a44a-4b55-aa9e-e136d8858bad"
      },
      "source": [
        "for n in range(1, 6):\n",
        "    print('*' * n)\n",
        "for n in range(4, 0, -1):\n",
        "    print('*' * n)"
      ],
      "execution_count": 19,
      "outputs": [
        {
          "output_type": "stream",
          "text": [
            "*\n",
            "**\n",
            "***\n",
            "****\n",
            "*****\n",
            "****\n",
            "***\n",
            "**\n",
            "*\n"
          ],
          "name": "stdout"
        }
      ]
    },
    {
      "cell_type": "code",
      "metadata": {
        "colab": {
          "base_uri": "https://localhost:8080/"
        },
        "id": "Qe4TUMiuezVv",
        "outputId": "42d202ed-4b9c-41ec-d2e4-b289b71419e3"
      },
      "source": [
        "for n in range(1, 10):  # (1, 2, 3, 4, 5, 6, 7, 8, 9)\n",
        "    if n <= 5:  # (1, 2, 3, 4, 5)\n",
        "        print('*' * n)\n",
        "    else:  # (6, 7, 8, 9)\n",
        "        print('*' * (10 - n))\n"
      ],
      "execution_count": 21,
      "outputs": [
        {
          "output_type": "stream",
          "text": [
            "*\n",
            "**\n",
            "***\n",
            "****\n",
            "*****\n",
            "****\n",
            "***\n",
            "**\n",
            "*\n"
          ],
          "name": "stdout"
        }
      ]
    },
    {
      "cell_type": "code",
      "metadata": {
        "colab": {
          "base_uri": "https://localhost:8080/"
        },
        "id": "bhY92mj2fqT_",
        "outputId": "31d94995-fc41-4cf6-dff0-8d655cc5d9d0"
      },
      "source": [
        "# abs(x): x의 절대값을 반환\n",
        "for n in range(-4, 5):  # (-4, -3, -2, -1, 0, 1, 2, 3, 4)\n",
        "    print('*' * (5 - abs(n)))"
      ],
      "execution_count": 26,
      "outputs": [
        {
          "output_type": "stream",
          "text": [
            "*\n",
            "**\n",
            "***\n",
            "****\n",
            "*****\n",
            "****\n",
            "***\n",
            "**\n",
            "*\n"
          ],
          "name": "stdout"
        }
      ]
    },
    {
      "cell_type": "markdown",
      "metadata": {
        "id": "gF2aG6nahBaM"
      },
      "source": [
        "다음과 같이 구구단을 출력하는 코드를 작성하세요.\n",
        "\n",
        "```\n",
        "12 x 1 = 12\n",
        "12 x 2 = 24\n",
        "12 x 3 = 36\n",
        "...\n",
        "12 x 11 = 132\n",
        "12 x 12 = 144\n",
        "```\n"
      ]
    },
    {
      "cell_type": "code",
      "metadata": {
        "id": "D4h5rpvuhTev"
      },
      "source": [
        ""
      ],
      "execution_count": null,
      "outputs": []
    }
  ]
}
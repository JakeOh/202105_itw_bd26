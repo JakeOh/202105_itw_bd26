{
  "nbformat": 4,
  "nbformat_minor": 0,
  "metadata": {
    "colab": {
      "name": "py20_class.ipynb",
      "provenance": [],
      "collapsed_sections": [],
      "authorship_tag": "ABX9TyOrTZhLB++/3l6+P4yTC7qd",
      "include_colab_link": true
    },
    "kernelspec": {
      "name": "python3",
      "display_name": "Python 3"
    },
    "language_info": {
      "name": "python"
    }
  },
  "cells": [
    {
      "cell_type": "markdown",
      "metadata": {
        "id": "view-in-github",
        "colab_type": "text"
      },
      "source": [
        "<a href=\"https://colab.research.google.com/github/JakeOh/202105_itw_bd26/blob/main/lab_python/py20_class.ipynb\" target=\"_parent\"><img src=\"https://colab.research.google.com/assets/colab-badge.svg\" alt=\"Open In Colab\"/></a>"
      ]
    },
    {
      "cell_type": "code",
      "metadata": {
        "id": "epGWtyPYp0NR"
      },
      "source": [
        "import math  # math.sqrt() 함수를 사용하기 위해서"
      ],
      "execution_count": 39,
      "outputs": []
    },
    {
      "cell_type": "code",
      "metadata": {
        "id": "AwYowxtoqEpV"
      },
      "source": [
        "# class 선언(정의)\n",
        "class Point:\n",
        "    \"\"\"2차원 평면의 점의 좌표를 표현하는 클래스\"\"\"\n",
        "\n",
        "    def __init__(self, x=0, y=0):\n",
        "        # 인스턴스의 속성들을 초기화\n",
        "        self.x = x\n",
        "        self.y = y\n",
        "\n",
        "    def move(self, dx, dy):\n",
        "        \"\"\"점의 좌표를 원래 위치에서 x축의 방향으로 dx만큼, y축의 방향으로 dy만큼 이동시키는 메서드\"\"\"\n",
        "        self.x += dx  # self.x = self.x + dx\n",
        "        self.y += dy\n",
        "\n",
        "    def distance_to(self, other):\n",
        "        \"\"\"다른 Point 객체 other까지의 거리를 반환하는 메서드\n",
        "        두 점 (x1, y1)과 (x2, y2) 사이의 거리 d = sqrt((x1 - x2)**2 + (y1 - y2)**2)\n",
        "        \"\"\"\n",
        "        d = math.sqrt((self.x - other.x)**2 + (self.y - other.y)**2)\n",
        "        return d"
      ],
      "execution_count": 40,
      "outputs": []
    },
    {
      "cell_type": "code",
      "metadata": {
        "colab": {
          "base_uri": "https://localhost:8080/"
        },
        "id": "Om-KoFhgs_te",
        "outputId": "1e1835ff-05f3-42a4-8a81-72bec00153d7"
      },
      "source": [
        "# class 객체 생성\n",
        "pt1 = Point()  # __init__ 메서드의 default argument가 사용됨.\n",
        "print(pt1)\n",
        "print(f'(x={pt1.x}, y={pt1.y})')  # pt1.x, pt1.y: 인스턴스 속성 참조"
      ],
      "execution_count": 41,
      "outputs": [
        {
          "output_type": "stream",
          "text": [
            "<__main__.Point object at 0x7f6136345a50>\n",
            "(x=0, y=0)\n"
          ],
          "name": "stdout"
        }
      ]
    },
    {
      "cell_type": "code",
      "metadata": {
        "colab": {
          "base_uri": "https://localhost:8080/"
        },
        "id": "Nkwcdz022uKC",
        "outputId": "e078b994-f279-479c-98ab-fabfde46b3bd"
      },
      "source": [
        "# pt1을 x축으로 2만큼, y축으로 3만큼 이동\n",
        "pt1.move(dx=2, dy=3)\n",
        "# 이동 후 점의 좌표 출력\n",
        "print(f'(x={pt1.x}, y={pt1.y})')"
      ],
      "execution_count": 42,
      "outputs": [
        {
          "output_type": "stream",
          "text": [
            "(x=2, y=3)\n"
          ],
          "name": "stdout"
        }
      ]
    },
    {
      "cell_type": "code",
      "metadata": {
        "colab": {
          "base_uri": "https://localhost:8080/"
        },
        "id": "1s_cA6AvvNC9",
        "outputId": "012735f9-846f-4d1c-9e65-db1beac76e2c"
      },
      "source": [
        "pt2 = Point(1, 1)  # 생성자 호출(positional argument)\n",
        "print(pt2)\n",
        "print(f'(x={pt2.x}, y={pt2.y})')"
      ],
      "execution_count": 43,
      "outputs": [
        {
          "output_type": "stream",
          "text": [
            "<__main__.Point object at 0x7f613288b990>\n",
            "(x=1, y=1)\n"
          ],
          "name": "stdout"
        }
      ]
    },
    {
      "cell_type": "code",
      "metadata": {
        "colab": {
          "base_uri": "https://localhost:8080/"
        },
        "id": "ZZBE_6k95hbK",
        "outputId": "b903306c-a3e2-40b6-cc98-a164251d6c11"
      },
      "source": [
        "# pt2를 x축의 방향으로 1만큼, y축의 방향으로 -2만큼 이동\n",
        "pt2.move(dx=1, dy=-2)\n",
        "# 이동 후 점의 좌표\n",
        "print(f'(x={pt2.x}, y={pt2.y})')"
      ],
      "execution_count": 44,
      "outputs": [
        {
          "output_type": "stream",
          "text": [
            "(x=2, y=-1)\n"
          ],
          "name": "stdout"
        }
      ]
    },
    {
      "cell_type": "code",
      "metadata": {
        "colab": {
          "base_uri": "https://localhost:8080/"
        },
        "id": "HAfF9Byf-6ES",
        "outputId": "58c4fa8c-465f-49fd-8e1f-0a78ece2b04d"
      },
      "source": [
        "# pt1에서 pt2까지의 거리\n",
        "dist = pt1.distance_to(pt2)\n",
        "print(dist)"
      ],
      "execution_count": 45,
      "outputs": [
        {
          "output_type": "stream",
          "text": [
            "4.0\n"
          ],
          "name": "stdout"
        }
      ]
    },
    {
      "cell_type": "code",
      "metadata": {
        "id": "mpMkECdxTpio"
      },
      "source": [
        "class Rectangle:\n",
        "    \"\"\"2차원 평면에서 직사각형을 표현하는 클래스\"\"\"\n",
        "\n",
        "    def __init__(self, x=0, y=0, width=0, height=0):\n",
        "        \"\"\"직사각형 객체의 속성들을 초기화.\n",
        "        x, y: 직사각형의 꼭지점의 x/y 좌표. 기본값은 0.\n",
        "        width: 직사각형의 가로 길이. 기본값은 0.\n",
        "        height: 직사각형의 세로 길이. 기본값은 0.\n",
        "        \"\"\"\n",
        "        self.x = x  # 직사각형 꼭지점의 x좌표\n",
        "        self.y = y  # 직사각형 꼭지점의 y좌표\n",
        "        self.width = width  # 직사각형의 가로 길이\n",
        "        self.height = height  # 직사각형의 세로 길이\n",
        "\n",
        "    def area(self):\n",
        "        \"\"\"직사각형의 넓이를 리턴하는 메서드\"\"\"\n",
        "        return self.width * self.height\n",
        "\n",
        "    def perimeter(self):\n",
        "        \"\"\"직사각형의 둘레길이를 리턴하는 메서드\"\"\"\n",
        "        return 2 * (self.width + self.height)\n",
        "\n",
        "    def resize(self, dw=0, dh=0):\n",
        "        \"\"\"직사각형의 가로 길이를 dw만큼, 세로 길이는 dh만큼 변경하는 메서드.\n",
        "        dw와 dh의 기본값은 0.\n",
        "        \"\"\"\n",
        "        self.width += dw\n",
        "        self.height += dh\n",
        "\n",
        "    def center(self):\n",
        "        \"\"\"직사각형의 중심의 좌표를 리턴하는 메서드\"\"\"\n",
        "        center_x = self.x + self.width / 2\n",
        "        center_y = self.y + self.height / 2\n",
        "        return center_x, center_y"
      ],
      "execution_count": 46,
      "outputs": []
    },
    {
      "cell_type": "code",
      "metadata": {
        "colab": {
          "base_uri": "https://localhost:8080/"
        },
        "id": "ppM5PngpjUBG",
        "outputId": "7e390778-3f55-48ec-f9da-aaa55a916b2c"
      },
      "source": [
        "# (0, 0)에 꼭지점이 있고, 가로 길이가 2, 세로 길이가 3인 직사각형 생성\n",
        "rect1 = Rectangle(width=2, height=3)\n",
        "print(rect1)\n",
        "print(f'Rectangle(x={rect1.x}, y={rect1.y}, w={rect1.width}, h={rect1.height})')"
      ],
      "execution_count": 47,
      "outputs": [
        {
          "output_type": "stream",
          "text": [
            "<__main__.Rectangle object at 0x7f6132362050>\n",
            "Rectangle(x=0, y=0, w=2, h=3)\n"
          ],
          "name": "stdout"
        }
      ]
    },
    {
      "cell_type": "code",
      "metadata": {
        "colab": {
          "base_uri": "https://localhost:8080/"
        },
        "id": "0uahYj1Umb50",
        "outputId": "2959b915-d1d4-4677-d3a7-d367596630ce"
      },
      "source": [
        "# rect1의 넓이\n",
        "rect1.area()"
      ],
      "execution_count": 48,
      "outputs": [
        {
          "output_type": "execute_result",
          "data": {
            "text/plain": [
              "6"
            ]
          },
          "metadata": {
            "tags": []
          },
          "execution_count": 48
        }
      ]
    },
    {
      "cell_type": "code",
      "metadata": {
        "colab": {
          "base_uri": "https://localhost:8080/"
        },
        "id": "ngoSvboRnJ5U",
        "outputId": "8a738bff-e5df-41ce-ceaf-ea49f4cbdf63"
      },
      "source": [
        "# rect1의 둘레 길이\n",
        "rect1.perimeter()"
      ],
      "execution_count": 49,
      "outputs": [
        {
          "output_type": "execute_result",
          "data": {
            "text/plain": [
              "10"
            ]
          },
          "metadata": {
            "tags": []
          },
          "execution_count": 49
        }
      ]
    },
    {
      "cell_type": "code",
      "metadata": {
        "colab": {
          "base_uri": "https://localhost:8080/"
        },
        "id": "-fKIGgFiny5s",
        "outputId": "c2c4d560-8f5c-4b92-b420-b2eb3b591ad0"
      },
      "source": [
        "# rect1의 중심의 좌표\n",
        "rect1.center()"
      ],
      "execution_count": 50,
      "outputs": [
        {
          "output_type": "execute_result",
          "data": {
            "text/plain": [
              "(1.0, 1.5)"
            ]
          },
          "metadata": {
            "tags": []
          },
          "execution_count": 50
        }
      ]
    },
    {
      "cell_type": "code",
      "metadata": {
        "colab": {
          "base_uri": "https://localhost:8080/"
        },
        "id": "pgFU_WAGoT-l",
        "outputId": "df8fb431-ed46-4faa-9b5a-8c0857f8d284"
      },
      "source": [
        "# rect1의 가로 길이 4만큼 증가\n",
        "rect1.resize(dw=4)\n",
        "print(f'Rectangle(x={rect1.x}, y={rect1.y}, w={rect1.width}, h={rect1.height})')\n",
        "# 가로 길이 변경 후 넓이\n",
        "rect1.area()"
      ],
      "execution_count": 51,
      "outputs": [
        {
          "output_type": "stream",
          "text": [
            "Rectangle(x=0, y=0, w=6, h=3)\n"
          ],
          "name": "stdout"
        },
        {
          "output_type": "execute_result",
          "data": {
            "text/plain": [
              "18"
            ]
          },
          "metadata": {
            "tags": []
          },
          "execution_count": 51
        }
      ]
    },
    {
      "cell_type": "markdown",
      "metadata": {
        "id": "oxrEUNMnuGg2"
      },
      "source": [
        "# magic method"
      ]
    },
    {
      "cell_type": "code",
      "metadata": {
        "colab": {
          "base_uri": "https://localhost:8080/"
        },
        "id": "hMXw9MKIsZwq",
        "outputId": "503903eb-8938-44b7-c92d-9f3c439f57c9"
      },
      "source": [
        "numbers = list([1, 2, 3])  # 클래스 list의 객체(인스턴스) 생성\n",
        "print(numbers)"
      ],
      "execution_count": 58,
      "outputs": [
        {
          "output_type": "stream",
          "text": [
            "[1, 2, 3]\n"
          ],
          "name": "stdout"
        }
      ]
    },
    {
      "cell_type": "code",
      "metadata": {
        "colab": {
          "base_uri": "https://localhost:8080/"
        },
        "id": "-RCOAw_Qvwdg",
        "outputId": "9303ef19-cb37-4804-9622-c2eec981a431"
      },
      "source": [
        "dir(numbers)  # numbers 객체의 속성, 메서드들을 나열하는 함수"
      ],
      "execution_count": 60,
      "outputs": [
        {
          "output_type": "execute_result",
          "data": {
            "text/plain": [
              "['__add__',\n",
              " '__class__',\n",
              " '__contains__',\n",
              " '__delattr__',\n",
              " '__delitem__',\n",
              " '__dir__',\n",
              " '__doc__',\n",
              " '__eq__',\n",
              " '__format__',\n",
              " '__ge__',\n",
              " '__getattribute__',\n",
              " '__getitem__',\n",
              " '__gt__',\n",
              " '__hash__',\n",
              " '__iadd__',\n",
              " '__imul__',\n",
              " '__init__',\n",
              " '__init_subclass__',\n",
              " '__iter__',\n",
              " '__le__',\n",
              " '__len__',\n",
              " '__lt__',\n",
              " '__mul__',\n",
              " '__ne__',\n",
              " '__new__',\n",
              " '__reduce__',\n",
              " '__reduce_ex__',\n",
              " '__repr__',\n",
              " '__reversed__',\n",
              " '__rmul__',\n",
              " '__setattr__',\n",
              " '__setitem__',\n",
              " '__sizeof__',\n",
              " '__str__',\n",
              " '__subclasshook__',\n",
              " 'append',\n",
              " 'clear',\n",
              " 'copy',\n",
              " 'count',\n",
              " 'extend',\n",
              " 'index',\n",
              " 'insert',\n",
              " 'pop',\n",
              " 'remove',\n",
              " 'reverse',\n",
              " 'sort']"
            ]
          },
          "metadata": {
            "tags": []
          },
          "execution_count": 60
        }
      ]
    },
    {
      "cell_type": "code",
      "metadata": {
        "colab": {
          "base_uri": "https://localhost:8080/"
        },
        "id": "A1XAfEVxu-YH",
        "outputId": "a53a6bce-6f51-4bed-8f57-8884a8a1739b"
      },
      "source": [
        "num_tuple = tuple([1, 2, 3])  # 클래스 tuple의 인스턴스 생성\n",
        "print(num_tuple)  # num_tuple 객체의 __str__ 메서드가 리턴하는 문자열을 콘솔에 출력\n",
        "num_tuple  # num_tuple 객체의 __repr__ 메서드가 리턴하는 문자열을 콘솔에 출력"
      ],
      "execution_count": 90,
      "outputs": [
        {
          "output_type": "stream",
          "text": [
            "(1, 2, 3)\n"
          ],
          "name": "stdout"
        },
        {
          "output_type": "execute_result",
          "data": {
            "text/plain": [
              "(1, 2, 3)"
            ]
          },
          "metadata": {
            "tags": []
          },
          "execution_count": 90
        }
      ]
    },
    {
      "cell_type": "code",
      "metadata": {
        "colab": {
          "base_uri": "https://localhost:8080/"
        },
        "id": "VKbNof3NwgRf",
        "outputId": "6b897440-e879-41ff-a123-cfedf8ab7497"
      },
      "source": [
        "dir(num_tuple)"
      ],
      "execution_count": 61,
      "outputs": [
        {
          "output_type": "execute_result",
          "data": {
            "text/plain": [
              "['__add__',\n",
              " '__class__',\n",
              " '__contains__',\n",
              " '__delattr__',\n",
              " '__dir__',\n",
              " '__doc__',\n",
              " '__eq__',\n",
              " '__format__',\n",
              " '__ge__',\n",
              " '__getattribute__',\n",
              " '__getitem__',\n",
              " '__getnewargs__',\n",
              " '__gt__',\n",
              " '__hash__',\n",
              " '__init__',\n",
              " '__init_subclass__',\n",
              " '__iter__',\n",
              " '__le__',\n",
              " '__len__',\n",
              " '__lt__',\n",
              " '__mul__',\n",
              " '__ne__',\n",
              " '__new__',\n",
              " '__reduce__',\n",
              " '__reduce_ex__',\n",
              " '__repr__',\n",
              " '__rmul__',\n",
              " '__setattr__',\n",
              " '__sizeof__',\n",
              " '__str__',\n",
              " '__subclasshook__',\n",
              " 'count',\n",
              " 'index']"
            ]
          },
          "metadata": {
            "tags": []
          },
          "execution_count": 61
        }
      ]
    },
    {
      "cell_type": "code",
      "metadata": {
        "id": "Y2Vu0WjDw3FW"
      },
      "source": [
        "class MyClass:\n",
        "    \n",
        "    # 생성자를 호출하면 자동으로 호출되는 메서드\n",
        "    def __init__(self):\n",
        "        print('MyClass 객체 생성')\n",
        "    \n",
        "    # print함수가 호출하는 메서드: 파라미터는 없음. 리턴 값은 문자열.\n",
        "    def __str__(self):\n",
        "        return 'MyClass 객체'\n",
        "\n",
        "    # expression을 자동으로 출력할 때 호출되는 메서드(representation)\n",
        "    def __repr__(self):\n",
        "        return 'MyClass 인스턴스'"
      ],
      "execution_count": 86,
      "outputs": []
    },
    {
      "cell_type": "code",
      "metadata": {
        "colab": {
          "base_uri": "https://localhost:8080/"
        },
        "id": "CfOKQC2VxNw_",
        "outputId": "e8ab9dff-8f11-4b62-cf13-37e2870c4dc3"
      },
      "source": [
        "my_cls = MyClass()  # MyClass 클래스 생성자 호출 -> 인스턴스 생성"
      ],
      "execution_count": 87,
      "outputs": [
        {
          "output_type": "stream",
          "text": [
            "MyClass 객체 생성\n"
          ],
          "name": "stdout"
        }
      ]
    },
    {
      "cell_type": "code",
      "metadata": {
        "colab": {
          "base_uri": "https://localhost:8080/"
        },
        "id": "_P8pFBQzxXIm",
        "outputId": "7e7a928f-626e-4e03-8127-c76dcda03210"
      },
      "source": [
        "print(my_cls)  # 문장(statemetn)"
      ],
      "execution_count": 88,
      "outputs": [
        {
          "output_type": "stream",
          "text": [
            "MyClass 객체\n"
          ],
          "name": "stdout"
        }
      ]
    },
    {
      "cell_type": "code",
      "metadata": {
        "colab": {
          "base_uri": "https://localhost:8080/"
        },
        "id": "psmKHVzJxYQG",
        "outputId": "1177f5ef-0cfd-4ab9-fbdf-1828e0de489e"
      },
      "source": [
        "my_cls # 식(expression)"
      ],
      "execution_count": 89,
      "outputs": [
        {
          "output_type": "execute_result",
          "data": {
            "text/plain": [
              "MyClass 인스턴스"
            ]
          },
          "metadata": {
            "tags": []
          },
          "execution_count": 89
        }
      ]
    },
    {
      "cell_type": "code",
      "metadata": {
        "colab": {
          "base_uri": "https://localhost:8080/"
        },
        "id": "mvA4If__3KDa",
        "outputId": "663c8ea9-11b5-4c53-e28d-bd469e7e4bdc"
      },
      "source": [
        "id(my_cls)  # 객체가 생성된 주소를 리턴"
      ],
      "execution_count": 92,
      "outputs": [
        {
          "output_type": "execute_result",
          "data": {
            "text/plain": [
              "140055431005328"
            ]
          },
          "metadata": {
            "tags": []
          },
          "execution_count": 92
        }
      ]
    }
  ]
}
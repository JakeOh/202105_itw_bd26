{
  "nbformat": 4,
  "nbformat_minor": 0,
  "metadata": {
    "colab": {
      "name": "py20_class.ipynb",
      "provenance": [],
      "collapsed_sections": [],
      "authorship_tag": "ABX9TyOhEkg+6z7naaRafZLHev3j",
      "include_colab_link": true
    },
    "kernelspec": {
      "name": "python3",
      "display_name": "Python 3"
    },
    "language_info": {
      "name": "python"
    }
  },
  "cells": [
    {
      "cell_type": "markdown",
      "metadata": {
        "id": "view-in-github",
        "colab_type": "text"
      },
      "source": [
        "<a href=\"https://colab.research.google.com/github/JakeOh/202105_itw_bd26/blob/main/lab_python/py20_class.ipynb\" target=\"_parent\"><img src=\"https://colab.research.google.com/assets/colab-badge.svg\" alt=\"Open In Colab\"/></a>"
      ]
    },
    {
      "cell_type": "code",
      "metadata": {
        "id": "epGWtyPYp0NR"
      },
      "source": [
        "import math  # math.sqrt() 함수를 사용하기 위해서"
      ],
      "execution_count": 1,
      "outputs": []
    },
    {
      "cell_type": "code",
      "metadata": {
        "id": "AwYowxtoqEpV"
      },
      "source": [
        "# class 선언(정의)\n",
        "class Point:\n",
        "    \"\"\"2차원 평면의 점의 좌표를 표현하는 클래스\"\"\"\n",
        "\n",
        "    def __init__(self, x=0, y=0):\n",
        "        # 인스턴스의 속성들을 초기화\n",
        "        self.x = x\n",
        "        self.y = y\n",
        "\n",
        "    def move(self):\n",
        "        \"\"\"점의 좌표를 원래 위치에서 x축의 방향으로 dx만큼, y축의 방향으로 dy만큼 이동시키는 메서드\"\"\"\n",
        "        pass"
      ],
      "execution_count": 2,
      "outputs": []
    },
    {
      "cell_type": "code",
      "metadata": {
        "colab": {
          "base_uri": "https://localhost:8080/"
        },
        "id": "Om-KoFhgs_te",
        "outputId": "0453453b-107e-454d-bc5b-54182883c70a"
      },
      "source": [
        "# class 객체 생성\n",
        "pt1 = Point()  # __init__ 메서드의 default argument가 사용됨.\n",
        "print(pt1)\n",
        "print(f'(x={pt1.x}, y={pt1.y})')  # pt1.x, pt1.y: 인스턴스 속성 참조"
      ],
      "execution_count": 4,
      "outputs": [
        {
          "output_type": "stream",
          "text": [
            "<__main__.Point object at 0x7f6136401450>\n",
            "(x=0, y=0)\n"
          ],
          "name": "stdout"
        }
      ]
    },
    {
      "cell_type": "code",
      "metadata": {
        "colab": {
          "base_uri": "https://localhost:8080/"
        },
        "id": "1s_cA6AvvNC9",
        "outputId": "4e389f09-63d8-4219-c293-e0633ad496b0"
      },
      "source": [
        "pt2 = Point(1, 1)  # 생성자 호출(positional argument)\n",
        "print(pt2)\n",
        "print(f'(x={pt2.x}, y={pt2.y})')"
      ],
      "execution_count": 6,
      "outputs": [
        {
          "output_type": "stream",
          "text": [
            "<__main__.Point object at 0x7f61364b3690>\n",
            "(x=1, y=1)\n"
          ],
          "name": "stdout"
        }
      ]
    }
  ]
}
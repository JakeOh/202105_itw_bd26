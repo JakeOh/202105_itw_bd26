{
  "nbformat": 4,
  "nbformat_minor": 0,
  "metadata": {
    "colab": {
      "name": "py28_bs.ipynb",
      "provenance": [],
      "collapsed_sections": [],
      "mount_file_id": "1ejkMRg76Yx4Ku4prBekzXv9MQ-HsFw4p",
      "authorship_tag": "ABX9TyPMZbzEe0v7dcS+PPWajZ+S",
      "include_colab_link": true
    },
    "kernelspec": {
      "name": "python3",
      "display_name": "Python 3"
    },
    "language_info": {
      "name": "python"
    }
  },
  "cells": [
    {
      "cell_type": "markdown",
      "metadata": {
        "id": "view-in-github",
        "colab_type": "text"
      },
      "source": [
        "<a href=\"https://colab.research.google.com/github/JakeOh/202105_itw_bd26/blob/main/lab_python/py28_bs.ipynb\" target=\"_parent\"><img src=\"https://colab.research.google.com/assets/colab-badge.svg\" alt=\"Open In Colab\"/></a>"
      ]
    },
    {
      "cell_type": "code",
      "metadata": {
        "id": "Job-yk_U23Ih"
      },
      "source": [
        "web03 = '/content/drive/MyDrive/Colab Notebooks/lab_python/web03.html'"
      ],
      "execution_count": 1,
      "outputs": []
    },
    {
      "cell_type": "code",
      "metadata": {
        "id": "jOpUyveC3M3I"
      },
      "source": [
        "from bs4 import BeautifulSoup  # bs4 모듈에서 BeautifulSoup 클래스 임포트"
      ],
      "execution_count": 2,
      "outputs": []
    },
    {
      "cell_type": "markdown",
      "metadata": {
        "id": "NXNUL0v-3Xo4"
      },
      "source": [
        "# CSS Selector\n",
        "\n",
        "HTML 요소(element)들을 찾는 방법\n",
        "* `tag_name`\n",
        "* `.class_name`\n",
        "* `#id_name`\n",
        "* `selector1, selector2, selector3, ...`\n",
        "* `ancestor descendent ...`\n",
        "* `parent > child`\n",
        "* `selector:pseudo-selector`\n"
      ]
    },
    {
      "cell_type": "code",
      "metadata": {
        "id": "AYK8mUZe4GQI"
      },
      "source": [
        "with open(file=web03) as html:\n",
        "    # HTML 파일을 오픈해서 BeautifulSoup 객체를 생성\n",
        "    soup = BeautifulSoup(markup=html, features='html5lib')"
      ],
      "execution_count": 3,
      "outputs": []
    },
    {
      "cell_type": "markdown",
      "metadata": {
        "id": "B2Lz-T224z3a"
      },
      "source": [
        "# Tag Selector"
      ]
    },
    {
      "cell_type": "code",
      "metadata": {
        "colab": {
          "base_uri": "https://localhost:8080/"
        },
        "id": "d5ghxwnX3VBZ",
        "outputId": "95eccf1e-83e8-44fa-f524-a1f764d31002"
      },
      "source": [
        "# BS.select('css-selector'): css-selector로 찾을 수 있는 모든 요소들의 리스트\n",
        "# 태그 이름이 'div'인 모든 요소들\n",
        "soup.select('div')"
      ],
      "execution_count": 4,
      "outputs": [
        {
          "output_type": "execute_result",
          "data": {
            "text/plain": [
              "[<div class=\"c1\">여기는 c1 클래스입니다.</div>,\n",
              " <div class=\"c1\">여기도 c1 클래스입니다.</div>,\n",
              " <div class=\"c2\">여기는 c2 클래스입니다.</div>,\n",
              " <div class=\"c2\" id=\"id1\">여기는 c2 클래스, 아이디는 id1입니다.</div>]"
            ]
          },
          "metadata": {
            "tags": []
          },
          "execution_count": 4
        }
      ]
    },
    {
      "cell_type": "code",
      "metadata": {
        "colab": {
          "base_uri": "https://localhost:8080/"
        },
        "id": "Ph-1bYQx47EX",
        "outputId": "f83f4a00-f0e1-4aed-f746-de19c5ba196e"
      },
      "source": [
        "# 태그 이름이 'a'인 모든 요소들\n",
        "soup.select('a')"
      ],
      "execution_count": null,
      "outputs": [
        {
          "output_type": "execute_result",
          "data": {
            "text/plain": [
              "[<a href=\"https://www.daum.net/\">다음</a>,\n",
              " <a href=\"https://www.naver.com/\">네이버</a>,\n",
              " <a href=\"https://www.google.com/\">구글</a>]"
            ]
          },
          "metadata": {
            "tags": []
          },
          "execution_count": 5
        }
      ]
    },
    {
      "cell_type": "code",
      "metadata": {
        "colab": {
          "base_uri": "https://localhost:8080/"
        },
        "id": "1mzuG4Uhf75Q",
        "outputId": "590739be-c83b-43dd-9624-bac37f3a3571"
      },
      "source": [
        "links = soup.select('a')\n",
        "for l in links:\n",
        "    print(l['href'], l.text)"
      ],
      "execution_count": 6,
      "outputs": [
        {
          "output_type": "stream",
          "text": [
            "https://www.daum.net/ 다음\n",
            "https://www.naver.com/ 네이버\n",
            "https://www.google.com/ 구글\n"
          ],
          "name": "stdout"
        }
      ]
    },
    {
      "cell_type": "code",
      "metadata": {
        "colab": {
          "base_uri": "https://localhost:8080/"
        },
        "id": "twUK29xS5Q7n",
        "outputId": "ba51b507-a91d-4ec2-890d-f334f308e92a"
      },
      "source": [
        "# 태그 이름이 'h1'인 모든 요소들\n",
        "soup.select('h1')"
      ],
      "execution_count": 7,
      "outputs": [
        {
          "output_type": "execute_result",
          "data": {
            "text/plain": [
              "[<h1>CSS(Cascade Style Sheet)</h1>]"
            ]
          },
          "metadata": {
            "tags": []
          },
          "execution_count": 7
        }
      ]
    },
    {
      "cell_type": "markdown",
      "metadata": {
        "id": "8NIPZIJk5vs3"
      },
      "source": [
        "# Class Selector"
      ]
    },
    {
      "cell_type": "code",
      "metadata": {
        "colab": {
          "base_uri": "https://localhost:8080/"
        },
        "id": "f6xrOQ455xJg",
        "outputId": "3eb986dc-4a40-4300-af0f-fb753018495d"
      },
      "source": [
        "# class 속성의 값이 'menu_item'인 모든 요소들\n",
        "# soup.find_all(attrs={'class': 'menu_item'})\n",
        "soup.select('.menu_item')"
      ],
      "execution_count": null,
      "outputs": [
        {
          "output_type": "execute_result",
          "data": {
            "text/plain": [
              "[<li class=\"menu_item\">  <!-- list item -->\n",
              "             <a href=\"https://www.daum.net/\">다음</a>\n",
              "         </li>, <li class=\"menu_item\">  <!-- list item -->\n",
              "             <a href=\"https://www.naver.com/\">네이버</a>\n",
              "         </li>, <li class=\"menu_item\">  <!-- list item -->\n",
              "             <a href=\"https://www.google.com/\">구글</a>\n",
              "         </li>]"
            ]
          },
          "metadata": {
            "tags": []
          },
          "execution_count": 7
        }
      ]
    },
    {
      "cell_type": "code",
      "metadata": {
        "colab": {
          "base_uri": "https://localhost:8080/"
        },
        "id": "zEXYVFWL6xFg",
        "outputId": "2316fb99-41b2-44e5-a71d-164d017b0fdb"
      },
      "source": [
        "# class 속성의 값이 'c1'인 모든 요소들\n",
        "soup.select('.c1')"
      ],
      "execution_count": null,
      "outputs": [
        {
          "output_type": "execute_result",
          "data": {
            "text/plain": [
              "[<div class=\"c1\">여기는 c1 클래스입니다.</div>, <div class=\"c1\">여기도 c1 클래스입니다.</div>]"
            ]
          },
          "metadata": {
            "tags": []
          },
          "execution_count": 8
        }
      ]
    },
    {
      "cell_type": "markdown",
      "metadata": {
        "id": "vXMLu4sd7UF3"
      },
      "source": [
        "# ID selector"
      ]
    },
    {
      "cell_type": "code",
      "metadata": {
        "colab": {
          "base_uri": "https://localhost:8080/"
        },
        "id": "MugSEPTO7VsO",
        "outputId": "b76c8647-ffbc-4d16-9bc5-91f9b6295c2e"
      },
      "source": [
        "# id 속성의 값이 'id1'인 모든 요소들\n",
        "soup.select('#id1')"
      ],
      "execution_count": null,
      "outputs": [
        {
          "output_type": "execute_result",
          "data": {
            "text/plain": [
              "[<div class=\"c2\" id=\"id1\">여기는 c2 클래스, 아이디는 id1입니다.</div>]"
            ]
          },
          "metadata": {
            "tags": []
          },
          "execution_count": 9
        }
      ]
    },
    {
      "cell_type": "markdown",
      "metadata": {
        "id": "ugK4BOkF8kAH"
      },
      "source": [
        "tag, class, id selector는 연결해서 사용 가능."
      ]
    },
    {
      "cell_type": "code",
      "metadata": {
        "colab": {
          "base_uri": "https://localhost:8080/"
        },
        "id": "MGzxl5Dp8rG-",
        "outputId": "0abbfa97-85e3-44c3-954f-c17d79a858d6"
      },
      "source": [
        "# 태그 이름이 'div'이고, class 속성의 값이 'c1'인 모든 요소들\n",
        "# soup.find_all(name='div', attrs={'class': 'c1'})\n",
        "soup.select('div.c1')"
      ],
      "execution_count": null,
      "outputs": [
        {
          "output_type": "execute_result",
          "data": {
            "text/plain": [
              "[<div class=\"c1\">여기는 c1 클래스입니다.</div>, <div class=\"c1\">여기도 c1 클래스입니다.</div>]"
            ]
          },
          "metadata": {
            "tags": []
          },
          "execution_count": 11
        }
      ]
    },
    {
      "cell_type": "code",
      "metadata": {
        "colab": {
          "base_uri": "https://localhost:8080/"
        },
        "id": "v5lTIEkg9F3d",
        "outputId": "f05a68d7-09f5-444b-8bb4-bd401cfa12fe"
      },
      "source": [
        "# 태그 이름이 'div'이고, id 속성의 값이 'id1'인 모든 요소들\n",
        "# soup.find_all(name='div', attrs={'id': 'id1'})\n",
        "soup.select('div#id1')"
      ],
      "execution_count": null,
      "outputs": [
        {
          "output_type": "execute_result",
          "data": {
            "text/plain": [
              "[<div class=\"c2\" id=\"id1\">여기는 c2 클래스, 아이디는 id1입니다.</div>]"
            ]
          },
          "metadata": {
            "tags": []
          },
          "execution_count": 13
        }
      ]
    },
    {
      "cell_type": "markdown",
      "metadata": {
        "id": "XlSoWaFmjtre"
      },
      "source": [
        "# 여러 요소를 함께 선택"
      ]
    },
    {
      "cell_type": "code",
      "metadata": {
        "colab": {
          "base_uri": "https://localhost:8080/"
        },
        "id": "onn8Y5p-jzUO",
        "outputId": "75be2322-5dc9-4923-c9da-26c60206365e"
      },
      "source": [
        "# 클래스 이름이 'c1' 이거나 또는 클래스 이름이 'c2'인 요소들\n",
        "soup.select('.c1, .c2')"
      ],
      "execution_count": 8,
      "outputs": [
        {
          "output_type": "execute_result",
          "data": {
            "text/plain": [
              "[<div class=\"c1\">여기는 c1 클래스입니다.</div>,\n",
              " <div class=\"c1\">여기도 c1 클래스입니다.</div>,\n",
              " <div class=\"c2\">여기는 c2 클래스입니다.</div>,\n",
              " <div class=\"c2\" id=\"id1\">여기는 c2 클래스, 아이디는 id1입니다.</div>]"
            ]
          },
          "metadata": {
            "tags": []
          },
          "execution_count": 8
        }
      ]
    },
    {
      "cell_type": "code",
      "metadata": {
        "colab": {
          "base_uri": "https://localhost:8080/"
        },
        "id": "_mZW4vB1kNPt",
        "outputId": "17a772ed-2718-42f2-94c7-50598eda1993"
      },
      "source": [
        "# div 태그 중에 클래스 이름이 'c1'이거나, div 태그 중에 id 값이 'id1'인 요소들\n",
        "soup.select('div.c1, div#id1')"
      ],
      "execution_count": 9,
      "outputs": [
        {
          "output_type": "execute_result",
          "data": {
            "text/plain": [
              "[<div class=\"c1\">여기는 c1 클래스입니다.</div>,\n",
              " <div class=\"c1\">여기도 c1 클래스입니다.</div>,\n",
              " <div class=\"c2\" id=\"id1\">여기는 c2 클래스, 아이디는 id1입니다.</div>]"
            ]
          },
          "metadata": {
            "tags": []
          },
          "execution_count": 9
        }
      ]
    },
    {
      "cell_type": "markdown",
      "metadata": {
        "id": "azS4dNUylIsN"
      },
      "source": [
        "# Traversing"
      ]
    },
    {
      "cell_type": "markdown",
      "metadata": {
        "id": "bhPlQaC5lLRe"
      },
      "source": [
        "## 조상(ancestor) 요소 아래에 있는 자손(descendent) 요소 찾기"
      ]
    },
    {
      "cell_type": "code",
      "metadata": {
        "colab": {
          "base_uri": "https://localhost:8080/"
        },
        "id": "psInD_bylKJt",
        "outputId": "b9b9739c-1931-45dd-a800-0cf4161c58d7"
      },
      "source": [
        "# ul 태그 중 클래스 이름이 'menu'인 요소의 자손들 중에서 a 태그 요소들\n",
        "soup.select('ul.menu a')"
      ],
      "execution_count": 10,
      "outputs": [
        {
          "output_type": "execute_result",
          "data": {
            "text/plain": [
              "[<a href=\"https://www.daum.net/\">다음</a>,\n",
              " <a href=\"https://www.naver.com/\">네이버</a>,\n",
              " <a href=\"https://www.google.com/\">구글</a>]"
            ]
          },
          "metadata": {
            "tags": []
          },
          "execution_count": 10
        }
      ]
    },
    {
      "cell_type": "markdown",
      "metadata": {
        "id": "WZsJ40_6rp_T"
      },
      "source": [
        "## 부모(parent) 요소 바로 아래의 자식(child) 요소를 선택"
      ]
    },
    {
      "cell_type": "code",
      "metadata": {
        "colab": {
          "base_uri": "https://localhost:8080/"
        },
        "id": "NRWyRsUfry9L",
        "outputId": "9bcd764a-6b69-4366-9148-b1c7a3c2b234"
      },
      "source": [
        "# ul 태그 중 클래스 이름이 'menu'인 요소의 자식 클래스 이름이 'menu_item' 요소의 자식 a 태그 요소\n",
        "soup.select('ul.menu > .menu_item > a')"
      ],
      "execution_count": 11,
      "outputs": [
        {
          "output_type": "execute_result",
          "data": {
            "text/plain": [
              "[<a href=\"https://www.daum.net/\">다음</a>,\n",
              " <a href=\"https://www.naver.com/\">네이버</a>,\n",
              " <a href=\"https://www.google.com/\">구글</a>]"
            ]
          },
          "metadata": {
            "tags": []
          },
          "execution_count": 11
        }
      ]
    },
    {
      "cell_type": "markdown",
      "metadata": {
        "id": "4q9kqM25tbET"
      },
      "source": [
        "# Pseudo selector"
      ]
    },
    {
      "cell_type": "code",
      "metadata": {
        "colab": {
          "base_uri": "https://localhost:8080/"
        },
        "id": "YuzgYZcDtcvL",
        "outputId": "b2939db8-493e-489c-fa5a-bfdda2b7cdca"
      },
      "source": [
        "# a 태그들 중 3번째 요소\n",
        "soup.select('a:nth-of-type(3)')"
      ],
      "execution_count": 17,
      "outputs": [
        {
          "output_type": "execute_result",
          "data": {
            "text/plain": [
              "[<a href=\"https://www.google.com/\">구글</a>]"
            ]
          },
          "metadata": {
            "tags": []
          },
          "execution_count": 17
        }
      ]
    }
  ]
}
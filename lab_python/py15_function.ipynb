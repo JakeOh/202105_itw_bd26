{
  "nbformat": 4,
  "nbformat_minor": 0,
  "metadata": {
    "colab": {
      "name": "py15_function.ipynb",
      "provenance": [],
      "collapsed_sections": [],
      "authorship_tag": "ABX9TyOuf8fOMw6XZGO6mOL5awXV",
      "include_colab_link": true
    },
    "kernelspec": {
      "name": "python3",
      "display_name": "Python 3"
    },
    "language_info": {
      "name": "python"
    }
  },
  "cells": [
    {
      "cell_type": "markdown",
      "metadata": {
        "id": "view-in-github",
        "colab_type": "text"
      },
      "source": [
        "<a href=\"https://colab.research.google.com/github/JakeOh/202105_itw_bd26/blob/main/lab_python/py15_function.ipynb\" target=\"_parent\"><img src=\"https://colab.research.google.com/assets/colab-badge.svg\" alt=\"Open In Colab\"/></a>"
      ]
    },
    {
      "cell_type": "markdown",
      "metadata": {
        "id": "kCNft7xddd9K"
      },
      "source": [
        "# Default argument"
      ]
    },
    {
      "cell_type": "markdown",
      "metadata": {
        "id": "ToXsYE_QdlIY"
      },
      "source": [
        "default argument(기본 인수)\n",
        "\n",
        "*   함수를 정의(선언)할 때, parameter에 설정된 기본값.\n",
        "    *   default parameter(기본 매개변수): default argument가 설정된 파라미터\n",
        "*   함수를 호출할 때 default argument를 가지고 있는 parameter에 값을 전달하지 않으면, default argument가 사용됨.\n",
        "*   함수를 호출할 때 default argument를 가지고 있는 parameter에 값을 전달하면, default argument는 무시되고, 전달된 값(argument)가 사용됨. "
      ]
    },
    {
      "cell_type": "code",
      "metadata": {
        "id": "6lZaPzXodRow"
      },
      "source": [
        "def repeat_message(message, n=1):\n",
        "    for _ in range(n):\n",
        "        print(message)"
      ],
      "execution_count": 2,
      "outputs": []
    },
    {
      "cell_type": "code",
      "metadata": {
        "colab": {
          "base_uri": "https://localhost:8080/"
        },
        "id": "CetUrZf1e43M",
        "outputId": "fb67ae3d-1690-4300-cb21-7f43b26f01bb"
      },
      "source": [
        "repeat_message('Hello')"
      ],
      "execution_count": 4,
      "outputs": [
        {
          "output_type": "stream",
          "text": [
            "Hello\n"
          ],
          "name": "stdout"
        }
      ]
    },
    {
      "cell_type": "code",
      "metadata": {
        "colab": {
          "base_uri": "https://localhost:8080/"
        },
        "id": "p6z21fbPf9Ti",
        "outputId": "1c0cb43c-26a6-4006-8b78-1850f4aad173"
      },
      "source": [
        "repeat_message('Hello', 5)"
      ],
      "execution_count": 5,
      "outputs": [
        {
          "output_type": "stream",
          "text": [
            "Hello\n",
            "Hello\n",
            "Hello\n",
            "Hello\n",
            "Hello\n"
          ],
          "name": "stdout"
        }
      ]
    },
    {
      "cell_type": "markdown",
      "metadata": {
        "id": "NdXHONfog36Z"
      },
      "source": [
        "**(주의)**\n",
        "\n",
        "함수를 정의할 때, default parameter들은 ***반드시*** default 값을 갖지 않는 파라미터들 뒤에 선언해야 함!\n"
      ]
    },
    {
      "cell_type": "code",
      "metadata": {
        "id": "6W-yuBwbgdsC"
      },
      "source": [
        "def test(x, y=1):\n",
        "    return x * y"
      ],
      "execution_count": 6,
      "outputs": []
    },
    {
      "cell_type": "code",
      "metadata": {
        "colab": {
          "base_uri": "https://localhost:8080/",
          "height": 143
        },
        "id": "-gPhab0lhpeV",
        "outputId": "f4d06e2c-9364-4826-adf2-5780a55e2147"
      },
      "source": [
        "def test2(x=1, y):\n",
        "    return x * y\n",
        "#> SyntaxError - 문법에 맞지 않음."
      ],
      "execution_count": 7,
      "outputs": [
        {
          "output_type": "error",
          "ename": "SyntaxError",
          "evalue": "ignored",
          "traceback": [
            "\u001b[0;36m  File \u001b[0;32m\"<ipython-input-7-3aa6da9f7bcd>\"\u001b[0;36m, line \u001b[0;32m1\u001b[0m\n\u001b[0;31m    def test2(x=1, y):\u001b[0m\n\u001b[0m             ^\u001b[0m\n\u001b[0;31mSyntaxError\u001b[0m\u001b[0;31m:\u001b[0m non-default argument follows default argument\n"
          ]
        }
      ]
    },
    {
      "cell_type": "markdown",
      "metadata": {
        "id": "7v4Z20aJiWy5"
      },
      "source": [
        "# argument 전달 방법"
      ]
    },
    {
      "cell_type": "markdown",
      "metadata": {
        "id": "0uQV4KyUipAu"
      },
      "source": [
        "함수를 호출할 때, 값(argument)를 전달하는 방법:\n",
        "\n",
        "*   **positional argument**: 함수에 정의된 파라미터 순서대로 값(argument)을 전달하는 방식.\n",
        "*   **keyword argument**: `param_name=value`와 같은 형식으로 값(argument)을 전달하는 방식.\n",
        "    *   keyword argument 방식으로 값(argument)를 전달할 때는 함수에 정의된 파라미터의 순서를 지키지 않아도 괜찮음.\n",
        "*   함수를 호출할 때 positional argument와 keyword argument를 함께 사용하는 경우에는, keyword argument들은 ***반드시*** positional argument들 뒤에 와야 함!\n"
      ]
    },
    {
      "cell_type": "code",
      "metadata": {
        "id": "4hWHKMbVjzd6"
      },
      "source": [
        "def minus(x, y):\n",
        "    return x - y"
      ],
      "execution_count": 8,
      "outputs": []
    },
    {
      "cell_type": "code",
      "metadata": {
        "colab": {
          "base_uri": "https://localhost:8080/"
        },
        "id": "Rcfky4Inj6_W",
        "outputId": "7c436e7c-0872-45cb-f040-8bea6f97fa31"
      },
      "source": [
        "# positional argument 방식의 함수 호출\n",
        "minus(1, 2)"
      ],
      "execution_count": 9,
      "outputs": [
        {
          "output_type": "execute_result",
          "data": {
            "text/plain": [
              "-1"
            ]
          },
          "metadata": {
            "tags": []
          },
          "execution_count": 9
        }
      ]
    },
    {
      "cell_type": "code",
      "metadata": {
        "colab": {
          "base_uri": "https://localhost:8080/"
        },
        "id": "cqCrRJNJkOyW",
        "outputId": "037e0269-1b97-4f42-f56e-6381e3dc69ce"
      },
      "source": [
        "# keyword argument 방식의 함수 호출\n",
        "minus(x=1, y=2)"
      ],
      "execution_count": 10,
      "outputs": [
        {
          "output_type": "execute_result",
          "data": {
            "text/plain": [
              "-1"
            ]
          },
          "metadata": {
            "tags": []
          },
          "execution_count": 10
        }
      ]
    },
    {
      "cell_type": "code",
      "metadata": {
        "colab": {
          "base_uri": "https://localhost:8080/"
        },
        "id": "WGs-F9Gkk2Wr",
        "outputId": "92773ffa-a884-48cc-8dcf-48980c241c2f"
      },
      "source": [
        "# keyword argument 방식의 함수 호출인 경우는 parameter가 선언된 순서를 지키지 않아도 됨.\n",
        "minus(y=1, x=2)"
      ],
      "execution_count": 11,
      "outputs": [
        {
          "output_type": "execute_result",
          "data": {
            "text/plain": [
              "1"
            ]
          },
          "metadata": {
            "tags": []
          },
          "execution_count": 11
        }
      ]
    },
    {
      "cell_type": "code",
      "metadata": {
        "colab": {
          "base_uri": "https://localhost:8080/"
        },
        "id": "Q-kp-Rjdlc8q",
        "outputId": "ce239ace-7cd3-48db-8609-c730fcc37cfc"
      },
      "source": [
        "# positional argument와 keyword argument를 혼용한 함수 호출\n",
        "minus(10, y=20)"
      ],
      "execution_count": 12,
      "outputs": [
        {
          "output_type": "execute_result",
          "data": {
            "text/plain": [
              "-10"
            ]
          },
          "metadata": {
            "tags": []
          },
          "execution_count": 12
        }
      ]
    },
    {
      "cell_type": "code",
      "metadata": {
        "colab": {
          "base_uri": "https://localhost:8080/",
          "height": 143
        },
        "id": "0uQyfLgOmDVr",
        "outputId": "b4736f7e-d31d-4852-b968-afdcda4b3917"
      },
      "source": [
        "minus(x=10, 20)\n",
        "#> SyntaxError\n",
        "# keyword argument들은 반드시 positional argument들 뒤에 위치해야 함!"
      ],
      "execution_count": 13,
      "outputs": [
        {
          "output_type": "error",
          "ename": "SyntaxError",
          "evalue": "ignored",
          "traceback": [
            "\u001b[0;36m  File \u001b[0;32m\"<ipython-input-13-89d4c524ed6d>\"\u001b[0;36m, line \u001b[0;32m1\u001b[0m\n\u001b[0;31m    minus(x=10, 20)\u001b[0m\n\u001b[0m               ^\u001b[0m\n\u001b[0;31mSyntaxError\u001b[0m\u001b[0;31m:\u001b[0m positional argument follows keyword argument\n"
          ]
        }
      ]
    }
  ]
}
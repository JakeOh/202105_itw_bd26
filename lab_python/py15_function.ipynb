{
  "nbformat": 4,
  "nbformat_minor": 0,
  "metadata": {
    "colab": {
      "name": "py15_function.ipynb",
      "provenance": [],
      "collapsed_sections": [],
      "authorship_tag": "ABX9TyMyRkj+k2QIPSH0m1Uty6pb",
      "include_colab_link": true
    },
    "kernelspec": {
      "name": "python3",
      "display_name": "Python 3"
    },
    "language_info": {
      "name": "python"
    }
  },
  "cells": [
    {
      "cell_type": "markdown",
      "metadata": {
        "id": "view-in-github",
        "colab_type": "text"
      },
      "source": [
        "<a href=\"https://colab.research.google.com/github/JakeOh/202105_itw_bd26/blob/main/lab_python/py15_function.ipynb\" target=\"_parent\"><img src=\"https://colab.research.google.com/assets/colab-badge.svg\" alt=\"Open In Colab\"/></a>"
      ]
    },
    {
      "cell_type": "markdown",
      "metadata": {
        "id": "kCNft7xddd9K"
      },
      "source": [
        "# Default argument"
      ]
    },
    {
      "cell_type": "markdown",
      "metadata": {
        "id": "ToXsYE_QdlIY"
      },
      "source": [
        "default argument(기본 인수)\n",
        "\n",
        "*   함수를 정의(선언)할 때, parameter에 설정된 기본값.\n",
        "    *   default parameter(기본 매개변수): default argument가 설정된 파라미터\n",
        "*   함수를 호출할 때 default argument를 가지고 있는 parameter에 값을 전달하지 않으면, default argument가 사용됨.\n",
        "*   함수를 호출할 때 default argument를 가지고 있는 parameter에 값을 전달하면, default argument는 무시되고, 전달된 값(argument)가 사용됨. "
      ]
    },
    {
      "cell_type": "code",
      "metadata": {
        "id": "6lZaPzXodRow"
      },
      "source": [
        "def repeat_message(message, n=1):\n",
        "    for _ in range(n):\n",
        "        print(message)"
      ],
      "execution_count": 2,
      "outputs": []
    },
    {
      "cell_type": "code",
      "metadata": {
        "colab": {
          "base_uri": "https://localhost:8080/"
        },
        "id": "CetUrZf1e43M",
        "outputId": "fb67ae3d-1690-4300-cb21-7f43b26f01bb"
      },
      "source": [
        "repeat_message('Hello')"
      ],
      "execution_count": 4,
      "outputs": [
        {
          "output_type": "stream",
          "text": [
            "Hello\n"
          ],
          "name": "stdout"
        }
      ]
    },
    {
      "cell_type": "code",
      "metadata": {
        "colab": {
          "base_uri": "https://localhost:8080/"
        },
        "id": "p6z21fbPf9Ti",
        "outputId": "1c0cb43c-26a6-4006-8b78-1850f4aad173"
      },
      "source": [
        "repeat_message('Hello', 5)"
      ],
      "execution_count": 5,
      "outputs": [
        {
          "output_type": "stream",
          "text": [
            "Hello\n",
            "Hello\n",
            "Hello\n",
            "Hello\n",
            "Hello\n"
          ],
          "name": "stdout"
        }
      ]
    },
    {
      "cell_type": "markdown",
      "metadata": {
        "id": "NdXHONfog36Z"
      },
      "source": [
        "**(주의)**\n",
        "\n",
        "함수를 정의할 때, default parameter들은 ***반드시*** default 값을 갖지 않는 파라미터들 뒤에 선언해야 함!\n"
      ]
    },
    {
      "cell_type": "code",
      "metadata": {
        "id": "6W-yuBwbgdsC"
      },
      "source": [
        "def test(x, y=1):\n",
        "    return x * y"
      ],
      "execution_count": 6,
      "outputs": []
    },
    {
      "cell_type": "code",
      "metadata": {
        "colab": {
          "base_uri": "https://localhost:8080/",
          "height": 143
        },
        "id": "-gPhab0lhpeV",
        "outputId": "f4d06e2c-9364-4826-adf2-5780a55e2147"
      },
      "source": [
        "def test2(x=1, y):\n",
        "    return x * y\n",
        "#> SyntaxError - 문법에 맞지 않음."
      ],
      "execution_count": 7,
      "outputs": [
        {
          "output_type": "error",
          "ename": "SyntaxError",
          "evalue": "ignored",
          "traceback": [
            "\u001b[0;36m  File \u001b[0;32m\"<ipython-input-7-3aa6da9f7bcd>\"\u001b[0;36m, line \u001b[0;32m1\u001b[0m\n\u001b[0;31m    def test2(x=1, y):\u001b[0m\n\u001b[0m             ^\u001b[0m\n\u001b[0;31mSyntaxError\u001b[0m\u001b[0;31m:\u001b[0m non-default argument follows default argument\n"
          ]
        }
      ]
    },
    {
      "cell_type": "markdown",
      "metadata": {
        "id": "7v4Z20aJiWy5"
      },
      "source": [
        "# argument 전달 방법"
      ]
    },
    {
      "cell_type": "markdown",
      "metadata": {
        "id": "0uQV4KyUipAu"
      },
      "source": [
        "함수를 호출할 때, 값(argument)를 전달하는 방법:\n",
        "\n",
        "*   **positional argument**: 함수에 정의된 파라미터 순서대로 값(argument)을 전달하는 방식.\n",
        "*   **keyword argument**: `param_name=value`와 같은 형식으로 값(argument)을 전달하는 방식.\n",
        "    *   keyword argument 방식으로 값(argument)를 전달할 때는 함수에 정의된 파라미터의 순서를 지키지 않아도 괜찮음.\n",
        "*   함수를 호출할 때 positional argument와 keyword argument를 함께 사용하는 경우에는, keyword argument들은 ***반드시*** positional argument들 뒤에 와야 함!\n"
      ]
    },
    {
      "cell_type": "code",
      "metadata": {
        "id": "4hWHKMbVjzd6"
      },
      "source": [
        "def minus(x, y):\n",
        "    return x - y"
      ],
      "execution_count": 8,
      "outputs": []
    },
    {
      "cell_type": "code",
      "metadata": {
        "colab": {
          "base_uri": "https://localhost:8080/"
        },
        "id": "Rcfky4Inj6_W",
        "outputId": "7c436e7c-0872-45cb-f040-8bea6f97fa31"
      },
      "source": [
        "# positional argument 방식의 함수 호출\n",
        "minus(1, 2)"
      ],
      "execution_count": 9,
      "outputs": [
        {
          "output_type": "execute_result",
          "data": {
            "text/plain": [
              "-1"
            ]
          },
          "metadata": {
            "tags": []
          },
          "execution_count": 9
        }
      ]
    },
    {
      "cell_type": "code",
      "metadata": {
        "colab": {
          "base_uri": "https://localhost:8080/"
        },
        "id": "cqCrRJNJkOyW",
        "outputId": "037e0269-1b97-4f42-f56e-6381e3dc69ce"
      },
      "source": [
        "# keyword argument 방식의 함수 호출\n",
        "minus(x=1, y=2)"
      ],
      "execution_count": 10,
      "outputs": [
        {
          "output_type": "execute_result",
          "data": {
            "text/plain": [
              "-1"
            ]
          },
          "metadata": {
            "tags": []
          },
          "execution_count": 10
        }
      ]
    },
    {
      "cell_type": "code",
      "metadata": {
        "colab": {
          "base_uri": "https://localhost:8080/"
        },
        "id": "WGs-F9Gkk2Wr",
        "outputId": "92773ffa-a884-48cc-8dcf-48980c241c2f"
      },
      "source": [
        "# keyword argument 방식의 함수 호출인 경우는 parameter가 선언된 순서를 지키지 않아도 됨.\n",
        "minus(y=1, x=2)"
      ],
      "execution_count": 11,
      "outputs": [
        {
          "output_type": "execute_result",
          "data": {
            "text/plain": [
              "1"
            ]
          },
          "metadata": {
            "tags": []
          },
          "execution_count": 11
        }
      ]
    },
    {
      "cell_type": "code",
      "metadata": {
        "colab": {
          "base_uri": "https://localhost:8080/"
        },
        "id": "Q-kp-Rjdlc8q",
        "outputId": "ce239ace-7cd3-48db-8609-c730fcc37cfc"
      },
      "source": [
        "# positional argument와 keyword argument를 혼용한 함수 호출\n",
        "minus(10, y=20)"
      ],
      "execution_count": 12,
      "outputs": [
        {
          "output_type": "execute_result",
          "data": {
            "text/plain": [
              "-10"
            ]
          },
          "metadata": {
            "tags": []
          },
          "execution_count": 12
        }
      ]
    },
    {
      "cell_type": "code",
      "metadata": {
        "colab": {
          "base_uri": "https://localhost:8080/",
          "height": 143
        },
        "id": "0uQyfLgOmDVr",
        "outputId": "b4736f7e-d31d-4852-b968-afdcda4b3917"
      },
      "source": [
        "minus(x=10, 20)\n",
        "#> SyntaxError\n",
        "# keyword argument들은 반드시 positional argument들 뒤에 위치해야 함!"
      ],
      "execution_count": 13,
      "outputs": [
        {
          "output_type": "error",
          "ename": "SyntaxError",
          "evalue": "ignored",
          "traceback": [
            "\u001b[0;36m  File \u001b[0;32m\"<ipython-input-13-89d4c524ed6d>\"\u001b[0;36m, line \u001b[0;32m1\u001b[0m\n\u001b[0;31m    minus(x=10, 20)\u001b[0m\n\u001b[0m               ^\u001b[0m\n\u001b[0;31mSyntaxError\u001b[0m\u001b[0;31m:\u001b[0m positional argument follows keyword argument\n"
          ]
        }
      ]
    },
    {
      "cell_type": "markdown",
      "metadata": {
        "id": "nXWJweYRqYst"
      },
      "source": [
        "# 가변길이 인수(variable-length arguments)"
      ]
    },
    {
      "cell_type": "code",
      "metadata": {
        "colab": {
          "base_uri": "https://localhost:8080/"
        },
        "id": "38HYuMldqog0",
        "outputId": "e9c821c3-d7f7-416d-94ef-3e4b8fed180f"
      },
      "source": [
        "print('안녕하세요')  # argument 1개"
      ],
      "execution_count": 14,
      "outputs": [
        {
          "output_type": "stream",
          "text": [
            "안녕하세요\n"
          ],
          "name": "stdout"
        }
      ]
    },
    {
      "cell_type": "code",
      "metadata": {
        "colab": {
          "base_uri": "https://localhost:8080/"
        },
        "id": "5AA1L6cXqwdf",
        "outputId": "81b9a373-3d92-43fd-c9f5-ca366ebc63b5"
      },
      "source": [
        "print('안녕하세요', 'hello')  # argument 2개"
      ],
      "execution_count": 15,
      "outputs": [
        {
          "output_type": "stream",
          "text": [
            "안녕하세요 hello\n"
          ],
          "name": "stdout"
        }
      ]
    },
    {
      "cell_type": "code",
      "metadata": {
        "colab": {
          "base_uri": "https://localhost:8080/"
        },
        "id": "loL8ohKvrBSE",
        "outputId": "ec332f92-5702-432a-9e76-e499127749be"
      },
      "source": [
        "max(1, 10, 5)  # argument 3개"
      ],
      "execution_count": 16,
      "outputs": [
        {
          "output_type": "execute_result",
          "data": {
            "text/plain": [
              "10"
            ]
          },
          "metadata": {
            "tags": []
          },
          "execution_count": 16
        }
      ]
    },
    {
      "cell_type": "code",
      "metadata": {
        "colab": {
          "base_uri": "https://localhost:8080/"
        },
        "id": "pPrjIlyOrtel",
        "outputId": "48664c6b-d2ef-407d-dab7-e7575954dc61"
      },
      "source": [
        "max(1, 10, 100, 2, 20, 3, 30)  # argument 7개"
      ],
      "execution_count": 17,
      "outputs": [
        {
          "output_type": "execute_result",
          "data": {
            "text/plain": [
              "100"
            ]
          },
          "metadata": {
            "tags": []
          },
          "execution_count": 17
        }
      ]
    },
    {
      "cell_type": "markdown",
      "metadata": {
        "id": "oT8eAOIEsGId"
      },
      "source": [
        "**가변길이 인수(variable-length, arbitrary-length argument)**\n",
        "\n",
        "*   함수를 호출할 때 전달하는 값(argument)의 개수가 임의로 변할 수 있는 것. argument 개수의 제한이 없음.\n",
        "*   함수를 정의(선언)할 때, 파라미터 앞에 `*`를 쓰면 가변길이 인수를 전달받는 파라미터가 됨.\n",
        "*   함수 내부에서 가변길이 인수는 tuple로 간주함.\n",
        "    *   가변길이 인수는 인덱스를 사용할 수 있음.\n",
        "    *   가변길이 인수는 for-in 구문에서 사용할 수 있음."
      ]
    },
    {
      "cell_type": "code",
      "metadata": {
        "id": "1oNFuvItr16b"
      },
      "source": [
        "def add_all(*values):\n",
        "    \"\"\"전달받은 모든 값들의 합을 계산해 리턴\"\"\"\n",
        "    total = 0\n",
        "    for x in values:\n",
        "        total += x\n",
        "    \n",
        "    return total"
      ],
      "execution_count": 35,
      "outputs": []
    },
    {
      "cell_type": "code",
      "metadata": {
        "colab": {
          "base_uri": "https://localhost:8080/"
        },
        "id": "S8icM9oQtwVm",
        "outputId": "e3732aa2-40be-4ff9-bd4f-1b000c155b8f"
      },
      "source": [
        "add_all()  # argument 0개"
      ],
      "execution_count": 36,
      "outputs": [
        {
          "output_type": "execute_result",
          "data": {
            "text/plain": [
              "0"
            ]
          },
          "metadata": {
            "tags": []
          },
          "execution_count": 36
        }
      ]
    },
    {
      "cell_type": "code",
      "metadata": {
        "colab": {
          "base_uri": "https://localhost:8080/"
        },
        "id": "p1tff-yutyk1",
        "outputId": "acf7ca53-796f-4bb3-fa3e-56f342da6c65"
      },
      "source": [
        "add_all(1)  # argument 1개"
      ],
      "execution_count": 37,
      "outputs": [
        {
          "output_type": "execute_result",
          "data": {
            "text/plain": [
              "1"
            ]
          },
          "metadata": {
            "tags": []
          },
          "execution_count": 37
        }
      ]
    },
    {
      "cell_type": "code",
      "metadata": {
        "colab": {
          "base_uri": "https://localhost:8080/"
        },
        "id": "6QJdzl8Et5it",
        "outputId": "79b6d2ef-88cd-45b7-cb14-43e13eca0f23"
      },
      "source": [
        "add_all(1, 2, 3, 4, 5)  # argument 5개"
      ],
      "execution_count": 38,
      "outputs": [
        {
          "output_type": "execute_result",
          "data": {
            "text/plain": [
              "15"
            ]
          },
          "metadata": {
            "tags": []
          },
          "execution_count": 38
        }
      ]
    },
    {
      "cell_type": "code",
      "metadata": {
        "id": "CWpq6WI5t90e"
      },
      "source": [
        "def fn_test(a, *b):\n",
        "    print('a =', a)\n",
        "    print('b =', b)"
      ],
      "execution_count": 39,
      "outputs": []
    },
    {
      "cell_type": "code",
      "metadata": {
        "colab": {
          "base_uri": "https://localhost:8080/"
        },
        "id": "5-8vv1kIxzgH",
        "outputId": "d6561b36-f391-4797-a974-800fc6b1dca9"
      },
      "source": [
        "fn_test(123)  #> 에러 없이 실행됨 - 가변길이 인수는 값이 하나도 없어도 됨."
      ],
      "execution_count": 40,
      "outputs": [
        {
          "output_type": "stream",
          "text": [
            "a = 123\n",
            "b = ()\n"
          ],
          "name": "stdout"
        }
      ]
    },
    {
      "cell_type": "code",
      "metadata": {
        "colab": {
          "base_uri": "https://localhost:8080/",
          "height": 180
        },
        "id": "nhvCRkXiyO4u",
        "outputId": "6a24412f-1528-4129-eda4-0886972fa708"
      },
      "source": [
        "fn_test()  #> 에러 발생 - 파라미터 a에는 반드시 값(argument)가 전달되어야 하기 때문에."
      ],
      "execution_count": 41,
      "outputs": [
        {
          "output_type": "error",
          "ename": "TypeError",
          "evalue": "ignored",
          "traceback": [
            "\u001b[0;31m---------------------------------------------------------------------------\u001b[0m",
            "\u001b[0;31mTypeError\u001b[0m                                 Traceback (most recent call last)",
            "\u001b[0;32m<ipython-input-41-52ee25cfc319>\u001b[0m in \u001b[0;36m<module>\u001b[0;34m()\u001b[0m\n\u001b[0;32m----> 1\u001b[0;31m \u001b[0mfn_test\u001b[0m\u001b[0;34m(\u001b[0m\u001b[0;34m)\u001b[0m\u001b[0;34m\u001b[0m\u001b[0;34m\u001b[0m\u001b[0m\n\u001b[0m",
            "\u001b[0;31mTypeError\u001b[0m: fn_test() missing 1 required positional argument: 'a'"
          ]
        }
      ]
    },
    {
      "cell_type": "code",
      "metadata": {
        "colab": {
          "base_uri": "https://localhost:8080/"
        },
        "id": "shizTEchyyfW",
        "outputId": "bec576c4-2821-4b05-d7ec-f18bf101b530"
      },
      "source": [
        "fn_test(1, 2, 3)"
      ],
      "execution_count": 42,
      "outputs": [
        {
          "output_type": "stream",
          "text": [
            "a = 1\n",
            "b = (2, 3)\n"
          ],
          "name": "stdout"
        }
      ]
    }
  ]
}
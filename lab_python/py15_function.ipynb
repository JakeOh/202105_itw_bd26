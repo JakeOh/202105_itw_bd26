{
  "nbformat": 4,
  "nbformat_minor": 0,
  "metadata": {
    "colab": {
      "name": "py15_function.ipynb",
      "provenance": [],
      "collapsed_sections": [],
      "authorship_tag": "ABX9TyOfl+zRHHuW42murKLzd+b7",
      "include_colab_link": true
    },
    "kernelspec": {
      "name": "python3",
      "display_name": "Python 3"
    },
    "language_info": {
      "name": "python"
    }
  },
  "cells": [
    {
      "cell_type": "markdown",
      "metadata": {
        "id": "view-in-github",
        "colab_type": "text"
      },
      "source": [
        "<a href=\"https://colab.research.google.com/github/JakeOh/202105_itw_bd26/blob/main/lab_python/py15_function.ipynb\" target=\"_parent\"><img src=\"https://colab.research.google.com/assets/colab-badge.svg\" alt=\"Open In Colab\"/></a>"
      ]
    },
    {
      "cell_type": "markdown",
      "metadata": {
        "id": "kCNft7xddd9K"
      },
      "source": [
        "# Default argument"
      ]
    },
    {
      "cell_type": "markdown",
      "metadata": {
        "id": "ToXsYE_QdlIY"
      },
      "source": [
        "default argument(기본 인수)\n",
        "\n",
        "*   함수를 정의(선언)할 때, parameter에 설정된 기본값.\n",
        "    *   default parameter(기본 매개변수): default argument가 설정된 파라미터\n",
        "*   함수를 호출할 때 default argument를 가지고 있는 parameter에 값을 전달하지 않으면, default argument가 사용됨.\n",
        "*   함수를 호출할 때 default argument를 가지고 있는 parameter에 값을 전달하면, default argument는 무시되고, 전달된 값(argument)가 사용됨. "
      ]
    },
    {
      "cell_type": "code",
      "metadata": {
        "id": "6lZaPzXodRow"
      },
      "source": [
        "def repeat_message(message, n=1):\n",
        "    for _ in range(n):\n",
        "        print(message)"
      ],
      "execution_count": null,
      "outputs": []
    },
    {
      "cell_type": "code",
      "metadata": {
        "colab": {
          "base_uri": "https://localhost:8080/"
        },
        "id": "CetUrZf1e43M",
        "outputId": "fb67ae3d-1690-4300-cb21-7f43b26f01bb"
      },
      "source": [
        "repeat_message('Hello')"
      ],
      "execution_count": null,
      "outputs": [
        {
          "output_type": "stream",
          "text": [
            "Hello\n"
          ],
          "name": "stdout"
        }
      ]
    },
    {
      "cell_type": "code",
      "metadata": {
        "colab": {
          "base_uri": "https://localhost:8080/"
        },
        "id": "p6z21fbPf9Ti",
        "outputId": "1c0cb43c-26a6-4006-8b78-1850f4aad173"
      },
      "source": [
        "repeat_message('Hello', 5)"
      ],
      "execution_count": null,
      "outputs": [
        {
          "output_type": "stream",
          "text": [
            "Hello\n",
            "Hello\n",
            "Hello\n",
            "Hello\n",
            "Hello\n"
          ],
          "name": "stdout"
        }
      ]
    },
    {
      "cell_type": "markdown",
      "metadata": {
        "id": "NdXHONfog36Z"
      },
      "source": [
        "**(주의)**\n",
        "\n",
        "함수를 정의할 때, default parameter들은 ***반드시*** default 값을 갖지 않는 파라미터들 뒤에 선언해야 함!\n"
      ]
    },
    {
      "cell_type": "code",
      "metadata": {
        "id": "6W-yuBwbgdsC"
      },
      "source": [
        "def test(x, y=1):\n",
        "    return x * y"
      ],
      "execution_count": null,
      "outputs": []
    },
    {
      "cell_type": "code",
      "metadata": {
        "colab": {
          "base_uri": "https://localhost:8080/",
          "height": 143
        },
        "id": "-gPhab0lhpeV",
        "outputId": "f4d06e2c-9364-4826-adf2-5780a55e2147"
      },
      "source": [
        "def test2(x=1, y):\n",
        "    return x * y\n",
        "#> SyntaxError - 문법에 맞지 않음."
      ],
      "execution_count": null,
      "outputs": [
        {
          "output_type": "error",
          "ename": "SyntaxError",
          "evalue": "ignored",
          "traceback": [
            "\u001b[0;36m  File \u001b[0;32m\"<ipython-input-7-3aa6da9f7bcd>\"\u001b[0;36m, line \u001b[0;32m1\u001b[0m\n\u001b[0;31m    def test2(x=1, y):\u001b[0m\n\u001b[0m             ^\u001b[0m\n\u001b[0;31mSyntaxError\u001b[0m\u001b[0;31m:\u001b[0m non-default argument follows default argument\n"
          ]
        }
      ]
    },
    {
      "cell_type": "markdown",
      "metadata": {
        "id": "7v4Z20aJiWy5"
      },
      "source": [
        "# argument 전달 방법"
      ]
    },
    {
      "cell_type": "markdown",
      "metadata": {
        "id": "0uQV4KyUipAu"
      },
      "source": [
        "함수를 호출할 때, 값(argument)를 전달하는 방법:\n",
        "\n",
        "*   **positional argument**: 함수에 정의된 파라미터 순서대로 값(argument)을 전달하는 방식.\n",
        "*   **keyword argument**: `param_name=value`와 같은 형식으로 값(argument)을 전달하는 방식.\n",
        "    *   keyword argument 방식으로 값(argument)를 전달할 때는 함수에 정의된 파라미터의 순서를 지키지 않아도 괜찮음.\n",
        "*   함수를 호출할 때 positional argument와 keyword argument를 함께 사용하는 경우에는, keyword argument들은 ***반드시*** positional argument들 뒤에 와야 함!\n"
      ]
    },
    {
      "cell_type": "code",
      "metadata": {
        "id": "4hWHKMbVjzd6"
      },
      "source": [
        "def minus(x, y):\n",
        "    return x - y"
      ],
      "execution_count": null,
      "outputs": []
    },
    {
      "cell_type": "code",
      "metadata": {
        "colab": {
          "base_uri": "https://localhost:8080/"
        },
        "id": "Rcfky4Inj6_W",
        "outputId": "7c436e7c-0872-45cb-f040-8bea6f97fa31"
      },
      "source": [
        "# positional argument 방식의 함수 호출\n",
        "minus(1, 2)"
      ],
      "execution_count": null,
      "outputs": [
        {
          "output_type": "execute_result",
          "data": {
            "text/plain": [
              "-1"
            ]
          },
          "metadata": {
            "tags": []
          },
          "execution_count": 9
        }
      ]
    },
    {
      "cell_type": "code",
      "metadata": {
        "colab": {
          "base_uri": "https://localhost:8080/"
        },
        "id": "cqCrRJNJkOyW",
        "outputId": "037e0269-1b97-4f42-f56e-6381e3dc69ce"
      },
      "source": [
        "# keyword argument 방식의 함수 호출\n",
        "minus(x=1, y=2)"
      ],
      "execution_count": null,
      "outputs": [
        {
          "output_type": "execute_result",
          "data": {
            "text/plain": [
              "-1"
            ]
          },
          "metadata": {
            "tags": []
          },
          "execution_count": 10
        }
      ]
    },
    {
      "cell_type": "code",
      "metadata": {
        "colab": {
          "base_uri": "https://localhost:8080/"
        },
        "id": "WGs-F9Gkk2Wr",
        "outputId": "92773ffa-a884-48cc-8dcf-48980c241c2f"
      },
      "source": [
        "# keyword argument 방식의 함수 호출인 경우는 parameter가 선언된 순서를 지키지 않아도 됨.\n",
        "minus(y=1, x=2)"
      ],
      "execution_count": null,
      "outputs": [
        {
          "output_type": "execute_result",
          "data": {
            "text/plain": [
              "1"
            ]
          },
          "metadata": {
            "tags": []
          },
          "execution_count": 11
        }
      ]
    },
    {
      "cell_type": "code",
      "metadata": {
        "colab": {
          "base_uri": "https://localhost:8080/"
        },
        "id": "Q-kp-Rjdlc8q",
        "outputId": "ce239ace-7cd3-48db-8609-c730fcc37cfc"
      },
      "source": [
        "# positional argument와 keyword argument를 혼용한 함수 호출\n",
        "minus(10, y=20)"
      ],
      "execution_count": null,
      "outputs": [
        {
          "output_type": "execute_result",
          "data": {
            "text/plain": [
              "-10"
            ]
          },
          "metadata": {
            "tags": []
          },
          "execution_count": 12
        }
      ]
    },
    {
      "cell_type": "code",
      "metadata": {
        "colab": {
          "base_uri": "https://localhost:8080/",
          "height": 143
        },
        "id": "0uQyfLgOmDVr",
        "outputId": "b4736f7e-d31d-4852-b968-afdcda4b3917"
      },
      "source": [
        "minus(x=10, 20)\n",
        "#> SyntaxError\n",
        "# keyword argument들은 반드시 positional argument들 뒤에 위치해야 함!"
      ],
      "execution_count": null,
      "outputs": [
        {
          "output_type": "error",
          "ename": "SyntaxError",
          "evalue": "ignored",
          "traceback": [
            "\u001b[0;36m  File \u001b[0;32m\"<ipython-input-13-89d4c524ed6d>\"\u001b[0;36m, line \u001b[0;32m1\u001b[0m\n\u001b[0;31m    minus(x=10, 20)\u001b[0m\n\u001b[0m               ^\u001b[0m\n\u001b[0;31mSyntaxError\u001b[0m\u001b[0;31m:\u001b[0m positional argument follows keyword argument\n"
          ]
        }
      ]
    },
    {
      "cell_type": "markdown",
      "metadata": {
        "id": "nXWJweYRqYst"
      },
      "source": [
        "# 가변길이 인수(variable-length arguments)"
      ]
    },
    {
      "cell_type": "code",
      "metadata": {
        "colab": {
          "base_uri": "https://localhost:8080/"
        },
        "id": "38HYuMldqog0",
        "outputId": "e9c821c3-d7f7-416d-94ef-3e4b8fed180f"
      },
      "source": [
        "print('안녕하세요')  # argument 1개"
      ],
      "execution_count": null,
      "outputs": [
        {
          "output_type": "stream",
          "text": [
            "안녕하세요\n"
          ],
          "name": "stdout"
        }
      ]
    },
    {
      "cell_type": "code",
      "metadata": {
        "colab": {
          "base_uri": "https://localhost:8080/"
        },
        "id": "5AA1L6cXqwdf",
        "outputId": "81b9a373-3d92-43fd-c9f5-ca366ebc63b5"
      },
      "source": [
        "print('안녕하세요', 'hello')  # argument 2개"
      ],
      "execution_count": null,
      "outputs": [
        {
          "output_type": "stream",
          "text": [
            "안녕하세요 hello\n"
          ],
          "name": "stdout"
        }
      ]
    },
    {
      "cell_type": "code",
      "metadata": {
        "colab": {
          "base_uri": "https://localhost:8080/"
        },
        "id": "loL8ohKvrBSE",
        "outputId": "ec332f92-5702-432a-9e76-e499127749be"
      },
      "source": [
        "max(1, 10, 5)  # argument 3개"
      ],
      "execution_count": null,
      "outputs": [
        {
          "output_type": "execute_result",
          "data": {
            "text/plain": [
              "10"
            ]
          },
          "metadata": {
            "tags": []
          },
          "execution_count": 16
        }
      ]
    },
    {
      "cell_type": "code",
      "metadata": {
        "colab": {
          "base_uri": "https://localhost:8080/"
        },
        "id": "pPrjIlyOrtel",
        "outputId": "48664c6b-d2ef-407d-dab7-e7575954dc61"
      },
      "source": [
        "max(1, 10, 100, 2, 20, 3, 30)  # argument 7개"
      ],
      "execution_count": null,
      "outputs": [
        {
          "output_type": "execute_result",
          "data": {
            "text/plain": [
              "100"
            ]
          },
          "metadata": {
            "tags": []
          },
          "execution_count": 17
        }
      ]
    },
    {
      "cell_type": "markdown",
      "metadata": {
        "id": "oT8eAOIEsGId"
      },
      "source": [
        "**가변길이 인수(variable-length, arbitrary-length argument)**\n",
        "\n",
        "*   함수를 호출할 때 전달하는 값(argument)의 개수가 임의로 변할 수 있는 것. argument 개수의 제한이 없음.\n",
        "*   함수를 정의(선언)할 때, 파라미터 앞에 `*`를 쓰면 가변길이 인수를 전달받는 파라미터가 됨.\n",
        "*   함수 내부에서 가변길이 인수는 tuple로 간주함.\n",
        "    *   가변길이 인수는 인덱스를 사용할 수 있음.\n",
        "    *   가변길이 인수는 for-in 구문에서 사용할 수 있음.\n",
        "*   가변길이 인수는 keyword argument 방식으로 전달할 수 없음!\n",
        "*   함수를 선언할 때, 가변길이 인수를 갖는 파라미터는 **하나**만 선언할 수 있음"
      ]
    },
    {
      "cell_type": "code",
      "metadata": {
        "id": "1oNFuvItr16b"
      },
      "source": [
        "def add_all(*values):\n",
        "    \"\"\"전달받은 모든 값들의 합을 계산해 리턴\"\"\"\n",
        "    total = 0\n",
        "    for x in values:\n",
        "        total += x\n",
        "    \n",
        "    return total"
      ],
      "execution_count": null,
      "outputs": []
    },
    {
      "cell_type": "code",
      "metadata": {
        "colab": {
          "base_uri": "https://localhost:8080/"
        },
        "id": "S8icM9oQtwVm",
        "outputId": "e3732aa2-40be-4ff9-bd4f-1b000c155b8f"
      },
      "source": [
        "add_all()  # argument 0개"
      ],
      "execution_count": null,
      "outputs": [
        {
          "output_type": "execute_result",
          "data": {
            "text/plain": [
              "0"
            ]
          },
          "metadata": {
            "tags": []
          },
          "execution_count": 36
        }
      ]
    },
    {
      "cell_type": "code",
      "metadata": {
        "colab": {
          "base_uri": "https://localhost:8080/"
        },
        "id": "p1tff-yutyk1",
        "outputId": "acf7ca53-796f-4bb3-fa3e-56f342da6c65"
      },
      "source": [
        "add_all(1)  # argument 1개"
      ],
      "execution_count": null,
      "outputs": [
        {
          "output_type": "execute_result",
          "data": {
            "text/plain": [
              "1"
            ]
          },
          "metadata": {
            "tags": []
          },
          "execution_count": 37
        }
      ]
    },
    {
      "cell_type": "code",
      "metadata": {
        "colab": {
          "base_uri": "https://localhost:8080/"
        },
        "id": "6QJdzl8Et5it",
        "outputId": "79b6d2ef-88cd-45b7-cb14-43e13eca0f23"
      },
      "source": [
        "add_all(1, 2, 3, 4, 5)  # argument 5개"
      ],
      "execution_count": null,
      "outputs": [
        {
          "output_type": "execute_result",
          "data": {
            "text/plain": [
              "15"
            ]
          },
          "metadata": {
            "tags": []
          },
          "execution_count": 38
        }
      ]
    },
    {
      "cell_type": "code",
      "metadata": {
        "id": "CWpq6WI5t90e"
      },
      "source": [
        "def fn_test(a, *b):\n",
        "    print('a =', a)\n",
        "    print('b =', b)"
      ],
      "execution_count": null,
      "outputs": []
    },
    {
      "cell_type": "code",
      "metadata": {
        "colab": {
          "base_uri": "https://localhost:8080/"
        },
        "id": "5-8vv1kIxzgH",
        "outputId": "d6561b36-f391-4797-a974-800fc6b1dca9"
      },
      "source": [
        "fn_test(123)  #> 에러 없이 실행됨 - 가변길이 인수는 값이 하나도 없어도 됨."
      ],
      "execution_count": null,
      "outputs": [
        {
          "output_type": "stream",
          "text": [
            "a = 123\n",
            "b = ()\n"
          ],
          "name": "stdout"
        }
      ]
    },
    {
      "cell_type": "code",
      "metadata": {
        "colab": {
          "base_uri": "https://localhost:8080/",
          "height": 180
        },
        "id": "nhvCRkXiyO4u",
        "outputId": "6a24412f-1528-4129-eda4-0886972fa708"
      },
      "source": [
        "fn_test()  #> 에러 발생 - 파라미터 a에는 반드시 값(argument)가 전달되어야 하기 때문에."
      ],
      "execution_count": null,
      "outputs": [
        {
          "output_type": "error",
          "ename": "TypeError",
          "evalue": "ignored",
          "traceback": [
            "\u001b[0;31m---------------------------------------------------------------------------\u001b[0m",
            "\u001b[0;31mTypeError\u001b[0m                                 Traceback (most recent call last)",
            "\u001b[0;32m<ipython-input-41-52ee25cfc319>\u001b[0m in \u001b[0;36m<module>\u001b[0;34m()\u001b[0m\n\u001b[0;32m----> 1\u001b[0;31m \u001b[0mfn_test\u001b[0m\u001b[0;34m(\u001b[0m\u001b[0;34m)\u001b[0m\u001b[0;34m\u001b[0m\u001b[0;34m\u001b[0m\u001b[0m\n\u001b[0m",
            "\u001b[0;31mTypeError\u001b[0m: fn_test() missing 1 required positional argument: 'a'"
          ]
        }
      ]
    },
    {
      "cell_type": "code",
      "metadata": {
        "colab": {
          "base_uri": "https://localhost:8080/"
        },
        "id": "shizTEchyyfW",
        "outputId": "bec576c4-2821-4b05-d7ec-f18bf101b530"
      },
      "source": [
        "fn_test(1, 2, 3)"
      ],
      "execution_count": null,
      "outputs": [
        {
          "output_type": "stream",
          "text": [
            "a = 1\n",
            "b = (2, 3)\n"
          ],
          "name": "stdout"
        }
      ]
    },
    {
      "cell_type": "code",
      "metadata": {
        "colab": {
          "base_uri": "https://localhost:8080/",
          "height": 180
        },
        "id": "nUL-nsxe4bVH",
        "outputId": "397f1123-a2a7-4500-9815-29d6836d9d12"
      },
      "source": [
        "fn_test(1, b=(2, 3))\n",
        "#> 에러 발생 - 가변길이 인수는 키워드 방식으로 값을 전달할 수 없기 때문에"
      ],
      "execution_count": null,
      "outputs": [
        {
          "output_type": "error",
          "ename": "TypeError",
          "evalue": "ignored",
          "traceback": [
            "\u001b[0;31m---------------------------------------------------------------------------\u001b[0m",
            "\u001b[0;31mTypeError\u001b[0m                                 Traceback (most recent call last)",
            "\u001b[0;32m<ipython-input-46-6d9f00875141>\u001b[0m in \u001b[0;36m<module>\u001b[0;34m()\u001b[0m\n\u001b[0;32m----> 1\u001b[0;31m \u001b[0mfn_test\u001b[0m\u001b[0;34m(\u001b[0m\u001b[0;36m1\u001b[0m\u001b[0;34m,\u001b[0m \u001b[0mb\u001b[0m\u001b[0;34m=\u001b[0m\u001b[0;34m(\u001b[0m\u001b[0;36m2\u001b[0m\u001b[0;34m,\u001b[0m \u001b[0;36m3\u001b[0m\u001b[0;34m)\u001b[0m\u001b[0;34m)\u001b[0m\u001b[0;34m\u001b[0m\u001b[0;34m\u001b[0m\u001b[0m\n\u001b[0m",
            "\u001b[0;31mTypeError\u001b[0m: fn_test() got an unexpected keyword argument 'b'"
          ]
        }
      ]
    },
    {
      "cell_type": "code",
      "metadata": {
        "colab": {
          "base_uri": "https://localhost:8080/",
          "height": 143
        },
        "id": "Cq0tVsYB4bMg",
        "outputId": "997eb5f9-5783-43a9-e9c5-22d146344ff0"
      },
      "source": [
        "fn_test(a=1, 2, 3, 4, 5)\n",
        "#> 문법 오류: keyword argument가 positional argument보다 먼저 사용될 수는 없다!"
      ],
      "execution_count": null,
      "outputs": [
        {
          "output_type": "error",
          "ename": "SyntaxError",
          "evalue": "ignored",
          "traceback": [
            "\u001b[0;36m  File \u001b[0;32m\"<ipython-input-49-bec06f4d8f64>\"\u001b[0;36m, line \u001b[0;32m1\u001b[0m\n\u001b[0;31m    fn_test(a=1, 2, 3, 4, 5)\u001b[0m\n\u001b[0m                ^\u001b[0m\n\u001b[0;31mSyntaxError\u001b[0m\u001b[0;31m:\u001b[0m positional argument follows keyword argument\n"
          ]
        }
      ]
    },
    {
      "cell_type": "code",
      "metadata": {
        "colab": {
          "base_uri": "https://localhost:8080/",
          "height": 143
        },
        "id": "aoBF1dKX50eS",
        "outputId": "0a81f59a-89cd-4ddb-f5b0-de5dd1b14f49"
      },
      "source": [
        "# 가변길이 파라미터는 하나만 선언할 수 있음.\n",
        "def test(*x, *y):\n",
        "    pass"
      ],
      "execution_count": null,
      "outputs": [
        {
          "output_type": "error",
          "ename": "SyntaxError",
          "evalue": "ignored",
          "traceback": [
            "\u001b[0;36m  File \u001b[0;32m\"<ipython-input-50-12eb610998e0>\"\u001b[0;36m, line \u001b[0;32m2\u001b[0m\n\u001b[0;31m    def test(*x, *y):\u001b[0m\n\u001b[0m                 ^\u001b[0m\n\u001b[0;31mSyntaxError\u001b[0m\u001b[0;31m:\u001b[0m invalid syntax\n"
          ]
        }
      ]
    },
    {
      "cell_type": "code",
      "metadata": {
        "id": "61jHo1jV7OR6"
      },
      "source": [
        "def fn_test2(*a, b):\n",
        "    print('a =', a)\n",
        "    print('b =', b)"
      ],
      "execution_count": null,
      "outputs": []
    },
    {
      "cell_type": "code",
      "metadata": {
        "colab": {
          "base_uri": "https://localhost:8080/",
          "height": 180
        },
        "id": "Uua2w8pN77mB",
        "outputId": "d401428d-bfcc-4df6-989b-d9eeba8e3d3a"
      },
      "source": [
        "fn_test2(1, 2, 3, 4, 5)"
      ],
      "execution_count": null,
      "outputs": [
        {
          "output_type": "error",
          "ename": "TypeError",
          "evalue": "ignored",
          "traceback": [
            "\u001b[0;31m---------------------------------------------------------------------------\u001b[0m",
            "\u001b[0;31mTypeError\u001b[0m                                 Traceback (most recent call last)",
            "\u001b[0;32m<ipython-input-52-415b2aff1557>\u001b[0m in \u001b[0;36m<module>\u001b[0;34m()\u001b[0m\n\u001b[0;32m----> 1\u001b[0;31m \u001b[0mfn_test2\u001b[0m\u001b[0;34m(\u001b[0m\u001b[0;36m1\u001b[0m\u001b[0;34m,\u001b[0m \u001b[0;36m2\u001b[0m\u001b[0;34m,\u001b[0m \u001b[0;36m3\u001b[0m\u001b[0;34m,\u001b[0m \u001b[0;36m4\u001b[0m\u001b[0;34m,\u001b[0m \u001b[0;36m5\u001b[0m\u001b[0;34m)\u001b[0m\u001b[0;34m\u001b[0m\u001b[0;34m\u001b[0m\u001b[0m\n\u001b[0m",
            "\u001b[0;31mTypeError\u001b[0m: fn_test2() missing 1 required keyword-only argument: 'b'"
          ]
        }
      ]
    },
    {
      "cell_type": "code",
      "metadata": {
        "colab": {
          "base_uri": "https://localhost:8080/"
        },
        "id": "yAbcLcl58k9a",
        "outputId": "a3fa2cda-6b14-4e47-dc48-3a41ec8f4e24"
      },
      "source": [
        "fn_test2(1, 2, 3, 4, b=5)  # 파라미터 b에 값을 전달하려면 keyword 방식만 가능"
      ],
      "execution_count": null,
      "outputs": [
        {
          "output_type": "stream",
          "text": [
            "a = (1, 2, 3, 4)\n",
            "b = 5\n"
          ],
          "name": "stdout"
        }
      ]
    },
    {
      "cell_type": "code",
      "metadata": {
        "colab": {
          "base_uri": "https://localhost:8080/"
        },
        "id": "G1wBXdiX8_5P",
        "outputId": "81475f97-2095-4303-a194-c90df7eac68a"
      },
      "source": [
        "print('a', 'b', 'c', '::')"
      ],
      "execution_count": null,
      "outputs": [
        {
          "output_type": "stream",
          "text": [
            "a b c ::\n"
          ],
          "name": "stdout"
        }
      ]
    },
    {
      "cell_type": "code",
      "metadata": {
        "colab": {
          "base_uri": "https://localhost:8080/"
        },
        "id": "1AiFThrZ9Ttd",
        "outputId": "b810277d-b896-4855-a57b-9f157bd1f182"
      },
      "source": [
        "print('a', 'b', 'c', sep='::')  # keyword-only argument"
      ],
      "execution_count": null,
      "outputs": [
        {
          "output_type": "stream",
          "text": [
            "a::b::c\n"
          ],
          "name": "stdout"
        }
      ]
    },
    {
      "cell_type": "code",
      "metadata": {
        "id": "qP_fgyJQ9-VX"
      },
      "source": [
        "def repeat_messages(*messages, n=1):\n",
        "    for _ in range(n):  # n번 반복\n",
        "        for i, m in enumerate(messages):\n",
        "            print(f'[{i + 1}] {m}')\n",
        "        print()  # 빈 줄 출력"
      ],
      "execution_count": null,
      "outputs": []
    },
    {
      "cell_type": "code",
      "metadata": {
        "colab": {
          "base_uri": "https://localhost:8080/"
        },
        "id": "_jDSuaPO_A7u",
        "outputId": "c1ebb784-65df-452c-fb8e-69c7a65a8e0d"
      },
      "source": [
        "repeat_messages('안녕')"
      ],
      "execution_count": null,
      "outputs": [
        {
          "output_type": "stream",
          "text": [
            "[1] 안녕\n",
            "\n"
          ],
          "name": "stdout"
        }
      ]
    },
    {
      "cell_type": "code",
      "metadata": {
        "colab": {
          "base_uri": "https://localhost:8080/"
        },
        "id": "zb_r9rXq_sXa",
        "outputId": "270bd7ed-b99e-4838-98d5-37aac2ff4cd2"
      },
      "source": [
        "repeat_messages('안녕', 3)"
      ],
      "execution_count": null,
      "outputs": [
        {
          "output_type": "stream",
          "text": [
            "[1] 안녕\n",
            "[2] 3\n",
            "\n"
          ],
          "name": "stdout"
        }
      ]
    },
    {
      "cell_type": "code",
      "metadata": {
        "colab": {
          "base_uri": "https://localhost:8080/"
        },
        "id": "-AeUOGgxAYcz",
        "outputId": "d3164bde-aaf8-4d84-d82e-1d65d4a6eed1"
      },
      "source": [
        "repeat_messages('안녕', n=3)"
      ],
      "execution_count": null,
      "outputs": [
        {
          "output_type": "stream",
          "text": [
            "[1] 안녕\n",
            "\n",
            "[1] 안녕\n",
            "\n",
            "[1] 안녕\n",
            "\n"
          ],
          "name": "stdout"
        }
      ]
    },
    {
      "cell_type": "code",
      "metadata": {
        "colab": {
          "base_uri": "https://localhost:8080/"
        },
        "id": "fdsA6LA4BCGS",
        "outputId": "f9a9d3f1-b5d3-4795-f8ef-995ca62c47ca"
      },
      "source": [
        "repeat_messages('안녕', 'hello', 5, n=2)"
      ],
      "execution_count": null,
      "outputs": [
        {
          "output_type": "stream",
          "text": [
            "[1] 안녕\n",
            "[2] hello\n",
            "[3] 5\n",
            "\n",
            "[1] 안녕\n",
            "[2] hello\n",
            "[3] 5\n",
            "\n"
          ],
          "name": "stdout"
        }
      ]
    },
    {
      "cell_type": "code",
      "metadata": {
        "id": "iXEnhQHRBzNT"
      },
      "source": [
        "def calculate(*values, op):\n",
        "    \"\"\"\n",
        "    values: 임의의 개수의 숫자들.\n",
        "    op: 문자열 '+', 또는 '*'\n",
        "    op가 '+'인 경우에는, values들의 합을 리턴.\n",
        "    op가 '*'인 경우에는, values들의 곱을 리턴.\n",
        "    op가 '+'나 '*'가 아닌 경우에는 ValueError를 발생.\n",
        "    \"\"\"\n",
        "    if op == '+':\n",
        "        result = 0\n",
        "        for x in values:\n",
        "            result += x  # result = result + x\n",
        "    elif op == '*':\n",
        "        result = 1\n",
        "        for x in values:\n",
        "            result *= x  # result = result * x\n",
        "    else:\n",
        "        raise ValueError('op는 + 또는 *만 가능합니다!')\n",
        "\n",
        "    return result"
      ],
      "execution_count": 5,
      "outputs": []
    },
    {
      "cell_type": "code",
      "metadata": {
        "id": "GCG7R3EyCP7V",
        "colab": {
          "base_uri": "https://localhost:8080/"
        },
        "outputId": "54e556c1-c08f-471d-b0a7-65f636547b88"
      },
      "source": [
        "calculate(1, 2, 3, 4, 5, op='+')  #> 15"
      ],
      "execution_count": 6,
      "outputs": [
        {
          "output_type": "execute_result",
          "data": {
            "text/plain": [
              "15"
            ]
          },
          "metadata": {
            "tags": []
          },
          "execution_count": 6
        }
      ]
    },
    {
      "cell_type": "code",
      "metadata": {
        "id": "x2o0m8jgCYs-",
        "colab": {
          "base_uri": "https://localhost:8080/"
        },
        "outputId": "a2212e40-9088-49d3-cec8-34933d86dabb"
      },
      "source": [
        "calculate(1, 2, 3, 4, 5, op='*')  #> 120"
      ],
      "execution_count": 7,
      "outputs": [
        {
          "output_type": "execute_result",
          "data": {
            "text/plain": [
              "120"
            ]
          },
          "metadata": {
            "tags": []
          },
          "execution_count": 7
        }
      ]
    },
    {
      "cell_type": "code",
      "metadata": {
        "id": "b7MD0I4SCgFM",
        "colab": {
          "base_uri": "https://localhost:8080/",
          "height": 311
        },
        "outputId": "039aff64-053c-4f27-f239-eb49c6027092"
      },
      "source": [
        "calculate(1, 2, 3, 4, 5, op='%')  #> ValueError"
      ],
      "execution_count": 8,
      "outputs": [
        {
          "output_type": "error",
          "ename": "ValueError",
          "evalue": "ignored",
          "traceback": [
            "\u001b[0;31m---------------------------------------------------------------------------\u001b[0m",
            "\u001b[0;31mValueError\u001b[0m                                Traceback (most recent call last)",
            "\u001b[0;32m<ipython-input-8-e292973469c9>\u001b[0m in \u001b[0;36m<module>\u001b[0;34m()\u001b[0m\n\u001b[0;32m----> 1\u001b[0;31m \u001b[0mcalculate\u001b[0m\u001b[0;34m(\u001b[0m\u001b[0;36m1\u001b[0m\u001b[0;34m,\u001b[0m \u001b[0;36m2\u001b[0m\u001b[0;34m,\u001b[0m \u001b[0;36m3\u001b[0m\u001b[0;34m,\u001b[0m \u001b[0;36m4\u001b[0m\u001b[0;34m,\u001b[0m \u001b[0;36m5\u001b[0m\u001b[0;34m,\u001b[0m \u001b[0mop\u001b[0m\u001b[0;34m=\u001b[0m\u001b[0;34m'%'\u001b[0m\u001b[0;34m)\u001b[0m  \u001b[0;31m#> ValueError\u001b[0m\u001b[0;34m\u001b[0m\u001b[0;34m\u001b[0m\u001b[0m\n\u001b[0m",
            "\u001b[0;32m<ipython-input-5-a905427ac845>\u001b[0m in \u001b[0;36mcalculate\u001b[0;34m(op, *values)\u001b[0m\n\u001b[1;32m     16\u001b[0m             \u001b[0mresult\u001b[0m \u001b[0;34m*=\u001b[0m \u001b[0mx\u001b[0m  \u001b[0;31m# result = result * x\u001b[0m\u001b[0;34m\u001b[0m\u001b[0;34m\u001b[0m\u001b[0m\n\u001b[1;32m     17\u001b[0m     \u001b[0;32melse\u001b[0m\u001b[0;34m:\u001b[0m\u001b[0;34m\u001b[0m\u001b[0;34m\u001b[0m\u001b[0m\n\u001b[0;32m---> 18\u001b[0;31m         \u001b[0;32mraise\u001b[0m \u001b[0mValueError\u001b[0m\u001b[0;34m(\u001b[0m\u001b[0;34m'op는 + 또는 *만 가능합니다!'\u001b[0m\u001b[0;34m)\u001b[0m\u001b[0;34m\u001b[0m\u001b[0;34m\u001b[0m\u001b[0m\n\u001b[0m\u001b[1;32m     19\u001b[0m \u001b[0;34m\u001b[0m\u001b[0m\n\u001b[1;32m     20\u001b[0m     \u001b[0;32mreturn\u001b[0m \u001b[0mresult\u001b[0m\u001b[0;34m\u001b[0m\u001b[0;34m\u001b[0m\u001b[0m\n",
            "\u001b[0;31mValueError\u001b[0m: op는 + 또는 *만 가능합니다!"
          ]
        }
      ]
    },
    {
      "cell_type": "code",
      "metadata": {
        "id": "GJifHGvurjQJ"
      },
      "source": [
        ""
      ],
      "execution_count": null,
      "outputs": []
    }
  ]
}
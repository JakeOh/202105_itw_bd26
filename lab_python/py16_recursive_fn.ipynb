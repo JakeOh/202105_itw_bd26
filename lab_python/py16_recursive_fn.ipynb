{
  "nbformat": 4,
  "nbformat_minor": 0,
  "metadata": {
    "colab": {
      "name": "py16_recursive_fn.ipynb",
      "provenance": [],
      "authorship_tag": "ABX9TyPTiVH63lhLU1wyafUD7C6i",
      "include_colab_link": true
    },
    "kernelspec": {
      "name": "python3",
      "display_name": "Python 3"
    },
    "language_info": {
      "name": "python"
    }
  },
  "cells": [
    {
      "cell_type": "markdown",
      "metadata": {
        "id": "view-in-github",
        "colab_type": "text"
      },
      "source": [
        "<a href=\"https://colab.research.google.com/github/JakeOh/202105_itw_bd26/blob/main/lab_python/py16_recursive_fn.ipynb\" target=\"_parent\"><img src=\"https://colab.research.google.com/assets/colab-badge.svg\" alt=\"Open In Colab\"/></a>"
      ]
    },
    {
      "cell_type": "markdown",
      "metadata": {
        "id": "LU_kiTucAFtA"
      },
      "source": [
        "**재귀 함수(recursive function)**:\n",
        "\n",
        "함수 내부에서 자기 자신을 다시 호출하는 함수"
      ]
    },
    {
      "cell_type": "code",
      "metadata": {
        "id": "7HwhnkA8_2C8"
      },
      "source": [
        "def factorial(n):\n",
        "    \"\"\"\n",
        "    0! = 1 (정의)\n",
        "    1! = 1 = 0! x 1\n",
        "    2! = 1 x 2 = 2 = 1! x 2\n",
        "    3! = 1 x 2 x 3 = 6 = 2! x 3\n",
        "    ...\n",
        "    n! = 1 x 2 x 3 x ... x (n-1) x n = (n-1)! x n, n >= 1\n",
        "    \"\"\"\n",
        "    result = None  # 변수 초기화\n",
        "    if n == 0:\n",
        "        result = 1  # 정의: 0! = 1\n",
        "    elif n > 0:\n",
        "        result = 1\n",
        "        for x in range(1, n+1):  # range(1, n+1) = (1, 2, ..., n-1, n)\n",
        "            result *= x\n",
        "\n",
        "    return result"
      ],
      "execution_count": 1,
      "outputs": []
    },
    {
      "cell_type": "code",
      "metadata": {
        "colab": {
          "base_uri": "https://localhost:8080/"
        },
        "id": "RTI_W0YEC-f5",
        "outputId": "881c4994-162e-439d-ca71-fbb82acdc021"
      },
      "source": [
        "for n in range(6):\n",
        "    print(factorial(n))"
      ],
      "execution_count": 4,
      "outputs": [
        {
          "output_type": "stream",
          "text": [
            "1\n",
            "1\n",
            "2\n",
            "6\n",
            "24\n",
            "120\n"
          ],
          "name": "stdout"
        }
      ]
    },
    {
      "cell_type": "code",
      "metadata": {
        "colab": {
          "base_uri": "https://localhost:8080/"
        },
        "id": "gqaBd1yZDBbA",
        "outputId": "c3e04864-c33e-4410-aa4c-9b0dd993fc6a"
      },
      "source": [
        "print(factorial(-1))"
      ],
      "execution_count": 6,
      "outputs": [
        {
          "output_type": "stream",
          "text": [
            "None\n"
          ],
          "name": "stdout"
        }
      ]
    },
    {
      "cell_type": "code",
      "metadata": {
        "id": "TfTVOxpFDjOn"
      },
      "source": [
        ""
      ],
      "execution_count": null,
      "outputs": []
    }
  ]
}
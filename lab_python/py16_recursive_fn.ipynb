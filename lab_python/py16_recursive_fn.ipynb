{
  "nbformat": 4,
  "nbformat_minor": 0,
  "metadata": {
    "colab": {
      "name": "py16_recursive_fn.ipynb",
      "provenance": [],
      "collapsed_sections": [],
      "authorship_tag": "ABX9TyO5D6lTPv/d1aWpIZKbSMGZ",
      "include_colab_link": true
    },
    "kernelspec": {
      "name": "python3",
      "display_name": "Python 3"
    },
    "language_info": {
      "name": "python"
    }
  },
  "cells": [
    {
      "cell_type": "markdown",
      "metadata": {
        "id": "view-in-github",
        "colab_type": "text"
      },
      "source": [
        "<a href=\"https://colab.research.google.com/github/JakeOh/202105_itw_bd26/blob/main/lab_python/py16_recursive_fn.ipynb\" target=\"_parent\"><img src=\"https://colab.research.google.com/assets/colab-badge.svg\" alt=\"Open In Colab\"/></a>"
      ]
    },
    {
      "cell_type": "markdown",
      "metadata": {
        "id": "LU_kiTucAFtA"
      },
      "source": [
        "**재귀 함수(recursive function)**:\n",
        "\n",
        "함수 내부에서 자기 자신을 다시 호출하는 함수"
      ]
    },
    {
      "cell_type": "code",
      "metadata": {
        "id": "7HwhnkA8_2C8"
      },
      "source": [
        "def factorial(n):\n",
        "    \"\"\"\n",
        "    0! = 1 (정의)\n",
        "    1! = 1 = 0! x 1\n",
        "    2! = 1 x 2 = 2 = 1! x 2\n",
        "    3! = 1 x 2 x 3 = 6 = 2! x 3\n",
        "    ...\n",
        "    n! = 1 x 2 x 3 x ... x (n-1) x n = (n-1)! x n, n >= 1\n",
        "    \"\"\"\n",
        "    result = None  # 변수 초기화\n",
        "    if n == 0:\n",
        "        result = 1  # 정의: 0! = 1\n",
        "    elif n > 0:\n",
        "        result = 1\n",
        "        for x in range(1, n+1):  # range(1, n+1) = (1, 2, ..., n-1, n)\n",
        "            result *= x\n",
        "\n",
        "    return result"
      ],
      "execution_count": 1,
      "outputs": []
    },
    {
      "cell_type": "code",
      "metadata": {
        "colab": {
          "base_uri": "https://localhost:8080/"
        },
        "id": "RTI_W0YEC-f5",
        "outputId": "881c4994-162e-439d-ca71-fbb82acdc021"
      },
      "source": [
        "for n in range(6):\n",
        "    print(factorial(n))"
      ],
      "execution_count": 4,
      "outputs": [
        {
          "output_type": "stream",
          "text": [
            "1\n",
            "1\n",
            "2\n",
            "6\n",
            "24\n",
            "120\n"
          ],
          "name": "stdout"
        }
      ]
    },
    {
      "cell_type": "code",
      "metadata": {
        "colab": {
          "base_uri": "https://localhost:8080/"
        },
        "id": "gqaBd1yZDBbA",
        "outputId": "c3e04864-c33e-4410-aa4c-9b0dd993fc6a"
      },
      "source": [
        "print(factorial(-1))"
      ],
      "execution_count": 6,
      "outputs": [
        {
          "output_type": "stream",
          "text": [
            "None\n"
          ],
          "name": "stdout"
        }
      ]
    },
    {
      "cell_type": "code",
      "metadata": {
        "id": "TfTVOxpFDjOn"
      },
      "source": [
        "def factorial2(n):\n",
        "    \"\"\"\n",
        "    0! = 1\n",
        "    n! = (n-1)! x n, n >= 1\n",
        "    \"\"\"\n",
        "    result = None\n",
        "    if n == 0:\n",
        "        result = 1\n",
        "    elif n > 0:\n",
        "        result = factorial2(n - 1) * n  # 재귀 호출(recursive call)\n",
        "\n",
        "    return result"
      ],
      "execution_count": 7,
      "outputs": []
    },
    {
      "cell_type": "code",
      "metadata": {
        "colab": {
          "base_uri": "https://localhost:8080/"
        },
        "id": "XYQbqOStY_kY",
        "outputId": "822476c5-c3fd-4f57-f4ff-941aab9d9dce"
      },
      "source": [
        "for n in range(-1, 6):\n",
        "    print(f'{n}! = {factorial2(n)}')"
      ],
      "execution_count": 8,
      "outputs": [
        {
          "output_type": "stream",
          "text": [
            "-1! = None\n",
            "0! = 1\n",
            "1! = 1\n",
            "2! = 2\n",
            "3! = 6\n",
            "4! = 24\n",
            "5! = 120\n"
          ],
          "name": "stdout"
        }
      ]
    },
    {
      "cell_type": "markdown",
      "metadata": {
        "id": "sh-jct4TccDu"
      },
      "source": [
        "# 함수 작성 연습"
      ]
    },
    {
      "cell_type": "markdown",
      "metadata": {
        "id": "3ncDA8NAcgwd"
      },
      "source": [
        "## Ex1.\n",
        "\n",
        "*   sum_to\n",
        "*   0부터 n까지의 합계를 리턴하는 함수\n",
        "    *    `0 + 1 + 2 + ... + (n - 1) + n`\n"
      ]
    },
    {
      "cell_type": "code",
      "metadata": {
        "id": "Rq60OVOldYVw"
      },
      "source": [
        "def sum_to(n):\n",
        "    if n >= 0:\n",
        "        result = n * (n + 1) / 2\n",
        "    else:\n",
        "        result = None\n",
        "\n",
        "    return result"
      ],
      "execution_count": 5,
      "outputs": []
    },
    {
      "cell_type": "code",
      "metadata": {
        "id": "-2lzrkZO5C59"
      },
      "source": [
        "def sum_to_2(n):\n",
        "    if n < 0:\n",
        "        result = None\n",
        "    else:\n",
        "        result = 0\n",
        "        for x in range(n + 1):\n",
        "            result += x\n",
        "\n",
        "    return result"
      ],
      "execution_count": 11,
      "outputs": []
    },
    {
      "cell_type": "code",
      "metadata": {
        "id": "b4bA90WD6830"
      },
      "source": [
        "def sum_to_3(n):\n",
        "    if n < 0:\n",
        "        result = None\n",
        "    else:\n",
        "        numbers = [x for x in range(n + 1)]  # 0 ~ n까지 정수들을 갖는 리스트\n",
        "        result = sum(numbers)\n",
        "\n",
        "    return result"
      ],
      "execution_count": 13,
      "outputs": []
    },
    {
      "cell_type": "code",
      "metadata": {
        "id": "d0NU7csS70qc"
      },
      "source": [
        "def sum_to_4(n):\n",
        "    \"\"\"\n",
        "    n < 0: None\n",
        "    n = 0: s(0) = 0\n",
        "    n > 0: s(n) = 1 + 2 + ... + (n-1) + n = s(n-1) + n\n",
        "    \"\"\"\n",
        "    if n < 0:\n",
        "        result = None\n",
        "    elif n == 0:\n",
        "        result = 0\n",
        "    else:\n",
        "        result = sum_to_4(n - 1) + n\n",
        "\n",
        "    return result"
      ],
      "execution_count": 15,
      "outputs": []
    },
    {
      "cell_type": "code",
      "metadata": {
        "colab": {
          "base_uri": "https://localhost:8080/"
        },
        "id": "CHp8N2YC4EuQ",
        "outputId": "ba3de115-1c26-43b9-ec3a-d903d568cd44"
      },
      "source": [
        "for n in range(-1, 6):\n",
        "    print(f'n = {n}: sum_to = {sum_to_4(n)}')"
      ],
      "execution_count": 16,
      "outputs": [
        {
          "output_type": "stream",
          "text": [
            "n = -1: sum_to = None\n",
            "n = 0: sum_to = 0\n",
            "n = 1: sum_to = 1\n",
            "n = 2: sum_to = 3\n",
            "n = 3: sum_to = 6\n",
            "n = 4: sum_to = 10\n",
            "n = 5: sum_to = 15\n"
          ],
          "name": "stdout"
        }
      ]
    },
    {
      "cell_type": "markdown",
      "metadata": {
        "id": "OsvNbdKEdZ0O"
      },
      "source": [
        "## Ex2.\n",
        "\n",
        "*   square_sum\n",
        "*   0부터 n까지 정수의 제곱의 합을 리턴하는 함수\n",
        "    *   `0**2 + 1**2 + 2**2 + ... + (n - 1)**2 + n**2`"
      ]
    },
    {
      "cell_type": "code",
      "metadata": {
        "id": "ulhSe4MMd_tV"
      },
      "source": [
        "def square_sum(n):\n",
        "    if n < 0:\n",
        "        result = None\n",
        "    else:\n",
        "        result = n * (n + 1) * (2 * n + 1) / 6\n",
        "\n",
        "    return result"
      ],
      "execution_count": 17,
      "outputs": []
    },
    {
      "cell_type": "code",
      "metadata": {
        "id": "C8wJ2VS7A2j0"
      },
      "source": [
        "def square_sum_2(n):\n",
        "    if n < 0:\n",
        "        result = None\n",
        "    else:\n",
        "        result = 0\n",
        "        for x in range(n + 1):\n",
        "            result += x**2  # result = result + x**2\n",
        "\n",
        "    return result"
      ],
      "execution_count": 19,
      "outputs": []
    },
    {
      "cell_type": "code",
      "metadata": {
        "id": "Eufe9IGTCrMl"
      },
      "source": [
        "def square_sum_3(n):\n",
        "    if n < 0:\n",
        "        result = None\n",
        "    else:\n",
        "        squares = [x**2 for x in range(n + 1)]  # 0 ~ n까지의 정수들의 제곱을 저장하는 리스트\n",
        "        result = sum(squares)\n",
        "    \n",
        "    return result"
      ],
      "execution_count": 21,
      "outputs": []
    },
    {
      "cell_type": "code",
      "metadata": {
        "id": "GnCgosIHDTm8"
      },
      "source": [
        "def square_sum_4(n):\n",
        "    \"\"\"\n",
        "    n < 0: ss(n) = None\n",
        "    n = 0: ss(n) = 0\n",
        "    n > 0: ss(n) = 0 + 1**2 + 2**2 + ... + (n-1)**2 + n**2 = ss(n-1) + n**2\n",
        "    \"\"\"\n",
        "    if n < 0:\n",
        "        result = None\n",
        "    elif n == 0:\n",
        "        result = 0\n",
        "    else:\n",
        "        result = square_sum_4(n - 1) + n**2\n",
        "\n",
        "    return result"
      ],
      "execution_count": 23,
      "outputs": []
    },
    {
      "cell_type": "code",
      "metadata": {
        "colab": {
          "base_uri": "https://localhost:8080/"
        },
        "id": "QT0e-Pmh95Q-",
        "outputId": "08dbc875-d1f3-4f52-c1d8-1f0d4de18afe"
      },
      "source": [
        "for n in range(-1, 5):\n",
        "    print(f'n = {n}: square_sum = {square_sum_4(n)}')"
      ],
      "execution_count": 24,
      "outputs": [
        {
          "output_type": "stream",
          "text": [
            "n = -1: square_sum = None\n",
            "n = 0: square_sum = 0\n",
            "n = 1: square_sum = 1\n",
            "n = 2: square_sum = 5\n",
            "n = 3: square_sum = 14\n",
            "n = 4: square_sum = 30\n"
          ],
          "name": "stdout"
        }
      ]
    },
    {
      "cell_type": "markdown",
      "metadata": {
        "id": "gXw4U3dzeCx-"
      },
      "source": [
        "## Ex3.\n",
        "\n",
        "*   find_max_index\n",
        "*   숫자들의 리스트를 argument로 전달했을 때, 그 리스트에서 최댓값의 위치(인덱스)를 리턴하는 함수\n"
      ]
    },
    {
      "cell_type": "code",
      "metadata": {
        "id": "EiaqtvKqedSu"
      },
      "source": [
        "import random"
      ],
      "execution_count": 25,
      "outputs": []
    },
    {
      "cell_type": "code",
      "metadata": {
        "colab": {
          "base_uri": "https://localhost:8080/"
        },
        "id": "YdZ8hx7VErnM",
        "outputId": "617a0e4d-bbd1-4c0a-ed9b-8a191f3549bd"
      },
      "source": [
        "random.seed(0)\n",
        "numbers = [random.randrange(10) for _ in range(10)]\n",
        "print(numbers)"
      ],
      "execution_count": 50,
      "outputs": [
        {
          "output_type": "stream",
          "text": [
            "[6, 6, 0, 4, 8, 7, 6, 4, 7, 5]\n"
          ],
          "name": "stdout"
        }
      ]
    },
    {
      "cell_type": "code",
      "metadata": {
        "colab": {
          "base_uri": "https://localhost:8080/"
        },
        "id": "lIPFo_ROE4PM",
        "outputId": "b8940f22-7899-4819-e7da-ad23b10f1c02"
      },
      "source": [
        "for i in range(len(numbers)):\n",
        "    print(i, ':', numbers[i])"
      ],
      "execution_count": 51,
      "outputs": [
        {
          "output_type": "stream",
          "text": [
            "0 : 6\n",
            "1 : 6\n",
            "2 : 0\n",
            "3 : 4\n",
            "4 : 8\n",
            "5 : 7\n",
            "6 : 6\n",
            "7 : 4\n",
            "8 : 7\n",
            "9 : 5\n"
          ],
          "name": "stdout"
        }
      ]
    },
    {
      "cell_type": "code",
      "metadata": {
        "colab": {
          "base_uri": "https://localhost:8080/"
        },
        "id": "cYdTrZ-KFnUO",
        "outputId": "0210c300-bf67-4735-e8cc-1f5981065159"
      },
      "source": [
        "for i, v in enumerate(numbers):\n",
        "    print(i, ':', v)"
      ],
      "execution_count": 52,
      "outputs": [
        {
          "output_type": "stream",
          "text": [
            "0 : 6\n",
            "1 : 6\n",
            "2 : 0\n",
            "3 : 4\n",
            "4 : 8\n",
            "5 : 7\n",
            "6 : 6\n",
            "7 : 4\n",
            "8 : 7\n",
            "9 : 5\n"
          ],
          "name": "stdout"
        }
      ]
    },
    {
      "cell_type": "code",
      "metadata": {
        "id": "1iFlqdtjGsr4"
      },
      "source": [
        "def find_max(numbers):\n",
        "    \"\"\"숫자들을 저장한 리스트 numbers의 최댓값을 리턴하는 함수\"\"\"\n",
        "    max_num = numbers[0]  # 리스트 numbers의 첫번째 값(인덱스 0 위치의 값)을 최댓값이라고 가정.\n",
        "    for i in range(len(numbers)):  # 인덱스 0부터 (length - 1)까지 반복\n",
        "        if max_num < numbers[i]:  # 기존 최댓값보다 더 큰 값을 리스트에서 찾은 경우\n",
        "            max_num = numbers[i]\n",
        "\n",
        "    return max_num"
      ],
      "execution_count": 33,
      "outputs": []
    },
    {
      "cell_type": "code",
      "metadata": {
        "id": "O-pHlB6RJ5jj"
      },
      "source": [
        "def find_max_index(numbers):\n",
        "    \"\"\"숫자들을 저장한 리스트 numbers의 최댓값의 인덱스를 리턴하는 함수\"\"\"\n",
        "    index = 0  # 최댓값의 위치(인덱스)는 0이라고 가정.\n",
        "    max_num = numbers[0]  # 최댓값을 numbers의 첫번째 값이라고 가정.\n",
        "    for i in range(len(numbers)):\n",
        "        if max_num < numbers[i]:\n",
        "            index = i  # 최댓값의 인덱스를 i로 변경\n",
        "            max_num = numbers[i]  # 최댓값도 i번째 원소로 변경\n",
        "\n",
        "    return index"
      ],
      "execution_count": 35,
      "outputs": []
    },
    {
      "cell_type": "code",
      "metadata": {
        "id": "rdnc13F0MCxc"
      },
      "source": [
        "def find_max_index2(numbers):\n",
        "    index = 0\n",
        "    max_num = numbers[0]\n",
        "    for i, v in enumerate(numbers):\n",
        "        if max_num < v:\n",
        "            index = i\n",
        "            max_num = v\n",
        "\n",
        "    return index"
      ],
      "execution_count": 38,
      "outputs": []
    },
    {
      "cell_type": "code",
      "metadata": {
        "colab": {
          "base_uri": "https://localhost:8080/"
        },
        "id": "6nhYFIg-JpFF",
        "outputId": "c55a28ac-ee67-4774-e685-0fa0aea9cf13"
      },
      "source": [
        "print('최댓값:', find_max(numbers))\n",
        "print('최댓값의 인덱스:', find_max_index2(numbers))"
      ],
      "execution_count": 53,
      "outputs": [
        {
          "output_type": "stream",
          "text": [
            "최댓값: 8\n",
            "최댓값의 인덱스: 4\n"
          ],
          "name": "stdout"
        }
      ]
    },
    {
      "cell_type": "code",
      "metadata": {
        "colab": {
          "base_uri": "https://localhost:8080/"
        },
        "id": "V7rKo8WYLfY0",
        "outputId": "308d1385-7efd-4e6c-cee4-766d59c13b10"
      },
      "source": [
        "print(numbers)\n",
        "print(max(numbers))  # max(numbers): 리스트 numbers의 최댓값을 리턴\n",
        "print(numbers.index(7))  # numbers.index(값): 리스트 numbers에서 값이 있는 위치(인덱스)를 리턴"
      ],
      "execution_count": 56,
      "outputs": [
        {
          "output_type": "stream",
          "text": [
            "[6, 6, 0, 4, 8, 7, 6, 4, 7, 5]\n",
            "8\n",
            "5\n"
          ],
          "name": "stdout"
        }
      ]
    },
    {
      "cell_type": "code",
      "metadata": {
        "id": "cxKzHXBJNF6-"
      },
      "source": [
        "def find_max_index3(numbers):\n",
        "    max_num = max(numbers)  # numbers의 최댓값을 찾음\n",
        "    max_index = numbers.index(max_num)  # 최댓값의 인덱스(위치)를 찾음\n",
        "    return max_index"
      ],
      "execution_count": 49,
      "outputs": []
    }
  ]
}
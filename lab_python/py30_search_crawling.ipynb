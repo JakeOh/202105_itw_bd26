{
  "nbformat": 4,
  "nbformat_minor": 0,
  "metadata": {
    "colab": {
      "name": "py30_search_crawling.ipynb",
      "provenance": [],
      "collapsed_sections": [],
      "authorship_tag": "ABX9TyM01VBb95BvxvPPcQA9h5wt",
      "include_colab_link": true
    },
    "kernelspec": {
      "name": "python3",
      "display_name": "Python 3"
    },
    "language_info": {
      "name": "python"
    }
  },
  "cells": [
    {
      "cell_type": "markdown",
      "metadata": {
        "id": "view-in-github",
        "colab_type": "text"
      },
      "source": [
        "<a href=\"https://colab.research.google.com/github/JakeOh/202105_itw_bd26/blob/main/lab_python/py30_search_crawling.ipynb\" target=\"_parent\"><img src=\"https://colab.research.google.com/assets/colab-badge.svg\" alt=\"Open In Colab\"/></a>"
      ]
    },
    {
      "cell_type": "code",
      "metadata": {
        "id": "_oXqdLA7uH5I"
      },
      "source": [
        "import requests\n",
        "from bs4 import BeautifulSoup"
      ],
      "execution_count": 1,
      "outputs": []
    },
    {
      "cell_type": "markdown",
      "metadata": {
        "id": "N13YCnQBeXER"
      },
      "source": [
        "# Ex 1.\n",
        "\n",
        "* 네이버에서 검색어를 입력하고 뉴스 검색\n",
        "* request url, request parameter 분석\n",
        "* 1페이지부터 원하는 페이지까지 \n",
        "    * 뉴스 제공자\n",
        "    * 네이버 뉴스 링크 URL\n",
        "    * 뉴스 제공자 링크 URL\n",
        "    * 뉴스 타이틀\n",
        "    "
      ]
    },
    {
      "cell_type": "code",
      "metadata": {
        "colab": {
          "base_uri": "https://localhost:8080/"
        },
        "id": "izxLBNAGmchY",
        "outputId": "27559cb1-ab46-451b-ca5b-31c4052b9cf7"
      },
      "source": [
        "keyword = '거리두기'\n",
        "\n",
        "for s in range(3):  # 페이지 반복\n",
        "    # url = f'https://search.naver.com/search.naver?where=news&query={keyword}&start={10 * i + 1}'\n",
        "    # res = requests.get(url)\n",
        "    url = 'https://search.naver.com/search.naver?where=news'  # request url\n",
        "    params = {'query': keyword, 'start': (10 * s + 1)}  # request parameter\n",
        "    res = requests.get(url, params)  # request 보내고 response를 받음\n",
        "    if res.status_code != 200:\n",
        "        print('HTTP Status Code:', res.status_code)\n",
        "        continue\n",
        "\n",
        "    print(f'--- page {s + 1} ---')\n",
        "    html = res.text.strip()\n",
        "    soup = BeautifulSoup(markup=html, features='html5lib')\n",
        "    \n",
        "    for i in range(1, 11):  # 한 페이지 안에서 뉴스 기사를 하나씩 반복\n",
        "        # 언론사 이름을 찾기 위한 CSS selector\n",
        "        press_selector = f'ul.list_news > li:nth-of-type({i}) div.info_group > a:nth-of-type(1)'\n",
        "        press_name = soup.select_one(press_selector)\n",
        "        if press_name:  # 언론사 이름을 찾았을 때\n",
        "            print(press_name.text.replace('언론사 선정', ''))\n",
        "\n",
        "        # 네이버 뉴스 페이지 링크를 찾기 위한 CSS selector\n",
        "        naver_link_sel = f'ul.list_news > li:nth-of-type({i}) div.info_group > a:nth-of-type(2)'\n",
        "        naver_link = soup.select_one(naver_link_sel)\n",
        "        if naver_link:  # 네이버 뉴스 링크가 있다면\n",
        "            print(naver_link['href'])\n",
        "\n",
        "        # 언론사 기사 링크 주소와 기사 제목을 찾기 위한 CSS Selector\n",
        "        title_selector = f'ul.list_news > li:nth-of-type({i}) div.news_area > a'\n",
        "        title = soup.select_one(title_selector)\n",
        "        print(title['href'])  # 언론사 기사 링크 URL\n",
        "        print(title.text.strip())  # 기사 제목\n",
        "        print()  # 빈 줄 출력"
      ],
      "execution_count": null,
      "outputs": [
        {
          "output_type": "stream",
          "text": [
            "--- page 1 ---\n",
            "연합뉴스\n",
            "https://news.naver.com/main/read.naver?mode=LSD&mid=sec&sid1=100&oid=001&aid=0012575993\n",
            "http://yna.kr/AKR20210804027400001?did=1195m\n",
            "김총리 \"거리두기 조정안 모레 결정…보완점 살펴보겠다\"\n",
            "\n",
            "머니S\n",
            "https://news.naver.com/main/read.naver?mode=LSD&mid=sec&sid1=102&oid=417&aid=0000721571\n",
            "http://moneys.mt.co.kr/news/mwView.php?no=2021080408508020151\n",
            "김부겸 \"오는 6일 거리두기 단계 조정안 결정\"\n",
            "\n",
            "국민일보\n",
            "https://news.naver.com/main/read.naver?mode=LSD&mid=sec&sid1=102&oid=005&aid=0001461804\n",
            "http://news.kmib.co.kr/article/view.asp?arcid=0016128455&code=61121111&cp=nv\n",
            "[속보] 국민 84% ‘수도권 거리두기 4단계 연장 찬성’\n",
            "\n",
            "더팩트\n",
            "https://news.naver.com/main/read.naver?mode=LSD&mid=sec&sid1=102&oid=629&aid=0000098791\n",
            "http://news.tf.co.kr/read/national/1879611.htm\n",
            "충주시 5일부터 거리두기 4단계 격상\n",
            "\n",
            "이데일리\n",
            "https://news.naver.com/main/read.naver?mode=LSD&mid=sec&sid1=102&oid=018&aid=0005001753\n",
            "http://www.edaily.co.kr/news/newspath.asp?newsid=02273046629143712\n",
            "국민 10명 중 8명 \"거리두기 4단계 연장 찬성…9월 말까지 25.1%\"\n",
            "\n",
            "MBC\n",
            "https://news.naver.com/main/read.naver?mode=LSD&mid=sec&sid1=100&oid=214&aid=0001139944\n",
            "https://imnews.imbc.com/news/2021/politics/article/6291165_34866.html\n",
            "김 총리 \"다음주 거리두기 단계, 금요일 중대본에서 결정\"\n",
            "\n",
            "조선비즈\n",
            "https://news.naver.com/main/read.naver?mode=LSD&mid=sec&sid1=102&oid=366&aid=0000751903\n",
            "https://biz.chosun.com/topics/topics_social/2021/08/04/DHLTPGRVNJD4TKQNNUJLGWPIPA/?utm_source=naver&utm_medium=original&utm_campaign=biz\n",
            "경남 창원·충북 충주, 거리두기 ‘4단계’로 올린다\n",
            "\n",
            "뉴스1\n",
            "https://news.naver.com/main/read.naver?mode=LSD&mid=sec&sid1=100&oid=421&aid=0005521014\n",
            "https://www.news1.kr/articles/?4393017\n",
            "김총리 \"6일 중대본, 내주 거리두기 단계 결정…8월 백신 2860만회분 도입\"(종...\n",
            "\n",
            "한국경제\n",
            "https://news.naver.com/main/read.naver?mode=LSD&mid=sec&sid1=102&oid=015&aid=0004587058\n",
            "https://www.hankyung.com/society/article/202108038420i\n",
            "송영길 \"KF마스크 쓴다는 전제로 사회적 거리두기 완화 논의\"\n",
            "\n",
            "KBS\n",
            "https://news.naver.com/main/read.naver?mode=LSD&mid=sec&sid1=102&oid=056&aid=0011095279\n",
            "https://news.kbs.co.kr/news/view.do?ncd=5248697&ref=A\n",
            "거리두기 단계 결정 앞두고 방역당국 “사적모임 제한 변경 없어”\n",
            "\n",
            "--- page 2 ---\n",
            "뉴시스\n",
            "https://news.naver.com/main/read.naver?mode=LSD&mid=sec&sid1=102&oid=003&aid=0010646766\n",
            "http://www.newsis.com/view/?id=NISX20210804_0001537379&cID=10201&pID=10200\n",
            "방역당국 \"6시 3인 금지 변경 계획 없다\" 못박아...거리두기 부분 보완은 검토...\n",
            "\n",
            "연합뉴스\n",
            "https://news.naver.com/main/read.naver?mode=LSD&mid=sec&sid1=102&oid=001&aid=0012574153\n",
            "http://yna.kr/AKR20210803080000530?did=1195m\n",
            "정부 \"코로나 사망자 책임거론 도움안돼…거리두기 조정 더 지켜봐야\"\n",
            "\n",
            "부산일보\n",
            "https://news.naver.com/main/read.naver?mode=LSD&mid=sec&sid1=102&oid=082&aid=0001111314\n",
            "http://www.busan.com/view/busan/view.php?code=2021080413412699357\n",
            "경남도내 코로나19 확진 하루 60명…창원시 6일부터 거리두기 4단계 격상\n",
            "\n",
            "뉴스1\n",
            "https://news.naver.com/main/read.naver?mode=LSD&mid=sec&sid1=102&oid=421&aid=0005522193\n",
            "https://www.news1.kr/photos/view/?4908068\n",
            "2주마다 거리두기 연장에 너무 힘든 자영업자들\n",
            "\n",
            "아이뉴스24\n",
            "https://news.naver.com/main/read.naver?mode=LSD&mid=sec&sid1=102&oid=031&aid=0000616201\n",
            "http://www.inews24.com/view/1392865\n",
            "수도권 거리두기 4단계 연장 84% 찬성…9월말까지 유지 의견 다수\n",
            "\n",
            "뉴시스\n",
            "https://news.naver.com/main/read.naver?mode=LSD&mid=sec&sid1=102&oid=003&aid=0010647223\n",
            "http://www.newsis.com/view/?id=NISX20210804_0001537606&cID=10812&pID=10800\n",
            "창원시, 6~16일 사회적 거리두기 4단계 격상\n",
            "\n",
            "뉴스1\n",
            "https://news.naver.com/main/read.naver?mode=LSD&mid=sec&sid1=102&oid=421&aid=0005522060\n",
            "https://www.news1.kr/articles/?4393518\n",
            "[속보]창원시, 6일부터 거리두기 4단계 격상\n",
            "\n",
            "서울경제\n",
            "https://news.naver.com/main/read.naver?mode=LSD&mid=sec&sid1=102&oid=011&aid=0003945273\n",
            "https://www.sedaily.com/NewsView/22Q1NPD5MD\n",
            "국민 84%, 수도권 거리두기 4단계 연장 조치 공감 (종합)\n",
            "\n",
            "연합뉴스\n",
            "https://news.naver.com/main/read.naver?mode=LSD&mid=sec&sid1=102&oid=001&aid=0012574999\n",
            "http://yna.kr/AKR20210803123300052?did=1195m\n",
            "허성곤 김해시장 \"거리두기 4단계 방역 강화할 것\"\n",
            "\n",
            "더팩트\n",
            "https://news.naver.com/main/read.naver?mode=LSD&mid=sec&sid1=102&oid=629&aid=0000098794\n",
            "http://news.tf.co.kr/read/national/1879615.htm\n",
            "천안시, 거리두기 4단계 격상 고려...\"방역 동참\" 호소\n",
            "\n",
            "--- page 3 ---\n",
            "KBS\n",
            "https://news.naver.com/main/read.naver?mode=LSD&mid=sec&sid1=102&oid=056&aid=0011095185\n",
            "https://news.kbs.co.kr/news/view.do?ncd=5248512&ref=A\n",
            "코로나19 신규 확진자 1,725명…다음주 거리두기 모레 결정\n",
            "\n",
            "뉴시스\n",
            "https://news.naver.com/main/read.naver?mode=LSD&mid=sec&sid1=102&oid=003&aid=0010646313\n",
            "http://www.newsis.com/view/?id=NISX20210804_0001537028&cID=10201&pID=10200\n",
            "신규확진 1725명, 4차유행 비수도권 최다…6일 거리두기 연장 여부 결정(종합...\n",
            "\n",
            "뉴스1\n",
            "https://news.naver.com/main/read.naver?mode=LSD&mid=sec&sid1=102&oid=421&aid=0005521019\n",
            "https://www.news1.kr/articles/?4393038\n",
            "거리두기 4단계 대전 지역화폐 열풍\n",
            "\n",
            "시사저널\n",
            "https://news.naver.com/main/read.naver?mode=LSD&mid=sec&sid1=102&oid=586&aid=0000027575\n",
            "http://www.sisajournal.com/news/articleView.html?idxno=222030\n",
            "신규확진 1725명, 비수도권 최다 기록…거리두기 조정안 6일 결정\n",
            "\n",
            "강원일보\n",
            "https://news.naver.com/main/read.naver?mode=LSD&mid=sec&sid1=102&oid=087&aid=0000854858\n",
            "http://www.kwnews.co.kr/nview.asp?aid=221080300155\n",
            "코로나19 신규확진 1천725명…오는 6일 거리두기 단계 결정\n",
            "\n",
            "오마이뉴스\n",
            "https://news.naver.com/main/read.naver?mode=LSD&mid=sec&sid1=102&oid=047&aid=0002322182\n",
            "http://www.ohmynews.com/NWS_Web/View/at_pg.aspx?CNTN_CD=A0002764161&CMPT_CD=P0010&utm_source=naver&utm_medium=newsearch&utm_campaign=naver_news\n",
            "창원, 6일부터 열흘간 거리두기 4단계 격상\n",
            "\n",
            "서울신문\n",
            "https://news.naver.com/main/read.naver?mode=LSD&mid=sec&sid1=102&oid=081&aid=0003206671\n",
            "https://www.seoul.co.kr/news/newsView.php?id=20210804500073&wlog_tag3=naver\n",
            "“비수도권 3주 연속 증가” 고강도 거리두기에도 이동량 늘어\n",
            "\n",
            "연합뉴스\n",
            "https://news.naver.com/main/read.naver?mode=LSD&mid=sec&sid1=102&oid=001&aid=0012575331\n",
            "http://yna.kr/AKR20210803145100055?did=1195m\n",
            "부안군 거리두기 3단계로 격상…\"확진자 지속 발생\"\n",
            "\n",
            "채널A\n",
            "https://news.naver.com/main/read.naver?mode=LSD&mid=sec&sid1=102&oid=449&aid=0000212811\n",
            "http://www.ichannela.com/news/main/news_detailPage.do?publishId=000000260830\n",
            "김부겸 “다음주 거리두기 단계, 모레 결정”\n",
            "\n",
            "연합뉴스\n",
            "https://news.naver.com/main/read.naver?mode=LSD&mid=sec&sid1=101&oid=001&aid=0012573295\n",
            "http://yna.kr/AKR20210803031700030?did=1195m\n",
            "홈플러스 익스프레스 \"거리두기 4단계 이후 즉시배송 매출↑\"\n",
            "\n"
          ],
          "name": "stdout"
        }
      ]
    },
    {
      "cell_type": "code",
      "metadata": {
        "id": "8SdcfnjHeLEI"
      },
      "source": [
        "def naver_news_search(keyword, num_page):\n",
        "    \"\"\"\n",
        "    :param keyword: 검색 키워드. 문자열.\n",
        "    :param num_page: 검색할 페이지 개수. 정수.\n",
        "    \"\"\"\n",
        "    for s in range(num_page):  # 페이지 반복\n",
        "        # url = f'https://search.naver.com/search.naver?where=news&query={keyword}&start={10 * i + 1}'\n",
        "        # res = requests.get(url)\n",
        "        url = 'https://search.naver.com/search.naver?where=news'  # request url\n",
        "        params = {'query': keyword, 'start': (10 * s + 1)}  # request parameter\n",
        "        res = requests.get(url, params)  # request 보내고 response를 받음\n",
        "        if res.status_code != 200:\n",
        "            print('HTTP Status Code:', res.status_code)\n",
        "            continue\n",
        "\n",
        "        print(f'--- page {s + 1} ---')\n",
        "        html = res.text.strip()\n",
        "        soup = BeautifulSoup(markup=html, features='html5lib')\n",
        "        \n",
        "        for i in range(1, 11):  # 한 페이지 안에서 뉴스 기사를 하나씩 반복\n",
        "            # 언론사 이름을 찾기 위한 CSS selector\n",
        "            press_selector = f'ul.list_news > li:nth-of-type({i}) div.info_group > a:nth-of-type(1)'\n",
        "            press_name = soup.select_one(press_selector)\n",
        "            if press_name:  # 언론사 이름을 찾았을 때\n",
        "                print(press_name.text.replace('언론사 선정', ''))\n",
        "\n",
        "            # 네이버 뉴스 페이지 링크를 찾기 위한 CSS selector\n",
        "            naver_link_sel = f'ul.list_news > li:nth-of-type({i}) div.info_group > a:nth-of-type(2)'\n",
        "            naver_link = soup.select_one(naver_link_sel)\n",
        "            if naver_link:  # 네이버 뉴스 링크가 있다면\n",
        "                print(naver_link['href'])\n",
        "\n",
        "            # 언론사 기사 링크 주소와 기사 제목을 찾기 위한 CSS Selector\n",
        "            title_selector = f'ul.list_news > li:nth-of-type({i}) div.news_area > a'\n",
        "            title = soup.select_one(title_selector)\n",
        "            print(title['href'])  # 언론사 기사 링크 URL\n",
        "            print(title.text.strip())  # 기사 제목\n",
        "            print()  # 빈 줄 출력"
      ],
      "execution_count": null,
      "outputs": []
    },
    {
      "cell_type": "code",
      "metadata": {
        "colab": {
          "base_uri": "https://localhost:8080/"
        },
        "id": "kvX4w8L2hlcO",
        "outputId": "d3007af6-1a90-44c3-8128-64ee32d7b3c9"
      },
      "source": [
        "naver_news_search(keyword='배스킨라빈스', num_page=2)"
      ],
      "execution_count": null,
      "outputs": [
        {
          "output_type": "stream",
          "text": [
            "--- page 1 ---\n",
            "뉴시스\n",
            "https://news.naver.com/main/read.naver?mode=LSD&mid=sec&sid1=101&oid=003&aid=0010644792\n",
            "http://www.newsis.com/view/?id=NISX20210803_0001536119&cID=13001&pID=13000\n",
            "배스킨라빈스, 뽀로로 케이크 2종 출시\n",
            "\n",
            "이데일리\n",
            "https://news.naver.com/main/read.naver?mode=LSD&mid=sec&sid1=101&oid=018&aid=0005000702\n",
            "http://www.edaily.co.kr/news/newspath.asp?newsid=02289446629143384\n",
            "SPC 배스킨라빈스, 플래그쉽 스토어 '파르나스몰'점 오픈\n",
            "\n",
            "머니S\n",
            "https://news.naver.com/main/read.naver?mode=LSD&mid=sec&sid1=101&oid=417&aid=0000720486\n",
            "http://moneys.mt.co.kr/news/mwView.php?no=2021073018328020911\n",
            "SPC 배스킨라빈스, 7월 마지막 날 ‘31 데이’ 미니언즈도 반한 꿀 떨어지는 ...\n",
            "\n",
            "뉴스케이프\n",
            "http://www.newscape.co.kr/news/articleView.html?idxno=70675\n",
            "SPC 배스킨라빈스, 7월 마지막 날 '31 데이' 진행\n",
            "\n",
            "파이낸셜뉴스\n",
            "https://news.naver.com/main/read.naver?mode=LSD&mid=sec&sid1=101&oid=014&aid=0004684179\n",
            "http://www.fnnews.com/news/202107301055435438\n",
            "배스킨라빈스, 플래그쉽 스토어 파르나스몰점 오픈\n",
            "\n",
            "조선비즈\n",
            "https://news.naver.com/main/read.naver?mode=LSD&mid=sec&sid1=004&oid=366&aid=0000750450\n",
            "https://biz.chosun.com/distribution/food/2021/07/29/RKYJFNSGTZH6BOT2JZRYDLN3FU/?utm_source=naver&utm_medium=original&utm_campaign=biz\n",
            "오리온 손잡은 배스킨라빈스, ‘아이스꼬북칩’ 출시\n",
            "\n",
            "스포츠조선\n",
            "https://news.naver.com/main/read.naver?mode=LSD&mid=sec&sid1=101&oid=076&aid=0003761473\n",
            "http://sports.chosun.com/news/ntype.htm?id=202108010100002830000049&servicedate=20210801\n",
            "SPC 배스킨라빈스, 플래그쉽 스토어 '파르나스몰' 점 오픈\n",
            "\n",
            "뉴시스\n",
            "https://news.naver.com/main/read.naver?mode=LSD&mid=sec&sid1=101&oid=003&aid=0010640287\n",
            "http://www.newsis.com/view/?id=NISX20210729_0001530580&cID=13001&pID=13000\n",
            "배스킨라빈스, 8월 이달의 맛 '아이스 꼬북칩' 출시\n",
            "\n",
            "인사이트\n",
            "https://www.insight.co.kr/news/351093\n",
            "배스킨라빈스, 8월 이달의 맛 '아이스 꼬북칩' 출시\n",
            "\n",
            "뉴시스\n",
            "https://news.naver.com/main/read.naver?mode=LSD&mid=sec&sid1=101&oid=003&aid=0010624143\n",
            "http://www.newsis.com/view/?id=NISX20210723_0001523804&cID=13001&pID=13000\n",
            "배스킨라빈스, '체리 초코 쥬빌레' 출시\n",
            "\n",
            "--- page 2 ---\n",
            "스포츠조선\n",
            "https://news.naver.com/main/read.naver?mode=LSD&mid=sec&sid1=101&oid=076&aid=0003760288\n",
            "http://sports.chosun.com/news/ntype.htm?id=202107300100231810014845&servicedate=20210729\n",
            "배스킨라빈스, 달콤상큼한 '체리 초코 쥬빌레' 여름시즌 한정 출시\n",
            "\n",
            "인사이트\n",
            "https://www.insight.co.kr/news/351678\n",
            "초코 아이스크림에 바삭한 '꼬북칩' 콕콕 박힌 배라 신상 '아이스 꼬북칩'\n",
            "\n",
            "헤럴드경제\n",
            "https://news.naver.com/main/read.naver?mode=LSD&mid=sec&sid1=101&oid=016&aid=0001866801\n",
            "http://news.heraldcorp.com/view.php?ud=20210727000272\n",
            "SPC 배스킨라빈스, 여름시즌 한정 '체리 초코쥬빌레’ 출시\n",
            "\n",
            "머니S\n",
            "https://news.naver.com/main/read.naver?mode=LSD&mid=sec&sid1=101&oid=417&aid=0000720558\n",
            "http://moneys.mt.co.kr/news/mwView.php?no=2021072614238055483\n",
            "SPC그룹 배스킨라빈스, 함께 신으면 더 멋진 패션의 완성! 배라 ‘플립플랍’...\n",
            "\n",
            "위키트리\n",
            "https://www.wikitree.co.kr/articles/674734\n",
            "“ㅇㅇㅅ ㄲㅂㅊ?” 오리온과 손잡은 배스킨라빈스가 새로 출시한 '이달의 맛...\n",
            "\n",
            "MTN\n",
            "https://news.mtn.co.kr/newscenter/news_viewer.mtn?gidx=2021072814465958774\n",
            "SPC 배스킨라빈스, 여름시즌 한정 신제품 '체리 초코 쥬빌레' 출시\n",
            "\n",
            "뉴스핌\n",
            "http://www.newspim.com/news/view/20210726000374\n",
            "SPC 배스킨라빈스, 여름 한정 체리 초코 쥬빌레 출시\n",
            "\n",
            "인사이트\n",
            "https://www.insight.co.kr/news/351269\n",
            "첫 네고 대상으로 배스킨라빈스 예고한 '네고왕3' 딘딘X슬리피 (영상)\n",
            "\n",
            "스포츠서울\n",
            "https://news.naver.com/main/read.naver?mode=LSD&mid=sec&sid1=101&oid=468&aid=0000781244\n",
            "http://www.sportsseoul.com/news/read/1055119?ref=naver\n",
            "[이주의 신상] 폭염 물리치는 시원한 만남 '아이스크림' 협업 인기\n",
            "\n",
            "노컷뉴스\n",
            "https://news.naver.com/main/read.naver?mode=LSD&mid=sec&sid1=101&oid=079&aid=0003533292\n",
            "https://www.nocutnews.co.kr/news/5595856\n",
            "SPC 베스킨라빈스, 여름시즌 한정 '체리 초코 쥬빌레' 출시\n",
            "\n"
          ],
          "name": "stdout"
        }
      ]
    },
    {
      "cell_type": "markdown",
      "metadata": {
        "id": "U_OTI7gimrxx"
      },
      "source": [
        "# Ex 2.\n",
        "\n",
        "* [한겨레](https://hani.co.kr) 페이지에서 검색어를 입력해서 뉴스 검색\n",
        "* request url, request parameter 분석\n",
        "* 첫번째 페이지의 뉴스 기사 10개의 제목, 업데이트 시간, 기사 링크를 출력\n",
        "* 각 기사의 링크를 접속해서 기사 본문 내용의 첫 300글자를 출력\n"
      ]
    },
    {
      "cell_type": "code",
      "metadata": {
        "id": "eaMe0i9JneBb",
        "colab": {
          "base_uri": "https://localhost:8080/"
        },
        "outputId": "8c3c218e-8c62-4f69-c922-e9a65e6b6a33"
      },
      "source": [
        "keyword = '올림픽'\n",
        "url = f'https://search.hani.co.kr/Search?command=query&keyword={keyword}&sort=d&period=all&media=news'\n",
        "response = requests.get(url)\n",
        "print(response)"
      ],
      "execution_count": 2,
      "outputs": [
        {
          "output_type": "stream",
          "text": [
            "<Response [200]>\n"
          ],
          "name": "stdout"
        }
      ]
    },
    {
      "cell_type": "code",
      "metadata": {
        "colab": {
          "base_uri": "https://localhost:8080/"
        },
        "id": "MybpyTxuz6cg",
        "outputId": "6f7d0cef-6e13-4010-ae83-ce12f73e9d63"
      },
      "source": [
        "url = 'https://search.hani.co.kr/Search?command=query&sort=d&period=all&media=news'  # request URL\n",
        "params = {'keyword': '금융'}  # request parameter\n",
        "response = requests.get(url, params)\n",
        "print(response)"
      ],
      "execution_count": 18,
      "outputs": [
        {
          "output_type": "stream",
          "text": [
            "<Response [200]>\n"
          ],
          "name": "stdout"
        }
      ]
    },
    {
      "cell_type": "code",
      "metadata": {
        "colab": {
          "base_uri": "https://localhost:8080/"
        },
        "id": "rb7IysRT0hVx",
        "outputId": "18a70c1e-ce23-4952-b41b-fd79523f436d"
      },
      "source": [
        "html = response.text.strip()  # response 객체에서 HTML 코드 추출\n",
        "# print(html[:500])\n",
        "print(html[-500:])"
      ],
      "execution_count": 19,
      "outputs": [
        {
          "output_type": "stream",
          "text": [
            "></script>\n",
            "    </div>\n",
            "    <!-- //템플릿 일반 우측 -->\n",
            "    <!-- aside -->\n",
            "  </div>\n",
            "  <!-- //템플릿 끝: 검색 -->\n",
            "  \n",
            "</div>\n",
            "<!-- //container -->\n",
            "<script type=\"text/javascript\" src=\"//www.hani.co.kr/section-homepage/svc3/js/html/search_footer.js\"></script>\n",
            "<script type=\"text/javascript\" id=\"facebook-jssdk\"\tsrc=\"//connect.facebook.net/ko_KR/sdk.js#xfbml=1&appId=460972487388139&version=v2.0\"></script>\n",
            "<script type=\"text/javascript\" id=\"twitter-wjs\"\tsrc=\"//platform.twitter.com/widgets.js\"></script>\n",
            "\n",
            "</body>\n",
            "</html>\n"
          ],
          "name": "stdout"
        }
      ]
    },
    {
      "cell_type": "code",
      "metadata": {
        "id": "clt3dBJv09oK"
      },
      "source": [
        "soup = BeautifulSoup(markup=html, features='html5lib')  # HTML을 parsing할 수 있는 객체 생성"
      ],
      "execution_count": 20,
      "outputs": []
    },
    {
      "cell_type": "code",
      "metadata": {
        "colab": {
          "base_uri": "https://localhost:8080/"
        },
        "id": "GUrL9f1q1I__",
        "outputId": "e117cdbc-f403-48f8-80bc-7285776811ed"
      },
      "source": [
        "title_selector = 'ul.search-result-list > li > dl > dt > a'\n",
        "titles = soup.select(title_selector)\n",
        "titles"
      ],
      "execution_count": 21,
      "outputs": [
        {
          "output_type": "execute_result",
          "data": {
            "text/plain": [
              "[<a href=\"//www.hani.co.kr/arti/economy/finance/1006531.html\"><strong>금융</strong>감독원장에 정은보 한미 방위비분담 협상대사</a>,\n",
              " <a href=\"https://www.hani.co.kr/arti/politics/bluehouse/1006527.html\">국가인권위원장에 송두환, <strong>금융</strong>위원장에 고승범</a>,\n",
              " <a href=\"https://www.hani.co.kr/arti/international/international_general/1006507.html\">당신은 ‘소셜 네트워크’라는 교회의 헌금기부자</a>,\n",
              " <a href=\"//www.hani.co.kr/arti/society/internalmove/1006474.html\">8월 5일 인사</a>,\n",
              " <a href=\"https://www.hani.co.kr/arti/economy/finance/1006472.html\">‘디스커버리펀드 환매연기’ 기업은행 내부에서도 “신중히 판매” 우려했다</a>,\n",
              " <a href=\"https://www.hani.co.kr/arti/opinion/editorial/1006471.html\">[사설] “멀쩡한 원전 폐쇄”라 억지 쓰며 최악 치달은 ‘정치 사법화’</a>,\n",
              " <a href=\"https://www.hani.co.kr/arti/economy/economy_general/1006446.html\">‘금리 인상’ 마음 굳히는 한은…8월에 할까, 숨 고를까</a>,\n",
              " <a href=\"//www.hani.co.kr/arti/economy/finance/1006410.html\">지난해 온라인 명품구매 절반 이상이 2030세대</a>,\n",
              " <a href=\"//www.hani.co.kr/arti/economy/finance/1006407.html\">햇살론 등 정책서민<strong>금융</strong>상품 올해 9조6천억 공급키로</a>,\n",
              " <a href=\"//www.hani.co.kr/arti/economy/finance/1006388.html\">실손보험 가입 문턱 높인 대형 보험사들, 다음달까지 개선키로</a>]"
            ]
          },
          "metadata": {
            "tags": []
          },
          "execution_count": 21
        }
      ]
    },
    {
      "cell_type": "code",
      "metadata": {
        "colab": {
          "base_uri": "https://localhost:8080/"
        },
        "id": "c2Xy6q8l3Qxf",
        "outputId": "faf5d814-ccfc-49b0-a346-2d585e017b4b"
      },
      "source": [
        "date_selector = 'ul.search-result-list > li > dl > dd > dl > dd'\n",
        "dates = soup.select(date_selector)\n",
        "dates"
      ],
      "execution_count": 22,
      "outputs": [
        {
          "output_type": "execute_result",
          "data": {
            "text/plain": [
              "[<dd>2021.08.05 10:27</dd>,\n",
              " <dd>2021.08.05 10:14</dd>,\n",
              " <dd>2021.08.05 04:59</dd>,\n",
              " <dd>2021.08.04 19:02</dd>,\n",
              " <dd>2021.08.04 19:01</dd>,\n",
              " <dd>2021.08.04 18:43</dd>,\n",
              " <dd>2021.08.04 16:42</dd>,\n",
              " <dd>2021.08.04 12:43</dd>,\n",
              " <dd>2021.08.04 12:00</dd>,\n",
              " <dd>2021.08.04 11:03</dd>]"
            ]
          },
          "metadata": {
            "tags": []
          },
          "execution_count": 22
        }
      ]
    },
    {
      "cell_type": "code",
      "metadata": {
        "colab": {
          "base_uri": "https://localhost:8080/"
        },
        "id": "BIUzP84z3gp2",
        "outputId": "77e186d3-7046-4207-a5ea-818a7e2abad3"
      },
      "source": [
        "for title, date in zip(titles, dates):\n",
        "    news_title = title.text  # 기사 제목\n",
        "    if title['href'].startswith('https'):\n",
        "        news_url = title['href']  # 기사 링크 URL\n",
        "    else:\n",
        "        news_url = 'https:' + title['href']\n",
        "    news_date = date.text  # 기사 최종 업데이트 시간\n",
        "    print(news_title, news_date)\n",
        "    print(news_url)\n",
        "\n",
        "    res = requests.get(news_url)  # 뉴스 기사 링크로 request를 보내고 response를 받음.\n",
        "    if res.status_code != 200:\n",
        "        print('HTML Status Code:', res.status_code)\n",
        "        continue\n",
        "\n",
        "    html = res.text.strip()\n",
        "    soup = BeautifulSoup(markup=html, features='html5lib')\n",
        "    selector = 'div.text'\n",
        "    news_body = soup.select_one(selector).text.strip()\n",
        "    print(news_body[:300])\n",
        "    print('-' * 80, '\\n')\n"
      ],
      "execution_count": 24,
      "outputs": [
        {
          "output_type": "stream",
          "text": [
            "금융감독원장에 정은보 한미 방위비분담 협상대사 2021.08.05 10:27\n",
            "https://www.hani.co.kr/arti/economy/finance/1006531.html\n",
            "정은보 신임 금감원장 내정자\n",
            "\t\t\t\n",
            "\n",
            "  신임 금융감독원장으로 정은보 한미 방위비분담 협상대사가 내정됐다.\n",
            " 은성수 금융위원장은 5일 금융위원회 의결을 거쳐 신임 금감원장으로 정 협상대사를 임명 제청했다고 금융위가 밝혔다. 금감원장은 금융위원장이 제청하고 대통령이 임명한다.\n",
            " 정 내정자는 행시 28회 출신으로 재정경제부 금융정책과장, 금융위 사무처장, 기획재정부 차관보, 금융위 부위원장 등을 역임한 금융·경제정책 전문가다.\n",
            " 금융위는 “정 내정자는 금융 정책 및 국제금융 분야에 대한 탁월한 업무 전문성과 거시경제에 대한 폭넓은 이해\n",
            "-------------------------------------------------------------------------------- \n",
            "\n",
            "국가인권위원장에 송두환, 금융위원장에 고승범 2021.08.05 10:14\n",
            "https://www.hani.co.kr/arti/politics/bluehouse/1006527.html\n",
            "송두환 국가인권위원장 후보자(왼쪽), 고승범 금융위원장 후보자\n",
            "\t\t\t\n",
            "\n",
            "\n",
            "문재인 대통령이 5일 국가인권위원회 위원장 후보자에 송두환(72) 법무법인 한결 대표 변호사를 금융위원회 위원장 후보자에 고승범(59) 한국은행 금융통화위원회 위원을 지명했다. \n",
            "박수현 청와대 국민소통수석은 이날 문 대통령이 국가인권위원장과 금융위원장 등 장관급과 차관급 6명에 대한 인사를 단행했다고 밝혔다. 송두환 인권위원장 후보자는 서울형사지방법원 판사, 대한변호사협회 인권이사, 민주사회를위한변호사모임 회장, 헌법재판소 재판관 등을 역임했다. 박 수석은 “\n",
            "-------------------------------------------------------------------------------- \n",
            "\n",
            "당신은 ‘소셜 네트워크’라는 교회의 헌금기부자 2021.08.05 04:59\n",
            "https://www.hani.co.kr/arti/international/international_general/1006507.html\n",
            "다니엘 코엔 파리경제대 교수는 코로나19가 초래한 현재의 위기를 ‘대면으로 조직된 서비스 경제의 위기’라고 규정했다. 그는 “세계가 디지털 자본주의로 급속하게 전환되면서 20세기에 이루어낸 인간다운 삶을 위한 안전장치들이 스러지고 있다”고 걱정했다. 브뤼노 샤루아\n",
            "\t\t\t\n",
            "\n",
            "\n",
            "지금 등장하는 디지털 경제를 ‘탈산업화 사회의 산업화’라고 명명해요. 산업 전반에서 아주 많은 디지털화 과정이 이뤄지고 있습니다. 우리는 디지털 자본주의라고 불릴 새 체제의 첫 세대입니다.\n",
            "\n",
            "얼굴 인식 패턴을 확보하고 인공지능을 발전시키는 데 많은 데이터가 필요\n",
            "-------------------------------------------------------------------------------- \n",
            "\n",
            "8월 5일 인사 2021.08.04 19:02\n",
            "https://www.hani.co.kr/arti/society/internalmove/1006474.html\n",
            "⊙ 금융투자협회 △자율규제운영부장 이윤희 △부동산신탁지원〃(리츠업무팀장 겸) 조항신 △약관광고심사팀장 김효실\n",
            "⊙ 뉴스프리존 △경기북부본부장 손지훈\n",
            "⊙ 서울대 ◇대학장 △농업생명과학 장판식 △생활과학 하지수 △약학 오유경 ◇부학장 △농업생명과학대 학생 박일권 △〃 연구 양태진 △생활과학대 교무 나종연 △〃 학생 그레이스정 △약학대 교무 창동신 △〃 학생 한병우 △국제농업기술대학원장 김주곤 △국제농업기술대학원 교무부원장 서교 △〃 학생〃 김종근\n",
            "⊙ 건국대 △언론홍보대학원장(KU미디어센터장 겸) 이석준 △산학협력단 부단장 고문주 윤동열 \n",
            "-------------------------------------------------------------------------------- \n",
            "\n",
            "‘디스커버리펀드 환매연기’ 기업은행 내부에서도 “신중히 판매” 우려했다 2021.08.04 19:01\n",
            "https://www.hani.co.kr/arti/economy/finance/1006472.html\n",
            "기업은행 영업점 모습. 기업은행 유튜브 갈무리\n",
            "\t\t\t\n",
            "\n",
            "\n",
            "기업은행이 판매한 디스커버리자산운용의 펀드가 2500억원대의 투자자 피해를 일으킨 가운데, 기업은행 내부에서 판매 전 상품의 위험성을 우려하는 목소리가 제기됐던 것으로 나타났다. 펀드 운용사 대표는 장하성 주중대사의 동생 장하원씨로, 최근 경찰은 디스커버리 펀드 환매중단 사태와 관련해 장 대표를 대상으로 자본시장법 위반 혐의 등으로 수사를 벌이고 있다. \n",
            "4일 강민국 국민의힘 의원이 기업은행에서 받은 은행 내부 문건을 보면, 2017년 11월 ‘유에스(US)핀테크 부동산펀드’\n",
            "-------------------------------------------------------------------------------- \n",
            "\n",
            "[사설] “멀쩡한 원전 폐쇄”라 억지 쓰며 최악 치달은 ‘정치 사법화’ 2021.08.04 18:43\n",
            "https://www.hani.co.kr/arti/opinion/editorial/1006471.html\n",
            "국가의 주요 정책이 정치적 공론 과정이 아닌 사법 절차에 의해 결말지어지는 ‘정치의 사법화’는 한국정치의 발전을 가로막는 고질병이다. 정치세력들은 합리적 논거로 대중을 설득하기보다는 상대를 형사처벌로 몰아가려고 갖은 애를 쓴다. 검찰의 기소를 이끌어내기 위한 고소·고발이 난무한다. 검찰을 비롯한 사법기관의 힘이 비대해지고, 이들이 거꾸로 정치에 개입한다.\n",
            "문재인 정부에서도 ‘월성 1호기’ 원전 운영을 둘러싼 의견 대립이 야당의 ‘인디언 기우제’식 고발 끝에 당시 업무를 맡은 장관에 대한 검찰 기소로까지 이어졌다. 야당의 문제 제기에\n",
            "-------------------------------------------------------------------------------- \n",
            "\n",
            "‘금리 인상’ 마음 굳히는 한은…8월에 할까, 숨 고를까 2021.08.04 16:42\n",
            "https://www.hani.co.kr/arti/economy/economy_general/1006446.html\n",
            "이주열 한은 총재. 한국은행 제공\n",
            "\t\t\t\n",
            "\n",
            "\n",
            "코로나19 재확산 속도가 빨라지면서 한국은행의 기준금리 인상 시간표가 예정대로 진행될 지 관심이 쏠리고 있다. 한은은 지난달 ‘금융 안정’을 최우선 과제로 꼽으며 금리를 올리겠다는 의지를 분명히 한 바 있다. 이후 코로나19 4차 유행이라는 변수가 발생했지만, 집값과 물가 상승세가 수그러들지 않고 있는 만큼 한은의 입장이 바뀌지는 않을 것이라는 전망이 우세하다. 이에 현재로선 이달 금리 인상을 시작으로 올해 모두 두 차례 금리를 올리는 스케줄이 유력해 보인다. 다만 코로나19 재확산에 따\n",
            "-------------------------------------------------------------------------------- \n",
            "\n",
            "지난해 온라인 명품구매 절반 이상이 2030세대 2021.08.04 12:43\n",
            "https://www.hani.co.kr/arti/economy/finance/1006410.html\n",
            "지난달 31일 부산 해운대구 신세계백화점 센텀시티점 모습. 연합뉴스\n",
            "\t\t\t\n",
            "\n",
            "  지난해 온라인 명품시장의 큰손은 2030세대인 것으로 나타났다. 20대는 코로나19 확산에도 불구하고 여행·숙박에 꾸준히 돈을 썼으며, 중장년층은 배달앱·온라인동영상 구독을 적극적으로 이용하기 시작했다.\n",
            " 4일 하나금융경영연구소는 2019~2020년 하나카드 결제 데이터를 분석해 ‘세대별 온라인 소비행태 변화와 시사점’ 보고서를 발간했다. \n",
            " 지난해 온라인 명품구매 금액은 전년보다 78% 증가했다. 50대가 104%로 가장 많이 늘었고 20대가 80% \n",
            "-------------------------------------------------------------------------------- \n",
            "\n",
            "햇살론 등 정책서민금융상품 올해 9조6천억 공급키로 2021.08.04 12:00\n",
            "https://www.hani.co.kr/arti/economy/finance/1006407.html\n",
            "정부가 올해 햇살론 등 정책서민금융 상품을 애초 계획보다 1조7천억원 늘린 9조6천억원 공급하기로 했다. 또한 신용카드 발급이 어려운 신용평점 하위 10%의 저신용자들을 대상으로 한 신용카드인 ‘햇살론카드’를 오는 10월 출시하기로 했다.\n",
            " 금융위원회와 서민금융진흥원은 4일 이런 내용을 포함한 올해 정책서민금융 상품 공급 계획을 발표했다. 금융위는 “코로나19로 인한 어려움 극복과 최고금리 인하에 따른 저신용·저소득자의 금융이용 접근성 제고를 위해 올해 정책서민금융 공급액을 대폭 확대한다”고 배경을 설명했다.\n",
            " 금융당국은 우선 올해\n",
            "-------------------------------------------------------------------------------- \n",
            "\n",
            "실손보험 가입 문턱 높인 대형 보험사들, 다음달까지 개선키로 2021.08.04 11:03\n",
            "https://www.hani.co.kr/arti/economy/finance/1006388.html\n",
            "최근 경미한 치료 경력까지 문제삼아 실손의료보험 가입을 거절했던 대형 보험사들이 금융당국의 개선 요청에 따라 다음달부터 심사 기준을 개선하기로 했다.\n",
            " 4일 보험업계와 금융당국의 말을 종합하면, 교보생명·삼성생명·한화생명과 삼성화재 등 4개 보험사는 보험청약서와 합리적 근거에 따라 실손보험 인수지침을 개선해 다음달 안으로 적용하겠다는 계획을 지난달 말 금융당국에 제출했다.\n",
            " 이들 보험사는 보험청약서에 기재된 고지사항이나 건강진단 결과에 따라 확인된 질환의 심각한 정도를 바탕으로 계약 여부를 판단하기로 했다. 현행 실손보험 청약서에 \n",
            "-------------------------------------------------------------------------------- \n",
            "\n"
          ],
          "name": "stdout"
        }
      ]
    }
  ]
}
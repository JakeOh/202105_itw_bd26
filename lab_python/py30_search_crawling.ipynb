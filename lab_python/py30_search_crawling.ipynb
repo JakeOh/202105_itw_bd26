{
  "nbformat": 4,
  "nbformat_minor": 0,
  "metadata": {
    "colab": {
      "name": "py30_search_crawling.ipynb",
      "provenance": [],
      "collapsed_sections": [],
      "authorship_tag": "ABX9TyOIaApMQ2NwKZpyBzLoeNl5",
      "include_colab_link": true
    },
    "kernelspec": {
      "name": "python3",
      "display_name": "Python 3"
    },
    "language_info": {
      "name": "python"
    }
  },
  "cells": [
    {
      "cell_type": "markdown",
      "metadata": {
        "id": "view-in-github",
        "colab_type": "text"
      },
      "source": [
        "<a href=\"https://colab.research.google.com/github/JakeOh/202105_itw_bd26/blob/main/lab_python/py30_search_crawling.ipynb\" target=\"_parent\"><img src=\"https://colab.research.google.com/assets/colab-badge.svg\" alt=\"Open In Colab\"/></a>"
      ]
    },
    {
      "cell_type": "code",
      "metadata": {
        "id": "_oXqdLA7uH5I"
      },
      "source": [
        "import requests\n",
        "from bs4 import BeautifulSoup"
      ],
      "execution_count": 1,
      "outputs": []
    },
    {
      "cell_type": "markdown",
      "metadata": {
        "id": "N13YCnQBeXER"
      },
      "source": [
        "# Ex 1.\n",
        "\n",
        "* 네이버에서 검색어를 입력하고 뉴스 검색\n",
        "* request url, request parameter 분석\n",
        "* 1페이지부터 원하는 페이지까지 \n",
        "    * 뉴스 제공자\n",
        "    * 네이버 뉴스 링크 URL\n",
        "    * 뉴스 제공자 링크 URL\n",
        "    * 뉴스 타이틀\n",
        "    "
      ]
    },
    {
      "cell_type": "code",
      "metadata": {
        "colab": {
          "base_uri": "https://localhost:8080/"
        },
        "id": "izxLBNAGmchY",
        "outputId": "27559cb1-ab46-451b-ca5b-31c4052b9cf7"
      },
      "source": [
        "keyword = '거리두기'\n",
        "\n",
        "for s in range(3):  # 페이지 반복\n",
        "    # url = f'https://search.naver.com/search.naver?where=news&query={keyword}&start={10 * i + 1}'\n",
        "    # res = requests.get(url)\n",
        "    url = 'https://search.naver.com/search.naver?where=news'  # request url\n",
        "    params = {'query': keyword, 'start': (10 * s + 1)}  # request parameter\n",
        "    res = requests.get(url, params)  # request 보내고 response를 받음\n",
        "    if res.status_code != 200:\n",
        "        print('HTTP Status Code:', res.status_code)\n",
        "        continue\n",
        "\n",
        "    print(f'--- page {s + 1} ---')\n",
        "    html = res.text.strip()\n",
        "    soup = BeautifulSoup(markup=html, features='html5lib')\n",
        "    \n",
        "    for i in range(1, 11):  # 한 페이지 안에서 뉴스 기사를 하나씩 반복\n",
        "        # 언론사 이름을 찾기 위한 CSS selector\n",
        "        press_selector = f'ul.list_news > li:nth-of-type({i}) div.info_group > a:nth-of-type(1)'\n",
        "        press_name = soup.select_one(press_selector)\n",
        "        if press_name:  # 언론사 이름을 찾았을 때\n",
        "            print(press_name.text.replace('언론사 선정', ''))\n",
        "\n",
        "        # 네이버 뉴스 페이지 링크를 찾기 위한 CSS selector\n",
        "        naver_link_sel = f'ul.list_news > li:nth-of-type({i}) div.info_group > a:nth-of-type(2)'\n",
        "        naver_link = soup.select_one(naver_link_sel)\n",
        "        if naver_link:  # 네이버 뉴스 링크가 있다면\n",
        "            print(naver_link['href'])\n",
        "\n",
        "        # 언론사 기사 링크 주소와 기사 제목을 찾기 위한 CSS Selector\n",
        "        title_selector = f'ul.list_news > li:nth-of-type({i}) div.news_area > a'\n",
        "        title = soup.select_one(title_selector)\n",
        "        print(title['href'])  # 언론사 기사 링크 URL\n",
        "        print(title.text.strip())  # 기사 제목\n",
        "        print()  # 빈 줄 출력"
      ],
      "execution_count": null,
      "outputs": [
        {
          "output_type": "stream",
          "text": [
            "--- page 1 ---\n",
            "연합뉴스\n",
            "https://news.naver.com/main/read.naver?mode=LSD&mid=sec&sid1=100&oid=001&aid=0012575993\n",
            "http://yna.kr/AKR20210804027400001?did=1195m\n",
            "김총리 \"거리두기 조정안 모레 결정…보완점 살펴보겠다\"\n",
            "\n",
            "머니S\n",
            "https://news.naver.com/main/read.naver?mode=LSD&mid=sec&sid1=102&oid=417&aid=0000721571\n",
            "http://moneys.mt.co.kr/news/mwView.php?no=2021080408508020151\n",
            "김부겸 \"오는 6일 거리두기 단계 조정안 결정\"\n",
            "\n",
            "국민일보\n",
            "https://news.naver.com/main/read.naver?mode=LSD&mid=sec&sid1=102&oid=005&aid=0001461804\n",
            "http://news.kmib.co.kr/article/view.asp?arcid=0016128455&code=61121111&cp=nv\n",
            "[속보] 국민 84% ‘수도권 거리두기 4단계 연장 찬성’\n",
            "\n",
            "더팩트\n",
            "https://news.naver.com/main/read.naver?mode=LSD&mid=sec&sid1=102&oid=629&aid=0000098791\n",
            "http://news.tf.co.kr/read/national/1879611.htm\n",
            "충주시 5일부터 거리두기 4단계 격상\n",
            "\n",
            "이데일리\n",
            "https://news.naver.com/main/read.naver?mode=LSD&mid=sec&sid1=102&oid=018&aid=0005001753\n",
            "http://www.edaily.co.kr/news/newspath.asp?newsid=02273046629143712\n",
            "국민 10명 중 8명 \"거리두기 4단계 연장 찬성…9월 말까지 25.1%\"\n",
            "\n",
            "MBC\n",
            "https://news.naver.com/main/read.naver?mode=LSD&mid=sec&sid1=100&oid=214&aid=0001139944\n",
            "https://imnews.imbc.com/news/2021/politics/article/6291165_34866.html\n",
            "김 총리 \"다음주 거리두기 단계, 금요일 중대본에서 결정\"\n",
            "\n",
            "조선비즈\n",
            "https://news.naver.com/main/read.naver?mode=LSD&mid=sec&sid1=102&oid=366&aid=0000751903\n",
            "https://biz.chosun.com/topics/topics_social/2021/08/04/DHLTPGRVNJD4TKQNNUJLGWPIPA/?utm_source=naver&utm_medium=original&utm_campaign=biz\n",
            "경남 창원·충북 충주, 거리두기 ‘4단계’로 올린다\n",
            "\n",
            "뉴스1\n",
            "https://news.naver.com/main/read.naver?mode=LSD&mid=sec&sid1=100&oid=421&aid=0005521014\n",
            "https://www.news1.kr/articles/?4393017\n",
            "김총리 \"6일 중대본, 내주 거리두기 단계 결정…8월 백신 2860만회분 도입\"(종...\n",
            "\n",
            "한국경제\n",
            "https://news.naver.com/main/read.naver?mode=LSD&mid=sec&sid1=102&oid=015&aid=0004587058\n",
            "https://www.hankyung.com/society/article/202108038420i\n",
            "송영길 \"KF마스크 쓴다는 전제로 사회적 거리두기 완화 논의\"\n",
            "\n",
            "KBS\n",
            "https://news.naver.com/main/read.naver?mode=LSD&mid=sec&sid1=102&oid=056&aid=0011095279\n",
            "https://news.kbs.co.kr/news/view.do?ncd=5248697&ref=A\n",
            "거리두기 단계 결정 앞두고 방역당국 “사적모임 제한 변경 없어”\n",
            "\n",
            "--- page 2 ---\n",
            "뉴시스\n",
            "https://news.naver.com/main/read.naver?mode=LSD&mid=sec&sid1=102&oid=003&aid=0010646766\n",
            "http://www.newsis.com/view/?id=NISX20210804_0001537379&cID=10201&pID=10200\n",
            "방역당국 \"6시 3인 금지 변경 계획 없다\" 못박아...거리두기 부분 보완은 검토...\n",
            "\n",
            "연합뉴스\n",
            "https://news.naver.com/main/read.naver?mode=LSD&mid=sec&sid1=102&oid=001&aid=0012574153\n",
            "http://yna.kr/AKR20210803080000530?did=1195m\n",
            "정부 \"코로나 사망자 책임거론 도움안돼…거리두기 조정 더 지켜봐야\"\n",
            "\n",
            "부산일보\n",
            "https://news.naver.com/main/read.naver?mode=LSD&mid=sec&sid1=102&oid=082&aid=0001111314\n",
            "http://www.busan.com/view/busan/view.php?code=2021080413412699357\n",
            "경남도내 코로나19 확진 하루 60명…창원시 6일부터 거리두기 4단계 격상\n",
            "\n",
            "뉴스1\n",
            "https://news.naver.com/main/read.naver?mode=LSD&mid=sec&sid1=102&oid=421&aid=0005522193\n",
            "https://www.news1.kr/photos/view/?4908068\n",
            "2주마다 거리두기 연장에 너무 힘든 자영업자들\n",
            "\n",
            "아이뉴스24\n",
            "https://news.naver.com/main/read.naver?mode=LSD&mid=sec&sid1=102&oid=031&aid=0000616201\n",
            "http://www.inews24.com/view/1392865\n",
            "수도권 거리두기 4단계 연장 84% 찬성…9월말까지 유지 의견 다수\n",
            "\n",
            "뉴시스\n",
            "https://news.naver.com/main/read.naver?mode=LSD&mid=sec&sid1=102&oid=003&aid=0010647223\n",
            "http://www.newsis.com/view/?id=NISX20210804_0001537606&cID=10812&pID=10800\n",
            "창원시, 6~16일 사회적 거리두기 4단계 격상\n",
            "\n",
            "뉴스1\n",
            "https://news.naver.com/main/read.naver?mode=LSD&mid=sec&sid1=102&oid=421&aid=0005522060\n",
            "https://www.news1.kr/articles/?4393518\n",
            "[속보]창원시, 6일부터 거리두기 4단계 격상\n",
            "\n",
            "서울경제\n",
            "https://news.naver.com/main/read.naver?mode=LSD&mid=sec&sid1=102&oid=011&aid=0003945273\n",
            "https://www.sedaily.com/NewsView/22Q1NPD5MD\n",
            "국민 84%, 수도권 거리두기 4단계 연장 조치 공감 (종합)\n",
            "\n",
            "연합뉴스\n",
            "https://news.naver.com/main/read.naver?mode=LSD&mid=sec&sid1=102&oid=001&aid=0012574999\n",
            "http://yna.kr/AKR20210803123300052?did=1195m\n",
            "허성곤 김해시장 \"거리두기 4단계 방역 강화할 것\"\n",
            "\n",
            "더팩트\n",
            "https://news.naver.com/main/read.naver?mode=LSD&mid=sec&sid1=102&oid=629&aid=0000098794\n",
            "http://news.tf.co.kr/read/national/1879615.htm\n",
            "천안시, 거리두기 4단계 격상 고려...\"방역 동참\" 호소\n",
            "\n",
            "--- page 3 ---\n",
            "KBS\n",
            "https://news.naver.com/main/read.naver?mode=LSD&mid=sec&sid1=102&oid=056&aid=0011095185\n",
            "https://news.kbs.co.kr/news/view.do?ncd=5248512&ref=A\n",
            "코로나19 신규 확진자 1,725명…다음주 거리두기 모레 결정\n",
            "\n",
            "뉴시스\n",
            "https://news.naver.com/main/read.naver?mode=LSD&mid=sec&sid1=102&oid=003&aid=0010646313\n",
            "http://www.newsis.com/view/?id=NISX20210804_0001537028&cID=10201&pID=10200\n",
            "신규확진 1725명, 4차유행 비수도권 최다…6일 거리두기 연장 여부 결정(종합...\n",
            "\n",
            "뉴스1\n",
            "https://news.naver.com/main/read.naver?mode=LSD&mid=sec&sid1=102&oid=421&aid=0005521019\n",
            "https://www.news1.kr/articles/?4393038\n",
            "거리두기 4단계 대전 지역화폐 열풍\n",
            "\n",
            "시사저널\n",
            "https://news.naver.com/main/read.naver?mode=LSD&mid=sec&sid1=102&oid=586&aid=0000027575\n",
            "http://www.sisajournal.com/news/articleView.html?idxno=222030\n",
            "신규확진 1725명, 비수도권 최다 기록…거리두기 조정안 6일 결정\n",
            "\n",
            "강원일보\n",
            "https://news.naver.com/main/read.naver?mode=LSD&mid=sec&sid1=102&oid=087&aid=0000854858\n",
            "http://www.kwnews.co.kr/nview.asp?aid=221080300155\n",
            "코로나19 신규확진 1천725명…오는 6일 거리두기 단계 결정\n",
            "\n",
            "오마이뉴스\n",
            "https://news.naver.com/main/read.naver?mode=LSD&mid=sec&sid1=102&oid=047&aid=0002322182\n",
            "http://www.ohmynews.com/NWS_Web/View/at_pg.aspx?CNTN_CD=A0002764161&CMPT_CD=P0010&utm_source=naver&utm_medium=newsearch&utm_campaign=naver_news\n",
            "창원, 6일부터 열흘간 거리두기 4단계 격상\n",
            "\n",
            "서울신문\n",
            "https://news.naver.com/main/read.naver?mode=LSD&mid=sec&sid1=102&oid=081&aid=0003206671\n",
            "https://www.seoul.co.kr/news/newsView.php?id=20210804500073&wlog_tag3=naver\n",
            "“비수도권 3주 연속 증가” 고강도 거리두기에도 이동량 늘어\n",
            "\n",
            "연합뉴스\n",
            "https://news.naver.com/main/read.naver?mode=LSD&mid=sec&sid1=102&oid=001&aid=0012575331\n",
            "http://yna.kr/AKR20210803145100055?did=1195m\n",
            "부안군 거리두기 3단계로 격상…\"확진자 지속 발생\"\n",
            "\n",
            "채널A\n",
            "https://news.naver.com/main/read.naver?mode=LSD&mid=sec&sid1=102&oid=449&aid=0000212811\n",
            "http://www.ichannela.com/news/main/news_detailPage.do?publishId=000000260830\n",
            "김부겸 “다음주 거리두기 단계, 모레 결정”\n",
            "\n",
            "연합뉴스\n",
            "https://news.naver.com/main/read.naver?mode=LSD&mid=sec&sid1=101&oid=001&aid=0012573295\n",
            "http://yna.kr/AKR20210803031700030?did=1195m\n",
            "홈플러스 익스프레스 \"거리두기 4단계 이후 즉시배송 매출↑\"\n",
            "\n"
          ],
          "name": "stdout"
        }
      ]
    },
    {
      "cell_type": "code",
      "metadata": {
        "id": "8SdcfnjHeLEI"
      },
      "source": [
        "def naver_news_search(keyword, num_page):\n",
        "    \"\"\"\n",
        "    :param keyword: 검색 키워드. 문자열.\n",
        "    :param num_page: 검색할 페이지 개수. 정수.\n",
        "    \"\"\"\n",
        "    for s in range(num_page):  # 페이지 반복\n",
        "        # url = f'https://search.naver.com/search.naver?where=news&query={keyword}&start={10 * i + 1}'\n",
        "        # res = requests.get(url)\n",
        "        url = 'https://search.naver.com/search.naver?where=news'  # request url\n",
        "        params = {'query': keyword, 'start': (10 * s + 1)}  # request parameter\n",
        "        res = requests.get(url, params)  # request 보내고 response를 받음\n",
        "        if res.status_code != 200:\n",
        "            print('HTTP Status Code:', res.status_code)\n",
        "            continue\n",
        "\n",
        "        print(f'--- page {s + 1} ---')\n",
        "        html = res.text.strip()\n",
        "        soup = BeautifulSoup(markup=html, features='html5lib')\n",
        "        \n",
        "        for i in range(1, 11):  # 한 페이지 안에서 뉴스 기사를 하나씩 반복\n",
        "            # 언론사 이름을 찾기 위한 CSS selector\n",
        "            press_selector = f'ul.list_news > li:nth-of-type({i}) div.info_group > a:nth-of-type(1)'\n",
        "            press_name = soup.select_one(press_selector)\n",
        "            if press_name:  # 언론사 이름을 찾았을 때\n",
        "                print(press_name.text.replace('언론사 선정', ''))\n",
        "\n",
        "            # 네이버 뉴스 페이지 링크를 찾기 위한 CSS selector\n",
        "            naver_link_sel = f'ul.list_news > li:nth-of-type({i}) div.info_group > a:nth-of-type(2)'\n",
        "            naver_link = soup.select_one(naver_link_sel)\n",
        "            if naver_link:  # 네이버 뉴스 링크가 있다면\n",
        "                print(naver_link['href'])\n",
        "\n",
        "            # 언론사 기사 링크 주소와 기사 제목을 찾기 위한 CSS Selector\n",
        "            title_selector = f'ul.list_news > li:nth-of-type({i}) div.news_area > a'\n",
        "            title = soup.select_one(title_selector)\n",
        "            print(title['href'])  # 언론사 기사 링크 URL\n",
        "            print(title.text.strip())  # 기사 제목\n",
        "            print()  # 빈 줄 출력"
      ],
      "execution_count": null,
      "outputs": []
    },
    {
      "cell_type": "code",
      "metadata": {
        "colab": {
          "base_uri": "https://localhost:8080/"
        },
        "id": "kvX4w8L2hlcO",
        "outputId": "d3007af6-1a90-44c3-8128-64ee32d7b3c9"
      },
      "source": [
        "naver_news_search(keyword='배스킨라빈스', num_page=2)"
      ],
      "execution_count": null,
      "outputs": [
        {
          "output_type": "stream",
          "text": [
            "--- page 1 ---\n",
            "뉴시스\n",
            "https://news.naver.com/main/read.naver?mode=LSD&mid=sec&sid1=101&oid=003&aid=0010644792\n",
            "http://www.newsis.com/view/?id=NISX20210803_0001536119&cID=13001&pID=13000\n",
            "배스킨라빈스, 뽀로로 케이크 2종 출시\n",
            "\n",
            "이데일리\n",
            "https://news.naver.com/main/read.naver?mode=LSD&mid=sec&sid1=101&oid=018&aid=0005000702\n",
            "http://www.edaily.co.kr/news/newspath.asp?newsid=02289446629143384\n",
            "SPC 배스킨라빈스, 플래그쉽 스토어 '파르나스몰'점 오픈\n",
            "\n",
            "머니S\n",
            "https://news.naver.com/main/read.naver?mode=LSD&mid=sec&sid1=101&oid=417&aid=0000720486\n",
            "http://moneys.mt.co.kr/news/mwView.php?no=2021073018328020911\n",
            "SPC 배스킨라빈스, 7월 마지막 날 ‘31 데이’ 미니언즈도 반한 꿀 떨어지는 ...\n",
            "\n",
            "뉴스케이프\n",
            "http://www.newscape.co.kr/news/articleView.html?idxno=70675\n",
            "SPC 배스킨라빈스, 7월 마지막 날 '31 데이' 진행\n",
            "\n",
            "파이낸셜뉴스\n",
            "https://news.naver.com/main/read.naver?mode=LSD&mid=sec&sid1=101&oid=014&aid=0004684179\n",
            "http://www.fnnews.com/news/202107301055435438\n",
            "배스킨라빈스, 플래그쉽 스토어 파르나스몰점 오픈\n",
            "\n",
            "조선비즈\n",
            "https://news.naver.com/main/read.naver?mode=LSD&mid=sec&sid1=004&oid=366&aid=0000750450\n",
            "https://biz.chosun.com/distribution/food/2021/07/29/RKYJFNSGTZH6BOT2JZRYDLN3FU/?utm_source=naver&utm_medium=original&utm_campaign=biz\n",
            "오리온 손잡은 배스킨라빈스, ‘아이스꼬북칩’ 출시\n",
            "\n",
            "스포츠조선\n",
            "https://news.naver.com/main/read.naver?mode=LSD&mid=sec&sid1=101&oid=076&aid=0003761473\n",
            "http://sports.chosun.com/news/ntype.htm?id=202108010100002830000049&servicedate=20210801\n",
            "SPC 배스킨라빈스, 플래그쉽 스토어 '파르나스몰' 점 오픈\n",
            "\n",
            "뉴시스\n",
            "https://news.naver.com/main/read.naver?mode=LSD&mid=sec&sid1=101&oid=003&aid=0010640287\n",
            "http://www.newsis.com/view/?id=NISX20210729_0001530580&cID=13001&pID=13000\n",
            "배스킨라빈스, 8월 이달의 맛 '아이스 꼬북칩' 출시\n",
            "\n",
            "인사이트\n",
            "https://www.insight.co.kr/news/351093\n",
            "배스킨라빈스, 8월 이달의 맛 '아이스 꼬북칩' 출시\n",
            "\n",
            "뉴시스\n",
            "https://news.naver.com/main/read.naver?mode=LSD&mid=sec&sid1=101&oid=003&aid=0010624143\n",
            "http://www.newsis.com/view/?id=NISX20210723_0001523804&cID=13001&pID=13000\n",
            "배스킨라빈스, '체리 초코 쥬빌레' 출시\n",
            "\n",
            "--- page 2 ---\n",
            "스포츠조선\n",
            "https://news.naver.com/main/read.naver?mode=LSD&mid=sec&sid1=101&oid=076&aid=0003760288\n",
            "http://sports.chosun.com/news/ntype.htm?id=202107300100231810014845&servicedate=20210729\n",
            "배스킨라빈스, 달콤상큼한 '체리 초코 쥬빌레' 여름시즌 한정 출시\n",
            "\n",
            "인사이트\n",
            "https://www.insight.co.kr/news/351678\n",
            "초코 아이스크림에 바삭한 '꼬북칩' 콕콕 박힌 배라 신상 '아이스 꼬북칩'\n",
            "\n",
            "헤럴드경제\n",
            "https://news.naver.com/main/read.naver?mode=LSD&mid=sec&sid1=101&oid=016&aid=0001866801\n",
            "http://news.heraldcorp.com/view.php?ud=20210727000272\n",
            "SPC 배스킨라빈스, 여름시즌 한정 '체리 초코쥬빌레’ 출시\n",
            "\n",
            "머니S\n",
            "https://news.naver.com/main/read.naver?mode=LSD&mid=sec&sid1=101&oid=417&aid=0000720558\n",
            "http://moneys.mt.co.kr/news/mwView.php?no=2021072614238055483\n",
            "SPC그룹 배스킨라빈스, 함께 신으면 더 멋진 패션의 완성! 배라 ‘플립플랍’...\n",
            "\n",
            "위키트리\n",
            "https://www.wikitree.co.kr/articles/674734\n",
            "“ㅇㅇㅅ ㄲㅂㅊ?” 오리온과 손잡은 배스킨라빈스가 새로 출시한 '이달의 맛...\n",
            "\n",
            "MTN\n",
            "https://news.mtn.co.kr/newscenter/news_viewer.mtn?gidx=2021072814465958774\n",
            "SPC 배스킨라빈스, 여름시즌 한정 신제품 '체리 초코 쥬빌레' 출시\n",
            "\n",
            "뉴스핌\n",
            "http://www.newspim.com/news/view/20210726000374\n",
            "SPC 배스킨라빈스, 여름 한정 체리 초코 쥬빌레 출시\n",
            "\n",
            "인사이트\n",
            "https://www.insight.co.kr/news/351269\n",
            "첫 네고 대상으로 배스킨라빈스 예고한 '네고왕3' 딘딘X슬리피 (영상)\n",
            "\n",
            "스포츠서울\n",
            "https://news.naver.com/main/read.naver?mode=LSD&mid=sec&sid1=101&oid=468&aid=0000781244\n",
            "http://www.sportsseoul.com/news/read/1055119?ref=naver\n",
            "[이주의 신상] 폭염 물리치는 시원한 만남 '아이스크림' 협업 인기\n",
            "\n",
            "노컷뉴스\n",
            "https://news.naver.com/main/read.naver?mode=LSD&mid=sec&sid1=101&oid=079&aid=0003533292\n",
            "https://www.nocutnews.co.kr/news/5595856\n",
            "SPC 베스킨라빈스, 여름시즌 한정 '체리 초코 쥬빌레' 출시\n",
            "\n"
          ],
          "name": "stdout"
        }
      ]
    },
    {
      "cell_type": "markdown",
      "metadata": {
        "id": "U_OTI7gimrxx"
      },
      "source": [
        "# Ex 2.\n",
        "\n",
        "* [한겨레](https://hani.co.kr) 페이지에서 검색어를 입력해서 뉴스 검색\n",
        "* request url, request parameter 분석\n",
        "* 첫번째 페이지의 뉴스 기사 10개의 제목, 업데이트 시간, 기사 링크를 출력\n",
        "* 각 기사의 링크를 접속해서 기사 본문 내용의 첫 300글자를 출력\n"
      ]
    },
    {
      "cell_type": "code",
      "metadata": {
        "id": "eaMe0i9JneBb",
        "colab": {
          "base_uri": "https://localhost:8080/"
        },
        "outputId": "8c3c218e-8c62-4f69-c922-e9a65e6b6a33"
      },
      "source": [
        "keyword = '올림픽'\n",
        "url = f'https://search.hani.co.kr/Search?command=query&keyword={keyword}&sort=d&period=all&media=news'\n",
        "response = requests.get(url)\n",
        "print(response)"
      ],
      "execution_count": 2,
      "outputs": [
        {
          "output_type": "stream",
          "text": [
            "<Response [200]>\n"
          ],
          "name": "stdout"
        }
      ]
    },
    {
      "cell_type": "code",
      "metadata": {
        "colab": {
          "base_uri": "https://localhost:8080/"
        },
        "id": "MybpyTxuz6cg",
        "outputId": "933fbf99-86f4-4d50-f3f3-59078d1bc001"
      },
      "source": [
        "url = 'https://search.hani.co.kr/Search?command=query&sort=d&period=all&media=news'  # request URL\n",
        "params = {'keyword': keyword}  # request parameter\n",
        "response = requests.get(url, params)\n",
        "print(response)"
      ],
      "execution_count": 3,
      "outputs": [
        {
          "output_type": "stream",
          "text": [
            "<Response [200]>\n"
          ],
          "name": "stdout"
        }
      ]
    },
    {
      "cell_type": "code",
      "metadata": {
        "colab": {
          "base_uri": "https://localhost:8080/"
        },
        "id": "rb7IysRT0hVx",
        "outputId": "a875f171-d3dd-4f3c-f631-1b7000e18aaf"
      },
      "source": [
        "html = response.text.strip()  # response 객체에서 HTML 코드 추출\n",
        "# print(html[:500])\n",
        "print(html[-500:])"
      ],
      "execution_count": 6,
      "outputs": [
        {
          "output_type": "stream",
          "text": [
            "></script>\n",
            "    </div>\n",
            "    <!-- //템플릿 일반 우측 -->\n",
            "    <!-- aside -->\n",
            "  </div>\n",
            "  <!-- //템플릿 끝: 검색 -->\n",
            "  \n",
            "</div>\n",
            "<!-- //container -->\n",
            "<script type=\"text/javascript\" src=\"//www.hani.co.kr/section-homepage/svc3/js/html/search_footer.js\"></script>\n",
            "<script type=\"text/javascript\" id=\"facebook-jssdk\"\tsrc=\"//connect.facebook.net/ko_KR/sdk.js#xfbml=1&appId=460972487388139&version=v2.0\"></script>\n",
            "<script type=\"text/javascript\" id=\"twitter-wjs\"\tsrc=\"//platform.twitter.com/widgets.js\"></script>\n",
            "\n",
            "</body>\n",
            "</html>\n"
          ],
          "name": "stdout"
        }
      ]
    },
    {
      "cell_type": "code",
      "metadata": {
        "id": "clt3dBJv09oK"
      },
      "source": [
        "soup = BeautifulSoup(markup=html, features='html5lib')  # HTML을 parsing할 수 있는 객체 생성"
      ],
      "execution_count": 7,
      "outputs": []
    },
    {
      "cell_type": "code",
      "metadata": {
        "colab": {
          "base_uri": "https://localhost:8080/"
        },
        "id": "GUrL9f1q1I__",
        "outputId": "c07ee0ad-b15d-4db7-d2c1-87c8cda13a5b"
      },
      "source": [
        "title_selector = 'ul.search-result-list > li > dl > dt > a'\n",
        "titles = soup.select(title_selector)\n",
        "titles"
      ],
      "execution_count": 9,
      "outputs": [
        {
          "output_type": "execute_result",
          "data": {
            "text/plain": [
              "[<a href=\"https://www.hani.co.kr/arti/specialsection/esc_section/1006515.html\">[ESC] 안산의 짧은 머리? 프로의 냉철한 선택이었을 뿐!</a>,\n",
              " <a href=\"https://www.hani.co.kr/arti/sports/sports_general/1006506.html\">‘무패행진’ 브라질과 ‘기적’의 대한민국, 다시 겨룬다</a>,\n",
              " <a href=\"https://www.hani.co.kr/arti/sports/sportstemp/1006504.html\">5일 한국팀 일정</a>,\n",
              " <a href=\"https://www.hani.co.kr/arti/sports/sportstemp/1006502.html\">“여자배구 보고 힘 얻었어요” 서채현 스포츠클라이밍 결선 진출</a>,\n",
              " <a href=\"https://www.hani.co.kr/arti/sports/sportstemp/1006501.html\">한국 야구, <strong>올림픽</strong> 한일전 ‘4전 전승’ 깨졌다</a>,\n",
              " <a href=\"https://www.hani.co.kr/arti/opinion/column/1006499.html\">추소비티나에게 경배를!</a>,\n",
              " <a href=\"https://www.hani.co.kr/arti/opinion/column/1006498.html\">그 청년을 괴물로 만들면 그만일까</a>,\n",
              " <a href=\"https://www.hani.co.kr/arti/sports/sportstemp/1006491.html\">양궁 대표팀, 야구 대표팀에 금메달 기운 전하다</a>,\n",
              " <a href=\"https://www.hani.co.kr/arti/sports/sportstemp/1006490.html\">‘우생순’은 여기까지…여자 핸드볼 스웨덴 만나 8강 탈락</a>,\n",
              " <a href=\"https://www.hani.co.kr/arti/opinion/column/1006488.html\">[시론] 광복 이후 사과한 사람은 없었다</a>]"
            ]
          },
          "metadata": {
            "tags": []
          },
          "execution_count": 9
        }
      ]
    },
    {
      "cell_type": "code",
      "metadata": {
        "colab": {
          "base_uri": "https://localhost:8080/"
        },
        "id": "c2Xy6q8l3Qxf",
        "outputId": "ef9c1ae4-e2c7-4eb5-9777-636d265d1be8"
      },
      "source": [
        "date_selector = 'ul.search-result-list > li > dl > dd > dl > dd'\n",
        "dates = soup.select(date_selector)\n",
        "dates"
      ],
      "execution_count": 10,
      "outputs": [
        {
          "output_type": "execute_result",
          "data": {
            "text/plain": [
              "[<dd>2021.08.05 08:41</dd>,\n",
              " <dd>2021.08.05 00:56</dd>,\n",
              " <dd>2021.08.05 0-1:59</dd>,\n",
              " <dd>2021.08.04 22:46</dd>,\n",
              " <dd>2021.08.04 22:39</dd>,\n",
              " <dd>2021.08.04 22:30</dd>,\n",
              " <dd>2021.08.04 22:09</dd>,\n",
              " <dd>2021.08.04 20:36</dd>,\n",
              " <dd>2021.08.04 20:27</dd>,\n",
              " <dd>2021.08.04 20:15</dd>]"
            ]
          },
          "metadata": {
            "tags": []
          },
          "execution_count": 10
        }
      ]
    },
    {
      "cell_type": "code",
      "metadata": {
        "colab": {
          "base_uri": "https://localhost:8080/"
        },
        "id": "BIUzP84z3gp2",
        "outputId": "89ac2eaf-dbe9-4069-8cab-955b5546825b"
      },
      "source": [
        "for title, date in zip(titles, dates):\n",
        "    news_title = title.text  # 기사 제목\n",
        "    news_url = title['href']  # 기사 링크 URL\n",
        "    news_date = date.text  # 기사 최종 업데이트 시간\n",
        "    print(news_title, news_date)\n",
        "    print(news_url)\n",
        "\n",
        "    res = requests.get(news_url)  # 뉴스 기사 링크로 request를 보내고 response를 받음.\n",
        "    if res.status_code != 200:\n",
        "        print('HTML Status Code:', res.status_code)\n",
        "        continue\n",
        "\n",
        "    html = res.text.strip()\n",
        "    soup = BeautifulSoup(markup=html, features='html5lib')\n",
        "    selector = 'div.text'\n",
        "    news_body = soup.select_one(selector).text.strip()\n",
        "    print(news_body[:300])\n",
        "    print('-' * 80, '\\n')\n"
      ],
      "execution_count": 17,
      "outputs": [
        {
          "output_type": "stream",
          "text": [
            "[ESC] 안산의 짧은 머리? 프로의 냉철한 선택이었을 뿐! 2021.08.05 08:41\n",
            "https://www.hani.co.kr/arti/specialsection/esc_section/1006515.html\n",
            "2020 도쿄올림픽에서 양궁 3관왕을 차지한 안산. 도쿄/연합뉴스\n",
            "\t\t\t\n",
            "\n",
            "\n",
            "“어쩌면 언젠가는 신의 진노를 사서 강력한 미지의 병원체가 전세계에 ‘팬데믹’을 불러일으킬지도 모르죠.”\n",
            "2013년 일본 만화 〈시마 회장〉에 이런 대사가 나올 때만 해도 아무도 예상하지 못한 일이 현실이 됐다. 2020년 도쿄올림픽은 근대 올림픽 역사상 두 번째로, 제때 열리지 못하고 연기되어 열린 올림픽이다. 1944년 런던올림픽이 2차 세계대전으로 열리지 못하고 4년 뒤인 1948년에 런던에서 열렸으니 올림픽 역사 관점에서 보면 지금은 전쟁 수준의 위\n",
            "-------------------------------------------------------------------------------- \n",
            "\n",
            "‘무패행진’ 브라질과 ‘기적’의 대한민국, 다시 겨룬다 2021.08.05 00:56\n",
            "https://www.hani.co.kr/arti/sports/sports_general/1006506.html\n",
            "김연경(10번)과 여자배구 대표팀 선수들이 31일 일본 아리아케 아레나에서 열린 도쿄올림픽 여자배구 A조 조별리그 한국과 일본의 경기에서 풀세트 접전 끝에 3-2로 승리한 뒤 환호하고 있다. 도쿄/연합뉴스\n",
            "\t\t\t\n",
            "\n",
            "\n",
            "극적인 승리를 이어가며 4강 진출에 성공한 한국 여자배구 대표팀이 세계랭킹 2위 브라질과 결승 진출을 놓고 다툰다. 브라질은 4일 일본 도쿄 아리아케 아레나에서 열린 2020 도쿄올림픽 배구 여자부 8강전에서 러시아올림픽위원회(ROC)를 세트 스코어 3-1(23-25 25-21 25-19 25-22)로 꺾고, 준결승 진\n",
            "-------------------------------------------------------------------------------- \n",
            "\n",
            "5일 한국팀 일정 2021.08.05 0-1:59\n",
            "https://www.hani.co.kr/arti/sports/sportstemp/1006504.html\n",
            "4일 일본 사이타마현 가스미가세키 컨트리클럽에서 열린 도쿄올림픽 여자골프 1라운드. 김세영이 1번 홀에서 티샷하고 있다. 연합뉴스\n",
            "\t\t\t\n",
            "\n",
            "\n",
            "◆8월5일(목)·도쿄올림픽 14일차\n",
            "\n",
            "△다이빙 \n",
            "여자 10ｍ 플랫폼 준결승 및 결승(10시·아쿠아틱스 센터)\n",
            "△육상 \n",
            "남자 20㎞ 경보(16시30분·삿포로 오도리공원) ☞ 최병광\n",
            "△야구 \n",
            "준결승(19시·요코하마 스타디움)\n",
            "△카누 \n",
            "남자 카약 1인승 200ｍ 4강 및 결승(9시30분·우미노모리 수상경기장)\n",
            "△골프 \n",
            "여자 2라운드(7시30분·가스미가세키 컨트리클럽) ☞ 박인비, 김세영, 고진영, \n",
            "-------------------------------------------------------------------------------- \n",
            "\n",
            "“여자배구 보고 힘 얻었어요” 서채현 스포츠클라이밍 결선 진출 2021.08.04 22:46\n",
            "https://www.hani.co.kr/arti/sports/sportstemp/1006502.html\n",
            "서채현이 4일 일본 도쿄 아오미 어반 스포츠파크에서 열린 2020 도쿄올림픽 스포츠클라이밍 여자 콤바인 예선에서 스피드 종목 경기를 치르고 있다. 도쿄/AFP 연합뉴스\n",
            "\t\t\t\n",
            "\n",
            "\n",
            "“가자! 가자!” \n",
            "서채현(18)의 등반에 장내가 술렁였다. 무서운 속도로 치고 올라가는 모습에 곳곳에서 환호성이 터져나왔다. 일본말을 쓰던 장내 아나운서는 연신 한국말로 “가자”를 외쳤다. 고지를 눈앞에 두고 떨어졌지만, 서채현은 이날 자신의 주 종목인 리드에서 1위를 기록했다. 리드 세계랭킹 1위다운 실력이었다. 이번 올림픽에서 처음 선을 보이는 스포츠\n",
            "-------------------------------------------------------------------------------- \n",
            "\n",
            "한국 야구, 올림픽 한일전 ‘4전 전승’ 깨졌다 2021.08.04 22:39\n",
            "https://www.hani.co.kr/arti/sports/sportstemp/1006501.html\n",
            "고우석이 4일 일본 요코하마 스타디움에서 열린 도쿄올림픽 야구 준결승전 일본과 경기 8회말 1루 베이스 커버를 하지 못해 세이프 되고 있다. 요코하마/연합뉴스\n",
            "\t\t\t\n",
            "\n",
            "\n",
            "2008 베이징올림픽과 같았다. 야구 준결승 한일전. 그때와 다른 게 있다면 지더라도 대회 방식상 결승전에서 다시 맞붙을 가능성이 있다는 점이었다. 그래도 ‘올림픽 디펜딩 챔피언’ 한국과 야구가 ‘국기’인 개최국 일본은 팽팽한 싸움을 이어갔다. 그리고, 최후에 웃은 나라는 일본이었다. \n",
            "김경문 감독이 이끄는 야구 대표팀은 4일 일본 요코하마 스타디움에서 열린 도쿄올\n",
            "-------------------------------------------------------------------------------- \n",
            "\n",
            "추소비티나에게 경배를! 2021.08.04 22:30\n",
            "https://www.hani.co.kr/arti/opinion/column/1006499.html\n",
            "1992 바르셀로나부터 2020 도쿄올림픽까지 8번 출전의 대기록을 세운 우즈베키스탄 체조 선수 옥사나 추소비티나. 도쿄/신화 연합뉴스\n",
            "\t\t\t\n",
            "\n",
            "\n",
            "\n",
            "\t\n",
            "\t\t\n",
            "\t\t\t\t\t\t\t\n",
            "\t\t\t\t\t\n",
            "\t\t\t\n",
            "\n",
            "\n",
            "김은형 | 문화기획에디터\n",
            "이 코로나 난국에 올림픽 강행이라니, 일본 정부를 내내 욕하다가 막상 올림픽이 시작되자 매일 주요 경기에 넋을 잃으며 ‘올림픽 안 했으면 어쩔 뻔했어’라는 말을 달고 산다. 역시 나이 든다고 그 호들갑 어디 가는 거 아니다.\n",
            "이번 올림픽에서 유독 고령의 선수들이 눈에 띄는 건 내가 나이 들어서일까. 도쿄올림픽 공식 자\n",
            "-------------------------------------------------------------------------------- \n",
            "\n",
            "그 청년을 괴물로 만들면 그만일까 2021.08.04 22:09\n",
            "https://www.hani.co.kr/arti/opinion/column/1006498.html\n",
            "[세상읽기] 조문영 | 연세대 문화인류학과 교수\n",
            "양궁 국가대표 안산 선수가 도쿄올림픽 3관왕을 차지했다. 페미니즘을 ‘페미’란 낙인으로 둔갑시킨 (대부분 청년 남성) 네티즌들이 그의 외모와 표현을 문제 삼아 혐오 사냥을 벌이던 차에 달성한 위업이다. “여러분들은 국가, 인종, 종교, 성별로 규정된 게 아닌 자신의 꿈을 향해 묵묵히 노력한 한 인간으로서의 선수 그 자체를 보고 계신다”라는 방송 아나운서 멘트에 찬사가 쏟아졌다.\n",
            "감격스러운 한편 민족주의의 위력이 새삼 놀랍다. 기업이나 공공기관이 온라인에서 확산 중인 페미니즘 공격에 대\n",
            "-------------------------------------------------------------------------------- \n",
            "\n",
            "양궁 대표팀, 야구 대표팀에 금메달 기운 전하다 2021.08.04 20:36\n",
            "https://www.hani.co.kr/arti/sports/sportstemp/1006491.html\n",
            "야구 대표팀 제공.\n",
            "\t\t\t\n",
            "\n",
            "\n",
            "4일 일본 가나가와현 요코하마 스타디움에서 열린 2020 도쿄올림픽 야구 한국과 일본의 승자 준결승전. 한국 더그아웃에 태극기가 걸렸다. 이번 대회 금메달 4개를 수확한 양궁 대표팀이 야구 대표팀에 선물한 것이었다.\n",
            "\t\n",
            "\t\t\n",
            "\t\t\t\t\t\t\t\n",
            "\t\t\t\t\t\n",
            "\t\t\t\t\t양의지가 4일 일본 요코하마 스타디움에서 열린 도쿄올림픽 야구 준결승전 일본과 경기에서 4회초 1사 후 타격 때 배트가 부러지고 있다. 빨간 동그라미 안의 태극기가 양궁 대표팀이 선물한 것. 도쿄/연합뉴스\n",
            "\t\t\t\n",
            "\n",
            "\n",
            "‘대한민국 야구 화이팅'이라고 \n",
            "-------------------------------------------------------------------------------- \n",
            "\n",
            "‘우생순’은 여기까지…여자 핸드볼 스웨덴 만나 8강 탈락 2021.08.04 20:27\n",
            "https://www.hani.co.kr/arti/sports/sportstemp/1006490.html\n",
            "4일 일본 요요기 국립경기장에서 열린 도쿄올림픽 여자 핸드볼 8강 한국 대 스웨덴 경기에서 김진이가 슛을 하고 있다. 도쿄/연합뉴스.\n",
            "\t\t\t\n",
            "\n",
            "\n",
            "‘우생순’(우리 생에 최고의 순간)이 8강에서 멈춰 섰다. \n",
            "한국 여자 핸드볼 대표팀은 4일 일본 도쿄 요요기 국립경기장에서 열린 2020 도쿄올림픽 핸드볼 여자 8강전에서 스웨덴에 30-39로 졌다. 2012 런던 대회에서 4위에 올라서는 저력을 보였던 여자 핸드볼은 9년 만에 다시 4강에 도전했지만, 장신 스웨덴의 벽에 가로막혔다. \n",
            "대표팀은 경기 시작 초반부터 2-8까지 밀리기 시작했\n",
            "-------------------------------------------------------------------------------- \n",
            "\n",
            "[시론] 광복 이후 사과한 사람은 없었다 2021.08.04 20:15\n",
            "https://www.hani.co.kr/arti/opinion/column/1006488.html\n",
            "이승하 | 시인·중앙대 문예창작학과 교수\n",
            "일본은 방위백서에 죽도(독도)가 자기네 영토라는 주장을 펴고 있다. 문부과학성의 검정을 통과한 고등학교 사회과 과목에 독도 영유권을 반드시 명시하도록 했다. 자국 영토를 한국이 강제로 점거하고 있다는 것이다. 즉, 우리가 반드시 되찾아야 할 독도라는 말이다. 교과서에 그렇게 적혀 있는데 아이들이 그 말을 믿지 않고 독도가 한국 영토라고 생각할까? 우리 세대에 되찾자는 왜곡된 애국심을 심어줄지도 모른다.\n",
            "1950년대에 “미국을 믿지 말자. 일본은 일어선다. 소련에 속지 말고, 중국에 죽지 말자\n",
            "-------------------------------------------------------------------------------- \n",
            "\n"
          ],
          "name": "stdout"
        }
      ]
    }
  ]
}